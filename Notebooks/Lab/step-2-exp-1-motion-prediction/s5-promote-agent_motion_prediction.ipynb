{
 "cells": [
  {
   "cell_type": "markdown",
   "id": "232f13e3",
   "metadata": {},
   "source": [
    "# Setup"
   ]
  },
  {
   "cell_type": "code",
   "execution_count": null,
   "id": "0dfdc377",
   "metadata": {},
   "outputs": [],
   "source": [
    "from pathlib import Path\n",
    "import os"
   ]
  },
  {
   "cell_type": "code",
   "execution_count": null,
   "id": "67595827",
   "metadata": {},
   "outputs": [],
   "source": [
    "#NOTE: DONT USE RELATIVE PATHS FOR THE MODELS PROVIDED BY L5\n",
    "experiments_directory = Path(Path(os.path.abspath('')).parent.parent, \"Experiments\")\n",
    "experiments_directory.mkdir(parents=True, exist_ok=True)\n",
    "\n",
    "data_directory = Path(experiments_directory, \"data\")\n",
    "data_directory.mkdir(parents=True, exist_ok=True)\n",
    "\n",
    "prediction_directory = Path(experiments_directory, \"simulation\")\n",
    "prediction_directory.mkdir(parents=True, exist_ok=True)\n",
    "\n",
    "prediction_promotion_directory = Path(prediction_directory, \"promotion\")\n",
    "prediction_promotion_directory.mkdir(parents=True, exist_ok=True)\n",
    "\n",
    "save_directory = Path(prediction_promotion_directory, \"saved_outputs\")\n",
    "save_directory.mkdir(parents=True, exist_ok=True)"
   ]
  },
  {
   "cell_type": "code",
   "execution_count": null,
   "id": "db69f378",
   "metadata": {},
   "outputs": [],
   "source": [
    "import os\n",
    "os.chdir(prediction_promotion_directory)"
   ]
  },
  {
   "cell_type": "code",
   "execution_count": null,
   "id": "357d2cd2",
   "metadata": {},
   "outputs": [],
   "source": [
    "%%writefile requirements.txt\n",
    "wandb"
   ]
  },
  {
   "cell_type": "markdown",
   "id": "2c3101f3",
   "metadata": {},
   "source": [
    "# Promote Model to Registry"
   ]
  },
  {
   "cell_type": "code",
   "execution_count": null,
   "id": "0f2205a0",
   "metadata": {},
   "outputs": [],
   "source": [
    "import wandb\n",
    "wandb.login()"
   ]
  },
  {
   "cell_type": "code",
   "execution_count": null,
   "id": "413afa0d",
   "metadata": {},
   "outputs": [],
   "source": [
    "# Run information\n",
    "project_name = \"l5-prediction\""
   ]
  },
  {
   "cell_type": "code",
   "execution_count": null,
   "id": "ec4bdbe1",
   "metadata": {},
   "outputs": [],
   "source": [
    "#🪄🐝\n",
    "api = wandb.Api()"
   ]
  },
  {
   "cell_type": "code",
   "execution_count": null,
   "id": "c03326f4",
   "metadata": {},
   "outputs": [],
   "source": [
    "eval_metric = \"avg_loss\" #TODO: Figure out better metric for this at this step as eval needs planning model?"
   ]
  },
  {
   "cell_type": "code",
   "execution_count": null,
   "id": "072049a2",
   "metadata": {},
   "outputs": [],
   "source": [
    "#🪄🐝\n",
    "model_runs = api.runs(f'{project_name}-trials', order=f\"summary_metrics.{eval_metric}\", per_page=1)"
   ]
  },
  {
   "cell_type": "code",
   "execution_count": null,
   "id": "e29b34ad",
   "metadata": {},
   "outputs": [],
   "source": [
    "top_model_run = model_runs[0]\n",
    "top_model_art = None"
   ]
  },
  {
   "cell_type": "code",
   "execution_count": null,
   "id": "4028c18f",
   "metadata": {},
   "outputs": [],
   "source": [
    "for art in top_model_run.logged_artifacts():\n",
    "    if (\"latest\" in art.aliases) and (art.type == \"model\"):\n",
    "        top_model_art = art"
   ]
  },
  {
   "cell_type": "code",
   "execution_count": null,
   "id": "cca1bfdd",
   "metadata": {},
   "outputs": [],
   "source": [
    "collection_name = \"av-prediction\""
   ]
  },
  {
   "cell_type": "code",
   "execution_count": null,
   "id": "2029cd5e",
   "metadata": {},
   "outputs": [],
   "source": [
    "#🪄🐝\n",
    "top_model_art.link(f\"{project_name}/{collection_name}\")"
   ]
  }
 ],
 "metadata": {
  "environment": {
   "kernel": "python3",
   "name": "common-cu110.m103",
   "type": "gcloud",
   "uri": "gcr.io/deeplearning-platform-release/base-cu110:m103"
  },
  "kernelspec": {
   "display_name": "Python 3 (ipykernel)",
   "language": "python",
   "name": "python3"
  },
  "language_info": {
   "codemirror_mode": {
    "name": "ipython",
    "version": 3
   },
   "file_extension": ".py",
   "mimetype": "text/x-python",
   "name": "python",
   "nbconvert_exporter": "python",
   "pygments_lexer": "ipython3",
   "version": "3.8.10"
  }
 },
 "nbformat": 4,
 "nbformat_minor": 5
}
