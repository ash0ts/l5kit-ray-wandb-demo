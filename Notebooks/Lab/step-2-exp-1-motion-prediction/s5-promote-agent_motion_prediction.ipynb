{
 "cells": [
  {
   "cell_type": "markdown",
   "id": "78a06af9",
   "metadata": {},
   "source": [
    "# Setup"
   ]
  },
  {
   "cell_type": "code",
   "execution_count": null,
   "id": "d1ab3c31",
   "metadata": {},
   "outputs": [],
   "source": [
    "from pathlib import Path\n",
    "import os"
   ]
  },
  {
   "cell_type": "code",
   "execution_count": null,
   "id": "3495bce1",
   "metadata": {},
   "outputs": [],
   "source": [
    "#NOTE: DONT USE RELATIVE PATHS FOR THE MODELS PROVIDED BY L5\n",
    "experiments_directory = Path(Path(os.path.abspath('')).parent.parent, \"Experiments\")\n",
    "experiments_directory.mkdir(parents=True, exist_ok=True)\n",
    "\n",
    "data_directory = Path(experiments_directory, \"data\")\n",
    "data_directory.mkdir(parents=True, exist_ok=True)\n",
    "\n",
    "prediction_directory = Path(experiments_directory, \"simulation\")\n",
    "prediction_directory.mkdir(parents=True, exist_ok=True)\n",
    "\n",
    "prediction_promotion_directory = Path(prediction_directory, \"promotion\")\n",
    "prediction_promotion_directory.mkdir(parents=True, exist_ok=True)\n",
    "\n",
    "save_directory = Path(prediction_promotion_directory, \"saved_outputs\")\n",
    "save_directory.mkdir(parents=True, exist_ok=True)"
   ]
  },
  {
   "cell_type": "code",
   "execution_count": null,
   "id": "6c306557",
   "metadata": {},
   "outputs": [],
   "source": [
    "import os\n",
    "os.chdir(prediction_promotion_directory)"
   ]
  },
  {
   "cell_type": "code",
   "execution_count": null,
   "id": "3a75ab3e",
   "metadata": {},
   "outputs": [],
   "source": [
    "%%writefile requirements.txt\n",
    "wandb"
   ]
  },
  {
   "cell_type": "markdown",
   "id": "4a4b61f8",
   "metadata": {},
   "source": [
    "# Promote Model to Registry"
   ]
  },
  {
   "cell_type": "code",
   "execution_count": null,
   "id": "7d0e493f",
   "metadata": {},
   "outputs": [],
   "source": [
    "import wandb\n",
    "wandb.login()"
   ]
  },
  {
   "cell_type": "code",
   "execution_count": null,
   "id": "e5759b36",
   "metadata": {},
   "outputs": [],
   "source": [
    "# Run information\n",
    "project_name = \"l5-prediction\""
   ]
  },
  {
   "cell_type": "code",
   "execution_count": null,
   "id": "405c718c",
   "metadata": {},
   "outputs": [],
   "source": [
    "#🪄🐝\n",
    "api = wandb.Api()"
   ]
  },
  {
   "cell_type": "code",
   "execution_count": null,
   "id": "540e47b8",
   "metadata": {},
   "outputs": [],
   "source": [
    "eval_metric = \"avg_loss\" #TODO: Figure out better metric for this at this step as eval needs planning model?"
   ]
  },
  {
   "cell_type": "code",
   "execution_count": null,
   "id": "4cb791ca",
   "metadata": {},
   "outputs": [],
   "source": [
    "#🪄🐝\n",
    "model_runs = api.runs(f'{project_name}-trials', order=f\"summary_metrics.{eval_metric}\", per_page=1)"
   ]
  },
  {
   "cell_type": "code",
   "execution_count": null,
   "id": "44e73120",
   "metadata": {},
   "outputs": [],
   "source": [
    "top_model_run = model_runs[0]\n",
    "top_model_art = None"
   ]
  },
  {
   "cell_type": "code",
   "execution_count": null,
   "id": "50efa5ef",
   "metadata": {},
   "outputs": [],
   "source": [
    "for art in top_model_run.logged_artifacts():\n",
    "    if (\"latest\" in art.aliases) and (art.type == \"model\"):\n",
    "        top_model_art = art"
   ]
  },
  {
   "cell_type": "code",
   "execution_count": null,
   "id": "861af2a3",
   "metadata": {},
   "outputs": [],
   "source": [
    "collection_name = \"prediction-model\""
   ]
  },
  {
   "cell_type": "code",
   "execution_count": null,
   "id": "80325e99",
   "metadata": {},
   "outputs": [],
   "source": [
    "#🪄🐝\n",
    "top_model_art.link(f\"{project_name}/{collection_name}\")"
   ]
  }
 ],
 "metadata": {
  "environment": {
   "kernel": "python3",
   "name": "common-cu110.m103",
   "type": "gcloud",
   "uri": "gcr.io/deeplearning-platform-release/base-cu110:m103"
  },
  "kernelspec": {
   "display_name": "Python 3 (ipykernel)",
   "language": "python",
   "name": "python3"
  },
  "language_info": {
   "codemirror_mode": {
    "name": "ipython",
    "version": 3
   },
   "file_extension": ".py",
   "mimetype": "text/x-python",
   "name": "python",
   "nbconvert_exporter": "python",
   "pygments_lexer": "ipython3",
   "version": "3.8.10"
  }
 },
 "nbformat": 4,
 "nbformat_minor": 5
}
