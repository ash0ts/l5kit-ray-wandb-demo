{
 "cells": [
  {
   "cell_type": "markdown",
   "id": "63d6eb40",
   "metadata": {
    "tags": []
   },
   "source": [
    "## Setup"
   ]
  },
  {
   "cell_type": "code",
   "execution_count": null,
   "id": "2e3106da",
   "metadata": {},
   "outputs": [],
   "source": [
    "from pathlib import Path\n",
    "import os"
   ]
  },
  {
   "cell_type": "code",
   "execution_count": null,
   "id": "efc8aebc",
   "metadata": {},
   "outputs": [],
   "source": [
    "#NOTE: DONT USE RELATIVE PATHS FOR THE MODELS PROVIDED BY L5\n",
    "experiments_directory = Path(Path(os.path.abspath('')).parent.parent, \"Experiments\")\n",
    "experiments_directory.mkdir(parents=True, exist_ok=True)\n",
    "\n",
    "data_directory = Path(experiments_directory, \"data\")\n",
    "data_directory.mkdir(parents=True, exist_ok=True)\n",
    "\n",
    "prediction_directory = Path(experiments_directory, \"prediction\")\n",
    "prediction_directory.mkdir(parents=True, exist_ok=True)\n",
    "\n",
    "prediction_evaluation_directory = Path(prediction_directory, \"evaluation\")\n",
    "prediction_evaluation_directory.mkdir(parents=True, exist_ok=True)\n",
    "\n",
    "save_directory = Path(prediction_evaluation_directory, \"saved_outputs\")\n",
    "save_directory.mkdir(parents=True, exist_ok=True)"
   ]
  },
  {
   "cell_type": "code",
   "execution_count": null,
   "id": "4dec7011",
   "metadata": {},
   "outputs": [],
   "source": [
    "import os\n",
    "os.chdir(prediction_evaluation_directory)"
   ]
  },
  {
   "cell_type": "code",
   "execution_count": null,
   "id": "798167be",
   "metadata": {},
   "outputs": [],
   "source": [
    "%%writefile requirements.txt\n",
    "l5kit\n",
    "pyyaml\n",
    "wandb\n",
    "ray==2.1.0\n",
    "\"ray[air]\"\n",
    "h5py"
   ]
  },
  {
   "cell_type": "code",
   "execution_count": null,
   "id": "d3e78ca4",
   "metadata": {},
   "outputs": [],
   "source": [
    "from typing import Dict\n",
    "\n",
    "from tempfile import gettempdir\n",
    "import matplotlib.pyplot as plt\n",
    "import numpy as np\n",
    "import torch\n",
    "from torch import nn, optim\n",
    "from torch.utils.data import DataLoader\n",
    "from torchvision.models.resnet import resnet50\n",
    "from tqdm import tqdm\n",
    "\n",
    "from l5kit.configs import load_config_data\n",
    "from l5kit.data import LocalDataManager, ChunkedDataset\n",
    "from l5kit.dataset import AgentDataset, EgoDataset\n",
    "from l5kit.rasterization import build_rasterizer\n",
    "from l5kit.evaluation import write_pred_csv, compute_metrics_csv, read_gt_csv, create_chopped_dataset\n",
    "from l5kit.evaluation.chop_dataset import MIN_FUTURE_STEPS\n",
    "from l5kit.evaluation.metrics import neg_multi_log_likelihood, time_displace, rmse, prob_true_mode, average_displacement_error_oracle, average_displacement_error_mean, final_displacement_error_oracle, final_displacement_error_mean, detect_collision, distance_to_reference_trajectory\n",
    "from l5kit.geometry import transform_points\n",
    "from l5kit.visualization import PREDICTED_POINTS_COLOR, TARGET_POINTS_COLOR, draw_trajectory\n",
    "from prettytable import PrettyTable\n",
    "from pathlib import Path\n",
    "\n",
    "import os"
   ]
  },
  {
   "cell_type": "markdown",
   "id": "57d8dfa1",
   "metadata": {},
   "source": [
    "# Pull data"
   ]
  },
  {
   "cell_type": "code",
   "execution_count": null,
   "id": "6f55d643",
   "metadata": {},
   "outputs": [],
   "source": [
    "import wandb\n",
    "wandb.login()"
   ]
  },
  {
   "cell_type": "code",
   "execution_count": null,
   "id": "78e08ab7",
   "metadata": {},
   "outputs": [],
   "source": [
    "# Run information\n",
    "project_name = \"l5-prediction\"\n",
    "run_name = \"evaluate-latest-models\"\n",
    "run_type = \"evaluate\"\n",
    "run_description = \"\"\"\n",
    "Evaluate a prediction Av model and report results\n",
    "\"\"\"\n",
    "tags = [\"evaluate\", \"prediction\"]"
   ]
  },
  {
   "cell_type": "code",
   "execution_count": null,
   "id": "e9969d62",
   "metadata": {},
   "outputs": [],
   "source": [
    " #🪄🐝\n",
    "run = wandb.init(\n",
    "    project=project_name,\n",
    "    job_type=run_type,\n",
    "    name=run_name,\n",
    "    notes=run_description,\n",
    "    tags=tags\n",
    ")"
   ]
  },
  {
   "cell_type": "code",
   "execution_count": null,
   "id": "81bc6a43",
   "metadata": {},
   "outputs": [],
   "source": [
    "artifact_project = \"l5-common\"\n",
    "artifact_name = \"l5-data\"\n",
    "artifact_alias = \"latest\"\n",
    "artifact_type = \"dataset\""
   ]
  },
  {
   "cell_type": "code",
   "execution_count": null,
   "id": "0edcccaa",
   "metadata": {},
   "outputs": [],
   "source": [
    " #🪄🐝\n",
    "artifact = run.use_artifact(f\"{artifact_project}/{artifact_name}:{artifact_alias}\", type=artifact_type)"
   ]
  },
  {
   "cell_type": "code",
   "execution_count": null,
   "id": "08c1beb8",
   "metadata": {},
   "outputs": [],
   "source": [
    "_ = artifact.download(data_directory)"
   ]
  },
  {
   "cell_type": "code",
   "execution_count": null,
   "id": "1c18f673",
   "metadata": {},
   "outputs": [],
   "source": [
    "cfg = load_config_data(Path(data_directory, \"configurations\", \"agent_motion_config.yaml\"))\n",
    "l5_data_location = Path(data_directory, \"dataset\")"
   ]
  },
  {
   "cell_type": "code",
   "execution_count": null,
   "id": "e43635bb",
   "metadata": {},
   "outputs": [],
   "source": [
    "os.environ[\"L5KIT_DATA_FOLDER\"] = str(l5_data_location)"
   ]
  },
  {
   "cell_type": "code",
   "execution_count": null,
   "id": "35460317",
   "metadata": {},
   "outputs": [],
   "source": [
    "dm = LocalDataManager()"
   ]
  },
  {
   "cell_type": "markdown",
   "id": "83375694",
   "metadata": {
    "id": "maau9CVBJCbi"
   },
   "source": [
    "# Evaluation\n",
    "\n",
    "Evaluation follows a slightly different protocol than training. When working with time series, we must be absolutely sure to avoid leaking the future in the data.\n",
    "\n",
    "If we followed the same protocol of training, one could just read ahead in the `.zarr` and forge a perfect solution at run-time, even for a private test set.\n",
    "\n",
    "As such, **the private test set for the competition has been \"chopped\" using the `chop_dataset` function**."
   ]
  },
  {
   "cell_type": "code",
   "execution_count": null,
   "id": "63e722cb",
   "metadata": {
    "id": "fF8BxQLQJCbi"
   },
   "outputs": [],
   "source": [
    "# ===== GENERATE AND LOAD CHOPPED DATASET\n",
    "num_frames_to_chop = 100\n",
    "eval_cfg = cfg[\"val_data_loader\"]\n",
    "eval_base_path = create_chopped_dataset(dm.require(eval_cfg[\"key\"]), cfg[\"raster_params\"][\"filter_agents_threshold\"], \n",
    "                              num_frames_to_chop, cfg[\"model_params\"][\"future_num_frames\"], MIN_FUTURE_STEPS)"
   ]
  },
  {
   "cell_type": "markdown",
   "id": "260e40c8",
   "metadata": {
    "id": "07W1O8eZJCbi"
   },
   "source": [
    "The result is that **each scene has been reduced to only 100 frames**, and **only valid agents in the 100th frame will be used to compute the metrics**. Because following frames in the scene have been chopped off, we can't just look ahead to get the future of those agents.\n",
    "\n",
    "In this example, we simulate this pipeline by running `chop_dataset` on the validation set. The function stores:\n",
    "- a new chopped `.zarr` dataset, in which each scene has only the first 100 frames;\n",
    "- a numpy mask array where only valid agents in the 100th frame are True;\n",
    "- a ground-truth file with the future coordinates of those agents;\n",
    "\n",
    "Please note how the total number of frames is now equal to the number of scenes multipled by `num_frames_to_chop`. \n",
    "\n",
    "The remaining frames in the scene have been sucessfully chopped off from the data"
   ]
  },
  {
   "cell_type": "code",
   "execution_count": null,
   "id": "7a5cf703",
   "metadata": {
    "id": "cU1qt5GVJCbj"
   },
   "outputs": [],
   "source": [
    "eval_zarr_path = str(Path(eval_base_path) / Path(dm.require(eval_cfg[\"key\"])).name)\n",
    "eval_mask_path = str(Path(eval_base_path) / \"mask.npz\")\n",
    "eval_gt_path = str(Path(eval_base_path) / \"gt.csv\")\n",
    "\n",
    "eval_zarr = ChunkedDataset(eval_zarr_path).open()\n",
    "eval_mask = np.load(eval_mask_path)[\"arr_0\"]\n",
    "# ===== INIT DATASET AND LOAD MASK"
   ]
  },
  {
   "cell_type": "markdown",
   "id": "26005934",
   "metadata": {
    "id": "509YuZenJCbj"
   },
   "source": [
    "There is a small catch to be aware of when saving the model predictions. The output of the models are coordinates in `agent` space and we need to convert them into displacements in `world` space.\n",
    "\n",
    "To do so, we first convert them back into the `world` space and we then subtract the centroid coordinates."
   ]
  },
  {
   "cell_type": "markdown",
   "id": "134a7215",
   "metadata": {
    "id": "1cyqL6i1JCbj"
   },
   "source": [
    "### Save results\n",
    "After the model has predicted trajectories for our evaluation set, we can save them in a `csv` file.\n",
    "\n",
    "During the competition, only the `.zarr` and the mask will be provided for the private test set evaluation.\n",
    "Your solution is expected to generate a csv file which will be compared to the ground truth one on a separate server"
   ]
  },
  {
   "cell_type": "markdown",
   "id": "e470dcbf",
   "metadata": {
    "id": "YX-loQElJCbj"
   },
   "source": [
    "### Perform Evaluation\n",
    "Pleae note that our metric supports multi-modal predictions (i.e. multiple predictions for a single GT trajectory). In that case, you will need to provide a confidence for each prediction (confidences must all be between 0 and 1 and sum to 1).\n",
    "\n",
    "In this simple example we don't generate multiple trajectories, so we won't pass any confidences vector. Internally, the metric computation will assume a single trajectory with confidence equal to 1"
   ]
  },
  {
   "cell_type": "markdown",
   "id": "f11ae855",
   "metadata": {
    "id": "nEw-PI7tJCbk"
   },
   "source": [
    "### Visualise Results\n",
    "We can also visualise some results from the ego (AV) point of view for those frames of interest (the 100th of each scene).\n",
    "\n",
    "However, as we chopped off the future from the dataset **we must use the GT csv if we want to plot the future trajectories of the agents**\n"
   ]
  },
  {
   "cell_type": "markdown",
   "id": "6fbcb9c2",
   "metadata": {},
   "source": [
    "# Run Evaluation"
   ]
  },
  {
   "cell_type": "code",
   "execution_count": null,
   "id": "468720ff",
   "metadata": {},
   "outputs": [],
   "source": [
    "criterion = nn.MSELoss(reduction=\"none\")"
   ]
  },
  {
   "cell_type": "code",
   "execution_count": null,
   "id": "5cb425b2",
   "metadata": {},
   "outputs": [],
   "source": [
    "def forward(data, model, device, criterion):\n",
    "    inputs = data[\"image\"].to(device)\n",
    "    target_availabilities = data[\"target_availabilities\"].unsqueeze(-1).to(device)\n",
    "    targets = data[\"target_positions\"].to(device)\n",
    "    # Forward pass\n",
    "    outputs = model(inputs).reshape(targets.shape)\n",
    "    loss = criterion(outputs, targets)\n",
    "    # not all the output steps are valid, but we can filter them out from the loss using availabilities\n",
    "    loss = loss * target_availabilities\n",
    "    loss = loss.mean()\n",
    "    return loss, outputs"
   ]
  },
  {
   "cell_type": "code",
   "execution_count": null,
   "id": "03aa95d3",
   "metadata": {},
   "outputs": [],
   "source": [
    "#TODO: Remove reliance on Pandas\n",
    "import pandas as pd"
   ]
  },
  {
   "cell_type": "code",
   "execution_count": null,
   "id": "27928a60",
   "metadata": {},
   "outputs": [],
   "source": [
    "def evaluate_model(model, criterion, eval_dataloader, eval_gt_path, eval_dataset, eval_zarr, rasterizer, dir_to_save=\".\"):\n",
    "    #TODO: see if there is a better ray way\n",
    "    device = torch.device(\"cuda:0\" if torch.cuda.is_available() else \"cpu\")\n",
    "    \n",
    "    # ==== EVAL LOOP\n",
    "    model = model.to(device)\n",
    "    model.eval()\n",
    "    torch.set_grad_enabled(False)\n",
    "    \n",
    "    \n",
    "\n",
    "    # store information for evaluation\n",
    "    future_coords_offsets_pd = []\n",
    "    timestamps = []\n",
    "    agent_ids = []\n",
    "\n",
    "    print(\"Running metric evaluation...\")\n",
    "    progress_bar = tqdm(eval_dataloader)\n",
    "    for data in progress_bar:\n",
    "        _, ouputs = forward(data, model, device, criterion)\n",
    "\n",
    "        # convert agent coordinates into world offsets\n",
    "        agents_coords = ouputs.cpu().numpy()\n",
    "        world_from_agents = data[\"world_from_agent\"].numpy()\n",
    "        centroids = data[\"centroid\"].numpy()\n",
    "        coords_offset = transform_points(agents_coords, world_from_agents) - centroids[:, None, :2]\n",
    "\n",
    "        future_coords_offsets_pd.append(np.stack(coords_offset))\n",
    "        timestamps.append(data[\"timestamp\"].numpy().copy())\n",
    "        agent_ids.append(data[\"track_id\"].numpy().copy())\n",
    "    \n",
    "    pred_path = Path(dir_to_save, \"eval_preds.csv\")\n",
    "    write_pred_csv(pred_path,\n",
    "       timestamps=np.concatenate(timestamps),\n",
    "       track_ids=np.concatenate(agent_ids),\n",
    "       coords=np.concatenate(future_coords_offsets_pd),\n",
    "    )\n",
    "    \n",
    "    pred_df = pd.read_csv(pred_path)\n",
    "    \n",
    "    metrics = compute_metrics_csv(eval_gt_path, pred_path, [neg_multi_log_likelihood, \n",
    "                                                        time_displace, \n",
    "                                                        rmse, \n",
    "                                                        prob_true_mode, \n",
    "                                                        average_displacement_error_oracle, \n",
    "                                                        average_displacement_error_mean,\n",
    "                                                        final_displacement_error_oracle,\n",
    "                                                        final_displacement_error_mean,\n",
    "                                                       ])\n",
    "\n",
    "    # build a dict to retrieve future trajectories from GT\n",
    "    print(\"Running scene frame prediction!\")\n",
    "    gt_rows = {}\n",
    "    for row in read_gt_csv(eval_gt_path):\n",
    "        gt_rows[row[\"track_id\"] + row[\"timestamp\"]] = row[\"coord\"]\n",
    "\n",
    "    eval_ego_dataset = EgoDataset(cfg, eval_dataset.dataset, rasterizer)\n",
    "\n",
    "    scene_frames = []\n",
    "    frame_prediction_details = {}\n",
    "    for frame_number in tqdm(range(99, len(eval_zarr.frames), 100)):  # start from last frame of scene_0 and increase by 100\n",
    "        agent_indices = eval_dataset.get_frame_indices(frame_number) \n",
    "        if not len(agent_indices):\n",
    "            continue\n",
    "\n",
    "        # get AV point-of-view frame\n",
    "        data_ego = eval_ego_dataset[frame_number]\n",
    "        im_ego = rasterizer.to_rgb(data_ego[\"image\"].transpose(1, 2, 0))\n",
    "        center = np.asarray(cfg[\"raster_params\"][\"ego_center\"]) * cfg[\"raster_params\"][\"raster_size\"]\n",
    "\n",
    "        predicted_positions = []\n",
    "        target_positions = []\n",
    "\n",
    "        for v_index in agent_indices:\n",
    "            data_agent = eval_dataset[v_index]\n",
    "\n",
    "            out_net = model(torch.from_numpy(data_agent[\"image\"]).unsqueeze(0).to(device))\n",
    "            out_pos = out_net[0].reshape(-1, 2).detach().cpu().numpy()\n",
    "            # store absolute world coordinates\n",
    "            predicted_positions.append(transform_points(out_pos, data_agent[\"world_from_agent\"]))\n",
    "            # retrieve target positions from the GT and store as absolute coordinates\n",
    "            track_id, timestamp = data_agent[\"track_id\"], data_agent[\"timestamp\"]\n",
    "            target_positions.append(gt_rows[str(track_id) + str(timestamp)] + data_agent[\"centroid\"][:2])\n",
    "\n",
    "\n",
    "        # convert coordinates to AV point-of-view so we can draw them\n",
    "        predicted_positions = transform_points(np.concatenate(predicted_positions), data_ego[\"raster_from_world\"])\n",
    "        target_positions = transform_points(np.concatenate(target_positions), data_ego[\"raster_from_world\"])\n",
    "\n",
    "        draw_trajectory(im_ego, predicted_positions, PREDICTED_POINTS_COLOR)\n",
    "        draw_trajectory(im_ego, target_positions, TARGET_POINTS_COLOR)\n",
    "        \n",
    "        frame_path = Path(dir_to_save, f\"eval_prediction_frame_{frame_number}.png\")\n",
    "\n",
    "        plt.imsave(frame_path, im_ego)\n",
    "    \n",
    "        scene_frames.append(PIL.Image.fromarray(im_ego))\n",
    "        frame_prediction_details[frame_number] = {\"image_path\" : frame_path}\n",
    "        \n",
    "        \n",
    "    print(\"Saving GIF!\")\n",
    "    gif_path = Path(dir_to_save, f\"prediction_animation.gif\")\n",
    "    frame_one = scene_frames[0]\n",
    "    frame_one.save(gif_path, format=\"GIF\", append_images=scene_frames,\n",
    "               save_all=True, duration=1000, loop=0)\n",
    "    \n",
    "    return metrics, frame_prediction_details, gif_path, pred_df\n"
   ]
  },
  {
   "cell_type": "markdown",
   "id": "ddf82d77",
   "metadata": {},
   "source": [
    "We use the `wandb` Public API to easily grab all the runs from our training project (with any optional filters) and use them as candidate models for the evaluation flow."
   ]
  },
  {
   "cell_type": "code",
   "execution_count": null,
   "id": "d16d8715",
   "metadata": {},
   "outputs": [],
   "source": [
    " #🪄🐝\n",
    "api = wandb.Api()\n",
    "\n",
    "#Example: Grab all run trials from a specific date range?\n",
    "# model_runs = api.runs(f'{wandb_entity}/{project_name}-trials', {\n",
    "model_runs = api.runs(f'{project_name}-trials', {\n",
    "    # \"$and\": [{\n",
    "    # 'created_at': {\n",
    "    #     \"$lt\": 'YYYY-MM-DDT##',\n",
    "    #     \"$gt\": 'YYYY-MM-DDT##'\n",
    "    #     }\n",
    "    # }]\n",
    "})\n",
    "run_model_map = {}\n",
    "for model_run in model_runs:\n",
    "    for model_art in model_run.logged_artifacts():\n",
    "        if \"latest\" in model_art.aliases:\n",
    "            run_model_map[model_run.name] = {\n",
    "                \"loss\": model_run.summary[\"loss\"],\n",
    "                \"avg_loss\": model_run.summary[\"avg_loss\"],\n",
    "                \"art\": model_art,\n",
    "                \"run_url\": model_run.url,\n",
    "                \"run_id\": model_run.id,\n",
    "                \"run_summary\": model_run.summary\n",
    "            }"
   ]
  },
  {
   "cell_type": "code",
   "execution_count": null,
   "id": "d8c266b7",
   "metadata": {},
   "outputs": [],
   "source": [
    "from ray.air.checkpoint import Checkpoint\n",
    "import PIL\n",
    "import h5py"
   ]
  },
  {
   "cell_type": "markdown",
   "id": "2ba14ad3",
   "metadata": {},
   "source": [
    "Note: during our evaluation flow we are not creating a new run per each evaluation. Instead, to be able to keep the context of the training of the model with the evaluation, we simply update the summary metadata of the candidate model runs with the additional evaluation metrics, keeping things unified and streamlined"
   ]
  },
  {
   "cell_type": "code",
   "execution_count": null,
   "id": "a7c3c763",
   "metadata": {},
   "outputs": [],
   "source": [
    "eval_run_table_data = []\n",
    "for run_name, run_details in run_model_map.items():\n",
    "    print(run_name)\n",
    "    run_directory = Path(save_directory, run_name)\n",
    "    run_data = {}\n",
    "    run_data[\"run_name\"] = run_name\n",
    "    model_art = run_details[\"art\"]\n",
    "    #Hack to link evaluated model trials with eval data\n",
    "    #This run refers to the run keeping track of this evaluation action\n",
    "     #🪄🐝\n",
    "    run.use_artifact(model_art)\n",
    "    run_model_path = Path(run_directory, \"model\")\n",
    "    model_dir = model_art.download(run_model_path)\n",
    "    checkpoint = Checkpoint.from_directory(model_dir)\n",
    "    recovered_model = checkpoint.to_dict()\n",
    "    model = recovered_model['model']\n",
    "    \n",
    "    print(\"Running Semantic Evaluation!\")\n",
    "    cfg[\"raster_params\"][\"map_type\"] = \"py_semantic\"\n",
    "    dir_to_save = Path(run_directory, \"semantic\")\n",
    "    dir_to_save.mkdir(parents=True, exist_ok=True)\n",
    "    rasterizer = build_rasterizer(cfg, dm)\n",
    "    eval_dataset = AgentDataset(cfg, eval_zarr, rasterizer, agents_mask=eval_mask)\n",
    "    eval_dataloader = DataLoader(eval_dataset, shuffle=eval_cfg[\"shuffle\"], batch_size=eval_cfg[\"batch_size\"], \n",
    "                                 num_workers=eval_cfg[\"num_workers\"])\n",
    "    semantic_eval_metrics, semantic_eval_frame_prediction_details, semantic_gif, semantic_pred_df = evaluate_model(model, criterion, \n",
    "                                                             eval_dataloader, \n",
    "                                                             eval_gt_path, \n",
    "                                                             eval_dataset, \n",
    "                                                             eval_zarr, \n",
    "                                                             rasterizer, \n",
    "                                                             dir_to_save)\n",
    "    \n",
    "    print(\"Running Satellite Evaluation!\")\n",
    "    cfg[\"raster_params\"][\"map_type\"] = \"py_satellite\"\n",
    "    dir_to_save = Path(save_directory, run_name, \"satellite\")\n",
    "    dir_to_save.mkdir(parents=True, exist_ok=True)\n",
    "    rasterizer = build_rasterizer(cfg, dm)\n",
    "    eval_dataset = AgentDataset(cfg, eval_zarr, rasterizer, agents_mask=eval_mask)\n",
    "    eval_dataloader = DataLoader(eval_dataset, shuffle=eval_cfg[\"shuffle\"], batch_size=eval_cfg[\"batch_size\"], \n",
    "                                 num_workers=eval_cfg[\"num_workers\"])\n",
    "    satellite_eval_metrics, satellite_eval_frame_prediction_details, satellite_gif, satellite_pred_df = evaluate_model(model, criterion, \n",
    "                                                             eval_dataloader, \n",
    "                                                             eval_gt_path, \n",
    "                                                             eval_dataset, \n",
    "                                                             eval_zarr, \n",
    "                                                             rasterizer, \n",
    "                                                             dir_to_save)\n",
    "    \n",
    "    print(\"Constructing reporting objects...\")\n",
    "    print(satellite_gif)\n",
    "    semantic_predictions = []\n",
    "    for val in semantic_eval_frame_prediction_details.values():\n",
    "        semantic_predictions.append(wandb.Image(str(val[\"image_path\"])))  #🪄🐝\n",
    "        \n",
    "    satellite_predictions = []\n",
    "    for val in satellite_eval_frame_prediction_details.values():\n",
    "        satellite_predictions.append(wandb.Image(str(val[\"image_path\"])))  #🪄🐝\n",
    "\n",
    "    run_data.update(run_details)\n",
    "    \n",
    "    all_eval_metrics = {}\n",
    "    all_eval_metrics.update({f\"semantic_{key}\": val for key, val in semantic_eval_metrics.items()})\n",
    "    all_eval_metrics.update({f\"satellite_{key}\": val for key, val in satellite_eval_metrics.items()})\n",
    "    run_data.update(all_eval_metrics)\n",
    "    \n",
    "    run_data.update({f\"semantic_predictions\" : semantic_predictions, f\"satellite_predictions\" : satellite_predictions})\n",
    "    run_data.update({f\"semantic_animation\" : wandb.Video(str(semantic_gif)), f\"satellite_animation\" : wandb.Video(str(satellite_gif))})  #🪄🐝\n",
    "    del run_data['art']\n",
    "    del run_data[\"run_summary\"]\n",
    "    \n",
    "    run_details[\"run_summary\"].update(all_eval_metrics)\n",
    "    eval_run_table_data.append(run_data)\n",
    "    \n",
    "    run.log({f\"{run_name}_predicted_semantic_coords\": wandb.Table(dataframe=semantic_pred_df),  #🪄🐝\n",
    "            f\"{run_name}_predicted_satellite_coords\": wandb.Table(dataframe=satellite_pred_df)})  #🪄🐝\n",
    "    print(\"Done!\\n~~~~~~~~~~~~~~~~\")"
   ]
  },
  {
   "cell_type": "markdown",
   "id": "d74ace2a",
   "metadata": {},
   "source": [
    "### Log Table containing all details of Eval run"
   ]
  },
  {
   "cell_type": "code",
   "execution_count": null,
   "id": "7fa5fe85",
   "metadata": {},
   "outputs": [],
   "source": [
    " #🪄🐝\n",
    "eval_table = wandb.Table(columns = list(eval_run_table_data[0].keys()))"
   ]
  },
  {
   "cell_type": "code",
   "execution_count": null,
   "id": "45365045",
   "metadata": {},
   "outputs": [],
   "source": [
    "for table_data in eval_run_table_data:\n",
    "    eval_table.add_data(*list(table_data.values()))"
   ]
  },
  {
   "cell_type": "code",
   "execution_count": null,
   "id": "d9cb0b66",
   "metadata": {},
   "outputs": [],
   "source": [
    "len(eval_table.data)"
   ]
  },
  {
   "cell_type": "code",
   "execution_count": null,
   "id": "6573ca4c",
   "metadata": {},
   "outputs": [],
   "source": [
    "run.log({\"eval_table\": eval_table})"
   ]
  },
  {
   "cell_type": "code",
   "execution_count": null,
   "id": "4028556d",
   "metadata": {},
   "outputs": [],
   "source": [
    "run.finish()"
   ]
  }
 ],
 "metadata": {
  "environment": {
   "kernel": "python3",
   "name": "common-cu110.m103",
   "type": "gcloud",
   "uri": "gcr.io/deeplearning-platform-release/base-cu110:m103"
  },
  "kernelspec": {
   "display_name": "Python 3 (ipykernel)",
   "language": "python",
   "name": "python3"
  },
  "language_info": {
   "codemirror_mode": {
    "name": "ipython",
    "version": 3
   },
   "file_extension": ".py",
   "mimetype": "text/x-python",
   "name": "python",
   "nbconvert_exporter": "python",
   "pygments_lexer": "ipython3",
   "version": "3.8.10"
  }
 },
 "nbformat": 4,
 "nbformat_minor": 5
}
