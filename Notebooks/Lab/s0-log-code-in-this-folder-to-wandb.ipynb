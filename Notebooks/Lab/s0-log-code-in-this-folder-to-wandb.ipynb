{
 "cells": [
  {
   "cell_type": "markdown",
   "id": "1d7f2dc8",
   "metadata": {},
   "source": [
    "# Setup"
   ]
  },
  {
   "cell_type": "code",
   "execution_count": null,
   "id": "b1941595",
   "metadata": {},
   "outputs": [],
   "source": [
    "from pathlib import Path\n",
    "import os"
   ]
  },
  {
   "cell_type": "code",
   "execution_count": null,
   "id": "8ca48bd7",
   "metadata": {},
   "outputs": [],
   "source": [
    "#NOTE: DONT USE RELATIVE PATHS FOR THE MODELS PROVIDED BY L5\n",
    "code_directory = Path(os.path.abspath(''))\n",
    "experiments_directory = Path(code_directory.parent.parent.parent.parent, \"Experiments\")\n",
    "experiments_directory.mkdir(parents=True, exist_ok=True)\n",
    "\n",
    "data_directory = Path(experiments_directory, \"data\")\n",
    "data_directory.mkdir(parents=True, exist_ok=True)\n",
    "\n",
    "commons_directory = Path(experiments_directory, \"commons\")\n",
    "commons_directory.mkdir(parents=True, exist_ok=True)"
   ]
  },
  {
   "cell_type": "code",
   "execution_count": null,
   "id": "23fba2b6",
   "metadata": {},
   "outputs": [],
   "source": [
    "import os\n",
    "os.chdir(commons_directory)"
   ]
  },
  {
   "cell_type": "code",
   "execution_count": null,
   "id": "11a6658f",
   "metadata": {},
   "outputs": [],
   "source": [
    "%%writefile requirements.txt\n",
    "wandb"
   ]
  },
  {
   "cell_type": "markdown",
   "id": "cd23bae8",
   "metadata": {},
   "source": [
    "# Log Code in this directory to WANDB"
   ]
  },
  {
   "cell_type": "code",
   "execution_count": null,
   "id": "dfe62483",
   "metadata": {},
   "outputs": [],
   "source": [
    "import wandb\n",
    "wandb.login()"
   ]
  },
  {
   "cell_type": "code",
   "execution_count": null,
   "id": "c9b4cf2f",
   "metadata": {},
   "outputs": [],
   "source": [
    "# Run information\n",
    "project_name = \"l5-common\"\n",
    "run_name = \"upload_code\"\n",
    "run_type = \"code_upload\"\n",
    "run_description = \"\"\"\n",
    "This run will log all the ipython notebooks in the current folder to be utilized for the org/bookkeeping\n",
    "\"\"\"\n",
    "tags = [\"upload\", \"code\"]"
   ]
  },
  {
   "cell_type": "code",
   "execution_count": null,
   "id": "f4b2a21a",
   "metadata": {},
   "outputs": [],
   "source": [
    "#🪄🐝\n",
    "run = wandb.init(project=project_name,\n",
    "                 job_type=run_type,\n",
    "                 name=run_name,\n",
    "                 tags=tags,\n",
    "                 notes=run_description)"
   ]
  },
  {
   "cell_type": "code",
   "execution_count": null,
   "id": "c3659180",
   "metadata": {},
   "outputs": [],
   "source": [
    "#🪄🐝\n",
    "run.log_code(\n",
    "   str(code_directory), include_fn=lambda path: path.endswith(\".py\") or path.endswith(\".ipynb\")\n",
    ")"
   ]
  },
  {
   "cell_type": "code",
   "execution_count": null,
   "id": "6bbe2d44",
   "metadata": {},
   "outputs": [],
   "source": [
    "run.finish()"
   ]
  }
 ],
 "metadata": {
  "environment": {
   "kernel": "python3",
   "name": "common-cu110.m95",
   "type": "gcloud",
   "uri": "gcr.io/deeplearning-platform-release/base-cu110:m95"
  },
  "kernelspec": {
   "display_name": "Python 3 (ipykernel)",
   "language": "python",
   "name": "python3"
  },
  "language_info": {
   "codemirror_mode": {
    "name": "ipython",
    "version": 3
   },
   "file_extension": ".py",
   "mimetype": "text/x-python",
   "name": "python",
   "nbconvert_exporter": "python",
   "pygments_lexer": "ipython3",
   "version": "3.8.10"
  }
 },
 "nbformat": 4,
 "nbformat_minor": 5
}
