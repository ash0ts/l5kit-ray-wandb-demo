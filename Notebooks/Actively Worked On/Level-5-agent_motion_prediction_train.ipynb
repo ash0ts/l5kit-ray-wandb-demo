{
 "cells": [
  {
   "cell_type": "markdown",
   "metadata": {
    "id": "2aXGGrVOJCbd"
   },
   "source": [
    "## Prepare Data path and load cfg\n",
    "\n",
    "By setting the `L5KIT_DATA_FOLDER` variable, we can point the script to the folder where the data lies.\n",
    "\n",
    "Then, we load our config file with relative paths and other configurations (rasteriser, training params...)."
   ]
  },
  {
   "cell_type": "code",
   "execution_count": 1,
   "metadata": {},
   "outputs": [],
   "source": [
    "from pathlib import Path\n",
    "import os"
   ]
  },
  {
   "cell_type": "code",
   "execution_count": 2,
   "metadata": {},
   "outputs": [],
   "source": [
    "#NOTE: DONT USE RELATIVE PATHS FOR THE MODELS PROVIDED BY L5\n",
    "experiments_directory = Path(Path(os.path.abspath('')).parent.parent, \"Experiments\")\n",
    "experiments_directory.mkdir(parents=True, exist_ok=True)\n",
    "\n",
    "data_directory = Path(experiments_directory, \"data\")\n",
    "data_directory.mkdir(parents=True, exist_ok=True)\n",
    "\n",
    "prediction_directory = Path(experiments_directory, \"prediction\")\n",
    "prediction_directory.mkdir(parents=True, exist_ok=True)\n",
    "\n",
    "save_directory = Path(prediction_directory, \"saved_outputs\")\n",
    "save_directory.mkdir(parents=True, exist_ok=True)"
   ]
  },
  {
   "cell_type": "code",
   "execution_count": 3,
   "metadata": {},
   "outputs": [],
   "source": [
    "import os\n",
    "os.chdir(prediction_directory)"
   ]
  },
  {
   "cell_type": "code",
   "execution_count": 4,
   "metadata": {},
   "outputs": [
    {
     "name": "stdout",
     "output_type": "stream",
     "text": [
      "Overwriting requirements.txt\n"
     ]
    }
   ],
   "source": [
    "%%writefile requirements.txt\n",
    "l5kit\n",
    "pyyaml\n",
    "ray==2.0.0rc1\n",
    "ray[air]\n",
    "wandb\n",
    "optuna"
   ]
  },
  {
   "cell_type": "code",
   "execution_count": 5,
   "metadata": {},
   "outputs": [],
   "source": [
    "%%capture\n",
    "# !pip install -r requirements.txt\n",
    "!pip install l5kit pyyaml wandb\n",
    "!pip install ray==2.0.0rc1\n",
    "!pip install \"ray[air]\"\n",
    "!pip install optuna"
   ]
  },
  {
   "cell_type": "code",
   "execution_count": 6,
   "metadata": {
    "colab": {
     "base_uri": "https://localhost:8080/",
     "height": 71
    },
    "executionInfo": {
     "elapsed": 5572,
     "status": "ok",
     "timestamp": 1660707075761,
     "user": {
      "displayName": "Anish Shah",
      "userId": "05913492621931233323"
     },
     "user_tz": 240
    },
    "id": "Hbg_JE1s0q6u",
    "outputId": "48fec4f3-85e5-413a-911c-e4db3ad1aaa4"
   },
   "outputs": [
    {
     "name": "stderr",
     "output_type": "stream",
     "text": [
      "\u001b[34m\u001b[1mwandb\u001b[0m: Currently logged in as: \u001b[33ma-sh0ts\u001b[0m. Use \u001b[1m`wandb login --relogin`\u001b[0m to force relogin\n"
     ]
    },
    {
     "data": {
      "text/plain": [
       "True"
      ]
     },
     "execution_count": 6,
     "metadata": {},
     "output_type": "execute_result"
    }
   ],
   "source": [
    "import wandb\n",
    "wandb.login()"
   ]
  },
  {
   "cell_type": "code",
   "execution_count": 7,
   "metadata": {
    "id": "OKx_V_wnJCbb"
   },
   "outputs": [],
   "source": [
    "from typing import Dict\n",
    "\n",
    "from tempfile import gettempdir\n",
    "import matplotlib.pyplot as plt\n",
    "import numpy as np\n",
    "import torch\n",
    "from torch import nn, optim\n",
    "from torch.utils.data import DataLoader\n",
    "from torchvision.models.resnet import resnet50\n",
    "from tqdm import tqdm\n",
    "\n",
    "from l5kit.configs import load_config_data\n",
    "from l5kit.data import LocalDataManager, ChunkedDataset\n",
    "from l5kit.dataset import AgentDataset, EgoDataset\n",
    "from l5kit.rasterization import build_rasterizer\n",
    "from l5kit.evaluation import write_pred_csv, compute_metrics_csv, read_gt_csv, create_chopped_dataset\n",
    "from l5kit.evaluation.chop_dataset import MIN_FUTURE_STEPS\n",
    "from l5kit.evaluation.metrics import neg_multi_log_likelihood, time_displace\n",
    "from l5kit.geometry import transform_points\n",
    "from l5kit.visualization import PREDICTED_POINTS_COLOR, TARGET_POINTS_COLOR, draw_trajectory\n",
    "from prettytable import PrettyTable\n",
    "from pathlib import Path\n",
    "\n",
    "import os"
   ]
  },
  {
   "cell_type": "code",
   "execution_count": 8,
   "metadata": {},
   "outputs": [],
   "source": [
    "# Run information\n",
    "wandb_entity = \"l5-demo\"\n",
    "project_name = \"l5-prediction\"\n",
    "run_name = \"download-l5-data\"\n",
    "run_type = \"download\"\n",
    "run_description = \"\"\"\n",
    "Download data for the task of training a prediction model\n",
    "\"\"\"\n",
    "tags = [\"download\", \"data\"]"
   ]
  },
  {
   "cell_type": "code",
   "execution_count": 9,
   "metadata": {},
   "outputs": [
    {
     "name": "stderr",
     "output_type": "stream",
     "text": [
      "\u001b[34m\u001b[1mwandb\u001b[0m: Currently logged in as: \u001b[33ma-sh0ts\u001b[0m (\u001b[33ml5-demo\u001b[0m). Use \u001b[1m`wandb login --relogin`\u001b[0m to force relogin\n"
     ]
    },
    {
     "data": {
      "text/html": [
       "Tracking run with wandb version 0.13.1"
      ],
      "text/plain": [
       "<IPython.core.display.HTML object>"
      ]
     },
     "metadata": {},
     "output_type": "display_data"
    },
    {
     "data": {
      "text/html": [
       "Run data is saved locally in <code>/home/jupyter/l5kit-ray-wandb-demo/Experiments/prediction/wandb/run-20220819_154539-35gtning</code>"
      ],
      "text/plain": [
       "<IPython.core.display.HTML object>"
      ]
     },
     "metadata": {},
     "output_type": "display_data"
    },
    {
     "data": {
      "text/html": [
       "Syncing run <strong><a href=\"https://wandb.ai/l5-demo/l5-prediction/runs/35gtning\" target=\"_blank\">download-l5-data</a></strong> to <a href=\"https://wandb.ai/l5-demo/l5-prediction\" target=\"_blank\">Weights & Biases</a> (<a href=\"https://wandb.me/run\" target=\"_blank\">docs</a>)<br/>"
      ],
      "text/plain": [
       "<IPython.core.display.HTML object>"
      ]
     },
     "metadata": {},
     "output_type": "display_data"
    }
   ],
   "source": [
    "run = wandb.init(\n",
    "    entity=wandb_entity,\n",
    "    project=project_name,\n",
    "    job_type=run_type,\n",
    "    name=run_name,\n",
    "    notes=run_description,\n",
    "    tags=tags\n",
    ")"
   ]
  },
  {
   "cell_type": "code",
   "execution_count": 10,
   "metadata": {},
   "outputs": [],
   "source": [
    "artifact_entity = \"l5-demo\"\n",
    "artifact_project = \"l5-common\"\n",
    "artifact_name = \"l5-data\"\n",
    "artifact_alias = \"latest\"\n",
    "artifact_type = \"dataset\""
   ]
  },
  {
   "cell_type": "code",
   "execution_count": 11,
   "metadata": {},
   "outputs": [],
   "source": [
    "artifact = run.use_artifact(f\"{artifact_entity}/{artifact_project}/{artifact_name}:{artifact_alias}\", type=artifact_type)"
   ]
  },
  {
   "cell_type": "code",
   "execution_count": 12,
   "metadata": {},
   "outputs": [
    {
     "name": "stderr",
     "output_type": "stream",
     "text": [
      "\u001b[34m\u001b[1mwandb\u001b[0m: Downloading large artifact l5-data:latest, 2386.92MB. 517 files... Done. 0:0:0.1\n"
     ]
    }
   ],
   "source": [
    "_ = artifact.download(data_directory)"
   ]
  },
  {
   "cell_type": "code",
   "execution_count": 13,
   "metadata": {},
   "outputs": [
    {
     "data": {
      "text/html": [
       "Waiting for W&B process to finish... <strong style=\"color:green\">(success).</strong>"
      ],
      "text/plain": [
       "<IPython.core.display.HTML object>"
      ]
     },
     "metadata": {},
     "output_type": "display_data"
    },
    {
     "data": {
      "application/vnd.jupyter.widget-view+json": {
       "model_id": "",
       "version_major": 2,
       "version_minor": 0
      },
      "text/plain": [
       "VBox(children=(Label(value='0.000 MB of 0.000 MB uploaded (0.000 MB deduped)\\r'), FloatProgress(value=1.0, max…"
      ]
     },
     "metadata": {},
     "output_type": "display_data"
    },
    {
     "data": {
      "text/html": [
       "Synced <strong style=\"color:#cdcd00\">download-l5-data</strong>: <a href=\"https://wandb.ai/l5-demo/l5-prediction/runs/35gtning\" target=\"_blank\">https://wandb.ai/l5-demo/l5-prediction/runs/35gtning</a><br/>Synced 7 W&B file(s), 0 media file(s), 0 artifact file(s) and 1 other file(s)"
      ],
      "text/plain": [
       "<IPython.core.display.HTML object>"
      ]
     },
     "metadata": {},
     "output_type": "display_data"
    },
    {
     "data": {
      "text/html": [
       "Find logs at: <code>./wandb/run-20220819_154539-35gtning/logs</code>"
      ],
      "text/plain": [
       "<IPython.core.display.HTML object>"
      ]
     },
     "metadata": {},
     "output_type": "display_data"
    }
   ],
   "source": [
    "#BUG: need to seperate runs into download and training due to issues with routing runs after ray.tune\n",
    "run.finish()"
   ]
  },
  {
   "cell_type": "code",
   "execution_count": 14,
   "metadata": {},
   "outputs": [],
   "source": [
    "# Dataset is assumed to be on the folder specified\n",
    "# in the L5KIT_DATA_FOLDER environment variable\n",
    "\n",
    "# get config\n",
    "cfg = load_config_data(Path(data_directory, \"configurations\", \"agent_motion_config.yaml\"))\n",
    "l5_data_location = Path(data_directory, \"dataset\")\n",
    "# run.config.update(cfg)"
   ]
  },
  {
   "cell_type": "code",
   "execution_count": 15,
   "metadata": {},
   "outputs": [],
   "source": [
    "# cfg[\"zarr_dataset_location\"] = l5_data_location\n",
    "os.environ[\"L5KIT_DATA_FOLDER\"] = str(l5_data_location)"
   ]
  },
  {
   "cell_type": "markdown",
   "metadata": {
    "id": "_ZX_d_ObJCbg"
   },
   "source": [
    "## Model\n",
    "\n",
    "Our baseline is a simple `resnet50` pretrained on `imagenet`. We must replace the input and the final layer to address our requirements."
   ]
  },
  {
   "cell_type": "code",
   "execution_count": 16,
   "metadata": {
    "id": "2i3FeP99JCbg"
   },
   "outputs": [],
   "source": [
    "def build_model(cfg: Dict) -> torch.nn.Module:\n",
    "    # load pre-trained Conv2D model\n",
    "    model = resnet50(pretrained=True)\n",
    "\n",
    "    # change input channels number to match the rasterizer's output\n",
    "    num_history_channels = (cfg[\"model_params\"][\"history_num_frames\"] + 1) * 2\n",
    "    num_in_channels = 3 + num_history_channels\n",
    "    model.conv1 = nn.Conv2d(\n",
    "        num_in_channels,\n",
    "        model.conv1.out_channels,\n",
    "        kernel_size=model.conv1.kernel_size,\n",
    "        stride=model.conv1.stride,\n",
    "        padding=model.conv1.padding,\n",
    "        bias=False,\n",
    "    )\n",
    "    # change output size to (X, Y) * number of future states\n",
    "    num_targets = 2 * cfg[\"model_params\"][\"future_num_frames\"]\n",
    "    model.fc = nn.Linear(in_features=2048, out_features=num_targets)\n",
    "\n",
    "    return model"
   ]
  },
  {
   "cell_type": "code",
   "execution_count": 17,
   "metadata": {
    "id": "L-MMuG4LJCbh"
   },
   "outputs": [],
   "source": [
    "def forward(data, model, criterion):\n",
    "    inputs = data[\"image\"]\n",
    "    target_availabilities = data[\"target_availabilities\"].unsqueeze(-1)\n",
    "    targets = data[\"target_positions\"]\n",
    "    # Forward pass\n",
    "    outputs = model(inputs).reshape(targets.shape)\n",
    "    loss = criterion(outputs, targets)\n",
    "    # not all the output steps are valid, but we can filter them out from the loss using availabilities\n",
    "    loss = loss * target_availabilities\n",
    "    loss = loss.mean()\n",
    "    return loss, outputs"
   ]
  },
  {
   "cell_type": "code",
   "execution_count": 18,
   "metadata": {
    "id": "I8zTOjoAz3mW"
   },
   "outputs": [],
   "source": [
    "def train_prediction_model_epoch(data, model, criterion, optimizer):\n",
    "    loss, outputs = forward(data, model, criterion)\n",
    "    # Backward pass\n",
    "    optimizer.zero_grad()\n",
    "    loss.backward()\n",
    "    optimizer.step()\n",
    "    return loss, outputs"
   ]
  },
  {
   "cell_type": "markdown",
   "metadata": {
    "id": "oz8fUbbTJCbh"
   },
   "source": [
    "## Load the Train Data\n",
    "\n",
    "Our data pipeline map a raw `.zarr` folder into a multi-processing instance ready for training by:\n",
    "- loading the `zarr` into a `ChunkedDataset` object. This object has a reference to the different arrays into the zarr (e.g. agents and traffic lights);\n",
    "- wrapping the `ChunkedDataset` into an `AgentDataset`, which inherits from torch `Dataset` class;\n",
    "- passing the `AgentDataset` into a torch `DataLoader`"
   ]
  },
  {
   "cell_type": "code",
   "execution_count": 19,
   "metadata": {
    "id": "sQGV6T8F1q8h"
   },
   "outputs": [],
   "source": [
    "import ray.train as train\n",
    "from ray.air import session, Checkpoint"
   ]
  },
  {
   "cell_type": "code",
   "execution_count": 20,
   "metadata": {},
   "outputs": [],
   "source": [
    "from ray import tune\n",
    "from ray.tune.tuner import Tuner"
   ]
  },
  {
   "cell_type": "code",
   "execution_count": 21,
   "metadata": {
    "id": "8gRu7-HmxCrE"
   },
   "outputs": [],
   "source": [
    "def train_prediction_model(tuner_cfg : Dict):\n",
    "    # ==== INIT DATASET\n",
    "    #TODO fix this data flow if it doesnt make sense\n",
    "    dm = LocalDataManager()\n",
    "    \n",
    "    shuffle = tuner_cfg[\"shuffle\"]\n",
    "    batch_size = int(tuner_cfg[\"batch_size\"])\n",
    "    num_workers = tuner_cfg[\"num_workers\"]\n",
    "    lr = tuner_cfg[\"lr\"]\n",
    "    max_num_steps = int(tuner_cfg[\"max_num_steps\"])\n",
    "    dataset_key = tuner_cfg[\"dataset_key\"]\n",
    "    cfg = tuner_cfg[\"cfg\"]\n",
    "    \n",
    "    rasterizer = build_rasterizer(cfg, dm)\n",
    "\n",
    "    train_zarr = ChunkedDataset(dm.require(dataset_key)).open()\n",
    "    train_dataset = AgentDataset(cfg, train_zarr, rasterizer)\n",
    "\n",
    "    batch_size_per_worker = batch_size // session.get_world_size()\n",
    "    train_dataloader = DataLoader(train_dataset, shuffle=shuffle, batch_size=batch_size_per_worker, num_workers=num_workers)\n",
    "    train_dataloader = train.torch.prepare_data_loader(train_dataloader)\n",
    "    \n",
    "    # ==== INIT MODEL\n",
    "    # device = torch.device(\"cuda:0\" if torch.cuda.is_available() else \"cpu\")\n",
    "    model = build_model(cfg)\n",
    "    model = train.torch.prepare_model(model)\n",
    "    optimizer = optim.Adam(model.parameters(), lr=lr)\n",
    "    criterion = nn.MSELoss(reduction=\"none\")\n",
    "\n",
    "    # ==== TRAIN LOOP\n",
    "    tr_it = iter(train_dataloader)\n",
    "    # progress_bar = tqdm(range(cfg[\"train_params\"].get(\"max_num_steps\", 5)))\n",
    "    progress_bar = range(max_num_steps)\n",
    "    num_checkpoints = 5\n",
    "    steps_before_checkpointing = max_num_steps // num_checkpoints\n",
    "    losses_train = []\n",
    "    for step in progress_bar:\n",
    "        try:\n",
    "            data = next(tr_it)\n",
    "        except StopIteration:\n",
    "            tr_it = iter(train_dataloader)\n",
    "            data = next(tr_it)\n",
    "            \n",
    "        model.train()\n",
    "        torch.set_grad_enabled(True)\n",
    "        loss, _ = train_prediction_model_epoch(data, model, criterion, optimizer)\n",
    "        losses_train.append(loss.item())\n",
    "        avg_loss = np.mean(losses_train)\n",
    "        metrics = {\n",
    "            \"loss\": loss.item(),\n",
    "            \"avg_loss\": avg_loss\n",
    "        }\n",
    "        \n",
    "        #NOTE: To prevent stdout bloat\n",
    "        if train.world_rank() == 0:\n",
    "            print(metrics)\n",
    "        # progress_bar.set_description(f\"loss: {metrics[\"loss\"]} loss(avg): {metrics[\"loss(avg)\"]}\")\n",
    "        \n",
    "        #TODO: fix this lmao brain tired\n",
    "        if steps_before_checkpointing > 0:\n",
    "            if step%steps_before_checkpointing==0:\n",
    "                session.report(\n",
    "                    metrics=metrics,\n",
    "                    checkpoint=Checkpoint.from_dict(dict(step=step, model=model)),\n",
    "                )\n",
    "            elif step==max_num_steps-1:\n",
    "                session.report(\n",
    "                    metrics=metrics,\n",
    "                    checkpoint=Checkpoint.from_dict(dict(step=step, model=model)),\n",
    "                )\n",
    "            else:\n",
    "                session.report(\n",
    "                    metrics=metrics\n",
    "                )\n",
    "        else:\n",
    "            session.report(\n",
    "                metrics=metrics\n",
    "            )"
   ]
  },
  {
   "cell_type": "markdown",
   "metadata": {
    "id": "-EDp7WnqJCbh"
   },
   "source": [
    "# Training\n",
    "\n",
    "note: if you're on MacOS and using `py_satellite` rasterizer, you may need to disable opencv multiprocessing by adding:\n",
    "`cv2.setNumThreads(0)` before the following cell. This seems to only affect running in python notebook and it's caused by the `cv2.warpaffine` function"
   ]
  },
  {
   "cell_type": "code",
   "execution_count": 22,
   "metadata": {
    "id": "L2ic0NRa0X2q"
   },
   "outputs": [],
   "source": [
    "from ray.train.torch import TorchTrainer\n",
    "from ray.air.config import RunConfig, ScalingConfig\n",
    "from ray.air.callbacks.wandb import WandbLoggerCallback"
   ]
  },
  {
   "cell_type": "code",
   "execution_count": 23,
   "metadata": {
    "colab": {
     "base_uri": "https://localhost:8080/"
    },
    "executionInfo": {
     "elapsed": 6465,
     "status": "ok",
     "timestamp": 1660707090583,
     "user": {
      "displayName": "Anish Shah",
      "userId": "05913492621931233323"
     },
     "user_tz": 240
    },
    "id": "MqgEP_OE0cIa",
    "outputId": "941a3d0a-e9a6-4f8a-dd89-5c5414e63555"
   },
   "outputs": [
    {
     "name": "stderr",
     "output_type": "stream",
     "text": [
      "2022-08-19 15:45:55,144\tINFO worker.py:1487 -- Started a local Ray instance. View the dashboard at \u001b[1m\u001b[32mhttp://127.0.0.1:8265\u001b[39m\u001b[22m.\n"
     ]
    }
   ],
   "source": [
    "trainer = TorchTrainer(\n",
    "    train_loop_per_worker=train_prediction_model,\n",
    "    scaling_config=ScalingConfig(num_workers=3, use_gpu=False), #TODO: Add logic to check if GPU is available here\n",
    ")"
   ]
  },
  {
   "cell_type": "code",
   "execution_count": 24,
   "metadata": {},
   "outputs": [],
   "source": [
    "tuner_train_config = {}\n",
    "##static\n",
    "tuner_train_config[\"shuffle\"] = cfg[\"train_data_loader\"][\"shuffle\"]\n",
    "#TODO: what is this useful for?\n",
    "tuner_train_config[\"num_workers\"] = cfg[\"train_data_loader\"][\"num_workers\"]\n",
    "tuner_train_config[\"dataset_key\"] = cfg[\"train_data_loader\"][\"key\"]\n",
    "\n",
    "##tunable\n",
    "# tuner_train_config[\"max_num_steps\"] = tune.quniform(50, 500, 50)\n",
    "tuner_train_config[\"max_num_steps\"] = tune.quniform(5, 50, 5)\n",
    "tuner_train_config[\"lr\"] = tune.loguniform(1e-3, 1e-2)\n",
    "tuner_train_config[\"batch_size\"] = tune.quniform(6, 24, 3)\n",
    "\n",
    "tuner_train_config[\"cfg\"] = cfg"
   ]
  },
  {
   "cell_type": "code",
   "execution_count": 25,
   "metadata": {},
   "outputs": [],
   "source": [
    "from ray.tune.logger import LoggerCallback\n",
    "from typing import Dict, List"
   ]
  },
  {
   "cell_type": "code",
   "execution_count": 26,
   "metadata": {},
   "outputs": [],
   "source": [
    "# ## For now passing the current run context to this callback to better organize the models logged\n",
    "# class TrialEndModelSaveCallback(LoggerCallback):\n",
    "    \n",
    "#     def __init__(self, run, save_directory):\n",
    "#         self.run = run\n",
    "#         self.save_directory = save_directory\n",
    "    \n",
    "#     def on_trial_complete(self, iteration: int, trials: List[\"Trial\"],\n",
    "#                           trial: \"Trial\", **info):\n",
    "#         print(\"here\")\n",
    "#         trial_name = trial._trainable_name(include_trial_id=True)\n",
    "#         print(trial_name)\n",
    "#         final_model_checkpoint = trial.checkpoint.to_air_checkpoint().to_dict()\n",
    "#         print(final_model_checkpoint)\n",
    "#         model = final_model_checkpoint[\"model\"]\n",
    "#         print(model)\n",
    "#         final_model = torch.jit.script(model.cpu())\n",
    "#         path_to_save = f\"{trial_name}-trained_model\"\n",
    "#         final_model.save(path_to_save)"
   ]
  },
  {
   "cell_type": "code",
   "execution_count": 27,
   "metadata": {},
   "outputs": [],
   "source": [
    "from ray.tune.stopper import ExperimentPlateauStopper\n",
    "from ray.tune.search.optuna import OptunaSearch"
   ]
  },
  {
   "cell_type": "code",
   "execution_count": 28,
   "metadata": {},
   "outputs": [],
   "source": [
    "n_search_attempts = 10"
   ]
  },
  {
   "cell_type": "code",
   "execution_count": 29,
   "metadata": {},
   "outputs": [],
   "source": [
    "optuna_search = OptunaSearch()"
   ]
  },
  {
   "cell_type": "code",
   "execution_count": 30,
   "metadata": {},
   "outputs": [
    {
     "name": "stderr",
     "output_type": "stream",
     "text": [
      "/opt/conda/lib/python3.7/site-packages/ipykernel_launcher.py:14: UserWarning: Executing `.fit()` may leave less than 20% of CPUs in this cluster for Dataset execution, which can lead to resource contention or hangs. To avoid this, reserve at least 20% of node CPUs for Dataset execution by setting `_max_cpu_fraction_per_node = 0.8` in the Trainer scaling_config. See https://docs.ray.io/en/master/data/dataset-internals.html#datasets-and-tune for more info.\n",
      "  \n"
     ]
    }
   ],
   "source": [
    "tuner = Tuner(\n",
    "        trainer,\n",
    "        tune_config=tune.TuneConfig(\n",
    "            metric=\"avg_loss\", #loss or avg_loss here?\n",
    "            mode=\"min\",\n",
    "            search_alg=optuna_search,\n",
    "            num_samples=n_search_attempts,\n",
    "        ),\n",
    "        param_space={\n",
    "            \"train_loop_config\": tuner_train_config\n",
    "        },\n",
    "        run_config=RunConfig(\n",
    "            stop=ExperimentPlateauStopper(\"avg_loss\"),\n",
    "            callbacks=[WandbLoggerCallback(project=f\"{project_name}-trials\", save_checkpoints=True), \n",
    "                                        # TrialEndModelSaveCallback(run, save_directory)\n",
    "                                       ]\n",
    "                            )\n",
    "    )"
   ]
  },
  {
   "cell_type": "code",
   "execution_count": 31,
   "metadata": {
    "colab": {
     "base_uri": "https://localhost:8080/",
     "height": 1000
    },
    "executionInfo": {
     "elapsed": 158825,
     "status": "ok",
     "timestamp": 1660707249406,
     "user": {
      "displayName": "Anish Shah",
      "userId": "05913492621931233323"
     },
     "user_tz": 240
    },
    "id": "kOE9cNax197M",
    "outputId": "ff23d83a-4e9f-4876-f1cd-54f752b4563d"
   },
   "outputs": [
    {
     "name": "stdout",
     "output_type": "stream",
     "text": [
      "\u001b[2m\u001b[36m(RayTrainWorker pid=16406)\u001b[0m {'loss': 80.25357055664062, 'avg_loss': 71.58842504435572}\n",
      "Result for TorchTrainer_5c2b750a:\n",
      "  _time_this_iter_s: 7.779364585876465\n",
      "  _timestamp: 1660924500\n",
      "  _training_iteration: 29\n",
      "  avg_loss: 71.58842504435572\n",
      "  date: 2022-08-19_15-55-01\n",
      "  done: false\n",
      "  experiment_id: eae92d0a63fc4567a5392ff8a089dc67\n",
      "  hostname: anish-l5-kit\n",
      "  iterations_since_restore: 29\n",
      "  loss: 80.25357055664062\n",
      "  node_ip: 10.150.0.3\n",
      "  pid: 16328\n",
      "  time_since_restore: 248.99855041503906\n",
      "  time_this_iter_s: 7.430035829544067\n",
      "  time_total_s: 248.99855041503906\n",
      "  timestamp: 1660924501\n",
      "  timesteps_since_restore: 0\n",
      "  training_iteration: 29\n",
      "  trial_id: 5c2b750a\n",
      "  warmup_time: 0.005020856857299805\n",
      "  \n",
      "Result for TorchTrainer_5c2b750a:\n",
      "  _time_this_iter_s: 7.822077035903931\n",
      "  _timestamp: 1660924508\n",
      "  _training_iteration: 30\n",
      "  avg_loss: 71.98505894343059\n",
      "  date: 2022-08-19_15-55-08\n",
      "  done: false\n",
      "  experiment_id: eae92d0a63fc4567a5392ff8a089dc67\n",
      "  hostname: anish-l5-kit\n",
      "  iterations_since_restore: 30\n",
      "  loss: 83.48744201660156\n",
      "  node_ip: 10.150.0.3\n",
      "  pid: 16328\n",
      "  time_since_restore: 256.7153162956238\n",
      "  time_this_iter_s: 7.716765880584717\n",
      "  time_total_s: 256.7153162956238\n",
      "  timestamp: 1660924508\n",
      "  timesteps_since_restore: 0\n",
      "  training_iteration: 30\n",
      "  trial_id: 5c2b750a\n",
      "  warmup_time: 0.005020856857299805\n",
      "  \n",
      "\u001b[2m\u001b[36m(RayTrainWorker pid=16406)\u001b[0m {'loss': 83.48744201660156, 'avg_loss': 71.98505894343059}\n",
      "Result for TorchTrainer_5c2b750a:\n",
      "  _time_this_iter_s: 7.398500919342041\n",
      "  _timestamp: 1660924516\n",
      "  _training_iteration: 31\n",
      "  avg_loss: 71.63324242253458\n",
      "  date: 2022-08-19_15-55-16\n",
      "  done: false\n",
      "  experiment_id: eae92d0a63fc4567a5392ff8a089dc67\n",
      "  hostname: anish-l5-kit\n",
      "  iterations_since_restore: 31\n",
      "  loss: 61.0787467956543\n",
      "  node_ip: 10.150.0.3\n",
      "  pid: 16328\n",
      "  time_since_restore: 264.11309456825256\n",
      "  time_this_iter_s: 7.397778272628784\n",
      "  time_total_s: 264.11309456825256\n",
      "  timestamp: 1660924516\n",
      "  timesteps_since_restore: 0\n",
      "  training_iteration: 31\n",
      "  trial_id: 5c2b750a\n",
      "  warmup_time: 0.005020856857299805\n",
      "  \n",
      "\u001b[2m\u001b[36m(RayTrainWorker pid=16406)\u001b[0m {'loss': 61.0787467956543, 'avg_loss': 71.63324242253458}\n",
      "Result for TorchTrainer_5c2b750a:\n",
      "  _time_this_iter_s: 7.150756597518921\n",
      "  _timestamp: 1660924523\n",
      "  _training_iteration: 32\n",
      "  avg_loss: 70.23299738764763\n",
      "  date: 2022-08-19_15-55-23\n",
      "  done: false\n",
      "  experiment_id: eae92d0a63fc4567a5392ff8a089dc67\n",
      "  hostname: anish-l5-kit\n",
      "  iterations_since_restore: 32\n",
      "  loss: 26.825401306152344\n",
      "  node_ip: 10.150.0.3\n",
      "  pid: 16328\n",
      "  time_since_restore: 271.3397834300995\n",
      "  time_this_iter_s: 7.226688861846924\n",
      "  time_total_s: 271.3397834300995\n",
      "  timestamp: 1660924523\n",
      "  timesteps_since_restore: 0\n",
      "  training_iteration: 32\n",
      "  trial_id: 5c2b750a\n",
      "  warmup_time: 0.005020856857299805\n",
      "  \n",
      "\u001b[2m\u001b[36m(RayTrainWorker pid=16406)\u001b[0m {'loss': 26.825401306152344, 'avg_loss': 70.23299738764763}\n",
      "Result for TorchTrainer_5c2b750a:\n",
      "  _time_this_iter_s: 7.236887693405151\n",
      "  _timestamp: 1660924530\n",
      "  _training_iteration: 33\n",
      "  avg_loss: 69.30021653030857\n",
      "  date: 2022-08-19_15-55-30\n",
      "  done: false\n",
      "  experiment_id: eae92d0a63fc4567a5392ff8a089dc67\n",
      "  hostname: anish-l5-kit\n",
      "  iterations_since_restore: 33\n",
      "  loss: 39.451229095458984\n",
      "  node_ip: 10.150.0.3\n",
      "  pid: 16328\n",
      "  time_since_restore: 278.50293612480164\n",
      "  time_this_iter_s: 7.163152694702148\n",
      "  time_total_s: 278.50293612480164\n",
      "  timestamp: 1660924530\n",
      "  timesteps_since_restore: 0\n",
      "  training_iteration: 33\n",
      "  trial_id: 5c2b750a\n",
      "  warmup_time: 0.005020856857299805\n",
      "  \n",
      "\u001b[2m\u001b[36m(RayTrainWorker pid=16406)\u001b[0m {'loss': 39.451229095458984, 'avg_loss': 69.30021653030857}\n",
      "Result for TorchTrainer_5c2b750a:\n",
      "  _time_this_iter_s: 7.210259914398193\n",
      "  _timestamp: 1660924537\n",
      "  _training_iteration: 34\n",
      "  avg_loss: 68.56516274283914\n",
      "  date: 2022-08-19_15-55-37\n",
      "  done: false\n",
      "  experiment_id: eae92d0a63fc4567a5392ff8a089dc67\n",
      "  hostname: anish-l5-kit\n",
      "  iterations_since_restore: 34\n",
      "  loss: 44.308387756347656\n",
      "  node_ip: 10.150.0.3\n",
      "  pid: 16328\n",
      "  time_since_restore: 285.72720313072205\n",
      "  time_this_iter_s: 7.22426700592041\n",
      "  time_total_s: 285.72720313072205\n",
      "  timestamp: 1660924537\n",
      "  timesteps_since_restore: 0\n",
      "  training_iteration: 34\n",
      "  trial_id: 5c2b750a\n",
      "  warmup_time: 0.005020856857299805\n",
      "  \n",
      "\u001b[2m\u001b[36m(RayTrainWorker pid=16406)\u001b[0m {'loss': 44.308387756347656, 'avg_loss': 68.56516274283914}\n",
      "Result for TorchTrainer_5c2b750a:\n",
      "  _time_this_iter_s: 7.227195739746094\n",
      "  _timestamp: 1660924545\n",
      "  _training_iteration: 35\n",
      "  avg_loss: 69.65577858516149\n",
      "  date: 2022-08-19_15-55-45\n",
      "  done: false\n",
      "  experiment_id: eae92d0a63fc4567a5392ff8a089dc67\n",
      "  hostname: anish-l5-kit\n",
      "  iterations_since_restore: 35\n",
      "  loss: 106.7367172241211\n",
      "  node_ip: 10.150.0.3\n",
      "  pid: 16328\n",
      "  time_since_restore: 292.93925309181213\n",
      "  time_this_iter_s: 7.212049961090088\n",
      "  time_total_s: 292.93925309181213\n",
      "  timestamp: 1660924545\n",
      "  timesteps_since_restore: 0\n",
      "  training_iteration: 35\n",
      "  trial_id: 5c2b750a\n",
      "  warmup_time: 0.005020856857299805\n",
      "  \n",
      "\u001b[2m\u001b[36m(RayTrainWorker pid=16406)\u001b[0m {'loss': 106.7367172241211, 'avg_loss': 69.65577858516149}\n",
      "\u001b[2m\u001b[36m(RayTrainWorker pid=16406)\u001b[0m {'loss': 36.74392318725586, 'avg_loss': 68.74156037966411}\n",
      "Result for TorchTrainer_5c2b750a:\n",
      "  _time_this_iter_s: 7.081924915313721\n",
      "  _timestamp: 1660924552\n",
      "  _training_iteration: 36\n",
      "  avg_loss: 68.74156037966411\n",
      "  date: 2022-08-19_15-55-52\n",
      "  done: false\n",
      "  experiment_id: eae92d0a63fc4567a5392ff8a089dc67\n",
      "  hostname: anish-l5-kit\n",
      "  iterations_since_restore: 36\n",
      "  loss: 36.74392318725586\n",
      "  node_ip: 10.150.0.3\n",
      "  pid: 16328\n",
      "  time_since_restore: 300.1178755760193\n",
      "  time_this_iter_s: 7.178622484207153\n",
      "  time_total_s: 300.1178755760193\n",
      "  timestamp: 1660924552\n",
      "  timesteps_since_restore: 0\n",
      "  training_iteration: 36\n",
      "  trial_id: 5c2b750a\n",
      "  warmup_time: 0.005020856857299805\n",
      "  \n",
      "\u001b[2m\u001b[36m(RayTrainWorker pid=16406)\u001b[0m {'loss': 67.09259033203125, 'avg_loss': 68.69699362161997}\n"
     ]
    },
    {
     "name": "stderr",
     "output_type": "stream",
     "text": [
      "\u001b[34m\u001b[1mwandb\u001b[0m: Adding directory to artifact (/home/jupyter/ray_results/TorchTrainer_2022-08-19_15-45-58/TorchTrainer_5c2b750a_3_batch_size=24.0000,format_version=4,future_num_frames=50,history_num_frames=0,model_architecture=resnet50,_2022-08-19_15-50-48/checkpoint_000004)... "
     ]
    },
    {
     "name": "stdout",
     "output_type": "stream",
     "text": [
      "Result for TorchTrainer_5c2b750a:\n",
      "  _time_this_iter_s: 8.145943641662598\n",
      "  _timestamp: 1660924560\n",
      "  _training_iteration: 37\n",
      "  avg_loss: 68.69699362161997\n",
      "  date: 2022-08-19_15-56-00\n",
      "  done: false\n",
      "  experiment_id: eae92d0a63fc4567a5392ff8a089dc67\n",
      "  hostname: anish-l5-kit\n",
      "  iterations_since_restore: 37\n",
      "  loss: 67.09259033203125\n",
      "  node_ip: 10.150.0.3\n",
      "  pid: 16328\n",
      "  should_checkpoint: true\n",
      "  time_since_restore: 308.62834787368774\n",
      "  time_this_iter_s: 8.510472297668457\n",
      "  time_total_s: 308.62834787368774\n",
      "  timestamp: 1660924560\n",
      "  timesteps_since_restore: 0\n",
      "  training_iteration: 37\n",
      "  trial_id: 5c2b750a\n",
      "  warmup_time: 0.005020856857299805\n",
      "  \n"
     ]
    },
    {
     "name": "stderr",
     "output_type": "stream",
     "text": [
      "Done. 1.0s\n"
     ]
    },
    {
     "name": "stdout",
     "output_type": "stream",
     "text": [
      "\u001b[2m\u001b[36m(RayTrainWorker pid=16406)\u001b[0m {'loss': 36.63917541503906, 'avg_loss': 67.85336682670994}\n",
      "Result for TorchTrainer_5c2b750a:\n",
      "  _time_this_iter_s: 8.376948118209839\n",
      "  _timestamp: 1660924568\n",
      "  _training_iteration: 38\n",
      "  avg_loss: 67.85336682670994\n",
      "  date: 2022-08-19_15-56-08\n",
      "  done: false\n",
      "  experiment_id: eae92d0a63fc4567a5392ff8a089dc67\n",
      "  hostname: anish-l5-kit\n",
      "  iterations_since_restore: 38\n",
      "  loss: 36.63917541503906\n",
      "  node_ip: 10.150.0.3\n",
      "  pid: 16328\n",
      "  time_since_restore: 316.6358058452606\n",
      "  time_this_iter_s: 8.007457971572876\n",
      "  time_total_s: 316.6358058452606\n",
      "  timestamp: 1660924568\n",
      "  timesteps_since_restore: 0\n",
      "  training_iteration: 38\n",
      "  trial_id: 5c2b750a\n",
      "  warmup_time: 0.005020856857299805\n",
      "  \n",
      "Result for TorchTrainer_5c2b750a:\n",
      "  _time_this_iter_s: 7.18516206741333\n",
      "  _timestamp: 1660924575\n",
      "  _training_iteration: 39\n",
      "  avg_loss: 67.7737532151051\n",
      "  date: 2022-08-19_15-56-15\n",
      "  done: false\n",
      "  experiment_id: eae92d0a63fc4567a5392ff8a089dc67\n",
      "  hostname: anish-l5-kit\n",
      "  iterations_since_restore: 39\n",
      "  loss: 64.7484359741211\n",
      "  node_ip: 10.150.0.3\n",
      "  pid: 16328\n",
      "  time_since_restore: 323.75506925582886\n",
      "  time_this_iter_s: 7.119263410568237\n",
      "  time_total_s: 323.75506925582886\n",
      "  timestamp: 1660924575\n",
      "  timesteps_since_restore: 0\n",
      "  training_iteration: 39\n",
      "  trial_id: 5c2b750a\n",
      "  warmup_time: 0.005020856857299805\n",
      "  \n",
      "\u001b[2m\u001b[36m(RayTrainWorker pid=16406)\u001b[0m {'loss': 64.7484359741211, 'avg_loss': 67.7737532151051}\n",
      "Result for TorchTrainer_5c2b750a:\n",
      "  _time_this_iter_s: 7.073350191116333\n",
      "  _timestamp: 1660924582\n",
      "  _training_iteration: 40\n",
      "  avg_loss: 69.92769048213958\n",
      "  date: 2022-08-19_15-56-22\n",
      "  done: false\n",
      "  experiment_id: eae92d0a63fc4567a5392ff8a089dc67\n",
      "  hostname: anish-l5-kit\n",
      "  iterations_since_restore: 40\n",
      "  loss: 153.93124389648438\n",
      "  node_ip: 10.150.0.3\n",
      "  pid: 16328\n",
      "  time_since_restore: 330.80243968963623\n",
      "  time_this_iter_s: 7.047370433807373\n",
      "  time_total_s: 330.80243968963623\n",
      "  timestamp: 1660924582\n",
      "  timesteps_since_restore: 0\n",
      "  training_iteration: 40\n",
      "  trial_id: 5c2b750a\n",
      "  warmup_time: 0.005020856857299805\n",
      "  \n",
      "\u001b[2m\u001b[36m(RayTrainWorker pid=16406)\u001b[0m {'loss': 153.93124389648438, 'avg_loss': 69.92769048213958}\n",
      "Result for TorchTrainer_5c2b750a:\n",
      "  _time_this_iter_s: 7.00217080116272\n",
      "  _timestamp: 1660924589\n",
      "  _training_iteration: 41\n",
      "  avg_loss: 70.03195895218268\n",
      "  date: 2022-08-19_15-56-29\n",
      "  done: false\n",
      "  experiment_id: eae92d0a63fc4567a5392ff8a089dc67\n",
      "  hostname: anish-l5-kit\n",
      "  iterations_since_restore: 41\n",
      "  loss: 74.20269775390625\n",
      "  node_ip: 10.150.0.3\n",
      "  pid: 16328\n",
      "  time_since_restore: 337.8035795688629\n",
      "  time_this_iter_s: 7.001139879226685\n",
      "  time_total_s: 337.8035795688629\n",
      "  timestamp: 1660924589\n",
      "  timesteps_since_restore: 0\n",
      "  training_iteration: 41\n",
      "  trial_id: 5c2b750a\n",
      "  warmup_time: 0.005020856857299805\n",
      "  \n",
      "\u001b[2m\u001b[36m(RayTrainWorker pid=16406)\u001b[0m {'loss': 74.20269775390625, 'avg_loss': 70.03195895218268}\n",
      "Result for TorchTrainer_5c2b750a:\n",
      "  _time_this_iter_s: 7.117192029953003\n",
      "  _timestamp: 1660924597\n",
      "  _training_iteration: 42\n",
      "  avg_loss: 71.30466676893688\n",
      "  date: 2022-08-19_15-56-37\n",
      "  done: false\n",
      "  experiment_id: eae92d0a63fc4567a5392ff8a089dc67\n",
      "  hostname: anish-l5-kit\n",
      "  iterations_since_restore: 42\n",
      "  loss: 123.48568725585938\n",
      "  node_ip: 10.150.0.3\n",
      "  pid: 16328\n",
      "  time_since_restore: 344.9501473903656\n",
      "  time_this_iter_s: 7.1465678215026855\n",
      "  time_total_s: 344.9501473903656\n",
      "  timestamp: 1660924597\n",
      "  timesteps_since_restore: 0\n",
      "  training_iteration: 42\n",
      "  trial_id: 5c2b750a\n",
      "  warmup_time: 0.005020856857299805\n",
      "  \n",
      "\u001b[2m\u001b[36m(RayTrainWorker pid=16406)\u001b[0m {'loss': 123.48568725585938, 'avg_loss': 71.30466676893688}\n",
      "Result for TorchTrainer_5c2b750a:\n",
      "  _time_this_iter_s: 7.110725402832031\n",
      "  _timestamp: 1660924604\n",
      "  _training_iteration: 43\n",
      "  avg_loss: 70.98040884594585\n",
      "  date: 2022-08-19_15-56-44\n",
      "  done: false\n",
      "  experiment_id: eae92d0a63fc4567a5392ff8a089dc67\n",
      "  hostname: anish-l5-kit\n",
      "  iterations_since_restore: 43\n",
      "  loss: 57.361576080322266\n",
      "  node_ip: 10.150.0.3\n",
      "  pid: 16328\n",
      "  time_since_restore: 352.03195095062256\n",
      "  time_this_iter_s: 7.081803560256958\n",
      "  time_total_s: 352.03195095062256\n",
      "  timestamp: 1660924604\n",
      "  timesteps_since_restore: 0\n",
      "  training_iteration: 43\n",
      "  trial_id: 5c2b750a\n",
      "  warmup_time: 0.005020856857299805\n",
      "  \n",
      "\u001b[2m\u001b[36m(RayTrainWorker pid=16406)\u001b[0m {'loss': 57.361576080322266, 'avg_loss': 70.98040884594585}\n",
      "Result for TorchTrainer_5c2b750a:\n",
      "  _time_this_iter_s: 7.1275880336761475\n",
      "  _timestamp: 1660924611\n",
      "  _training_iteration: 44\n",
      "  avg_loss: 70.83621083606373\n",
      "  date: 2022-08-19_15-56-51\n",
      "  done: false\n",
      "  experiment_id: eae92d0a63fc4567a5392ff8a089dc67\n",
      "  hostname: anish-l5-kit\n",
      "  iterations_since_restore: 44\n",
      "  loss: 64.63569641113281\n",
      "  node_ip: 10.150.0.3\n",
      "  pid: 16328\n",
      "  time_since_restore: 359.17300748825073\n",
      "  time_this_iter_s: 7.141056537628174\n",
      "  time_total_s: 359.17300748825073\n",
      "  timestamp: 1660924611\n",
      "  timesteps_since_restore: 0\n",
      "  training_iteration: 44\n",
      "  trial_id: 5c2b750a\n",
      "  warmup_time: 0.005020856857299805\n",
      "  \n",
      "\u001b[2m\u001b[36m(RayTrainWorker pid=16406)\u001b[0m {'loss': 64.63569641113281, 'avg_loss': 70.83621083606373}\n",
      "\u001b[2m\u001b[36m(RayTrainWorker pid=16406)\u001b[0m {'loss': 41.149383544921875, 'avg_loss': 70.17650356292725}\n"
     ]
    },
    {
     "name": "stderr",
     "output_type": "stream",
     "text": [
      "\u001b[34m\u001b[1mwandb\u001b[0m: Adding directory to artifact (/home/jupyter/ray_results/TorchTrainer_2022-08-19_15-45-58/TorchTrainer_5c2b750a_3_batch_size=24.0000,format_version=4,future_num_frames=50,history_num_frames=0,model_architecture=resnet50,_2022-08-19_15-50-48/checkpoint_000005)... "
     ]
    },
    {
     "name": "stdout",
     "output_type": "stream",
     "text": [
      "Result for TorchTrainer_5c2b750a:\n",
      "  _time_this_iter_s: 7.601074934005737\n",
      "  _timestamp: 1660924618\n",
      "  _training_iteration: 45\n",
      "  avg_loss: 70.17650356292725\n",
      "  date: 2022-08-19_15-56-59\n",
      "  done: false\n",
      "  experiment_id: eae92d0a63fc4567a5392ff8a089dc67\n",
      "  hostname: anish-l5-kit\n",
      "  iterations_since_restore: 45\n",
      "  loss: 41.149383544921875\n",
      "  node_ip: 10.150.0.3\n",
      "  pid: 16328\n",
      "  should_checkpoint: true\n",
      "  time_since_restore: 367.3895263671875\n",
      "  time_this_iter_s: 8.216518878936768\n",
      "  time_total_s: 367.3895263671875\n",
      "  timestamp: 1660924619\n",
      "  timesteps_since_restore: 0\n",
      "  training_iteration: 45\n",
      "  trial_id: 5c2b750a\n",
      "  warmup_time: 0.005020856857299805\n",
      "  \n"
     ]
    },
    {
     "name": "stderr",
     "output_type": "stream",
     "text": [
      "Done. 1.0s\n",
      "\u001b[34m\u001b[1mwandb\u001b[0m: Adding directory to artifact (/home/jupyter/ray_results/TorchTrainer_2022-08-19_15-45-58/TorchTrainer_5c2b750a_3_batch_size=24.0000,format_version=4,future_num_frames=50,history_num_frames=0,model_architecture=resnet50,_2022-08-19_15-50-48/checkpoint_000005)... Done. 0.3s\n"
     ]
    },
    {
     "data": {
      "text/html": [
       "Waiting for W&B process to finish... <strong style=\"color:green\">(success).</strong>"
      ],
      "text/plain": [
       "<IPython.core.display.HTML object>"
      ]
     },
     "metadata": {},
     "output_type": "display_data"
    },
    {
     "data": {
      "application/vnd.jupyter.widget-view+json": {
       "model_id": "b612c6a2214743da8e86e6f1f13276ea",
       "version_major": 2,
       "version_minor": 0
      },
      "text/plain": [
       "VBox(children=(Label(value='544.901 MB of 544.901 MB uploaded (90.796 MB deduped)\\r'), FloatProgress(value=1.0…"
      ]
     },
     "metadata": {},
     "output_type": "display_data"
    },
    {
     "data": {
      "text/html": [
       "W&B sync reduced upload amount by 16.7%             "
      ],
      "text/plain": [
       "<IPython.core.display.HTML object>"
      ]
     },
     "metadata": {},
     "output_type": "display_data"
    },
    {
     "data": {
      "text/html": [
       "<style>\n",
       "    table.wandb td:nth-child(1) { padding: 0 10px; text-align: left ; width: auto;} td:nth-child(2) {text-align: left ; width: 100%}\n",
       "    .wandb-row { display: flex; flex-direction: row; flex-wrap: wrap; justify-content: flex-start; width: 100% }\n",
       "    .wandb-col { display: flex; flex-direction: column; flex-basis: 100%; flex: 1; padding: 10px; }\n",
       "    </style>\n",
       "<div class=\"wandb-row\"><div class=\"wandb-col\"><h3>Run history:</h3><br/><table class=\"wandb\"><tr><td>avg_loss</td><td>▂▁▁▅▅▆▇█▇▇▇▆▆▆▆▇▆▆▆▆▆▆▆▆▆▆▆▆▆▆▆▆▆▆▆▆▆▆▆▆</td></tr><tr><td>iterations_since_restore</td><td>▁▁▁▁▂▂▂▂▂▃▃▃▃▃▃▄▄▄▄▄▅▅▅▅▅▅▆▆▆▆▆▆▇▇▇▇▇███</td></tr><tr><td>loss</td><td>▂▁▁█▃▆█▇▂▅▁▂▄▁▄▇▄▄▂▄▂▁▆▂▁▄▄▃▂▂▂▅▃▂▃▆▃▅▃▂</td></tr><tr><td>time_since_restore</td><td>▁▁▁▁▂▂▂▂▂▃▃▃▃▃▃▄▄▄▄▄▅▅▅▅▅▅▆▆▆▆▆▆▇▇▇▇▇███</td></tr><tr><td>time_this_iter_s</td><td>█▁▁▁▁▁▁▁▁▁▁▁▁▁▁▁▁▁▁▁▁▁▁▁▁▁▁▁▁▁▁▁▁▁▁▁▁▁▁▁</td></tr><tr><td>time_total_s</td><td>▁▁▁▁▂▂▂▂▂▃▃▃▃▃▃▄▄▄▄▄▅▅▅▅▅▅▆▆▆▆▆▆▇▇▇▇▇███</td></tr><tr><td>timestamp</td><td>▁▁▁▁▂▂▂▂▂▃▃▃▃▃▃▄▄▄▄▄▅▅▅▅▅▅▆▆▆▆▆▆▇▇▇▇▇███</td></tr><tr><td>timesteps_since_restore</td><td>▁▁▁▁▁▁▁▁▁▁▁▁▁▁▁▁▁▁▁▁▁▁▁▁▁▁▁▁▁▁▁▁▁▁▁▁▁▁▁▁</td></tr><tr><td>training_iteration</td><td>▁▁▁▁▂▂▂▂▂▃▃▃▃▃▃▄▄▄▄▄▅▅▅▅▅▅▆▆▆▆▆▆▇▇▇▇▇███</td></tr><tr><td>warmup_time</td><td>▁▁▁▁▁▁▁▁▁▁▁▁▁▁▁▁▁▁▁▁▁▁▁▁▁▁▁▁▁▁▁▁▁▁▁▁▁▁▁▁</td></tr></table><br/></div><div class=\"wandb-col\"><h3>Run summary:</h3><br/><table class=\"wandb\"><tr><td>avg_loss</td><td>70.1765</td></tr><tr><td>iterations_since_restore</td><td>45</td></tr><tr><td>loss</td><td>41.14938</td></tr><tr><td>time_since_restore</td><td>367.38953</td></tr><tr><td>time_this_iter_s</td><td>8.21652</td></tr><tr><td>time_total_s</td><td>367.38953</td></tr><tr><td>timestamp</td><td>1660924619</td></tr><tr><td>timesteps_since_restore</td><td>0</td></tr><tr><td>training_iteration</td><td>45</td></tr><tr><td>warmup_time</td><td>0.00502</td></tr></table><br/></div></div>"
      ],
      "text/plain": [
       "<IPython.core.display.HTML object>"
      ]
     },
     "metadata": {},
     "output_type": "display_data"
    },
    {
     "data": {
      "text/html": [
       "Synced <strong style=\"color:#cdcd00\">TorchTrainer_5c2b750a</strong>: <a href=\"https://wandb.ai/l5-demo/l5-prediction-trials/runs/5c2b750a\" target=\"_blank\">https://wandb.ai/l5-demo/l5-prediction-trials/runs/5c2b750a</a><br/>Synced 7 W&B file(s), 0 media file(s), 14 artifact file(s) and 1 other file(s)"
      ],
      "text/plain": [
       "<IPython.core.display.HTML object>"
      ]
     },
     "metadata": {},
     "output_type": "display_data"
    },
    {
     "data": {
      "text/html": [
       "Find logs at: <code>./wandb/run-20220819_155049-5c2b750a/logs</code>"
      ],
      "text/plain": [
       "<IPython.core.display.HTML object>"
      ]
     },
     "metadata": {},
     "output_type": "display_data"
    },
    {
     "name": "stdout",
     "output_type": "stream",
     "text": [
      "Result for TorchTrainer_5c2b750a:\n",
      "  _time_this_iter_s: 7.601074934005737\n",
      "  _timestamp: 1660924618\n",
      "  _training_iteration: 45\n",
      "  avg_loss: 70.17650356292725\n",
      "  date: 2022-08-19_15-56-59\n",
      "  done: true\n",
      "  experiment_id: eae92d0a63fc4567a5392ff8a089dc67\n",
      "  experiment_tag: 3_batch_size=24.0000,format_version=4,future_num_frames=50,history_num_frames=0,model_architecture=resnet50,render_ego_history=True,step_time=0.1000,dataset_meta_key=meta_json,disable_traffic_light_faces=False,ego_center=0_25_0_5,filter_agents_threshold=0.5000,map_type=py_semantic,pixel_size=0_5_0_5,raster_size=224_224,satellite_map_key=aerial_map_aerial_map_png,semantic_map_key=semantic_map_semantic_map_pb,set_origin_to_bottom=True,batch_size=12,key=scenes_sample_zarr,num_workers=16,shuffle=True,checkpoint_every_n_steps=10000,eval_every_n_steps=10000,max_num_steps=5,batch_size=12,key=scenes_sample_zarr,num_workers=16,shuffle=False,dataset_key=scenes_sample_zarr,lr=0.0013,max_num_steps=45.0000,num_workers=16,shuffle=True\n",
      "  hostname: anish-l5-kit\n",
      "  iterations_since_restore: 45\n",
      "  loss: 41.149383544921875\n",
      "  node_ip: 10.150.0.3\n",
      "  pid: 16328\n",
      "  should_checkpoint: true\n",
      "  time_since_restore: 367.3895263671875\n",
      "  time_this_iter_s: 8.216518878936768\n",
      "  time_total_s: 367.3895263671875\n",
      "  timestamp: 1660924619\n",
      "  timesteps_since_restore: 0\n",
      "  training_iteration: 45\n",
      "  trial_id: 5c2b750a\n",
      "  warmup_time: 0.005020856857299805\n",
      "  \n"
     ]
    },
    {
     "name": "stderr",
     "output_type": "stream",
     "text": [
      "\u001b[2m\u001b[36m(RayTrainWorker pid=18437)\u001b[0m 2022-08-19 15:57:19,295\tINFO config.py:72 -- Setting up process group for: env:// [rank=0, world_size=3]\n",
      "\u001b[2m\u001b[36m(RayTrainWorker pid=18438)\u001b[0m /opt/conda/lib/python3.7/site-packages/torch/utils/data/dataloader.py:566: UserWarning: This DataLoader will create 16 worker processes in total. Our suggested max number of worker in current system is 4, which is smaller than what this DataLoader is going to create. Please be aware that excessive worker creation might get DataLoader running slow or even freeze, lower the worker number to avoid potential slowness/freeze if necessary.\n",
      "\u001b[2m\u001b[36m(RayTrainWorker pid=18438)\u001b[0m   cpuset_checked))\n",
      "\u001b[2m\u001b[36m(RayTrainWorker pid=18438)\u001b[0m /opt/conda/lib/python3.7/site-packages/torchvision/models/_utils.py:209: UserWarning: The parameter 'pretrained' is deprecated since 0.13 and will be removed in 0.15, please use 'weights' instead.\n",
      "\u001b[2m\u001b[36m(RayTrainWorker pid=18438)\u001b[0m   f\"The parameter '{pretrained_param}' is deprecated since 0.13 and will be removed in 0.15, \"\n",
      "\u001b[2m\u001b[36m(RayTrainWorker pid=18438)\u001b[0m /opt/conda/lib/python3.7/site-packages/torchvision/models/_utils.py:223: UserWarning: Arguments other than a weight enum or `None` for 'weights' are deprecated since 0.13 and will be removed in 0.15. The current behavior is equivalent to passing `weights=ResNet50_Weights.IMAGENET1K_V1`. You can also use `weights=ResNet50_Weights.DEFAULT` to get the most up-to-date weights.\n",
      "\u001b[2m\u001b[36m(RayTrainWorker pid=18438)\u001b[0m   warnings.warn(msg)\n",
      "\u001b[2m\u001b[36m(RayTrainWorker pid=18439)\u001b[0m /opt/conda/lib/python3.7/site-packages/torch/utils/data/dataloader.py:566: UserWarning: This DataLoader will create 16 worker processes in total. Our suggested max number of worker in current system is 4, which is smaller than what this DataLoader is going to create. Please be aware that excessive worker creation might get DataLoader running slow or even freeze, lower the worker number to avoid potential slowness/freeze if necessary.\n",
      "\u001b[2m\u001b[36m(RayTrainWorker pid=18439)\u001b[0m   cpuset_checked))\n",
      "\u001b[2m\u001b[36m(RayTrainWorker pid=18439)\u001b[0m /opt/conda/lib/python3.7/site-packages/torchvision/models/_utils.py:209: UserWarning: The parameter 'pretrained' is deprecated since 0.13 and will be removed in 0.15, please use 'weights' instead.\n",
      "\u001b[2m\u001b[36m(RayTrainWorker pid=18439)\u001b[0m   f\"The parameter '{pretrained_param}' is deprecated since 0.13 and will be removed in 0.15, \"\n",
      "\u001b[2m\u001b[36m(RayTrainWorker pid=18439)\u001b[0m /opt/conda/lib/python3.7/site-packages/torchvision/models/_utils.py:223: UserWarning: Arguments other than a weight enum or `None` for 'weights' are deprecated since 0.13 and will be removed in 0.15. The current behavior is equivalent to passing `weights=ResNet50_Weights.IMAGENET1K_V1`. You can also use `weights=ResNet50_Weights.DEFAULT` to get the most up-to-date weights.\n",
      "\u001b[2m\u001b[36m(RayTrainWorker pid=18439)\u001b[0m   warnings.warn(msg)\n",
      "\u001b[2m\u001b[36m(RayTrainWorker pid=18437)\u001b[0m /opt/conda/lib/python3.7/site-packages/torch/utils/data/dataloader.py:566: UserWarning: This DataLoader will create 16 worker processes in total. Our suggested max number of worker in current system is 4, which is smaller than what this DataLoader is going to create. Please be aware that excessive worker creation might get DataLoader running slow or even freeze, lower the worker number to avoid potential slowness/freeze if necessary.\n",
      "\u001b[2m\u001b[36m(RayTrainWorker pid=18437)\u001b[0m   cpuset_checked))\n",
      "\u001b[2m\u001b[36m(RayTrainWorker pid=18437)\u001b[0m /opt/conda/lib/python3.7/site-packages/torchvision/models/_utils.py:209: UserWarning: The parameter 'pretrained' is deprecated since 0.13 and will be removed in 0.15, please use 'weights' instead.\n",
      "\u001b[2m\u001b[36m(RayTrainWorker pid=18437)\u001b[0m   f\"The parameter '{pretrained_param}' is deprecated since 0.13 and will be removed in 0.15, \"\n",
      "\u001b[2m\u001b[36m(RayTrainWorker pid=18437)\u001b[0m /opt/conda/lib/python3.7/site-packages/torchvision/models/_utils.py:223: UserWarning: Arguments other than a weight enum or `None` for 'weights' are deprecated since 0.13 and will be removed in 0.15. The current behavior is equivalent to passing `weights=ResNet50_Weights.IMAGENET1K_V1`. You can also use `weights=ResNet50_Weights.DEFAULT` to get the most up-to-date weights.\n",
      "\u001b[2m\u001b[36m(RayTrainWorker pid=18437)\u001b[0m   warnings.warn(msg)\n",
      "\u001b[2m\u001b[36m(RayTrainWorker pid=18437)\u001b[0m 2022-08-19 15:57:28,762\tINFO train_loop_utils.py:300 -- Moving model to device: cpu\n",
      "\u001b[2m\u001b[36m(RayTrainWorker pid=18437)\u001b[0m 2022-08-19 15:57:28,764\tINFO train_loop_utils.py:347 -- Wrapping provided model in DDP.\n"
     ]
    },
    {
     "name": "stdout",
     "output_type": "stream",
     "text": [
      "\u001b[2m\u001b[36m(RayTrainWorker pid=18437)\u001b[0m {'loss': 0.05597818270325661, 'avg_loss': 0.05597818270325661}\n"
     ]
    },
    {
     "name": "stderr",
     "output_type": "stream",
     "text": [
      "\u001b[34m\u001b[1mwandb\u001b[0m: Adding directory to artifact (/home/jupyter/ray_results/TorchTrainer_2022-08-19_15-45-58/TorchTrainer_b210d294_4_batch_size=9.0000,format_version=4,future_num_frames=50,history_num_frames=0,model_architecture=resnet50,r_2022-08-19_15-57-10/checkpoint_000000)... "
     ]
    },
    {
     "name": "stdout",
     "output_type": "stream",
     "text": [
      "Result for TorchTrainer_b210d294:\n",
      "  _time_this_iter_s: 22.098339557647705\n",
      "  _timestamp: 1660924663\n",
      "  _training_iteration: 1\n",
      "  avg_loss: 0.05597818270325661\n",
      "  date: 2022-08-19_15-57-43\n",
      "  done: false\n",
      "  experiment_id: 7e0c73ca27d24576a80ec06b655889a1\n",
      "  hostname: anish-l5-kit\n",
      "  iterations_since_restore: 1\n",
      "  loss: 0.05597818270325661\n",
      "  node_ip: 10.150.0.3\n",
      "  pid: 18371\n",
      "  should_checkpoint: true\n",
      "  time_since_restore: 27.949078798294067\n",
      "  time_this_iter_s: 27.949078798294067\n",
      "  time_total_s: 27.949078798294067\n",
      "  timestamp: 1660924663\n",
      "  timesteps_since_restore: 0\n",
      "  training_iteration: 1\n",
      "  trial_id: b210d294\n",
      "  warmup_time: 0.004952669143676758\n",
      "  \n"
     ]
    },
    {
     "name": "stderr",
     "output_type": "stream",
     "text": [
      "Done. 1.0s\n"
     ]
    },
    {
     "name": "stdout",
     "output_type": "stream",
     "text": [
      "\u001b[2m\u001b[36m(RayTrainWorker pid=18437)\u001b[0m {'loss': 55.00377655029297, 'avg_loss': 27.529877366498113}\n",
      "Result for TorchTrainer_b210d294:\n",
      "  _time_this_iter_s: 3.160595417022705\n",
      "  _timestamp: 1660924670\n",
      "  _training_iteration: 3\n",
      "  avg_loss: 28.282128454496462\n",
      "  date: 2022-08-19_15-57-50\n",
      "  done: false\n",
      "  experiment_id: 7e0c73ca27d24576a80ec06b655889a1\n",
      "  hostname: anish-l5-kit\n",
      "  iterations_since_restore: 3\n",
      "  loss: 29.786630630493164\n",
      "  node_ip: 10.150.0.3\n",
      "  pid: 18371\n",
      "  time_since_restore: 34.59441375732422\n",
      "  time_this_iter_s: 3.054212808609009\n",
      "  time_total_s: 34.59441375732422\n",
      "  timestamp: 1660924670\n",
      "  timesteps_since_restore: 0\n",
      "  training_iteration: 3\n",
      "  trial_id: b210d294\n",
      "  warmup_time: 0.004952669143676758\n",
      "  \n",
      "\u001b[2m\u001b[36m(RayTrainWorker pid=18437)\u001b[0m {'loss': 29.786630630493164, 'avg_loss': 28.282128454496462}\n",
      "\u001b[2m\u001b[36m(RayTrainWorker pid=18437)\u001b[0m {'loss': 20.87142562866211, 'avg_loss': 26.429452748037875}\n",
      "Result for TorchTrainer_b210d294:\n",
      "  _time_this_iter_s: 3.0282301902770996\n",
      "  _timestamp: 1660924676\n",
      "  _training_iteration: 5\n",
      "  avg_loss: 25.60677898004651\n",
      "  date: 2022-08-19_15-57-56\n",
      "  done: false\n",
      "  experiment_id: 7e0c73ca27d24576a80ec06b655889a1\n",
      "  hostname: anish-l5-kit\n",
      "  iterations_since_restore: 5\n",
      "  loss: 22.316083908081055\n",
      "  node_ip: 10.150.0.3\n",
      "  pid: 18371\n",
      "  time_since_restore: 40.82346296310425\n",
      "  time_this_iter_s: 3.1047449111938477\n",
      "  time_total_s: 40.82346296310425\n",
      "  timestamp: 1660924676\n",
      "  timesteps_since_restore: 0\n",
      "  training_iteration: 5\n",
      "  trial_id: b210d294\n",
      "  warmup_time: 0.004952669143676758\n",
      "  \n",
      "\u001b[2m\u001b[36m(RayTrainWorker pid=18437)\u001b[0m {'loss': 22.316083908081055, 'avg_loss': 25.60677898004651}\n",
      "\u001b[2m\u001b[36m(RayTrainWorker pid=18437)\u001b[0m {'loss': 19.25171661376953, 'avg_loss': 24.547601919000346}\n",
      "Result for TorchTrainer_b210d294:\n",
      "  _time_this_iter_s: 3.4611289501190186\n",
      "  _timestamp: 1660924683\n",
      "  _training_iteration: 7\n",
      "  avg_loss: 29.499676483550243\n",
      "  date: 2022-08-19_15-58-03\n",
      "  done: false\n",
      "  experiment_id: 7e0c73ca27d24576a80ec06b655889a1\n",
      "  hostname: anish-l5-kit\n",
      "  iterations_since_restore: 7\n",
      "  loss: 59.21212387084961\n",
      "  node_ip: 10.150.0.3\n",
      "  pid: 18371\n",
      "  time_since_restore: 47.48831748962402\n",
      "  time_this_iter_s: 3.459876298904419\n",
      "  time_total_s: 47.48831748962402\n",
      "  timestamp: 1660924683\n",
      "  timesteps_since_restore: 0\n",
      "  training_iteration: 7\n",
      "  trial_id: b210d294\n",
      "  warmup_time: 0.004952669143676758\n",
      "  \n",
      "\u001b[2m\u001b[36m(RayTrainWorker pid=18437)\u001b[0m {'loss': 59.21212387084961, 'avg_loss': 29.499676483550243}\n",
      "\u001b[2m\u001b[36m(RayTrainWorker pid=18437)\u001b[0m {'loss': 20.149660110473633, 'avg_loss': 28.330924436915666}\n",
      "\u001b[2m\u001b[36m(RayTrainWorker pid=18437)\u001b[0m {'loss': 23.193696975708008, 'avg_loss': 27.76012138567037}\n"
     ]
    },
    {
     "name": "stderr",
     "output_type": "stream",
     "text": [
      "\u001b[34m\u001b[1mwandb\u001b[0m: Adding directory to artifact (/home/jupyter/ray_results/TorchTrainer_2022-08-19_15-45-58/TorchTrainer_b210d294_4_batch_size=9.0000,format_version=4,future_num_frames=50,history_num_frames=0,model_architecture=resnet50,r_2022-08-19_15-57-10/checkpoint_000001)... "
     ]
    },
    {
     "name": "stdout",
     "output_type": "stream",
     "text": [
      "Result for TorchTrainer_b210d294:\n",
      "  _time_this_iter_s: 3.2043275833129883\n",
      "  _timestamp: 1660924689\n",
      "  _training_iteration: 9\n",
      "  avg_loss: 27.76012138567037\n",
      "  date: 2022-08-19_15-58-09\n",
      "  done: false\n",
      "  experiment_id: 7e0c73ca27d24576a80ec06b655889a1\n",
      "  hostname: anish-l5-kit\n",
      "  iterations_since_restore: 9\n",
      "  loss: 23.193696975708008\n",
      "  node_ip: 10.150.0.3\n",
      "  pid: 18371\n",
      "  should_checkpoint: true\n",
      "  time_since_restore: 54.14268231391907\n",
      "  time_this_iter_s: 3.6067657470703125\n",
      "  time_total_s: 54.14268231391907\n",
      "  timestamp: 1660924689\n",
      "  timesteps_since_restore: 0\n",
      "  training_iteration: 9\n",
      "  trial_id: b210d294\n",
      "  warmup_time: 0.004952669143676758\n",
      "  \n"
     ]
    },
    {
     "name": "stderr",
     "output_type": "stream",
     "text": [
      "Done. 1.0s\n"
     ]
    },
    {
     "name": "stdout",
     "output_type": "stream",
     "text": [
      "\u001b[2m\u001b[36m(RayTrainWorker pid=18437)\u001b[0m {'loss': 241.56051635742188, 'avg_loss': 49.14016088284552}\n",
      "\u001b[2m\u001b[36m(RayTrainWorker pid=18437)\u001b[0m {'loss': 60.305362701416016, 'avg_loss': 50.15517922998829}\n",
      "Result for TorchTrainer_b210d294:\n",
      "  _time_this_iter_s: 3.008502244949341\n",
      "  _timestamp: 1660924696\n",
      "  _training_iteration: 11\n",
      "  avg_loss: 50.15517922998829\n",
      "  date: 2022-08-19_15-58-16\n",
      "  done: false\n",
      "  experiment_id: 7e0c73ca27d24576a80ec06b655889a1\n",
      "  hostname: anish-l5-kit\n",
      "  iterations_since_restore: 11\n",
      "  loss: 60.305362701416016\n",
      "  node_ip: 10.150.0.3\n",
      "  pid: 18371\n",
      "  time_since_restore: 60.565850496292114\n",
      "  time_this_iter_s: 2.964409828186035\n",
      "  time_total_s: 60.565850496292114\n",
      "  timestamp: 1660924696\n",
      "  timesteps_since_restore: 0\n",
      "  training_iteration: 11\n",
      "  trial_id: b210d294\n",
      "  warmup_time: 0.004952669143676758\n",
      "  \n",
      "\u001b[2m\u001b[36m(RayTrainWorker pid=18437)\u001b[0m {'loss': 66.62116241455078, 'avg_loss': 51.5273444953685}\n",
      "Result for TorchTrainer_b210d294:\n",
      "  _time_this_iter_s: 3.031351327896118\n",
      "  _timestamp: 1660924702\n",
      "  _training_iteration: 13\n",
      "  avg_loss: 58.725282623504214\n",
      "  date: 2022-08-19_15-58-22\n",
      "  done: false\n",
      "  experiment_id: 7e0c73ca27d24576a80ec06b655889a1\n",
      "  hostname: anish-l5-kit\n",
      "  iterations_since_restore: 13\n",
      "  loss: 145.1005401611328\n",
      "  node_ip: 10.150.0.3\n",
      "  pid: 18371\n",
      "  time_since_restore: 66.68080544471741\n",
      "  time_this_iter_s: 3.0310120582580566\n",
      "  time_total_s: 66.68080544471741\n",
      "  timestamp: 1660924702\n",
      "  timesteps_since_restore: 0\n",
      "  training_iteration: 13\n",
      "  trial_id: b210d294\n",
      "  warmup_time: 0.004952669143676758\n",
      "  \n",
      "\u001b[2m\u001b[36m(RayTrainWorker pid=18437)\u001b[0m {'loss': 145.1005401611328, 'avg_loss': 58.725282623504214}\n",
      "\u001b[2m\u001b[36m(RayTrainWorker pid=18437)\u001b[0m {'loss': 43.54944610595703, 'avg_loss': 57.641294300822274}\n",
      "\u001b[2m\u001b[36m(RayTrainWorker pid=18437)\u001b[0m {'loss': 3.2654869556427, 'avg_loss': 54.01624047781031}\n",
      "Result for TorchTrainer_b210d294:\n",
      "  _time_this_iter_s: 2.986496686935425\n",
      "  _timestamp: 1660924708\n",
      "  _training_iteration: 15\n",
      "  avg_loss: 54.01624047781031\n",
      "  date: 2022-08-19_15-58-28\n",
      "  done: false\n",
      "  experiment_id: 7e0c73ca27d24576a80ec06b655889a1\n",
      "  hostname: anish-l5-kit\n",
      "  iterations_since_restore: 15\n",
      "  loss: 3.2654869556427\n",
      "  node_ip: 10.150.0.3\n",
      "  pid: 18371\n",
      "  time_since_restore: 72.63376474380493\n",
      "  time_this_iter_s: 2.9862215518951416\n",
      "  time_total_s: 72.63376474380493\n",
      "  timestamp: 1660924708\n",
      "  timesteps_since_restore: 0\n",
      "  training_iteration: 15\n",
      "  trial_id: b210d294\n",
      "  warmup_time: 0.004952669143676758\n",
      "  \n"
     ]
    },
    {
     "name": "stderr",
     "output_type": "stream",
     "text": [
      "\u001b[2m\u001b[36m(RayTrainWorker pid=18438)\u001b[0m E0819 15:58:28.294645162   18495 chttp2_transport.cc:1103]   Received a GOAWAY with error code ENHANCE_YOUR_CALM and debug data equal to \"too_many_pings\"\n",
      "\u001b[2m\u001b[36m(RayTrainWorker pid=18437)\u001b[0m E0819 15:58:28.870993948   18526 chttp2_transport.cc:1103]   Received a GOAWAY with error code ENHANCE_YOUR_CALM and debug data equal to \"too_many_pings\"\n"
     ]
    },
    {
     "name": "stdout",
     "output_type": "stream",
     "text": [
      "\u001b[2m\u001b[36m(RayTrainWorker pid=18437)\u001b[0m {'loss': 272.6679382324219, 'avg_loss': 67.68197158747353}\n",
      "\u001b[2m\u001b[36m(RayTrainWorker pid=18437)\u001b[0m {'loss': 396.6945495605469, 'avg_loss': 87.03565264471314}\n"
     ]
    },
    {
     "name": "stderr",
     "output_type": "stream",
     "text": [
      "\u001b[34m\u001b[1mwandb\u001b[0m: Adding directory to artifact (/home/jupyter/ray_results/TorchTrainer_2022-08-19_15-45-58/TorchTrainer_b210d294_4_batch_size=9.0000,format_version=4,future_num_frames=50,history_num_frames=0,model_architecture=resnet50,r_2022-08-19_15-57-10/checkpoint_000002)... "
     ]
    },
    {
     "name": "stdout",
     "output_type": "stream",
     "text": [
      "Result for TorchTrainer_b210d294:\n",
      "  _time_this_iter_s: 3.3343183994293213\n",
      "  _timestamp: 1660924714\n",
      "  _training_iteration: 17\n",
      "  avg_loss: 87.03565264471314\n",
      "  date: 2022-08-19_15-58-34\n",
      "  done: false\n",
      "  experiment_id: 7e0c73ca27d24576a80ec06b655889a1\n",
      "  hostname: anish-l5-kit\n",
      "  iterations_since_restore: 17\n",
      "  loss: 396.6945495605469\n",
      "  node_ip: 10.150.0.3\n",
      "  pid: 18371\n",
      "  should_checkpoint: true\n",
      "  time_since_restore: 79.45311427116394\n",
      "  time_this_iter_s: 3.6386425495147705\n",
      "  time_total_s: 79.45311427116394\n",
      "  timestamp: 1660924714\n",
      "  timesteps_since_restore: 0\n",
      "  training_iteration: 17\n",
      "  trial_id: b210d294\n",
      "  warmup_time: 0.004952669143676758\n",
      "  \n"
     ]
    },
    {
     "name": "stderr",
     "output_type": "stream",
     "text": [
      "Done. 1.0s\n"
     ]
    },
    {
     "name": "stdout",
     "output_type": "stream",
     "text": [
      "\u001b[2m\u001b[36m(RayTrainWorker pid=18437)\u001b[0m {'loss': 44.2292594909668, 'avg_loss': 84.65751969172723}\n",
      "\u001b[2m\u001b[36m(RayTrainWorker pid=18437)\u001b[0m {'loss': 254.65872192382812, 'avg_loss': 93.6049513881536}\n",
      "Result for TorchTrainer_b210d294:\n",
      "  _time_this_iter_s: 3.1123738288879395\n",
      "  _timestamp: 1660924721\n",
      "  _training_iteration: 19\n",
      "  avg_loss: 93.6049513881536\n",
      "  date: 2022-08-19_15-58-41\n",
      "  done: false\n",
      "  experiment_id: 7e0c73ca27d24576a80ec06b655889a1\n",
      "  hostname: anish-l5-kit\n",
      "  iterations_since_restore: 19\n",
      "  loss: 254.65872192382812\n",
      "  node_ip: 10.150.0.3\n",
      "  pid: 18371\n",
      "  time_since_restore: 85.8903923034668\n",
      "  time_this_iter_s: 3.0883049964904785\n",
      "  time_total_s: 85.8903923034668\n",
      "  timestamp: 1660924721\n",
      "  timesteps_since_restore: 0\n",
      "  training_iteration: 19\n",
      "  trial_id: b210d294\n",
      "  warmup_time: 0.004952669143676758\n",
      "  \n",
      "\u001b[2m\u001b[36m(RayTrainWorker pid=18437)\u001b[0m {'loss': 110.3552474975586, 'avg_loss': 94.44246619362384}\n",
      "\u001b[2m\u001b[36m(RayTrainWorker pid=18437)\u001b[0m {'loss': 446.8946838378906, 'avg_loss': 111.22590512906511}\n",
      "Result for TorchTrainer_b210d294:\n",
      "  _time_this_iter_s: 2.9104702472686768\n",
      "  _timestamp: 1660924727\n",
      "  _training_iteration: 21\n",
      "  avg_loss: 111.22590512906511\n",
      "  date: 2022-08-19_15-58-47\n",
      "  done: false\n",
      "  experiment_id: 7e0c73ca27d24576a80ec06b655889a1\n",
      "  hostname: anish-l5-kit\n",
      "  iterations_since_restore: 21\n",
      "  loss: 446.8946838378906\n",
      "  node_ip: 10.150.0.3\n",
      "  pid: 18371\n",
      "  time_since_restore: 92.00171041488647\n",
      "  time_this_iter_s: 2.9859092235565186\n",
      "  time_total_s: 92.00171041488647\n",
      "  timestamp: 1660924727\n",
      "  timesteps_since_restore: 0\n",
      "  training_iteration: 21\n",
      "  trial_id: b210d294\n",
      "  warmup_time: 0.004952669143676758\n",
      "  \n",
      "\u001b[2m\u001b[36m(RayTrainWorker pid=18437)\u001b[0m {'loss': 17.62775230407715, 'avg_loss': 106.97144363702022}\n",
      "\u001b[2m\u001b[36m(RayTrainWorker pid=18437)\u001b[0m {'loss': 41.444313049316406, 'avg_loss': 104.12243795929396}\n",
      "Result for TorchTrainer_b210d294:\n",
      "  _time_this_iter_s: 2.9024240970611572\n",
      "  _timestamp: 1660924733\n",
      "  _training_iteration: 23\n",
      "  avg_loss: 104.12243795929396\n",
      "  date: 2022-08-19_15-58-53\n",
      "  done: false\n",
      "  experiment_id: 7e0c73ca27d24576a80ec06b655889a1\n",
      "  hostname: anish-l5-kit\n",
      "  iterations_since_restore: 23\n",
      "  loss: 41.444313049316406\n",
      "  node_ip: 10.150.0.3\n",
      "  pid: 18371\n",
      "  time_since_restore: 98.03964424133301\n",
      "  time_this_iter_s: 2.9485023021698\n",
      "  time_total_s: 98.03964424133301\n",
      "  timestamp: 1660924733\n",
      "  timesteps_since_restore: 0\n",
      "  training_iteration: 23\n",
      "  trial_id: b210d294\n",
      "  warmup_time: 0.004952669143676758\n",
      "  \n",
      "\u001b[2m\u001b[36m(RayTrainWorker pid=18437)\u001b[0m {'loss': 16.136991500854492, 'avg_loss': 100.45637769019231}\n",
      "\u001b[2m\u001b[36m(RayTrainWorker pid=18437)\u001b[0m {'loss': 16.490636825561523, 'avg_loss': 97.09774805560708}\n"
     ]
    },
    {
     "name": "stderr",
     "output_type": "stream",
     "text": [
      "\u001b[34m\u001b[1mwandb\u001b[0m: Adding directory to artifact (/home/jupyter/ray_results/TorchTrainer_2022-08-19_15-45-58/TorchTrainer_b210d294_4_batch_size=9.0000,format_version=4,future_num_frames=50,history_num_frames=0,model_architecture=resnet50,r_2022-08-19_15-57-10/checkpoint_000003)... "
     ]
    },
    {
     "name": "stdout",
     "output_type": "stream",
     "text": [
      "Result for TorchTrainer_b210d294:\n",
      "  _time_this_iter_s: 3.2591047286987305\n",
      "  _timestamp: 1660924739\n",
      "  _training_iteration: 25\n",
      "  avg_loss: 97.09774805560708\n",
      "  date: 2022-08-19_15-59-00\n",
      "  done: false\n",
      "  experiment_id: 7e0c73ca27d24576a80ec06b655889a1\n",
      "  hostname: anish-l5-kit\n",
      "  iterations_since_restore: 25\n",
      "  loss: 16.490636825561523\n",
      "  node_ip: 10.150.0.3\n",
      "  pid: 18371\n",
      "  should_checkpoint: true\n",
      "  time_since_restore: 104.6502296924591\n",
      "  time_this_iter_s: 3.6366961002349854\n",
      "  time_total_s: 104.6502296924591\n",
      "  timestamp: 1660924740\n",
      "  timesteps_since_restore: 0\n",
      "  training_iteration: 25\n",
      "  trial_id: b210d294\n",
      "  warmup_time: 0.004952669143676758\n",
      "  \n"
     ]
    },
    {
     "name": "stderr",
     "output_type": "stream",
     "text": [
      "Done. 1.1s\n"
     ]
    },
    {
     "name": "stdout",
     "output_type": "stream",
     "text": [
      "\u001b[2m\u001b[36m(RayTrainWorker pid=18437)\u001b[0m {'loss': 13.709905624389648, 'avg_loss': 93.8905233467141}\n",
      "\u001b[2m\u001b[36m(RayTrainWorker pid=18437)\u001b[0m {'loss': 11.674281120300293, 'avg_loss': 90.84547733832841}\n",
      "Result for TorchTrainer_b210d294:\n",
      "  _time_this_iter_s: 3.0245563983917236\n",
      "  _timestamp: 1660924746\n",
      "  _training_iteration: 27\n",
      "  avg_loss: 90.84547733832841\n",
      "  date: 2022-08-19_15-59-07\n",
      "  done: false\n",
      "  experiment_id: 7e0c73ca27d24576a80ec06b655889a1\n",
      "  hostname: anish-l5-kit\n",
      "  iterations_since_restore: 27\n",
      "  loss: 11.674281120300293\n",
      "  node_ip: 10.150.0.3\n",
      "  pid: 18371\n",
      "  time_since_restore: 111.48789548873901\n",
      "  time_this_iter_s: 3.007246494293213\n",
      "  time_total_s: 111.48789548873901\n",
      "  timestamp: 1660924747\n",
      "  timesteps_since_restore: 0\n",
      "  training_iteration: 27\n",
      "  trial_id: b210d294\n",
      "  warmup_time: 0.004952669143676758\n",
      "  \n",
      "\u001b[2m\u001b[36m(RayTrainWorker pid=18437)\u001b[0m {'loss': 282.9053955078125, 'avg_loss': 97.70476013009569}\n",
      "Result for TorchTrainer_b210d294:\n",
      "  _time_this_iter_s: 3.0371286869049072\n",
      "  _timestamp: 1660924753\n",
      "  _training_iteration: 29\n",
      "  avg_loss: 99.39534126902963\n",
      "  date: 2022-08-19_15-59-13\n",
      "  done: false\n",
      "  experiment_id: 7e0c73ca27d24576a80ec06b655889a1\n",
      "  hostname: anish-l5-kit\n",
      "  iterations_since_restore: 29\n",
      "  loss: 146.7316131591797\n",
      "  node_ip: 10.150.0.3\n",
      "  pid: 18371\n",
      "  time_since_restore: 117.55120182037354\n",
      "  time_this_iter_s: 3.0436038970947266\n",
      "  time_total_s: 117.55120182037354\n",
      "  timestamp: 1660924753\n",
      "  timesteps_since_restore: 0\n",
      "  training_iteration: 29\n",
      "  trial_id: b210d294\n",
      "  warmup_time: 0.004952669143676758\n",
      "  \n",
      "\u001b[2m\u001b[36m(RayTrainWorker pid=18437)\u001b[0m {'loss': 146.7316131591797, 'avg_loss': 99.39534126902963}\n",
      "\u001b[2m\u001b[36m(RayTrainWorker pid=18437)\u001b[0m {'loss': 34.37363052368164, 'avg_loss': 97.22795091085136}\n",
      "Result for TorchTrainer_b210d294:\n",
      "  _time_this_iter_s: 3.008702278137207\n",
      "  _timestamp: 1660924759\n",
      "  _training_iteration: 31\n",
      "  avg_loss: 95.4011993294041\n",
      "  date: 2022-08-19_15-59-19\n",
      "  done: false\n",
      "  experiment_id: 7e0c73ca27d24576a80ec06b655889a1\n",
      "  hostname: anish-l5-kit\n",
      "  iterations_since_restore: 31\n",
      "  loss: 40.59865188598633\n",
      "  node_ip: 10.150.0.3\n",
      "  pid: 18371\n",
      "  time_since_restore: 123.63287234306335\n",
      "  time_this_iter_s: 3.0189154148101807\n",
      "  time_total_s: 123.63287234306335\n",
      "  timestamp: 1660924759\n",
      "  timesteps_since_restore: 0\n",
      "  training_iteration: 31\n",
      "  trial_id: b210d294\n",
      "  warmup_time: 0.004952669143676758\n",
      "  \n",
      "\u001b[2m\u001b[36m(RayTrainWorker pid=18437)\u001b[0m {'loss': 40.59865188598633, 'avg_loss': 95.4011993294041}\n",
      "\u001b[2m\u001b[36m(RayTrainWorker pid=18437)\u001b[0m {'loss': 3.7825686931610107, 'avg_loss': 92.5381171220215}\n",
      "\u001b[2m\u001b[36m(RayTrainWorker pid=18437)\u001b[0m {'loss': 54.12888717651367, 'avg_loss': 91.37420106306672}\n"
     ]
    },
    {
     "name": "stderr",
     "output_type": "stream",
     "text": [
      "\u001b[34m\u001b[1mwandb\u001b[0m: Adding directory to artifact (/home/jupyter/ray_results/TorchTrainer_2022-08-19_15-45-58/TorchTrainer_b210d294_4_batch_size=9.0000,format_version=4,future_num_frames=50,history_num_frames=0,model_architecture=resnet50,r_2022-08-19_15-57-10/checkpoint_000004)... "
     ]
    },
    {
     "name": "stdout",
     "output_type": "stream",
     "text": [
      "Result for TorchTrainer_b210d294:\n",
      "  _time_this_iter_s: 3.2090699672698975\n",
      "  _timestamp: 1660924765\n",
      "  _training_iteration: 33\n",
      "  avg_loss: 91.37420106306672\n",
      "  date: 2022-08-19_15-59-25\n",
      "  done: false\n",
      "  experiment_id: 7e0c73ca27d24576a80ec06b655889a1\n",
      "  hostname: anish-l5-kit\n",
      "  iterations_since_restore: 33\n",
      "  loss: 54.12888717651367\n",
      "  node_ip: 10.150.0.3\n",
      "  pid: 18371\n",
      "  should_checkpoint: true\n",
      "  time_since_restore: 130.25680255889893\n",
      "  time_this_iter_s: 3.603100299835205\n",
      "  time_total_s: 130.25680255889893\n",
      "  timestamp: 1660924765\n",
      "  timesteps_since_restore: 0\n",
      "  training_iteration: 33\n",
      "  trial_id: b210d294\n",
      "  warmup_time: 0.004952669143676758\n",
      "  \n"
     ]
    },
    {
     "name": "stderr",
     "output_type": "stream",
     "text": [
      "Done. 1.1s\n"
     ]
    },
    {
     "name": "stdout",
     "output_type": "stream",
     "text": [
      "\u001b[2m\u001b[36m(RayTrainWorker pid=18437)\u001b[0m {'loss': 18.94083595275879, 'avg_loss': 89.24380797158707}\n",
      "\u001b[2m\u001b[36m(RayTrainWorker pid=18437)\u001b[0m {'loss': 75.70962524414062, 'avg_loss': 88.85711703651718}\n",
      "Result for TorchTrainer_b210d294:\n",
      "  _time_this_iter_s: 2.897050142288208\n",
      "  _timestamp: 1660924772\n",
      "  _training_iteration: 35\n",
      "  avg_loss: 88.85711703651718\n",
      "  date: 2022-08-19_15-59-32\n",
      "  done: false\n",
      "  experiment_id: 7e0c73ca27d24576a80ec06b655889a1\n",
      "  hostname: anish-l5-kit\n",
      "  iterations_since_restore: 35\n",
      "  loss: 75.70962524414062\n",
      "  node_ip: 10.150.0.3\n",
      "  pid: 18371\n",
      "  time_since_restore: 136.59838557243347\n",
      "  time_this_iter_s: 2.977599620819092\n",
      "  time_total_s: 136.59838557243347\n",
      "  timestamp: 1660924772\n",
      "  timesteps_since_restore: 0\n",
      "  training_iteration: 35\n",
      "  trial_id: b210d294\n",
      "  warmup_time: 0.004952669143676758\n",
      "  \n",
      "\u001b[2m\u001b[36m(RayTrainWorker pid=18437)\u001b[0m {'loss': 296.2373962402344, 'avg_loss': 94.61768034773155}\n",
      "Result for TorchTrainer_b210d294:\n",
      "  _time_this_iter_s: 3.0586187839508057\n",
      "  _timestamp: 1660924778\n",
      "  _training_iteration: 37\n",
      "  avg_loss: 93.8673076211802\n",
      "  date: 2022-08-19_15-59-38\n",
      "  done: false\n",
      "  experiment_id: 7e0c73ca27d24576a80ec06b655889a1\n",
      "  hostname: anish-l5-kit\n",
      "  iterations_since_restore: 37\n",
      "  loss: 66.85388946533203\n",
      "  node_ip: 10.150.0.3\n",
      "  pid: 18371\n",
      "  time_since_restore: 142.7663106918335\n",
      "  time_this_iter_s: 3.04872465133667\n",
      "  time_total_s: 142.7663106918335\n",
      "  timestamp: 1660924778\n",
      "  timesteps_since_restore: 0\n",
      "  training_iteration: 37\n",
      "  trial_id: b210d294\n",
      "  warmup_time: 0.004952669143676758\n",
      "  \n",
      "\u001b[2m\u001b[36m(RayTrainWorker pid=18437)\u001b[0m {'loss': 66.85388946533203, 'avg_loss': 93.8673076211802}\n",
      "\u001b[2m\u001b[36m(RayTrainWorker pid=18437)\u001b[0m {'loss': 101.55187225341797, 'avg_loss': 94.0695330062391}\n",
      "Result for TorchTrainer_b210d294:\n",
      "  _time_this_iter_s: 3.114518165588379\n",
      "  _timestamp: 1660924784\n",
      "  _training_iteration: 39\n",
      "  avg_loss: 92.62870476499964\n",
      "  date: 2022-08-19_15-59-44\n",
      "  done: false\n",
      "  experiment_id: 7e0c73ca27d24576a80ec06b655889a1\n",
      "  hostname: anish-l5-kit\n",
      "  iterations_since_restore: 39\n",
      "  loss: 37.87723159790039\n",
      "  node_ip: 10.150.0.3\n",
      "  pid: 18371\n",
      "  time_since_restore: 148.86934900283813\n",
      "  time_this_iter_s: 3.1146256923675537\n",
      "  time_total_s: 148.86934900283813\n",
      "  timestamp: 1660924784\n",
      "  timesteps_since_restore: 0\n",
      "  training_iteration: 39\n",
      "  trial_id: b210d294\n",
      "  warmup_time: 0.004952669143676758\n",
      "  \n",
      "\u001b[2m\u001b[36m(RayTrainWorker pid=18437)\u001b[0m {'loss': 37.87723159790039, 'avg_loss': 92.62870476499964}\n",
      "\u001b[2m\u001b[36m(RayTrainWorker pid=18437)\u001b[0m {'loss': 94.94113159179688, 'avg_loss': 92.68651543566958}\n"
     ]
    },
    {
     "name": "stderr",
     "output_type": "stream",
     "text": [
      "\u001b[34m\u001b[1mwandb\u001b[0m: Adding directory to artifact (/home/jupyter/ray_results/TorchTrainer_2022-08-19_15-45-58/TorchTrainer_b210d294_4_batch_size=9.0000,format_version=4,future_num_frames=50,history_num_frames=0,model_architecture=resnet50,r_2022-08-19_15-57-10/checkpoint_000005)... Done. 1.1s\n",
      "\u001b[34m\u001b[1mwandb\u001b[0m: Adding directory to artifact (/home/jupyter/ray_results/TorchTrainer_2022-08-19_15-45-58/TorchTrainer_b210d294_4_batch_size=9.0000,format_version=4,future_num_frames=50,history_num_frames=0,model_architecture=resnet50,r_2022-08-19_15-57-10/checkpoint_000005)... Done. 0.2s\n"
     ]
    },
    {
     "data": {
      "text/html": [
       "Waiting for W&B process to finish... <strong style=\"color:green\">(success).</strong>"
      ],
      "text/plain": [
       "<IPython.core.display.HTML object>"
      ]
     },
     "metadata": {},
     "output_type": "display_data"
    },
    {
     "data": {
      "application/vnd.jupyter.widget-view+json": {
       "model_id": "3016904952f54d54a73a1497a31653bc",
       "version_major": 2,
       "version_minor": 0
      },
      "text/plain": [
       "VBox(children=(Label(value='544.878 MB of 544.878 MB uploaded (90.796 MB deduped)\\r'), FloatProgress(value=1.0…"
      ]
     },
     "metadata": {},
     "output_type": "display_data"
    },
    {
     "data": {
      "text/html": [
       "W&B sync reduced upload amount by 16.7%             "
      ],
      "text/plain": [
       "<IPython.core.display.HTML object>"
      ]
     },
     "metadata": {},
     "output_type": "display_data"
    },
    {
     "data": {
      "text/html": [
       "<style>\n",
       "    table.wandb td:nth-child(1) { padding: 0 10px; text-align: left ; width: auto;} td:nth-child(2) {text-align: left ; width: 100%}\n",
       "    .wandb-row { display: flex; flex-direction: row; flex-wrap: wrap; justify-content: flex-start; width: 100% }\n",
       "    .wandb-col { display: flex; flex-direction: column; flex-basis: 100%; flex: 1; padding: 10px; }\n",
       "    </style>\n",
       "<div class=\"wandb-row\"><div class=\"wandb-col\"><h3>Run history:</h3><br/><table class=\"wandb\"><tr><td>avg_loss</td><td>▁▃▃▃▃▃▃▃▃▄▄▄▅▅▄▅▆▆▇▇███▇▇▇▇▇▇▇▇▇▇▇▇▇▇▇▇▇</td></tr><tr><td>iterations_since_restore</td><td>▁▁▁▂▂▂▂▂▂▃▃▃▃▃▄▄▄▄▄▄▅▅▅▅▅▅▆▆▆▆▆▇▇▇▇▇▇███</td></tr><tr><td>loss</td><td>▁▂▁▁▁▁▂▁▁▅▂▂▃▂▁▅▇▂▅▃█▁▂▁▁▁▁▅▃▂▂▁▂▁▂▆▂▃▂▂</td></tr><tr><td>time_since_restore</td><td>▁▁▁▂▂▂▂▂▂▃▃▃▃▃▄▄▄▄▄▄▅▅▅▅▅▆▆▆▆▆▆▇▇▇▇▇▇███</td></tr><tr><td>time_this_iter_s</td><td>█▁▁▁▁▁▁▁▁▁▁▁▁▁▁▁▁▁▁▁▁▁▁▁▁▁▁▁▁▁▁▁▁▁▁▁▁▁▁▁</td></tr><tr><td>time_total_s</td><td>▁▁▁▂▂▂▂▂▂▃▃▃▃▃▄▄▄▄▄▄▅▅▅▅▅▆▆▆▆▆▆▇▇▇▇▇▇███</td></tr><tr><td>timestamp</td><td>▁▁▁▂▂▂▂▂▂▃▃▃▃▃▄▄▄▄▄▄▅▅▅▅▅▆▆▆▆▆▆▇▇▇▇▇▇███</td></tr><tr><td>timesteps_since_restore</td><td>▁▁▁▁▁▁▁▁▁▁▁▁▁▁▁▁▁▁▁▁▁▁▁▁▁▁▁▁▁▁▁▁▁▁▁▁▁▁▁▁</td></tr><tr><td>training_iteration</td><td>▁▁▁▂▂▂▂▂▂▃▃▃▃▃▄▄▄▄▄▄▅▅▅▅▅▅▆▆▆▆▆▇▇▇▇▇▇███</td></tr><tr><td>warmup_time</td><td>▁▁▁▁▁▁▁▁▁▁▁▁▁▁▁▁▁▁▁▁▁▁▁▁▁▁▁▁▁▁▁▁▁▁▁▁▁▁▁▁</td></tr></table><br/></div><div class=\"wandb-col\"><h3>Run summary:</h3><br/><table class=\"wandb\"><tr><td>avg_loss</td><td>92.68652</td></tr><tr><td>iterations_since_restore</td><td>40</td></tr><tr><td>loss</td><td>94.94113</td></tr><tr><td>time_since_restore</td><td>152.46501</td></tr><tr><td>time_this_iter_s</td><td>3.59566</td></tr><tr><td>time_total_s</td><td>152.46501</td></tr><tr><td>timestamp</td><td>1660924788</td></tr><tr><td>timesteps_since_restore</td><td>0</td></tr><tr><td>training_iteration</td><td>40</td></tr><tr><td>warmup_time</td><td>0.00495</td></tr></table><br/></div></div>"
      ],
      "text/plain": [
       "<IPython.core.display.HTML object>"
      ]
     },
     "metadata": {},
     "output_type": "display_data"
    },
    {
     "data": {
      "text/html": [
       "Synced <strong style=\"color:#cdcd00\">TorchTrainer_b210d294</strong>: <a href=\"https://wandb.ai/l5-demo/l5-prediction-trials/runs/b210d294\" target=\"_blank\">https://wandb.ai/l5-demo/l5-prediction-trials/runs/b210d294</a><br/>Synced 7 W&B file(s), 0 media file(s), 14 artifact file(s) and 1 other file(s)"
      ],
      "text/plain": [
       "<IPython.core.display.HTML object>"
      ]
     },
     "metadata": {},
     "output_type": "display_data"
    },
    {
     "data": {
      "text/html": [
       "Find logs at: <code>./wandb/run-20220819_155710-b210d294/logs</code>"
      ],
      "text/plain": [
       "<IPython.core.display.HTML object>"
      ]
     },
     "metadata": {},
     "output_type": "display_data"
    },
    {
     "name": "stdout",
     "output_type": "stream",
     "text": [
      "Result for TorchTrainer_b210d294:\n",
      "  _time_this_iter_s: 3.1542234420776367\n",
      "  _timestamp: 1660924787\n",
      "  _training_iteration: 40\n",
      "  avg_loss: 92.68651543566958\n",
      "  date: 2022-08-19_15-59-48\n",
      "  done: true\n",
      "  experiment_id: 7e0c73ca27d24576a80ec06b655889a1\n",
      "  experiment_tag: 4_batch_size=9.0000,format_version=4,future_num_frames=50,history_num_frames=0,model_architecture=resnet50,render_ego_history=True,step_time=0.1000,dataset_meta_key=meta_json,disable_traffic_light_faces=False,ego_center=0_25_0_5,filter_agents_threshold=0.5000,map_type=py_semantic,pixel_size=0_5_0_5,raster_size=224_224,satellite_map_key=aerial_map_aerial_map_png,semantic_map_key=semantic_map_semantic_map_pb,set_origin_to_bottom=True,batch_size=12,key=scenes_sample_zarr,num_workers=16,shuffle=True,checkpoint_every_n_steps=10000,eval_every_n_steps=10000,max_num_steps=5,batch_size=12,key=scenes_sample_zarr,num_workers=16,shuffle=False,dataset_key=scenes_sample_zarr,lr=0.0049,max_num_steps=40.0000,num_workers=16,shuffle=True\n",
      "  hostname: anish-l5-kit\n",
      "  iterations_since_restore: 40\n",
      "  loss: 94.94113159179688\n",
      "  node_ip: 10.150.0.3\n",
      "  pid: 18371\n",
      "  should_checkpoint: true\n",
      "  time_since_restore: 152.46500849723816\n",
      "  time_this_iter_s: 3.5956594944000244\n",
      "  time_total_s: 152.46500849723816\n",
      "  timestamp: 1660924788\n",
      "  timesteps_since_restore: 0\n",
      "  training_iteration: 40\n",
      "  trial_id: b210d294\n",
      "  warmup_time: 0.004952669143676758\n",
      "  \n"
     ]
    },
    {
     "name": "stderr",
     "output_type": "stream",
     "text": [
      "\u001b[2m\u001b[36m(RayTrainWorker pid=19586)\u001b[0m 2022-08-19 16:00:05,558\tINFO config.py:72 -- Setting up process group for: env:// [rank=0, world_size=3]\n",
      "\u001b[2m\u001b[36m(RayTrainWorker pid=19586)\u001b[0m /opt/conda/lib/python3.7/site-packages/torch/utils/data/dataloader.py:566: UserWarning: This DataLoader will create 16 worker processes in total. Our suggested max number of worker in current system is 4, which is smaller than what this DataLoader is going to create. Please be aware that excessive worker creation might get DataLoader running slow or even freeze, lower the worker number to avoid potential slowness/freeze if necessary.\n",
      "\u001b[2m\u001b[36m(RayTrainWorker pid=19586)\u001b[0m   cpuset_checked))\n",
      "\u001b[2m\u001b[36m(RayTrainWorker pid=19586)\u001b[0m /opt/conda/lib/python3.7/site-packages/torchvision/models/_utils.py:209: UserWarning: The parameter 'pretrained' is deprecated since 0.13 and will be removed in 0.15, please use 'weights' instead.\n",
      "\u001b[2m\u001b[36m(RayTrainWorker pid=19586)\u001b[0m   f\"The parameter '{pretrained_param}' is deprecated since 0.13 and will be removed in 0.15, \"\n",
      "\u001b[2m\u001b[36m(RayTrainWorker pid=19586)\u001b[0m /opt/conda/lib/python3.7/site-packages/torchvision/models/_utils.py:223: UserWarning: Arguments other than a weight enum or `None` for 'weights' are deprecated since 0.13 and will be removed in 0.15. The current behavior is equivalent to passing `weights=ResNet50_Weights.IMAGENET1K_V1`. You can also use `weights=ResNet50_Weights.DEFAULT` to get the most up-to-date weights.\n",
      "\u001b[2m\u001b[36m(RayTrainWorker pid=19586)\u001b[0m   warnings.warn(msg)\n",
      "\u001b[2m\u001b[36m(RayTrainWorker pid=19586)\u001b[0m 2022-08-19 16:00:12,965\tINFO train_loop_utils.py:300 -- Moving model to device: cpu\n",
      "\u001b[2m\u001b[36m(RayTrainWorker pid=19586)\u001b[0m 2022-08-19 16:00:12,967\tINFO train_loop_utils.py:347 -- Wrapping provided model in DDP.\n",
      "\u001b[2m\u001b[36m(RayTrainWorker pid=19587)\u001b[0m /opt/conda/lib/python3.7/site-packages/torch/utils/data/dataloader.py:566: UserWarning: This DataLoader will create 16 worker processes in total. Our suggested max number of worker in current system is 4, which is smaller than what this DataLoader is going to create. Please be aware that excessive worker creation might get DataLoader running slow or even freeze, lower the worker number to avoid potential slowness/freeze if necessary.\n",
      "\u001b[2m\u001b[36m(RayTrainWorker pid=19587)\u001b[0m   cpuset_checked))\n",
      "\u001b[2m\u001b[36m(RayTrainWorker pid=19587)\u001b[0m /opt/conda/lib/python3.7/site-packages/torchvision/models/_utils.py:209: UserWarning: The parameter 'pretrained' is deprecated since 0.13 and will be removed in 0.15, please use 'weights' instead.\n",
      "\u001b[2m\u001b[36m(RayTrainWorker pid=19587)\u001b[0m   f\"The parameter '{pretrained_param}' is deprecated since 0.13 and will be removed in 0.15, \"\n",
      "\u001b[2m\u001b[36m(RayTrainWorker pid=19587)\u001b[0m /opt/conda/lib/python3.7/site-packages/torchvision/models/_utils.py:223: UserWarning: Arguments other than a weight enum or `None` for 'weights' are deprecated since 0.13 and will be removed in 0.15. The current behavior is equivalent to passing `weights=ResNet50_Weights.IMAGENET1K_V1`. You can also use `weights=ResNet50_Weights.DEFAULT` to get the most up-to-date weights.\n",
      "\u001b[2m\u001b[36m(RayTrainWorker pid=19587)\u001b[0m   warnings.warn(msg)\n",
      "\u001b[2m\u001b[36m(RayTrainWorker pid=19588)\u001b[0m /opt/conda/lib/python3.7/site-packages/torch/utils/data/dataloader.py:566: UserWarning: This DataLoader will create 16 worker processes in total. Our suggested max number of worker in current system is 4, which is smaller than what this DataLoader is going to create. Please be aware that excessive worker creation might get DataLoader running slow or even freeze, lower the worker number to avoid potential slowness/freeze if necessary.\n",
      "\u001b[2m\u001b[36m(RayTrainWorker pid=19588)\u001b[0m   cpuset_checked))\n",
      "\u001b[2m\u001b[36m(RayTrainWorker pid=19588)\u001b[0m /opt/conda/lib/python3.7/site-packages/torchvision/models/_utils.py:209: UserWarning: The parameter 'pretrained' is deprecated since 0.13 and will be removed in 0.15, please use 'weights' instead.\n",
      "\u001b[2m\u001b[36m(RayTrainWorker pid=19588)\u001b[0m   f\"The parameter '{pretrained_param}' is deprecated since 0.13 and will be removed in 0.15, \"\n",
      "\u001b[2m\u001b[36m(RayTrainWorker pid=19588)\u001b[0m /opt/conda/lib/python3.7/site-packages/torchvision/models/_utils.py:223: UserWarning: Arguments other than a weight enum or `None` for 'weights' are deprecated since 0.13 and will be removed in 0.15. The current behavior is equivalent to passing `weights=ResNet50_Weights.IMAGENET1K_V1`. You can also use `weights=ResNet50_Weights.DEFAULT` to get the most up-to-date weights.\n",
      "\u001b[2m\u001b[36m(RayTrainWorker pid=19588)\u001b[0m   warnings.warn(msg)\n"
     ]
    },
    {
     "name": "stdout",
     "output_type": "stream",
     "text": [
      "\u001b[2m\u001b[36m(RayTrainWorker pid=19586)\u001b[0m {'loss': 0.1509147733449936, 'avg_loss': 0.1509147733449936}\n"
     ]
    },
    {
     "name": "stderr",
     "output_type": "stream",
     "text": [
      "\u001b[34m\u001b[1mwandb\u001b[0m: Adding directory to artifact (/home/jupyter/ray_results/TorchTrainer_2022-08-19_15-45-58/TorchTrainer_95b103b6_5_batch_size=15.0000,format_version=4,future_num_frames=50,history_num_frames=0,model_architecture=resnet50,_2022-08-19_15-59-57/checkpoint_000000)... "
     ]
    },
    {
     "name": "stdout",
     "output_type": "stream",
     "text": [
      "Result for TorchTrainer_95b103b6:\n",
      "  _time_this_iter_s: 27.314635753631592\n",
      "  _timestamp: 1660924834\n",
      "  _training_iteration: 1\n",
      "  avg_loss: 0.1509147733449936\n",
      "  date: 2022-08-19_16-00-34\n",
      "  done: false\n",
      "  experiment_id: 90c2da4dc9894fb096d39c57feec1b5e\n",
      "  hostname: anish-l5-kit\n",
      "  iterations_since_restore: 1\n",
      "  loss: 0.1509147733449936\n",
      "  node_ip: 10.150.0.3\n",
      "  pid: 19519\n",
      "  should_checkpoint: true\n",
      "  time_since_restore: 33.83841395378113\n",
      "  time_this_iter_s: 33.83841395378113\n",
      "  time_total_s: 33.83841395378113\n",
      "  timestamp: 1660924834\n",
      "  timesteps_since_restore: 0\n",
      "  training_iteration: 1\n",
      "  trial_id: 95b103b6\n",
      "  warmup_time: 0.0052759647369384766\n",
      "  \n"
     ]
    },
    {
     "name": "stderr",
     "output_type": "stream",
     "text": [
      "Done. 1.0s\n"
     ]
    },
    {
     "name": "stdout",
     "output_type": "stream",
     "text": [
      "\u001b[2m\u001b[36m(RayTrainWorker pid=19586)\u001b[0m {'loss': 35.1248664855957, 'avg_loss': 17.63789062947035}\n",
      "Result for TorchTrainer_95b103b6:\n",
      "  _time_this_iter_s: 5.694731950759888\n",
      "  _timestamp: 1660924840\n",
      "  _training_iteration: 2\n",
      "  avg_loss: 17.63789062947035\n",
      "  date: 2022-08-19_16-00-40\n",
      "  done: false\n",
      "  experiment_id: 90c2da4dc9894fb096d39c57feec1b5e\n",
      "  hostname: anish-l5-kit\n",
      "  iterations_since_restore: 2\n",
      "  loss: 35.1248664855957\n",
      "  node_ip: 10.150.0.3\n",
      "  pid: 19519\n",
      "  time_since_restore: 39.16262364387512\n",
      "  time_this_iter_s: 5.324209690093994\n",
      "  time_total_s: 39.16262364387512\n",
      "  timestamp: 1660924840\n",
      "  timesteps_since_restore: 0\n",
      "  training_iteration: 2\n",
      "  trial_id: 95b103b6\n",
      "  warmup_time: 0.0052759647369384766\n",
      "  \n",
      "\u001b[2m\u001b[36m(RayTrainWorker pid=19586)\u001b[0m {'loss': 6.746425151824951, 'avg_loss': 14.007402136921883}\n",
      "Result for TorchTrainer_95b103b6:\n",
      "  _time_this_iter_s: 4.809437990188599\n",
      "  _timestamp: 1660924849\n",
      "  _training_iteration: 4\n",
      "  avg_loss: 14.949169423431158\n",
      "  date: 2022-08-19_16-00-49\n",
      "  done: false\n",
      "  experiment_id: 90c2da4dc9894fb096d39c57feec1b5e\n",
      "  hostname: anish-l5-kit\n",
      "  iterations_since_restore: 4\n",
      "  loss: 17.774471282958984\n",
      "  node_ip: 10.150.0.3\n",
      "  pid: 19519\n",
      "  time_since_restore: 48.83971285820007\n",
      "  time_this_iter_s: 4.8139262199401855\n",
      "  time_total_s: 48.83971285820007\n",
      "  timestamp: 1660924849\n",
      "  timesteps_since_restore: 0\n",
      "  training_iteration: 4\n",
      "  trial_id: 95b103b6\n",
      "  warmup_time: 0.0052759647369384766\n",
      "  \n",
      "\u001b[2m\u001b[36m(RayTrainWorker pid=19586)\u001b[0m {'loss': 17.774471282958984, 'avg_loss': 14.949169423431158}\n",
      "\u001b[2m\u001b[36m(RayTrainWorker pid=19586)\u001b[0m {'loss': 20.984756469726562, 'avg_loss': 16.15628683269024}\n",
      "Result for TorchTrainer_95b103b6:\n",
      "  _time_this_iter_s: 4.860273838043213\n",
      "  _timestamp: 1660924859\n",
      "  _training_iteration: 6\n",
      "  avg_loss: 52.27088182916244\n",
      "  date: 2022-08-19_16-00-59\n",
      "  done: false\n",
      "  experiment_id: 90c2da4dc9894fb096d39c57feec1b5e\n",
      "  hostname: anish-l5-kit\n",
      "  iterations_since_restore: 6\n",
      "  loss: 232.84385681152344\n",
      "  node_ip: 10.150.0.3\n",
      "  pid: 19519\n",
      "  time_since_restore: 58.50319981575012\n",
      "  time_this_iter_s: 4.871527910232544\n",
      "  time_total_s: 58.50319981575012\n",
      "  timestamp: 1660924859\n",
      "  timesteps_since_restore: 0\n",
      "  training_iteration: 6\n",
      "  trial_id: 95b103b6\n",
      "  warmup_time: 0.0052759647369384766\n",
      "  \n",
      "\u001b[2m\u001b[36m(RayTrainWorker pid=19586)\u001b[0m {'loss': 232.84385681152344, 'avg_loss': 52.27088182916244}\n",
      "\u001b[2m\u001b[36m(RayTrainWorker pid=19586)\u001b[0m {'loss': 91.57981872558594, 'avg_loss': 57.88644424293722}\n"
     ]
    },
    {
     "name": "stderr",
     "output_type": "stream",
     "text": [
      "\u001b[34m\u001b[1mwandb\u001b[0m: Adding directory to artifact (/home/jupyter/ray_results/TorchTrainer_2022-08-19_15-45-58/TorchTrainer_95b103b6_5_batch_size=15.0000,format_version=4,future_num_frames=50,history_num_frames=0,model_architecture=resnet50,_2022-08-19_15-59-57/checkpoint_000001)... "
     ]
    },
    {
     "name": "stdout",
     "output_type": "stream",
     "text": [
      "Result for TorchTrainer_95b103b6:\n",
      "  _time_this_iter_s: 5.368699073791504\n",
      "  _timestamp: 1660924865\n",
      "  _training_iteration: 7\n",
      "  avg_loss: 57.88644424293722\n",
      "  date: 2022-08-19_16-01-05\n",
      "  done: false\n",
      "  experiment_id: 90c2da4dc9894fb096d39c57feec1b5e\n",
      "  hostname: anish-l5-kit\n",
      "  iterations_since_restore: 7\n",
      "  loss: 91.57981872558594\n",
      "  node_ip: 10.150.0.3\n",
      "  pid: 19519\n",
      "  should_checkpoint: true\n",
      "  time_since_restore: 64.29893851280212\n",
      "  time_this_iter_s: 5.795738697052002\n",
      "  time_total_s: 64.29893851280212\n",
      "  timestamp: 1660924865\n",
      "  timesteps_since_restore: 0\n",
      "  training_iteration: 7\n",
      "  trial_id: 95b103b6\n",
      "  warmup_time: 0.0052759647369384766\n",
      "  \n"
     ]
    },
    {
     "name": "stderr",
     "output_type": "stream",
     "text": [
      "Done. 1.1s\n"
     ]
    },
    {
     "name": "stdout",
     "output_type": "stream",
     "text": [
      "\u001b[2m\u001b[36m(RayTrainWorker pid=19586)\u001b[0m {'loss': 56.08512878417969, 'avg_loss': 57.66127981059253}\n",
      "Result for TorchTrainer_95b103b6:\n",
      "  _time_this_iter_s: 5.429559230804443\n",
      "  _timestamp: 1660924870\n",
      "  _training_iteration: 8\n",
      "  avg_loss: 57.66127981059253\n",
      "  date: 2022-08-19_16-01-10\n",
      "  done: false\n",
      "  experiment_id: 90c2da4dc9894fb096d39c57feec1b5e\n",
      "  hostname: anish-l5-kit\n",
      "  iterations_since_restore: 8\n",
      "  loss: 56.08512878417969\n",
      "  node_ip: 10.150.0.3\n",
      "  pid: 19519\n",
      "  time_since_restore: 69.38658785820007\n",
      "  time_this_iter_s: 5.087649345397949\n",
      "  time_total_s: 69.38658785820007\n",
      "  timestamp: 1660924870\n",
      "  timesteps_since_restore: 0\n",
      "  training_iteration: 8\n",
      "  trial_id: 95b103b6\n",
      "  warmup_time: 0.0052759647369384766\n",
      "  \n",
      "\u001b[2m\u001b[36m(RayTrainWorker pid=19586)\u001b[0m {'loss': 17.661470413208008, 'avg_loss': 53.216856544216476}\n",
      "\u001b[2m\u001b[36m(RayTrainWorker pid=19586)\u001b[0m {'loss': 182.89297485351562, 'avg_loss': 66.1844683751464}\n",
      "Result for TorchTrainer_95b103b6:\n",
      "  _time_this_iter_s: 4.669770002365112\n",
      "  _timestamp: 1660924879\n",
      "  _training_iteration: 10\n",
      "  avg_loss: 66.1844683751464\n",
      "  date: 2022-08-19_16-01-19\n",
      "  done: false\n",
      "  experiment_id: 90c2da4dc9894fb096d39c57feec1b5e\n",
      "  hostname: anish-l5-kit\n",
      "  iterations_since_restore: 10\n",
      "  loss: 182.89297485351562\n",
      "  node_ip: 10.150.0.3\n",
      "  pid: 19519\n",
      "  time_since_restore: 78.77076005935669\n",
      "  time_this_iter_s: 4.688268423080444\n",
      "  time_total_s: 78.77076005935669\n",
      "  timestamp: 1660924879\n",
      "  timesteps_since_restore: 0\n",
      "  training_iteration: 10\n",
      "  trial_id: 95b103b6\n",
      "  warmup_time: 0.0052759647369384766\n",
      "  \n",
      "\u001b[2m\u001b[36m(RayTrainWorker pid=19586)\u001b[0m {'loss': 147.96176147460938, 'avg_loss': 73.61876774782485}\n",
      "\u001b[2m\u001b[36m(RayTrainWorker pid=19586)\u001b[0m {'loss': 53.988739013671875, 'avg_loss': 71.98293201997876}\n",
      "Result for TorchTrainer_95b103b6:\n",
      "  _time_this_iter_s: 4.617685794830322\n",
      "  _timestamp: 1660924889\n",
      "  _training_iteration: 12\n",
      "  avg_loss: 71.98293201997876\n",
      "  date: 2022-08-19_16-01-29\n",
      "  done: false\n",
      "  experiment_id: 90c2da4dc9894fb096d39c57feec1b5e\n",
      "  hostname: anish-l5-kit\n",
      "  iterations_since_restore: 12\n",
      "  loss: 53.988739013671875\n",
      "  node_ip: 10.150.0.3\n",
      "  pid: 19519\n",
      "  time_since_restore: 88.30278515815735\n",
      "  time_this_iter_s: 4.694695711135864\n",
      "  time_total_s: 88.30278515815735\n",
      "  timestamp: 1660924889\n",
      "  timesteps_since_restore: 0\n",
      "  training_iteration: 12\n",
      "  trial_id: 95b103b6\n",
      "  warmup_time: 0.0052759647369384766\n",
      "  \n",
      "\u001b[2m\u001b[36m(RayTrainWorker pid=19586)\u001b[0m {'loss': 133.1661376953125, 'avg_loss': 76.6893324565429}\n"
     ]
    },
    {
     "name": "stderr",
     "output_type": "stream",
     "text": [
      "\u001b[34m\u001b[1mwandb\u001b[0m: Adding directory to artifact (/home/jupyter/ray_results/TorchTrainer_2022-08-19_15-45-58/TorchTrainer_95b103b6_5_batch_size=15.0000,format_version=4,future_num_frames=50,history_num_frames=0,model_architecture=resnet50,_2022-08-19_15-59-57/checkpoint_000002)... "
     ]
    },
    {
     "name": "stdout",
     "output_type": "stream",
     "text": [
      "Result for TorchTrainer_95b103b6:\n",
      "  _time_this_iter_s: 4.996649265289307\n",
      "  _timestamp: 1660924894\n",
      "  _training_iteration: 13\n",
      "  avg_loss: 76.6893324565429\n",
      "  date: 2022-08-19_16-01-34\n",
      "  done: false\n",
      "  experiment_id: 90c2da4dc9894fb096d39c57feec1b5e\n",
      "  hostname: anish-l5-kit\n",
      "  iterations_since_restore: 13\n",
      "  loss: 133.1661376953125\n",
      "  node_ip: 10.150.0.3\n",
      "  pid: 19519\n",
      "  should_checkpoint: true\n",
      "  time_since_restore: 93.65966534614563\n",
      "  time_this_iter_s: 5.356880187988281\n",
      "  time_total_s: 93.65966534614563\n",
      "  timestamp: 1660924894\n",
      "  timesteps_since_restore: 0\n",
      "  training_iteration: 13\n",
      "  trial_id: 95b103b6\n",
      "  warmup_time: 0.0052759647369384766\n",
      "  \n"
     ]
    },
    {
     "name": "stderr",
     "output_type": "stream",
     "text": [
      "Done. 1.0s\n"
     ]
    },
    {
     "name": "stdout",
     "output_type": "stream",
     "text": [
      "\u001b[2m\u001b[36m(RayTrainWorker pid=19586)\u001b[0m {'loss': 65.8344497680664, 'avg_loss': 75.91398369308028}\n",
      "Result for TorchTrainer_95b103b6:\n",
      "  _time_this_iter_s: 5.441608190536499\n",
      "  _timestamp: 1660924899\n",
      "  _training_iteration: 14\n",
      "  avg_loss: 75.91398369308028\n",
      "  date: 2022-08-19_16-01-39\n",
      "  done: false\n",
      "  experiment_id: 90c2da4dc9894fb096d39c57feec1b5e\n",
      "  hostname: anish-l5-kit\n",
      "  iterations_since_restore: 14\n",
      "  loss: 65.8344497680664\n",
      "  node_ip: 10.150.0.3\n",
      "  pid: 19519\n",
      "  time_since_restore: 98.74598908424377\n",
      "  time_this_iter_s: 5.0863237380981445\n",
      "  time_total_s: 98.74598908424377\n",
      "  timestamp: 1660924899\n",
      "  timesteps_since_restore: 0\n",
      "  training_iteration: 14\n",
      "  trial_id: 95b103b6\n",
      "  warmup_time: 0.0052759647369384766\n",
      "  \n",
      "\u001b[2m\u001b[36m(RayTrainWorker pid=19586)\u001b[0m {'loss': 96.32621765136719, 'avg_loss': 77.27479929029941}\n",
      "Result for TorchTrainer_95b103b6:\n",
      "  _time_this_iter_s: 4.88898491859436\n",
      "  _timestamp: 1660924909\n",
      "  _training_iteration: 16\n",
      "  avg_loss: 75.51531834062189\n",
      "  date: 2022-08-19_16-01-49\n",
      "  done: false\n",
      "  experiment_id: 90c2da4dc9894fb096d39c57feec1b5e\n",
      "  hostname: anish-l5-kit\n",
      "  iterations_since_restore: 16\n",
      "  loss: 49.123104095458984\n",
      "  node_ip: 10.150.0.3\n",
      "  pid: 19519\n",
      "  time_since_restore: 108.32517337799072\n",
      "  time_this_iter_s: 4.863855838775635\n",
      "  time_total_s: 108.32517337799072\n",
      "  timestamp: 1660924909\n",
      "  timesteps_since_restore: 0\n",
      "  training_iteration: 16\n",
      "  trial_id: 95b103b6\n",
      "  warmup_time: 0.0052759647369384766\n",
      "  \n",
      "\u001b[2m\u001b[36m(RayTrainWorker pid=19586)\u001b[0m {'loss': 49.123104095458984, 'avg_loss': 75.51531834062189}\n",
      "\u001b[2m\u001b[36m(RayTrainWorker pid=19586)\u001b[0m {'loss': 110.59609985351562, 'avg_loss': 77.57889372373329}\n",
      "Result for TorchTrainer_95b103b6:\n",
      "  _time_this_iter_s: 4.731174945831299\n",
      "  _timestamp: 1660924918\n",
      "  _training_iteration: 18\n",
      "  avg_loss: 76.95960654732254\n",
      "  date: 2022-08-19_16-01-58\n",
      "  done: false\n",
      "  experiment_id: 90c2da4dc9894fb096d39c57feec1b5e\n",
      "  hostname: anish-l5-kit\n",
      "  iterations_since_restore: 18\n",
      "  loss: 66.43172454833984\n",
      "  node_ip: 10.150.0.3\n",
      "  pid: 19519\n",
      "  time_since_restore: 117.75579118728638\n",
      "  time_this_iter_s: 4.70136833190918\n",
      "  time_total_s: 117.75579118728638\n",
      "  timestamp: 1660924918\n",
      "  timesteps_since_restore: 0\n",
      "  training_iteration: 18\n",
      "  trial_id: 95b103b6\n",
      "  warmup_time: 0.0052759647369384766\n",
      "  \n",
      "\u001b[2m\u001b[36m(RayTrainWorker pid=19586)\u001b[0m {'loss': 66.43172454833984, 'avg_loss': 76.95960654732254}\n",
      "\u001b[2m\u001b[36m(RayTrainWorker pid=19586)\u001b[0m {'loss': 2.8612701892852783, 'avg_loss': 73.05969410742584}\n"
     ]
    },
    {
     "name": "stderr",
     "output_type": "stream",
     "text": [
      "\u001b[34m\u001b[1mwandb\u001b[0m: Adding directory to artifact (/home/jupyter/ray_results/TorchTrainer_2022-08-19_15-45-58/TorchTrainer_95b103b6_5_batch_size=15.0000,format_version=4,future_num_frames=50,history_num_frames=0,model_architecture=resnet50,_2022-08-19_15-59-57/checkpoint_000003)... "
     ]
    },
    {
     "name": "stdout",
     "output_type": "stream",
     "text": [
      "Result for TorchTrainer_95b103b6:\n",
      "  _time_this_iter_s: 5.296213865280151\n",
      "  _timestamp: 1660924924\n",
      "  _training_iteration: 19\n",
      "  avg_loss: 73.05969410742584\n",
      "  date: 2022-08-19_16-02-04\n",
      "  done: false\n",
      "  experiment_id: 90c2da4dc9894fb096d39c57feec1b5e\n",
      "  hostname: anish-l5-kit\n",
      "  iterations_since_restore: 19\n",
      "  loss: 2.8612701892852783\n",
      "  node_ip: 10.150.0.3\n",
      "  pid: 19519\n",
      "  should_checkpoint: true\n",
      "  time_since_restore: 123.49116849899292\n",
      "  time_this_iter_s: 5.735377311706543\n",
      "  time_total_s: 123.49116849899292\n",
      "  timestamp: 1660924924\n",
      "  timesteps_since_restore: 0\n",
      "  training_iteration: 19\n",
      "  trial_id: 95b103b6\n",
      "  warmup_time: 0.0052759647369384766\n",
      "  \n"
     ]
    },
    {
     "name": "stderr",
     "output_type": "stream",
     "text": [
      "Done. 1.6s\n"
     ]
    },
    {
     "name": "stdout",
     "output_type": "stream",
     "text": [
      "\u001b[2m\u001b[36m(RayTrainWorker pid=19586)\u001b[0m {'loss': 95.01958465576172, 'avg_loss': 74.15768863484263}\n",
      "Result for TorchTrainer_95b103b6:\n",
      "  _time_this_iter_s: 4.622907400131226\n",
      "  _timestamp: 1660924934\n",
      "  _training_iteration: 21\n",
      "  avg_loss: 73.30100569767612\n",
      "  date: 2022-08-19_16-02-14\n",
      "  done: false\n",
      "  experiment_id: 90c2da4dc9894fb096d39c57feec1b5e\n",
      "  hostname: anish-l5-kit\n",
      "  iterations_since_restore: 21\n",
      "  loss: 56.1673469543457\n",
      "  node_ip: 10.150.0.3\n",
      "  pid: 19519\n",
      "  time_since_restore: 133.05340480804443\n",
      "  time_this_iter_s: 4.636565446853638\n",
      "  time_total_s: 133.05340480804443\n",
      "  timestamp: 1660924934\n",
      "  timesteps_since_restore: 0\n",
      "  training_iteration: 21\n",
      "  trial_id: 95b103b6\n",
      "  warmup_time: 0.0052759647369384766\n",
      "  \n",
      "\u001b[2m\u001b[36m(RayTrainWorker pid=19586)\u001b[0m {'loss': 56.1673469543457, 'avg_loss': 73.30100569767612}\n",
      "\u001b[2m\u001b[36m(RayTrainWorker pid=19586)\u001b[0m {'loss': 183.33221435546875, 'avg_loss': 78.30242427303033}\n",
      "\u001b[2m\u001b[36m(RayTrainWorker pid=19586)\u001b[0m {'loss': 192.855224609375, 'avg_loss': 83.28298080939314}\n",
      "Result for TorchTrainer_95b103b6:\n",
      "  _time_this_iter_s: 4.5315845012664795\n",
      "  _timestamp: 1660924943\n",
      "  _training_iteration: 23\n",
      "  avg_loss: 83.28298080939314\n",
      "  date: 2022-08-19_16-02-23\n",
      "  done: false\n",
      "  experiment_id: 90c2da4dc9894fb096d39c57feec1b5e\n",
      "  hostname: anish-l5-kit\n",
      "  iterations_since_restore: 23\n",
      "  loss: 192.855224609375\n",
      "  node_ip: 10.150.0.3\n",
      "  pid: 19519\n",
      "  time_since_restore: 142.42757558822632\n",
      "  time_this_iter_s: 4.671413421630859\n",
      "  time_total_s: 142.42757558822632\n",
      "  timestamp: 1660924943\n",
      "  timesteps_since_restore: 0\n",
      "  training_iteration: 23\n",
      "  trial_id: 95b103b6\n",
      "  warmup_time: 0.0052759647369384766\n",
      "  \n",
      "\u001b[2m\u001b[36m(RayTrainWorker pid=19586)\u001b[0m {'loss': 49.56850051879883, 'avg_loss': 81.87821079728504}\n",
      "\u001b[2m\u001b[36m(RayTrainWorker pid=19586)\u001b[0m {'loss': 158.32278442382812, 'avg_loss': 84.93599374234677}\n"
     ]
    },
    {
     "name": "stderr",
     "output_type": "stream",
     "text": [
      "\u001b[34m\u001b[1mwandb\u001b[0m: Adding directory to artifact (/home/jupyter/ray_results/TorchTrainer_2022-08-19_15-45-58/TorchTrainer_95b103b6_5_batch_size=15.0000,format_version=4,future_num_frames=50,history_num_frames=0,model_architecture=resnet50,_2022-08-19_15-59-57/checkpoint_000004)... "
     ]
    },
    {
     "name": "stdout",
     "output_type": "stream",
     "text": [
      "Result for TorchTrainer_95b103b6:\n",
      "  _time_this_iter_s: 4.896080017089844\n",
      "  _timestamp: 1660924953\n",
      "  _training_iteration: 25\n",
      "  avg_loss: 84.93599374234677\n",
      "  date: 2022-08-19_16-02-33\n",
      "  done: false\n",
      "  experiment_id: 90c2da4dc9894fb096d39c57feec1b5e\n",
      "  hostname: anish-l5-kit\n",
      "  iterations_since_restore: 25\n",
      "  loss: 158.32278442382812\n",
      "  node_ip: 10.150.0.3\n",
      "  pid: 19519\n",
      "  should_checkpoint: true\n",
      "  time_since_restore: 152.52749109268188\n",
      "  time_this_iter_s: 5.329237937927246\n",
      "  time_total_s: 152.52749109268188\n",
      "  timestamp: 1660924953\n",
      "  timesteps_since_restore: 0\n",
      "  training_iteration: 25\n",
      "  trial_id: 95b103b6\n",
      "  warmup_time: 0.0052759647369384766\n",
      "  \n"
     ]
    },
    {
     "name": "stderr",
     "output_type": "stream",
     "text": [
      "Done. 1.0s\n"
     ]
    },
    {
     "name": "stdout",
     "output_type": "stream",
     "text": [
      "Result for TorchTrainer_95b103b6:\n",
      "  _time_this_iter_s: 5.570523738861084\n",
      "  _timestamp: 1660924958\n",
      "  _training_iteration: 26\n",
      "  avg_loss: 86.10326981028685\n",
      "  date: 2022-08-19_16-02-38\n",
      "  done: false\n",
      "  experiment_id: 90c2da4dc9894fb096d39c57feec1b5e\n",
      "  hostname: anish-l5-kit\n",
      "  iterations_since_restore: 26\n",
      "  loss: 115.28517150878906\n",
      "  node_ip: 10.150.0.3\n",
      "  pid: 19519\n",
      "  time_since_restore: 157.66281366348267\n",
      "  time_this_iter_s: 5.135322570800781\n",
      "  time_total_s: 157.66281366348267\n",
      "  timestamp: 1660924958\n",
      "  timesteps_since_restore: 0\n",
      "  training_iteration: 26\n",
      "  trial_id: 95b103b6\n",
      "  warmup_time: 0.0052759647369384766\n",
      "  \n",
      "\u001b[2m\u001b[36m(RayTrainWorker pid=19586)\u001b[0m {'loss': 115.28517150878906, 'avg_loss': 86.10326981028685}\n",
      "\u001b[2m\u001b[36m(RayTrainWorker pid=19586)\u001b[0m {'loss': 76.70806121826172, 'avg_loss': 85.75529912169333}\n",
      "\u001b[2m\u001b[36m(RayTrainWorker pid=19586)\u001b[0m {'loss': 36.469390869140625, 'avg_loss': 83.99508811267359}\n",
      "Result for TorchTrainer_95b103b6:\n",
      "  _time_this_iter_s: 4.595788955688477\n",
      "  _timestamp: 1660924968\n",
      "  _training_iteration: 28\n",
      "  avg_loss: 83.99508811267359\n",
      "  date: 2022-08-19_16-02-48\n",
      "  done: false\n",
      "  experiment_id: 90c2da4dc9894fb096d39c57feec1b5e\n",
      "  hostname: anish-l5-kit\n",
      "  iterations_since_restore: 28\n",
      "  loss: 36.469390869140625\n",
      "  node_ip: 10.150.0.3\n",
      "  pid: 19519\n",
      "  time_since_restore: 167.05728769302368\n",
      "  time_this_iter_s: 4.689493179321289\n",
      "  time_total_s: 167.05728769302368\n",
      "  timestamp: 1660924968\n",
      "  timesteps_since_restore: 0\n",
      "  training_iteration: 28\n",
      "  trial_id: 95b103b6\n",
      "  warmup_time: 0.0052759647369384766\n",
      "  \n",
      "\u001b[2m\u001b[36m(RayTrainWorker pid=19586)\u001b[0m {'loss': 10.093620300292969, 'avg_loss': 81.44676163638461}\n",
      "\u001b[2m\u001b[36m(RayTrainWorker pid=19586)\u001b[0m {'loss': 106.94239807128906, 'avg_loss': 82.29661618421476}\n"
     ]
    },
    {
     "name": "stderr",
     "output_type": "stream",
     "text": [
      "\u001b[34m\u001b[1mwandb\u001b[0m: Adding directory to artifact (/home/jupyter/ray_results/TorchTrainer_2022-08-19_15-45-58/TorchTrainer_95b103b6_5_batch_size=15.0000,format_version=4,future_num_frames=50,history_num_frames=0,model_architecture=resnet50,_2022-08-19_15-59-57/checkpoint_000005)... "
     ]
    },
    {
     "name": "stdout",
     "output_type": "stream",
     "text": [
      "Result for TorchTrainer_95b103b6:\n",
      "  _time_this_iter_s: 5.03687047958374\n",
      "  _timestamp: 1660924977\n",
      "  _training_iteration: 30\n",
      "  avg_loss: 82.29661618421476\n",
      "  date: 2022-08-19_16-02-58\n",
      "  done: false\n",
      "  experiment_id: 90c2da4dc9894fb096d39c57feec1b5e\n",
      "  hostname: anish-l5-kit\n",
      "  iterations_since_restore: 30\n",
      "  loss: 106.94239807128906\n",
      "  node_ip: 10.150.0.3\n",
      "  pid: 19519\n",
      "  should_checkpoint: true\n",
      "  time_since_restore: 177.16992354393005\n",
      "  time_this_iter_s: 5.481915473937988\n",
      "  time_total_s: 177.16992354393005\n",
      "  timestamp: 1660924978\n",
      "  timesteps_since_restore: 0\n",
      "  training_iteration: 30\n",
      "  trial_id: 95b103b6\n",
      "  warmup_time: 0.0052759647369384766\n",
      "  \n"
     ]
    },
    {
     "name": "stderr",
     "output_type": "stream",
     "text": [
      "Done. 1.0s\n",
      "\u001b[34m\u001b[1mwandb\u001b[0m: Adding directory to artifact (/home/jupyter/ray_results/TorchTrainer_2022-08-19_15-45-58/TorchTrainer_95b103b6_5_batch_size=15.0000,format_version=4,future_num_frames=50,history_num_frames=0,model_architecture=resnet50,_2022-08-19_15-59-57/checkpoint_000005)... Done. 0.3s\n"
     ]
    },
    {
     "data": {
      "text/html": [
       "Waiting for W&B process to finish... <strong style=\"color:green\">(success).</strong>"
      ],
      "text/plain": [
       "<IPython.core.display.HTML object>"
      ]
     },
     "metadata": {},
     "output_type": "display_data"
    },
    {
     "data": {
      "application/vnd.jupyter.widget-view+json": {
       "model_id": "6a60559cdef646b3ae8c07834c8c9a3b",
       "version_major": 2,
       "version_minor": 0
      },
      "text/plain": [
       "VBox(children=(Label(value='544.904 MB of 544.904 MB uploaded (90.796 MB deduped)\\r'), FloatProgress(value=1.0…"
      ]
     },
     "metadata": {},
     "output_type": "display_data"
    },
    {
     "data": {
      "text/html": [
       "W&B sync reduced upload amount by 16.7%             "
      ],
      "text/plain": [
       "<IPython.core.display.HTML object>"
      ]
     },
     "metadata": {},
     "output_type": "display_data"
    },
    {
     "data": {
      "text/html": [
       "<style>\n",
       "    table.wandb td:nth-child(1) { padding: 0 10px; text-align: left ; width: auto;} td:nth-child(2) {text-align: left ; width: 100%}\n",
       "    .wandb-row { display: flex; flex-direction: row; flex-wrap: wrap; justify-content: flex-start; width: 100% }\n",
       "    .wandb-col { display: flex; flex-direction: column; flex-basis: 100%; flex: 1; padding: 10px; }\n",
       "    </style>\n",
       "<div class=\"wandb-row\"><div class=\"wandb-col\"><h3>Run history:</h3><br/><table class=\"wandb\"><tr><td>avg_loss</td><td>▁▂▂▂▂▅▆▆▅▆▇▇▇▇▇▇▇▇▇▇▇▇████████</td></tr><tr><td>iterations_since_restore</td><td>▁▁▁▂▂▂▂▃▃▃▃▄▄▄▄▅▅▅▅▆▆▆▆▇▇▇▇███</td></tr><tr><td>loss</td><td>▁▂▁▂▂█▄▃▂▆▅▃▅▃▄▂▄▃▁▄▃▇▇▂▆▄▃▂▁▄</td></tr><tr><td>time_since_restore</td><td>▁▁▁▂▂▂▂▃▃▃▃▄▄▄▄▅▅▅▅▆▆▆▆▇▇▇▇███</td></tr><tr><td>time_this_iter_s</td><td>█▁▁▁▁▁▁▁▁▁▁▁▁▁▁▁▁▁▁▁▁▁▁▁▁▁▁▁▁▁</td></tr><tr><td>time_total_s</td><td>▁▁▁▂▂▂▂▃▃▃▃▄▄▄▄▅▅▅▅▆▆▆▆▇▇▇▇███</td></tr><tr><td>timestamp</td><td>▁▁▂▂▂▂▃▃▃▃▃▄▄▄▄▅▅▅▅▆▆▆▆▇▇▇▇███</td></tr><tr><td>timesteps_since_restore</td><td>▁▁▁▁▁▁▁▁▁▁▁▁▁▁▁▁▁▁▁▁▁▁▁▁▁▁▁▁▁▁</td></tr><tr><td>training_iteration</td><td>▁▁▁▂▂▂▂▃▃▃▃▄▄▄▄▅▅▅▅▆▆▆▆▇▇▇▇███</td></tr><tr><td>warmup_time</td><td>▁▁▁▁▁▁▁▁▁▁▁▁▁▁▁▁▁▁▁▁▁▁▁▁▁▁▁▁▁▁</td></tr></table><br/></div><div class=\"wandb-col\"><h3>Run summary:</h3><br/><table class=\"wandb\"><tr><td>avg_loss</td><td>82.29662</td></tr><tr><td>iterations_since_restore</td><td>30</td></tr><tr><td>loss</td><td>106.9424</td></tr><tr><td>time_since_restore</td><td>177.16992</td></tr><tr><td>time_this_iter_s</td><td>5.48192</td></tr><tr><td>time_total_s</td><td>177.16992</td></tr><tr><td>timestamp</td><td>1660924978</td></tr><tr><td>timesteps_since_restore</td><td>0</td></tr><tr><td>training_iteration</td><td>30</td></tr><tr><td>warmup_time</td><td>0.00528</td></tr></table><br/></div></div>"
      ],
      "text/plain": [
       "<IPython.core.display.HTML object>"
      ]
     },
     "metadata": {},
     "output_type": "display_data"
    },
    {
     "data": {
      "text/html": [
       "Synced <strong style=\"color:#cdcd00\">TorchTrainer_95b103b6</strong>: <a href=\"https://wandb.ai/l5-demo/l5-prediction-trials/runs/95b103b6\" target=\"_blank\">https://wandb.ai/l5-demo/l5-prediction-trials/runs/95b103b6</a><br/>Synced 7 W&B file(s), 0 media file(s), 14 artifact file(s) and 1 other file(s)"
      ],
      "text/plain": [
       "<IPython.core.display.HTML object>"
      ]
     },
     "metadata": {},
     "output_type": "display_data"
    },
    {
     "data": {
      "text/html": [
       "Find logs at: <code>./wandb/run-20220819_155958-95b103b6/logs</code>"
      ],
      "text/plain": [
       "<IPython.core.display.HTML object>"
      ]
     },
     "metadata": {},
     "output_type": "display_data"
    },
    {
     "name": "stdout",
     "output_type": "stream",
     "text": [
      "Result for TorchTrainer_95b103b6:\n",
      "  _time_this_iter_s: 5.03687047958374\n",
      "  _timestamp: 1660924977\n",
      "  _training_iteration: 30\n",
      "  avg_loss: 82.29661618421476\n",
      "  date: 2022-08-19_16-02-58\n",
      "  done: true\n",
      "  experiment_id: 90c2da4dc9894fb096d39c57feec1b5e\n",
      "  experiment_tag: 5_batch_size=15.0000,format_version=4,future_num_frames=50,history_num_frames=0,model_architecture=resnet50,render_ego_history=True,step_time=0.1000,dataset_meta_key=meta_json,disable_traffic_light_faces=False,ego_center=0_25_0_5,filter_agents_threshold=0.5000,map_type=py_semantic,pixel_size=0_5_0_5,raster_size=224_224,satellite_map_key=aerial_map_aerial_map_png,semantic_map_key=semantic_map_semantic_map_pb,set_origin_to_bottom=True,batch_size=12,key=scenes_sample_zarr,num_workers=16,shuffle=True,checkpoint_every_n_steps=10000,eval_every_n_steps=10000,max_num_steps=5,batch_size=12,key=scenes_sample_zarr,num_workers=16,shuffle=False,dataset_key=scenes_sample_zarr,lr=0.0022,max_num_steps=30.0000,num_workers=16,shuffle=True\n",
      "  hostname: anish-l5-kit\n",
      "  iterations_since_restore: 30\n",
      "  loss: 106.94239807128906\n",
      "  node_ip: 10.150.0.3\n",
      "  pid: 19519\n",
      "  should_checkpoint: true\n",
      "  time_since_restore: 177.16992354393005\n",
      "  time_this_iter_s: 5.481915473937988\n",
      "  time_total_s: 177.16992354393005\n",
      "  timestamp: 1660924978\n",
      "  timesteps_since_restore: 0\n",
      "  training_iteration: 30\n",
      "  trial_id: 95b103b6\n",
      "  warmup_time: 0.0052759647369384766\n",
      "  \n"
     ]
    },
    {
     "name": "stderr",
     "output_type": "stream",
     "text": [
      "\u001b[2m\u001b[36m(RayTrainWorker pid=20992)\u001b[0m 2022-08-19 16:03:14,272\tINFO config.py:72 -- Setting up process group for: env:// [rank=0, world_size=3]\n",
      "\u001b[2m\u001b[36m(RayTrainWorker pid=20992)\u001b[0m /opt/conda/lib/python3.7/site-packages/torch/utils/data/dataloader.py:566: UserWarning: This DataLoader will create 16 worker processes in total. Our suggested max number of worker in current system is 4, which is smaller than what this DataLoader is going to create. Please be aware that excessive worker creation might get DataLoader running slow or even freeze, lower the worker number to avoid potential slowness/freeze if necessary.\n",
      "\u001b[2m\u001b[36m(RayTrainWorker pid=20992)\u001b[0m   cpuset_checked))\n",
      "\u001b[2m\u001b[36m(RayTrainWorker pid=20992)\u001b[0m /opt/conda/lib/python3.7/site-packages/torchvision/models/_utils.py:209: UserWarning: The parameter 'pretrained' is deprecated since 0.13 and will be removed in 0.15, please use 'weights' instead.\n",
      "\u001b[2m\u001b[36m(RayTrainWorker pid=20992)\u001b[0m   f\"The parameter '{pretrained_param}' is deprecated since 0.13 and will be removed in 0.15, \"\n",
      "\u001b[2m\u001b[36m(RayTrainWorker pid=20992)\u001b[0m /opt/conda/lib/python3.7/site-packages/torchvision/models/_utils.py:223: UserWarning: Arguments other than a weight enum or `None` for 'weights' are deprecated since 0.13 and will be removed in 0.15. The current behavior is equivalent to passing `weights=ResNet50_Weights.IMAGENET1K_V1`. You can also use `weights=ResNet50_Weights.DEFAULT` to get the most up-to-date weights.\n",
      "\u001b[2m\u001b[36m(RayTrainWorker pid=20992)\u001b[0m   warnings.warn(msg)\n",
      "\u001b[2m\u001b[36m(RayTrainWorker pid=20992)\u001b[0m 2022-08-19 16:03:22,021\tINFO train_loop_utils.py:300 -- Moving model to device: cpu\n",
      "\u001b[2m\u001b[36m(RayTrainWorker pid=20992)\u001b[0m 2022-08-19 16:03:22,023\tINFO train_loop_utils.py:347 -- Wrapping provided model in DDP.\n",
      "\u001b[2m\u001b[36m(RayTrainWorker pid=20994)\u001b[0m /opt/conda/lib/python3.7/site-packages/torch/utils/data/dataloader.py:566: UserWarning: This DataLoader will create 16 worker processes in total. Our suggested max number of worker in current system is 4, which is smaller than what this DataLoader is going to create. Please be aware that excessive worker creation might get DataLoader running slow or even freeze, lower the worker number to avoid potential slowness/freeze if necessary.\n",
      "\u001b[2m\u001b[36m(RayTrainWorker pid=20994)\u001b[0m   cpuset_checked))\n",
      "\u001b[2m\u001b[36m(RayTrainWorker pid=20994)\u001b[0m /opt/conda/lib/python3.7/site-packages/torchvision/models/_utils.py:209: UserWarning: The parameter 'pretrained' is deprecated since 0.13 and will be removed in 0.15, please use 'weights' instead.\n",
      "\u001b[2m\u001b[36m(RayTrainWorker pid=20994)\u001b[0m   f\"The parameter '{pretrained_param}' is deprecated since 0.13 and will be removed in 0.15, \"\n",
      "\u001b[2m\u001b[36m(RayTrainWorker pid=20994)\u001b[0m /opt/conda/lib/python3.7/site-packages/torchvision/models/_utils.py:223: UserWarning: Arguments other than a weight enum or `None` for 'weights' are deprecated since 0.13 and will be removed in 0.15. The current behavior is equivalent to passing `weights=ResNet50_Weights.IMAGENET1K_V1`. You can also use `weights=ResNet50_Weights.DEFAULT` to get the most up-to-date weights.\n",
      "\u001b[2m\u001b[36m(RayTrainWorker pid=20994)\u001b[0m   warnings.warn(msg)\n",
      "\u001b[2m\u001b[36m(RayTrainWorker pid=20993)\u001b[0m /opt/conda/lib/python3.7/site-packages/torch/utils/data/dataloader.py:566: UserWarning: This DataLoader will create 16 worker processes in total. Our suggested max number of worker in current system is 4, which is smaller than what this DataLoader is going to create. Please be aware that excessive worker creation might get DataLoader running slow or even freeze, lower the worker number to avoid potential slowness/freeze if necessary.\n",
      "\u001b[2m\u001b[36m(RayTrainWorker pid=20993)\u001b[0m   cpuset_checked))\n",
      "\u001b[2m\u001b[36m(RayTrainWorker pid=20993)\u001b[0m /opt/conda/lib/python3.7/site-packages/torchvision/models/_utils.py:209: UserWarning: The parameter 'pretrained' is deprecated since 0.13 and will be removed in 0.15, please use 'weights' instead.\n",
      "\u001b[2m\u001b[36m(RayTrainWorker pid=20993)\u001b[0m   f\"The parameter '{pretrained_param}' is deprecated since 0.13 and will be removed in 0.15, \"\n",
      "\u001b[2m\u001b[36m(RayTrainWorker pid=20993)\u001b[0m /opt/conda/lib/python3.7/site-packages/torchvision/models/_utils.py:223: UserWarning: Arguments other than a weight enum or `None` for 'weights' are deprecated since 0.13 and will be removed in 0.15. The current behavior is equivalent to passing `weights=ResNet50_Weights.IMAGENET1K_V1`. You can also use `weights=ResNet50_Weights.DEFAULT` to get the most up-to-date weights.\n",
      "\u001b[2m\u001b[36m(RayTrainWorker pid=20993)\u001b[0m   warnings.warn(msg)\n"
     ]
    },
    {
     "name": "stdout",
     "output_type": "stream",
     "text": [
      "\u001b[2m\u001b[36m(RayTrainWorker pid=20992)\u001b[0m {'loss': 0.07437949627637863, 'avg_loss': 0.07437949627637863}\n"
     ]
    },
    {
     "name": "stderr",
     "output_type": "stream",
     "text": [
      "\u001b[34m\u001b[1mwandb\u001b[0m: Adding directory to artifact (/home/jupyter/ray_results/TorchTrainer_2022-08-19_15-45-58/TorchTrainer_f95a0714_6_batch_size=9.0000,format_version=4,future_num_frames=50,history_num_frames=0,model_architecture=resnet50,r_2022-08-19_16-03-07/checkpoint_000000)... "
     ]
    },
    {
     "name": "stdout",
     "output_type": "stream",
     "text": [
      "Result for TorchTrainer_f95a0714:\n",
      "  _time_this_iter_s: 22.077595472335815\n",
      "  _timestamp: 1660925017\n",
      "  _training_iteration: 1\n",
      "  avg_loss: 0.07437949627637863\n",
      "  date: 2022-08-19_16-03-38\n",
      "  done: false\n",
      "  experiment_id: 2a59d13827134d63b5a4e79e3ac1cecf\n",
      "  hostname: anish-l5-kit\n",
      "  iterations_since_restore: 1\n",
      "  loss: 0.07437949627637863\n",
      "  node_ip: 10.150.0.3\n",
      "  pid: 20925\n",
      "  should_checkpoint: true\n",
      "  time_since_restore: 28.142361879348755\n",
      "  time_this_iter_s: 28.142361879348755\n",
      "  time_total_s: 28.142361879348755\n",
      "  timestamp: 1660925018\n",
      "  timesteps_since_restore: 0\n",
      "  training_iteration: 1\n",
      "  trial_id: f95a0714\n",
      "  warmup_time: 0.005228996276855469\n",
      "  \n"
     ]
    },
    {
     "name": "stderr",
     "output_type": "stream",
     "text": [
      "Done. 1.0s\n"
     ]
    },
    {
     "name": "stdout",
     "output_type": "stream",
     "text": [
      "\u001b[2m\u001b[36m(RayTrainWorker pid=20992)\u001b[0m {'loss': 51.2484130859375, 'avg_loss': 25.66139629110694}\n",
      "Result for TorchTrainer_f95a0714:\n",
      "  _time_this_iter_s: 3.1629509925842285\n",
      "  _timestamp: 1660925025\n",
      "  _training_iteration: 3\n",
      "  avg_loss: 23.851089018086594\n",
      "  date: 2022-08-19_16-03-45\n",
      "  done: false\n",
      "  experiment_id: 2a59d13827134d63b5a4e79e3ac1cecf\n",
      "  hostname: anish-l5-kit\n",
      "  iterations_since_restore: 3\n",
      "  loss: 20.2304744720459\n",
      "  node_ip: 10.150.0.3\n",
      "  pid: 20925\n",
      "  time_since_restore: 34.948413133621216\n",
      "  time_this_iter_s: 3.1647346019744873\n",
      "  time_total_s: 34.948413133621216\n",
      "  timestamp: 1660925025\n",
      "  timesteps_since_restore: 0\n",
      "  training_iteration: 3\n",
      "  trial_id: f95a0714\n",
      "  warmup_time: 0.005228996276855469\n",
      "  \n",
      "\u001b[2m\u001b[36m(RayTrainWorker pid=20992)\u001b[0m {'loss': 20.2304744720459, 'avg_loss': 23.851089018086594}\n",
      "\u001b[2m\u001b[36m(RayTrainWorker pid=20992)\u001b[0m {'loss': 9.91662883758545, 'avg_loss': 20.367473972961307}\n",
      "Result for TorchTrainer_f95a0714:\u001b[2m\u001b[36m(RayTrainWorker pid=20992)\u001b[0m {'loss': 15.289260864257812, 'avg_loss': 19.351831351220607}\n",
      "\n",
      "  _time_this_iter_s: 3.031740188598633\n",
      "  _timestamp: 1660925031\n",
      "  _training_iteration: 5\n",
      "  avg_loss: 19.351831351220607\n",
      "  date: 2022-08-19_16-03-51\n",
      "  done: false\n",
      "  experiment_id: 2a59d13827134d63b5a4e79e3ac1cecf\n",
      "  hostname: anish-l5-kit\n",
      "  iterations_since_restore: 5\n",
      "  loss: 15.289260864257812\n",
      "  node_ip: 10.150.0.3\n",
      "  pid: 20925\n",
      "  time_since_restore: 41.15135455131531\n",
      "  time_this_iter_s: 3.1194355487823486\n",
      "  time_total_s: 41.15135455131531\n",
      "  timestamp: 1660925031\n",
      "  timesteps_since_restore: 0\n",
      "  training_iteration: 5\n",
      "  trial_id: f95a0714\n",
      "  warmup_time: 0.005228996276855469\n",
      "  \n",
      "\u001b[2m\u001b[36m(RayTrainWorker pid=20992)\u001b[0m {'loss': 20.348661422729492, 'avg_loss': 19.51796969647209}\n",
      "Result for TorchTrainer_f95a0714:\n",
      "  _time_this_iter_s: 3.061248302459717\n",
      "  _timestamp: 1660925037\n",
      "  _training_iteration: 7\n",
      "  avg_loss: 22.706528739205428\n",
      "  date: 2022-08-19_16-03-57\n",
      "  done: false\n",
      "  experiment_id: 2a59d13827134d63b5a4e79e3ac1cecf\n",
      "  hostname: anish-l5-kit\n",
      "  iterations_since_restore: 7\n",
      "  loss: 41.83788299560547\n",
      "  node_ip: 10.150.0.3\n",
      "  pid: 20925\n",
      "  time_since_restore: 47.268893241882324\n",
      "  time_this_iter_s: 3.0611801147460938\n",
      "  time_total_s: 47.268893241882324\n",
      "  timestamp: 1660925037\n",
      "  timesteps_since_restore: 0\n",
      "  training_iteration: 7\n",
      "  trial_id: f95a0714\n",
      "  warmup_time: 0.005228996276855469\n",
      "  \n",
      "\u001b[2m\u001b[36m(RayTrainWorker pid=20992)\u001b[0m {'loss': 41.83788299560547, 'avg_loss': 22.706528739205428}\n",
      "\u001b[2m\u001b[36m(RayTrainWorker pid=20992)\u001b[0m {'loss': 19.543119430541992, 'avg_loss': 22.3111025756225}\n",
      "\u001b[2m\u001b[36m(RayTrainWorker pid=20992)\u001b[0m {'loss': 33.41598129272461, 'avg_loss': 23.544977988633846}\n",
      "Result for TorchTrainer_f95a0714:\n",
      "  _time_this_iter_s: 3.4880313873291016\n",
      "  _timestamp: 1660925043\n",
      "  _training_iteration: 9\n",
      "  avg_loss: 23.544977988633846\n",
      "  date: 2022-08-19_16-04-04\n",
      "  done: false\n",
      "  experiment_id: 2a59d13827134d63b5a4e79e3ac1cecf\n",
      "  hostname: anish-l5-kit\n",
      "  iterations_since_restore: 9\n",
      "  loss: 33.41598129272461\n",
      "  node_ip: 10.150.0.3\n",
      "  pid: 20925\n",
      "  time_since_restore: 53.75905251502991\n",
      "  time_this_iter_s: 3.495788097381592\n",
      "  time_total_s: 53.75905251502991\n",
      "  timestamp: 1660925044\n",
      "  timesteps_since_restore: 0\n",
      "  training_iteration: 9\n",
      "  trial_id: f95a0714\n",
      "  warmup_time: 0.005228996276855469\n",
      "  \n",
      "\u001b[2m\u001b[36m(RayTrainWorker pid=20992)\u001b[0m {'loss': 258.4162902832031, 'avg_loss': 47.032109218090774}\n",
      "\u001b[2m\u001b[36m(RayTrainWorker pid=20992)\u001b[0m {'loss': 188.86878967285156, 'avg_loss': 59.9263528957963}\n",
      "Result for TorchTrainer_f95a0714:\n",
      "  _time_this_iter_s: 3.1907882690429688\n",
      "  _timestamp: 1660925050\n",
      "  _training_iteration: 11\n",
      "  avg_loss: 59.9263528957963\n",
      "  date: 2022-08-19_16-04-10\n",
      "  done: false\n",
      "  experiment_id: 2a59d13827134d63b5a4e79e3ac1cecf\n",
      "  hostname: anish-l5-kit\n",
      "  iterations_since_restore: 11\n",
      "  loss: 188.86878967285156\n",
      "  node_ip: 10.150.0.3\n",
      "  pid: 20925\n",
      "  should_checkpoint: true\n",
      "  time_since_restore: 60.435548543930054\n",
      "  time_this_iter_s: 3.6080734729766846\n",
      "  time_total_s: 60.435548543930054\n",
      "  timestamp: 1660925050\n",
      "  timesteps_since_restore: 0\n",
      "  training_iteration: 11\n",
      "  trial_id: f95a0714\n",
      "  warmup_time: 0.005228996276855469\n",
      "  \n"
     ]
    },
    {
     "name": "stderr",
     "output_type": "stream",
     "text": [
      "\u001b[34m\u001b[1mwandb\u001b[0m: Adding directory to artifact (/home/jupyter/ray_results/TorchTrainer_2022-08-19_15-45-58/TorchTrainer_f95a0714_6_batch_size=9.0000,format_version=4,future_num_frames=50,history_num_frames=0,model_architecture=resnet50,r_2022-08-19_16-03-07/checkpoint_000001)... Done. 1.2s\n"
     ]
    },
    {
     "name": "stdout",
     "output_type": "stream",
     "text": [
      "\u001b[2m\u001b[36m(RayTrainWorker pid=20992)\u001b[0m {'loss': 60.74839782714844, 'avg_loss': 59.994856640075646}\n",
      "\u001b[2m\u001b[36m(RayTrainWorker pid=20992)\u001b[0m {'loss': 82.43293762207031, 'avg_loss': 61.72086286945985}\n",
      "Result for TorchTrainer_f95a0714:\n",
      "  _time_this_iter_s: 2.943763017654419\n",
      "  _timestamp: 1660925057\n",
      "  _training_iteration: 13\n",
      "  avg_loss: 61.72086286945985\n",
      "  date: 2022-08-19_16-04-17\n",
      "  done: false\n",
      "  experiment_id: 2a59d13827134d63b5a4e79e3ac1cecf\n",
      "  hostname: anish-l5-kit\n",
      "  iterations_since_restore: 13\n",
      "  loss: 82.43293762207031\n",
      "  node_ip: 10.150.0.3\n",
      "  pid: 20925\n",
      "  time_since_restore: 66.93296599388123\n",
      "  time_this_iter_s: 3.039665460586548\n",
      "  time_total_s: 66.93296599388123\n",
      "  timestamp: 1660925057\n",
      "  timesteps_since_restore: 0\n",
      "  training_iteration: 13\n",
      "  trial_id: f95a0714\n",
      "  warmup_time: 0.005228996276855469\n",
      "  \n",
      "\u001b[2m\u001b[36m(RayTrainWorker pid=20992)\u001b[0m {'loss': 29.4619140625, 'avg_loss': 59.41665224039129}\n"
     ]
    },
    {
     "name": "stderr",
     "output_type": "stream",
     "text": [
      "\u001b[2m\u001b[36m(RayTrainWorker pid=20994)\u001b[0m E0819 16:04:23.068759994   21038 chttp2_transport.cc:1103]   Received a GOAWAY with error code ENHANCE_YOUR_CALM and debug data equal to \"too_many_pings\"\n"
     ]
    },
    {
     "name": "stdout",
     "output_type": "stream",
     "text": [
      "\u001b[2m\u001b[36m(RayTrainWorker pid=20992)\u001b[0m {'loss': 35.433048248291016, 'avg_loss': 57.8177453075846}\n",
      "Result for TorchTrainer_f95a0714:\n",
      "  _time_this_iter_s: 3.043977737426758\n",
      "  _timestamp: 1660925063\n",
      "  _training_iteration: 15\n",
      "  avg_loss: 57.8177453075846\n",
      "  date: 2022-08-19_16-04-23\n",
      "  done: false\n",
      "  experiment_id: 2a59d13827134d63b5a4e79e3ac1cecf\n",
      "  hostname: anish-l5-kit\n",
      "  iterations_since_restore: 15\n",
      "  loss: 35.433048248291016\n",
      "  node_ip: 10.150.0.3\n",
      "  pid: 20925\n",
      "  time_since_restore: 73.00475525856018\n",
      "  time_this_iter_s: 3.0672671794891357\n",
      "  time_total_s: 73.00475525856018\n",
      "  timestamp: 1660925063\n",
      "  timesteps_since_restore: 0\n",
      "  training_iteration: 15\n",
      "  trial_id: f95a0714\n",
      "  warmup_time: 0.005228996276855469\n",
      "  \n"
     ]
    },
    {
     "name": "stderr",
     "output_type": "stream",
     "text": [
      "\u001b[2m\u001b[36m(RayTrainWorker pid=20993)\u001b[0m E0819 16:04:23.794715976   21055 chttp2_transport.cc:1103]   Received a GOAWAY with error code ENHANCE_YOUR_CALM and debug data equal to \"too_many_pings\"\n"
     ]
    },
    {
     "name": "stdout",
     "output_type": "stream",
     "text": [
      "\u001b[2m\u001b[36m(RayTrainWorker pid=20992)\u001b[0m {'loss': 348.2391052246094, 'avg_loss': 75.96908030239865}\n",
      "\u001b[2m\u001b[36m(RayTrainWorker pid=20992)\u001b[0m {'loss': 220.70556640625, 'avg_loss': 84.48299124968402}\n",
      "Result for TorchTrainer_f95a0714:\n",
      "  _time_this_iter_s: 3.0076141357421875\n",
      "  _timestamp: 1660925069\n",
      "  _training_iteration: 17\n",
      "  avg_loss: 84.48299124968402\n",
      "  date: 2022-08-19_16-04-29\n",
      "  done: false\n",
      "  experiment_id: 2a59d13827134d63b5a4e79e3ac1cecf\n",
      "  hostname: anish-l5-kit\n",
      "  iterations_since_restore: 17\n",
      "  loss: 220.70556640625\n",
      "  node_ip: 10.150.0.3\n",
      "  pid: 20925\n",
      "  time_since_restore: 79.20130372047424\n",
      "  time_this_iter_s: 3.053624391555786\n",
      "  time_total_s: 79.20130372047424\n",
      "  timestamp: 1660925069\n",
      "  timesteps_since_restore: 0\n",
      "  training_iteration: 17\n",
      "  trial_id: f95a0714\n",
      "  warmup_time: 0.005228996276855469\n",
      "  \n",
      "\u001b[2m\u001b[36m(RayTrainWorker pid=20992)\u001b[0m {'loss': 38.35962677001953, 'avg_loss': 81.92058211192489}\n",
      "Result for TorchTrainer_f95a0714:\n",
      "  _time_this_iter_s: 3.1442136764526367\n",
      "  _timestamp: 1660925075\n",
      "  _training_iteration: 19\n",
      "  avg_loss: 92.94536136600532\n",
      "  date: 2022-08-19_16-04-35\n",
      "  done: false\n",
      "  experiment_id: 2a59d13827134d63b5a4e79e3ac1cecf\n",
      "  hostname: anish-l5-kit\n",
      "  iterations_since_restore: 19\n",
      "  loss: 291.3913879394531\n",
      "  node_ip: 10.150.0.3\n",
      "  pid: 20925\n",
      "  time_since_restore: 85.37951183319092\n",
      "  time_this_iter_s: 3.1310622692108154\n",
      "  time_total_s: 85.37951183319092\n",
      "  timestamp: 1660925075\n",
      "  timesteps_since_restore: 0\n",
      "  training_iteration: 19\n",
      "  trial_id: f95a0714\n",
      "  warmup_time: 0.005228996276855469\n",
      "  \n",
      "\u001b[2m\u001b[36m(RayTrainWorker pid=20992)\u001b[0m {'loss': 291.3913879394531, 'avg_loss': 92.94536136600532}\n",
      "\u001b[2m\u001b[36m(RayTrainWorker pid=20992)\u001b[0m {'loss': 130.29698181152344, 'avg_loss': 94.81294238828123}\n",
      "\u001b[2m\u001b[36m(RayTrainWorker pid=20992)\u001b[0m {'loss': 371.6563720703125, 'avg_loss': 107.99596284933034}\n",
      "Result for TorchTrainer_f95a0714:\n",
      "  _time_this_iter_s: 3.267868995666504\n",
      "  _timestamp: 1660925082\n",
      "  _training_iteration: 21\n",
      "  avg_loss: 107.99596284933034\n",
      "  date: 2022-08-19_16-04-42\n",
      "  done: false\n",
      "  experiment_id: 2a59d13827134d63b5a4e79e3ac1cecf\n",
      "  hostname: anish-l5-kit\n",
      "  iterations_since_restore: 21\n",
      "  loss: 371.6563720703125\n",
      "  node_ip: 10.150.0.3\n",
      "  pid: 20925\n",
      "  should_checkpoint: true\n",
      "  time_since_restore: 92.08417868614197\n",
      "  time_this_iter_s: 3.554468870162964\n",
      "  time_total_s: 92.08417868614197\n",
      "  timestamp: 1660925082\n",
      "  timesteps_since_restore: 0\n",
      "  training_iteration: 21\n",
      "  trial_id: f95a0714\n",
      "  warmup_time: 0.005228996276855469\n",
      "  \n"
     ]
    },
    {
     "name": "stderr",
     "output_type": "stream",
     "text": [
      "\u001b[34m\u001b[1mwandb\u001b[0m: Adding directory to artifact (/home/jupyter/ray_results/TorchTrainer_2022-08-19_15-45-58/TorchTrainer_f95a0714_6_batch_size=9.0000,format_version=4,future_num_frames=50,history_num_frames=0,model_architecture=resnet50,r_2022-08-19_16-03-07/checkpoint_000002)... Done. 1.1s\n"
     ]
    },
    {
     "name": "stdout",
     "output_type": "stream",
     "text": [
      "\u001b[2m\u001b[36m(RayTrainWorker pid=20992)\u001b[0m {'loss': 10.852103233337402, 'avg_loss': 103.5803328667852}\n",
      "\u001b[2m\u001b[36m(RayTrainWorker pid=20992)\u001b[0m {'loss': 34.240535736083984, 'avg_loss': 100.56555907849385}\n",
      "Result for TorchTrainer_f95a0714:\n",
      "  _time_this_iter_s: 3.0159080028533936\n",
      "  _timestamp: 1660925088\n",
      "  _training_iteration: 23\n",
      "  avg_loss: 100.56555907849385\n",
      "  date: 2022-08-19_16-04-48\n",
      "  done: false\n",
      "  experiment_id: 2a59d13827134d63b5a4e79e3ac1cecf\n",
      "  hostname: anish-l5-kit\n",
      "  iterations_since_restore: 23\n",
      "  loss: 34.240535736083984\n",
      "  node_ip: 10.150.0.3\n",
      "  pid: 20925\n",
      "  time_since_restore: 98.36353158950806\n",
      "  time_this_iter_s: 3.0031728744506836\n",
      "  time_total_s: 98.36353158950806\n",
      "  timestamp: 1660925088\n",
      "  timesteps_since_restore: 0\n",
      "  training_iteration: 23\n",
      "  trial_id: f95a0714\n",
      "  warmup_time: 0.005228996276855469\n",
      "  \n",
      "\u001b[2m\u001b[36m(RayTrainWorker pid=20992)\u001b[0m {'loss': 29.209794998168945, 'avg_loss': 97.59240224181364}\n",
      "Result for TorchTrainer_f95a0714:\u001b[2m\u001b[36m(RayTrainWorker pid=20992)\u001b[0m {'loss': 14.492807388305664, 'avg_loss': 94.26841844767333}\n",
      "\n",
      "  _time_this_iter_s: 2.968287467956543\n",
      "  _timestamp: 1660925094\n",
      "  _training_iteration: 25\n",
      "  avg_loss: 94.26841844767333\n",
      "  date: 2022-08-19_16-04-54\n",
      "  done: false\n",
      "  experiment_id: 2a59d13827134d63b5a4e79e3ac1cecf\n",
      "  hostname: anish-l5-kit\n",
      "  iterations_since_restore: 25\n",
      "  loss: 14.492807388305664\n",
      "  node_ip: 10.150.0.3\n",
      "  pid: 20925\n",
      "  time_since_restore: 104.42153739929199\n",
      "  time_this_iter_s: 3.0633115768432617\n",
      "  time_total_s: 104.42153739929199\n",
      "  timestamp: 1660925094\n",
      "  timesteps_since_restore: 0\n",
      "  training_iteration: 25\n",
      "  trial_id: f95a0714\n",
      "  warmup_time: 0.005228996276855469\n",
      "  \n",
      "\u001b[2m\u001b[36m(RayTrainWorker pid=20992)\u001b[0m {'loss': 37.763248443603516, 'avg_loss': 92.09514267828602}\n",
      "Result for TorchTrainer_f95a0714:\n",
      "  _time_this_iter_s: 3.0294580459594727\n",
      "  _timestamp: 1660925100\n",
      "  _training_iteration: 27\n",
      "  avg_loss: 89.53691512760189\n",
      "  date: 2022-08-19_16-05-00\n",
      "  done: false\n",
      "  experiment_id: 2a59d13827134d63b5a4e79e3ac1cecf\n",
      "  hostname: anish-l5-kit\n",
      "  iterations_since_restore: 27\n",
      "  loss: 23.022998809814453\n",
      "  node_ip: 10.150.0.3\n",
      "  pid: 20925\n",
      "  time_since_restore: 110.51868748664856\n",
      "  time_this_iter_s: 3.0325543880462646\n",
      "  time_total_s: 110.51868748664856\n",
      "  timestamp: 1660925100\n",
      "  timesteps_since_restore: 0\n",
      "  training_iteration: 27\n",
      "  trial_id: f95a0714\n",
      "  warmup_time: 0.005228996276855469\n",
      "  \n",
      "\u001b[2m\u001b[36m(RayTrainWorker pid=20992)\u001b[0m {'loss': 23.022998809814453, 'avg_loss': 89.53691512760189}\n",
      "\u001b[2m\u001b[36m(RayTrainWorker pid=20992)\u001b[0m {'loss': 281.6303405761719, 'avg_loss': 96.39739460790796}\n",
      "Result for TorchTrainer_f95a0714:\n",
      "  _time_this_iter_s: 3.1501550674438477\n",
      "  _timestamp: 1660925107\n",
      "  _training_iteration: 29\n",
      "  avg_loss: 97.85873691146743\n",
      "  date: 2022-08-19_16-05-07\n",
      "  done: false\n",
      "  experiment_id: 2a59d13827134d63b5a4e79e3ac1cecf\n",
      "  hostname: anish-l5-kit\n",
      "  iterations_since_restore: 29\n",
      "  loss: 138.7763214111328\n",
      "  node_ip: 10.150.0.3\n",
      "  pid: 20925\n",
      "  time_since_restore: 117.18190550804138\n",
      "  time_this_iter_s: 3.139558792114258\n",
      "  time_total_s: 117.18190550804138\n",
      "  timestamp: 1660925107\n",
      "  timesteps_since_restore: 0\n",
      "  training_iteration: 29\n",
      "  trial_id: f95a0714\n",
      "  warmup_time: 0.005228996276855469\n",
      "  \n",
      "\u001b[2m\u001b[36m(RayTrainWorker pid=20992)\u001b[0m {'loss': 138.7763214111328, 'avg_loss': 97.85873691146743}\n",
      "\u001b[2m\u001b[36m(RayTrainWorker pid=20992)\u001b[0m {'loss': 30.03703498840332, 'avg_loss': 95.59801351403196}\n",
      "\u001b[2m\u001b[36m(RayTrainWorker pid=20992)\u001b[0m {'loss': 40.86655807495117, 'avg_loss': 93.83248269341645}\n",
      "Result for TorchTrainer_f95a0714:\n",
      "  _time_this_iter_s: 3.2062487602233887\n",
      "  _timestamp: 1660925113\n",
      "  _training_iteration: 31\n",
      "  avg_loss: 93.83248269341645\n",
      "  date: 2022-08-19_16-05-14\n",
      "  done: false\n",
      "  experiment_id: 2a59d13827134d63b5a4e79e3ac1cecf\n",
      "  hostname: anish-l5-kit\n",
      "  iterations_since_restore: 31\n",
      "  loss: 40.86655807495117\n",
      "  node_ip: 10.150.0.3\n",
      "  pid: 20925\n",
      "  should_checkpoint: true\n",
      "  time_since_restore: 123.89029049873352\n",
      "  time_this_iter_s: 3.578864574432373\n",
      "  time_total_s: 123.89029049873352\n",
      "  timestamp: 1660925114\n",
      "  timesteps_since_restore: 0\n",
      "  training_iteration: 31\n",
      "  trial_id: f95a0714\n",
      "  warmup_time: 0.005228996276855469\n",
      "  \n"
     ]
    },
    {
     "name": "stderr",
     "output_type": "stream",
     "text": [
      "\u001b[34m\u001b[1mwandb\u001b[0m: Adding directory to artifact (/home/jupyter/ray_results/TorchTrainer_2022-08-19_15-45-58/TorchTrainer_f95a0714_6_batch_size=9.0000,format_version=4,future_num_frames=50,history_num_frames=0,model_architecture=resnet50,r_2022-08-19_16-03-07/checkpoint_000003)... Done. 1.0s\n"
     ]
    },
    {
     "name": "stdout",
     "output_type": "stream",
     "text": [
      "\u001b[2m\u001b[36m(RayTrainWorker pid=20992)\u001b[0m {'loss': 3.161508560180664, 'avg_loss': 90.99901475175284}\n",
      "\u001b[2m\u001b[36m(RayTrainWorker pid=20992)\u001b[0m {'loss': 69.81918334960938, 'avg_loss': 90.3572016789606}\n",
      "Result for TorchTrainer_f95a0714:\n",
      "  _time_this_iter_s: 3.1085691452026367\n",
      "  _timestamp: 1660925120\n",
      "  _training_iteration: 33\n",
      "  avg_loss: 90.3572016789606\n",
      "  date: 2022-08-19_16-05-20\n",
      "  done: false\n",
      "  experiment_id: 2a59d13827134d63b5a4e79e3ac1cecf\n",
      "  hostname: anish-l5-kit\n",
      "  iterations_since_restore: 33\n",
      "  loss: 69.81918334960938\n",
      "  node_ip: 10.150.0.3\n",
      "  pid: 20925\n",
      "  time_since_restore: 130.38098526000977\n",
      "  time_this_iter_s: 3.1981353759765625\n",
      "  time_total_s: 130.38098526000977\n",
      "  timestamp: 1660925120\n",
      "  timesteps_since_restore: 0\n",
      "  training_iteration: 33\n",
      "  trial_id: f95a0714\n",
      "  warmup_time: 0.005228996276855469\n",
      "  \n",
      "\u001b[2m\u001b[36m(RayTrainWorker pid=20992)\u001b[0m {'loss': 10.24853801727295, 'avg_loss': 88.0010645124404}\n",
      "Result for TorchTrainer_f95a0714:\n",
      "  _time_this_iter_s: 3.149775505065918\n",
      "  _timestamp: 1660925126\n",
      "  _training_iteration: 35\n",
      "  avg_loss: 87.08566130378416\n",
      "  date: 2022-08-19_16-05-26\n",
      "  done: false\n",
      "  experiment_id: 2a59d13827134d63b5a4e79e3ac1cecf\n",
      "  hostname: anish-l5-kit\n",
      "  iterations_since_restore: 35\n",
      "  loss: 55.961952209472656\n",
      "  node_ip: 10.150.0.3\n",
      "  pid: 20925\n",
      "  time_since_restore: 136.48986291885376\n",
      "  time_this_iter_s: 3.0580573081970215\n",
      "  time_total_s: 136.48986291885376\n",
      "  timestamp: 1660925126\n",
      "  timesteps_since_restore: 0\n",
      "  training_iteration: 35\n",
      "  trial_id: f95a0714\n",
      "  warmup_time: 0.005228996276855469\n",
      "  \n",
      "\u001b[2m\u001b[36m(RayTrainWorker pid=20992)\u001b[0m {'loss': 55.961952209472656, 'avg_loss': 87.08566130378416}\n",
      "\u001b[2m\u001b[36m(RayTrainWorker pid=20992)\u001b[0m {'loss': 350.1612548828125, 'avg_loss': 94.3933166809794}\n",
      "Result for TorchTrainer_f95a0714:\n",
      "  _time_this_iter_s: 2.992912530899048\n",
      "  _timestamp: 1660925132\n",
      "  _training_iteration: 37\n",
      "  avg_loss: 94.8287037915072\n",
      "  date: 2022-08-19_16-05-32\n",
      "  done: false\n",
      "  experiment_id: 2a59d13827134d63b5a4e79e3ac1cecf\n",
      "  hostname: anish-l5-kit\n",
      "  iterations_since_restore: 37\n",
      "  loss: 110.50263977050781\n",
      "  node_ip: 10.150.0.3\n",
      "  pid: 20925\n",
      "  time_since_restore: 142.52049469947815\n",
      "  time_this_iter_s: 2.991447687149048\n",
      "  time_total_s: 142.52049469947815\n",
      "  timestamp: 1660925132\n",
      "  timesteps_since_restore: 0\n",
      "  training_iteration: 37\n",
      "  trial_id: f95a0714\n",
      "  warmup_time: 0.005228996276855469\n",
      "  \n",
      "\u001b[2m\u001b[36m(RayTrainWorker pid=20992)\u001b[0m {'loss': 110.50263977050781, 'avg_loss': 94.8287037915072}\n",
      "\u001b[2m\u001b[36m(RayTrainWorker pid=20992)\u001b[0m {'loss': 145.3096923828125, 'avg_loss': 96.15715085969944}\n",
      "Result for TorchTrainer_f95a0714:\n",
      "  _time_this_iter_s: 3.0801098346710205\n",
      "  _timestamp: 1660925138\n",
      "  _training_iteration: 39\n",
      "  avg_loss: 94.7264703494998\n",
      "  date: 2022-08-19_16-05-38\n",
      "  done: false\n",
      "  experiment_id: 2a59d13827134d63b5a4e79e3ac1cecf\n",
      "  hostname: anish-l5-kit\n",
      "  iterations_since_restore: 39\n",
      "  loss: 40.36061096191406\n",
      "  node_ip: 10.150.0.3\n",
      "  pid: 20925\n",
      "  time_since_restore: 148.61425518989563\n",
      "  time_this_iter_s: 3.019916534423828\n",
      "  time_total_s: 148.61425518989563\n",
      "  timestamp: 1660925138\n",
      "  timesteps_since_restore: 0\n",
      "  training_iteration: 39\n",
      "  trial_id: f95a0714\n",
      "  warmup_time: 0.005228996276855469\n",
      "  \n",
      "\u001b[2m\u001b[36m(RayTrainWorker pid=20992)\u001b[0m {'loss': 40.36061096191406, 'avg_loss': 94.7264703494998}\n",
      "\u001b[2m\u001b[36m(RayTrainWorker pid=20992)\u001b[0m {'loss': 107.68529510498047, 'avg_loss': 95.05044096838682}\n",
      "\u001b[2m\u001b[36m(RayTrainWorker pid=20992)\u001b[0m {'loss': 227.02377319335938, 'avg_loss': 98.26930272997153}\n",
      "Result for TorchTrainer_f95a0714:\n",
      "  _time_this_iter_s: 3.3249733448028564\n",
      "  _timestamp: 1660925145\n",
      "  _training_iteration: 41\n",
      "  avg_loss: 98.26930272997153\n",
      "  date: 2022-08-19_16-05-45\n",
      "  done: false\n",
      "  experiment_id: 2a59d13827134d63b5a4e79e3ac1cecf\n",
      "  hostname: anish-l5-kit\n",
      "  iterations_since_restore: 41\n",
      "  loss: 227.02377319335938\n",
      "  node_ip: 10.150.0.3\n",
      "  pid: 20925\n",
      "  should_checkpoint: true\n",
      "  time_since_restore: 155.27447533607483\n",
      "  time_this_iter_s: 3.614703416824341\n",
      "  time_total_s: 155.27447533607483\n",
      "  timestamp: 1660925145\n",
      "  timesteps_since_restore: 0\n",
      "  training_iteration: 41\n",
      "  trial_id: f95a0714\n",
      "  warmup_time: 0.005228996276855469\n",
      "  \n"
     ]
    },
    {
     "name": "stderr",
     "output_type": "stream",
     "text": [
      "\u001b[34m\u001b[1mwandb\u001b[0m: Adding directory to artifact (/home/jupyter/ray_results/TorchTrainer_2022-08-19_15-45-58/TorchTrainer_f95a0714_6_batch_size=9.0000,format_version=4,future_num_frames=50,history_num_frames=0,model_architecture=resnet50,r_2022-08-19_16-03-07/checkpoint_000004)... Done. 1.0s\n"
     ]
    },
    {
     "name": "stdout",
     "output_type": "stream",
     "text": [
      "\u001b[2m\u001b[36m(RayTrainWorker pid=20992)\u001b[0m {'loss': 13.470518112182617, 'avg_loss': 96.2502840485956}\n",
      "\u001b[2m\u001b[36m(RayTrainWorker pid=20992)\u001b[0m {'loss': 12.530905723571777, 'avg_loss': 94.30332176196714}\n",
      "Result for TorchTrainer_f95a0714:\n",
      "  _time_this_iter_s: 2.974734306335449\n",
      "  _timestamp: 1660925151\n",
      "  _training_iteration: 43\n",
      "  avg_loss: 94.30332176196714\n",
      "  date: 2022-08-19_16-05-51\n",
      "  done: false\n",
      "  experiment_id: 2a59d13827134d63b5a4e79e3ac1cecf\n",
      "  hostname: anish-l5-kit\n",
      "  iterations_since_restore: 43\n",
      "  loss: 12.530905723571777\n",
      "  node_ip: 10.150.0.3\n",
      "  pid: 20925\n",
      "  time_since_restore: 161.6743221282959\n",
      "  time_this_iter_s: 3.0516881942749023\n",
      "  time_total_s: 161.6743221282959\n",
      "  timestamp: 1660925151\n",
      "  timesteps_since_restore: 0\n",
      "  training_iteration: 43\n",
      "  trial_id: f95a0714\n",
      "  warmup_time: 0.005228996276855469\n",
      "  \n",
      "\u001b[2m\u001b[36m(RayTrainWorker pid=20992)\u001b[0m {'loss': 123.29106903076172, 'avg_loss': 94.9621341998943}\n",
      "\u001b[2m\u001b[36m(RayTrainWorker pid=20992)\u001b[0m {'loss': 107.22435760498047, 'avg_loss': 95.23462805334064}\n",
      "Result for TorchTrainer_f95a0714:\n",
      "  _time_this_iter_s: 3.323509693145752\n",
      "  _timestamp: 1660925158\n",
      "  _training_iteration: 45\n",
      "  avg_loss: 95.23462805334064\n",
      "  date: 2022-08-19_16-05-58\n",
      "  done: false\n",
      "  experiment_id: 2a59d13827134d63b5a4e79e3ac1cecf\n",
      "  hostname: anish-l5-kit\n",
      "  iterations_since_restore: 45\n",
      "  loss: 107.22435760498047\n",
      "  node_ip: 10.150.0.3\n",
      "  pid: 20925\n",
      "  time_since_restore: 168.05078768730164\n",
      "  time_this_iter_s: 3.33270001411438\n",
      "  time_total_s: 168.05078768730164\n",
      "  timestamp: 1660925158\n",
      "  timesteps_since_restore: 0\n",
      "  training_iteration: 45\n",
      "  trial_id: f95a0714\n",
      "  warmup_time: 0.005228996276855469\n",
      "  \n",
      "\u001b[2m\u001b[36m(RayTrainWorker pid=20992)\u001b[0m {'loss': 45.483856201171875, 'avg_loss': 94.15308953481524}\n",
      "Result for TorchTrainer_f95a0714:\n",
      "  _time_this_iter_s: 3.702457904815674\n",
      "  _timestamp: 1660925164\n",
      "  _training_iteration: 47\n",
      "  avg_loss: 92.90794730804701\n",
      "  date: 2022-08-19_16-06-04\n",
      "  done: false\n",
      "  experiment_id: 2a59d13827134d63b5a4e79e3ac1cecf\n",
      "  hostname: anish-l5-kit\n",
      "  iterations_since_restore: 47\n",
      "  loss: 35.631404876708984\n",
      "  node_ip: 10.150.0.3\n",
      "  pid: 20925\n",
      "  time_since_restore: 174.6345977783203\n",
      "  time_this_iter_s: 3.607994794845581\n",
      "  time_total_s: 174.6345977783203\n",
      "  timestamp: 1660925164\n",
      "  timesteps_since_restore: 0\n",
      "  training_iteration: 47\n",
      "  trial_id: f95a0714\n",
      "  warmup_time: 0.005228996276855469\n",
      "  \n",
      "\u001b[2m\u001b[36m(RayTrainWorker pid=20992)\u001b[0m {'loss': 35.631404876708984, 'avg_loss': 92.90794730804701}\n",
      "\u001b[2m\u001b[36m(RayTrainWorker pid=20992)\u001b[0m {'loss': 12.489423751831055, 'avg_loss': 91.23256140062585}\n",
      "Result for TorchTrainer_f95a0714:\n",
      "  _time_this_iter_s: 3.035252332687378\n",
      "  _timestamp: 1660925170\n",
      "  _training_iteration: 49\n",
      "  avg_loss: 92.04115448299112\n",
      "  date: 2022-08-19_16-06-10\n",
      "  done: false\n",
      "  experiment_id: 2a59d13827134d63b5a4e79e3ac1cecf\n",
      "  hostname: anish-l5-kit\n",
      "  iterations_since_restore: 49\n",
      "  loss: 130.85362243652344\n",
      "  node_ip: 10.150.0.3\n",
      "  pid: 20925\n",
      "  time_since_restore: 180.67143368721008\n",
      "  time_this_iter_s: 3.0026965141296387\n",
      "  time_total_s: 180.67143368721008\n",
      "  timestamp: 1660925170\n",
      "  timesteps_since_restore: 0\n",
      "  training_iteration: 49\n",
      "  trial_id: f95a0714\n",
      "  warmup_time: 0.005228996276855469\n",
      "  \n",
      "\u001b[2m\u001b[36m(RayTrainWorker pid=20992)\u001b[0m {'loss': 130.85362243652344, 'avg_loss': 92.04115448299112}\n",
      "\u001b[2m\u001b[36m(RayTrainWorker pid=20992)\u001b[0m {'loss': 24.70191764831543, 'avg_loss': 90.6943697462976}\n"
     ]
    },
    {
     "name": "stderr",
     "output_type": "stream",
     "text": [
      "\u001b[34m\u001b[1mwandb\u001b[0m: Adding directory to artifact (/home/jupyter/ray_results/TorchTrainer_2022-08-19_15-45-58/TorchTrainer_f95a0714_6_batch_size=9.0000,format_version=4,future_num_frames=50,history_num_frames=0,model_architecture=resnet50,r_2022-08-19_16-03-07/checkpoint_000005)... Done. 1.6s\n",
      "\u001b[34m\u001b[1mwandb\u001b[0m: Adding directory to artifact (/home/jupyter/ray_results/TorchTrainer_2022-08-19_15-45-58/TorchTrainer_f95a0714_6_batch_size=9.0000,format_version=4,future_num_frames=50,history_num_frames=0,model_architecture=resnet50,r_2022-08-19_16-03-07/checkpoint_000005)... Done. 0.2s\n"
     ]
    },
    {
     "data": {
      "text/html": [
       "Waiting for W&B process to finish... <strong style=\"color:green\">(success).</strong>"
      ],
      "text/plain": [
       "<IPython.core.display.HTML object>"
      ]
     },
     "metadata": {},
     "output_type": "display_data"
    },
    {
     "data": {
      "application/vnd.jupyter.widget-view+json": {
       "model_id": "41fcd71ebdad4389b6b3e2e8a29cdafb",
       "version_major": 2,
       "version_minor": 0
      },
      "text/plain": [
       "VBox(children=(Label(value='544.948 MB of 544.948 MB uploaded (90.796 MB deduped)\\r'), FloatProgress(value=1.0…"
      ]
     },
     "metadata": {},
     "output_type": "display_data"
    },
    {
     "data": {
      "text/html": [
       "W&B sync reduced upload amount by 16.7%             "
      ],
      "text/plain": [
       "<IPython.core.display.HTML object>"
      ]
     },
     "metadata": {},
     "output_type": "display_data"
    },
    {
     "data": {
      "text/html": [
       "<style>\n",
       "    table.wandb td:nth-child(1) { padding: 0 10px; text-align: left ; width: auto;} td:nth-child(2) {text-align: left ; width: 100%}\n",
       "    .wandb-row { display: flex; flex-direction: row; flex-wrap: wrap; justify-content: flex-start; width: 100% }\n",
       "    .wandb-col { display: flex; flex-direction: column; flex-basis: 100%; flex: 1; padding: 10px; }\n",
       "    </style>\n",
       "<div class=\"wandb-row\"><div class=\"wandb-col\"><h3>Run history:</h3><br/><table class=\"wandb\"><tr><td>avg_loss</td><td>▁▃▃▂▂▂▂▃▅▅▅▅▆▆▆▇███▇▇▇▇▇▇▇▇▇▇▇▇▇▇▇▇▇▇▇▇▇</td></tr><tr><td>iterations_since_restore</td><td>▁▁▁▁▂▂▂▂▂▃▃▃▃▃▃▄▄▄▄▄▅▅▅▅▅▅▆▆▆▆▆▆▇▇▇▇▇███</td></tr><tr><td>loss</td><td>▁▂▁▁▁▂▁▂▅▂▃▂█▅▂▆█▁▂▂▂▁▆▄▂▁▂▁█▃▄▂▅▁▁▃▂▂▁▁</td></tr><tr><td>time_since_restore</td><td>▁▁▁▁▂▂▂▂▂▃▃▃▃▃▃▄▄▄▄▄▅▅▅▅▅▅▆▆▆▆▆▆▇▇▇▇▇███</td></tr><tr><td>time_this_iter_s</td><td>█▁▁▁▁▁▁▁▁▁▁▁▁▁▁▁▁▁▁▁▁▁▁▁▁▁▁▁▁▁▁▁▁▁▁▁▁▁▁▁</td></tr><tr><td>time_total_s</td><td>▁▁▁▁▂▂▂▂▂▃▃▃▃▃▃▄▄▄▄▄▅▅▅▅▅▅▆▆▆▆▆▆▇▇▇▇▇███</td></tr><tr><td>timestamp</td><td>▁▁▁▁▂▂▂▂▂▃▃▃▃▃▃▄▄▄▄▄▅▅▅▅▅▅▆▆▆▆▆▆▇▇▇▇▇███</td></tr><tr><td>timesteps_since_restore</td><td>▁▁▁▁▁▁▁▁▁▁▁▁▁▁▁▁▁▁▁▁▁▁▁▁▁▁▁▁▁▁▁▁▁▁▁▁▁▁▁▁</td></tr><tr><td>training_iteration</td><td>▁▁▁▁▂▂▂▂▂▃▃▃▃▃▃▄▄▄▄▄▅▅▅▅▅▅▆▆▆▆▆▆▇▇▇▇▇███</td></tr><tr><td>warmup_time</td><td>▁▁▁▁▁▁▁▁▁▁▁▁▁▁▁▁▁▁▁▁▁▁▁▁▁▁▁▁▁▁▁▁▁▁▁▁▁▁▁▁</td></tr></table><br/></div><div class=\"wandb-col\"><h3>Run summary:</h3><br/><table class=\"wandb\"><tr><td>avg_loss</td><td>90.69437</td></tr><tr><td>iterations_since_restore</td><td>50</td></tr><tr><td>loss</td><td>24.70192</td></tr><tr><td>time_since_restore</td><td>184.226</td></tr><tr><td>time_this_iter_s</td><td>3.55457</td></tr><tr><td>time_total_s</td><td>184.226</td></tr><tr><td>timestamp</td><td>1660925174</td></tr><tr><td>timesteps_since_restore</td><td>0</td></tr><tr><td>training_iteration</td><td>50</td></tr><tr><td>warmup_time</td><td>0.00523</td></tr></table><br/></div></div>"
      ],
      "text/plain": [
       "<IPython.core.display.HTML object>"
      ]
     },
     "metadata": {},
     "output_type": "display_data"
    },
    {
     "data": {
      "text/html": [
       "Synced <strong style=\"color:#cdcd00\">TorchTrainer_f95a0714</strong>: <a href=\"https://wandb.ai/l5-demo/l5-prediction-trials/runs/f95a0714\" target=\"_blank\">https://wandb.ai/l5-demo/l5-prediction-trials/runs/f95a0714</a><br/>Synced 7 W&B file(s), 0 media file(s), 14 artifact file(s) and 1 other file(s)"
      ],
      "text/plain": [
       "<IPython.core.display.HTML object>"
      ]
     },
     "metadata": {},
     "output_type": "display_data"
    },
    {
     "data": {
      "text/html": [
       "Find logs at: <code>./wandb/run-20220819_160307-f95a0714/logs</code>"
      ],
      "text/plain": [
       "<IPython.core.display.HTML object>"
      ]
     },
     "metadata": {},
     "output_type": "display_data"
    },
    {
     "name": "stdout",
     "output_type": "stream",
     "text": [
      "Result for TorchTrainer_f95a0714:\n",
      "  _time_this_iter_s: 3.2022571563720703\n",
      "  _timestamp: 1660925174\n",
      "  _training_iteration: 50\n",
      "  avg_loss: 90.6943697462976\n",
      "  date: 2022-08-19_16-06-14\n",
      "  done: true\n",
      "  experiment_id: 2a59d13827134d63b5a4e79e3ac1cecf\n",
      "  experiment_tag: 6_batch_size=9.0000,format_version=4,future_num_frames=50,history_num_frames=0,model_architecture=resnet50,render_ego_history=True,step_time=0.1000,dataset_meta_key=meta_json,disable_traffic_light_faces=False,ego_center=0_25_0_5,filter_agents_threshold=0.5000,map_type=py_semantic,pixel_size=0_5_0_5,raster_size=224_224,satellite_map_key=aerial_map_aerial_map_png,semantic_map_key=semantic_map_semantic_map_pb,set_origin_to_bottom=True,batch_size=12,key=scenes_sample_zarr,num_workers=16,shuffle=True,checkpoint_every_n_steps=10000,eval_every_n_steps=10000,max_num_steps=5,batch_size=12,key=scenes_sample_zarr,num_workers=16,shuffle=False,dataset_key=scenes_sample_zarr,lr=0.0038,max_num_steps=50.0000,num_workers=16,shuffle=True\n",
      "  hostname: anish-l5-kit\n",
      "  iterations_since_restore: 50\n",
      "  loss: 24.70191764831543\n",
      "  node_ip: 10.150.0.3\n",
      "  pid: 20925\n",
      "  should_checkpoint: true\n",
      "  time_since_restore: 184.22600293159485\n",
      "  time_this_iter_s: 3.5545692443847656\n",
      "  time_total_s: 184.22600293159485\n",
      "  timestamp: 1660925174\n",
      "  timesteps_since_restore: 0\n",
      "  training_iteration: 50\n",
      "  trial_id: f95a0714\n",
      "  warmup_time: 0.005228996276855469\n",
      "  \n"
     ]
    },
    {
     "name": "stderr",
     "output_type": "stream",
     "text": [
      "\u001b[2m\u001b[36m(RayTrainWorker pid=22322)\u001b[0m 2022-08-19 16:06:32,962\tINFO config.py:72 -- Setting up process group for: env:// [rank=0, world_size=3]\n",
      "\u001b[2m\u001b[36m(RayTrainWorker pid=22323)\u001b[0m /opt/conda/lib/python3.7/site-packages/torch/utils/data/dataloader.py:566: UserWarning: This DataLoader will create 16 worker processes in total. Our suggested max number of worker in current system is 4, which is smaller than what this DataLoader is going to create. Please be aware that excessive worker creation might get DataLoader running slow or even freeze, lower the worker number to avoid potential slowness/freeze if necessary.\n",
      "\u001b[2m\u001b[36m(RayTrainWorker pid=22323)\u001b[0m   cpuset_checked))\n",
      "\u001b[2m\u001b[36m(RayTrainWorker pid=22323)\u001b[0m /opt/conda/lib/python3.7/site-packages/torchvision/models/_utils.py:209: UserWarning: The parameter 'pretrained' is deprecated since 0.13 and will be removed in 0.15, please use 'weights' instead.\n",
      "\u001b[2m\u001b[36m(RayTrainWorker pid=22323)\u001b[0m   f\"The parameter '{pretrained_param}' is deprecated since 0.13 and will be removed in 0.15, \"\n",
      "\u001b[2m\u001b[36m(RayTrainWorker pid=22323)\u001b[0m /opt/conda/lib/python3.7/site-packages/torchvision/models/_utils.py:223: UserWarning: Arguments other than a weight enum or `None` for 'weights' are deprecated since 0.13 and will be removed in 0.15. The current behavior is equivalent to passing `weights=ResNet50_Weights.IMAGENET1K_V1`. You can also use `weights=ResNet50_Weights.DEFAULT` to get the most up-to-date weights.\n",
      "\u001b[2m\u001b[36m(RayTrainWorker pid=22323)\u001b[0m   warnings.warn(msg)\n",
      "\u001b[2m\u001b[36m(RayTrainWorker pid=22324)\u001b[0m /opt/conda/lib/python3.7/site-packages/torch/utils/data/dataloader.py:566: UserWarning: This DataLoader will create 16 worker processes in total. Our suggested max number of worker in current system is 4, which is smaller than what this DataLoader is going to create. Please be aware that excessive worker creation might get DataLoader running slow or even freeze, lower the worker number to avoid potential slowness/freeze if necessary.\n",
      "\u001b[2m\u001b[36m(RayTrainWorker pid=22324)\u001b[0m   cpuset_checked))\n",
      "\u001b[2m\u001b[36m(RayTrainWorker pid=22324)\u001b[0m /opt/conda/lib/python3.7/site-packages/torchvision/models/_utils.py:209: UserWarning: The parameter 'pretrained' is deprecated since 0.13 and will be removed in 0.15, please use 'weights' instead.\n",
      "\u001b[2m\u001b[36m(RayTrainWorker pid=22324)\u001b[0m   f\"The parameter '{pretrained_param}' is deprecated since 0.13 and will be removed in 0.15, \"\n",
      "\u001b[2m\u001b[36m(RayTrainWorker pid=22324)\u001b[0m /opt/conda/lib/python3.7/site-packages/torchvision/models/_utils.py:223: UserWarning: Arguments other than a weight enum or `None` for 'weights' are deprecated since 0.13 and will be removed in 0.15. The current behavior is equivalent to passing `weights=ResNet50_Weights.IMAGENET1K_V1`. You can also use `weights=ResNet50_Weights.DEFAULT` to get the most up-to-date weights.\n",
      "\u001b[2m\u001b[36m(RayTrainWorker pid=22324)\u001b[0m   warnings.warn(msg)\n",
      "\u001b[2m\u001b[36m(RayTrainWorker pid=22322)\u001b[0m /opt/conda/lib/python3.7/site-packages/torch/utils/data/dataloader.py:566: UserWarning: This DataLoader will create 16 worker processes in total. Our suggested max number of worker in current system is 4, which is smaller than what this DataLoader is going to create. Please be aware that excessive worker creation might get DataLoader running slow or even freeze, lower the worker number to avoid potential slowness/freeze if necessary.\n",
      "\u001b[2m\u001b[36m(RayTrainWorker pid=22322)\u001b[0m   cpuset_checked))\n",
      "\u001b[2m\u001b[36m(RayTrainWorker pid=22322)\u001b[0m /opt/conda/lib/python3.7/site-packages/torchvision/models/_utils.py:209: UserWarning: The parameter 'pretrained' is deprecated since 0.13 and will be removed in 0.15, please use 'weights' instead.\n",
      "\u001b[2m\u001b[36m(RayTrainWorker pid=22322)\u001b[0m   f\"The parameter '{pretrained_param}' is deprecated since 0.13 and will be removed in 0.15, \"\n",
      "\u001b[2m\u001b[36m(RayTrainWorker pid=22322)\u001b[0m /opt/conda/lib/python3.7/site-packages/torchvision/models/_utils.py:223: UserWarning: Arguments other than a weight enum or `None` for 'weights' are deprecated since 0.13 and will be removed in 0.15. The current behavior is equivalent to passing `weights=ResNet50_Weights.IMAGENET1K_V1`. You can also use `weights=ResNet50_Weights.DEFAULT` to get the most up-to-date weights.\n",
      "\u001b[2m\u001b[36m(RayTrainWorker pid=22322)\u001b[0m   warnings.warn(msg)\n",
      "\u001b[2m\u001b[36m(RayTrainWorker pid=22322)\u001b[0m 2022-08-19 16:06:41,730\tINFO train_loop_utils.py:300 -- Moving model to device: cpu\n",
      "\u001b[2m\u001b[36m(RayTrainWorker pid=22322)\u001b[0m 2022-08-19 16:06:41,732\tINFO train_loop_utils.py:347 -- Wrapping provided model in DDP.\n"
     ]
    },
    {
     "name": "stdout",
     "output_type": "stream",
     "text": [
      "\u001b[2m\u001b[36m(RayTrainWorker pid=22322)\u001b[0m {'loss': 23.46404457092285, 'avg_loss': 23.46404457092285}\n"
     ]
    },
    {
     "name": "stderr",
     "output_type": "stream",
     "text": [
      "\u001b[34m\u001b[1mwandb\u001b[0m: Adding directory to artifact (/home/jupyter/ray_results/TorchTrainer_2022-08-19_15-45-58/TorchTrainer_6a04551e_7_batch_size=24.0000,format_version=4,future_num_frames=50,history_num_frames=0,model_architecture=resnet50,_2022-08-19_16-06-26/checkpoint_000000)... "
     ]
    },
    {
     "name": "stdout",
     "output_type": "stream",
     "text": [
      "Result for TorchTrainer_6a04551e:\n",
      "  _time_this_iter_s: 37.16614580154419\n",
      "  _timestamp: 1660925230\n",
      "  _training_iteration: 1\n",
      "  avg_loss: 23.46404457092285\n",
      "  date: 2022-08-19_16-07-11\n",
      "  done: false\n",
      "  experiment_id: 82a02ba1cdd74513ad9b42d380f9593d\n",
      "  hostname: anish-l5-kit\n",
      "  iterations_since_restore: 1\n",
      "  loss: 23.46404457092285\n",
      "  node_ip: 10.150.0.3\n",
      "  pid: 22254\n",
      "  should_checkpoint: true\n",
      "  time_since_restore: 42.31917643547058\n",
      "  time_this_iter_s: 42.31917643547058\n",
      "  time_total_s: 42.31917643547058\n",
      "  timestamp: 1660925231\n",
      "  timesteps_since_restore: 0\n",
      "  training_iteration: 1\n",
      "  trial_id: 6a04551e\n",
      "  warmup_time: 0.0055086612701416016\n",
      "  \n"
     ]
    },
    {
     "name": "stderr",
     "output_type": "stream",
     "text": [
      "Done. 1.2s\n"
     ]
    },
    {
     "name": "stdout",
     "output_type": "stream",
     "text": [
      "Result for TorchTrainer_6a04551e:\n",
      "  _time_this_iter_s: 8.33419156074524\n",
      "  _timestamp: 1660925239\n",
      "  _training_iteration: 2\n",
      "  avg_loss: 15.82620620727539\n",
      "  date: 2022-08-19_16-07-19\n",
      "  done: false\n",
      "  experiment_id: 82a02ba1cdd74513ad9b42d380f9593d\n",
      "  hostname: anish-l5-kit\n",
      "  iterations_since_restore: 2\n",
      "  loss: 8.18836784362793\n",
      "  node_ip: 10.150.0.3\n",
      "  pid: 22254\n",
      "  time_since_restore: 50.036550998687744\n",
      "  time_this_iter_s: 7.717374563217163\n",
      "  time_total_s: 50.036550998687744\n",
      "  timestamp: 1660925239\n",
      "  timesteps_since_restore: 0\n",
      "  training_iteration: 2\n",
      "  trial_id: 6a04551e\n",
      "  warmup_time: 0.0055086612701416016\n",
      "  \n",
      "\u001b[2m\u001b[36m(RayTrainWorker pid=22322)\u001b[0m {'loss': 8.18836784362793, 'avg_loss': 15.82620620727539}\n",
      "\u001b[2m\u001b[36m(RayTrainWorker pid=22322)\u001b[0m {'loss': 12.313817024230957, 'avg_loss': 14.655409812927246}\n",
      "Result for TorchTrainer_6a04551e:\n",
      "  _time_this_iter_s: 7.212074518203735\n",
      "  _timestamp: 1660925246\n",
      "  _training_iteration: 3\n",
      "  avg_loss: 14.655409812927246\n",
      "  date: 2022-08-19_16-07-26\n",
      "  done: false\n",
      "  experiment_id: 82a02ba1cdd74513ad9b42d380f9593d\n",
      "  hostname: anish-l5-kit\n",
      "  iterations_since_restore: 3\n",
      "  loss: 12.313817024230957\n",
      "  node_ip: 10.150.0.3\n",
      "  pid: 22254\n",
      "  time_since_restore: 57.29806566238403\n",
      "  time_this_iter_s: 7.261514663696289\n",
      "  time_total_s: 57.29806566238403\n",
      "  timestamp: 1660925246\n",
      "  timesteps_since_restore: 0\n",
      "  training_iteration: 3\n",
      "  trial_id: 6a04551e\n",
      "  warmup_time: 0.0055086612701416016\n",
      "  \n",
      "Result for TorchTrainer_6a04551e:\n",
      "  _time_this_iter_s: 7.199290037155151\n",
      "  _timestamp: 1660925253\n",
      "  _training_iteration: 4\n",
      "  avg_loss: 53.14037251472473\n",
      "  date: 2022-08-19_16-07-33\n",
      "  done: false\n",
      "  experiment_id: 82a02ba1cdd74513ad9b42d380f9593d\n",
      "  hostname: anish-l5-kit\n",
      "  iterations_since_restore: 4\n",
      "  loss: 168.5952606201172\n",
      "  node_ip: 10.150.0.3\n",
      "  pid: 22254\n",
      "  time_since_restore: 64.44806337356567\n",
      "  time_this_iter_s: 7.149997711181641\n",
      "  time_total_s: 64.44806337356567\n",
      "  timestamp: 1660925253\n",
      "  timesteps_since_restore: 0\n",
      "  training_iteration: 4\n",
      "  trial_id: 6a04551e\n",
      "  warmup_time: 0.0055086612701416016\n",
      "  \n",
      "\u001b[2m\u001b[36m(RayTrainWorker pid=22322)\u001b[0m {'loss': 168.5952606201172, 'avg_loss': 53.14037251472473}\n",
      "Result for TorchTrainer_6a04551e:\n",
      "  _time_this_iter_s: 7.334332466125488\n",
      "  _timestamp: 1660925260\n",
      "  _training_iteration: 5\n",
      "  avg_loss: 54.41228122711182\n",
      "  date: 2022-08-19_16-07-40\n",
      "  done: false\n",
      "  experiment_id: 82a02ba1cdd74513ad9b42d380f9593d\n",
      "  hostname: anish-l5-kit\n",
      "  iterations_since_restore: 5\n",
      "  loss: 59.499916076660156\n",
      "  node_ip: 10.150.0.3\n",
      "  pid: 22254\n",
      "  time_since_restore: 71.78190612792969\n",
      "  time_this_iter_s: 7.333842754364014\n",
      "  time_total_s: 71.78190612792969\n",
      "  timestamp: 1660925260\n",
      "  timesteps_since_restore: 0\n",
      "  training_iteration: 5\n",
      "  trial_id: 6a04551e\n",
      "  warmup_time: 0.0055086612701416016\n",
      "  \n",
      "\u001b[2m\u001b[36m(RayTrainWorker pid=22322)\u001b[0m {'loss': 59.499916076660156, 'avg_loss': 54.41228122711182}\n"
     ]
    },
    {
     "name": "stderr",
     "output_type": "stream",
     "text": [
      "\u001b[2m\u001b[36m(RayTrainWorker pid=22324)\u001b[0m E0819 16:07:41.902977496   22362 chttp2_transport.cc:1103]   Received a GOAWAY with error code ENHANCE_YOUR_CALM and debug data equal to \"too_many_pings\"\n"
     ]
    },
    {
     "name": "stdout",
     "output_type": "stream",
     "text": [
      "Result for TorchTrainer_6a04551e:\n",
      "  _time_this_iter_s: 7.285120487213135\n",
      "  _timestamp: 1660925268\n",
      "  _training_iteration: 6\n",
      "  avg_loss: 68.41846799850464\n",
      "  date: 2022-08-19_16-07-48\n",
      "  done: false\n",
      "  experiment_id: 82a02ba1cdd74513ad9b42d380f9593d\n",
      "  hostname: anish-l5-kit\n",
      "  iterations_since_restore: 6\n",
      "  loss: 138.44940185546875\n",
      "  node_ip: 10.150.0.3\n",
      "  pid: 22254\n",
      "  time_since_restore: 79.09725451469421\n",
      "  time_this_iter_s: 7.315348386764526\n",
      "  time_total_s: 79.09725451469421\n",
      "  timestamp: 1660925268\n",
      "  timesteps_since_restore: 0\n",
      "  training_iteration: 6\n",
      "  trial_id: 6a04551e\n",
      "  warmup_time: 0.0055086612701416016\n",
      "  \n",
      "\u001b[2m\u001b[36m(RayTrainWorker pid=22322)\u001b[0m {'loss': 138.44940185546875, 'avg_loss': 68.41846799850464}\n",
      "\u001b[2m\u001b[36m(RayTrainWorker pid=22322)\u001b[0m {'loss': 161.7787322998047, 'avg_loss': 81.75564861297607}\n"
     ]
    },
    {
     "name": "stderr",
     "output_type": "stream",
     "text": [
      "\u001b[34m\u001b[1mwandb\u001b[0m: Adding directory to artifact (/home/jupyter/ray_results/TorchTrainer_2022-08-19_15-45-58/TorchTrainer_6a04551e_7_batch_size=24.0000,format_version=4,future_num_frames=50,history_num_frames=0,model_architecture=resnet50,_2022-08-19_16-06-26/checkpoint_000001)... "
     ]
    },
    {
     "name": "stdout",
     "output_type": "stream",
     "text": [
      "Result for TorchTrainer_6a04551e:\n",
      "  _time_this_iter_s: 7.473365783691406\n",
      "  _timestamp: 1660925275\n",
      "  _training_iteration: 7\n",
      "  avg_loss: 81.75564861297607\n",
      "  date: 2022-08-19_16-07-56\n",
      "  done: false\n",
      "  experiment_id: 82a02ba1cdd74513ad9b42d380f9593d\n",
      "  hostname: anish-l5-kit\n",
      "  iterations_since_restore: 7\n",
      "  loss: 161.7787322998047\n",
      "  node_ip: 10.150.0.3\n",
      "  pid: 22254\n",
      "  should_checkpoint: true\n",
      "  time_since_restore: 87.09487724304199\n",
      "  time_this_iter_s: 7.997622728347778\n",
      "  time_total_s: 87.09487724304199\n",
      "  timestamp: 1660925276\n",
      "  timesteps_since_restore: 0\n",
      "  training_iteration: 7\n",
      "  trial_id: 6a04551e\n",
      "  warmup_time: 0.0055086612701416016\n",
      "  \n"
     ]
    },
    {
     "name": "stderr",
     "output_type": "stream",
     "text": [
      "Done. 1.1s\n"
     ]
    },
    {
     "name": "stdout",
     "output_type": "stream",
     "text": [
      "Result for TorchTrainer_6a04551e:\n",
      "  _time_this_iter_s: 8.884138584136963\n",
      "  _timestamp: 1660925284\n",
      "  _training_iteration: 8\n",
      "  avg_loss: 87.81594717502594\n",
      "  date: 2022-08-19_16-08-04\n",
      "  done: false\n",
      "  experiment_id: 82a02ba1cdd74513ad9b42d380f9593d\n",
      "  hostname: anish-l5-kit\n",
      "  iterations_since_restore: 8\n",
      "  loss: 130.238037109375\n",
      "  node_ip: 10.150.0.3\n",
      "  pid: 22254\n",
      "  time_since_restore: 95.42925834655762\n",
      "  time_this_iter_s: 8.334381103515625\n",
      "  time_total_s: 95.42925834655762\n",
      "  timestamp: 1660925284\n",
      "  timesteps_since_restore: 0\n",
      "  training_iteration: 8\n",
      "  trial_id: 6a04551e\n",
      "  warmup_time: 0.0055086612701416016\n",
      "  \n",
      "\u001b[2m\u001b[36m(RayTrainWorker pid=22322)\u001b[0m {'loss': 130.238037109375, 'avg_loss': 87.81594717502594}\n",
      "Result for TorchTrainer_6a04551e:\n",
      "  _time_this_iter_s: 7.3057451248168945\n",
      "  _timestamp: 1660925291\n",
      "  _training_iteration: 9\n",
      "  avg_loss: 81.75838650597467\n",
      "  date: 2022-08-19_16-08-11\n",
      "  done: false\n",
      "  experiment_id: 82a02ba1cdd74513ad9b42d380f9593d\n",
      "  hostname: anish-l5-kit\n",
      "  iterations_since_restore: 9\n",
      "  loss: 33.29790115356445\n",
      "  node_ip: 10.150.0.3\n",
      "  pid: 22254\n",
      "  time_since_restore: 102.73095369338989\n",
      "  time_this_iter_s: 7.301695346832275\n",
      "  time_total_s: 102.73095369338989\n",
      "  timestamp: 1660925291\n",
      "  timesteps_since_restore: 0\n",
      "  training_iteration: 9\n",
      "  trial_id: 6a04551e\n",
      "  warmup_time: 0.0055086612701416016\n",
      "  \n",
      "\u001b[2m\u001b[36m(RayTrainWorker pid=22322)\u001b[0m {'loss': 33.29790115356445, 'avg_loss': 81.75838650597467}\n",
      "Result for TorchTrainer_6a04551e:\n",
      "  _time_this_iter_s: 7.296623468399048\n",
      "  _timestamp: 1660925299\n",
      "  _training_iteration: 10\n",
      "  avg_loss: 79.19221773147584\n",
      "  date: 2022-08-19_16-08-19\n",
      "  done: false\n",
      "  experiment_id: 82a02ba1cdd74513ad9b42d380f9593d\n",
      "  hostname: anish-l5-kit\n",
      "  iterations_since_restore: 10\n",
      "  loss: 56.09669876098633\n",
      "  node_ip: 10.150.0.3\n",
      "  pid: 22254\n",
      "  time_since_restore: 110.03136038780212\n",
      "  time_this_iter_s: 7.3004066944122314\n",
      "  time_total_s: 110.03136038780212\n",
      "  timestamp: 1660925299\n",
      "  timesteps_since_restore: 0\n",
      "  training_iteration: 10\n",
      "  trial_id: 6a04551e\n",
      "  warmup_time: 0.0055086612701416016\n",
      "  \n",
      "\u001b[2m\u001b[36m(RayTrainWorker pid=22322)\u001b[0m {'loss': 56.09669876098633, 'avg_loss': 79.19221773147584}\n",
      "Result for TorchTrainer_6a04551e:\n",
      "  _time_this_iter_s: 7.279364347457886\n",
      "  _timestamp: 1660925306\n",
      "  _training_iteration: 11\n",
      "  avg_loss: 81.36345785314387\n",
      "  date: 2022-08-19_16-08-26\n",
      "  done: false\n",
      "  experiment_id: 82a02ba1cdd74513ad9b42d380f9593d\n",
      "  hostname: anish-l5-kit\n",
      "  iterations_since_restore: 11\n",
      "  loss: 103.07585906982422\n",
      "  node_ip: 10.150.0.3\n",
      "  pid: 22254\n",
      "  time_since_restore: 117.3072280883789\n",
      "  time_this_iter_s: 7.275867700576782\n",
      "  time_total_s: 117.3072280883789\n",
      "  timestamp: 1660925306\n",
      "  timesteps_since_restore: 0\n",
      "  training_iteration: 11\n",
      "  trial_id: 6a04551e\n",
      "  warmup_time: 0.0055086612701416016\n",
      "  \n",
      "\u001b[2m\u001b[36m(RayTrainWorker pid=22322)\u001b[0m {'loss': 103.07585906982422, 'avg_loss': 81.36345785314387}\n"
     ]
    },
    {
     "name": "stderr",
     "output_type": "stream",
     "text": [
      "\u001b[2m\u001b[36m(RayTrainWorker pid=22322)\u001b[0m E0819 16:08:32.546431265   22580 chttp2_transport.cc:1103]   Received a GOAWAY with error code ENHANCE_YOUR_CALM and debug data equal to \"too_many_pings\"\n"
     ]
    },
    {
     "name": "stdout",
     "output_type": "stream",
     "text": [
      "Result for TorchTrainer_6a04551e:\n",
      "  _time_this_iter_s: 7.613554239273071\n",
      "  _timestamp: 1660925314\n",
      "  _training_iteration: 12\n",
      "  avg_loss: 76.03753225008647\n",
      "  date: 2022-08-19_16-08-34\n",
      "  done: false\n",
      "  experiment_id: 82a02ba1cdd74513ad9b42d380f9593d\n",
      "  hostname: anish-l5-kit\n",
      "  iterations_since_restore: 12\n",
      "  loss: 17.452350616455078\n",
      "  node_ip: 10.150.0.3\n",
      "  pid: 22254\n",
      "  time_since_restore: 124.92431950569153\n",
      "  time_this_iter_s: 7.617091417312622\n",
      "  time_total_s: 124.92431950569153\n",
      "  timestamp: 1660925314\n",
      "  timesteps_since_restore: 0\n",
      "  training_iteration: 12\n",
      "  trial_id: 6a04551e\n",
      "  warmup_time: 0.0055086612701416016\n",
      "  \n",
      "\u001b[2m\u001b[36m(RayTrainWorker pid=22322)\u001b[0m {'loss': 17.452350616455078, 'avg_loss': 76.03753225008647}\n",
      "\u001b[2m\u001b[36m(RayTrainWorker pid=22322)\u001b[0m {'loss': 53.58009338378906, 'avg_loss': 74.31003695267897}\n"
     ]
    },
    {
     "name": "stderr",
     "output_type": "stream",
     "text": [
      "\u001b[34m\u001b[1mwandb\u001b[0m: Adding directory to artifact (/home/jupyter/ray_results/TorchTrainer_2022-08-19_15-45-58/TorchTrainer_6a04551e_7_batch_size=24.0000,format_version=4,future_num_frames=50,history_num_frames=0,model_architecture=resnet50,_2022-08-19_16-06-26/checkpoint_000002)... "
     ]
    },
    {
     "name": "stdout",
     "output_type": "stream",
     "text": [
      "Result for TorchTrainer_6a04551e:\n",
      "  _time_this_iter_s: 9.93157434463501\n",
      "  _timestamp: 1660925324\n",
      "  _training_iteration: 13\n",
      "  avg_loss: 74.31003695267897\n",
      "  date: 2022-08-19_16-08-44\n",
      "  done: false\n",
      "  experiment_id: 82a02ba1cdd74513ad9b42d380f9593d\n",
      "  hostname: anish-l5-kit\n",
      "  iterations_since_restore: 13\n",
      "  loss: 53.58009338378906\n",
      "  node_ip: 10.150.0.3\n",
      "  pid: 22254\n",
      "  should_checkpoint: true\n",
      "  time_since_restore: 135.59925031661987\n",
      "  time_this_iter_s: 10.674930810928345\n",
      "  time_total_s: 135.59925031661987\n",
      "  timestamp: 1660925324\n",
      "  timesteps_since_restore: 0\n",
      "  training_iteration: 13\n",
      "  trial_id: 6a04551e\n",
      "  warmup_time: 0.0055086612701416016\n",
      "  \n"
     ]
    },
    {
     "name": "stderr",
     "output_type": "stream",
     "text": [
      "Done. 1.2s\n"
     ]
    },
    {
     "name": "stdout",
     "output_type": "stream",
     "text": [
      "Result for TorchTrainer_6a04551e:\n",
      "  _time_this_iter_s: 10.900946617126465\n",
      "  _timestamp: 1660925334\n",
      "  _training_iteration: 14\n",
      "  avg_loss: 80.47588191713605\n",
      "  date: 2022-08-19_16-08-54\n",
      "  done: false\n",
      "  experiment_id: 82a02ba1cdd74513ad9b42d380f9593d\n",
      "  hostname: anish-l5-kit\n",
      "  iterations_since_restore: 14\n",
      "  loss: 160.63186645507812\n",
      "  node_ip: 10.150.0.3\n",
      "  pid: 22254\n",
      "  time_since_restore: 145.76004838943481\n",
      "  time_this_iter_s: 10.160798072814941\n",
      "  time_total_s: 145.76004838943481\n",
      "  timestamp: 1660925334\n",
      "  timesteps_since_restore: 0\n",
      "  training_iteration: 14\n",
      "  trial_id: 6a04551e\n",
      "  warmup_time: 0.0055086612701416016\n",
      "  \n",
      "\u001b[2m\u001b[36m(RayTrainWorker pid=22322)\u001b[0m {'loss': 160.63186645507812, 'avg_loss': 80.47588191713605}\n",
      "\u001b[2m\u001b[36m(RayTrainWorker pid=22322)\u001b[0m {'loss': 72.17362213134766, 'avg_loss': 79.92239793141682}\n",
      "Result for TorchTrainer_6a04551e:\n",
      "  _time_this_iter_s: 8.554540395736694\n",
      "  _timestamp: 1660925343\n",
      "  _training_iteration: 15\n",
      "  avg_loss: 79.92239793141682\n",
      "  date: 2022-08-19_16-09-03\n",
      "  done: false\n",
      "  experiment_id: 82a02ba1cdd74513ad9b42d380f9593d\n",
      "  hostname: anish-l5-kit\n",
      "  iterations_since_restore: 15\n",
      "  loss: 72.17362213134766\n",
      "  node_ip: 10.150.0.3\n",
      "  pid: 22254\n",
      "  time_since_restore: 154.407945394516\n",
      "  time_this_iter_s: 8.647897005081177\n",
      "  time_total_s: 154.407945394516\n",
      "  timestamp: 1660925343\n",
      "  timesteps_since_restore: 0\n",
      "  training_iteration: 15\n",
      "  trial_id: 6a04551e\n",
      "  warmup_time: 0.0055086612701416016\n",
      "  \n",
      "Result for TorchTrainer_6a04551e:\n",
      "  _time_this_iter_s: 7.2843499183654785\n",
      "  _timestamp: 1660925350\n",
      "  _training_iteration: 16\n",
      "  avg_loss: 78.2663899064064\n",
      "  date: 2022-08-19_16-09-10\n",
      "  done: false\n",
      "  experiment_id: 82a02ba1cdd74513ad9b42d380f9593d\n",
      "  hostname: anish-l5-kit\n",
      "  iterations_since_restore: 16\n",
      "  loss: 53.42626953125\n",
      "  node_ip: 10.150.0.3\n",
      "  pid: 22254\n",
      "  time_since_restore: 161.6298599243164\n",
      "  time_this_iter_s: 7.221914529800415\n",
      "  time_total_s: 161.6298599243164\n",
      "  timestamp: 1660925350\n",
      "  timesteps_since_restore: 0\n",
      "  training_iteration: 16\n",
      "  trial_id: 6a04551e\n",
      "  warmup_time: 0.0055086612701416016\n",
      "  \n",
      "\u001b[2m\u001b[36m(RayTrainWorker pid=22322)\u001b[0m {'loss': 53.42626953125, 'avg_loss': 78.2663899064064}\n",
      "Result for TorchTrainer_6a04551e:\n",
      "  _time_this_iter_s: 7.413783073425293\n",
      "  _timestamp: 1660925358\n",
      "  _training_iteration: 17\n",
      "  avg_loss: 78.59865710314583\n",
      "  date: 2022-08-19_16-09-18\n",
      "  done: false\n",
      "  experiment_id: 82a02ba1cdd74513ad9b42d380f9593d\n",
      "  hostname: anish-l5-kit\n",
      "  iterations_since_restore: 17\n",
      "  loss: 83.91493225097656\n",
      "  node_ip: 10.150.0.3\n",
      "  pid: 22254\n",
      "  time_since_restore: 169.0077829360962\n",
      "  time_this_iter_s: 7.377923011779785\n",
      "  time_total_s: 169.0077829360962\n",
      "  timestamp: 1660925358\n",
      "  timesteps_since_restore: 0\n",
      "  training_iteration: 17\n",
      "  trial_id: 6a04551e\n",
      "  warmup_time: 0.0055086612701416016\n",
      "  \n",
      "\u001b[2m\u001b[36m(RayTrainWorker pid=22322)\u001b[0m {'loss': 83.91493225097656, 'avg_loss': 78.59865710314583}\n",
      "Result for TorchTrainer_6a04551e:\n",
      "  _time_this_iter_s: 7.323033332824707\n",
      "  _timestamp: 1660925365\n",
      "  _training_iteration: 18\n",
      "  avg_loss: 75.99715534845988\n",
      "  date: 2022-08-19_16-09-25\n",
      "  done: false\n",
      "  experiment_id: 82a02ba1cdd74513ad9b42d380f9593d\n",
      "  hostname: anish-l5-kit\n",
      "  iterations_since_restore: 18\n",
      "  loss: 31.771625518798828\n",
      "  node_ip: 10.150.0.3\n",
      "  pid: 22254\n",
      "  time_since_restore: 176.3440957069397\n",
      "  time_this_iter_s: 7.336312770843506\n",
      "  time_total_s: 176.3440957069397\n",
      "  timestamp: 1660925365\n",
      "  timesteps_since_restore: 0\n",
      "  training_iteration: 18\n",
      "  trial_id: 6a04551e\n",
      "  warmup_time: 0.0055086612701416016\n",
      "  \n",
      "\u001b[2m\u001b[36m(RayTrainWorker pid=22322)\u001b[0m {'loss': 31.771625518798828, 'avg_loss': 75.99715534845988}\n",
      "\u001b[2m\u001b[36m(RayTrainWorker pid=22322)\u001b[0m {'loss': 41.650203704833984, 'avg_loss': 74.18942105142693}\n"
     ]
    },
    {
     "name": "stderr",
     "output_type": "stream",
     "text": [
      "\u001b[34m\u001b[1mwandb\u001b[0m: Adding directory to artifact (/home/jupyter/ray_results/TorchTrainer_2022-08-19_15-45-58/TorchTrainer_6a04551e_7_batch_size=24.0000,format_version=4,future_num_frames=50,history_num_frames=0,model_architecture=resnet50,_2022-08-19_16-06-26/checkpoint_000003)... "
     ]
    },
    {
     "name": "stdout",
     "output_type": "stream",
     "text": [
      "Result for TorchTrainer_6a04551e:\n",
      "  _time_this_iter_s: 7.708553791046143\n",
      "  _timestamp: 1660925373\n",
      "  _training_iteration: 19\n",
      "  avg_loss: 74.18942105142693\n",
      "  date: 2022-08-19_16-09-33\n",
      "  done: false\n",
      "  experiment_id: 82a02ba1cdd74513ad9b42d380f9593d\n",
      "  hostname: anish-l5-kit\n",
      "  iterations_since_restore: 19\n",
      "  loss: 41.650203704833984\n",
      "  node_ip: 10.150.0.3\n",
      "  pid: 22254\n",
      "  should_checkpoint: true\n",
      "  time_since_restore: 184.53926539421082\n",
      "  time_this_iter_s: 8.195169687271118\n",
      "  time_total_s: 184.53926539421082\n",
      "  timestamp: 1660925373\n",
      "  timesteps_since_restore: 0\n",
      "  training_iteration: 19\n",
      "  trial_id: 6a04551e\n",
      "  warmup_time: 0.0055086612701416016\n",
      "  \n"
     ]
    },
    {
     "name": "stderr",
     "output_type": "stream",
     "text": [
      "Done. 1.0s\n"
     ]
    },
    {
     "name": "stdout",
     "output_type": "stream",
     "text": [
      "\u001b[2m\u001b[36m(RayTrainWorker pid=22322)\u001b[0m {'loss': 60.612918853759766, 'avg_loss': 73.51059594154358}\n",
      "Result for TorchTrainer_6a04551e:\n",
      "  _time_this_iter_s: 8.049840688705444\n",
      "  _timestamp: 1660925381\n",
      "  _training_iteration: 20\n",
      "  avg_loss: 73.51059594154358\n",
      "  date: 2022-08-19_16-09-41\n",
      "  done: false\n",
      "  experiment_id: 82a02ba1cdd74513ad9b42d380f9593d\n",
      "  hostname: anish-l5-kit\n",
      "  iterations_since_restore: 20\n",
      "  loss: 60.612918853759766\n",
      "  node_ip: 10.150.0.3\n",
      "  pid: 22254\n",
      "  time_since_restore: 192.19243550300598\n",
      "  time_this_iter_s: 7.653170108795166\n",
      "  time_total_s: 192.19243550300598\n",
      "  timestamp: 1660925381\n",
      "  timesteps_since_restore: 0\n",
      "  training_iteration: 20\n",
      "  trial_id: 6a04551e\n",
      "  warmup_time: 0.0055086612701416016\n",
      "  \n",
      "Result for TorchTrainer_6a04551e:\n",
      "  _time_this_iter_s: 7.267251253128052\n",
      "  _timestamp: 1660925388\n",
      "  _training_iteration: 21\n",
      "  avg_loss: 72.35059960683186\n",
      "  date: 2022-08-19_16-09-48\n",
      "  done: false\n",
      "  experiment_id: 82a02ba1cdd74513ad9b42d380f9593d\n",
      "  hostname: anish-l5-kit\n",
      "  iterations_since_restore: 21\n",
      "  loss: 49.150672912597656\n",
      "  node_ip: 10.150.0.3\n",
      "  pid: 22254\n",
      "  time_since_restore: 199.4250955581665\n",
      "  time_this_iter_s: 7.2326600551605225\n",
      "  time_total_s: 199.4250955581665\n",
      "  timestamp: 1660925388\n",
      "  timesteps_since_restore: 0\n",
      "  training_iteration: 21\n",
      "  trial_id: 6a04551e\n",
      "  warmup_time: 0.0055086612701416016\n",
      "  \n",
      "\u001b[2m\u001b[36m(RayTrainWorker pid=22322)\u001b[0m {'loss': 49.150672912597656, 'avg_loss': 72.35059960683186}\n",
      "\u001b[2m\u001b[36m(RayTrainWorker pid=22322)\u001b[0m {'loss': 96.6375961303711, 'avg_loss': 73.45455399426547}\n",
      "Result for TorchTrainer_6a04551e:\n",
      "  _time_this_iter_s: 7.1058290004730225\n",
      "  _timestamp: 1660925395\n",
      "  _training_iteration: 22\n",
      "  avg_loss: 73.45455399426547\n",
      "  date: 2022-08-19_16-09-55\n",
      "  done: false\n",
      "  experiment_id: 82a02ba1cdd74513ad9b42d380f9593d\n",
      "  hostname: anish-l5-kit\n",
      "  iterations_since_restore: 22\n",
      "  loss: 96.6375961303711\n",
      "  node_ip: 10.150.0.3\n",
      "  pid: 22254\n",
      "  time_since_restore: 206.56398129463196\n",
      "  time_this_iter_s: 7.138885736465454\n",
      "  time_total_s: 206.56398129463196\n",
      "  timestamp: 1660925395\n",
      "  timesteps_since_restore: 0\n",
      "  training_iteration: 22\n",
      "  trial_id: 6a04551e\n",
      "  warmup_time: 0.0055086612701416016\n",
      "  \n",
      "Result for TorchTrainer_6a04551e:\n",
      "  _time_this_iter_s: 7.958843231201172\n",
      "  _timestamp: 1660925403\n",
      "  _training_iteration: 23\n",
      "  avg_loss: 72.11520058175792\n",
      "  date: 2022-08-19_16-10-03\n",
      "  done: false\n",
      "  experiment_id: 82a02ba1cdd74513ad9b42d380f9593d\n",
      "  hostname: anish-l5-kit\n",
      "  iterations_since_restore: 23\n",
      "  loss: 42.6494255065918\n",
      "  node_ip: 10.150.0.3\n",
      "  pid: 22254\n",
      "  time_since_restore: 214.4211459159851\n",
      "  time_this_iter_s: 7.857164621353149\n",
      "  time_total_s: 214.4211459159851\n",
      "  timestamp: 1660925403\n",
      "  timesteps_since_restore: 0\n",
      "  training_iteration: 23\n",
      "  trial_id: 6a04551e\n",
      "  warmup_time: 0.0055086612701416016\n",
      "  \n",
      "\u001b[2m\u001b[36m(RayTrainWorker pid=22322)\u001b[0m {'loss': 42.6494255065918, 'avg_loss': 72.11520058175792}\n",
      "Result for TorchTrainer_6a04551e:\n",
      "  _time_this_iter_s: 7.25668740272522\n",
      "  _timestamp: 1660925410\n",
      "  _training_iteration: 24\n",
      "  avg_loss: 69.49242957433064\n",
      "  date: 2022-08-19_16-10-10\n",
      "  done: false\n",
      "  experiment_id: 82a02ba1cdd74513ad9b42d380f9593d\n",
      "  hostname: anish-l5-kit\n",
      "  iterations_since_restore: 24\n",
      "  loss: 9.168696403503418\n",
      "  node_ip: 10.150.0.3\n",
      "  pid: 22254\n",
      "  time_since_restore: 221.6767761707306\n",
      "  time_this_iter_s: 7.255630254745483\n",
      "  time_total_s: 221.6767761707306\n",
      "  timestamp: 1660925410\n",
      "  timesteps_since_restore: 0\n",
      "  training_iteration: 24\n",
      "  trial_id: 6a04551e\n",
      "  warmup_time: 0.0055086612701416016\n",
      "  \n",
      "\u001b[2m\u001b[36m(RayTrainWorker pid=22322)\u001b[0m {'loss': 9.168696403503418, 'avg_loss': 69.49242957433064}\n",
      "\u001b[2m\u001b[36m(RayTrainWorker pid=22322)\u001b[0m {'loss': 177.4814910888672, 'avg_loss': 73.81199203491211}\n"
     ]
    },
    {
     "name": "stderr",
     "output_type": "stream",
     "text": [
      "\u001b[34m\u001b[1mwandb\u001b[0m: Adding directory to artifact (/home/jupyter/ray_results/TorchTrainer_2022-08-19_15-45-58/TorchTrainer_6a04551e_7_batch_size=24.0000,format_version=4,future_num_frames=50,history_num_frames=0,model_architecture=resnet50,_2022-08-19_16-06-26/checkpoint_000004)... "
     ]
    },
    {
     "name": "stdout",
     "output_type": "stream",
     "text": [
      "Result for TorchTrainer_6a04551e:\n",
      "  _time_this_iter_s: 7.510915279388428\n",
      "  _timestamp: 1660925418\n",
      "  _training_iteration: 25\n",
      "  avg_loss: 73.81199203491211\n",
      "  date: 2022-08-19_16-10-18\n",
      "  done: false\n",
      "  experiment_id: 82a02ba1cdd74513ad9b42d380f9593d\n",
      "  hostname: anish-l5-kit\n",
      "  iterations_since_restore: 25\n",
      "  loss: 177.4814910888672\n",
      "  node_ip: 10.150.0.3\n",
      "  pid: 22254\n",
      "  should_checkpoint: true\n",
      "  time_since_restore: 229.66177582740784\n",
      "  time_this_iter_s: 7.984999656677246\n",
      "  time_total_s: 229.66177582740784\n",
      "  timestamp: 1660925418\n",
      "  timesteps_since_restore: 0\n",
      "  training_iteration: 25\n",
      "  trial_id: 6a04551e\n",
      "  warmup_time: 0.0055086612701416016\n",
      "  \n"
     ]
    },
    {
     "name": "stderr",
     "output_type": "stream",
     "text": [
      "Done. 1.1s\n"
     ]
    },
    {
     "name": "stdout",
     "output_type": "stream",
     "text": [
      "Result for TorchTrainer_6a04551e:\n",
      "  _time_this_iter_s: 7.9995033740997314\n",
      "  _timestamp: 1660925426\n",
      "  _training_iteration: 26\n",
      "  avg_loss: 71.80168063823993\n",
      "  date: 2022-08-19_16-10-26\n",
      "  done: false\n",
      "  experiment_id: 82a02ba1cdd74513ad9b42d380f9593d\n",
      "  hostname: anish-l5-kit\n",
      "  iterations_since_restore: 26\n",
      "  loss: 21.543895721435547\n",
      "  node_ip: 10.150.0.3\n",
      "  pid: 22254\n",
      "  time_since_restore: 237.26024317741394\n",
      "  time_this_iter_s: 7.5984673500061035\n",
      "  time_total_s: 237.26024317741394\n",
      "  timestamp: 1660925426\n",
      "  timesteps_since_restore: 0\n",
      "  training_iteration: 26\n",
      "  trial_id: 6a04551e\n",
      "  warmup_time: 0.0055086612701416016\n",
      "  \n",
      "\u001b[2m\u001b[36m(RayTrainWorker pid=22322)\u001b[0m {'loss': 21.543895721435547, 'avg_loss': 71.80168063823993}\n",
      "\u001b[2m\u001b[36m(RayTrainWorker pid=22322)\u001b[0m {'loss': 108.4175796508789, 'avg_loss': 73.15782504611545}\n",
      "Result for TorchTrainer_6a04551e:\n",
      "  _time_this_iter_s: 7.126520156860352\n",
      "  _timestamp: 1660925433\n",
      "  _training_iteration: 27\n",
      "  avg_loss: 73.15782504611545\n",
      "  date: 2022-08-19_16-10-33\n",
      "  done: false\n",
      "  experiment_id: 82a02ba1cdd74513ad9b42d380f9593d\n",
      "  hostname: anish-l5-kit\n",
      "  iterations_since_restore: 27\n",
      "  loss: 108.4175796508789\n",
      "  node_ip: 10.150.0.3\n",
      "  pid: 22254\n",
      "  time_since_restore: 244.41081833839417\n",
      "  time_this_iter_s: 7.150575160980225\n",
      "  time_total_s: 244.41081833839417\n",
      "  timestamp: 1660925433\n",
      "  timesteps_since_restore: 0\n",
      "  training_iteration: 27\n",
      "  trial_id: 6a04551e\n",
      "  warmup_time: 0.0055086612701416016\n",
      "  \n",
      "\u001b[2m\u001b[36m(RayTrainWorker pid=22322)\u001b[0m {'loss': 36.2846794128418, 'avg_loss': 71.84092698778424}\n",
      "Result for TorchTrainer_6a04551e:\n",
      "  _time_this_iter_s: 7.267093181610107\n",
      "  _timestamp: 1660925440\n",
      "  _training_iteration: 28\n",
      "  avg_loss: 71.84092698778424\n",
      "  date: 2022-08-19_16-10-40\n",
      "  done: false\n",
      "  experiment_id: 82a02ba1cdd74513ad9b42d380f9593d\n",
      "  hostname: anish-l5-kit\n",
      "  iterations_since_restore: 28\n",
      "  loss: 36.2846794128418\n",
      "  node_ip: 10.150.0.3\n",
      "  pid: 22254\n",
      "  time_since_restore: 251.6744921207428\n",
      "  time_this_iter_s: 7.263673782348633\n",
      "  time_total_s: 251.6744921207428\n",
      "  timestamp: 1660925440\n",
      "  timesteps_since_restore: 0\n",
      "  training_iteration: 28\n",
      "  trial_id: 6a04551e\n",
      "  warmup_time: 0.0055086612701416016\n",
      "  \n",
      "Result for TorchTrainer_6a04551e:\n",
      "  _time_this_iter_s: 7.165563106536865\n",
      "  _timestamp: 1660925447\n",
      "  _training_iteration: 29\n",
      "  avg_loss: 71.80720927797515\n",
      "  date: 2022-08-19_16-10-47\n",
      "  done: false\n",
      "  experiment_id: 82a02ba1cdd74513ad9b42d380f9593d\n",
      "  hostname: anish-l5-kit\n",
      "  iterations_since_restore: 29\n",
      "  loss: 70.86311340332031\n",
      "  node_ip: 10.150.0.3\n",
      "  pid: 22254\n",
      "  time_since_restore: 258.7480571269989\n",
      "  time_this_iter_s: 7.0735650062561035\n",
      "  time_total_s: 258.7480571269989\n",
      "  timestamp: 1660925447\n",
      "  timesteps_since_restore: 0\n",
      "  training_iteration: 29\n",
      "  trial_id: 6a04551e\n",
      "  warmup_time: 0.0055086612701416016\n",
      "  \n",
      "\u001b[2m\u001b[36m(RayTrainWorker pid=22322)\u001b[0m {'loss': 70.86311340332031, 'avg_loss': 71.80720927797515}\n",
      "\u001b[2m\u001b[36m(RayTrainWorker pid=22322)\u001b[0m {'loss': 40.30189895629883, 'avg_loss': 70.7570322672526}\n"
     ]
    },
    {
     "name": "stderr",
     "output_type": "stream",
     "text": [
      "\u001b[34m\u001b[1mwandb\u001b[0m: Adding directory to artifact (/home/jupyter/ray_results/TorchTrainer_2022-08-19_15-45-58/TorchTrainer_6a04551e_7_batch_size=24.0000,format_version=4,future_num_frames=50,history_num_frames=0,model_architecture=resnet50,_2022-08-19_16-06-26/checkpoint_000005)... "
     ]
    },
    {
     "name": "stdout",
     "output_type": "stream",
     "text": [
      "Result for TorchTrainer_6a04551e:\n",
      "  _time_this_iter_s: 7.444295167922974\n",
      "  _timestamp: 1660925455\n",
      "  _training_iteration: 30\n",
      "  avg_loss: 70.7570322672526\n",
      "  date: 2022-08-19_16-10-55\n",
      "  done: false\n",
      "  experiment_id: 82a02ba1cdd74513ad9b42d380f9593d\n",
      "  hostname: anish-l5-kit\n",
      "  iterations_since_restore: 30\n",
      "  loss: 40.30189895629883\n",
      "  node_ip: 10.150.0.3\n",
      "  pid: 22254\n",
      "  should_checkpoint: true\n",
      "  time_since_restore: 266.65030217170715\n",
      "  time_this_iter_s: 7.902245044708252\n",
      "  time_total_s: 266.65030217170715\n",
      "  timestamp: 1660925455\n",
      "  timesteps_since_restore: 0\n",
      "  training_iteration: 30\n",
      "  trial_id: 6a04551e\n",
      "  warmup_time: 0.0055086612701416016\n",
      "  \n"
     ]
    },
    {
     "name": "stderr",
     "output_type": "stream",
     "text": [
      "Done. 1.1s\n",
      "\u001b[34m\u001b[1mwandb\u001b[0m: Adding directory to artifact (/home/jupyter/ray_results/TorchTrainer_2022-08-19_15-45-58/TorchTrainer_6a04551e_7_batch_size=24.0000,format_version=4,future_num_frames=50,history_num_frames=0,model_architecture=resnet50,_2022-08-19_16-06-26/checkpoint_000005)... Done. 0.3s\n"
     ]
    },
    {
     "data": {
      "text/html": [
       "Waiting for W&B process to finish... <strong style=\"color:green\">(success).</strong>"
      ],
      "text/plain": [
       "<IPython.core.display.HTML object>"
      ]
     },
     "metadata": {},
     "output_type": "display_data"
    },
    {
     "data": {
      "application/vnd.jupyter.widget-view+json": {
       "model_id": "605d1978b4b3454188bb07b43c6ebe07",
       "version_major": 2,
       "version_minor": 0
      },
      "text/plain": [
       "VBox(children=(Label(value='544.978 MB of 544.978 MB uploaded (90.796 MB deduped)\\r'), FloatProgress(value=1.0…"
      ]
     },
     "metadata": {},
     "output_type": "display_data"
    },
    {
     "data": {
      "text/html": [
       "W&B sync reduced upload amount by 16.7%             "
      ],
      "text/plain": [
       "<IPython.core.display.HTML object>"
      ]
     },
     "metadata": {},
     "output_type": "display_data"
    },
    {
     "name": "stdout",
     "output_type": "stream",
     "text": [
      "Result for TorchTrainer_6a04551e:\n",
      "  _time_this_iter_s: 7.444295167922974\n",
      "  _timestamp: 1660925455\n",
      "  _training_iteration: 30\n",
      "  avg_loss: 70.7570322672526\n",
      "  date: 2022-08-19_16-10-55\n",
      "  done: true\n",
      "  experiment_id: 82a02ba1cdd74513ad9b42d380f9593d\n",
      "  experiment_tag: 7_batch_size=24.0000,format_version=4,future_num_frames=50,history_num_frames=0,model_architecture=resnet50,render_ego_history=True,step_time=0.1000,dataset_meta_key=meta_json,disable_traffic_light_faces=False,ego_center=0_25_0_5,filter_agents_threshold=0.5000,map_type=py_semantic,pixel_size=0_5_0_5,raster_size=224_224,satellite_map_key=aerial_map_aerial_map_png,semantic_map_key=semantic_map_semantic_map_pb,set_origin_to_bottom=True,batch_size=12,key=scenes_sample_zarr,num_workers=16,shuffle=True,checkpoint_every_n_steps=10000,eval_every_n_steps=10000,max_num_steps=5,batch_size=12,key=scenes_sample_zarr,num_workers=16,shuffle=False,dataset_key=scenes_sample_zarr,lr=0.0015,max_num_steps=30.0000,num_workers=16,shuffle=True\n",
      "  hostname: anish-l5-kit\n",
      "  iterations_since_restore: 30\n",
      "  loss: 40.30189895629883\n",
      "  node_ip: 10.150.0.3\n",
      "  pid: 22254\n",
      "  should_checkpoint: true\n",
      "  time_since_restore: 266.65030217170715\n",
      "  time_this_iter_s: 7.902245044708252\n",
      "  time_total_s: 266.65030217170715\n",
      "  timestamp: 1660925455\n",
      "  timesteps_since_restore: 0\n",
      "  training_iteration: 30\n",
      "  trial_id: 6a04551e\n",
      "  warmup_time: 0.0055086612701416016\n",
      "  \n"
     ]
    },
    {
     "data": {
      "text/html": [
       "<style>\n",
       "    table.wandb td:nth-child(1) { padding: 0 10px; text-align: left ; width: auto;} td:nth-child(2) {text-align: left ; width: 100%}\n",
       "    .wandb-row { display: flex; flex-direction: row; flex-wrap: wrap; justify-content: flex-start; width: 100% }\n",
       "    .wandb-col { display: flex; flex-direction: column; flex-basis: 100%; flex: 1; padding: 10px; }\n",
       "    </style>\n",
       "<div class=\"wandb-row\"><div class=\"wandb-col\"><h3>Run history:</h3><br/><table class=\"wandb\"><tr><td>avg_loss</td><td>▂▁▁▅▅▆▇█▇▇▇▇▇▇▇▇▇▇▇▇▇▇▆▆▇▆▇▆▆▆</td></tr><tr><td>iterations_since_restore</td><td>▁▁▁▂▂▂▂▃▃▃▃▄▄▄▄▅▅▅▅▆▆▆▆▇▇▇▇███</td></tr><tr><td>loss</td><td>▂▁▁█▃▆▇▆▂▃▅▁▃▇▄▃▄▂▂▃▃▅▂▁█▂▅▂▄▂</td></tr><tr><td>time_since_restore</td><td>▁▁▁▂▂▂▂▃▃▃▃▄▄▄▄▅▅▅▅▆▆▆▆▇▇▇▇███</td></tr><tr><td>time_this_iter_s</td><td>█▁▁▁▁▁▁▁▁▁▁▁▂▂▁▁▁▁▁▁▁▁▁▁▁▁▁▁▁▁</td></tr><tr><td>time_total_s</td><td>▁▁▁▂▂▂▂▃▃▃▃▄▄▄▄▅▅▅▅▆▆▆▆▇▇▇▇███</td></tr><tr><td>timestamp</td><td>▁▁▁▂▂▂▂▃▃▃▃▄▄▄▅▅▅▅▅▆▆▆▆▇▇▇▇███</td></tr><tr><td>timesteps_since_restore</td><td>▁▁▁▁▁▁▁▁▁▁▁▁▁▁▁▁▁▁▁▁▁▁▁▁▁▁▁▁▁▁</td></tr><tr><td>training_iteration</td><td>▁▁▁▂▂▂▂▃▃▃▃▄▄▄▄▅▅▅▅▆▆▆▆▇▇▇▇███</td></tr><tr><td>warmup_time</td><td>▁▁▁▁▁▁▁▁▁▁▁▁▁▁▁▁▁▁▁▁▁▁▁▁▁▁▁▁▁▁</td></tr></table><br/></div><div class=\"wandb-col\"><h3>Run summary:</h3><br/><table class=\"wandb\"><tr><td>avg_loss</td><td>70.75703</td></tr><tr><td>iterations_since_restore</td><td>30</td></tr><tr><td>loss</td><td>40.3019</td></tr><tr><td>time_since_restore</td><td>266.6503</td></tr><tr><td>time_this_iter_s</td><td>7.90225</td></tr><tr><td>time_total_s</td><td>266.6503</td></tr><tr><td>timestamp</td><td>1660925455</td></tr><tr><td>timesteps_since_restore</td><td>0</td></tr><tr><td>training_iteration</td><td>30</td></tr><tr><td>warmup_time</td><td>0.00551</td></tr></table><br/></div></div>"
      ],
      "text/plain": [
       "<IPython.core.display.HTML object>"
      ]
     },
     "metadata": {},
     "output_type": "display_data"
    },
    {
     "data": {
      "text/html": [
       "Synced <strong style=\"color:#cdcd00\">TorchTrainer_6a04551e</strong>: <a href=\"https://wandb.ai/l5-demo/l5-prediction-trials/runs/6a04551e\" target=\"_blank\">https://wandb.ai/l5-demo/l5-prediction-trials/runs/6a04551e</a><br/>Synced 7 W&B file(s), 0 media file(s), 14 artifact file(s) and 1 other file(s)"
      ],
      "text/plain": [
       "<IPython.core.display.HTML object>"
      ]
     },
     "metadata": {},
     "output_type": "display_data"
    },
    {
     "data": {
      "text/html": [
       "Find logs at: <code>./wandb/run-20220819_160626-6a04551e/logs</code>"
      ],
      "text/plain": [
       "<IPython.core.display.HTML object>"
      ]
     },
     "metadata": {},
     "output_type": "display_data"
    },
    {
     "name": "stderr",
     "output_type": "stream",
     "text": [
      "\u001b[2m\u001b[36m(RayTrainWorker pid=23952)\u001b[0m 2022-08-19 16:11:18,287\tINFO config.py:72 -- Setting up process group for: env:// [rank=0, world_size=3]\n",
      "\u001b[2m\u001b[36m(RayTrainWorker pid=23954)\u001b[0m /opt/conda/lib/python3.7/site-packages/torch/utils/data/dataloader.py:566: UserWarning: This DataLoader will create 16 worker processes in total. Our suggested max number of worker in current system is 4, which is smaller than what this DataLoader is going to create. Please be aware that excessive worker creation might get DataLoader running slow or even freeze, lower the worker number to avoid potential slowness/freeze if necessary.\n",
      "\u001b[2m\u001b[36m(RayTrainWorker pid=23954)\u001b[0m   cpuset_checked))\n",
      "\u001b[2m\u001b[36m(RayTrainWorker pid=23954)\u001b[0m /opt/conda/lib/python3.7/site-packages/torchvision/models/_utils.py:209: UserWarning: The parameter 'pretrained' is deprecated since 0.13 and will be removed in 0.15, please use 'weights' instead.\n",
      "\u001b[2m\u001b[36m(RayTrainWorker pid=23954)\u001b[0m   f\"The parameter '{pretrained_param}' is deprecated since 0.13 and will be removed in 0.15, \"\n",
      "\u001b[2m\u001b[36m(RayTrainWorker pid=23954)\u001b[0m /opt/conda/lib/python3.7/site-packages/torchvision/models/_utils.py:223: UserWarning: Arguments other than a weight enum or `None` for 'weights' are deprecated since 0.13 and will be removed in 0.15. The current behavior is equivalent to passing `weights=ResNet50_Weights.IMAGENET1K_V1`. You can also use `weights=ResNet50_Weights.DEFAULT` to get the most up-to-date weights.\n",
      "\u001b[2m\u001b[36m(RayTrainWorker pid=23954)\u001b[0m   warnings.warn(msg)\n",
      "\u001b[2m\u001b[36m(RayTrainWorker pid=23953)\u001b[0m /opt/conda/lib/python3.7/site-packages/torch/utils/data/dataloader.py:566: UserWarning: This DataLoader will create 16 worker processes in total. Our suggested max number of worker in current system is 4, which is smaller than what this DataLoader is going to create. Please be aware that excessive worker creation might get DataLoader running slow or even freeze, lower the worker number to avoid potential slowness/freeze if necessary.\n",
      "\u001b[2m\u001b[36m(RayTrainWorker pid=23953)\u001b[0m   cpuset_checked))\n",
      "\u001b[2m\u001b[36m(RayTrainWorker pid=23953)\u001b[0m /opt/conda/lib/python3.7/site-packages/torchvision/models/_utils.py:209: UserWarning: The parameter 'pretrained' is deprecated since 0.13 and will be removed in 0.15, please use 'weights' instead.\n",
      "\u001b[2m\u001b[36m(RayTrainWorker pid=23953)\u001b[0m   f\"The parameter '{pretrained_param}' is deprecated since 0.13 and will be removed in 0.15, \"\n",
      "\u001b[2m\u001b[36m(RayTrainWorker pid=23953)\u001b[0m /opt/conda/lib/python3.7/site-packages/torchvision/models/_utils.py:223: UserWarning: Arguments other than a weight enum or `None` for 'weights' are deprecated since 0.13 and will be removed in 0.15. The current behavior is equivalent to passing `weights=ResNet50_Weights.IMAGENET1K_V1`. You can also use `weights=ResNet50_Weights.DEFAULT` to get the most up-to-date weights.\n",
      "\u001b[2m\u001b[36m(RayTrainWorker pid=23953)\u001b[0m   warnings.warn(msg)\n",
      "\u001b[2m\u001b[36m(RayTrainWorker pid=23952)\u001b[0m /opt/conda/lib/python3.7/site-packages/torch/utils/data/dataloader.py:566: UserWarning: This DataLoader will create 16 worker processes in total. Our suggested max number of worker in current system is 4, which is smaller than what this DataLoader is going to create. Please be aware that excessive worker creation might get DataLoader running slow or even freeze, lower the worker number to avoid potential slowness/freeze if necessary.\n",
      "\u001b[2m\u001b[36m(RayTrainWorker pid=23952)\u001b[0m   cpuset_checked))\n",
      "\u001b[2m\u001b[36m(RayTrainWorker pid=23952)\u001b[0m /opt/conda/lib/python3.7/site-packages/torchvision/models/_utils.py:209: UserWarning: The parameter 'pretrained' is deprecated since 0.13 and will be removed in 0.15, please use 'weights' instead.\n",
      "\u001b[2m\u001b[36m(RayTrainWorker pid=23952)\u001b[0m   f\"The parameter '{pretrained_param}' is deprecated since 0.13 and will be removed in 0.15, \"\n",
      "\u001b[2m\u001b[36m(RayTrainWorker pid=23952)\u001b[0m /opt/conda/lib/python3.7/site-packages/torchvision/models/_utils.py:223: UserWarning: Arguments other than a weight enum or `None` for 'weights' are deprecated since 0.13 and will be removed in 0.15. The current behavior is equivalent to passing `weights=ResNet50_Weights.IMAGENET1K_V1`. You can also use `weights=ResNet50_Weights.DEFAULT` to get the most up-to-date weights.\n",
      "\u001b[2m\u001b[36m(RayTrainWorker pid=23952)\u001b[0m   warnings.warn(msg)\n",
      "\u001b[2m\u001b[36m(RayTrainWorker pid=23952)\u001b[0m 2022-08-19 16:11:27,344\tINFO train_loop_utils.py:300 -- Moving model to device: cpu\n",
      "\u001b[2m\u001b[36m(RayTrainWorker pid=23952)\u001b[0m 2022-08-19 16:11:27,346\tINFO train_loop_utils.py:347 -- Wrapping provided model in DDP.\n"
     ]
    },
    {
     "name": "stdout",
     "output_type": "stream",
     "text": [
      "\u001b[2m\u001b[36m(RayTrainWorker pid=23952)\u001b[0m {'loss': 0.0745643600821495, 'avg_loss': 0.0745643600821495}\n"
     ]
    },
    {
     "name": "stderr",
     "output_type": "stream",
     "text": [
      "\u001b[34m\u001b[1mwandb\u001b[0m: Adding directory to artifact (/home/jupyter/ray_results/TorchTrainer_2022-08-19_15-45-58/TorchTrainer_e0b1c35e_8_batch_size=9.0000,format_version=4,future_num_frames=50,history_num_frames=0,model_architecture=resnet50,r_2022-08-19_16-11-08/checkpoint_000000)... "
     ]
    },
    {
     "name": "stdout",
     "output_type": "stream",
     "text": [
      "Result for TorchTrainer_e0b1c35e:\n",
      "  _time_this_iter_s: 21.705281972885132\n",
      "  _timestamp: 1660925501\n",
      "  _training_iteration: 1\n",
      "  avg_loss: 0.0745643600821495\n",
      "  date: 2022-08-19_16-11-42\n",
      "  done: false\n",
      "  experiment_id: f55bc8a2bdde4e1f99c679644a19b189\n",
      "  hostname: anish-l5-kit\n",
      "  iterations_since_restore: 1\n",
      "  loss: 0.0745643600821495\n",
      "  node_ip: 10.150.0.3\n",
      "  pid: 23882\n",
      "  should_checkpoint: true\n",
      "  time_since_restore: 27.722006797790527\n",
      "  time_this_iter_s: 27.722006797790527\n",
      "  time_total_s: 27.722006797790527\n",
      "  timestamp: 1660925502\n",
      "  timesteps_since_restore: 0\n",
      "  training_iteration: 1\n",
      "  trial_id: e0b1c35e\n",
      "  warmup_time: 0.006433725357055664\n",
      "  \n"
     ]
    },
    {
     "name": "stderr",
     "output_type": "stream",
     "text": [
      "Done. 1.0s\n"
     ]
    },
    {
     "name": "stdout",
     "output_type": "stream",
     "text": [
      "\u001b[2m\u001b[36m(RayTrainWorker pid=23952)\u001b[0m {'loss': 56.8322868347168, 'avg_loss': 28.453425597399473}\n",
      "Result for TorchTrainer_e0b1c35e:\n",
      "  _time_this_iter_s: 3.2081892490386963\n",
      "  _timestamp: 1660925508\n",
      "  _training_iteration: 3\n",
      "  avg_loss: 20.219754584133625\n",
      "  date: 2022-08-19_16-11-48\n",
      "  done: false\n",
      "  experiment_id: f55bc8a2bdde4e1f99c679644a19b189\n",
      "  hostname: anish-l5-kit\n",
      "  iterations_since_restore: 3\n",
      "  loss: 3.7524125576019287\n",
      "  node_ip: 10.150.0.3\n",
      "  pid: 23882\n",
      "  time_since_restore: 34.41284227371216\n",
      "  time_this_iter_s: 3.1102631092071533\n",
      "  time_total_s: 34.41284227371216\n",
      "  timestamp: 1660925508\n",
      "  timesteps_since_restore: 0\n",
      "  training_iteration: 3\n",
      "  trial_id: e0b1c35e\n",
      "  warmup_time: 0.006433725357055664\n",
      "  \n",
      "\u001b[2m\u001b[36m(RayTrainWorker pid=23952)\u001b[0m {'loss': 3.7524125576019287, 'avg_loss': 20.219754584133625}\n",
      "\u001b[2m\u001b[36m(RayTrainWorker pid=23952)\u001b[0m {'loss': 4.753835678100586, 'avg_loss': 16.353274857625365}\n",
      "\u001b[2m\u001b[36m(RayTrainWorker pid=23952)\u001b[0m {'loss': 6.51754903793335, 'avg_loss': 14.386129693686962}\n"
     ]
    },
    {
     "name": "stderr",
     "output_type": "stream",
     "text": [
      "\u001b[34m\u001b[1mwandb\u001b[0m: Adding directory to artifact (/home/jupyter/ray_results/TorchTrainer_2022-08-19_15-45-58/TorchTrainer_e0b1c35e_8_batch_size=9.0000,format_version=4,future_num_frames=50,history_num_frames=0,model_architecture=resnet50,r_2022-08-19_16-11-08/checkpoint_000001)... "
     ]
    },
    {
     "name": "stdout",
     "output_type": "stream",
     "text": [
      "Result for TorchTrainer_e0b1c35e:\n",
      "  _time_this_iter_s: 3.2078893184661865\n",
      "  _timestamp: 1660925515\n",
      "  _training_iteration: 5\n",
      "  avg_loss: 14.386129693686962\n",
      "  date: 2022-08-19_16-11-55\n",
      "  done: false\n",
      "  experiment_id: f55bc8a2bdde4e1f99c679644a19b189\n",
      "  hostname: anish-l5-kit\n",
      "  iterations_since_restore: 5\n",
      "  loss: 6.51754903793335\n",
      "  node_ip: 10.150.0.3\n",
      "  pid: 23882\n",
      "  should_checkpoint: true\n",
      "  time_since_restore: 41.10362005233765\n",
      "  time_this_iter_s: 3.572185754776001\n",
      "  time_total_s: 41.10362005233765\n",
      "  timestamp: 1660925515\n",
      "  timesteps_since_restore: 0\n",
      "  training_iteration: 5\n",
      "  trial_id: e0b1c35e\n",
      "  warmup_time: 0.006433725357055664\n",
      "  \n"
     ]
    },
    {
     "name": "stderr",
     "output_type": "stream",
     "text": [
      "Done. 1.1s\n"
     ]
    },
    {
     "name": "stdout",
     "output_type": "stream",
     "text": [
      "\u001b[2m\u001b[36m(RayTrainWorker pid=23952)\u001b[0m {'loss': 17.214265823364258, 'avg_loss': 14.857485715299845}\n",
      "Result for TorchTrainer_e0b1c35e:\n",
      "  _time_this_iter_s: 3.5220329761505127\n",
      "  _timestamp: 1660925522\n",
      "  _training_iteration: 7\n",
      "  avg_loss: 16.868711696139403\n",
      "  date: 2022-08-19_16-12-02\n",
      "  done: false\n",
      "  experiment_id: f55bc8a2bdde4e1f99c679644a19b189\n",
      "  hostname: anish-l5-kit\n",
      "  iterations_since_restore: 7\n",
      "  loss: 28.936067581176758\n",
      "  node_ip: 10.150.0.3\n",
      "  pid: 23882\n",
      "  time_since_restore: 47.894137144088745\n",
      "  time_this_iter_s: 3.4261016845703125\n",
      "  time_total_s: 47.894137144088745\n",
      "  timestamp: 1660925522\n",
      "  timesteps_since_restore: 0\n",
      "  training_iteration: 7\n",
      "  trial_id: e0b1c35e\n",
      "  warmup_time: 0.006433725357055664\n",
      "  \n",
      "\u001b[2m\u001b[36m(RayTrainWorker pid=23952)\u001b[0m {'loss': 28.936067581176758, 'avg_loss': 16.868711696139403}\n",
      "\u001b[2m\u001b[36m(RayTrainWorker pid=23952)\u001b[0m {'loss': 21.230815887451172, 'avg_loss': 17.413974720053375}\n",
      "\u001b[2m\u001b[36m(RayTrainWorker pid=23952)\u001b[0m {'loss': 23.589385986328125, 'avg_loss': 18.100131527417236}\n"
     ]
    },
    {
     "name": "stderr",
     "output_type": "stream",
     "text": [
      "\u001b[34m\u001b[1mwandb\u001b[0m: Adding directory to artifact (/home/jupyter/ray_results/TorchTrainer_2022-08-19_15-45-58/TorchTrainer_e0b1c35e_8_batch_size=9.0000,format_version=4,future_num_frames=50,history_num_frames=0,model_architecture=resnet50,r_2022-08-19_16-11-08/checkpoint_000002)... "
     ]
    },
    {
     "name": "stdout",
     "output_type": "stream",
     "text": [
      "Result for TorchTrainer_e0b1c35e:\n",
      "  _time_this_iter_s: 3.2713303565979004\n",
      "  _timestamp: 1660925528\n",
      "  _training_iteration: 9\n",
      "  avg_loss: 18.100131527417236\n",
      "  date: 2022-08-19_16-12-09\n",
      "  done: false\n",
      "  experiment_id: f55bc8a2bdde4e1f99c679644a19b189\n",
      "  hostname: anish-l5-kit\n",
      "  iterations_since_restore: 9\n",
      "  loss: 23.589385986328125\n",
      "  node_ip: 10.150.0.3\n",
      "  pid: 23882\n",
      "  should_checkpoint: true\n",
      "  time_since_restore: 54.61567783355713\n",
      "  time_this_iter_s: 3.655038356781006\n",
      "  time_total_s: 54.61567783355713\n",
      "  timestamp: 1660925529\n",
      "  timesteps_since_restore: 0\n",
      "  training_iteration: 9\n",
      "  trial_id: e0b1c35e\n",
      "  warmup_time: 0.006433725357055664\n",
      "  \n"
     ]
    },
    {
     "name": "stderr",
     "output_type": "stream",
     "text": [
      "Done. 1.1s\n"
     ]
    },
    {
     "name": "stdout",
     "output_type": "stream",
     "text": [
      "\u001b[2m\u001b[36m(RayTrainWorker pid=23952)\u001b[0m {'loss': 317.7791748046875, 'avg_loss': 48.06803585514426}\n",
      "\u001b[2m\u001b[36m(RayTrainWorker pid=23952)\u001b[0m {'loss': 70.00452423095703, 'avg_loss': 50.06226207112724}\n",
      "Result for TorchTrainer_e0b1c35e:\n",
      "  _time_this_iter_s: 2.9186415672302246\n",
      "  _timestamp: 1660925535\n",
      "  _training_iteration: 11\n",
      "  avg_loss: 50.06226207112724\n",
      "  date: 2022-08-19_16-12-15\n",
      "  done: false\n",
      "  experiment_id: f55bc8a2bdde4e1f99c679644a19b189\n",
      "  hostname: anish-l5-kit\n",
      "  iterations_since_restore: 11\n",
      "  loss: 70.00452423095703\n",
      "  node_ip: 10.150.0.3\n",
      "  pid: 23882\n",
      "  time_since_restore: 61.050337076187134\n",
      "  time_this_iter_s: 3.003775119781494\n",
      "  time_total_s: 61.050337076187134\n",
      "  timestamp: 1660925535\n",
      "  timesteps_since_restore: 0\n",
      "  training_iteration: 11\n",
      "  trial_id: e0b1c35e\n",
      "  warmup_time: 0.006433725357055664\n",
      "  \n",
      "\u001b[2m\u001b[36m(RayTrainWorker pid=23952)\u001b[0m {'loss': 38.47185516357422, 'avg_loss': 49.09639482883116}\n",
      "\u001b[2m\u001b[36m(RayTrainWorker pid=23952)\u001b[0m {'loss': 63.310630798339844, 'avg_loss': 50.18979759571644}\n"
     ]
    },
    {
     "name": "stderr",
     "output_type": "stream",
     "text": [
      "\u001b[34m\u001b[1mwandb\u001b[0m: Adding directory to artifact (/home/jupyter/ray_results/TorchTrainer_2022-08-19_15-45-58/TorchTrainer_e0b1c35e_8_batch_size=9.0000,format_version=4,future_num_frames=50,history_num_frames=0,model_architecture=resnet50,r_2022-08-19_16-11-08/checkpoint_000003)... "
     ]
    },
    {
     "name": "stdout",
     "output_type": "stream",
     "text": [
      "Result for TorchTrainer_e0b1c35e:\n",
      "  _time_this_iter_s: 3.2373406887054443\n",
      "  _timestamp: 1660925541\n",
      "  _training_iteration: 13\n",
      "  avg_loss: 50.18979759571644\n",
      "  date: 2022-08-19_16-12-22\n",
      "  done: false\n",
      "  experiment_id: f55bc8a2bdde4e1f99c679644a19b189\n",
      "  hostname: anish-l5-kit\n",
      "  iterations_since_restore: 13\n",
      "  loss: 63.310630798339844\n",
      "  node_ip: 10.150.0.3\n",
      "  pid: 23882\n",
      "  should_checkpoint: true\n",
      "  time_since_restore: 67.6645040512085\n",
      "  time_this_iter_s: 3.5167431831359863\n",
      "  time_total_s: 67.6645040512085\n",
      "  timestamp: 1660925542\n",
      "  timesteps_since_restore: 0\n",
      "  training_iteration: 13\n",
      "  trial_id: e0b1c35e\n",
      "  warmup_time: 0.006433725357055664\n",
      "  \n"
     ]
    },
    {
     "name": "stderr",
     "output_type": "stream",
     "text": [
      "Done. 1.1s\n"
     ]
    },
    {
     "name": "stdout",
     "output_type": "stream",
     "text": [
      "\u001b[2m\u001b[36m(RayTrainWorker pid=23952)\u001b[0m {'loss': 44.6736946105957, 'avg_loss': 49.79579023963639}\n",
      "Result for TorchTrainer_e0b1c35e:\n",
      "  _time_this_iter_s: 3.0091326236724854\n",
      "  _timestamp: 1660925548\n",
      "  _training_iteration: 15\n",
      "  avg_loss: 46.801151539385316\n",
      "  date: 2022-08-19_16-12-28\n",
      "  done: false\n",
      "  experiment_id: f55bc8a2bdde4e1f99c679644a19b189\n",
      "  hostname: anish-l5-kit\n",
      "  iterations_since_restore: 15\n",
      "  loss: 4.876209735870361\n",
      "  node_ip: 10.150.0.3\n",
      "  pid: 23882\n",
      "  time_since_restore: 73.9322338104248\n",
      "  time_this_iter_s: 3.017648935317993\n",
      "  time_total_s: 73.9322338104248\n",
      "  timestamp: 1660925548\n",
      "  timesteps_since_restore: 0\n",
      "  training_iteration: 15\n",
      "  trial_id: e0b1c35e\n",
      "  warmup_time: 0.006433725357055664\n",
      "  \n",
      "\u001b[2m\u001b[36m(RayTrainWorker pid=23952)\u001b[0m {'loss': 4.876209735870361, 'avg_loss': 46.801151539385316}\n",
      "\u001b[2m\u001b[36m(RayTrainWorker pid=23952)\u001b[0m {'loss': 217.91543579101562, 'avg_loss': 57.49579430511221}\n",
      "\u001b[2m\u001b[36m(RayTrainWorker pid=23952)\u001b[0m {'loss': 180.1636199951172, 'avg_loss': 64.71154875746545}\n"
     ]
    },
    {
     "name": "stderr",
     "output_type": "stream",
     "text": [
      "\u001b[34m\u001b[1mwandb\u001b[0m: Adding directory to artifact (/home/jupyter/ray_results/TorchTrainer_2022-08-19_15-45-58/TorchTrainer_e0b1c35e_8_batch_size=9.0000,format_version=4,future_num_frames=50,history_num_frames=0,model_architecture=resnet50,r_2022-08-19_16-11-08/checkpoint_000004)... "
     ]
    },
    {
     "name": "stdout",
     "output_type": "stream",
     "text": [
      "Result for TorchTrainer_e0b1c35e:\n",
      "  _time_this_iter_s: 3.193298816680908\n",
      "  _timestamp: 1660925554\n",
      "  _training_iteration: 17\n",
      "  avg_loss: 64.71154875746545\n",
      "  date: 2022-08-19_16-12-35\n",
      "  done: false\n",
      "  experiment_id: f55bc8a2bdde4e1f99c679644a19b189\n",
      "  hostname: anish-l5-kit\n",
      "  iterations_since_restore: 17\n",
      "  loss: 180.1636199951172\n",
      "  node_ip: 10.150.0.3\n",
      "  pid: 23882\n",
      "  should_checkpoint: true\n",
      "  time_since_restore: 80.67390418052673\n",
      "  time_this_iter_s: 3.5719199180603027\n",
      "  time_total_s: 80.67390418052673\n",
      "  timestamp: 1660925555\n",
      "  timesteps_since_restore: 0\n",
      "  training_iteration: 17\n",
      "  trial_id: e0b1c35e\n",
      "  warmup_time: 0.006433725357055664\n",
      "  \n"
     ]
    },
    {
     "name": "stderr",
     "output_type": "stream",
     "text": [
      "Done. 1.1s\n"
     ]
    },
    {
     "name": "stdout",
     "output_type": "stream",
     "text": [
      "\u001b[2m\u001b[36m(RayTrainWorker pid=23952)\u001b[0m {'loss': 45.01848602294922, 'avg_loss': 63.61748971665899}\n",
      "\u001b[2m\u001b[36m(RayTrainWorker pid=23952)\u001b[0m {'loss': 177.9381866455078, 'avg_loss': 69.63436850238787}\n",
      "Result for TorchTrainer_e0b1c35e:\n",
      "  _time_this_iter_s: 3.0261824131011963\n",
      "  _timestamp: 1660925561\n",
      "  _training_iteration: 19\n",
      "  avg_loss: 69.63436850238787\n",
      "  date: 2022-08-19_16-12-41\n",
      "  done: false\n",
      "  experiment_id: f55bc8a2bdde4e1f99c679644a19b189\n",
      "  hostname: anish-l5-kit\n",
      "  iterations_since_restore: 19\n",
      "  loss: 177.9381866455078\n",
      "  node_ip: 10.150.0.3\n",
      "  pid: 23882\n",
      "  time_since_restore: 87.13663482666016\n",
      "  time_this_iter_s: 3.1093850135803223\n",
      "  time_total_s: 87.13663482666016\n",
      "  timestamp: 1660925561\n",
      "  timesteps_since_restore: 0\n",
      "  training_iteration: 19\n",
      "  trial_id: e0b1c35e\n",
      "  warmup_time: 0.006433725357055664\n",
      "  \n",
      "\u001b[2m\u001b[36m(RayTrainWorker pid=23952)\u001b[0m {'loss': 75.25300598144531, 'avg_loss': 69.91530037634075}\n"
     ]
    },
    {
     "name": "stderr",
     "output_type": "stream",
     "text": [
      "\u001b[34m\u001b[1mwandb\u001b[0m: Adding directory to artifact (/home/jupyter/ray_results/TorchTrainer_2022-08-19_15-45-58/TorchTrainer_e0b1c35e_8_batch_size=9.0000,format_version=4,future_num_frames=50,history_num_frames=0,model_architecture=resnet50,r_2022-08-19_16-11-08/checkpoint_000005)... Done. 1.0s\n",
      "\u001b[34m\u001b[1mwandb\u001b[0m: Adding directory to artifact (/home/jupyter/ray_results/TorchTrainer_2022-08-19_15-45-58/TorchTrainer_e0b1c35e_8_batch_size=9.0000,format_version=4,future_num_frames=50,history_num_frames=0,model_architecture=resnet50,r_2022-08-19_16-11-08/checkpoint_000005)... Done. 0.2s\n"
     ]
    },
    {
     "data": {
      "text/html": [
       "Waiting for W&B process to finish... <strong style=\"color:green\">(success).</strong>"
      ],
      "text/plain": [
       "<IPython.core.display.HTML object>"
      ]
     },
     "metadata": {},
     "output_type": "display_data"
    },
    {
     "data": {
      "application/vnd.jupyter.widget-view+json": {
       "model_id": "f5c24598ee824064b61a0cfe0024e296",
       "version_major": 2,
       "version_minor": 0
      },
      "text/plain": [
       "VBox(children=(Label(value='545.043 MB of 545.043 MB uploaded (90.796 MB deduped)\\r'), FloatProgress(value=1.0…"
      ]
     },
     "metadata": {},
     "output_type": "display_data"
    },
    {
     "data": {
      "text/html": [
       "W&B sync reduced upload amount by 16.7%             "
      ],
      "text/plain": [
       "<IPython.core.display.HTML object>"
      ]
     },
     "metadata": {},
     "output_type": "display_data"
    },
    {
     "data": {
      "text/html": [
       "<style>\n",
       "    table.wandb td:nth-child(1) { padding: 0 10px; text-align: left ; width: auto;} td:nth-child(2) {text-align: left ; width: 100%}\n",
       "    .wandb-row { display: flex; flex-direction: row; flex-wrap: wrap; justify-content: flex-start; width: 100% }\n",
       "    .wandb-col { display: flex; flex-direction: column; flex-basis: 100%; flex: 1; padding: 10px; }\n",
       "    </style>\n",
       "<div class=\"wandb-row\"><div class=\"wandb-col\"><h3>Run history:</h3><br/><table class=\"wandb\"><tr><td>avg_loss</td><td>▁▄▃▃▂▂▃▃▃▆▆▆▆▆▆▇▇▇██</td></tr><tr><td>iterations_since_restore</td><td>▁▁▂▂▂▃▃▄▄▄▅▅▅▆▆▇▇▇██</td></tr><tr><td>loss</td><td>▁▂▁▁▁▁▂▁▂█▃▂▂▂▁▆▅▂▅▃</td></tr><tr><td>time_since_restore</td><td>▁▁▂▂▂▃▃▄▄▄▅▅▅▆▆▆▇▇██</td></tr><tr><td>time_this_iter_s</td><td>█▁▁▁▁▁▁▁▁▁▁▁▁▁▁▁▁▁▁▁</td></tr><tr><td>time_total_s</td><td>▁▁▂▂▂▃▃▄▄▄▅▅▅▆▆▆▇▇██</td></tr><tr><td>timestamp</td><td>▁▁▂▂▂▃▃▄▄▄▅▅▅▆▆▆▇▇██</td></tr><tr><td>timesteps_since_restore</td><td>▁▁▁▁▁▁▁▁▁▁▁▁▁▁▁▁▁▁▁▁</td></tr><tr><td>training_iteration</td><td>▁▁▂▂▂▃▃▄▄▄▅▅▅▆▆▇▇▇██</td></tr><tr><td>warmup_time</td><td>▁▁▁▁▁▁▁▁▁▁▁▁▁▁▁▁▁▁▁▁</td></tr></table><br/></div><div class=\"wandb-col\"><h3>Run summary:</h3><br/><table class=\"wandb\"><tr><td>avg_loss</td><td>69.9153</td></tr><tr><td>iterations_since_restore</td><td>20</td></tr><tr><td>loss</td><td>75.25301</td></tr><tr><td>time_since_restore</td><td>90.84461</td></tr><tr><td>time_this_iter_s</td><td>3.70798</td></tr><tr><td>time_total_s</td><td>90.84461</td></tr><tr><td>timestamp</td><td>1660925565</td></tr><tr><td>timesteps_since_restore</td><td>0</td></tr><tr><td>training_iteration</td><td>20</td></tr><tr><td>warmup_time</td><td>0.00643</td></tr></table><br/></div></div>"
      ],
      "text/plain": [
       "<IPython.core.display.HTML object>"
      ]
     },
     "metadata": {},
     "output_type": "display_data"
    },
    {
     "data": {
      "text/html": [
       "Synced <strong style=\"color:#cdcd00\">TorchTrainer_e0b1c35e</strong>: <a href=\"https://wandb.ai/l5-demo/l5-prediction-trials/runs/e0b1c35e\" target=\"_blank\">https://wandb.ai/l5-demo/l5-prediction-trials/runs/e0b1c35e</a><br/>Synced 7 W&B file(s), 0 media file(s), 14 artifact file(s) and 1 other file(s)"
      ],
      "text/plain": [
       "<IPython.core.display.HTML object>"
      ]
     },
     "metadata": {},
     "output_type": "display_data"
    },
    {
     "data": {
      "text/html": [
       "Find logs at: <code>./wandb/run-20220819_161109-e0b1c35e/logs</code>"
      ],
      "text/plain": [
       "<IPython.core.display.HTML object>"
      ]
     },
     "metadata": {},
     "output_type": "display_data"
    },
    {
     "name": "stdout",
     "output_type": "stream",
     "text": [
      "Result for TorchTrainer_e0b1c35e:\n",
      "  _time_this_iter_s: 3.3496782779693604\n",
      "  _timestamp: 1660925564\n",
      "  _training_iteration: 20\n",
      "  avg_loss: 69.91530037634075\n",
      "  date: 2022-08-19_16-12-45\n",
      "  done: true\n",
      "  experiment_id: f55bc8a2bdde4e1f99c679644a19b189\n",
      "  experiment_tag: 8_batch_size=9.0000,format_version=4,future_num_frames=50,history_num_frames=0,model_architecture=resnet50,render_ego_history=True,step_time=0.1000,dataset_meta_key=meta_json,disable_traffic_light_faces=False,ego_center=0_25_0_5,filter_agents_threshold=0.5000,map_type=py_semantic,pixel_size=0_5_0_5,raster_size=224_224,satellite_map_key=aerial_map_aerial_map_png,semantic_map_key=semantic_map_semantic_map_pb,set_origin_to_bottom=True,batch_size=12,key=scenes_sample_zarr,num_workers=16,shuffle=True,checkpoint_every_n_steps=10000,eval_every_n_steps=10000,max_num_steps=5,batch_size=12,key=scenes_sample_zarr,num_workers=16,shuffle=False,dataset_key=scenes_sample_zarr,lr=0.0014,max_num_steps=20.0000,num_workers=16,shuffle=True\n",
      "  hostname: anish-l5-kit\n",
      "  iterations_since_restore: 20\n",
      "  loss: 75.25300598144531\n",
      "  node_ip: 10.150.0.3\n",
      "  pid: 23882\n",
      "  should_checkpoint: true\n",
      "  time_since_restore: 90.84461379051208\n",
      "  time_this_iter_s: 3.7079789638519287\n",
      "  time_total_s: 90.84461379051208\n",
      "  timestamp: 1660925565\n",
      "  timesteps_since_restore: 0\n",
      "  training_iteration: 20\n",
      "  trial_id: e0b1c35e\n",
      "  warmup_time: 0.006433725357055664\n",
      "  \n"
     ]
    },
    {
     "name": "stderr",
     "output_type": "stream",
     "text": [
      "\u001b[2m\u001b[36m(RayTrainWorker pid=24884)\u001b[0m 2022-08-19 16:13:04,079\tINFO config.py:72 -- Setting up process group for: env:// [rank=0, world_size=3]\n",
      "\u001b[2m\u001b[36m(RayTrainWorker pid=24884)\u001b[0m /opt/conda/lib/python3.7/site-packages/torch/utils/data/dataloader.py:566: UserWarning: This DataLoader will create 16 worker processes in total. Our suggested max number of worker in current system is 4, which is smaller than what this DataLoader is going to create. Please be aware that excessive worker creation might get DataLoader running slow or even freeze, lower the worker number to avoid potential slowness/freeze if necessary.\n",
      "\u001b[2m\u001b[36m(RayTrainWorker pid=24884)\u001b[0m   cpuset_checked))\n",
      "\u001b[2m\u001b[36m(RayTrainWorker pid=24884)\u001b[0m /opt/conda/lib/python3.7/site-packages/torchvision/models/_utils.py:209: UserWarning: The parameter 'pretrained' is deprecated since 0.13 and will be removed in 0.15, please use 'weights' instead.\n",
      "\u001b[2m\u001b[36m(RayTrainWorker pid=24884)\u001b[0m   f\"The parameter '{pretrained_param}' is deprecated since 0.13 and will be removed in 0.15, \"\n",
      "\u001b[2m\u001b[36m(RayTrainWorker pid=24884)\u001b[0m /opt/conda/lib/python3.7/site-packages/torchvision/models/_utils.py:223: UserWarning: Arguments other than a weight enum or `None` for 'weights' are deprecated since 0.13 and will be removed in 0.15. The current behavior is equivalent to passing `weights=ResNet50_Weights.IMAGENET1K_V1`. You can also use `weights=ResNet50_Weights.DEFAULT` to get the most up-to-date weights.\n",
      "\u001b[2m\u001b[36m(RayTrainWorker pid=24884)\u001b[0m   warnings.warn(msg)\n",
      "\u001b[2m\u001b[36m(RayTrainWorker pid=24884)\u001b[0m 2022-08-19 16:13:11,893\tINFO train_loop_utils.py:300 -- Moving model to device: cpu\n",
      "\u001b[2m\u001b[36m(RayTrainWorker pid=24884)\u001b[0m 2022-08-19 16:13:11,895\tINFO train_loop_utils.py:347 -- Wrapping provided model in DDP.\n",
      "\u001b[2m\u001b[36m(RayTrainWorker pid=24885)\u001b[0m /opt/conda/lib/python3.7/site-packages/torch/utils/data/dataloader.py:566: UserWarning: This DataLoader will create 16 worker processes in total. Our suggested max number of worker in current system is 4, which is smaller than what this DataLoader is going to create. Please be aware that excessive worker creation might get DataLoader running slow or even freeze, lower the worker number to avoid potential slowness/freeze if necessary.\n",
      "\u001b[2m\u001b[36m(RayTrainWorker pid=24885)\u001b[0m   cpuset_checked))\n",
      "\u001b[2m\u001b[36m(RayTrainWorker pid=24885)\u001b[0m /opt/conda/lib/python3.7/site-packages/torchvision/models/_utils.py:209: UserWarning: The parameter 'pretrained' is deprecated since 0.13 and will be removed in 0.15, please use 'weights' instead.\n",
      "\u001b[2m\u001b[36m(RayTrainWorker pid=24885)\u001b[0m   f\"The parameter '{pretrained_param}' is deprecated since 0.13 and will be removed in 0.15, \"\n",
      "\u001b[2m\u001b[36m(RayTrainWorker pid=24885)\u001b[0m /opt/conda/lib/python3.7/site-packages/torchvision/models/_utils.py:223: UserWarning: Arguments other than a weight enum or `None` for 'weights' are deprecated since 0.13 and will be removed in 0.15. The current behavior is equivalent to passing `weights=ResNet50_Weights.IMAGENET1K_V1`. You can also use `weights=ResNet50_Weights.DEFAULT` to get the most up-to-date weights.\n",
      "\u001b[2m\u001b[36m(RayTrainWorker pid=24885)\u001b[0m   warnings.warn(msg)\n",
      "\u001b[2m\u001b[36m(RayTrainWorker pid=24886)\u001b[0m /opt/conda/lib/python3.7/site-packages/torch/utils/data/dataloader.py:566: UserWarning: This DataLoader will create 16 worker processes in total. Our suggested max number of worker in current system is 4, which is smaller than what this DataLoader is going to create. Please be aware that excessive worker creation might get DataLoader running slow or even freeze, lower the worker number to avoid potential slowness/freeze if necessary.\n",
      "\u001b[2m\u001b[36m(RayTrainWorker pid=24886)\u001b[0m   cpuset_checked))\n",
      "\u001b[2m\u001b[36m(RayTrainWorker pid=24886)\u001b[0m /opt/conda/lib/python3.7/site-packages/torchvision/models/_utils.py:209: UserWarning: The parameter 'pretrained' is deprecated since 0.13 and will be removed in 0.15, please use 'weights' instead.\n",
      "\u001b[2m\u001b[36m(RayTrainWorker pid=24886)\u001b[0m   f\"The parameter '{pretrained_param}' is deprecated since 0.13 and will be removed in 0.15, \"\n",
      "\u001b[2m\u001b[36m(RayTrainWorker pid=24886)\u001b[0m /opt/conda/lib/python3.7/site-packages/torchvision/models/_utils.py:223: UserWarning: Arguments other than a weight enum or `None` for 'weights' are deprecated since 0.13 and will be removed in 0.15. The current behavior is equivalent to passing `weights=ResNet50_Weights.IMAGENET1K_V1`. You can also use `weights=ResNet50_Weights.DEFAULT` to get the most up-to-date weights.\n",
      "\u001b[2m\u001b[36m(RayTrainWorker pid=24886)\u001b[0m   warnings.warn(msg)\n"
     ]
    },
    {
     "name": "stdout",
     "output_type": "stream",
     "text": [
      "\u001b[2m\u001b[36m(RayTrainWorker pid=24884)\u001b[0m {'loss': 0.15588076412677765, 'avg_loss': 0.15588076412677765}\n"
     ]
    },
    {
     "name": "stderr",
     "output_type": "stream",
     "text": [
      "\u001b[34m\u001b[1mwandb\u001b[0m: Adding directory to artifact (/home/jupyter/ray_results/TorchTrainer_2022-08-19_15-45-58/TorchTrainer_892cedc4_9_batch_size=15.0000,format_version=4,future_num_frames=50,history_num_frames=0,model_architecture=resnet50,_2022-08-19_16-12-56/checkpoint_000000)... "
     ]
    },
    {
     "name": "stdout",
     "output_type": "stream",
     "text": [
      "Result for TorchTrainer_892cedc4:\n",
      "  _time_this_iter_s: 27.17526388168335\n",
      "  _timestamp: 1660925612\n",
      "  _training_iteration: 1\n",
      "  avg_loss: 0.15588076412677765\n",
      "  date: 2022-08-19_16-13-33\n",
      "  done: false\n",
      "  experiment_id: d0d0d560b8014ef3bacf51cf0b6bcd05\n",
      "  hostname: anish-l5-kit\n",
      "  iterations_since_restore: 1\n",
      "  loss: 0.15588076412677765\n",
      "  node_ip: 10.150.0.3\n",
      "  pid: 24811\n",
      "  should_checkpoint: true\n",
      "  time_since_restore: 33.90446496009827\n",
      "  time_this_iter_s: 33.90446496009827\n",
      "  time_total_s: 33.90446496009827\n",
      "  timestamp: 1660925613\n",
      "  timesteps_since_restore: 0\n",
      "  training_iteration: 1\n",
      "  trial_id: 892cedc4\n",
      "  warmup_time: 0.004983186721801758\n",
      "  \n"
     ]
    },
    {
     "name": "stderr",
     "output_type": "stream",
     "text": [
      "Done. 1.1s\n"
     ]
    },
    {
     "name": "stdout",
     "output_type": "stream",
     "text": [
      "Result for TorchTrainer_892cedc4:\n",
      "  _time_this_iter_s: 5.783123731613159\n",
      "  _timestamp: 1660925618\n",
      "  _training_iteration: 2\n",
      "  avg_loss: 17.428503431379795\n",
      "  date: 2022-08-19_16-13-38\n",
      "  done: false\n",
      "  experiment_id: d0d0d560b8014ef3bacf51cf0b6bcd05\n",
      "  hostname: anish-l5-kit\n",
      "  iterations_since_restore: 2\n",
      "  loss: 34.70112609863281\n",
      "  node_ip: 10.150.0.3\n",
      "  pid: 24811\n",
      "  time_since_restore: 39.20008397102356\n",
      "  time_this_iter_s: 5.295619010925293\n",
      "  time_total_s: 39.20008397102356\n",
      "  timestamp: 1660925618\n",
      "  timesteps_since_restore: 0\n",
      "  training_iteration: 2\n",
      "  trial_id: 892cedc4\n",
      "  warmup_time: 0.004983186721801758\n",
      "  \n",
      "\u001b[2m\u001b[36m(RayTrainWorker pid=24884)\u001b[0m {'loss': 34.70112609863281, 'avg_loss': 17.428503431379795}\n",
      "\u001b[2m\u001b[36m(RayTrainWorker pid=24884)\u001b[0m {'loss': 5.982594013214111, 'avg_loss': 13.613200291991234}\n"
     ]
    },
    {
     "name": "stderr",
     "output_type": "stream",
     "text": [
      "\u001b[34m\u001b[1mwandb\u001b[0m: Adding directory to artifact (/home/jupyter/ray_results/TorchTrainer_2022-08-19_15-45-58/TorchTrainer_892cedc4_9_batch_size=15.0000,format_version=4,future_num_frames=50,history_num_frames=0,model_architecture=resnet50,_2022-08-19_16-12-56/checkpoint_000001)... "
     ]
    },
    {
     "name": "stdout",
     "output_type": "stream",
     "text": [
      "Result for TorchTrainer_892cedc4:\n",
      "  _time_this_iter_s: 5.180402994155884\n",
      "  _timestamp: 1660925623\n",
      "  _training_iteration: 3\n",
      "  avg_loss: 13.613200291991234\n",
      "  date: 2022-08-19_16-13-44\n",
      "  done: false\n",
      "  experiment_id: d0d0d560b8014ef3bacf51cf0b6bcd05\n",
      "  hostname: anish-l5-kit\n",
      "  iterations_since_restore: 3\n",
      "  loss: 5.982594013214111\n",
      "  node_ip: 10.150.0.3\n",
      "  pid: 24811\n",
      "  should_checkpoint: true\n",
      "  time_since_restore: 44.92548131942749\n",
      "  time_this_iter_s: 5.725397348403931\n",
      "  time_total_s: 44.92548131942749\n",
      "  timestamp: 1660925624\n",
      "  timesteps_since_restore: 0\n",
      "  training_iteration: 3\n",
      "  trial_id: 892cedc4\n",
      "  warmup_time: 0.004983186721801758\n",
      "  \n"
     ]
    },
    {
     "name": "stderr",
     "output_type": "stream",
     "text": [
      "Done. 1.0s\n"
     ]
    },
    {
     "name": "stdout",
     "output_type": "stream",
     "text": [
      "Result for TorchTrainer_892cedc4:\n",
      "  _time_this_iter_s: 5.502869129180908\n",
      "  _timestamp: 1660925629\n",
      "  _training_iteration: 4\n",
      "  avg_loss: 16.61726124957204\n",
      "  date: 2022-08-19_16-13-49\n",
      "  done: false\n",
      "  experiment_id: d0d0d560b8014ef3bacf51cf0b6bcd05\n",
      "  hostname: anish-l5-kit\n",
      "  iterations_since_restore: 4\n",
      "  loss: 25.629444122314453\n",
      "  node_ip: 10.150.0.3\n",
      "  pid: 24811\n",
      "  time_since_restore: 49.933568477630615\n",
      "  time_this_iter_s: 5.008087158203125\n",
      "  time_total_s: 49.933568477630615\n",
      "  timestamp: 1660925629\n",
      "  timesteps_since_restore: 0\n",
      "  training_iteration: 4\n",
      "  trial_id: 892cedc4\n",
      "  warmup_time: 0.004983186721801758\n",
      "  \n",
      "\u001b[2m\u001b[36m(RayTrainWorker pid=24884)\u001b[0m {'loss': 25.629444122314453, 'avg_loss': 16.61726124957204}\n",
      "\u001b[2m\u001b[36m(RayTrainWorker pid=24884)\u001b[0m {'loss': 31.665180206298828, 'avg_loss': 19.626845040917395}\n"
     ]
    },
    {
     "name": "stderr",
     "output_type": "stream",
     "text": [
      "\u001b[34m\u001b[1mwandb\u001b[0m: Adding directory to artifact (/home/jupyter/ray_results/TorchTrainer_2022-08-19_15-45-58/TorchTrainer_892cedc4_9_batch_size=15.0000,format_version=4,future_num_frames=50,history_num_frames=0,model_architecture=resnet50,_2022-08-19_16-12-56/checkpoint_000002)... "
     ]
    },
    {
     "name": "stdout",
     "output_type": "stream",
     "text": [
      "Result for TorchTrainer_892cedc4:\n",
      "  _time_this_iter_s: 5.104624271392822\n",
      "  _timestamp: 1660925634\n",
      "  _training_iteration: 5\n",
      "  avg_loss: 19.626845040917395\n",
      "  date: 2022-08-19_16-13-54\n",
      "  done: false\n",
      "  experiment_id: d0d0d560b8014ef3bacf51cf0b6bcd05\n",
      "  hostname: anish-l5-kit\n",
      "  iterations_since_restore: 5\n",
      "  loss: 31.665180206298828\n",
      "  node_ip: 10.150.0.3\n",
      "  pid: 24811\n",
      "  should_checkpoint: true\n",
      "  time_since_restore: 55.44525647163391\n",
      "  time_this_iter_s: 5.511687994003296\n",
      "  time_total_s: 55.44525647163391\n",
      "  timestamp: 1660925634\n",
      "  timesteps_since_restore: 0\n",
      "  training_iteration: 5\n",
      "  trial_id: 892cedc4\n",
      "  warmup_time: 0.004983186721801758\n",
      "  \n"
     ]
    },
    {
     "name": "stderr",
     "output_type": "stream",
     "text": [
      "Done. 1.0s\n"
     ]
    },
    {
     "name": "stdout",
     "output_type": "stream",
     "text": [
      "Result for TorchTrainer_892cedc4:\n",
      "\u001b[2m\u001b[36m(RayTrainWorker pid=24884)\u001b[0m {'loss': 247.82144165039062, 'avg_loss': 57.65927780916294}\n",
      "  _time_this_iter_s: 5.481173992156982\n",
      "  _timestamp: 1660925640\n",
      "  _training_iteration: 6\n",
      "  avg_loss: 57.65927780916294\n",
      "  date: 2022-08-19_16-14-00\n",
      "  done: false\n",
      "  experiment_id: d0d0d560b8014ef3bacf51cf0b6bcd05\n",
      "  hostname: anish-l5-kit\n",
      "  iterations_since_restore: 6\n",
      "  loss: 247.82144165039062\n",
      "  node_ip: 10.150.0.3\n",
      "  pid: 24811\n",
      "  time_since_restore: 60.47847580909729\n",
      "  time_this_iter_s: 5.033219337463379\n",
      "  time_total_s: 60.47847580909729\n",
      "  timestamp: 1660925640\n",
      "  timesteps_since_restore: 0\n",
      "  training_iteration: 6\n",
      "  trial_id: 892cedc4\n",
      "  warmup_time: 0.004983186721801758\n",
      "  \n",
      "\u001b[2m\u001b[36m(RayTrainWorker pid=24884)\u001b[0m {'loss': 55.60124588012695, 'avg_loss': 57.36527324787208}\n"
     ]
    },
    {
     "name": "stderr",
     "output_type": "stream",
     "text": [
      "\u001b[34m\u001b[1mwandb\u001b[0m: Adding directory to artifact (/home/jupyter/ray_results/TorchTrainer_2022-08-19_15-45-58/TorchTrainer_892cedc4_9_batch_size=15.0000,format_version=4,future_num_frames=50,history_num_frames=0,model_architecture=resnet50,_2022-08-19_16-12-56/checkpoint_000003)... "
     ]
    },
    {
     "name": "stdout",
     "output_type": "stream",
     "text": [
      "Result for TorchTrainer_892cedc4:\n",
      "  _time_this_iter_s: 5.445033311843872\n",
      "  _timestamp: 1660925645\n",
      "  _training_iteration: 7\n",
      "  avg_loss: 57.36527324787208\n",
      "  date: 2022-08-19_16-14-05\n",
      "  done: false\n",
      "  experiment_id: d0d0d560b8014ef3bacf51cf0b6bcd05\n",
      "  hostname: anish-l5-kit\n",
      "  iterations_since_restore: 7\n",
      "  loss: 55.60124588012695\n",
      "  node_ip: 10.150.0.3\n",
      "  pid: 24811\n",
      "  should_checkpoint: true\n",
      "  time_since_restore: 66.37118744850159\n",
      "  time_this_iter_s: 5.892711639404297\n",
      "  time_total_s: 66.37118744850159\n",
      "  timestamp: 1660925645\n",
      "  timesteps_since_restore: 0\n",
      "  training_iteration: 7\n",
      "  trial_id: 892cedc4\n",
      "  warmup_time: 0.004983186721801758\n",
      "  \n"
     ]
    },
    {
     "name": "stderr",
     "output_type": "stream",
     "text": [
      "Done. 1.1s\n"
     ]
    },
    {
     "name": "stdout",
     "output_type": "stream",
     "text": [
      "Result for TorchTrainer_892cedc4:\n",
      "  _time_this_iter_s: 5.526931047439575\n",
      "  _timestamp: 1660925650\n",
      "  _training_iteration: 8\n",
      "  avg_loss: 54.62261692620814\n",
      "  date: 2022-08-19_16-14-10\n",
      "  done: false\n",
      "  experiment_id: d0d0d560b8014ef3bacf51cf0b6bcd05\n",
      "  hostname: anish-l5-kit\n",
      "  iterations_since_restore: 8\n",
      "  loss: 35.42402267456055\n",
      "  node_ip: 10.150.0.3\n",
      "  pid: 24811\n",
      "  time_since_restore: 71.4339644908905\n",
      "  time_this_iter_s: 5.062777042388916\n",
      "  time_total_s: 71.4339644908905\n",
      "  timestamp: 1660925650\n",
      "  timesteps_since_restore: 0\n",
      "  training_iteration: 8\n",
      "  trial_id: 892cedc4\n",
      "  warmup_time: 0.004983186721801758\n",
      "  \n",
      "\u001b[2m\u001b[36m(RayTrainWorker pid=24884)\u001b[0m {'loss': 35.42402267456055, 'avg_loss': 54.62261692620814}\n",
      "\u001b[2m\u001b[36m(RayTrainWorker pid=24884)\u001b[0m {'loss': 23.427366256713867, 'avg_loss': 51.156477962931}\n"
     ]
    },
    {
     "name": "stderr",
     "output_type": "stream",
     "text": [
      "\u001b[34m\u001b[1mwandb\u001b[0m: Adding directory to artifact (/home/jupyter/ray_results/TorchTrainer_2022-08-19_15-45-58/TorchTrainer_892cedc4_9_batch_size=15.0000,format_version=4,future_num_frames=50,history_num_frames=0,model_architecture=resnet50,_2022-08-19_16-12-56/checkpoint_000004)... "
     ]
    },
    {
     "name": "stdout",
     "output_type": "stream",
     "text": [
      "Result for TorchTrainer_892cedc4:\n",
      "  _time_this_iter_s: 4.954676389694214\n",
      "  _timestamp: 1660925655\n",
      "  _training_iteration: 9\n",
      "  avg_loss: 51.156477962931\n",
      "  date: 2022-08-19_16-14-16\n",
      "  done: false\n",
      "  experiment_id: d0d0d560b8014ef3bacf51cf0b6bcd05\n",
      "  hostname: anish-l5-kit\n",
      "  iterations_since_restore: 9\n",
      "  loss: 23.427366256713867\n",
      "  node_ip: 10.150.0.3\n",
      "  pid: 24811\n",
      "  should_checkpoint: true\n",
      "  time_since_restore: 76.92026042938232\n",
      "  time_this_iter_s: 5.486295938491821\n",
      "  time_total_s: 76.92026042938232\n",
      "  timestamp: 1660925656\n",
      "  timesteps_since_restore: 0\n",
      "  training_iteration: 9\n",
      "  trial_id: 892cedc4\n",
      "  warmup_time: 0.004983186721801758\n",
      "  \n"
     ]
    },
    {
     "name": "stderr",
     "output_type": "stream",
     "text": [
      "Done. 1.0s\n"
     ]
    },
    {
     "name": "stdout",
     "output_type": "stream",
     "text": [
      "\u001b[2m\u001b[36m(RayTrainWorker pid=24884)\u001b[0m {'loss': 240.05776977539062, 'avg_loss': 70.04660714417696}\n"
     ]
    },
    {
     "name": "stderr",
     "output_type": "stream",
     "text": [
      "\u001b[34m\u001b[1mwandb\u001b[0m: Adding directory to artifact (/home/jupyter/ray_results/TorchTrainer_2022-08-19_15-45-58/TorchTrainer_892cedc4_9_batch_size=15.0000,format_version=4,future_num_frames=50,history_num_frames=0,model_architecture=resnet50,_2022-08-19_16-12-56/checkpoint_000005)... "
     ]
    },
    {
     "name": "stdout",
     "output_type": "stream",
     "text": [
      "Result for TorchTrainer_892cedc4:\n",
      "  _time_this_iter_s: 5.844266176223755\n",
      "  _timestamp: 1660925661\n",
      "  _training_iteration: 10\n",
      "  avg_loss: 70.04660714417696\n",
      "  date: 2022-08-19_16-14-22\n",
      "  done: false\n",
      "  experiment_id: d0d0d560b8014ef3bacf51cf0b6bcd05\n",
      "  hostname: anish-l5-kit\n",
      "  iterations_since_restore: 10\n",
      "  loss: 240.05776977539062\n",
      "  node_ip: 10.150.0.3\n",
      "  pid: 24811\n",
      "  should_checkpoint: true\n",
      "  time_since_restore: 82.71842885017395\n",
      "  time_this_iter_s: 5.798168420791626\n",
      "  time_total_s: 82.71842885017395\n",
      "  timestamp: 1660925662\n",
      "  timesteps_since_restore: 0\n",
      "  training_iteration: 10\n",
      "  trial_id: 892cedc4\n",
      "  warmup_time: 0.004983186721801758\n",
      "  \n"
     ]
    },
    {
     "name": "stderr",
     "output_type": "stream",
     "text": [
      "Done. 1.0s\n",
      "\u001b[34m\u001b[1mwandb\u001b[0m: Adding directory to artifact (/home/jupyter/ray_results/TorchTrainer_2022-08-19_15-45-58/TorchTrainer_892cedc4_9_batch_size=15.0000,format_version=4,future_num_frames=50,history_num_frames=0,model_architecture=resnet50,_2022-08-19_16-12-56/checkpoint_000005)... Done. 0.3s\n"
     ]
    },
    {
     "data": {
      "text/html": [
       "Waiting for W&B process to finish... <strong style=\"color:green\">(success).</strong>"
      ],
      "text/plain": [
       "<IPython.core.display.HTML object>"
      ]
     },
     "metadata": {},
     "output_type": "display_data"
    },
    {
     "data": {
      "application/vnd.jupyter.widget-view+json": {
       "model_id": "f5d9126947d0402e82bd06f38eac9b49",
       "version_major": 2,
       "version_minor": 0
      },
      "text/plain": [
       "VBox(children=(Label(value='545.043 MB of 545.043 MB uploaded (90.796 MB deduped)\\r'), FloatProgress(value=1.0…"
      ]
     },
     "metadata": {},
     "output_type": "display_data"
    },
    {
     "data": {
      "text/html": [
       "W&B sync reduced upload amount by 16.7%             "
      ],
      "text/plain": [
       "<IPython.core.display.HTML object>"
      ]
     },
     "metadata": {},
     "output_type": "display_data"
    },
    {
     "data": {
      "text/html": [
       "<style>\n",
       "    table.wandb td:nth-child(1) { padding: 0 10px; text-align: left ; width: auto;} td:nth-child(2) {text-align: left ; width: 100%}\n",
       "    .wandb-row { display: flex; flex-direction: row; flex-wrap: wrap; justify-content: flex-start; width: 100% }\n",
       "    .wandb-col { display: flex; flex-direction: column; flex-basis: 100%; flex: 1; padding: 10px; }\n",
       "    </style>\n",
       "<div class=\"wandb-row\"><div class=\"wandb-col\"><h3>Run history:</h3><br/><table class=\"wandb\"><tr><td>avg_loss</td><td>▁▃▂▃▃▇▇▆▆█</td></tr><tr><td>iterations_since_restore</td><td>▁▂▃▃▄▅▆▆▇█</td></tr><tr><td>loss</td><td>▁▂▁▂▂█▃▂▂█</td></tr><tr><td>time_since_restore</td><td>▁▂▃▃▄▅▆▆▇█</td></tr><tr><td>time_this_iter_s</td><td>█▁▁▁▁▁▁▁▁▁</td></tr><tr><td>time_total_s</td><td>▁▂▃▃▄▅▆▆▇█</td></tr><tr><td>timestamp</td><td>▁▂▃▃▄▅▆▆▇█</td></tr><tr><td>timesteps_since_restore</td><td>▁▁▁▁▁▁▁▁▁▁</td></tr><tr><td>training_iteration</td><td>▁▂▃▃▄▅▆▆▇█</td></tr><tr><td>warmup_time</td><td>▁▁▁▁▁▁▁▁▁▁</td></tr></table><br/></div><div class=\"wandb-col\"><h3>Run summary:</h3><br/><table class=\"wandb\"><tr><td>avg_loss</td><td>70.04661</td></tr><tr><td>iterations_since_restore</td><td>10</td></tr><tr><td>loss</td><td>240.05777</td></tr><tr><td>time_since_restore</td><td>82.71843</td></tr><tr><td>time_this_iter_s</td><td>5.79817</td></tr><tr><td>time_total_s</td><td>82.71843</td></tr><tr><td>timestamp</td><td>1660925662</td></tr><tr><td>timesteps_since_restore</td><td>0</td></tr><tr><td>training_iteration</td><td>10</td></tr><tr><td>warmup_time</td><td>0.00498</td></tr></table><br/></div></div>"
      ],
      "text/plain": [
       "<IPython.core.display.HTML object>"
      ]
     },
     "metadata": {},
     "output_type": "display_data"
    },
    {
     "data": {
      "text/html": [
       "Synced <strong style=\"color:#cdcd00\">TorchTrainer_892cedc4</strong>: <a href=\"https://wandb.ai/l5-demo/l5-prediction-trials/runs/892cedc4\" target=\"_blank\">https://wandb.ai/l5-demo/l5-prediction-trials/runs/892cedc4</a><br/>Synced 7 W&B file(s), 0 media file(s), 14 artifact file(s) and 1 other file(s)"
      ],
      "text/plain": [
       "<IPython.core.display.HTML object>"
      ]
     },
     "metadata": {},
     "output_type": "display_data"
    },
    {
     "data": {
      "text/html": [
       "Find logs at: <code>./wandb/run-20220819_161256-892cedc4/logs</code>"
      ],
      "text/plain": [
       "<IPython.core.display.HTML object>"
      ]
     },
     "metadata": {},
     "output_type": "display_data"
    },
    {
     "name": "stdout",
     "output_type": "stream",
     "text": [
      "Result for TorchTrainer_892cedc4:\n",
      "  _time_this_iter_s: 5.844266176223755\n",
      "  _timestamp: 1660925661\n",
      "  _training_iteration: 10\n",
      "  avg_loss: 70.04660714417696\n",
      "  date: 2022-08-19_16-14-22\n",
      "  done: true\n",
      "  experiment_id: d0d0d560b8014ef3bacf51cf0b6bcd05\n",
      "  experiment_tag: 9_batch_size=15.0000,format_version=4,future_num_frames=50,history_num_frames=0,model_architecture=resnet50,render_ego_history=True,step_time=0.1000,dataset_meta_key=meta_json,disable_traffic_light_faces=False,ego_center=0_25_0_5,filter_agents_threshold=0.5000,map_type=py_semantic,pixel_size=0_5_0_5,raster_size=224_224,satellite_map_key=aerial_map_aerial_map_png,semantic_map_key=semantic_map_semantic_map_pb,set_origin_to_bottom=True,batch_size=12,key=scenes_sample_zarr,num_workers=16,shuffle=True,checkpoint_every_n_steps=10000,eval_every_n_steps=10000,max_num_steps=5,batch_size=12,key=scenes_sample_zarr,num_workers=16,shuffle=False,dataset_key=scenes_sample_zarr,lr=0.0020,max_num_steps=10.0000,num_workers=16,shuffle=True\n",
      "  hostname: anish-l5-kit\n",
      "  iterations_since_restore: 10\n",
      "  loss: 240.05776977539062\n",
      "  node_ip: 10.150.0.3\n",
      "  pid: 24811\n",
      "  should_checkpoint: true\n",
      "  time_since_restore: 82.71842885017395\n",
      "  time_this_iter_s: 5.798168420791626\n",
      "  time_total_s: 82.71842885017395\n",
      "  timestamp: 1660925662\n",
      "  timesteps_since_restore: 0\n",
      "  training_iteration: 10\n",
      "  trial_id: 892cedc4\n",
      "  warmup_time: 0.004983186721801758\n",
      "  \n"
     ]
    },
    {
     "name": "stderr",
     "output_type": "stream",
     "text": [
      "\u001b[2m\u001b[36m(RayTrainWorker pid=25956)\u001b[0m 2022-08-19 16:14:38,489\tINFO config.py:72 -- Setting up process group for: env:// [rank=0, world_size=3]\n",
      "\u001b[2m\u001b[36m(RayTrainWorker pid=25957)\u001b[0m /opt/conda/lib/python3.7/site-packages/torch/utils/data/dataloader.py:566: UserWarning: This DataLoader will create 16 worker processes in total. Our suggested max number of worker in current system is 4, which is smaller than what this DataLoader is going to create. Please be aware that excessive worker creation might get DataLoader running slow or even freeze, lower the worker number to avoid potential slowness/freeze if necessary.\n",
      "\u001b[2m\u001b[36m(RayTrainWorker pid=25957)\u001b[0m   cpuset_checked))\n",
      "\u001b[2m\u001b[36m(RayTrainWorker pid=25957)\u001b[0m /opt/conda/lib/python3.7/site-packages/torchvision/models/_utils.py:209: UserWarning: The parameter 'pretrained' is deprecated since 0.13 and will be removed in 0.15, please use 'weights' instead.\n",
      "\u001b[2m\u001b[36m(RayTrainWorker pid=25957)\u001b[0m   f\"The parameter '{pretrained_param}' is deprecated since 0.13 and will be removed in 0.15, \"\n",
      "\u001b[2m\u001b[36m(RayTrainWorker pid=25957)\u001b[0m /opt/conda/lib/python3.7/site-packages/torchvision/models/_utils.py:223: UserWarning: Arguments other than a weight enum or `None` for 'weights' are deprecated since 0.13 and will be removed in 0.15. The current behavior is equivalent to passing `weights=ResNet50_Weights.IMAGENET1K_V1`. You can also use `weights=ResNet50_Weights.DEFAULT` to get the most up-to-date weights.\n",
      "\u001b[2m\u001b[36m(RayTrainWorker pid=25957)\u001b[0m   warnings.warn(msg)\n",
      "\u001b[2m\u001b[36m(RayTrainWorker pid=25958)\u001b[0m /opt/conda/lib/python3.7/site-packages/torch/utils/data/dataloader.py:566: UserWarning: This DataLoader will create 16 worker processes in total. Our suggested max number of worker in current system is 4, which is smaller than what this DataLoader is going to create. Please be aware that excessive worker creation might get DataLoader running slow or even freeze, lower the worker number to avoid potential slowness/freeze if necessary.\n",
      "\u001b[2m\u001b[36m(RayTrainWorker pid=25958)\u001b[0m   cpuset_checked))\n",
      "\u001b[2m\u001b[36m(RayTrainWorker pid=25958)\u001b[0m /opt/conda/lib/python3.7/site-packages/torchvision/models/_utils.py:209: UserWarning: The parameter 'pretrained' is deprecated since 0.13 and will be removed in 0.15, please use 'weights' instead.\n",
      "\u001b[2m\u001b[36m(RayTrainWorker pid=25958)\u001b[0m   f\"The parameter '{pretrained_param}' is deprecated since 0.13 and will be removed in 0.15, \"\n",
      "\u001b[2m\u001b[36m(RayTrainWorker pid=25958)\u001b[0m /opt/conda/lib/python3.7/site-packages/torchvision/models/_utils.py:223: UserWarning: Arguments other than a weight enum or `None` for 'weights' are deprecated since 0.13 and will be removed in 0.15. The current behavior is equivalent to passing `weights=ResNet50_Weights.IMAGENET1K_V1`. You can also use `weights=ResNet50_Weights.DEFAULT` to get the most up-to-date weights.\n",
      "\u001b[2m\u001b[36m(RayTrainWorker pid=25958)\u001b[0m   warnings.warn(msg)\n",
      "\u001b[2m\u001b[36m(RayTrainWorker pid=25956)\u001b[0m /opt/conda/lib/python3.7/site-packages/torch/utils/data/dataloader.py:566: UserWarning: This DataLoader will create 16 worker processes in total. Our suggested max number of worker in current system is 4, which is smaller than what this DataLoader is going to create. Please be aware that excessive worker creation might get DataLoader running slow or even freeze, lower the worker number to avoid potential slowness/freeze if necessary.\n",
      "\u001b[2m\u001b[36m(RayTrainWorker pid=25956)\u001b[0m   cpuset_checked))\n",
      "\u001b[2m\u001b[36m(RayTrainWorker pid=25956)\u001b[0m /opt/conda/lib/python3.7/site-packages/torchvision/models/_utils.py:209: UserWarning: The parameter 'pretrained' is deprecated since 0.13 and will be removed in 0.15, please use 'weights' instead.\n",
      "\u001b[2m\u001b[36m(RayTrainWorker pid=25956)\u001b[0m   f\"The parameter '{pretrained_param}' is deprecated since 0.13 and will be removed in 0.15, \"\n",
      "\u001b[2m\u001b[36m(RayTrainWorker pid=25956)\u001b[0m /opt/conda/lib/python3.7/site-packages/torchvision/models/_utils.py:223: UserWarning: Arguments other than a weight enum or `None` for 'weights' are deprecated since 0.13 and will be removed in 0.15. The current behavior is equivalent to passing `weights=ResNet50_Weights.IMAGENET1K_V1`. You can also use `weights=ResNet50_Weights.DEFAULT` to get the most up-to-date weights.\n",
      "\u001b[2m\u001b[36m(RayTrainWorker pid=25956)\u001b[0m   warnings.warn(msg)\n",
      "\u001b[2m\u001b[36m(RayTrainWorker pid=25956)\u001b[0m 2022-08-19 16:14:47,898\tINFO train_loop_utils.py:300 -- Moving model to device: cpu\n",
      "\u001b[2m\u001b[36m(RayTrainWorker pid=25956)\u001b[0m 2022-08-19 16:14:47,900\tINFO train_loop_utils.py:347 -- Wrapping provided model in DDP.\n"
     ]
    },
    {
     "name": "stdout",
     "output_type": "stream",
     "text": [
      "\u001b[2m\u001b[36m(RayTrainWorker pid=25956)\u001b[0m {'loss': 23.291645050048828, 'avg_loss': 23.291645050048828}\n"
     ]
    },
    {
     "name": "stderr",
     "output_type": "stream",
     "text": [
      "\u001b[34m\u001b[1mwandb\u001b[0m: Adding directory to artifact (/home/jupyter/ray_results/TorchTrainer_2022-08-19_15-45-58/TorchTrainer_c9513f7c_10_batch_size=24.0000,format_version=4,future_num_frames=50,history_num_frames=0,model_architecture=resnet50_2022-08-19_16-14-31/checkpoint_000000)... "
     ]
    },
    {
     "name": "stdout",
     "output_type": "stream",
     "text": [
      "Result for TorchTrainer_c9513f7c:\n",
      "  _time_this_iter_s: 36.42748141288757\n",
      "  _timestamp: 1660925716\n",
      "  _training_iteration: 1\n",
      "  avg_loss: 23.291645050048828\n",
      "  date: 2022-08-19_16-15-17\n",
      "  done: false\n",
      "  experiment_id: 33253c1dec9943b3abbfa53eda24348c\n",
      "  hostname: anish-l5-kit\n",
      "  iterations_since_restore: 1\n",
      "  loss: 23.291645050048828\n",
      "  node_ip: 10.150.0.3\n",
      "  pid: 25888\n",
      "  should_checkpoint: true\n",
      "  time_since_restore: 42.61508226394653\n",
      "  time_this_iter_s: 42.61508226394653\n",
      "  time_total_s: 42.61508226394653\n",
      "  timestamp: 1660925717\n",
      "  timesteps_since_restore: 0\n",
      "  training_iteration: 1\n",
      "  trial_id: c9513f7c\n",
      "  warmup_time: 0.005364418029785156\n",
      "  \n"
     ]
    },
    {
     "name": "stderr",
     "output_type": "stream",
     "text": [
      "Done. 1.1s\n"
     ]
    },
    {
     "name": "stdout",
     "output_type": "stream",
     "text": [
      "\u001b[2m\u001b[36m(RayTrainWorker pid=25956)\u001b[0m {'loss': 8.079105377197266, 'avg_loss': 15.685375213623047}\n",
      "Result for TorchTrainer_c9513f7c:\n",
      "  _time_this_iter_s: 8.261768817901611\n",
      "  _timestamp: 1660925724\n",
      "  _training_iteration: 2\n",
      "  avg_loss: 15.685375213623047\n",
      "  date: 2022-08-19_16-15-24\n",
      "  done: false\n",
      "  experiment_id: 33253c1dec9943b3abbfa53eda24348c\n",
      "  hostname: anish-l5-kit\n",
      "  iterations_since_restore: 2\n",
      "  loss: 8.079105377197266\n",
      "  node_ip: 10.150.0.3\n",
      "  pid: 25888\n",
      "  time_since_restore: 50.374101638793945\n",
      "  time_this_iter_s: 7.759019374847412\n",
      "  time_total_s: 50.374101638793945\n",
      "  timestamp: 1660925724\n",
      "  timesteps_since_restore: 0\n",
      "  training_iteration: 2\n",
      "  trial_id: c9513f7c\n",
      "  warmup_time: 0.005364418029785156\n",
      "  \n",
      "\u001b[2m\u001b[36m(RayTrainWorker pid=25956)\u001b[0m {'loss': 11.271661758422852, 'avg_loss': 14.214137395222982}\n"
     ]
    },
    {
     "name": "stderr",
     "output_type": "stream",
     "text": [
      "\u001b[34m\u001b[1mwandb\u001b[0m: Adding directory to artifact (/home/jupyter/ray_results/TorchTrainer_2022-08-19_15-45-58/TorchTrainer_c9513f7c_10_batch_size=24.0000,format_version=4,future_num_frames=50,history_num_frames=0,model_architecture=resnet50_2022-08-19_16-14-31/checkpoint_000001)... "
     ]
    },
    {
     "name": "stdout",
     "output_type": "stream",
     "text": [
      "Result for TorchTrainer_c9513f7c:\n",
      "  _time_this_iter_s: 7.724950551986694\n",
      "  _timestamp: 1660925732\n",
      "  _training_iteration: 3\n",
      "  avg_loss: 14.214137395222982\n",
      "  date: 2022-08-19_16-15-33\n",
      "  done: false\n",
      "  experiment_id: 33253c1dec9943b3abbfa53eda24348c\n",
      "  hostname: anish-l5-kit\n",
      "  iterations_since_restore: 3\n",
      "  loss: 11.271661758422852\n",
      "  node_ip: 10.150.0.3\n",
      "  pid: 25888\n",
      "  should_checkpoint: true\n",
      "  time_since_restore: 58.56332540512085\n",
      "  time_this_iter_s: 8.189223766326904\n",
      "  time_total_s: 58.56332540512085\n",
      "  timestamp: 1660925733\n",
      "  timesteps_since_restore: 0\n",
      "  training_iteration: 3\n",
      "  trial_id: c9513f7c\n",
      "  warmup_time: 0.005364418029785156\n",
      "  \n"
     ]
    },
    {
     "name": "stderr",
     "output_type": "stream",
     "text": [
      "Done. 1.1s\n"
     ]
    },
    {
     "name": "stdout",
     "output_type": "stream",
     "text": [
      "Result for TorchTrainer_c9513f7c:\n",
      "  _time_this_iter_s: 8.115289449691772\n",
      "  _timestamp: 1660925740\n",
      "  _training_iteration: 4\n",
      "  avg_loss: 53.23197603225708\n",
      "  date: 2022-08-19_16-15-40\n",
      "  done: false\n",
      "  experiment_id: 33253c1dec9943b3abbfa53eda24348c\n",
      "  hostname: anish-l5-kit\n",
      "  iterations_since_restore: 4\n",
      "  loss: 170.28549194335938\n",
      "  node_ip: 10.150.0.3\n",
      "  pid: 25888\n",
      "  time_since_restore: 66.11527276039124\n",
      "  time_this_iter_s: 7.551947355270386\n",
      "  time_total_s: 66.11527276039124\n",
      "  timestamp: 1660925740\n",
      "  timesteps_since_restore: 0\n",
      "  training_iteration: 4\n",
      "  trial_id: c9513f7c\n",
      "  warmup_time: 0.005364418029785156\n",
      "  \n",
      "\u001b[2m\u001b[36m(RayTrainWorker pid=25956)\u001b[0m {'loss': 170.28549194335938, 'avg_loss': 53.23197603225708}\n"
     ]
    },
    {
     "name": "stderr",
     "output_type": "stream",
     "text": [
      "\u001b[2m\u001b[36m(RayTrainWorker pid=25957)\u001b[0m E0819 16:15:47.340480127   26018 chttp2_transport.cc:1103]   Received a GOAWAY with error code ENHANCE_YOUR_CALM and debug data equal to \"too_many_pings\"\n",
      "\u001b[2m\u001b[36m(RayTrainWorker pid=25958)\u001b[0m E0819 16:15:47.472209301   26043 chttp2_transport.cc:1103]   Received a GOAWAY with error code ENHANCE_YOUR_CALM and debug data equal to \"too_many_pings\"\n",
      "\u001b[2m\u001b[36m(RayTrainWorker pid=25956)\u001b[0m E0819 16:15:48.006606789   26016 chttp2_transport.cc:1103]   Received a GOAWAY with error code ENHANCE_YOUR_CALM and debug data equal to \"too_many_pings\"\n"
     ]
    },
    {
     "name": "stdout",
     "output_type": "stream",
     "text": [
      "\u001b[2m\u001b[36m(RayTrainWorker pid=25956)\u001b[0m {'loss': 61.7700080871582, 'avg_loss': 54.939582443237306}\n"
     ]
    },
    {
     "name": "stderr",
     "output_type": "stream",
     "text": [
      "\u001b[34m\u001b[1mwandb\u001b[0m: Adding directory to artifact (/home/jupyter/ray_results/TorchTrainer_2022-08-19_15-45-58/TorchTrainer_c9513f7c_10_batch_size=24.0000,format_version=4,future_num_frames=50,history_num_frames=0,model_architecture=resnet50_2022-08-19_16-14-31/checkpoint_000002)... "
     ]
    },
    {
     "name": "stdout",
     "output_type": "stream",
     "text": [
      "Result for TorchTrainer_c9513f7c:\n",
      "  _time_this_iter_s: 7.705145359039307\n",
      "  _timestamp: 1660925748\n",
      "  _training_iteration: 5\n",
      "  avg_loss: 54.939582443237306\n",
      "  date: 2022-08-19_16-15-48\n",
      "  done: false\n",
      "  experiment_id: 33253c1dec9943b3abbfa53eda24348c\n",
      "  hostname: anish-l5-kit\n",
      "  iterations_since_restore: 5\n",
      "  loss: 61.7700080871582\n",
      "  node_ip: 10.150.0.3\n",
      "  pid: 25888\n",
      "  should_checkpoint: true\n",
      "  time_since_restore: 74.234046459198\n",
      "  time_this_iter_s: 8.118773698806763\n",
      "  time_total_s: 74.234046459198\n",
      "  timestamp: 1660925748\n",
      "  timesteps_since_restore: 0\n",
      "  training_iteration: 5\n",
      "  trial_id: c9513f7c\n",
      "  warmup_time: 0.005364418029785156\n",
      "  \n"
     ]
    },
    {
     "name": "stderr",
     "output_type": "stream",
     "text": [
      "Done. 1.1s\n"
     ]
    },
    {
     "name": "stdout",
     "output_type": "stream",
     "text": [
      "Result for TorchTrainer_c9513f7c:\n",
      "  _time_this_iter_s: 8.309581995010376\n",
      "  _timestamp: 1660925756\n",
      "  _training_iteration: 6\n",
      "  avg_loss: 63.538872718811035\n",
      "  date: 2022-08-19_16-15-56\n",
      "  done: false\n",
      "  experiment_id: 33253c1dec9943b3abbfa53eda24348c\n",
      "  hostname: anish-l5-kit\n",
      "  iterations_since_restore: 6\n",
      "  loss: 106.53532409667969\n",
      "  node_ip: 10.150.0.3\n",
      "  pid: 25888\n",
      "  time_since_restore: 82.13007926940918\n",
      "  time_this_iter_s: 7.896032810211182\n",
      "  time_total_s: 82.13007926940918\n",
      "  timestamp: 1660925756\n",
      "  timesteps_since_restore: 0\n",
      "  training_iteration: 6\n",
      "  trial_id: c9513f7c\n",
      "  warmup_time: 0.005364418029785156\n",
      "  \n",
      "\u001b[2m\u001b[36m(RayTrainWorker pid=25956)\u001b[0m {'loss': 106.53532409667969, 'avg_loss': 63.538872718811035}\n",
      "\u001b[2m\u001b[36m(RayTrainWorker pid=25956)\u001b[0m {'loss': 162.86679077148438, 'avg_loss': 77.72857529776437}\n"
     ]
    },
    {
     "name": "stderr",
     "output_type": "stream",
     "text": [
      "\u001b[34m\u001b[1mwandb\u001b[0m: Adding directory to artifact (/home/jupyter/ray_results/TorchTrainer_2022-08-19_15-45-58/TorchTrainer_c9513f7c_10_batch_size=24.0000,format_version=4,future_num_frames=50,history_num_frames=0,model_architecture=resnet50_2022-08-19_16-14-31/checkpoint_000003)... "
     ]
    },
    {
     "name": "stdout",
     "output_type": "stream",
     "text": [
      "Result for TorchTrainer_c9513f7c:\n",
      "  _time_this_iter_s: 8.185299634933472\n",
      "  _timestamp: 1660925764\n",
      "  _training_iteration: 7\n",
      "  avg_loss: 77.72857529776437\n",
      "  date: 2022-08-19_16-16-05\n",
      "  done: false\n",
      "  experiment_id: 33253c1dec9943b3abbfa53eda24348c\n",
      "  hostname: anish-l5-kit\n",
      "  iterations_since_restore: 7\n",
      "  loss: 162.86679077148438\n",
      "  node_ip: 10.150.0.3\n",
      "  pid: 25888\n",
      "  should_checkpoint: true\n",
      "  time_since_restore: 90.77018618583679\n",
      "  time_this_iter_s: 8.640106916427612\n",
      "  time_total_s: 90.77018618583679\n",
      "  timestamp: 1660925765\n",
      "  timesteps_since_restore: 0\n",
      "  training_iteration: 7\n",
      "  trial_id: c9513f7c\n",
      "  warmup_time: 0.005364418029785156\n",
      "  \n"
     ]
    },
    {
     "name": "stderr",
     "output_type": "stream",
     "text": [
      "Done. 1.0s\n"
     ]
    },
    {
     "name": "stdout",
     "output_type": "stream",
     "text": [
      "\u001b[2m\u001b[36m(RayTrainWorker pid=25956)\u001b[0m {'loss': 232.46937561035156, 'avg_loss': 97.07117533683777}\n",
      "Result for TorchTrainer_c9513f7c:\n",
      "  _time_this_iter_s: 7.895900011062622\n",
      "  _timestamp: 1660925772\n",
      "  _training_iteration: 8\n",
      "  avg_loss: 97.07117533683777\n",
      "  date: 2022-08-19_16-16-12\n",
      "  done: false\n",
      "  experiment_id: 33253c1dec9943b3abbfa53eda24348c\n",
      "  hostname: anish-l5-kit\n",
      "  iterations_since_restore: 8\n",
      "  loss: 232.46937561035156\n",
      "  node_ip: 10.150.0.3\n",
      "  pid: 25888\n",
      "  time_since_restore: 98.2962417602539\n",
      "  time_this_iter_s: 7.526055574417114\n",
      "  time_total_s: 98.2962417602539\n",
      "  timestamp: 1660925772\n",
      "  timesteps_since_restore: 0\n",
      "  training_iteration: 8\n",
      "  trial_id: c9513f7c\n",
      "  warmup_time: 0.005364418029785156\n",
      "  \n",
      "\u001b[2m\u001b[36m(RayTrainWorker pid=25956)\u001b[0m {'loss': 21.60836410522461, 'avg_loss': 88.6864185333252}\n"
     ]
    },
    {
     "name": "stderr",
     "output_type": "stream",
     "text": [
      "\u001b[34m\u001b[1mwandb\u001b[0m: Adding directory to artifact (/home/jupyter/ray_results/TorchTrainer_2022-08-19_15-45-58/TorchTrainer_c9513f7c_10_batch_size=24.0000,format_version=4,future_num_frames=50,history_num_frames=0,model_architecture=resnet50_2022-08-19_16-14-31/checkpoint_000004)... "
     ]
    },
    {
     "name": "stdout",
     "output_type": "stream",
     "text": [
      "Result for TorchTrainer_c9513f7c:\n",
      "  _time_this_iter_s: 7.551017999649048\n",
      "  _timestamp: 1660925780\n",
      "  _training_iteration: 9\n",
      "  avg_loss: 88.6864185333252\n",
      "  date: 2022-08-19_16-16-20\n",
      "  done: false\n",
      "  experiment_id: 33253c1dec9943b3abbfa53eda24348c\n",
      "  hostname: anish-l5-kit\n",
      "  iterations_since_restore: 9\n",
      "  loss: 21.60836410522461\n",
      "  node_ip: 10.150.0.3\n",
      "  pid: 25888\n",
      "  should_checkpoint: true\n",
      "  time_since_restore: 106.22802925109863\n",
      "  time_this_iter_s: 7.931787490844727\n",
      "  time_total_s: 106.22802925109863\n",
      "  timestamp: 1660925780\n",
      "  timesteps_since_restore: 0\n",
      "  training_iteration: 9\n",
      "  trial_id: c9513f7c\n",
      "  warmup_time: 0.005364418029785156\n",
      "  \n"
     ]
    },
    {
     "name": "stderr",
     "output_type": "stream",
     "text": [
      "Done. 1.0s\n"
     ]
    },
    {
     "name": "stdout",
     "output_type": "stream",
     "text": [
      "\u001b[2m\u001b[36m(RayTrainWorker pid=25956)\u001b[0m {'loss': 36.51075744628906, 'avg_loss': 83.46885242462159}\n"
     ]
    },
    {
     "name": "stderr",
     "output_type": "stream",
     "text": [
      "\u001b[34m\u001b[1mwandb\u001b[0m: Adding directory to artifact (/home/jupyter/ray_results/TorchTrainer_2022-08-19_15-45-58/TorchTrainer_c9513f7c_10_batch_size=24.0000,format_version=4,future_num_frames=50,history_num_frames=0,model_architecture=resnet50_2022-08-19_16-14-31/checkpoint_000005)... "
     ]
    },
    {
     "name": "stdout",
     "output_type": "stream",
     "text": [
      "Result for TorchTrainer_c9513f7c:\n",
      "  _time_this_iter_s: 8.360788345336914\n",
      "  _timestamp: 1660925788\n",
      "  _training_iteration: 10\n",
      "  avg_loss: 83.46885242462159\n",
      "  date: 2022-08-19_16-16-29\n",
      "  done: false\n",
      "  experiment_id: 33253c1dec9943b3abbfa53eda24348c\n",
      "  hostname: anish-l5-kit\n",
      "  iterations_since_restore: 10\n",
      "  loss: 36.51075744628906\n",
      "  node_ip: 10.150.0.3\n",
      "  pid: 25888\n",
      "  should_checkpoint: true\n",
      "  time_since_restore: 114.68820333480835\n",
      "  time_this_iter_s: 8.460174083709717\n",
      "  time_total_s: 114.68820333480835\n",
      "  timestamp: 1660925789\n",
      "  timesteps_since_restore: 0\n",
      "  training_iteration: 10\n",
      "  trial_id: c9513f7c\n",
      "  warmup_time: 0.005364418029785156\n",
      "  \n"
     ]
    },
    {
     "name": "stderr",
     "output_type": "stream",
     "text": [
      "Done. 1.0s\n",
      "\u001b[34m\u001b[1mwandb\u001b[0m: Adding directory to artifact (/home/jupyter/ray_results/TorchTrainer_2022-08-19_15-45-58/TorchTrainer_c9513f7c_10_batch_size=24.0000,format_version=4,future_num_frames=50,history_num_frames=0,model_architecture=resnet50_2022-08-19_16-14-31/checkpoint_000005)... Done. 0.3s\n"
     ]
    },
    {
     "data": {
      "text/html": [
       "Waiting for W&B process to finish... <strong style=\"color:green\">(success).</strong>"
      ],
      "text/plain": [
       "<IPython.core.display.HTML object>"
      ]
     },
     "metadata": {},
     "output_type": "display_data"
    },
    {
     "name": "stdout",
     "output_type": "stream",
     "text": [
      "Result for TorchTrainer_c9513f7c:\n",
      "  _time_this_iter_s: 8.360788345336914\n",
      "  _timestamp: 1660925788\n",
      "  _training_iteration: 10\n",
      "  avg_loss: 83.46885242462159\n",
      "  date: 2022-08-19_16-16-29\n",
      "  done: true\n",
      "  experiment_id: 33253c1dec9943b3abbfa53eda24348c\n",
      "  experiment_tag: 10_batch_size=24.0000,format_version=4,future_num_frames=50,history_num_frames=0,model_architecture=resnet50,render_ego_history=True,step_time=0.1000,dataset_meta_key=meta_json,disable_traffic_light_faces=False,ego_center=0_25_0_5,filter_agents_threshold=0.5000,map_type=py_semantic,pixel_size=0_5_0_5,raster_size=224_224,satellite_map_key=aerial_map_aerial_map_png,semantic_map_key=semantic_map_semantic_map_pb,set_origin_to_bottom=True,batch_size=12,key=scenes_sample_zarr,num_workers=16,shuffle=True,checkpoint_every_n_steps=10000,eval_every_n_steps=10000,max_num_steps=5,batch_size=12,key=scenes_sample_zarr,num_workers=16,shuffle=False,dataset_key=scenes_sample_zarr,lr=0.0017,max_num_steps=10.0000,num_workers=16,shuffle=True\n",
      "  hostname: anish-l5-kit\n",
      "  iterations_since_restore: 10\n",
      "  loss: 36.51075744628906\n",
      "  node_ip: 10.150.0.3\n",
      "  pid: 25888\n",
      "  should_checkpoint: true\n",
      "  time_since_restore: 114.68820333480835\n",
      "  time_this_iter_s: 8.460174083709717\n",
      "  time_total_s: 114.68820333480835\n",
      "  timestamp: 1660925789\n",
      "  timesteps_since_restore: 0\n",
      "  training_iteration: 10\n",
      "  trial_id: c9513f7c\n",
      "  warmup_time: 0.005364418029785156\n",
      "  \n"
     ]
    },
    {
     "name": "stderr",
     "output_type": "stream",
     "text": [
      "2022-08-19 16:16:39,717\tINFO tune.py:759 -- Total run time: 1841.64 seconds (1841.45 seconds for the tuning loop).\n"
     ]
    },
    {
     "data": {
      "application/vnd.jupyter.widget-view+json": {
       "model_id": "2f245f46c44a480eb47f3d332427e2bc",
       "version_major": 2,
       "version_minor": 0
      },
      "text/plain": [
       "VBox(children=(Label(value='545.068 MB of 545.068 MB uploaded (90.796 MB deduped)\\r'), FloatProgress(value=1.0…"
      ]
     },
     "metadata": {},
     "output_type": "display_data"
    },
    {
     "data": {
      "text/html": [
       "W&B sync reduced upload amount by 16.7%             "
      ],
      "text/plain": [
       "<IPython.core.display.HTML object>"
      ]
     },
     "metadata": {},
     "output_type": "display_data"
    },
    {
     "data": {
      "text/html": [
       "<style>\n",
       "    table.wandb td:nth-child(1) { padding: 0 10px; text-align: left ; width: auto;} td:nth-child(2) {text-align: left ; width: 100%}\n",
       "    .wandb-row { display: flex; flex-direction: row; flex-wrap: wrap; justify-content: flex-start; width: 100% }\n",
       "    .wandb-col { display: flex; flex-direction: column; flex-basis: 100%; flex: 1; padding: 10px; }\n",
       "    </style>\n",
       "<div class=\"wandb-row\"><div class=\"wandb-col\"><h3>Run history:</h3><br/><table class=\"wandb\"><tr><td>avg_loss</td><td>▂▁▁▄▄▅▆█▇▇</td></tr><tr><td>iterations_since_restore</td><td>▁▂▃▃▄▅▆▆▇█</td></tr><tr><td>loss</td><td>▁▁▁▆▃▄▆█▁▂</td></tr><tr><td>time_since_restore</td><td>▁▂▃▃▄▅▆▆▇█</td></tr><tr><td>time_this_iter_s</td><td>█▁▁▁▁▁▁▁▁▁</td></tr><tr><td>time_total_s</td><td>▁▂▃▃▄▅▆▆▇█</td></tr><tr><td>timestamp</td><td>▁▂▃▃▄▅▆▆▇█</td></tr><tr><td>timesteps_since_restore</td><td>▁▁▁▁▁▁▁▁▁▁</td></tr><tr><td>training_iteration</td><td>▁▂▃▃▄▅▆▆▇█</td></tr><tr><td>warmup_time</td><td>▁▁▁▁▁▁▁▁▁▁</td></tr></table><br/></div><div class=\"wandb-col\"><h3>Run summary:</h3><br/><table class=\"wandb\"><tr><td>avg_loss</td><td>83.46885</td></tr><tr><td>iterations_since_restore</td><td>10</td></tr><tr><td>loss</td><td>36.51076</td></tr><tr><td>time_since_restore</td><td>114.6882</td></tr><tr><td>time_this_iter_s</td><td>8.46017</td></tr><tr><td>time_total_s</td><td>114.6882</td></tr><tr><td>timestamp</td><td>1660925789</td></tr><tr><td>timesteps_since_restore</td><td>0</td></tr><tr><td>training_iteration</td><td>10</td></tr><tr><td>warmup_time</td><td>0.00536</td></tr></table><br/></div></div>"
      ],
      "text/plain": [
       "<IPython.core.display.HTML object>"
      ]
     },
     "metadata": {},
     "output_type": "display_data"
    },
    {
     "data": {
      "text/html": [
       "Synced <strong style=\"color:#cdcd00\">TorchTrainer_c9513f7c</strong>: <a href=\"https://wandb.ai/l5-demo/l5-prediction-trials/runs/c9513f7c\" target=\"_blank\">https://wandb.ai/l5-demo/l5-prediction-trials/runs/c9513f7c</a><br/>Synced 7 W&B file(s), 0 media file(s), 14 artifact file(s) and 1 other file(s)"
      ],
      "text/plain": [
       "<IPython.core.display.HTML object>"
      ]
     },
     "metadata": {},
     "output_type": "display_data"
    },
    {
     "data": {
      "text/html": [
       "Find logs at: <code>./wandb/run-20220819_161431-c9513f7c/logs</code>"
      ],
      "text/plain": [
       "<IPython.core.display.HTML object>"
      ]
     },
     "metadata": {},
     "output_type": "display_data"
    }
   ],
   "source": [
    "analysis = tuner.fit()"
   ]
  },
  {
   "cell_type": "code",
   "execution_count": 34,
   "metadata": {},
   "outputs": [],
   "source": [
    "import time"
   ]
  },
  {
   "cell_type": "code",
   "execution_count": 35,
   "metadata": {},
   "outputs": [],
   "source": [
    "#does sleeping help???\n",
    "time.sleep(30)"
   ]
  },
  {
   "cell_type": "code",
   "execution_count": 32,
   "metadata": {},
   "outputs": [],
   "source": [
    "analysis_df = analysis.get_dataframe()"
   ]
  },
  {
   "cell_type": "code",
   "execution_count": 33,
   "metadata": {},
   "outputs": [
    {
     "data": {
      "text/html": [
       "<div>\n",
       "<style scoped>\n",
       "    .dataframe tbody tr th:only-of-type {\n",
       "        vertical-align: middle;\n",
       "    }\n",
       "\n",
       "    .dataframe tbody tr th {\n",
       "        vertical-align: top;\n",
       "    }\n",
       "\n",
       "    .dataframe thead th {\n",
       "        text-align: right;\n",
       "    }\n",
       "</style>\n",
       "<table border=\"1\" class=\"dataframe\">\n",
       "  <thead>\n",
       "    <tr style=\"text-align: right;\">\n",
       "      <th></th>\n",
       "      <th>loss</th>\n",
       "      <th>avg_loss</th>\n",
       "      <th>_timestamp</th>\n",
       "      <th>_time_this_iter_s</th>\n",
       "      <th>_training_iteration</th>\n",
       "      <th>time_this_iter_s</th>\n",
       "      <th>should_checkpoint</th>\n",
       "      <th>done</th>\n",
       "      <th>timesteps_total</th>\n",
       "      <th>episodes_total</th>\n",
       "      <th>...</th>\n",
       "      <th>config/train_loop_config/cfg/train_data_loader/num_workers</th>\n",
       "      <th>config/train_loop_config/cfg/train_data_loader/shuffle</th>\n",
       "      <th>config/train_loop_config/cfg/train_params/checkpoint_every_n_steps</th>\n",
       "      <th>config/train_loop_config/cfg/train_params/eval_every_n_steps</th>\n",
       "      <th>config/train_loop_config/cfg/train_params/max_num_steps</th>\n",
       "      <th>config/train_loop_config/cfg/val_data_loader/batch_size</th>\n",
       "      <th>config/train_loop_config/cfg/val_data_loader/key</th>\n",
       "      <th>config/train_loop_config/cfg/val_data_loader/num_workers</th>\n",
       "      <th>config/train_loop_config/cfg/val_data_loader/shuffle</th>\n",
       "      <th>logdir</th>\n",
       "    </tr>\n",
       "  </thead>\n",
       "  <tbody>\n",
       "    <tr>\n",
       "      <th>0</th>\n",
       "      <td>41.008888</td>\n",
       "      <td>94.537867</td>\n",
       "      <td>1660924095</td>\n",
       "      <td>3.218059</td>\n",
       "      <td>35</td>\n",
       "      <td>3.654188</td>\n",
       "      <td>True</td>\n",
       "      <td>False</td>\n",
       "      <td>NaN</td>\n",
       "      <td>NaN</td>\n",
       "      <td>...</td>\n",
       "      <td>16</td>\n",
       "      <td>True</td>\n",
       "      <td>10000</td>\n",
       "      <td>10000</td>\n",
       "      <td>5</td>\n",
       "      <td>12</td>\n",
       "      <td>scenes/sample.zarr</td>\n",
       "      <td>16</td>\n",
       "      <td>False</td>\n",
       "      <td>/home/jupyter/ray_results/TorchTrainer_2022-08...</td>\n",
       "    </tr>\n",
       "    <tr>\n",
       "      <th>1</th>\n",
       "      <td>109.761116</td>\n",
       "      <td>67.864799</td>\n",
       "      <td>1660924236</td>\n",
       "      <td>4.230319</td>\n",
       "      <td>25</td>\n",
       "      <td>4.711835</td>\n",
       "      <td>True</td>\n",
       "      <td>False</td>\n",
       "      <td>NaN</td>\n",
       "      <td>NaN</td>\n",
       "      <td>...</td>\n",
       "      <td>16</td>\n",
       "      <td>True</td>\n",
       "      <td>10000</td>\n",
       "      <td>10000</td>\n",
       "      <td>5</td>\n",
       "      <td>12</td>\n",
       "      <td>scenes/sample.zarr</td>\n",
       "      <td>16</td>\n",
       "      <td>False</td>\n",
       "      <td>/home/jupyter/ray_results/TorchTrainer_2022-08...</td>\n",
       "    </tr>\n",
       "    <tr>\n",
       "      <th>2</th>\n",
       "      <td>41.149384</td>\n",
       "      <td>70.176504</td>\n",
       "      <td>1660924618</td>\n",
       "      <td>7.601075</td>\n",
       "      <td>45</td>\n",
       "      <td>8.216519</td>\n",
       "      <td>True</td>\n",
       "      <td>False</td>\n",
       "      <td>NaN</td>\n",
       "      <td>NaN</td>\n",
       "      <td>...</td>\n",
       "      <td>16</td>\n",
       "      <td>True</td>\n",
       "      <td>10000</td>\n",
       "      <td>10000</td>\n",
       "      <td>5</td>\n",
       "      <td>12</td>\n",
       "      <td>scenes/sample.zarr</td>\n",
       "      <td>16</td>\n",
       "      <td>False</td>\n",
       "      <td>/home/jupyter/ray_results/TorchTrainer_2022-08...</td>\n",
       "    </tr>\n",
       "    <tr>\n",
       "      <th>3</th>\n",
       "      <td>94.941132</td>\n",
       "      <td>92.686515</td>\n",
       "      <td>1660924787</td>\n",
       "      <td>3.154223</td>\n",
       "      <td>40</td>\n",
       "      <td>3.595659</td>\n",
       "      <td>True</td>\n",
       "      <td>False</td>\n",
       "      <td>NaN</td>\n",
       "      <td>NaN</td>\n",
       "      <td>...</td>\n",
       "      <td>16</td>\n",
       "      <td>True</td>\n",
       "      <td>10000</td>\n",
       "      <td>10000</td>\n",
       "      <td>5</td>\n",
       "      <td>12</td>\n",
       "      <td>scenes/sample.zarr</td>\n",
       "      <td>16</td>\n",
       "      <td>False</td>\n",
       "      <td>/home/jupyter/ray_results/TorchTrainer_2022-08...</td>\n",
       "    </tr>\n",
       "    <tr>\n",
       "      <th>4</th>\n",
       "      <td>106.942398</td>\n",
       "      <td>82.296616</td>\n",
       "      <td>1660924977</td>\n",
       "      <td>5.036870</td>\n",
       "      <td>30</td>\n",
       "      <td>5.481915</td>\n",
       "      <td>True</td>\n",
       "      <td>False</td>\n",
       "      <td>NaN</td>\n",
       "      <td>NaN</td>\n",
       "      <td>...</td>\n",
       "      <td>16</td>\n",
       "      <td>True</td>\n",
       "      <td>10000</td>\n",
       "      <td>10000</td>\n",
       "      <td>5</td>\n",
       "      <td>12</td>\n",
       "      <td>scenes/sample.zarr</td>\n",
       "      <td>16</td>\n",
       "      <td>False</td>\n",
       "      <td>/home/jupyter/ray_results/TorchTrainer_2022-08...</td>\n",
       "    </tr>\n",
       "    <tr>\n",
       "      <th>5</th>\n",
       "      <td>24.701918</td>\n",
       "      <td>90.694370</td>\n",
       "      <td>1660925174</td>\n",
       "      <td>3.202257</td>\n",
       "      <td>50</td>\n",
       "      <td>3.554569</td>\n",
       "      <td>True</td>\n",
       "      <td>False</td>\n",
       "      <td>NaN</td>\n",
       "      <td>NaN</td>\n",
       "      <td>...</td>\n",
       "      <td>16</td>\n",
       "      <td>True</td>\n",
       "      <td>10000</td>\n",
       "      <td>10000</td>\n",
       "      <td>5</td>\n",
       "      <td>12</td>\n",
       "      <td>scenes/sample.zarr</td>\n",
       "      <td>16</td>\n",
       "      <td>False</td>\n",
       "      <td>/home/jupyter/ray_results/TorchTrainer_2022-08...</td>\n",
       "    </tr>\n",
       "    <tr>\n",
       "      <th>6</th>\n",
       "      <td>40.301899</td>\n",
       "      <td>70.757032</td>\n",
       "      <td>1660925455</td>\n",
       "      <td>7.444295</td>\n",
       "      <td>30</td>\n",
       "      <td>7.902245</td>\n",
       "      <td>True</td>\n",
       "      <td>False</td>\n",
       "      <td>NaN</td>\n",
       "      <td>NaN</td>\n",
       "      <td>...</td>\n",
       "      <td>16</td>\n",
       "      <td>True</td>\n",
       "      <td>10000</td>\n",
       "      <td>10000</td>\n",
       "      <td>5</td>\n",
       "      <td>12</td>\n",
       "      <td>scenes/sample.zarr</td>\n",
       "      <td>16</td>\n",
       "      <td>False</td>\n",
       "      <td>/home/jupyter/ray_results/TorchTrainer_2022-08...</td>\n",
       "    </tr>\n",
       "    <tr>\n",
       "      <th>7</th>\n",
       "      <td>75.253006</td>\n",
       "      <td>69.915300</td>\n",
       "      <td>1660925564</td>\n",
       "      <td>3.349678</td>\n",
       "      <td>20</td>\n",
       "      <td>3.707979</td>\n",
       "      <td>True</td>\n",
       "      <td>False</td>\n",
       "      <td>NaN</td>\n",
       "      <td>NaN</td>\n",
       "      <td>...</td>\n",
       "      <td>16</td>\n",
       "      <td>True</td>\n",
       "      <td>10000</td>\n",
       "      <td>10000</td>\n",
       "      <td>5</td>\n",
       "      <td>12</td>\n",
       "      <td>scenes/sample.zarr</td>\n",
       "      <td>16</td>\n",
       "      <td>False</td>\n",
       "      <td>/home/jupyter/ray_results/TorchTrainer_2022-08...</td>\n",
       "    </tr>\n",
       "    <tr>\n",
       "      <th>8</th>\n",
       "      <td>240.057770</td>\n",
       "      <td>70.046607</td>\n",
       "      <td>1660925661</td>\n",
       "      <td>5.844266</td>\n",
       "      <td>10</td>\n",
       "      <td>5.798168</td>\n",
       "      <td>True</td>\n",
       "      <td>False</td>\n",
       "      <td>NaN</td>\n",
       "      <td>NaN</td>\n",
       "      <td>...</td>\n",
       "      <td>16</td>\n",
       "      <td>True</td>\n",
       "      <td>10000</td>\n",
       "      <td>10000</td>\n",
       "      <td>5</td>\n",
       "      <td>12</td>\n",
       "      <td>scenes/sample.zarr</td>\n",
       "      <td>16</td>\n",
       "      <td>False</td>\n",
       "      <td>/home/jupyter/ray_results/TorchTrainer_2022-08...</td>\n",
       "    </tr>\n",
       "    <tr>\n",
       "      <th>9</th>\n",
       "      <td>36.510757</td>\n",
       "      <td>83.468852</td>\n",
       "      <td>1660925788</td>\n",
       "      <td>8.360788</td>\n",
       "      <td>10</td>\n",
       "      <td>8.460174</td>\n",
       "      <td>True</td>\n",
       "      <td>False</td>\n",
       "      <td>NaN</td>\n",
       "      <td>NaN</td>\n",
       "      <td>...</td>\n",
       "      <td>16</td>\n",
       "      <td>True</td>\n",
       "      <td>10000</td>\n",
       "      <td>10000</td>\n",
       "      <td>5</td>\n",
       "      <td>12</td>\n",
       "      <td>scenes/sample.zarr</td>\n",
       "      <td>16</td>\n",
       "      <td>False</td>\n",
       "      <td>/home/jupyter/ray_results/TorchTrainer_2022-08...</td>\n",
       "    </tr>\n",
       "  </tbody>\n",
       "</table>\n",
       "<p>10 rows × 57 columns</p>\n",
       "</div>"
      ],
      "text/plain": [
       "         loss   avg_loss  _timestamp  _time_this_iter_s  _training_iteration  \\\n",
       "0   41.008888  94.537867  1660924095           3.218059                   35   \n",
       "1  109.761116  67.864799  1660924236           4.230319                   25   \n",
       "2   41.149384  70.176504  1660924618           7.601075                   45   \n",
       "3   94.941132  92.686515  1660924787           3.154223                   40   \n",
       "4  106.942398  82.296616  1660924977           5.036870                   30   \n",
       "5   24.701918  90.694370  1660925174           3.202257                   50   \n",
       "6   40.301899  70.757032  1660925455           7.444295                   30   \n",
       "7   75.253006  69.915300  1660925564           3.349678                   20   \n",
       "8  240.057770  70.046607  1660925661           5.844266                   10   \n",
       "9   36.510757  83.468852  1660925788           8.360788                   10   \n",
       "\n",
       "   time_this_iter_s  should_checkpoint   done  timesteps_total  \\\n",
       "0          3.654188               True  False              NaN   \n",
       "1          4.711835               True  False              NaN   \n",
       "2          8.216519               True  False              NaN   \n",
       "3          3.595659               True  False              NaN   \n",
       "4          5.481915               True  False              NaN   \n",
       "5          3.554569               True  False              NaN   \n",
       "6          7.902245               True  False              NaN   \n",
       "7          3.707979               True  False              NaN   \n",
       "8          5.798168               True  False              NaN   \n",
       "9          8.460174               True  False              NaN   \n",
       "\n",
       "   episodes_total  ...  \\\n",
       "0             NaN  ...   \n",
       "1             NaN  ...   \n",
       "2             NaN  ...   \n",
       "3             NaN  ...   \n",
       "4             NaN  ...   \n",
       "5             NaN  ...   \n",
       "6             NaN  ...   \n",
       "7             NaN  ...   \n",
       "8             NaN  ...   \n",
       "9             NaN  ...   \n",
       "\n",
       "   config/train_loop_config/cfg/train_data_loader/num_workers  \\\n",
       "0                                                 16            \n",
       "1                                                 16            \n",
       "2                                                 16            \n",
       "3                                                 16            \n",
       "4                                                 16            \n",
       "5                                                 16            \n",
       "6                                                 16            \n",
       "7                                                 16            \n",
       "8                                                 16            \n",
       "9                                                 16            \n",
       "\n",
       "  config/train_loop_config/cfg/train_data_loader/shuffle  \\\n",
       "0                                               True       \n",
       "1                                               True       \n",
       "2                                               True       \n",
       "3                                               True       \n",
       "4                                               True       \n",
       "5                                               True       \n",
       "6                                               True       \n",
       "7                                               True       \n",
       "8                                               True       \n",
       "9                                               True       \n",
       "\n",
       "  config/train_loop_config/cfg/train_params/checkpoint_every_n_steps  \\\n",
       "0                                              10000                   \n",
       "1                                              10000                   \n",
       "2                                              10000                   \n",
       "3                                              10000                   \n",
       "4                                              10000                   \n",
       "5                                              10000                   \n",
       "6                                              10000                   \n",
       "7                                              10000                   \n",
       "8                                              10000                   \n",
       "9                                              10000                   \n",
       "\n",
       "  config/train_loop_config/cfg/train_params/eval_every_n_steps  \\\n",
       "0                                              10000             \n",
       "1                                              10000             \n",
       "2                                              10000             \n",
       "3                                              10000             \n",
       "4                                              10000             \n",
       "5                                              10000             \n",
       "6                                              10000             \n",
       "7                                              10000             \n",
       "8                                              10000             \n",
       "9                                              10000             \n",
       "\n",
       "   config/train_loop_config/cfg/train_params/max_num_steps  \\\n",
       "0                                                  5         \n",
       "1                                                  5         \n",
       "2                                                  5         \n",
       "3                                                  5         \n",
       "4                                                  5         \n",
       "5                                                  5         \n",
       "6                                                  5         \n",
       "7                                                  5         \n",
       "8                                                  5         \n",
       "9                                                  5         \n",
       "\n",
       "   config/train_loop_config/cfg/val_data_loader/batch_size  \\\n",
       "0                                                 12         \n",
       "1                                                 12         \n",
       "2                                                 12         \n",
       "3                                                 12         \n",
       "4                                                 12         \n",
       "5                                                 12         \n",
       "6                                                 12         \n",
       "7                                                 12         \n",
       "8                                                 12         \n",
       "9                                                 12         \n",
       "\n",
       "   config/train_loop_config/cfg/val_data_loader/key  \\\n",
       "0                                scenes/sample.zarr   \n",
       "1                                scenes/sample.zarr   \n",
       "2                                scenes/sample.zarr   \n",
       "3                                scenes/sample.zarr   \n",
       "4                                scenes/sample.zarr   \n",
       "5                                scenes/sample.zarr   \n",
       "6                                scenes/sample.zarr   \n",
       "7                                scenes/sample.zarr   \n",
       "8                                scenes/sample.zarr   \n",
       "9                                scenes/sample.zarr   \n",
       "\n",
       "  config/train_loop_config/cfg/val_data_loader/num_workers  \\\n",
       "0                                                 16         \n",
       "1                                                 16         \n",
       "2                                                 16         \n",
       "3                                                 16         \n",
       "4                                                 16         \n",
       "5                                                 16         \n",
       "6                                                 16         \n",
       "7                                                 16         \n",
       "8                                                 16         \n",
       "9                                                 16         \n",
       "\n",
       "  config/train_loop_config/cfg/val_data_loader/shuffle  \\\n",
       "0                                              False     \n",
       "1                                              False     \n",
       "2                                              False     \n",
       "3                                              False     \n",
       "4                                              False     \n",
       "5                                              False     \n",
       "6                                              False     \n",
       "7                                              False     \n",
       "8                                              False     \n",
       "9                                              False     \n",
       "\n",
       "                                              logdir  \n",
       "0  /home/jupyter/ray_results/TorchTrainer_2022-08...  \n",
       "1  /home/jupyter/ray_results/TorchTrainer_2022-08...  \n",
       "2  /home/jupyter/ray_results/TorchTrainer_2022-08...  \n",
       "3  /home/jupyter/ray_results/TorchTrainer_2022-08...  \n",
       "4  /home/jupyter/ray_results/TorchTrainer_2022-08...  \n",
       "5  /home/jupyter/ray_results/TorchTrainer_2022-08...  \n",
       "6  /home/jupyter/ray_results/TorchTrainer_2022-08...  \n",
       "7  /home/jupyter/ray_results/TorchTrainer_2022-08...  \n",
       "8  /home/jupyter/ray_results/TorchTrainer_2022-08...  \n",
       "9  /home/jupyter/ray_results/TorchTrainer_2022-08...  \n",
       "\n",
       "[10 rows x 57 columns]"
      ]
     },
     "execution_count": 33,
     "metadata": {},
     "output_type": "execute_result"
    }
   ],
   "source": [
    "analysis_df"
   ]
  },
  {
   "cell_type": "code",
   "execution_count": 36,
   "metadata": {},
   "outputs": [],
   "source": [
    "# analysis.get_best_result().metrics\n",
    "# best_result = "
   ]
  },
  {
   "cell_type": "code",
   "execution_count": 37,
   "metadata": {},
   "outputs": [],
   "source": [
    "# Run information\n",
    "wandb_entity = \"l5-demo\"\n",
    "project_name = \"l5-prediction\"\n",
    "run_name = \"train-prediction-model\"\n",
    "run_type = \"train\"\n",
    "run_description = \"\"\"\n",
    "Train prediction model\n",
    "\"\"\"\n",
    "tags = [\"train\", \"prediction\"]"
   ]
  },
  {
   "cell_type": "code",
   "execution_count": 38,
   "metadata": {},
   "outputs": [
    {
     "data": {
      "text/html": [
       "Tracking run with wandb version 0.13.1"
      ],
      "text/plain": [
       "<IPython.core.display.HTML object>"
      ]
     },
     "metadata": {},
     "output_type": "display_data"
    },
    {
     "data": {
      "text/html": [
       "Run data is saved locally in <code>/home/jupyter/ray_results/TorchTrainer_2022-08-19_15-45-58/TorchTrainer_c9513f7c_10_batch_size=24.0000,format_version=4,future_num_frames=50,history_num_frames=0,model_architecture=resnet50_2022-08-19_16-14-31/wandb/run-20220819_161710-lrxhd3q9</code>"
      ],
      "text/plain": [
       "<IPython.core.display.HTML object>"
      ]
     },
     "metadata": {},
     "output_type": "display_data"
    },
    {
     "data": {
      "text/html": [
       "Syncing run <strong><a href=\"https://wandb.ai/l5-demo/l5-prediction/runs/lrxhd3q9\" target=\"_blank\">train-prediction-model</a></strong> to <a href=\"https://wandb.ai/l5-demo/l5-prediction\" target=\"_blank\">Weights & Biases</a> (<a href=\"https://wandb.me/run\" target=\"_blank\">docs</a>)<br/>"
      ],
      "text/plain": [
       "<IPython.core.display.HTML object>"
      ]
     },
     "metadata": {},
     "output_type": "display_data"
    }
   ],
   "source": [
    "run = wandb.init(\n",
    "    entity=wandb_entity,\n",
    "    project=project_name,\n",
    "    job_type=run_type,\n",
    "    name=run_name,\n",
    "    notes=run_description,\n",
    "    tags=tags,\n",
    "    config=cfg\n",
    ")"
   ]
  },
  {
   "cell_type": "code",
   "execution_count": null,
   "metadata": {},
   "outputs": [],
   "source": [
    "#BUG: to force a connection on the lineage graph\n",
    "artifact = run.use_artifact(f\"{artifact_entity}/{artifact_project}/{artifact_name}:{artifact_alias}\", type=artifact_type)"
   ]
  },
  {
   "cell_type": "code",
   "execution_count": 39,
   "metadata": {},
   "outputs": [],
   "source": [
    "analysis_table = wandb.Table(dataframe=analysis_df)"
   ]
  },
  {
   "cell_type": "code",
   "execution_count": 40,
   "metadata": {},
   "outputs": [
    {
     "data": {
      "text/html": [
       "Waiting for W&B process to finish... <strong style=\"color:green\">(success).</strong>"
      ],
      "text/plain": [
       "<IPython.core.display.HTML object>"
      ]
     },
     "metadata": {},
     "output_type": "display_data"
    },
    {
     "data": {
      "application/vnd.jupyter.widget-view+json": {
       "model_id": "",
       "version_major": 2,
       "version_minor": 0
      },
      "text/plain": [
       "VBox(children=(Label(value='0.018 MB of 0.028 MB uploaded (0.000 MB deduped)\\r'), FloatProgress(value=0.636284…"
      ]
     },
     "metadata": {},
     "output_type": "display_data"
    },
    {
     "data": {
      "text/html": [
       "Synced <strong style=\"color:#cdcd00\">train-prediction-model</strong>: <a href=\"https://wandb.ai/l5-demo/l5-prediction/runs/lrxhd3q9\" target=\"_blank\">https://wandb.ai/l5-demo/l5-prediction/runs/lrxhd3q9</a><br/>Synced 6 W&B file(s), 1 media file(s), 1 artifact file(s) and 1 other file(s)"
      ],
      "text/plain": [
       "<IPython.core.display.HTML object>"
      ]
     },
     "metadata": {},
     "output_type": "display_data"
    },
    {
     "data": {
      "text/html": [
       "Find logs at: <code>/home/jupyter/ray_results/TorchTrainer_2022-08-19_15-45-58/TorchTrainer_c9513f7c_10_batch_size=24.0000,format_version=4,future_num_frames=50,history_num_frames=0,model_architecture=resnet50_2022-08-19_16-14-31/wandb/run-20220819_161710-lrxhd3q9/logs</code>"
      ],
      "text/plain": [
       "<IPython.core.display.HTML object>"
      ]
     },
     "metadata": {},
     "output_type": "display_data"
    }
   ],
   "source": [
    "#BUG: run gets lost after tune job due to change in cwd. Forced to make 2 runs\n",
    "if len(analysis_table.data) == 0:\n",
    "    raise ValueError(\"bad table for some reason\")\n",
    "else:\n",
    "    run.log({\"analysis_table\": analysis_table})\n",
    "    run.finish()"
   ]
  }
 ],
 "metadata": {
  "accelerator": "GPU",
  "colab": {
   "collapsed_sections": [],
   "name": "Level-5-agent_motion_prediction.ipynb",
   "provenance": [
    {
     "file_id": "https://github.com/lyft/l5kit/blob/master/examples/agent_motion_prediction/agent_motion_prediction.ipynb",
     "timestamp": 1660678336545
    }
   ]
  },
  "environment": {
   "kernel": "python3",
   "name": "common-cu110.m95",
   "type": "gcloud",
   "uri": "gcr.io/deeplearning-platform-release/base-cu110:m95"
  },
  "gpuClass": "standard",
  "kernelspec": {
   "display_name": "Python 3",
   "language": "python",
   "name": "python3"
  },
  "language_info": {
   "codemirror_mode": {
    "name": "ipython",
    "version": 3
   },
   "file_extension": ".py",
   "mimetype": "text/x-python",
   "name": "python",
   "nbconvert_exporter": "python",
   "pygments_lexer": "ipython3",
   "version": "3.7.12"
  },
  "pycharm": {
   "stem_cell": {
    "cell_type": "raw",
    "metadata": {
     "collapsed": false
    },
    "source": []
   }
  }
 },
 "nbformat": 4,
 "nbformat_minor": 4
}
