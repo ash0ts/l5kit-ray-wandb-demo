{
 "cells": [
  {
   "cell_type": "markdown",
   "metadata": {
    "id": "2aXGGrVOJCbd"
   },
   "source": [
    "from pathlib import Path## Prepare Data path and load cfg\n",
    "\n",
    "By setting the `L5KIT_DATA_FOLDER` variable, we can point the script to the folder where the data lies.\n",
    "\n",
    "Then, we load our config file with relative paths and other configurations (rasteriser, training params...)."
   ]
  },
  {
   "cell_type": "code",
   "execution_count": 3,
   "metadata": {},
   "outputs": [],
   "source": [
    "from pathlib import Path\n",
    "import os"
   ]
  },
  {
   "cell_type": "code",
   "execution_count": 6,
   "metadata": {},
   "outputs": [],
   "source": [
    "#NOTE: DONT USE RELATIVE PATHS FOR THE MODELS PROVIDED BY L5\n",
    "experiments_directory = Path(Path(os.path.abspath('')).parent.parent, \"Experiments\")\n",
    "experiments_directory.mkdir(parents=True, exist_ok=True)\n",
    "\n",
    "data_directory = Path(experiments_directory, \"data\")\n",
    "data_directory.mkdir(parents=True, exist_ok=True)\n",
    "\n",
    "prediction_directory = Path(experiments_directory, \"prediction\")\n",
    "prediction_directory.mkdir(parents=True, exist_ok=True)\n",
    "\n",
    "save_directory = Path(prediction_directory, \"saved_outputs\")\n",
    "save_directory.mkdir(parents=True, exist_ok=True)"
   ]
  },
  {
   "cell_type": "code",
   "execution_count": 7,
   "metadata": {},
   "outputs": [],
   "source": [
    "import os\n",
    "os.chdir(prediction_directory)"
   ]
  },
  {
   "cell_type": "code",
   "execution_count": 8,
   "metadata": {},
   "outputs": [
    {
     "name": "stdout",
     "output_type": "stream",
     "text": [
      "Overwriting requirements.txt\n"
     ]
    }
   ],
   "source": [
    "%%writefile requirements.txt\n",
    "l5kit\n",
    "pyyaml\n",
    "ray==2.0.0rc1\n",
    "ray[air]\n",
    "wandb"
   ]
  },
  {
   "cell_type": "code",
   "execution_count": 9,
   "metadata": {},
   "outputs": [],
   "source": [
    "%%capture\n",
    "# !pip install -r requirements.txt\n",
    "!pip install l5kit pyyaml wandb\n",
    "!pip install ray==2.0.0rc1\n",
    "!pip install \"ray[air]\""
   ]
  },
  {
   "cell_type": "code",
   "execution_count": 10,
   "metadata": {
    "colab": {
     "base_uri": "https://localhost:8080/",
     "height": 71
    },
    "executionInfo": {
     "elapsed": 5572,
     "status": "ok",
     "timestamp": 1660707075761,
     "user": {
      "displayName": "Anish Shah",
      "userId": "05913492621931233323"
     },
     "user_tz": 240
    },
    "id": "Hbg_JE1s0q6u",
    "outputId": "48fec4f3-85e5-413a-911c-e4db3ad1aaa4"
   },
   "outputs": [
    {
     "name": "stderr",
     "output_type": "stream",
     "text": [
      "\u001b[34m\u001b[1mwandb\u001b[0m: Currently logged in as: \u001b[33ma-sh0ts\u001b[0m. Use \u001b[1m`wandb login --relogin`\u001b[0m to force relogin\n"
     ]
    },
    {
     "data": {
      "text/plain": [
       "True"
      ]
     },
     "execution_count": 10,
     "metadata": {},
     "output_type": "execute_result"
    }
   ],
   "source": [
    "import wandb\n",
    "wandb.login()"
   ]
  },
  {
   "cell_type": "code",
   "execution_count": 11,
   "metadata": {
    "id": "OKx_V_wnJCbb"
   },
   "outputs": [],
   "source": [
    "from typing import Dict\n",
    "\n",
    "from tempfile import gettempdir\n",
    "import matplotlib.pyplot as plt\n",
    "import numpy as np\n",
    "import torch\n",
    "from torch import nn, optim\n",
    "from torch.utils.data import DataLoader\n",
    "from torchvision.models.resnet import resnet50\n",
    "from tqdm import tqdm\n",
    "\n",
    "from l5kit.configs import load_config_data\n",
    "from l5kit.data import LocalDataManager, ChunkedDataset\n",
    "from l5kit.dataset import AgentDataset, EgoDataset\n",
    "from l5kit.rasterization import build_rasterizer\n",
    "from l5kit.evaluation import write_pred_csv, compute_metrics_csv, read_gt_csv, create_chopped_dataset\n",
    "from l5kit.evaluation.chop_dataset import MIN_FUTURE_STEPS\n",
    "from l5kit.evaluation.metrics import neg_multi_log_likelihood, time_displace\n",
    "from l5kit.geometry import transform_points\n",
    "from l5kit.visualization import PREDICTED_POINTS_COLOR, TARGET_POINTS_COLOR, draw_trajectory\n",
    "from prettytable import PrettyTable\n",
    "from pathlib import Path\n",
    "\n",
    "import os"
   ]
  },
  {
   "cell_type": "code",
   "execution_count": 12,
   "metadata": {},
   "outputs": [],
   "source": [
    "# Run information\n",
    "wandb_entity = \"l5-demo\"\n",
    "project_name = \"l5-prediction\"\n",
    "run_name = \"train-prediction-model\"\n",
    "run_type = \"train\"\n",
    "run_description = \"\"\"\n",
    "Train prediction model\n",
    "\"\"\"\n",
    "tags = [\"download\", \"data\", \"training\", \"prediction\"]"
   ]
  },
  {
   "cell_type": "code",
   "execution_count": 13,
   "metadata": {},
   "outputs": [
    {
     "name": "stderr",
     "output_type": "stream",
     "text": [
      "\u001b[34m\u001b[1mwandb\u001b[0m: Currently logged in as: \u001b[33ma-sh0ts\u001b[0m (\u001b[33ml5-demo\u001b[0m). Use \u001b[1m`wandb login --relogin`\u001b[0m to force relogin\n"
     ]
    },
    {
     "data": {
      "text/html": [
       "Tracking run with wandb version 0.13.1"
      ],
      "text/plain": [
       "<IPython.core.display.HTML object>"
      ]
     },
     "metadata": {},
     "output_type": "display_data"
    },
    {
     "data": {
      "text/html": [
       "Run data is saved locally in <code>/home/jupyter/l5kit-ray-wandb-demo/Experiments/prediction/wandb/run-20220818_210335-11smnatl</code>"
      ],
      "text/plain": [
       "<IPython.core.display.HTML object>"
      ]
     },
     "metadata": {},
     "output_type": "display_data"
    },
    {
     "data": {
      "text/html": [
       "Syncing run <strong><a href=\"https://wandb.ai/l5-demo/l5-prediction/runs/11smnatl\" target=\"_blank\">train-prediction-model</a></strong> to <a href=\"https://wandb.ai/l5-demo/l5-prediction\" target=\"_blank\">Weights & Biases</a> (<a href=\"https://wandb.me/run\" target=\"_blank\">docs</a>)<br/>"
      ],
      "text/plain": [
       "<IPython.core.display.HTML object>"
      ]
     },
     "metadata": {},
     "output_type": "display_data"
    }
   ],
   "source": [
    "run = wandb.init(\n",
    "    entity=wandb_entity,\n",
    "    project=project_name,\n",
    "    job_type=run_type,\n",
    "    name=run_name,\n",
    "    notes=run_description,\n",
    "    tags=tags\n",
    ")"
   ]
  },
  {
   "cell_type": "code",
   "execution_count": 14,
   "metadata": {},
   "outputs": [],
   "source": [
    "artifact_entity = \"l5-demo\"\n",
    "artifact_project = \"l5-common\"\n",
    "artifact_name = \"l5-data\"\n",
    "artifact_alias = \"latest\"\n",
    "artifact_type = \"dataset\""
   ]
  },
  {
   "cell_type": "code",
   "execution_count": 15,
   "metadata": {},
   "outputs": [],
   "source": [
    "artifact = run.use_artifact(f\"{artifact_entity}/{artifact_project}/{artifact_name}:{artifact_alias}\", type=artifact_type)"
   ]
  },
  {
   "cell_type": "code",
   "execution_count": 16,
   "metadata": {},
   "outputs": [
    {
     "name": "stderr",
     "output_type": "stream",
     "text": [
      "\u001b[34m\u001b[1mwandb\u001b[0m: Downloading large artifact l5-data:latest, 2386.92MB. 517 files... Done. 0:0:0.1\n"
     ]
    }
   ],
   "source": [
    "_ = artifact.download(data_directory)"
   ]
  },
  {
   "cell_type": "code",
   "execution_count": 17,
   "metadata": {},
   "outputs": [],
   "source": [
    "# Dataset is assumed to be on the folder specified\n",
    "# in the L5KIT_DATA_FOLDER environment variable\n",
    "\n",
    "# get config\n",
    "cfg = load_config_data(Path(data_directory, \"configurations\", \"agent_motion_config.yaml\"))\n",
    "l5_data_location = Path(data_directory, \"dataset\")\n",
    "run.config.update(cfg)"
   ]
  },
  {
   "cell_type": "code",
   "execution_count": 18,
   "metadata": {},
   "outputs": [],
   "source": [
    "cfg[\"zarr_dataset_location\"] = l5_data_location\n",
    "os.environ[\"L5KIT_DATA_FOLDER\"] = str(l5_data_location)"
   ]
  },
  {
   "cell_type": "markdown",
   "metadata": {
    "id": "_ZX_d_ObJCbg"
   },
   "source": [
    "## Model\n",
    "\n",
    "Our baseline is a simple `resnet50` pretrained on `imagenet`. We must replace the input and the final layer to address our requirements."
   ]
  },
  {
   "cell_type": "code",
   "execution_count": 19,
   "metadata": {
    "id": "2i3FeP99JCbg"
   },
   "outputs": [],
   "source": [
    "def build_model(cfg: Dict) -> torch.nn.Module:\n",
    "    # load pre-trained Conv2D model\n",
    "    model = resnet50(pretrained=True)\n",
    "\n",
    "    # change input channels number to match the rasterizer's output\n",
    "    num_history_channels = (cfg[\"model_params\"][\"history_num_frames\"] + 1) * 2\n",
    "    num_in_channels = 3 + num_history_channels\n",
    "    model.conv1 = nn.Conv2d(\n",
    "        num_in_channels,\n",
    "        model.conv1.out_channels,\n",
    "        kernel_size=model.conv1.kernel_size,\n",
    "        stride=model.conv1.stride,\n",
    "        padding=model.conv1.padding,\n",
    "        bias=False,\n",
    "    )\n",
    "    # change output size to (X, Y) * number of future states\n",
    "    num_targets = 2 * cfg[\"model_params\"][\"future_num_frames\"]\n",
    "    model.fc = nn.Linear(in_features=2048, out_features=num_targets)\n",
    "\n",
    "    return model"
   ]
  },
  {
   "cell_type": "code",
   "execution_count": 20,
   "metadata": {
    "id": "L-MMuG4LJCbh"
   },
   "outputs": [],
   "source": [
    "def forward(data, model, criterion):\n",
    "    inputs = data[\"image\"]\n",
    "    target_availabilities = data[\"target_availabilities\"].unsqueeze(-1)\n",
    "    targets = data[\"target_positions\"]\n",
    "    # Forward pass\n",
    "    outputs = model(inputs).reshape(targets.shape)\n",
    "    loss = criterion(outputs, targets)\n",
    "    # not all the output steps are valid, but we can filter them out from the loss using availabilities\n",
    "    loss = loss * target_availabilities\n",
    "    loss = loss.mean()\n",
    "    return loss, outputs"
   ]
  },
  {
   "cell_type": "code",
   "execution_count": 21,
   "metadata": {
    "id": "I8zTOjoAz3mW"
   },
   "outputs": [],
   "source": [
    "def train_prediction_model_epoch(data, model, criterion, optimizer):\n",
    "    loss, outputs = forward(data, model, criterion)\n",
    "    # Backward pass\n",
    "    optimizer.zero_grad()\n",
    "    loss.backward()\n",
    "    optimizer.step()\n",
    "    return loss, outputs"
   ]
  },
  {
   "cell_type": "markdown",
   "metadata": {
    "id": "oz8fUbbTJCbh"
   },
   "source": [
    "## Load the Train Data\n",
    "\n",
    "Our data pipeline map a raw `.zarr` folder into a multi-processing instance ready for training by:\n",
    "- loading the `zarr` into a `ChunkedDataset` object. This object has a reference to the different arrays into the zarr (e.g. agents and traffic lights);\n",
    "- wrapping the `ChunkedDataset` into an `AgentDataset`, which inherits from torch `Dataset` class;\n",
    "- passing the `AgentDataset` into a torch `DataLoader`"
   ]
  },
  {
   "cell_type": "code",
   "execution_count": 22,
   "metadata": {
    "id": "sQGV6T8F1q8h"
   },
   "outputs": [],
   "source": [
    "import ray.train as train\n",
    "from ray.air import session"
   ]
  },
  {
   "cell_type": "code",
   "execution_count": 23,
   "metadata": {
    "id": "8gRu7-HmxCrE"
   },
   "outputs": [],
   "source": [
    "def train_prediction_model(cfg : Dict):\n",
    "    # ==== INIT DATASET\n",
    "    dm = LocalDataManager()\n",
    "    train_cfg = cfg[\"train_data_loader\"]\n",
    "    rasterizer = build_rasterizer(cfg, dm)\n",
    "\n",
    "    train_zarr = ChunkedDataset(dm.require(train_cfg[\"key\"])).open()\n",
    "    train_dataset = AgentDataset(cfg, train_zarr, rasterizer)\n",
    "\n",
    "    shuffle = train_cfg[\"shuffle\"]\n",
    "    batch_size = train_cfg[\"batch_size\"]\n",
    "    num_workers = train_cfg[\"num_workers\"]\n",
    "    batch_size_per_worker = batch_size // session.get_world_size()\n",
    "    train_dataloader = DataLoader(train_dataset, shuffle=shuffle, batch_size=batch_size_per_worker, num_workers=num_workers)\n",
    "    train_dataloader = train.torch.prepare_data_loader(train_dataloader)\n",
    "    \n",
    "    # ==== INIT MODEL\n",
    "    # device = torch.device(\"cuda:0\" if torch.cuda.is_available() else \"cpu\")\n",
    "    model = build_model(cfg)\n",
    "    model = train.torch.prepare_model(model)\n",
    "    optimizer = optim.Adam(model.parameters(), lr=1e-3)\n",
    "    criterion = nn.MSELoss(reduction=\"none\")\n",
    "\n",
    "    # ==== TRAIN LOOP\n",
    "    tr_it = iter(train_dataloader)\n",
    "    progress_bar = tqdm(range(cfg[\"train_params\"][\"max_num_steps\"]))\n",
    "    losses_train = []\n",
    "    for _ in progress_bar:\n",
    "        try:\n",
    "            data = next(tr_it)\n",
    "        except StopIteration:\n",
    "            tr_it = iter(train_dataloader)\n",
    "            data = next(tr_it)\n",
    "        model.train()\n",
    "        torch.set_grad_enabled(True)\n",
    "        loss, _ = train_prediction_model_epoch(data, model, criterion, optimizer)\n",
    "        losses_train.append(loss.item())\n",
    "        progress_bar.set_description(f\"loss: {loss.item()} loss(avg): {np.mean(losses_train)}\")\n",
    "    return losses_train"
   ]
  },
  {
   "cell_type": "markdown",
   "metadata": {
    "id": "-EDp7WnqJCbh"
   },
   "source": [
    "# Training\n",
    "\n",
    "note: if you're on MacOS and using `py_satellite` rasterizer, you may need to disable opencv multiprocessing by adding:\n",
    "`cv2.setNumThreads(0)` before the following cell. This seems to only affect running in python notebook and it's caused by the `cv2.warpaffine` function"
   ]
  },
  {
   "cell_type": "code",
   "execution_count": 24,
   "metadata": {
    "id": "L2ic0NRa0X2q"
   },
   "outputs": [],
   "source": [
    "from ray.train.torch import TorchTrainer\n",
    "from ray.air.config import RunConfig, ScalingConfig\n",
    "from ray.air.callbacks.wandb import WandbLoggerCallback"
   ]
  },
  {
   "cell_type": "code",
   "execution_count": 25,
   "metadata": {
    "colab": {
     "base_uri": "https://localhost:8080/"
    },
    "executionInfo": {
     "elapsed": 6465,
     "status": "ok",
     "timestamp": 1660707090583,
     "user": {
      "displayName": "Anish Shah",
      "userId": "05913492621931233323"
     },
     "user_tz": 240
    },
    "id": "MqgEP_OE0cIa",
    "outputId": "941a3d0a-e9a6-4f8a-dd89-5c5414e63555"
   },
   "outputs": [
    {
     "name": "stderr",
     "output_type": "stream",
     "text": [
      "2022-08-18 21:03:44,854\tINFO worker.py:1487 -- Started a local Ray instance. View the dashboard at \u001b[1m\u001b[32mhttp://127.0.0.1:8265\u001b[39m\u001b[22m.\n"
     ]
    }
   ],
   "source": [
    "trainer = TorchTrainer(\n",
    "    train_loop_per_worker=train_prediction_model,\n",
    "    train_loop_config=cfg,\n",
    "    scaling_config=ScalingConfig(num_workers=3, use_gpu=False), #TODO: Add logic to check if GPU is available here\n",
    "    run_config=RunConfig(\n",
    "            callbacks=[\n",
    "                # This is the part needed to enable logging to Weights & Biases.\n",
    "                # It assumes you've logged in before, e.g. with `wandb login`.\n",
    "                WandbLoggerCallback(\n",
    "                    project=project_name,\n",
    "                    save_checkpoints=False,\n",
    "                )\n",
    "            ]\n",
    "        )\n",
    ")"
   ]
  },
  {
   "cell_type": "code",
   "execution_count": 26,
   "metadata": {
    "colab": {
     "base_uri": "https://localhost:8080/",
     "height": 1000
    },
    "executionInfo": {
     "elapsed": 158825,
     "status": "ok",
     "timestamp": 1660707249406,
     "user": {
      "displayName": "Anish Shah",
      "userId": "05913492621931233323"
     },
     "user_tz": 240
    },
    "id": "kOE9cNax197M",
    "outputId": "ff23d83a-4e9f-4876-f1cd-54f752b4563d"
   },
   "outputs": [
    {
     "name": "stderr",
     "output_type": "stream",
     "text": [
      "/opt/conda/lib/python3.7/site-packages/ray/train/base_trainer.py:342: UserWarning: Executing `.fit()` may leave less than 20% of CPUs in this cluster for Dataset execution, which can lead to resource contention or hangs. To avoid this, reserve at least 20% of node CPUs for Dataset execution by setting `_max_cpu_fraction_per_node = 0.8` in the Trainer scaling_config. See https://docs.ray.io/en/master/data/dataset-internals.html#datasets-and-tune for more info.\n",
      "  tuner = Tuner(trainable=trainable, run_config=self.run_config)\n",
      "2022-08-18 21:03:46,086\tINFO wandb.py:119 -- Already logged into W&B.\n"
     ]
    },
    {
     "data": {
      "text/html": [
       "== Status ==<br>Current time: 2022-08-18 21:04:39 (running for 00:00:53.74)<br>Memory usage on this node: 2.1/14.7 GiB<br>Using FIFO scheduling algorithm.<br>Resources requested: 0/4 CPUs, 0/0 GPUs, 0.0/8.02 GiB heap, 0.0/4.01 GiB objects<br>Result logdir: /home/jupyter/ray_results/TorchTrainer_2022-08-18_21-03-46<br>Number of trials: 1/1 (1 TERMINATED)<br><table>\n",
       "<thead>\n",
       "<tr><th>Trial name              </th><th>status    </th><th>loc             </th></tr>\n",
       "</thead>\n",
       "<tbody>\n",
       "<tr><td>TorchTrainer_3fb31_00000</td><td>TERMINATED</td><td>10.150.0.3:12572</td></tr>\n",
       "</tbody>\n",
       "</table><br><br>"
      ],
      "text/plain": [
       "<IPython.core.display.HTML object>"
      ]
     },
     "metadata": {},
     "output_type": "display_data"
    },
    {
     "name": "stderr",
     "output_type": "stream",
     "text": [
      "\u001b[2m\u001b[36m(RayTrainWorker pid=12613)\u001b[0m 2022-08-18 21:03:54,211\tINFO config.py:72 -- Setting up process group for: env:// [rank=0, world_size=3]\n",
      "\u001b[2m\u001b[36m(RayTrainWorker pid=12613)\u001b[0m /opt/conda/lib/python3.7/site-packages/torch/utils/data/dataloader.py:566: UserWarning: This DataLoader will create 16 worker processes in total. Our suggested max number of worker in current system is 4, which is smaller than what this DataLoader is going to create. Please be aware that excessive worker creation might get DataLoader running slow or even freeze, lower the worker number to avoid potential slowness/freeze if necessary.\n",
      "\u001b[2m\u001b[36m(RayTrainWorker pid=12613)\u001b[0m   cpuset_checked))\n",
      "\u001b[2m\u001b[36m(RayTrainWorker pid=12613)\u001b[0m /opt/conda/lib/python3.7/site-packages/torchvision/models/_utils.py:209: UserWarning: The parameter 'pretrained' is deprecated since 0.13 and will be removed in 0.15, please use 'weights' instead.\n",
      "\u001b[2m\u001b[36m(RayTrainWorker pid=12613)\u001b[0m   f\"The parameter '{pretrained_param}' is deprecated since 0.13 and will be removed in 0.15, \"\n",
      "\u001b[2m\u001b[36m(RayTrainWorker pid=12613)\u001b[0m /opt/conda/lib/python3.7/site-packages/torchvision/models/_utils.py:223: UserWarning: Arguments other than a weight enum or `None` for 'weights' are deprecated since 0.13 and will be removed in 0.15. The current behavior is equivalent to passing `weights=ResNet50_Weights.IMAGENET1K_V1`. You can also use `weights=ResNet50_Weights.DEFAULT` to get the most up-to-date weights.\n",
      "\u001b[2m\u001b[36m(RayTrainWorker pid=12613)\u001b[0m   warnings.warn(msg)\n",
      "\u001b[2m\u001b[36m(RayTrainWorker pid=12614)\u001b[0m /opt/conda/lib/python3.7/site-packages/torch/utils/data/dataloader.py:566: UserWarning: This DataLoader will create 16 worker processes in total. Our suggested max number of worker in current system is 4, which is smaller than what this DataLoader is going to create. Please be aware that excessive worker creation might get DataLoader running slow or even freeze, lower the worker number to avoid potential slowness/freeze if necessary.\n",
      "\u001b[2m\u001b[36m(RayTrainWorker pid=12614)\u001b[0m   cpuset_checked))\n",
      "\u001b[2m\u001b[36m(RayTrainWorker pid=12614)\u001b[0m /opt/conda/lib/python3.7/site-packages/torchvision/models/_utils.py:209: UserWarning: The parameter 'pretrained' is deprecated since 0.13 and will be removed in 0.15, please use 'weights' instead.\n",
      "\u001b[2m\u001b[36m(RayTrainWorker pid=12614)\u001b[0m   f\"The parameter '{pretrained_param}' is deprecated since 0.13 and will be removed in 0.15, \"\n",
      "\u001b[2m\u001b[36m(RayTrainWorker pid=12614)\u001b[0m /opt/conda/lib/python3.7/site-packages/torchvision/models/_utils.py:223: UserWarning: Arguments other than a weight enum or `None` for 'weights' are deprecated since 0.13 and will be removed in 0.15. The current behavior is equivalent to passing `weights=ResNet50_Weights.IMAGENET1K_V1`. You can also use `weights=ResNet50_Weights.DEFAULT` to get the most up-to-date weights.\n",
      "\u001b[2m\u001b[36m(RayTrainWorker pid=12614)\u001b[0m   warnings.warn(msg)\n",
      "\u001b[2m\u001b[36m(RayTrainWorker pid=12615)\u001b[0m /opt/conda/lib/python3.7/site-packages/torch/utils/data/dataloader.py:566: UserWarning: This DataLoader will create 16 worker processes in total. Our suggested max number of worker in current system is 4, which is smaller than what this DataLoader is going to create. Please be aware that excessive worker creation might get DataLoader running slow or even freeze, lower the worker number to avoid potential slowness/freeze if necessary.\n",
      "\u001b[2m\u001b[36m(RayTrainWorker pid=12615)\u001b[0m   cpuset_checked))\n",
      "\u001b[2m\u001b[36m(RayTrainWorker pid=12615)\u001b[0m /opt/conda/lib/python3.7/site-packages/torchvision/models/_utils.py:209: UserWarning: The parameter 'pretrained' is deprecated since 0.13 and will be removed in 0.15, please use 'weights' instead.\n",
      "\u001b[2m\u001b[36m(RayTrainWorker pid=12615)\u001b[0m   f\"The parameter '{pretrained_param}' is deprecated since 0.13 and will be removed in 0.15, \"\n",
      "\u001b[2m\u001b[36m(RayTrainWorker pid=12615)\u001b[0m /opt/conda/lib/python3.7/site-packages/torchvision/models/_utils.py:223: UserWarning: Arguments other than a weight enum or `None` for 'weights' are deprecated since 0.13 and will be removed in 0.15. The current behavior is equivalent to passing `weights=ResNet50_Weights.IMAGENET1K_V1`. You can also use `weights=ResNet50_Weights.DEFAULT` to get the most up-to-date weights.\n",
      "\u001b[2m\u001b[36m(RayTrainWorker pid=12615)\u001b[0m   warnings.warn(msg)\n",
      "\u001b[2m\u001b[36m(RayTrainWorker pid=12613)\u001b[0m Downloading: \"https://download.pytorch.org/models/resnet50-0676ba61.pth\" to /home/jupyter/.cache/torch/hub/checkpoints/resnet50-0676ba61.pth\n",
      "  0%|          | 0.00/97.8M [00:00<?, ?B/s]\n",
      "  4%|▍         | 4.18M/97.8M [00:00<00:02, 43.8MB/s]\n",
      " 14%|█▍        | 13.7M/97.8M [00:00<00:01, 76.7MB/s]\n",
      " 29%|██▊       | 28.0M/97.8M [00:00<00:00, 110MB/s] \n",
      "\u001b[2m\u001b[36m(RayTrainWorker pid=12614)\u001b[0m Downloading: \"https://download.pytorch.org/models/resnet50-0676ba61.pth\" to /home/jupyter/.cache/torch/hub/checkpoints/resnet50-0676ba61.pth\n",
      "  0%|          | 0.00/97.8M [00:00<?, ?B/s]\n",
      "\u001b[2m\u001b[36m(RayTrainWorker pid=12615)\u001b[0m Downloading: \"https://download.pytorch.org/models/resnet50-0676ba61.pth\" to /home/jupyter/.cache/torch/hub/checkpoints/resnet50-0676ba61.pth\n",
      "  0%|          | 0.00/97.8M [00:00<?, ?B/s]\n",
      " 42%|████▏     | 41.3M/97.8M [00:00<00:00, 122MB/s]\n",
      "  9%|▉         | 8.99M/97.8M [00:00<00:00, 94.2MB/s]\n",
      "  8%|▊         | 7.92M/97.8M [00:00<00:01, 83.1MB/s]\n",
      " 55%|█████▍    | 53.4M/97.8M [00:00<00:00, 123MB/s]\n",
      " 20%|█▉        | 19.4M/97.8M [00:00<00:00, 103MB/s] \n",
      " 18%|█▊        | 17.2M/97.8M [00:00<00:00, 91.5MB/s]\n",
      " 70%|██████▉   | 68.0M/97.8M [00:00<00:00, 134MB/s]\n",
      " 30%|███       | 29.6M/97.8M [00:00<00:00, 105MB/s]\n",
      " 27%|██▋       | 26.0M/97.8M [00:00<00:00, 84.0MB/s]\n",
      " 83%|████████▎ | 80.7M/97.8M [00:00<00:00, 120MB/s]\n",
      " 42%|████▏     | 40.7M/97.8M [00:00<00:00, 109MB/s]\n",
      " 36%|███▌      | 34.8M/97.8M [00:00<00:00, 87.0MB/s]\n",
      " 54%|█████▍    | 52.7M/97.8M [00:00<00:00, 115MB/s]\n",
      "100%|██████████| 97.8M/97.8M [00:00<00:00, 117MB/s]\n",
      " 45%|████▍     | 43.8M/97.8M [00:00<00:00, 89.9MB/s]\n",
      " 65%|██████▌   | 63.7M/97.8M [00:00<00:00, 106MB/s]\n",
      " 54%|█████▍    | 52.7M/97.8M [00:00<00:00, 90.9MB/s]\n",
      " 77%|███████▋  | 74.9M/97.8M [00:00<00:00, 110MB/s]\n",
      " 66%|██████▌   | 64.5M/97.8M [00:00<00:00, 101MB/s] \n",
      "\u001b[2m\u001b[36m(RayTrainWorker pid=12613)\u001b[0m 2022-08-18 21:04:03,141\tINFO train_loop_utils.py:300 -- Moving model to device: cpu\n",
      "\u001b[2m\u001b[36m(RayTrainWorker pid=12613)\u001b[0m 2022-08-18 21:04:03,160\tINFO train_loop_utils.py:347 -- Wrapping provided model in DDP.\n",
      "100%|██████████| 97.8M/97.8M [00:00<00:00, 111MB/s]\n",
      " 76%|███████▌  | 74.1M/97.8M [00:00<00:00, 99.8MB/s]\n",
      "100%|██████████| 97.8M/97.8M [00:00<00:00, 108MB/s] \n",
      "  0%|          | 0/5 [00:00<?, ?it/s]0m \n",
      "  0%|          | 0/5 [00:00<?, ?it/s]0m \n",
      "  0%|          | 0/5 [00:00<?, ?it/s]0m \n",
      "loss: 0.09031012654304504 loss(avg): 0.09031012654304504:  20%|██        | 1/5 [00:04<00:18,  4.51s/it]\n",
      "loss: 0.11211658269166946 loss(avg): 0.11211658269166946:  20%|██        | 1/5 [00:11<00:46, 11.59s/it]\n",
      "loss: 211.88250732421875 loss(avg): 211.88250732421875:  20%|██        | 1/5 [00:08<00:34,  8.60s/it]\n",
      "loss: 43.630741119384766 loss(avg): 21.871428851038218:  40%|████      | 2/5 [00:15<00:21,  7.21s/it]  \n",
      "loss: 156.25538635253906 loss(avg): 184.0689468383789:  40%|████      | 2/5 [00:12<00:17,  5.92s/it] \n",
      "loss: 210.6493682861328 loss(avg): 105.36983920633793:  40%|████      | 2/5 [00:08<00:13,  4.37s/it]   \n",
      "loss: 1.6927099227905273 loss(avg): 15.145189208288988:  60%|██████    | 3/5 [00:19<00:11,  5.60s/it]\n",
      "loss: 353.2741394042969 loss(avg): 188.00460593899092:  60%|██████    | 3/5 [00:12<00:08,  4.10s/it]\n",
      "loss: 179.45028686523438 loss(avg): 182.5293935139974:  60%|██████    | 3/5 [00:16<00:09,  4.98s/it]\n",
      "loss: 13.42969036102295 loss(avg): 14.716314496472478:  80%|████████  | 4/5 [00:23<00:04,  4.89s/it] \n",
      "loss: 461.4271545410156 loss(avg): 256.3602430894971:  80%|████████  | 4/5 [00:16<00:03,  3.98s/it] \n",
      "loss: 145.081298828125 loss(avg): 173.1673698425293:  80%|████████  | 4/5 [00:20<00:04,  4.51s/it]  \n",
      "loss: 3.8137295246124268 loss(avg): 139.2966417789459: 100%|██████████| 5/5 [00:23<00:00,  4.79s/it]\n",
      "loss: 6.767955303192139 loss(avg): 13.12664265781641: 100%|██████████| 5/5 [00:27<00:00,  5.41s/it] \n",
      "loss: 5.375631332397461 loss(avg): 206.16332073807718: 100%|██████████| 5/5 [00:20<00:00,  4.03s/it]\n",
      "2022-08-18 21:04:37,054\tERROR checkpoint_manager.py:321 -- Result dict has no key: training_iteration. checkpoint_score_attr must be set to a key in the result dict. Valid keys are: ['trial_id', 'experiment_id', 'date', 'timestamp', 'pid', 'hostname', 'node_ip', 'config', 'done']\n"
     ]
    },
    {
     "name": "stdout",
     "output_type": "stream",
     "text": [
      "Trial TorchTrainer_3fb31_00000 completed. Last result: \n"
     ]
    },
    {
     "name": "stderr",
     "output_type": "stream",
     "text": [
      "2022-08-18 21:04:39,942\tINFO tune.py:759 -- Total run time: 53.91 seconds (53.74 seconds for the tuning loop).\n"
     ]
    },
    {
     "name": "stdout",
     "output_type": "stream",
     "text": [
      "Last result: {'trial_id': '3fb31_00000', 'experiment_id': 'df656ae4423544bbb781594f81b3134f', 'date': '2022-08-18_21-03-50', 'timestamp': 1660856630, 'pid': 12572, 'hostname': 'anish-l5-kit', 'node_ip': '10.150.0.3', 'config': {}, 'done': True}\n"
     ]
    }
   ],
   "source": [
    "result = trainer.fit()\n",
    "print(f\"Last result: {result.metrics}\")"
   ]
  },
  {
   "cell_type": "code",
   "execution_count": 27,
   "metadata": {
    "colab": {
     "base_uri": "https://localhost:8080/"
    },
    "executionInfo": {
     "elapsed": 189,
     "status": "ok",
     "timestamp": 1660707330451,
     "user": {
      "displayName": "Anish Shah",
      "userId": "05913492621931233323"
     },
     "user_tz": 240
    },
    "id": "MUqVgiNo3sML",
    "outputId": "1309c542-9aac-455e-e4e1-0b2a2d88061f"
   },
   "outputs": [
    {
     "data": {
      "text/plain": [
       "Result(metrics={'trial_id': '3fb31_00000', 'done': True}, error=None, log_dir=PosixPath('/home/jupyter/ray_results/TorchTrainer_2022-08-18_21-03-46/TorchTrainer_3fb31_00000_0_2022-08-18_21-03-46'))"
      ]
     },
     "execution_count": 27,
     "metadata": {},
     "output_type": "execute_result"
    }
   ],
   "source": [
    "result"
   ]
  },
  {
   "cell_type": "code",
   "execution_count": 28,
   "metadata": {},
   "outputs": [
    {
     "data": {
      "text/html": [
       "Waiting for W&B process to finish... <strong style=\"color:green\">(success).</strong>"
      ],
      "text/plain": [
       "<IPython.core.display.HTML object>"
      ]
     },
     "metadata": {},
     "output_type": "display_data"
    },
    {
     "data": {
      "application/vnd.jupyter.widget-view+json": {
       "model_id": "",
       "version_major": 2,
       "version_minor": 0
      },
      "text/plain": [
       "VBox(children=(Label(value='0.213 MB of 0.213 MB uploaded (0.000 MB deduped)\\r'), FloatProgress(value=1.0, max…"
      ]
     },
     "metadata": {},
     "output_type": "display_data"
    },
    {
     "data": {
      "text/html": [
       "Synced <strong style=\"color:#cdcd00\">train-prediction-model</strong>: <a href=\"https://wandb.ai/l5-demo/l5-prediction/runs/11smnatl\" target=\"_blank\">https://wandb.ai/l5-demo/l5-prediction/runs/11smnatl</a><br/>Synced 7 W&B file(s), 0 media file(s), 0 artifact file(s) and 1 other file(s)"
      ],
      "text/plain": [
       "<IPython.core.display.HTML object>"
      ]
     },
     "metadata": {},
     "output_type": "display_data"
    },
    {
     "data": {
      "text/html": [
       "Find logs at: <code>/home/jupyter/l5kit-ray-wandb-demo/Experiments/prediction/wandb/run-20220818_210335-11smnatl/logs</code>"
      ],
      "text/plain": [
       "<IPython.core.display.HTML object>"
      ]
     },
     "metadata": {},
     "output_type": "display_data"
    }
   ],
   "source": [
    "run.finish()"
   ]
  },
  {
   "cell_type": "markdown",
   "metadata": {
    "id": "sh_cz7ioJCbi"
   },
   "source": [
    "### Plot Loss Curve\n",
    "We can plot the train loss against the iterations (batch-wise)"
   ]
  },
  {
   "cell_type": "code",
   "execution_count": null,
   "metadata": {
    "id": "KI84bgwiJCbi"
   },
   "outputs": [],
   "source": [
    "# plt.plot(np.arange(len(losses_train)), losses_train, label=\"train loss\")\n",
    "# plt.legend()\n",
    "# plt.show()"
   ]
  },
  {
   "cell_type": "markdown",
   "metadata": {
    "id": "maau9CVBJCbi"
   },
   "source": [
    "# Evaluation\n",
    "\n",
    "Evaluation follows a slightly different protocol than training. When working with time series, we must be absolutely sure to avoid leaking the future in the data.\n",
    "\n",
    "If we followed the same protocol of training, one could just read ahead in the `.zarr` and forge a perfect solution at run-time, even for a private test set.\n",
    "\n",
    "As such, **the private test set for the competition has been \"chopped\" using the `chop_dataset` function**."
   ]
  },
  {
   "cell_type": "code",
   "execution_count": null,
   "metadata": {
    "id": "fF8BxQLQJCbi"
   },
   "outputs": [],
   "source": [
    "# # ===== GENERATE AND LOAD CHOPPED DATASET\n",
    "# num_frames_to_chop = 100\n",
    "# eval_cfg = cfg[\"val_data_loader\"]\n",
    "# eval_base_path = create_chopped_dataset(dm.require(eval_cfg[\"key\"]), cfg[\"raster_params\"][\"filter_agents_threshold\"], \n",
    "#                               num_frames_to_chop, cfg[\"model_params\"][\"future_num_frames\"], MIN_FUTURE_STEPS)"
   ]
  },
  {
   "cell_type": "markdown",
   "metadata": {
    "id": "07W1O8eZJCbi"
   },
   "source": [
    "The result is that **each scene has been reduced to only 100 frames**, and **only valid agents in the 100th frame will be used to compute the metrics**. Because following frames in the scene have been chopped off, we can't just look ahead to get the future of those agents.\n",
    "\n",
    "In this example, we simulate this pipeline by running `chop_dataset` on the validation set. The function stores:\n",
    "- a new chopped `.zarr` dataset, in which each scene has only the first 100 frames;\n",
    "- a numpy mask array where only valid agents in the 100th frame are True;\n",
    "- a ground-truth file with the future coordinates of those agents;\n",
    "\n",
    "Please note how the total number of frames is now equal to the number of scenes multipled by `num_frames_to_chop`. \n",
    "\n",
    "The remaining frames in the scene have been sucessfully chopped off from the data"
   ]
  },
  {
   "cell_type": "code",
   "execution_count": null,
   "metadata": {
    "id": "cU1qt5GVJCbj"
   },
   "outputs": [],
   "source": [
    "# eval_zarr_path = str(Path(eval_base_path) / Path(dm.require(eval_cfg[\"key\"])).name)\n",
    "# eval_mask_path = str(Path(eval_base_path) / \"mask.npz\")\n",
    "# eval_gt_path = str(Path(eval_base_path) / \"gt.csv\")\n",
    "\n",
    "# eval_zarr = ChunkedDataset(eval_zarr_path).open()\n",
    "# eval_mask = np.load(eval_mask_path)[\"arr_0\"]\n",
    "# # ===== INIT DATASET AND LOAD MASK\n",
    "# eval_dataset = AgentDataset(cfg, eval_zarr, rasterizer, agents_mask=eval_mask)\n",
    "# eval_dataloader = DataLoader(eval_dataset, shuffle=eval_cfg[\"shuffle\"], batch_size=eval_cfg[\"batch_size\"], \n",
    "#                              num_workers=eval_cfg[\"num_workers\"])\n",
    "# print(eval_dataset)"
   ]
  },
  {
   "cell_type": "markdown",
   "metadata": {
    "id": "509YuZenJCbj"
   },
   "source": [
    "### Storing Predictions\n",
    "There is a small catch to be aware of when saving the model predictions. The output of the models are coordinates in `agent` space and we need to convert them into displacements in `world` space.\n",
    "\n",
    "To do so, we first convert them back into the `world` space and we then subtract the centroid coordinates."
   ]
  },
  {
   "cell_type": "code",
   "execution_count": null,
   "metadata": {
    "id": "HmBNKwZPJCbj"
   },
   "outputs": [],
   "source": [
    "# # ==== EVAL LOOP\n",
    "# model.eval()\n",
    "# torch.set_grad_enabled(False)\n",
    "\n",
    "# # store information for evaluation\n",
    "# future_coords_offsets_pd = []\n",
    "# timestamps = []\n",
    "# agent_ids = []\n",
    "\n",
    "# progress_bar = tqdm(eval_dataloader)\n",
    "# for data in progress_bar:\n",
    "#     _, ouputs = forward(data, model, device, criterion)\n",
    "    \n",
    "#     # convert agent coordinates into world offsets\n",
    "#     agents_coords = ouputs.cpu().numpy()\n",
    "#     world_from_agents = data[\"world_from_agent\"].numpy()\n",
    "#     centroids = data[\"centroid\"].numpy()\n",
    "#     coords_offset = transform_points(agents_coords, world_from_agents) - centroids[:, None, :2]\n",
    "    \n",
    "#     future_coords_offsets_pd.append(np.stack(coords_offset))\n",
    "#     timestamps.append(data[\"timestamp\"].numpy().copy())\n",
    "#     agent_ids.append(data[\"track_id\"].numpy().copy())\n",
    "    "
   ]
  },
  {
   "cell_type": "markdown",
   "metadata": {
    "id": "1cyqL6i1JCbj"
   },
   "source": [
    "### Save results\n",
    "After the model has predicted trajectories for our evaluation set, we can save them in a `csv` file.\n",
    "\n",
    "During the competition, only the `.zarr` and the mask will be provided for the private test set evaluation.\n",
    "Your solution is expected to generate a csv file which will be compared to the ground truth one on a separate server"
   ]
  },
  {
   "cell_type": "code",
   "execution_count": null,
   "metadata": {
    "id": "_4rJEcZ6JCbj"
   },
   "outputs": [],
   "source": [
    "# pred_path = f\"{gettempdir()}/pred.csv\"\n",
    "\n",
    "# write_pred_csv(pred_path,\n",
    "#                timestamps=np.concatenate(timestamps),\n",
    "#                track_ids=np.concatenate(agent_ids),\n",
    "#                coords=np.concatenate(future_coords_offsets_pd),\n",
    "#               )"
   ]
  },
  {
   "cell_type": "markdown",
   "metadata": {
    "id": "YX-loQElJCbj"
   },
   "source": [
    "### Perform Evaluation\n",
    "Pleae note that our metric supports multi-modal predictions (i.e. multiple predictions for a single GT trajectory). In that case, you will need to provide a confidence for each prediction (confidences must all be between 0 and 1 and sum to 1).\n",
    "\n",
    "In this simple example we don't generate multiple trajectories, so we won't pass any confidences vector. Internally, the metric computation will assume a single trajectory with confidence equal to 1"
   ]
  },
  {
   "cell_type": "code",
   "execution_count": null,
   "metadata": {
    "id": "KbFlildqJCbk"
   },
   "outputs": [],
   "source": [
    "# metrics = compute_metrics_csv(eval_gt_path, pred_path, [neg_multi_log_likelihood, time_displace])\n",
    "# for metric_name, metric_mean in metrics.items():\n",
    "#     print(metric_name, metric_mean)\n"
   ]
  },
  {
   "cell_type": "markdown",
   "metadata": {
    "id": "nEw-PI7tJCbk"
   },
   "source": [
    "### Visualise Results\n",
    "We can also visualise some results from the ego (AV) point of view for those frames of interest (the 100th of each scene).\n",
    "\n",
    "However, as we chopped off the future from the dataset **we must use the GT csv if we want to plot the future trajectories of the agents**\n"
   ]
  },
  {
   "cell_type": "code",
   "execution_count": null,
   "metadata": {
    "id": "BT3MBoyNJCbk"
   },
   "outputs": [],
   "source": [
    "# model.eval()\n",
    "# torch.set_grad_enabled(False)\n",
    "\n",
    "# # build a dict to retrieve future trajectories from GT\n",
    "# gt_rows = {}\n",
    "# for row in read_gt_csv(eval_gt_path):\n",
    "#     gt_rows[row[\"track_id\"] + row[\"timestamp\"]] = row[\"coord\"]\n",
    "\n",
    "# eval_ego_dataset = EgoDataset(cfg, eval_dataset.dataset, rasterizer)\n",
    "\n",
    "# for frame_number in range(99, len(eval_zarr.frames), 100):  # start from last frame of scene_0 and increase by 100\n",
    "#     agent_indices = eval_dataset.get_frame_indices(frame_number) \n",
    "#     if not len(agent_indices):\n",
    "#         continue\n",
    "\n",
    "#     # get AV point-of-view frame\n",
    "#     data_ego = eval_ego_dataset[frame_number]\n",
    "#     im_ego = rasterizer.to_rgb(data_ego[\"image\"].transpose(1, 2, 0))\n",
    "#     center = np.asarray(cfg[\"raster_params\"][\"ego_center\"]) * cfg[\"raster_params\"][\"raster_size\"]\n",
    "    \n",
    "#     predicted_positions = []\n",
    "#     target_positions = []\n",
    "\n",
    "#     for v_index in agent_indices:\n",
    "#         data_agent = eval_dataset[v_index]\n",
    "\n",
    "#         out_net = model(torch.from_numpy(data_agent[\"image\"]).unsqueeze(0).to(device))\n",
    "#         out_pos = out_net[0].reshape(-1, 2).detach().cpu().numpy()\n",
    "#         # store absolute world coordinates\n",
    "#         predicted_positions.append(transform_points(out_pos, data_agent[\"world_from_agent\"]))\n",
    "#         # retrieve target positions from the GT and store as absolute coordinates\n",
    "#         track_id, timestamp = data_agent[\"track_id\"], data_agent[\"timestamp\"]\n",
    "#         target_positions.append(gt_rows[str(track_id) + str(timestamp)] + data_agent[\"centroid\"][:2])\n",
    "\n",
    "\n",
    "#     # convert coordinates to AV point-of-view so we can draw them\n",
    "#     predicted_positions = transform_points(np.concatenate(predicted_positions), data_ego[\"raster_from_world\"])\n",
    "#     target_positions = transform_points(np.concatenate(target_positions), data_ego[\"raster_from_world\"])\n",
    "\n",
    "#     draw_trajectory(im_ego, predicted_positions, PREDICTED_POINTS_COLOR)\n",
    "#     draw_trajectory(im_ego, target_positions, TARGET_POINTS_COLOR)\n",
    "\n",
    "#     plt.imshow(im_ego)\n",
    "#     plt.show()"
   ]
  }
 ],
 "metadata": {
  "accelerator": "GPU",
  "colab": {
   "collapsed_sections": [],
   "name": "Level-5-agent_motion_prediction.ipynb",
   "provenance": [
    {
     "file_id": "https://github.com/lyft/l5kit/blob/master/examples/agent_motion_prediction/agent_motion_prediction.ipynb",
     "timestamp": 1660678336545
    }
   ]
  },
  "environment": {
   "kernel": "python3",
   "name": "common-cu110.m95",
   "type": "gcloud",
   "uri": "gcr.io/deeplearning-platform-release/base-cu110:m95"
  },
  "gpuClass": "standard",
  "kernelspec": {
   "display_name": "Python 3",
   "language": "python",
   "name": "python3"
  },
  "language_info": {
   "codemirror_mode": {
    "name": "ipython",
    "version": 3
   },
   "file_extension": ".py",
   "mimetype": "text/x-python",
   "name": "python",
   "nbconvert_exporter": "python",
   "pygments_lexer": "ipython3",
   "version": "3.7.12"
  },
  "pycharm": {
   "stem_cell": {
    "cell_type": "raw",
    "metadata": {
     "collapsed": false
    },
    "source": []
   }
  }
 },
 "nbformat": 4,
 "nbformat_minor": 4
}
