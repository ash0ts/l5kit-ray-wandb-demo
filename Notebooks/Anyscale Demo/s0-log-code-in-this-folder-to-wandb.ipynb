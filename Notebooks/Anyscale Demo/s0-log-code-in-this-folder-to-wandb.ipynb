{
 "cells": [
  {
   "cell_type": "markdown",
   "id": "1a16f54a-5e5c-4fb4-903f-ceee395b042d",
   "metadata": {},
   "source": [
    "# Setup"
   ]
  },
  {
   "cell_type": "code",
   "execution_count": null,
   "id": "9829e183-da3a-4ff9-9960-f77eccd8d50d",
   "metadata": {},
   "outputs": [],
   "source": [
    "from pathlib import Path\n",
    "import os"
   ]
  },
  {
   "cell_type": "code",
   "execution_count": null,
   "id": "9e381b1b-4f6c-41e2-81aa-4ac708900d90",
   "metadata": {},
   "outputs": [],
   "source": [
    "#NOTE: DONT USE RELATIVE PATHS FOR THE MODELS PROVIDED BY L5\n",
    "code_directory = Path(os.path.abspath(''))\n",
    "experiments_directory = Path(code_directory.parent.parent.parent, \"Experiments\")\n",
    "experiments_directory.mkdir(parents=True, exist_ok=True)\n",
    "\n",
    "data_directory = Path(experiments_directory, \"data\")\n",
    "data_directory.mkdir(parents=True, exist_ok=True)\n",
    "\n",
    "commons_directory = Path(experiments_directory, \"commons\")\n",
    "commons_directory.mkdir(parents=True, exist_ok=True)"
   ]
  },
  {
   "cell_type": "code",
   "execution_count": null,
   "id": "9b2af65e-9c2f-4aea-a925-3423ad8fa2ec",
   "metadata": {},
   "outputs": [],
   "source": [
    "import os\n",
    "os.chdir(commons_directory)"
   ]
  },
  {
   "cell_type": "code",
   "execution_count": null,
   "id": "082468e9-b268-497d-8054-1a695480dcb8",
   "metadata": {},
   "outputs": [],
   "source": [
    "%%writefile requirements.txt\n",
    "wandb"
   ]
  },
  {
   "cell_type": "code",
   "execution_count": null,
   "id": "970b4c5d-1d3b-408c-be91-833619fdd1a0",
   "metadata": {},
   "outputs": [],
   "source": [
    "%%capture\n",
    "# !pip install -r requirements.txt\n",
    "!pip install wandb"
   ]
  },
  {
   "cell_type": "markdown",
   "id": "eab014f9-0604-4d86-a047-6e777e840676",
   "metadata": {},
   "source": [
    "# Promote Model to Registry"
   ]
  },
  {
   "cell_type": "code",
   "execution_count": null,
   "id": "c5403b7c-35fa-4d2b-b846-232844501fcd",
   "metadata": {},
   "outputs": [],
   "source": [
    "import wandb\n",
    "wandb.login()"
   ]
  },
  {
   "cell_type": "code",
   "execution_count": null,
   "id": "84ffebe4-0af2-4699-8ebd-1d6884bc046c",
   "metadata": {},
   "outputs": [],
   "source": [
    "# Run information\n",
    "wandb_entity = \"l5-demo\"\n",
    "project_name = \"l5-common\"\n",
    "run_name = \"upload_code\"\n",
    "run_type = \"code_upload\"\n",
    "run_description = \"\"\"\n",
    "This run will log all the ipython notebooks in the current folder to be utilized for the org/bookkeeping\n",
    "\"\"\"\n",
    "tags = [\"upload\", \"code\"]"
   ]
  },
  {
   "cell_type": "code",
   "execution_count": null,
   "id": "db02ecff-0162-4c7b-ac45-465327d6d0d7",
   "metadata": {},
   "outputs": [],
   "source": [
    "#🪄🐝\n",
    "run = wandb.init(entity=wandb_entity,\n",
    "                 project=project_name,\n",
    "                 job_type=run_type,\n",
    "                 name=run_name,\n",
    "                 tags=tags,\n",
    "                 notes=run_description)"
   ]
  },
  {
   "cell_type": "code",
   "execution_count": null,
   "id": "84afd93c-2428-4d91-83d9-2d8335151f51",
   "metadata": {},
   "outputs": [],
   "source": [
    "#🪄🐝\n",
    "run.log_code(\n",
    "   str(code_directory), include_fn=lambda path: path.endswith(\".py\") or path.endswith(\".ipynb\")\n",
    ")"
   ]
  },
  {
   "cell_type": "code",
   "execution_count": null,
   "id": "05272e87-2066-4678-9c50-92c3a8484dda",
   "metadata": {},
   "outputs": [],
   "source": [
    "run.finish()"
   ]
  }
 ],
 "metadata": {
  "environment": {
   "kernel": "python3",
   "name": "common-cu110.m95",
   "type": "gcloud",
   "uri": "gcr.io/deeplearning-platform-release/base-cu110:m95"
  },
  "kernelspec": {
   "display_name": "Python 3",
   "language": "python",
   "name": "python3"
  },
  "language_info": {
   "codemirror_mode": {
    "name": "ipython",
    "version": 3
   },
   "file_extension": ".py",
   "mimetype": "text/x-python",
   "name": "python",
   "nbconvert_exporter": "python",
   "pygments_lexer": "ipython3",
   "version": "3.7.12"
  }
 },
 "nbformat": 4,
 "nbformat_minor": 5
}
