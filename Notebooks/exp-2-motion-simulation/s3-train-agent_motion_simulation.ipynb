{
 "cells": [
  {
   "cell_type": "markdown",
   "id": "4a7e9c28-a760-4fef-8979-8e55ade0bacc",
   "metadata": {},
   "source": [
    "https://github.com/woven-planet/l5kit/blob/master/examples/simulation/train.ipynb"
   ]
  },
  {
   "cell_type": "markdown",
   "id": "2384ab5a-8af2-42ad-8123-dba750073746",
   "metadata": {
    "id": "2aXGGrVOJCbd"
   },
   "source": [
    "## Prepare Data path and load cfg\n",
    "\n",
    "By setting the `L5KIT_DATA_FOLDER` variable, we can point the script to the folder where the data lies.\n",
    "\n",
    "Then, we load our config file with relative paths and other configurations (rasteriser, training params...)."
   ]
  },
  {
   "cell_type": "markdown",
   "id": "9e174a8c-d551-44e9-909e-e985025d0145",
   "metadata": {
    "tags": []
   },
   "source": [
    "### Setup"
   ]
  },
  {
   "cell_type": "code",
   "execution_count": 1,
   "id": "904774e2-e363-49f0-91dc-a4137a472a51",
   "metadata": {},
   "outputs": [],
   "source": [
    "from pathlib import Path\n",
    "import os"
   ]
  },
  {
   "cell_type": "code",
   "execution_count": 2,
   "id": "1fb86d52-d44d-4572-9fc8-44f0ff42959d",
   "metadata": {},
   "outputs": [],
   "source": [
    "#NOTE: DONT USE RELATIVE PATHS FOR THE MODELS PROVIDED BY L5\n",
    "experiments_directory = Path(Path(os.path.abspath('')).parent.parent, \"Experiments\")\n",
    "experiments_directory.mkdir(parents=True, exist_ok=True)\n",
    "\n",
    "data_directory = Path(experiments_directory, \"data\")\n",
    "data_directory.mkdir(parents=True, exist_ok=True)\n",
    "\n",
    "prediction_directory = Path(experiments_directory, \"simulation\")\n",
    "prediction_directory.mkdir(parents=True, exist_ok=True)\n",
    "\n",
    "prediction_training_directory = Path(prediction_directory, \"training\")\n",
    "prediction_training_directory.mkdir(parents=True, exist_ok=True)\n",
    "\n",
    "save_directory = Path(prediction_training_directory, \"saved_outputs\")\n",
    "save_directory.mkdir(parents=True, exist_ok=True)"
   ]
  },
  {
   "cell_type": "code",
   "execution_count": 3,
   "id": "bc171cc6-a7ac-40d5-98bd-1cf0b1f7328b",
   "metadata": {},
   "outputs": [],
   "source": [
    "import os\n",
    "os.chdir(prediction_training_directory)"
   ]
  },
  {
   "cell_type": "code",
   "execution_count": 4,
   "id": "4a9c45fe-50bc-43a6-8f97-0b68df3387cb",
   "metadata": {},
   "outputs": [
    {
     "name": "stdout",
     "output_type": "stream",
     "text": [
      "Overwriting requirements.txt\n"
     ]
    }
   ],
   "source": [
    "%%writefile requirements.txt\n",
    "l5kit\n",
    "pyyaml\n",
    "ray==2.0.0rc1\n",
    "ray[air]\n",
    "wandb\n",
    "optuna"
   ]
  },
  {
   "cell_type": "code",
   "execution_count": 5,
   "id": "70971773-efbc-4ce0-9094-debfc698ec76",
   "metadata": {},
   "outputs": [],
   "source": [
    "%%capture\n",
    "# !pip install -r requirements.txt\n",
    "!pip install l5kit pyyaml\n",
    "!pip install wandb --upgrade\n",
    "!pip install ray==2.0.0rc1\n",
    "!pip install \"ray[air]\"\n",
    "!pip install optuna"
   ]
  },
  {
   "cell_type": "code",
   "execution_count": 6,
   "id": "309ddb76-343a-43d7-8f4e-7199f6599bd9",
   "metadata": {
    "id": "OKx_V_wnJCbb"
   },
   "outputs": [],
   "source": [
    "from typing import Dict\n",
    "\n",
    "from tempfile import gettempdir\n",
    "import matplotlib.pyplot as plt\n",
    "import numpy as np\n",
    "import torch\n",
    "from torch import nn, optim\n",
    "from torch.utils.data import DataLoader\n",
    "from torchvision.models.resnet import resnet50\n",
    "from tqdm import tqdm\n",
    "\n",
    "from l5kit.configs import load_config_data\n",
    "from l5kit.data import LocalDataManager, ChunkedDataset\n",
    "from l5kit.dataset import AgentDataset, EgoDataset\n",
    "from l5kit.rasterization import build_rasterizer\n",
    "from l5kit.evaluation import write_pred_csv, compute_metrics_csv, read_gt_csv, create_chopped_dataset\n",
    "from l5kit.evaluation.chop_dataset import MIN_FUTURE_STEPS\n",
    "from l5kit.evaluation.metrics import neg_multi_log_likelihood, time_displace, rmse, prob_true_mode, average_displacement_error_oracle, average_displacement_error_mean, final_displacement_error_oracle, final_displacement_error_mean, detect_collision, distance_to_reference_trajectory\n",
    "from l5kit.geometry import transform_points\n",
    "from l5kit.visualization import PREDICTED_POINTS_COLOR, TARGET_POINTS_COLOR, draw_trajectory\n",
    "from prettytable import PrettyTable\n",
    "from pathlib import Path\n",
    "\n",
    "import os"
   ]
  },
  {
   "cell_type": "code",
   "execution_count": 7,
   "id": "356493ba-43d1-477f-b812-6ca127273002",
   "metadata": {},
   "outputs": [],
   "source": [
    "from tempfile import gettempdir\n",
    "import matplotlib.pyplot as plt\n",
    "import numpy as np\n",
    "import torch\n",
    "from torch import nn, optim\n",
    "from torch.utils.data import DataLoader\n",
    "from tqdm import tqdm\n",
    "\n",
    "from l5kit.configs import load_config_data\n",
    "from l5kit.data import LocalDataManager, ChunkedDataset\n",
    "from l5kit.dataset import AgentDataset\n",
    "from l5kit.rasterization import build_rasterizer\n",
    "from l5kit.geometry import transform_points\n",
    "from l5kit.visualization import TARGET_POINTS_COLOR, draw_trajectory\n",
    "from l5kit.planning.rasterized.model import RasterizedPlanningModel\n",
    "\n",
    "import os"
   ]
  },
  {
   "cell_type": "markdown",
   "id": "4efdb3bf-e580-4c65-afd6-da9b15feb0df",
   "metadata": {},
   "source": [
    "### Get Data from Wandb"
   ]
  },
  {
   "cell_type": "code",
   "execution_count": 8,
   "id": "40446f30-1074-451e-94bd-94a2bbb522fd",
   "metadata": {
    "colab": {
     "base_uri": "https://localhost:8080/",
     "height": 71
    },
    "executionInfo": {
     "elapsed": 5572,
     "status": "ok",
     "timestamp": 1660707075761,
     "user": {
      "displayName": "Anish Shah",
      "userId": "05913492621931233323"
     },
     "user_tz": 240
    },
    "id": "Hbg_JE1s0q6u",
    "outputId": "48fec4f3-85e5-413a-911c-e4db3ad1aaa4"
   },
   "outputs": [
    {
     "name": "stderr",
     "output_type": "stream",
     "text": [
      "\u001b[34m\u001b[1mwandb\u001b[0m: Currently logged in as: \u001b[33ma-sh0ts\u001b[0m. Use \u001b[1m`wandb login --relogin`\u001b[0m to force relogin\n"
     ]
    },
    {
     "data": {
      "text/plain": [
       "True"
      ]
     },
     "execution_count": 8,
     "metadata": {},
     "output_type": "execute_result"
    }
   ],
   "source": [
    "import wandb\n",
    "wandb.login()"
   ]
  },
  {
   "cell_type": "code",
   "execution_count": 9,
   "id": "12870502-8cea-46e2-ae70-7e2ac5eb0b2e",
   "metadata": {},
   "outputs": [],
   "source": [
    "# Run information\n",
    "wandb_entity = \"l5-demo\"\n",
    "project_name = \"l5-simulation\"\n",
    "run_name = \"download-l5-data\"\n",
    "run_type = \"download\"\n",
    "run_description = \"\"\"\n",
    "Download data for the task of training a prediction model\n",
    "\"\"\"\n",
    "tags = [\"download\", \"data\"]"
   ]
  },
  {
   "cell_type": "code",
   "execution_count": 10,
   "id": "a63df678-485d-4615-beeb-d8408806c6af",
   "metadata": {},
   "outputs": [
    {
     "name": "stderr",
     "output_type": "stream",
     "text": [
      "\u001b[34m\u001b[1mwandb\u001b[0m: Currently logged in as: \u001b[33ma-sh0ts\u001b[0m (\u001b[33ml5-demo\u001b[0m). Use \u001b[1m`wandb login --relogin`\u001b[0m to force relogin\n"
     ]
    },
    {
     "data": {
      "text/html": [
       "wandb version 0.13.2 is available!  To upgrade, please run:\n",
       " $ pip install wandb --upgrade"
      ],
      "text/plain": [
       "<IPython.core.display.HTML object>"
      ]
     },
     "metadata": {},
     "output_type": "display_data"
    },
    {
     "data": {
      "text/html": [
       "Tracking run with wandb version 0.13.1"
      ],
      "text/plain": [
       "<IPython.core.display.HTML object>"
      ]
     },
     "metadata": {},
     "output_type": "display_data"
    },
    {
     "data": {
      "text/html": [
       "Run data is saved locally in <code>/home/jupyter/l5kit-ray-wandb-demo/Experiments/simulation/training/wandb/run-20220907_210548-3vwxmj70</code>"
      ],
      "text/plain": [
       "<IPython.core.display.HTML object>"
      ]
     },
     "metadata": {},
     "output_type": "display_data"
    },
    {
     "data": {
      "text/html": [
       "Syncing run <strong><a href=\"https://wandb.ai/l5-demo/l5-simulation/runs/3vwxmj70\" target=\"_blank\">download-l5-data</a></strong> to <a href=\"https://wandb.ai/l5-demo/l5-simulation\" target=\"_blank\">Weights & Biases</a> (<a href=\"https://wandb.me/run\" target=\"_blank\">docs</a>)<br/>"
      ],
      "text/plain": [
       "<IPython.core.display.HTML object>"
      ]
     },
     "metadata": {},
     "output_type": "display_data"
    }
   ],
   "source": [
    "#🪄🐝\n",
    "run = wandb.init(\n",
    "    entity=wandb_entity,\n",
    "    project=project_name,\n",
    "    job_type=run_type,\n",
    "    name=run_name,\n",
    "    notes=run_description,\n",
    "    tags=tags\n",
    ")"
   ]
  },
  {
   "cell_type": "code",
   "execution_count": 11,
   "id": "21f56b70-75d1-4adb-9bd2-e513682c93b5",
   "metadata": {},
   "outputs": [],
   "source": [
    "artifact_entity = \"l5-demo\"\n",
    "artifact_project = \"l5-common\"\n",
    "artifact_name = \"l5-data\"\n",
    "artifact_alias = \"latest\"\n",
    "artifact_type = \"dataset\""
   ]
  },
  {
   "cell_type": "code",
   "execution_count": 12,
   "id": "2893ebe1-e349-4cc7-9821-5e93bd1a8231",
   "metadata": {},
   "outputs": [],
   "source": [
    "#🪄🐝\n",
    "artifact = run.use_artifact(f\"{artifact_entity}/{artifact_project}/{artifact_name}:{artifact_alias}\", type=artifact_type)"
   ]
  },
  {
   "cell_type": "code",
   "execution_count": 13,
   "id": "d8ce915e-8972-42d4-bbde-503c35d033f3",
   "metadata": {},
   "outputs": [
    {
     "name": "stderr",
     "output_type": "stream",
     "text": [
      "\u001b[34m\u001b[1mwandb\u001b[0m: Downloading large artifact l5-data:latest, 2386.92MB. 517 files... Done. 0:0:0.1\n"
     ]
    }
   ],
   "source": [
    "_ = artifact.download(data_directory)"
   ]
  },
  {
   "cell_type": "code",
   "execution_count": 14,
   "id": "60ac0799-77cd-45a6-b959-b9617aa8d19e",
   "metadata": {},
   "outputs": [
    {
     "data": {
      "text/html": [
       "Waiting for W&B process to finish... <strong style=\"color:green\">(success).</strong>"
      ],
      "text/plain": [
       "<IPython.core.display.HTML object>"
      ]
     },
     "metadata": {},
     "output_type": "display_data"
    },
    {
     "data": {
      "application/vnd.jupyter.widget-view+json": {
       "model_id": "",
       "version_major": 2,
       "version_minor": 0
      },
      "text/plain": [
       "VBox(children=(Label(value='0.000 MB of 0.000 MB uploaded (0.000 MB deduped)\\r'), FloatProgress(value=1.0, max…"
      ]
     },
     "metadata": {},
     "output_type": "display_data"
    },
    {
     "data": {
      "text/html": [
       "Synced <strong style=\"color:#cdcd00\">download-l5-data</strong>: <a href=\"https://wandb.ai/l5-demo/l5-simulation/runs/3vwxmj70\" target=\"_blank\">https://wandb.ai/l5-demo/l5-simulation/runs/3vwxmj70</a><br/>Synced 7 W&B file(s), 0 media file(s), 0 artifact file(s) and 1 other file(s)"
      ],
      "text/plain": [
       "<IPython.core.display.HTML object>"
      ]
     },
     "metadata": {},
     "output_type": "display_data"
    },
    {
     "data": {
      "text/html": [
       "Find logs at: <code>./wandb/run-20220907_210548-3vwxmj70/logs</code>"
      ],
      "text/plain": [
       "<IPython.core.display.HTML object>"
      ]
     },
     "metadata": {},
     "output_type": "display_data"
    }
   ],
   "source": [
    "#BUG: need to seperate runs into download and training due to issues with routing runs after ray.tune\n",
    "run.finish()"
   ]
  },
  {
   "cell_type": "code",
   "execution_count": 15,
   "id": "9b793243-7722-4502-94c9-f32c044aa230",
   "metadata": {},
   "outputs": [],
   "source": [
    "# Dataset is assumed to be on the folder specified\n",
    "# in the L5KIT_DATA_FOLDER environment variable\n",
    "\n",
    "# get config\n",
    "cfg = load_config_data(Path(data_directory, \"configurations\", \"simulation_config.yaml\"))\n",
    "\n",
    "##TODO-Fix with logic flow to select dataset###\n",
    "cfg[\"train_data_loader\"][\"key\"] = \"scenes/sample.zarr\"\n",
    "cfg[\"val_data_loader\"][\"key\"] = \"scenes/sample.zarr\"\n",
    "\n",
    "l5_data_location = Path(data_directory, \"dataset\")\n",
    "# run.config.update(cfg)"
   ]
  },
  {
   "cell_type": "code",
   "execution_count": 16,
   "id": "ca59e86a-7e5c-4438-bfa3-ae61bd378ac1",
   "metadata": {},
   "outputs": [],
   "source": [
    "# cfg[\"zarr_dataset_location\"] = l5_data_location\n",
    "os.environ[\"L5KIT_DATA_FOLDER\"] = str(l5_data_location)"
   ]
  },
  {
   "cell_type": "markdown",
   "id": "433cd44f-e828-482e-93af-bdc550c7a564",
   "metadata": {
    "id": "_ZX_d_ObJCbg"
   },
   "source": [
    "## Model\n",
    "\n",
    "Our baseline is a simple `resnet50` pretrained on `imagenet`. We must replace the input and the final layer to address our requirements."
   ]
  },
  {
   "cell_type": "code",
   "execution_count": 17,
   "id": "35126c9f-2be2-425d-8321-1347e2f223da",
   "metadata": {
    "id": "2i3FeP99JCbg"
   },
   "outputs": [],
   "source": [
    "def build_model(cfg: Dict, num_input_channels, criterion):\n",
    "    model = RasterizedPlanningModel(\n",
    "        model_arch=cfg[\"model_params\"][\"model_architecture\"],\n",
    "        num_input_channels=num_input_channels,\n",
    "        num_targets=3 * cfg[\"model_params\"][\"future_num_frames\"],  # X, Y, Yaw * number of future states,\n",
    "        weights_scaling= [1., 1., 1.],\n",
    "        criterion=criterion\n",
    "        )\n",
    "\n",
    "    return model"
   ]
  },
  {
   "cell_type": "code",
   "execution_count": 18,
   "id": "dfccc2df-e585-4572-82f9-5587cbff98e7",
   "metadata": {
    "id": "L-MMuG4LJCbh"
   },
   "outputs": [],
   "source": [
    "def forward(data, model, criterion):    \n",
    "    outputs = model(data)\n",
    "    loss = outputs[\"loss\"]\n",
    "    return loss, outputs"
   ]
  },
  {
   "cell_type": "code",
   "execution_count": 19,
   "id": "6942b04b-3759-47c0-a32f-afc3bf6db788",
   "metadata": {
    "id": "I8zTOjoAz3mW"
   },
   "outputs": [],
   "source": [
    "def train_prediction_model_epoch(data, model, criterion, optimizer):\n",
    "    loss, outputs = forward(data, model, criterion)\n",
    "    # Backward pass\n",
    "    optimizer.zero_grad()\n",
    "    loss.backward()\n",
    "    optimizer.step()\n",
    "    return loss, outputs"
   ]
  },
  {
   "cell_type": "markdown",
   "id": "ba3568ba-173f-462f-acd8-4b9f46ba7212",
   "metadata": {
    "id": "oz8fUbbTJCbh"
   },
   "source": [
    "Our data pipeline map a raw `.zarr` folder into a multi-processing instance ready for training by:\n",
    "- loading the `zarr` into a `ChunkedDataset` object. This object has a reference to the different arrays into the zarr (e.g. agents and traffic lights);\n",
    "- wrapping the `ChunkedDataset` into an `AgentDataset`, which inherits from torch `Dataset` class;\n",
    "- passing the `AgentDataset` into a torch `DataLoader`"
   ]
  },
  {
   "cell_type": "markdown",
   "id": "18bb4fde-8b53-4f64-90be-76be2cc03cf5",
   "metadata": {
    "id": "-EDp7WnqJCbh"
   },
   "source": [
    "# Training\n",
    "\n",
    "note: if you're on MacOS and using `py_satellite` rasterizer, you may need to disable opencv multiprocessing by adding:\n",
    "`cv2.setNumThreads(0)` before the following cell. This seems to only affect running in python notebook and it's caused by the `cv2.warpaffine` function"
   ]
  },
  {
   "cell_type": "code",
   "execution_count": 20,
   "id": "2c7c1b1e-94be-42bf-a839-cf23eb5d166a",
   "metadata": {
    "id": "sQGV6T8F1q8h"
   },
   "outputs": [],
   "source": [
    "import ray.train as train\n",
    "from ray.air import session, Checkpoint"
   ]
  },
  {
   "cell_type": "code",
   "execution_count": 21,
   "id": "bdf01e2b-8aab-4563-857c-f85a1134dddc",
   "metadata": {},
   "outputs": [],
   "source": [
    "from ray import tune\n",
    "from ray.tune.tuner import Tuner"
   ]
  },
  {
   "cell_type": "code",
   "execution_count": 22,
   "id": "e8e9ac83-9869-4557-af22-795d0b3bfcab",
   "metadata": {
    "id": "8gRu7-HmxCrE"
   },
   "outputs": [],
   "source": [
    "def train_simulation_model(tuner_cfg : Dict):\n",
    "    trial_name = session.get_trial_name()\n",
    "    trial_id = session.get_trial_id()\n",
    "    trial_readable_name = f\"{trial_name}_{trial_id}\"\n",
    "    \n",
    "    dm = LocalDataManager()\n",
    "    \n",
    "    # ==== Configurations\n",
    "    shuffle = tuner_cfg[\"shuffle\"]\n",
    "    batch_size = int(tuner_cfg[\"batch_size\"])\n",
    "    num_workers = tuner_cfg[\"num_workers\"]\n",
    "    lr = tuner_cfg[\"lr\"]\n",
    "    max_num_steps = int(tuner_cfg[\"max_num_steps\"])\n",
    "    dataset_key = tuner_cfg[\"dataset_key\"]\n",
    "    cfg = tuner_cfg[\"cfg\"]\n",
    "    \n",
    "    # ==== Loading Dataset\n",
    "    rasterizer = build_rasterizer(cfg, dm)\n",
    "\n",
    "    train_zarr = ChunkedDataset(dm.require(dataset_key)).open()\n",
    "    train_dataset = AgentDataset(cfg, train_zarr, rasterizer)\n",
    "\n",
    "    batch_size_per_worker = batch_size // session.get_world_size()\n",
    "    train_dataloader = DataLoader(train_dataset, shuffle=shuffle, batch_size=batch_size_per_worker, num_workers=num_workers)\n",
    "    train_dataloader = train.torch.prepare_data_loader(train_dataloader)\n",
    "    \n",
    "    # ==== Init model\n",
    "    criterion = nn.MSELoss(reduction=\"none\")\n",
    "    num_input_channels = rasterizer.num_channels()\n",
    "    \n",
    "    model = build_model(cfg, num_input_channels, criterion)\n",
    "    model = train.torch.prepare_model(model)\n",
    "    optimizer = optim.Adam(model.parameters(), lr=lr)\n",
    "\n",
    "    # ==== TRAIN LOOP\n",
    "    tr_it = iter(train_dataloader)\n",
    "    progress_bar = range(max_num_steps)\n",
    "    num_checkpoints = 5\n",
    "    steps_before_checkpointing = max_num_steps // num_checkpoints\n",
    "    losses_train = []\n",
    "    checkpoint_counter = 0\n",
    "    \n",
    "    for step in progress_bar:\n",
    "        try:\n",
    "            data = next(tr_it)\n",
    "        except StopIteration:\n",
    "            tr_it = iter(train_dataloader)\n",
    "            data = next(tr_it)\n",
    "            \n",
    "        model.train()\n",
    "        torch.set_grad_enabled(True)\n",
    "        loss, _ = train_prediction_model_epoch(data, model, criterion, optimizer)\n",
    "        losses_train.append(loss.item())\n",
    "        avg_loss = np.mean(losses_train)\n",
    "        metrics = {\n",
    "            \"loss\": loss.item(),\n",
    "            \"avg_loss\": avg_loss\n",
    "        }\n",
    "        \n",
    "        if train.world_rank() == 0:\n",
    "            print(metrics)\n",
    "        \n",
    "        if (step%steps_before_checkpointing==0) or (step==max_num_steps-1):\n",
    "            session.report(\n",
    "                metrics=metrics,\n",
    "                checkpoint=Checkpoint.from_dict(dict(step=step, model=model)))\n",
    "            checkpoint_counter += 1\n",
    "        else:\n",
    "            session.report(\n",
    "                metrics=metrics\n",
    "            )"
   ]
  },
  {
   "cell_type": "markdown",
   "id": "d3ecb395-20ee-4f69-85f7-7242d6804e54",
   "metadata": {},
   "source": [
    "### Distributed Training using Ray"
   ]
  },
  {
   "cell_type": "markdown",
   "id": "6852f3cb-8ac9-433e-b5ab-e5d58c4aaca4",
   "metadata": {},
   "source": [
    "We calculate the available hardware for our current training sessions and efficiently split CPUs based on GPUs or split CPUs evenly if possible"
   ]
  },
  {
   "cell_type": "code",
   "execution_count": 23,
   "id": "d08897fb-a088-41b2-a00b-7d67d4ec2ee1",
   "metadata": {
    "id": "L2ic0NRa0X2q"
   },
   "outputs": [],
   "source": [
    "from ray.train.torch import TorchTrainer\n",
    "from ray.air.config import RunConfig, ScalingConfig\n",
    "from ray.air.callbacks.wandb import WandbLoggerCallback #🪄🐝"
   ]
  },
  {
   "cell_type": "code",
   "execution_count": 24,
   "id": "10d08a11-8a6e-4fb7-a4da-24981cc8e7ab",
   "metadata": {},
   "outputs": [],
   "source": [
    "import multiprocessing"
   ]
  },
  {
   "cell_type": "code",
   "execution_count": 25,
   "id": "872855c9-a4ff-4ae1-8b91-0b459e49c3d0",
   "metadata": {},
   "outputs": [],
   "source": [
    "USE_GPU = torch.cuda.is_available()\n",
    "NUM_GPUS = torch.cuda.device_count()\n",
    "NUM_CPUS = multiprocessing.cpu_count()"
   ]
  },
  {
   "cell_type": "code",
   "execution_count": 26,
   "id": "c1689864-2eba-49b9-bbff-506e331017fe",
   "metadata": {},
   "outputs": [],
   "source": [
    "if USE_GPU:\n",
    "    num_actors = NUM_GPUS\n",
    "    num_data_workers = NUM_CPUS // num_actors\n",
    "else:\n",
    "    num_data_workers = 4 if NUM_CPUS>=4 else NUM_CPUS\n",
    "    ideal_num_actors = NUM_CPUS // num_data_workers\n",
    "    num_actors = ideal_num_actors if ideal_num_actors else 1"
   ]
  },
  {
   "cell_type": "markdown",
   "id": "b64532e9-5e58-49d9-9834-2e04b8f88482",
   "metadata": {},
   "source": [
    "To use Ray all we need to simply do is wrap the training function above. The only addition needed above was calls to `report.session` to log metrics during training"
   ]
  },
  {
   "cell_type": "code",
   "execution_count": 27,
   "id": "fdbb0715-6f7d-4798-8987-5349abc91f17",
   "metadata": {
    "colab": {
     "base_uri": "https://localhost:8080/"
    },
    "executionInfo": {
     "elapsed": 6465,
     "status": "ok",
     "timestamp": 1660707090583,
     "user": {
      "displayName": "Anish Shah",
      "userId": "05913492621931233323"
     },
     "user_tz": 240
    },
    "id": "MqgEP_OE0cIa",
    "outputId": "941a3d0a-e9a6-4f8a-dd89-5c5414e63555"
   },
   "outputs": [
    {
     "name": "stderr",
     "output_type": "stream",
     "text": [
      "2022-09-07 21:06:04,412\tINFO worker.py:1487 -- Started a local Ray instance. View the dashboard at \u001b[1m\u001b[32mhttp://127.0.0.1:8265\u001b[39m\u001b[22m.\n"
     ]
    }
   ],
   "source": [
    "#NOTE: To figure out if scaling config intuiutin is correct: num_actors divide resources between each actor and within the train func each actor can the utilize the shared resources\n",
    "trainer = TorchTrainer(\n",
    "    train_loop_per_worker=train_simulation_model,\n",
    "    scaling_config=ScalingConfig(num_workers=num_actors, use_gpu=USE_GPU),\n",
    ")"
   ]
  },
  {
   "cell_type": "markdown",
   "id": "92f51563-179a-48ee-aee9-818b7f04a6bf",
   "metadata": {},
   "source": [
    "### Distributed Hyperparemeter Tuning using Ray\n",
    "\n",
    "Due to Ray's easy interface we can simply extend our normal trainer to Ray's tuner which will allow us to do efficient hyperparameter optimization. In our case we use `optuna`"
   ]
  },
  {
   "cell_type": "code",
   "execution_count": 28,
   "id": "96d59580-be19-41a3-9ed8-c4dd0057469a",
   "metadata": {},
   "outputs": [],
   "source": [
    "tuner_train_config = {}\n",
    "##static\n",
    "tuner_train_config[\"shuffle\"] = cfg[\"train_data_loader\"][\"shuffle\"]\n",
    "tuner_train_config[\"num_workers\"] = num_data_workers\n",
    "tuner_train_config[\"dataset_key\"] = cfg[\"train_data_loader\"][\"key\"]\n",
    "\n",
    "##tunable\n",
    "tuner_train_config[\"max_num_steps\"] = 5\n",
    "# tuner_train_config[\"max_num_steps\"] = tune.quniform(1000, 5000, 250)\n",
    "tuner_train_config[\"lr\"] = tune.loguniform(1e-4, 1e-2)\n",
    "tuner_train_config[\"batch_size\"] = tune.quniform(6, 24, 6)\n",
    "cfg[\"raster_params\"][\"map_type\"] = tune.choice([\"py_semantic\", \"py_satellite\"])\n",
    "\n",
    "tuner_train_config[\"cfg\"] = cfg"
   ]
  },
  {
   "cell_type": "code",
   "execution_count": 29,
   "id": "5cda065f-6734-4100-ac7b-e29459ecf2b2",
   "metadata": {},
   "outputs": [],
   "source": [
    "from ray.tune.logger import LoggerCallback\n",
    "from typing import Dict, List"
   ]
  },
  {
   "cell_type": "code",
   "execution_count": 30,
   "id": "567dc9c3-c034-41bb-9e90-ba02a78735c1",
   "metadata": {},
   "outputs": [],
   "source": [
    "from ray.tune.stopper import ExperimentPlateauStopper\n",
    "from ray.tune.search.optuna import OptunaSearch"
   ]
  },
  {
   "cell_type": "code",
   "execution_count": 31,
   "id": "f9acea3c-3147-400c-ab9b-f105cc5a675c",
   "metadata": {},
   "outputs": [],
   "source": [
    "n_search_attempts = 25"
   ]
  },
  {
   "cell_type": "code",
   "execution_count": 32,
   "id": "6342c5f4-c259-4831-8886-b4a02cdc0a52",
   "metadata": {},
   "outputs": [],
   "source": [
    "optuna_search = OptunaSearch()"
   ]
  },
  {
   "cell_type": "code",
   "execution_count": 33,
   "id": "5c233f88-4dc0-462e-9657-a08d96cd4481",
   "metadata": {},
   "outputs": [
    {
     "name": "stderr",
     "output_type": "stream",
     "text": [
      "/opt/conda/lib/python3.7/site-packages/ipykernel_launcher.py:14: UserWarning: Executing `.fit()` may leave less than 20% of CPUs in this cluster for Dataset execution, which can lead to resource contention or hangs. To avoid this, reserve at least 20% of node CPUs for Dataset execution by setting `_max_cpu_fraction_per_node = 0.8` in the Trainer scaling_config. See https://docs.ray.io/en/master/data/dataset-internals.html#datasets-and-tune for more info.\n",
      "  \n"
     ]
    }
   ],
   "source": [
    "tuner = Tuner(\n",
    "        trainer,\n",
    "        tune_config=tune.TuneConfig(\n",
    "            metric=\"avg_loss\", #loss or avg_loss here?\n",
    "            mode=\"min\",\n",
    "            search_alg=optuna_search,\n",
    "            num_samples=n_search_attempts,\n",
    "        ),\n",
    "        param_space={\n",
    "            \"train_loop_config\": tuner_train_config\n",
    "        },\n",
    "        run_config=RunConfig(\n",
    "            stop=ExperimentPlateauStopper(\"avg_loss\"),\n",
    "            callbacks=[WandbLoggerCallback(project=f\"{project_name}-trials\", save_checkpoints=True),]))  #🪄🐝"
   ]
  },
  {
   "cell_type": "markdown",
   "id": "22efd113-654a-45a1-9316-55dcf816874a",
   "metadata": {},
   "source": [
    "### Aggregrate and Report Metrics from All Trials"
   ]
  },
  {
   "cell_type": "code",
   "execution_count": 34,
   "id": "0cd0f447-99f7-4fda-9907-82b5e2d41aa3",
   "metadata": {
    "colab": {
     "base_uri": "https://localhost:8080/",
     "height": 1000
    },
    "executionInfo": {
     "elapsed": 158825,
     "status": "ok",
     "timestamp": 1660707249406,
     "user": {
      "displayName": "Anish Shah",
      "userId": "05913492621931233323"
     },
     "user_tz": 240
    },
    "id": "kOE9cNax197M",
    "outputId": "ff23d83a-4e9f-4876-f1cd-54f752b4563d"
   },
   "outputs": [
    {
     "name": "stderr",
     "output_type": "stream",
     "text": [
      "\u001b[32m[I 2022-09-07 21:06:06,636]\u001b[0m A new study created in memory with name: optuna\u001b[0m\n",
      "2022-09-07 21:06:06,654\tINFO wandb.py:119 -- Already logged into W&B.\n"
     ]
    },
    {
     "data": {
      "text/html": [
       "== Status ==<br>Current time: 2022-09-07 21:22:44 (running for 00:16:37.81)<br>Memory usage on this node: 2.0/14.7 GiB<br>Using FIFO scheduling algorithm.<br>Resources requested: 0/4 CPUs, 0/0 GPUs, 0.0/8.17 GiB heap, 0.0/4.09 GiB objects<br>Current best trial: 7246099c with avg_loss=29.478268718719484 and parameters={'train_loop_config': {'shuffle': True, 'num_workers': 4, 'dataset_key': 'scenes/sample.zarr', 'max_num_steps': 5, 'lr': 0.004354237736488552, 'batch_size': 6.0, 'cfg': {'format_version': 4, 'model_params': {'model_architecture': 'resnet50', 'history_num_frames': 5, 'future_num_frames': 50, 'step_time': 0.1, 'render_ego_history': False}, 'raster_params': {'raster_size': [224, 224], 'pixel_size': [0.5, 0.5], 'ego_center': [0.25, 0.5], 'map_type': 'py_semantic', 'satellite_map_key': 'aerial_map/aerial_map.png', 'semantic_map_key': 'semantic_map/semantic_map.pb', 'dataset_meta_key': 'meta.json', 'filter_agents_threshold': 0.5, 'disable_traffic_light_faces': False, 'set_origin_to_bottom': True}, 'train_data_loader': {'key': 'scenes/sample.zarr', 'batch_size': 12, 'shuffle': True, 'num_workers': 16, 'perturb_probability': 0.0}, 'val_data_loader': {'key': 'scenes/sample.zarr', 'batch_size': 12, 'shuffle': False, 'num_workers': 16}, 'train_params': {'checkpoint_every_n_steps': 10000, 'max_num_steps': 5, 'eval_every_n_steps': 10000}}}}<br>Result logdir: /home/jupyter/ray_results/TorchTrainer_2022-09-07_21-06-06<br>Number of trials: 25/25 (25 TERMINATED)<br><table>\n",
       "<thead>\n",
       "<tr><th>Trial name           </th><th>status    </th><th>loc             </th><th style=\"text-align: right;\">  train_loop_config...</th><th>train_loop_config...  </th><th style=\"text-align: right;\">  train_loop_config/lr</th><th style=\"text-align: right;\">  iter</th><th style=\"text-align: right;\">  total time (s)</th><th style=\"text-align: right;\">     loss</th><th style=\"text-align: right;\">  avg_loss</th><th style=\"text-align: right;\">  _timestamp</th></tr>\n",
       "</thead>\n",
       "<tbody>\n",
       "<tr><td>TorchTrainer_e3c5f5d4</td><td>TERMINATED</td><td>10.150.0.3:25992</td><td style=\"text-align: right;\">                    12</td><td>py_satellite          </td><td style=\"text-align: right;\">           0.0072049  </td><td style=\"text-align: right;\">     5</td><td style=\"text-align: right;\">         60.1556</td><td style=\"text-align: right;\"> 74.5676 </td><td style=\"text-align: right;\">   77.8439</td><td style=\"text-align: right;\">  1662584829</td></tr>\n",
       "<tr><td>TorchTrainer_e5c1813c</td><td>TERMINATED</td><td>10.150.0.3:26064</td><td style=\"text-align: right;\">                    18</td><td>py_semantic           </td><td style=\"text-align: right;\">           0.000556754</td><td style=\"text-align: right;\">     5</td><td style=\"text-align: right;\">         87.8817</td><td style=\"text-align: right;\"> 67.7284 </td><td style=\"text-align: right;\">   90.8705</td><td style=\"text-align: right;\">  1662584862</td></tr>\n",
       "<tr><td>TorchTrainer_e5c9abaa</td><td>TERMINATED</td><td>10.150.0.3:27061</td><td style=\"text-align: right;\">                    12</td><td>py_semantic           </td><td style=\"text-align: right;\">           0.000177311</td><td style=\"text-align: right;\">     5</td><td style=\"text-align: right;\">         59.6294</td><td style=\"text-align: right;\"> 17.9698 </td><td style=\"text-align: right;\">   35.8953</td><td style=\"text-align: right;\">  1662584903</td></tr>\n",
       "<tr><td>TorchTrainer_0f7cd6a2</td><td>TERMINATED</td><td>10.150.0.3:27382</td><td style=\"text-align: right;\">                     6</td><td>py_satellite          </td><td style=\"text-align: right;\">           0.00160407 </td><td style=\"text-align: right;\">     5</td><td style=\"text-align: right;\">         37.5158</td><td style=\"text-align: right;\">  5.84599</td><td style=\"text-align: right;\">   98.9697</td><td style=\"text-align: right;\">  1662584913</td></tr>\n",
       "<tr><td>TorchTrainer_2328e218</td><td>TERMINATED</td><td>10.150.0.3:28334</td><td style=\"text-align: right;\">                     6</td><td>py_semantic           </td><td style=\"text-align: right;\">           0.000690849</td><td style=\"text-align: right;\">     5</td><td style=\"text-align: right;\">         40.6134</td><td style=\"text-align: right;\">138.552  </td><td style=\"text-align: right;\">   41.8565</td><td style=\"text-align: right;\">  1662584968</td></tr>\n",
       "<tr><td>TorchTrainer_4160e4a6</td><td>TERMINATED</td><td>10.150.0.3:28343</td><td style=\"text-align: right;\">                    18</td><td>py_satellite          </td><td style=\"text-align: right;\">           0.000392097</td><td style=\"text-align: right;\">     5</td><td style=\"text-align: right;\">         84.8762</td><td style=\"text-align: right;\"> 47.9169 </td><td style=\"text-align: right;\">   59.9695</td><td style=\"text-align: right;\">  1662585013</td></tr>\n",
       "<tr><td>TorchTrainer_41bc41c0</td><td>TERMINATED</td><td>10.150.0.3:29336</td><td style=\"text-align: right;\">                    18</td><td>py_satellite          </td><td style=\"text-align: right;\">           0.00249845 </td><td style=\"text-align: right;\">     5</td><td style=\"text-align: right;\">         82.1401</td><td style=\"text-align: right;\"> 14.7764 </td><td style=\"text-align: right;\">   42.0436</td><td style=\"text-align: right;\">  1662585061</td></tr>\n",
       "<tr><td>TorchTrainer_611d7426</td><td>TERMINATED</td><td>10.150.0.3:30153</td><td style=\"text-align: right;\">                    18</td><td>py_semantic           </td><td style=\"text-align: right;\">           0.00158679 </td><td style=\"text-align: right;\">     5</td><td style=\"text-align: right;\">         81.7708</td><td style=\"text-align: right;\"> 93.3388 </td><td style=\"text-align: right;\">   68.7019</td><td style=\"text-align: right;\">  1662585114</td></tr>\n",
       "<tr><td>TorchTrainer_7e39ebde</td><td>TERMINATED</td><td>10.150.0.3:30991</td><td style=\"text-align: right;\">                    24</td><td>py_semantic           </td><td style=\"text-align: right;\">           0.000487912</td><td style=\"text-align: right;\">     5</td><td style=\"text-align: right;\">        105.296 </td><td style=\"text-align: right;\"> 37.8674 </td><td style=\"text-align: right;\">   52.5062</td><td style=\"text-align: right;\">  1662585183</td></tr>\n",
       "<tr><td>TorchTrainer_9b8feb8e</td><td>TERMINATED</td><td>10.150.0.3:31815</td><td style=\"text-align: right;\">                    12</td><td>py_satellite          </td><td style=\"text-align: right;\">           0.000313175</td><td style=\"text-align: right;\">     5</td><td style=\"text-align: right;\">         55.4984</td><td style=\"text-align: right;\">119.398  </td><td style=\"text-align: right;\">   69.8637</td><td style=\"text-align: right;\">  1662585186</td></tr>\n",
       "<tr><td>TorchTrainer_ba8cfb08</td><td>TERMINATED</td><td>10.150.0.3:32745</td><td style=\"text-align: right;\">                    12</td><td>py_semantic           </td><td style=\"text-align: right;\">           0.000657682</td><td style=\"text-align: right;\">     5</td><td style=\"text-align: right;\">         61.4484</td><td style=\"text-align: right;\"> 30.5563 </td><td style=\"text-align: right;\">   60.1721</td><td style=\"text-align: right;\">  1662585265</td></tr>\n",
       "<tr><td>TorchTrainer_e6749e2e</td><td>TERMINATED</td><td>10.150.0.3:32756</td><td style=\"text-align: right;\">                    24</td><td>py_semantic           </td><td style=\"text-align: right;\">           0.000198781</td><td style=\"text-align: right;\">     5</td><td style=\"text-align: right;\">        112.496 </td><td style=\"text-align: right;\"> 83.0319 </td><td style=\"text-align: right;\">   75.4856</td><td style=\"text-align: right;\">  1662585317</td></tr>\n",
       "<tr><td>TorchTrainer_e6d9de10</td><td>TERMINATED</td><td>10.150.0.3:1424 </td><td style=\"text-align: right;\">                    24</td><td>py_semantic           </td><td style=\"text-align: right;\">           0.000104931</td><td style=\"text-align: right;\">     5</td><td style=\"text-align: right;\">        107.665 </td><td style=\"text-align: right;\"> 80.1371 </td><td style=\"text-align: right;\">  104.618 </td><td style=\"text-align: right;\">  1662585387</td></tr>\n",
       "<tr><td>TorchTrainer_1362af8e</td><td>TERMINATED</td><td>10.150.0.3:2227 </td><td style=\"text-align: right;\">                     6</td><td>py_semantic           </td><td style=\"text-align: right;\">           0.000103367</td><td style=\"text-align: right;\">     5</td><td style=\"text-align: right;\">         36.7228</td><td style=\"text-align: right;\"> 99.0063 </td><td style=\"text-align: right;\">   69.0424</td><td style=\"text-align: right;\">  1662585368</td></tr>\n",
       "<tr><td>TorchTrainer_329b280e</td><td>TERMINATED</td><td>10.150.0.3:3108 </td><td style=\"text-align: right;\">                     6</td><td>py_semantic           </td><td style=\"text-align: right;\">           0.000155113</td><td style=\"text-align: right;\">     5</td><td style=\"text-align: right;\">         39.6721</td><td style=\"text-align: right;\">102.973  </td><td style=\"text-align: right;\">   52.9916</td><td style=\"text-align: right;\">  1662585423</td></tr>\n",
       "<tr><td>TorchTrainer_5162d994</td><td>TERMINATED</td><td>10.150.0.3:3392 </td><td style=\"text-align: right;\">                     6</td><td>py_semantic           </td><td style=\"text-align: right;\">           0.000116446</td><td style=\"text-align: right;\">     5</td><td style=\"text-align: right;\">         39.6579</td><td style=\"text-align: right;\"> 20.4745 </td><td style=\"text-align: right;\">   44.6114</td><td style=\"text-align: right;\">  1662585440</td></tr>\n",
       "<tr><td>TorchTrainer_5b830cfa</td><td>TERMINATED</td><td>10.150.0.3:4238 </td><td style=\"text-align: right;\">                     6</td><td>py_semantic           </td><td style=\"text-align: right;\">           0.000201625</td><td style=\"text-align: right;\">     5</td><td style=\"text-align: right;\">         37.1356</td><td style=\"text-align: right;\"> 69.9518 </td><td style=\"text-align: right;\">   66.7046</td><td style=\"text-align: right;\">  1662585476</td></tr>\n",
       "<tr><td>TorchTrainer_7246099c</td><td>TERMINATED</td><td>10.150.0.3:4568 </td><td style=\"text-align: right;\">                     6</td><td>py_semantic           </td><td style=\"text-align: right;\">           0.00435424 </td><td style=\"text-align: right;\">     5</td><td style=\"text-align: right;\">         43.8813</td><td style=\"text-align: right;\"> 59.8116 </td><td style=\"text-align: right;\">   29.4783</td><td style=\"text-align: right;\">  1662585499</td></tr>\n",
       "<tr><td>TorchTrainer_7c45b76c</td><td>TERMINATED</td><td>10.150.0.3:5470 </td><td style=\"text-align: right;\">                    12</td><td>py_semantic           </td><td style=\"text-align: right;\">           0.000965603</td><td style=\"text-align: right;\">     5</td><td style=\"text-align: right;\">         60.6106</td><td style=\"text-align: right;\"> 35.2406 </td><td style=\"text-align: right;\">   74.8827</td><td style=\"text-align: right;\">  1662585552</td></tr>\n",
       "<tr><td>TorchTrainer_91ccf37a</td><td>TERMINATED</td><td>10.150.0.3:5803 </td><td style=\"text-align: right;\">                    12</td><td>py_semantic           </td><td style=\"text-align: right;\">           0.000926558</td><td style=\"text-align: right;\">     5</td><td style=\"text-align: right;\">         61.5301</td><td style=\"text-align: right;\"> 16.4667 </td><td style=\"text-align: right;\">   89.6482</td><td style=\"text-align: right;\">  1662585575</td></tr>\n",
       "<tr><td>TorchTrainer_9edc449e</td><td>TERMINATED</td><td>10.150.0.3:6677 </td><td style=\"text-align: right;\">                    12</td><td>py_semantic           </td><td style=\"text-align: right;\">           0.0092487  </td><td style=\"text-align: right;\">     5</td><td style=\"text-align: right;\">         60.5233</td><td style=\"text-align: right;\"> 77.2139 </td><td style=\"text-align: right;\">   72.152 </td><td style=\"text-align: right;\">  1662585628</td></tr>\n",
       "<tr><td>TorchTrainer_bed468f8</td><td>TERMINATED</td><td>10.150.0.3:7026 </td><td style=\"text-align: right;\">                    12</td><td>py_semantic           </td><td style=\"text-align: right;\">           0.00766906 </td><td style=\"text-align: right;\">     5</td><td style=\"text-align: right;\">         62.3741</td><td style=\"text-align: right;\">120.211  </td><td style=\"text-align: right;\">   96.839 </td><td style=\"text-align: right;\">  1662585650</td></tr>\n",
       "<tr><td>TorchTrainer_cb92d304</td><td>TERMINATED</td><td>10.150.0.3:7888 </td><td style=\"text-align: right;\">                    12</td><td>py_semantic           </td><td style=\"text-align: right;\">           0.00835663 </td><td style=\"text-align: right;\">     5</td><td style=\"text-align: right;\">         61.2971</td><td style=\"text-align: right;\"> 49.4659 </td><td style=\"text-align: right;\">   74.316 </td><td style=\"text-align: right;\">  1662585705</td></tr>\n",
       "<tr><td>TorchTrainer_ec979508</td><td>TERMINATED</td><td>10.150.0.3:8158 </td><td style=\"text-align: right;\">                     6</td><td>py_semantic           </td><td style=\"text-align: right;\">           0.00424798 </td><td style=\"text-align: right;\">     5</td><td style=\"text-align: right;\">         37.5333</td><td style=\"text-align: right;\"> 64.1255 </td><td style=\"text-align: right;\">   86.6299</td><td style=\"text-align: right;\">  1662585702</td></tr>\n",
       "<tr><td>TorchTrainer_f8df3500</td><td>TERMINATED</td><td>10.150.0.3:9097 </td><td style=\"text-align: right;\">                     6</td><td>py_semantic           </td><td style=\"text-align: right;\">           0.00511815 </td><td style=\"text-align: right;\">     5</td><td style=\"text-align: right;\">         31.1165</td><td style=\"text-align: right;\">121.659  </td><td style=\"text-align: right;\">   79.0664</td><td style=\"text-align: right;\">  1662585755</td></tr>\n",
       "</tbody>\n",
       "</table><br><br>"
      ],
      "text/plain": [
       "<IPython.core.display.HTML object>"
      ]
     },
     "metadata": {},
     "output_type": "display_data"
    },
    {
     "name": "stderr",
     "output_type": "stream",
     "text": [
      "\u001b[2m\u001b[36m(RayTrainWorker pid=26063)\u001b[0m 2022-09-07 21:06:13,828\tINFO config.py:72 -- Setting up process group for: env:// [rank=0, world_size=1]\n",
      "\u001b[2m\u001b[36m(RayTrainWorker pid=26176)\u001b[0m 2022-09-07 21:06:18,306\tINFO config.py:72 -- Setting up process group for: env:// [rank=0, world_size=1]\n",
      "\u001b[2m\u001b[36m(RayTrainWorker pid=26063)\u001b[0m /opt/conda/lib/python3.7/site-packages/l5kit/planning/rasterized/model.py:31: UserWarning: There is no pre-trained model with num_in_channels != 3, first layer will be reset\n",
      "\u001b[2m\u001b[36m(RayTrainWorker pid=26063)\u001b[0m   warnings.warn(\"There is no pre-trained model with num_in_channels != 3, first layer will be reset\")\n",
      "\u001b[2m\u001b[36m(RayTrainWorker pid=26063)\u001b[0m /opt/conda/lib/python3.7/site-packages/torchvision/models/_utils.py:209: UserWarning: The parameter 'pretrained' is deprecated since 0.13 and will be removed in 0.15, please use 'weights' instead.\n",
      "\u001b[2m\u001b[36m(RayTrainWorker pid=26063)\u001b[0m   f\"The parameter '{pretrained_param}' is deprecated since 0.13 and will be removed in 0.15, \"\n",
      "\u001b[2m\u001b[36m(RayTrainWorker pid=26063)\u001b[0m /opt/conda/lib/python3.7/site-packages/torchvision/models/_utils.py:223: UserWarning: Arguments other than a weight enum or `None` for 'weights' are deprecated since 0.13 and will be removed in 0.15. The current behavior is equivalent to passing `weights=ResNet50_Weights.IMAGENET1K_V1`. You can also use `weights=ResNet50_Weights.DEFAULT` to get the most up-to-date weights.\n",
      "\u001b[2m\u001b[36m(RayTrainWorker pid=26063)\u001b[0m   warnings.warn(msg)\n",
      "\u001b[2m\u001b[36m(RayTrainWorker pid=26063)\u001b[0m 2022-09-07 21:06:21,019\tINFO train_loop_utils.py:300 -- Moving model to device: cpu\n",
      "\u001b[2m\u001b[36m(RayTrainWorker pid=26176)\u001b[0m /opt/conda/lib/python3.7/site-packages/l5kit/planning/rasterized/model.py:31: UserWarning: There is no pre-trained model with num_in_channels != 3, first layer will be reset\n",
      "\u001b[2m\u001b[36m(RayTrainWorker pid=26176)\u001b[0m   warnings.warn(\"There is no pre-trained model with num_in_channels != 3, first layer will be reset\")\n",
      "\u001b[2m\u001b[36m(RayTrainWorker pid=26176)\u001b[0m /opt/conda/lib/python3.7/site-packages/torchvision/models/_utils.py:209: UserWarning: The parameter 'pretrained' is deprecated since 0.13 and will be removed in 0.15, please use 'weights' instead.\n",
      "\u001b[2m\u001b[36m(RayTrainWorker pid=26176)\u001b[0m   f\"The parameter '{pretrained_param}' is deprecated since 0.13 and will be removed in 0.15, \"\n",
      "\u001b[2m\u001b[36m(RayTrainWorker pid=26176)\u001b[0m /opt/conda/lib/python3.7/site-packages/torchvision/models/_utils.py:223: UserWarning: Arguments other than a weight enum or `None` for 'weights' are deprecated since 0.13 and will be removed in 0.15. The current behavior is equivalent to passing `weights=ResNet50_Weights.IMAGENET1K_V1`. You can also use `weights=ResNet50_Weights.DEFAULT` to get the most up-to-date weights.\n",
      "\u001b[2m\u001b[36m(RayTrainWorker pid=26176)\u001b[0m   warnings.warn(msg)\n",
      "\u001b[2m\u001b[36m(RayTrainWorker pid=26176)\u001b[0m 2022-09-07 21:06:25,954\tINFO train_loop_utils.py:300 -- Moving model to device: cpu\n"
     ]
    },
    {
     "name": "stdout",
     "output_type": "stream",
     "text": [
      "\u001b[2m\u001b[36m(RayTrainWorker pid=26063)\u001b[0m {'loss': 34.04572677612305, 'avg_loss': 34.04572677612305}\n"
     ]
    },
    {
     "name": "stderr",
     "output_type": "stream",
     "text": [
      "\u001b[34m\u001b[1mwandb\u001b[0m: Adding directory to artifact (/home/jupyter/ray_results/TorchTrainer_2022-09-07_21-06-06/TorchTrainer_e3c5f5d4_1_batch_size=12.0000,format_version=4,future_num_frames=50,history_num_frames=5,model_architecture=resnet50,_2022-09-07_21-06-06/checkpoint_000000)... "
     ]
    },
    {
     "name": "stdout",
     "output_type": "stream",
     "text": [
      "Result for TorchTrainer_e3c5f5d4:\n",
      "  _time_this_iter_s: 18.791529178619385\n",
      "  _timestamp: 1662584793\n",
      "  _training_iteration: 1\n",
      "  avg_loss: 34.04572677612305\n",
      "  date: 2022-09-07_21-06-33\n",
      "  done: false\n",
      "  experiment_id: cecbcbdf243740089cf922d5a64cba6b\n",
      "  hostname: anish-l5-kit\n",
      "  iterations_since_restore: 1\n",
      "  loss: 34.04572677612305\n",
      "  node_ip: 10.150.0.3\n",
      "  pid: 25992\n",
      "  should_checkpoint: true\n",
      "  time_since_restore: 23.725836515426636\n",
      "  time_this_iter_s: 23.725836515426636\n",
      "  time_total_s: 23.725836515426636\n",
      "  timestamp: 1662584793\n",
      "  timesteps_since_restore: 0\n",
      "  training_iteration: 1\n",
      "  trial_id: e3c5f5d4\n",
      "  warmup_time: 0.0050389766693115234\n",
      "  \n"
     ]
    },
    {
     "name": "stderr",
     "output_type": "stream",
     "text": [
      "Done. 1.3s\n"
     ]
    },
    {
     "name": "stdout",
     "output_type": "stream",
     "text": [
      "\u001b[2m\u001b[36m(RayTrainWorker pid=26063)\u001b[0m {'loss': 48.830894470214844, 'avg_loss': 41.438310623168945}\n"
     ]
    },
    {
     "name": "stderr",
     "output_type": "stream",
     "text": [
      "\u001b[34m\u001b[1mwandb\u001b[0m: Adding directory to artifact (/home/jupyter/ray_results/TorchTrainer_2022-09-07_21-06-06/TorchTrainer_e3c5f5d4_1_batch_size=12.0000,format_version=4,future_num_frames=50,history_num_frames=5,model_architecture=resnet50,_2022-09-07_21-06-06/checkpoint_000001)... "
     ]
    },
    {
     "name": "stdout",
     "output_type": "stream",
     "text": [
      "Result for TorchTrainer_e3c5f5d4:\n",
      "  _time_this_iter_s: 8.529665470123291\n",
      "  _timestamp: 1662584801\n",
      "  _training_iteration: 2\n",
      "  avg_loss: 41.438310623168945\n",
      "  date: 2022-09-07_21-06-42\n",
      "  done: false\n",
      "  experiment_id: cecbcbdf243740089cf922d5a64cba6b\n",
      "  hostname: anish-l5-kit\n",
      "  iterations_since_restore: 2\n",
      "  loss: 48.830894470214844\n",
      "  node_ip: 10.150.0.3\n",
      "  pid: 25992\n",
      "  should_checkpoint: true\n",
      "  time_since_restore: 32.18539762496948\n",
      "  time_this_iter_s: 8.459561109542847\n",
      "  time_total_s: 32.18539762496948\n",
      "  timestamp: 1662584802\n",
      "  timesteps_since_restore: 0\n",
      "  training_iteration: 2\n",
      "  trial_id: e3c5f5d4\n",
      "  warmup_time: 0.0050389766693115234\n",
      "  \n",
      "\u001b[2m\u001b[36m(RayTrainWorker pid=26176)\u001b[0m {'loss': 150.79981994628906, 'avg_loss': 150.79981994628906}\n"
     ]
    },
    {
     "name": "stderr",
     "output_type": "stream",
     "text": [
      "Done. 1.0s\n",
      "\u001b[34m\u001b[1mwandb\u001b[0m: Adding directory to artifact (/home/jupyter/ray_results/TorchTrainer_2022-09-07_21-06-06/TorchTrainer_e5c1813c_2_batch_size=18.0000,format_version=4,future_num_frames=50,history_num_frames=5,model_architecture=resnet50,_2022-09-07_21-06-10/checkpoint_000000)... "
     ]
    },
    {
     "name": "stdout",
     "output_type": "stream",
     "text": [
      "Result for TorchTrainer_e5c1813c:\n",
      "  _time_this_iter_s: 23.81967258453369\n",
      "  _timestamp: 1662584802\n",
      "  _training_iteration: 1\n",
      "  avg_loss: 150.79981994628906\n",
      "  date: 2022-09-07_21-06-43\n",
      "  done: false\n",
      "  experiment_id: 93bf4a54174d4a8f99d9bc7b268a5c25\n",
      "  hostname: anish-l5-kit\n",
      "  iterations_since_restore: 1\n",
      "  loss: 150.79981994628906\n",
      "  node_ip: 10.150.0.3\n",
      "  pid: 26064\n",
      "  should_checkpoint: true\n",
      "  time_since_restore: 28.50425434112549\n",
      "  time_this_iter_s: 28.50425434112549\n",
      "  time_total_s: 28.50425434112549\n",
      "  timestamp: 1662584803\n",
      "  timesteps_since_restore: 0\n",
      "  training_iteration: 1\n",
      "  trial_id: e5c1813c\n",
      "  warmup_time: 0.006105661392211914\n",
      "  \n"
     ]
    },
    {
     "name": "stderr",
     "output_type": "stream",
     "text": [
      "Done. 1.1s\n"
     ]
    },
    {
     "name": "stdout",
     "output_type": "stream",
     "text": [
      "\u001b[2m\u001b[36m(RayTrainWorker pid=26063)\u001b[0m {'loss': 148.806396484375, 'avg_loss': 77.2276725769043}\n"
     ]
    },
    {
     "name": "stderr",
     "output_type": "stream",
     "text": [
      "\u001b[34m\u001b[1mwandb\u001b[0m: Adding directory to artifact (/home/jupyter/ray_results/TorchTrainer_2022-09-07_21-06-06/TorchTrainer_e3c5f5d4_1_batch_size=12.0000,format_version=4,future_num_frames=50,history_num_frames=5,model_architecture=resnet50,_2022-09-07_21-06-06/checkpoint_000002)... "
     ]
    },
    {
     "name": "stdout",
     "output_type": "stream",
     "text": [
      "Result for TorchTrainer_e3c5f5d4:\n",
      "  _time_this_iter_s: 8.988826036453247\n",
      "  _timestamp: 1662584810\n",
      "  _training_iteration: 3\n",
      "  avg_loss: 77.2276725769043\n",
      "  date: 2022-09-07_21-06-51\n",
      "  done: false\n",
      "  experiment_id: cecbcbdf243740089cf922d5a64cba6b\n",
      "  hostname: anish-l5-kit\n",
      "  iterations_since_restore: 3\n",
      "  loss: 148.806396484375\n",
      "  node_ip: 10.150.0.3\n",
      "  pid: 25992\n",
      "  should_checkpoint: true\n",
      "  time_since_restore: 41.153194427490234\n",
      "  time_this_iter_s: 8.967796802520752\n",
      "  time_total_s: 41.153194427490234\n",
      "  timestamp: 1662584811\n",
      "  timesteps_since_restore: 0\n",
      "  training_iteration: 3\n",
      "  trial_id: e3c5f5d4\n",
      "  warmup_time: 0.0050389766693115234\n",
      "  \n"
     ]
    },
    {
     "name": "stderr",
     "output_type": "stream",
     "text": [
      "Done. 1.0s\n"
     ]
    },
    {
     "name": "stdout",
     "output_type": "stream",
     "text": [
      "\u001b[2m\u001b[36m(RayTrainWorker pid=26176)\u001b[0m {'loss': 111.55011749267578, 'avg_loss': 131.17496871948242}\n"
     ]
    },
    {
     "name": "stderr",
     "output_type": "stream",
     "text": [
      "\u001b[34m\u001b[1mwandb\u001b[0m: Adding directory to artifact (/home/jupyter/ray_results/TorchTrainer_2022-09-07_21-06-06/TorchTrainer_e5c1813c_2_batch_size=18.0000,format_version=4,future_num_frames=50,history_num_frames=5,model_architecture=resnet50,_2022-09-07_21-06-10/checkpoint_000001)... "
     ]
    },
    {
     "name": "stdout",
     "output_type": "stream",
     "text": [
      "Result for TorchTrainer_e5c1813c:\n",
      "  _time_this_iter_s: 13.597301959991455\n",
      "  _timestamp: 1662584816\n",
      "  _training_iteration: 2\n",
      "  avg_loss: 131.17496871948242\n",
      "  date: 2022-09-07_21-06-56\n",
      "  done: false\n",
      "  experiment_id: 93bf4a54174d4a8f99d9bc7b268a5c25\n",
      "  hostname: anish-l5-kit\n",
      "  iterations_since_restore: 2\n",
      "  loss: 111.55011749267578\n",
      "  node_ip: 10.150.0.3\n",
      "  pid: 26064\n",
      "  should_checkpoint: true\n",
      "  time_since_restore: 42.05224847793579\n",
      "  time_this_iter_s: 13.547994136810303\n",
      "  time_total_s: 42.05224847793579\n",
      "  timestamp: 1662584816\n",
      "  timesteps_since_restore: 0\n",
      "  training_iteration: 2\n",
      "  trial_id: e5c1813c\n",
      "  warmup_time: 0.006105661392211914\n",
      "  \n"
     ]
    },
    {
     "name": "stderr",
     "output_type": "stream",
     "text": [
      "Done. 1.1s\n"
     ]
    },
    {
     "name": "stdout",
     "output_type": "stream",
     "text": [
      "\u001b[2m\u001b[36m(RayTrainWorker pid=26063)\u001b[0m {'loss': 82.96881866455078, 'avg_loss': 78.66295909881592}\n"
     ]
    },
    {
     "name": "stderr",
     "output_type": "stream",
     "text": [
      "\u001b[34m\u001b[1mwandb\u001b[0m: Adding directory to artifact (/home/jupyter/ray_results/TorchTrainer_2022-09-07_21-06-06/TorchTrainer_e3c5f5d4_1_batch_size=12.0000,format_version=4,future_num_frames=50,history_num_frames=5,model_architecture=resnet50,_2022-09-07_21-06-06/checkpoint_000003)... "
     ]
    },
    {
     "name": "stdout",
     "output_type": "stream",
     "text": [
      "Result for TorchTrainer_e3c5f5d4:\n",
      "  _time_this_iter_s: 9.113450288772583\n",
      "  _timestamp: 1662584819\n",
      "  _training_iteration: 4\n",
      "  avg_loss: 78.66295909881592\n",
      "  date: 2022-09-07_21-07-00\n",
      "  done: false\n",
      "  experiment_id: cecbcbdf243740089cf922d5a64cba6b\n",
      "  hostname: anish-l5-kit\n",
      "  iterations_since_restore: 4\n",
      "  loss: 82.96881866455078\n",
      "  node_ip: 10.150.0.3\n",
      "  pid: 25992\n",
      "  should_checkpoint: true\n",
      "  time_since_restore: 50.25953006744385\n",
      "  time_this_iter_s: 9.106335639953613\n",
      "  time_total_s: 50.25953006744385\n",
      "  timestamp: 1662584820\n",
      "  timesteps_since_restore: 0\n",
      "  training_iteration: 4\n",
      "  trial_id: e3c5f5d4\n",
      "  warmup_time: 0.0050389766693115234\n",
      "  \n"
     ]
    },
    {
     "name": "stderr",
     "output_type": "stream",
     "text": [
      "Done. 1.4s\n"
     ]
    },
    {
     "name": "stdout",
     "output_type": "stream",
     "text": [
      "\u001b[2m\u001b[36m(RayTrainWorker pid=26063)\u001b[0m {'loss': 74.56755065917969, 'avg_loss': 77.84387741088867}\n"
     ]
    },
    {
     "name": "stderr",
     "output_type": "stream",
     "text": [
      "\u001b[34m\u001b[1mwandb\u001b[0m: Adding directory to artifact (/home/jupyter/ray_results/TorchTrainer_2022-09-07_21-06-06/TorchTrainer_e3c5f5d4_1_batch_size=12.0000,format_version=4,future_num_frames=50,history_num_frames=5,model_architecture=resnet50,_2022-09-07_21-06-06/checkpoint_000004)... "
     ]
    },
    {
     "name": "stdout",
     "output_type": "stream",
     "text": [
      "Result for TorchTrainer_e3c5f5d4:\n",
      "  _time_this_iter_s: 9.905043601989746\n",
      "  _timestamp: 1662584829\n",
      "  _training_iteration: 5\n",
      "  avg_loss: 77.84387741088867\n",
      "  date: 2022-09-07_21-07-10\n",
      "  done: false\n",
      "  experiment_id: cecbcbdf243740089cf922d5a64cba6b\n",
      "  hostname: anish-l5-kit\n",
      "  iterations_since_restore: 5\n",
      "  loss: 74.56755065917969\n",
      "  node_ip: 10.150.0.3\n",
      "  pid: 25992\n",
      "  should_checkpoint: true\n",
      "  time_since_restore: 60.15558481216431\n",
      "  time_this_iter_s: 9.896054744720459\n",
      "  time_total_s: 60.15558481216431\n",
      "  timestamp: 1662584830\n",
      "  timesteps_since_restore: 0\n",
      "  training_iteration: 5\n",
      "  trial_id: e3c5f5d4\n",
      "  warmup_time: 0.0050389766693115234\n",
      "  \n"
     ]
    },
    {
     "name": "stderr",
     "output_type": "stream",
     "text": [
      "Done. 1.0s\n"
     ]
    },
    {
     "name": "stdout",
     "output_type": "stream",
     "text": [
      "\u001b[2m\u001b[36m(RayTrainWorker pid=26176)\u001b[0m {'loss': 115.19401550292969, 'avg_loss': 125.84798431396484}\n"
     ]
    },
    {
     "name": "stderr",
     "output_type": "stream",
     "text": [
      "\u001b[34m\u001b[1mwandb\u001b[0m: Adding directory to artifact (/home/jupyter/ray_results/TorchTrainer_2022-09-07_21-06-06/TorchTrainer_e3c5f5d4_1_batch_size=12.0000,format_version=4,future_num_frames=50,history_num_frames=5,model_architecture=resnet50,_2022-09-07_21-06-06/checkpoint_000004)... Done. 0.3s\n"
     ]
    },
    {
     "data": {
      "text/html": [
       "Waiting for W&B process to finish... <strong style=\"color:green\">(success).</strong>"
      ],
      "text/plain": [
       "<IPython.core.display.HTML object>"
      ]
     },
     "metadata": {},
     "output_type": "display_data"
    },
    {
     "data": {
      "application/vnd.jupyter.widget-view+json": {
       "model_id": "0cadf1b17ffe41429ab4aa645765e864",
       "version_major": 2,
       "version_minor": 0
      },
      "text/plain": [
       "VBox(children=(Label(value='456.836 MB of 456.836 MB uploaded (91.307 MB deduped)\\r'), FloatProgress(value=1.0…"
      ]
     },
     "metadata": {},
     "output_type": "display_data"
    },
    {
     "data": {
      "text/html": [
       "W&B sync reduced upload amount by 20.0%             "
      ],
      "text/plain": [
       "<IPython.core.display.HTML object>"
      ]
     },
     "metadata": {},
     "output_type": "display_data"
    },
    {
     "data": {
      "text/html": [
       "<style>\n",
       "    table.wandb td:nth-child(1) { padding: 0 10px; text-align: left ; width: auto;} td:nth-child(2) {text-align: left ; width: 100%}\n",
       "    .wandb-row { display: flex; flex-direction: row; flex-wrap: wrap; justify-content: flex-start; width: 100% }\n",
       "    .wandb-col { display: flex; flex-direction: column; flex-basis: 100%; flex: 1; padding: 10px; }\n",
       "    </style>\n",
       "<div class=\"wandb-row\"><div class=\"wandb-col\"><h3>Run history:</h3><br/><table class=\"wandb\"><tr><td>avg_loss</td><td>▁▂███</td></tr><tr><td>iterations_since_restore</td><td>▁▃▅▆█</td></tr><tr><td>loss</td><td>▁▂█▄▃</td></tr><tr><td>time_since_restore</td><td>▁▃▄▆█</td></tr><tr><td>time_this_iter_s</td><td>█▁▁▁▂</td></tr><tr><td>time_total_s</td><td>▁▃▄▆█</td></tr><tr><td>timestamp</td><td>▁▃▄▆█</td></tr><tr><td>timesteps_since_restore</td><td>▁▁▁▁▁</td></tr><tr><td>training_iteration</td><td>▁▃▅▆█</td></tr><tr><td>warmup_time</td><td>▁▁▁▁▁</td></tr></table><br/></div><div class=\"wandb-col\"><h3>Run summary:</h3><br/><table class=\"wandb\"><tr><td>avg_loss</td><td>77.84388</td></tr><tr><td>iterations_since_restore</td><td>5</td></tr><tr><td>loss</td><td>74.56755</td></tr><tr><td>time_since_restore</td><td>60.15558</td></tr><tr><td>time_this_iter_s</td><td>9.89605</td></tr><tr><td>time_total_s</td><td>60.15558</td></tr><tr><td>timestamp</td><td>1662584830</td></tr><tr><td>timesteps_since_restore</td><td>0</td></tr><tr><td>training_iteration</td><td>5</td></tr><tr><td>warmup_time</td><td>0.00504</td></tr></table><br/></div></div>"
      ],
      "text/plain": [
       "<IPython.core.display.HTML object>"
      ]
     },
     "metadata": {},
     "output_type": "display_data"
    },
    {
     "data": {
      "text/html": [
       "Synced <strong style=\"color:#cdcd00\">TorchTrainer_e3c5f5d4</strong>: <a href=\"https://wandb.ai/l5-demo/l5-simulation-trials/runs/e3c5f5d4\" target=\"_blank\">https://wandb.ai/l5-demo/l5-simulation-trials/runs/e3c5f5d4</a><br/>Synced 7 W&B file(s), 0 media file(s), 12 artifact file(s) and 1 other file(s)"
      ],
      "text/plain": [
       "<IPython.core.display.HTML object>"
      ]
     },
     "metadata": {},
     "output_type": "display_data"
    },
    {
     "data": {
      "text/html": [
       "Find logs at: <code>./wandb/run-20220907_210607-e3c5f5d4/logs</code>"
      ],
      "text/plain": [
       "<IPython.core.display.HTML object>"
      ]
     },
     "metadata": {},
     "output_type": "display_data"
    },
    {
     "name": "stdout",
     "output_type": "stream",
     "text": [
      "Result for TorchTrainer_e3c5f5d4:\n",
      "  _time_this_iter_s: 9.905043601989746\n",
      "  _timestamp: 1662584829\n",
      "  _training_iteration: 5\n",
      "  avg_loss: 77.84387741088867\n",
      "  date: 2022-09-07_21-07-10\n",
      "  done: true\n",
      "  experiment_id: cecbcbdf243740089cf922d5a64cba6b\n",
      "  experiment_tag: 1_batch_size=12.0000,format_version=4,future_num_frames=50,history_num_frames=5,model_architecture=resnet50,render_ego_history=False,step_time=0.1000,dataset_meta_key=meta_json,disable_traffic_light_faces=False,ego_center=0_25_0_5,filter_agents_threshold=0.5000,map_type=py_satellite,pixel_size=0_5_0_5,raster_size=224_224,satellite_map_key=aerial_map_aerial_map_png,semantic_map_key=semantic_map_semantic_map_pb,set_origin_to_bottom=True,batch_size=12,key=scenes_sample_zarr,num_workers=16,perturb_probability=0.0000,shuffle=True,checkpoint_every_n_steps=10000,eval_every_n_steps=10000,max_num_steps=5,batch_size=12,key=scenes_sample_zarr,num_workers=16,shuffle=False,dataset_key=scenes_sample_zarr,lr=0.0072,max_num_steps=5,num_workers=4,shuffle=True\n",
      "  hostname: anish-l5-kit\n",
      "  iterations_since_restore: 5\n",
      "  loss: 74.56755065917969\n",
      "  node_ip: 10.150.0.3\n",
      "  pid: 25992\n",
      "  should_checkpoint: true\n",
      "  time_since_restore: 60.15558481216431\n",
      "  time_this_iter_s: 9.896054744720459\n",
      "  time_total_s: 60.15558481216431\n",
      "  timestamp: 1662584830\n",
      "  timesteps_since_restore: 0\n",
      "  training_iteration: 5\n",
      "  trial_id: e3c5f5d4\n",
      "  warmup_time: 0.0050389766693115234\n",
      "  \n"
     ]
    },
    {
     "name": "stderr",
     "output_type": "stream",
     "text": [
      "\u001b[34m\u001b[1mwandb\u001b[0m: Adding directory to artifact (/home/jupyter/ray_results/TorchTrainer_2022-09-07_21-06-06/TorchTrainer_e5c1813c_2_batch_size=18.0000,format_version=4,future_num_frames=50,history_num_frames=5,model_architecture=resnet50,_2022-09-07_21-06-10/checkpoint_000002)... "
     ]
    },
    {
     "name": "stdout",
     "output_type": "stream",
     "text": [
      "Result for TorchTrainer_e5c1813c:\n",
      "  _time_this_iter_s: 14.86629867553711\n",
      "  _timestamp: 1662584831\n",
      "  _training_iteration: 3\n",
      "  avg_loss: 125.84798431396484\n",
      "  date: 2022-09-07_21-07-11\n",
      "  done: false\n",
      "  experiment_id: 93bf4a54174d4a8f99d9bc7b268a5c25\n",
      "  hostname: anish-l5-kit\n",
      "  iterations_since_restore: 3\n",
      "  loss: 115.19401550292969\n",
      "  node_ip: 10.150.0.3\n",
      "  pid: 26064\n",
      "  should_checkpoint: true\n",
      "  time_since_restore: 56.94431924819946\n",
      "  time_this_iter_s: 14.892070770263672\n",
      "  time_total_s: 56.94431924819946\n",
      "  timestamp: 1662584831\n",
      "  timesteps_since_restore: 0\n",
      "  training_iteration: 3\n",
      "  trial_id: e5c1813c\n",
      "  warmup_time: 0.006105661392211914\n",
      "  \n"
     ]
    },
    {
     "name": "stderr",
     "output_type": "stream",
     "text": [
      "Done. 1.0s\n"
     ]
    },
    {
     "name": "stdout",
     "output_type": "stream",
     "text": [
      "\u001b[2m\u001b[36m(RayTrainWorker pid=26176)\u001b[0m {'loss': 9.0802001953125, 'avg_loss': 96.65603828430176}\n"
     ]
    },
    {
     "name": "stderr",
     "output_type": "stream",
     "text": [
      "\u001b[34m\u001b[1mwandb\u001b[0m: Adding directory to artifact (/home/jupyter/ray_results/TorchTrainer_2022-09-07_21-06-06/TorchTrainer_e5c1813c_2_batch_size=18.0000,format_version=4,future_num_frames=50,history_num_frames=5,model_architecture=resnet50,_2022-09-07_21-06-10/checkpoint_000003)... "
     ]
    },
    {
     "name": "stdout",
     "output_type": "stream",
     "text": [
      "Result for TorchTrainer_e5c1813c:\n",
      "  _time_this_iter_s: 14.794326543807983\n",
      "  _timestamp: 1662584846\n",
      "  _training_iteration: 4\n",
      "  avg_loss: 96.65603828430176\n",
      "  date: 2022-09-07_21-07-26\n",
      "  done: false\n",
      "  experiment_id: 93bf4a54174d4a8f99d9bc7b268a5c25\n",
      "  hostname: anish-l5-kit\n",
      "  iterations_since_restore: 4\n",
      "  loss: 9.0802001953125\n",
      "  node_ip: 10.150.0.3\n",
      "  pid: 26064\n",
      "  should_checkpoint: true\n",
      "  time_since_restore: 71.72718787193298\n",
      "  time_this_iter_s: 14.78286862373352\n",
      "  time_total_s: 71.72718787193298\n",
      "  timestamp: 1662584846\n",
      "  timesteps_since_restore: 0\n",
      "  training_iteration: 4\n",
      "  trial_id: e5c1813c\n",
      "  warmup_time: 0.006105661392211914\n",
      "  \n"
     ]
    },
    {
     "name": "stderr",
     "output_type": "stream",
     "text": [
      "Done. 1.0s\n",
      "\u001b[2m\u001b[36m(RayTrainWorker pid=27131)\u001b[0m 2022-09-07 21:07:27,485\tINFO config.py:72 -- Setting up process group for: env:// [rank=0, world_size=1]\n",
      "\u001b[2m\u001b[36m(RayTrainWorker pid=27131)\u001b[0m /opt/conda/lib/python3.7/site-packages/l5kit/planning/rasterized/model.py:31: UserWarning: There is no pre-trained model with num_in_channels != 3, first layer will be reset\n",
      "\u001b[2m\u001b[36m(RayTrainWorker pid=27131)\u001b[0m   warnings.warn(\"There is no pre-trained model with num_in_channels != 3, first layer will be reset\")\n",
      "\u001b[2m\u001b[36m(RayTrainWorker pid=27131)\u001b[0m /opt/conda/lib/python3.7/site-packages/torchvision/models/_utils.py:209: UserWarning: The parameter 'pretrained' is deprecated since 0.13 and will be removed in 0.15, please use 'weights' instead.\n",
      "\u001b[2m\u001b[36m(RayTrainWorker pid=27131)\u001b[0m   f\"The parameter '{pretrained_param}' is deprecated since 0.13 and will be removed in 0.15, \"\n",
      "\u001b[2m\u001b[36m(RayTrainWorker pid=27131)\u001b[0m /opt/conda/lib/python3.7/site-packages/torchvision/models/_utils.py:223: UserWarning: Arguments other than a weight enum or `None` for 'weights' are deprecated since 0.13 and will be removed in 0.15. The current behavior is equivalent to passing `weights=ResNet50_Weights.IMAGENET1K_V1`. You can also use `weights=ResNet50_Weights.DEFAULT` to get the most up-to-date weights.\n",
      "\u001b[2m\u001b[36m(RayTrainWorker pid=27131)\u001b[0m   warnings.warn(msg)\n",
      "\u001b[2m\u001b[36m(RayTrainWorker pid=27131)\u001b[0m 2022-09-07 21:07:33,349\tINFO train_loop_utils.py:300 -- Moving model to device: cpu\n"
     ]
    },
    {
     "name": "stdout",
     "output_type": "stream",
     "text": [
      "\u001b[2m\u001b[36m(RayTrainWorker pid=26176)\u001b[0m {'loss': 67.72843170166016, 'avg_loss': 90.87051696777344}\n"
     ]
    },
    {
     "name": "stderr",
     "output_type": "stream",
     "text": [
      "\u001b[34m\u001b[1mwandb\u001b[0m: Adding directory to artifact (/home/jupyter/ray_results/TorchTrainer_2022-09-07_21-06-06/TorchTrainer_e5c1813c_2_batch_size=18.0000,format_version=4,future_num_frames=50,history_num_frames=5,model_architecture=resnet50,_2022-09-07_21-06-10/checkpoint_000004)... "
     ]
    },
    {
     "name": "stdout",
     "output_type": "stream",
     "text": [
      "Result for TorchTrainer_e5c1813c:\n",
      "  _time_this_iter_s: 16.22751212120056\n",
      "  _timestamp: 1662584862\n",
      "  _training_iteration: 5\n",
      "  avg_loss: 90.87051696777344\n",
      "  date: 2022-09-07_21-07-42\n",
      "  done: false\n",
      "  experiment_id: 93bf4a54174d4a8f99d9bc7b268a5c25\n",
      "  hostname: anish-l5-kit\n",
      "  iterations_since_restore: 5\n",
      "  loss: 67.72843170166016\n",
      "  node_ip: 10.150.0.3\n",
      "  pid: 26064\n",
      "  should_checkpoint: true\n",
      "  time_since_restore: 87.8817241191864\n",
      "  time_this_iter_s: 16.154536247253418\n",
      "  time_total_s: 87.8817241191864\n",
      "  timestamp: 1662584862\n",
      "  timesteps_since_restore: 0\n",
      "  training_iteration: 5\n",
      "  trial_id: e5c1813c\n",
      "  warmup_time: 0.006105661392211914\n",
      "  \n"
     ]
    },
    {
     "name": "stderr",
     "output_type": "stream",
     "text": [
      "Done. 1.0s\n",
      "\u001b[34m\u001b[1mwandb\u001b[0m: Adding directory to artifact (/home/jupyter/ray_results/TorchTrainer_2022-09-07_21-06-06/TorchTrainer_e5c1813c_2_batch_size=18.0000,format_version=4,future_num_frames=50,history_num_frames=5,model_architecture=resnet50,_2022-09-07_21-06-10/checkpoint_000004)... Done. 0.3s\n"
     ]
    },
    {
     "data": {
      "text/html": [
       "Waiting for W&B process to finish... <strong style=\"color:green\">(success).</strong>"
      ],
      "text/plain": [
       "<IPython.core.display.HTML object>"
      ]
     },
     "metadata": {},
     "output_type": "display_data"
    },
    {
     "name": "stdout",
     "output_type": "stream",
     "text": [
      "\u001b[2m\u001b[36m(RayTrainWorker pid=27131)\u001b[0m {'loss': 21.008337020874023, 'avg_loss': 21.008337020874023}\n"
     ]
    },
    {
     "data": {
      "application/vnd.jupyter.widget-view+json": {
       "model_id": "7120dd3e2a31493aaf46f621efc2818a",
       "version_major": 2,
       "version_minor": 0
      },
      "text/plain": [
       "VBox(children=(Label(value='456.836 MB of 456.836 MB uploaded (91.307 MB deduped)\\r'), FloatProgress(value=1.0…"
      ]
     },
     "metadata": {},
     "output_type": "display_data"
    },
    {
     "data": {
      "text/html": [
       "W&B sync reduced upload amount by 20.0%             "
      ],
      "text/plain": [
       "<IPython.core.display.HTML object>"
      ]
     },
     "metadata": {},
     "output_type": "display_data"
    },
    {
     "data": {
      "text/html": [
       "<style>\n",
       "    table.wandb td:nth-child(1) { padding: 0 10px; text-align: left ; width: auto;} td:nth-child(2) {text-align: left ; width: 100%}\n",
       "    .wandb-row { display: flex; flex-direction: row; flex-wrap: wrap; justify-content: flex-start; width: 100% }\n",
       "    .wandb-col { display: flex; flex-direction: column; flex-basis: 100%; flex: 1; padding: 10px; }\n",
       "    </style>\n",
       "<div class=\"wandb-row\"><div class=\"wandb-col\"><h3>Run history:</h3><br/><table class=\"wandb\"><tr><td>avg_loss</td><td>█▆▅▂▁</td></tr><tr><td>iterations_since_restore</td><td>▁▃▅▆█</td></tr><tr><td>loss</td><td>█▆▆▁▄</td></tr><tr><td>time_since_restore</td><td>▁▃▄▆█</td></tr><tr><td>time_this_iter_s</td><td>█▁▂▂▂</td></tr><tr><td>time_total_s</td><td>▁▃▄▆█</td></tr><tr><td>timestamp</td><td>▁▃▄▆█</td></tr><tr><td>timesteps_since_restore</td><td>▁▁▁▁▁</td></tr><tr><td>training_iteration</td><td>▁▃▅▆█</td></tr><tr><td>warmup_time</td><td>▁▁▁▁▁</td></tr></table><br/></div><div class=\"wandb-col\"><h3>Run summary:</h3><br/><table class=\"wandb\"><tr><td>avg_loss</td><td>90.87052</td></tr><tr><td>iterations_since_restore</td><td>5</td></tr><tr><td>loss</td><td>67.72843</td></tr><tr><td>time_since_restore</td><td>87.88172</td></tr><tr><td>time_this_iter_s</td><td>16.15454</td></tr><tr><td>time_total_s</td><td>87.88172</td></tr><tr><td>timestamp</td><td>1662584862</td></tr><tr><td>timesteps_since_restore</td><td>0</td></tr><tr><td>training_iteration</td><td>5</td></tr><tr><td>warmup_time</td><td>0.00611</td></tr></table><br/></div></div>"
      ],
      "text/plain": [
       "<IPython.core.display.HTML object>"
      ]
     },
     "metadata": {},
     "output_type": "display_data"
    },
    {
     "data": {
      "text/html": [
       "Synced <strong style=\"color:#cdcd00\">TorchTrainer_e5c1813c</strong>: <a href=\"https://wandb.ai/l5-demo/l5-simulation-trials/runs/e5c1813c\" target=\"_blank\">https://wandb.ai/l5-demo/l5-simulation-trials/runs/e5c1813c</a><br/>Synced 7 W&B file(s), 0 media file(s), 12 artifact file(s) and 1 other file(s)"
      ],
      "text/plain": [
       "<IPython.core.display.HTML object>"
      ]
     },
     "metadata": {},
     "output_type": "display_data"
    },
    {
     "data": {
      "text/html": [
       "Find logs at: <code>./wandb/run-20220907_210610-e5c1813c/logs</code>"
      ],
      "text/plain": [
       "<IPython.core.display.HTML object>"
      ]
     },
     "metadata": {},
     "output_type": "display_data"
    },
    {
     "name": "stdout",
     "output_type": "stream",
     "text": [
      "Result for TorchTrainer_e5c1813c:\n",
      "  _time_this_iter_s: 16.22751212120056\n",
      "  _timestamp: 1662584862\n",
      "  _training_iteration: 5\n",
      "  avg_loss: 90.87051696777344\n",
      "  date: 2022-09-07_21-07-42\n",
      "  done: true\n",
      "  experiment_id: 93bf4a54174d4a8f99d9bc7b268a5c25\n",
      "  experiment_tag: 2_batch_size=18.0000,format_version=4,future_num_frames=50,history_num_frames=5,model_architecture=resnet50,render_ego_history=False,step_time=0.1000,dataset_meta_key=meta_json,disable_traffic_light_faces=False,ego_center=0_25_0_5,filter_agents_threshold=0.5000,map_type=py_semantic,pixel_size=0_5_0_5,raster_size=224_224,satellite_map_key=aerial_map_aerial_map_png,semantic_map_key=semantic_map_semantic_map_pb,set_origin_to_bottom=True,batch_size=12,key=scenes_sample_zarr,num_workers=16,perturb_probability=0.0000,shuffle=True,checkpoint_every_n_steps=10000,eval_every_n_steps=10000,max_num_steps=5,batch_size=12,key=scenes_sample_zarr,num_workers=16,shuffle=False,dataset_key=scenes_sample_zarr,lr=0.0006,max_num_steps=5,num_workers=4,shuffle=True\n",
      "  hostname: anish-l5-kit\n",
      "  iterations_since_restore: 5\n",
      "  loss: 67.72843170166016\n",
      "  node_ip: 10.150.0.3\n",
      "  pid: 26064\n",
      "  should_checkpoint: true\n",
      "  time_since_restore: 87.8817241191864\n",
      "  time_this_iter_s: 16.154536247253418\n",
      "  time_total_s: 87.8817241191864\n",
      "  timestamp: 1662584862\n",
      "  timesteps_since_restore: 0\n",
      "  training_iteration: 5\n",
      "  trial_id: e5c1813c\n",
      "  warmup_time: 0.006105661392211914\n",
      "  \n"
     ]
    },
    {
     "name": "stderr",
     "output_type": "stream",
     "text": [
      "\u001b[34m\u001b[1mwandb\u001b[0m: Adding directory to artifact (/home/jupyter/ray_results/TorchTrainer_2022-09-07_21-06-06/TorchTrainer_e5c9abaa_3_batch_size=12.0000,format_version=4,future_num_frames=50,history_num_frames=5,model_architecture=resnet50,_2022-09-07_21-07-19/checkpoint_000000)... "
     ]
    },
    {
     "name": "stdout",
     "output_type": "stream",
     "text": [
      "Result for TorchTrainer_e5c9abaa:\n",
      "  _time_this_iter_s: 16.391650676727295\n",
      "  _timestamp: 1662584864\n",
      "  _training_iteration: 1\n",
      "  avg_loss: 21.008337020874023\n",
      "  date: 2022-09-07_21-07-44\n",
      "  done: false\n",
      "  experiment_id: 5dac44765c4746559210b4cfdc863abd\n",
      "  hostname: anish-l5-kit\n",
      "  iterations_since_restore: 1\n",
      "  loss: 21.008337020874023\n",
      "  node_ip: 10.150.0.3\n",
      "  pid: 27061\n",
      "  should_checkpoint: true\n",
      "  time_since_restore: 20.639700412750244\n",
      "  time_this_iter_s: 20.639700412750244\n",
      "  time_total_s: 20.639700412750244\n",
      "  timestamp: 1662584864\n",
      "  timesteps_since_restore: 0\n",
      "  training_iteration: 1\n",
      "  trial_id: e5c9abaa\n",
      "  warmup_time: 0.006452322006225586\n",
      "  \n",
      "\u001b[2m\u001b[36m(RayTrainWorker pid=27131)\u001b[0m {'loss': 50.585506439208984, 'avg_loss': 35.796921730041504}\n"
     ]
    },
    {
     "name": "stderr",
     "output_type": "stream",
     "text": [
      "Done. 1.0s\n",
      "\u001b[34m\u001b[1mwandb\u001b[0m: Adding directory to artifact (/home/jupyter/ray_results/TorchTrainer_2022-09-07_21-06-06/TorchTrainer_e5c9abaa_3_batch_size=12.0000,format_version=4,future_num_frames=50,history_num_frames=5,model_architecture=resnet50,_2022-09-07_21-07-19/checkpoint_000001)... Done. 1.0s\n",
      "\u001b[2m\u001b[36m(RayTrainWorker pid=27474)\u001b[0m 2022-09-07 21:07:59,915\tINFO config.py:72 -- Setting up process group for: env:// [rank=0, world_size=1]\n"
     ]
    },
    {
     "name": "stdout",
     "output_type": "stream",
     "text": [
      "\u001b[2m\u001b[36m(RayTrainWorker pid=27131)\u001b[0m {'loss': 55.19760513305664, 'avg_loss': 42.26381619771322}\n"
     ]
    },
    {
     "name": "stderr",
     "output_type": "stream",
     "text": [
      "\u001b[34m\u001b[1mwandb\u001b[0m: Adding directory to artifact (/home/jupyter/ray_results/TorchTrainer_2022-09-07_21-06-06/TorchTrainer_e5c9abaa_3_batch_size=12.0000,format_version=4,future_num_frames=50,history_num_frames=5,model_architecture=resnet50,_2022-09-07_21-07-19/checkpoint_000002)... "
     ]
    },
    {
     "name": "stdout",
     "output_type": "stream",
     "text": [
      "Result for TorchTrainer_e5c9abaa:\n",
      "  _time_this_iter_s: 12.033479452133179\n",
      "  _timestamp: 1662584884\n",
      "  _training_iteration: 3\n",
      "  avg_loss: 42.26381619771322\n",
      "  date: 2022-09-07_21-08-04\n",
      "  done: false\n",
      "  experiment_id: 5dac44765c4746559210b4cfdc863abd\n",
      "  hostname: anish-l5-kit\n",
      "  iterations_since_restore: 3\n",
      "  loss: 55.19760513305664\n",
      "  node_ip: 10.150.0.3\n",
      "  pid: 27061\n",
      "  should_checkpoint: true\n",
      "  time_since_restore: 40.78971290588379\n",
      "  time_this_iter_s: 12.100828647613525\n",
      "  time_total_s: 40.78971290588379\n",
      "  timestamp: 1662584884\n",
      "  timesteps_since_restore: 0\n",
      "  training_iteration: 3\n",
      "  trial_id: e5c9abaa\n",
      "  warmup_time: 0.006452322006225586\n",
      "  \n"
     ]
    },
    {
     "name": "stderr",
     "output_type": "stream",
     "text": [
      "Done. 1.0s\n",
      "\u001b[2m\u001b[36m(RayTrainWorker pid=27474)\u001b[0m /opt/conda/lib/python3.7/site-packages/l5kit/planning/rasterized/model.py:31: UserWarning: There is no pre-trained model with num_in_channels != 3, first layer will be reset\n",
      "\u001b[2m\u001b[36m(RayTrainWorker pid=27474)\u001b[0m   warnings.warn(\"There is no pre-trained model with num_in_channels != 3, first layer will be reset\")\n",
      "\u001b[2m\u001b[36m(RayTrainWorker pid=27474)\u001b[0m /opt/conda/lib/python3.7/site-packages/torchvision/models/_utils.py:209: UserWarning: The parameter 'pretrained' is deprecated since 0.13 and will be removed in 0.15, please use 'weights' instead.\n",
      "\u001b[2m\u001b[36m(RayTrainWorker pid=27474)\u001b[0m   f\"The parameter '{pretrained_param}' is deprecated since 0.13 and will be removed in 0.15, \"\n",
      "\u001b[2m\u001b[36m(RayTrainWorker pid=27474)\u001b[0m /opt/conda/lib/python3.7/site-packages/torchvision/models/_utils.py:223: UserWarning: Arguments other than a weight enum or `None` for 'weights' are deprecated since 0.13 and will be removed in 0.15. The current behavior is equivalent to passing `weights=ResNet50_Weights.IMAGENET1K_V1`. You can also use `weights=ResNet50_Weights.DEFAULT` to get the most up-to-date weights.\n",
      "\u001b[2m\u001b[36m(RayTrainWorker pid=27474)\u001b[0m   warnings.warn(msg)\n",
      "\u001b[2m\u001b[36m(RayTrainWorker pid=27474)\u001b[0m 2022-09-07 21:08:08,084\tINFO train_loop_utils.py:300 -- Moving model to device: cpu\n"
     ]
    },
    {
     "name": "stdout",
     "output_type": "stream",
     "text": [
      "\u001b[2m\u001b[36m(RayTrainWorker pid=27474)\u001b[0m {'loss': 198.983642578125, 'avg_loss': 198.983642578125}\n"
     ]
    },
    {
     "name": "stderr",
     "output_type": "stream",
     "text": [
      "\u001b[34m\u001b[1mwandb\u001b[0m: Adding directory to artifact (/home/jupyter/ray_results/TorchTrainer_2022-09-07_21-06-06/TorchTrainer_0f7cd6a2_4_batch_size=6.0000,format_version=4,future_num_frames=50,history_num_frames=5,model_architecture=resnet50,r_2022-09-07_21-07-52/checkpoint_000000)... "
     ]
    },
    {
     "name": "stdout",
     "output_type": "stream",
     "text": [
      "Result for TorchTrainer_0f7cd6a2:\n",
      "  _time_this_iter_s: 12.727861881256104\n",
      "  _timestamp: 1662584893\n",
      "  _training_iteration: 1\n",
      "  avg_loss: 198.983642578125\n",
      "  date: 2022-09-07_21-08-13\n",
      "  done: false\n",
      "  experiment_id: f9ca05c00cdf4a049934ae1761ca4c0c\n",
      "  hostname: anish-l5-kit\n",
      "  iterations_since_restore: 1\n",
      "  loss: 198.983642578125\n",
      "  node_ip: 10.150.0.3\n",
      "  pid: 27382\n",
      "  should_checkpoint: true\n",
      "  time_since_restore: 17.007647275924683\n",
      "  time_this_iter_s: 17.007647275924683\n",
      "  time_total_s: 17.007647275924683\n",
      "  timestamp: 1662584893\n",
      "  timesteps_since_restore: 0\n",
      "  training_iteration: 1\n",
      "  trial_id: 0f7cd6a2\n",
      "  warmup_time: 0.007363080978393555\n",
      "  \n",
      "\u001b[2m\u001b[36m(RayTrainWorker pid=27131)\u001b[0m {'loss': 34.7153205871582, 'avg_loss': 40.37669229507446}\n"
     ]
    },
    {
     "name": "stderr",
     "output_type": "stream",
     "text": [
      "\u001b[34m\u001b[1mwandb\u001b[0m: Adding directory to artifact (/home/jupyter/ray_results/TorchTrainer_2022-09-07_21-06-06/TorchTrainer_e5c9abaa_3_batch_size=12.0000,format_version=4,future_num_frames=50,history_num_frames=5,model_architecture=resnet50,_2022-09-07_21-07-19/checkpoint_000003)... Done. 1.0s\n"
     ]
    },
    {
     "name": "stdout",
     "output_type": "stream",
     "text": [
      "Result for TorchTrainer_e5c9abaa:\n",
      "  _time_this_iter_s: 9.700194120407104\n",
      "  _timestamp: 1662584894\n",
      "  _training_iteration: 4\n",
      "  avg_loss: 40.37669229507446\n",
      "  date: 2022-09-07_21-08-14\n",
      "  done: false\n",
      "  experiment_id: 5dac44765c4746559210b4cfdc863abd\n",
      "  hostname: anish-l5-kit\n",
      "  iterations_since_restore: 4\n",
      "  loss: 34.7153205871582\n",
      "  node_ip: 10.150.0.3\n",
      "  pid: 27061\n",
      "  should_checkpoint: true\n",
      "  time_since_restore: 50.376463651657104\n",
      "  time_this_iter_s: 9.586750745773315\n",
      "  time_total_s: 50.376463651657104\n",
      "  timestamp: 1662584894\n",
      "  timesteps_since_restore: 0\n",
      "  training_iteration: 4\n",
      "  trial_id: e5c9abaa\n",
      "  warmup_time: 0.006452322006225586\n",
      "  \n"
     ]
    },
    {
     "name": "stderr",
     "output_type": "stream",
     "text": [
      "Done. 1.0s\n"
     ]
    },
    {
     "name": "stdout",
     "output_type": "stream",
     "text": [
      "\u001b[2m\u001b[36m(RayTrainWorker pid=27474)\u001b[0m {'loss': 75.64552307128906, 'avg_loss': 137.31458282470703}\n",
      "Result for TorchTrainer_0f7cd6a2:\n",
      "  _time_this_iter_s: 5.254258394241333\n",
      "  _timestamp: 1662584898\n",
      "  _training_iteration: 2\n",
      "  avg_loss: 137.31458282470703\n",
      "  date: 2022-09-07_21-08-18\n",
      "  done: false\n",
      "  experiment_id: f9ca05c00cdf4a049934ae1761ca4c0c\n",
      "  hostname: anish-l5-kit\n",
      "  iterations_since_restore: 2\n",
      "  loss: 75.64552307128906\n",
      "  node_ip: 10.150.0.3\n",
      "  pid: 27382\n",
      "  should_checkpoint: true\n",
      "  time_since_restore: 22.22438669204712\n",
      "  time_this_iter_s: 5.2167394161224365\n",
      "  time_total_s: 22.22438669204712\n",
      "  timestamp: 1662584898\n",
      "  timesteps_since_restore: 0\n",
      "  training_iteration: 2\n",
      "  trial_id: 0f7cd6a2\n",
      "  warmup_time: 0.007363080978393555\n",
      "  \n"
     ]
    },
    {
     "name": "stderr",
     "output_type": "stream",
     "text": [
      "\u001b[34m\u001b[1mwandb\u001b[0m: Adding directory to artifact (/home/jupyter/ray_results/TorchTrainer_2022-09-07_21-06-06/TorchTrainer_0f7cd6a2_4_batch_size=6.0000,format_version=4,future_num_frames=50,history_num_frames=5,model_architecture=resnet50,r_2022-09-07_21-07-52/checkpoint_000001)... Done. 1.0s\n"
     ]
    },
    {
     "name": "stdout",
     "output_type": "stream",
     "text": [
      "\u001b[2m\u001b[36m(RayTrainWorker pid=27474)\u001b[0m {'loss': 140.78103637695312, 'avg_loss': 138.4700673421224}\n",
      "\u001b[2m\u001b[36m(RayTrainWorker pid=27131)\u001b[0m {'loss': 17.969776153564453, 'avg_loss': 35.89530906677246}\n"
     ]
    },
    {
     "name": "stderr",
     "output_type": "stream",
     "text": [
      "\u001b[34m\u001b[1mwandb\u001b[0m: Adding directory to artifact (/home/jupyter/ray_results/TorchTrainer_2022-09-07_21-06-06/TorchTrainer_0f7cd6a2_4_batch_size=6.0000,format_version=4,future_num_frames=50,history_num_frames=5,model_architecture=resnet50,r_2022-09-07_21-07-52/checkpoint_000002)... "
     ]
    },
    {
     "name": "stdout",
     "output_type": "stream",
     "text": [
      "Result for TorchTrainer_e5c9abaa:\n",
      "  _time_this_iter_s: 9.094890832901001\n",
      "  _timestamp: 1662584903\n",
      "  _training_iteration: 5\n",
      "  avg_loss: 35.89530906677246\n",
      "  date: 2022-09-07_21-08-23\n",
      "  done: false\n",
      "  experiment_id: 5dac44765c4746559210b4cfdc863abd\n",
      "  hostname: anish-l5-kit\n",
      "  iterations_since_restore: 5\n",
      "  loss: 17.969776153564453\n",
      "  node_ip: 10.150.0.3\n",
      "  pid: 27061\n",
      "  should_checkpoint: true\n",
      "  time_since_restore: 59.62936210632324\n",
      "  time_this_iter_s: 9.252898454666138\n",
      "  time_total_s: 59.62936210632324\n",
      "  timestamp: 1662584903\n",
      "  timesteps_since_restore: 0\n",
      "  training_iteration: 5\n",
      "  trial_id: e5c9abaa\n",
      "  warmup_time: 0.006452322006225586\n",
      "  \n"
     ]
    },
    {
     "name": "stderr",
     "output_type": "stream",
     "text": [
      "\u001b[34m\u001b[1mwandb\u001b[0m: Adding directory to artifact (/home/jupyter/ray_results/TorchTrainer_2022-09-07_21-06-06/TorchTrainer_e5c9abaa_3_batch_size=12.0000,format_version=4,future_num_frames=50,history_num_frames=5,model_architecture=resnet50,_2022-09-07_21-07-19/checkpoint_000004)... Done. 2.3s\n",
      "Done. 2.6s\n",
      "\u001b[34m\u001b[1mwandb\u001b[0m: Adding directory to artifact (/home/jupyter/ray_results/TorchTrainer_2022-09-07_21-06-06/TorchTrainer_e5c9abaa_3_batch_size=12.0000,format_version=4,future_num_frames=50,history_num_frames=5,model_architecture=resnet50,_2022-09-07_21-07-19/checkpoint_000004)... Done. 0.3s\n"
     ]
    },
    {
     "data": {
      "text/html": [
       "Waiting for W&B process to finish... <strong style=\"color:green\">(success).</strong>"
      ],
      "text/plain": [
       "<IPython.core.display.HTML object>"
      ]
     },
     "metadata": {},
     "output_type": "display_data"
    },
    {
     "name": "stdout",
     "output_type": "stream",
     "text": [
      "\u001b[2m\u001b[36m(RayTrainWorker pid=27474)\u001b[0m {'loss': 73.59223937988281, 'avg_loss': 122.2506103515625}\n"
     ]
    },
    {
     "data": {
      "application/vnd.jupyter.widget-view+json": {
       "model_id": "6e97d647a1a841328855996d5d840f4f",
       "version_major": 2,
       "version_minor": 0
      },
      "text/plain": [
       "VBox(children=(Label(value='456.836 MB of 456.836 MB uploaded (91.307 MB deduped)\\r'), FloatProgress(value=1.0…"
      ]
     },
     "metadata": {},
     "output_type": "display_data"
    },
    {
     "data": {
      "text/html": [
       "W&B sync reduced upload amount by 20.0%             "
      ],
      "text/plain": [
       "<IPython.core.display.HTML object>"
      ]
     },
     "metadata": {},
     "output_type": "display_data"
    },
    {
     "name": "stdout",
     "output_type": "stream",
     "text": [
      "\u001b[2m\u001b[36m(RayTrainWorker pid=27474)\u001b[0m {'loss': 5.845992088317871, 'avg_loss': 98.96968669891358}\n"
     ]
    },
    {
     "data": {
      "text/html": [
       "<style>\n",
       "    table.wandb td:nth-child(1) { padding: 0 10px; text-align: left ; width: auto;} td:nth-child(2) {text-align: left ; width: 100%}\n",
       "    .wandb-row { display: flex; flex-direction: row; flex-wrap: wrap; justify-content: flex-start; width: 100% }\n",
       "    .wandb-col { display: flex; flex-direction: column; flex-basis: 100%; flex: 1; padding: 10px; }\n",
       "    </style>\n",
       "<div class=\"wandb-row\"><div class=\"wandb-col\"><h3>Run history:</h3><br/><table class=\"wandb\"><tr><td>avg_loss</td><td>▁▆█▇▆</td></tr><tr><td>iterations_since_restore</td><td>▁▃▅▆█</td></tr><tr><td>loss</td><td>▂▇█▄▁</td></tr><tr><td>time_since_restore</td><td>▁▂▅▆█</td></tr><tr><td>time_this_iter_s</td><td>█▁▃▂▂</td></tr><tr><td>time_total_s</td><td>▁▂▅▆█</td></tr><tr><td>timestamp</td><td>▁▂▅▆█</td></tr><tr><td>timesteps_since_restore</td><td>▁▁▁▁▁</td></tr><tr><td>training_iteration</td><td>▁▃▅▆█</td></tr><tr><td>warmup_time</td><td>▁▁▁▁▁</td></tr></table><br/></div><div class=\"wandb-col\"><h3>Run summary:</h3><br/><table class=\"wandb\"><tr><td>avg_loss</td><td>35.89531</td></tr><tr><td>iterations_since_restore</td><td>5</td></tr><tr><td>loss</td><td>17.96978</td></tr><tr><td>time_since_restore</td><td>59.62936</td></tr><tr><td>time_this_iter_s</td><td>9.2529</td></tr><tr><td>time_total_s</td><td>59.62936</td></tr><tr><td>timestamp</td><td>1662584903</td></tr><tr><td>timesteps_since_restore</td><td>0</td></tr><tr><td>training_iteration</td><td>5</td></tr><tr><td>warmup_time</td><td>0.00645</td></tr></table><br/></div></div>"
      ],
      "text/plain": [
       "<IPython.core.display.HTML object>"
      ]
     },
     "metadata": {},
     "output_type": "display_data"
    },
    {
     "data": {
      "text/html": [
       "Synced <strong style=\"color:#cdcd00\">TorchTrainer_e5c9abaa</strong>: <a href=\"https://wandb.ai/l5-demo/l5-simulation-trials/runs/e5c9abaa\" target=\"_blank\">https://wandb.ai/l5-demo/l5-simulation-trials/runs/e5c9abaa</a><br/>Synced 7 W&B file(s), 0 media file(s), 12 artifact file(s) and 1 other file(s)"
      ],
      "text/plain": [
       "<IPython.core.display.HTML object>"
      ]
     },
     "metadata": {},
     "output_type": "display_data"
    },
    {
     "data": {
      "text/html": [
       "Find logs at: <code>./wandb/run-20220907_210720-e5c9abaa/logs</code>"
      ],
      "text/plain": [
       "<IPython.core.display.HTML object>"
      ]
     },
     "metadata": {},
     "output_type": "display_data"
    },
    {
     "name": "stdout",
     "output_type": "stream",
     "text": [
      "Result for TorchTrainer_e5c9abaa:\n",
      "  _time_this_iter_s: 9.094890832901001\n",
      "  _timestamp: 1662584903\n",
      "  _training_iteration: 5\n",
      "  avg_loss: 35.89530906677246\n",
      "  date: 2022-09-07_21-08-23\n",
      "  done: true\n",
      "  experiment_id: 5dac44765c4746559210b4cfdc863abd\n",
      "  experiment_tag: 3_batch_size=12.0000,format_version=4,future_num_frames=50,history_num_frames=5,model_architecture=resnet50,render_ego_history=False,step_time=0.1000,dataset_meta_key=meta_json,disable_traffic_light_faces=False,ego_center=0_25_0_5,filter_agents_threshold=0.5000,map_type=py_semantic,pixel_size=0_5_0_5,raster_size=224_224,satellite_map_key=aerial_map_aerial_map_png,semantic_map_key=semantic_map_semantic_map_pb,set_origin_to_bottom=True,batch_size=12,key=scenes_sample_zarr,num_workers=16,perturb_probability=0.0000,shuffle=True,checkpoint_every_n_steps=10000,eval_every_n_steps=10000,max_num_steps=5,batch_size=12,key=scenes_sample_zarr,num_workers=16,shuffle=False,dataset_key=scenes_sample_zarr,lr=0.0002,max_num_steps=5,num_workers=4,shuffle=True\n",
      "  hostname: anish-l5-kit\n",
      "  iterations_since_restore: 5\n",
      "  loss: 17.969776153564453\n",
      "  node_ip: 10.150.0.3\n",
      "  pid: 27061\n",
      "  should_checkpoint: true\n",
      "  time_since_restore: 59.62936210632324\n",
      "  time_this_iter_s: 9.252898454666138\n",
      "  time_total_s: 59.62936210632324\n",
      "  timestamp: 1662584903\n",
      "  timesteps_since_restore: 0\n",
      "  training_iteration: 5\n",
      "  trial_id: e5c9abaa\n",
      "  warmup_time: 0.006452322006225586\n",
      "  \n"
     ]
    },
    {
     "name": "stderr",
     "output_type": "stream",
     "text": [
      "\u001b[34m\u001b[1mwandb\u001b[0m: Adding directory to artifact (/home/jupyter/ray_results/TorchTrainer_2022-09-07_21-06-06/TorchTrainer_0f7cd6a2_4_batch_size=6.0000,format_version=4,future_num_frames=50,history_num_frames=5,model_architecture=resnet50,r_2022-09-07_21-07-52/checkpoint_000003)... "
     ]
    },
    {
     "name": "stdout",
     "output_type": "stream",
     "text": [
      "Result for TorchTrainer_0f7cd6a2:\n",
      "  _time_this_iter_s: 5.0469419956207275\n",
      "  _timestamp: 1662584908\n",
      "  _training_iteration: 4\n",
      "  avg_loss: 122.2506103515625\n",
      "  date: 2022-09-07_21-08-28\n",
      "  done: false\n",
      "  experiment_id: f9ca05c00cdf4a049934ae1761ca4c0c\n",
      "  hostname: anish-l5-kit\n",
      "  iterations_since_restore: 4\n",
      "  loss: 73.59223937988281\n",
      "  node_ip: 10.150.0.3\n",
      "  pid: 27382\n",
      "  should_checkpoint: true\n",
      "  time_since_restore: 31.945348978042603\n",
      "  time_this_iter_s: 4.948726415634155\n",
      "  time_total_s: 31.945348978042603\n",
      "  timestamp: 1662584908\n",
      "  timesteps_since_restore: 0\n",
      "  training_iteration: 4\n",
      "  trial_id: 0f7cd6a2\n",
      "  warmup_time: 0.007363080978393555\n",
      "  \n"
     ]
    },
    {
     "name": "stderr",
     "output_type": "stream",
     "text": [
      "Done. 1.0s\n",
      "\u001b[34m\u001b[1mwandb\u001b[0m: Adding directory to artifact (/home/jupyter/ray_results/TorchTrainer_2022-09-07_21-06-06/TorchTrainer_0f7cd6a2_4_batch_size=6.0000,format_version=4,future_num_frames=50,history_num_frames=5,model_architecture=resnet50,r_2022-09-07_21-07-52/checkpoint_000004)... Done. 1.7s\n",
      "\u001b[34m\u001b[1mwandb\u001b[0m: Adding directory to artifact (/home/jupyter/ray_results/TorchTrainer_2022-09-07_21-06-06/TorchTrainer_0f7cd6a2_4_batch_size=6.0000,format_version=4,future_num_frames=50,history_num_frames=5,model_architecture=resnet50,r_2022-09-07_21-07-52/checkpoint_000004)... Done. 0.2s\n"
     ]
    },
    {
     "data": {
      "text/html": [
       "Waiting for W&B process to finish... <strong style=\"color:green\">(success).</strong>"
      ],
      "text/plain": [
       "<IPython.core.display.HTML object>"
      ]
     },
     "metadata": {},
     "output_type": "display_data"
    },
    {
     "data": {
      "application/vnd.jupyter.widget-view+json": {
       "model_id": "c36fc108cc3a42738da8b970a7e4392c",
       "version_major": 2,
       "version_minor": 0
      },
      "text/plain": [
       "VBox(children=(Label(value='456.835 MB of 456.835 MB uploaded (0.000 MB deduped)\\r'), FloatProgress(value=1.0,…"
      ]
     },
     "metadata": {},
     "output_type": "display_data"
    },
    {
     "data": {
      "text/html": [
       "<style>\n",
       "    table.wandb td:nth-child(1) { padding: 0 10px; text-align: left ; width: auto;} td:nth-child(2) {text-align: left ; width: 100%}\n",
       "    .wandb-row { display: flex; flex-direction: row; flex-wrap: wrap; justify-content: flex-start; width: 100% }\n",
       "    .wandb-col { display: flex; flex-direction: column; flex-basis: 100%; flex: 1; padding: 10px; }\n",
       "    </style>\n",
       "<div class=\"wandb-row\"><div class=\"wandb-col\"><h3>Run history:</h3><br/><table class=\"wandb\"><tr><td>avg_loss</td><td>█▄▄▃▁</td></tr><tr><td>iterations_since_restore</td><td>▁▃▅▆█</td></tr><tr><td>loss</td><td>█▄▆▃▁</td></tr><tr><td>time_since_restore</td><td>▁▃▄▆█</td></tr><tr><td>time_this_iter_s</td><td>█▁▁▁▁</td></tr><tr><td>time_total_s</td><td>▁▃▄▆█</td></tr><tr><td>timestamp</td><td>▁▃▄▆█</td></tr><tr><td>timesteps_since_restore</td><td>▁▁▁▁▁</td></tr><tr><td>training_iteration</td><td>▁▃▅▆█</td></tr><tr><td>warmup_time</td><td>▁▁▁▁▁</td></tr></table><br/></div><div class=\"wandb-col\"><h3>Run summary:</h3><br/><table class=\"wandb\"><tr><td>avg_loss</td><td>98.96969</td></tr><tr><td>iterations_since_restore</td><td>5</td></tr><tr><td>loss</td><td>5.84599</td></tr><tr><td>time_since_restore</td><td>37.51575</td></tr><tr><td>time_this_iter_s</td><td>5.5704</td></tr><tr><td>time_total_s</td><td>37.51575</td></tr><tr><td>timestamp</td><td>1662584914</td></tr><tr><td>timesteps_since_restore</td><td>0</td></tr><tr><td>training_iteration</td><td>5</td></tr><tr><td>warmup_time</td><td>0.00736</td></tr></table><br/></div></div>"
      ],
      "text/plain": [
       "<IPython.core.display.HTML object>"
      ]
     },
     "metadata": {},
     "output_type": "display_data"
    },
    {
     "data": {
      "text/html": [
       "Synced <strong style=\"color:#cdcd00\">TorchTrainer_0f7cd6a2</strong>: <a href=\"https://wandb.ai/l5-demo/l5-simulation-trials/runs/0f7cd6a2\" target=\"_blank\">https://wandb.ai/l5-demo/l5-simulation-trials/runs/0f7cd6a2</a><br/>Synced 7 W&B file(s), 0 media file(s), 11 artifact file(s) and 1 other file(s)"
      ],
      "text/plain": [
       "<IPython.core.display.HTML object>"
      ]
     },
     "metadata": {},
     "output_type": "display_data"
    },
    {
     "data": {
      "text/html": [
       "Find logs at: <code>./wandb/run-20220907_210755-0f7cd6a2/logs</code>"
      ],
      "text/plain": [
       "<IPython.core.display.HTML object>"
      ]
     },
     "metadata": {},
     "output_type": "display_data"
    },
    {
     "name": "stdout",
     "output_type": "stream",
     "text": [
      "Result for TorchTrainer_0f7cd6a2:\n",
      "  _time_this_iter_s: 5.566701412200928\n",
      "  _timestamp: 1662584913\n",
      "  _training_iteration: 5\n",
      "  avg_loss: 98.96968669891358\n",
      "  date: 2022-09-07_21-08-34\n",
      "  done: true\n",
      "  experiment_id: f9ca05c00cdf4a049934ae1761ca4c0c\n",
      "  experiment_tag: 4_batch_size=6.0000,format_version=4,future_num_frames=50,history_num_frames=5,model_architecture=resnet50,render_ego_history=False,step_time=0.1000,dataset_meta_key=meta_json,disable_traffic_light_faces=False,ego_center=0_25_0_5,filter_agents_threshold=0.5000,map_type=py_satellite,pixel_size=0_5_0_5,raster_size=224_224,satellite_map_key=aerial_map_aerial_map_png,semantic_map_key=semantic_map_semantic_map_pb,set_origin_to_bottom=True,batch_size=12,key=scenes_sample_zarr,num_workers=16,perturb_probability=0.0000,shuffle=True,checkpoint_every_n_steps=10000,eval_every_n_steps=10000,max_num_steps=5,batch_size=12,key=scenes_sample_zarr,num_workers=16,shuffle=False,dataset_key=scenes_sample_zarr,lr=0.0016,max_num_steps=5,num_workers=4,shuffle=True\n",
      "  hostname: anish-l5-kit\n",
      "  iterations_since_restore: 5\n",
      "  loss: 5.845992088317871\n",
      "  node_ip: 10.150.0.3\n",
      "  pid: 27382\n",
      "  should_checkpoint: true\n",
      "  time_since_restore: 37.515750885009766\n",
      "  time_this_iter_s: 5.570401906967163\n",
      "  time_total_s: 37.515750885009766\n",
      "  timestamp: 1662584914\n",
      "  timesteps_since_restore: 0\n",
      "  training_iteration: 5\n",
      "  trial_id: 0f7cd6a2\n",
      "  warmup_time: 0.007363080978393555\n",
      "  \n"
     ]
    },
    {
     "name": "stderr",
     "output_type": "stream",
     "text": [
      "\u001b[2m\u001b[36m(RayTrainWorker pid=28466)\u001b[0m 2022-09-07 21:08:51,681\tINFO config.py:72 -- Setting up process group for: env:// [rank=0, world_size=1]\n",
      "\u001b[2m\u001b[36m(RayTrainWorker pid=28474)\u001b[0m 2022-09-07 21:08:52,651\tINFO config.py:72 -- Setting up process group for: env:// [rank=0, world_size=1]\n",
      "\u001b[2m\u001b[36m(RayTrainWorker pid=28466)\u001b[0m /opt/conda/lib/python3.7/site-packages/l5kit/planning/rasterized/model.py:31: UserWarning: There is no pre-trained model with num_in_channels != 3, first layer will be reset\n",
      "\u001b[2m\u001b[36m(RayTrainWorker pid=28466)\u001b[0m   warnings.warn(\"There is no pre-trained model with num_in_channels != 3, first layer will be reset\")\n",
      "\u001b[2m\u001b[36m(RayTrainWorker pid=28466)\u001b[0m /opt/conda/lib/python3.7/site-packages/torchvision/models/_utils.py:209: UserWarning: The parameter 'pretrained' is deprecated since 0.13 and will be removed in 0.15, please use 'weights' instead.\n",
      "\u001b[2m\u001b[36m(RayTrainWorker pid=28466)\u001b[0m   f\"The parameter '{pretrained_param}' is deprecated since 0.13 and will be removed in 0.15, \"\n",
      "\u001b[2m\u001b[36m(RayTrainWorker pid=28466)\u001b[0m /opt/conda/lib/python3.7/site-packages/torchvision/models/_utils.py:223: UserWarning: Arguments other than a weight enum or `None` for 'weights' are deprecated since 0.13 and will be removed in 0.15. The current behavior is equivalent to passing `weights=ResNet50_Weights.IMAGENET1K_V1`. You can also use `weights=ResNet50_Weights.DEFAULT` to get the most up-to-date weights.\n",
      "\u001b[2m\u001b[36m(RayTrainWorker pid=28466)\u001b[0m   warnings.warn(msg)\n",
      "\u001b[2m\u001b[36m(RayTrainWorker pid=28474)\u001b[0m /opt/conda/lib/python3.7/site-packages/l5kit/planning/rasterized/model.py:31: UserWarning: There is no pre-trained model with num_in_channels != 3, first layer will be reset\n",
      "\u001b[2m\u001b[36m(RayTrainWorker pid=28474)\u001b[0m   warnings.warn(\"There is no pre-trained model with num_in_channels != 3, first layer will be reset\")\n",
      "\u001b[2m\u001b[36m(RayTrainWorker pid=28474)\u001b[0m /opt/conda/lib/python3.7/site-packages/torchvision/models/_utils.py:209: UserWarning: The parameter 'pretrained' is deprecated since 0.13 and will be removed in 0.15, please use 'weights' instead.\n",
      "\u001b[2m\u001b[36m(RayTrainWorker pid=28474)\u001b[0m   f\"The parameter '{pretrained_param}' is deprecated since 0.13 and will be removed in 0.15, \"\n",
      "\u001b[2m\u001b[36m(RayTrainWorker pid=28474)\u001b[0m /opt/conda/lib/python3.7/site-packages/torchvision/models/_utils.py:223: UserWarning: Arguments other than a weight enum or `None` for 'weights' are deprecated since 0.13 and will be removed in 0.15. The current behavior is equivalent to passing `weights=ResNet50_Weights.IMAGENET1K_V1`. You can also use `weights=ResNet50_Weights.DEFAULT` to get the most up-to-date weights.\n",
      "\u001b[2m\u001b[36m(RayTrainWorker pid=28474)\u001b[0m   warnings.warn(msg)\n",
      "\u001b[2m\u001b[36m(RayTrainWorker pid=28466)\u001b[0m 2022-09-07 21:08:59,509\tINFO train_loop_utils.py:300 -- Moving model to device: cpu\n",
      "\u001b[2m\u001b[36m(RayTrainWorker pid=28474)\u001b[0m 2022-09-07 21:08:59,635\tINFO train_loop_utils.py:300 -- Moving model to device: cpu\n"
     ]
    },
    {
     "name": "stdout",
     "output_type": "stream",
     "text": [
      "\u001b[2m\u001b[36m(RayTrainWorker pid=28466)\u001b[0m {'loss': 47.281429290771484, 'avg_loss': 47.281429290771484}\n"
     ]
    },
    {
     "name": "stderr",
     "output_type": "stream",
     "text": [
      "\u001b[34m\u001b[1mwandb\u001b[0m: Adding directory to artifact (/home/jupyter/ray_results/TorchTrainer_2022-09-07_21-06-06/TorchTrainer_2328e218_5_batch_size=6.0000,format_version=4,future_num_frames=50,history_num_frames=5,model_architecture=resnet50,r_2022-09-07_21-08-43/checkpoint_000000)... "
     ]
    },
    {
     "name": "stdout",
     "output_type": "stream",
     "text": [
      "Result for TorchTrainer_2328e218:\n",
      "  _time_this_iter_s: 16.315255880355835\n",
      "  _timestamp: 1662584948\n",
      "  _training_iteration: 1\n",
      "  avg_loss: 47.281429290771484\n",
      "  date: 2022-09-07_21-09-09\n",
      "  done: false\n",
      "  experiment_id: 624913ce79f046198982a0e158b0492d\n",
      "  hostname: anish-l5-kit\n",
      "  iterations_since_restore: 1\n",
      "  loss: 47.281429290771484\n",
      "  node_ip: 10.150.0.3\n",
      "  pid: 28334\n",
      "  should_checkpoint: true\n",
      "  time_since_restore: 21.20513129234314\n",
      "  time_this_iter_s: 21.20513129234314\n",
      "  time_total_s: 21.20513129234314\n",
      "  timestamp: 1662584949\n",
      "  timesteps_since_restore: 0\n",
      "  training_iteration: 1\n",
      "  trial_id: 2328e218\n",
      "  warmup_time: 0.007533073425292969\n",
      "  \n"
     ]
    },
    {
     "name": "stderr",
     "output_type": "stream",
     "text": [
      "Done. 1.0s\n"
     ]
    },
    {
     "name": "stdout",
     "output_type": "stream",
     "text": [
      "\u001b[2m\u001b[36m(RayTrainWorker pid=28466)\u001b[0m {'loss': 11.595184326171875, 'avg_loss': 29.43830680847168}\n"
     ]
    },
    {
     "name": "stderr",
     "output_type": "stream",
     "text": [
      "\u001b[34m\u001b[1mwandb\u001b[0m: Adding directory to artifact (/home/jupyter/ray_results/TorchTrainer_2022-09-07_21-06-06/TorchTrainer_2328e218_5_batch_size=6.0000,format_version=4,future_num_frames=50,history_num_frames=5,model_architecture=resnet50,r_2022-09-07_21-08-43/checkpoint_000001)... Done. 1.0s\n"
     ]
    },
    {
     "name": "stdout",
     "output_type": "stream",
     "text": [
      "\u001b[2m\u001b[36m(RayTrainWorker pid=28474)\u001b[0m {'loss': 84.72283935546875, 'avg_loss': 84.72283935546875}\n"
     ]
    },
    {
     "name": "stderr",
     "output_type": "stream",
     "text": [
      "\u001b[34m\u001b[1mwandb\u001b[0m: Adding directory to artifact (/home/jupyter/ray_results/TorchTrainer_2022-09-07_21-06-06/TorchTrainer_4160e4a6_6_batch_size=18.0000,format_version=4,future_num_frames=50,history_num_frames=5,model_architecture=resnet50,_2022-09-07_21-08-44/checkpoint_000000)... "
     ]
    },
    {
     "name": "stdout",
     "output_type": "stream",
     "text": [
      "Result for TorchTrainer_4160e4a6:\n",
      "  _time_this_iter_s: 24.299423217773438\n",
      "  _timestamp: 1662584957\n",
      "  _training_iteration: 1\n",
      "  avg_loss: 84.72283935546875\n",
      "  date: 2022-09-07_21-09-18\n",
      "  done: false\n",
      "  experiment_id: 4617519f82cf4bac893ed1bd4c503b09\n",
      "  hostname: anish-l5-kit\n",
      "  iterations_since_restore: 1\n",
      "  loss: 84.72283935546875\n",
      "  node_ip: 10.150.0.3\n",
      "  pid: 28343\n",
      "  should_checkpoint: true\n",
      "  time_since_restore: 29.341326236724854\n",
      "  time_this_iter_s: 29.341326236724854\n",
      "  time_total_s: 29.341326236724854\n",
      "  timestamp: 1662584958\n",
      "  timesteps_since_restore: 0\n",
      "  training_iteration: 1\n",
      "  trial_id: 4160e4a6\n",
      "  warmup_time: 0.0077135562896728516\n",
      "  \n",
      "\u001b[2m\u001b[36m(RayTrainWorker pid=28466)\u001b[0m {'loss': 9.606078147888184, 'avg_loss': 22.827563921610516}\n",
      "Result for TorchTrainer_2328e218:\n",
      "  _time_this_iter_s: 4.988373041152954\n",
      "  _timestamp: 1662584958\n",
      "  _training_iteration: 3\n",
      "  avg_loss: 22.827563921610516\n",
      "  date: 2022-09-07_21-09-19\n",
      "  done: false\n",
      "  experiment_id: 624913ce79f046198982a0e158b0492d\n",
      "  hostname: anish-l5-kit\n",
      "  iterations_since_restore: 3\n",
      "  loss: 9.606078147888184\n",
      "  node_ip: 10.150.0.3\n",
      "  pid: 28334\n",
      "  should_checkpoint: true\n",
      "  time_since_restore: 31.078937768936157\n",
      "  time_this_iter_s: 5.012653827667236\n",
      "  time_total_s: 31.078937768936157\n",
      "  timestamp: 1662584959\n",
      "  timesteps_since_restore: 0\n",
      "  training_iteration: 3\n",
      "  trial_id: 2328e218\n",
      "  warmup_time: 0.007533073425292969\n",
      "  \n"
     ]
    },
    {
     "name": "stderr",
     "output_type": "stream",
     "text": [
      "\u001b[34m\u001b[1mwandb\u001b[0m: Adding directory to artifact (/home/jupyter/ray_results/TorchTrainer_2022-09-07_21-06-06/TorchTrainer_2328e218_5_batch_size=6.0000,format_version=4,future_num_frames=50,history_num_frames=5,model_architecture=resnet50,r_2022-09-07_21-08-43/checkpoint_000002)... Done. 1.0s\n",
      "Done. 1.1s\n"
     ]
    },
    {
     "name": "stdout",
     "output_type": "stream",
     "text": [
      "\u001b[2m\u001b[36m(RayTrainWorker pid=28466)\u001b[0m {'loss': 2.2478649616241455, 'avg_loss': 17.682639181613922}\n"
     ]
    },
    {
     "name": "stderr",
     "output_type": "stream",
     "text": [
      "\u001b[34m\u001b[1mwandb\u001b[0m: Adding directory to artifact (/home/jupyter/ray_results/TorchTrainer_2022-09-07_21-06-06/TorchTrainer_2328e218_5_batch_size=6.0000,format_version=4,future_num_frames=50,history_num_frames=5,model_architecture=resnet50,r_2022-09-07_21-08-43/checkpoint_000003)... Done. 1.0s\n"
     ]
    },
    {
     "name": "stdout",
     "output_type": "stream",
     "text": [
      "\u001b[2m\u001b[36m(RayTrainWorker pid=28466)\u001b[0m {'loss': 138.5517120361328, 'avg_loss': 41.8564537525177}\n",
      "Result for TorchTrainer_2328e218:\n",
      "  _time_this_iter_s: 4.6088340282440186\n",
      "  _timestamp: 1662584968\n",
      "  _training_iteration: 5\n",
      "  avg_loss: 41.8564537525177\n",
      "  date: 2022-09-07_21-09-28\n",
      "  done: false\n",
      "  experiment_id: 624913ce79f046198982a0e158b0492d\n",
      "  hostname: anish-l5-kit\n",
      "  iterations_since_restore: 5\n",
      "  loss: 138.5517120361328\n",
      "  node_ip: 10.150.0.3\n",
      "  pid: 28334\n",
      "  should_checkpoint: true\n",
      "  time_since_restore: 40.613444566726685\n",
      "  time_this_iter_s: 4.618595600128174\n",
      "  time_total_s: 40.613444566726685\n",
      "  timestamp: 1662584968\n",
      "  timesteps_since_restore: 0\n",
      "  training_iteration: 5\n",
      "  trial_id: 2328e218\n",
      "  warmup_time: 0.007533073425292969\n",
      "  \n"
     ]
    },
    {
     "name": "stderr",
     "output_type": "stream",
     "text": [
      "\u001b[34m\u001b[1mwandb\u001b[0m: Adding directory to artifact (/home/jupyter/ray_results/TorchTrainer_2022-09-07_21-06-06/TorchTrainer_2328e218_5_batch_size=6.0000,format_version=4,future_num_frames=50,history_num_frames=5,model_architecture=resnet50,r_2022-09-07_21-08-43/checkpoint_000004)... Done. 1.0s\n",
      "\u001b[34m\u001b[1mwandb\u001b[0m: Adding directory to artifact (/home/jupyter/ray_results/TorchTrainer_2022-09-07_21-06-06/TorchTrainer_2328e218_5_batch_size=6.0000,format_version=4,future_num_frames=50,history_num_frames=5,model_architecture=resnet50,r_2022-09-07_21-08-43/checkpoint_000004)... Done. 0.3s\n"
     ]
    },
    {
     "data": {
      "text/html": [
       "Waiting for W&B process to finish... <strong style=\"color:green\">(success).</strong>"
      ],
      "text/plain": [
       "<IPython.core.display.HTML object>"
      ]
     },
     "metadata": {},
     "output_type": "display_data"
    },
    {
     "name": "stdout",
     "output_type": "stream",
     "text": [
      "\u001b[2m\u001b[36m(RayTrainWorker pid=28474)\u001b[0m {'loss': 79.79784393310547, 'avg_loss': 82.26034164428711}\n"
     ]
    },
    {
     "data": {
      "application/vnd.jupyter.widget-view+json": {
       "model_id": "6a59d63a96b34b208c9939e105cb1551",
       "version_major": 2,
       "version_minor": 0
      },
      "text/plain": [
       "VBox(children=(Label(value='456.836 MB of 456.836 MB uploaded (91.307 MB deduped)\\r'), FloatProgress(value=1.0…"
      ]
     },
     "metadata": {},
     "output_type": "display_data"
    },
    {
     "data": {
      "text/html": [
       "W&B sync reduced upload amount by 20.0%             "
      ],
      "text/plain": [
       "<IPython.core.display.HTML object>"
      ]
     },
     "metadata": {},
     "output_type": "display_data"
    },
    {
     "data": {
      "text/html": [
       "<style>\n",
       "    table.wandb td:nth-child(1) { padding: 0 10px; text-align: left ; width: auto;} td:nth-child(2) {text-align: left ; width: 100%}\n",
       "    .wandb-row { display: flex; flex-direction: row; flex-wrap: wrap; justify-content: flex-start; width: 100% }\n",
       "    .wandb-col { display: flex; flex-direction: column; flex-basis: 100%; flex: 1; padding: 10px; }\n",
       "    </style>\n",
       "<div class=\"wandb-row\"><div class=\"wandb-col\"><h3>Run history:</h3><br/><table class=\"wandb\"><tr><td>avg_loss</td><td>█▄▂▁▇</td></tr><tr><td>iterations_since_restore</td><td>▁▃▅▆█</td></tr><tr><td>loss</td><td>▃▁▁▁█</td></tr><tr><td>time_since_restore</td><td>▁▃▅▆█</td></tr><tr><td>time_this_iter_s</td><td>█▁▁▁▁</td></tr><tr><td>time_total_s</td><td>▁▃▅▆█</td></tr><tr><td>timestamp</td><td>▁▃▅▆█</td></tr><tr><td>timesteps_since_restore</td><td>▁▁▁▁▁</td></tr><tr><td>training_iteration</td><td>▁▃▅▆█</td></tr><tr><td>warmup_time</td><td>▁▁▁▁▁</td></tr></table><br/></div><div class=\"wandb-col\"><h3>Run summary:</h3><br/><table class=\"wandb\"><tr><td>avg_loss</td><td>41.85645</td></tr><tr><td>iterations_since_restore</td><td>5</td></tr><tr><td>loss</td><td>138.55171</td></tr><tr><td>time_since_restore</td><td>40.61344</td></tr><tr><td>time_this_iter_s</td><td>4.6186</td></tr><tr><td>time_total_s</td><td>40.61344</td></tr><tr><td>timestamp</td><td>1662584968</td></tr><tr><td>timesteps_since_restore</td><td>0</td></tr><tr><td>training_iteration</td><td>5</td></tr><tr><td>warmup_time</td><td>0.00753</td></tr></table><br/></div></div>"
      ],
      "text/plain": [
       "<IPython.core.display.HTML object>"
      ]
     },
     "metadata": {},
     "output_type": "display_data"
    },
    {
     "data": {
      "text/html": [
       "Synced <strong style=\"color:#cdcd00\">TorchTrainer_2328e218</strong>: <a href=\"https://wandb.ai/l5-demo/l5-simulation-trials/runs/2328e218\" target=\"_blank\">https://wandb.ai/l5-demo/l5-simulation-trials/runs/2328e218</a><br/>Synced 7 W&B file(s), 0 media file(s), 12 artifact file(s) and 1 other file(s)"
      ],
      "text/plain": [
       "<IPython.core.display.HTML object>"
      ]
     },
     "metadata": {},
     "output_type": "display_data"
    },
    {
     "data": {
      "text/html": [
       "Find logs at: <code>./wandb/run-20220907_210843-2328e218/logs</code>"
      ],
      "text/plain": [
       "<IPython.core.display.HTML object>"
      ]
     },
     "metadata": {},
     "output_type": "display_data"
    },
    {
     "name": "stdout",
     "output_type": "stream",
     "text": [
      "Result for TorchTrainer_2328e218:\n",
      "  _time_this_iter_s: 4.6088340282440186\n",
      "  _timestamp: 1662584968\n",
      "  _training_iteration: 5\n",
      "  avg_loss: 41.8564537525177\n",
      "  date: 2022-09-07_21-09-28\n",
      "  done: true\n",
      "  experiment_id: 624913ce79f046198982a0e158b0492d\n",
      "  experiment_tag: 5_batch_size=6.0000,format_version=4,future_num_frames=50,history_num_frames=5,model_architecture=resnet50,render_ego_history=False,step_time=0.1000,dataset_meta_key=meta_json,disable_traffic_light_faces=False,ego_center=0_25_0_5,filter_agents_threshold=0.5000,map_type=py_semantic,pixel_size=0_5_0_5,raster_size=224_224,satellite_map_key=aerial_map_aerial_map_png,semantic_map_key=semantic_map_semantic_map_pb,set_origin_to_bottom=True,batch_size=12,key=scenes_sample_zarr,num_workers=16,perturb_probability=0.0000,shuffle=True,checkpoint_every_n_steps=10000,eval_every_n_steps=10000,max_num_steps=5,batch_size=12,key=scenes_sample_zarr,num_workers=16,shuffle=False,dataset_key=scenes_sample_zarr,lr=0.0007,max_num_steps=5,num_workers=4,shuffle=True\n",
      "  hostname: anish-l5-kit\n",
      "  iterations_since_restore: 5\n",
      "  loss: 138.5517120361328\n",
      "  node_ip: 10.150.0.3\n",
      "  pid: 28334\n",
      "  should_checkpoint: true\n",
      "  time_since_restore: 40.613444566726685\n",
      "  time_this_iter_s: 4.618595600128174\n",
      "  time_total_s: 40.613444566726685\n",
      "  timestamp: 1662584968\n",
      "  timesteps_since_restore: 0\n",
      "  training_iteration: 5\n",
      "  trial_id: 2328e218\n",
      "  warmup_time: 0.007533073425292969\n",
      "  \n"
     ]
    },
    {
     "name": "stderr",
     "output_type": "stream",
     "text": [
      "\u001b[34m\u001b[1mwandb\u001b[0m: Adding directory to artifact (/home/jupyter/ray_results/TorchTrainer_2022-09-07_21-06-06/TorchTrainer_4160e4a6_6_batch_size=18.0000,format_version=4,future_num_frames=50,history_num_frames=5,model_architecture=resnet50,_2022-09-07_21-08-44/checkpoint_000001)... "
     ]
    },
    {
     "name": "stdout",
     "output_type": "stream",
     "text": [
      "Result for TorchTrainer_4160e4a6:\n",
      "  _time_this_iter_s: 13.404391765594482\n",
      "  _timestamp: 1662584971\n",
      "  _training_iteration: 2\n",
      "  avg_loss: 82.26034164428711\n",
      "  date: 2022-09-07_21-09-31\n",
      "  done: false\n",
      "  experiment_id: 4617519f82cf4bac893ed1bd4c503b09\n",
      "  hostname: anish-l5-kit\n",
      "  iterations_since_restore: 2\n",
      "  loss: 79.79784393310547\n",
      "  node_ip: 10.150.0.3\n",
      "  pid: 28343\n",
      "  should_checkpoint: true\n",
      "  time_since_restore: 42.66159677505493\n",
      "  time_this_iter_s: 13.320270538330078\n",
      "  time_total_s: 42.66159677505493\n",
      "  timestamp: 1662584971\n",
      "  timesteps_since_restore: 0\n",
      "  training_iteration: 2\n",
      "  trial_id: 4160e4a6\n",
      "  warmup_time: 0.0077135562896728516\n",
      "  \n"
     ]
    },
    {
     "name": "stderr",
     "output_type": "stream",
     "text": [
      "Done. 1.0s\n"
     ]
    },
    {
     "name": "stdout",
     "output_type": "stream",
     "text": [
      "\u001b[2m\u001b[36m(RayTrainWorker pid=28474)\u001b[0m {'loss': 77.8492660522461, 'avg_loss': 80.78998311360677}\n"
     ]
    },
    {
     "name": "stderr",
     "output_type": "stream",
     "text": [
      "\u001b[2m\u001b[36m(RayTrainWorker pid=29416)\u001b[0m 2022-09-07 21:09:44,199\tINFO config.py:72 -- Setting up process group for: env:// [rank=0, world_size=1]\n",
      "\u001b[34m\u001b[1mwandb\u001b[0m: Adding directory to artifact (/home/jupyter/ray_results/TorchTrainer_2022-09-07_21-06-06/TorchTrainer_4160e4a6_6_batch_size=18.0000,format_version=4,future_num_frames=50,history_num_frames=5,model_architecture=resnet50,_2022-09-07_21-08-44/checkpoint_000002)... "
     ]
    },
    {
     "name": "stdout",
     "output_type": "stream",
     "text": [
      "Result for TorchTrainer_4160e4a6:\n",
      "  _time_this_iter_s: 13.039492130279541\n",
      "  _timestamp: 1662584984\n",
      "  _training_iteration: 3\n",
      "  avg_loss: 80.78998311360677\n",
      "  date: 2022-09-07_21-09-44\n",
      "  done: false\n",
      "  experiment_id: 4617519f82cf4bac893ed1bd4c503b09\n",
      "  hostname: anish-l5-kit\n",
      "  iterations_since_restore: 3\n",
      "  loss: 77.8492660522461\n",
      "  node_ip: 10.150.0.3\n",
      "  pid: 28343\n",
      "  should_checkpoint: true\n",
      "  time_since_restore: 55.756284952163696\n",
      "  time_this_iter_s: 13.094688177108765\n",
      "  time_total_s: 55.756284952163696\n",
      "  timestamp: 1662584984\n",
      "  timesteps_since_restore: 0\n",
      "  training_iteration: 3\n",
      "  trial_id: 4160e4a6\n",
      "  warmup_time: 0.0077135562896728516\n",
      "  \n"
     ]
    },
    {
     "name": "stderr",
     "output_type": "stream",
     "text": [
      "Done. 1.0s\n",
      "\u001b[2m\u001b[36m(RayTrainWorker pid=29416)\u001b[0m /opt/conda/lib/python3.7/site-packages/l5kit/planning/rasterized/model.py:31: UserWarning: There is no pre-trained model with num_in_channels != 3, first layer will be reset\n",
      "\u001b[2m\u001b[36m(RayTrainWorker pid=29416)\u001b[0m   warnings.warn(\"There is no pre-trained model with num_in_channels != 3, first layer will be reset\")\n",
      "\u001b[2m\u001b[36m(RayTrainWorker pid=29416)\u001b[0m /opt/conda/lib/python3.7/site-packages/torchvision/models/_utils.py:209: UserWarning: The parameter 'pretrained' is deprecated since 0.13 and will be removed in 0.15, please use 'weights' instead.\n",
      "\u001b[2m\u001b[36m(RayTrainWorker pid=29416)\u001b[0m   f\"The parameter '{pretrained_param}' is deprecated since 0.13 and will be removed in 0.15, \"\n",
      "\u001b[2m\u001b[36m(RayTrainWorker pid=29416)\u001b[0m /opt/conda/lib/python3.7/site-packages/torchvision/models/_utils.py:223: UserWarning: Arguments other than a weight enum or `None` for 'weights' are deprecated since 0.13 and will be removed in 0.15. The current behavior is equivalent to passing `weights=ResNet50_Weights.IMAGENET1K_V1`. You can also use `weights=ResNet50_Weights.DEFAULT` to get the most up-to-date weights.\n",
      "\u001b[2m\u001b[36m(RayTrainWorker pid=29416)\u001b[0m   warnings.warn(msg)\n",
      "\u001b[2m\u001b[36m(RayTrainWorker pid=29416)\u001b[0m 2022-09-07 21:09:50,219\tINFO train_loop_utils.py:300 -- Moving model to device: cpu\n"
     ]
    },
    {
     "name": "stdout",
     "output_type": "stream",
     "text": [
      "\u001b[2m\u001b[36m(RayTrainWorker pid=28474)\u001b[0m {'loss': 9.560626029968262, 'avg_loss': 62.982643842697144}\n"
     ]
    },
    {
     "name": "stderr",
     "output_type": "stream",
     "text": [
      "\u001b[34m\u001b[1mwandb\u001b[0m: Adding directory to artifact (/home/jupyter/ray_results/TorchTrainer_2022-09-07_21-06-06/TorchTrainer_4160e4a6_6_batch_size=18.0000,format_version=4,future_num_frames=50,history_num_frames=5,model_architecture=resnet50,_2022-09-07_21-08-44/checkpoint_000003)... "
     ]
    },
    {
     "name": "stdout",
     "output_type": "stream",
     "text": [
      "Result for TorchTrainer_4160e4a6:\n",
      "  _time_this_iter_s: 15.198510885238647\n",
      "  _timestamp: 1662584999\n",
      "  _training_iteration: 4\n",
      "  avg_loss: 62.982643842697144\n",
      "  date: 2022-09-07_21-09-59\n",
      "  done: false\n",
      "  experiment_id: 4617519f82cf4bac893ed1bd4c503b09\n",
      "  hostname: anish-l5-kit\n",
      "  iterations_since_restore: 4\n",
      "  loss: 9.560626029968262\n",
      "  node_ip: 10.150.0.3\n",
      "  pid: 28343\n",
      "  should_checkpoint: true\n",
      "  time_since_restore: 70.9718325138092\n",
      "  time_this_iter_s: 15.215547561645508\n",
      "  time_total_s: 70.9718325138092\n",
      "  timestamp: 1662584999\n",
      "  timesteps_since_restore: 0\n",
      "  training_iteration: 4\n",
      "  trial_id: 4160e4a6\n",
      "  warmup_time: 0.0077135562896728516\n",
      "  \n"
     ]
    },
    {
     "name": "stderr",
     "output_type": "stream",
     "text": [
      "Done. 1.6s\n"
     ]
    },
    {
     "name": "stdout",
     "output_type": "stream",
     "text": [
      "\u001b[2m\u001b[36m(RayTrainWorker pid=29416)\u001b[0m {'loss': 85.187744140625, 'avg_loss': 85.187744140625}\n"
     ]
    },
    {
     "name": "stderr",
     "output_type": "stream",
     "text": [
      "\u001b[34m\u001b[1mwandb\u001b[0m: Adding directory to artifact (/home/jupyter/ray_results/TorchTrainer_2022-09-07_21-06-06/TorchTrainer_41bc41c0_7_batch_size=18.0000,format_version=4,future_num_frames=50,history_num_frames=5,model_architecture=resnet50,_2022-09-07_21-09-36/checkpoint_000000)... "
     ]
    },
    {
     "name": "stdout",
     "output_type": "stream",
     "text": [
      "Result for TorchTrainer_41bc41c0:\n",
      "  _time_this_iter_s: 23.092734575271606\n",
      "  _timestamp: 1662585007\n",
      "  _training_iteration: 1\n",
      "  avg_loss: 85.187744140625\n",
      "  date: 2022-09-07_21-10-08\n",
      "  done: false\n",
      "  experiment_id: bc756455f26c4e5f9a223ed5058324d4\n",
      "  hostname: anish-l5-kit\n",
      "  iterations_since_restore: 1\n",
      "  loss: 85.187744140625\n",
      "  node_ip: 10.150.0.3\n",
      "  pid: 29336\n",
      "  should_checkpoint: true\n",
      "  time_since_restore: 27.652225255966187\n",
      "  time_this_iter_s: 27.652225255966187\n",
      "  time_total_s: 27.652225255966187\n",
      "  timestamp: 1662585008\n",
      "  timesteps_since_restore: 0\n",
      "  training_iteration: 1\n",
      "  trial_id: 41bc41c0\n",
      "  warmup_time: 0.00790262222290039\n",
      "  \n"
     ]
    },
    {
     "name": "stderr",
     "output_type": "stream",
     "text": [
      "Done. 1.1s\n"
     ]
    },
    {
     "name": "stdout",
     "output_type": "stream",
     "text": [
      "\u001b[2m\u001b[36m(RayTrainWorker pid=28474)\u001b[0m {'loss': 47.91688537597656, 'avg_loss': 59.96949214935303}\n"
     ]
    },
    {
     "name": "stderr",
     "output_type": "stream",
     "text": [
      "\u001b[34m\u001b[1mwandb\u001b[0m: Adding directory to artifact (/home/jupyter/ray_results/TorchTrainer_2022-09-07_21-06-06/TorchTrainer_4160e4a6_6_batch_size=18.0000,format_version=4,future_num_frames=50,history_num_frames=5,model_architecture=resnet50,_2022-09-07_21-08-44/checkpoint_000004)... "
     ]
    },
    {
     "name": "stdout",
     "output_type": "stream",
     "text": [
      "Result for TorchTrainer_4160e4a6:\n",
      "  _time_this_iter_s: 14.004685401916504\n",
      "  _timestamp: 1662585013\n",
      "  _training_iteration: 5\n",
      "  avg_loss: 59.96949214935303\n",
      "  date: 2022-09-07_21-10-13\n",
      "  done: false\n",
      "  experiment_id: 4617519f82cf4bac893ed1bd4c503b09\n",
      "  hostname: anish-l5-kit\n",
      "  iterations_since_restore: 5\n",
      "  loss: 47.91688537597656\n",
      "  node_ip: 10.150.0.3\n",
      "  pid: 28343\n",
      "  should_checkpoint: true\n",
      "  time_since_restore: 84.87619829177856\n",
      "  time_this_iter_s: 13.90436577796936\n",
      "  time_total_s: 84.87619829177856\n",
      "  timestamp: 1662585013\n",
      "  timesteps_since_restore: 0\n",
      "  training_iteration: 5\n",
      "  trial_id: 4160e4a6\n",
      "  warmup_time: 0.0077135562896728516\n",
      "  \n"
     ]
    },
    {
     "name": "stderr",
     "output_type": "stream",
     "text": [
      "Done. 1.0s\n",
      "\u001b[34m\u001b[1mwandb\u001b[0m: Adding directory to artifact (/home/jupyter/ray_results/TorchTrainer_2022-09-07_21-06-06/TorchTrainer_4160e4a6_6_batch_size=18.0000,format_version=4,future_num_frames=50,history_num_frames=5,model_architecture=resnet50,_2022-09-07_21-08-44/checkpoint_000004)... Done. 0.3s\n"
     ]
    },
    {
     "data": {
      "text/html": [
       "Waiting for W&B process to finish... <strong style=\"color:green\">(success).</strong>"
      ],
      "text/plain": [
       "<IPython.core.display.HTML object>"
      ]
     },
     "metadata": {},
     "output_type": "display_data"
    },
    {
     "data": {
      "application/vnd.jupyter.widget-view+json": {
       "model_id": "6a316a04f3a048bf88a6b1935d9cb1e1",
       "version_major": 2,
       "version_minor": 0
      },
      "text/plain": [
       "VBox(children=(Label(value='456.836 MB of 456.836 MB uploaded (91.307 MB deduped)\\r'), FloatProgress(value=1.0…"
      ]
     },
     "metadata": {},
     "output_type": "display_data"
    },
    {
     "name": "stdout",
     "output_type": "stream",
     "text": [
      "\u001b[2m\u001b[36m(RayTrainWorker pid=29416)\u001b[0m {'loss': 51.79338455200195, 'avg_loss': 68.49056434631348}\n"
     ]
    },
    {
     "data": {
      "text/html": [
       "W&B sync reduced upload amount by 20.0%             "
      ],
      "text/plain": [
       "<IPython.core.display.HTML object>"
      ]
     },
     "metadata": {},
     "output_type": "display_data"
    },
    {
     "data": {
      "text/html": [
       "<style>\n",
       "    table.wandb td:nth-child(1) { padding: 0 10px; text-align: left ; width: auto;} td:nth-child(2) {text-align: left ; width: 100%}\n",
       "    .wandb-row { display: flex; flex-direction: row; flex-wrap: wrap; justify-content: flex-start; width: 100% }\n",
       "    .wandb-col { display: flex; flex-direction: column; flex-basis: 100%; flex: 1; padding: 10px; }\n",
       "    </style>\n",
       "<div class=\"wandb-row\"><div class=\"wandb-col\"><h3>Run history:</h3><br/><table class=\"wandb\"><tr><td>avg_loss</td><td>█▇▇▂▁</td></tr><tr><td>iterations_since_restore</td><td>▁▃▅▆█</td></tr><tr><td>loss</td><td>██▇▁▅</td></tr><tr><td>time_since_restore</td><td>▁▃▄▆█</td></tr><tr><td>time_this_iter_s</td><td>█▁▁▂▁</td></tr><tr><td>time_total_s</td><td>▁▃▄▆█</td></tr><tr><td>timestamp</td><td>▁▃▄▆█</td></tr><tr><td>timesteps_since_restore</td><td>▁▁▁▁▁</td></tr><tr><td>training_iteration</td><td>▁▃▅▆█</td></tr><tr><td>warmup_time</td><td>▁▁▁▁▁</td></tr></table><br/></div><div class=\"wandb-col\"><h3>Run summary:</h3><br/><table class=\"wandb\"><tr><td>avg_loss</td><td>59.96949</td></tr><tr><td>iterations_since_restore</td><td>5</td></tr><tr><td>loss</td><td>47.91689</td></tr><tr><td>time_since_restore</td><td>84.8762</td></tr><tr><td>time_this_iter_s</td><td>13.90437</td></tr><tr><td>time_total_s</td><td>84.8762</td></tr><tr><td>timestamp</td><td>1662585013</td></tr><tr><td>timesteps_since_restore</td><td>0</td></tr><tr><td>training_iteration</td><td>5</td></tr><tr><td>warmup_time</td><td>0.00771</td></tr></table><br/></div></div>"
      ],
      "text/plain": [
       "<IPython.core.display.HTML object>"
      ]
     },
     "metadata": {},
     "output_type": "display_data"
    },
    {
     "data": {
      "text/html": [
       "Synced <strong style=\"color:#cdcd00\">TorchTrainer_4160e4a6</strong>: <a href=\"https://wandb.ai/l5-demo/l5-simulation-trials/runs/4160e4a6\" target=\"_blank\">https://wandb.ai/l5-demo/l5-simulation-trials/runs/4160e4a6</a><br/>Synced 7 W&B file(s), 0 media file(s), 12 artifact file(s) and 1 other file(s)"
      ],
      "text/plain": [
       "<IPython.core.display.HTML object>"
      ]
     },
     "metadata": {},
     "output_type": "display_data"
    },
    {
     "data": {
      "text/html": [
       "Find logs at: <code>./wandb/run-20220907_210844-4160e4a6/logs</code>"
      ],
      "text/plain": [
       "<IPython.core.display.HTML object>"
      ]
     },
     "metadata": {},
     "output_type": "display_data"
    },
    {
     "name": "stdout",
     "output_type": "stream",
     "text": [
      "Result for TorchTrainer_4160e4a6:\n",
      "  _time_this_iter_s: 14.004685401916504\n",
      "  _timestamp: 1662585013\n",
      "  _training_iteration: 5\n",
      "  avg_loss: 59.96949214935303\n",
      "  date: 2022-09-07_21-10-13\n",
      "  done: true\n",
      "  experiment_id: 4617519f82cf4bac893ed1bd4c503b09\n",
      "  experiment_tag: 6_batch_size=18.0000,format_version=4,future_num_frames=50,history_num_frames=5,model_architecture=resnet50,render_ego_history=False,step_time=0.1000,dataset_meta_key=meta_json,disable_traffic_light_faces=False,ego_center=0_25_0_5,filter_agents_threshold=0.5000,map_type=py_satellite,pixel_size=0_5_0_5,raster_size=224_224,satellite_map_key=aerial_map_aerial_map_png,semantic_map_key=semantic_map_semantic_map_pb,set_origin_to_bottom=True,batch_size=12,key=scenes_sample_zarr,num_workers=16,perturb_probability=0.0000,shuffle=True,checkpoint_every_n_steps=10000,eval_every_n_steps=10000,max_num_steps=5,batch_size=12,key=scenes_sample_zarr,num_workers=16,shuffle=False,dataset_key=scenes_sample_zarr,lr=0.0004,max_num_steps=5,num_workers=4,shuffle=True\n",
      "  hostname: anish-l5-kit\n",
      "  iterations_since_restore: 5\n",
      "  loss: 47.91688537597656\n",
      "  node_ip: 10.150.0.3\n",
      "  pid: 28343\n",
      "  should_checkpoint: true\n",
      "  time_since_restore: 84.87619829177856\n",
      "  time_this_iter_s: 13.90436577796936\n",
      "  time_total_s: 84.87619829177856\n",
      "  timestamp: 1662585013\n",
      "  timesteps_since_restore: 0\n",
      "  training_iteration: 5\n",
      "  trial_id: 4160e4a6\n",
      "  warmup_time: 0.0077135562896728516\n",
      "  \n"
     ]
    },
    {
     "name": "stderr",
     "output_type": "stream",
     "text": [
      "\u001b[34m\u001b[1mwandb\u001b[0m: Adding directory to artifact (/home/jupyter/ray_results/TorchTrainer_2022-09-07_21-06-06/TorchTrainer_41bc41c0_7_batch_size=18.0000,format_version=4,future_num_frames=50,history_num_frames=5,model_architecture=resnet50,_2022-09-07_21-09-36/checkpoint_000001)... "
     ]
    },
    {
     "name": "stdout",
     "output_type": "stream",
     "text": [
      "Result for TorchTrainer_41bc41c0:\n",
      "  _time_this_iter_s: 13.217745304107666\n",
      "  _timestamp: 1662585021\n",
      "  _training_iteration: 2\n",
      "  avg_loss: 68.49056434631348\n",
      "  date: 2022-09-07_21-10-21\n",
      "  done: false\n",
      "  experiment_id: bc756455f26c4e5f9a223ed5058324d4\n",
      "  hostname: anish-l5-kit\n",
      "  iterations_since_restore: 2\n",
      "  loss: 51.79338455200195\n",
      "  node_ip: 10.150.0.3\n",
      "  pid: 29336\n",
      "  should_checkpoint: true\n",
      "  time_since_restore: 40.78637480735779\n",
      "  time_this_iter_s: 13.134149551391602\n",
      "  time_total_s: 40.78637480735779\n",
      "  timestamp: 1662585021\n",
      "  timesteps_since_restore: 0\n",
      "  training_iteration: 2\n",
      "  trial_id: 41bc41c0\n",
      "  warmup_time: 0.00790262222290039\n",
      "  \n"
     ]
    },
    {
     "name": "stderr",
     "output_type": "stream",
     "text": [
      "Done. 1.0s\n"
     ]
    },
    {
     "name": "stdout",
     "output_type": "stream",
     "text": [
      "\u001b[2m\u001b[36m(RayTrainWorker pid=29416)\u001b[0m {'loss': 16.159589767456055, 'avg_loss': 51.046906153361}\n"
     ]
    },
    {
     "name": "stderr",
     "output_type": "stream",
     "text": [
      "\u001b[34m\u001b[1mwandb\u001b[0m: Adding directory to artifact (/home/jupyter/ray_results/TorchTrainer_2022-09-07_21-06-06/TorchTrainer_41bc41c0_7_batch_size=18.0000,format_version=4,future_num_frames=50,history_num_frames=5,model_architecture=resnet50,_2022-09-07_21-09-36/checkpoint_000002)... "
     ]
    },
    {
     "name": "stdout",
     "output_type": "stream",
     "text": [
      "Result for TorchTrainer_41bc41c0:\n",
      "  _time_this_iter_s: 12.995812177658081\n",
      "  _timestamp: 1662585034\n",
      "  _training_iteration: 3\n",
      "  avg_loss: 51.046906153361\n",
      "  date: 2022-09-07_21-10-34\n",
      "  done: false\n",
      "  experiment_id: bc756455f26c4e5f9a223ed5058324d4\n",
      "  hostname: anish-l5-kit\n",
      "  iterations_since_restore: 3\n",
      "  loss: 16.159589767456055\n",
      "  node_ip: 10.150.0.3\n",
      "  pid: 29336\n",
      "  should_checkpoint: true\n",
      "  time_since_restore: 53.84964561462402\n",
      "  time_this_iter_s: 13.063270807266235\n",
      "  time_total_s: 53.84964561462402\n",
      "  timestamp: 1662585034\n",
      "  timesteps_since_restore: 0\n",
      "  training_iteration: 3\n",
      "  trial_id: 41bc41c0\n",
      "  warmup_time: 0.00790262222290039\n",
      "  \n"
     ]
    },
    {
     "name": "stderr",
     "output_type": "stream",
     "text": [
      "Done. 1.0s\n",
      "\u001b[2m\u001b[36m(RayTrainWorker pid=30223)\u001b[0m 2022-09-07 21:10:36,524\tINFO config.py:72 -- Setting up process group for: env:// [rank=0, world_size=1]\n",
      "\u001b[2m\u001b[36m(RayTrainWorker pid=30223)\u001b[0m /opt/conda/lib/python3.7/site-packages/l5kit/planning/rasterized/model.py:31: UserWarning: There is no pre-trained model with num_in_channels != 3, first layer will be reset\n",
      "\u001b[2m\u001b[36m(RayTrainWorker pid=30223)\u001b[0m   warnings.warn(\"There is no pre-trained model with num_in_channels != 3, first layer will be reset\")\n",
      "\u001b[2m\u001b[36m(RayTrainWorker pid=30223)\u001b[0m /opt/conda/lib/python3.7/site-packages/torchvision/models/_utils.py:209: UserWarning: The parameter 'pretrained' is deprecated since 0.13 and will be removed in 0.15, please use 'weights' instead.\n",
      "\u001b[2m\u001b[36m(RayTrainWorker pid=30223)\u001b[0m   f\"The parameter '{pretrained_param}' is deprecated since 0.13 and will be removed in 0.15, \"\n",
      "\u001b[2m\u001b[36m(RayTrainWorker pid=30223)\u001b[0m /opt/conda/lib/python3.7/site-packages/torchvision/models/_utils.py:223: UserWarning: Arguments other than a weight enum or `None` for 'weights' are deprecated since 0.13 and will be removed in 0.15. The current behavior is equivalent to passing `weights=ResNet50_Weights.IMAGENET1K_V1`. You can also use `weights=ResNet50_Weights.DEFAULT` to get the most up-to-date weights.\n",
      "\u001b[2m\u001b[36m(RayTrainWorker pid=30223)\u001b[0m   warnings.warn(msg)\n",
      "\u001b[2m\u001b[36m(RayTrainWorker pid=30223)\u001b[0m 2022-09-07 21:10:41,921\tINFO train_loop_utils.py:300 -- Moving model to device: cpu\n"
     ]
    },
    {
     "name": "stdout",
     "output_type": "stream",
     "text": [
      "\u001b[2m\u001b[36m(RayTrainWorker pid=29416)\u001b[0m {'loss': 42.300750732421875, 'avg_loss': 48.86036729812622}\n"
     ]
    },
    {
     "name": "stderr",
     "output_type": "stream",
     "text": [
      "\u001b[34m\u001b[1mwandb\u001b[0m: Adding directory to artifact (/home/jupyter/ray_results/TorchTrainer_2022-09-07_21-06-06/TorchTrainer_41bc41c0_7_batch_size=18.0000,format_version=4,future_num_frames=50,history_num_frames=5,model_architecture=resnet50,_2022-09-07_21-09-36/checkpoint_000003)... "
     ]
    },
    {
     "name": "stdout",
     "output_type": "stream",
     "text": [
      "Result for TorchTrainer_41bc41c0:\n",
      "  _time_this_iter_s: 15.192680358886719\n",
      "  _timestamp: 1662585049\n",
      "  _training_iteration: 4\n",
      "  avg_loss: 48.86036729812622\n",
      "  date: 2022-09-07_21-10-49\n",
      "  done: false\n",
      "  experiment_id: bc756455f26c4e5f9a223ed5058324d4\n",
      "  hostname: anish-l5-kit\n",
      "  iterations_since_restore: 4\n",
      "  loss: 42.300750732421875\n",
      "  node_ip: 10.150.0.3\n",
      "  pid: 29336\n",
      "  should_checkpoint: true\n",
      "  time_since_restore: 68.9288637638092\n",
      "  time_this_iter_s: 15.07921814918518\n",
      "  time_total_s: 68.9288637638092\n",
      "  timestamp: 1662585049\n",
      "  timesteps_since_restore: 0\n",
      "  training_iteration: 4\n",
      "  trial_id: 41bc41c0\n",
      "  warmup_time: 0.00790262222290039\n",
      "  \n"
     ]
    },
    {
     "name": "stderr",
     "output_type": "stream",
     "text": [
      "Done. 1.1s\n"
     ]
    },
    {
     "name": "stdout",
     "output_type": "stream",
     "text": [
      "\u001b[2m\u001b[36m(RayTrainWorker pid=30223)\u001b[0m {'loss': 82.30538940429688, 'avg_loss': 82.30538940429688}\n"
     ]
    },
    {
     "name": "stderr",
     "output_type": "stream",
     "text": [
      "\u001b[34m\u001b[1mwandb\u001b[0m: Adding directory to artifact (/home/jupyter/ray_results/TorchTrainer_2022-09-07_21-06-06/TorchTrainer_611d7426_8_batch_size=18.0000,format_version=4,future_num_frames=50,history_num_frames=5,model_architecture=resnet50,_2022-09-07_21-10-25/checkpoint_000000)... "
     ]
    },
    {
     "name": "stdout",
     "output_type": "stream",
     "text": [
      "Result for TorchTrainer_611d7426:\n",
      "  _time_this_iter_s: 20.962560415267944\n",
      "  _timestamp: 1662585057\n",
      "  _training_iteration: 1\n",
      "  avg_loss: 82.30538940429688\n",
      "  date: 2022-09-07_21-10-58\n",
      "  done: false\n",
      "  experiment_id: bce9580011204ae892f11fb8c739ac2e\n",
      "  hostname: anish-l5-kit\n",
      "  iterations_since_restore: 1\n",
      "  loss: 82.30538940429688\n",
      "  node_ip: 10.150.0.3\n",
      "  pid: 30153\n",
      "  should_checkpoint: true\n",
      "  time_since_restore: 25.224627017974854\n",
      "  time_this_iter_s: 25.224627017974854\n",
      "  time_total_s: 25.224627017974854\n",
      "  timestamp: 1662585058\n",
      "  timesteps_since_restore: 0\n",
      "  training_iteration: 1\n",
      "  trial_id: 611d7426\n",
      "  warmup_time: 0.009753704071044922\n",
      "  \n"
     ]
    },
    {
     "name": "stderr",
     "output_type": "stream",
     "text": [
      "Done. 1.0s\n"
     ]
    },
    {
     "name": "stdout",
     "output_type": "stream",
     "text": [
      "\u001b[2m\u001b[36m(RayTrainWorker pid=29416)\u001b[0m {'loss': 14.77640438079834, 'avg_loss': 42.04357471466064}\n",
      "Result for TorchTrainer_41bc41c0:\n",
      "  _time_this_iter_s: 12.540035486221313\n",
      "  _timestamp: 1662585061\n",
      "  _training_iteration: 5\n",
      "  avg_loss: 42.04357471466064\n",
      "  date: 2022-09-07_21-11-02\n",
      "  done: false\n",
      "  experiment_id: bc756455f26c4e5f9a223ed5058324d4\n",
      "  hostname: anish-l5-kit\n",
      "  iterations_since_restore: 5\n",
      "  loss: 14.77640438079834\n",
      "  node_ip: 10.150.0.3\n",
      "  pid: 29336\n",
      "  should_checkpoint: true\n",
      "  time_since_restore: 82.14011311531067\n",
      "  time_this_iter_s: 13.211249351501465\n",
      "  time_total_s: 82.14011311531067\n",
      "  timestamp: 1662585062\n",
      "  timesteps_since_restore: 0\n",
      "  training_iteration: 5\n",
      "  trial_id: 41bc41c0\n",
      "  warmup_time: 0.00790262222290039\n",
      "  \n"
     ]
    },
    {
     "name": "stderr",
     "output_type": "stream",
     "text": [
      "\u001b[34m\u001b[1mwandb\u001b[0m: Adding directory to artifact (/home/jupyter/ray_results/TorchTrainer_2022-09-07_21-06-06/TorchTrainer_41bc41c0_7_batch_size=18.0000,format_version=4,future_num_frames=50,history_num_frames=5,model_architecture=resnet50,_2022-09-07_21-09-36/checkpoint_000004)... Done. 1.2s\n",
      "\u001b[34m\u001b[1mwandb\u001b[0m: Adding directory to artifact (/home/jupyter/ray_results/TorchTrainer_2022-09-07_21-06-06/TorchTrainer_41bc41c0_7_batch_size=18.0000,format_version=4,future_num_frames=50,history_num_frames=5,model_architecture=resnet50,_2022-09-07_21-09-36/checkpoint_000004)... Done. 0.3s\n"
     ]
    },
    {
     "data": {
      "text/html": [
       "Waiting for W&B process to finish... <strong style=\"color:green\">(success).</strong>"
      ],
      "text/plain": [
       "<IPython.core.display.HTML object>"
      ]
     },
     "metadata": {},
     "output_type": "display_data"
    },
    {
     "data": {
      "application/vnd.jupyter.widget-view+json": {
       "model_id": "8653f01c7d9044989d736b354bbfebdb",
       "version_major": 2,
       "version_minor": 0
      },
      "text/plain": [
       "VBox(children=(Label(value='456.836 MB of 456.836 MB uploaded (91.307 MB deduped)\\r'), FloatProgress(value=1.0…"
      ]
     },
     "metadata": {},
     "output_type": "display_data"
    },
    {
     "name": "stdout",
     "output_type": "stream",
     "text": [
      "\u001b[2m\u001b[36m(RayTrainWorker pid=30223)\u001b[0m {'loss': 37.45103073120117, 'avg_loss': 59.87821006774902}\n"
     ]
    },
    {
     "data": {
      "text/html": [
       "W&B sync reduced upload amount by 20.0%             "
      ],
      "text/plain": [
       "<IPython.core.display.HTML object>"
      ]
     },
     "metadata": {},
     "output_type": "display_data"
    },
    {
     "name": "stdout",
     "output_type": "stream",
     "text": [
      "Result for TorchTrainer_41bc41c0:\n",
      "  _time_this_iter_s: 12.540035486221313\n",
      "  _timestamp: 1662585061\n",
      "  _training_iteration: 5\n",
      "  avg_loss: 42.04357471466064\n",
      "  date: 2022-09-07_21-11-02\n",
      "  done: true\n",
      "  experiment_id: bc756455f26c4e5f9a223ed5058324d4\n",
      "  experiment_tag: 7_batch_size=18.0000,format_version=4,future_num_frames=50,history_num_frames=5,model_architecture=resnet50,render_ego_history=False,step_time=0.1000,dataset_meta_key=meta_json,disable_traffic_light_faces=False,ego_center=0_25_0_5,filter_agents_threshold=0.5000,map_type=py_satellite,pixel_size=0_5_0_5,raster_size=224_224,satellite_map_key=aerial_map_aerial_map_png,semantic_map_key=semantic_map_semantic_map_pb,set_origin_to_bottom=True,batch_size=12,key=scenes_sample_zarr,num_workers=16,perturb_probability=0.0000,shuffle=True,checkpoint_every_n_steps=10000,eval_every_n_steps=10000,max_num_steps=5,batch_size=12,key=scenes_sample_zarr,num_workers=16,shuffle=False,dataset_key=scenes_sample_zarr,lr=0.0025,max_num_steps=5,num_workers=4,shuffle=True\n",
      "  hostname: anish-l5-kit\n",
      "  iterations_since_restore: 5\n",
      "  loss: 14.77640438079834\n",
      "  node_ip: 10.150.0.3\n",
      "  pid: 29336\n",
      "  should_checkpoint: true\n",
      "  time_since_restore: 82.14011311531067\n",
      "  time_this_iter_s: 13.211249351501465\n",
      "  time_total_s: 82.14011311531067\n",
      "  timestamp: 1662585062\n",
      "  timesteps_since_restore: 0\n",
      "  training_iteration: 5\n",
      "  trial_id: 41bc41c0\n",
      "  warmup_time: 0.00790262222290039\n",
      "  \n"
     ]
    },
    {
     "name": "stderr",
     "output_type": "stream",
     "text": [
      "\u001b[34m\u001b[1mwandb\u001b[0m: Adding directory to artifact (/home/jupyter/ray_results/TorchTrainer_2022-09-07_21-06-06/TorchTrainer_611d7426_8_batch_size=18.0000,format_version=4,future_num_frames=50,history_num_frames=5,model_architecture=resnet50,_2022-09-07_21-10-25/checkpoint_000001)... "
     ]
    },
    {
     "name": "stdout",
     "output_type": "stream",
     "text": [
      "Result for TorchTrainer_611d7426:\n",
      "  _time_this_iter_s: 13.83748483657837\n",
      "  _timestamp: 1662585071\n",
      "  _training_iteration: 2\n",
      "  avg_loss: 59.87821006774902\n",
      "  date: 2022-09-07_21-11-12\n",
      "  done: false\n",
      "  experiment_id: bce9580011204ae892f11fb8c739ac2e\n",
      "  hostname: anish-l5-kit\n",
      "  iterations_since_restore: 2\n",
      "  loss: 37.45103073120117\n",
      "  node_ip: 10.150.0.3\n",
      "  pid: 30153\n",
      "  should_checkpoint: true\n",
      "  time_since_restore: 38.992254972457886\n",
      "  time_this_iter_s: 13.767627954483032\n",
      "  time_total_s: 38.992254972457886\n",
      "  timestamp: 1662585072\n",
      "  timesteps_since_restore: 0\n",
      "  training_iteration: 2\n",
      "  trial_id: 611d7426\n",
      "  warmup_time: 0.009753704071044922\n",
      "  \n"
     ]
    },
    {
     "data": {
      "text/html": [
       "<style>\n",
       "    table.wandb td:nth-child(1) { padding: 0 10px; text-align: left ; width: auto;} td:nth-child(2) {text-align: left ; width: 100%}\n",
       "    .wandb-row { display: flex; flex-direction: row; flex-wrap: wrap; justify-content: flex-start; width: 100% }\n",
       "    .wandb-col { display: flex; flex-direction: column; flex-basis: 100%; flex: 1; padding: 10px; }\n",
       "    </style>\n",
       "<div class=\"wandb-row\"><div class=\"wandb-col\"><h3>Run history:</h3><br/><table class=\"wandb\"><tr><td>avg_loss</td><td>█▅▂▂▁</td></tr><tr><td>iterations_since_restore</td><td>▁▃▅▆█</td></tr><tr><td>loss</td><td>█▅▁▄▁</td></tr><tr><td>time_since_restore</td><td>▁▃▄▆█</td></tr><tr><td>time_this_iter_s</td><td>█▁▁▂▁</td></tr><tr><td>time_total_s</td><td>▁▃▄▆█</td></tr><tr><td>timestamp</td><td>▁▃▄▆█</td></tr><tr><td>timesteps_since_restore</td><td>▁▁▁▁▁</td></tr><tr><td>training_iteration</td><td>▁▃▅▆█</td></tr><tr><td>warmup_time</td><td>▁▁▁▁▁</td></tr></table><br/></div><div class=\"wandb-col\"><h3>Run summary:</h3><br/><table class=\"wandb\"><tr><td>avg_loss</td><td>42.04357</td></tr><tr><td>iterations_since_restore</td><td>5</td></tr><tr><td>loss</td><td>14.7764</td></tr><tr><td>time_since_restore</td><td>82.14011</td></tr><tr><td>time_this_iter_s</td><td>13.21125</td></tr><tr><td>time_total_s</td><td>82.14011</td></tr><tr><td>timestamp</td><td>1662585062</td></tr><tr><td>timesteps_since_restore</td><td>0</td></tr><tr><td>training_iteration</td><td>5</td></tr><tr><td>warmup_time</td><td>0.0079</td></tr></table><br/></div></div>"
      ],
      "text/plain": [
       "<IPython.core.display.HTML object>"
      ]
     },
     "metadata": {},
     "output_type": "display_data"
    },
    {
     "data": {
      "text/html": [
       "Synced <strong style=\"color:#cdcd00\">TorchTrainer_41bc41c0</strong>: <a href=\"https://wandb.ai/l5-demo/l5-simulation-trials/runs/41bc41c0\" target=\"_blank\">https://wandb.ai/l5-demo/l5-simulation-trials/runs/41bc41c0</a><br/>Synced 7 W&B file(s), 0 media file(s), 12 artifact file(s) and 1 other file(s)"
      ],
      "text/plain": [
       "<IPython.core.display.HTML object>"
      ]
     },
     "metadata": {},
     "output_type": "display_data"
    },
    {
     "data": {
      "text/html": [
       "Find logs at: <code>./wandb/run-20220907_210937-41bc41c0/logs</code>"
      ],
      "text/plain": [
       "<IPython.core.display.HTML object>"
      ]
     },
     "metadata": {},
     "output_type": "display_data"
    },
    {
     "name": "stderr",
     "output_type": "stream",
     "text": [
      "Done. 1.0s\n",
      "\u001b[2m\u001b[36m(RayTrainWorker pid=31066)\u001b[0m 2022-09-07 21:11:21,492\tINFO config.py:72 -- Setting up process group for: env:// [rank=0, world_size=1]\n"
     ]
    },
    {
     "name": "stdout",
     "output_type": "stream",
     "text": [
      "\u001b[2m\u001b[36m(RayTrainWorker pid=30223)\u001b[0m {'loss': 113.56055450439453, 'avg_loss': 77.77232487996419}\n"
     ]
    },
    {
     "name": "stderr",
     "output_type": "stream",
     "text": [
      "\u001b[34m\u001b[1mwandb\u001b[0m: Adding directory to artifact (/home/jupyter/ray_results/TorchTrainer_2022-09-07_21-06-06/TorchTrainer_611d7426_8_batch_size=18.0000,format_version=4,future_num_frames=50,history_num_frames=5,model_architecture=resnet50,_2022-09-07_21-10-25/checkpoint_000002)... "
     ]
    },
    {
     "name": "stdout",
     "output_type": "stream",
     "text": [
      "Result for TorchTrainer_611d7426:\n",
      "  _time_this_iter_s: 14.799139976501465\n",
      "  _timestamp: 1662585086\n",
      "  _training_iteration: 3\n",
      "  avg_loss: 77.77232487996419\n",
      "  date: 2022-09-07_21-11-27\n",
      "  done: false\n",
      "  experiment_id: bce9580011204ae892f11fb8c739ac2e\n",
      "  hostname: anish-l5-kit\n",
      "  iterations_since_restore: 3\n",
      "  loss: 113.56055450439453\n",
      "  node_ip: 10.150.0.3\n",
      "  pid: 30153\n",
      "  should_checkpoint: true\n",
      "  time_since_restore: 53.89546465873718\n",
      "  time_this_iter_s: 14.903209686279297\n",
      "  time_total_s: 53.89546465873718\n",
      "  timestamp: 1662585087\n",
      "  timesteps_since_restore: 0\n",
      "  training_iteration: 3\n",
      "  trial_id: 611d7426\n",
      "  warmup_time: 0.009753704071044922\n",
      "  \n"
     ]
    },
    {
     "name": "stderr",
     "output_type": "stream",
     "text": [
      "Done. 1.1s\n",
      "\u001b[2m\u001b[36m(RayTrainWorker pid=31066)\u001b[0m /opt/conda/lib/python3.7/site-packages/l5kit/planning/rasterized/model.py:31: UserWarning: There is no pre-trained model with num_in_channels != 3, first layer will be reset\n",
      "\u001b[2m\u001b[36m(RayTrainWorker pid=31066)\u001b[0m   warnings.warn(\"There is no pre-trained model with num_in_channels != 3, first layer will be reset\")\n",
      "\u001b[2m\u001b[36m(RayTrainWorker pid=31066)\u001b[0m /opt/conda/lib/python3.7/site-packages/torchvision/models/_utils.py:209: UserWarning: The parameter 'pretrained' is deprecated since 0.13 and will be removed in 0.15, please use 'weights' instead.\n",
      "\u001b[2m\u001b[36m(RayTrainWorker pid=31066)\u001b[0m   f\"The parameter '{pretrained_param}' is deprecated since 0.13 and will be removed in 0.15, \"\n",
      "\u001b[2m\u001b[36m(RayTrainWorker pid=31066)\u001b[0m /opt/conda/lib/python3.7/site-packages/torchvision/models/_utils.py:223: UserWarning: Arguments other than a weight enum or `None` for 'weights' are deprecated since 0.13 and will be removed in 0.15. The current behavior is equivalent to passing `weights=ResNet50_Weights.IMAGENET1K_V1`. You can also use `weights=ResNet50_Weights.DEFAULT` to get the most up-to-date weights.\n",
      "\u001b[2m\u001b[36m(RayTrainWorker pid=31066)\u001b[0m   warnings.warn(msg)\n",
      "\u001b[2m\u001b[36m(RayTrainWorker pid=31066)\u001b[0m 2022-09-07 21:11:28,748\tINFO train_loop_utils.py:300 -- Moving model to device: cpu\n"
     ]
    },
    {
     "name": "stdout",
     "output_type": "stream",
     "text": [
      "\u001b[2m\u001b[36m(RayTrainWorker pid=30223)\u001b[0m {'loss': 16.853878021240234, 'avg_loss': 62.5427131652832}\n"
     ]
    },
    {
     "name": "stderr",
     "output_type": "stream",
     "text": [
      "\u001b[34m\u001b[1mwandb\u001b[0m: Adding directory to artifact (/home/jupyter/ray_results/TorchTrainer_2022-09-07_21-06-06/TorchTrainer_611d7426_8_batch_size=18.0000,format_version=4,future_num_frames=50,history_num_frames=5,model_architecture=resnet50,_2022-09-07_21-10-25/checkpoint_000003)... "
     ]
    },
    {
     "name": "stdout",
     "output_type": "stream",
     "text": [
      "Result for TorchTrainer_611d7426:\n",
      "  _time_this_iter_s: 15.22741413116455\n",
      "  _timestamp: 1662585101\n",
      "  _training_iteration: 4\n",
      "  avg_loss: 62.5427131652832\n",
      "  date: 2022-09-07_21-11-42\n",
      "  done: false\n",
      "  experiment_id: bce9580011204ae892f11fb8c739ac2e\n",
      "  hostname: anish-l5-kit\n",
      "  iterations_since_restore: 4\n",
      "  loss: 16.853878021240234\n",
      "  node_ip: 10.150.0.3\n",
      "  pid: 30153\n",
      "  should_checkpoint: true\n",
      "  time_since_restore: 69.06386518478394\n",
      "  time_this_iter_s: 15.168400526046753\n",
      "  time_total_s: 69.06386518478394\n",
      "  timestamp: 1662585102\n",
      "  timesteps_since_restore: 0\n",
      "  training_iteration: 4\n",
      "  trial_id: 611d7426\n",
      "  warmup_time: 0.009753704071044922\n",
      "  \n"
     ]
    },
    {
     "name": "stderr",
     "output_type": "stream",
     "text": [
      "Done. 1.5s\n"
     ]
    },
    {
     "name": "stdout",
     "output_type": "stream",
     "text": [
      "\u001b[2m\u001b[36m(RayTrainWorker pid=31066)\u001b[0m {'loss': 57.298194885253906, 'avg_loss': 57.298194885253906}\n"
     ]
    },
    {
     "name": "stderr",
     "output_type": "stream",
     "text": [
      "\u001b[34m\u001b[1mwandb\u001b[0m: Adding directory to artifact (/home/jupyter/ray_results/TorchTrainer_2022-09-07_21-06-06/TorchTrainer_7e39ebde_9_batch_size=24.0000,format_version=4,future_num_frames=50,history_num_frames=5,model_architecture=resnet50,_2022-09-07_21-11-14/checkpoint_000000)... "
     ]
    },
    {
     "name": "stdout",
     "output_type": "stream",
     "text": [
      "Result for TorchTrainer_7e39ebde:\n",
      "  _time_this_iter_s: 28.106632471084595\n",
      "  _timestamp: 1662585110\n",
      "  _training_iteration: 1\n",
      "  avg_loss: 57.298194885253906\n",
      "  date: 2022-09-07_21-11-50\n",
      "  done: false\n",
      "  experiment_id: 32ca8538878a4c0c8911eda81c682137\n",
      "  hostname: anish-l5-kit\n",
      "  iterations_since_restore: 1\n",
      "  loss: 57.298194885253906\n",
      "  node_ip: 10.150.0.3\n",
      "  pid: 30991\n",
      "  should_checkpoint: true\n",
      "  time_since_restore: 32.18951964378357\n",
      "  time_this_iter_s: 32.18951964378357\n",
      "  time_total_s: 32.18951964378357\n",
      "  timestamp: 1662585110\n",
      "  timesteps_since_restore: 0\n",
      "  training_iteration: 1\n",
      "  trial_id: 7e39ebde\n",
      "  warmup_time: 0.005149126052856445\n",
      "  \n"
     ]
    },
    {
     "name": "stderr",
     "output_type": "stream",
     "text": [
      "Done. 1.0s\n"
     ]
    },
    {
     "name": "stdout",
     "output_type": "stream",
     "text": [
      "\u001b[2m\u001b[36m(RayTrainWorker pid=30223)\u001b[0m {'loss': 93.33875274658203, 'avg_loss': 68.70192108154296}\n",
      "Result for TorchTrainer_611d7426:\n",
      "  _time_this_iter_s: 12.791445255279541\n",
      "  _timestamp: 1662585114\n",
      "  _training_iteration: 5\n",
      "  avg_loss: 68.70192108154296\n",
      "  date: 2022-09-07_21-11-54\n",
      "  done: false\n",
      "  experiment_id: bce9580011204ae892f11fb8c739ac2e\n",
      "  hostname: anish-l5-kit\n",
      "  iterations_since_restore: 5\n",
      "  loss: 93.33875274658203\n",
      "  node_ip: 10.150.0.3\n",
      "  pid: 30153\n",
      "  should_checkpoint: true\n",
      "  time_since_restore: 81.7708113193512\n",
      "  time_this_iter_s: 12.70694613456726\n",
      "  time_total_s: 81.7708113193512\n",
      "  timestamp: 1662585114\n",
      "  timesteps_since_restore: 0\n",
      "  training_iteration: 5\n",
      "  trial_id: 611d7426\n",
      "  warmup_time: 0.009753704071044922\n",
      "  \n"
     ]
    },
    {
     "name": "stderr",
     "output_type": "stream",
     "text": [
      "\u001b[34m\u001b[1mwandb\u001b[0m: Adding directory to artifact (/home/jupyter/ray_results/TorchTrainer_2022-09-07_21-06-06/TorchTrainer_611d7426_8_batch_size=18.0000,format_version=4,future_num_frames=50,history_num_frames=5,model_architecture=resnet50,_2022-09-07_21-10-25/checkpoint_000004)... Done. 1.0s\n",
      "\u001b[34m\u001b[1mwandb\u001b[0m: Adding directory to artifact (/home/jupyter/ray_results/TorchTrainer_2022-09-07_21-06-06/TorchTrainer_611d7426_8_batch_size=18.0000,format_version=4,future_num_frames=50,history_num_frames=5,model_architecture=resnet50,_2022-09-07_21-10-25/checkpoint_000004)... Done. 0.3s\n"
     ]
    },
    {
     "data": {
      "text/html": [
       "Waiting for W&B process to finish... <strong style=\"color:green\">(success).</strong>"
      ],
      "text/plain": [
       "<IPython.core.display.HTML object>"
      ]
     },
     "metadata": {},
     "output_type": "display_data"
    },
    {
     "data": {
      "application/vnd.jupyter.widget-view+json": {
       "model_id": "b8640bd225b349a3b0cfb0fadec18ece",
       "version_major": 2,
       "version_minor": 0
      },
      "text/plain": [
       "VBox(children=(Label(value='456.836 MB of 456.836 MB uploaded (91.307 MB deduped)\\r'), FloatProgress(value=1.0…"
      ]
     },
     "metadata": {},
     "output_type": "display_data"
    },
    {
     "data": {
      "text/html": [
       "W&B sync reduced upload amount by 20.0%             "
      ],
      "text/plain": [
       "<IPython.core.display.HTML object>"
      ]
     },
     "metadata": {},
     "output_type": "display_data"
    },
    {
     "name": "stdout",
     "output_type": "stream",
     "text": [
      "Result for TorchTrainer_611d7426:\n",
      "  _time_this_iter_s: 12.791445255279541\n",
      "  _timestamp: 1662585114\n",
      "  _training_iteration: 5\n",
      "  avg_loss: 68.70192108154296\n",
      "  date: 2022-09-07_21-11-54\n",
      "  done: true\n",
      "  experiment_id: bce9580011204ae892f11fb8c739ac2e\n",
      "  experiment_tag: 8_batch_size=18.0000,format_version=4,future_num_frames=50,history_num_frames=5,model_architecture=resnet50,render_ego_history=False,step_time=0.1000,dataset_meta_key=meta_json,disable_traffic_light_faces=False,ego_center=0_25_0_5,filter_agents_threshold=0.5000,map_type=py_semantic,pixel_size=0_5_0_5,raster_size=224_224,satellite_map_key=aerial_map_aerial_map_png,semantic_map_key=semantic_map_semantic_map_pb,set_origin_to_bottom=True,batch_size=12,key=scenes_sample_zarr,num_workers=16,perturb_probability=0.0000,shuffle=True,checkpoint_every_n_steps=10000,eval_every_n_steps=10000,max_num_steps=5,batch_size=12,key=scenes_sample_zarr,num_workers=16,shuffle=False,dataset_key=scenes_sample_zarr,lr=0.0016,max_num_steps=5,num_workers=4,shuffle=True\n",
      "  hostname: anish-l5-kit\n",
      "  iterations_since_restore: 5\n",
      "  loss: 93.33875274658203\n",
      "  node_ip: 10.150.0.3\n",
      "  pid: 30153\n",
      "  should_checkpoint: true\n",
      "  time_since_restore: 81.7708113193512\n",
      "  time_this_iter_s: 12.70694613456726\n",
      "  time_total_s: 81.7708113193512\n",
      "  timestamp: 1662585114\n",
      "  timesteps_since_restore: 0\n",
      "  training_iteration: 5\n",
      "  trial_id: 611d7426\n",
      "  warmup_time: 0.009753704071044922\n",
      "  \n"
     ]
    },
    {
     "data": {
      "text/html": [
       "<style>\n",
       "    table.wandb td:nth-child(1) { padding: 0 10px; text-align: left ; width: auto;} td:nth-child(2) {text-align: left ; width: 100%}\n",
       "    .wandb-row { display: flex; flex-direction: row; flex-wrap: wrap; justify-content: flex-start; width: 100% }\n",
       "    .wandb-col { display: flex; flex-direction: column; flex-basis: 100%; flex: 1; padding: 10px; }\n",
       "    </style>\n",
       "<div class=\"wandb-row\"><div class=\"wandb-col\"><h3>Run history:</h3><br/><table class=\"wandb\"><tr><td>avg_loss</td><td>█▁▇▂▄</td></tr><tr><td>iterations_since_restore</td><td>▁▃▅▆█</td></tr><tr><td>loss</td><td>▆▂█▁▇</td></tr><tr><td>time_since_restore</td><td>▁▃▅▆█</td></tr><tr><td>time_this_iter_s</td><td>█▂▂▂▁</td></tr><tr><td>time_total_s</td><td>▁▃▅▆█</td></tr><tr><td>timestamp</td><td>▁▃▅▇█</td></tr><tr><td>timesteps_since_restore</td><td>▁▁▁▁▁</td></tr><tr><td>training_iteration</td><td>▁▃▅▆█</td></tr><tr><td>warmup_time</td><td>▁▁▁▁▁</td></tr></table><br/></div><div class=\"wandb-col\"><h3>Run summary:</h3><br/><table class=\"wandb\"><tr><td>avg_loss</td><td>68.70192</td></tr><tr><td>iterations_since_restore</td><td>5</td></tr><tr><td>loss</td><td>93.33875</td></tr><tr><td>time_since_restore</td><td>81.77081</td></tr><tr><td>time_this_iter_s</td><td>12.70695</td></tr><tr><td>time_total_s</td><td>81.77081</td></tr><tr><td>timestamp</td><td>1662585114</td></tr><tr><td>timesteps_since_restore</td><td>0</td></tr><tr><td>training_iteration</td><td>5</td></tr><tr><td>warmup_time</td><td>0.00975</td></tr></table><br/></div></div>"
      ],
      "text/plain": [
       "<IPython.core.display.HTML object>"
      ]
     },
     "metadata": {},
     "output_type": "display_data"
    },
    {
     "data": {
      "text/html": [
       "Synced <strong style=\"color:#cdcd00\">TorchTrainer_611d7426</strong>: <a href=\"https://wandb.ai/l5-demo/l5-simulation-trials/runs/611d7426\" target=\"_blank\">https://wandb.ai/l5-demo/l5-simulation-trials/runs/611d7426</a><br/>Synced 7 W&B file(s), 0 media file(s), 12 artifact file(s) and 1 other file(s)"
      ],
      "text/plain": [
       "<IPython.core.display.HTML object>"
      ]
     },
     "metadata": {},
     "output_type": "display_data"
    },
    {
     "data": {
      "text/html": [
       "Find logs at: <code>./wandb/run-20220907_211026-611d7426/logs</code>"
      ],
      "text/plain": [
       "<IPython.core.display.HTML object>"
      ]
     },
     "metadata": {},
     "output_type": "display_data"
    },
    {
     "name": "stdout",
     "output_type": "stream",
     "text": [
      "\u001b[2m\u001b[36m(RayTrainWorker pid=31066)\u001b[0m {'loss': 42.44829177856445, 'avg_loss': 49.87324333190918}\n"
     ]
    },
    {
     "name": "stderr",
     "output_type": "stream",
     "text": [
      "\u001b[34m\u001b[1mwandb\u001b[0m: Adding directory to artifact (/home/jupyter/ray_results/TorchTrainer_2022-09-07_21-06-06/TorchTrainer_7e39ebde_9_batch_size=24.0000,format_version=4,future_num_frames=50,history_num_frames=5,model_architecture=resnet50,_2022-09-07_21-11-14/checkpoint_000001)... "
     ]
    },
    {
     "name": "stdout",
     "output_type": "stream",
     "text": [
      "Result for TorchTrainer_7e39ebde:\n",
      "  _time_this_iter_s: 18.113369464874268\n",
      "  _timestamp: 1662585128\n",
      "  _training_iteration: 2\n",
      "  avg_loss: 49.87324333190918\n",
      "  date: 2022-09-07_21-12-08\n",
      "  done: false\n",
      "  experiment_id: 32ca8538878a4c0c8911eda81c682137\n",
      "  hostname: anish-l5-kit\n",
      "  iterations_since_restore: 2\n",
      "  loss: 42.44829177856445\n",
      "  node_ip: 10.150.0.3\n",
      "  pid: 30991\n",
      "  should_checkpoint: true\n",
      "  time_since_restore: 50.37285923957825\n",
      "  time_this_iter_s: 18.183339595794678\n",
      "  time_total_s: 50.37285923957825\n",
      "  timestamp: 1662585128\n",
      "  timesteps_since_restore: 0\n",
      "  training_iteration: 2\n",
      "  trial_id: 7e39ebde\n",
      "  warmup_time: 0.005149126052856445\n",
      "  \n"
     ]
    },
    {
     "name": "stderr",
     "output_type": "stream",
     "text": [
      "Done. 1.0s\n",
      "\u001b[2m\u001b[36m(RayTrainWorker pid=31908)\u001b[0m 2022-09-07 21:12:15,080\tINFO config.py:72 -- Setting up process group for: env:// [rank=0, world_size=1]\n",
      "\u001b[2m\u001b[36m(RayTrainWorker pid=31908)\u001b[0m /opt/conda/lib/python3.7/site-packages/l5kit/planning/rasterized/model.py:31: UserWarning: There is no pre-trained model with num_in_channels != 3, first layer will be reset\n",
      "\u001b[2m\u001b[36m(RayTrainWorker pid=31908)\u001b[0m   warnings.warn(\"There is no pre-trained model with num_in_channels != 3, first layer will be reset\")\n",
      "\u001b[2m\u001b[36m(RayTrainWorker pid=31908)\u001b[0m /opt/conda/lib/python3.7/site-packages/torchvision/models/_utils.py:209: UserWarning: The parameter 'pretrained' is deprecated since 0.13 and will be removed in 0.15, please use 'weights' instead.\n",
      "\u001b[2m\u001b[36m(RayTrainWorker pid=31908)\u001b[0m   f\"The parameter '{pretrained_param}' is deprecated since 0.13 and will be removed in 0.15, \"\n",
      "\u001b[2m\u001b[36m(RayTrainWorker pid=31908)\u001b[0m /opt/conda/lib/python3.7/site-packages/torchvision/models/_utils.py:223: UserWarning: Arguments other than a weight enum or `None` for 'weights' are deprecated since 0.13 and will be removed in 0.15. The current behavior is equivalent to passing `weights=ResNet50_Weights.IMAGENET1K_V1`. You can also use `weights=ResNet50_Weights.DEFAULT` to get the most up-to-date weights.\n",
      "\u001b[2m\u001b[36m(RayTrainWorker pid=31908)\u001b[0m   warnings.warn(msg)\n",
      "\u001b[2m\u001b[36m(RayTrainWorker pid=31908)\u001b[0m 2022-09-07 21:12:21,112\tINFO train_loop_utils.py:300 -- Moving model to device: cpu\n"
     ]
    },
    {
     "name": "stdout",
     "output_type": "stream",
     "text": [
      "\u001b[2m\u001b[36m(RayTrainWorker pid=31066)\u001b[0m {'loss': 44.227928161621094, 'avg_loss': 47.99147160847982}\n"
     ]
    },
    {
     "name": "stderr",
     "output_type": "stream",
     "text": [
      "\u001b[34m\u001b[1mwandb\u001b[0m: Adding directory to artifact (/home/jupyter/ray_results/TorchTrainer_2022-09-07_21-06-06/TorchTrainer_7e39ebde_9_batch_size=24.0000,format_version=4,future_num_frames=50,history_num_frames=5,model_architecture=resnet50,_2022-09-07_21-11-14/checkpoint_000002)... "
     ]
    },
    {
     "name": "stdout",
     "output_type": "stream",
     "text": [
      "Result for TorchTrainer_7e39ebde:\n",
      "  _time_this_iter_s: 19.18120527267456\n",
      "  _timestamp: 1662585147\n",
      "  _training_iteration: 3\n",
      "  avg_loss: 47.99147160847982\n",
      "  date: 2022-09-07_21-12-27\n",
      "  done: false\n",
      "  experiment_id: 32ca8538878a4c0c8911eda81c682137\n",
      "  hostname: anish-l5-kit\n",
      "  iterations_since_restore: 3\n",
      "  loss: 44.227928161621094\n",
      "  node_ip: 10.150.0.3\n",
      "  pid: 30991\n",
      "  should_checkpoint: true\n",
      "  time_since_restore: 69.42990136146545\n",
      "  time_this_iter_s: 19.057042121887207\n",
      "  time_total_s: 69.42990136146545\n",
      "  timestamp: 1662585147\n",
      "  timesteps_since_restore: 0\n",
      "  training_iteration: 3\n",
      "  trial_id: 7e39ebde\n",
      "  warmup_time: 0.005149126052856445\n",
      "  \n"
     ]
    },
    {
     "name": "stderr",
     "output_type": "stream",
     "text": [
      "Done. 1.0s\n"
     ]
    },
    {
     "name": "stdout",
     "output_type": "stream",
     "text": [
      "\u001b[2m\u001b[36m(RayTrainWorker pid=31908)\u001b[0m {'loss': 33.433773040771484, 'avg_loss': 33.433773040771484}\n",
      "Result for TorchTrainer_9b8feb8e:\n",
      "  _time_this_iter_s: 15.778479814529419\n",
      "  _timestamp: 1662585151\n",
      "  _training_iteration: 1\n",
      "  avg_loss: 33.433773040771484\n",
      "  date: 2022-09-07_21-12-31\n",
      "  done: false\n",
      "  experiment_id: 8b88f15dfc9445518d5f122c8d9f65da\n",
      "  hostname: anish-l5-kit\n",
      "  iterations_since_restore: 1\n",
      "  loss: 33.433773040771484\n",
      "  node_ip: 10.150.0.3\n",
      "  pid: 31815\n",
      "  should_checkpoint: true\n",
      "  time_since_restore: 20.216514825820923\n",
      "  time_this_iter_s: 20.216514825820923\n",
      "  time_total_s: 20.216514825820923\n",
      "  timestamp: 1662585151\n",
      "  timesteps_since_restore: 0\n",
      "  training_iteration: 1\n",
      "  trial_id: 9b8feb8e\n",
      "  warmup_time: 0.00574803352355957\n",
      "  \n"
     ]
    },
    {
     "name": "stderr",
     "output_type": "stream",
     "text": [
      "\u001b[34m\u001b[1mwandb\u001b[0m: Adding directory to artifact (/home/jupyter/ray_results/TorchTrainer_2022-09-07_21-06-06/TorchTrainer_9b8feb8e_10_batch_size=12.0000,format_version=4,future_num_frames=50,history_num_frames=5,model_architecture=resnet50_2022-09-07_21-12-06/checkpoint_000000)... Done. 1.0s\n"
     ]
    },
    {
     "name": "stdout",
     "output_type": "stream",
     "text": [
      "\u001b[2m\u001b[36m(RayTrainWorker pid=31908)\u001b[0m {'loss': 45.98919677734375, 'avg_loss': 39.71148490905762}\n"
     ]
    },
    {
     "name": "stderr",
     "output_type": "stream",
     "text": [
      "\u001b[34m\u001b[1mwandb\u001b[0m: Adding directory to artifact (/home/jupyter/ray_results/TorchTrainer_2022-09-07_21-06-06/TorchTrainer_9b8feb8e_10_batch_size=12.0000,format_version=4,future_num_frames=50,history_num_frames=5,model_architecture=resnet50_2022-09-07_21-12-06/checkpoint_000001)... "
     ]
    },
    {
     "name": "stdout",
     "output_type": "stream",
     "text": [
      "Result for TorchTrainer_9b8feb8e:\n",
      "  _time_this_iter_s: 8.413378953933716\n",
      "  _timestamp: 1662585159\n",
      "  _training_iteration: 2\n",
      "  avg_loss: 39.71148490905762\n",
      "  date: 2022-09-07_21-12-40\n",
      "  done: false\n",
      "  experiment_id: 8b88f15dfc9445518d5f122c8d9f65da\n",
      "  hostname: anish-l5-kit\n",
      "  iterations_since_restore: 2\n",
      "  loss: 45.98919677734375\n",
      "  node_ip: 10.150.0.3\n",
      "  pid: 31815\n",
      "  should_checkpoint: true\n",
      "  time_since_restore: 28.579983234405518\n",
      "  time_this_iter_s: 8.363468408584595\n",
      "  time_total_s: 28.579983234405518\n",
      "  timestamp: 1662585160\n",
      "  timesteps_since_restore: 0\n",
      "  training_iteration: 2\n",
      "  trial_id: 9b8feb8e\n",
      "  warmup_time: 0.00574803352355957\n",
      "  \n"
     ]
    },
    {
     "name": "stderr",
     "output_type": "stream",
     "text": [
      "Done. 1.0s\n"
     ]
    },
    {
     "name": "stdout",
     "output_type": "stream",
     "text": [
      "\u001b[2m\u001b[36m(RayTrainWorker pid=31066)\u001b[0m {'loss': 80.68941497802734, 'avg_loss': 56.1659574508667}\n",
      "Result for TorchTrainer_7e39ebde:\n",
      "  _time_this_iter_s: 17.21562671661377\n",
      "  _timestamp: 1662585164\n",
      "  _training_iteration: 4\n",
      "  avg_loss: 56.1659574508667\n",
      "  date: 2022-09-07_21-12-45\n",
      "  done: false\n",
      "  experiment_id: 32ca8538878a4c0c8911eda81c682137\n",
      "  hostname: anish-l5-kit\n",
      "  iterations_since_restore: 4\n",
      "  loss: 80.68941497802734\n",
      "  node_ip: 10.150.0.3\n",
      "  pid: 30991\n",
      "  should_checkpoint: true\n",
      "  time_since_restore: 86.61032295227051\n",
      "  time_this_iter_s: 17.180421590805054\n",
      "  time_total_s: 86.61032295227051\n",
      "  timestamp: 1662585165\n",
      "  timesteps_since_restore: 0\n",
      "  training_iteration: 4\n",
      "  trial_id: 7e39ebde\n",
      "  warmup_time: 0.005149126052856445\n",
      "  \n"
     ]
    },
    {
     "name": "stderr",
     "output_type": "stream",
     "text": [
      "\u001b[34m\u001b[1mwandb\u001b[0m: Adding directory to artifact (/home/jupyter/ray_results/TorchTrainer_2022-09-07_21-06-06/TorchTrainer_7e39ebde_9_batch_size=24.0000,format_version=4,future_num_frames=50,history_num_frames=5,model_architecture=resnet50,_2022-09-07_21-11-14/checkpoint_000003)... Done. 1.0s\n"
     ]
    },
    {
     "name": "stdout",
     "output_type": "stream",
     "text": [
      "\u001b[2m\u001b[36m(RayTrainWorker pid=31908)\u001b[0m {'loss': 85.8507308959961, 'avg_loss': 55.091233571370445}\n"
     ]
    },
    {
     "name": "stderr",
     "output_type": "stream",
     "text": [
      "\u001b[34m\u001b[1mwandb\u001b[0m: Adding directory to artifact (/home/jupyter/ray_results/TorchTrainer_2022-09-07_21-06-06/TorchTrainer_9b8feb8e_10_batch_size=12.0000,format_version=4,future_num_frames=50,history_num_frames=5,model_architecture=resnet50_2022-09-07_21-12-06/checkpoint_000002)... "
     ]
    },
    {
     "name": "stdout",
     "output_type": "stream",
     "text": [
      "Result for TorchTrainer_9b8feb8e:\n",
      "  _time_this_iter_s: 9.07651686668396\n",
      "  _timestamp: 1662585168\n",
      "  _training_iteration: 3\n",
      "  avg_loss: 55.091233571370445\n",
      "  date: 2022-09-07_21-12-49\n",
      "  done: false\n",
      "  experiment_id: 8b88f15dfc9445518d5f122c8d9f65da\n",
      "  hostname: anish-l5-kit\n",
      "  iterations_since_restore: 3\n",
      "  loss: 85.8507308959961\n",
      "  node_ip: 10.150.0.3\n",
      "  pid: 31815\n",
      "  should_checkpoint: true\n",
      "  time_since_restore: 37.622604846954346\n",
      "  time_this_iter_s: 9.042621612548828\n",
      "  time_total_s: 37.622604846954346\n",
      "  timestamp: 1662585169\n",
      "  timesteps_since_restore: 0\n",
      "  training_iteration: 3\n",
      "  trial_id: 9b8feb8e\n",
      "  warmup_time: 0.00574803352355957\n",
      "  \n"
     ]
    },
    {
     "name": "stderr",
     "output_type": "stream",
     "text": [
      "Done. 1.5s\n"
     ]
    },
    {
     "name": "stdout",
     "output_type": "stream",
     "text": [
      "\u001b[2m\u001b[36m(RayTrainWorker pid=31908)\u001b[0m {'loss': 64.64684295654297, 'avg_loss': 57.480135917663574}\n"
     ]
    },
    {
     "name": "stderr",
     "output_type": "stream",
     "text": [
      "\u001b[34m\u001b[1mwandb\u001b[0m: Adding directory to artifact (/home/jupyter/ray_results/TorchTrainer_2022-09-07_21-06-06/TorchTrainer_9b8feb8e_10_batch_size=12.0000,format_version=4,future_num_frames=50,history_num_frames=5,model_architecture=resnet50_2022-09-07_21-12-06/checkpoint_000003)... "
     ]
    },
    {
     "name": "stdout",
     "output_type": "stream",
     "text": [
      "Result for TorchTrainer_9b8feb8e:\n",
      "  _time_this_iter_s: 8.164771556854248\n",
      "  _timestamp: 1662585176\n",
      "  _training_iteration: 4\n",
      "  avg_loss: 57.480135917663574\n",
      "  date: 2022-09-07_21-12-57\n",
      "  done: false\n",
      "  experiment_id: 8b88f15dfc9445518d5f122c8d9f65da\n",
      "  hostname: anish-l5-kit\n",
      "  iterations_since_restore: 4\n",
      "  loss: 64.64684295654297\n",
      "  node_ip: 10.150.0.3\n",
      "  pid: 31815\n",
      "  should_checkpoint: true\n",
      "  time_since_restore: 45.783631563186646\n",
      "  time_this_iter_s: 8.1610267162323\n",
      "  time_total_s: 45.783631563186646\n",
      "  timestamp: 1662585177\n",
      "  timesteps_since_restore: 0\n",
      "  training_iteration: 4\n",
      "  trial_id: 9b8feb8e\n",
      "  warmup_time: 0.00574803352355957\n",
      "  \n"
     ]
    },
    {
     "name": "stderr",
     "output_type": "stream",
     "text": [
      "Done. 1.4s\n"
     ]
    },
    {
     "name": "stdout",
     "output_type": "stream",
     "text": [
      "\u001b[2m\u001b[36m(RayTrainWorker pid=31066)\u001b[0m {'loss': 37.86739730834961, 'avg_loss': 52.50624542236328}\n"
     ]
    },
    {
     "name": "stderr",
     "output_type": "stream",
     "text": [
      "\u001b[34m\u001b[1mwandb\u001b[0m: Adding directory to artifact (/home/jupyter/ray_results/TorchTrainer_2022-09-07_21-06-06/TorchTrainer_7e39ebde_9_batch_size=24.0000,format_version=4,future_num_frames=50,history_num_frames=5,model_architecture=resnet50,_2022-09-07_21-11-14/checkpoint_000004)... "
     ]
    },
    {
     "name": "stdout",
     "output_type": "stream",
     "text": [
      "Result for TorchTrainer_7e39ebde:\n",
      "  _time_this_iter_s: 18.638954877853394\n",
      "  _timestamp: 1662585183\n",
      "  _training_iteration: 5\n",
      "  avg_loss: 52.50624542236328\n",
      "  date: 2022-09-07_21-13-03\n",
      "  done: false\n",
      "  experiment_id: 32ca8538878a4c0c8911eda81c682137\n",
      "  hostname: anish-l5-kit\n",
      "  iterations_since_restore: 5\n",
      "  loss: 37.86739730834961\n",
      "  node_ip: 10.150.0.3\n",
      "  pid: 30991\n",
      "  should_checkpoint: true\n",
      "  time_since_restore: 105.29592990875244\n",
      "  time_this_iter_s: 18.685606956481934\n",
      "  time_total_s: 105.29592990875244\n",
      "  timestamp: 1662585183\n",
      "  timesteps_since_restore: 0\n",
      "  training_iteration: 5\n",
      "  trial_id: 7e39ebde\n",
      "  warmup_time: 0.005149126052856445\n",
      "  \n"
     ]
    },
    {
     "name": "stderr",
     "output_type": "stream",
     "text": [
      "Done. 1.0s\n",
      "\u001b[34m\u001b[1mwandb\u001b[0m: Adding directory to artifact (/home/jupyter/ray_results/TorchTrainer_2022-09-07_21-06-06/TorchTrainer_7e39ebde_9_batch_size=24.0000,format_version=4,future_num_frames=50,history_num_frames=5,model_architecture=resnet50,_2022-09-07_21-11-14/checkpoint_000004)... Done. 0.3s\n"
     ]
    },
    {
     "data": {
      "text/html": [
       "Waiting for W&B process to finish... <strong style=\"color:green\">(success).</strong>"
      ],
      "text/plain": [
       "<IPython.core.display.HTML object>"
      ]
     },
     "metadata": {},
     "output_type": "display_data"
    },
    {
     "name": "stdout",
     "output_type": "stream",
     "text": [
      "\u001b[2m\u001b[36m(RayTrainWorker pid=31908)\u001b[0m {'loss': 119.39801025390625, 'avg_loss': 69.86371078491212}\n"
     ]
    },
    {
     "data": {
      "application/vnd.jupyter.widget-view+json": {
       "model_id": "09fdad17350e4ae5b8870c1bba0d2659",
       "version_major": 2,
       "version_minor": 0
      },
      "text/plain": [
       "VBox(children=(Label(value='456.836 MB of 456.836 MB uploaded (91.307 MB deduped)\\r'), FloatProgress(value=1.0…"
      ]
     },
     "metadata": {},
     "output_type": "display_data"
    },
    {
     "data": {
      "text/html": [
       "W&B sync reduced upload amount by 20.0%             "
      ],
      "text/plain": [
       "<IPython.core.display.HTML object>"
      ]
     },
     "metadata": {},
     "output_type": "display_data"
    },
    {
     "data": {
      "text/html": [
       "<style>\n",
       "    table.wandb td:nth-child(1) { padding: 0 10px; text-align: left ; width: auto;} td:nth-child(2) {text-align: left ; width: 100%}\n",
       "    .wandb-row { display: flex; flex-direction: row; flex-wrap: wrap; justify-content: flex-start; width: 100% }\n",
       "    .wandb-col { display: flex; flex-direction: column; flex-basis: 100%; flex: 1; padding: 10px; }\n",
       "    </style>\n",
       "<div class=\"wandb-row\"><div class=\"wandb-col\"><h3>Run history:</h3><br/><table class=\"wandb\"><tr><td>avg_loss</td><td>█▂▁▇▄</td></tr><tr><td>iterations_since_restore</td><td>▁▃▅▆█</td></tr><tr><td>loss</td><td>▄▂▂█▁</td></tr><tr><td>time_since_restore</td><td>▁▃▅▆█</td></tr><tr><td>time_this_iter_s</td><td>█▁▂▁▂</td></tr><tr><td>time_total_s</td><td>▁▃▅▆█</td></tr><tr><td>timestamp</td><td>▁▃▅▆█</td></tr><tr><td>timesteps_since_restore</td><td>▁▁▁▁▁</td></tr><tr><td>training_iteration</td><td>▁▃▅▆█</td></tr><tr><td>warmup_time</td><td>▁▁▁▁▁</td></tr></table><br/></div><div class=\"wandb-col\"><h3>Run summary:</h3><br/><table class=\"wandb\"><tr><td>avg_loss</td><td>52.50625</td></tr><tr><td>iterations_since_restore</td><td>5</td></tr><tr><td>loss</td><td>37.8674</td></tr><tr><td>time_since_restore</td><td>105.29593</td></tr><tr><td>time_this_iter_s</td><td>18.68561</td></tr><tr><td>time_total_s</td><td>105.29593</td></tr><tr><td>timestamp</td><td>1662585183</td></tr><tr><td>timesteps_since_restore</td><td>0</td></tr><tr><td>training_iteration</td><td>5</td></tr><tr><td>warmup_time</td><td>0.00515</td></tr></table><br/></div></div>"
      ],
      "text/plain": [
       "<IPython.core.display.HTML object>"
      ]
     },
     "metadata": {},
     "output_type": "display_data"
    },
    {
     "data": {
      "text/html": [
       "Synced <strong style=\"color:#cdcd00\">TorchTrainer_7e39ebde</strong>: <a href=\"https://wandb.ai/l5-demo/l5-simulation-trials/runs/7e39ebde\" target=\"_blank\">https://wandb.ai/l5-demo/l5-simulation-trials/runs/7e39ebde</a><br/>Synced 7 W&B file(s), 0 media file(s), 12 artifact file(s) and 1 other file(s)"
      ],
      "text/plain": [
       "<IPython.core.display.HTML object>"
      ]
     },
     "metadata": {},
     "output_type": "display_data"
    },
    {
     "data": {
      "text/html": [
       "Find logs at: <code>./wandb/run-20220907_211115-7e39ebde/logs</code>"
      ],
      "text/plain": [
       "<IPython.core.display.HTML object>"
      ]
     },
     "metadata": {},
     "output_type": "display_data"
    },
    {
     "name": "stdout",
     "output_type": "stream",
     "text": [
      "Result for TorchTrainer_7e39ebde:\n",
      "  _time_this_iter_s: 18.638954877853394\n",
      "  _timestamp: 1662585183\n",
      "  _training_iteration: 5\n",
      "  avg_loss: 52.50624542236328\n",
      "  date: 2022-09-07_21-13-03\n",
      "  done: true\n",
      "  experiment_id: 32ca8538878a4c0c8911eda81c682137\n",
      "  experiment_tag: 9_batch_size=24.0000,format_version=4,future_num_frames=50,history_num_frames=5,model_architecture=resnet50,render_ego_history=False,step_time=0.1000,dataset_meta_key=meta_json,disable_traffic_light_faces=False,ego_center=0_25_0_5,filter_agents_threshold=0.5000,map_type=py_semantic,pixel_size=0_5_0_5,raster_size=224_224,satellite_map_key=aerial_map_aerial_map_png,semantic_map_key=semantic_map_semantic_map_pb,set_origin_to_bottom=True,batch_size=12,key=scenes_sample_zarr,num_workers=16,perturb_probability=0.0000,shuffle=True,checkpoint_every_n_steps=10000,eval_every_n_steps=10000,max_num_steps=5,batch_size=12,key=scenes_sample_zarr,num_workers=16,shuffle=False,dataset_key=scenes_sample_zarr,lr=0.0005,max_num_steps=5,num_workers=4,shuffle=True\n",
      "  hostname: anish-l5-kit\n",
      "  iterations_since_restore: 5\n",
      "  loss: 37.86739730834961\n",
      "  node_ip: 10.150.0.3\n",
      "  pid: 30991\n",
      "  should_checkpoint: true\n",
      "  time_since_restore: 105.29592990875244\n",
      "  time_this_iter_s: 18.685606956481934\n",
      "  time_total_s: 105.29592990875244\n",
      "  timestamp: 1662585183\n",
      "  timesteps_since_restore: 0\n",
      "  training_iteration: 5\n",
      "  trial_id: 7e39ebde\n",
      "  warmup_time: 0.005149126052856445\n",
      "  \n"
     ]
    },
    {
     "name": "stderr",
     "output_type": "stream",
     "text": [
      "\u001b[34m\u001b[1mwandb\u001b[0m: Adding directory to artifact (/home/jupyter/ray_results/TorchTrainer_2022-09-07_21-06-06/TorchTrainer_9b8feb8e_10_batch_size=12.0000,format_version=4,future_num_frames=50,history_num_frames=5,model_architecture=resnet50_2022-09-07_21-12-06/checkpoint_000004)... "
     ]
    },
    {
     "name": "stdout",
     "output_type": "stream",
     "text": [
      "Result for TorchTrainer_9b8feb8e:\n",
      "  _time_this_iter_s: 9.733388423919678\n",
      "  _timestamp: 1662585186\n",
      "  _training_iteration: 5\n",
      "  avg_loss: 69.86371078491212\n",
      "  date: 2022-09-07_21-13-07\n",
      "  done: false\n",
      "  experiment_id: 8b88f15dfc9445518d5f122c8d9f65da\n",
      "  hostname: anish-l5-kit\n",
      "  iterations_since_restore: 5\n",
      "  loss: 119.39801025390625\n",
      "  node_ip: 10.150.0.3\n",
      "  pid: 31815\n",
      "  should_checkpoint: true\n",
      "  time_since_restore: 55.49842095375061\n",
      "  time_this_iter_s: 9.714789390563965\n",
      "  time_total_s: 55.49842095375061\n",
      "  timestamp: 1662585187\n",
      "  timesteps_since_restore: 0\n",
      "  training_iteration: 5\n",
      "  trial_id: 9b8feb8e\n",
      "  warmup_time: 0.00574803352355957\n",
      "  \n"
     ]
    },
    {
     "name": "stderr",
     "output_type": "stream",
     "text": [
      "Done. 1.0s\n",
      "\u001b[34m\u001b[1mwandb\u001b[0m: Adding directory to artifact (/home/jupyter/ray_results/TorchTrainer_2022-09-07_21-06-06/TorchTrainer_9b8feb8e_10_batch_size=12.0000,format_version=4,future_num_frames=50,history_num_frames=5,model_architecture=resnet50_2022-09-07_21-12-06/checkpoint_000004)... Done. 0.3s\n"
     ]
    },
    {
     "data": {
      "text/html": [
       "Waiting for W&B process to finish... <strong style=\"color:green\">(success).</strong>"
      ],
      "text/plain": [
       "<IPython.core.display.HTML object>"
      ]
     },
     "metadata": {},
     "output_type": "display_data"
    },
    {
     "data": {
      "application/vnd.jupyter.widget-view+json": {
       "model_id": "c513524c9e25463e88936aa945a6952f",
       "version_major": 2,
       "version_minor": 0
      },
      "text/plain": [
       "VBox(children=(Label(value='456.836 MB of 456.836 MB uploaded (91.307 MB deduped)\\r'), FloatProgress(value=1.0…"
      ]
     },
     "metadata": {},
     "output_type": "display_data"
    },
    {
     "data": {
      "text/html": [
       "W&B sync reduced upload amount by 20.0%             "
      ],
      "text/plain": [
       "<IPython.core.display.HTML object>"
      ]
     },
     "metadata": {},
     "output_type": "display_data"
    },
    {
     "data": {
      "text/html": [
       "<style>\n",
       "    table.wandb td:nth-child(1) { padding: 0 10px; text-align: left ; width: auto;} td:nth-child(2) {text-align: left ; width: 100%}\n",
       "    .wandb-row { display: flex; flex-direction: row; flex-wrap: wrap; justify-content: flex-start; width: 100% }\n",
       "    .wandb-col { display: flex; flex-direction: column; flex-basis: 100%; flex: 1; padding: 10px; }\n",
       "    </style>\n",
       "<div class=\"wandb-row\"><div class=\"wandb-col\"><h3>Run history:</h3><br/><table class=\"wandb\"><tr><td>avg_loss</td><td>▁▂▅▆█</td></tr><tr><td>iterations_since_restore</td><td>▁▃▅▆█</td></tr><tr><td>loss</td><td>▁▂▅▄█</td></tr><tr><td>time_since_restore</td><td>▁▃▄▆█</td></tr><tr><td>time_this_iter_s</td><td>█▁▂▁▂</td></tr><tr><td>time_total_s</td><td>▁▃▄▆█</td></tr><tr><td>timestamp</td><td>▁▃▅▆█</td></tr><tr><td>timesteps_since_restore</td><td>▁▁▁▁▁</td></tr><tr><td>training_iteration</td><td>▁▃▅▆█</td></tr><tr><td>warmup_time</td><td>▁▁▁▁▁</td></tr></table><br/></div><div class=\"wandb-col\"><h3>Run summary:</h3><br/><table class=\"wandb\"><tr><td>avg_loss</td><td>69.86371</td></tr><tr><td>iterations_since_restore</td><td>5</td></tr><tr><td>loss</td><td>119.39801</td></tr><tr><td>time_since_restore</td><td>55.49842</td></tr><tr><td>time_this_iter_s</td><td>9.71479</td></tr><tr><td>time_total_s</td><td>55.49842</td></tr><tr><td>timestamp</td><td>1662585187</td></tr><tr><td>timesteps_since_restore</td><td>0</td></tr><tr><td>training_iteration</td><td>5</td></tr><tr><td>warmup_time</td><td>0.00575</td></tr></table><br/></div></div>"
      ],
      "text/plain": [
       "<IPython.core.display.HTML object>"
      ]
     },
     "metadata": {},
     "output_type": "display_data"
    },
    {
     "data": {
      "text/html": [
       "Synced <strong style=\"color:#cdcd00\">TorchTrainer_9b8feb8e</strong>: <a href=\"https://wandb.ai/l5-demo/l5-simulation-trials/runs/9b8feb8e\" target=\"_blank\">https://wandb.ai/l5-demo/l5-simulation-trials/runs/9b8feb8e</a><br/>Synced 7 W&B file(s), 0 media file(s), 12 artifact file(s) and 1 other file(s)"
      ],
      "text/plain": [
       "<IPython.core.display.HTML object>"
      ]
     },
     "metadata": {},
     "output_type": "display_data"
    },
    {
     "data": {
      "text/html": [
       "Find logs at: <code>./wandb/run-20220907_211207-9b8feb8e/logs</code>"
      ],
      "text/plain": [
       "<IPython.core.display.HTML object>"
      ]
     },
     "metadata": {},
     "output_type": "display_data"
    },
    {
     "name": "stdout",
     "output_type": "stream",
     "text": [
      "Result for TorchTrainer_9b8feb8e:\n",
      "  _time_this_iter_s: 9.733388423919678\n",
      "  _timestamp: 1662585186\n",
      "  _training_iteration: 5\n",
      "  avg_loss: 69.86371078491212\n",
      "  date: 2022-09-07_21-13-07\n",
      "  done: true\n",
      "  experiment_id: 8b88f15dfc9445518d5f122c8d9f65da\n",
      "  experiment_tag: 10_batch_size=12.0000,format_version=4,future_num_frames=50,history_num_frames=5,model_architecture=resnet50,render_ego_history=False,step_time=0.1000,dataset_meta_key=meta_json,disable_traffic_light_faces=False,ego_center=0_25_0_5,filter_agents_threshold=0.5000,map_type=py_satellite,pixel_size=0_5_0_5,raster_size=224_224,satellite_map_key=aerial_map_aerial_map_png,semantic_map_key=semantic_map_semantic_map_pb,set_origin_to_bottom=True,batch_size=12,key=scenes_sample_zarr,num_workers=16,perturb_probability=0.0000,shuffle=True,checkpoint_every_n_steps=10000,eval_every_n_steps=10000,max_num_steps=5,batch_size=12,key=scenes_sample_zarr,num_workers=16,shuffle=False,dataset_key=scenes_sample_zarr,lr=0.0003,max_num_steps=5,num_workers=4,shuffle=True\n",
      "  hostname: anish-l5-kit\n",
      "  iterations_since_restore: 5\n",
      "  loss: 119.39801025390625\n",
      "  node_ip: 10.150.0.3\n",
      "  pid: 31815\n",
      "  should_checkpoint: true\n",
      "  time_since_restore: 55.49842095375061\n",
      "  time_this_iter_s: 9.714789390563965\n",
      "  time_total_s: 55.49842095375061\n",
      "  timestamp: 1662585187\n",
      "  timesteps_since_restore: 0\n",
      "  training_iteration: 5\n",
      "  trial_id: 9b8feb8e\n",
      "  warmup_time: 0.00574803352355957\n",
      "  \n"
     ]
    },
    {
     "name": "stderr",
     "output_type": "stream",
     "text": [
      "\u001b[2m\u001b[36m(RayTrainWorker pid=413)\u001b[0m 2022-09-07 21:13:28,312\tINFO config.py:72 -- Setting up process group for: env:// [rank=0, world_size=1]\n",
      "\u001b[2m\u001b[36m(RayTrainWorker pid=420)\u001b[0m 2022-09-07 21:13:29,215\tINFO config.py:72 -- Setting up process group for: env:// [rank=0, world_size=1]\n",
      "\u001b[2m\u001b[36m(RayTrainWorker pid=413)\u001b[0m /opt/conda/lib/python3.7/site-packages/l5kit/planning/rasterized/model.py:31: UserWarning: There is no pre-trained model with num_in_channels != 3, first layer will be reset\n",
      "\u001b[2m\u001b[36m(RayTrainWorker pid=413)\u001b[0m   warnings.warn(\"There is no pre-trained model with num_in_channels != 3, first layer will be reset\")\n",
      "\u001b[2m\u001b[36m(RayTrainWorker pid=413)\u001b[0m /opt/conda/lib/python3.7/site-packages/torchvision/models/_utils.py:209: UserWarning: The parameter 'pretrained' is deprecated since 0.13 and will be removed in 0.15, please use 'weights' instead.\n",
      "\u001b[2m\u001b[36m(RayTrainWorker pid=413)\u001b[0m   f\"The parameter '{pretrained_param}' is deprecated since 0.13 and will be removed in 0.15, \"\n",
      "\u001b[2m\u001b[36m(RayTrainWorker pid=413)\u001b[0m /opt/conda/lib/python3.7/site-packages/torchvision/models/_utils.py:223: UserWarning: Arguments other than a weight enum or `None` for 'weights' are deprecated since 0.13 and will be removed in 0.15. The current behavior is equivalent to passing `weights=ResNet50_Weights.IMAGENET1K_V1`. You can also use `weights=ResNet50_Weights.DEFAULT` to get the most up-to-date weights.\n",
      "\u001b[2m\u001b[36m(RayTrainWorker pid=413)\u001b[0m   warnings.warn(msg)\n",
      "\u001b[2m\u001b[36m(RayTrainWorker pid=420)\u001b[0m /opt/conda/lib/python3.7/site-packages/l5kit/planning/rasterized/model.py:31: UserWarning: There is no pre-trained model with num_in_channels != 3, first layer will be reset\n",
      "\u001b[2m\u001b[36m(RayTrainWorker pid=420)\u001b[0m   warnings.warn(\"There is no pre-trained model with num_in_channels != 3, first layer will be reset\")\n",
      "\u001b[2m\u001b[36m(RayTrainWorker pid=420)\u001b[0m /opt/conda/lib/python3.7/site-packages/torchvision/models/_utils.py:209: UserWarning: The parameter 'pretrained' is deprecated since 0.13 and will be removed in 0.15, please use 'weights' instead.\n",
      "\u001b[2m\u001b[36m(RayTrainWorker pid=420)\u001b[0m   f\"The parameter '{pretrained_param}' is deprecated since 0.13 and will be removed in 0.15, \"\n",
      "\u001b[2m\u001b[36m(RayTrainWorker pid=420)\u001b[0m /opt/conda/lib/python3.7/site-packages/torchvision/models/_utils.py:223: UserWarning: Arguments other than a weight enum or `None` for 'weights' are deprecated since 0.13 and will be removed in 0.15. The current behavior is equivalent to passing `weights=ResNet50_Weights.IMAGENET1K_V1`. You can also use `weights=ResNet50_Weights.DEFAULT` to get the most up-to-date weights.\n",
      "\u001b[2m\u001b[36m(RayTrainWorker pid=420)\u001b[0m   warnings.warn(msg)\n",
      "\u001b[2m\u001b[36m(RayTrainWorker pid=413)\u001b[0m 2022-09-07 21:13:36,419\tINFO train_loop_utils.py:300 -- Moving model to device: cpu\n",
      "\u001b[2m\u001b[36m(RayTrainWorker pid=420)\u001b[0m 2022-09-07 21:13:36,959\tINFO train_loop_utils.py:300 -- Moving model to device: cpu\n"
     ]
    },
    {
     "name": "stdout",
     "output_type": "stream",
     "text": [
      "\u001b[2m\u001b[36m(RayTrainWorker pid=413)\u001b[0m {'loss': 48.339210510253906, 'avg_loss': 48.339210510253906}\n"
     ]
    },
    {
     "name": "stderr",
     "output_type": "stream",
     "text": [
      "\u001b[34m\u001b[1mwandb\u001b[0m: Adding directory to artifact (/home/jupyter/ray_results/TorchTrainer_2022-09-07_21-06-06/TorchTrainer_ba8cfb08_11_batch_size=12.0000,format_version=4,future_num_frames=50,history_num_frames=5,model_architecture=resnet50_2022-09-07_21-13-20/checkpoint_000000)... "
     ]
    },
    {
     "name": "stdout",
     "output_type": "stream",
     "text": [
      "Result for TorchTrainer_ba8cfb08:\n",
      "  _time_this_iter_s: 21.050806283950806\n",
      "  _timestamp: 1662585229\n",
      "  _training_iteration: 1\n",
      "  avg_loss: 48.339210510253906\n",
      "  date: 2022-09-07_21-13-50\n",
      "  done: false\n",
      "  experiment_id: 12da93f9422e461983d356970d37ba76\n",
      "  hostname: anish-l5-kit\n",
      "  iterations_since_restore: 1\n",
      "  loss: 48.339210510253906\n",
      "  node_ip: 10.150.0.3\n",
      "  pid: 32745\n",
      "  should_checkpoint: true\n",
      "  time_since_restore: 25.78248929977417\n",
      "  time_this_iter_s: 25.78248929977417\n",
      "  time_total_s: 25.78248929977417\n",
      "  timestamp: 1662585230\n",
      "  timesteps_since_restore: 0\n",
      "  training_iteration: 1\n",
      "  trial_id: ba8cfb08\n",
      "  warmup_time: 0.010708808898925781\n",
      "  \n"
     ]
    },
    {
     "name": "stderr",
     "output_type": "stream",
     "text": [
      "Done. 1.0s\n"
     ]
    },
    {
     "name": "stdout",
     "output_type": "stream",
     "text": [
      "\u001b[2m\u001b[36m(RayTrainWorker pid=413)\u001b[0m {'loss': 41.07661819458008, 'avg_loss': 44.70791435241699}\n"
     ]
    },
    {
     "name": "stderr",
     "output_type": "stream",
     "text": [
      "\u001b[34m\u001b[1mwandb\u001b[0m: Adding directory to artifact (/home/jupyter/ray_results/TorchTrainer_2022-09-07_21-06-06/TorchTrainer_ba8cfb08_11_batch_size=12.0000,format_version=4,future_num_frames=50,history_num_frames=5,model_architecture=resnet50_2022-09-07_21-13-20/checkpoint_000001)... "
     ]
    },
    {
     "name": "stdout",
     "output_type": "stream",
     "text": [
      "Result for TorchTrainer_ba8cfb08:\n",
      "  _time_this_iter_s: 8.480549097061157\n",
      "  _timestamp: 1662585238\n",
      "  _training_iteration: 2\n",
      "  avg_loss: 44.70791435241699\n",
      "  date: 2022-09-07_21-13-58\n",
      "  done: false\n",
      "  experiment_id: 12da93f9422e461983d356970d37ba76\n",
      "  hostname: anish-l5-kit\n",
      "  iterations_since_restore: 2\n",
      "  loss: 41.07661819458008\n",
      "  node_ip: 10.150.0.3\n",
      "  pid: 32745\n",
      "  should_checkpoint: true\n",
      "  time_since_restore: 34.20060634613037\n",
      "  time_this_iter_s: 8.418117046356201\n",
      "  time_total_s: 34.20060634613037\n",
      "  timestamp: 1662585238\n",
      "  timesteps_since_restore: 0\n",
      "  training_iteration: 2\n",
      "  trial_id: ba8cfb08\n",
      "  warmup_time: 0.010708808898925781\n",
      "  \n"
     ]
    },
    {
     "name": "stderr",
     "output_type": "stream",
     "text": [
      "Done. 1.0s\n"
     ]
    },
    {
     "name": "stdout",
     "output_type": "stream",
     "text": [
      "\u001b[2m\u001b[36m(RayTrainWorker pid=420)\u001b[0m {'loss': 26.357561111450195, 'avg_loss': 26.357561111450195}\n"
     ]
    },
    {
     "name": "stderr",
     "output_type": "stream",
     "text": [
      "\u001b[34m\u001b[1mwandb\u001b[0m: Adding directory to artifact (/home/jupyter/ray_results/TorchTrainer_2022-09-07_21-06-06/TorchTrainer_e6749e2e_12_batch_size=24.0000,format_version=4,future_num_frames=50,history_num_frames=5,model_architecture=resnet50_2022-09-07_21-13-21/checkpoint_000000)... "
     ]
    },
    {
     "name": "stdout",
     "output_type": "stream",
     "text": [
      "Result for TorchTrainer_e6749e2e:\n",
      "  _time_this_iter_s: 30.133382320404053\n",
      "  _timestamp: 1662585239\n",
      "  _training_iteration: 1\n",
      "  avg_loss: 26.357561111450195\n",
      "  date: 2022-09-07_21-14-00\n",
      "  done: false\n",
      "  experiment_id: 80e86f1ff34c49d98349a5e7a5766181\n",
      "  hostname: anish-l5-kit\n",
      "  iterations_since_restore: 1\n",
      "  loss: 26.357561111450195\n",
      "  node_ip: 10.150.0.3\n",
      "  pid: 32756\n",
      "  should_checkpoint: true\n",
      "  time_since_restore: 34.88279747962952\n",
      "  time_this_iter_s: 34.88279747962952\n",
      "  time_total_s: 34.88279747962952\n",
      "  timestamp: 1662585240\n",
      "  timesteps_since_restore: 0\n",
      "  training_iteration: 1\n",
      "  trial_id: e6749e2e\n",
      "  warmup_time: 0.006491899490356445\n",
      "  \n"
     ]
    },
    {
     "name": "stderr",
     "output_type": "stream",
     "text": [
      "Done. 1.1s\n"
     ]
    },
    {
     "name": "stdout",
     "output_type": "stream",
     "text": [
      "\u001b[2m\u001b[36m(RayTrainWorker pid=413)\u001b[0m {'loss': 74.394775390625, 'avg_loss': 54.60353469848633}\n"
     ]
    },
    {
     "name": "stderr",
     "output_type": "stream",
     "text": [
      "\u001b[34m\u001b[1mwandb\u001b[0m: Adding directory to artifact (/home/jupyter/ray_results/TorchTrainer_2022-09-07_21-06-06/TorchTrainer_ba8cfb08_11_batch_size=12.0000,format_version=4,future_num_frames=50,history_num_frames=5,model_architecture=resnet50_2022-09-07_21-13-20/checkpoint_000002)... "
     ]
    },
    {
     "name": "stdout",
     "output_type": "stream",
     "text": [
      "Result for TorchTrainer_ba8cfb08:\n",
      "  _time_this_iter_s: 10.222918033599854\n",
      "  _timestamp: 1662585248\n",
      "  _training_iteration: 3\n",
      "  avg_loss: 54.60353469848633\n",
      "  date: 2022-09-07_21-14-09\n",
      "  done: false\n",
      "  experiment_id: 12da93f9422e461983d356970d37ba76\n",
      "  hostname: anish-l5-kit\n",
      "  iterations_since_restore: 3\n",
      "  loss: 74.394775390625\n",
      "  node_ip: 10.150.0.3\n",
      "  pid: 32745\n",
      "  should_checkpoint: true\n",
      "  time_since_restore: 44.38354134559631\n",
      "  time_this_iter_s: 10.182934999465942\n",
      "  time_total_s: 44.38354134559631\n",
      "  timestamp: 1662585249\n",
      "  timesteps_since_restore: 0\n",
      "  training_iteration: 3\n",
      "  trial_id: ba8cfb08\n",
      "  warmup_time: 0.010708808898925781\n",
      "  \n"
     ]
    },
    {
     "name": "stderr",
     "output_type": "stream",
     "text": [
      "Done. 1.0s\n"
     ]
    },
    {
     "name": "stdout",
     "output_type": "stream",
     "text": [
      "\u001b[2m\u001b[36m(RayTrainWorker pid=413)\u001b[0m {'loss': 106.49340057373047, 'avg_loss': 67.57600116729736}\n"
     ]
    },
    {
     "name": "stderr",
     "output_type": "stream",
     "text": [
      "\u001b[34m\u001b[1mwandb\u001b[0m: Adding directory to artifact (/home/jupyter/ray_results/TorchTrainer_2022-09-07_21-06-06/TorchTrainer_ba8cfb08_11_batch_size=12.0000,format_version=4,future_num_frames=50,history_num_frames=5,model_architecture=resnet50_2022-09-07_21-13-20/checkpoint_000003)... "
     ]
    },
    {
     "name": "stdout",
     "output_type": "stream",
     "text": [
      "Result for TorchTrainer_ba8cfb08:\n",
      "  _time_this_iter_s: 8.190218210220337\n",
      "  _timestamp: 1662585256\n",
      "  _training_iteration: 4\n",
      "  avg_loss: 67.57600116729736\n",
      "  date: 2022-09-07_21-14-17\n",
      "  done: false\n",
      "  experiment_id: 12da93f9422e461983d356970d37ba76\n",
      "  hostname: anish-l5-kit\n",
      "  iterations_since_restore: 4\n",
      "  loss: 106.49340057373047\n",
      "  node_ip: 10.150.0.3\n",
      "  pid: 32745\n",
      "  should_checkpoint: true\n",
      "  time_since_restore: 52.58155703544617\n",
      "  time_this_iter_s: 8.198015689849854\n",
      "  time_total_s: 52.58155703544617\n",
      "  timestamp: 1662585257\n",
      "  timesteps_since_restore: 0\n",
      "  training_iteration: 4\n",
      "  trial_id: ba8cfb08\n",
      "  warmup_time: 0.010708808898925781\n",
      "  \n"
     ]
    },
    {
     "name": "stderr",
     "output_type": "stream",
     "text": [
      "Done. 1.0s\n"
     ]
    },
    {
     "name": "stdout",
     "output_type": "stream",
     "text": [
      "\u001b[2m\u001b[36m(RayTrainWorker pid=420)\u001b[0m {'loss': 148.92935180664062, 'avg_loss': 87.64345645904541}\n",
      "Result for TorchTrainer_e6749e2e:\n",
      "  _time_this_iter_s: 18.96597719192505\n",
      "  _timestamp: 1662585258\n",
      "  _training_iteration: 2\n",
      "  avg_loss: 87.64345645904541\n",
      "  date: 2022-09-07_21-14-19\n",
      "  done: false\n",
      "  experiment_id: 80e86f1ff34c49d98349a5e7a5766181\n",
      "  hostname: anish-l5-kit\n",
      "  iterations_since_restore: 2\n",
      "  loss: 148.92935180664062\n",
      "  node_ip: 10.150.0.3\n",
      "  pid: 32756\n",
      "  should_checkpoint: true\n",
      "  time_since_restore: 53.80530524253845\n",
      "  time_this_iter_s: 18.922507762908936\n",
      "  time_total_s: 53.80530524253845\n",
      "  timestamp: 1662585259\n",
      "  timesteps_since_restore: 0\n",
      "  training_iteration: 2\n",
      "  trial_id: e6749e2e\n",
      "  warmup_time: 0.006491899490356445\n",
      "  \n"
     ]
    },
    {
     "name": "stderr",
     "output_type": "stream",
     "text": [
      "\u001b[34m\u001b[1mwandb\u001b[0m: Adding directory to artifact (/home/jupyter/ray_results/TorchTrainer_2022-09-07_21-06-06/TorchTrainer_e6749e2e_12_batch_size=24.0000,format_version=4,future_num_frames=50,history_num_frames=5,model_architecture=resnet50_2022-09-07_21-13-21/checkpoint_000001)... Done. 1.1s\n"
     ]
    },
    {
     "name": "stdout",
     "output_type": "stream",
     "text": [
      "\u001b[2m\u001b[36m(RayTrainWorker pid=413)\u001b[0m {'loss': 30.556293487548828, 'avg_loss': 60.17205963134766}\n"
     ]
    },
    {
     "name": "stderr",
     "output_type": "stream",
     "text": [
      "\u001b[34m\u001b[1mwandb\u001b[0m: Adding directory to artifact (/home/jupyter/ray_results/TorchTrainer_2022-09-07_21-06-06/TorchTrainer_ba8cfb08_11_batch_size=12.0000,format_version=4,future_num_frames=50,history_num_frames=5,model_architecture=resnet50_2022-09-07_21-13-20/checkpoint_000004)... "
     ]
    },
    {
     "name": "stdout",
     "output_type": "stream",
     "text": [
      "Result for TorchTrainer_ba8cfb08:\n",
      "  _time_this_iter_s: 8.76252555847168\n",
      "  _timestamp: 1662585265\n",
      "  _training_iteration: 5\n",
      "  avg_loss: 60.17205963134766\n",
      "  date: 2022-09-07_21-14-26\n",
      "  done: false\n",
      "  experiment_id: 12da93f9422e461983d356970d37ba76\n",
      "  hostname: anish-l5-kit\n",
      "  iterations_since_restore: 5\n",
      "  loss: 30.556293487548828\n",
      "  node_ip: 10.150.0.3\n",
      "  pid: 32745\n",
      "  should_checkpoint: true\n",
      "  time_since_restore: 61.448429107666016\n",
      "  time_this_iter_s: 8.866872072219849\n",
      "  time_total_s: 61.448429107666016\n",
      "  timestamp: 1662585266\n",
      "  timesteps_since_restore: 0\n",
      "  training_iteration: 5\n",
      "  trial_id: ba8cfb08\n",
      "  warmup_time: 0.010708808898925781\n",
      "  \n"
     ]
    },
    {
     "name": "stderr",
     "output_type": "stream",
     "text": [
      "Done. 1.0s\n",
      "\u001b[34m\u001b[1mwandb\u001b[0m: Adding directory to artifact (/home/jupyter/ray_results/TorchTrainer_2022-09-07_21-06-06/TorchTrainer_ba8cfb08_11_batch_size=12.0000,format_version=4,future_num_frames=50,history_num_frames=5,model_architecture=resnet50_2022-09-07_21-13-20/checkpoint_000004)... Done. 0.3s\n"
     ]
    },
    {
     "data": {
      "text/html": [
       "Waiting for W&B process to finish... <strong style=\"color:green\">(success).</strong>"
      ],
      "text/plain": [
       "<IPython.core.display.HTML object>"
      ]
     },
     "metadata": {},
     "output_type": "display_data"
    },
    {
     "data": {
      "application/vnd.jupyter.widget-view+json": {
       "model_id": "8bb024d4a47149edbcbd7b5d7ca6d081",
       "version_major": 2,
       "version_minor": 0
      },
      "text/plain": [
       "VBox(children=(Label(value='456.836 MB of 456.836 MB uploaded (91.307 MB deduped)\\r'), FloatProgress(value=1.0…"
      ]
     },
     "metadata": {},
     "output_type": "display_data"
    },
    {
     "data": {
      "text/html": [
       "W&B sync reduced upload amount by 20.0%             "
      ],
      "text/plain": [
       "<IPython.core.display.HTML object>"
      ]
     },
     "metadata": {},
     "output_type": "display_data"
    },
    {
     "data": {
      "text/html": [
       "<style>\n",
       "    table.wandb td:nth-child(1) { padding: 0 10px; text-align: left ; width: auto;} td:nth-child(2) {text-align: left ; width: 100%}\n",
       "    .wandb-row { display: flex; flex-direction: row; flex-wrap: wrap; justify-content: flex-start; width: 100% }\n",
       "    .wandb-col { display: flex; flex-direction: column; flex-basis: 100%; flex: 1; padding: 10px; }\n",
       "    </style>\n",
       "<div class=\"wandb-row\"><div class=\"wandb-col\"><h3>Run history:</h3><br/><table class=\"wandb\"><tr><td>avg_loss</td><td>▂▁▄█▆</td></tr><tr><td>iterations_since_restore</td><td>▁▃▅▆█</td></tr><tr><td>loss</td><td>▃▂▅█▁</td></tr><tr><td>time_since_restore</td><td>▁▃▅▆█</td></tr><tr><td>time_this_iter_s</td><td>█▁▂▁▁</td></tr><tr><td>time_total_s</td><td>▁▃▅▆█</td></tr><tr><td>timestamp</td><td>▁▃▅▆█</td></tr><tr><td>timesteps_since_restore</td><td>▁▁▁▁▁</td></tr><tr><td>training_iteration</td><td>▁▃▅▆█</td></tr><tr><td>warmup_time</td><td>▁▁▁▁▁</td></tr></table><br/></div><div class=\"wandb-col\"><h3>Run summary:</h3><br/><table class=\"wandb\"><tr><td>avg_loss</td><td>60.17206</td></tr><tr><td>iterations_since_restore</td><td>5</td></tr><tr><td>loss</td><td>30.55629</td></tr><tr><td>time_since_restore</td><td>61.44843</td></tr><tr><td>time_this_iter_s</td><td>8.86687</td></tr><tr><td>time_total_s</td><td>61.44843</td></tr><tr><td>timestamp</td><td>1662585266</td></tr><tr><td>timesteps_since_restore</td><td>0</td></tr><tr><td>training_iteration</td><td>5</td></tr><tr><td>warmup_time</td><td>0.01071</td></tr></table><br/></div></div>"
      ],
      "text/plain": [
       "<IPython.core.display.HTML object>"
      ]
     },
     "metadata": {},
     "output_type": "display_data"
    },
    {
     "data": {
      "text/html": [
       "Synced <strong style=\"color:#cdcd00\">TorchTrainer_ba8cfb08</strong>: <a href=\"https://wandb.ai/l5-demo/l5-simulation-trials/runs/ba8cfb08\" target=\"_blank\">https://wandb.ai/l5-demo/l5-simulation-trials/runs/ba8cfb08</a><br/>Synced 7 W&B file(s), 0 media file(s), 12 artifact file(s) and 1 other file(s)"
      ],
      "text/plain": [
       "<IPython.core.display.HTML object>"
      ]
     },
     "metadata": {},
     "output_type": "display_data"
    },
    {
     "data": {
      "text/html": [
       "Find logs at: <code>./wandb/run-20220907_211320-ba8cfb08/logs</code>"
      ],
      "text/plain": [
       "<IPython.core.display.HTML object>"
      ]
     },
     "metadata": {},
     "output_type": "display_data"
    },
    {
     "name": "stdout",
     "output_type": "stream",
     "text": [
      "Result for TorchTrainer_ba8cfb08:\n",
      "  _time_this_iter_s: 8.76252555847168\n",
      "  _timestamp: 1662585265\n",
      "  _training_iteration: 5\n",
      "  avg_loss: 60.17205963134766\n",
      "  date: 2022-09-07_21-14-26\n",
      "  done: true\n",
      "  experiment_id: 12da93f9422e461983d356970d37ba76\n",
      "  experiment_tag: 11_batch_size=12.0000,format_version=4,future_num_frames=50,history_num_frames=5,model_architecture=resnet50,render_ego_history=False,step_time=0.1000,dataset_meta_key=meta_json,disable_traffic_light_faces=False,ego_center=0_25_0_5,filter_agents_threshold=0.5000,map_type=py_semantic,pixel_size=0_5_0_5,raster_size=224_224,satellite_map_key=aerial_map_aerial_map_png,semantic_map_key=semantic_map_semantic_map_pb,set_origin_to_bottom=True,batch_size=12,key=scenes_sample_zarr,num_workers=16,perturb_probability=0.0000,shuffle=True,checkpoint_every_n_steps=10000,eval_every_n_steps=10000,max_num_steps=5,batch_size=12,key=scenes_sample_zarr,num_workers=16,shuffle=False,dataset_key=scenes_sample_zarr,lr=0.0007,max_num_steps=5,num_workers=4,shuffle=True\n",
      "  hostname: anish-l5-kit\n",
      "  iterations_since_restore: 5\n",
      "  loss: 30.556293487548828\n",
      "  node_ip: 10.150.0.3\n",
      "  pid: 32745\n",
      "  should_checkpoint: true\n",
      "  time_since_restore: 61.448429107666016\n",
      "  time_this_iter_s: 8.866872072219849\n",
      "  time_total_s: 61.448429107666016\n",
      "  timestamp: 1662585266\n",
      "  timesteps_since_restore: 0\n",
      "  training_iteration: 5\n",
      "  trial_id: ba8cfb08\n",
      "  warmup_time: 0.010708808898925781\n",
      "  \n",
      "\u001b[2m\u001b[36m(RayTrainWorker pid=420)\u001b[0m {'loss': 47.042938232421875, 'avg_loss': 74.10995038350423}\n"
     ]
    },
    {
     "name": "stderr",
     "output_type": "stream",
     "text": [
      "\u001b[34m\u001b[1mwandb\u001b[0m: Adding directory to artifact (/home/jupyter/ray_results/TorchTrainer_2022-09-07_21-06-06/TorchTrainer_e6749e2e_12_batch_size=24.0000,format_version=4,future_num_frames=50,history_num_frames=5,model_architecture=resnet50_2022-09-07_21-13-21/checkpoint_000002)... "
     ]
    },
    {
     "name": "stdout",
     "output_type": "stream",
     "text": [
      "Result for TorchTrainer_e6749e2e:\n",
      "  _time_this_iter_s: 16.9034206867218\n",
      "  _timestamp: 1662585275\n",
      "  _training_iteration: 3\n",
      "  avg_loss: 74.10995038350423\n",
      "  date: 2022-09-07_21-14-36\n",
      "  done: false\n",
      "  experiment_id: 80e86f1ff34c49d98349a5e7a5766181\n",
      "  hostname: anish-l5-kit\n",
      "  iterations_since_restore: 3\n",
      "  loss: 47.042938232421875\n",
      "  node_ip: 10.150.0.3\n",
      "  pid: 32756\n",
      "  should_checkpoint: true\n",
      "  time_since_restore: 70.74636316299438\n",
      "  time_this_iter_s: 16.941057920455933\n",
      "  time_total_s: 70.74636316299438\n",
      "  timestamp: 1662585276\n",
      "  timesteps_since_restore: 0\n",
      "  training_iteration: 3\n",
      "  trial_id: e6749e2e\n",
      "  warmup_time: 0.006491899490356445\n",
      "  \n"
     ]
    },
    {
     "name": "stderr",
     "output_type": "stream",
     "text": [
      "Done. 1.0s\n",
      "\u001b[2m\u001b[36m(RayTrainWorker pid=1519)\u001b[0m 2022-09-07 21:14:43,057\tINFO config.py:72 -- Setting up process group for: env:// [rank=0, world_size=1]\n",
      "\u001b[2m\u001b[36m(RayTrainWorker pid=1519)\u001b[0m /opt/conda/lib/python3.7/site-packages/l5kit/planning/rasterized/model.py:31: UserWarning: There is no pre-trained model with num_in_channels != 3, first layer will be reset\n",
      "\u001b[2m\u001b[36m(RayTrainWorker pid=1519)\u001b[0m   warnings.warn(\"There is no pre-trained model with num_in_channels != 3, first layer will be reset\")\n",
      "\u001b[2m\u001b[36m(RayTrainWorker pid=1519)\u001b[0m /opt/conda/lib/python3.7/site-packages/torchvision/models/_utils.py:209: UserWarning: The parameter 'pretrained' is deprecated since 0.13 and will be removed in 0.15, please use 'weights' instead.\n",
      "\u001b[2m\u001b[36m(RayTrainWorker pid=1519)\u001b[0m   f\"The parameter '{pretrained_param}' is deprecated since 0.13 and will be removed in 0.15, \"\n",
      "\u001b[2m\u001b[36m(RayTrainWorker pid=1519)\u001b[0m /opt/conda/lib/python3.7/site-packages/torchvision/models/_utils.py:223: UserWarning: Arguments other than a weight enum or `None` for 'weights' are deprecated since 0.13 and will be removed in 0.15. The current behavior is equivalent to passing `weights=ResNet50_Weights.IMAGENET1K_V1`. You can also use `weights=ResNet50_Weights.DEFAULT` to get the most up-to-date weights.\n",
      "\u001b[2m\u001b[36m(RayTrainWorker pid=1519)\u001b[0m   warnings.warn(msg)\n",
      "\u001b[2m\u001b[36m(RayTrainWorker pid=1519)\u001b[0m 2022-09-07 21:14:49,234\tINFO train_loop_utils.py:300 -- Moving model to device: cpu\n"
     ]
    },
    {
     "name": "stdout",
     "output_type": "stream",
     "text": [
      "\u001b[2m\u001b[36m(RayTrainWorker pid=420)\u001b[0m {'loss': 72.06648254394531, 'avg_loss': 73.5990834236145}\n"
     ]
    },
    {
     "name": "stderr",
     "output_type": "stream",
     "text": [
      "\u001b[34m\u001b[1mwandb\u001b[0m: Adding directory to artifact (/home/jupyter/ray_results/TorchTrainer_2022-09-07_21-06-06/TorchTrainer_e6749e2e_12_batch_size=24.0000,format_version=4,future_num_frames=50,history_num_frames=5,model_architecture=resnet50_2022-09-07_21-13-21/checkpoint_000003)... "
     ]
    },
    {
     "name": "stdout",
     "output_type": "stream",
     "text": [
      "Result for TorchTrainer_e6749e2e:\n",
      "  _time_this_iter_s: 22.400439500808716\n",
      "  _timestamp: 1662585298\n",
      "  _training_iteration: 4\n",
      "  avg_loss: 73.5990834236145\n",
      "  date: 2022-09-07_21-14-58\n",
      "  done: false\n",
      "  experiment_id: 80e86f1ff34c49d98349a5e7a5766181\n",
      "  hostname: anish-l5-kit\n",
      "  iterations_since_restore: 4\n",
      "  loss: 72.06648254394531\n",
      "  node_ip: 10.150.0.3\n",
      "  pid: 32756\n",
      "  should_checkpoint: true\n",
      "  time_since_restore: 93.0526020526886\n",
      "  time_this_iter_s: 22.306238889694214\n",
      "  time_total_s: 93.0526020526886\n",
      "  timestamp: 1662585298\n",
      "  timesteps_since_restore: 0\n",
      "  training_iteration: 4\n",
      "  trial_id: e6749e2e\n",
      "  warmup_time: 0.006491899490356445\n",
      "  \n"
     ]
    },
    {
     "name": "stderr",
     "output_type": "stream",
     "text": [
      "Done. 2.2s\n"
     ]
    },
    {
     "name": "stdout",
     "output_type": "stream",
     "text": [
      "\u001b[2m\u001b[36m(RayTrainWorker pid=1519)\u001b[0m {'loss': 90.96295166015625, 'avg_loss': 90.96295166015625}\n"
     ]
    },
    {
     "name": "stderr",
     "output_type": "stream",
     "text": [
      "\u001b[34m\u001b[1mwandb\u001b[0m: Adding directory to artifact (/home/jupyter/ray_results/TorchTrainer_2022-09-07_21-06-06/TorchTrainer_e6d9de10_13_batch_size=24.0000,format_version=4,future_num_frames=50,history_num_frames=5,model_architecture=resnet50_2022-09-07_21-14-36/checkpoint_000000)... "
     ]
    },
    {
     "name": "stdout",
     "output_type": "stream",
     "text": [
      "Result for TorchTrainer_e6d9de10:\n",
      "  _time_this_iter_s: 28.593892335891724\n",
      "  _timestamp: 1662585312\n",
      "  _training_iteration: 1\n",
      "  avg_loss: 90.96295166015625\n",
      "  date: 2022-09-07_21-15-12\n",
      "  done: false\n",
      "  experiment_id: 9c9009d6bae9450889471fef27aee77c\n",
      "  hostname: anish-l5-kit\n",
      "  iterations_since_restore: 1\n",
      "  loss: 90.96295166015625\n",
      "  node_ip: 10.150.0.3\n",
      "  pid: 1424\n",
      "  should_checkpoint: true\n",
      "  time_since_restore: 32.41099667549133\n",
      "  time_this_iter_s: 32.41099667549133\n",
      "  time_total_s: 32.41099667549133\n",
      "  timestamp: 1662585312\n",
      "  timesteps_since_restore: 0\n",
      "  training_iteration: 1\n",
      "  trial_id: e6d9de10\n",
      "  warmup_time: 0.01052093505859375\n",
      "  \n"
     ]
    },
    {
     "name": "stderr",
     "output_type": "stream",
     "text": [
      "Done. 1.0s\n"
     ]
    },
    {
     "name": "stdout",
     "output_type": "stream",
     "text": [
      "\u001b[2m\u001b[36m(RayTrainWorker pid=420)\u001b[0m {'loss': 83.03189086914062, 'avg_loss': 75.48564491271972}\n"
     ]
    },
    {
     "name": "stderr",
     "output_type": "stream",
     "text": [
      "\u001b[34m\u001b[1mwandb\u001b[0m: Adding directory to artifact (/home/jupyter/ray_results/TorchTrainer_2022-09-07_21-06-06/TorchTrainer_e6749e2e_12_batch_size=24.0000,format_version=4,future_num_frames=50,history_num_frames=5,model_architecture=resnet50_2022-09-07_21-13-21/checkpoint_000004)... "
     ]
    },
    {
     "name": "stdout",
     "output_type": "stream",
     "text": [
      "Result for TorchTrainer_e6749e2e:\n",
      "  _time_this_iter_s: 19.31663990020752\n",
      "  _timestamp: 1662585317\n",
      "  _training_iteration: 5\n",
      "  avg_loss: 75.48564491271972\n",
      "  date: 2022-09-07_21-15-18\n",
      "  done: false\n",
      "  experiment_id: 80e86f1ff34c49d98349a5e7a5766181\n",
      "  hostname: anish-l5-kit\n",
      "  iterations_since_restore: 5\n",
      "  loss: 83.03189086914062\n",
      "  node_ip: 10.150.0.3\n",
      "  pid: 32756\n",
      "  should_checkpoint: true\n",
      "  time_since_restore: 112.49649214744568\n",
      "  time_this_iter_s: 19.44389009475708\n",
      "  time_total_s: 112.49649214744568\n",
      "  timestamp: 1662585318\n",
      "  timesteps_since_restore: 0\n",
      "  training_iteration: 5\n",
      "  trial_id: e6749e2e\n",
      "  warmup_time: 0.006491899490356445\n",
      "  \n"
     ]
    },
    {
     "name": "stderr",
     "output_type": "stream",
     "text": [
      "Done. 1.0s\n",
      "\u001b[34m\u001b[1mwandb\u001b[0m: Adding directory to artifact (/home/jupyter/ray_results/TorchTrainer_2022-09-07_21-06-06/TorchTrainer_e6749e2e_12_batch_size=24.0000,format_version=4,future_num_frames=50,history_num_frames=5,model_architecture=resnet50_2022-09-07_21-13-21/checkpoint_000004)... Done. 0.3s\n"
     ]
    },
    {
     "data": {
      "text/html": [
       "Waiting for W&B process to finish... <strong style=\"color:green\">(success).</strong>"
      ],
      "text/plain": [
       "<IPython.core.display.HTML object>"
      ]
     },
     "metadata": {},
     "output_type": "display_data"
    },
    {
     "data": {
      "application/vnd.jupyter.widget-view+json": {
       "model_id": "facd147c40d548c6aa424219b9130ff8",
       "version_major": 2,
       "version_minor": 0
      },
      "text/plain": [
       "VBox(children=(Label(value='456.836 MB of 456.836 MB uploaded (91.307 MB deduped)\\r'), FloatProgress(value=1.0…"
      ]
     },
     "metadata": {},
     "output_type": "display_data"
    },
    {
     "data": {
      "text/html": [
       "W&B sync reduced upload amount by 20.0%             "
      ],
      "text/plain": [
       "<IPython.core.display.HTML object>"
      ]
     },
     "metadata": {},
     "output_type": "display_data"
    },
    {
     "data": {
      "text/html": [
       "<style>\n",
       "    table.wandb td:nth-child(1) { padding: 0 10px; text-align: left ; width: auto;} td:nth-child(2) {text-align: left ; width: 100%}\n",
       "    .wandb-row { display: flex; flex-direction: row; flex-wrap: wrap; justify-content: flex-start; width: 100% }\n",
       "    .wandb-col { display: flex; flex-direction: column; flex-basis: 100%; flex: 1; padding: 10px; }\n",
       "    </style>\n",
       "<div class=\"wandb-row\"><div class=\"wandb-col\"><h3>Run history:</h3><br/><table class=\"wandb\"><tr><td>avg_loss</td><td>▁█▆▆▇</td></tr><tr><td>iterations_since_restore</td><td>▁▃▅▆█</td></tr><tr><td>loss</td><td>▁█▂▄▄</td></tr><tr><td>time_since_restore</td><td>▁▃▄▆█</td></tr><tr><td>time_this_iter_s</td><td>█▂▁▃▂</td></tr><tr><td>time_total_s</td><td>▁▃▄▆█</td></tr><tr><td>timestamp</td><td>▁▃▄▆█</td></tr><tr><td>timesteps_since_restore</td><td>▁▁▁▁▁</td></tr><tr><td>training_iteration</td><td>▁▃▅▆█</td></tr><tr><td>warmup_time</td><td>▁▁▁▁▁</td></tr></table><br/></div><div class=\"wandb-col\"><h3>Run summary:</h3><br/><table class=\"wandb\"><tr><td>avg_loss</td><td>75.48564</td></tr><tr><td>iterations_since_restore</td><td>5</td></tr><tr><td>loss</td><td>83.03189</td></tr><tr><td>time_since_restore</td><td>112.49649</td></tr><tr><td>time_this_iter_s</td><td>19.44389</td></tr><tr><td>time_total_s</td><td>112.49649</td></tr><tr><td>timestamp</td><td>1662585318</td></tr><tr><td>timesteps_since_restore</td><td>0</td></tr><tr><td>training_iteration</td><td>5</td></tr><tr><td>warmup_time</td><td>0.00649</td></tr></table><br/></div></div>"
      ],
      "text/plain": [
       "<IPython.core.display.HTML object>"
      ]
     },
     "metadata": {},
     "output_type": "display_data"
    },
    {
     "data": {
      "text/html": [
       "Synced <strong style=\"color:#cdcd00\">TorchTrainer_e6749e2e</strong>: <a href=\"https://wandb.ai/l5-demo/l5-simulation-trials/runs/e6749e2e\" target=\"_blank\">https://wandb.ai/l5-demo/l5-simulation-trials/runs/e6749e2e</a><br/>Synced 7 W&B file(s), 0 media file(s), 12 artifact file(s) and 1 other file(s)"
      ],
      "text/plain": [
       "<IPython.core.display.HTML object>"
      ]
     },
     "metadata": {},
     "output_type": "display_data"
    },
    {
     "data": {
      "text/html": [
       "Find logs at: <code>./wandb/run-20220907_211321-e6749e2e/logs</code>"
      ],
      "text/plain": [
       "<IPython.core.display.HTML object>"
      ]
     },
     "metadata": {},
     "output_type": "display_data"
    },
    {
     "name": "stdout",
     "output_type": "stream",
     "text": [
      "Result for TorchTrainer_e6749e2e:\n",
      "  _time_this_iter_s: 19.31663990020752\n",
      "  _timestamp: 1662585317\n",
      "  _training_iteration: 5\n",
      "  avg_loss: 75.48564491271972\n",
      "  date: 2022-09-07_21-15-18\n",
      "  done: true\n",
      "  experiment_id: 80e86f1ff34c49d98349a5e7a5766181\n",
      "  experiment_tag: 12_batch_size=24.0000,format_version=4,future_num_frames=50,history_num_frames=5,model_architecture=resnet50,render_ego_history=False,step_time=0.1000,dataset_meta_key=meta_json,disable_traffic_light_faces=False,ego_center=0_25_0_5,filter_agents_threshold=0.5000,map_type=py_semantic,pixel_size=0_5_0_5,raster_size=224_224,satellite_map_key=aerial_map_aerial_map_png,semantic_map_key=semantic_map_semantic_map_pb,set_origin_to_bottom=True,batch_size=12,key=scenes_sample_zarr,num_workers=16,perturb_probability=0.0000,shuffle=True,checkpoint_every_n_steps=10000,eval_every_n_steps=10000,max_num_steps=5,batch_size=12,key=scenes_sample_zarr,num_workers=16,shuffle=False,dataset_key=scenes_sample_zarr,lr=0.0002,max_num_steps=5,num_workers=4,shuffle=True\n",
      "  hostname: anish-l5-kit\n",
      "  iterations_since_restore: 5\n",
      "  loss: 83.03189086914062\n",
      "  node_ip: 10.150.0.3\n",
      "  pid: 32756\n",
      "  should_checkpoint: true\n",
      "  time_since_restore: 112.49649214744568\n",
      "  time_this_iter_s: 19.44389009475708\n",
      "  time_total_s: 112.49649214744568\n",
      "  timestamp: 1662585318\n",
      "  timesteps_since_restore: 0\n",
      "  training_iteration: 5\n",
      "  trial_id: e6749e2e\n",
      "  warmup_time: 0.006491899490356445\n",
      "  \n",
      "\u001b[2m\u001b[36m(RayTrainWorker pid=1519)\u001b[0m {'loss': 88.41834259033203, 'avg_loss': 89.69064712524414}\n"
     ]
    },
    {
     "name": "stderr",
     "output_type": "stream",
     "text": [
      "\u001b[34m\u001b[1mwandb\u001b[0m: Adding directory to artifact (/home/jupyter/ray_results/TorchTrainer_2022-09-07_21-06-06/TorchTrainer_e6d9de10_13_batch_size=24.0000,format_version=4,future_num_frames=50,history_num_frames=5,model_architecture=resnet50_2022-09-07_21-14-36/checkpoint_000001)... "
     ]
    },
    {
     "name": "stdout",
     "output_type": "stream",
     "text": [
      "Result for TorchTrainer_e6d9de10:\n",
      "  _time_this_iter_s: 17.699648141860962\n",
      "  _timestamp: 1662585329\n",
      "  _training_iteration: 2\n",
      "  avg_loss: 89.69064712524414\n",
      "  date: 2022-09-07_21-15-30\n",
      "  done: false\n",
      "  experiment_id: 9c9009d6bae9450889471fef27aee77c\n",
      "  hostname: anish-l5-kit\n",
      "  iterations_since_restore: 2\n",
      "  loss: 88.41834259033203\n",
      "  node_ip: 10.150.0.3\n",
      "  pid: 1424\n",
      "  should_checkpoint: true\n",
      "  time_since_restore: 50.21741509437561\n",
      "  time_this_iter_s: 17.806418418884277\n",
      "  time_total_s: 50.21741509437561\n",
      "  timestamp: 1662585330\n",
      "  timesteps_since_restore: 0\n",
      "  training_iteration: 2\n",
      "  trial_id: e6d9de10\n",
      "  warmup_time: 0.01052093505859375\n",
      "  \n"
     ]
    },
    {
     "name": "stderr",
     "output_type": "stream",
     "text": [
      "Done. 1.1s\n",
      "\u001b[2m\u001b[36m(RayTrainWorker pid=2316)\u001b[0m 2022-09-07 21:15:35,799\tINFO config.py:72 -- Setting up process group for: env:// [rank=0, world_size=1]\n",
      "\u001b[2m\u001b[36m(RayTrainWorker pid=2316)\u001b[0m /opt/conda/lib/python3.7/site-packages/l5kit/planning/rasterized/model.py:31: UserWarning: There is no pre-trained model with num_in_channels != 3, first layer will be reset\n",
      "\u001b[2m\u001b[36m(RayTrainWorker pid=2316)\u001b[0m   warnings.warn(\"There is no pre-trained model with num_in_channels != 3, first layer will be reset\")\n",
      "\u001b[2m\u001b[36m(RayTrainWorker pid=2316)\u001b[0m /opt/conda/lib/python3.7/site-packages/torchvision/models/_utils.py:209: UserWarning: The parameter 'pretrained' is deprecated since 0.13 and will be removed in 0.15, please use 'weights' instead.\n",
      "\u001b[2m\u001b[36m(RayTrainWorker pid=2316)\u001b[0m   f\"The parameter '{pretrained_param}' is deprecated since 0.13 and will be removed in 0.15, \"\n",
      "\u001b[2m\u001b[36m(RayTrainWorker pid=2316)\u001b[0m /opt/conda/lib/python3.7/site-packages/torchvision/models/_utils.py:223: UserWarning: Arguments other than a weight enum or `None` for 'weights' are deprecated since 0.13 and will be removed in 0.15. The current behavior is equivalent to passing `weights=ResNet50_Weights.IMAGENET1K_V1`. You can also use `weights=ResNet50_Weights.DEFAULT` to get the most up-to-date weights.\n",
      "\u001b[2m\u001b[36m(RayTrainWorker pid=2316)\u001b[0m   warnings.warn(msg)\n",
      "\u001b[2m\u001b[36m(RayTrainWorker pid=2316)\u001b[0m 2022-09-07 21:15:41,531\tINFO train_loop_utils.py:300 -- Moving model to device: cpu\n"
     ]
    },
    {
     "name": "stdout",
     "output_type": "stream",
     "text": [
      "\u001b[2m\u001b[36m(RayTrainWorker pid=2316)\u001b[0m {'loss': 3.762737512588501, 'avg_loss': 3.762737512588501}\n"
     ]
    },
    {
     "name": "stderr",
     "output_type": "stream",
     "text": [
      "\u001b[34m\u001b[1mwandb\u001b[0m: Adding directory to artifact (/home/jupyter/ray_results/TorchTrainer_2022-09-07_21-06-06/TorchTrainer_1362af8e_14_batch_size=6.0000,format_version=4,future_num_frames=50,history_num_frames=5,model_architecture=resnet50,_2022-09-07_21-15-28/checkpoint_000000)... "
     ]
    },
    {
     "name": "stdout",
     "output_type": "stream",
     "text": [
      "Result for TorchTrainer_1362af8e:\n",
      "  _time_this_iter_s: 11.131107568740845\n",
      "  _timestamp: 1662585347\n",
      "  _training_iteration: 1\n",
      "  avg_loss: 3.762737512588501\n",
      "  date: 2022-09-07_21-15-48\n",
      "  done: false\n",
      "  experiment_id: c7c39989bcdd4eeeb221ae390a920e7f\n",
      "  hostname: anish-l5-kit\n",
      "  iterations_since_restore: 1\n",
      "  loss: 3.762737512588501\n",
      "  node_ip: 10.150.0.3\n",
      "  pid: 2227\n",
      "  should_checkpoint: true\n",
      "  time_since_restore: 15.691909551620483\n",
      "  time_this_iter_s: 15.691909551620483\n",
      "  time_total_s: 15.691909551620483\n",
      "  timestamp: 1662585348\n",
      "  timesteps_since_restore: 0\n",
      "  training_iteration: 1\n",
      "  trial_id: 1362af8e\n",
      "  warmup_time: 0.006009578704833984\n",
      "  \n"
     ]
    },
    {
     "name": "stderr",
     "output_type": "stream",
     "text": [
      "Done. 1.5s\n"
     ]
    },
    {
     "name": "stdout",
     "output_type": "stream",
     "text": [
      "\u001b[2m\u001b[36m(RayTrainWorker pid=1519)\u001b[0m {'loss': 100.92546844482422, 'avg_loss': 93.43558756510417}\n",
      "Result for TorchTrainer_e6d9de10:\n",
      "  _time_this_iter_s: 20.32417130470276\n",
      "  _timestamp: 1662585350\n",
      "  _training_iteration: 3\n",
      "  avg_loss: 93.43558756510417\n",
      "  date: 2022-09-07_21-15-50\n",
      "  done: false\n",
      "  experiment_id: 9c9009d6bae9450889471fef27aee77c\n",
      "  hostname: anish-l5-kit\n",
      "  iterations_since_restore: 3\n",
      "  loss: 100.92546844482422\n",
      "  node_ip: 10.150.0.3\n",
      "  pid: 1424\n",
      "  should_checkpoint: true\n",
      "  time_since_restore: 70.42025876045227\n",
      "  time_this_iter_s: 20.20284366607666\n",
      "  time_total_s: 70.42025876045227\n",
      "  timestamp: 1662585350\n",
      "  timesteps_since_restore: 0\n",
      "  training_iteration: 3\n",
      "  trial_id: e6d9de10\n",
      "  warmup_time: 0.01052093505859375\n",
      "  \n"
     ]
    },
    {
     "name": "stderr",
     "output_type": "stream",
     "text": [
      "\u001b[34m\u001b[1mwandb\u001b[0m: Adding directory to artifact (/home/jupyter/ray_results/TorchTrainer_2022-09-07_21-06-06/TorchTrainer_e6d9de10_13_batch_size=24.0000,format_version=4,future_num_frames=50,history_num_frames=5,model_architecture=resnet50_2022-09-07_21-14-36/checkpoint_000002)... Done. 1.1s\n"
     ]
    },
    {
     "name": "stdout",
     "output_type": "stream",
     "text": [
      "\u001b[2m\u001b[36m(RayTrainWorker pid=2316)\u001b[0m {'loss': 95.09058380126953, 'avg_loss': 49.426660656929016}\n"
     ]
    },
    {
     "name": "stderr",
     "output_type": "stream",
     "text": [
      "\u001b[34m\u001b[1mwandb\u001b[0m: Adding directory to artifact (/home/jupyter/ray_results/TorchTrainer_2022-09-07_21-06-06/TorchTrainer_1362af8e_14_batch_size=6.0000,format_version=4,future_num_frames=50,history_num_frames=5,model_architecture=resnet50,_2022-09-07_21-15-28/checkpoint_000001)... "
     ]
    },
    {
     "name": "stdout",
     "output_type": "stream",
     "text": [
      "Result for TorchTrainer_1362af8e:\n",
      "  _time_this_iter_s: 5.6053526401519775\n",
      "  _timestamp: 1662585353\n",
      "  _training_iteration: 2\n",
      "  avg_loss: 49.426660656929016\n",
      "  date: 2022-09-07_21-15-53\n",
      "  done: false\n",
      "  experiment_id: c7c39989bcdd4eeeb221ae390a920e7f\n",
      "  hostname: anish-l5-kit\n",
      "  iterations_since_restore: 2\n",
      "  loss: 95.09058380126953\n",
      "  node_ip: 10.150.0.3\n",
      "  pid: 2227\n",
      "  should_checkpoint: true\n",
      "  time_since_restore: 21.15885639190674\n",
      "  time_this_iter_s: 5.466946840286255\n",
      "  time_total_s: 21.15885639190674\n",
      "  timestamp: 1662585353\n",
      "  timesteps_since_restore: 0\n",
      "  training_iteration: 2\n",
      "  trial_id: 1362af8e\n",
      "  warmup_time: 0.006009578704833984\n",
      "  \n"
     ]
    },
    {
     "name": "stderr",
     "output_type": "stream",
     "text": [
      "Done. 1.0s\n"
     ]
    },
    {
     "name": "stdout",
     "output_type": "stream",
     "text": [
      "\u001b[2m\u001b[36m(RayTrainWorker pid=2316)\u001b[0m {'loss': 144.66831970214844, 'avg_loss': 81.17388033866882}\n"
     ]
    },
    {
     "name": "stderr",
     "output_type": "stream",
     "text": [
      "\u001b[34m\u001b[1mwandb\u001b[0m: Adding directory to artifact (/home/jupyter/ray_results/TorchTrainer_2022-09-07_21-06-06/TorchTrainer_1362af8e_14_batch_size=6.0000,format_version=4,future_num_frames=50,history_num_frames=5,model_architecture=resnet50,_2022-09-07_21-15-28/checkpoint_000002)... Done. 1.0s\n"
     ]
    },
    {
     "name": "stdout",
     "output_type": "stream",
     "text": [
      "\u001b[2m\u001b[36m(RayTrainWorker pid=2316)\u001b[0m {'loss': 2.683864116668701, 'avg_loss': 61.55137628316879}\n"
     ]
    },
    {
     "name": "stderr",
     "output_type": "stream",
     "text": [
      "\u001b[34m\u001b[1mwandb\u001b[0m: Adding directory to artifact (/home/jupyter/ray_results/TorchTrainer_2022-09-07_21-06-06/TorchTrainer_1362af8e_14_batch_size=6.0000,format_version=4,future_num_frames=50,history_num_frames=5,model_architecture=resnet50,_2022-09-07_21-15-28/checkpoint_000003)... "
     ]
    },
    {
     "name": "stdout",
     "output_type": "stream",
     "text": [
      "Result for TorchTrainer_1362af8e:\n",
      "  _time_this_iter_s: 5.900113105773926\n",
      "  _timestamp: 1662585363\n",
      "  _training_iteration: 4\n",
      "  avg_loss: 61.55137628316879\n",
      "  date: 2022-09-07_21-16-04\n",
      "  done: false\n",
      "  experiment_id: c7c39989bcdd4eeeb221ae390a920e7f\n",
      "  hostname: anish-l5-kit\n",
      "  iterations_since_restore: 4\n",
      "  loss: 2.683864116668701\n",
      "  node_ip: 10.150.0.3\n",
      "  pid: 2227\n",
      "  should_checkpoint: true\n",
      "  time_since_restore: 31.774733543395996\n",
      "  time_this_iter_s: 5.9329633712768555\n",
      "  time_total_s: 31.774733543395996\n",
      "  timestamp: 1662585364\n",
      "  timesteps_since_restore: 0\n",
      "  training_iteration: 4\n",
      "  trial_id: 1362af8e\n",
      "  warmup_time: 0.006009578704833984\n",
      "  \n"
     ]
    },
    {
     "name": "stderr",
     "output_type": "stream",
     "text": [
      "Done. 1.5s\n"
     ]
    },
    {
     "name": "stdout",
     "output_type": "stream",
     "text": [
      "\u001b[2m\u001b[36m(RayTrainWorker pid=2316)\u001b[0m {'loss': 99.00631713867188, 'avg_loss': 69.0423644542694}\n"
     ]
    },
    {
     "name": "stderr",
     "output_type": "stream",
     "text": [
      "\u001b[34m\u001b[1mwandb\u001b[0m: Adding directory to artifact (/home/jupyter/ray_results/TorchTrainer_2022-09-07_21-06-06/TorchTrainer_1362af8e_14_batch_size=6.0000,format_version=4,future_num_frames=50,history_num_frames=5,model_architecture=resnet50,_2022-09-07_21-15-28/checkpoint_000004)... "
     ]
    },
    {
     "name": "stdout",
     "output_type": "stream",
     "text": [
      "\u001b[2m\u001b[36m(RayTrainWorker pid=1519)\u001b[0m {'loss': 162.64517211914062, 'avg_loss': 110.73798370361328}\n"
     ]
    },
    {
     "name": "stderr",
     "output_type": "stream",
     "text": [
      "Done. 1.0s\n",
      "\u001b[34m\u001b[1mwandb\u001b[0m: Adding directory to artifact (/home/jupyter/ray_results/TorchTrainer_2022-09-07_21-06-06/TorchTrainer_1362af8e_14_batch_size=6.0000,format_version=4,future_num_frames=50,history_num_frames=5,model_architecture=resnet50,_2022-09-07_21-15-28/checkpoint_000004)... Done. 0.3s\n"
     ]
    },
    {
     "data": {
      "text/html": [
       "Waiting for W&B process to finish... <strong style=\"color:green\">(success).</strong>"
      ],
      "text/plain": [
       "<IPython.core.display.HTML object>"
      ]
     },
     "metadata": {},
     "output_type": "display_data"
    },
    {
     "data": {
      "application/vnd.jupyter.widget-view+json": {
       "model_id": "45b8e5b3919442d095eecacb40609414",
       "version_major": 2,
       "version_minor": 0
      },
      "text/plain": [
       "VBox(children=(Label(value='456.836 MB of 456.836 MB uploaded (91.307 MB deduped)\\r'), FloatProgress(value=1.0…"
      ]
     },
     "metadata": {},
     "output_type": "display_data"
    },
    {
     "data": {
      "text/html": [
       "W&B sync reduced upload amount by 20.0%             "
      ],
      "text/plain": [
       "<IPython.core.display.HTML object>"
      ]
     },
     "metadata": {},
     "output_type": "display_data"
    },
    {
     "data": {
      "text/html": [
       "<style>\n",
       "    table.wandb td:nth-child(1) { padding: 0 10px; text-align: left ; width: auto;} td:nth-child(2) {text-align: left ; width: 100%}\n",
       "    .wandb-row { display: flex; flex-direction: row; flex-wrap: wrap; justify-content: flex-start; width: 100% }\n",
       "    .wandb-col { display: flex; flex-direction: column; flex-basis: 100%; flex: 1; padding: 10px; }\n",
       "    </style>\n",
       "<div class=\"wandb-row\"><div class=\"wandb-col\"><h3>Run history:</h3><br/><table class=\"wandb\"><tr><td>avg_loss</td><td>▁▅█▆▇</td></tr><tr><td>iterations_since_restore</td><td>▁▃▅▆█</td></tr><tr><td>loss</td><td>▁▆█▁▆</td></tr><tr><td>time_since_restore</td><td>▁▃▄▆█</td></tr><tr><td>time_this_iter_s</td><td>█▁▁▂▁</td></tr><tr><td>time_total_s</td><td>▁▃▄▆█</td></tr><tr><td>timestamp</td><td>▁▃▄▆█</td></tr><tr><td>timesteps_since_restore</td><td>▁▁▁▁▁</td></tr><tr><td>training_iteration</td><td>▁▃▅▆█</td></tr><tr><td>warmup_time</td><td>▁▁▁▁▁</td></tr></table><br/></div><div class=\"wandb-col\"><h3>Run summary:</h3><br/><table class=\"wandb\"><tr><td>avg_loss</td><td>69.04236</td></tr><tr><td>iterations_since_restore</td><td>5</td></tr><tr><td>loss</td><td>99.00632</td></tr><tr><td>time_since_restore</td><td>36.72284</td></tr><tr><td>time_this_iter_s</td><td>4.94811</td></tr><tr><td>time_total_s</td><td>36.72284</td></tr><tr><td>timestamp</td><td>1662585369</td></tr><tr><td>timesteps_since_restore</td><td>0</td></tr><tr><td>training_iteration</td><td>5</td></tr><tr><td>warmup_time</td><td>0.00601</td></tr></table><br/></div></div>"
      ],
      "text/plain": [
       "<IPython.core.display.HTML object>"
      ]
     },
     "metadata": {},
     "output_type": "display_data"
    },
    {
     "data": {
      "text/html": [
       "Synced <strong style=\"color:#cdcd00\">TorchTrainer_1362af8e</strong>: <a href=\"https://wandb.ai/l5-demo/l5-simulation-trials/runs/1362af8e\" target=\"_blank\">https://wandb.ai/l5-demo/l5-simulation-trials/runs/1362af8e</a><br/>Synced 7 W&B file(s), 0 media file(s), 12 artifact file(s) and 1 other file(s)"
      ],
      "text/plain": [
       "<IPython.core.display.HTML object>"
      ]
     },
     "metadata": {},
     "output_type": "display_data"
    },
    {
     "data": {
      "text/html": [
       "Find logs at: <code>./wandb/run-20220907_211528-1362af8e/logs</code>"
      ],
      "text/plain": [
       "<IPython.core.display.HTML object>"
      ]
     },
     "metadata": {},
     "output_type": "display_data"
    },
    {
     "name": "stdout",
     "output_type": "stream",
     "text": [
      "Result for TorchTrainer_1362af8e:\n",
      "  _time_this_iter_s: 4.992352485656738\n",
      "  _timestamp: 1662585368\n",
      "  _training_iteration: 5\n",
      "  avg_loss: 69.0423644542694\n",
      "  date: 2022-09-07_21-16-09\n",
      "  done: true\n",
      "  experiment_id: c7c39989bcdd4eeeb221ae390a920e7f\n",
      "  experiment_tag: 14_batch_size=6.0000,format_version=4,future_num_frames=50,history_num_frames=5,model_architecture=resnet50,render_ego_history=False,step_time=0.1000,dataset_meta_key=meta_json,disable_traffic_light_faces=False,ego_center=0_25_0_5,filter_agents_threshold=0.5000,map_type=py_semantic,pixel_size=0_5_0_5,raster_size=224_224,satellite_map_key=aerial_map_aerial_map_png,semantic_map_key=semantic_map_semantic_map_pb,set_origin_to_bottom=True,batch_size=12,key=scenes_sample_zarr,num_workers=16,perturb_probability=0.0000,shuffle=True,checkpoint_every_n_steps=10000,eval_every_n_steps=10000,max_num_steps=5,batch_size=12,key=scenes_sample_zarr,num_workers=16,shuffle=False,dataset_key=scenes_sample_zarr,lr=0.0001,max_num_steps=5,num_workers=4,shuffle=True\n",
      "  hostname: anish-l5-kit\n",
      "  iterations_since_restore: 5\n",
      "  loss: 99.00631713867188\n",
      "  node_ip: 10.150.0.3\n",
      "  pid: 2227\n",
      "  should_checkpoint: true\n",
      "  time_since_restore: 36.7228422164917\n",
      "  time_this_iter_s: 4.948108673095703\n",
      "  time_total_s: 36.7228422164917\n",
      "  timestamp: 1662585369\n",
      "  timesteps_since_restore: 0\n",
      "  training_iteration: 5\n",
      "  trial_id: 1362af8e\n",
      "  warmup_time: 0.006009578704833984\n",
      "  \n"
     ]
    },
    {
     "name": "stderr",
     "output_type": "stream",
     "text": [
      "\u001b[34m\u001b[1mwandb\u001b[0m: Adding directory to artifact (/home/jupyter/ray_results/TorchTrainer_2022-09-07_21-06-06/TorchTrainer_e6d9de10_13_batch_size=24.0000,format_version=4,future_num_frames=50,history_num_frames=5,model_architecture=resnet50_2022-09-07_21-14-36/checkpoint_000003)... "
     ]
    },
    {
     "name": "stdout",
     "output_type": "stream",
     "text": [
      "Result for TorchTrainer_e6d9de10:\n",
      "  _time_this_iter_s: 19.205628871917725\n",
      "  _timestamp: 1662585369\n",
      "  _training_iteration: 4\n",
      "  avg_loss: 110.73798370361328\n",
      "  date: 2022-09-07_21-16-09\n",
      "  done: false\n",
      "  experiment_id: 9c9009d6bae9450889471fef27aee77c\n",
      "  hostname: anish-l5-kit\n",
      "  iterations_since_restore: 4\n",
      "  loss: 162.64517211914062\n",
      "  node_ip: 10.150.0.3\n",
      "  pid: 1424\n",
      "  should_checkpoint: true\n",
      "  time_since_restore: 89.56204152107239\n",
      "  time_this_iter_s: 19.141782760620117\n",
      "  time_total_s: 89.56204152107239\n",
      "  timestamp: 1662585369\n",
      "  timesteps_since_restore: 0\n",
      "  training_iteration: 4\n",
      "  trial_id: e6d9de10\n",
      "  warmup_time: 0.01052093505859375\n",
      "  \n"
     ]
    },
    {
     "name": "stderr",
     "output_type": "stream",
     "text": [
      "Done. 1.0s\n"
     ]
    },
    {
     "name": "stdout",
     "output_type": "stream",
     "text": [
      "\u001b[2m\u001b[36m(RayTrainWorker pid=1519)\u001b[0m {'loss': 80.13710021972656, 'avg_loss': 104.61780700683593}\n"
     ]
    },
    {
     "name": "stderr",
     "output_type": "stream",
     "text": [
      "\u001b[34m\u001b[1mwandb\u001b[0m: Adding directory to artifact (/home/jupyter/ray_results/TorchTrainer_2022-09-07_21-06-06/TorchTrainer_e6d9de10_13_batch_size=24.0000,format_version=4,future_num_frames=50,history_num_frames=5,model_architecture=resnet50_2022-09-07_21-14-36/checkpoint_000004)... \u001b[2m\u001b[36m(RayTrainWorker pid=3181)\u001b[0m 2022-09-07 21:16:27,837\tINFO config.py:72 -- Setting up process group for: env:// [rank=0, world_size=1]\n"
     ]
    },
    {
     "name": "stdout",
     "output_type": "stream",
     "text": [
      "Result for TorchTrainer_e6d9de10:\n",
      "  _time_this_iter_s: 18.033401012420654\n",
      "  _timestamp: 1662585387\n",
      "  _training_iteration: 5\n",
      "  avg_loss: 104.61780700683593\n",
      "  date: 2022-09-07_21-16-27\n",
      "  done: false\n",
      "  experiment_id: 9c9009d6bae9450889471fef27aee77c\n",
      "  hostname: anish-l5-kit\n",
      "  iterations_since_restore: 5\n",
      "  loss: 80.13710021972656\n",
      "  node_ip: 10.150.0.3\n",
      "  pid: 1424\n",
      "  should_checkpoint: true\n",
      "  time_since_restore: 107.66465735435486\n",
      "  time_this_iter_s: 18.10261583328247\n",
      "  time_total_s: 107.66465735435486\n",
      "  timestamp: 1662585387\n",
      "  timesteps_since_restore: 0\n",
      "  training_iteration: 5\n",
      "  trial_id: e6d9de10\n",
      "  warmup_time: 0.01052093505859375\n",
      "  \n"
     ]
    },
    {
     "name": "stderr",
     "output_type": "stream",
     "text": [
      "Done. 1.0s\n",
      "\u001b[34m\u001b[1mwandb\u001b[0m: Adding directory to artifact (/home/jupyter/ray_results/TorchTrainer_2022-09-07_21-06-06/TorchTrainer_e6d9de10_13_batch_size=24.0000,format_version=4,future_num_frames=50,history_num_frames=5,model_architecture=resnet50_2022-09-07_21-14-36/checkpoint_000004)... Done. 0.3s\n"
     ]
    },
    {
     "data": {
      "text/html": [
       "Waiting for W&B process to finish... <strong style=\"color:green\">(success).</strong>"
      ],
      "text/plain": [
       "<IPython.core.display.HTML object>"
      ]
     },
     "metadata": {},
     "output_type": "display_data"
    },
    {
     "data": {
      "application/vnd.jupyter.widget-view+json": {
       "model_id": "b79c908f5d5a4051a071ac47511b5f5e",
       "version_major": 2,
       "version_minor": 0
      },
      "text/plain": [
       "VBox(children=(Label(value='456.836 MB of 456.836 MB uploaded (91.307 MB deduped)\\r'), FloatProgress(value=1.0…"
      ]
     },
     "metadata": {},
     "output_type": "display_data"
    },
    {
     "name": "stderr",
     "output_type": "stream",
     "text": [
      "\u001b[2m\u001b[36m(RayTrainWorker pid=3181)\u001b[0m /opt/conda/lib/python3.7/site-packages/l5kit/planning/rasterized/model.py:31: UserWarning: There is no pre-trained model with num_in_channels != 3, first layer will be reset\n",
      "\u001b[2m\u001b[36m(RayTrainWorker pid=3181)\u001b[0m   warnings.warn(\"There is no pre-trained model with num_in_channels != 3, first layer will be reset\")\n",
      "\u001b[2m\u001b[36m(RayTrainWorker pid=3181)\u001b[0m /opt/conda/lib/python3.7/site-packages/torchvision/models/_utils.py:209: UserWarning: The parameter 'pretrained' is deprecated since 0.13 and will be removed in 0.15, please use 'weights' instead.\n",
      "\u001b[2m\u001b[36m(RayTrainWorker pid=3181)\u001b[0m   f\"The parameter '{pretrained_param}' is deprecated since 0.13 and will be removed in 0.15, \"\n",
      "\u001b[2m\u001b[36m(RayTrainWorker pid=3181)\u001b[0m /opt/conda/lib/python3.7/site-packages/torchvision/models/_utils.py:223: UserWarning: Arguments other than a weight enum or `None` for 'weights' are deprecated since 0.13 and will be removed in 0.15. The current behavior is equivalent to passing `weights=ResNet50_Weights.IMAGENET1K_V1`. You can also use `weights=ResNet50_Weights.DEFAULT` to get the most up-to-date weights.\n",
      "\u001b[2m\u001b[36m(RayTrainWorker pid=3181)\u001b[0m   warnings.warn(msg)\n",
      "\u001b[2m\u001b[36m(RayTrainWorker pid=3181)\u001b[0m 2022-09-07 21:16:33,662\tINFO train_loop_utils.py:300 -- Moving model to device: cpu\n"
     ]
    },
    {
     "data": {
      "text/html": [
       "W&B sync reduced upload amount by 20.0%             "
      ],
      "text/plain": [
       "<IPython.core.display.HTML object>"
      ]
     },
     "metadata": {},
     "output_type": "display_data"
    },
    {
     "data": {
      "text/html": [
       "<style>\n",
       "    table.wandb td:nth-child(1) { padding: 0 10px; text-align: left ; width: auto;} td:nth-child(2) {text-align: left ; width: 100%}\n",
       "    .wandb-row { display: flex; flex-direction: row; flex-wrap: wrap; justify-content: flex-start; width: 100% }\n",
       "    .wandb-col { display: flex; flex-direction: column; flex-basis: 100%; flex: 1; padding: 10px; }\n",
       "    </style>\n",
       "<div class=\"wandb-row\"><div class=\"wandb-col\"><h3>Run history:</h3><br/><table class=\"wandb\"><tr><td>avg_loss</td><td>▁▁▂█▆</td></tr><tr><td>iterations_since_restore</td><td>▁▃▅▆█</td></tr><tr><td>loss</td><td>▂▂▃█▁</td></tr><tr><td>time_since_restore</td><td>▁▃▅▆█</td></tr><tr><td>time_this_iter_s</td><td>█▁▂▂▁</td></tr><tr><td>time_total_s</td><td>▁▃▅▆█</td></tr><tr><td>timestamp</td><td>▁▃▅▆█</td></tr><tr><td>timesteps_since_restore</td><td>▁▁▁▁▁</td></tr><tr><td>training_iteration</td><td>▁▃▅▆█</td></tr><tr><td>warmup_time</td><td>▁▁▁▁▁</td></tr></table><br/></div><div class=\"wandb-col\"><h3>Run summary:</h3><br/><table class=\"wandb\"><tr><td>avg_loss</td><td>104.61781</td></tr><tr><td>iterations_since_restore</td><td>5</td></tr><tr><td>loss</td><td>80.1371</td></tr><tr><td>time_since_restore</td><td>107.66466</td></tr><tr><td>time_this_iter_s</td><td>18.10262</td></tr><tr><td>time_total_s</td><td>107.66466</td></tr><tr><td>timestamp</td><td>1662585387</td></tr><tr><td>timesteps_since_restore</td><td>0</td></tr><tr><td>training_iteration</td><td>5</td></tr><tr><td>warmup_time</td><td>0.01052</td></tr></table><br/></div></div>"
      ],
      "text/plain": [
       "<IPython.core.display.HTML object>"
      ]
     },
     "metadata": {},
     "output_type": "display_data"
    },
    {
     "data": {
      "text/html": [
       "Synced <strong style=\"color:#cdcd00\">TorchTrainer_e6d9de10</strong>: <a href=\"https://wandb.ai/l5-demo/l5-simulation-trials/runs/e6d9de10\" target=\"_blank\">https://wandb.ai/l5-demo/l5-simulation-trials/runs/e6d9de10</a><br/>Synced 7 W&B file(s), 0 media file(s), 12 artifact file(s) and 1 other file(s)"
      ],
      "text/plain": [
       "<IPython.core.display.HTML object>"
      ]
     },
     "metadata": {},
     "output_type": "display_data"
    },
    {
     "data": {
      "text/html": [
       "Find logs at: <code>./wandb/run-20220907_211436-e6d9de10/logs</code>"
      ],
      "text/plain": [
       "<IPython.core.display.HTML object>"
      ]
     },
     "metadata": {},
     "output_type": "display_data"
    },
    {
     "name": "stdout",
     "output_type": "stream",
     "text": [
      "Result for TorchTrainer_e6d9de10:\n",
      "  _time_this_iter_s: 18.033401012420654\n",
      "  _timestamp: 1662585387\n",
      "  _training_iteration: 5\n",
      "  avg_loss: 104.61780700683593\n",
      "  date: 2022-09-07_21-16-27\n",
      "  done: true\n",
      "  experiment_id: 9c9009d6bae9450889471fef27aee77c\n",
      "  experiment_tag: 13_batch_size=24.0000,format_version=4,future_num_frames=50,history_num_frames=5,model_architecture=resnet50,render_ego_history=False,step_time=0.1000,dataset_meta_key=meta_json,disable_traffic_light_faces=False,ego_center=0_25_0_5,filter_agents_threshold=0.5000,map_type=py_semantic,pixel_size=0_5_0_5,raster_size=224_224,satellite_map_key=aerial_map_aerial_map_png,semantic_map_key=semantic_map_semantic_map_pb,set_origin_to_bottom=True,batch_size=12,key=scenes_sample_zarr,num_workers=16,perturb_probability=0.0000,shuffle=True,checkpoint_every_n_steps=10000,eval_every_n_steps=10000,max_num_steps=5,batch_size=12,key=scenes_sample_zarr,num_workers=16,shuffle=False,dataset_key=scenes_sample_zarr,lr=0.0001,max_num_steps=5,num_workers=4,shuffle=True\n",
      "  hostname: anish-l5-kit\n",
      "  iterations_since_restore: 5\n",
      "  loss: 80.13710021972656\n",
      "  node_ip: 10.150.0.3\n",
      "  pid: 1424\n",
      "  should_checkpoint: true\n",
      "  time_since_restore: 107.66465735435486\n",
      "  time_this_iter_s: 18.10261583328247\n",
      "  time_total_s: 107.66465735435486\n",
      "  timestamp: 1662585387\n",
      "  timesteps_since_restore: 0\n",
      "  training_iteration: 5\n",
      "  trial_id: e6d9de10\n",
      "  warmup_time: 0.01052093505859375\n",
      "  \n",
      "\u001b[2m\u001b[36m(RayTrainWorker pid=3181)\u001b[0m {'loss': 63.57952880859375, 'avg_loss': 63.57952880859375}\n"
     ]
    },
    {
     "name": "stderr",
     "output_type": "stream",
     "text": [
      "\u001b[34m\u001b[1mwandb\u001b[0m: Adding directory to artifact (/home/jupyter/ray_results/TorchTrainer_2022-09-07_21-06-06/TorchTrainer_329b280e_15_batch_size=6.0000,format_version=4,future_num_frames=50,history_num_frames=5,model_architecture=resnet50,_2022-09-07_21-16-20/checkpoint_000000)... "
     ]
    },
    {
     "name": "stdout",
     "output_type": "stream",
     "text": [
      "Result for TorchTrainer_329b280e:\n",
      "  _time_this_iter_s: 11.497009038925171\n",
      "  _timestamp: 1662585399\n",
      "  _training_iteration: 1\n",
      "  avg_loss: 63.57952880859375\n",
      "  date: 2022-09-07_21-16-40\n",
      "  done: false\n",
      "  experiment_id: 9588e05e33f5479b86355b2977269e0e\n",
      "  hostname: anish-l5-kit\n",
      "  iterations_since_restore: 1\n",
      "  loss: 63.57952880859375\n",
      "  node_ip: 10.150.0.3\n",
      "  pid: 3108\n",
      "  should_checkpoint: true\n",
      "  time_since_restore: 16.195173978805542\n",
      "  time_this_iter_s: 16.195173978805542\n",
      "  time_total_s: 16.195173978805542\n",
      "  timestamp: 1662585400\n",
      "  timesteps_since_restore: 0\n",
      "  training_iteration: 1\n",
      "  trial_id: 329b280e\n",
      "  warmup_time: 0.0068933963775634766\n",
      "  \n"
     ]
    },
    {
     "name": "stderr",
     "output_type": "stream",
     "text": [
      "Done. 1.4s\n",
      "\u001b[2m\u001b[36m(RayTrainWorker pid=3484)\u001b[0m 2022-09-07 21:16:44,243\tINFO config.py:72 -- Setting up process group for: env:// [rank=0, world_size=1]\n"
     ]
    },
    {
     "name": "stdout",
     "output_type": "stream",
     "text": [
      "\u001b[2m\u001b[36m(RayTrainWorker pid=3181)\u001b[0m {'loss': 81.21192932128906, 'avg_loss': 72.3957290649414}\n"
     ]
    },
    {
     "name": "stderr",
     "output_type": "stream",
     "text": [
      "\u001b[34m\u001b[1mwandb\u001b[0m: Adding directory to artifact (/home/jupyter/ray_results/TorchTrainer_2022-09-07_21-06-06/TorchTrainer_329b280e_15_batch_size=6.0000,format_version=4,future_num_frames=50,history_num_frames=5,model_architecture=resnet50,_2022-09-07_21-16-20/checkpoint_000001)... "
     ]
    },
    {
     "name": "stdout",
     "output_type": "stream",
     "text": [
      "Result for TorchTrainer_329b280e:\n",
      "  _time_this_iter_s: 6.189112663269043\n",
      "  _timestamp: 1662585406\n",
      "  _training_iteration: 2\n",
      "  avg_loss: 72.3957290649414\n",
      "  date: 2022-09-07_21-16-46\n",
      "  done: false\n",
      "  experiment_id: 9588e05e33f5479b86355b2977269e0e\n",
      "  hostname: anish-l5-kit\n",
      "  iterations_since_restore: 2\n",
      "  loss: 81.21192932128906\n",
      "  node_ip: 10.150.0.3\n",
      "  pid: 3108\n",
      "  should_checkpoint: true\n",
      "  time_since_restore: 22.306111335754395\n",
      "  time_this_iter_s: 6.1109373569488525\n",
      "  time_total_s: 22.306111335754395\n",
      "  timestamp: 1662585406\n",
      "  timesteps_since_restore: 0\n",
      "  training_iteration: 2\n",
      "  trial_id: 329b280e\n",
      "  warmup_time: 0.0068933963775634766\n",
      "  \n"
     ]
    },
    {
     "name": "stderr",
     "output_type": "stream",
     "text": [
      "Done. 1.1s\n",
      "\u001b[2m\u001b[36m(RayTrainWorker pid=3484)\u001b[0m /opt/conda/lib/python3.7/site-packages/l5kit/planning/rasterized/model.py:31: UserWarning: There is no pre-trained model with num_in_channels != 3, first layer will be reset\n",
      "\u001b[2m\u001b[36m(RayTrainWorker pid=3484)\u001b[0m   warnings.warn(\"There is no pre-trained model with num_in_channels != 3, first layer will be reset\")\n",
      "\u001b[2m\u001b[36m(RayTrainWorker pid=3484)\u001b[0m /opt/conda/lib/python3.7/site-packages/torchvision/models/_utils.py:209: UserWarning: The parameter 'pretrained' is deprecated since 0.13 and will be removed in 0.15, please use 'weights' instead.\n",
      "\u001b[2m\u001b[36m(RayTrainWorker pid=3484)\u001b[0m   f\"The parameter '{pretrained_param}' is deprecated since 0.13 and will be removed in 0.15, \"\n",
      "\u001b[2m\u001b[36m(RayTrainWorker pid=3484)\u001b[0m /opt/conda/lib/python3.7/site-packages/torchvision/models/_utils.py:223: UserWarning: Arguments other than a weight enum or `None` for 'weights' are deprecated since 0.13 and will be removed in 0.15. The current behavior is equivalent to passing `weights=ResNet50_Weights.IMAGENET1K_V1`. You can also use `weights=ResNet50_Weights.DEFAULT` to get the most up-to-date weights.\n",
      "\u001b[2m\u001b[36m(RayTrainWorker pid=3484)\u001b[0m   warnings.warn(msg)\n",
      "\u001b[2m\u001b[36m(RayTrainWorker pid=3484)\u001b[0m 2022-09-07 21:16:51,181\tINFO train_loop_utils.py:300 -- Moving model to device: cpu\n"
     ]
    },
    {
     "name": "stdout",
     "output_type": "stream",
     "text": [
      "\u001b[2m\u001b[36m(RayTrainWorker pid=3181)\u001b[0m {'loss': 13.053741455078125, 'avg_loss': 52.61506652832031}\n"
     ]
    },
    {
     "name": "stderr",
     "output_type": "stream",
     "text": [
      "\u001b[34m\u001b[1mwandb\u001b[0m: Adding directory to artifact (/home/jupyter/ray_results/TorchTrainer_2022-09-07_21-06-06/TorchTrainer_329b280e_15_batch_size=6.0000,format_version=4,future_num_frames=50,history_num_frames=5,model_architecture=resnet50,_2022-09-07_21-16-20/checkpoint_000002)... "
     ]
    },
    {
     "name": "stdout",
     "output_type": "stream",
     "text": [
      "Result for TorchTrainer_329b280e:\n",
      "  _time_this_iter_s: 6.125319957733154\n",
      "  _timestamp: 1662585412\n",
      "  _training_iteration: 3\n",
      "  avg_loss: 52.61506652832031\n",
      "  date: 2022-09-07_21-16-52\n",
      "  done: false\n",
      "  experiment_id: 9588e05e33f5479b86355b2977269e0e\n",
      "  hostname: anish-l5-kit\n",
      "  iterations_since_restore: 3\n",
      "  loss: 13.053741455078125\n",
      "  node_ip: 10.150.0.3\n",
      "  pid: 3108\n",
      "  should_checkpoint: true\n",
      "  time_since_restore: 28.514044046401978\n",
      "  time_this_iter_s: 6.207932710647583\n",
      "  time_total_s: 28.514044046401978\n",
      "  timestamp: 1662585412\n",
      "  timesteps_since_restore: 0\n",
      "  training_iteration: 3\n",
      "  trial_id: 329b280e\n",
      "  warmup_time: 0.0068933963775634766\n",
      "  \n"
     ]
    },
    {
     "name": "stderr",
     "output_type": "stream",
     "text": [
      "Done. 1.1s\n"
     ]
    },
    {
     "name": "stdout",
     "output_type": "stream",
     "text": [
      "\u001b[2m\u001b[36m(RayTrainWorker pid=3181)\u001b[0m {'loss': 4.139969825744629, 'avg_loss': 40.49629235267639}\n",
      "\u001b[2m\u001b[36m(RayTrainWorker pid=3484)\u001b[0m {'loss': 2.285607099533081, 'avg_loss': 2.285607099533081}\n"
     ]
    },
    {
     "name": "stderr",
     "output_type": "stream",
     "text": [
      "\u001b[34m\u001b[1mwandb\u001b[0m: Adding directory to artifact (/home/jupyter/ray_results/TorchTrainer_2022-09-07_21-06-06/TorchTrainer_329b280e_15_batch_size=6.0000,format_version=4,future_num_frames=50,history_num_frames=5,model_architecture=resnet50,_2022-09-07_21-16-20/checkpoint_000003)... \u001b[34m\u001b[1mwandb\u001b[0m: Adding directory to artifact (/home/jupyter/ray_results/TorchTrainer_2022-09-07_21-06-06/TorchTrainer_5162d994_16_batch_size=6.0000,format_version=4,future_num_frames=50,history_num_frames=5,model_architecture=resnet50,_2022-09-07_21-16-37/checkpoint_000000)... "
     ]
    },
    {
     "name": "stdout",
     "output_type": "stream",
     "text": [
      "Result for TorchTrainer_5162d994:\n",
      "  _time_this_iter_s: 12.746010780334473\n",
      "  _timestamp: 1662585417\n",
      "  _training_iteration: 1\n",
      "  avg_loss: 2.285607099533081\n",
      "  date: 2022-09-07_21-16-58\n",
      "  done: false\n",
      "  experiment_id: b323b27af3d740359bf5c74199a95bb4\n",
      "  hostname: anish-l5-kit\n",
      "  iterations_since_restore: 1\n",
      "  loss: 2.285607099533081\n",
      "  node_ip: 10.150.0.3\n",
      "  pid: 3392\n",
      "  should_checkpoint: true\n",
      "  time_since_restore: 17.05582308769226\n",
      "  time_this_iter_s: 17.05582308769226\n",
      "  time_total_s: 17.05582308769226\n",
      "  timestamp: 1662585418\n",
      "  timesteps_since_restore: 0\n",
      "  training_iteration: 1\n",
      "  trial_id: 5162d994\n",
      "  warmup_time: 0.006201505661010742\n",
      "  \n"
     ]
    },
    {
     "name": "stderr",
     "output_type": "stream",
     "text": [
      "Done. 1.3s\n",
      "Done. 1.5s\n"
     ]
    },
    {
     "name": "stdout",
     "output_type": "stream",
     "text": [
      "\u001b[2m\u001b[36m(RayTrainWorker pid=3181)\u001b[0m {'loss': 102.97291564941406, 'avg_loss': 52.99161701202392}\n",
      "\u001b[2m\u001b[36m(RayTrainWorker pid=3484)\u001b[0m {'loss': 58.07220458984375, 'avg_loss': 30.178905844688416}\n"
     ]
    },
    {
     "name": "stderr",
     "output_type": "stream",
     "text": [
      "\u001b[34m\u001b[1mwandb\u001b[0m: Adding directory to artifact (/home/jupyter/ray_results/TorchTrainer_2022-09-07_21-06-06/TorchTrainer_329b280e_15_batch_size=6.0000,format_version=4,future_num_frames=50,history_num_frames=5,model_architecture=resnet50,_2022-09-07_21-16-20/checkpoint_000004)... "
     ]
    },
    {
     "name": "stdout",
     "output_type": "stream",
     "text": [
      "Result for TorchTrainer_329b280e:\n",
      "  _time_this_iter_s: 6.303596258163452\n",
      "  _timestamp: 1662585423\n",
      "  _training_iteration: 5\n",
      "  avg_loss: 52.99161701202392\n",
      "  date: 2022-09-07_21-17-03\n",
      "  done: false\n",
      "  experiment_id: 9588e05e33f5479b86355b2977269e0e\n",
      "  hostname: anish-l5-kit\n",
      "  iterations_since_restore: 5\n",
      "  loss: 102.97291564941406\n",
      "  node_ip: 10.150.0.3\n",
      "  pid: 3108\n",
      "  should_checkpoint: true\n",
      "  time_since_restore: 39.67205619812012\n",
      "  time_this_iter_s: 6.223296642303467\n",
      "  time_total_s: 39.67205619812012\n",
      "  timestamp: 1662585423\n",
      "  timesteps_since_restore: 0\n",
      "  training_iteration: 5\n",
      "  trial_id: 329b280e\n",
      "  warmup_time: 0.0068933963775634766\n",
      "  \n"
     ]
    },
    {
     "name": "stderr",
     "output_type": "stream",
     "text": [
      "\u001b[34m\u001b[1mwandb\u001b[0m: Adding directory to artifact (/home/jupyter/ray_results/TorchTrainer_2022-09-07_21-06-06/TorchTrainer_5162d994_16_batch_size=6.0000,format_version=4,future_num_frames=50,history_num_frames=5,model_architecture=resnet50,_2022-09-07_21-16-37/checkpoint_000001)... "
     ]
    },
    {
     "name": "stdout",
     "output_type": "stream",
     "text": [
      "Result for TorchTrainer_5162d994:\n",
      "  _time_this_iter_s: 6.354784250259399\n",
      "  _timestamp: 1662585423\n",
      "  _training_iteration: 2\n",
      "  avg_loss: 30.178905844688416\n",
      "  date: 2022-09-07_21-17-04\n",
      "  done: false\n",
      "  experiment_id: b323b27af3d740359bf5c74199a95bb4\n",
      "  hostname: anish-l5-kit\n",
      "  iterations_since_restore: 2\n",
      "  loss: 58.07220458984375\n",
      "  node_ip: 10.150.0.3\n",
      "  pid: 3392\n",
      "  should_checkpoint: true\n",
      "  time_since_restore: 23.22834873199463\n",
      "  time_this_iter_s: 6.172525644302368\n",
      "  time_total_s: 23.22834873199463\n",
      "  timestamp: 1662585424\n",
      "  timesteps_since_restore: 0\n",
      "  training_iteration: 2\n",
      "  trial_id: 5162d994\n",
      "  warmup_time: 0.006201505661010742\n",
      "  \n"
     ]
    },
    {
     "name": "stderr",
     "output_type": "stream",
     "text": [
      "Done. 1.2s\n",
      "\u001b[34m\u001b[1mwandb\u001b[0m: Adding directory to artifact (/home/jupyter/ray_results/TorchTrainer_2022-09-07_21-06-06/TorchTrainer_329b280e_15_batch_size=6.0000,format_version=4,future_num_frames=50,history_num_frames=5,model_architecture=resnet50,_2022-09-07_21-16-20/checkpoint_000004)... Done. 1.4s\n",
      "Done. 0.5s\n"
     ]
    },
    {
     "data": {
      "text/html": [
       "Waiting for W&B process to finish... <strong style=\"color:green\">(success).</strong>"
      ],
      "text/plain": [
       "<IPython.core.display.HTML object>"
      ]
     },
     "metadata": {},
     "output_type": "display_data"
    },
    {
     "name": "stdout",
     "output_type": "stream",
     "text": [
      "\u001b[2m\u001b[36m(RayTrainWorker pid=3484)\u001b[0m {'loss': 142.11419677734375, 'avg_loss': 67.49066948890686}\n"
     ]
    },
    {
     "data": {
      "application/vnd.jupyter.widget-view+json": {
       "model_id": "a44cce91f4a3410883cae7b22fa1c001",
       "version_major": 2,
       "version_minor": 0
      },
      "text/plain": [
       "VBox(children=(Label(value='456.836 MB of 456.836 MB uploaded (91.307 MB deduped)\\r'), FloatProgress(value=1.0…"
      ]
     },
     "metadata": {},
     "output_type": "display_data"
    },
    {
     "name": "stdout",
     "output_type": "stream",
     "text": [
      "\u001b[2m\u001b[36m(RayTrainWorker pid=3484)\u001b[0m {'loss': 0.11065903306007385, 'avg_loss': 50.645666874945164}\n"
     ]
    },
    {
     "data": {
      "text/html": [
       "W&B sync reduced upload amount by 20.0%             "
      ],
      "text/plain": [
       "<IPython.core.display.HTML object>"
      ]
     },
     "metadata": {},
     "output_type": "display_data"
    },
    {
     "data": {
      "text/html": [
       "<style>\n",
       "    table.wandb td:nth-child(1) { padding: 0 10px; text-align: left ; width: auto;} td:nth-child(2) {text-align: left ; width: 100%}\n",
       "    .wandb-row { display: flex; flex-direction: row; flex-wrap: wrap; justify-content: flex-start; width: 100% }\n",
       "    .wandb-col { display: flex; flex-direction: column; flex-basis: 100%; flex: 1; padding: 10px; }\n",
       "    </style>\n",
       "<div class=\"wandb-row\"><div class=\"wandb-col\"><h3>Run history:</h3><br/><table class=\"wandb\"><tr><td>avg_loss</td><td>▆█▄▁▄</td></tr><tr><td>iterations_since_restore</td><td>▁▃▅▆█</td></tr><tr><td>loss</td><td>▅▆▂▁█</td></tr><tr><td>time_since_restore</td><td>▁▃▅▆█</td></tr><tr><td>time_this_iter_s</td><td>█▂▂▁▂</td></tr><tr><td>time_total_s</td><td>▁▃▅▆█</td></tr><tr><td>timestamp</td><td>▁▃▅▆█</td></tr><tr><td>timesteps_since_restore</td><td>▁▁▁▁▁</td></tr><tr><td>training_iteration</td><td>▁▃▅▆█</td></tr><tr><td>warmup_time</td><td>▁▁▁▁▁</td></tr></table><br/></div><div class=\"wandb-col\"><h3>Run summary:</h3><br/><table class=\"wandb\"><tr><td>avg_loss</td><td>52.99162</td></tr><tr><td>iterations_since_restore</td><td>5</td></tr><tr><td>loss</td><td>102.97292</td></tr><tr><td>time_since_restore</td><td>39.67206</td></tr><tr><td>time_this_iter_s</td><td>6.2233</td></tr><tr><td>time_total_s</td><td>39.67206</td></tr><tr><td>timestamp</td><td>1662585423</td></tr><tr><td>timesteps_since_restore</td><td>0</td></tr><tr><td>training_iteration</td><td>5</td></tr><tr><td>warmup_time</td><td>0.00689</td></tr></table><br/></div></div>"
      ],
      "text/plain": [
       "<IPython.core.display.HTML object>"
      ]
     },
     "metadata": {},
     "output_type": "display_data"
    },
    {
     "data": {
      "text/html": [
       "Synced <strong style=\"color:#cdcd00\">TorchTrainer_329b280e</strong>: <a href=\"https://wandb.ai/l5-demo/l5-simulation-trials/runs/329b280e\" target=\"_blank\">https://wandb.ai/l5-demo/l5-simulation-trials/runs/329b280e</a><br/>Synced 7 W&B file(s), 0 media file(s), 12 artifact file(s) and 1 other file(s)"
      ],
      "text/plain": [
       "<IPython.core.display.HTML object>"
      ]
     },
     "metadata": {},
     "output_type": "display_data"
    },
    {
     "data": {
      "text/html": [
       "Find logs at: <code>./wandb/run-20220907_211620-329b280e/logs</code>"
      ],
      "text/plain": [
       "<IPython.core.display.HTML object>"
      ]
     },
     "metadata": {},
     "output_type": "display_data"
    },
    {
     "name": "stdout",
     "output_type": "stream",
     "text": [
      "Result for TorchTrainer_329b280e:\n",
      "  _time_this_iter_s: 6.303596258163452\n",
      "  _timestamp: 1662585423\n",
      "  _training_iteration: 5\n",
      "  avg_loss: 52.99161701202392\n",
      "  date: 2022-09-07_21-17-03\n",
      "  done: true\n",
      "  experiment_id: 9588e05e33f5479b86355b2977269e0e\n",
      "  experiment_tag: 15_batch_size=6.0000,format_version=4,future_num_frames=50,history_num_frames=5,model_architecture=resnet50,render_ego_history=False,step_time=0.1000,dataset_meta_key=meta_json,disable_traffic_light_faces=False,ego_center=0_25_0_5,filter_agents_threshold=0.5000,map_type=py_semantic,pixel_size=0_5_0_5,raster_size=224_224,satellite_map_key=aerial_map_aerial_map_png,semantic_map_key=semantic_map_semantic_map_pb,set_origin_to_bottom=True,batch_size=12,key=scenes_sample_zarr,num_workers=16,perturb_probability=0.0000,shuffle=True,checkpoint_every_n_steps=10000,eval_every_n_steps=10000,max_num_steps=5,batch_size=12,key=scenes_sample_zarr,num_workers=16,shuffle=False,dataset_key=scenes_sample_zarr,lr=0.0002,max_num_steps=5,num_workers=4,shuffle=True\n",
      "  hostname: anish-l5-kit\n",
      "  iterations_since_restore: 5\n",
      "  loss: 102.97291564941406\n",
      "  node_ip: 10.150.0.3\n",
      "  pid: 3108\n",
      "  should_checkpoint: true\n",
      "  time_since_restore: 39.67205619812012\n",
      "  time_this_iter_s: 6.223296642303467\n",
      "  time_total_s: 39.67205619812012\n",
      "  timestamp: 1662585423\n",
      "  timesteps_since_restore: 0\n",
      "  training_iteration: 5\n",
      "  trial_id: 329b280e\n",
      "  warmup_time: 0.0068933963775634766\n",
      "  \n"
     ]
    },
    {
     "name": "stderr",
     "output_type": "stream",
     "text": [
      "\u001b[34m\u001b[1mwandb\u001b[0m: Adding directory to artifact (/home/jupyter/ray_results/TorchTrainer_2022-09-07_21-06-06/TorchTrainer_5162d994_16_batch_size=6.0000,format_version=4,future_num_frames=50,history_num_frames=5,model_architecture=resnet50,_2022-09-07_21-16-37/checkpoint_000002)... "
     ]
    },
    {
     "name": "stdout",
     "output_type": "stream",
     "text": [
      "Result for TorchTrainer_5162d994:\n",
      "  _time_this_iter_s: 4.552388429641724\n",
      "  _timestamp: 1662585428\n",
      "  _training_iteration: 3\n",
      "  avg_loss: 67.49066948890686\n",
      "  date: 2022-09-07_21-17-08\n",
      "  done: false\n",
      "  experiment_id: b323b27af3d740359bf5c74199a95bb4\n",
      "  hostname: anish-l5-kit\n",
      "  iterations_since_restore: 3\n",
      "  loss: 142.11419677734375\n",
      "  node_ip: 10.150.0.3\n",
      "  pid: 3392\n",
      "  should_checkpoint: true\n",
      "  time_since_restore: 27.7666916847229\n",
      "  time_this_iter_s: 4.5383429527282715\n",
      "  time_total_s: 27.7666916847229\n",
      "  timestamp: 1662585428\n",
      "  timesteps_since_restore: 0\n",
      "  training_iteration: 3\n",
      "  trial_id: 5162d994\n",
      "  warmup_time: 0.006201505661010742\n",
      "  \n"
     ]
    },
    {
     "name": "stderr",
     "output_type": "stream",
     "text": [
      "Done. 1.0s\n",
      "\u001b[34m\u001b[1mwandb\u001b[0m: Adding directory to artifact (/home/jupyter/ray_results/TorchTrainer_2022-09-07_21-06-06/TorchTrainer_5162d994_16_batch_size=6.0000,format_version=4,future_num_frames=50,history_num_frames=5,model_architecture=resnet50,_2022-09-07_21-16-37/checkpoint_000003)... Done. 1.1s\n"
     ]
    },
    {
     "name": "stdout",
     "output_type": "stream",
     "text": [
      "\u001b[2m\u001b[36m(RayTrainWorker pid=3484)\u001b[0m {'loss': 20.474498748779297, 'avg_loss': 44.61143324971199}\n"
     ]
    },
    {
     "name": "stderr",
     "output_type": "stream",
     "text": [
      "\u001b[34m\u001b[1mwandb\u001b[0m: Adding directory to artifact (/home/jupyter/ray_results/TorchTrainer_2022-09-07_21-06-06/TorchTrainer_5162d994_16_batch_size=6.0000,format_version=4,future_num_frames=50,history_num_frames=5,model_architecture=resnet50,_2022-09-07_21-16-37/checkpoint_000004)... "
     ]
    },
    {
     "name": "stdout",
     "output_type": "stream",
     "text": [
      "Result for TorchTrainer_5162d994:\n",
      "  _time_this_iter_s: 6.072742462158203\n",
      "  _timestamp: 1662585440\n",
      "  _training_iteration: 5\n",
      "  avg_loss: 44.61143324971199\n",
      "  date: 2022-09-07_21-17-20\n",
      "  done: false\n",
      "  experiment_id: b323b27af3d740359bf5c74199a95bb4\n",
      "  hostname: anish-l5-kit\n",
      "  iterations_since_restore: 5\n",
      "  loss: 20.474498748779297\n",
      "  node_ip: 10.150.0.3\n",
      "  pid: 3392\n",
      "  should_checkpoint: true\n",
      "  time_since_restore: 39.65791988372803\n",
      "  time_this_iter_s: 6.116276979446411\n",
      "  time_total_s: 39.65791988372803\n",
      "  timestamp: 1662585440\n",
      "  timesteps_since_restore: 0\n",
      "  training_iteration: 5\n",
      "  trial_id: 5162d994\n",
      "  warmup_time: 0.006201505661010742\n",
      "  \n"
     ]
    },
    {
     "name": "stderr",
     "output_type": "stream",
     "text": [
      "Done. 1.0s\n",
      "\u001b[34m\u001b[1mwandb\u001b[0m: Adding directory to artifact (/home/jupyter/ray_results/TorchTrainer_2022-09-07_21-06-06/TorchTrainer_5162d994_16_batch_size=6.0000,format_version=4,future_num_frames=50,history_num_frames=5,model_architecture=resnet50,_2022-09-07_21-16-37/checkpoint_000004)... Done. 0.3s\n"
     ]
    },
    {
     "data": {
      "text/html": [
       "Waiting for W&B process to finish... <strong style=\"color:green\">(success).</strong>"
      ],
      "text/plain": [
       "<IPython.core.display.HTML object>"
      ]
     },
     "metadata": {},
     "output_type": "display_data"
    },
    {
     "name": "stderr",
     "output_type": "stream",
     "text": [
      "\u001b[2m\u001b[36m(RayTrainWorker pid=4329)\u001b[0m 2022-09-07 21:17:22,043\tINFO config.py:72 -- Setting up process group for: env:// [rank=0, world_size=1]\n"
     ]
    },
    {
     "data": {
      "application/vnd.jupyter.widget-view+json": {
       "model_id": "bdd157ce1a134af8bfe9474c596f871d",
       "version_major": 2,
       "version_minor": 0
      },
      "text/plain": [
       "VBox(children=(Label(value='456.836 MB of 456.836 MB uploaded (91.307 MB deduped)\\r'), FloatProgress(value=1.0…"
      ]
     },
     "metadata": {},
     "output_type": "display_data"
    },
    {
     "name": "stderr",
     "output_type": "stream",
     "text": [
      "\u001b[2m\u001b[36m(RayTrainWorker pid=4329)\u001b[0m /opt/conda/lib/python3.7/site-packages/l5kit/planning/rasterized/model.py:31: UserWarning: There is no pre-trained model with num_in_channels != 3, first layer will be reset\n",
      "\u001b[2m\u001b[36m(RayTrainWorker pid=4329)\u001b[0m   warnings.warn(\"There is no pre-trained model with num_in_channels != 3, first layer will be reset\")\n",
      "\u001b[2m\u001b[36m(RayTrainWorker pid=4329)\u001b[0m /opt/conda/lib/python3.7/site-packages/torchvision/models/_utils.py:209: UserWarning: The parameter 'pretrained' is deprecated since 0.13 and will be removed in 0.15, please use 'weights' instead.\n",
      "\u001b[2m\u001b[36m(RayTrainWorker pid=4329)\u001b[0m   f\"The parameter '{pretrained_param}' is deprecated since 0.13 and will be removed in 0.15, \"\n",
      "\u001b[2m\u001b[36m(RayTrainWorker pid=4329)\u001b[0m /opt/conda/lib/python3.7/site-packages/torchvision/models/_utils.py:223: UserWarning: Arguments other than a weight enum or `None` for 'weights' are deprecated since 0.13 and will be removed in 0.15. The current behavior is equivalent to passing `weights=ResNet50_Weights.IMAGENET1K_V1`. You can also use `weights=ResNet50_Weights.DEFAULT` to get the most up-to-date weights.\n",
      "\u001b[2m\u001b[36m(RayTrainWorker pid=4329)\u001b[0m   warnings.warn(msg)\n",
      "\u001b[2m\u001b[36m(RayTrainWorker pid=4329)\u001b[0m 2022-09-07 21:17:27,492\tINFO train_loop_utils.py:300 -- Moving model to device: cpu\n"
     ]
    },
    {
     "data": {
      "text/html": [
       "W&B sync reduced upload amount by 20.0%             "
      ],
      "text/plain": [
       "<IPython.core.display.HTML object>"
      ]
     },
     "metadata": {},
     "output_type": "display_data"
    },
    {
     "name": "stdout",
     "output_type": "stream",
     "text": [
      "Result for TorchTrainer_5162d994:\n",
      "  _time_this_iter_s: 6.072742462158203\n",
      "  _timestamp: 1662585440\n",
      "  _training_iteration: 5\n",
      "  avg_loss: 44.61143324971199\n",
      "  date: 2022-09-07_21-17-20\n",
      "  done: true\n",
      "  experiment_id: b323b27af3d740359bf5c74199a95bb4\n",
      "  experiment_tag: 16_batch_size=6.0000,format_version=4,future_num_frames=50,history_num_frames=5,model_architecture=resnet50,render_ego_history=False,step_time=0.1000,dataset_meta_key=meta_json,disable_traffic_light_faces=False,ego_center=0_25_0_5,filter_agents_threshold=0.5000,map_type=py_semantic,pixel_size=0_5_0_5,raster_size=224_224,satellite_map_key=aerial_map_aerial_map_png,semantic_map_key=semantic_map_semantic_map_pb,set_origin_to_bottom=True,batch_size=12,key=scenes_sample_zarr,num_workers=16,perturb_probability=0.0000,shuffle=True,checkpoint_every_n_steps=10000,eval_every_n_steps=10000,max_num_steps=5,batch_size=12,key=scenes_sample_zarr,num_workers=16,shuffle=False,dataset_key=scenes_sample_zarr,lr=0.0001,max_num_steps=5,num_workers=4,shuffle=True\n",
      "  hostname: anish-l5-kit\n",
      "  iterations_since_restore: 5\n",
      "  loss: 20.474498748779297\n",
      "  node_ip: 10.150.0.3\n",
      "  pid: 3392\n",
      "  should_checkpoint: true\n",
      "  time_since_restore: 39.65791988372803\n",
      "  time_this_iter_s: 6.116276979446411\n",
      "  time_total_s: 39.65791988372803\n",
      "  timestamp: 1662585440\n",
      "  timesteps_since_restore: 0\n",
      "  training_iteration: 5\n",
      "  trial_id: 5162d994\n",
      "  warmup_time: 0.006201505661010742\n",
      "  \n"
     ]
    },
    {
     "data": {
      "text/html": [
       "<style>\n",
       "    table.wandb td:nth-child(1) { padding: 0 10px; text-align: left ; width: auto;} td:nth-child(2) {text-align: left ; width: 100%}\n",
       "    .wandb-row { display: flex; flex-direction: row; flex-wrap: wrap; justify-content: flex-start; width: 100% }\n",
       "    .wandb-col { display: flex; flex-direction: column; flex-basis: 100%; flex: 1; padding: 10px; }\n",
       "    </style>\n",
       "<div class=\"wandb-row\"><div class=\"wandb-col\"><h3>Run history:</h3><br/><table class=\"wandb\"><tr><td>avg_loss</td><td>▁▄█▆▆</td></tr><tr><td>iterations_since_restore</td><td>▁▃▅▆█</td></tr><tr><td>loss</td><td>▁▄█▁▂</td></tr><tr><td>time_since_restore</td><td>▁▃▄▆█</td></tr><tr><td>time_this_iter_s</td><td>█▂▁▂▂</td></tr><tr><td>time_total_s</td><td>▁▃▄▆█</td></tr><tr><td>timestamp</td><td>▁▃▄▆█</td></tr><tr><td>timesteps_since_restore</td><td>▁▁▁▁▁</td></tr><tr><td>training_iteration</td><td>▁▃▅▆█</td></tr><tr><td>warmup_time</td><td>▁▁▁▁▁</td></tr></table><br/></div><div class=\"wandb-col\"><h3>Run summary:</h3><br/><table class=\"wandb\"><tr><td>avg_loss</td><td>44.61143</td></tr><tr><td>iterations_since_restore</td><td>5</td></tr><tr><td>loss</td><td>20.4745</td></tr><tr><td>time_since_restore</td><td>39.65792</td></tr><tr><td>time_this_iter_s</td><td>6.11628</td></tr><tr><td>time_total_s</td><td>39.65792</td></tr><tr><td>timestamp</td><td>1662585440</td></tr><tr><td>timesteps_since_restore</td><td>0</td></tr><tr><td>training_iteration</td><td>5</td></tr><tr><td>warmup_time</td><td>0.0062</td></tr></table><br/></div></div>"
      ],
      "text/plain": [
       "<IPython.core.display.HTML object>"
      ]
     },
     "metadata": {},
     "output_type": "display_data"
    },
    {
     "data": {
      "text/html": [
       "Synced <strong style=\"color:#cdcd00\">TorchTrainer_5162d994</strong>: <a href=\"https://wandb.ai/l5-demo/l5-simulation-trials/runs/5162d994\" target=\"_blank\">https://wandb.ai/l5-demo/l5-simulation-trials/runs/5162d994</a><br/>Synced 7 W&B file(s), 0 media file(s), 12 artifact file(s) and 1 other file(s)"
      ],
      "text/plain": [
       "<IPython.core.display.HTML object>"
      ]
     },
     "metadata": {},
     "output_type": "display_data"
    },
    {
     "data": {
      "text/html": [
       "Find logs at: <code>./wandb/run-20220907_211637-5162d994/logs</code>"
      ],
      "text/plain": [
       "<IPython.core.display.HTML object>"
      ]
     },
     "metadata": {},
     "output_type": "display_data"
    },
    {
     "name": "stdout",
     "output_type": "stream",
     "text": [
      "\u001b[2m\u001b[36m(RayTrainWorker pid=4329)\u001b[0m {'loss': 118.15971374511719, 'avg_loss': 118.15971374511719}\n"
     ]
    },
    {
     "name": "stderr",
     "output_type": "stream",
     "text": [
      "\u001b[34m\u001b[1mwandb\u001b[0m: Adding directory to artifact (/home/jupyter/ray_results/TorchTrainer_2022-09-07_21-06-06/TorchTrainer_5b830cfa_17_batch_size=6.0000,format_version=4,future_num_frames=50,history_num_frames=5,model_architecture=resnet50,_2022-09-07_21-17-15/checkpoint_000000)... "
     ]
    },
    {
     "name": "stdout",
     "output_type": "stream",
     "text": [
      "Result for TorchTrainer_5b830cfa:\n",
      "  _time_this_iter_s: 10.60528564453125\n",
      "  _timestamp: 1662585453\n",
      "  _training_iteration: 1\n",
      "  avg_loss: 118.15971374511719\n",
      "  date: 2022-09-07_21-17-33\n",
      "  done: false\n",
      "  experiment_id: 9c6c49d3d41a4874969e77dd30e3ec8c\n",
      "  hostname: anish-l5-kit\n",
      "  iterations_since_restore: 1\n",
      "  loss: 118.15971374511719\n",
      "  node_ip: 10.150.0.3\n",
      "  pid: 4238\n",
      "  should_checkpoint: true\n",
      "  time_since_restore: 14.306106805801392\n",
      "  time_this_iter_s: 14.306106805801392\n",
      "  time_total_s: 14.306106805801392\n",
      "  timestamp: 1662585453\n",
      "  timesteps_since_restore: 0\n",
      "  training_iteration: 1\n",
      "  trial_id: 5b830cfa\n",
      "  warmup_time: 0.005975961685180664\n",
      "  \n"
     ]
    },
    {
     "name": "stderr",
     "output_type": "stream",
     "text": [
      "Done. 1.0s\n"
     ]
    },
    {
     "name": "stdout",
     "output_type": "stream",
     "text": [
      "\u001b[2m\u001b[36m(RayTrainWorker pid=4329)\u001b[0m {'loss': 72.99945068359375, 'avg_loss': 95.57958221435547}\n"
     ]
    },
    {
     "name": "stderr",
     "output_type": "stream",
     "text": [
      "\u001b[2m\u001b[36m(RayTrainWorker pid=4670)\u001b[0m 2022-09-07 21:17:39,518\tINFO config.py:72 -- Setting up process group for: env:// [rank=0, world_size=1]\n",
      "\u001b[34m\u001b[1mwandb\u001b[0m: Adding directory to artifact (/home/jupyter/ray_results/TorchTrainer_2022-09-07_21-06-06/TorchTrainer_5b830cfa_17_batch_size=6.0000,format_version=4,future_num_frames=50,history_num_frames=5,model_architecture=resnet50,_2022-09-07_21-17-15/checkpoint_000001)... "
     ]
    },
    {
     "name": "stdout",
     "output_type": "stream",
     "text": [
      "Result for TorchTrainer_5b830cfa:\n",
      "  _time_this_iter_s: 6.342345952987671\n",
      "  _timestamp: 1662585459\n",
      "  _training_iteration: 2\n",
      "  avg_loss: 95.57958221435547\n",
      "  date: 2022-09-07_21-17-39\n",
      "  done: false\n",
      "  experiment_id: 9c6c49d3d41a4874969e77dd30e3ec8c\n",
      "  hostname: anish-l5-kit\n",
      "  iterations_since_restore: 2\n",
      "  loss: 72.99945068359375\n",
      "  node_ip: 10.150.0.3\n",
      "  pid: 4238\n",
      "  should_checkpoint: true\n",
      "  time_since_restore: 20.594079732894897\n",
      "  time_this_iter_s: 6.287972927093506\n",
      "  time_total_s: 20.594079732894897\n",
      "  timestamp: 1662585459\n",
      "  timesteps_since_restore: 0\n",
      "  training_iteration: 2\n",
      "  trial_id: 5b830cfa\n",
      "  warmup_time: 0.005975961685180664\n",
      "  \n"
     ]
    },
    {
     "name": "stderr",
     "output_type": "stream",
     "text": [
      "Done. 1.0s\n"
     ]
    },
    {
     "name": "stdout",
     "output_type": "stream",
     "text": [
      "\u001b[2m\u001b[36m(RayTrainWorker pid=4329)\u001b[0m {'loss': 1.0052332878112793, 'avg_loss': 64.05479923884074}\n"
     ]
    },
    {
     "name": "stderr",
     "output_type": "stream",
     "text": [
      "\u001b[34m\u001b[1mwandb\u001b[0m: Adding directory to artifact (/home/jupyter/ray_results/TorchTrainer_2022-09-07_21-06-06/TorchTrainer_5b830cfa_17_batch_size=6.0000,format_version=4,future_num_frames=50,history_num_frames=5,model_architecture=resnet50,_2022-09-07_21-17-15/checkpoint_000002)... "
     ]
    },
    {
     "name": "stdout",
     "output_type": "stream",
     "text": [
      "Result for TorchTrainer_5b830cfa:\n",
      "  _time_this_iter_s: 5.741736173629761\n",
      "  _timestamp: 1662585465\n",
      "  _training_iteration: 3\n",
      "  avg_loss: 64.05479923884074\n",
      "  date: 2022-09-07_21-17-45\n",
      "  done: false\n",
      "  experiment_id: 9c6c49d3d41a4874969e77dd30e3ec8c\n",
      "  hostname: anish-l5-kit\n",
      "  iterations_since_restore: 3\n",
      "  loss: 1.0052332878112793\n",
      "  node_ip: 10.150.0.3\n",
      "  pid: 4238\n",
      "  should_checkpoint: true\n",
      "  time_since_restore: 26.180867910385132\n",
      "  time_this_iter_s: 5.586788177490234\n",
      "  time_total_s: 26.180867910385132\n",
      "  timestamp: 1662585465\n",
      "  timesteps_since_restore: 0\n",
      "  training_iteration: 3\n",
      "  trial_id: 5b830cfa\n",
      "  warmup_time: 0.005975961685180664\n",
      "  \n"
     ]
    },
    {
     "name": "stderr",
     "output_type": "stream",
     "text": [
      "\u001b[2m\u001b[36m(RayTrainWorker pid=4670)\u001b[0m /opt/conda/lib/python3.7/site-packages/l5kit/planning/rasterized/model.py:31: UserWarning: There is no pre-trained model with num_in_channels != 3, first layer will be reset\n",
      "\u001b[2m\u001b[36m(RayTrainWorker pid=4670)\u001b[0m   warnings.warn(\"There is no pre-trained model with num_in_channels != 3, first layer will be reset\")\n",
      "\u001b[2m\u001b[36m(RayTrainWorker pid=4670)\u001b[0m /opt/conda/lib/python3.7/site-packages/torchvision/models/_utils.py:209: UserWarning: The parameter 'pretrained' is deprecated since 0.13 and will be removed in 0.15, please use 'weights' instead.\n",
      "\u001b[2m\u001b[36m(RayTrainWorker pid=4670)\u001b[0m   f\"The parameter '{pretrained_param}' is deprecated since 0.13 and will be removed in 0.15, \"\n",
      "\u001b[2m\u001b[36m(RayTrainWorker pid=4670)\u001b[0m /opt/conda/lib/python3.7/site-packages/torchvision/models/_utils.py:223: UserWarning: Arguments other than a weight enum or `None` for 'weights' are deprecated since 0.13 and will be removed in 0.15. The current behavior is equivalent to passing `weights=ResNet50_Weights.IMAGENET1K_V1`. You can also use `weights=ResNet50_Weights.DEFAULT` to get the most up-to-date weights.\n",
      "\u001b[2m\u001b[36m(RayTrainWorker pid=4670)\u001b[0m   warnings.warn(msg)\n",
      "Done. 1.0s\n",
      "\u001b[2m\u001b[36m(RayTrainWorker pid=4670)\u001b[0m 2022-09-07 21:17:46,548\tINFO train_loop_utils.py:300 -- Moving model to device: cpu\n"
     ]
    },
    {
     "name": "stdout",
     "output_type": "stream",
     "text": [
      "\u001b[2m\u001b[36m(RayTrainWorker pid=4329)\u001b[0m {'loss': 71.40657806396484, 'avg_loss': 65.89274394512177}\n"
     ]
    },
    {
     "name": "stderr",
     "output_type": "stream",
     "text": [
      "\u001b[34m\u001b[1mwandb\u001b[0m: Adding directory to artifact (/home/jupyter/ray_results/TorchTrainer_2022-09-07_21-06-06/TorchTrainer_5b830cfa_17_batch_size=6.0000,format_version=4,future_num_frames=50,history_num_frames=5,model_architecture=resnet50,_2022-09-07_21-17-15/checkpoint_000003)... "
     ]
    },
    {
     "name": "stdout",
     "output_type": "stream",
     "text": [
      "Result for TorchTrainer_5b830cfa:\n",
      "  _time_this_iter_s: 5.707468032836914\n",
      "  _timestamp: 1662585470\n",
      "  _training_iteration: 4\n",
      "  avg_loss: 65.89274394512177\n",
      "  date: 2022-09-07_21-17-51\n",
      "  done: false\n",
      "  experiment_id: 9c6c49d3d41a4874969e77dd30e3ec8c\n",
      "  hostname: anish-l5-kit\n",
      "  iterations_since_restore: 4\n",
      "  loss: 71.40657806396484\n",
      "  node_ip: 10.150.0.3\n",
      "  pid: 4238\n",
      "  should_checkpoint: true\n",
      "  time_since_restore: 31.878676176071167\n",
      "  time_this_iter_s: 5.697808265686035\n",
      "  time_total_s: 31.878676176071167\n",
      "  timestamp: 1662585471\n",
      "  timesteps_since_restore: 0\n",
      "  training_iteration: 4\n",
      "  trial_id: 5b830cfa\n",
      "  warmup_time: 0.005975961685180664\n",
      "  \n"
     ]
    },
    {
     "name": "stderr",
     "output_type": "stream",
     "text": [
      "Done. 1.0s\n"
     ]
    },
    {
     "name": "stdout",
     "output_type": "stream",
     "text": [
      "\u001b[2m\u001b[36m(RayTrainWorker pid=4670)\u001b[0m {'loss': 43.847599029541016, 'avg_loss': 43.847599029541016}\n"
     ]
    },
    {
     "name": "stderr",
     "output_type": "stream",
     "text": [
      "\u001b[34m\u001b[1mwandb\u001b[0m: Adding directory to artifact (/home/jupyter/ray_results/TorchTrainer_2022-09-07_21-06-06/TorchTrainer_7246099c_18_batch_size=6.0000,format_version=4,future_num_frames=50,history_num_frames=5,model_architecture=resnet50,_2022-09-07_21-17-31/checkpoint_000000)... "
     ]
    },
    {
     "name": "stdout",
     "output_type": "stream",
     "text": [
      "Result for TorchTrainer_7246099c:\n",
      "  _time_this_iter_s: 12.829390525817871\n",
      "  _timestamp: 1662585472\n",
      "  _training_iteration: 1\n",
      "  avg_loss: 43.847599029541016\n",
      "  date: 2022-09-07_21-17-53\n",
      "  done: false\n",
      "  experiment_id: 2d163536a5af4b44adbbb7a41f8eb8a8\n",
      "  hostname: anish-l5-kit\n",
      "  iterations_since_restore: 1\n",
      "  loss: 43.847599029541016\n",
      "  node_ip: 10.150.0.3\n",
      "  pid: 4568\n",
      "  should_checkpoint: true\n",
      "  time_since_restore: 17.13966655731201\n",
      "  time_this_iter_s: 17.13966655731201\n",
      "  time_total_s: 17.13966655731201\n",
      "  timestamp: 1662585473\n",
      "  timesteps_since_restore: 0\n",
      "  training_iteration: 1\n",
      "  trial_id: 7246099c\n",
      "  warmup_time: 0.008389949798583984\n",
      "  \n"
     ]
    },
    {
     "name": "stderr",
     "output_type": "stream",
     "text": [
      "Done. 1.7s\n"
     ]
    },
    {
     "name": "stdout",
     "output_type": "stream",
     "text": [
      "\u001b[2m\u001b[36m(RayTrainWorker pid=4329)\u001b[0m {'loss': 69.95179748535156, 'avg_loss': 66.70455465316772}\n",
      "Result for TorchTrainer_5b830cfa:\n",
      "  _time_this_iter_s: 5.180276870727539\n",
      "  _timestamp: 1662585476\n",
      "  _training_iteration: 5\n",
      "  avg_loss: 66.70455465316772\n",
      "  date: 2022-09-07_21-17-56\n",
      "  done: false\n",
      "  experiment_id: 9c6c49d3d41a4874969e77dd30e3ec8c\n",
      "  hostname: anish-l5-kit\n",
      "  iterations_since_restore: 5\n",
      "  loss: 69.95179748535156\n",
      "  node_ip: 10.150.0.3\n",
      "  pid: 4238\n",
      "  should_checkpoint: true\n",
      "  time_since_restore: 37.13556528091431\n",
      "  time_this_iter_s: 5.25688910484314\n",
      "  time_total_s: 37.13556528091431\n",
      "  timestamp: 1662585476\n",
      "  timesteps_since_restore: 0\n",
      "  training_iteration: 5\n",
      "  trial_id: 5b830cfa\n",
      "  warmup_time: 0.005975961685180664\n",
      "  \n"
     ]
    },
    {
     "name": "stderr",
     "output_type": "stream",
     "text": [
      "\u001b[34m\u001b[1mwandb\u001b[0m: Adding directory to artifact (/home/jupyter/ray_results/TorchTrainer_2022-09-07_21-06-06/TorchTrainer_5b830cfa_17_batch_size=6.0000,format_version=4,future_num_frames=50,history_num_frames=5,model_architecture=resnet50,_2022-09-07_21-17-15/checkpoint_000004)... Done. 1.0s\n",
      "\u001b[34m\u001b[1mwandb\u001b[0m: Adding directory to artifact (/home/jupyter/ray_results/TorchTrainer_2022-09-07_21-06-06/TorchTrainer_5b830cfa_17_batch_size=6.0000,format_version=4,future_num_frames=50,history_num_frames=5,model_architecture=resnet50,_2022-09-07_21-17-15/checkpoint_000004)... Done. 0.2s\n"
     ]
    },
    {
     "name": "stdout",
     "output_type": "stream",
     "text": [
      "\u001b[2m\u001b[36m(RayTrainWorker pid=4670)\u001b[0m {'loss': 24.788902282714844, 'avg_loss': 34.31825065612793}\n"
     ]
    },
    {
     "data": {
      "text/html": [
       "Waiting for W&B process to finish... <strong style=\"color:green\">(success).</strong>"
      ],
      "text/plain": [
       "<IPython.core.display.HTML object>"
      ]
     },
     "metadata": {},
     "output_type": "display_data"
    },
    {
     "name": "stdout",
     "output_type": "stream",
     "text": [
      "\u001b[2m\u001b[36m(RayTrainWorker pid=4670)\u001b[0m {'loss': 14.166524887084961, 'avg_loss': 27.601008733113606}\n"
     ]
    },
    {
     "data": {
      "application/vnd.jupyter.widget-view+json": {
       "model_id": "6efc2e4fa169474898feb30cd234bf02",
       "version_major": 2,
       "version_minor": 0
      },
      "text/plain": [
       "VBox(children=(Label(value='456.836 MB of 456.836 MB uploaded (91.307 MB deduped)\\r'), FloatProgress(value=1.0…"
      ]
     },
     "metadata": {},
     "output_type": "display_data"
    },
    {
     "name": "stdout",
     "output_type": "stream",
     "text": [
      "Result for TorchTrainer_5b830cfa:\n",
      "  _time_this_iter_s: 5.180276870727539\n",
      "  _timestamp: 1662585476\n",
      "  _training_iteration: 5\n",
      "  avg_loss: 66.70455465316772\n",
      "  date: 2022-09-07_21-17-56\n",
      "  done: true\n",
      "  experiment_id: 9c6c49d3d41a4874969e77dd30e3ec8c\n",
      "  experiment_tag: 17_batch_size=6.0000,format_version=4,future_num_frames=50,history_num_frames=5,model_architecture=resnet50,render_ego_history=False,step_time=0.1000,dataset_meta_key=meta_json,disable_traffic_light_faces=False,ego_center=0_25_0_5,filter_agents_threshold=0.5000,map_type=py_semantic,pixel_size=0_5_0_5,raster_size=224_224,satellite_map_key=aerial_map_aerial_map_png,semantic_map_key=semantic_map_semantic_map_pb,set_origin_to_bottom=True,batch_size=12,key=scenes_sample_zarr,num_workers=16,perturb_probability=0.0000,shuffle=True,checkpoint_every_n_steps=10000,eval_every_n_steps=10000,max_num_steps=5,batch_size=12,key=scenes_sample_zarr,num_workers=16,shuffle=False,dataset_key=scenes_sample_zarr,lr=0.0002,max_num_steps=5,num_workers=4,shuffle=True\n",
      "  hostname: anish-l5-kit\n",
      "  iterations_since_restore: 5\n",
      "  loss: 69.95179748535156\n",
      "  node_ip: 10.150.0.3\n",
      "  pid: 4238\n",
      "  should_checkpoint: true\n",
      "  time_since_restore: 37.13556528091431\n",
      "  time_this_iter_s: 5.25688910484314\n",
      "  time_total_s: 37.13556528091431\n",
      "  timestamp: 1662585476\n",
      "  timesteps_since_restore: 0\n",
      "  training_iteration: 5\n",
      "  trial_id: 5b830cfa\n",
      "  warmup_time: 0.005975961685180664\n",
      "  \n"
     ]
    },
    {
     "name": "stderr",
     "output_type": "stream",
     "text": [
      "\u001b[34m\u001b[1mwandb\u001b[0m: Adding directory to artifact (/home/jupyter/ray_results/TorchTrainer_2022-09-07_21-06-06/TorchTrainer_7246099c_18_batch_size=6.0000,format_version=4,future_num_frames=50,history_num_frames=5,model_architecture=resnet50,_2022-09-07_21-17-31/checkpoint_000001)... "
     ]
    },
    {
     "name": "stdout",
     "output_type": "stream",
     "text": [
      "Result for TorchTrainer_7246099c:\n",
      "  _time_this_iter_s: 5.140620708465576\n",
      "  _timestamp: 1662585477\n",
      "  _training_iteration: 2\n",
      "  avg_loss: 34.31825065612793\n",
      "  date: 2022-09-07_21-17-58\n",
      "  done: false\n",
      "  experiment_id: 2d163536a5af4b44adbbb7a41f8eb8a8\n",
      "  hostname: anish-l5-kit\n",
      "  iterations_since_restore: 2\n",
      "  loss: 24.788902282714844\n",
      "  node_ip: 10.150.0.3\n",
      "  pid: 4568\n",
      "  should_checkpoint: true\n",
      "  time_since_restore: 22.211164712905884\n",
      "  time_this_iter_s: 5.071498155593872\n",
      "  time_total_s: 22.211164712905884\n",
      "  timestamp: 1662585478\n",
      "  timesteps_since_restore: 0\n",
      "  training_iteration: 2\n",
      "  trial_id: 7246099c\n",
      "  warmup_time: 0.008389949798583984\n",
      "  \n"
     ]
    },
    {
     "name": "stderr",
     "output_type": "stream",
     "text": [
      "Done. 1.0s\n",
      "\u001b[34m\u001b[1mwandb\u001b[0m: Adding directory to artifact (/home/jupyter/ray_results/TorchTrainer_2022-09-07_21-06-06/TorchTrainer_7246099c_18_batch_size=6.0000,format_version=4,future_num_frames=50,history_num_frames=5,model_architecture=resnet50,_2022-09-07_21-17-31/checkpoint_000002)... Done. 1.0s\n"
     ]
    },
    {
     "name": "stdout",
     "output_type": "stream",
     "text": [
      "\u001b[2m\u001b[36m(RayTrainWorker pid=4670)\u001b[0m {'loss': 4.776675701141357, 'avg_loss': 21.894925475120544}\n",
      "Result for TorchTrainer_7246099c:\n",
      "  _time_this_iter_s: 5.71928071975708\n",
      "  _timestamp: 1662585492\n",
      "  _training_iteration: 4\n",
      "  avg_loss: 21.894925475120544\n",
      "  date: 2022-09-07_21-18-13\n",
      "  done: false\n",
      "  experiment_id: 2d163536a5af4b44adbbb7a41f8eb8a8\n",
      "  hostname: anish-l5-kit\n",
      "  iterations_since_restore: 4\n",
      "  loss: 4.776675701141357\n",
      "  node_ip: 10.150.0.3\n",
      "  pid: 4568\n",
      "  should_checkpoint: true\n",
      "  time_since_restore: 36.898244857788086\n",
      "  time_this_iter_s: 5.794817686080933\n",
      "  time_total_s: 36.898244857788086\n",
      "  timestamp: 1662585493\n",
      "  timesteps_since_restore: 0\n",
      "  training_iteration: 4\n",
      "  trial_id: 7246099c\n",
      "  warmup_time: 0.008389949798583984\n",
      "  \n"
     ]
    },
    {
     "name": "stderr",
     "output_type": "stream",
     "text": [
      "\u001b[34m\u001b[1mwandb\u001b[0m: Adding directory to artifact (/home/jupyter/ray_results/TorchTrainer_2022-09-07_21-06-06/TorchTrainer_7246099c_18_batch_size=6.0000,format_version=4,future_num_frames=50,history_num_frames=5,model_architecture=resnet50,_2022-09-07_21-17-31/checkpoint_000003)... Done. 1.0s\n",
      "\u001b[2m\u001b[36m(RayTrainWorker pid=5550)\u001b[0m 2022-09-07 21:18:15,497\tINFO config.py:72 -- Setting up process group for: env:// [rank=0, world_size=1]\n"
     ]
    },
    {
     "data": {
      "text/html": [
       "W&B sync reduced upload amount by 20.0%             "
      ],
      "text/plain": [
       "<IPython.core.display.HTML object>"
      ]
     },
     "metadata": {},
     "output_type": "display_data"
    },
    {
     "data": {
      "text/html": [
       "<style>\n",
       "    table.wandb td:nth-child(1) { padding: 0 10px; text-align: left ; width: auto;} td:nth-child(2) {text-align: left ; width: 100%}\n",
       "    .wandb-row { display: flex; flex-direction: row; flex-wrap: wrap; justify-content: flex-start; width: 100% }\n",
       "    .wandb-col { display: flex; flex-direction: column; flex-basis: 100%; flex: 1; padding: 10px; }\n",
       "    </style>\n",
       "<div class=\"wandb-row\"><div class=\"wandb-col\"><h3>Run history:</h3><br/><table class=\"wandb\"><tr><td>avg_loss</td><td>█▅▁▁▁</td></tr><tr><td>iterations_since_restore</td><td>▁▃▅▆█</td></tr><tr><td>loss</td><td>█▅▁▅▅</td></tr><tr><td>time_since_restore</td><td>▁▃▅▆█</td></tr><tr><td>time_this_iter_s</td><td>█▂▁▁▁</td></tr><tr><td>time_total_s</td><td>▁▃▅▆█</td></tr><tr><td>timestamp</td><td>▁▃▅▆█</td></tr><tr><td>timesteps_since_restore</td><td>▁▁▁▁▁</td></tr><tr><td>training_iteration</td><td>▁▃▅▆█</td></tr><tr><td>warmup_time</td><td>▁▁▁▁▁</td></tr></table><br/></div><div class=\"wandb-col\"><h3>Run summary:</h3><br/><table class=\"wandb\"><tr><td>avg_loss</td><td>66.70455</td></tr><tr><td>iterations_since_restore</td><td>5</td></tr><tr><td>loss</td><td>69.9518</td></tr><tr><td>time_since_restore</td><td>37.13557</td></tr><tr><td>time_this_iter_s</td><td>5.25689</td></tr><tr><td>time_total_s</td><td>37.13557</td></tr><tr><td>timestamp</td><td>1662585476</td></tr><tr><td>timesteps_since_restore</td><td>0</td></tr><tr><td>training_iteration</td><td>5</td></tr><tr><td>warmup_time</td><td>0.00598</td></tr></table><br/></div></div>"
      ],
      "text/plain": [
       "<IPython.core.display.HTML object>"
      ]
     },
     "metadata": {},
     "output_type": "display_data"
    },
    {
     "data": {
      "text/html": [
       "Synced <strong style=\"color:#cdcd00\">TorchTrainer_5b830cfa</strong>: <a href=\"https://wandb.ai/l5-demo/l5-simulation-trials/runs/5b830cfa\" target=\"_blank\">https://wandb.ai/l5-demo/l5-simulation-trials/runs/5b830cfa</a><br/>Synced 7 W&B file(s), 0 media file(s), 12 artifact file(s) and 1 other file(s)"
      ],
      "text/plain": [
       "<IPython.core.display.HTML object>"
      ]
     },
     "metadata": {},
     "output_type": "display_data"
    },
    {
     "data": {
      "text/html": [
       "Find logs at: <code>./wandb/run-20220907_211715-5b830cfa/logs</code>"
      ],
      "text/plain": [
       "<IPython.core.display.HTML object>"
      ]
     },
     "metadata": {},
     "output_type": "display_data"
    },
    {
     "name": "stdout",
     "output_type": "stream",
     "text": [
      "\u001b[2m\u001b[36m(RayTrainWorker pid=4670)\u001b[0m {'loss': 59.811641693115234, 'avg_loss': 29.478268718719484}\n"
     ]
    },
    {
     "name": "stderr",
     "output_type": "stream",
     "text": [
      "\u001b[34m\u001b[1mwandb\u001b[0m: Adding directory to artifact (/home/jupyter/ray_results/TorchTrainer_2022-09-07_21-06-06/TorchTrainer_7246099c_18_batch_size=6.0000,format_version=4,future_num_frames=50,history_num_frames=5,model_architecture=resnet50,_2022-09-07_21-17-31/checkpoint_000004)... "
     ]
    },
    {
     "name": "stdout",
     "output_type": "stream",
     "text": [
      "Result for TorchTrainer_7246099c:\n",
      "  _time_this_iter_s: 7.015082836151123\n",
      "  _timestamp: 1662585499\n",
      "  _training_iteration: 5\n",
      "  avg_loss: 29.478268718719484\n",
      "  date: 2022-09-07_21-18-20\n",
      "  done: false\n",
      "  experiment_id: 2d163536a5af4b44adbbb7a41f8eb8a8\n",
      "  hostname: anish-l5-kit\n",
      "  iterations_since_restore: 5\n",
      "  loss: 59.811641693115234\n",
      "  node_ip: 10.150.0.3\n",
      "  pid: 4568\n",
      "  should_checkpoint: true\n",
      "  time_since_restore: 43.881277084350586\n",
      "  time_this_iter_s: 6.9830322265625\n",
      "  time_total_s: 43.881277084350586\n",
      "  timestamp: 1662585500\n",
      "  timesteps_since_restore: 0\n",
      "  training_iteration: 5\n",
      "  trial_id: 7246099c\n",
      "  warmup_time: 0.008389949798583984\n",
      "  \n"
     ]
    },
    {
     "name": "stderr",
     "output_type": "stream",
     "text": [
      "Done. 1.0s\n",
      "\u001b[2m\u001b[36m(RayTrainWorker pid=5550)\u001b[0m /opt/conda/lib/python3.7/site-packages/l5kit/planning/rasterized/model.py:31: UserWarning: There is no pre-trained model with num_in_channels != 3, first layer will be reset\n",
      "\u001b[2m\u001b[36m(RayTrainWorker pid=5550)\u001b[0m   warnings.warn(\"There is no pre-trained model with num_in_channels != 3, first layer will be reset\")\n",
      "\u001b[2m\u001b[36m(RayTrainWorker pid=5550)\u001b[0m /opt/conda/lib/python3.7/site-packages/torchvision/models/_utils.py:209: UserWarning: The parameter 'pretrained' is deprecated since 0.13 and will be removed in 0.15, please use 'weights' instead.\n",
      "\u001b[2m\u001b[36m(RayTrainWorker pid=5550)\u001b[0m   f\"The parameter '{pretrained_param}' is deprecated since 0.13 and will be removed in 0.15, \"\n",
      "\u001b[2m\u001b[36m(RayTrainWorker pid=5550)\u001b[0m /opt/conda/lib/python3.7/site-packages/torchvision/models/_utils.py:223: UserWarning: Arguments other than a weight enum or `None` for 'weights' are deprecated since 0.13 and will be removed in 0.15. The current behavior is equivalent to passing `weights=ResNet50_Weights.IMAGENET1K_V1`. You can also use `weights=ResNet50_Weights.DEFAULT` to get the most up-to-date weights.\n",
      "\u001b[2m\u001b[36m(RayTrainWorker pid=5550)\u001b[0m   warnings.warn(msg)\n",
      "\u001b[34m\u001b[1mwandb\u001b[0m: Adding directory to artifact (/home/jupyter/ray_results/TorchTrainer_2022-09-07_21-06-06/TorchTrainer_7246099c_18_batch_size=6.0000,format_version=4,future_num_frames=50,history_num_frames=5,model_architecture=resnet50,_2022-09-07_21-17-31/checkpoint_000004)... Done. 0.3s\n",
      "\u001b[2m\u001b[36m(RayTrainWorker pid=5550)\u001b[0m 2022-09-07 21:18:21,466\tINFO train_loop_utils.py:300 -- Moving model to device: cpu\n"
     ]
    },
    {
     "data": {
      "text/html": [
       "Waiting for W&B process to finish... <strong style=\"color:green\">(success).</strong>"
      ],
      "text/plain": [
       "<IPython.core.display.HTML object>"
      ]
     },
     "metadata": {},
     "output_type": "display_data"
    },
    {
     "data": {
      "application/vnd.jupyter.widget-view+json": {
       "model_id": "03641961d2c14e5d8de29a00e67c7b54",
       "version_major": 2,
       "version_minor": 0
      },
      "text/plain": [
       "VBox(children=(Label(value='456.836 MB of 456.836 MB uploaded (91.307 MB deduped)\\r'), FloatProgress(value=1.0…"
      ]
     },
     "metadata": {},
     "output_type": "display_data"
    },
    {
     "data": {
      "text/html": [
       "W&B sync reduced upload amount by 20.0%             "
      ],
      "text/plain": [
       "<IPython.core.display.HTML object>"
      ]
     },
     "metadata": {},
     "output_type": "display_data"
    },
    {
     "data": {
      "text/html": [
       "<style>\n",
       "    table.wandb td:nth-child(1) { padding: 0 10px; text-align: left ; width: auto;} td:nth-child(2) {text-align: left ; width: 100%}\n",
       "    .wandb-row { display: flex; flex-direction: row; flex-wrap: wrap; justify-content: flex-start; width: 100% }\n",
       "    .wandb-col { display: flex; flex-direction: column; flex-basis: 100%; flex: 1; padding: 10px; }\n",
       "    </style>\n",
       "<div class=\"wandb-row\"><div class=\"wandb-col\"><h3>Run history:</h3><br/><table class=\"wandb\"><tr><td>avg_loss</td><td>█▅▃▁▃</td></tr><tr><td>iterations_since_restore</td><td>▁▃▅▆█</td></tr><tr><td>loss</td><td>▆▄▂▁█</td></tr><tr><td>time_since_restore</td><td>▁▂▅▆█</td></tr><tr><td>time_this_iter_s</td><td>█▁▃▁▂</td></tr><tr><td>time_total_s</td><td>▁▂▅▆█</td></tr><tr><td>timestamp</td><td>▁▂▅▆█</td></tr><tr><td>timesteps_since_restore</td><td>▁▁▁▁▁</td></tr><tr><td>training_iteration</td><td>▁▃▅▆█</td></tr><tr><td>warmup_time</td><td>▁▁▁▁▁</td></tr></table><br/></div><div class=\"wandb-col\"><h3>Run summary:</h3><br/><table class=\"wandb\"><tr><td>avg_loss</td><td>29.47827</td></tr><tr><td>iterations_since_restore</td><td>5</td></tr><tr><td>loss</td><td>59.81164</td></tr><tr><td>time_since_restore</td><td>43.88128</td></tr><tr><td>time_this_iter_s</td><td>6.98303</td></tr><tr><td>time_total_s</td><td>43.88128</td></tr><tr><td>timestamp</td><td>1662585500</td></tr><tr><td>timesteps_since_restore</td><td>0</td></tr><tr><td>training_iteration</td><td>5</td></tr><tr><td>warmup_time</td><td>0.00839</td></tr></table><br/></div></div>"
      ],
      "text/plain": [
       "<IPython.core.display.HTML object>"
      ]
     },
     "metadata": {},
     "output_type": "display_data"
    },
    {
     "data": {
      "text/html": [
       "Synced <strong style=\"color:#cdcd00\">TorchTrainer_7246099c</strong>: <a href=\"https://wandb.ai/l5-demo/l5-simulation-trials/runs/7246099c\" target=\"_blank\">https://wandb.ai/l5-demo/l5-simulation-trials/runs/7246099c</a><br/>Synced 7 W&B file(s), 0 media file(s), 12 artifact file(s) and 1 other file(s)"
      ],
      "text/plain": [
       "<IPython.core.display.HTML object>"
      ]
     },
     "metadata": {},
     "output_type": "display_data"
    },
    {
     "data": {
      "text/html": [
       "Find logs at: <code>./wandb/run-20220907_211732-7246099c/logs</code>"
      ],
      "text/plain": [
       "<IPython.core.display.HTML object>"
      ]
     },
     "metadata": {},
     "output_type": "display_data"
    },
    {
     "name": "stdout",
     "output_type": "stream",
     "text": [
      "Result for TorchTrainer_7246099c:\n",
      "  _time_this_iter_s: 7.015082836151123\n",
      "  _timestamp: 1662585499\n",
      "  _training_iteration: 5\n",
      "  avg_loss: 29.478268718719484\n",
      "  date: 2022-09-07_21-18-20\n",
      "  done: true\n",
      "  experiment_id: 2d163536a5af4b44adbbb7a41f8eb8a8\n",
      "  experiment_tag: 18_batch_size=6.0000,format_version=4,future_num_frames=50,history_num_frames=5,model_architecture=resnet50,render_ego_history=False,step_time=0.1000,dataset_meta_key=meta_json,disable_traffic_light_faces=False,ego_center=0_25_0_5,filter_agents_threshold=0.5000,map_type=py_semantic,pixel_size=0_5_0_5,raster_size=224_224,satellite_map_key=aerial_map_aerial_map_png,semantic_map_key=semantic_map_semantic_map_pb,set_origin_to_bottom=True,batch_size=12,key=scenes_sample_zarr,num_workers=16,perturb_probability=0.0000,shuffle=True,checkpoint_every_n_steps=10000,eval_every_n_steps=10000,max_num_steps=5,batch_size=12,key=scenes_sample_zarr,num_workers=16,shuffle=False,dataset_key=scenes_sample_zarr,lr=0.0044,max_num_steps=5,num_workers=4,shuffle=True\n",
      "  hostname: anish-l5-kit\n",
      "  iterations_since_restore: 5\n",
      "  loss: 59.811641693115234\n",
      "  node_ip: 10.150.0.3\n",
      "  pid: 4568\n",
      "  should_checkpoint: true\n",
      "  time_since_restore: 43.881277084350586\n",
      "  time_this_iter_s: 6.9830322265625\n",
      "  time_total_s: 43.881277084350586\n",
      "  timestamp: 1662585500\n",
      "  timesteps_since_restore: 0\n",
      "  training_iteration: 5\n",
      "  trial_id: 7246099c\n",
      "  warmup_time: 0.008389949798583984\n",
      "  \n",
      "\u001b[2m\u001b[36m(RayTrainWorker pid=5550)\u001b[0m {'loss': 209.20376586914062, 'avg_loss': 209.20376586914062}\n"
     ]
    },
    {
     "name": "stderr",
     "output_type": "stream",
     "text": [
      "\u001b[34m\u001b[1mwandb\u001b[0m: Adding directory to artifact (/home/jupyter/ray_results/TorchTrainer_2022-09-07_21-06-06/TorchTrainer_7c45b76c_19_batch_size=12.0000,format_version=4,future_num_frames=50,history_num_frames=5,model_architecture=resnet50_2022-09-07_21-18-08/checkpoint_000000)... "
     ]
    },
    {
     "name": "stdout",
     "output_type": "stream",
     "text": [
      "Result for TorchTrainer_7c45b76c:\n",
      "  _time_this_iter_s: 16.642154932022095\n",
      "  _timestamp: 1662585512\n",
      "  _training_iteration: 1\n",
      "  avg_loss: 209.20376586914062\n",
      "  date: 2022-09-07_21-18-33\n",
      "  done: false\n",
      "  experiment_id: c2763f685e0c4eaeb236d4ecfcaecc19\n",
      "  hostname: anish-l5-kit\n",
      "  iterations_since_restore: 1\n",
      "  loss: 209.20376586914062\n",
      "  node_ip: 10.150.0.3\n",
      "  pid: 5470\n",
      "  should_checkpoint: true\n",
      "  time_since_restore: 20.804489612579346\n",
      "  time_this_iter_s: 20.804489612579346\n",
      "  time_total_s: 20.804489612579346\n",
      "  timestamp: 1662585513\n",
      "  timesteps_since_restore: 0\n",
      "  training_iteration: 1\n",
      "  trial_id: 7c45b76c\n",
      "  warmup_time: 0.005153656005859375\n",
      "  \n"
     ]
    },
    {
     "name": "stderr",
     "output_type": "stream",
     "text": [
      "Done. 1.0s\n",
      "\u001b[2m\u001b[36m(RayTrainWorker pid=5893)\u001b[0m 2022-09-07 21:18:37,593\tINFO config.py:72 -- Setting up process group for: env:// [rank=0, world_size=1]\n"
     ]
    },
    {
     "name": "stdout",
     "output_type": "stream",
     "text": [
      "\u001b[2m\u001b[36m(RayTrainWorker pid=5550)\u001b[0m {'loss': 0.4377988576889038, 'avg_loss': 104.82078236341476}\n"
     ]
    },
    {
     "name": "stderr",
     "output_type": "stream",
     "text": [
      "\u001b[34m\u001b[1mwandb\u001b[0m: Adding directory to artifact (/home/jupyter/ray_results/TorchTrainer_2022-09-07_21-06-06/TorchTrainer_7c45b76c_19_batch_size=12.0000,format_version=4,future_num_frames=50,history_num_frames=5,model_architecture=resnet50_2022-09-07_21-18-08/checkpoint_000001)... "
     ]
    },
    {
     "name": "stdout",
     "output_type": "stream",
     "text": [
      "Result for TorchTrainer_7c45b76c:\n",
      "  _time_this_iter_s: 10.279728174209595\n",
      "  _timestamp: 1662585522\n",
      "  _training_iteration: 2\n",
      "  avg_loss: 104.82078236341476\n",
      "  date: 2022-09-07_21-18-43\n",
      "  done: false\n",
      "  experiment_id: c2763f685e0c4eaeb236d4ecfcaecc19\n",
      "  hostname: anish-l5-kit\n",
      "  iterations_since_restore: 2\n",
      "  loss: 0.4377988576889038\n",
      "  node_ip: 10.150.0.3\n",
      "  pid: 5470\n",
      "  should_checkpoint: true\n",
      "  time_since_restore: 30.971221446990967\n",
      "  time_this_iter_s: 10.166731834411621\n",
      "  time_total_s: 30.971221446990967\n",
      "  timestamp: 1662585523\n",
      "  timesteps_since_restore: 0\n",
      "  training_iteration: 2\n",
      "  trial_id: 7c45b76c\n",
      "  warmup_time: 0.005153656005859375\n",
      "  \n"
     ]
    },
    {
     "name": "stderr",
     "output_type": "stream",
     "text": [
      "\u001b[2m\u001b[36m(RayTrainWorker pid=5893)\u001b[0m /opt/conda/lib/python3.7/site-packages/l5kit/planning/rasterized/model.py:31: UserWarning: There is no pre-trained model with num_in_channels != 3, first layer will be reset\n",
      "\u001b[2m\u001b[36m(RayTrainWorker pid=5893)\u001b[0m   warnings.warn(\"There is no pre-trained model with num_in_channels != 3, first layer will be reset\")\n",
      "\u001b[2m\u001b[36m(RayTrainWorker pid=5893)\u001b[0m /opt/conda/lib/python3.7/site-packages/torchvision/models/_utils.py:209: UserWarning: The parameter 'pretrained' is deprecated since 0.13 and will be removed in 0.15, please use 'weights' instead.\n",
      "\u001b[2m\u001b[36m(RayTrainWorker pid=5893)\u001b[0m   f\"The parameter '{pretrained_param}' is deprecated since 0.13 and will be removed in 0.15, \"\n",
      "\u001b[2m\u001b[36m(RayTrainWorker pid=5893)\u001b[0m /opt/conda/lib/python3.7/site-packages/torchvision/models/_utils.py:223: UserWarning: Arguments other than a weight enum or `None` for 'weights' are deprecated since 0.13 and will be removed in 0.15. The current behavior is equivalent to passing `weights=ResNet50_Weights.IMAGENET1K_V1`. You can also use `weights=ResNet50_Weights.DEFAULT` to get the most up-to-date weights.\n",
      "\u001b[2m\u001b[36m(RayTrainWorker pid=5893)\u001b[0m   warnings.warn(msg)\n",
      "Done. 1.0s\n",
      "\u001b[2m\u001b[36m(RayTrainWorker pid=5893)\u001b[0m 2022-09-07 21:18:44,236\tINFO train_loop_utils.py:300 -- Moving model to device: cpu\n"
     ]
    },
    {
     "name": "stdout",
     "output_type": "stream",
     "text": [
      "\u001b[2m\u001b[36m(RayTrainWorker pid=5550)\u001b[0m {'loss': 119.99163055419922, 'avg_loss': 109.87773176034291}\n"
     ]
    },
    {
     "name": "stderr",
     "output_type": "stream",
     "text": [
      "\u001b[34m\u001b[1mwandb\u001b[0m: Adding directory to artifact (/home/jupyter/ray_results/TorchTrainer_2022-09-07_21-06-06/TorchTrainer_7c45b76c_19_batch_size=12.0000,format_version=4,future_num_frames=50,history_num_frames=5,model_architecture=resnet50_2022-09-07_21-18-08/checkpoint_000002)... "
     ]
    },
    {
     "name": "stdout",
     "output_type": "stream",
     "text": [
      "Result for TorchTrainer_7c45b76c:\n",
      "  _time_this_iter_s: 10.41622519493103\n",
      "  _timestamp: 1662585533\n",
      "  _training_iteration: 3\n",
      "  avg_loss: 109.87773176034291\n",
      "  date: 2022-09-07_21-18-53\n",
      "  done: false\n",
      "  experiment_id: c2763f685e0c4eaeb236d4ecfcaecc19\n",
      "  hostname: anish-l5-kit\n",
      "  iterations_since_restore: 3\n",
      "  loss: 119.99163055419922\n",
      "  node_ip: 10.150.0.3\n",
      "  pid: 5470\n",
      "  should_checkpoint: true\n",
      "  time_since_restore: 41.43177318572998\n",
      "  time_this_iter_s: 10.460551738739014\n",
      "  time_total_s: 41.43177318572998\n",
      "  timestamp: 1662585533\n",
      "  timesteps_since_restore: 0\n",
      "  training_iteration: 3\n",
      "  trial_id: 7c45b76c\n",
      "  warmup_time: 0.005153656005859375\n",
      "  \n"
     ]
    },
    {
     "name": "stderr",
     "output_type": "stream",
     "text": [
      "Done. 1.0s\n"
     ]
    },
    {
     "name": "stdout",
     "output_type": "stream",
     "text": [
      "\u001b[2m\u001b[36m(RayTrainWorker pid=5893)\u001b[0m {'loss': 60.40569305419922, 'avg_loss': 60.40569305419922}\n"
     ]
    },
    {
     "name": "stderr",
     "output_type": "stream",
     "text": [
      "\u001b[34m\u001b[1mwandb\u001b[0m: Adding directory to artifact (/home/jupyter/ray_results/TorchTrainer_2022-09-07_21-06-06/TorchTrainer_91ccf37a_20_batch_size=12.0000,format_version=4,future_num_frames=50,history_num_frames=5,model_architecture=resnet50_2022-09-07_21-18-30/checkpoint_000000)... "
     ]
    },
    {
     "name": "stdout",
     "output_type": "stream",
     "text": [
      "Result for TorchTrainer_91ccf37a:\n",
      "  _time_this_iter_s: 17.775947332382202\n",
      "  _timestamp: 1662585535\n",
      "  _training_iteration: 1\n",
      "  avg_loss: 60.40569305419922\n",
      "  date: 2022-09-07_21-18-56\n",
      "  done: false\n",
      "  experiment_id: 76cfbc6801e34d6d8e2d7516a9fe56fd\n",
      "  hostname: anish-l5-kit\n",
      "  iterations_since_restore: 1\n",
      "  loss: 60.40569305419922\n",
      "  node_ip: 10.150.0.3\n",
      "  pid: 5803\n",
      "  should_checkpoint: true\n",
      "  time_since_restore: 22.24928903579712\n",
      "  time_this_iter_s: 22.24928903579712\n",
      "  time_total_s: 22.24928903579712\n",
      "  timestamp: 1662585536\n",
      "  timesteps_since_restore: 0\n",
      "  training_iteration: 1\n",
      "  trial_id: 91ccf37a\n",
      "  warmup_time: 0.005927324295043945\n",
      "  \n"
     ]
    },
    {
     "name": "stderr",
     "output_type": "stream",
     "text": [
      "Done. 1.0s\n"
     ]
    },
    {
     "name": "stdout",
     "output_type": "stream",
     "text": [
      "\u001b[2m\u001b[36m(RayTrainWorker pid=5550)\u001b[0m {'loss': 9.539534568786621, 'avg_loss': 84.79318246245384}\n"
     ]
    },
    {
     "name": "stderr",
     "output_type": "stream",
     "text": [
      "\u001b[34m\u001b[1mwandb\u001b[0m: Adding directory to artifact (/home/jupyter/ray_results/TorchTrainer_2022-09-07_21-06-06/TorchTrainer_7c45b76c_19_batch_size=12.0000,format_version=4,future_num_frames=50,history_num_frames=5,model_architecture=resnet50_2022-09-07_21-18-08/checkpoint_000003)... "
     ]
    },
    {
     "name": "stdout",
     "output_type": "stream",
     "text": [
      "Result for TorchTrainer_7c45b76c:\n",
      "  _time_this_iter_s: 10.408117532730103\n",
      "  _timestamp: 1662585543\n",
      "  _training_iteration: 4\n",
      "  avg_loss: 84.79318246245384\n",
      "  date: 2022-09-07_21-19-04\n",
      "  done: false\n",
      "  experiment_id: c2763f685e0c4eaeb236d4ecfcaecc19\n",
      "  hostname: anish-l5-kit\n",
      "  iterations_since_restore: 4\n",
      "  loss: 9.539534568786621\n",
      "  node_ip: 10.150.0.3\n",
      "  pid: 5470\n",
      "  should_checkpoint: true\n",
      "  time_since_restore: 51.78055000305176\n",
      "  time_this_iter_s: 10.348776817321777\n",
      "  time_total_s: 51.78055000305176\n",
      "  timestamp: 1662585544\n",
      "  timesteps_since_restore: 0\n",
      "  training_iteration: 4\n",
      "  trial_id: 7c45b76c\n",
      "  warmup_time: 0.005153656005859375\n",
      "  \n"
     ]
    },
    {
     "name": "stderr",
     "output_type": "stream",
     "text": [
      "Done. 1.0s\n"
     ]
    },
    {
     "name": "stdout",
     "output_type": "stream",
     "text": [
      "\u001b[2m\u001b[36m(RayTrainWorker pid=5893)\u001b[0m {'loss': 69.12847900390625, 'avg_loss': 64.76708602905273}\n",
      "Result for TorchTrainer_91ccf37a:\n",
      "  _time_this_iter_s: 10.68947958946228\n",
      "  _timestamp: 1662585546\n",
      "  _training_iteration: 2\n",
      "  avg_loss: 64.76708602905273\n",
      "  date: 2022-09-07_21-19-07\n",
      "  done: false\n",
      "  experiment_id: 76cfbc6801e34d6d8e2d7516a9fe56fd\n",
      "  hostname: anish-l5-kit\n",
      "  iterations_since_restore: 2\n",
      "  loss: 69.12847900390625\n",
      "  node_ip: 10.150.0.3\n",
      "  pid: 5803\n",
      "  should_checkpoint: true\n",
      "  time_since_restore: 32.89037585258484\n",
      "  time_this_iter_s: 10.64108681678772\n",
      "  time_total_s: 32.89037585258484\n",
      "  timestamp: 1662585547\n",
      "  timesteps_since_restore: 0\n",
      "  training_iteration: 2\n",
      "  trial_id: 91ccf37a\n",
      "  warmup_time: 0.005927324295043945\n",
      "  \n"
     ]
    },
    {
     "name": "stderr",
     "output_type": "stream",
     "text": [
      "\u001b[34m\u001b[1mwandb\u001b[0m: Adding directory to artifact (/home/jupyter/ray_results/TorchTrainer_2022-09-07_21-06-06/TorchTrainer_91ccf37a_20_batch_size=12.0000,format_version=4,future_num_frames=50,history_num_frames=5,model_architecture=resnet50_2022-09-07_21-18-30/checkpoint_000001)... Done. 1.1s\n"
     ]
    },
    {
     "name": "stdout",
     "output_type": "stream",
     "text": [
      "\u001b[2m\u001b[36m(RayTrainWorker pid=5550)\u001b[0m {'loss': 35.24058532714844, 'avg_loss': 74.88266303539277}\n"
     ]
    },
    {
     "name": "stderr",
     "output_type": "stream",
     "text": [
      "\u001b[34m\u001b[1mwandb\u001b[0m: Adding directory to artifact (/home/jupyter/ray_results/TorchTrainer_2022-09-07_21-06-06/TorchTrainer_7c45b76c_19_batch_size=12.0000,format_version=4,future_num_frames=50,history_num_frames=5,model_architecture=resnet50_2022-09-07_21-18-08/checkpoint_000004)... "
     ]
    },
    {
     "name": "stdout",
     "output_type": "stream",
     "text": [
      "Result for TorchTrainer_7c45b76c:\n",
      "  _time_this_iter_s: 8.762531280517578\n",
      "  _timestamp: 1662585552\n",
      "  _training_iteration: 5\n",
      "  avg_loss: 74.88266303539277\n",
      "  date: 2022-09-07_21-19-12\n",
      "  done: false\n",
      "  experiment_id: c2763f685e0c4eaeb236d4ecfcaecc19\n",
      "  hostname: anish-l5-kit\n",
      "  iterations_since_restore: 5\n",
      "  loss: 35.24058532714844\n",
      "  node_ip: 10.150.0.3\n",
      "  pid: 5470\n",
      "  should_checkpoint: true\n",
      "  time_since_restore: 60.61064624786377\n",
      "  time_this_iter_s: 8.830096244812012\n",
      "  time_total_s: 60.61064624786377\n",
      "  timestamp: 1662585552\n",
      "  timesteps_since_restore: 0\n",
      "  training_iteration: 5\n",
      "  trial_id: 7c45b76c\n",
      "  warmup_time: 0.005153656005859375\n",
      "  \n"
     ]
    },
    {
     "name": "stderr",
     "output_type": "stream",
     "text": [
      "Done. 1.0s\n",
      "\u001b[34m\u001b[1mwandb\u001b[0m: Adding directory to artifact (/home/jupyter/ray_results/TorchTrainer_2022-09-07_21-06-06/TorchTrainer_7c45b76c_19_batch_size=12.0000,format_version=4,future_num_frames=50,history_num_frames=5,model_architecture=resnet50_2022-09-07_21-18-08/checkpoint_000004)... Done. 0.3s\n"
     ]
    },
    {
     "data": {
      "text/html": [
       "Waiting for W&B process to finish... <strong style=\"color:green\">(success).</strong>"
      ],
      "text/plain": [
       "<IPython.core.display.HTML object>"
      ]
     },
     "metadata": {},
     "output_type": "display_data"
    },
    {
     "name": "stdout",
     "output_type": "stream",
     "text": [
      "\u001b[2m\u001b[36m(RayTrainWorker pid=5893)\u001b[0m {'loss': 171.53176879882812, 'avg_loss': 100.35531361897786}\n"
     ]
    },
    {
     "data": {
      "application/vnd.jupyter.widget-view+json": {
       "model_id": "e44dea282ec14d4cbb2938911a83acee",
       "version_major": 2,
       "version_minor": 0
      },
      "text/plain": [
       "VBox(children=(Label(value='456.836 MB of 456.836 MB uploaded (91.307 MB deduped)\\r'), FloatProgress(value=1.0…"
      ]
     },
     "metadata": {},
     "output_type": "display_data"
    },
    {
     "data": {
      "text/html": [
       "W&B sync reduced upload amount by 20.0%             "
      ],
      "text/plain": [
       "<IPython.core.display.HTML object>"
      ]
     },
     "metadata": {},
     "output_type": "display_data"
    },
    {
     "data": {
      "text/html": [
       "<style>\n",
       "    table.wandb td:nth-child(1) { padding: 0 10px; text-align: left ; width: auto;} td:nth-child(2) {text-align: left ; width: 100%}\n",
       "    .wandb-row { display: flex; flex-direction: row; flex-wrap: wrap; justify-content: flex-start; width: 100% }\n",
       "    .wandb-col { display: flex; flex-direction: column; flex-basis: 100%; flex: 1; padding: 10px; }\n",
       "    </style>\n",
       "<div class=\"wandb-row\"><div class=\"wandb-col\"><h3>Run history:</h3><br/><table class=\"wandb\"><tr><td>avg_loss</td><td>█▃▃▂▁</td></tr><tr><td>iterations_since_restore</td><td>▁▃▅▆█</td></tr><tr><td>loss</td><td>█▁▅▁▂</td></tr><tr><td>time_since_restore</td><td>▁▃▅▆█</td></tr><tr><td>time_this_iter_s</td><td>█▂▂▂▁</td></tr><tr><td>time_total_s</td><td>▁▃▅▆█</td></tr><tr><td>timestamp</td><td>▁▃▅▇█</td></tr><tr><td>timesteps_since_restore</td><td>▁▁▁▁▁</td></tr><tr><td>training_iteration</td><td>▁▃▅▆█</td></tr><tr><td>warmup_time</td><td>▁▁▁▁▁</td></tr></table><br/></div><div class=\"wandb-col\"><h3>Run summary:</h3><br/><table class=\"wandb\"><tr><td>avg_loss</td><td>74.88266</td></tr><tr><td>iterations_since_restore</td><td>5</td></tr><tr><td>loss</td><td>35.24059</td></tr><tr><td>time_since_restore</td><td>60.61065</td></tr><tr><td>time_this_iter_s</td><td>8.8301</td></tr><tr><td>time_total_s</td><td>60.61065</td></tr><tr><td>timestamp</td><td>1662585552</td></tr><tr><td>timesteps_since_restore</td><td>0</td></tr><tr><td>training_iteration</td><td>5</td></tr><tr><td>warmup_time</td><td>0.00515</td></tr></table><br/></div></div>"
      ],
      "text/plain": [
       "<IPython.core.display.HTML object>"
      ]
     },
     "metadata": {},
     "output_type": "display_data"
    },
    {
     "data": {
      "text/html": [
       "Synced <strong style=\"color:#cdcd00\">TorchTrainer_7c45b76c</strong>: <a href=\"https://wandb.ai/l5-demo/l5-simulation-trials/runs/7c45b76c\" target=\"_blank\">https://wandb.ai/l5-demo/l5-simulation-trials/runs/7c45b76c</a><br/>Synced 7 W&B file(s), 0 media file(s), 12 artifact file(s) and 1 other file(s)"
      ],
      "text/plain": [
       "<IPython.core.display.HTML object>"
      ]
     },
     "metadata": {},
     "output_type": "display_data"
    },
    {
     "data": {
      "text/html": [
       "Find logs at: <code>./wandb/run-20220907_211808-7c45b76c/logs</code>"
      ],
      "text/plain": [
       "<IPython.core.display.HTML object>"
      ]
     },
     "metadata": {},
     "output_type": "display_data"
    },
    {
     "name": "stdout",
     "output_type": "stream",
     "text": [
      "Result for TorchTrainer_7c45b76c:\n",
      "  _time_this_iter_s: 8.762531280517578\n",
      "  _timestamp: 1662585552\n",
      "  _training_iteration: 5\n",
      "  avg_loss: 74.88266303539277\n",
      "  date: 2022-09-07_21-19-12\n",
      "  done: true\n",
      "  experiment_id: c2763f685e0c4eaeb236d4ecfcaecc19\n",
      "  experiment_tag: 19_batch_size=12.0000,format_version=4,future_num_frames=50,history_num_frames=5,model_architecture=resnet50,render_ego_history=False,step_time=0.1000,dataset_meta_key=meta_json,disable_traffic_light_faces=False,ego_center=0_25_0_5,filter_agents_threshold=0.5000,map_type=py_semantic,pixel_size=0_5_0_5,raster_size=224_224,satellite_map_key=aerial_map_aerial_map_png,semantic_map_key=semantic_map_semantic_map_pb,set_origin_to_bottom=True,batch_size=12,key=scenes_sample_zarr,num_workers=16,perturb_probability=0.0000,shuffle=True,checkpoint_every_n_steps=10000,eval_every_n_steps=10000,max_num_steps=5,batch_size=12,key=scenes_sample_zarr,num_workers=16,shuffle=False,dataset_key=scenes_sample_zarr,lr=0.0010,max_num_steps=5,num_workers=4,shuffle=True\n",
      "  hostname: anish-l5-kit\n",
      "  iterations_since_restore: 5\n",
      "  loss: 35.24058532714844\n",
      "  node_ip: 10.150.0.3\n",
      "  pid: 5470\n",
      "  should_checkpoint: true\n",
      "  time_since_restore: 60.61064624786377\n",
      "  time_this_iter_s: 8.830096244812012\n",
      "  time_total_s: 60.61064624786377\n",
      "  timestamp: 1662585552\n",
      "  timesteps_since_restore: 0\n",
      "  training_iteration: 5\n",
      "  trial_id: 7c45b76c\n",
      "  warmup_time: 0.005153656005859375\n",
      "  \n"
     ]
    },
    {
     "name": "stderr",
     "output_type": "stream",
     "text": [
      "\u001b[34m\u001b[1mwandb\u001b[0m: Adding directory to artifact (/home/jupyter/ray_results/TorchTrainer_2022-09-07_21-06-06/TorchTrainer_91ccf37a_20_batch_size=12.0000,format_version=4,future_num_frames=50,history_num_frames=5,model_architecture=resnet50_2022-09-07_21-18-30/checkpoint_000002)... "
     ]
    },
    {
     "name": "stdout",
     "output_type": "stream",
     "text": [
      "Result for TorchTrainer_91ccf37a:\n",
      "  _time_this_iter_s: 9.088846921920776\n",
      "  _timestamp: 1662585555\n",
      "  _training_iteration: 3\n",
      "  avg_loss: 100.35531361897786\n",
      "  date: 2022-09-07_21-19-16\n",
      "  done: false\n",
      "  experiment_id: 76cfbc6801e34d6d8e2d7516a9fe56fd\n",
      "  hostname: anish-l5-kit\n",
      "  iterations_since_restore: 3\n",
      "  loss: 171.53176879882812\n",
      "  node_ip: 10.150.0.3\n",
      "  pid: 5803\n",
      "  should_checkpoint: true\n",
      "  time_since_restore: 41.933146715164185\n",
      "  time_this_iter_s: 9.042770862579346\n",
      "  time_total_s: 41.933146715164185\n",
      "  timestamp: 1662585556\n",
      "  timesteps_since_restore: 0\n",
      "  training_iteration: 3\n",
      "  trial_id: 91ccf37a\n",
      "  warmup_time: 0.005927324295043945\n",
      "  \n"
     ]
    },
    {
     "name": "stderr",
     "output_type": "stream",
     "text": [
      "Done. 1.0s\n"
     ]
    },
    {
     "name": "stdout",
     "output_type": "stream",
     "text": [
      "\u001b[2m\u001b[36m(RayTrainWorker pid=5893)\u001b[0m {'loss': 130.70851135253906, 'avg_loss': 107.94361305236816}\n"
     ]
    },
    {
     "name": "stderr",
     "output_type": "stream",
     "text": [
      "\u001b[34m\u001b[1mwandb\u001b[0m: Adding directory to artifact (/home/jupyter/ray_results/TorchTrainer_2022-09-07_21-06-06/TorchTrainer_91ccf37a_20_batch_size=12.0000,format_version=4,future_num_frames=50,history_num_frames=5,model_architecture=resnet50_2022-09-07_21-18-30/checkpoint_000003)... Done. 1.1s\n",
      "\u001b[2m\u001b[36m(RayTrainWorker pid=6768)\u001b[0m 2022-09-07 21:19:31,024\tINFO config.py:72 -- Setting up process group for: env:// [rank=0, world_size=1]\n"
     ]
    },
    {
     "name": "stdout",
     "output_type": "stream",
     "text": [
      "\u001b[2m\u001b[36m(RayTrainWorker pid=5893)\u001b[0m {'loss': 16.46671485900879, 'avg_loss': 89.64823341369629}\n"
     ]
    },
    {
     "name": "stderr",
     "output_type": "stream",
     "text": [
      "\u001b[34m\u001b[1mwandb\u001b[0m: Adding directory to artifact (/home/jupyter/ray_results/TorchTrainer_2022-09-07_21-06-06/TorchTrainer_91ccf37a_20_batch_size=12.0000,format_version=4,future_num_frames=50,history_num_frames=5,model_architecture=resnet50_2022-09-07_21-18-30/checkpoint_000004)... "
     ]
    },
    {
     "name": "stdout",
     "output_type": "stream",
     "text": [
      "Result for TorchTrainer_91ccf37a:\n",
      "  _time_this_iter_s: 11.547380208969116\n",
      "  _timestamp: 1662585575\n",
      "  _training_iteration: 5\n",
      "  avg_loss: 89.64823341369629\n",
      "  date: 2022-09-07_21-19-35\n",
      "  done: false\n",
      "  experiment_id: 76cfbc6801e34d6d8e2d7516a9fe56fd\n",
      "  hostname: anish-l5-kit\n",
      "  iterations_since_restore: 5\n",
      "  loss: 16.46671485900879\n",
      "  node_ip: 10.150.0.3\n",
      "  pid: 5803\n",
      "  should_checkpoint: true\n",
      "  time_since_restore: 61.53008270263672\n",
      "  time_this_iter_s: 11.523568391799927\n",
      "  time_total_s: 61.53008270263672\n",
      "  timestamp: 1662585575\n",
      "  timesteps_since_restore: 0\n",
      "  training_iteration: 5\n",
      "  trial_id: 91ccf37a\n",
      "  warmup_time: 0.005927324295043945\n",
      "  \n"
     ]
    },
    {
     "name": "stderr",
     "output_type": "stream",
     "text": [
      "\u001b[2m\u001b[36m(RayTrainWorker pid=6768)\u001b[0m /opt/conda/lib/python3.7/site-packages/l5kit/planning/rasterized/model.py:31: UserWarning: There is no pre-trained model with num_in_channels != 3, first layer will be reset\n",
      "\u001b[2m\u001b[36m(RayTrainWorker pid=6768)\u001b[0m   warnings.warn(\"There is no pre-trained model with num_in_channels != 3, first layer will be reset\")\n",
      "\u001b[2m\u001b[36m(RayTrainWorker pid=6768)\u001b[0m /opt/conda/lib/python3.7/site-packages/torchvision/models/_utils.py:209: UserWarning: The parameter 'pretrained' is deprecated since 0.13 and will be removed in 0.15, please use 'weights' instead.\n",
      "\u001b[2m\u001b[36m(RayTrainWorker pid=6768)\u001b[0m   f\"The parameter '{pretrained_param}' is deprecated since 0.13 and will be removed in 0.15, \"\n",
      "\u001b[2m\u001b[36m(RayTrainWorker pid=6768)\u001b[0m /opt/conda/lib/python3.7/site-packages/torchvision/models/_utils.py:223: UserWarning: Arguments other than a weight enum or `None` for 'weights' are deprecated since 0.13 and will be removed in 0.15. The current behavior is equivalent to passing `weights=ResNet50_Weights.IMAGENET1K_V1`. You can also use `weights=ResNet50_Weights.DEFAULT` to get the most up-to-date weights.\n",
      "\u001b[2m\u001b[36m(RayTrainWorker pid=6768)\u001b[0m   warnings.warn(msg)\n",
      "Done. 1.0s\n",
      "\u001b[34m\u001b[1mwandb\u001b[0m: Adding directory to artifact (/home/jupyter/ray_results/TorchTrainer_2022-09-07_21-06-06/TorchTrainer_91ccf37a_20_batch_size=12.0000,format_version=4,future_num_frames=50,history_num_frames=5,model_architecture=resnet50_2022-09-07_21-18-30/checkpoint_000004)... Done. 0.3s\n",
      "\u001b[2m\u001b[36m(RayTrainWorker pid=6768)\u001b[0m 2022-09-07 21:19:37,004\tINFO train_loop_utils.py:300 -- Moving model to device: cpu\n"
     ]
    },
    {
     "data": {
      "text/html": [
       "Waiting for W&B process to finish... <strong style=\"color:green\">(success).</strong>"
      ],
      "text/plain": [
       "<IPython.core.display.HTML object>"
      ]
     },
     "metadata": {},
     "output_type": "display_data"
    },
    {
     "data": {
      "application/vnd.jupyter.widget-view+json": {
       "model_id": "8d69c371b1bd4bdea2c7628c48cc3734",
       "version_major": 2,
       "version_minor": 0
      },
      "text/plain": [
       "VBox(children=(Label(value='456.836 MB of 456.836 MB uploaded (91.307 MB deduped)\\r'), FloatProgress(value=1.0…"
      ]
     },
     "metadata": {},
     "output_type": "display_data"
    },
    {
     "data": {
      "text/html": [
       "W&B sync reduced upload amount by 20.0%             "
      ],
      "text/plain": [
       "<IPython.core.display.HTML object>"
      ]
     },
     "metadata": {},
     "output_type": "display_data"
    },
    {
     "data": {
      "text/html": [
       "<style>\n",
       "    table.wandb td:nth-child(1) { padding: 0 10px; text-align: left ; width: auto;} td:nth-child(2) {text-align: left ; width: 100%}\n",
       "    .wandb-row { display: flex; flex-direction: row; flex-wrap: wrap; justify-content: flex-start; width: 100% }\n",
       "    .wandb-col { display: flex; flex-direction: column; flex-basis: 100%; flex: 1; padding: 10px; }\n",
       "    </style>\n",
       "<div class=\"wandb-row\"><div class=\"wandb-col\"><h3>Run history:</h3><br/><table class=\"wandb\"><tr><td>avg_loss</td><td>▁▂▇█▅</td></tr><tr><td>iterations_since_restore</td><td>▁▃▅▆█</td></tr><tr><td>loss</td><td>▃▃█▆▁</td></tr><tr><td>time_since_restore</td><td>▁▃▅▆█</td></tr><tr><td>time_this_iter_s</td><td>█▂▁▁▃</td></tr><tr><td>time_total_s</td><td>▁▃▅▆█</td></tr><tr><td>timestamp</td><td>▁▃▅▆█</td></tr><tr><td>timesteps_since_restore</td><td>▁▁▁▁▁</td></tr><tr><td>training_iteration</td><td>▁▃▅▆█</td></tr><tr><td>warmup_time</td><td>▁▁▁▁▁</td></tr></table><br/></div><div class=\"wandb-col\"><h3>Run summary:</h3><br/><table class=\"wandb\"><tr><td>avg_loss</td><td>89.64823</td></tr><tr><td>iterations_since_restore</td><td>5</td></tr><tr><td>loss</td><td>16.46671</td></tr><tr><td>time_since_restore</td><td>61.53008</td></tr><tr><td>time_this_iter_s</td><td>11.52357</td></tr><tr><td>time_total_s</td><td>61.53008</td></tr><tr><td>timestamp</td><td>1662585575</td></tr><tr><td>timesteps_since_restore</td><td>0</td></tr><tr><td>training_iteration</td><td>5</td></tr><tr><td>warmup_time</td><td>0.00593</td></tr></table><br/></div></div>"
      ],
      "text/plain": [
       "<IPython.core.display.HTML object>"
      ]
     },
     "metadata": {},
     "output_type": "display_data"
    },
    {
     "data": {
      "text/html": [
       "Synced <strong style=\"color:#cdcd00\">TorchTrainer_91ccf37a</strong>: <a href=\"https://wandb.ai/l5-demo/l5-simulation-trials/runs/91ccf37a\" target=\"_blank\">https://wandb.ai/l5-demo/l5-simulation-trials/runs/91ccf37a</a><br/>Synced 7 W&B file(s), 0 media file(s), 12 artifact file(s) and 1 other file(s)"
      ],
      "text/plain": [
       "<IPython.core.display.HTML object>"
      ]
     },
     "metadata": {},
     "output_type": "display_data"
    },
    {
     "data": {
      "text/html": [
       "Find logs at: <code>./wandb/run-20220907_211830-91ccf37a/logs</code>"
      ],
      "text/plain": [
       "<IPython.core.display.HTML object>"
      ]
     },
     "metadata": {},
     "output_type": "display_data"
    },
    {
     "name": "stdout",
     "output_type": "stream",
     "text": [
      "Result for TorchTrainer_91ccf37a:\n",
      "  _time_this_iter_s: 11.547380208969116\n",
      "  _timestamp: 1662585575\n",
      "  _training_iteration: 5\n",
      "  avg_loss: 89.64823341369629\n",
      "  date: 2022-09-07_21-19-35\n",
      "  done: true\n",
      "  experiment_id: 76cfbc6801e34d6d8e2d7516a9fe56fd\n",
      "  experiment_tag: 20_batch_size=12.0000,format_version=4,future_num_frames=50,history_num_frames=5,model_architecture=resnet50,render_ego_history=False,step_time=0.1000,dataset_meta_key=meta_json,disable_traffic_light_faces=False,ego_center=0_25_0_5,filter_agents_threshold=0.5000,map_type=py_semantic,pixel_size=0_5_0_5,raster_size=224_224,satellite_map_key=aerial_map_aerial_map_png,semantic_map_key=semantic_map_semantic_map_pb,set_origin_to_bottom=True,batch_size=12,key=scenes_sample_zarr,num_workers=16,perturb_probability=0.0000,shuffle=True,checkpoint_every_n_steps=10000,eval_every_n_steps=10000,max_num_steps=5,batch_size=12,key=scenes_sample_zarr,num_workers=16,shuffle=False,dataset_key=scenes_sample_zarr,lr=0.0009,max_num_steps=5,num_workers=4,shuffle=True\n",
      "  hostname: anish-l5-kit\n",
      "  iterations_since_restore: 5\n",
      "  loss: 16.46671485900879\n",
      "  node_ip: 10.150.0.3\n",
      "  pid: 5803\n",
      "  should_checkpoint: true\n",
      "  time_since_restore: 61.53008270263672\n",
      "  time_this_iter_s: 11.523568391799927\n",
      "  time_total_s: 61.53008270263672\n",
      "  timestamp: 1662585575\n",
      "  timesteps_since_restore: 0\n",
      "  training_iteration: 5\n",
      "  trial_id: 91ccf37a\n",
      "  warmup_time: 0.005927324295043945\n",
      "  \n",
      "\u001b[2m\u001b[36m(RayTrainWorker pid=6768)\u001b[0m {'loss': 61.80339431762695, 'avg_loss': 61.80339431762695}\n"
     ]
    },
    {
     "name": "stderr",
     "output_type": "stream",
     "text": [
      "\u001b[34m\u001b[1mwandb\u001b[0m: Adding directory to artifact (/home/jupyter/ray_results/TorchTrainer_2022-09-07_21-06-06/TorchTrainer_9edc449e_21_batch_size=12.0000,format_version=4,future_num_frames=50,history_num_frames=5,model_architecture=resnet50_2022-09-07_21-19-23/checkpoint_000000)... "
     ]
    },
    {
     "name": "stdout",
     "output_type": "stream",
     "text": [
      "Result for TorchTrainer_9edc449e:\n",
      "  _time_this_iter_s: 16.107561111450195\n",
      "  _timestamp: 1662585587\n",
      "  _training_iteration: 1\n",
      "  avg_loss: 61.80339431762695\n",
      "  date: 2022-09-07_21-19-48\n",
      "  done: false\n",
      "  experiment_id: 307b5563f68b457298656e96d42effb0\n",
      "  hostname: anish-l5-kit\n",
      "  iterations_since_restore: 1\n",
      "  loss: 61.80339431762695\n",
      "  node_ip: 10.150.0.3\n",
      "  pid: 6677\n",
      "  should_checkpoint: true\n",
      "  time_since_restore: 19.961857080459595\n",
      "  time_this_iter_s: 19.961857080459595\n",
      "  time_total_s: 19.961857080459595\n",
      "  timestamp: 1662585588\n",
      "  timesteps_since_restore: 0\n",
      "  training_iteration: 1\n",
      "  trial_id: 9edc449e\n",
      "  warmup_time: 0.005873918533325195\n",
      "  \n"
     ]
    },
    {
     "name": "stderr",
     "output_type": "stream",
     "text": [
      "Done. 1.0s\n",
      "\u001b[2m\u001b[36m(RayTrainWorker pid=7115)\u001b[0m 2022-09-07 21:19:52,314\tINFO config.py:72 -- Setting up process group for: env:// [rank=0, world_size=1]\n",
      "\u001b[2m\u001b[36m(RayTrainWorker pid=7115)\u001b[0m /opt/conda/lib/python3.7/site-packages/l5kit/planning/rasterized/model.py:31: UserWarning: There is no pre-trained model with num_in_channels != 3, first layer will be reset\n",
      "\u001b[2m\u001b[36m(RayTrainWorker pid=7115)\u001b[0m   warnings.warn(\"There is no pre-trained model with num_in_channels != 3, first layer will be reset\")\n",
      "\u001b[2m\u001b[36m(RayTrainWorker pid=7115)\u001b[0m /opt/conda/lib/python3.7/site-packages/torchvision/models/_utils.py:209: UserWarning: The parameter 'pretrained' is deprecated since 0.13 and will be removed in 0.15, please use 'weights' instead.\n",
      "\u001b[2m\u001b[36m(RayTrainWorker pid=7115)\u001b[0m   f\"The parameter '{pretrained_param}' is deprecated since 0.13 and will be removed in 0.15, \"\n",
      "\u001b[2m\u001b[36m(RayTrainWorker pid=7115)\u001b[0m /opt/conda/lib/python3.7/site-packages/torchvision/models/_utils.py:223: UserWarning: Arguments other than a weight enum or `None` for 'weights' are deprecated since 0.13 and will be removed in 0.15. The current behavior is equivalent to passing `weights=ResNet50_Weights.IMAGENET1K_V1`. You can also use `weights=ResNet50_Weights.DEFAULT` to get the most up-to-date weights.\n",
      "\u001b[2m\u001b[36m(RayTrainWorker pid=7115)\u001b[0m   warnings.warn(msg)\n",
      "\u001b[2m\u001b[36m(RayTrainWorker pid=7115)\u001b[0m 2022-09-07 21:19:58,232\tINFO train_loop_utils.py:300 -- Moving model to device: cpu\n"
     ]
    },
    {
     "name": "stdout",
     "output_type": "stream",
     "text": [
      "\u001b[2m\u001b[36m(RayTrainWorker pid=6768)\u001b[0m {'loss': 80.93175506591797, 'avg_loss': 71.36757469177246}\n"
     ]
    },
    {
     "name": "stderr",
     "output_type": "stream",
     "text": [
      "\u001b[34m\u001b[1mwandb\u001b[0m: Adding directory to artifact (/home/jupyter/ray_results/TorchTrainer_2022-09-07_21-06-06/TorchTrainer_9edc449e_21_batch_size=12.0000,format_version=4,future_num_frames=50,history_num_frames=5,model_architecture=resnet50_2022-09-07_21-19-23/checkpoint_000001)... "
     ]
    },
    {
     "name": "stdout",
     "output_type": "stream",
     "text": [
      "Result for TorchTrainer_9edc449e:\n",
      "  _time_this_iter_s: 12.199548482894897\n",
      "  _timestamp: 1662585599\n",
      "  _training_iteration: 2\n",
      "  avg_loss: 71.36757469177246\n",
      "  date: 2022-09-07_21-20-00\n",
      "  done: false\n",
      "  experiment_id: 307b5563f68b457298656e96d42effb0\n",
      "  hostname: anish-l5-kit\n",
      "  iterations_since_restore: 2\n",
      "  loss: 80.93175506591797\n",
      "  node_ip: 10.150.0.3\n",
      "  pid: 6677\n",
      "  should_checkpoint: true\n",
      "  time_since_restore: 32.635648012161255\n",
      "  time_this_iter_s: 12.67379093170166\n",
      "  time_total_s: 32.635648012161255\n",
      "  timestamp: 1662585600\n",
      "  timesteps_since_restore: 0\n",
      "  training_iteration: 2\n",
      "  trial_id: 9edc449e\n",
      "  warmup_time: 0.005873918533325195\n",
      "  \n"
     ]
    },
    {
     "name": "stderr",
     "output_type": "stream",
     "text": [
      "Done. 1.0s\n"
     ]
    },
    {
     "name": "stdout",
     "output_type": "stream",
     "text": [
      "\u001b[2m\u001b[36m(RayTrainWorker pid=6768)\u001b[0m {'loss': 97.49231719970703, 'avg_loss': 80.07582219441731}\n",
      "\u001b[2m\u001b[36m(RayTrainWorker pid=7115)\u001b[0m {'loss': 102.28921508789062, 'avg_loss': 102.28921508789062}\n",
      "Result for TorchTrainer_9edc449e:\n",
      "  _time_this_iter_s: 10.745925903320312\n",
      "  _timestamp: 1662585610\n",
      "  _training_iteration: 3\n",
      "  avg_loss: 80.07582219441731\n",
      "  date: 2022-09-07_21-20-10\n",
      "  done: false\n",
      "  experiment_id: 307b5563f68b457298656e96d42effb0\n",
      "  hostname: anish-l5-kit\n",
      "  iterations_since_restore: 3\n",
      "  loss: 97.49231719970703\n",
      "  node_ip: 10.150.0.3\n",
      "  pid: 6677\n",
      "  should_checkpoint: true\n",
      "  time_since_restore: 42.849268436431885\n",
      "  time_this_iter_s: 10.21362042427063\n",
      "  time_total_s: 42.849268436431885\n",
      "  timestamp: 1662585610\n",
      "  timesteps_since_restore: 0\n",
      "  training_iteration: 3\n",
      "  trial_id: 9edc449e\n",
      "  warmup_time: 0.005873918533325195\n",
      "  \n"
     ]
    },
    {
     "name": "stderr",
     "output_type": "stream",
     "text": [
      "\u001b[34m\u001b[1mwandb\u001b[0m: Adding directory to artifact (/home/jupyter/ray_results/TorchTrainer_2022-09-07_21-06-06/TorchTrainer_9edc449e_21_batch_size=12.0000,format_version=4,future_num_frames=50,history_num_frames=5,model_architecture=resnet50_2022-09-07_21-19-23/checkpoint_000002)... \u001b[34m\u001b[1mwandb\u001b[0m: Adding directory to artifact (/home/jupyter/ray_results/TorchTrainer_2022-09-07_21-06-06/TorchTrainer_bed468f8_22_batch_size=12.0000,format_version=4,future_num_frames=50,history_num_frames=5,model_architecture=resnet50_2022-09-07_21-19-45/checkpoint_000000)... "
     ]
    },
    {
     "name": "stdout",
     "output_type": "stream",
     "text": [
      "Result for TorchTrainer_bed468f8:\n",
      "  _time_this_iter_s: 18.00953483581543\n",
      "  _timestamp: 1662585610\n",
      "  _training_iteration: 1\n",
      "  avg_loss: 102.28921508789062\n",
      "  date: 2022-09-07_21-20-11\n",
      "  done: false\n",
      "  experiment_id: 240a025336f5446a9ec393f1847b7757\n",
      "  hostname: anish-l5-kit\n",
      "  iterations_since_restore: 1\n",
      "  loss: 102.28921508789062\n",
      "  node_ip: 10.150.0.3\n",
      "  pid: 7026\n",
      "  should_checkpoint: true\n",
      "  time_since_restore: 22.57522702217102\n",
      "  time_this_iter_s: 22.57522702217102\n",
      "  time_total_s: 22.57522702217102\n",
      "  timestamp: 1662585611\n",
      "  timesteps_since_restore: 0\n",
      "  training_iteration: 1\n",
      "  trial_id: bed468f8\n",
      "  warmup_time: 0.006448030471801758\n",
      "  \n"
     ]
    },
    {
     "name": "stderr",
     "output_type": "stream",
     "text": [
      "Done. 1.1s\n",
      "Done. 1.3s\n"
     ]
    },
    {
     "name": "stdout",
     "output_type": "stream",
     "text": [
      "\u001b[2m\u001b[36m(RayTrainWorker pid=6768)\u001b[0m {'loss': 43.3187370300293, 'avg_loss': 70.88655090332031}\n"
     ]
    },
    {
     "name": "stderr",
     "output_type": "stream",
     "text": [
      "\u001b[34m\u001b[1mwandb\u001b[0m: Adding directory to artifact (/home/jupyter/ray_results/TorchTrainer_2022-09-07_21-06-06/TorchTrainer_9edc449e_21_batch_size=12.0000,format_version=4,future_num_frames=50,history_num_frames=5,model_architecture=resnet50_2022-09-07_21-19-23/checkpoint_000003)... "
     ]
    },
    {
     "name": "stdout",
     "output_type": "stream",
     "text": [
      "Result for TorchTrainer_9edc449e:\n",
      "  _time_this_iter_s: 8.944217443466187\n",
      "  _timestamp: 1662585619\n",
      "  _training_iteration: 4\n",
      "  avg_loss: 70.88655090332031\n",
      "  date: 2022-09-07_21-20-19\n",
      "  done: false\n",
      "  experiment_id: 307b5563f68b457298656e96d42effb0\n",
      "  hostname: anish-l5-kit\n",
      "  iterations_since_restore: 4\n",
      "  loss: 43.3187370300293\n",
      "  node_ip: 10.150.0.3\n",
      "  pid: 6677\n",
      "  should_checkpoint: true\n",
      "  time_since_restore: 51.742502212524414\n",
      "  time_this_iter_s: 8.89323377609253\n",
      "  time_total_s: 51.742502212524414\n",
      "  timestamp: 1662585619\n",
      "  timesteps_since_restore: 0\n",
      "  training_iteration: 4\n",
      "  trial_id: 9edc449e\n",
      "  warmup_time: 0.005873918533325195\n",
      "  \n",
      "\u001b[2m\u001b[36m(RayTrainWorker pid=7115)\u001b[0m {'loss': 85.46986389160156, 'avg_loss': 93.8795394897461}\n"
     ]
    },
    {
     "name": "stderr",
     "output_type": "stream",
     "text": [
      "\u001b[34m\u001b[1mwandb\u001b[0m: Adding directory to artifact (/home/jupyter/ray_results/TorchTrainer_2022-09-07_21-06-06/TorchTrainer_bed468f8_22_batch_size=12.0000,format_version=4,future_num_frames=50,history_num_frames=5,model_architecture=resnet50_2022-09-07_21-19-45/checkpoint_000001)... "
     ]
    },
    {
     "name": "stdout",
     "output_type": "stream",
     "text": [
      "Result for TorchTrainer_bed468f8:\n",
      "  _time_this_iter_s: 9.215688228607178\n",
      "  _timestamp: 1662585620\n",
      "  _training_iteration: 2\n",
      "  avg_loss: 93.8795394897461\n",
      "  date: 2022-09-07_21-20-20\n",
      "  done: false\n",
      "  experiment_id: 240a025336f5446a9ec393f1847b7757\n",
      "  hostname: anish-l5-kit\n",
      "  iterations_since_restore: 2\n",
      "  loss: 85.46986389160156\n",
      "  node_ip: 10.150.0.3\n",
      "  pid: 7026\n",
      "  should_checkpoint: true\n",
      "  time_since_restore: 31.669150352478027\n",
      "  time_this_iter_s: 9.093923330307007\n",
      "  time_total_s: 31.669150352478027\n",
      "  timestamp: 1662585620\n",
      "  timesteps_since_restore: 0\n",
      "  training_iteration: 2\n",
      "  trial_id: bed468f8\n",
      "  warmup_time: 0.006448030471801758\n",
      "  \n"
     ]
    },
    {
     "name": "stderr",
     "output_type": "stream",
     "text": [
      "Done. 1.1s\n",
      "Done. 1.1s\n"
     ]
    },
    {
     "name": "stdout",
     "output_type": "stream",
     "text": [
      "\u001b[2m\u001b[36m(RayTrainWorker pid=6768)\u001b[0m {'loss': 77.21394348144531, 'avg_loss': 72.15202941894532}\n"
     ]
    },
    {
     "name": "stderr",
     "output_type": "stream",
     "text": [
      "\u001b[34m\u001b[1mwandb\u001b[0m: Adding directory to artifact (/home/jupyter/ray_results/TorchTrainer_2022-09-07_21-06-06/TorchTrainer_9edc449e_21_batch_size=12.0000,format_version=4,future_num_frames=50,history_num_frames=5,model_architecture=resnet50_2022-09-07_21-19-23/checkpoint_000004)... "
     ]
    },
    {
     "name": "stdout",
     "output_type": "stream",
     "text": [
      "Result for TorchTrainer_9edc449e:\n",
      "  _time_this_iter_s: 8.776428461074829\n",
      "  _timestamp: 1662585628\n",
      "  _training_iteration: 5\n",
      "  avg_loss: 72.15202941894532\n",
      "  date: 2022-09-07_21-20-28\n",
      "  done: false\n",
      "  experiment_id: 307b5563f68b457298656e96d42effb0\n",
      "  hostname: anish-l5-kit\n",
      "  iterations_since_restore: 5\n",
      "  loss: 77.21394348144531\n",
      "  node_ip: 10.150.0.3\n",
      "  pid: 6677\n",
      "  should_checkpoint: true\n",
      "  time_since_restore: 60.52331757545471\n",
      "  time_this_iter_s: 8.780815362930298\n",
      "  time_total_s: 60.52331757545471\n",
      "  timestamp: 1662585628\n",
      "  timesteps_since_restore: 0\n",
      "  training_iteration: 5\n",
      "  trial_id: 9edc449e\n",
      "  warmup_time: 0.005873918533325195\n",
      "  \n",
      "\u001b[2m\u001b[36m(RayTrainWorker pid=7115)\u001b[0m {'loss': 147.8870849609375, 'avg_loss': 111.88205464680989}\n"
     ]
    },
    {
     "name": "stderr",
     "output_type": "stream",
     "text": [
      "Done. 1.0s\n",
      "\u001b[34m\u001b[1mwandb\u001b[0m: Adding directory to artifact (/home/jupyter/ray_results/TorchTrainer_2022-09-07_21-06-06/TorchTrainer_9edc449e_21_batch_size=12.0000,format_version=4,future_num_frames=50,history_num_frames=5,model_architecture=resnet50_2022-09-07_21-19-23/checkpoint_000004)... Done. 0.3s\n"
     ]
    },
    {
     "data": {
      "text/html": [
       "Waiting for W&B process to finish... <strong style=\"color:green\">(success).</strong>"
      ],
      "text/plain": [
       "<IPython.core.display.HTML object>"
      ]
     },
     "metadata": {},
     "output_type": "display_data"
    },
    {
     "data": {
      "application/vnd.jupyter.widget-view+json": {
       "model_id": "de993f0e98034ae0b2cf701de7f88df4",
       "version_major": 2,
       "version_minor": 0
      },
      "text/plain": [
       "VBox(children=(Label(value='456.836 MB of 456.836 MB uploaded (91.307 MB deduped)\\r'), FloatProgress(value=1.0…"
      ]
     },
     "metadata": {},
     "output_type": "display_data"
    },
    {
     "name": "stdout",
     "output_type": "stream",
     "text": [
      "\u001b[2m\u001b[36m(RayTrainWorker pid=7115)\u001b[0m {'loss': 28.337833404541016, 'avg_loss': 90.99599933624268}\n"
     ]
    },
    {
     "data": {
      "text/html": [
       "W&B sync reduced upload amount by 20.0%             "
      ],
      "text/plain": [
       "<IPython.core.display.HTML object>"
      ]
     },
     "metadata": {},
     "output_type": "display_data"
    },
    {
     "name": "stdout",
     "output_type": "stream",
     "text": [
      "Result for TorchTrainer_9edc449e:\n",
      "  _time_this_iter_s: 8.776428461074829\n",
      "  _timestamp: 1662585628\n",
      "  _training_iteration: 5\n",
      "  avg_loss: 72.15202941894532\n",
      "  date: 2022-09-07_21-20-28\n",
      "  done: true\n",
      "  experiment_id: 307b5563f68b457298656e96d42effb0\n",
      "  experiment_tag: 21_batch_size=12.0000,format_version=4,future_num_frames=50,history_num_frames=5,model_architecture=resnet50,render_ego_history=False,step_time=0.1000,dataset_meta_key=meta_json,disable_traffic_light_faces=False,ego_center=0_25_0_5,filter_agents_threshold=0.5000,map_type=py_semantic,pixel_size=0_5_0_5,raster_size=224_224,satellite_map_key=aerial_map_aerial_map_png,semantic_map_key=semantic_map_semantic_map_pb,set_origin_to_bottom=True,batch_size=12,key=scenes_sample_zarr,num_workers=16,perturb_probability=0.0000,shuffle=True,checkpoint_every_n_steps=10000,eval_every_n_steps=10000,max_num_steps=5,batch_size=12,key=scenes_sample_zarr,num_workers=16,shuffle=False,dataset_key=scenes_sample_zarr,lr=0.0092,max_num_steps=5,num_workers=4,shuffle=True\n",
      "  hostname: anish-l5-kit\n",
      "  iterations_since_restore: 5\n",
      "  loss: 77.21394348144531\n",
      "  node_ip: 10.150.0.3\n",
      "  pid: 6677\n",
      "  should_checkpoint: true\n",
      "  time_since_restore: 60.52331757545471\n",
      "  time_this_iter_s: 8.780815362930298\n",
      "  time_total_s: 60.52331757545471\n",
      "  timestamp: 1662585628\n",
      "  timesteps_since_restore: 0\n",
      "  training_iteration: 5\n",
      "  trial_id: 9edc449e\n",
      "  warmup_time: 0.005873918533325195\n",
      "  \n"
     ]
    },
    {
     "name": "stderr",
     "output_type": "stream",
     "text": [
      "\u001b[34m\u001b[1mwandb\u001b[0m: Adding directory to artifact (/home/jupyter/ray_results/TorchTrainer_2022-09-07_21-06-06/TorchTrainer_bed468f8_22_batch_size=12.0000,format_version=4,future_num_frames=50,history_num_frames=5,model_architecture=resnet50_2022-09-07_21-19-45/checkpoint_000002)... "
     ]
    },
    {
     "name": "stdout",
     "output_type": "stream",
     "text": [
      "Result for TorchTrainer_bed468f8:\n",
      "  _time_this_iter_s: 8.883598804473877\n",
      "  _timestamp: 1662585629\n",
      "  _training_iteration: 3\n",
      "  avg_loss: 111.88205464680989\n",
      "  date: 2022-09-07_21-20-29\n",
      "  done: false\n",
      "  experiment_id: 240a025336f5446a9ec393f1847b7757\n",
      "  hostname: anish-l5-kit\n",
      "  iterations_since_restore: 3\n",
      "  loss: 147.8870849609375\n",
      "  node_ip: 10.150.0.3\n",
      "  pid: 7026\n",
      "  should_checkpoint: true\n",
      "  time_since_restore: 40.4627583026886\n",
      "  time_this_iter_s: 8.793607950210571\n",
      "  time_total_s: 40.4627583026886\n",
      "  timestamp: 1662585629\n",
      "  timesteps_since_restore: 0\n",
      "  training_iteration: 3\n",
      "  trial_id: bed468f8\n",
      "  warmup_time: 0.006448030471801758\n",
      "  \n"
     ]
    },
    {
     "data": {
      "text/html": [
       "<style>\n",
       "    table.wandb td:nth-child(1) { padding: 0 10px; text-align: left ; width: auto;} td:nth-child(2) {text-align: left ; width: 100%}\n",
       "    .wandb-row { display: flex; flex-direction: row; flex-wrap: wrap; justify-content: flex-start; width: 100% }\n",
       "    .wandb-col { display: flex; flex-direction: column; flex-basis: 100%; flex: 1; padding: 10px; }\n",
       "    </style>\n",
       "<div class=\"wandb-row\"><div class=\"wandb-col\"><h3>Run history:</h3><br/><table class=\"wandb\"><tr><td>avg_loss</td><td>▁▅█▄▅</td></tr><tr><td>iterations_since_restore</td><td>▁▃▅▆█</td></tr><tr><td>loss</td><td>▃▆█▁▅</td></tr><tr><td>time_since_restore</td><td>▁▃▅▆█</td></tr><tr><td>time_this_iter_s</td><td>█▃▂▁▁</td></tr><tr><td>time_total_s</td><td>▁▃▅▆█</td></tr><tr><td>timestamp</td><td>▁▃▅▆█</td></tr><tr><td>timesteps_since_restore</td><td>▁▁▁▁▁</td></tr><tr><td>training_iteration</td><td>▁▃▅▆█</td></tr><tr><td>warmup_time</td><td>▁▁▁▁▁</td></tr></table><br/></div><div class=\"wandb-col\"><h3>Run summary:</h3><br/><table class=\"wandb\"><tr><td>avg_loss</td><td>72.15203</td></tr><tr><td>iterations_since_restore</td><td>5</td></tr><tr><td>loss</td><td>77.21394</td></tr><tr><td>time_since_restore</td><td>60.52332</td></tr><tr><td>time_this_iter_s</td><td>8.78082</td></tr><tr><td>time_total_s</td><td>60.52332</td></tr><tr><td>timestamp</td><td>1662585628</td></tr><tr><td>timesteps_since_restore</td><td>0</td></tr><tr><td>training_iteration</td><td>5</td></tr><tr><td>warmup_time</td><td>0.00587</td></tr></table><br/></div></div>"
      ],
      "text/plain": [
       "<IPython.core.display.HTML object>"
      ]
     },
     "metadata": {},
     "output_type": "display_data"
    },
    {
     "data": {
      "text/html": [
       "Synced <strong style=\"color:#cdcd00\">TorchTrainer_9edc449e</strong>: <a href=\"https://wandb.ai/l5-demo/l5-simulation-trials/runs/9edc449e\" target=\"_blank\">https://wandb.ai/l5-demo/l5-simulation-trials/runs/9edc449e</a><br/>Synced 7 W&B file(s), 0 media file(s), 12 artifact file(s) and 1 other file(s)"
      ],
      "text/plain": [
       "<IPython.core.display.HTML object>"
      ]
     },
     "metadata": {},
     "output_type": "display_data"
    },
    {
     "data": {
      "text/html": [
       "Find logs at: <code>./wandb/run-20220907_211923-9edc449e/logs</code>"
      ],
      "text/plain": [
       "<IPython.core.display.HTML object>"
      ]
     },
     "metadata": {},
     "output_type": "display_data"
    },
    {
     "name": "stderr",
     "output_type": "stream",
     "text": [
      "Done. 1.0s\n",
      "\u001b[34m\u001b[1mwandb\u001b[0m: Adding directory to artifact (/home/jupyter/ray_results/TorchTrainer_2022-09-07_21-06-06/TorchTrainer_bed468f8_22_batch_size=12.0000,format_version=4,future_num_frames=50,history_num_frames=5,model_architecture=resnet50_2022-09-07_21-19-45/checkpoint_000003)... Done. 1.0s\n",
      "\u001b[2m\u001b[36m(RayTrainWorker pid=7966)\u001b[0m 2022-09-07 21:20:47,377\tINFO config.py:72 -- Setting up process group for: env:// [rank=0, world_size=1]\n"
     ]
    },
    {
     "name": "stdout",
     "output_type": "stream",
     "text": [
      "\u001b[2m\u001b[36m(RayTrainWorker pid=7115)\u001b[0m {'loss': 120.21112060546875, 'avg_loss': 96.83902359008789}\n"
     ]
    },
    {
     "name": "stderr",
     "output_type": "stream",
     "text": [
      "\u001b[34m\u001b[1mwandb\u001b[0m: Adding directory to artifact (/home/jupyter/ray_results/TorchTrainer_2022-09-07_21-06-06/TorchTrainer_bed468f8_22_batch_size=12.0000,format_version=4,future_num_frames=50,history_num_frames=5,model_architecture=resnet50_2022-09-07_21-19-45/checkpoint_000004)... "
     ]
    },
    {
     "name": "stdout",
     "output_type": "stream",
     "text": [
      "Result for TorchTrainer_bed468f8:\n",
      "  _time_this_iter_s: 11.878909826278687\n",
      "  _timestamp: 1662585650\n",
      "  _training_iteration: 5\n",
      "  avg_loss: 96.83902359008789\n",
      "  date: 2022-09-07_21-20-51\n",
      "  done: false\n",
      "  experiment_id: 240a025336f5446a9ec393f1847b7757\n",
      "  hostname: anish-l5-kit\n",
      "  iterations_since_restore: 5\n",
      "  loss: 120.21112060546875\n",
      "  node_ip: 10.150.0.3\n",
      "  pid: 7026\n",
      "  should_checkpoint: true\n",
      "  time_since_restore: 62.374101877212524\n",
      "  time_this_iter_s: 11.823947191238403\n",
      "  time_total_s: 62.374101877212524\n",
      "  timestamp: 1662585651\n",
      "  timesteps_since_restore: 0\n",
      "  training_iteration: 5\n",
      "  trial_id: bed468f8\n",
      "  warmup_time: 0.006448030471801758\n",
      "  \n"
     ]
    },
    {
     "name": "stderr",
     "output_type": "stream",
     "text": [
      "Done. 1.4s\n",
      "\u001b[34m\u001b[1mwandb\u001b[0m: Adding directory to artifact (/home/jupyter/ray_results/TorchTrainer_2022-09-07_21-06-06/TorchTrainer_bed468f8_22_batch_size=12.0000,format_version=4,future_num_frames=50,history_num_frames=5,model_architecture=resnet50_2022-09-07_21-19-45/checkpoint_000004)... Done. 0.3s\n"
     ]
    },
    {
     "data": {
      "text/html": [
       "Waiting for W&B process to finish... <strong style=\"color:green\">(success).</strong>"
      ],
      "text/plain": [
       "<IPython.core.display.HTML object>"
      ]
     },
     "metadata": {},
     "output_type": "display_data"
    },
    {
     "name": "stderr",
     "output_type": "stream",
     "text": [
      "\u001b[2m\u001b[36m(RayTrainWorker pid=7966)\u001b[0m /opt/conda/lib/python3.7/site-packages/l5kit/planning/rasterized/model.py:31: UserWarning: There is no pre-trained model with num_in_channels != 3, first layer will be reset\n",
      "\u001b[2m\u001b[36m(RayTrainWorker pid=7966)\u001b[0m   warnings.warn(\"There is no pre-trained model with num_in_channels != 3, first layer will be reset\")\n",
      "\u001b[2m\u001b[36m(RayTrainWorker pid=7966)\u001b[0m /opt/conda/lib/python3.7/site-packages/torchvision/models/_utils.py:209: UserWarning: The parameter 'pretrained' is deprecated since 0.13 and will be removed in 0.15, please use 'weights' instead.\n",
      "\u001b[2m\u001b[36m(RayTrainWorker pid=7966)\u001b[0m   f\"The parameter '{pretrained_param}' is deprecated since 0.13 and will be removed in 0.15, \"\n",
      "\u001b[2m\u001b[36m(RayTrainWorker pid=7966)\u001b[0m /opt/conda/lib/python3.7/site-packages/torchvision/models/_utils.py:223: UserWarning: Arguments other than a weight enum or `None` for 'weights' are deprecated since 0.13 and will be removed in 0.15. The current behavior is equivalent to passing `weights=ResNet50_Weights.IMAGENET1K_V1`. You can also use `weights=ResNet50_Weights.DEFAULT` to get the most up-to-date weights.\n",
      "\u001b[2m\u001b[36m(RayTrainWorker pid=7966)\u001b[0m   warnings.warn(msg)\n",
      "\u001b[2m\u001b[36m(RayTrainWorker pid=7966)\u001b[0m 2022-09-07 21:20:54,215\tINFO train_loop_utils.py:300 -- Moving model to device: cpu\n"
     ]
    },
    {
     "data": {
      "application/vnd.jupyter.widget-view+json": {
       "model_id": "10207bc8ebda461c840b02eb1246feb3",
       "version_major": 2,
       "version_minor": 0
      },
      "text/plain": [
       "VBox(children=(Label(value='456.836 MB of 456.836 MB uploaded (91.307 MB deduped)\\r'), FloatProgress(value=1.0…"
      ]
     },
     "metadata": {},
     "output_type": "display_data"
    },
    {
     "data": {
      "text/html": [
       "W&B sync reduced upload amount by 20.0%             "
      ],
      "text/plain": [
       "<IPython.core.display.HTML object>"
      ]
     },
     "metadata": {},
     "output_type": "display_data"
    },
    {
     "data": {
      "text/html": [
       "<style>\n",
       "    table.wandb td:nth-child(1) { padding: 0 10px; text-align: left ; width: auto;} td:nth-child(2) {text-align: left ; width: 100%}\n",
       "    .wandb-row { display: flex; flex-direction: row; flex-wrap: wrap; justify-content: flex-start; width: 100% }\n",
       "    .wandb-col { display: flex; flex-direction: column; flex-basis: 100%; flex: 1; padding: 10px; }\n",
       "    </style>\n",
       "<div class=\"wandb-row\"><div class=\"wandb-col\"><h3>Run history:</h3><br/><table class=\"wandb\"><tr><td>avg_loss</td><td>▅▂█▁▃</td></tr><tr><td>iterations_since_restore</td><td>▁▃▅▆█</td></tr><tr><td>loss</td><td>▅▄█▁▆</td></tr><tr><td>time_since_restore</td><td>▁▃▄▆█</td></tr><tr><td>time_this_iter_s</td><td>█▁▁▂▃</td></tr><tr><td>time_total_s</td><td>▁▃▄▆█</td></tr><tr><td>timestamp</td><td>▁▃▄▆█</td></tr><tr><td>timesteps_since_restore</td><td>▁▁▁▁▁</td></tr><tr><td>training_iteration</td><td>▁▃▅▆█</td></tr><tr><td>warmup_time</td><td>▁▁▁▁▁</td></tr></table><br/></div><div class=\"wandb-col\"><h3>Run summary:</h3><br/><table class=\"wandb\"><tr><td>avg_loss</td><td>96.83902</td></tr><tr><td>iterations_since_restore</td><td>5</td></tr><tr><td>loss</td><td>120.21112</td></tr><tr><td>time_since_restore</td><td>62.3741</td></tr><tr><td>time_this_iter_s</td><td>11.82395</td></tr><tr><td>time_total_s</td><td>62.3741</td></tr><tr><td>timestamp</td><td>1662585651</td></tr><tr><td>timesteps_since_restore</td><td>0</td></tr><tr><td>training_iteration</td><td>5</td></tr><tr><td>warmup_time</td><td>0.00645</td></tr></table><br/></div></div>"
      ],
      "text/plain": [
       "<IPython.core.display.HTML object>"
      ]
     },
     "metadata": {},
     "output_type": "display_data"
    },
    {
     "data": {
      "text/html": [
       "Synced <strong style=\"color:#cdcd00\">TorchTrainer_bed468f8</strong>: <a href=\"https://wandb.ai/l5-demo/l5-simulation-trials/runs/bed468f8\" target=\"_blank\">https://wandb.ai/l5-demo/l5-simulation-trials/runs/bed468f8</a><br/>Synced 7 W&B file(s), 0 media file(s), 12 artifact file(s) and 1 other file(s)"
      ],
      "text/plain": [
       "<IPython.core.display.HTML object>"
      ]
     },
     "metadata": {},
     "output_type": "display_data"
    },
    {
     "data": {
      "text/html": [
       "Find logs at: <code>./wandb/run-20220907_211945-bed468f8/logs</code>"
      ],
      "text/plain": [
       "<IPython.core.display.HTML object>"
      ]
     },
     "metadata": {},
     "output_type": "display_data"
    },
    {
     "name": "stdout",
     "output_type": "stream",
     "text": [
      "Result for TorchTrainer_bed468f8:\n",
      "  _time_this_iter_s: 11.878909826278687\n",
      "  _timestamp: 1662585650\n",
      "  _training_iteration: 5\n",
      "  avg_loss: 96.83902359008789\n",
      "  date: 2022-09-07_21-20-51\n",
      "  done: true\n",
      "  experiment_id: 240a025336f5446a9ec393f1847b7757\n",
      "  experiment_tag: 22_batch_size=12.0000,format_version=4,future_num_frames=50,history_num_frames=5,model_architecture=resnet50,render_ego_history=False,step_time=0.1000,dataset_meta_key=meta_json,disable_traffic_light_faces=False,ego_center=0_25_0_5,filter_agents_threshold=0.5000,map_type=py_semantic,pixel_size=0_5_0_5,raster_size=224_224,satellite_map_key=aerial_map_aerial_map_png,semantic_map_key=semantic_map_semantic_map_pb,set_origin_to_bottom=True,batch_size=12,key=scenes_sample_zarr,num_workers=16,perturb_probability=0.0000,shuffle=True,checkpoint_every_n_steps=10000,eval_every_n_steps=10000,max_num_steps=5,batch_size=12,key=scenes_sample_zarr,num_workers=16,shuffle=False,dataset_key=scenes_sample_zarr,lr=0.0077,max_num_steps=5,num_workers=4,shuffle=True\n",
      "  hostname: anish-l5-kit\n",
      "  iterations_since_restore: 5\n",
      "  loss: 120.21112060546875\n",
      "  node_ip: 10.150.0.3\n",
      "  pid: 7026\n",
      "  should_checkpoint: true\n",
      "  time_since_restore: 62.374101877212524\n",
      "  time_this_iter_s: 11.823947191238403\n",
      "  time_total_s: 62.374101877212524\n",
      "  timestamp: 1662585651\n",
      "  timesteps_since_restore: 0\n",
      "  training_iteration: 5\n",
      "  trial_id: bed468f8\n",
      "  warmup_time: 0.006448030471801758\n",
      "  \n",
      "\u001b[2m\u001b[36m(RayTrainWorker pid=7966)\u001b[0m {'loss': 60.34614562988281, 'avg_loss': 60.34614562988281}\n"
     ]
    },
    {
     "name": "stderr",
     "output_type": "stream",
     "text": [
      "\u001b[34m\u001b[1mwandb\u001b[0m: Adding directory to artifact (/home/jupyter/ray_results/TorchTrainer_2022-09-07_21-06-06/TorchTrainer_cb92d304_23_batch_size=12.0000,format_version=4,future_num_frames=50,history_num_frames=5,model_architecture=resnet50_2022-09-07_21-20-40/checkpoint_000000)... "
     ]
    },
    {
     "name": "stdout",
     "output_type": "stream",
     "text": [
      "Result for TorchTrainer_cb92d304:\n",
      "  _time_this_iter_s: 19.155983448028564\n",
      "  _timestamp: 1662585667\n",
      "  _training_iteration: 1\n",
      "  avg_loss: 60.34614562988281\n",
      "  date: 2022-09-07_21-21-07\n",
      "  done: false\n",
      "  experiment_id: a1577ee73b4a4fefa8dc36d6f96347b1\n",
      "  hostname: anish-l5-kit\n",
      "  iterations_since_restore: 1\n",
      "  loss: 60.34614562988281\n",
      "  node_ip: 10.150.0.3\n",
      "  pid: 7888\n",
      "  should_checkpoint: true\n",
      "  time_since_restore: 23.03936266899109\n",
      "  time_this_iter_s: 23.03936266899109\n",
      "  time_total_s: 23.03936266899109\n",
      "  timestamp: 1662585667\n",
      "  timesteps_since_restore: 0\n",
      "  training_iteration: 1\n",
      "  trial_id: cb92d304\n",
      "  warmup_time: 0.006450653076171875\n",
      "  \n"
     ]
    },
    {
     "name": "stderr",
     "output_type": "stream",
     "text": [
      "Done. 1.0s\n",
      "\u001b[2m\u001b[36m(RayTrainWorker pid=8634)\u001b[0m 2022-09-07 21:21:09,220\tINFO config.py:72 -- Setting up process group for: env:// [rank=0, world_size=1]\n",
      "\u001b[2m\u001b[36m(RayTrainWorker pid=8634)\u001b[0m /opt/conda/lib/python3.7/site-packages/l5kit/planning/rasterized/model.py:31: UserWarning: There is no pre-trained model with num_in_channels != 3, first layer will be reset\n",
      "\u001b[2m\u001b[36m(RayTrainWorker pid=8634)\u001b[0m   warnings.warn(\"There is no pre-trained model with num_in_channels != 3, first layer will be reset\")\n",
      "\u001b[2m\u001b[36m(RayTrainWorker pid=8634)\u001b[0m /opt/conda/lib/python3.7/site-packages/torchvision/models/_utils.py:209: UserWarning: The parameter 'pretrained' is deprecated since 0.13 and will be removed in 0.15, please use 'weights' instead.\n",
      "\u001b[2m\u001b[36m(RayTrainWorker pid=8634)\u001b[0m   f\"The parameter '{pretrained_param}' is deprecated since 0.13 and will be removed in 0.15, \"\n",
      "\u001b[2m\u001b[36m(RayTrainWorker pid=8634)\u001b[0m /opt/conda/lib/python3.7/site-packages/torchvision/models/_utils.py:223: UserWarning: Arguments other than a weight enum or `None` for 'weights' are deprecated since 0.13 and will be removed in 0.15. The current behavior is equivalent to passing `weights=ResNet50_Weights.IMAGENET1K_V1`. You can also use `weights=ResNet50_Weights.DEFAULT` to get the most up-to-date weights.\n",
      "\u001b[2m\u001b[36m(RayTrainWorker pid=8634)\u001b[0m   warnings.warn(msg)\n",
      "\u001b[2m\u001b[36m(RayTrainWorker pid=8634)\u001b[0m 2022-09-07 21:21:15,731\tINFO train_loop_utils.py:300 -- Moving model to device: cpu\n"
     ]
    },
    {
     "name": "stdout",
     "output_type": "stream",
     "text": [
      "\u001b[2m\u001b[36m(RayTrainWorker pid=7966)\u001b[0m {'loss': 101.25701904296875, 'avg_loss': 80.80158233642578}\n"
     ]
    },
    {
     "name": "stderr",
     "output_type": "stream",
     "text": [
      "\u001b[34m\u001b[1mwandb\u001b[0m: Adding directory to artifact (/home/jupyter/ray_results/TorchTrainer_2022-09-07_21-06-06/TorchTrainer_cb92d304_23_batch_size=12.0000,format_version=4,future_num_frames=50,history_num_frames=5,model_architecture=resnet50_2022-09-07_21-20-40/checkpoint_000001)... "
     ]
    },
    {
     "name": "stdout",
     "output_type": "stream",
     "text": [
      "Result for TorchTrainer_cb92d304:\n",
      "  _time_this_iter_s: 11.202421426773071\n",
      "  _timestamp: 1662585678\n",
      "  _training_iteration: 2\n",
      "  avg_loss: 80.80158233642578\n",
      "  date: 2022-09-07_21-21-18\n",
      "  done: false\n",
      "  experiment_id: a1577ee73b4a4fefa8dc36d6f96347b1\n",
      "  hostname: anish-l5-kit\n",
      "  iterations_since_restore: 2\n",
      "  loss: 101.25701904296875\n",
      "  node_ip: 10.150.0.3\n",
      "  pid: 7888\n",
      "  should_checkpoint: true\n",
      "  time_since_restore: 34.114229679107666\n",
      "  time_this_iter_s: 11.074867010116577\n",
      "  time_total_s: 34.114229679107666\n",
      "  timestamp: 1662585678\n",
      "  timesteps_since_restore: 0\n",
      "  training_iteration: 2\n",
      "  trial_id: cb92d304\n",
      "  warmup_time: 0.006450653076171875\n",
      "  \n"
     ]
    },
    {
     "name": "stderr",
     "output_type": "stream",
     "text": [
      "Done. 1.0s\n"
     ]
    },
    {
     "name": "stdout",
     "output_type": "stream",
     "text": [
      "\u001b[2m\u001b[36m(RayTrainWorker pid=8634)\u001b[0m {'loss': 73.57400512695312, 'avg_loss': 73.57400512695312}\n",
      "Result for TorchTrainer_ec979508:\n",
      "  _time_this_iter_s: 12.628728866577148\n",
      "  _timestamp: 1662585682\n",
      "  _training_iteration: 1\n",
      "  avg_loss: 73.57400512695312\n",
      "  date: 2022-09-07_21-21-22\n",
      "  done: false\n",
      "  experiment_id: 96b380f0227e49ed8fe58005ea4b716d\n",
      "  hostname: anish-l5-kit\n",
      "  iterations_since_restore: 1\n",
      "  loss: 73.57400512695312\n",
      "  node_ip: 10.150.0.3\n",
      "  pid: 8158\n",
      "  should_checkpoint: true\n",
      "  time_since_restore: 17.177831411361694\n",
      "  time_this_iter_s: 17.177831411361694\n",
      "  time_total_s: 17.177831411361694\n",
      "  timestamp: 1662585682\n",
      "  timesteps_since_restore: 0\n",
      "  training_iteration: 1\n",
      "  trial_id: ec979508\n",
      "  warmup_time: 0.005913257598876953\n",
      "  \n"
     ]
    },
    {
     "name": "stderr",
     "output_type": "stream",
     "text": [
      "\u001b[34m\u001b[1mwandb\u001b[0m: Adding directory to artifact (/home/jupyter/ray_results/TorchTrainer_2022-09-07_21-06-06/TorchTrainer_ec979508_24_batch_size=6.0000,format_version=4,future_num_frames=50,history_num_frames=5,model_architecture=resnet50,_2022-09-07_21-21-01/checkpoint_000000)... Done. 1.0s\n"
     ]
    },
    {
     "name": "stdout",
     "output_type": "stream",
     "text": [
      "\u001b[2m\u001b[36m(RayTrainWorker pid=7966)\u001b[0m {'loss': 98.23750305175781, 'avg_loss': 86.61355590820312}\n",
      "\u001b[2m\u001b[36m(RayTrainWorker pid=8634)\u001b[0m {'loss': 77.22203063964844, 'avg_loss': 75.39801788330078}\n"
     ]
    },
    {
     "name": "stderr",
     "output_type": "stream",
     "text": [
      "\u001b[34m\u001b[1mwandb\u001b[0m: Adding directory to artifact (/home/jupyter/ray_results/TorchTrainer_2022-09-07_21-06-06/TorchTrainer_cb92d304_23_batch_size=12.0000,format_version=4,future_num_frames=50,history_num_frames=5,model_architecture=resnet50_2022-09-07_21-20-40/checkpoint_000002)... "
     ]
    },
    {
     "name": "stdout",
     "output_type": "stream",
     "text": [
      "Result for TorchTrainer_cb92d304:\n",
      "  _time_this_iter_s: 8.896963119506836\n",
      "  _timestamp: 1662585687\n",
      "  _training_iteration: 3\n",
      "  avg_loss: 86.61355590820312\n",
      "  date: 2022-09-07_21-21-27\n",
      "  done: false\n",
      "  experiment_id: a1577ee73b4a4fefa8dc36d6f96347b1\n",
      "  hostname: anish-l5-kit\n",
      "  iterations_since_restore: 3\n",
      "  loss: 98.23750305175781\n",
      "  node_ip: 10.150.0.3\n",
      "  pid: 7888\n",
      "  should_checkpoint: true\n",
      "  time_since_restore: 43.04955792427063\n",
      "  time_this_iter_s: 8.935328245162964\n",
      "  time_total_s: 43.04955792427063\n",
      "  timestamp: 1662585687\n",
      "  timesteps_since_restore: 0\n",
      "  training_iteration: 3\n",
      "  trial_id: cb92d304\n",
      "  warmup_time: 0.006450653076171875\n",
      "  \n",
      "Result for TorchTrainer_ec979508:\n",
      "  _time_this_iter_s: 5.240785121917725\n",
      "  _timestamp: 1662585687\n",
      "  _training_iteration: 2\n",
      "  avg_loss: 75.39801788330078\n",
      "  date: 2022-09-07_21-21-28\n",
      "  done: false\n",
      "  experiment_id: 96b380f0227e49ed8fe58005ea4b716d\n",
      "  hostname: anish-l5-kit\n",
      "  iterations_since_restore: 2\n",
      "  loss: 77.22203063964844\n",
      "  node_ip: 10.150.0.3\n",
      "  pid: 8158\n",
      "  should_checkpoint: true\n",
      "  time_since_restore: 22.496575593948364\n",
      "  time_this_iter_s: 5.31874418258667\n",
      "  time_total_s: 22.496575593948364\n",
      "  timestamp: 1662585688\n",
      "  timesteps_since_restore: 0\n",
      "  training_iteration: 2\n",
      "  trial_id: ec979508\n",
      "  warmup_time: 0.005913257598876953\n",
      "  \n"
     ]
    },
    {
     "name": "stderr",
     "output_type": "stream",
     "text": [
      "\u001b[34m\u001b[1mwandb\u001b[0m: Adding directory to artifact (/home/jupyter/ray_results/TorchTrainer_2022-09-07_21-06-06/TorchTrainer_ec979508_24_batch_size=6.0000,format_version=4,future_num_frames=50,history_num_frames=5,model_architecture=resnet50,_2022-09-07_21-21-01/checkpoint_000001)... Done. 1.0s\n",
      "Done. 1.2s\n"
     ]
    },
    {
     "name": "stdout",
     "output_type": "stream",
     "text": [
      "\u001b[2m\u001b[36m(RayTrainWorker pid=8634)\u001b[0m {'loss': 113.08607482910156, 'avg_loss': 87.96070353190105}\n"
     ]
    },
    {
     "name": "stderr",
     "output_type": "stream",
     "text": [
      "\u001b[34m\u001b[1mwandb\u001b[0m: Adding directory to artifact (/home/jupyter/ray_results/TorchTrainer_2022-09-07_21-06-06/TorchTrainer_ec979508_24_batch_size=6.0000,format_version=4,future_num_frames=50,history_num_frames=5,model_architecture=resnet50,_2022-09-07_21-21-01/checkpoint_000002)... "
     ]
    },
    {
     "name": "stdout",
     "output_type": "stream",
     "text": [
      "Result for TorchTrainer_ec979508:\n",
      "  _time_this_iter_s: 5.290882587432861\n",
      "  _timestamp: 1662585692\n",
      "  _training_iteration: 3\n",
      "  avg_loss: 87.96070353190105\n",
      "  date: 2022-09-07_21-21-33\n",
      "  done: false\n",
      "  experiment_id: 96b380f0227e49ed8fe58005ea4b716d\n",
      "  hostname: anish-l5-kit\n",
      "  iterations_since_restore: 3\n",
      "  loss: 113.08607482910156\n",
      "  node_ip: 10.150.0.3\n",
      "  pid: 8158\n",
      "  should_checkpoint: true\n",
      "  time_since_restore: 27.666754961013794\n",
      "  time_this_iter_s: 5.17017936706543\n",
      "  time_total_s: 27.666754961013794\n",
      "  timestamp: 1662585693\n",
      "  timesteps_since_restore: 0\n",
      "  training_iteration: 3\n",
      "  trial_id: ec979508\n",
      "  warmup_time: 0.005913257598876953\n",
      "  \n"
     ]
    },
    {
     "name": "stderr",
     "output_type": "stream",
     "text": [
      "Done. 1.6s\n"
     ]
    },
    {
     "name": "stdout",
     "output_type": "stream",
     "text": [
      "\u001b[2m\u001b[36m(RayTrainWorker pid=7966)\u001b[0m {'loss': 62.27341842651367, 'avg_loss': 80.52852153778076}\n"
     ]
    },
    {
     "name": "stderr",
     "output_type": "stream",
     "text": [
      "\u001b[34m\u001b[1mwandb\u001b[0m: Adding directory to artifact (/home/jupyter/ray_results/TorchTrainer_2022-09-07_21-06-06/TorchTrainer_cb92d304_23_batch_size=12.0000,format_version=4,future_num_frames=50,history_num_frames=5,model_architecture=resnet50_2022-09-07_21-20-40/checkpoint_000003)... "
     ]
    },
    {
     "name": "stdout",
     "output_type": "stream",
     "text": [
      "Result for TorchTrainer_cb92d304:\n",
      "  _time_this_iter_s: 9.349447250366211\n",
      "  _timestamp: 1662585696\n",
      "  _training_iteration: 4\n",
      "  avg_loss: 80.52852153778076\n",
      "  date: 2022-09-07_21-21-36\n",
      "  done: false\n",
      "  experiment_id: a1577ee73b4a4fefa8dc36d6f96347b1\n",
      "  hostname: anish-l5-kit\n",
      "  iterations_since_restore: 4\n",
      "  loss: 62.27341842651367\n",
      "  node_ip: 10.150.0.3\n",
      "  pid: 7888\n",
      "  should_checkpoint: true\n",
      "  time_since_restore: 52.36154627799988\n",
      "  time_this_iter_s: 9.311988353729248\n",
      "  time_total_s: 52.36154627799988\n",
      "  timestamp: 1662585696\n",
      "  timesteps_since_restore: 0\n",
      "  training_iteration: 4\n",
      "  trial_id: cb92d304\n",
      "  warmup_time: 0.006450653076171875\n",
      "  \n"
     ]
    },
    {
     "name": "stderr",
     "output_type": "stream",
     "text": [
      "Done. 1.0s\n"
     ]
    },
    {
     "name": "stdout",
     "output_type": "stream",
     "text": [
      "\u001b[2m\u001b[36m(RayTrainWorker pid=8634)\u001b[0m {'loss': 105.1417465209961, 'avg_loss': 92.2559642791748}\n",
      "Result for TorchTrainer_ec979508:\n",
      "  _time_this_iter_s: 5.094644069671631\n",
      "  _timestamp: 1662585698\n",
      "  _training_iteration: 4\n",
      "  avg_loss: 92.2559642791748\n",
      "  date: 2022-09-07_21-21-38\n",
      "  done: false\n",
      "  experiment_id: 96b380f0227e49ed8fe58005ea4b716d\n",
      "  hostname: anish-l5-kit\n",
      "  iterations_since_restore: 4\n",
      "  loss: 105.1417465209961\n",
      "  node_ip: 10.150.0.3\n",
      "  pid: 8158\n",
      "  should_checkpoint: true\n",
      "  time_since_restore: 32.716594219207764\n",
      "  time_this_iter_s: 5.04983925819397\n",
      "  time_total_s: 32.716594219207764\n",
      "  timestamp: 1662585698\n",
      "  timesteps_since_restore: 0\n",
      "  training_iteration: 4\n",
      "  trial_id: ec979508\n",
      "  warmup_time: 0.005913257598876953\n",
      "  \n"
     ]
    },
    {
     "name": "stderr",
     "output_type": "stream",
     "text": [
      "\u001b[34m\u001b[1mwandb\u001b[0m: Adding directory to artifact (/home/jupyter/ray_results/TorchTrainer_2022-09-07_21-06-06/TorchTrainer_ec979508_24_batch_size=6.0000,format_version=4,future_num_frames=50,history_num_frames=5,model_architecture=resnet50,_2022-09-07_21-21-01/checkpoint_000003)... Done. 2.6s\n"
     ]
    },
    {
     "name": "stdout",
     "output_type": "stream",
     "text": [
      "\u001b[2m\u001b[36m(RayTrainWorker pid=8634)\u001b[0m {'loss': 64.12551879882812, 'avg_loss': 86.62987518310547}\n"
     ]
    },
    {
     "name": "stderr",
     "output_type": "stream",
     "text": [
      "\u001b[34m\u001b[1mwandb\u001b[0m: Adding directory to artifact (/home/jupyter/ray_results/TorchTrainer_2022-09-07_21-06-06/TorchTrainer_ec979508_24_batch_size=6.0000,format_version=4,future_num_frames=50,history_num_frames=5,model_architecture=resnet50,_2022-09-07_21-21-01/checkpoint_000004)... Done. 1.0s\n",
      "\u001b[34m\u001b[1mwandb\u001b[0m: Adding directory to artifact (/home/jupyter/ray_results/TorchTrainer_2022-09-07_21-06-06/TorchTrainer_ec979508_24_batch_size=6.0000,format_version=4,future_num_frames=50,history_num_frames=5,model_architecture=resnet50,_2022-09-07_21-21-01/checkpoint_000004)... Done. 0.3s\n"
     ]
    },
    {
     "data": {
      "text/html": [
       "Waiting for W&B process to finish... <strong style=\"color:green\">(success).</strong>"
      ],
      "text/plain": [
       "<IPython.core.display.HTML object>"
      ]
     },
     "metadata": {},
     "output_type": "display_data"
    },
    {
     "name": "stdout",
     "output_type": "stream",
     "text": [
      "\u001b[2m\u001b[36m(RayTrainWorker pid=7966)\u001b[0m {'loss': 49.465858459472656, 'avg_loss': 74.31598892211915}\n"
     ]
    },
    {
     "data": {
      "application/vnd.jupyter.widget-view+json": {
       "model_id": "2d51837da200428aa76e2eb3ddac0ad9",
       "version_major": 2,
       "version_minor": 0
      },
      "text/plain": [
       "VBox(children=(Label(value='456.836 MB of 456.836 MB uploaded (91.307 MB deduped)\\r'), FloatProgress(value=1.0…"
      ]
     },
     "metadata": {},
     "output_type": "display_data"
    },
    {
     "data": {
      "text/html": [
       "W&B sync reduced upload amount by 20.0%             "
      ],
      "text/plain": [
       "<IPython.core.display.HTML object>"
      ]
     },
     "metadata": {},
     "output_type": "display_data"
    },
    {
     "data": {
      "text/html": [
       "<style>\n",
       "    table.wandb td:nth-child(1) { padding: 0 10px; text-align: left ; width: auto;} td:nth-child(2) {text-align: left ; width: 100%}\n",
       "    .wandb-row { display: flex; flex-direction: row; flex-wrap: wrap; justify-content: flex-start; width: 100% }\n",
       "    .wandb-col { display: flex; flex-direction: column; flex-basis: 100%; flex: 1; padding: 10px; }\n",
       "    </style>\n",
       "<div class=\"wandb-row\"><div class=\"wandb-col\"><h3>Run history:</h3><br/><table class=\"wandb\"><tr><td>avg_loss</td><td>▁▂▆█▆</td></tr><tr><td>iterations_since_restore</td><td>▁▃▅▆█</td></tr><tr><td>loss</td><td>▂▃█▇▁</td></tr><tr><td>time_since_restore</td><td>▁▃▅▆█</td></tr><tr><td>time_this_iter_s</td><td>█▁▁▁▁</td></tr><tr><td>time_total_s</td><td>▁▃▅▆█</td></tr><tr><td>timestamp</td><td>▁▃▅▆█</td></tr><tr><td>timesteps_since_restore</td><td>▁▁▁▁▁</td></tr><tr><td>training_iteration</td><td>▁▃▅▆█</td></tr><tr><td>warmup_time</td><td>▁▁▁▁▁</td></tr></table><br/></div><div class=\"wandb-col\"><h3>Run summary:</h3><br/><table class=\"wandb\"><tr><td>avg_loss</td><td>86.62988</td></tr><tr><td>iterations_since_restore</td><td>5</td></tr><tr><td>loss</td><td>64.12552</td></tr><tr><td>time_since_restore</td><td>37.5333</td></tr><tr><td>time_this_iter_s</td><td>4.81671</td></tr><tr><td>time_total_s</td><td>37.5333</td></tr><tr><td>timestamp</td><td>1662585703</td></tr><tr><td>timesteps_since_restore</td><td>0</td></tr><tr><td>training_iteration</td><td>5</td></tr><tr><td>warmup_time</td><td>0.00591</td></tr></table><br/></div></div>"
      ],
      "text/plain": [
       "<IPython.core.display.HTML object>"
      ]
     },
     "metadata": {},
     "output_type": "display_data"
    },
    {
     "data": {
      "text/html": [
       "Synced <strong style=\"color:#cdcd00\">TorchTrainer_ec979508</strong>: <a href=\"https://wandb.ai/l5-demo/l5-simulation-trials/runs/ec979508\" target=\"_blank\">https://wandb.ai/l5-demo/l5-simulation-trials/runs/ec979508</a><br/>Synced 7 W&B file(s), 0 media file(s), 12 artifact file(s) and 1 other file(s)"
      ],
      "text/plain": [
       "<IPython.core.display.HTML object>"
      ]
     },
     "metadata": {},
     "output_type": "display_data"
    },
    {
     "data": {
      "text/html": [
       "Find logs at: <code>./wandb/run-20220907_212101-ec979508/logs</code>"
      ],
      "text/plain": [
       "<IPython.core.display.HTML object>"
      ]
     },
     "metadata": {},
     "output_type": "display_data"
    },
    {
     "name": "stdout",
     "output_type": "stream",
     "text": [
      "Result for TorchTrainer_ec979508:\n",
      "  _time_this_iter_s: 4.865289211273193\n",
      "  _timestamp: 1662585702\n",
      "  _training_iteration: 5\n",
      "  avg_loss: 86.62987518310547\n",
      "  date: 2022-09-07_21-21-43\n",
      "  done: true\n",
      "  experiment_id: 96b380f0227e49ed8fe58005ea4b716d\n",
      "  experiment_tag: 24_batch_size=6.0000,format_version=4,future_num_frames=50,history_num_frames=5,model_architecture=resnet50,render_ego_history=False,step_time=0.1000,dataset_meta_key=meta_json,disable_traffic_light_faces=False,ego_center=0_25_0_5,filter_agents_threshold=0.5000,map_type=py_semantic,pixel_size=0_5_0_5,raster_size=224_224,satellite_map_key=aerial_map_aerial_map_png,semantic_map_key=semantic_map_semantic_map_pb,set_origin_to_bottom=True,batch_size=12,key=scenes_sample_zarr,num_workers=16,perturb_probability=0.0000,shuffle=True,checkpoint_every_n_steps=10000,eval_every_n_steps=10000,max_num_steps=5,batch_size=12,key=scenes_sample_zarr,num_workers=16,shuffle=False,dataset_key=scenes_sample_zarr,lr=0.0042,max_num_steps=5,num_workers=4,shuffle=True\n",
      "  hostname: anish-l5-kit\n",
      "  iterations_since_restore: 5\n",
      "  loss: 64.12551879882812\n",
      "  node_ip: 10.150.0.3\n",
      "  pid: 8158\n",
      "  should_checkpoint: true\n",
      "  time_since_restore: 37.53330445289612\n",
      "  time_this_iter_s: 4.8167102336883545\n",
      "  time_total_s: 37.53330445289612\n",
      "  timestamp: 1662585703\n",
      "  timesteps_since_restore: 0\n",
      "  training_iteration: 5\n",
      "  trial_id: ec979508\n",
      "  warmup_time: 0.005913257598876953\n",
      "  \n"
     ]
    },
    {
     "name": "stderr",
     "output_type": "stream",
     "text": [
      "\u001b[34m\u001b[1mwandb\u001b[0m: Adding directory to artifact (/home/jupyter/ray_results/TorchTrainer_2022-09-07_21-06-06/TorchTrainer_cb92d304_23_batch_size=12.0000,format_version=4,future_num_frames=50,history_num_frames=5,model_architecture=resnet50_2022-09-07_21-20-40/checkpoint_000004)... "
     ]
    },
    {
     "name": "stdout",
     "output_type": "stream",
     "text": [
      "Result for TorchTrainer_cb92d304:\n",
      "  _time_this_iter_s: 8.97896695137024\n",
      "  _timestamp: 1662585705\n",
      "  _training_iteration: 5\n",
      "  avg_loss: 74.31598892211915\n",
      "  date: 2022-09-07_21-21-45\n",
      "  done: false\n",
      "  experiment_id: a1577ee73b4a4fefa8dc36d6f96347b1\n",
      "  hostname: anish-l5-kit\n",
      "  iterations_since_restore: 5\n",
      "  loss: 49.465858459472656\n",
      "  node_ip: 10.150.0.3\n",
      "  pid: 7888\n",
      "  should_checkpoint: true\n",
      "  time_since_restore: 61.29706907272339\n",
      "  time_this_iter_s: 8.93552279472351\n",
      "  time_total_s: 61.29706907272339\n",
      "  timestamp: 1662585705\n",
      "  timesteps_since_restore: 0\n",
      "  training_iteration: 5\n",
      "  trial_id: cb92d304\n",
      "  warmup_time: 0.006450653076171875\n",
      "  \n"
     ]
    },
    {
     "name": "stderr",
     "output_type": "stream",
     "text": [
      "Done. 1.0s\n",
      "\u001b[34m\u001b[1mwandb\u001b[0m: Adding directory to artifact (/home/jupyter/ray_results/TorchTrainer_2022-09-07_21-06-06/TorchTrainer_cb92d304_23_batch_size=12.0000,format_version=4,future_num_frames=50,history_num_frames=5,model_architecture=resnet50_2022-09-07_21-20-40/checkpoint_000004)... Done. 0.3s\n"
     ]
    },
    {
     "data": {
      "text/html": [
       "Waiting for W&B process to finish... <strong style=\"color:green\">(success).</strong>"
      ],
      "text/plain": [
       "<IPython.core.display.HTML object>"
      ]
     },
     "metadata": {},
     "output_type": "display_data"
    },
    {
     "data": {
      "application/vnd.jupyter.widget-view+json": {
       "model_id": "11e94a41415947c9a06b9cc2842b032a",
       "version_major": 2,
       "version_minor": 0
      },
      "text/plain": [
       "VBox(children=(Label(value='456.836 MB of 456.836 MB uploaded (91.307 MB deduped)\\r'), FloatProgress(value=1.0…"
      ]
     },
     "metadata": {},
     "output_type": "display_data"
    },
    {
     "data": {
      "text/html": [
       "W&B sync reduced upload amount by 20.0%             "
      ],
      "text/plain": [
       "<IPython.core.display.HTML object>"
      ]
     },
     "metadata": {},
     "output_type": "display_data"
    },
    {
     "data": {
      "text/html": [
       "<style>\n",
       "    table.wandb td:nth-child(1) { padding: 0 10px; text-align: left ; width: auto;} td:nth-child(2) {text-align: left ; width: 100%}\n",
       "    .wandb-row { display: flex; flex-direction: row; flex-wrap: wrap; justify-content: flex-start; width: 100% }\n",
       "    .wandb-col { display: flex; flex-direction: column; flex-basis: 100%; flex: 1; padding: 10px; }\n",
       "    </style>\n",
       "<div class=\"wandb-row\"><div class=\"wandb-col\"><h3>Run history:</h3><br/><table class=\"wandb\"><tr><td>avg_loss</td><td>▁▆█▆▅</td></tr><tr><td>iterations_since_restore</td><td>▁▃▅▆█</td></tr><tr><td>loss</td><td>▂██▃▁</td></tr><tr><td>time_since_restore</td><td>▁▃▅▆█</td></tr><tr><td>time_this_iter_s</td><td>█▂▁▁▁</td></tr><tr><td>time_total_s</td><td>▁▃▅▆█</td></tr><tr><td>timestamp</td><td>▁▃▅▆█</td></tr><tr><td>timesteps_since_restore</td><td>▁▁▁▁▁</td></tr><tr><td>training_iteration</td><td>▁▃▅▆█</td></tr><tr><td>warmup_time</td><td>▁▁▁▁▁</td></tr></table><br/></div><div class=\"wandb-col\"><h3>Run summary:</h3><br/><table class=\"wandb\"><tr><td>avg_loss</td><td>74.31599</td></tr><tr><td>iterations_since_restore</td><td>5</td></tr><tr><td>loss</td><td>49.46586</td></tr><tr><td>time_since_restore</td><td>61.29707</td></tr><tr><td>time_this_iter_s</td><td>8.93552</td></tr><tr><td>time_total_s</td><td>61.29707</td></tr><tr><td>timestamp</td><td>1662585705</td></tr><tr><td>timesteps_since_restore</td><td>0</td></tr><tr><td>training_iteration</td><td>5</td></tr><tr><td>warmup_time</td><td>0.00645</td></tr></table><br/></div></div>"
      ],
      "text/plain": [
       "<IPython.core.display.HTML object>"
      ]
     },
     "metadata": {},
     "output_type": "display_data"
    },
    {
     "data": {
      "text/html": [
       "Synced <strong style=\"color:#cdcd00\">TorchTrainer_cb92d304</strong>: <a href=\"https://wandb.ai/l5-demo/l5-simulation-trials/runs/cb92d304\" target=\"_blank\">https://wandb.ai/l5-demo/l5-simulation-trials/runs/cb92d304</a><br/>Synced 7 W&B file(s), 0 media file(s), 12 artifact file(s) and 1 other file(s)"
      ],
      "text/plain": [
       "<IPython.core.display.HTML object>"
      ]
     },
     "metadata": {},
     "output_type": "display_data"
    },
    {
     "data": {
      "text/html": [
       "Find logs at: <code>./wandb/run-20220907_212040-cb92d304/logs</code>"
      ],
      "text/plain": [
       "<IPython.core.display.HTML object>"
      ]
     },
     "metadata": {},
     "output_type": "display_data"
    },
    {
     "name": "stdout",
     "output_type": "stream",
     "text": [
      "Result for TorchTrainer_cb92d304:\n",
      "  _time_this_iter_s: 8.97896695137024\n",
      "  _timestamp: 1662585705\n",
      "  _training_iteration: 5\n",
      "  avg_loss: 74.31598892211915\n",
      "  date: 2022-09-07_21-21-45\n",
      "  done: true\n",
      "  experiment_id: a1577ee73b4a4fefa8dc36d6f96347b1\n",
      "  experiment_tag: 23_batch_size=12.0000,format_version=4,future_num_frames=50,history_num_frames=5,model_architecture=resnet50,render_ego_history=False,step_time=0.1000,dataset_meta_key=meta_json,disable_traffic_light_faces=False,ego_center=0_25_0_5,filter_agents_threshold=0.5000,map_type=py_semantic,pixel_size=0_5_0_5,raster_size=224_224,satellite_map_key=aerial_map_aerial_map_png,semantic_map_key=semantic_map_semantic_map_pb,set_origin_to_bottom=True,batch_size=12,key=scenes_sample_zarr,num_workers=16,perturb_probability=0.0000,shuffle=True,checkpoint_every_n_steps=10000,eval_every_n_steps=10000,max_num_steps=5,batch_size=12,key=scenes_sample_zarr,num_workers=16,shuffle=False,dataset_key=scenes_sample_zarr,lr=0.0084,max_num_steps=5,num_workers=4,shuffle=True\n",
      "  hostname: anish-l5-kit\n",
      "  iterations_since_restore: 5\n",
      "  loss: 49.465858459472656\n",
      "  node_ip: 10.150.0.3\n",
      "  pid: 7888\n",
      "  should_checkpoint: true\n",
      "  time_since_restore: 61.29706907272339\n",
      "  time_this_iter_s: 8.93552279472351\n",
      "  time_total_s: 61.29706907272339\n",
      "  timestamp: 1662585705\n",
      "  timesteps_since_restore: 0\n",
      "  training_iteration: 5\n",
      "  trial_id: cb92d304\n",
      "  warmup_time: 0.006450653076171875\n",
      "  \n"
     ]
    },
    {
     "name": "stderr",
     "output_type": "stream",
     "text": [
      "\u001b[2m\u001b[36m(RayTrainWorker pid=9571)\u001b[0m 2022-09-07 21:22:06,687\tINFO config.py:72 -- Setting up process group for: env:// [rank=0, world_size=1]\n",
      "\u001b[2m\u001b[36m(RayTrainWorker pid=9571)\u001b[0m /opt/conda/lib/python3.7/site-packages/l5kit/planning/rasterized/model.py:31: UserWarning: There is no pre-trained model with num_in_channels != 3, first layer will be reset\n",
      "\u001b[2m\u001b[36m(RayTrainWorker pid=9571)\u001b[0m   warnings.warn(\"There is no pre-trained model with num_in_channels != 3, first layer will be reset\")\n",
      "\u001b[2m\u001b[36m(RayTrainWorker pid=9571)\u001b[0m /opt/conda/lib/python3.7/site-packages/torchvision/models/_utils.py:209: UserWarning: The parameter 'pretrained' is deprecated since 0.13 and will be removed in 0.15, please use 'weights' instead.\n",
      "\u001b[2m\u001b[36m(RayTrainWorker pid=9571)\u001b[0m   f\"The parameter '{pretrained_param}' is deprecated since 0.13 and will be removed in 0.15, \"\n",
      "\u001b[2m\u001b[36m(RayTrainWorker pid=9571)\u001b[0m /opt/conda/lib/python3.7/site-packages/torchvision/models/_utils.py:223: UserWarning: Arguments other than a weight enum or `None` for 'weights' are deprecated since 0.13 and will be removed in 0.15. The current behavior is equivalent to passing `weights=ResNet50_Weights.IMAGENET1K_V1`. You can also use `weights=ResNet50_Weights.DEFAULT` to get the most up-to-date weights.\n",
      "\u001b[2m\u001b[36m(RayTrainWorker pid=9571)\u001b[0m   warnings.warn(msg)\n",
      "\u001b[2m\u001b[36m(RayTrainWorker pid=9571)\u001b[0m 2022-09-07 21:22:11,908\tINFO train_loop_utils.py:300 -- Moving model to device: cpu\n"
     ]
    },
    {
     "name": "stdout",
     "output_type": "stream",
     "text": [
      "\u001b[2m\u001b[36m(RayTrainWorker pid=9571)\u001b[0m {'loss': 116.76582336425781, 'avg_loss': 116.76582336425781}\n"
     ]
    },
    {
     "name": "stderr",
     "output_type": "stream",
     "text": [
      "\u001b[34m\u001b[1mwandb\u001b[0m: Adding directory to artifact (/home/jupyter/ray_results/TorchTrainer_2022-09-07_21-06-06/TorchTrainer_f8df3500_25_batch_size=6.0000,format_version=4,future_num_frames=50,history_num_frames=5,model_architecture=resnet50,_2022-09-07_21-22-00/checkpoint_000000)... "
     ]
    },
    {
     "name": "stdout",
     "output_type": "stream",
     "text": [
      "Result for TorchTrainer_f8df3500:\n",
      "  _time_this_iter_s: 10.15064525604248\n",
      "  _timestamp: 1662585737\n",
      "  _training_iteration: 1\n",
      "  avg_loss: 116.76582336425781\n",
      "  date: 2022-09-07_21-22-17\n",
      "  done: false\n",
      "  experiment_id: 0454cfca86fa4aebb8278f28870bee72\n",
      "  hostname: anish-l5-kit\n",
      "  iterations_since_restore: 1\n",
      "  loss: 116.76582336425781\n",
      "  node_ip: 10.150.0.3\n",
      "  pid: 9097\n",
      "  should_checkpoint: true\n",
      "  time_since_restore: 13.410129308700562\n",
      "  time_this_iter_s: 13.410129308700562\n",
      "  time_total_s: 13.410129308700562\n",
      "  timestamp: 1662585737\n",
      "  timesteps_since_restore: 0\n",
      "  training_iteration: 1\n",
      "  trial_id: f8df3500\n",
      "  warmup_time: 0.004829883575439453\n",
      "  \n"
     ]
    },
    {
     "name": "stderr",
     "output_type": "stream",
     "text": [
      "Done. 1.5s\n"
     ]
    },
    {
     "name": "stdout",
     "output_type": "stream",
     "text": [
      "\u001b[2m\u001b[36m(RayTrainWorker pid=9571)\u001b[0m {'loss': 64.10145568847656, 'avg_loss': 90.43363952636719}\n"
     ]
    },
    {
     "name": "stderr",
     "output_type": "stream",
     "text": [
      "\u001b[34m\u001b[1mwandb\u001b[0m: Adding directory to artifact (/home/jupyter/ray_results/TorchTrainer_2022-09-07_21-06-06/TorchTrainer_f8df3500_25_batch_size=6.0000,format_version=4,future_num_frames=50,history_num_frames=5,model_architecture=resnet50,_2022-09-07_21-22-00/checkpoint_000001)... Done. 1.0s\n"
     ]
    },
    {
     "name": "stdout",
     "output_type": "stream",
     "text": [
      "\u001b[2m\u001b[36m(RayTrainWorker pid=9571)\u001b[0m {'loss': 30.046037673950195, 'avg_loss': 70.30443890889485}\n"
     ]
    },
    {
     "name": "stderr",
     "output_type": "stream",
     "text": [
      "\u001b[34m\u001b[1mwandb\u001b[0m: Adding directory to artifact (/home/jupyter/ray_results/TorchTrainer_2022-09-07_21-06-06/TorchTrainer_f8df3500_25_batch_size=6.0000,format_version=4,future_num_frames=50,history_num_frames=5,model_architecture=resnet50,_2022-09-07_21-22-00/checkpoint_000002)... "
     ]
    },
    {
     "name": "stdout",
     "output_type": "stream",
     "text": [
      "Result for TorchTrainer_f8df3500:\n",
      "  _time_this_iter_s: 4.538066625595093\n",
      "  _timestamp: 1662585746\n",
      "  _training_iteration: 3\n",
      "  avg_loss: 70.30443890889485\n",
      "  date: 2022-09-07_21-22-26\n",
      "  done: false\n",
      "  experiment_id: 0454cfca86fa4aebb8278f28870bee72\n",
      "  hostname: anish-l5-kit\n",
      "  iterations_since_restore: 3\n",
      "  loss: 30.046037673950195\n",
      "  node_ip: 10.150.0.3\n",
      "  pid: 9097\n",
      "  should_checkpoint: true\n",
      "  time_since_restore: 22.39370584487915\n",
      "  time_this_iter_s: 4.518744707107544\n",
      "  time_total_s: 22.39370584487915\n",
      "  timestamp: 1662585746\n",
      "  timesteps_since_restore: 0\n",
      "  training_iteration: 3\n",
      "  trial_id: f8df3500\n",
      "  warmup_time: 0.004829883575439453\n",
      "  \n"
     ]
    },
    {
     "name": "stderr",
     "output_type": "stream",
     "text": [
      "Done. 1.0s\n"
     ]
    },
    {
     "name": "stdout",
     "output_type": "stream",
     "text": [
      "\u001b[2m\u001b[36m(RayTrainWorker pid=9571)\u001b[0m {'loss': 62.759769439697266, 'avg_loss': 68.41827154159546}\n"
     ]
    },
    {
     "name": "stderr",
     "output_type": "stream",
     "text": [
      "\u001b[34m\u001b[1mwandb\u001b[0m: Adding directory to artifact (/home/jupyter/ray_results/TorchTrainer_2022-09-07_21-06-06/TorchTrainer_f8df3500_25_batch_size=6.0000,format_version=4,future_num_frames=50,history_num_frames=5,model_architecture=resnet50,_2022-09-07_21-22-00/checkpoint_000003)... Done. 1.0s\n"
     ]
    },
    {
     "name": "stdout",
     "output_type": "stream",
     "text": [
      "\u001b[2m\u001b[36m(RayTrainWorker pid=9571)\u001b[0m {'loss': 121.65872955322266, 'avg_loss': 79.0663631439209}\n"
     ]
    },
    {
     "name": "stderr",
     "output_type": "stream",
     "text": [
      "\u001b[34m\u001b[1mwandb\u001b[0m: Adding directory to artifact (/home/jupyter/ray_results/TorchTrainer_2022-09-07_21-06-06/TorchTrainer_f8df3500_25_batch_size=6.0000,format_version=4,future_num_frames=50,history_num_frames=5,model_architecture=resnet50,_2022-09-07_21-22-00/checkpoint_000004)... "
     ]
    },
    {
     "name": "stdout",
     "output_type": "stream",
     "text": [
      "Result for TorchTrainer_f8df3500:\n",
      "  _time_this_iter_s: 4.393399715423584\n",
      "  _timestamp: 1662585755\n",
      "  _training_iteration: 5\n",
      "  avg_loss: 79.0663631439209\n",
      "  date: 2022-09-07_21-22-35\n",
      "  done: false\n",
      "  experiment_id: 0454cfca86fa4aebb8278f28870bee72\n",
      "  hostname: anish-l5-kit\n",
      "  iterations_since_restore: 5\n",
      "  loss: 121.65872955322266\n",
      "  node_ip: 10.150.0.3\n",
      "  pid: 9097\n",
      "  should_checkpoint: true\n",
      "  time_since_restore: 31.116479635238647\n",
      "  time_this_iter_s: 4.407530307769775\n",
      "  time_total_s: 31.116479635238647\n",
      "  timestamp: 1662585755\n",
      "  timesteps_since_restore: 0\n",
      "  training_iteration: 5\n",
      "  trial_id: f8df3500\n",
      "  warmup_time: 0.004829883575439453\n",
      "  \n"
     ]
    },
    {
     "name": "stderr",
     "output_type": "stream",
     "text": [
      "Done. 1.0s\n",
      "\u001b[34m\u001b[1mwandb\u001b[0m: Adding directory to artifact (/home/jupyter/ray_results/TorchTrainer_2022-09-07_21-06-06/TorchTrainer_f8df3500_25_batch_size=6.0000,format_version=4,future_num_frames=50,history_num_frames=5,model_architecture=resnet50,_2022-09-07_21-22-00/checkpoint_000004)... Done. 0.2s\n"
     ]
    },
    {
     "data": {
      "text/html": [
       "Waiting for W&B process to finish... <strong style=\"color:green\">(success).</strong>"
      ],
      "text/plain": [
       "<IPython.core.display.HTML object>"
      ]
     },
     "metadata": {},
     "output_type": "display_data"
    },
    {
     "data": {
      "application/vnd.jupyter.widget-view+json": {
       "model_id": "b5b5090e5e8541b19800deb458c52386",
       "version_major": 2,
       "version_minor": 0
      },
      "text/plain": [
       "VBox(children=(Label(value='456.836 MB of 456.836 MB uploaded (91.307 MB deduped)\\r'), FloatProgress(value=1.0…"
      ]
     },
     "metadata": {},
     "output_type": "display_data"
    },
    {
     "data": {
      "text/html": [
       "W&B sync reduced upload amount by 20.0%             "
      ],
      "text/plain": [
       "<IPython.core.display.HTML object>"
      ]
     },
     "metadata": {},
     "output_type": "display_data"
    },
    {
     "data": {
      "text/html": [
       "<style>\n",
       "    table.wandb td:nth-child(1) { padding: 0 10px; text-align: left ; width: auto;} td:nth-child(2) {text-align: left ; width: 100%}\n",
       "    .wandb-row { display: flex; flex-direction: row; flex-wrap: wrap; justify-content: flex-start; width: 100% }\n",
       "    .wandb-col { display: flex; flex-direction: column; flex-basis: 100%; flex: 1; padding: 10px; }\n",
       "    </style>\n",
       "<div class=\"wandb-row\"><div class=\"wandb-col\"><h3>Run history:</h3><br/><table class=\"wandb\"><tr><td>avg_loss</td><td>█▄▁▁▃</td></tr><tr><td>iterations_since_restore</td><td>▁▃▅▆█</td></tr><tr><td>loss</td><td>█▄▁▃█</td></tr><tr><td>time_since_restore</td><td>▁▃▅▆█</td></tr><tr><td>time_this_iter_s</td><td>█▁▁▁▁</td></tr><tr><td>time_total_s</td><td>▁▃▅▆█</td></tr><tr><td>timestamp</td><td>▁▃▅▆█</td></tr><tr><td>timesteps_since_restore</td><td>▁▁▁▁▁</td></tr><tr><td>training_iteration</td><td>▁▃▅▆█</td></tr><tr><td>warmup_time</td><td>▁▁▁▁▁</td></tr></table><br/></div><div class=\"wandb-col\"><h3>Run summary:</h3><br/><table class=\"wandb\"><tr><td>avg_loss</td><td>79.06636</td></tr><tr><td>iterations_since_restore</td><td>5</td></tr><tr><td>loss</td><td>121.65873</td></tr><tr><td>time_since_restore</td><td>31.11648</td></tr><tr><td>time_this_iter_s</td><td>4.40753</td></tr><tr><td>time_total_s</td><td>31.11648</td></tr><tr><td>timestamp</td><td>1662585755</td></tr><tr><td>timesteps_since_restore</td><td>0</td></tr><tr><td>training_iteration</td><td>5</td></tr><tr><td>warmup_time</td><td>0.00483</td></tr></table><br/></div></div>"
      ],
      "text/plain": [
       "<IPython.core.display.HTML object>"
      ]
     },
     "metadata": {},
     "output_type": "display_data"
    },
    {
     "data": {
      "text/html": [
       "Synced <strong style=\"color:#cdcd00\">TorchTrainer_f8df3500</strong>: <a href=\"https://wandb.ai/l5-demo/l5-simulation-trials/runs/f8df3500\" target=\"_blank\">https://wandb.ai/l5-demo/l5-simulation-trials/runs/f8df3500</a><br/>Synced 7 W&B file(s), 0 media file(s), 12 artifact file(s) and 1 other file(s)"
      ],
      "text/plain": [
       "<IPython.core.display.HTML object>"
      ]
     },
     "metadata": {},
     "output_type": "display_data"
    },
    {
     "data": {
      "text/html": [
       "Find logs at: <code>./wandb/run-20220907_212200-f8df3500/logs</code>"
      ],
      "text/plain": [
       "<IPython.core.display.HTML object>"
      ]
     },
     "metadata": {},
     "output_type": "display_data"
    },
    {
     "name": "stdout",
     "output_type": "stream",
     "text": [
      "Result for TorchTrainer_f8df3500:\n",
      "  _time_this_iter_s: 4.393399715423584\n",
      "  _timestamp: 1662585755\n",
      "  _training_iteration: 5\n",
      "  avg_loss: 79.0663631439209\n",
      "  date: 2022-09-07_21-22-35\n",
      "  done: true\n",
      "  experiment_id: 0454cfca86fa4aebb8278f28870bee72\n",
      "  experiment_tag: 25_batch_size=6.0000,format_version=4,future_num_frames=50,history_num_frames=5,model_architecture=resnet50,render_ego_history=False,step_time=0.1000,dataset_meta_key=meta_json,disable_traffic_light_faces=False,ego_center=0_25_0_5,filter_agents_threshold=0.5000,map_type=py_semantic,pixel_size=0_5_0_5,raster_size=224_224,satellite_map_key=aerial_map_aerial_map_png,semantic_map_key=semantic_map_semantic_map_pb,set_origin_to_bottom=True,batch_size=12,key=scenes_sample_zarr,num_workers=16,perturb_probability=0.0000,shuffle=True,checkpoint_every_n_steps=10000,eval_every_n_steps=10000,max_num_steps=5,batch_size=12,key=scenes_sample_zarr,num_workers=16,shuffle=False,dataset_key=scenes_sample_zarr,lr=0.0051,max_num_steps=5,num_workers=4,shuffle=True\n",
      "  hostname: anish-l5-kit\n",
      "  iterations_since_restore: 5\n",
      "  loss: 121.65872955322266\n",
      "  node_ip: 10.150.0.3\n",
      "  pid: 9097\n",
      "  should_checkpoint: true\n",
      "  time_since_restore: 31.116479635238647\n",
      "  time_this_iter_s: 4.407530307769775\n",
      "  time_total_s: 31.116479635238647\n",
      "  timestamp: 1662585755\n",
      "  timesteps_since_restore: 0\n",
      "  training_iteration: 5\n",
      "  trial_id: f8df3500\n",
      "  warmup_time: 0.004829883575439453\n",
      "  \n"
     ]
    },
    {
     "name": "stderr",
     "output_type": "stream",
     "text": [
      "2022-09-07 21:22:44,584\tINFO tune.py:759 -- Total run time: 997.96 seconds (997.79 seconds for the tuning loop).\n"
     ]
    }
   ],
   "source": [
    "analysis = tuner.fit()"
   ]
  },
  {
   "cell_type": "code",
   "execution_count": 35,
   "id": "0112cb72-7c85-438c-a12a-3d3c4b16e76e",
   "metadata": {},
   "outputs": [],
   "source": [
    "import time"
   ]
  },
  {
   "cell_type": "code",
   "execution_count": 36,
   "id": "9692b173-4808-47ce-b998-be4ed2148c3a",
   "metadata": {},
   "outputs": [],
   "source": [
    "time.sleep(30)"
   ]
  },
  {
   "cell_type": "code",
   "execution_count": 37,
   "id": "44744579-e543-496a-8be1-252fa141230f",
   "metadata": {},
   "outputs": [],
   "source": [
    "analysis_df = analysis.get_dataframe()"
   ]
  },
  {
   "cell_type": "code",
   "execution_count": 38,
   "id": "d7b02744-738e-45b2-8d9e-69a982f077ae",
   "metadata": {},
   "outputs": [
    {
     "data": {
      "text/html": [
       "<div>\n",
       "<style scoped>\n",
       "    .dataframe tbody tr th:only-of-type {\n",
       "        vertical-align: middle;\n",
       "    }\n",
       "\n",
       "    .dataframe tbody tr th {\n",
       "        vertical-align: top;\n",
       "    }\n",
       "\n",
       "    .dataframe thead th {\n",
       "        text-align: right;\n",
       "    }\n",
       "</style>\n",
       "<table border=\"1\" class=\"dataframe\">\n",
       "  <thead>\n",
       "    <tr style=\"text-align: right;\">\n",
       "      <th></th>\n",
       "      <th>loss</th>\n",
       "      <th>avg_loss</th>\n",
       "      <th>_timestamp</th>\n",
       "      <th>_time_this_iter_s</th>\n",
       "      <th>_training_iteration</th>\n",
       "      <th>time_this_iter_s</th>\n",
       "      <th>should_checkpoint</th>\n",
       "      <th>done</th>\n",
       "      <th>timesteps_total</th>\n",
       "      <th>episodes_total</th>\n",
       "      <th>...</th>\n",
       "      <th>config/train_loop_config/cfg/train_data_loader/perturb_probability</th>\n",
       "      <th>config/train_loop_config/cfg/train_data_loader/shuffle</th>\n",
       "      <th>config/train_loop_config/cfg/train_params/checkpoint_every_n_steps</th>\n",
       "      <th>config/train_loop_config/cfg/train_params/eval_every_n_steps</th>\n",
       "      <th>config/train_loop_config/cfg/train_params/max_num_steps</th>\n",
       "      <th>config/train_loop_config/cfg/val_data_loader/batch_size</th>\n",
       "      <th>config/train_loop_config/cfg/val_data_loader/key</th>\n",
       "      <th>config/train_loop_config/cfg/val_data_loader/num_workers</th>\n",
       "      <th>config/train_loop_config/cfg/val_data_loader/shuffle</th>\n",
       "      <th>logdir</th>\n",
       "    </tr>\n",
       "  </thead>\n",
       "  <tbody>\n",
       "    <tr>\n",
       "      <th>0</th>\n",
       "      <td>74.567551</td>\n",
       "      <td>77.843877</td>\n",
       "      <td>1662584829</td>\n",
       "      <td>9.905044</td>\n",
       "      <td>5</td>\n",
       "      <td>9.896055</td>\n",
       "      <td>True</td>\n",
       "      <td>False</td>\n",
       "      <td>NaN</td>\n",
       "      <td>NaN</td>\n",
       "      <td>...</td>\n",
       "      <td>0.0</td>\n",
       "      <td>True</td>\n",
       "      <td>10000</td>\n",
       "      <td>10000</td>\n",
       "      <td>5</td>\n",
       "      <td>12</td>\n",
       "      <td>scenes/sample.zarr</td>\n",
       "      <td>16</td>\n",
       "      <td>False</td>\n",
       "      <td>/home/jupyter/ray_results/TorchTrainer_2022-09...</td>\n",
       "    </tr>\n",
       "    <tr>\n",
       "      <th>1</th>\n",
       "      <td>67.728432</td>\n",
       "      <td>90.870517</td>\n",
       "      <td>1662584862</td>\n",
       "      <td>16.227512</td>\n",
       "      <td>5</td>\n",
       "      <td>16.154536</td>\n",
       "      <td>True</td>\n",
       "      <td>False</td>\n",
       "      <td>NaN</td>\n",
       "      <td>NaN</td>\n",
       "      <td>...</td>\n",
       "      <td>0.0</td>\n",
       "      <td>True</td>\n",
       "      <td>10000</td>\n",
       "      <td>10000</td>\n",
       "      <td>5</td>\n",
       "      <td>12</td>\n",
       "      <td>scenes/sample.zarr</td>\n",
       "      <td>16</td>\n",
       "      <td>False</td>\n",
       "      <td>/home/jupyter/ray_results/TorchTrainer_2022-09...</td>\n",
       "    </tr>\n",
       "    <tr>\n",
       "      <th>2</th>\n",
       "      <td>17.969776</td>\n",
       "      <td>35.895309</td>\n",
       "      <td>1662584903</td>\n",
       "      <td>9.094891</td>\n",
       "      <td>5</td>\n",
       "      <td>9.252898</td>\n",
       "      <td>True</td>\n",
       "      <td>False</td>\n",
       "      <td>NaN</td>\n",
       "      <td>NaN</td>\n",
       "      <td>...</td>\n",
       "      <td>0.0</td>\n",
       "      <td>True</td>\n",
       "      <td>10000</td>\n",
       "      <td>10000</td>\n",
       "      <td>5</td>\n",
       "      <td>12</td>\n",
       "      <td>scenes/sample.zarr</td>\n",
       "      <td>16</td>\n",
       "      <td>False</td>\n",
       "      <td>/home/jupyter/ray_results/TorchTrainer_2022-09...</td>\n",
       "    </tr>\n",
       "    <tr>\n",
       "      <th>3</th>\n",
       "      <td>5.845992</td>\n",
       "      <td>98.969687</td>\n",
       "      <td>1662584913</td>\n",
       "      <td>5.566701</td>\n",
       "      <td>5</td>\n",
       "      <td>5.570402</td>\n",
       "      <td>True</td>\n",
       "      <td>False</td>\n",
       "      <td>NaN</td>\n",
       "      <td>NaN</td>\n",
       "      <td>...</td>\n",
       "      <td>0.0</td>\n",
       "      <td>True</td>\n",
       "      <td>10000</td>\n",
       "      <td>10000</td>\n",
       "      <td>5</td>\n",
       "      <td>12</td>\n",
       "      <td>scenes/sample.zarr</td>\n",
       "      <td>16</td>\n",
       "      <td>False</td>\n",
       "      <td>/home/jupyter/ray_results/TorchTrainer_2022-09...</td>\n",
       "    </tr>\n",
       "    <tr>\n",
       "      <th>4</th>\n",
       "      <td>138.551712</td>\n",
       "      <td>41.856454</td>\n",
       "      <td>1662584968</td>\n",
       "      <td>4.608834</td>\n",
       "      <td>5</td>\n",
       "      <td>4.618596</td>\n",
       "      <td>True</td>\n",
       "      <td>False</td>\n",
       "      <td>NaN</td>\n",
       "      <td>NaN</td>\n",
       "      <td>...</td>\n",
       "      <td>0.0</td>\n",
       "      <td>True</td>\n",
       "      <td>10000</td>\n",
       "      <td>10000</td>\n",
       "      <td>5</td>\n",
       "      <td>12</td>\n",
       "      <td>scenes/sample.zarr</td>\n",
       "      <td>16</td>\n",
       "      <td>False</td>\n",
       "      <td>/home/jupyter/ray_results/TorchTrainer_2022-09...</td>\n",
       "    </tr>\n",
       "    <tr>\n",
       "      <th>5</th>\n",
       "      <td>47.916885</td>\n",
       "      <td>59.969492</td>\n",
       "      <td>1662585013</td>\n",
       "      <td>14.004685</td>\n",
       "      <td>5</td>\n",
       "      <td>13.904366</td>\n",
       "      <td>True</td>\n",
       "      <td>False</td>\n",
       "      <td>NaN</td>\n",
       "      <td>NaN</td>\n",
       "      <td>...</td>\n",
       "      <td>0.0</td>\n",
       "      <td>True</td>\n",
       "      <td>10000</td>\n",
       "      <td>10000</td>\n",
       "      <td>5</td>\n",
       "      <td>12</td>\n",
       "      <td>scenes/sample.zarr</td>\n",
       "      <td>16</td>\n",
       "      <td>False</td>\n",
       "      <td>/home/jupyter/ray_results/TorchTrainer_2022-09...</td>\n",
       "    </tr>\n",
       "    <tr>\n",
       "      <th>6</th>\n",
       "      <td>14.776404</td>\n",
       "      <td>42.043575</td>\n",
       "      <td>1662585061</td>\n",
       "      <td>12.540035</td>\n",
       "      <td>5</td>\n",
       "      <td>13.211249</td>\n",
       "      <td>True</td>\n",
       "      <td>False</td>\n",
       "      <td>NaN</td>\n",
       "      <td>NaN</td>\n",
       "      <td>...</td>\n",
       "      <td>0.0</td>\n",
       "      <td>True</td>\n",
       "      <td>10000</td>\n",
       "      <td>10000</td>\n",
       "      <td>5</td>\n",
       "      <td>12</td>\n",
       "      <td>scenes/sample.zarr</td>\n",
       "      <td>16</td>\n",
       "      <td>False</td>\n",
       "      <td>/home/jupyter/ray_results/TorchTrainer_2022-09...</td>\n",
       "    </tr>\n",
       "    <tr>\n",
       "      <th>7</th>\n",
       "      <td>93.338753</td>\n",
       "      <td>68.701921</td>\n",
       "      <td>1662585114</td>\n",
       "      <td>12.791445</td>\n",
       "      <td>5</td>\n",
       "      <td>12.706946</td>\n",
       "      <td>True</td>\n",
       "      <td>False</td>\n",
       "      <td>NaN</td>\n",
       "      <td>NaN</td>\n",
       "      <td>...</td>\n",
       "      <td>0.0</td>\n",
       "      <td>True</td>\n",
       "      <td>10000</td>\n",
       "      <td>10000</td>\n",
       "      <td>5</td>\n",
       "      <td>12</td>\n",
       "      <td>scenes/sample.zarr</td>\n",
       "      <td>16</td>\n",
       "      <td>False</td>\n",
       "      <td>/home/jupyter/ray_results/TorchTrainer_2022-09...</td>\n",
       "    </tr>\n",
       "    <tr>\n",
       "      <th>8</th>\n",
       "      <td>37.867397</td>\n",
       "      <td>52.506245</td>\n",
       "      <td>1662585183</td>\n",
       "      <td>18.638955</td>\n",
       "      <td>5</td>\n",
       "      <td>18.685607</td>\n",
       "      <td>True</td>\n",
       "      <td>False</td>\n",
       "      <td>NaN</td>\n",
       "      <td>NaN</td>\n",
       "      <td>...</td>\n",
       "      <td>0.0</td>\n",
       "      <td>True</td>\n",
       "      <td>10000</td>\n",
       "      <td>10000</td>\n",
       "      <td>5</td>\n",
       "      <td>12</td>\n",
       "      <td>scenes/sample.zarr</td>\n",
       "      <td>16</td>\n",
       "      <td>False</td>\n",
       "      <td>/home/jupyter/ray_results/TorchTrainer_2022-09...</td>\n",
       "    </tr>\n",
       "    <tr>\n",
       "      <th>9</th>\n",
       "      <td>119.398010</td>\n",
       "      <td>69.863711</td>\n",
       "      <td>1662585186</td>\n",
       "      <td>9.733388</td>\n",
       "      <td>5</td>\n",
       "      <td>9.714789</td>\n",
       "      <td>True</td>\n",
       "      <td>False</td>\n",
       "      <td>NaN</td>\n",
       "      <td>NaN</td>\n",
       "      <td>...</td>\n",
       "      <td>0.0</td>\n",
       "      <td>True</td>\n",
       "      <td>10000</td>\n",
       "      <td>10000</td>\n",
       "      <td>5</td>\n",
       "      <td>12</td>\n",
       "      <td>scenes/sample.zarr</td>\n",
       "      <td>16</td>\n",
       "      <td>False</td>\n",
       "      <td>/home/jupyter/ray_results/TorchTrainer_2022-09...</td>\n",
       "    </tr>\n",
       "    <tr>\n",
       "      <th>10</th>\n",
       "      <td>30.556293</td>\n",
       "      <td>60.172060</td>\n",
       "      <td>1662585265</td>\n",
       "      <td>8.762526</td>\n",
       "      <td>5</td>\n",
       "      <td>8.866872</td>\n",
       "      <td>True</td>\n",
       "      <td>False</td>\n",
       "      <td>NaN</td>\n",
       "      <td>NaN</td>\n",
       "      <td>...</td>\n",
       "      <td>0.0</td>\n",
       "      <td>True</td>\n",
       "      <td>10000</td>\n",
       "      <td>10000</td>\n",
       "      <td>5</td>\n",
       "      <td>12</td>\n",
       "      <td>scenes/sample.zarr</td>\n",
       "      <td>16</td>\n",
       "      <td>False</td>\n",
       "      <td>/home/jupyter/ray_results/TorchTrainer_2022-09...</td>\n",
       "    </tr>\n",
       "    <tr>\n",
       "      <th>11</th>\n",
       "      <td>83.031891</td>\n",
       "      <td>75.485645</td>\n",
       "      <td>1662585317</td>\n",
       "      <td>19.316640</td>\n",
       "      <td>5</td>\n",
       "      <td>19.443890</td>\n",
       "      <td>True</td>\n",
       "      <td>False</td>\n",
       "      <td>NaN</td>\n",
       "      <td>NaN</td>\n",
       "      <td>...</td>\n",
       "      <td>0.0</td>\n",
       "      <td>True</td>\n",
       "      <td>10000</td>\n",
       "      <td>10000</td>\n",
       "      <td>5</td>\n",
       "      <td>12</td>\n",
       "      <td>scenes/sample.zarr</td>\n",
       "      <td>16</td>\n",
       "      <td>False</td>\n",
       "      <td>/home/jupyter/ray_results/TorchTrainer_2022-09...</td>\n",
       "    </tr>\n",
       "    <tr>\n",
       "      <th>12</th>\n",
       "      <td>80.137100</td>\n",
       "      <td>104.617807</td>\n",
       "      <td>1662585387</td>\n",
       "      <td>18.033401</td>\n",
       "      <td>5</td>\n",
       "      <td>18.102616</td>\n",
       "      <td>True</td>\n",
       "      <td>False</td>\n",
       "      <td>NaN</td>\n",
       "      <td>NaN</td>\n",
       "      <td>...</td>\n",
       "      <td>0.0</td>\n",
       "      <td>True</td>\n",
       "      <td>10000</td>\n",
       "      <td>10000</td>\n",
       "      <td>5</td>\n",
       "      <td>12</td>\n",
       "      <td>scenes/sample.zarr</td>\n",
       "      <td>16</td>\n",
       "      <td>False</td>\n",
       "      <td>/home/jupyter/ray_results/TorchTrainer_2022-09...</td>\n",
       "    </tr>\n",
       "    <tr>\n",
       "      <th>13</th>\n",
       "      <td>99.006317</td>\n",
       "      <td>69.042364</td>\n",
       "      <td>1662585368</td>\n",
       "      <td>4.992352</td>\n",
       "      <td>5</td>\n",
       "      <td>4.948109</td>\n",
       "      <td>True</td>\n",
       "      <td>False</td>\n",
       "      <td>NaN</td>\n",
       "      <td>NaN</td>\n",
       "      <td>...</td>\n",
       "      <td>0.0</td>\n",
       "      <td>True</td>\n",
       "      <td>10000</td>\n",
       "      <td>10000</td>\n",
       "      <td>5</td>\n",
       "      <td>12</td>\n",
       "      <td>scenes/sample.zarr</td>\n",
       "      <td>16</td>\n",
       "      <td>False</td>\n",
       "      <td>/home/jupyter/ray_results/TorchTrainer_2022-09...</td>\n",
       "    </tr>\n",
       "    <tr>\n",
       "      <th>14</th>\n",
       "      <td>102.972916</td>\n",
       "      <td>52.991617</td>\n",
       "      <td>1662585423</td>\n",
       "      <td>6.303596</td>\n",
       "      <td>5</td>\n",
       "      <td>6.223297</td>\n",
       "      <td>True</td>\n",
       "      <td>False</td>\n",
       "      <td>NaN</td>\n",
       "      <td>NaN</td>\n",
       "      <td>...</td>\n",
       "      <td>0.0</td>\n",
       "      <td>True</td>\n",
       "      <td>10000</td>\n",
       "      <td>10000</td>\n",
       "      <td>5</td>\n",
       "      <td>12</td>\n",
       "      <td>scenes/sample.zarr</td>\n",
       "      <td>16</td>\n",
       "      <td>False</td>\n",
       "      <td>/home/jupyter/ray_results/TorchTrainer_2022-09...</td>\n",
       "    </tr>\n",
       "    <tr>\n",
       "      <th>15</th>\n",
       "      <td>20.474499</td>\n",
       "      <td>44.611433</td>\n",
       "      <td>1662585440</td>\n",
       "      <td>6.072742</td>\n",
       "      <td>5</td>\n",
       "      <td>6.116277</td>\n",
       "      <td>True</td>\n",
       "      <td>False</td>\n",
       "      <td>NaN</td>\n",
       "      <td>NaN</td>\n",
       "      <td>...</td>\n",
       "      <td>0.0</td>\n",
       "      <td>True</td>\n",
       "      <td>10000</td>\n",
       "      <td>10000</td>\n",
       "      <td>5</td>\n",
       "      <td>12</td>\n",
       "      <td>scenes/sample.zarr</td>\n",
       "      <td>16</td>\n",
       "      <td>False</td>\n",
       "      <td>/home/jupyter/ray_results/TorchTrainer_2022-09...</td>\n",
       "    </tr>\n",
       "    <tr>\n",
       "      <th>16</th>\n",
       "      <td>69.951797</td>\n",
       "      <td>66.704555</td>\n",
       "      <td>1662585476</td>\n",
       "      <td>5.180277</td>\n",
       "      <td>5</td>\n",
       "      <td>5.256889</td>\n",
       "      <td>True</td>\n",
       "      <td>False</td>\n",
       "      <td>NaN</td>\n",
       "      <td>NaN</td>\n",
       "      <td>...</td>\n",
       "      <td>0.0</td>\n",
       "      <td>True</td>\n",
       "      <td>10000</td>\n",
       "      <td>10000</td>\n",
       "      <td>5</td>\n",
       "      <td>12</td>\n",
       "      <td>scenes/sample.zarr</td>\n",
       "      <td>16</td>\n",
       "      <td>False</td>\n",
       "      <td>/home/jupyter/ray_results/TorchTrainer_2022-09...</td>\n",
       "    </tr>\n",
       "    <tr>\n",
       "      <th>17</th>\n",
       "      <td>59.811642</td>\n",
       "      <td>29.478269</td>\n",
       "      <td>1662585499</td>\n",
       "      <td>7.015083</td>\n",
       "      <td>5</td>\n",
       "      <td>6.983032</td>\n",
       "      <td>True</td>\n",
       "      <td>False</td>\n",
       "      <td>NaN</td>\n",
       "      <td>NaN</td>\n",
       "      <td>...</td>\n",
       "      <td>0.0</td>\n",
       "      <td>True</td>\n",
       "      <td>10000</td>\n",
       "      <td>10000</td>\n",
       "      <td>5</td>\n",
       "      <td>12</td>\n",
       "      <td>scenes/sample.zarr</td>\n",
       "      <td>16</td>\n",
       "      <td>False</td>\n",
       "      <td>/home/jupyter/ray_results/TorchTrainer_2022-09...</td>\n",
       "    </tr>\n",
       "    <tr>\n",
       "      <th>18</th>\n",
       "      <td>35.240585</td>\n",
       "      <td>74.882663</td>\n",
       "      <td>1662585552</td>\n",
       "      <td>8.762531</td>\n",
       "      <td>5</td>\n",
       "      <td>8.830096</td>\n",
       "      <td>True</td>\n",
       "      <td>False</td>\n",
       "      <td>NaN</td>\n",
       "      <td>NaN</td>\n",
       "      <td>...</td>\n",
       "      <td>0.0</td>\n",
       "      <td>True</td>\n",
       "      <td>10000</td>\n",
       "      <td>10000</td>\n",
       "      <td>5</td>\n",
       "      <td>12</td>\n",
       "      <td>scenes/sample.zarr</td>\n",
       "      <td>16</td>\n",
       "      <td>False</td>\n",
       "      <td>/home/jupyter/ray_results/TorchTrainer_2022-09...</td>\n",
       "    </tr>\n",
       "    <tr>\n",
       "      <th>19</th>\n",
       "      <td>16.466715</td>\n",
       "      <td>89.648233</td>\n",
       "      <td>1662585575</td>\n",
       "      <td>11.547380</td>\n",
       "      <td>5</td>\n",
       "      <td>11.523568</td>\n",
       "      <td>True</td>\n",
       "      <td>False</td>\n",
       "      <td>NaN</td>\n",
       "      <td>NaN</td>\n",
       "      <td>...</td>\n",
       "      <td>0.0</td>\n",
       "      <td>True</td>\n",
       "      <td>10000</td>\n",
       "      <td>10000</td>\n",
       "      <td>5</td>\n",
       "      <td>12</td>\n",
       "      <td>scenes/sample.zarr</td>\n",
       "      <td>16</td>\n",
       "      <td>False</td>\n",
       "      <td>/home/jupyter/ray_results/TorchTrainer_2022-09...</td>\n",
       "    </tr>\n",
       "    <tr>\n",
       "      <th>20</th>\n",
       "      <td>77.213943</td>\n",
       "      <td>72.152029</td>\n",
       "      <td>1662585628</td>\n",
       "      <td>8.776428</td>\n",
       "      <td>5</td>\n",
       "      <td>8.780815</td>\n",
       "      <td>True</td>\n",
       "      <td>False</td>\n",
       "      <td>NaN</td>\n",
       "      <td>NaN</td>\n",
       "      <td>...</td>\n",
       "      <td>0.0</td>\n",
       "      <td>True</td>\n",
       "      <td>10000</td>\n",
       "      <td>10000</td>\n",
       "      <td>5</td>\n",
       "      <td>12</td>\n",
       "      <td>scenes/sample.zarr</td>\n",
       "      <td>16</td>\n",
       "      <td>False</td>\n",
       "      <td>/home/jupyter/ray_results/TorchTrainer_2022-09...</td>\n",
       "    </tr>\n",
       "    <tr>\n",
       "      <th>21</th>\n",
       "      <td>120.211121</td>\n",
       "      <td>96.839024</td>\n",
       "      <td>1662585650</td>\n",
       "      <td>11.878910</td>\n",
       "      <td>5</td>\n",
       "      <td>11.823947</td>\n",
       "      <td>True</td>\n",
       "      <td>False</td>\n",
       "      <td>NaN</td>\n",
       "      <td>NaN</td>\n",
       "      <td>...</td>\n",
       "      <td>0.0</td>\n",
       "      <td>True</td>\n",
       "      <td>10000</td>\n",
       "      <td>10000</td>\n",
       "      <td>5</td>\n",
       "      <td>12</td>\n",
       "      <td>scenes/sample.zarr</td>\n",
       "      <td>16</td>\n",
       "      <td>False</td>\n",
       "      <td>/home/jupyter/ray_results/TorchTrainer_2022-09...</td>\n",
       "    </tr>\n",
       "    <tr>\n",
       "      <th>22</th>\n",
       "      <td>49.465858</td>\n",
       "      <td>74.315989</td>\n",
       "      <td>1662585705</td>\n",
       "      <td>8.978967</td>\n",
       "      <td>5</td>\n",
       "      <td>8.935523</td>\n",
       "      <td>True</td>\n",
       "      <td>False</td>\n",
       "      <td>NaN</td>\n",
       "      <td>NaN</td>\n",
       "      <td>...</td>\n",
       "      <td>0.0</td>\n",
       "      <td>True</td>\n",
       "      <td>10000</td>\n",
       "      <td>10000</td>\n",
       "      <td>5</td>\n",
       "      <td>12</td>\n",
       "      <td>scenes/sample.zarr</td>\n",
       "      <td>16</td>\n",
       "      <td>False</td>\n",
       "      <td>/home/jupyter/ray_results/TorchTrainer_2022-09...</td>\n",
       "    </tr>\n",
       "    <tr>\n",
       "      <th>23</th>\n",
       "      <td>64.125519</td>\n",
       "      <td>86.629875</td>\n",
       "      <td>1662585702</td>\n",
       "      <td>4.865289</td>\n",
       "      <td>5</td>\n",
       "      <td>4.816710</td>\n",
       "      <td>True</td>\n",
       "      <td>False</td>\n",
       "      <td>NaN</td>\n",
       "      <td>NaN</td>\n",
       "      <td>...</td>\n",
       "      <td>0.0</td>\n",
       "      <td>True</td>\n",
       "      <td>10000</td>\n",
       "      <td>10000</td>\n",
       "      <td>5</td>\n",
       "      <td>12</td>\n",
       "      <td>scenes/sample.zarr</td>\n",
       "      <td>16</td>\n",
       "      <td>False</td>\n",
       "      <td>/home/jupyter/ray_results/TorchTrainer_2022-09...</td>\n",
       "    </tr>\n",
       "    <tr>\n",
       "      <th>24</th>\n",
       "      <td>121.658730</td>\n",
       "      <td>79.066363</td>\n",
       "      <td>1662585755</td>\n",
       "      <td>4.393400</td>\n",
       "      <td>5</td>\n",
       "      <td>4.407530</td>\n",
       "      <td>True</td>\n",
       "      <td>False</td>\n",
       "      <td>NaN</td>\n",
       "      <td>NaN</td>\n",
       "      <td>...</td>\n",
       "      <td>0.0</td>\n",
       "      <td>True</td>\n",
       "      <td>10000</td>\n",
       "      <td>10000</td>\n",
       "      <td>5</td>\n",
       "      <td>12</td>\n",
       "      <td>scenes/sample.zarr</td>\n",
       "      <td>16</td>\n",
       "      <td>False</td>\n",
       "      <td>/home/jupyter/ray_results/TorchTrainer_2022-09...</td>\n",
       "    </tr>\n",
       "  </tbody>\n",
       "</table>\n",
       "<p>25 rows × 58 columns</p>\n",
       "</div>"
      ],
      "text/plain": [
       "          loss    avg_loss  _timestamp  _time_this_iter_s  \\\n",
       "0    74.567551   77.843877  1662584829           9.905044   \n",
       "1    67.728432   90.870517  1662584862          16.227512   \n",
       "2    17.969776   35.895309  1662584903           9.094891   \n",
       "3     5.845992   98.969687  1662584913           5.566701   \n",
       "4   138.551712   41.856454  1662584968           4.608834   \n",
       "5    47.916885   59.969492  1662585013          14.004685   \n",
       "6    14.776404   42.043575  1662585061          12.540035   \n",
       "7    93.338753   68.701921  1662585114          12.791445   \n",
       "8    37.867397   52.506245  1662585183          18.638955   \n",
       "9   119.398010   69.863711  1662585186           9.733388   \n",
       "10   30.556293   60.172060  1662585265           8.762526   \n",
       "11   83.031891   75.485645  1662585317          19.316640   \n",
       "12   80.137100  104.617807  1662585387          18.033401   \n",
       "13   99.006317   69.042364  1662585368           4.992352   \n",
       "14  102.972916   52.991617  1662585423           6.303596   \n",
       "15   20.474499   44.611433  1662585440           6.072742   \n",
       "16   69.951797   66.704555  1662585476           5.180277   \n",
       "17   59.811642   29.478269  1662585499           7.015083   \n",
       "18   35.240585   74.882663  1662585552           8.762531   \n",
       "19   16.466715   89.648233  1662585575          11.547380   \n",
       "20   77.213943   72.152029  1662585628           8.776428   \n",
       "21  120.211121   96.839024  1662585650          11.878910   \n",
       "22   49.465858   74.315989  1662585705           8.978967   \n",
       "23   64.125519   86.629875  1662585702           4.865289   \n",
       "24  121.658730   79.066363  1662585755           4.393400   \n",
       "\n",
       "    _training_iteration  time_this_iter_s  should_checkpoint   done  \\\n",
       "0                     5          9.896055               True  False   \n",
       "1                     5         16.154536               True  False   \n",
       "2                     5          9.252898               True  False   \n",
       "3                     5          5.570402               True  False   \n",
       "4                     5          4.618596               True  False   \n",
       "5                     5         13.904366               True  False   \n",
       "6                     5         13.211249               True  False   \n",
       "7                     5         12.706946               True  False   \n",
       "8                     5         18.685607               True  False   \n",
       "9                     5          9.714789               True  False   \n",
       "10                    5          8.866872               True  False   \n",
       "11                    5         19.443890               True  False   \n",
       "12                    5         18.102616               True  False   \n",
       "13                    5          4.948109               True  False   \n",
       "14                    5          6.223297               True  False   \n",
       "15                    5          6.116277               True  False   \n",
       "16                    5          5.256889               True  False   \n",
       "17                    5          6.983032               True  False   \n",
       "18                    5          8.830096               True  False   \n",
       "19                    5         11.523568               True  False   \n",
       "20                    5          8.780815               True  False   \n",
       "21                    5         11.823947               True  False   \n",
       "22                    5          8.935523               True  False   \n",
       "23                    5          4.816710               True  False   \n",
       "24                    5          4.407530               True  False   \n",
       "\n",
       "    timesteps_total  episodes_total  ...  \\\n",
       "0               NaN             NaN  ...   \n",
       "1               NaN             NaN  ...   \n",
       "2               NaN             NaN  ...   \n",
       "3               NaN             NaN  ...   \n",
       "4               NaN             NaN  ...   \n",
       "5               NaN             NaN  ...   \n",
       "6               NaN             NaN  ...   \n",
       "7               NaN             NaN  ...   \n",
       "8               NaN             NaN  ...   \n",
       "9               NaN             NaN  ...   \n",
       "10              NaN             NaN  ...   \n",
       "11              NaN             NaN  ...   \n",
       "12              NaN             NaN  ...   \n",
       "13              NaN             NaN  ...   \n",
       "14              NaN             NaN  ...   \n",
       "15              NaN             NaN  ...   \n",
       "16              NaN             NaN  ...   \n",
       "17              NaN             NaN  ...   \n",
       "18              NaN             NaN  ...   \n",
       "19              NaN             NaN  ...   \n",
       "20              NaN             NaN  ...   \n",
       "21              NaN             NaN  ...   \n",
       "22              NaN             NaN  ...   \n",
       "23              NaN             NaN  ...   \n",
       "24              NaN             NaN  ...   \n",
       "\n",
       "    config/train_loop_config/cfg/train_data_loader/perturb_probability  \\\n",
       "0                                                 0.0                    \n",
       "1                                                 0.0                    \n",
       "2                                                 0.0                    \n",
       "3                                                 0.0                    \n",
       "4                                                 0.0                    \n",
       "5                                                 0.0                    \n",
       "6                                                 0.0                    \n",
       "7                                                 0.0                    \n",
       "8                                                 0.0                    \n",
       "9                                                 0.0                    \n",
       "10                                                0.0                    \n",
       "11                                                0.0                    \n",
       "12                                                0.0                    \n",
       "13                                                0.0                    \n",
       "14                                                0.0                    \n",
       "15                                                0.0                    \n",
       "16                                                0.0                    \n",
       "17                                                0.0                    \n",
       "18                                                0.0                    \n",
       "19                                                0.0                    \n",
       "20                                                0.0                    \n",
       "21                                                0.0                    \n",
       "22                                                0.0                    \n",
       "23                                                0.0                    \n",
       "24                                                0.0                    \n",
       "\n",
       "   config/train_loop_config/cfg/train_data_loader/shuffle  \\\n",
       "0                                                True       \n",
       "1                                                True       \n",
       "2                                                True       \n",
       "3                                                True       \n",
       "4                                                True       \n",
       "5                                                True       \n",
       "6                                                True       \n",
       "7                                                True       \n",
       "8                                                True       \n",
       "9                                                True       \n",
       "10                                               True       \n",
       "11                                               True       \n",
       "12                                               True       \n",
       "13                                               True       \n",
       "14                                               True       \n",
       "15                                               True       \n",
       "16                                               True       \n",
       "17                                               True       \n",
       "18                                               True       \n",
       "19                                               True       \n",
       "20                                               True       \n",
       "21                                               True       \n",
       "22                                               True       \n",
       "23                                               True       \n",
       "24                                               True       \n",
       "\n",
       "   config/train_loop_config/cfg/train_params/checkpoint_every_n_steps  \\\n",
       "0                                               10000                   \n",
       "1                                               10000                   \n",
       "2                                               10000                   \n",
       "3                                               10000                   \n",
       "4                                               10000                   \n",
       "5                                               10000                   \n",
       "6                                               10000                   \n",
       "7                                               10000                   \n",
       "8                                               10000                   \n",
       "9                                               10000                   \n",
       "10                                              10000                   \n",
       "11                                              10000                   \n",
       "12                                              10000                   \n",
       "13                                              10000                   \n",
       "14                                              10000                   \n",
       "15                                              10000                   \n",
       "16                                              10000                   \n",
       "17                                              10000                   \n",
       "18                                              10000                   \n",
       "19                                              10000                   \n",
       "20                                              10000                   \n",
       "21                                              10000                   \n",
       "22                                              10000                   \n",
       "23                                              10000                   \n",
       "24                                              10000                   \n",
       "\n",
       "   config/train_loop_config/cfg/train_params/eval_every_n_steps  \\\n",
       "0                                               10000             \n",
       "1                                               10000             \n",
       "2                                               10000             \n",
       "3                                               10000             \n",
       "4                                               10000             \n",
       "5                                               10000             \n",
       "6                                               10000             \n",
       "7                                               10000             \n",
       "8                                               10000             \n",
       "9                                               10000             \n",
       "10                                              10000             \n",
       "11                                              10000             \n",
       "12                                              10000             \n",
       "13                                              10000             \n",
       "14                                              10000             \n",
       "15                                              10000             \n",
       "16                                              10000             \n",
       "17                                              10000             \n",
       "18                                              10000             \n",
       "19                                              10000             \n",
       "20                                              10000             \n",
       "21                                              10000             \n",
       "22                                              10000             \n",
       "23                                              10000             \n",
       "24                                              10000             \n",
       "\n",
       "    config/train_loop_config/cfg/train_params/max_num_steps  \\\n",
       "0                                                   5         \n",
       "1                                                   5         \n",
       "2                                                   5         \n",
       "3                                                   5         \n",
       "4                                                   5         \n",
       "5                                                   5         \n",
       "6                                                   5         \n",
       "7                                                   5         \n",
       "8                                                   5         \n",
       "9                                                   5         \n",
       "10                                                  5         \n",
       "11                                                  5         \n",
       "12                                                  5         \n",
       "13                                                  5         \n",
       "14                                                  5         \n",
       "15                                                  5         \n",
       "16                                                  5         \n",
       "17                                                  5         \n",
       "18                                                  5         \n",
       "19                                                  5         \n",
       "20                                                  5         \n",
       "21                                                  5         \n",
       "22                                                  5         \n",
       "23                                                  5         \n",
       "24                                                  5         \n",
       "\n",
       "    config/train_loop_config/cfg/val_data_loader/batch_size  \\\n",
       "0                                                  12         \n",
       "1                                                  12         \n",
       "2                                                  12         \n",
       "3                                                  12         \n",
       "4                                                  12         \n",
       "5                                                  12         \n",
       "6                                                  12         \n",
       "7                                                  12         \n",
       "8                                                  12         \n",
       "9                                                  12         \n",
       "10                                                 12         \n",
       "11                                                 12         \n",
       "12                                                 12         \n",
       "13                                                 12         \n",
       "14                                                 12         \n",
       "15                                                 12         \n",
       "16                                                 12         \n",
       "17                                                 12         \n",
       "18                                                 12         \n",
       "19                                                 12         \n",
       "20                                                 12         \n",
       "21                                                 12         \n",
       "22                                                 12         \n",
       "23                                                 12         \n",
       "24                                                 12         \n",
       "\n",
       "    config/train_loop_config/cfg/val_data_loader/key  \\\n",
       "0                                 scenes/sample.zarr   \n",
       "1                                 scenes/sample.zarr   \n",
       "2                                 scenes/sample.zarr   \n",
       "3                                 scenes/sample.zarr   \n",
       "4                                 scenes/sample.zarr   \n",
       "5                                 scenes/sample.zarr   \n",
       "6                                 scenes/sample.zarr   \n",
       "7                                 scenes/sample.zarr   \n",
       "8                                 scenes/sample.zarr   \n",
       "9                                 scenes/sample.zarr   \n",
       "10                                scenes/sample.zarr   \n",
       "11                                scenes/sample.zarr   \n",
       "12                                scenes/sample.zarr   \n",
       "13                                scenes/sample.zarr   \n",
       "14                                scenes/sample.zarr   \n",
       "15                                scenes/sample.zarr   \n",
       "16                                scenes/sample.zarr   \n",
       "17                                scenes/sample.zarr   \n",
       "18                                scenes/sample.zarr   \n",
       "19                                scenes/sample.zarr   \n",
       "20                                scenes/sample.zarr   \n",
       "21                                scenes/sample.zarr   \n",
       "22                                scenes/sample.zarr   \n",
       "23                                scenes/sample.zarr   \n",
       "24                                scenes/sample.zarr   \n",
       "\n",
       "   config/train_loop_config/cfg/val_data_loader/num_workers  \\\n",
       "0                                                  16         \n",
       "1                                                  16         \n",
       "2                                                  16         \n",
       "3                                                  16         \n",
       "4                                                  16         \n",
       "5                                                  16         \n",
       "6                                                  16         \n",
       "7                                                  16         \n",
       "8                                                  16         \n",
       "9                                                  16         \n",
       "10                                                 16         \n",
       "11                                                 16         \n",
       "12                                                 16         \n",
       "13                                                 16         \n",
       "14                                                 16         \n",
       "15                                                 16         \n",
       "16                                                 16         \n",
       "17                                                 16         \n",
       "18                                                 16         \n",
       "19                                                 16         \n",
       "20                                                 16         \n",
       "21                                                 16         \n",
       "22                                                 16         \n",
       "23                                                 16         \n",
       "24                                                 16         \n",
       "\n",
       "   config/train_loop_config/cfg/val_data_loader/shuffle  \\\n",
       "0                                               False     \n",
       "1                                               False     \n",
       "2                                               False     \n",
       "3                                               False     \n",
       "4                                               False     \n",
       "5                                               False     \n",
       "6                                               False     \n",
       "7                                               False     \n",
       "8                                               False     \n",
       "9                                               False     \n",
       "10                                              False     \n",
       "11                                              False     \n",
       "12                                              False     \n",
       "13                                              False     \n",
       "14                                              False     \n",
       "15                                              False     \n",
       "16                                              False     \n",
       "17                                              False     \n",
       "18                                              False     \n",
       "19                                              False     \n",
       "20                                              False     \n",
       "21                                              False     \n",
       "22                                              False     \n",
       "23                                              False     \n",
       "24                                              False     \n",
       "\n",
       "                                               logdir  \n",
       "0   /home/jupyter/ray_results/TorchTrainer_2022-09...  \n",
       "1   /home/jupyter/ray_results/TorchTrainer_2022-09...  \n",
       "2   /home/jupyter/ray_results/TorchTrainer_2022-09...  \n",
       "3   /home/jupyter/ray_results/TorchTrainer_2022-09...  \n",
       "4   /home/jupyter/ray_results/TorchTrainer_2022-09...  \n",
       "5   /home/jupyter/ray_results/TorchTrainer_2022-09...  \n",
       "6   /home/jupyter/ray_results/TorchTrainer_2022-09...  \n",
       "7   /home/jupyter/ray_results/TorchTrainer_2022-09...  \n",
       "8   /home/jupyter/ray_results/TorchTrainer_2022-09...  \n",
       "9   /home/jupyter/ray_results/TorchTrainer_2022-09...  \n",
       "10  /home/jupyter/ray_results/TorchTrainer_2022-09...  \n",
       "11  /home/jupyter/ray_results/TorchTrainer_2022-09...  \n",
       "12  /home/jupyter/ray_results/TorchTrainer_2022-09...  \n",
       "13  /home/jupyter/ray_results/TorchTrainer_2022-09...  \n",
       "14  /home/jupyter/ray_results/TorchTrainer_2022-09...  \n",
       "15  /home/jupyter/ray_results/TorchTrainer_2022-09...  \n",
       "16  /home/jupyter/ray_results/TorchTrainer_2022-09...  \n",
       "17  /home/jupyter/ray_results/TorchTrainer_2022-09...  \n",
       "18  /home/jupyter/ray_results/TorchTrainer_2022-09...  \n",
       "19  /home/jupyter/ray_results/TorchTrainer_2022-09...  \n",
       "20  /home/jupyter/ray_results/TorchTrainer_2022-09...  \n",
       "21  /home/jupyter/ray_results/TorchTrainer_2022-09...  \n",
       "22  /home/jupyter/ray_results/TorchTrainer_2022-09...  \n",
       "23  /home/jupyter/ray_results/TorchTrainer_2022-09...  \n",
       "24  /home/jupyter/ray_results/TorchTrainer_2022-09...  \n",
       "\n",
       "[25 rows x 58 columns]"
      ]
     },
     "execution_count": 38,
     "metadata": {},
     "output_type": "execute_result"
    }
   ],
   "source": [
    "analysis_df"
   ]
  },
  {
   "cell_type": "code",
   "execution_count": 39,
   "id": "b49462e7-cddf-4d7e-ae5b-4bcbe573157f",
   "metadata": {},
   "outputs": [],
   "source": [
    "# Run information\n",
    "wandb_entity = \"l5-demo\"\n",
    "project_name = \"l5-simulation\"\n",
    "run_name = \"train-simulation-model\"\n",
    "run_type = \"train\"\n",
    "run_description = \"\"\"\n",
    "Train simulation model\n",
    "\"\"\"\n",
    "tags = [\"train\", \"simulation\"]"
   ]
  },
  {
   "cell_type": "code",
   "execution_count": 40,
   "id": "e3ef72f3-7436-469c-b514-4692debdc7de",
   "metadata": {},
   "outputs": [
    {
     "data": {
      "text/html": [
       "wandb version 0.13.2 is available!  To upgrade, please run:\n",
       " $ pip install wandb --upgrade"
      ],
      "text/plain": [
       "<IPython.core.display.HTML object>"
      ]
     },
     "metadata": {},
     "output_type": "display_data"
    },
    {
     "data": {
      "text/html": [
       "Tracking run with wandb version 0.13.1"
      ],
      "text/plain": [
       "<IPython.core.display.HTML object>"
      ]
     },
     "metadata": {},
     "output_type": "display_data"
    },
    {
     "data": {
      "text/html": [
       "Run data is saved locally in <code>/home/jupyter/ray_results/TorchTrainer_2022-09-07_21-06-06/TorchTrainer_f8df3500_25_batch_size=6.0000,format_version=4,future_num_frames=50,history_num_frames=5,model_architecture=resnet50,_2022-09-07_21-22-00/wandb/run-20220907_212315-rlkzcszf</code>"
      ],
      "text/plain": [
       "<IPython.core.display.HTML object>"
      ]
     },
     "metadata": {},
     "output_type": "display_data"
    },
    {
     "data": {
      "text/html": [
       "Syncing run <strong><a href=\"https://wandb.ai/l5-demo/l5-simulation/runs/rlkzcszf\" target=\"_blank\">train-simulation-model</a></strong> to <a href=\"https://wandb.ai/l5-demo/l5-simulation\" target=\"_blank\">Weights & Biases</a> (<a href=\"https://wandb.me/run\" target=\"_blank\">docs</a>)<br/>"
      ],
      "text/plain": [
       "<IPython.core.display.HTML object>"
      ]
     },
     "metadata": {},
     "output_type": "display_data"
    }
   ],
   "source": [
    "#🪄🐝\n",
    "run = wandb.init(\n",
    "    entity=wandb_entity,\n",
    "    project=project_name,\n",
    "    job_type=run_type,\n",
    "    name=run_name,\n",
    "    notes=run_description,\n",
    "    tags=tags,\n",
    "    config=cfg\n",
    ")"
   ]
  },
  {
   "cell_type": "code",
   "execution_count": 41,
   "id": "617fc40d-4c83-404d-b62b-179db3f8d2bc",
   "metadata": {},
   "outputs": [],
   "source": [
    "#BUG: to force a connection on the lineage graph\n",
    "#🪄🐝\n",
    "artifact = run.use_artifact(f\"{artifact_entity}/{artifact_project}/{artifact_name}:{artifact_alias}\", type=artifact_type)"
   ]
  },
  {
   "cell_type": "code",
   "execution_count": 42,
   "id": "936d60ab-88cc-4bb6-99c3-19c620719513",
   "metadata": {},
   "outputs": [],
   "source": [
    "#🪄🐝\n",
    "analysis_table = wandb.Table(dataframe=analysis_df)"
   ]
  },
  {
   "cell_type": "code",
   "execution_count": 43,
   "id": "4957ce4b-f62a-49b0-bd8e-fa785f0fdda0",
   "metadata": {},
   "outputs": [
    {
     "data": {
      "text/html": [
       "Waiting for W&B process to finish... <strong style=\"color:green\">(success).</strong>"
      ],
      "text/plain": [
       "<IPython.core.display.HTML object>"
      ]
     },
     "metadata": {},
     "output_type": "display_data"
    },
    {
     "data": {
      "application/vnd.jupyter.widget-view+json": {
       "model_id": "",
       "version_major": 2,
       "version_minor": 0
      },
      "text/plain": [
       "VBox(children=(Label(value='0.030 MB of 0.053 MB uploaded (0.000 MB deduped)\\r'), FloatProgress(value=0.574678…"
      ]
     },
     "metadata": {},
     "output_type": "display_data"
    },
    {
     "data": {
      "text/html": [
       "Synced <strong style=\"color:#cdcd00\">train-simulation-model</strong>: <a href=\"https://wandb.ai/l5-demo/l5-simulation/runs/rlkzcszf\" target=\"_blank\">https://wandb.ai/l5-demo/l5-simulation/runs/rlkzcszf</a><br/>Synced 6 W&B file(s), 1 media file(s), 1 artifact file(s) and 1 other file(s)"
      ],
      "text/plain": [
       "<IPython.core.display.HTML object>"
      ]
     },
     "metadata": {},
     "output_type": "display_data"
    },
    {
     "data": {
      "text/html": [
       "Find logs at: <code>./wandb/run-20220907_212315-rlkzcszf/logs</code>"
      ],
      "text/plain": [
       "<IPython.core.display.HTML object>"
      ]
     },
     "metadata": {},
     "output_type": "display_data"
    }
   ],
   "source": [
    "#BUG: run gets lost after tune job due to change in cwd. Forced to make 2 runs\n",
    "if len(analysis_table.data) == 0:\n",
    "    raise ValueError(\"bad table for some reason\")\n",
    "else:\n",
    "    run.log({\"analysis_table\": analysis_table})\n",
    "    run.finish()"
   ]
  },
  {
   "cell_type": "code",
   "execution_count": null,
   "id": "fb166aad-12cb-4d9a-b68a-00837b031ddf",
   "metadata": {},
   "outputs": [],
   "source": []
  }
 ],
 "metadata": {
  "environment": {
   "kernel": "python3",
   "name": "common-cu110.m95",
   "type": "gcloud",
   "uri": "gcr.io/deeplearning-platform-release/base-cu110:m95"
  },
  "kernelspec": {
   "display_name": "Python 3",
   "language": "python",
   "name": "python3"
  },
  "language_info": {
   "codemirror_mode": {
    "name": "ipython",
    "version": 3
   },
   "file_extension": ".py",
   "mimetype": "text/x-python",
   "name": "python",
   "nbconvert_exporter": "python",
   "pygments_lexer": "ipython3",
   "version": "3.7.12"
  }
 },
 "nbformat": 4,
 "nbformat_minor": 5
}
