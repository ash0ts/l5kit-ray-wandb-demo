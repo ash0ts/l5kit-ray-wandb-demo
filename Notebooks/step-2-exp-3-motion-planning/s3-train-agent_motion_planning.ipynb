{
 "cells": [
  {
   "cell_type": "markdown",
   "id": "4a7e9c28-a760-4fef-8979-8e55ade0bacc",
   "metadata": {},
   "source": [
    "https://github.com/woven-planet/l5kit/blob/master/examples/simulation/train.ipynb"
   ]
  },
  {
   "cell_type": "markdown",
   "id": "2384ab5a-8af2-42ad-8123-dba750073746",
   "metadata": {
    "id": "2aXGGrVOJCbd"
   },
   "source": [
    "## Prepare Data path and load cfg\n",
    "\n",
    "By setting the `L5KIT_DATA_FOLDER` variable, we can point the script to the folder where the data lies.\n",
    "\n",
    "Then, we load our config file with relative paths and other configurations (rasteriser, training params...)."
   ]
  },
  {
   "cell_type": "markdown",
   "id": "9e174a8c-d551-44e9-909e-e985025d0145",
   "metadata": {
    "tags": []
   },
   "source": [
    "### Setup"
   ]
  },
  {
   "cell_type": "code",
   "execution_count": 1,
   "id": "904774e2-e363-49f0-91dc-a4137a472a51",
   "metadata": {},
   "outputs": [],
   "source": [
    "from pathlib import Path\n",
    "import os"
   ]
  },
  {
   "cell_type": "code",
   "execution_count": 2,
   "id": "1fb86d52-d44d-4572-9fc8-44f0ff42959d",
   "metadata": {},
   "outputs": [],
   "source": [
    "#NOTE: DONT USE RELATIVE PATHS FOR THE MODELS PROVIDED BY L5\n",
    "experiments_directory = Path(Path(os.path.abspath('')).parent.parent, \"Experiments\")\n",
    "experiments_directory.mkdir(parents=True, exist_ok=True)\n",
    "\n",
    "data_directory = Path(experiments_directory, \"data\")\n",
    "data_directory.mkdir(parents=True, exist_ok=True)\n",
    "\n",
    "prediction_directory = Path(experiments_directory, \"planning\")\n",
    "prediction_directory.mkdir(parents=True, exist_ok=True)\n",
    "\n",
    "prediction_training_directory = Path(prediction_directory, \"training\")\n",
    "prediction_training_directory.mkdir(parents=True, exist_ok=True)\n",
    "\n",
    "save_directory = Path(prediction_training_directory, \"saved_outputs\")\n",
    "save_directory.mkdir(parents=True, exist_ok=True)"
   ]
  },
  {
   "cell_type": "code",
   "execution_count": 3,
   "id": "bc171cc6-a7ac-40d5-98bd-1cf0b1f7328b",
   "metadata": {},
   "outputs": [],
   "source": [
    "import os\n",
    "os.chdir(prediction_training_directory)"
   ]
  },
  {
   "cell_type": "code",
   "execution_count": 4,
   "id": "4a9c45fe-50bc-43a6-8f97-0b68df3387cb",
   "metadata": {},
   "outputs": [
    {
     "name": "stdout",
     "output_type": "stream",
     "text": [
      "Overwriting requirements.txt\n"
     ]
    }
   ],
   "source": [
    "%%writefile requirements.txt\n",
    "l5kit\n",
    "pyyaml\n",
    "ray==2.0.0rc1\n",
    "ray[air]\n",
    "wandb\n",
    "optuna"
   ]
  },
  {
   "cell_type": "code",
   "execution_count": 5,
   "id": "70971773-efbc-4ce0-9094-debfc698ec76",
   "metadata": {},
   "outputs": [],
   "source": [
    "%%capture\n",
    "# !pip install -r requirements.txt\n",
    "!pip install l5kit pyyaml\n",
    "!pip install wandb --upgrade\n",
    "!pip install ray==2.0.0rc1\n",
    "!pip install \"ray[air]\"\n",
    "!pip install optuna"
   ]
  },
  {
   "cell_type": "code",
   "execution_count": 6,
   "id": "309ddb76-343a-43d7-8f4e-7199f6599bd9",
   "metadata": {
    "id": "OKx_V_wnJCbb"
   },
   "outputs": [],
   "source": [
    "from typing import Dict\n",
    "\n",
    "from tempfile import gettempdir\n",
    "import matplotlib.pyplot as plt\n",
    "import numpy as np\n",
    "import torch\n",
    "from torch import nn, optim\n",
    "from torch.utils.data import DataLoader\n",
    "from torchvision.models.resnet import resnet50\n",
    "from tqdm import tqdm\n",
    "\n",
    "from l5kit.configs import load_config_data\n",
    "from l5kit.data import LocalDataManager, ChunkedDataset\n",
    "from l5kit.dataset import AgentDataset, EgoDataset\n",
    "from l5kit.rasterization import build_rasterizer\n",
    "from l5kit.evaluation import write_pred_csv, compute_metrics_csv, read_gt_csv, create_chopped_dataset\n",
    "from l5kit.evaluation.chop_dataset import MIN_FUTURE_STEPS\n",
    "from l5kit.evaluation.metrics import neg_multi_log_likelihood, time_displace, rmse, prob_true_mode, average_displacement_error_oracle, average_displacement_error_mean, final_displacement_error_oracle, final_displacement_error_mean, detect_collision, distance_to_reference_trajectory\n",
    "from l5kit.geometry import transform_points\n",
    "from l5kit.visualization import PREDICTED_POINTS_COLOR, TARGET_POINTS_COLOR, draw_trajectory\n",
    "from prettytable import PrettyTable\n",
    "from pathlib import Path\n",
    "\n",
    "import os"
   ]
  },
  {
   "cell_type": "code",
   "execution_count": 7,
   "id": "356493ba-43d1-477f-b812-6ca127273002",
   "metadata": {},
   "outputs": [],
   "source": [
    "from tempfile import gettempdir\n",
    "import matplotlib.pyplot as plt\n",
    "import numpy as np\n",
    "import torch\n",
    "from torch import nn, optim\n",
    "from torch.utils.data import DataLoader\n",
    "from tqdm import tqdm\n",
    "\n",
    "from l5kit.configs import load_config_data\n",
    "from l5kit.data import LocalDataManager, ChunkedDataset\n",
    "from l5kit.dataset import EgoDataset\n",
    "from l5kit.rasterization import build_rasterizer\n",
    "from l5kit.geometry import transform_points\n",
    "from l5kit.visualization import TARGET_POINTS_COLOR, draw_trajectory\n",
    "from l5kit.planning.rasterized.model import RasterizedPlanningModel\n",
    "from l5kit.kinematic import AckermanPerturbation\n",
    "from l5kit.random import GaussianRandomGenerator\n",
    "\n",
    "import os"
   ]
  },
  {
   "cell_type": "markdown",
   "id": "4efdb3bf-e580-4c65-afd6-da9b15feb0df",
   "metadata": {},
   "source": [
    "### Get Data from Wandb"
   ]
  },
  {
   "cell_type": "code",
   "execution_count": 8,
   "id": "40446f30-1074-451e-94bd-94a2bbb522fd",
   "metadata": {
    "colab": {
     "base_uri": "https://localhost:8080/",
     "height": 71
    },
    "executionInfo": {
     "elapsed": 5572,
     "status": "ok",
     "timestamp": 1660707075761,
     "user": {
      "displayName": "Anish Shah",
      "userId": "05913492621931233323"
     },
     "user_tz": 240
    },
    "id": "Hbg_JE1s0q6u",
    "outputId": "48fec4f3-85e5-413a-911c-e4db3ad1aaa4"
   },
   "outputs": [
    {
     "name": "stderr",
     "output_type": "stream",
     "text": [
      "\u001b[34m\u001b[1mwandb\u001b[0m: Currently logged in as: \u001b[33ma-sh0ts\u001b[0m. Use \u001b[1m`wandb login --relogin`\u001b[0m to force relogin\n"
     ]
    },
    {
     "data": {
      "text/plain": [
       "True"
      ]
     },
     "execution_count": 8,
     "metadata": {},
     "output_type": "execute_result"
    }
   ],
   "source": [
    "import wandb\n",
    "wandb.login()"
   ]
  },
  {
   "cell_type": "code",
   "execution_count": 9,
   "id": "12870502-8cea-46e2-ae70-7e2ac5eb0b2e",
   "metadata": {},
   "outputs": [],
   "source": [
    "# Run information\n",
    "wandb_entity = \"l5-demo\"\n",
    "project_name = \"l5-planning\"\n",
    "run_name = \"download-l5-data\"\n",
    "run_type = \"download\"\n",
    "run_description = \"\"\"\n",
    "Download data for the task of training a planning model\n",
    "\"\"\"\n",
    "tags = [\"download\", \"data\"]"
   ]
  },
  {
   "cell_type": "code",
   "execution_count": 10,
   "id": "a63df678-485d-4615-beeb-d8408806c6af",
   "metadata": {},
   "outputs": [
    {
     "name": "stderr",
     "output_type": "stream",
     "text": [
      "\u001b[34m\u001b[1mwandb\u001b[0m: Currently logged in as: \u001b[33ma-sh0ts\u001b[0m (\u001b[33ml5-demo\u001b[0m). Use \u001b[1m`wandb login --relogin`\u001b[0m to force relogin\n"
     ]
    },
    {
     "data": {
      "text/html": [
       "Tracking run with wandb version 0.13.2"
      ],
      "text/plain": [
       "<IPython.core.display.HTML object>"
      ]
     },
     "metadata": {},
     "output_type": "display_data"
    },
    {
     "data": {
      "text/html": [
       "Run data is saved locally in <code>/home/jupyter/l5kit-ray-wandb-demo/Experiments/planning/training/wandb/run-20220908_051830-25qqmov0</code>"
      ],
      "text/plain": [
       "<IPython.core.display.HTML object>"
      ]
     },
     "metadata": {},
     "output_type": "display_data"
    },
    {
     "data": {
      "text/html": [
       "Syncing run <strong><a href=\"https://wandb.ai/l5-demo/l5-planning/runs/25qqmov0\" target=\"_blank\">download-l5-data</a></strong> to <a href=\"https://wandb.ai/l5-demo/l5-planning\" target=\"_blank\">Weights & Biases</a> (<a href=\"https://wandb.me/run\" target=\"_blank\">docs</a>)<br/>"
      ],
      "text/plain": [
       "<IPython.core.display.HTML object>"
      ]
     },
     "metadata": {},
     "output_type": "display_data"
    }
   ],
   "source": [
    "#🪄🐝\n",
    "run = wandb.init(\n",
    "    entity=wandb_entity,\n",
    "    project=project_name,\n",
    "    job_type=run_type,\n",
    "    name=run_name,\n",
    "    notes=run_description,\n",
    "    tags=tags\n",
    ")"
   ]
  },
  {
   "cell_type": "code",
   "execution_count": 11,
   "id": "21f56b70-75d1-4adb-9bd2-e513682c93b5",
   "metadata": {},
   "outputs": [],
   "source": [
    "artifact_entity = \"l5-demo\"\n",
    "artifact_project = \"l5-common\"\n",
    "artifact_name = \"l5-data\"\n",
    "artifact_alias = \"latest\"\n",
    "artifact_type = \"dataset\""
   ]
  },
  {
   "cell_type": "code",
   "execution_count": 12,
   "id": "2893ebe1-e349-4cc7-9821-5e93bd1a8231",
   "metadata": {},
   "outputs": [],
   "source": [
    "#🪄🐝\n",
    "artifact = run.use_artifact(f\"{artifact_entity}/{artifact_project}/{artifact_name}:{artifact_alias}\", type=artifact_type)"
   ]
  },
  {
   "cell_type": "code",
   "execution_count": 13,
   "id": "d8ce915e-8972-42d4-bbde-503c35d033f3",
   "metadata": {},
   "outputs": [
    {
     "name": "stderr",
     "output_type": "stream",
     "text": [
      "\u001b[34m\u001b[1mwandb\u001b[0m: Downloading large artifact l5-data:latest, 2386.92MB. 517 files... Done. 0:0:0.2\n"
     ]
    }
   ],
   "source": [
    "_ = artifact.download(data_directory)"
   ]
  },
  {
   "cell_type": "code",
   "execution_count": 14,
   "id": "60ac0799-77cd-45a6-b959-b9617aa8d19e",
   "metadata": {},
   "outputs": [
    {
     "data": {
      "text/html": [
       "Waiting for W&B process to finish... <strong style=\"color:green\">(success).</strong>"
      ],
      "text/plain": [
       "<IPython.core.display.HTML object>"
      ]
     },
     "metadata": {},
     "output_type": "display_data"
    },
    {
     "data": {
      "application/vnd.jupyter.widget-view+json": {
       "model_id": "",
       "version_major": 2,
       "version_minor": 0
      },
      "text/plain": [
       "VBox(children=(Label(value='0.000 MB of 0.000 MB uploaded (0.000 MB deduped)\\r'), FloatProgress(value=1.0, max…"
      ]
     },
     "metadata": {},
     "output_type": "display_data"
    },
    {
     "data": {
      "text/html": [
       "Synced <strong style=\"color:#cdcd00\">download-l5-data</strong>: <a href=\"https://wandb.ai/l5-demo/l5-planning/runs/25qqmov0\" target=\"_blank\">https://wandb.ai/l5-demo/l5-planning/runs/25qqmov0</a><br/>Synced 7 W&B file(s), 0 media file(s), 0 artifact file(s) and 1 other file(s)"
      ],
      "text/plain": [
       "<IPython.core.display.HTML object>"
      ]
     },
     "metadata": {},
     "output_type": "display_data"
    },
    {
     "data": {
      "text/html": [
       "Find logs at: <code>./wandb/run-20220908_051830-25qqmov0/logs</code>"
      ],
      "text/plain": [
       "<IPython.core.display.HTML object>"
      ]
     },
     "metadata": {},
     "output_type": "display_data"
    }
   ],
   "source": [
    "#BUG: need to seperate runs into download and training due to issues with routing runs after ray.tune\n",
    "run.finish()"
   ]
  },
  {
   "cell_type": "code",
   "execution_count": 15,
   "id": "9b793243-7722-4502-94c9-f32c044aa230",
   "metadata": {},
   "outputs": [],
   "source": [
    "# Dataset is assumed to be on the folder specified\n",
    "# in the L5KIT_DATA_FOLDER environment variable\n",
    "\n",
    "# get config\n",
    "cfg = load_config_data(Path(data_directory, \"configurations\", \"planning_config.yaml\"))\n",
    "\n",
    "##TODO-Fix with logic flow to select dataset###\n",
    "cfg[\"train_data_loader\"][\"key\"] = \"scenes/sample.zarr\"\n",
    "cfg[\"val_data_loader\"][\"key\"] = \"scenes/sample.zarr\"\n",
    "\n",
    "l5_data_location = Path(data_directory, \"dataset\")\n",
    "# run.config.update(cfg)"
   ]
  },
  {
   "cell_type": "code",
   "execution_count": 16,
   "id": "ca59e86a-7e5c-4438-bfa3-ae61bd378ac1",
   "metadata": {},
   "outputs": [],
   "source": [
    "# cfg[\"zarr_dataset_location\"] = l5_data_location\n",
    "os.environ[\"L5KIT_DATA_FOLDER\"] = str(l5_data_location)"
   ]
  },
  {
   "cell_type": "markdown",
   "id": "433cd44f-e828-482e-93af-bdc550c7a564",
   "metadata": {
    "id": "_ZX_d_ObJCbg"
   },
   "source": [
    "## Model\n",
    "\n",
    "Our baseline is a simple `resnet50` pretrained on `imagenet`. We must replace the input and the final layer to address our requirements."
   ]
  },
  {
   "cell_type": "code",
   "execution_count": 17,
   "id": "35126c9f-2be2-425d-8321-1347e2f223da",
   "metadata": {
    "id": "2i3FeP99JCbg"
   },
   "outputs": [],
   "source": [
    "def build_model(cfg: Dict, num_input_channels, criterion):\n",
    "    model = RasterizedPlanningModel(\n",
    "        model_arch=cfg[\"model_params\"][\"model_architecture\"],\n",
    "        num_input_channels=num_input_channels,\n",
    "        num_targets=3 * cfg[\"model_params\"][\"future_num_frames\"],  # X, Y, Yaw * number of future states,\n",
    "        weights_scaling= [1., 1., 1.],\n",
    "        criterion=criterion\n",
    "        )\n",
    "\n",
    "    return model"
   ]
  },
  {
   "cell_type": "code",
   "execution_count": 18,
   "id": "dfccc2df-e585-4572-82f9-5587cbff98e7",
   "metadata": {
    "id": "L-MMuG4LJCbh"
   },
   "outputs": [],
   "source": [
    "def forward(data, model, criterion):    \n",
    "    outputs = model(data)\n",
    "    loss = outputs[\"loss\"]\n",
    "    return loss, outputs"
   ]
  },
  {
   "cell_type": "code",
   "execution_count": 19,
   "id": "6942b04b-3759-47c0-a32f-afc3bf6db788",
   "metadata": {
    "id": "I8zTOjoAz3mW"
   },
   "outputs": [],
   "source": [
    "def train_planning_model_epoch(data, model, criterion, optimizer):\n",
    "    loss, outputs = forward(data, model, criterion)\n",
    "    # Backward pass\n",
    "    optimizer.zero_grad()\n",
    "    loss.backward()\n",
    "    optimizer.step()\n",
    "    return loss, outputs"
   ]
  },
  {
   "cell_type": "markdown",
   "id": "ba3568ba-173f-462f-acd8-4b9f46ba7212",
   "metadata": {
    "id": "oz8fUbbTJCbh"
   },
   "source": [
    "Our data pipeline map a raw `.zarr` folder into a multi-processing instance ready for training by:\n",
    "- loading the `zarr` into a `ChunkedDataset` object. This object has a reference to the different arrays into the zarr (e.g. agents and traffic lights);\n",
    "- wrapping the `ChunkedDataset` into an `AgentDataset`, which inherits from torch `Dataset` class;\n",
    "- passing the `AgentDataset` into a torch `DataLoader`"
   ]
  },
  {
   "cell_type": "markdown",
   "id": "18bb4fde-8b53-4f64-90be-76be2cc03cf5",
   "metadata": {
    "id": "-EDp7WnqJCbh"
   },
   "source": [
    "# Training\n",
    "\n",
    "note: if you're on MacOS and using `py_satellite` rasterizer, you may need to disable opencv multiprocessing by adding:\n",
    "`cv2.setNumThreads(0)` before the following cell. This seems to only affect running in python notebook and it's caused by the `cv2.warpaffine` function"
   ]
  },
  {
   "cell_type": "code",
   "execution_count": 20,
   "id": "2c7c1b1e-94be-42bf-a839-cf23eb5d166a",
   "metadata": {
    "id": "sQGV6T8F1q8h"
   },
   "outputs": [],
   "source": [
    "import ray.train as train\n",
    "from ray.air import session, Checkpoint"
   ]
  },
  {
   "cell_type": "code",
   "execution_count": 21,
   "id": "bdf01e2b-8aab-4563-857c-f85a1134dddc",
   "metadata": {},
   "outputs": [],
   "source": [
    "from ray import tune\n",
    "from ray.tune.tuner import Tuner"
   ]
  },
  {
   "cell_type": "code",
   "execution_count": 22,
   "id": "e8e9ac83-9869-4557-af22-795d0b3bfcab",
   "metadata": {
    "id": "8gRu7-HmxCrE"
   },
   "outputs": [],
   "source": [
    "def train_planning_model(tuner_cfg : Dict):\n",
    "    trial_name = session.get_trial_name()\n",
    "    trial_id = session.get_trial_id()\n",
    "    trial_readable_name = f\"{trial_name}_{trial_id}\"\n",
    "    \n",
    "    dm = LocalDataManager()\n",
    "    \n",
    "    # ==== Configurations\n",
    "    shuffle = tuner_cfg[\"shuffle\"]\n",
    "    batch_size = int(tuner_cfg[\"batch_size\"])\n",
    "    num_workers = tuner_cfg[\"num_workers\"]\n",
    "    lr = tuner_cfg[\"lr\"]\n",
    "    max_num_steps = int(tuner_cfg[\"max_num_steps\"])\n",
    "    dataset_key = tuner_cfg[\"dataset_key\"]\n",
    "    cfg = tuner_cfg[\"cfg\"]\n",
    "    \n",
    "    perturb_prob = tuner_cfg[\"perturb_probability\"]\n",
    "    \n",
    "    # ==== Loading Dataset\n",
    "    rasterizer = build_rasterizer(cfg, dm)\n",
    "    mean = np.array([0.0, 0.0, 0.0])  # lateral, longitudinal and angular\n",
    "    std = np.array([0.5, 1.5, np.pi / 6])\n",
    "    perturbation = AckermanPerturbation(\n",
    "        random_offset_generator=GaussianRandomGenerator(mean=mean, std=std), perturb_prob=perturb_prob)\n",
    "\n",
    "    train_zarr = ChunkedDataset(dm.require(dataset_key)).open()\n",
    "    train_dataset = EgoDataset(cfg, train_zarr, rasterizer, perturbation)\n",
    "\n",
    "    batch_size_per_worker = batch_size // session.get_world_size()\n",
    "    train_dataloader = DataLoader(train_dataset, shuffle=shuffle, batch_size=batch_size_per_worker, num_workers=num_workers)\n",
    "    train_dataloader = train.torch.prepare_data_loader(train_dataloader)\n",
    "    \n",
    "    # ==== Init model\n",
    "    criterion = nn.MSELoss(reduction=\"none\")\n",
    "    num_input_channels = rasterizer.num_channels()\n",
    "    \n",
    "    model = build_model(cfg, num_input_channels, criterion)\n",
    "    model = train.torch.prepare_model(model)\n",
    "    optimizer = optim.Adam(model.parameters(), lr=lr)\n",
    "\n",
    "    # ==== TRAIN LOOP\n",
    "    tr_it = iter(train_dataloader)\n",
    "    progress_bar = range(max_num_steps)\n",
    "    num_checkpoints = 5\n",
    "    steps_before_checkpointing = max_num_steps // num_checkpoints\n",
    "    losses_train = []\n",
    "    checkpoint_counter = 0\n",
    "    \n",
    "    for step in progress_bar:\n",
    "        try:\n",
    "            data = next(tr_it)\n",
    "        except StopIteration:\n",
    "            tr_it = iter(train_dataloader)\n",
    "            data = next(tr_it)\n",
    "            \n",
    "        model.train()\n",
    "        torch.set_grad_enabled(True)\n",
    "        loss, _ = train_planning_model_epoch(data, model, criterion, optimizer)\n",
    "        losses_train.append(loss.item())\n",
    "        avg_loss = np.mean(losses_train)\n",
    "        metrics = {\n",
    "            \"loss\": loss.item(),\n",
    "            \"avg_loss\": avg_loss\n",
    "        }\n",
    "        \n",
    "        if train.world_rank() == 0:\n",
    "            print(metrics)\n",
    "        \n",
    "        if (step%steps_before_checkpointing==0) or (step==max_num_steps-1):\n",
    "            session.report(\n",
    "                metrics=metrics,\n",
    "                checkpoint=Checkpoint.from_dict(dict(step=step, model=model)))\n",
    "            checkpoint_counter += 1\n",
    "        else:\n",
    "            session.report(\n",
    "                metrics=metrics\n",
    "            )"
   ]
  },
  {
   "cell_type": "markdown",
   "id": "d3ecb395-20ee-4f69-85f7-7242d6804e54",
   "metadata": {},
   "source": [
    "### Distributed Training using Ray"
   ]
  },
  {
   "cell_type": "markdown",
   "id": "6852f3cb-8ac9-433e-b5ab-e5d58c4aaca4",
   "metadata": {},
   "source": [
    "We calculate the available hardware for our current training sessions and efficiently split CPUs based on GPUs or split CPUs evenly if possible"
   ]
  },
  {
   "cell_type": "code",
   "execution_count": 23,
   "id": "d08897fb-a088-41b2-a00b-7d67d4ec2ee1",
   "metadata": {
    "id": "L2ic0NRa0X2q"
   },
   "outputs": [],
   "source": [
    "from ray.train.torch import TorchTrainer\n",
    "from ray.air.config import RunConfig, ScalingConfig\n",
    "from ray.air.callbacks.wandb import WandbLoggerCallback #🪄🐝"
   ]
  },
  {
   "cell_type": "code",
   "execution_count": 24,
   "id": "10d08a11-8a6e-4fb7-a4da-24981cc8e7ab",
   "metadata": {},
   "outputs": [],
   "source": [
    "import multiprocessing"
   ]
  },
  {
   "cell_type": "code",
   "execution_count": 25,
   "id": "872855c9-a4ff-4ae1-8b91-0b459e49c3d0",
   "metadata": {},
   "outputs": [],
   "source": [
    "USE_GPU = torch.cuda.is_available()\n",
    "NUM_GPUS = torch.cuda.device_count()\n",
    "NUM_CPUS = multiprocessing.cpu_count()"
   ]
  },
  {
   "cell_type": "code",
   "execution_count": 26,
   "id": "c1689864-2eba-49b9-bbff-506e331017fe",
   "metadata": {},
   "outputs": [],
   "source": [
    "if USE_GPU:\n",
    "    num_actors = NUM_GPUS\n",
    "    num_data_workers = NUM_CPUS // num_actors\n",
    "else:\n",
    "    num_data_workers = 4 if NUM_CPUS>=4 else NUM_CPUS\n",
    "    ideal_num_actors = NUM_CPUS // num_data_workers\n",
    "    num_actors = ideal_num_actors if ideal_num_actors else 1"
   ]
  },
  {
   "cell_type": "markdown",
   "id": "b64532e9-5e58-49d9-9834-2e04b8f88482",
   "metadata": {},
   "source": [
    "To use Ray all we need to simply do is wrap the training function above. The only addition needed above was calls to `report.session` to log metrics during training"
   ]
  },
  {
   "cell_type": "code",
   "execution_count": 27,
   "id": "fdbb0715-6f7d-4798-8987-5349abc91f17",
   "metadata": {
    "colab": {
     "base_uri": "https://localhost:8080/"
    },
    "executionInfo": {
     "elapsed": 6465,
     "status": "ok",
     "timestamp": 1660707090583,
     "user": {
      "displayName": "Anish Shah",
      "userId": "05913492621931233323"
     },
     "user_tz": 240
    },
    "id": "MqgEP_OE0cIa",
    "outputId": "941a3d0a-e9a6-4f8a-dd89-5c5414e63555"
   },
   "outputs": [
    {
     "name": "stderr",
     "output_type": "stream",
     "text": [
      "2022-09-08 05:18:47,315\tINFO worker.py:1487 -- Started a local Ray instance. View the dashboard at \u001b[1m\u001b[32mhttp://127.0.0.1:8265\u001b[39m\u001b[22m.\n"
     ]
    }
   ],
   "source": [
    "#NOTE: To figure out if scaling config intuiutin is correct: num_actors divide resources between each actor and within the train func each actor can the utilize the shared resources\n",
    "trainer = TorchTrainer(\n",
    "    train_loop_per_worker=train_planning_model,\n",
    "    scaling_config=ScalingConfig(num_workers=num_actors, use_gpu=USE_GPU),\n",
    ")"
   ]
  },
  {
   "cell_type": "markdown",
   "id": "92f51563-179a-48ee-aee9-818b7f04a6bf",
   "metadata": {},
   "source": [
    "### Distributed Hyperparemeter Tuning using Ray\n",
    "\n",
    "Due to Ray's easy interface we can simply extend our normal trainer to Ray's tuner which will allow us to do efficient hyperparameter optimization. In our case we use `optuna`"
   ]
  },
  {
   "cell_type": "code",
   "execution_count": 28,
   "id": "96d59580-be19-41a3-9ed8-c4dd0057469a",
   "metadata": {},
   "outputs": [],
   "source": [
    "tuner_train_config = {}\n",
    "##static\n",
    "tuner_train_config[\"shuffle\"] = cfg[\"train_data_loader\"][\"shuffle\"]\n",
    "tuner_train_config[\"num_workers\"] = num_data_workers\n",
    "tuner_train_config[\"dataset_key\"] = cfg[\"train_data_loader\"][\"key\"]\n",
    "tuner_train_config[\"perturb_probability\"] = cfg[\"train_data_loader\"][\"perturb_probability\"]\n",
    "\n",
    "##tunable\n",
    "tuner_train_config[\"max_num_steps\"] = 5\n",
    "# tuner_train_config[\"max_num_steps\"] = tune.quniform(1000, 5000, 250)\n",
    "tuner_train_config[\"lr\"] = tune.loguniform(1e-4, 1e-2)\n",
    "tuner_train_config[\"batch_size\"] = tune.quniform(6, 24, 6)\n",
    "cfg[\"raster_params\"][\"map_type\"] = tune.choice([\"py_semantic\", \"py_satellite\"])\n",
    "\n",
    "tuner_train_config[\"cfg\"] = cfg"
   ]
  },
  {
   "cell_type": "code",
   "execution_count": 29,
   "id": "5cda065f-6734-4100-ac7b-e29459ecf2b2",
   "metadata": {},
   "outputs": [],
   "source": [
    "from ray.tune.logger import LoggerCallback\n",
    "from typing import Dict, List"
   ]
  },
  {
   "cell_type": "code",
   "execution_count": 30,
   "id": "567dc9c3-c034-41bb-9e90-ba02a78735c1",
   "metadata": {},
   "outputs": [],
   "source": [
    "from ray.tune.stopper import ExperimentPlateauStopper\n",
    "from ray.tune.search.optuna import OptunaSearch"
   ]
  },
  {
   "cell_type": "code",
   "execution_count": 31,
   "id": "f9acea3c-3147-400c-ab9b-f105cc5a675c",
   "metadata": {},
   "outputs": [],
   "source": [
    "n_search_attempts = 25"
   ]
  },
  {
   "cell_type": "code",
   "execution_count": 32,
   "id": "6342c5f4-c259-4831-8886-b4a02cdc0a52",
   "metadata": {},
   "outputs": [],
   "source": [
    "optuna_search = OptunaSearch()"
   ]
  },
  {
   "cell_type": "code",
   "execution_count": 33,
   "id": "5c233f88-4dc0-462e-9657-a08d96cd4481",
   "metadata": {},
   "outputs": [
    {
     "name": "stderr",
     "output_type": "stream",
     "text": [
      "/opt/conda/lib/python3.7/site-packages/ipykernel_launcher.py:14: UserWarning: Executing `.fit()` may leave less than 20% of CPUs in this cluster for Dataset execution, which can lead to resource contention or hangs. To avoid this, reserve at least 20% of node CPUs for Dataset execution by setting `_max_cpu_fraction_per_node = 0.8` in the Trainer scaling_config. See https://docs.ray.io/en/master/data/dataset-internals.html#datasets-and-tune for more info.\n",
      "  \n"
     ]
    }
   ],
   "source": [
    "tuner = Tuner(\n",
    "        trainer,\n",
    "        tune_config=tune.TuneConfig(\n",
    "            metric=\"avg_loss\", #loss or avg_loss here?\n",
    "            mode=\"min\",\n",
    "            search_alg=optuna_search,\n",
    "            num_samples=n_search_attempts,\n",
    "        ),\n",
    "        param_space={\n",
    "            \"train_loop_config\": tuner_train_config\n",
    "        },\n",
    "        run_config=RunConfig(\n",
    "            stop=ExperimentPlateauStopper(\"avg_loss\"),\n",
    "            callbacks=[WandbLoggerCallback(project=f\"{project_name}-trials\", save_checkpoints=True),]))  #🪄🐝"
   ]
  },
  {
   "cell_type": "markdown",
   "id": "22efd113-654a-45a1-9316-55dcf816874a",
   "metadata": {},
   "source": [
    "### Aggregrate and Report Metrics from All Trials"
   ]
  },
  {
   "cell_type": "code",
   "execution_count": 34,
   "id": "0cd0f447-99f7-4fda-9907-82b5e2d41aa3",
   "metadata": {
    "colab": {
     "base_uri": "https://localhost:8080/",
     "height": 1000
    },
    "executionInfo": {
     "elapsed": 158825,
     "status": "ok",
     "timestamp": 1660707249406,
     "user": {
      "displayName": "Anish Shah",
      "userId": "05913492621931233323"
     },
     "user_tz": 240
    },
    "id": "kOE9cNax197M",
    "outputId": "ff23d83a-4e9f-4876-f1cd-54f752b4563d"
   },
   "outputs": [
    {
     "name": "stderr",
     "output_type": "stream",
     "text": [
      "\u001b[32m[I 2022-09-08 05:18:50,373]\u001b[0m A new study created in memory with name: optuna\u001b[0m\n",
      "2022-09-08 05:18:50,456\tINFO wandb.py:119 -- Already logged into W&B.\n"
     ]
    },
    {
     "data": {
      "text/html": [
       "== Status ==<br>Current time: 2022-09-08 05:38:46 (running for 00:19:55.98)<br>Memory usage on this node: 2.0/14.7 GiB<br>Using FIFO scheduling algorithm.<br>Resources requested: 0/4 CPUs, 0/0 GPUs, 0.0/8.17 GiB heap, 0.0/4.09 GiB objects<br>Current best trial: a4f3d74e with avg_loss=6.887708783149719 and parameters={'train_loop_config': {'shuffle': True, 'num_workers': 4, 'dataset_key': 'scenes/sample.zarr', 'perturb_probability': 0.5, 'max_num_steps': 5, 'lr': 0.0011707400084418947, 'batch_size': 6.0, 'cfg': {'format_version': 4, 'model_params': {'model_architecture': 'resnet50', 'history_num_frames': 0, 'future_num_frames': 12, 'step_time': 0.1, 'render_ego_history': True}, 'raster_params': {'raster_size': [224, 224], 'pixel_size': [0.5, 0.5], 'ego_center': [0.25, 0.5], 'map_type': 'py_satellite', 'satellite_map_key': 'aerial_map/aerial_map.png', 'semantic_map_key': 'semantic_map/semantic_map.pb', 'dataset_meta_key': 'meta.json', 'filter_agents_threshold': 0.5, 'disable_traffic_light_faces': False, 'set_origin_to_bottom': True}, 'train_data_loader': {'key': 'scenes/sample.zarr', 'batch_size': 12, 'shuffle': True, 'num_workers': 16, 'perturb_probability': 0.5}, 'val_data_loader': {'key': 'scenes/sample.zarr', 'batch_size': 12, 'shuffle': False, 'num_workers': 16}, 'train_params': {'checkpoint_every_n_steps': 10000, 'max_num_steps': 5, 'eval_every_n_steps': 10000}}}}<br>Result logdir: /home/jupyter/ray_results/TorchTrainer_2022-09-08_05-18-50<br>Number of trials: 25/25 (25 TERMINATED)<br><table>\n",
       "<thead>\n",
       "<tr><th>Trial name           </th><th>status    </th><th>loc             </th><th style=\"text-align: right;\">  train_loop_config...</th><th>train_loop_config...  </th><th style=\"text-align: right;\">  train_loop_config/lr</th><th style=\"text-align: right;\">  iter</th><th style=\"text-align: right;\">  total time (s)</th><th style=\"text-align: right;\">    loss</th><th style=\"text-align: right;\">  avg_loss</th><th style=\"text-align: right;\">  _timestamp</th></tr>\n",
       "</thead>\n",
       "<tbody>\n",
       "<tr><td>TorchTrainer_b92ccfec</td><td>TERMINATED</td><td>10.150.0.3:4679 </td><td style=\"text-align: right;\">                    18</td><td>py_satellite          </td><td style=\"text-align: right;\">           0.000585319</td><td style=\"text-align: right;\">     5</td><td style=\"text-align: right;\">         85.996 </td><td style=\"text-align: right;\"> 5.88253</td><td style=\"text-align: right;\">   9.68202</td><td style=\"text-align: right;\">  1662614419</td></tr>\n",
       "<tr><td>TorchTrainer_bb34233a</td><td>TERMINATED</td><td>10.150.0.3:4751 </td><td style=\"text-align: right;\">                    12</td><td>py_semantic           </td><td style=\"text-align: right;\">           0.000355264</td><td style=\"text-align: right;\">     5</td><td style=\"text-align: right;\">         60.1559</td><td style=\"text-align: right;\"> 7.96299</td><td style=\"text-align: right;\">  11.9063 </td><td style=\"text-align: right;\">  1662614398</td></tr>\n",
       "<tr><td>TorchTrainer_bb3d4924</td><td>TERMINATED</td><td>10.150.0.3:6324 </td><td style=\"text-align: right;\">                    18</td><td>py_semantic           </td><td style=\"text-align: right;\">           0.000109337</td><td style=\"text-align: right;\">     5</td><td style=\"text-align: right;\">         82.5115</td><td style=\"text-align: right;\">14.6648 </td><td style=\"text-align: right;\">  13.5782 </td><td style=\"text-align: right;\">  1662614496</td></tr>\n",
       "<tr><td>TorchTrainer_e91748fe</td><td>TERMINATED</td><td>10.150.0.3:6621 </td><td style=\"text-align: right;\">                    24</td><td>py_satellite          </td><td style=\"text-align: right;\">           0.00293406 </td><td style=\"text-align: right;\">     5</td><td style=\"text-align: right;\">        111.412 </td><td style=\"text-align: right;\"> 9.45308</td><td style=\"text-align: right;\">   9.00326</td><td style=\"text-align: right;\">  1662614546</td></tr>\n",
       "<tr><td>TorchTrainer_f59446cc</td><td>TERMINATED</td><td>10.150.0.3:7512 </td><td style=\"text-align: right;\">                    24</td><td>py_semantic           </td><td style=\"text-align: right;\">           0.00637506 </td><td style=\"text-align: right;\">     5</td><td style=\"text-align: right;\">        109.832 </td><td style=\"text-align: right;\"> 8.3464 </td><td style=\"text-align: right;\">  12.2668 </td><td style=\"text-align: right;\">  1662614621</td></tr>\n",
       "<tr><td>TorchTrainer_22aeee5a</td><td>TERMINATED</td><td>10.150.0.3:8344 </td><td style=\"text-align: right;\">                    24</td><td>py_satellite          </td><td style=\"text-align: right;\">           0.00150031 </td><td style=\"text-align: right;\">     5</td><td style=\"text-align: right;\">        107.464 </td><td style=\"text-align: right;\"> 3.52309</td><td style=\"text-align: right;\">   8.24595</td><td style=\"text-align: right;\">  1662614668</td></tr>\n",
       "<tr><td>TorchTrainer_40435014</td><td>TERMINATED</td><td>10.150.0.3:9212 </td><td style=\"text-align: right;\">                     6</td><td>py_satellite          </td><td style=\"text-align: right;\">           0.000119926</td><td style=\"text-align: right;\">     5</td><td style=\"text-align: right;\">         34.906 </td><td style=\"text-align: right;\"> 9.8483 </td><td style=\"text-align: right;\">  13.6248 </td><td style=\"text-align: right;\">  1662614673</td></tr>\n",
       "<tr><td>TorchTrainer_6e8ceeee</td><td>TERMINATED</td><td>10.150.0.3:10178</td><td style=\"text-align: right;\">                    24</td><td>py_semantic           </td><td style=\"text-align: right;\">           0.000181459</td><td style=\"text-align: right;\">     5</td><td style=\"text-align: right;\">        109.722 </td><td style=\"text-align: right;\">10.7243 </td><td style=\"text-align: right;\">  11.7222 </td><td style=\"text-align: right;\">  1662614800</td></tr>\n",
       "<tr><td>TorchTrainer_8d6a8772</td><td>TERMINATED</td><td>10.150.0.3:10189</td><td style=\"text-align: right;\">                    18</td><td>py_satellite          </td><td style=\"text-align: right;\">           0.000375263</td><td style=\"text-align: right;\">     5</td><td style=\"text-align: right;\">         84.4454</td><td style=\"text-align: right;\"> 4.75276</td><td style=\"text-align: right;\">  11.841  </td><td style=\"text-align: right;\">  1662614776</td></tr>\n",
       "<tr><td>TorchTrainer_8df51bd0</td><td>TERMINATED</td><td>10.150.0.3:11812</td><td style=\"text-align: right;\">                    18</td><td>py_satellite          </td><td style=\"text-align: right;\">           0.000148744</td><td style=\"text-align: right;\">     5</td><td style=\"text-align: right;\">         77.9675</td><td style=\"text-align: right;\">10.573  </td><td style=\"text-align: right;\">  12.2735 </td><td style=\"text-align: right;\">  1662614870</td></tr>\n",
       "<tr><td>TorchTrainer_ca0ed052</td><td>TERMINATED</td><td>10.150.0.3:12182</td><td style=\"text-align: right;\">                    12</td><td>py_satellite          </td><td style=\"text-align: right;\">           0.00796909 </td><td style=\"text-align: right;\">     5</td><td style=\"text-align: right;\">         55.6806</td><td style=\"text-align: right;\"> 7.06985</td><td style=\"text-align: right;\">   9.54556</td><td style=\"text-align: right;\">  1662614872</td></tr>\n",
       "<tr><td>TorchTrainer_d8e3e4d2</td><td>TERMINATED</td><td>10.150.0.3:13605</td><td style=\"text-align: right;\">                    24</td><td>py_semantic           </td><td style=\"text-align: right;\">           0.00986221 </td><td style=\"text-align: right;\">     5</td><td style=\"text-align: right;\">        111.268 </td><td style=\"text-align: right;\">14.3147 </td><td style=\"text-align: right;\">  19.9602 </td><td style=\"text-align: right;\">  1662615007</td></tr>\n",
       "<tr><td>TorchTrainer_07b631de</td><td>TERMINATED</td><td>10.150.0.3:13649</td><td style=\"text-align: right;\">                    24</td><td>py_satellite          </td><td style=\"text-align: right;\">           0.00246939 </td><td style=\"text-align: right;\">     5</td><td style=\"text-align: right;\">        109.663 </td><td style=\"text-align: right;\"> 7.7416 </td><td style=\"text-align: right;\">   8.39823</td><td style=\"text-align: right;\">  1662615006</td></tr>\n",
       "<tr><td>TorchTrainer_082e214e</td><td>TERMINATED</td><td>10.150.0.3:15339</td><td style=\"text-align: right;\">                    24</td><td>py_satellite          </td><td style=\"text-align: right;\">           0.00246687 </td><td style=\"text-align: right;\">     5</td><td style=\"text-align: right;\">        105.574 </td><td style=\"text-align: right;\"> 6.93945</td><td style=\"text-align: right;\">   8.44168</td><td style=\"text-align: right;\">  1662615134</td></tr>\n",
       "<tr><td>TorchTrainer_56478cc6</td><td>TERMINATED</td><td>10.150.0.3:15357</td><td style=\"text-align: right;\">                    24</td><td>py_satellite          </td><td style=\"text-align: right;\">           0.00171176 </td><td style=\"text-align: right;\">     5</td><td style=\"text-align: right;\">        104.586 </td><td style=\"text-align: right;\"> 4.43758</td><td style=\"text-align: right;\">   8.11612</td><td style=\"text-align: right;\">  1662615133</td></tr>\n",
       "<tr><td>TorchTrainer_56dc131e</td><td>TERMINATED</td><td>10.150.0.3:17041</td><td style=\"text-align: right;\">                    24</td><td>py_satellite          </td><td style=\"text-align: right;\">           0.00162639 </td><td style=\"text-align: right;\">     5</td><td style=\"text-align: right;\">        111.321 </td><td style=\"text-align: right;\"> 5.06031</td><td style=\"text-align: right;\">   7.35024</td><td style=\"text-align: right;\">  1662615270</td></tr>\n",
       "<tr><td>TorchTrainer_a48893e4</td><td>TERMINATED</td><td>10.150.0.3:17063</td><td style=\"text-align: right;\">                    12</td><td>py_satellite          </td><td style=\"text-align: right;\">           0.0012529  </td><td style=\"text-align: right;\">     5</td><td style=\"text-align: right;\">         57.9076</td><td style=\"text-align: right;\"> 7.90636</td><td style=\"text-align: right;\">  10.5027 </td><td style=\"text-align: right;\">  1662615217</td></tr>\n",
       "<tr><td>TorchTrainer_a4f3d74e</td><td>TERMINATED</td><td>10.150.0.3:18196</td><td style=\"text-align: right;\">                     6</td><td>py_satellite          </td><td style=\"text-align: right;\">           0.00117074 </td><td style=\"text-align: right;\">     5</td><td style=\"text-align: right;\">         35.036 </td><td style=\"text-align: right;\"> 8.79505</td><td style=\"text-align: right;\">   6.88771</td><td style=\"text-align: right;\">  1662615268</td></tr>\n",
       "<tr><td>TorchTrainer_d1981512</td><td>TERMINATED</td><td>10.150.0.3:19185</td><td style=\"text-align: right;\">                     6</td><td>py_satellite          </td><td style=\"text-align: right;\">           0.00121268 </td><td style=\"text-align: right;\">     5</td><td style=\"text-align: right;\">         39.9737</td><td style=\"text-align: right;\"> 3.73493</td><td style=\"text-align: right;\">   7.47677</td><td style=\"text-align: right;\">  1662615330</td></tr>\n",
       "<tr><td>TorchTrainer_f2d73334</td><td>TERMINATED</td><td>10.150.0.3:19193</td><td style=\"text-align: right;\">                     6</td><td>py_satellite          </td><td style=\"text-align: right;\">           0.000772242</td><td style=\"text-align: right;\">     5</td><td style=\"text-align: right;\">         39.1072</td><td style=\"text-align: right;\"> 3.32016</td><td style=\"text-align: right;\">   7.45438</td><td style=\"text-align: right;\">  1662615329</td></tr>\n",
       "<tr><td>TorchTrainer_f32107e8</td><td>TERMINATED</td><td>10.150.0.3:20344</td><td style=\"text-align: right;\">                     6</td><td>py_satellite          </td><td style=\"text-align: right;\">           0.00074608 </td><td style=\"text-align: right;\">     5</td><td style=\"text-align: right;\">         39.7428</td><td style=\"text-align: right;\"> 3.94452</td><td style=\"text-align: right;\">   8.27955</td><td style=\"text-align: right;\">  1662615394</td></tr>\n",
       "<tr><td>TorchTrainer_19844d6e</td><td>TERMINATED</td><td>10.150.0.3:20378</td><td style=\"text-align: right;\">                    12</td><td>py_satellite          </td><td style=\"text-align: right;\">           0.00489112 </td><td style=\"text-align: right;\">     5</td><td style=\"text-align: right;\">         59.618 </td><td style=\"text-align: right;\">11.967  </td><td style=\"text-align: right;\">  10.594  </td><td style=\"text-align: right;\">  1662615415</td></tr>\n",
       "<tr><td>TorchTrainer_19e3435a</td><td>TERMINATED</td><td>10.150.0.3:21458</td><td style=\"text-align: right;\">                    12</td><td>py_satellite          </td><td style=\"text-align: right;\">           0.00450815 </td><td style=\"text-align: right;\">     5</td><td style=\"text-align: right;\">         57.7773</td><td style=\"text-align: right;\"> 5.81498</td><td style=\"text-align: right;\">   9.52373</td><td style=\"text-align: right;\">  1662615466</td></tr>\n",
       "<tr><td>TorchTrainer_39689a2c</td><td>TERMINATED</td><td>10.150.0.3:22267</td><td style=\"text-align: right;\">                     6</td><td>py_satellite          </td><td style=\"text-align: right;\">           0.000737451</td><td style=\"text-align: right;\">     5</td><td style=\"text-align: right;\">         35.6873</td><td style=\"text-align: right;\"> 2.07866</td><td style=\"text-align: right;\">  11.085  </td><td style=\"text-align: right;\">  1662615466</td></tr>\n",
       "<tr><td>TorchTrainer_466c2d38</td><td>TERMINATED</td><td>10.150.0.3:23274</td><td style=\"text-align: right;\">                     6</td><td>py_satellite          </td><td style=\"text-align: right;\">           0.000775917</td><td style=\"text-align: right;\">     5</td><td style=\"text-align: right;\">         29.8199</td><td style=\"text-align: right;\"> 6.03929</td><td style=\"text-align: right;\">  10.9815 </td><td style=\"text-align: right;\">  1662615518</td></tr>\n",
       "</tbody>\n",
       "</table><br><br>"
      ],
      "text/plain": [
       "<IPython.core.display.HTML object>"
      ]
     },
     "metadata": {},
     "output_type": "display_data"
    },
    {
     "name": "stderr",
     "output_type": "stream",
     "text": [
      "\u001b[2m\u001b[36m(RayTrainWorker pid=4750)\u001b[0m 2022-09-08 05:18:57,940\tINFO config.py:72 -- Setting up process group for: env:// [rank=0, world_size=1]\n",
      "\u001b[2m\u001b[36m(RayTrainWorker pid=4861)\u001b[0m 2022-09-08 05:19:04,326\tINFO config.py:72 -- Setting up process group for: env:// [rank=0, world_size=1]\n",
      "\u001b[2m\u001b[36m(RayTrainWorker pid=4750)\u001b[0m /opt/conda/lib/python3.7/site-packages/l5kit/planning/rasterized/model.py:31: UserWarning: There is no pre-trained model with num_in_channels != 3, first layer will be reset\n",
      "\u001b[2m\u001b[36m(RayTrainWorker pid=4750)\u001b[0m   warnings.warn(\"There is no pre-trained model with num_in_channels != 3, first layer will be reset\")\n",
      "\u001b[2m\u001b[36m(RayTrainWorker pid=4750)\u001b[0m /opt/conda/lib/python3.7/site-packages/torchvision/models/_utils.py:209: UserWarning: The parameter 'pretrained' is deprecated since 0.13 and will be removed in 0.15, please use 'weights' instead.\n",
      "\u001b[2m\u001b[36m(RayTrainWorker pid=4750)\u001b[0m   f\"The parameter '{pretrained_param}' is deprecated since 0.13 and will be removed in 0.15, \"\n",
      "\u001b[2m\u001b[36m(RayTrainWorker pid=4750)\u001b[0m /opt/conda/lib/python3.7/site-packages/torchvision/models/_utils.py:223: UserWarning: Arguments other than a weight enum or `None` for 'weights' are deprecated since 0.13 and will be removed in 0.15. The current behavior is equivalent to passing `weights=ResNet50_Weights.IMAGENET1K_V1`. You can also use `weights=ResNet50_Weights.DEFAULT` to get the most up-to-date weights.\n",
      "\u001b[2m\u001b[36m(RayTrainWorker pid=4750)\u001b[0m   warnings.warn(msg)\n",
      "\u001b[2m\u001b[36m(RayTrainWorker pid=4750)\u001b[0m 2022-09-08 05:19:08,829\tINFO train_loop_utils.py:300 -- Moving model to device: cpu\n",
      "\u001b[2m\u001b[36m(RayTrainWorker pid=4861)\u001b[0m /opt/conda/lib/python3.7/site-packages/l5kit/planning/rasterized/model.py:31: UserWarning: There is no pre-trained model with num_in_channels != 3, first layer will be reset\n",
      "\u001b[2m\u001b[36m(RayTrainWorker pid=4861)\u001b[0m   warnings.warn(\"There is no pre-trained model with num_in_channels != 3, first layer will be reset\")\n",
      "\u001b[2m\u001b[36m(RayTrainWorker pid=4861)\u001b[0m /opt/conda/lib/python3.7/site-packages/torchvision/models/_utils.py:209: UserWarning: The parameter 'pretrained' is deprecated since 0.13 and will be removed in 0.15, please use 'weights' instead.\n",
      "\u001b[2m\u001b[36m(RayTrainWorker pid=4861)\u001b[0m   f\"The parameter '{pretrained_param}' is deprecated since 0.13 and will be removed in 0.15, \"\n",
      "\u001b[2m\u001b[36m(RayTrainWorker pid=4861)\u001b[0m /opt/conda/lib/python3.7/site-packages/torchvision/models/_utils.py:223: UserWarning: Arguments other than a weight enum or `None` for 'weights' are deprecated since 0.13 and will be removed in 0.15. The current behavior is equivalent to passing `weights=ResNet50_Weights.IMAGENET1K_V1`. You can also use `weights=ResNet50_Weights.DEFAULT` to get the most up-to-date weights.\n",
      "\u001b[2m\u001b[36m(RayTrainWorker pid=4861)\u001b[0m   warnings.warn(msg)\n",
      "\u001b[2m\u001b[36m(RayTrainWorker pid=4861)\u001b[0m 2022-09-08 05:19:11,548\tINFO train_loop_utils.py:300 -- Moving model to device: cpu\n"
     ]
    },
    {
     "name": "stdout",
     "output_type": "stream",
     "text": [
      "\u001b[2m\u001b[36m(RayTrainWorker pid=4861)\u001b[0m {'loss': 11.340069770812988, 'avg_loss': 11.340069770812988}\n"
     ]
    },
    {
     "name": "stderr",
     "output_type": "stream",
     "text": [
      "\u001b[34m\u001b[1mwandb\u001b[0m: Adding directory to artifact (/home/jupyter/ray_results/TorchTrainer_2022-09-08_05-18-50/TorchTrainer_bb34233a_2_batch_size=12.0000,format_version=4,future_num_frames=12,history_num_frames=0,model_architecture=resnet50,_2022-09-08_05-18-53/checkpoint_000000)... "
     ]
    },
    {
     "name": "stdout",
     "output_type": "stream",
     "text": [
      "Result for TorchTrainer_bb34233a:\n",
      "  _time_this_iter_s: 18.661038637161255\n",
      "  _timestamp: 1662614363\n",
      "  _training_iteration: 1\n",
      "  avg_loss: 11.340069770812988\n",
      "  date: 2022-09-08_05-19-24\n",
      "  done: false\n",
      "  experiment_id: 8d6f1b75cbd04508a01e49b23e01eec7\n",
      "  hostname: anish-l5-kit\n",
      "  iterations_since_restore: 1\n",
      "  loss: 11.340069770812988\n",
      "  node_ip: 10.150.0.3\n",
      "  pid: 4751\n",
      "  should_checkpoint: true\n",
      "  time_since_restore: 25.291318893432617\n",
      "  time_this_iter_s: 25.291318893432617\n",
      "  time_total_s: 25.291318893432617\n",
      "  timestamp: 1662614364\n",
      "  timesteps_since_restore: 0\n",
      "  training_iteration: 1\n",
      "  trial_id: bb34233a\n",
      "  warmup_time: 0.01678323745727539\n",
      "  \n"
     ]
    },
    {
     "name": "stderr",
     "output_type": "stream",
     "text": [
      "Done. 1.1s\n"
     ]
    },
    {
     "name": "stdout",
     "output_type": "stream",
     "text": [
      "\u001b[2m\u001b[36m(RayTrainWorker pid=4750)\u001b[0m {'loss': 15.483832359313965, 'avg_loss': 15.483832359313965}\n"
     ]
    },
    {
     "name": "stderr",
     "output_type": "stream",
     "text": [
      "\u001b[34m\u001b[1mwandb\u001b[0m: Adding directory to artifact (/home/jupyter/ray_results/TorchTrainer_2022-09-08_05-18-50/TorchTrainer_b92ccfec_1_batch_size=18.0000,format_version=4,future_num_frames=12,history_num_frames=0,model_architecture=resnet50,_2022-09-08_05-18-50/checkpoint_000000)... "
     ]
    },
    {
     "name": "stdout",
     "output_type": "stream",
     "text": [
      "Result for TorchTrainer_b92ccfec:\n",
      "  _time_this_iter_s: 27.20443081855774\n",
      "  _timestamp: 1662614365\n",
      "  _training_iteration: 1\n",
      "  avg_loss: 15.483832359313965\n",
      "  date: 2022-09-08_05-19-26\n",
      "  done: false\n",
      "  experiment_id: f9a874a06c85451abb488b73768d9bf7\n",
      "  hostname: anish-l5-kit\n",
      "  iterations_since_restore: 1\n",
      "  loss: 15.483832359313965\n",
      "  node_ip: 10.150.0.3\n",
      "  pid: 4679\n",
      "  should_checkpoint: true\n",
      "  time_since_restore: 32.57356834411621\n",
      "  time_this_iter_s: 32.57356834411621\n",
      "  time_total_s: 32.57356834411621\n",
      "  timestamp: 1662614366\n",
      "  timesteps_since_restore: 0\n",
      "  training_iteration: 1\n",
      "  trial_id: b92ccfec\n",
      "  warmup_time: 0.004803895950317383\n",
      "  \n"
     ]
    },
    {
     "name": "stderr",
     "output_type": "stream",
     "text": [
      "Done. 1.1s\n"
     ]
    },
    {
     "name": "stdout",
     "output_type": "stream",
     "text": [
      "\u001b[2m\u001b[36m(RayTrainWorker pid=4861)\u001b[0m {'loss': 13.776616096496582, 'avg_loss': 12.558342933654785}\n"
     ]
    },
    {
     "name": "stderr",
     "output_type": "stream",
     "text": [
      "\u001b[34m\u001b[1mwandb\u001b[0m: Adding directory to artifact (/home/jupyter/ray_results/TorchTrainer_2022-09-08_05-18-50/TorchTrainer_bb34233a_2_batch_size=12.0000,format_version=4,future_num_frames=12,history_num_frames=0,model_architecture=resnet50,_2022-09-08_05-18-53/checkpoint_000001)... "
     ]
    },
    {
     "name": "stdout",
     "output_type": "stream",
     "text": [
      "Result for TorchTrainer_bb34233a:\n",
      "  _time_this_iter_s: 9.029812335968018\n",
      "  _timestamp: 1662614372\n",
      "  _training_iteration: 2\n",
      "  avg_loss: 12.558342933654785\n",
      "  date: 2022-09-08_05-19-32\n",
      "  done: false\n",
      "  experiment_id: 8d6f1b75cbd04508a01e49b23e01eec7\n",
      "  hostname: anish-l5-kit\n",
      "  iterations_since_restore: 2\n",
      "  loss: 13.776616096496582\n",
      "  node_ip: 10.150.0.3\n",
      "  pid: 4751\n",
      "  should_checkpoint: true\n",
      "  time_since_restore: 34.19834589958191\n",
      "  time_this_iter_s: 8.907027006149292\n",
      "  time_total_s: 34.19834589958191\n",
      "  timestamp: 1662614372\n",
      "  timesteps_since_restore: 0\n",
      "  training_iteration: 2\n",
      "  trial_id: bb34233a\n",
      "  warmup_time: 0.01678323745727539\n",
      "  \n"
     ]
    },
    {
     "name": "stderr",
     "output_type": "stream",
     "text": [
      "Done. 1.1s\n"
     ]
    },
    {
     "name": "stdout",
     "output_type": "stream",
     "text": [
      "\u001b[2m\u001b[36m(RayTrainWorker pid=4750)\u001b[0m {'loss': 7.0995941162109375, 'avg_loss': 11.291713237762451}\n"
     ]
    },
    {
     "name": "stderr",
     "output_type": "stream",
     "text": [
      "\u001b[34m\u001b[1mwandb\u001b[0m: Adding directory to artifact (/home/jupyter/ray_results/TorchTrainer_2022-09-08_05-18-50/TorchTrainer_b92ccfec_1_batch_size=18.0000,format_version=4,future_num_frames=12,history_num_frames=0,model_architecture=resnet50,_2022-09-08_05-18-50/checkpoint_000001)... "
     ]
    },
    {
     "name": "stdout",
     "output_type": "stream",
     "text": [
      "Result for TorchTrainer_b92ccfec:\n",
      "  _time_this_iter_s: 13.199923038482666\n",
      "  _timestamp: 1662614378\n",
      "  _training_iteration: 2\n",
      "  avg_loss: 11.291713237762451\n",
      "  date: 2022-09-08_05-19-39\n",
      "  done: false\n",
      "  experiment_id: f9a874a06c85451abb488b73768d9bf7\n",
      "  hostname: anish-l5-kit\n",
      "  iterations_since_restore: 2\n",
      "  loss: 7.0995941162109375\n",
      "  node_ip: 10.150.0.3\n",
      "  pid: 4679\n",
      "  should_checkpoint: true\n",
      "  time_since_restore: 45.5499050617218\n",
      "  time_this_iter_s: 12.97633671760559\n",
      "  time_total_s: 45.5499050617218\n",
      "  timestamp: 1662614379\n",
      "  timesteps_since_restore: 0\n",
      "  training_iteration: 2\n",
      "  trial_id: b92ccfec\n",
      "  warmup_time: 0.004803895950317383\n",
      "  \n"
     ]
    },
    {
     "name": "stderr",
     "output_type": "stream",
     "text": [
      "Done. 1.1s\n"
     ]
    },
    {
     "name": "stdout",
     "output_type": "stream",
     "text": [
      "\u001b[2m\u001b[36m(RayTrainWorker pid=4861)\u001b[0m {'loss': 14.39365291595459, 'avg_loss': 13.17011292775472}\n"
     ]
    },
    {
     "name": "stderr",
     "output_type": "stream",
     "text": [
      "\u001b[34m\u001b[1mwandb\u001b[0m: Adding directory to artifact (/home/jupyter/ray_results/TorchTrainer_2022-09-08_05-18-50/TorchTrainer_bb34233a_2_batch_size=12.0000,format_version=4,future_num_frames=12,history_num_frames=0,model_architecture=resnet50,_2022-09-08_05-18-53/checkpoint_000002)... "
     ]
    },
    {
     "name": "stdout",
     "output_type": "stream",
     "text": [
      "Result for TorchTrainer_bb34233a:\n",
      "  _time_this_iter_s: 8.54618239402771\n",
      "  _timestamp: 1662614381\n",
      "  _training_iteration: 3\n",
      "  avg_loss: 13.17011292775472\n",
      "  date: 2022-09-08_05-19-41\n",
      "  done: false\n",
      "  experiment_id: 8d6f1b75cbd04508a01e49b23e01eec7\n",
      "  hostname: anish-l5-kit\n",
      "  iterations_since_restore: 3\n",
      "  loss: 14.39365291595459\n",
      "  node_ip: 10.150.0.3\n",
      "  pid: 4751\n",
      "  should_checkpoint: true\n",
      "  time_since_restore: 42.7030348777771\n",
      "  time_this_iter_s: 8.50468897819519\n",
      "  time_total_s: 42.7030348777771\n",
      "  timestamp: 1662614381\n",
      "  timesteps_since_restore: 0\n",
      "  training_iteration: 3\n",
      "  trial_id: bb34233a\n",
      "  warmup_time: 0.01678323745727539\n",
      "  \n"
     ]
    },
    {
     "name": "stderr",
     "output_type": "stream",
     "text": [
      "Done. 1.1s\n"
     ]
    },
    {
     "name": "stdout",
     "output_type": "stream",
     "text": [
      "\u001b[2m\u001b[36m(RayTrainWorker pid=4861)\u001b[0m {'loss': 12.058097839355469, 'avg_loss': 12.892109155654907}\n"
     ]
    },
    {
     "name": "stderr",
     "output_type": "stream",
     "text": [
      "\u001b[34m\u001b[1mwandb\u001b[0m: Adding directory to artifact (/home/jupyter/ray_results/TorchTrainer_2022-09-08_05-18-50/TorchTrainer_bb34233a_2_batch_size=12.0000,format_version=4,future_num_frames=12,history_num_frames=0,model_architecture=resnet50,_2022-09-08_05-18-53/checkpoint_000003)... "
     ]
    },
    {
     "name": "stdout",
     "output_type": "stream",
     "text": [
      "Result for TorchTrainer_bb34233a:\n",
      "  _time_this_iter_s: 8.411531925201416\n",
      "  _timestamp: 1662614389\n",
      "  _training_iteration: 4\n",
      "  avg_loss: 12.892109155654907\n",
      "  date: 2022-09-08_05-19-49\n",
      "  done: false\n",
      "  experiment_id: 8d6f1b75cbd04508a01e49b23e01eec7\n",
      "  hostname: anish-l5-kit\n",
      "  iterations_since_restore: 4\n",
      "  loss: 12.058097839355469\n",
      "  node_ip: 10.150.0.3\n",
      "  pid: 4751\n",
      "  should_checkpoint: true\n",
      "  time_since_restore: 51.14816331863403\n",
      "  time_this_iter_s: 8.445128440856934\n",
      "  time_total_s: 51.14816331863403\n",
      "  timestamp: 1662614389\n",
      "  timesteps_since_restore: 0\n",
      "  training_iteration: 4\n",
      "  trial_id: bb34233a\n",
      "  warmup_time: 0.01678323745727539\n",
      "  \n"
     ]
    },
    {
     "name": "stderr",
     "output_type": "stream",
     "text": [
      "Done. 1.0s\n"
     ]
    },
    {
     "name": "stdout",
     "output_type": "stream",
     "text": [
      "\u001b[2m\u001b[36m(RayTrainWorker pid=4750)\u001b[0m {'loss': 9.189425468444824, 'avg_loss': 10.590950647989908}\n",
      "Result for TorchTrainer_b92ccfec:\n",
      "  _time_this_iter_s: 12.931106805801392\n",
      "  _timestamp: 1662614391\n",
      "  _training_iteration: 3\n",
      "  avg_loss: 10.590950647989908\n",
      "  date: 2022-09-08_05-19-52\n",
      "  done: false\n",
      "  experiment_id: f9a874a06c85451abb488b73768d9bf7\n",
      "  hostname: anish-l5-kit\n",
      "  iterations_since_restore: 3\n",
      "  loss: 9.189425468444824\n",
      "  node_ip: 10.150.0.3\n",
      "  pid: 4679\n",
      "  should_checkpoint: true\n",
      "  time_since_restore: 58.71311402320862\n",
      "  time_this_iter_s: 13.163208961486816\n",
      "  time_total_s: 58.71311402320862\n",
      "  timestamp: 1662614392\n",
      "  timesteps_since_restore: 0\n",
      "  training_iteration: 3\n",
      "  trial_id: b92ccfec\n",
      "  warmup_time: 0.004803895950317383\n",
      "  \n"
     ]
    },
    {
     "name": "stderr",
     "output_type": "stream",
     "text": [
      "\u001b[34m\u001b[1mwandb\u001b[0m: Adding directory to artifact (/home/jupyter/ray_results/TorchTrainer_2022-09-08_05-18-50/TorchTrainer_b92ccfec_1_batch_size=18.0000,format_version=4,future_num_frames=12,history_num_frames=0,model_architecture=resnet50,_2022-09-08_05-18-50/checkpoint_000002)... Done. 1.5s\n"
     ]
    },
    {
     "name": "stdout",
     "output_type": "stream",
     "text": [
      "\u001b[2m\u001b[36m(RayTrainWorker pid=4861)\u001b[0m {'loss': 7.962991237640381, 'avg_loss': 11.906285572052003}\n"
     ]
    },
    {
     "name": "stderr",
     "output_type": "stream",
     "text": [
      "\u001b[34m\u001b[1mwandb\u001b[0m: Adding directory to artifact (/home/jupyter/ray_results/TorchTrainer_2022-09-08_05-18-50/TorchTrainer_bb34233a_2_batch_size=12.0000,format_version=4,future_num_frames=12,history_num_frames=0,model_architecture=resnet50,_2022-09-08_05-18-53/checkpoint_000004)... "
     ]
    },
    {
     "name": "stdout",
     "output_type": "stream",
     "text": [
      "Result for TorchTrainer_bb34233a:\n",
      "  _time_this_iter_s: 8.996372938156128\n",
      "  _timestamp: 1662614398\n",
      "  _training_iteration: 5\n",
      "  avg_loss: 11.906285572052003\n",
      "  date: 2022-09-08_05-19-58\n",
      "  done: false\n",
      "  experiment_id: 8d6f1b75cbd04508a01e49b23e01eec7\n",
      "  hostname: anish-l5-kit\n",
      "  iterations_since_restore: 5\n",
      "  loss: 7.962991237640381\n",
      "  node_ip: 10.150.0.3\n",
      "  pid: 4751\n",
      "  should_checkpoint: true\n",
      "  time_since_restore: 60.15587663650513\n",
      "  time_this_iter_s: 9.007713317871094\n",
      "  time_total_s: 60.15587663650513\n",
      "  timestamp: 1662614398\n",
      "  timesteps_since_restore: 0\n",
      "  training_iteration: 5\n",
      "  trial_id: bb34233a\n",
      "  warmup_time: 0.01678323745727539\n",
      "  \n"
     ]
    },
    {
     "name": "stderr",
     "output_type": "stream",
     "text": [
      "Done. 2.6s\n",
      "\u001b[34m\u001b[1mwandb\u001b[0m: Adding directory to artifact (/home/jupyter/ray_results/TorchTrainer_2022-09-08_05-18-50/TorchTrainer_bb34233a_2_batch_size=12.0000,format_version=4,future_num_frames=12,history_num_frames=0,model_architecture=resnet50,_2022-09-08_05-18-53/checkpoint_000004)... Done. 0.7s\n"
     ]
    },
    {
     "data": {
      "text/html": [
       "Waiting for W&B process to finish... <strong style=\"color:green\">(success).</strong>"
      ],
      "text/plain": [
       "<IPython.core.display.HTML object>"
      ]
     },
     "metadata": {},
     "output_type": "display_data"
    },
    {
     "name": "stdout",
     "output_type": "stream",
     "text": [
      "\u001b[2m\u001b[36m(RayTrainWorker pid=4750)\u001b[0m {'loss': 10.754727363586426, 'avg_loss': 10.631894826889038}\n"
     ]
    },
    {
     "data": {
      "application/vnd.jupyter.widget-view+json": {
       "model_id": "fa12137493224721a5627c7e10dd3b3d",
       "version_major": 2,
       "version_minor": 0
      },
      "text/plain": [
       "VBox(children=(Label(value='452.176 MB of 452.176 MB uploaded (90.296 MB deduped)\\r'), FloatProgress(value=1.0…"
      ]
     },
     "metadata": {},
     "output_type": "display_data"
    },
    {
     "data": {
      "text/html": [
       "W&B sync reduced upload amount by 20.0%             "
      ],
      "text/plain": [
       "<IPython.core.display.HTML object>"
      ]
     },
     "metadata": {},
     "output_type": "display_data"
    },
    {
     "name": "stdout",
     "output_type": "stream",
     "text": [
      "Result for TorchTrainer_bb34233a:\n",
      "  _time_this_iter_s: 8.996372938156128\n",
      "  _timestamp: 1662614398\n",
      "  _training_iteration: 5\n",
      "  avg_loss: 11.906285572052003\n",
      "  date: 2022-09-08_05-19-58\n",
      "  done: true\n",
      "  experiment_id: 8d6f1b75cbd04508a01e49b23e01eec7\n",
      "  experiment_tag: 2_batch_size=12.0000,format_version=4,future_num_frames=12,history_num_frames=0,model_architecture=resnet50,render_ego_history=True,step_time=0.1000,dataset_meta_key=meta_json,disable_traffic_light_faces=False,ego_center=0_25_0_5,filter_agents_threshold=0.5000,map_type=py_semantic,pixel_size=0_5_0_5,raster_size=224_224,satellite_map_key=aerial_map_aerial_map_png,semantic_map_key=semantic_map_semantic_map_pb,set_origin_to_bottom=True,batch_size=12,key=scenes_sample_zarr,num_workers=16,perturb_probability=0.5000,shuffle=True,checkpoint_every_n_steps=10000,eval_every_n_steps=10000,max_num_steps=5,batch_size=12,key=scenes_sample_zarr,num_workers=16,shuffle=False,dataset_key=scenes_sample_zarr,lr=0.0004,max_num_steps=5,num_workers=4,perturb_probability=0.5000,shuffle=True\n",
      "  hostname: anish-l5-kit\n",
      "  iterations_since_restore: 5\n",
      "  loss: 7.962991237640381\n",
      "  node_ip: 10.150.0.3\n",
      "  pid: 4751\n",
      "  should_checkpoint: true\n",
      "  time_since_restore: 60.15587663650513\n",
      "  time_this_iter_s: 9.007713317871094\n",
      "  time_total_s: 60.15587663650513\n",
      "  timestamp: 1662614398\n",
      "  timesteps_since_restore: 0\n",
      "  training_iteration: 5\n",
      "  trial_id: bb34233a\n",
      "  warmup_time: 0.01678323745727539\n",
      "  \n"
     ]
    },
    {
     "name": "stderr",
     "output_type": "stream",
     "text": [
      "\u001b[34m\u001b[1mwandb\u001b[0m: Adding directory to artifact (/home/jupyter/ray_results/TorchTrainer_2022-09-08_05-18-50/TorchTrainer_b92ccfec_1_batch_size=18.0000,format_version=4,future_num_frames=12,history_num_frames=0,model_architecture=resnet50,_2022-09-08_05-18-50/checkpoint_000003)... "
     ]
    },
    {
     "data": {
      "text/html": [
       "<style>\n",
       "    table.wandb td:nth-child(1) { padding: 0 10px; text-align: left ; width: auto;} td:nth-child(2) {text-align: left ; width: 100%}\n",
       "    .wandb-row { display: flex; flex-direction: row; flex-wrap: wrap; justify-content: flex-start; width: 100% }\n",
       "    .wandb-col { display: flex; flex-direction: column; flex-basis: 100%; flex: 1; padding: 10px; }\n",
       "    </style>\n",
       "<div class=\"wandb-row\"><div class=\"wandb-col\"><h3>Run history:</h3><br/><table class=\"wandb\"><tr><td>avg_loss</td><td>▁▆█▇▃</td></tr><tr><td>iterations_since_restore</td><td>▁▃▅▆█</td></tr><tr><td>loss</td><td>▅▇█▅▁</td></tr><tr><td>time_since_restore</td><td>▁▃▄▆█</td></tr><tr><td>time_this_iter_s</td><td>█▁▁▁▁</td></tr><tr><td>time_total_s</td><td>▁▃▄▆█</td></tr><tr><td>timestamp</td><td>▁▃▅▆█</td></tr><tr><td>timesteps_since_restore</td><td>▁▁▁▁▁</td></tr><tr><td>training_iteration</td><td>▁▃▅▆█</td></tr><tr><td>warmup_time</td><td>▁▁▁▁▁</td></tr></table><br/></div><div class=\"wandb-col\"><h3>Run summary:</h3><br/><table class=\"wandb\"><tr><td>avg_loss</td><td>11.90629</td></tr><tr><td>iterations_since_restore</td><td>5</td></tr><tr><td>loss</td><td>7.96299</td></tr><tr><td>time_since_restore</td><td>60.15588</td></tr><tr><td>time_this_iter_s</td><td>9.00771</td></tr><tr><td>time_total_s</td><td>60.15588</td></tr><tr><td>timestamp</td><td>1662614398</td></tr><tr><td>timesteps_since_restore</td><td>0</td></tr><tr><td>training_iteration</td><td>5</td></tr><tr><td>warmup_time</td><td>0.01678</td></tr></table><br/></div></div>"
      ],
      "text/plain": [
       "<IPython.core.display.HTML object>"
      ]
     },
     "metadata": {},
     "output_type": "display_data"
    },
    {
     "name": "stdout",
     "output_type": "stream",
     "text": [
      "Result for TorchTrainer_b92ccfec:\n",
      "  _time_this_iter_s: 13.459456205368042\n",
      "  _timestamp: 1662614405\n",
      "  _training_iteration: 4\n",
      "  avg_loss: 10.631894826889038\n",
      "  date: 2022-09-08_05-20-05\n",
      "  done: false\n",
      "  experiment_id: f9a874a06c85451abb488b73768d9bf7\n",
      "  hostname: anish-l5-kit\n",
      "  iterations_since_restore: 4\n",
      "  loss: 10.754727363586426\n",
      "  node_ip: 10.150.0.3\n",
      "  pid: 4679\n",
      "  should_checkpoint: true\n",
      "  time_since_restore: 71.88764500617981\n",
      "  time_this_iter_s: 13.174530982971191\n",
      "  time_total_s: 71.88764500617981\n",
      "  timestamp: 1662614405\n",
      "  timesteps_since_restore: 0\n",
      "  training_iteration: 4\n",
      "  trial_id: b92ccfec\n",
      "  warmup_time: 0.004803895950317383\n",
      "  \n"
     ]
    },
    {
     "data": {
      "text/html": [
       "Synced <strong style=\"color:#cdcd00\">TorchTrainer_bb34233a</strong>: <a href=\"https://wandb.ai/l5-demo/l5-planning-trials/runs/bb34233a\" target=\"_blank\">https://wandb.ai/l5-demo/l5-planning-trials/runs/bb34233a</a><br/>Synced 7 W&B file(s), 0 media file(s), 12 artifact file(s) and 1 other file(s)"
      ],
      "text/plain": [
       "<IPython.core.display.HTML object>"
      ]
     },
     "metadata": {},
     "output_type": "display_data"
    },
    {
     "data": {
      "text/html": [
       "Find logs at: <code>./wandb/run-20220908_051854-bb34233a/logs</code>"
      ],
      "text/plain": [
       "<IPython.core.display.HTML object>"
      ]
     },
     "metadata": {},
     "output_type": "display_data"
    },
    {
     "name": "stderr",
     "output_type": "stream",
     "text": [
      "Done. 1.0s\n",
      "\u001b[2m\u001b[36m(RayTrainWorker pid=6399)\u001b[0m 2022-09-08 05:20:17,538\tINFO config.py:72 -- Setting up process group for: env:// [rank=0, world_size=1]\n"
     ]
    },
    {
     "name": "stdout",
     "output_type": "stream",
     "text": [
      "\u001b[2m\u001b[36m(RayTrainWorker pid=4750)\u001b[0m {'loss': 5.882531642913818, 'avg_loss': 9.682022190093994}\n"
     ]
    },
    {
     "name": "stderr",
     "output_type": "stream",
     "text": [
      "\u001b[34m\u001b[1mwandb\u001b[0m: Adding directory to artifact (/home/jupyter/ray_results/TorchTrainer_2022-09-08_05-18-50/TorchTrainer_b92ccfec_1_batch_size=18.0000,format_version=4,future_num_frames=12,history_num_frames=0,model_architecture=resnet50,_2022-09-08_05-18-50/checkpoint_000004)... "
     ]
    },
    {
     "name": "stdout",
     "output_type": "stream",
     "text": [
      "Result for TorchTrainer_b92ccfec:\n",
      "  _time_this_iter_s: 14.017906904220581\n",
      "  _timestamp: 1662614419\n",
      "  _training_iteration: 5\n",
      "  avg_loss: 9.682022190093994\n",
      "  date: 2022-09-08_05-20-19\n",
      "  done: false\n",
      "  experiment_id: f9a874a06c85451abb488b73768d9bf7\n",
      "  hostname: anish-l5-kit\n",
      "  iterations_since_restore: 5\n",
      "  loss: 5.882531642913818\n",
      "  node_ip: 10.150.0.3\n",
      "  pid: 4679\n",
      "  should_checkpoint: true\n",
      "  time_since_restore: 85.99602723121643\n",
      "  time_this_iter_s: 14.108382225036621\n",
      "  time_total_s: 85.99602723121643\n",
      "  timestamp: 1662614419\n",
      "  timesteps_since_restore: 0\n",
      "  training_iteration: 5\n",
      "  trial_id: b92ccfec\n",
      "  warmup_time: 0.004803895950317383\n",
      "  \n"
     ]
    },
    {
     "name": "stderr",
     "output_type": "stream",
     "text": [
      "Done. 1.0s\n",
      "\u001b[34m\u001b[1mwandb\u001b[0m: Adding directory to artifact (/home/jupyter/ray_results/TorchTrainer_2022-09-08_05-18-50/TorchTrainer_b92ccfec_1_batch_size=18.0000,format_version=4,future_num_frames=12,history_num_frames=0,model_architecture=resnet50,_2022-09-08_05-18-50/checkpoint_000004)... Done. 0.3s\n"
     ]
    },
    {
     "data": {
      "text/html": [
       "Waiting for W&B process to finish... <strong style=\"color:green\">(success).</strong>"
      ],
      "text/plain": [
       "<IPython.core.display.HTML object>"
      ]
     },
     "metadata": {},
     "output_type": "display_data"
    },
    {
     "name": "stderr",
     "output_type": "stream",
     "text": [
      "\u001b[2m\u001b[36m(RayTrainWorker pid=6399)\u001b[0m /opt/conda/lib/python3.7/site-packages/l5kit/planning/rasterized/model.py:31: UserWarning: There is no pre-trained model with num_in_channels != 3, first layer will be reset\n",
      "\u001b[2m\u001b[36m(RayTrainWorker pid=6399)\u001b[0m   warnings.warn(\"There is no pre-trained model with num_in_channels != 3, first layer will be reset\")\n",
      "\u001b[2m\u001b[36m(RayTrainWorker pid=6399)\u001b[0m /opt/conda/lib/python3.7/site-packages/torchvision/models/_utils.py:209: UserWarning: The parameter 'pretrained' is deprecated since 0.13 and will be removed in 0.15, please use 'weights' instead.\n",
      "\u001b[2m\u001b[36m(RayTrainWorker pid=6399)\u001b[0m   f\"The parameter '{pretrained_param}' is deprecated since 0.13 and will be removed in 0.15, \"\n",
      "\u001b[2m\u001b[36m(RayTrainWorker pid=6399)\u001b[0m /opt/conda/lib/python3.7/site-packages/torchvision/models/_utils.py:223: UserWarning: Arguments other than a weight enum or `None` for 'weights' are deprecated since 0.13 and will be removed in 0.15. The current behavior is equivalent to passing `weights=ResNet50_Weights.IMAGENET1K_V1`. You can also use `weights=ResNet50_Weights.DEFAULT` to get the most up-to-date weights.\n",
      "\u001b[2m\u001b[36m(RayTrainWorker pid=6399)\u001b[0m   warnings.warn(msg)\n",
      "\u001b[2m\u001b[36m(RayTrainWorker pid=6399)\u001b[0m 2022-09-08 05:20:24,073\tINFO train_loop_utils.py:300 -- Moving model to device: cpu\n"
     ]
    },
    {
     "data": {
      "application/vnd.jupyter.widget-view+json": {
       "model_id": "6cc28fa94d1e4fa7b320d3c17720ab65",
       "version_major": 2,
       "version_minor": 0
      },
      "text/plain": [
       "VBox(children=(Label(value='452.176 MB of 452.176 MB uploaded (90.296 MB deduped)\\r'), FloatProgress(value=1.0…"
      ]
     },
     "metadata": {},
     "output_type": "display_data"
    },
    {
     "data": {
      "text/html": [
       "W&B sync reduced upload amount by 20.0%             "
      ],
      "text/plain": [
       "<IPython.core.display.HTML object>"
      ]
     },
     "metadata": {},
     "output_type": "display_data"
    },
    {
     "name": "stdout",
     "output_type": "stream",
     "text": [
      "Result for TorchTrainer_b92ccfec:\n",
      "  _time_this_iter_s: 14.017906904220581\n",
      "  _timestamp: 1662614419\n",
      "  _training_iteration: 5\n",
      "  avg_loss: 9.682022190093994\n",
      "  date: 2022-09-08_05-20-19\n",
      "  done: true\n",
      "  experiment_id: f9a874a06c85451abb488b73768d9bf7\n",
      "  experiment_tag: 1_batch_size=18.0000,format_version=4,future_num_frames=12,history_num_frames=0,model_architecture=resnet50,render_ego_history=True,step_time=0.1000,dataset_meta_key=meta_json,disable_traffic_light_faces=False,ego_center=0_25_0_5,filter_agents_threshold=0.5000,map_type=py_satellite,pixel_size=0_5_0_5,raster_size=224_224,satellite_map_key=aerial_map_aerial_map_png,semantic_map_key=semantic_map_semantic_map_pb,set_origin_to_bottom=True,batch_size=12,key=scenes_sample_zarr,num_workers=16,perturb_probability=0.5000,shuffle=True,checkpoint_every_n_steps=10000,eval_every_n_steps=10000,max_num_steps=5,batch_size=12,key=scenes_sample_zarr,num_workers=16,shuffle=False,dataset_key=scenes_sample_zarr,lr=0.0006,max_num_steps=5,num_workers=4,perturb_probability=0.5000,shuffle=True\n",
      "  hostname: anish-l5-kit\n",
      "  iterations_since_restore: 5\n",
      "  loss: 5.882531642913818\n",
      "  node_ip: 10.150.0.3\n",
      "  pid: 4679\n",
      "  should_checkpoint: true\n",
      "  time_since_restore: 85.99602723121643\n",
      "  time_this_iter_s: 14.108382225036621\n",
      "  time_total_s: 85.99602723121643\n",
      "  timestamp: 1662614419\n",
      "  timesteps_since_restore: 0\n",
      "  training_iteration: 5\n",
      "  trial_id: b92ccfec\n",
      "  warmup_time: 0.004803895950317383\n",
      "  \n"
     ]
    },
    {
     "data": {
      "text/html": [
       "<style>\n",
       "    table.wandb td:nth-child(1) { padding: 0 10px; text-align: left ; width: auto;} td:nth-child(2) {text-align: left ; width: 100%}\n",
       "    .wandb-row { display: flex; flex-direction: row; flex-wrap: wrap; justify-content: flex-start; width: 100% }\n",
       "    .wandb-col { display: flex; flex-direction: column; flex-basis: 100%; flex: 1; padding: 10px; }\n",
       "    </style>\n",
       "<div class=\"wandb-row\"><div class=\"wandb-col\"><h3>Run history:</h3><br/><table class=\"wandb\"><tr><td>avg_loss</td><td>█▃▂▂▁</td></tr><tr><td>iterations_since_restore</td><td>▁▃▅▆█</td></tr><tr><td>loss</td><td>█▂▃▅▁</td></tr><tr><td>time_since_restore</td><td>▁▃▄▆█</td></tr><tr><td>time_this_iter_s</td><td>█▁▁▁▁</td></tr><tr><td>time_total_s</td><td>▁▃▄▆█</td></tr><tr><td>timestamp</td><td>▁▃▄▆█</td></tr><tr><td>timesteps_since_restore</td><td>▁▁▁▁▁</td></tr><tr><td>training_iteration</td><td>▁▃▅▆█</td></tr><tr><td>warmup_time</td><td>▁▁▁▁▁</td></tr></table><br/></div><div class=\"wandb-col\"><h3>Run summary:</h3><br/><table class=\"wandb\"><tr><td>avg_loss</td><td>9.68202</td></tr><tr><td>iterations_since_restore</td><td>5</td></tr><tr><td>loss</td><td>5.88253</td></tr><tr><td>time_since_restore</td><td>85.99603</td></tr><tr><td>time_this_iter_s</td><td>14.10838</td></tr><tr><td>time_total_s</td><td>85.99603</td></tr><tr><td>timestamp</td><td>1662614419</td></tr><tr><td>timesteps_since_restore</td><td>0</td></tr><tr><td>training_iteration</td><td>5</td></tr><tr><td>warmup_time</td><td>0.0048</td></tr></table><br/></div></div>"
      ],
      "text/plain": [
       "<IPython.core.display.HTML object>"
      ]
     },
     "metadata": {},
     "output_type": "display_data"
    },
    {
     "data": {
      "text/html": [
       "Synced <strong style=\"color:#cdcd00\">TorchTrainer_b92ccfec</strong>: <a href=\"https://wandb.ai/l5-demo/l5-planning-trials/runs/b92ccfec\" target=\"_blank\">https://wandb.ai/l5-demo/l5-planning-trials/runs/b92ccfec</a><br/>Synced 7 W&B file(s), 0 media file(s), 12 artifact file(s) and 1 other file(s)"
      ],
      "text/plain": [
       "<IPython.core.display.HTML object>"
      ]
     },
     "metadata": {},
     "output_type": "display_data"
    },
    {
     "data": {
      "text/html": [
       "Find logs at: <code>./wandb/run-20220908_051850-b92ccfec/logs</code>"
      ],
      "text/plain": [
       "<IPython.core.display.HTML object>"
      ]
     },
     "metadata": {},
     "output_type": "display_data"
    },
    {
     "name": "stderr",
     "output_type": "stream",
     "text": [
      "\u001b[2m\u001b[36m(RayTrainWorker pid=6693)\u001b[0m 2022-09-08 05:20:39,257\tINFO config.py:72 -- Setting up process group for: env:// [rank=0, world_size=1]\n"
     ]
    },
    {
     "name": "stdout",
     "output_type": "stream",
     "text": [
      "\u001b[2m\u001b[36m(RayTrainWorker pid=6399)\u001b[0m {'loss': 17.71111297607422, 'avg_loss': 17.71111297607422}\n"
     ]
    },
    {
     "name": "stderr",
     "output_type": "stream",
     "text": [
      "\u001b[34m\u001b[1mwandb\u001b[0m: Adding directory to artifact (/home/jupyter/ray_results/TorchTrainer_2022-09-08_05-18-50/TorchTrainer_bb3d4924_3_batch_size=18.0000,format_version=4,future_num_frames=12,history_num_frames=0,model_architecture=resnet50,_2022-09-08_05-20-10/checkpoint_000000)... "
     ]
    },
    {
     "name": "stdout",
     "output_type": "stream",
     "text": [
      "Result for TorchTrainer_bb3d4924:\n",
      "  _time_this_iter_s: 23.200047969818115\n",
      "  _timestamp: 1662614441\n",
      "  _training_iteration: 1\n",
      "  avg_loss: 17.71111297607422\n",
      "  date: 2022-09-08_05-20-41\n",
      "  done: false\n",
      "  experiment_id: 43fed67e00a5493999e7abe1128673fd\n",
      "  hostname: anish-l5-kit\n",
      "  iterations_since_restore: 1\n",
      "  loss: 17.71111297607422\n",
      "  node_ip: 10.150.0.3\n",
      "  pid: 6324\n",
      "  should_checkpoint: true\n",
      "  time_since_restore: 27.35178303718567\n",
      "  time_this_iter_s: 27.35178303718567\n",
      "  time_total_s: 27.35178303718567\n",
      "  timestamp: 1662614441\n",
      "  timesteps_since_restore: 0\n",
      "  training_iteration: 1\n",
      "  trial_id: bb3d4924\n",
      "  warmup_time: 0.006744384765625\n",
      "  \n"
     ]
    },
    {
     "name": "stderr",
     "output_type": "stream",
     "text": [
      "Done. 1.0s\n",
      "\u001b[2m\u001b[36m(RayTrainWorker pid=6693)\u001b[0m /opt/conda/lib/python3.7/site-packages/l5kit/planning/rasterized/model.py:31: UserWarning: There is no pre-trained model with num_in_channels != 3, first layer will be reset\n",
      "\u001b[2m\u001b[36m(RayTrainWorker pid=6693)\u001b[0m   warnings.warn(\"There is no pre-trained model with num_in_channels != 3, first layer will be reset\")\n",
      "\u001b[2m\u001b[36m(RayTrainWorker pid=6693)\u001b[0m /opt/conda/lib/python3.7/site-packages/torchvision/models/_utils.py:209: UserWarning: The parameter 'pretrained' is deprecated since 0.13 and will be removed in 0.15, please use 'weights' instead.\n",
      "\u001b[2m\u001b[36m(RayTrainWorker pid=6693)\u001b[0m   f\"The parameter '{pretrained_param}' is deprecated since 0.13 and will be removed in 0.15, \"\n",
      "\u001b[2m\u001b[36m(RayTrainWorker pid=6693)\u001b[0m /opt/conda/lib/python3.7/site-packages/torchvision/models/_utils.py:223: UserWarning: Arguments other than a weight enum or `None` for 'weights' are deprecated since 0.13 and will be removed in 0.15. The current behavior is equivalent to passing `weights=ResNet50_Weights.IMAGENET1K_V1`. You can also use `weights=ResNet50_Weights.DEFAULT` to get the most up-to-date weights.\n",
      "\u001b[2m\u001b[36m(RayTrainWorker pid=6693)\u001b[0m   warnings.warn(msg)\n",
      "\u001b[2m\u001b[36m(RayTrainWorker pid=6693)\u001b[0m 2022-09-08 05:20:45,384\tINFO train_loop_utils.py:300 -- Moving model to device: cpu\n"
     ]
    },
    {
     "name": "stdout",
     "output_type": "stream",
     "text": [
      "\u001b[2m\u001b[36m(RayTrainWorker pid=6399)\u001b[0m {'loss': 11.539502143859863, 'avg_loss': 14.625307559967041}\n"
     ]
    },
    {
     "name": "stderr",
     "output_type": "stream",
     "text": [
      "\u001b[34m\u001b[1mwandb\u001b[0m: Adding directory to artifact (/home/jupyter/ray_results/TorchTrainer_2022-09-08_05-18-50/TorchTrainer_bb3d4924_3_batch_size=18.0000,format_version=4,future_num_frames=12,history_num_frames=0,model_architecture=resnet50,_2022-09-08_05-20-10/checkpoint_000001)... "
     ]
    },
    {
     "name": "stdout",
     "output_type": "stream",
     "text": [
      "Result for TorchTrainer_bb3d4924:\n",
      "  _time_this_iter_s: 16.950780153274536\n",
      "  _timestamp: 1662614458\n",
      "  _training_iteration: 2\n",
      "  avg_loss: 14.625307559967041\n",
      "  date: 2022-09-08_05-20-58\n",
      "  done: false\n",
      "  experiment_id: 43fed67e00a5493999e7abe1128673fd\n",
      "  hostname: anish-l5-kit\n",
      "  iterations_since_restore: 2\n",
      "  loss: 11.539502143859863\n",
      "  node_ip: 10.150.0.3\n",
      "  pid: 6324\n",
      "  should_checkpoint: true\n",
      "  time_since_restore: 44.2383828163147\n",
      "  time_this_iter_s: 16.88659977912903\n",
      "  time_total_s: 44.2383828163147\n",
      "  timestamp: 1662614458\n",
      "  timesteps_since_restore: 0\n",
      "  training_iteration: 2\n",
      "  trial_id: bb3d4924\n",
      "  warmup_time: 0.006744384765625\n",
      "  \n"
     ]
    },
    {
     "name": "stderr",
     "output_type": "stream",
     "text": [
      "Done. 1.1s\n"
     ]
    },
    {
     "name": "stdout",
     "output_type": "stream",
     "text": [
      "\u001b[2m\u001b[36m(RayTrainWorker pid=6693)\u001b[0m {'loss': 10.288769721984863, 'avg_loss': 10.288769721984863}\n"
     ]
    },
    {
     "name": "stderr",
     "output_type": "stream",
     "text": [
      "\u001b[34m\u001b[1mwandb\u001b[0m: Adding directory to artifact (/home/jupyter/ray_results/TorchTrainer_2022-09-08_05-18-50/TorchTrainer_e91748fe_4_batch_size=24.0000,format_version=4,future_num_frames=12,history_num_frames=0,model_architecture=resnet50,_2022-09-08_05-20-31/checkpoint_000000)... "
     ]
    },
    {
     "name": "stdout",
     "output_type": "stream",
     "text": [
      "Result for TorchTrainer_e91748fe:\n",
      "  _time_this_iter_s: 31.036097288131714\n",
      "  _timestamp: 1662614470\n",
      "  _training_iteration: 1\n",
      "  avg_loss: 10.288769721984863\n",
      "  date: 2022-09-08_05-21-11\n",
      "  done: false\n",
      "  experiment_id: 2e746e6826f24583aee627cc3973746e\n",
      "  hostname: anish-l5-kit\n",
      "  iterations_since_restore: 1\n",
      "  loss: 10.288769721984863\n",
      "  node_ip: 10.150.0.3\n",
      "  pid: 6621\n",
      "  should_checkpoint: true\n",
      "  time_since_restore: 35.827818870544434\n",
      "  time_this_iter_s: 35.827818870544434\n",
      "  time_total_s: 35.827818870544434\n",
      "  timestamp: 1662614471\n",
      "  timesteps_since_restore: 0\n",
      "  training_iteration: 1\n",
      "  trial_id: e91748fe\n",
      "  warmup_time: 0.007943391799926758\n",
      "  \n",
      "\u001b[2m\u001b[36m(RayTrainWorker pid=6399)\u001b[0m {'loss': 13.943074226379395, 'avg_loss': 14.397896448771158}\n"
     ]
    },
    {
     "name": "stderr",
     "output_type": "stream",
     "text": [
      "\u001b[34m\u001b[1mwandb\u001b[0m: Adding directory to artifact (/home/jupyter/ray_results/TorchTrainer_2022-09-08_05-18-50/TorchTrainer_bb3d4924_3_batch_size=18.0000,format_version=4,future_num_frames=12,history_num_frames=0,model_architecture=resnet50,_2022-09-08_05-20-10/checkpoint_000002)... Done. 1.0s\n"
     ]
    },
    {
     "name": "stdout",
     "output_type": "stream",
     "text": [
      "Result for TorchTrainer_bb3d4924:\n",
      "  _time_this_iter_s: 13.661121129989624\n",
      "  _timestamp: 1662614471\n",
      "  _training_iteration: 3\n",
      "  avg_loss: 14.397896448771158\n",
      "  date: 2022-09-08_05-21-12\n",
      "  done: false\n",
      "  experiment_id: 43fed67e00a5493999e7abe1128673fd\n",
      "  hostname: anish-l5-kit\n",
      "  iterations_since_restore: 3\n",
      "  loss: 13.943074226379395\n",
      "  node_ip: 10.150.0.3\n",
      "  pid: 6324\n",
      "  should_checkpoint: true\n",
      "  time_since_restore: 57.82619524002075\n",
      "  time_this_iter_s: 13.587812423706055\n",
      "  time_total_s: 57.82619524002075\n",
      "  timestamp: 1662614472\n",
      "  timesteps_since_restore: 0\n",
      "  training_iteration: 3\n",
      "  trial_id: bb3d4924\n",
      "  warmup_time: 0.006744384765625\n",
      "  \n"
     ]
    },
    {
     "name": "stderr",
     "output_type": "stream",
     "text": [
      "Done. 1.1s\n"
     ]
    },
    {
     "name": "stdout",
     "output_type": "stream",
     "text": [
      "\u001b[2m\u001b[36m(RayTrainWorker pid=6399)\u001b[0m {'loss': 10.032659530639648, 'avg_loss': 13.306587219238281}\n"
     ]
    },
    {
     "name": "stderr",
     "output_type": "stream",
     "text": [
      "\u001b[34m\u001b[1mwandb\u001b[0m: Adding directory to artifact (/home/jupyter/ray_results/TorchTrainer_2022-09-08_05-18-50/TorchTrainer_bb3d4924_3_batch_size=18.0000,format_version=4,future_num_frames=12,history_num_frames=0,model_architecture=resnet50,_2022-09-08_05-20-10/checkpoint_000003)... "
     ]
    },
    {
     "name": "stdout",
     "output_type": "stream",
     "text": [
      "Result for TorchTrainer_bb3d4924:\n",
      "  _time_this_iter_s: 12.259599208831787\n",
      "  _timestamp: 1662614484\n",
      "  _training_iteration: 4\n",
      "  avg_loss: 13.306587219238281\n",
      "  date: 2022-09-08_05-21-24\n",
      "  done: false\n",
      "  experiment_id: 43fed67e00a5493999e7abe1128673fd\n",
      "  hostname: anish-l5-kit\n",
      "  iterations_since_restore: 4\n",
      "  loss: 10.032659530639648\n",
      "  node_ip: 10.150.0.3\n",
      "  pid: 6324\n",
      "  should_checkpoint: true\n",
      "  time_since_restore: 70.17089200019836\n",
      "  time_this_iter_s: 12.344696760177612\n",
      "  time_total_s: 70.17089200019836\n",
      "  timestamp: 1662614484\n",
      "  timesteps_since_restore: 0\n",
      "  training_iteration: 4\n",
      "  trial_id: bb3d4924\n",
      "  warmup_time: 0.006744384765625\n",
      "  \n"
     ]
    },
    {
     "name": "stderr",
     "output_type": "stream",
     "text": [
      "Done. 1.0s\n"
     ]
    },
    {
     "name": "stdout",
     "output_type": "stream",
     "text": [
      "\u001b[2m\u001b[36m(RayTrainWorker pid=6693)\u001b[0m {'loss': 12.019135475158691, 'avg_loss': 11.153952598571777}\n"
     ]
    },
    {
     "name": "stderr",
     "output_type": "stream",
     "text": [
      "\u001b[34m\u001b[1mwandb\u001b[0m: Adding directory to artifact (/home/jupyter/ray_results/TorchTrainer_2022-09-08_05-18-50/TorchTrainer_e91748fe_4_batch_size=24.0000,format_version=4,future_num_frames=12,history_num_frames=0,model_architecture=resnet50,_2022-09-08_05-20-31/checkpoint_000001)... "
     ]
    },
    {
     "name": "stdout",
     "output_type": "stream",
     "text": [
      "Result for TorchTrainer_e91748fe:\n",
      "  _time_this_iter_s: 18.81213092803955\n",
      "  _timestamp: 1662614489\n",
      "  _training_iteration: 2\n",
      "  avg_loss: 11.153952598571777\n",
      "  date: 2022-09-08_05-21-30\n",
      "  done: false\n",
      "  experiment_id: 2e746e6826f24583aee627cc3973746e\n",
      "  hostname: anish-l5-kit\n",
      "  iterations_since_restore: 2\n",
      "  loss: 12.019135475158691\n",
      "  node_ip: 10.150.0.3\n",
      "  pid: 6621\n",
      "  should_checkpoint: true\n",
      "  time_since_restore: 54.60904598236084\n",
      "  time_this_iter_s: 18.781227111816406\n",
      "  time_total_s: 54.60904598236084\n",
      "  timestamp: 1662614490\n",
      "  timesteps_since_restore: 0\n",
      "  training_iteration: 2\n",
      "  trial_id: e91748fe\n",
      "  warmup_time: 0.007943391799926758\n",
      "  \n"
     ]
    },
    {
     "name": "stderr",
     "output_type": "stream",
     "text": [
      "Done. 1.0s\n"
     ]
    },
    {
     "name": "stdout",
     "output_type": "stream",
     "text": [
      "\u001b[2m\u001b[36m(RayTrainWorker pid=6399)\u001b[0m {'loss': 14.664839744567871, 'avg_loss': 13.578237724304199}\n"
     ]
    },
    {
     "name": "stderr",
     "output_type": "stream",
     "text": [
      "\u001b[34m\u001b[1mwandb\u001b[0m: Adding directory to artifact (/home/jupyter/ray_results/TorchTrainer_2022-09-08_05-18-50/TorchTrainer_bb3d4924_3_batch_size=18.0000,format_version=4,future_num_frames=12,history_num_frames=0,model_architecture=resnet50,_2022-09-08_05-20-10/checkpoint_000004)... "
     ]
    },
    {
     "name": "stdout",
     "output_type": "stream",
     "text": [
      "Result for TorchTrainer_bb3d4924:\n",
      "  _time_this_iter_s: 12.323672771453857\n",
      "  _timestamp: 1662614496\n",
      "  _training_iteration: 5\n",
      "  avg_loss: 13.578237724304199\n",
      "  date: 2022-09-08_05-21-37\n",
      "  done: false\n",
      "  experiment_id: 43fed67e00a5493999e7abe1128673fd\n",
      "  hostname: anish-l5-kit\n",
      "  iterations_since_restore: 5\n",
      "  loss: 14.664839744567871\n",
      "  node_ip: 10.150.0.3\n",
      "  pid: 6324\n",
      "  should_checkpoint: true\n",
      "  time_since_restore: 82.51154518127441\n",
      "  time_this_iter_s: 12.34065318107605\n",
      "  time_total_s: 82.51154518127441\n",
      "  timestamp: 1662614497\n",
      "  timesteps_since_restore: 0\n",
      "  training_iteration: 5\n",
      "  trial_id: bb3d4924\n",
      "  warmup_time: 0.006744384765625\n",
      "  \n"
     ]
    },
    {
     "name": "stderr",
     "output_type": "stream",
     "text": [
      "Done. 1.0s\n",
      "\u001b[34m\u001b[1mwandb\u001b[0m: Adding directory to artifact (/home/jupyter/ray_results/TorchTrainer_2022-09-08_05-18-50/TorchTrainer_bb3d4924_3_batch_size=18.0000,format_version=4,future_num_frames=12,history_num_frames=0,model_architecture=resnet50,_2022-09-08_05-20-10/checkpoint_000004)... Done. 0.3s\n"
     ]
    },
    {
     "data": {
      "text/html": [
       "Waiting for W&B process to finish... <strong style=\"color:green\">(success).</strong>"
      ],
      "text/plain": [
       "<IPython.core.display.HTML object>"
      ]
     },
     "metadata": {},
     "output_type": "display_data"
    },
    {
     "data": {
      "application/vnd.jupyter.widget-view+json": {
       "model_id": "969f8937df034dc1b334b758155e3178",
       "version_major": 2,
       "version_minor": 0
      },
      "text/plain": [
       "VBox(children=(Label(value='452.176 MB of 452.176 MB uploaded (90.296 MB deduped)\\r'), FloatProgress(value=1.0…"
      ]
     },
     "metadata": {},
     "output_type": "display_data"
    },
    {
     "data": {
      "text/html": [
       "W&B sync reduced upload amount by 20.0%             "
      ],
      "text/plain": [
       "<IPython.core.display.HTML object>"
      ]
     },
     "metadata": {},
     "output_type": "display_data"
    },
    {
     "data": {
      "text/html": [
       "<style>\n",
       "    table.wandb td:nth-child(1) { padding: 0 10px; text-align: left ; width: auto;} td:nth-child(2) {text-align: left ; width: 100%}\n",
       "    .wandb-row { display: flex; flex-direction: row; flex-wrap: wrap; justify-content: flex-start; width: 100% }\n",
       "    .wandb-col { display: flex; flex-direction: column; flex-basis: 100%; flex: 1; padding: 10px; }\n",
       "    </style>\n",
       "<div class=\"wandb-row\"><div class=\"wandb-col\"><h3>Run history:</h3><br/><table class=\"wandb\"><tr><td>avg_loss</td><td>█▃▃▁▁</td></tr><tr><td>iterations_since_restore</td><td>▁▃▅▆█</td></tr><tr><td>loss</td><td>█▂▅▁▅</td></tr><tr><td>time_since_restore</td><td>▁▃▅▆█</td></tr><tr><td>time_this_iter_s</td><td>█▃▂▁▁</td></tr><tr><td>time_total_s</td><td>▁▃▅▆█</td></tr><tr><td>timestamp</td><td>▁▃▅▆█</td></tr><tr><td>timesteps_since_restore</td><td>▁▁▁▁▁</td></tr><tr><td>training_iteration</td><td>▁▃▅▆█</td></tr><tr><td>warmup_time</td><td>▁▁▁▁▁</td></tr></table><br/></div><div class=\"wandb-col\"><h3>Run summary:</h3><br/><table class=\"wandb\"><tr><td>avg_loss</td><td>13.57824</td></tr><tr><td>iterations_since_restore</td><td>5</td></tr><tr><td>loss</td><td>14.66484</td></tr><tr><td>time_since_restore</td><td>82.51155</td></tr><tr><td>time_this_iter_s</td><td>12.34065</td></tr><tr><td>time_total_s</td><td>82.51155</td></tr><tr><td>timestamp</td><td>1662614497</td></tr><tr><td>timesteps_since_restore</td><td>0</td></tr><tr><td>training_iteration</td><td>5</td></tr><tr><td>warmup_time</td><td>0.00674</td></tr></table><br/></div></div>"
      ],
      "text/plain": [
       "<IPython.core.display.HTML object>"
      ]
     },
     "metadata": {},
     "output_type": "display_data"
    },
    {
     "data": {
      "text/html": [
       "Synced <strong style=\"color:#cdcd00\">TorchTrainer_bb3d4924</strong>: <a href=\"https://wandb.ai/l5-demo/l5-planning-trials/runs/bb3d4924\" target=\"_blank\">https://wandb.ai/l5-demo/l5-planning-trials/runs/bb3d4924</a><br/>Synced 7 W&B file(s), 0 media file(s), 12 artifact file(s) and 1 other file(s)"
      ],
      "text/plain": [
       "<IPython.core.display.HTML object>"
      ]
     },
     "metadata": {},
     "output_type": "display_data"
    },
    {
     "data": {
      "text/html": [
       "Find logs at: <code>./wandb/run-20220908_052011-bb3d4924/logs</code>"
      ],
      "text/plain": [
       "<IPython.core.display.HTML object>"
      ]
     },
     "metadata": {},
     "output_type": "display_data"
    },
    {
     "name": "stdout",
     "output_type": "stream",
     "text": [
      "Result for TorchTrainer_bb3d4924:\n",
      "  _time_this_iter_s: 12.323672771453857\n",
      "  _timestamp: 1662614496\n",
      "  _training_iteration: 5\n",
      "  avg_loss: 13.578237724304199\n",
      "  date: 2022-09-08_05-21-37\n",
      "  done: true\n",
      "  experiment_id: 43fed67e00a5493999e7abe1128673fd\n",
      "  experiment_tag: 3_batch_size=18.0000,format_version=4,future_num_frames=12,history_num_frames=0,model_architecture=resnet50,render_ego_history=True,step_time=0.1000,dataset_meta_key=meta_json,disable_traffic_light_faces=False,ego_center=0_25_0_5,filter_agents_threshold=0.5000,map_type=py_semantic,pixel_size=0_5_0_5,raster_size=224_224,satellite_map_key=aerial_map_aerial_map_png,semantic_map_key=semantic_map_semantic_map_pb,set_origin_to_bottom=True,batch_size=12,key=scenes_sample_zarr,num_workers=16,perturb_probability=0.5000,shuffle=True,checkpoint_every_n_steps=10000,eval_every_n_steps=10000,max_num_steps=5,batch_size=12,key=scenes_sample_zarr,num_workers=16,shuffle=False,dataset_key=scenes_sample_zarr,lr=0.0001,max_num_steps=5,num_workers=4,perturb_probability=0.5000,shuffle=True\n",
      "  hostname: anish-l5-kit\n",
      "  iterations_since_restore: 5\n",
      "  loss: 14.664839744567871\n",
      "  node_ip: 10.150.0.3\n",
      "  pid: 6324\n",
      "  should_checkpoint: true\n",
      "  time_since_restore: 82.51154518127441\n",
      "  time_this_iter_s: 12.34065318107605\n",
      "  time_total_s: 82.51154518127441\n",
      "  timestamp: 1662614497\n",
      "  timesteps_since_restore: 0\n",
      "  training_iteration: 5\n",
      "  trial_id: bb3d4924\n",
      "  warmup_time: 0.006744384765625\n",
      "  \n",
      "\u001b[2m\u001b[36m(RayTrainWorker pid=6693)\u001b[0m {'loss': 6.377066135406494, 'avg_loss': 9.561657110850016}\n"
     ]
    },
    {
     "name": "stderr",
     "output_type": "stream",
     "text": [
      "\u001b[34m\u001b[1mwandb\u001b[0m: Adding directory to artifact (/home/jupyter/ray_results/TorchTrainer_2022-09-08_05-18-50/TorchTrainer_e91748fe_4_batch_size=24.0000,format_version=4,future_num_frames=12,history_num_frames=0,model_architecture=resnet50,_2022-09-08_05-20-31/checkpoint_000002)... "
     ]
    },
    {
     "name": "stdout",
     "output_type": "stream",
     "text": [
      "Result for TorchTrainer_e91748fe:\n",
      "  _time_this_iter_s: 16.99057388305664\n",
      "  _timestamp: 1662614506\n",
      "  _training_iteration: 3\n",
      "  avg_loss: 9.561657110850016\n",
      "  date: 2022-09-08_05-21-47\n",
      "  done: false\n",
      "  experiment_id: 2e746e6826f24583aee627cc3973746e\n",
      "  hostname: anish-l5-kit\n",
      "  iterations_since_restore: 3\n",
      "  loss: 6.377066135406494\n",
      "  node_ip: 10.150.0.3\n",
      "  pid: 6621\n",
      "  should_checkpoint: true\n",
      "  time_since_restore: 71.54146409034729\n",
      "  time_this_iter_s: 16.93241810798645\n",
      "  time_total_s: 71.54146409034729\n",
      "  timestamp: 1662614507\n",
      "  timesteps_since_restore: 0\n",
      "  training_iteration: 3\n",
      "  trial_id: e91748fe\n",
      "  warmup_time: 0.007943391799926758\n",
      "  \n"
     ]
    },
    {
     "name": "stderr",
     "output_type": "stream",
     "text": [
      "Done. 1.1s\n",
      "\u001b[2m\u001b[36m(RayTrainWorker pid=7586)\u001b[0m 2022-09-08 05:21:55,725\tINFO config.py:72 -- Setting up process group for: env:// [rank=0, world_size=1]\n",
      "\u001b[2m\u001b[36m(RayTrainWorker pid=7586)\u001b[0m /opt/conda/lib/python3.7/site-packages/l5kit/planning/rasterized/model.py:31: UserWarning: There is no pre-trained model with num_in_channels != 3, first layer will be reset\n",
      "\u001b[2m\u001b[36m(RayTrainWorker pid=7586)\u001b[0m   warnings.warn(\"There is no pre-trained model with num_in_channels != 3, first layer will be reset\")\n",
      "\u001b[2m\u001b[36m(RayTrainWorker pid=7586)\u001b[0m /opt/conda/lib/python3.7/site-packages/torchvision/models/_utils.py:209: UserWarning: The parameter 'pretrained' is deprecated since 0.13 and will be removed in 0.15, please use 'weights' instead.\n",
      "\u001b[2m\u001b[36m(RayTrainWorker pid=7586)\u001b[0m   f\"The parameter '{pretrained_param}' is deprecated since 0.13 and will be removed in 0.15, \"\n",
      "\u001b[2m\u001b[36m(RayTrainWorker pid=7586)\u001b[0m /opt/conda/lib/python3.7/site-packages/torchvision/models/_utils.py:223: UserWarning: Arguments other than a weight enum or `None` for 'weights' are deprecated since 0.13 and will be removed in 0.15. The current behavior is equivalent to passing `weights=ResNet50_Weights.IMAGENET1K_V1`. You can also use `weights=ResNet50_Weights.DEFAULT` to get the most up-to-date weights.\n",
      "\u001b[2m\u001b[36m(RayTrainWorker pid=7586)\u001b[0m   warnings.warn(msg)\n",
      "\u001b[2m\u001b[36m(RayTrainWorker pid=7586)\u001b[0m 2022-09-08 05:22:02,306\tINFO train_loop_utils.py:300 -- Moving model to device: cpu\n"
     ]
    },
    {
     "name": "stdout",
     "output_type": "stream",
     "text": [
      "\u001b[2m\u001b[36m(RayTrainWorker pid=6693)\u001b[0m {'loss': 6.878262042999268, 'avg_loss': 8.890808343887329}\n"
     ]
    },
    {
     "name": "stderr",
     "output_type": "stream",
     "text": [
      "\u001b[34m\u001b[1mwandb\u001b[0m: Adding directory to artifact (/home/jupyter/ray_results/TorchTrainer_2022-09-08_05-18-50/TorchTrainer_e91748fe_4_batch_size=24.0000,format_version=4,future_num_frames=12,history_num_frames=0,model_architecture=resnet50,_2022-09-08_05-20-31/checkpoint_000003)... "
     ]
    },
    {
     "name": "stdout",
     "output_type": "stream",
     "text": [
      "Result for TorchTrainer_e91748fe:\n",
      "  _time_this_iter_s: 22.8879451751709\n",
      "  _timestamp: 1662614529\n",
      "  _training_iteration: 4\n",
      "  avg_loss: 8.890808343887329\n",
      "  date: 2022-09-08_05-22-10\n",
      "  done: false\n",
      "  experiment_id: 2e746e6826f24583aee627cc3973746e\n",
      "  hostname: anish-l5-kit\n",
      "  iterations_since_restore: 4\n",
      "  loss: 6.878262042999268\n",
      "  node_ip: 10.150.0.3\n",
      "  pid: 6621\n",
      "  should_checkpoint: true\n",
      "  time_since_restore: 94.50905346870422\n",
      "  time_this_iter_s: 22.967589378356934\n",
      "  time_total_s: 94.50905346870422\n",
      "  timestamp: 1662614530\n",
      "  timesteps_since_restore: 0\n",
      "  training_iteration: 4\n",
      "  trial_id: e91748fe\n",
      "  warmup_time: 0.007943391799926758\n",
      "  \n"
     ]
    },
    {
     "name": "stderr",
     "output_type": "stream",
     "text": [
      "Done. 1.1s\n"
     ]
    },
    {
     "name": "stdout",
     "output_type": "stream",
     "text": [
      "\u001b[2m\u001b[36m(RayTrainWorker pid=7586)\u001b[0m {'loss': 12.986995697021484, 'avg_loss': 12.986995697021484}\n"
     ]
    },
    {
     "name": "stderr",
     "output_type": "stream",
     "text": [
      "\u001b[34m\u001b[1mwandb\u001b[0m: Adding directory to artifact (/home/jupyter/ray_results/TorchTrainer_2022-09-08_05-18-50/TorchTrainer_f59446cc_5_batch_size=24.0000,format_version=4,future_num_frames=12,history_num_frames=0,model_architecture=resnet50,_2022-09-08_05-21-47/checkpoint_000000)... "
     ]
    },
    {
     "name": "stdout",
     "output_type": "stream",
     "text": [
      "Result for TorchTrainer_f59446cc:\n",
      "  _time_this_iter_s: 28.678772687911987\n",
      "  _timestamp: 1662614544\n",
      "  _training_iteration: 1\n",
      "  avg_loss: 12.986995697021484\n",
      "  date: 2022-09-08_05-22-25\n",
      "  done: false\n",
      "  experiment_id: 2bf869b6ed5b45eabe99aac30a30982f\n",
      "  hostname: anish-l5-kit\n",
      "  iterations_since_restore: 1\n",
      "  loss: 12.986995697021484\n",
      "  node_ip: 10.150.0.3\n",
      "  pid: 7512\n",
      "  should_checkpoint: true\n",
      "  time_since_restore: 32.979408740997314\n",
      "  time_this_iter_s: 32.979408740997314\n",
      "  time_total_s: 32.979408740997314\n",
      "  timestamp: 1662614545\n",
      "  timesteps_since_restore: 0\n",
      "  training_iteration: 1\n",
      "  trial_id: f59446cc\n",
      "  warmup_time: 0.0056552886962890625\n",
      "  \n"
     ]
    },
    {
     "name": "stderr",
     "output_type": "stream",
     "text": [
      "Done. 1.0s\n"
     ]
    },
    {
     "name": "stdout",
     "output_type": "stream",
     "text": [
      "\u001b[2m\u001b[36m(RayTrainWorker pid=6693)\u001b[0m {'loss': 9.453082084655762, 'avg_loss': 9.003263092041015}\n"
     ]
    },
    {
     "name": "stderr",
     "output_type": "stream",
     "text": [
      "\u001b[34m\u001b[1mwandb\u001b[0m: Adding directory to artifact (/home/jupyter/ray_results/TorchTrainer_2022-09-08_05-18-50/TorchTrainer_e91748fe_4_batch_size=24.0000,format_version=4,future_num_frames=12,history_num_frames=0,model_architecture=resnet50,_2022-09-08_05-20-31/checkpoint_000004)... "
     ]
    },
    {
     "name": "stdout",
     "output_type": "stream",
     "text": [
      "Result for TorchTrainer_e91748fe:\n",
      "  _time_this_iter_s: 16.986690282821655\n",
      "  _timestamp: 1662614546\n",
      "  _training_iteration: 5\n",
      "  avg_loss: 9.003263092041015\n",
      "  date: 2022-09-08_05-22-26\n",
      "  done: false\n",
      "  experiment_id: 2e746e6826f24583aee627cc3973746e\n",
      "  hostname: anish-l5-kit\n",
      "  iterations_since_restore: 5\n",
      "  loss: 9.453082084655762\n",
      "  node_ip: 10.150.0.3\n",
      "  pid: 6621\n",
      "  should_checkpoint: true\n",
      "  time_since_restore: 111.41247320175171\n",
      "  time_this_iter_s: 16.903419733047485\n",
      "  time_total_s: 111.41247320175171\n",
      "  timestamp: 1662614546\n",
      "  timesteps_since_restore: 0\n",
      "  training_iteration: 5\n",
      "  trial_id: e91748fe\n",
      "  warmup_time: 0.007943391799926758\n",
      "  \n"
     ]
    },
    {
     "name": "stderr",
     "output_type": "stream",
     "text": [
      "Done. 1.0s\n",
      "\u001b[34m\u001b[1mwandb\u001b[0m: Adding directory to artifact (/home/jupyter/ray_results/TorchTrainer_2022-09-08_05-18-50/TorchTrainer_e91748fe_4_batch_size=24.0000,format_version=4,future_num_frames=12,history_num_frames=0,model_architecture=resnet50,_2022-09-08_05-20-31/checkpoint_000004)... Done. 0.3s\n"
     ]
    },
    {
     "data": {
      "text/html": [
       "Waiting for W&B process to finish... <strong style=\"color:green\">(success).</strong>"
      ],
      "text/plain": [
       "<IPython.core.display.HTML object>"
      ]
     },
     "metadata": {},
     "output_type": "display_data"
    },
    {
     "data": {
      "application/vnd.jupyter.widget-view+json": {
       "model_id": "78aee403aa6241b6bcb84f28c3874e32",
       "version_major": 2,
       "version_minor": 0
      },
      "text/plain": [
       "VBox(children=(Label(value='452.176 MB of 452.176 MB uploaded (90.296 MB deduped)\\r'), FloatProgress(value=1.0…"
      ]
     },
     "metadata": {},
     "output_type": "display_data"
    },
    {
     "data": {
      "text/html": [
       "W&B sync reduced upload amount by 20.0%             "
      ],
      "text/plain": [
       "<IPython.core.display.HTML object>"
      ]
     },
     "metadata": {},
     "output_type": "display_data"
    },
    {
     "data": {
      "text/html": [
       "<style>\n",
       "    table.wandb td:nth-child(1) { padding: 0 10px; text-align: left ; width: auto;} td:nth-child(2) {text-align: left ; width: 100%}\n",
       "    .wandb-row { display: flex; flex-direction: row; flex-wrap: wrap; justify-content: flex-start; width: 100% }\n",
       "    .wandb-col { display: flex; flex-direction: column; flex-basis: 100%; flex: 1; padding: 10px; }\n",
       "    </style>\n",
       "<div class=\"wandb-row\"><div class=\"wandb-col\"><h3>Run history:</h3><br/><table class=\"wandb\"><tr><td>avg_loss</td><td>▅█▃▁▁</td></tr><tr><td>iterations_since_restore</td><td>▁▃▅▆█</td></tr><tr><td>loss</td><td>▆█▁▂▅</td></tr><tr><td>time_since_restore</td><td>▁▃▄▆█</td></tr><tr><td>time_this_iter_s</td><td>█▂▁▃▁</td></tr><tr><td>time_total_s</td><td>▁▃▄▆█</td></tr><tr><td>timestamp</td><td>▁▃▄▇█</td></tr><tr><td>timesteps_since_restore</td><td>▁▁▁▁▁</td></tr><tr><td>training_iteration</td><td>▁▃▅▆█</td></tr><tr><td>warmup_time</td><td>▁▁▁▁▁</td></tr></table><br/></div><div class=\"wandb-col\"><h3>Run summary:</h3><br/><table class=\"wandb\"><tr><td>avg_loss</td><td>9.00326</td></tr><tr><td>iterations_since_restore</td><td>5</td></tr><tr><td>loss</td><td>9.45308</td></tr><tr><td>time_since_restore</td><td>111.41247</td></tr><tr><td>time_this_iter_s</td><td>16.90342</td></tr><tr><td>time_total_s</td><td>111.41247</td></tr><tr><td>timestamp</td><td>1662614546</td></tr><tr><td>timesteps_since_restore</td><td>0</td></tr><tr><td>training_iteration</td><td>5</td></tr><tr><td>warmup_time</td><td>0.00794</td></tr></table><br/></div></div>"
      ],
      "text/plain": [
       "<IPython.core.display.HTML object>"
      ]
     },
     "metadata": {},
     "output_type": "display_data"
    },
    {
     "data": {
      "text/html": [
       "Synced <strong style=\"color:#cdcd00\">TorchTrainer_e91748fe</strong>: <a href=\"https://wandb.ai/l5-demo/l5-planning-trials/runs/e91748fe\" target=\"_blank\">https://wandb.ai/l5-demo/l5-planning-trials/runs/e91748fe</a><br/>Synced 7 W&B file(s), 0 media file(s), 12 artifact file(s) and 1 other file(s)"
      ],
      "text/plain": [
       "<IPython.core.display.HTML object>"
      ]
     },
     "metadata": {},
     "output_type": "display_data"
    },
    {
     "data": {
      "text/html": [
       "Find logs at: <code>./wandb/run-20220908_052032-e91748fe/logs</code>"
      ],
      "text/plain": [
       "<IPython.core.display.HTML object>"
      ]
     },
     "metadata": {},
     "output_type": "display_data"
    },
    {
     "name": "stdout",
     "output_type": "stream",
     "text": [
      "Result for TorchTrainer_e91748fe:\n",
      "  _time_this_iter_s: 16.986690282821655\n",
      "  _timestamp: 1662614546\n",
      "  _training_iteration: 5\n",
      "  avg_loss: 9.003263092041015\n",
      "  date: 2022-09-08_05-22-26\n",
      "  done: true\n",
      "  experiment_id: 2e746e6826f24583aee627cc3973746e\n",
      "  experiment_tag: 4_batch_size=24.0000,format_version=4,future_num_frames=12,history_num_frames=0,model_architecture=resnet50,render_ego_history=True,step_time=0.1000,dataset_meta_key=meta_json,disable_traffic_light_faces=False,ego_center=0_25_0_5,filter_agents_threshold=0.5000,map_type=py_satellite,pixel_size=0_5_0_5,raster_size=224_224,satellite_map_key=aerial_map_aerial_map_png,semantic_map_key=semantic_map_semantic_map_pb,set_origin_to_bottom=True,batch_size=12,key=scenes_sample_zarr,num_workers=16,perturb_probability=0.5000,shuffle=True,checkpoint_every_n_steps=10000,eval_every_n_steps=10000,max_num_steps=5,batch_size=12,key=scenes_sample_zarr,num_workers=16,shuffle=False,dataset_key=scenes_sample_zarr,lr=0.0029,max_num_steps=5,num_workers=4,perturb_probability=0.5000,shuffle=True\n",
      "  hostname: anish-l5-kit\n",
      "  iterations_since_restore: 5\n",
      "  loss: 9.453082084655762\n",
      "  node_ip: 10.150.0.3\n",
      "  pid: 6621\n",
      "  should_checkpoint: true\n",
      "  time_since_restore: 111.41247320175171\n",
      "  time_this_iter_s: 16.903419733047485\n",
      "  time_total_s: 111.41247320175171\n",
      "  timestamp: 1662614546\n",
      "  timesteps_since_restore: 0\n",
      "  training_iteration: 5\n",
      "  trial_id: e91748fe\n",
      "  warmup_time: 0.007943391799926758\n",
      "  \n",
      "\u001b[2m\u001b[36m(RayTrainWorker pid=7586)\u001b[0m {'loss': 22.708467483520508, 'avg_loss': 17.847731590270996}\n"
     ]
    },
    {
     "name": "stderr",
     "output_type": "stream",
     "text": [
      "\u001b[34m\u001b[1mwandb\u001b[0m: Adding directory to artifact (/home/jupyter/ray_results/TorchTrainer_2022-09-08_05-18-50/TorchTrainer_f59446cc_5_batch_size=24.0000,format_version=4,future_num_frames=12,history_num_frames=0,model_architecture=resnet50,_2022-09-08_05-21-47/checkpoint_000001)... "
     ]
    },
    {
     "name": "stdout",
     "output_type": "stream",
     "text": [
      "Result for TorchTrainer_f59446cc:\n",
      "  _time_this_iter_s: 19.19585609436035\n",
      "  _timestamp: 1662614564\n",
      "  _training_iteration: 2\n",
      "  avg_loss: 17.847731590270996\n",
      "  date: 2022-09-08_05-22-44\n",
      "  done: false\n",
      "  experiment_id: 2bf869b6ed5b45eabe99aac30a30982f\n",
      "  hostname: anish-l5-kit\n",
      "  iterations_since_restore: 2\n",
      "  loss: 22.708467483520508\n",
      "  node_ip: 10.150.0.3\n",
      "  pid: 7512\n",
      "  should_checkpoint: true\n",
      "  time_since_restore: 52.24552845954895\n",
      "  time_this_iter_s: 19.266119718551636\n",
      "  time_total_s: 52.24552845954895\n",
      "  timestamp: 1662614564\n",
      "  timesteps_since_restore: 0\n",
      "  training_iteration: 2\n",
      "  trial_id: f59446cc\n",
      "  warmup_time: 0.0056552886962890625\n",
      "  \n"
     ]
    },
    {
     "name": "stderr",
     "output_type": "stream",
     "text": [
      "Done. 1.0s\n",
      "\u001b[2m\u001b[36m(RayTrainWorker pid=8414)\u001b[0m 2022-09-08 05:22:45,864\tINFO config.py:72 -- Setting up process group for: env:// [rank=0, world_size=1]\n",
      "\u001b[2m\u001b[36m(RayTrainWorker pid=8414)\u001b[0m /opt/conda/lib/python3.7/site-packages/l5kit/planning/rasterized/model.py:31: UserWarning: There is no pre-trained model with num_in_channels != 3, first layer will be reset\n",
      "\u001b[2m\u001b[36m(RayTrainWorker pid=8414)\u001b[0m   warnings.warn(\"There is no pre-trained model with num_in_channels != 3, first layer will be reset\")\n",
      "\u001b[2m\u001b[36m(RayTrainWorker pid=8414)\u001b[0m /opt/conda/lib/python3.7/site-packages/torchvision/models/_utils.py:209: UserWarning: The parameter 'pretrained' is deprecated since 0.13 and will be removed in 0.15, please use 'weights' instead.\n",
      "\u001b[2m\u001b[36m(RayTrainWorker pid=8414)\u001b[0m   f\"The parameter '{pretrained_param}' is deprecated since 0.13 and will be removed in 0.15, \"\n",
      "\u001b[2m\u001b[36m(RayTrainWorker pid=8414)\u001b[0m /opt/conda/lib/python3.7/site-packages/torchvision/models/_utils.py:223: UserWarning: Arguments other than a weight enum or `None` for 'weights' are deprecated since 0.13 and will be removed in 0.15. The current behavior is equivalent to passing `weights=ResNet50_Weights.IMAGENET1K_V1`. You can also use `weights=ResNet50_Weights.DEFAULT` to get the most up-to-date weights.\n",
      "\u001b[2m\u001b[36m(RayTrainWorker pid=8414)\u001b[0m   warnings.warn(msg)\n",
      "\u001b[2m\u001b[36m(RayTrainWorker pid=8414)\u001b[0m 2022-09-08 05:22:51,106\tINFO train_loop_utils.py:300 -- Moving model to device: cpu\n"
     ]
    },
    {
     "name": "stdout",
     "output_type": "stream",
     "text": [
      "\u001b[2m\u001b[36m(RayTrainWorker pid=7586)\u001b[0m {'loss': 7.8026862144470215, 'avg_loss': 14.499383131663004}\n"
     ]
    },
    {
     "name": "stderr",
     "output_type": "stream",
     "text": [
      "\u001b[34m\u001b[1mwandb\u001b[0m: Adding directory to artifact (/home/jupyter/ray_results/TorchTrainer_2022-09-08_05-18-50/TorchTrainer_f59446cc_5_batch_size=24.0000,format_version=4,future_num_frames=12,history_num_frames=0,model_architecture=resnet50,_2022-09-08_05-21-47/checkpoint_000002)... "
     ]
    },
    {
     "name": "stdout",
     "output_type": "stream",
     "text": [
      "Result for TorchTrainer_f59446cc:\n",
      "  _time_this_iter_s: 20.795378923416138\n",
      "  _timestamp: 1662614584\n",
      "  _training_iteration: 3\n",
      "  avg_loss: 14.499383131663004\n",
      "  date: 2022-09-08_05-23-05\n",
      "  done: false\n",
      "  experiment_id: 2bf869b6ed5b45eabe99aac30a30982f\n",
      "  hostname: anish-l5-kit\n",
      "  iterations_since_restore: 3\n",
      "  loss: 7.8026862144470215\n",
      "  node_ip: 10.150.0.3\n",
      "  pid: 7512\n",
      "  should_checkpoint: true\n",
      "  time_since_restore: 72.86362195014954\n",
      "  time_this_iter_s: 20.618093490600586\n",
      "  time_total_s: 72.86362195014954\n",
      "  timestamp: 1662614585\n",
      "  timesteps_since_restore: 0\n",
      "  training_iteration: 3\n",
      "  trial_id: f59446cc\n",
      "  warmup_time: 0.0056552886962890625\n",
      "  \n"
     ]
    },
    {
     "name": "stderr",
     "output_type": "stream",
     "text": [
      "Done. 1.6s\n"
     ]
    },
    {
     "name": "stdout",
     "output_type": "stream",
     "text": [
      "\u001b[2m\u001b[36m(RayTrainWorker pid=8414)\u001b[0m {'loss': 13.975713729858398, 'avg_loss': 13.975713729858398}\n"
     ]
    },
    {
     "name": "stderr",
     "output_type": "stream",
     "text": [
      "\u001b[34m\u001b[1mwandb\u001b[0m: Adding directory to artifact (/home/jupyter/ray_results/TorchTrainer_2022-09-08_05-18-50/TorchTrainer_22aeee5a_6_batch_size=24.0000,format_version=4,future_num_frames=12,history_num_frames=0,model_architecture=resnet50,_2022-09-08_05-22-37/checkpoint_000000)... "
     ]
    },
    {
     "name": "stdout",
     "output_type": "stream",
     "text": [
      "Result for TorchTrainer_22aeee5a:\n",
      "  _time_this_iter_s: 28.086265325546265\n",
      "  _timestamp: 1662614594\n",
      "  _training_iteration: 1\n",
      "  avg_loss: 13.975713729858398\n",
      "  date: 2022-09-08_05-23-15\n",
      "  done: false\n",
      "  experiment_id: 5f1a5465d86e423b8698462e8b5734a3\n",
      "  hostname: anish-l5-kit\n",
      "  iterations_since_restore: 1\n",
      "  loss: 13.975713729858398\n",
      "  node_ip: 10.150.0.3\n",
      "  pid: 8344\n",
      "  should_checkpoint: true\n",
      "  time_since_restore: 33.321842193603516\n",
      "  time_this_iter_s: 33.321842193603516\n",
      "  time_total_s: 33.321842193603516\n",
      "  timestamp: 1662614595\n",
      "  timesteps_since_restore: 0\n",
      "  training_iteration: 1\n",
      "  trial_id: 22aeee5a\n",
      "  warmup_time: 0.007919549942016602\n",
      "  \n"
     ]
    },
    {
     "name": "stderr",
     "output_type": "stream",
     "text": [
      "Done. 1.0s\n"
     ]
    },
    {
     "name": "stdout",
     "output_type": "stream",
     "text": [
      "\u001b[2m\u001b[36m(RayTrainWorker pid=7586)\u001b[0m {'loss': 9.489253997802734, 'avg_loss': 13.246850848197937}\n"
     ]
    },
    {
     "name": "stderr",
     "output_type": "stream",
     "text": [
      "\u001b[34m\u001b[1mwandb\u001b[0m: Adding directory to artifact (/home/jupyter/ray_results/TorchTrainer_2022-09-08_05-18-50/TorchTrainer_f59446cc_5_batch_size=24.0000,format_version=4,future_num_frames=12,history_num_frames=0,model_architecture=resnet50,_2022-09-08_05-21-47/checkpoint_000003)... "
     ]
    },
    {
     "name": "stdout",
     "output_type": "stream",
     "text": [
      "Result for TorchTrainer_f59446cc:\n",
      "  _time_this_iter_s: 18.872154235839844\n",
      "  _timestamp: 1662614603\n",
      "  _training_iteration: 4\n",
      "  avg_loss: 13.246850848197937\n",
      "  date: 2022-09-08_05-23-24\n",
      "  done: false\n",
      "  experiment_id: 2bf869b6ed5b45eabe99aac30a30982f\n",
      "  hostname: anish-l5-kit\n",
      "  iterations_since_restore: 4\n",
      "  loss: 9.489253997802734\n",
      "  node_ip: 10.150.0.3\n",
      "  pid: 7512\n",
      "  should_checkpoint: true\n",
      "  time_since_restore: 91.76584243774414\n",
      "  time_this_iter_s: 18.902220487594604\n",
      "  time_total_s: 91.76584243774414\n",
      "  timestamp: 1662614604\n",
      "  timesteps_since_restore: 0\n",
      "  training_iteration: 4\n",
      "  trial_id: f59446cc\n",
      "  warmup_time: 0.0056552886962890625\n",
      "  \n"
     ]
    },
    {
     "name": "stderr",
     "output_type": "stream",
     "text": [
      "Done. 1.1s\n"
     ]
    },
    {
     "name": "stdout",
     "output_type": "stream",
     "text": [
      "\u001b[2m\u001b[36m(RayTrainWorker pid=8414)\u001b[0m {'loss': 9.544771194458008, 'avg_loss': 11.760242462158203}\n"
     ]
    },
    {
     "name": "stderr",
     "output_type": "stream",
     "text": [
      "\u001b[34m\u001b[1mwandb\u001b[0m: Adding directory to artifact (/home/jupyter/ray_results/TorchTrainer_2022-09-08_05-18-50/TorchTrainer_22aeee5a_6_batch_size=24.0000,format_version=4,future_num_frames=12,history_num_frames=0,model_architecture=resnet50,_2022-09-08_05-22-37/checkpoint_000001)... "
     ]
    },
    {
     "name": "stdout",
     "output_type": "stream",
     "text": [
      "Result for TorchTrainer_22aeee5a:\n",
      "  _time_this_iter_s: 18.829014539718628\n",
      "  _timestamp: 1662614613\n",
      "  _training_iteration: 2\n",
      "  avg_loss: 11.760242462158203\n",
      "  date: 2022-09-08_05-23-33\n",
      "  done: false\n",
      "  experiment_id: 5f1a5465d86e423b8698462e8b5734a3\n",
      "  hostname: anish-l5-kit\n",
      "  iterations_since_restore: 2\n",
      "  loss: 9.544771194458008\n",
      "  node_ip: 10.150.0.3\n",
      "  pid: 8344\n",
      "  should_checkpoint: true\n",
      "  time_since_restore: 52.089160680770874\n",
      "  time_this_iter_s: 18.76731848716736\n",
      "  time_total_s: 52.089160680770874\n",
      "  timestamp: 1662614613\n",
      "  timesteps_since_restore: 0\n",
      "  training_iteration: 2\n",
      "  trial_id: 22aeee5a\n",
      "  warmup_time: 0.007919549942016602\n",
      "  \n"
     ]
    },
    {
     "name": "stderr",
     "output_type": "stream",
     "text": [
      "Done. 1.0s\n"
     ]
    },
    {
     "name": "stdout",
     "output_type": "stream",
     "text": [
      "\u001b[2m\u001b[36m(RayTrainWorker pid=7586)\u001b[0m {'loss': 8.34640121459961, 'avg_loss': 12.266760921478271}\n"
     ]
    },
    {
     "name": "stderr",
     "output_type": "stream",
     "text": [
      "\u001b[34m\u001b[1mwandb\u001b[0m: Adding directory to artifact (/home/jupyter/ray_results/TorchTrainer_2022-09-08_05-18-50/TorchTrainer_f59446cc_5_batch_size=24.0000,format_version=4,future_num_frames=12,history_num_frames=0,model_architecture=resnet50,_2022-09-08_05-21-47/checkpoint_000004)... "
     ]
    },
    {
     "name": "stdout",
     "output_type": "stream",
     "text": [
      "Result for TorchTrainer_f59446cc:\n",
      "  _time_this_iter_s: 18.104395627975464\n",
      "  _timestamp: 1662614621\n",
      "  _training_iteration: 5\n",
      "  avg_loss: 12.266760921478271\n",
      "  date: 2022-09-08_05-23-42\n",
      "  done: false\n",
      "  experiment_id: 2bf869b6ed5b45eabe99aac30a30982f\n",
      "  hostname: anish-l5-kit\n",
      "  iterations_since_restore: 5\n",
      "  loss: 8.34640121459961\n",
      "  node_ip: 10.150.0.3\n",
      "  pid: 7512\n",
      "  should_checkpoint: true\n",
      "  time_since_restore: 109.83228707313538\n",
      "  time_this_iter_s: 18.066444635391235\n",
      "  time_total_s: 109.83228707313538\n",
      "  timestamp: 1662614622\n",
      "  timesteps_since_restore: 0\n",
      "  training_iteration: 5\n",
      "  trial_id: f59446cc\n",
      "  warmup_time: 0.0056552886962890625\n",
      "  \n"
     ]
    },
    {
     "name": "stderr",
     "output_type": "stream",
     "text": [
      "Done. 1.0s\n",
      "\u001b[34m\u001b[1mwandb\u001b[0m: Adding directory to artifact (/home/jupyter/ray_results/TorchTrainer_2022-09-08_05-18-50/TorchTrainer_f59446cc_5_batch_size=24.0000,format_version=4,future_num_frames=12,history_num_frames=0,model_architecture=resnet50,_2022-09-08_05-21-47/checkpoint_000004)... Done. 0.3s\n"
     ]
    },
    {
     "data": {
      "text/html": [
       "Waiting for W&B process to finish... <strong style=\"color:green\">(success).</strong>"
      ],
      "text/plain": [
       "<IPython.core.display.HTML object>"
      ]
     },
     "metadata": {},
     "output_type": "display_data"
    },
    {
     "data": {
      "application/vnd.jupyter.widget-view+json": {
       "model_id": "09494cbc93af4f028e395d679ce62bf0",
       "version_major": 2,
       "version_minor": 0
      },
      "text/plain": [
       "VBox(children=(Label(value='452.176 MB of 452.176 MB uploaded (90.296 MB deduped)\\r'), FloatProgress(value=1.0…"
      ]
     },
     "metadata": {},
     "output_type": "display_data"
    },
    {
     "name": "stdout",
     "output_type": "stream",
     "text": [
      "\u001b[2m\u001b[36m(RayTrainWorker pid=8414)\u001b[0m {'loss': 9.02727222442627, 'avg_loss': 10.849252382914225}\n"
     ]
    },
    {
     "data": {
      "text/html": [
       "W&B sync reduced upload amount by 20.0%             "
      ],
      "text/plain": [
       "<IPython.core.display.HTML object>"
      ]
     },
     "metadata": {},
     "output_type": "display_data"
    },
    {
     "data": {
      "text/html": [
       "<style>\n",
       "    table.wandb td:nth-child(1) { padding: 0 10px; text-align: left ; width: auto;} td:nth-child(2) {text-align: left ; width: 100%}\n",
       "    .wandb-row { display: flex; flex-direction: row; flex-wrap: wrap; justify-content: flex-start; width: 100% }\n",
       "    .wandb-col { display: flex; flex-direction: column; flex-basis: 100%; flex: 1; padding: 10px; }\n",
       "    </style>\n",
       "<div class=\"wandb-row\"><div class=\"wandb-col\"><h3>Run history:</h3><br/><table class=\"wandb\"><tr><td>avg_loss</td><td>▂█▄▂▁</td></tr><tr><td>iterations_since_restore</td><td>▁▃▅▆█</td></tr><tr><td>loss</td><td>▃█▁▂▁</td></tr><tr><td>time_since_restore</td><td>▁▃▅▆█</td></tr><tr><td>time_this_iter_s</td><td>█▂▂▁▁</td></tr><tr><td>time_total_s</td><td>▁▃▅▆█</td></tr><tr><td>timestamp</td><td>▁▃▅▆█</td></tr><tr><td>timesteps_since_restore</td><td>▁▁▁▁▁</td></tr><tr><td>training_iteration</td><td>▁▃▅▆█</td></tr><tr><td>warmup_time</td><td>▁▁▁▁▁</td></tr></table><br/></div><div class=\"wandb-col\"><h3>Run summary:</h3><br/><table class=\"wandb\"><tr><td>avg_loss</td><td>12.26676</td></tr><tr><td>iterations_since_restore</td><td>5</td></tr><tr><td>loss</td><td>8.3464</td></tr><tr><td>time_since_restore</td><td>109.83229</td></tr><tr><td>time_this_iter_s</td><td>18.06644</td></tr><tr><td>time_total_s</td><td>109.83229</td></tr><tr><td>timestamp</td><td>1662614622</td></tr><tr><td>timesteps_since_restore</td><td>0</td></tr><tr><td>training_iteration</td><td>5</td></tr><tr><td>warmup_time</td><td>0.00566</td></tr></table><br/></div></div>"
      ],
      "text/plain": [
       "<IPython.core.display.HTML object>"
      ]
     },
     "metadata": {},
     "output_type": "display_data"
    },
    {
     "data": {
      "text/html": [
       "Synced <strong style=\"color:#cdcd00\">TorchTrainer_f59446cc</strong>: <a href=\"https://wandb.ai/l5-demo/l5-planning-trials/runs/f59446cc\" target=\"_blank\">https://wandb.ai/l5-demo/l5-planning-trials/runs/f59446cc</a><br/>Synced 7 W&B file(s), 0 media file(s), 12 artifact file(s) and 1 other file(s)"
      ],
      "text/plain": [
       "<IPython.core.display.HTML object>"
      ]
     },
     "metadata": {},
     "output_type": "display_data"
    },
    {
     "data": {
      "text/html": [
       "Find logs at: <code>./wandb/run-20220908_052147-f59446cc/logs</code>"
      ],
      "text/plain": [
       "<IPython.core.display.HTML object>"
      ]
     },
     "metadata": {},
     "output_type": "display_data"
    },
    {
     "name": "stdout",
     "output_type": "stream",
     "text": [
      "Result for TorchTrainer_f59446cc:\n",
      "  _time_this_iter_s: 18.104395627975464\n",
      "  _timestamp: 1662614621\n",
      "  _training_iteration: 5\n",
      "  avg_loss: 12.266760921478271\n",
      "  date: 2022-09-08_05-23-42\n",
      "  done: true\n",
      "  experiment_id: 2bf869b6ed5b45eabe99aac30a30982f\n",
      "  experiment_tag: 5_batch_size=24.0000,format_version=4,future_num_frames=12,history_num_frames=0,model_architecture=resnet50,render_ego_history=True,step_time=0.1000,dataset_meta_key=meta_json,disable_traffic_light_faces=False,ego_center=0_25_0_5,filter_agents_threshold=0.5000,map_type=py_semantic,pixel_size=0_5_0_5,raster_size=224_224,satellite_map_key=aerial_map_aerial_map_png,semantic_map_key=semantic_map_semantic_map_pb,set_origin_to_bottom=True,batch_size=12,key=scenes_sample_zarr,num_workers=16,perturb_probability=0.5000,shuffle=True,checkpoint_every_n_steps=10000,eval_every_n_steps=10000,max_num_steps=5,batch_size=12,key=scenes_sample_zarr,num_workers=16,shuffle=False,dataset_key=scenes_sample_zarr,lr=0.0064,max_num_steps=5,num_workers=4,perturb_probability=0.5000,shuffle=True\n",
      "  hostname: anish-l5-kit\n",
      "  iterations_since_restore: 5\n",
      "  loss: 8.34640121459961\n",
      "  node_ip: 10.150.0.3\n",
      "  pid: 7512\n",
      "  should_checkpoint: true\n",
      "  time_since_restore: 109.83228707313538\n",
      "  time_this_iter_s: 18.066444635391235\n",
      "  time_total_s: 109.83228707313538\n",
      "  timestamp: 1662614622\n",
      "  timesteps_since_restore: 0\n",
      "  training_iteration: 5\n",
      "  trial_id: f59446cc\n",
      "  warmup_time: 0.0056552886962890625\n",
      "  \n"
     ]
    },
    {
     "name": "stderr",
     "output_type": "stream",
     "text": [
      "\u001b[34m\u001b[1mwandb\u001b[0m: Adding directory to artifact (/home/jupyter/ray_results/TorchTrainer_2022-09-08_05-18-50/TorchTrainer_22aeee5a_6_batch_size=24.0000,format_version=4,future_num_frames=12,history_num_frames=0,model_architecture=resnet50,_2022-09-08_05-22-37/checkpoint_000002)... "
     ]
    },
    {
     "name": "stdout",
     "output_type": "stream",
     "text": [
      "Result for TorchTrainer_22aeee5a:\n",
      "  _time_this_iter_s: 17.170154571533203\n",
      "  _timestamp: 1662614630\n",
      "  _training_iteration: 3\n",
      "  avg_loss: 10.849252382914225\n",
      "  date: 2022-09-08_05-23-50\n",
      "  done: false\n",
      "  experiment_id: 5f1a5465d86e423b8698462e8b5734a3\n",
      "  hostname: anish-l5-kit\n",
      "  iterations_since_restore: 3\n",
      "  loss: 9.02727222442627\n",
      "  node_ip: 10.150.0.3\n",
      "  pid: 8344\n",
      "  should_checkpoint: true\n",
      "  time_since_restore: 69.22324228286743\n",
      "  time_this_iter_s: 17.134081602096558\n",
      "  time_total_s: 69.22324228286743\n",
      "  timestamp: 1662614630\n",
      "  timesteps_since_restore: 0\n",
      "  training_iteration: 3\n",
      "  trial_id: 22aeee5a\n",
      "  warmup_time: 0.007919549942016602\n",
      "  \n"
     ]
    },
    {
     "name": "stderr",
     "output_type": "stream",
     "text": [
      "Done. 1.0s\n",
      "\u001b[2m\u001b[36m(RayTrainWorker pid=9281)\u001b[0m 2022-09-08 05:24:01,902\tINFO config.py:72 -- Setting up process group for: env:// [rank=0, world_size=1]\n",
      "\u001b[2m\u001b[36m(RayTrainWorker pid=9281)\u001b[0m /opt/conda/lib/python3.7/site-packages/l5kit/planning/rasterized/model.py:31: UserWarning: There is no pre-trained model with num_in_channels != 3, first layer will be reset\n",
      "\u001b[2m\u001b[36m(RayTrainWorker pid=9281)\u001b[0m   warnings.warn(\"There is no pre-trained model with num_in_channels != 3, first layer will be reset\")\n",
      "\u001b[2m\u001b[36m(RayTrainWorker pid=9281)\u001b[0m /opt/conda/lib/python3.7/site-packages/torchvision/models/_utils.py:209: UserWarning: The parameter 'pretrained' is deprecated since 0.13 and will be removed in 0.15, please use 'weights' instead.\n",
      "\u001b[2m\u001b[36m(RayTrainWorker pid=9281)\u001b[0m   f\"The parameter '{pretrained_param}' is deprecated since 0.13 and will be removed in 0.15, \"\n",
      "\u001b[2m\u001b[36m(RayTrainWorker pid=9281)\u001b[0m /opt/conda/lib/python3.7/site-packages/torchvision/models/_utils.py:223: UserWarning: Arguments other than a weight enum or `None` for 'weights' are deprecated since 0.13 and will be removed in 0.15. The current behavior is equivalent to passing `weights=ResNet50_Weights.IMAGENET1K_V1`. You can also use `weights=ResNet50_Weights.DEFAULT` to get the most up-to-date weights.\n",
      "\u001b[2m\u001b[36m(RayTrainWorker pid=9281)\u001b[0m   warnings.warn(msg)\n",
      "\u001b[2m\u001b[36m(RayTrainWorker pid=9281)\u001b[0m 2022-09-08 05:24:09,469\tINFO train_loop_utils.py:300 -- Moving model to device: cpu\n"
     ]
    },
    {
     "name": "stdout",
     "output_type": "stream",
     "text": [
      "\u001b[2m\u001b[36m(RayTrainWorker pid=8414)\u001b[0m {'loss': 5.15891170501709, 'avg_loss': 9.426667213439941}\n"
     ]
    },
    {
     "name": "stderr",
     "output_type": "stream",
     "text": [
      "\u001b[34m\u001b[1mwandb\u001b[0m: Adding directory to artifact (/home/jupyter/ray_results/TorchTrainer_2022-09-08_05-18-50/TorchTrainer_22aeee5a_6_batch_size=24.0000,format_version=4,future_num_frames=12,history_num_frames=0,model_architecture=resnet50,_2022-09-08_05-22-37/checkpoint_000003)... "
     ]
    },
    {
     "name": "stdout",
     "output_type": "stream",
     "text": [
      "Result for TorchTrainer_22aeee5a:\n",
      "  _time_this_iter_s: 20.946260690689087\n",
      "  _timestamp: 1662614651\n",
      "  _training_iteration: 4\n",
      "  avg_loss: 9.426667213439941\n",
      "  date: 2022-09-08_05-24-11\n",
      "  done: false\n",
      "  experiment_id: 5f1a5465d86e423b8698462e8b5734a3\n",
      "  hostname: anish-l5-kit\n",
      "  iterations_since_restore: 4\n",
      "  loss: 5.15891170501709\n",
      "  node_ip: 10.150.0.3\n",
      "  pid: 8344\n",
      "  should_checkpoint: true\n",
      "  time_since_restore: 90.14728784561157\n",
      "  time_this_iter_s: 20.92404556274414\n",
      "  time_total_s: 90.14728784561157\n",
      "  timestamp: 1662614651\n",
      "  timesteps_since_restore: 0\n",
      "  training_iteration: 4\n",
      "  trial_id: 22aeee5a\n",
      "  warmup_time: 0.007919549942016602\n",
      "  \n"
     ]
    },
    {
     "name": "stderr",
     "output_type": "stream",
     "text": [
      "Done. 1.0s\n"
     ]
    },
    {
     "name": "stdout",
     "output_type": "stream",
     "text": [
      "\u001b[2m\u001b[36m(RayTrainWorker pid=9281)\u001b[0m {'loss': 13.597375869750977, 'avg_loss': 13.597375869750977}\n",
      "Result for TorchTrainer_40435014:\n",
      "  _time_this_iter_s: 11.235937356948853\n",
      "  _timestamp: 1662614654\n",
      "  _training_iteration: 1\n",
      "  avg_loss: 13.597375869750977\n",
      "  date: 2022-09-08_05-24-15\n",
      "  done: false\n",
      "  experiment_id: c4571028d0c847e3a52f731dd62ec6f1\n",
      "  hostname: anish-l5-kit\n",
      "  iterations_since_restore: 1\n",
      "  loss: 13.597375869750977\n",
      "  node_ip: 10.150.0.3\n",
      "  pid: 9212\n",
      "  should_checkpoint: true\n",
      "  time_since_restore: 16.150686025619507\n",
      "  time_this_iter_s: 16.150686025619507\n",
      "  time_total_s: 16.150686025619507\n",
      "  timestamp: 1662614655\n",
      "  timesteps_since_restore: 0\n",
      "  training_iteration: 1\n",
      "  trial_id: '40435014'\n",
      "  warmup_time: 0.010715723037719727\n",
      "  \n"
     ]
    },
    {
     "name": "stderr",
     "output_type": "stream",
     "text": [
      "\u001b[34m\u001b[1mwandb\u001b[0m: Adding directory to artifact (/home/jupyter/ray_results/TorchTrainer_2022-09-08_05-18-50/TorchTrainer_40435014_7_batch_size=6.0000,format_version=4,future_num_frames=12,history_num_frames=0,model_architecture=resnet50,r_2022-09-08_05-23-54/checkpoint_000000)... Done. 1.1s\n"
     ]
    },
    {
     "name": "stdout",
     "output_type": "stream",
     "text": [
      "\u001b[2m\u001b[36m(RayTrainWorker pid=9281)\u001b[0m {'loss': 12.981776237487793, 'avg_loss': 13.289576053619385}\n"
     ]
    },
    {
     "name": "stderr",
     "output_type": "stream",
     "text": [
      "\u001b[34m\u001b[1mwandb\u001b[0m: Adding directory to artifact (/home/jupyter/ray_results/TorchTrainer_2022-09-08_05-18-50/TorchTrainer_40435014_7_batch_size=6.0000,format_version=4,future_num_frames=12,history_num_frames=0,model_architecture=resnet50,r_2022-09-08_05-23-54/checkpoint_000001)... Done. 1.0s\n"
     ]
    },
    {
     "name": "stdout",
     "output_type": "stream",
     "text": [
      "\u001b[2m\u001b[36m(RayTrainWorker pid=9281)\u001b[0m {'loss': 18.94203758239746, 'avg_loss': 15.17372989654541}\n",
      "Result for TorchTrainer_40435014:\n",
      "  _time_this_iter_s: 4.710414409637451\n",
      "  _timestamp: 1662614664\n",
      "  _training_iteration: 3\n",
      "  avg_loss: 15.17372989654541\n",
      "  date: 2022-09-08_05-24-24\n",
      "  done: false\n",
      "  experiment_id: c4571028d0c847e3a52f731dd62ec6f1\n",
      "  hostname: anish-l5-kit\n",
      "  iterations_since_restore: 3\n",
      "  loss: 18.94203758239746\n",
      "  node_ip: 10.150.0.3\n",
      "  pid: 9212\n",
      "  should_checkpoint: true\n",
      "  time_since_restore: 25.491501092910767\n",
      "  time_this_iter_s: 4.612233877182007\n",
      "  time_total_s: 25.491501092910767\n",
      "  timestamp: 1662614664\n",
      "  timesteps_since_restore: 0\n",
      "  training_iteration: 3\n",
      "  trial_id: '40435014'\n",
      "  warmup_time: 0.010715723037719727\n",
      "  \n"
     ]
    },
    {
     "name": "stderr",
     "output_type": "stream",
     "text": [
      "\u001b[34m\u001b[1mwandb\u001b[0m: Adding directory to artifact (/home/jupyter/ray_results/TorchTrainer_2022-09-08_05-18-50/TorchTrainer_40435014_7_batch_size=6.0000,format_version=4,future_num_frames=12,history_num_frames=0,model_architecture=resnet50,r_2022-09-08_05-23-54/checkpoint_000002)... Done. 1.0s\n"
     ]
    },
    {
     "name": "stdout",
     "output_type": "stream",
     "text": [
      "\u001b[2m\u001b[36m(RayTrainWorker pid=8414)\u001b[0m {'loss': 3.5230886936187744, 'avg_loss': 8.245951509475708}\n",
      "\u001b[2m\u001b[36m(RayTrainWorker pid=9281)\u001b[0m {'loss': 12.754528045654297, 'avg_loss': 14.568929433822632}\n"
     ]
    },
    {
     "name": "stderr",
     "output_type": "stream",
     "text": [
      "\u001b[34m\u001b[1mwandb\u001b[0m: Adding directory to artifact (/home/jupyter/ray_results/TorchTrainer_2022-09-08_05-18-50/TorchTrainer_22aeee5a_6_batch_size=24.0000,format_version=4,future_num_frames=12,history_num_frames=0,model_architecture=resnet50,_2022-09-08_05-22-37/checkpoint_000004)... \u001b[34m\u001b[1mwandb\u001b[0m: Adding directory to artifact (/home/jupyter/ray_results/TorchTrainer_2022-09-08_05-18-50/TorchTrainer_40435014_7_batch_size=6.0000,format_version=4,future_num_frames=12,history_num_frames=0,model_architecture=resnet50,r_2022-09-08_05-23-54/checkpoint_000003)... "
     ]
    },
    {
     "name": "stdout",
     "output_type": "stream",
     "text": [
      "Result for TorchTrainer_22aeee5a:\n",
      "  _time_this_iter_s: 17.242355585098267\n",
      "  _timestamp: 1662614668\n",
      "  _training_iteration: 5\n",
      "  avg_loss: 8.245951509475708\n",
      "  date: 2022-09-08_05-24-29\n",
      "  done: false\n",
      "  experiment_id: 5f1a5465d86e423b8698462e8b5734a3\n",
      "  hostname: anish-l5-kit\n",
      "  iterations_since_restore: 5\n",
      "  loss: 3.5230886936187744\n",
      "  node_ip: 10.150.0.3\n",
      "  pid: 8344\n",
      "  should_checkpoint: true\n",
      "  time_since_restore: 107.46415305137634\n",
      "  time_this_iter_s: 17.31686520576477\n",
      "  time_total_s: 107.46415305137634\n",
      "  timestamp: 1662614669\n",
      "  timesteps_since_restore: 0\n",
      "  training_iteration: 5\n",
      "  trial_id: 22aeee5a\n",
      "  warmup_time: 0.007919549942016602\n",
      "  \n"
     ]
    },
    {
     "name": "stderr",
     "output_type": "stream",
     "text": [
      "Done. 1.6s\n",
      "\u001b[34m\u001b[1mwandb\u001b[0m: Adding directory to artifact (/home/jupyter/ray_results/TorchTrainer_2022-09-08_05-18-50/TorchTrainer_22aeee5a_6_batch_size=24.0000,format_version=4,future_num_frames=12,history_num_frames=0,model_architecture=resnet50,_2022-09-08_05-22-37/checkpoint_000004)... Done. 1.6s\n",
      "Done. 0.3s\n"
     ]
    },
    {
     "data": {
      "text/html": [
       "Waiting for W&B process to finish... <strong style=\"color:green\">(success).</strong>"
      ],
      "text/plain": [
       "<IPython.core.display.HTML object>"
      ]
     },
     "metadata": {},
     "output_type": "display_data"
    },
    {
     "name": "stdout",
     "output_type": "stream",
     "text": [
      "\u001b[2m\u001b[36m(RayTrainWorker pid=9281)\u001b[0m {'loss': 9.848295211791992, 'avg_loss': 13.624802589416504}\n"
     ]
    },
    {
     "data": {
      "application/vnd.jupyter.widget-view+json": {
       "model_id": "0e8ca5097afd46c9983aef0abe6d1b55",
       "version_major": 2,
       "version_minor": 0
      },
      "text/plain": [
       "VBox(children=(Label(value='452.176 MB of 452.176 MB uploaded (90.296 MB deduped)\\r'), FloatProgress(value=1.0…"
      ]
     },
     "metadata": {},
     "output_type": "display_data"
    },
    {
     "data": {
      "text/html": [
       "W&B sync reduced upload amount by 20.0%             "
      ],
      "text/plain": [
       "<IPython.core.display.HTML object>"
      ]
     },
     "metadata": {},
     "output_type": "display_data"
    },
    {
     "data": {
      "text/html": [
       "<style>\n",
       "    table.wandb td:nth-child(1) { padding: 0 10px; text-align: left ; width: auto;} td:nth-child(2) {text-align: left ; width: 100%}\n",
       "    .wandb-row { display: flex; flex-direction: row; flex-wrap: wrap; justify-content: flex-start; width: 100% }\n",
       "    .wandb-col { display: flex; flex-direction: column; flex-basis: 100%; flex: 1; padding: 10px; }\n",
       "    </style>\n",
       "<div class=\"wandb-row\"><div class=\"wandb-col\"><h3>Run history:</h3><br/><table class=\"wandb\"><tr><td>avg_loss</td><td>█▅▄▂▁</td></tr><tr><td>iterations_since_restore</td><td>▁▃▅▆█</td></tr><tr><td>loss</td><td>█▅▅▂▁</td></tr><tr><td>time_since_restore</td><td>▁▃▄▆█</td></tr><tr><td>time_this_iter_s</td><td>█▂▁▃▁</td></tr><tr><td>time_total_s</td><td>▁▃▄▆█</td></tr><tr><td>timestamp</td><td>▁▃▄▆█</td></tr><tr><td>timesteps_since_restore</td><td>▁▁▁▁▁</td></tr><tr><td>training_iteration</td><td>▁▃▅▆█</td></tr><tr><td>warmup_time</td><td>▁▁▁▁▁</td></tr></table><br/></div><div class=\"wandb-col\"><h3>Run summary:</h3><br/><table class=\"wandb\"><tr><td>avg_loss</td><td>8.24595</td></tr><tr><td>iterations_since_restore</td><td>5</td></tr><tr><td>loss</td><td>3.52309</td></tr><tr><td>time_since_restore</td><td>107.46415</td></tr><tr><td>time_this_iter_s</td><td>17.31687</td></tr><tr><td>time_total_s</td><td>107.46415</td></tr><tr><td>timestamp</td><td>1662614669</td></tr><tr><td>timesteps_since_restore</td><td>0</td></tr><tr><td>training_iteration</td><td>5</td></tr><tr><td>warmup_time</td><td>0.00792</td></tr></table><br/></div></div>"
      ],
      "text/plain": [
       "<IPython.core.display.HTML object>"
      ]
     },
     "metadata": {},
     "output_type": "display_data"
    },
    {
     "data": {
      "text/html": [
       "Synced <strong style=\"color:#cdcd00\">TorchTrainer_22aeee5a</strong>: <a href=\"https://wandb.ai/l5-demo/l5-planning-trials/runs/22aeee5a\" target=\"_blank\">https://wandb.ai/l5-demo/l5-planning-trials/runs/22aeee5a</a><br/>Synced 7 W&B file(s), 0 media file(s), 12 artifact file(s) and 1 other file(s)"
      ],
      "text/plain": [
       "<IPython.core.display.HTML object>"
      ]
     },
     "metadata": {},
     "output_type": "display_data"
    },
    {
     "data": {
      "text/html": [
       "Find logs at: <code>./wandb/run-20220908_052237-22aeee5a/logs</code>"
      ],
      "text/plain": [
       "<IPython.core.display.HTML object>"
      ]
     },
     "metadata": {},
     "output_type": "display_data"
    },
    {
     "name": "stdout",
     "output_type": "stream",
     "text": [
      "Result for TorchTrainer_22aeee5a:\n",
      "  _time_this_iter_s: 17.242355585098267\n",
      "  _timestamp: 1662614668\n",
      "  _training_iteration: 5\n",
      "  avg_loss: 8.245951509475708\n",
      "  date: 2022-09-08_05-24-29\n",
      "  done: true\n",
      "  experiment_id: 5f1a5465d86e423b8698462e8b5734a3\n",
      "  experiment_tag: 6_batch_size=24.0000,format_version=4,future_num_frames=12,history_num_frames=0,model_architecture=resnet50,render_ego_history=True,step_time=0.1000,dataset_meta_key=meta_json,disable_traffic_light_faces=False,ego_center=0_25_0_5,filter_agents_threshold=0.5000,map_type=py_satellite,pixel_size=0_5_0_5,raster_size=224_224,satellite_map_key=aerial_map_aerial_map_png,semantic_map_key=semantic_map_semantic_map_pb,set_origin_to_bottom=True,batch_size=12,key=scenes_sample_zarr,num_workers=16,perturb_probability=0.5000,shuffle=True,checkpoint_every_n_steps=10000,eval_every_n_steps=10000,max_num_steps=5,batch_size=12,key=scenes_sample_zarr,num_workers=16,shuffle=False,dataset_key=scenes_sample_zarr,lr=0.0015,max_num_steps=5,num_workers=4,perturb_probability=0.5000,shuffle=True\n",
      "  hostname: anish-l5-kit\n",
      "  iterations_since_restore: 5\n",
      "  loss: 3.5230886936187744\n",
      "  node_ip: 10.150.0.3\n",
      "  pid: 8344\n",
      "  should_checkpoint: true\n",
      "  time_since_restore: 107.46415305137634\n",
      "  time_this_iter_s: 17.31686520576477\n",
      "  time_total_s: 107.46415305137634\n",
      "  timestamp: 1662614669\n",
      "  timesteps_since_restore: 0\n",
      "  training_iteration: 5\n",
      "  trial_id: 22aeee5a\n",
      "  warmup_time: 0.007919549942016602\n",
      "  \n"
     ]
    },
    {
     "name": "stderr",
     "output_type": "stream",
     "text": [
      "\u001b[34m\u001b[1mwandb\u001b[0m: Adding directory to artifact (/home/jupyter/ray_results/TorchTrainer_2022-09-08_05-18-50/TorchTrainer_40435014_7_batch_size=6.0000,format_version=4,future_num_frames=12,history_num_frames=0,model_architecture=resnet50,r_2022-09-08_05-23-54/checkpoint_000004)... "
     ]
    },
    {
     "name": "stdout",
     "output_type": "stream",
     "text": [
      "Result for TorchTrainer_40435014:\n",
      "  _time_this_iter_s: 4.803667306900024\n",
      "  _timestamp: 1662614673\n",
      "  _training_iteration: 5\n",
      "  avg_loss: 13.624802589416504\n",
      "  date: 2022-09-08_05-24-34\n",
      "  done: false\n",
      "  experiment_id: c4571028d0c847e3a52f731dd62ec6f1\n",
      "  hostname: anish-l5-kit\n",
      "  iterations_since_restore: 5\n",
      "  loss: 9.848295211791992\n",
      "  node_ip: 10.150.0.3\n",
      "  pid: 9212\n",
      "  should_checkpoint: true\n",
      "  time_since_restore: 34.905959367752075\n",
      "  time_this_iter_s: 4.655702590942383\n",
      "  time_total_s: 34.905959367752075\n",
      "  timestamp: 1662614674\n",
      "  timesteps_since_restore: 0\n",
      "  training_iteration: 5\n",
      "  trial_id: '40435014'\n",
      "  warmup_time: 0.010715723037719727\n",
      "  \n"
     ]
    },
    {
     "name": "stderr",
     "output_type": "stream",
     "text": [
      "Done. 1.0s\n",
      "\u001b[34m\u001b[1mwandb\u001b[0m: Adding directory to artifact (/home/jupyter/ray_results/TorchTrainer_2022-09-08_05-18-50/TorchTrainer_40435014_7_batch_size=6.0000,format_version=4,future_num_frames=12,history_num_frames=0,model_architecture=resnet50,r_2022-09-08_05-23-54/checkpoint_000004)... Done. 0.3s\n"
     ]
    },
    {
     "data": {
      "text/html": [
       "Waiting for W&B process to finish... <strong style=\"color:green\">(success).</strong>"
      ],
      "text/plain": [
       "<IPython.core.display.HTML object>"
      ]
     },
     "metadata": {},
     "output_type": "display_data"
    },
    {
     "data": {
      "application/vnd.jupyter.widget-view+json": {
       "model_id": "5165da6ed8014b0fac7601ce279bbbdc",
       "version_major": 2,
       "version_minor": 0
      },
      "text/plain": [
       "VBox(children=(Label(value='452.176 MB of 452.176 MB uploaded (90.296 MB deduped)\\r'), FloatProgress(value=1.0…"
      ]
     },
     "metadata": {},
     "output_type": "display_data"
    },
    {
     "data": {
      "text/html": [
       "W&B sync reduced upload amount by 20.0%             "
      ],
      "text/plain": [
       "<IPython.core.display.HTML object>"
      ]
     },
     "metadata": {},
     "output_type": "display_data"
    },
    {
     "data": {
      "text/html": [
       "<style>\n",
       "    table.wandb td:nth-child(1) { padding: 0 10px; text-align: left ; width: auto;} td:nth-child(2) {text-align: left ; width: 100%}\n",
       "    .wandb-row { display: flex; flex-direction: row; flex-wrap: wrap; justify-content: flex-start; width: 100% }\n",
       "    .wandb-col { display: flex; flex-direction: column; flex-basis: 100%; flex: 1; padding: 10px; }\n",
       "    </style>\n",
       "<div class=\"wandb-row\"><div class=\"wandb-col\"><h3>Run history:</h3><br/><table class=\"wandb\"><tr><td>avg_loss</td><td>▂▁█▆▂</td></tr><tr><td>iterations_since_restore</td><td>▁▃▅▆█</td></tr><tr><td>loss</td><td>▄▃█▃▁</td></tr><tr><td>time_since_restore</td><td>▁▃▄▆█</td></tr><tr><td>time_this_iter_s</td><td>█▁▁▁▁</td></tr><tr><td>time_total_s</td><td>▁▃▄▆█</td></tr><tr><td>timestamp</td><td>▁▂▄▆█</td></tr><tr><td>timesteps_since_restore</td><td>▁▁▁▁▁</td></tr><tr><td>training_iteration</td><td>▁▃▅▆█</td></tr><tr><td>warmup_time</td><td>▁▁▁▁▁</td></tr></table><br/></div><div class=\"wandb-col\"><h3>Run summary:</h3><br/><table class=\"wandb\"><tr><td>avg_loss</td><td>13.6248</td></tr><tr><td>iterations_since_restore</td><td>5</td></tr><tr><td>loss</td><td>9.8483</td></tr><tr><td>time_since_restore</td><td>34.90596</td></tr><tr><td>time_this_iter_s</td><td>4.6557</td></tr><tr><td>time_total_s</td><td>34.90596</td></tr><tr><td>timestamp</td><td>1662614674</td></tr><tr><td>timesteps_since_restore</td><td>0</td></tr><tr><td>training_iteration</td><td>5</td></tr><tr><td>warmup_time</td><td>0.01072</td></tr></table><br/></div></div>"
      ],
      "text/plain": [
       "<IPython.core.display.HTML object>"
      ]
     },
     "metadata": {},
     "output_type": "display_data"
    },
    {
     "data": {
      "text/html": [
       "Synced <strong style=\"color:#cdcd00\">TorchTrainer_40435014</strong>: <a href=\"https://wandb.ai/l5-demo/l5-planning-trials/runs/40435014\" target=\"_blank\">https://wandb.ai/l5-demo/l5-planning-trials/runs/40435014</a><br/>Synced 7 W&B file(s), 0 media file(s), 12 artifact file(s) and 1 other file(s)"
      ],
      "text/plain": [
       "<IPython.core.display.HTML object>"
      ]
     },
     "metadata": {},
     "output_type": "display_data"
    },
    {
     "data": {
      "text/html": [
       "Find logs at: <code>./wandb/run-20220908_052354-40435014/logs</code>"
      ],
      "text/plain": [
       "<IPython.core.display.HTML object>"
      ]
     },
     "metadata": {},
     "output_type": "display_data"
    },
    {
     "name": "stdout",
     "output_type": "stream",
     "text": [
      "Result for TorchTrainer_40435014:\n",
      "  _time_this_iter_s: 4.803667306900024\n",
      "  _timestamp: 1662614673\n",
      "  _training_iteration: 5\n",
      "  avg_loss: 13.624802589416504\n",
      "  date: 2022-09-08_05-24-34\n",
      "  done: true\n",
      "  experiment_id: c4571028d0c847e3a52f731dd62ec6f1\n",
      "  experiment_tag: 7_batch_size=6.0000,format_version=4,future_num_frames=12,history_num_frames=0,model_architecture=resnet50,render_ego_history=True,step_time=0.1000,dataset_meta_key=meta_json,disable_traffic_light_faces=False,ego_center=0_25_0_5,filter_agents_threshold=0.5000,map_type=py_satellite,pixel_size=0_5_0_5,raster_size=224_224,satellite_map_key=aerial_map_aerial_map_png,semantic_map_key=semantic_map_semantic_map_pb,set_origin_to_bottom=True,batch_size=12,key=scenes_sample_zarr,num_workers=16,perturb_probability=0.5000,shuffle=True,checkpoint_every_n_steps=10000,eval_every_n_steps=10000,max_num_steps=5,batch_size=12,key=scenes_sample_zarr,num_workers=16,shuffle=False,dataset_key=scenes_sample_zarr,lr=0.0001,max_num_steps=5,num_workers=4,perturb_probability=0.5000,shuffle=True\n",
      "  hostname: anish-l5-kit\n",
      "  iterations_since_restore: 5\n",
      "  loss: 9.848295211791992\n",
      "  node_ip: 10.150.0.3\n",
      "  pid: 9212\n",
      "  should_checkpoint: true\n",
      "  time_since_restore: 34.905959367752075\n",
      "  time_this_iter_s: 4.655702590942383\n",
      "  time_total_s: 34.905959367752075\n",
      "  timestamp: 1662614674\n",
      "  timesteps_since_restore: 0\n",
      "  training_iteration: 5\n",
      "  trial_id: '40435014'\n",
      "  warmup_time: 0.010715723037719727\n",
      "  \n"
     ]
    },
    {
     "name": "stderr",
     "output_type": "stream",
     "text": [
      "\u001b[2m\u001b[36m(RayTrainWorker pid=10310)\u001b[0m 2022-09-08 05:24:54,649\tINFO config.py:72 -- Setting up process group for: env:// [rank=0, world_size=1]\n",
      "\u001b[2m\u001b[36m(RayTrainWorker pid=10319)\u001b[0m 2022-09-08 05:24:55,872\tINFO config.py:72 -- Setting up process group for: env:// [rank=0, world_size=1]\n",
      "\u001b[2m\u001b[36m(RayTrainWorker pid=10319)\u001b[0m /opt/conda/lib/python3.7/site-packages/l5kit/planning/rasterized/model.py:31: UserWarning: There is no pre-trained model with num_in_channels != 3, first layer will be reset\n",
      "\u001b[2m\u001b[36m(RayTrainWorker pid=10319)\u001b[0m   warnings.warn(\"There is no pre-trained model with num_in_channels != 3, first layer will be reset\")\n",
      "\u001b[2m\u001b[36m(RayTrainWorker pid=10319)\u001b[0m /opt/conda/lib/python3.7/site-packages/torchvision/models/_utils.py:209: UserWarning: The parameter 'pretrained' is deprecated since 0.13 and will be removed in 0.15, please use 'weights' instead.\n",
      "\u001b[2m\u001b[36m(RayTrainWorker pid=10319)\u001b[0m   f\"The parameter '{pretrained_param}' is deprecated since 0.13 and will be removed in 0.15, \"\n",
      "\u001b[2m\u001b[36m(RayTrainWorker pid=10319)\u001b[0m /opt/conda/lib/python3.7/site-packages/torchvision/models/_utils.py:223: UserWarning: Arguments other than a weight enum or `None` for 'weights' are deprecated since 0.13 and will be removed in 0.15. The current behavior is equivalent to passing `weights=ResNet50_Weights.IMAGENET1K_V1`. You can also use `weights=ResNet50_Weights.DEFAULT` to get the most up-to-date weights.\n",
      "\u001b[2m\u001b[36m(RayTrainWorker pid=10319)\u001b[0m   warnings.warn(msg)\n",
      "\u001b[2m\u001b[36m(RayTrainWorker pid=10310)\u001b[0m /opt/conda/lib/python3.7/site-packages/l5kit/planning/rasterized/model.py:31: UserWarning: There is no pre-trained model with num_in_channels != 3, first layer will be reset\n",
      "\u001b[2m\u001b[36m(RayTrainWorker pid=10310)\u001b[0m   warnings.warn(\"There is no pre-trained model with num_in_channels != 3, first layer will be reset\")\n",
      "\u001b[2m\u001b[36m(RayTrainWorker pid=10310)\u001b[0m /opt/conda/lib/python3.7/site-packages/torchvision/models/_utils.py:209: UserWarning: The parameter 'pretrained' is deprecated since 0.13 and will be removed in 0.15, please use 'weights' instead.\n",
      "\u001b[2m\u001b[36m(RayTrainWorker pid=10310)\u001b[0m   f\"The parameter '{pretrained_param}' is deprecated since 0.13 and will be removed in 0.15, \"\n",
      "\u001b[2m\u001b[36m(RayTrainWorker pid=10310)\u001b[0m /opt/conda/lib/python3.7/site-packages/torchvision/models/_utils.py:223: UserWarning: Arguments other than a weight enum or `None` for 'weights' are deprecated since 0.13 and will be removed in 0.15. The current behavior is equivalent to passing `weights=ResNet50_Weights.IMAGENET1K_V1`. You can also use `weights=ResNet50_Weights.DEFAULT` to get the most up-to-date weights.\n",
      "\u001b[2m\u001b[36m(RayTrainWorker pid=10310)\u001b[0m   warnings.warn(msg)\n",
      "\u001b[2m\u001b[36m(RayTrainWorker pid=10319)\u001b[0m 2022-09-08 05:25:03,759\tINFO train_loop_utils.py:300 -- Moving model to device: cpu\n",
      "\u001b[2m\u001b[36m(RayTrainWorker pid=10310)\u001b[0m 2022-09-08 05:25:04,511\tINFO train_loop_utils.py:300 -- Moving model to device: cpu\n"
     ]
    },
    {
     "name": "stdout",
     "output_type": "stream",
     "text": [
      "\u001b[2m\u001b[36m(RayTrainWorker pid=10319)\u001b[0m {'loss': 15.508536338806152, 'avg_loss': 15.508536338806152}\n"
     ]
    },
    {
     "name": "stderr",
     "output_type": "stream",
     "text": [
      "\u001b[34m\u001b[1mwandb\u001b[0m: Adding directory to artifact (/home/jupyter/ray_results/TorchTrainer_2022-09-08_05-18-50/TorchTrainer_8d6a8772_9_batch_size=18.0000,format_version=4,future_num_frames=12,history_num_frames=0,model_architecture=resnet50,_2022-09-08_05-24-47/checkpoint_000000)... "
     ]
    },
    {
     "name": "stdout",
     "output_type": "stream",
     "text": [
      "Result for TorchTrainer_8d6a8772:\n",
      "  _time_this_iter_s: 24.101453065872192\n",
      "  _timestamp: 1662614720\n",
      "  _training_iteration: 1\n",
      "  avg_loss: 15.508536338806152\n",
      "  date: 2022-09-08_05-25-21\n",
      "  done: false\n",
      "  experiment_id: 694f591e6cce4ab29796235a5d7baac3\n",
      "  hostname: anish-l5-kit\n",
      "  iterations_since_restore: 1\n",
      "  loss: 15.508536338806152\n",
      "  node_ip: 10.150.0.3\n",
      "  pid: 10189\n",
      "  should_checkpoint: true\n",
      "  time_since_restore: 29.076510429382324\n",
      "  time_this_iter_s: 29.076510429382324\n",
      "  time_total_s: 29.076510429382324\n",
      "  timestamp: 1662614721\n",
      "  timesteps_since_restore: 0\n",
      "  training_iteration: 1\n",
      "  trial_id: 8d6a8772\n",
      "  warmup_time: 0.0318598747253418\n",
      "  \n"
     ]
    },
    {
     "name": "stderr",
     "output_type": "stream",
     "text": [
      "Done. 1.1s\n"
     ]
    },
    {
     "name": "stdout",
     "output_type": "stream",
     "text": [
      "\u001b[2m\u001b[36m(RayTrainWorker pid=10310)\u001b[0m {'loss': 11.566911697387695, 'avg_loss': 11.566911697387695}\n"
     ]
    },
    {
     "name": "stderr",
     "output_type": "stream",
     "text": [
      "\u001b[34m\u001b[1mwandb\u001b[0m: Adding directory to artifact (/home/jupyter/ray_results/TorchTrainer_2022-09-08_05-18-50/TorchTrainer_6e8ceeee_8_batch_size=24.0000,format_version=4,future_num_frames=12,history_num_frames=0,model_architecture=resnet50,_2022-09-08_05-24-46/checkpoint_000000)... "
     ]
    },
    {
     "name": "stdout",
     "output_type": "stream",
     "text": [
      "Result for TorchTrainer_6e8ceeee:\n",
      "  _time_this_iter_s: 32.00817155838013\n",
      "  _timestamp: 1662614727\n",
      "  _training_iteration: 1\n",
      "  avg_loss: 11.566911697387695\n",
      "  date: 2022-09-08_05-25-27\n",
      "  done: false\n",
      "  experiment_id: 4a299b52845641a5911d4bbb6023f3d0\n",
      "  hostname: anish-l5-kit\n",
      "  iterations_since_restore: 1\n",
      "  loss: 11.566911697387695\n",
      "  node_ip: 10.150.0.3\n",
      "  pid: 10178\n",
      "  should_checkpoint: true\n",
      "  time_since_restore: 37.12333130836487\n",
      "  time_this_iter_s: 37.12333130836487\n",
      "  time_total_s: 37.12333130836487\n",
      "  timestamp: 1662614727\n",
      "  timesteps_since_restore: 0\n",
      "  training_iteration: 1\n",
      "  trial_id: 6e8ceeee\n",
      "  warmup_time: 0.008984804153442383\n",
      "  \n"
     ]
    },
    {
     "name": "stderr",
     "output_type": "stream",
     "text": [
      "Done. 1.0s\n"
     ]
    },
    {
     "name": "stdout",
     "output_type": "stream",
     "text": [
      "\u001b[2m\u001b[36m(RayTrainWorker pid=10319)\u001b[0m {'loss': 15.628698348999023, 'avg_loss': 15.568617343902588}\n"
     ]
    },
    {
     "name": "stderr",
     "output_type": "stream",
     "text": [
      "\u001b[34m\u001b[1mwandb\u001b[0m: Adding directory to artifact (/home/jupyter/ray_results/TorchTrainer_2022-09-08_05-18-50/TorchTrainer_8d6a8772_9_batch_size=18.0000,format_version=4,future_num_frames=12,history_num_frames=0,model_architecture=resnet50,_2022-09-08_05-24-47/checkpoint_000001)... "
     ]
    },
    {
     "name": "stdout",
     "output_type": "stream",
     "text": [
      "Result for TorchTrainer_8d6a8772:\n",
      "  _time_this_iter_s: 13.710113525390625\n",
      "  _timestamp: 1662614734\n",
      "  _training_iteration: 2\n",
      "  avg_loss: 15.568617343902588\n",
      "  date: 2022-09-08_05-25-34\n",
      "  done: false\n",
      "  experiment_id: 694f591e6cce4ab29796235a5d7baac3\n",
      "  hostname: anish-l5-kit\n",
      "  iterations_since_restore: 2\n",
      "  loss: 15.628698348999023\n",
      "  node_ip: 10.150.0.3\n",
      "  pid: 10189\n",
      "  should_checkpoint: true\n",
      "  time_since_restore: 42.74840307235718\n",
      "  time_this_iter_s: 13.671892642974854\n",
      "  time_total_s: 42.74840307235718\n",
      "  timestamp: 1662614734\n",
      "  timesteps_since_restore: 0\n",
      "  training_iteration: 2\n",
      "  trial_id: 8d6a8772\n",
      "  warmup_time: 0.0318598747253418\n",
      "  \n"
     ]
    },
    {
     "name": "stderr",
     "output_type": "stream",
     "text": [
      "Done. 1.0s\n"
     ]
    },
    {
     "name": "stdout",
     "output_type": "stream",
     "text": [
      "\u001b[2m\u001b[36m(RayTrainWorker pid=10310)\u001b[0m {'loss': 10.387297630310059, 'avg_loss': 10.977104663848877}\n"
     ]
    },
    {
     "name": "stderr",
     "output_type": "stream",
     "text": [
      "\u001b[34m\u001b[1mwandb\u001b[0m: Adding directory to artifact (/home/jupyter/ray_results/TorchTrainer_2022-09-08_05-18-50/TorchTrainer_6e8ceeee_8_batch_size=24.0000,format_version=4,future_num_frames=12,history_num_frames=0,model_architecture=resnet50,_2022-09-08_05-24-46/checkpoint_000001)... "
     ]
    },
    {
     "name": "stdout",
     "output_type": "stream",
     "text": [
      "Result for TorchTrainer_6e8ceeee:\n",
      "  _time_this_iter_s: 17.536593914031982\n",
      "  _timestamp: 1662614744\n",
      "  _training_iteration: 2\n",
      "  avg_loss: 10.977104663848877\n",
      "  date: 2022-09-08_05-25-45\n",
      "  done: false\n",
      "  experiment_id: 4a299b52845641a5911d4bbb6023f3d0\n",
      "  hostname: anish-l5-kit\n",
      "  iterations_since_restore: 2\n",
      "  loss: 10.387297630310059\n",
      "  node_ip: 10.150.0.3\n",
      "  pid: 10178\n",
      "  should_checkpoint: true\n",
      "  time_since_restore: 54.61062502861023\n",
      "  time_this_iter_s: 17.48729372024536\n",
      "  time_total_s: 54.61062502861023\n",
      "  timestamp: 1662614745\n",
      "  timesteps_since_restore: 0\n",
      "  training_iteration: 2\n",
      "  trial_id: 6e8ceeee\n",
      "  warmup_time: 0.008984804153442383\n",
      "  \n"
     ]
    },
    {
     "name": "stderr",
     "output_type": "stream",
     "text": [
      "Done. 1.0s\n"
     ]
    },
    {
     "name": "stdout",
     "output_type": "stream",
     "text": [
      "\u001b[2m\u001b[36m(RayTrainWorker pid=10319)\u001b[0m {'loss': 9.412477493286133, 'avg_loss': 13.516570727030436}\n"
     ]
    },
    {
     "name": "stderr",
     "output_type": "stream",
     "text": [
      "\u001b[34m\u001b[1mwandb\u001b[0m: Adding directory to artifact (/home/jupyter/ray_results/TorchTrainer_2022-09-08_05-18-50/TorchTrainer_8d6a8772_9_batch_size=18.0000,format_version=4,future_num_frames=12,history_num_frames=0,model_architecture=resnet50,_2022-09-08_05-24-47/checkpoint_000002)... "
     ]
    },
    {
     "name": "stdout",
     "output_type": "stream",
     "text": [
      "Result for TorchTrainer_8d6a8772:\n",
      "  _time_this_iter_s: 13.549051523208618\n",
      "  _timestamp: 1662614747\n",
      "  _training_iteration: 3\n",
      "  avg_loss: 13.516570727030436\n",
      "  date: 2022-09-08_05-25-48\n",
      "  done: false\n",
      "  experiment_id: 694f591e6cce4ab29796235a5d7baac3\n",
      "  hostname: anish-l5-kit\n",
      "  iterations_since_restore: 3\n",
      "  loss: 9.412477493286133\n",
      "  node_ip: 10.150.0.3\n",
      "  pid: 10189\n",
      "  should_checkpoint: true\n",
      "  time_since_restore: 56.316662311553955\n",
      "  time_this_iter_s: 13.568259239196777\n",
      "  time_total_s: 56.316662311553955\n",
      "  timestamp: 1662614748\n",
      "  timesteps_since_restore: 0\n",
      "  training_iteration: 3\n",
      "  trial_id: 8d6a8772\n",
      "  warmup_time: 0.0318598747253418\n",
      "  \n"
     ]
    },
    {
     "name": "stderr",
     "output_type": "stream",
     "text": [
      "Done. 1.1s\n"
     ]
    },
    {
     "name": "stdout",
     "output_type": "stream",
     "text": [
      "\u001b[2m\u001b[36m(RayTrainWorker pid=10319)\u001b[0m {'loss': 13.902549743652344, 'avg_loss': 13.613065481185913}\n"
     ]
    },
    {
     "name": "stderr",
     "output_type": "stream",
     "text": [
      "\u001b[34m\u001b[1mwandb\u001b[0m: Adding directory to artifact (/home/jupyter/ray_results/TorchTrainer_2022-09-08_05-18-50/TorchTrainer_8d6a8772_9_batch_size=18.0000,format_version=4,future_num_frames=12,history_num_frames=0,model_architecture=resnet50,_2022-09-08_05-24-47/checkpoint_000003)... "
     ]
    },
    {
     "name": "stdout",
     "output_type": "stream",
     "text": [
      "Result for TorchTrainer_8d6a8772:\n",
      "  _time_this_iter_s: 13.357654809951782\n",
      "  _timestamp: 1662614761\n",
      "  _training_iteration: 4\n",
      "  avg_loss: 13.613065481185913\n",
      "  date: 2022-09-08_05-26-01\n",
      "  done: false\n",
      "  experiment_id: 694f591e6cce4ab29796235a5d7baac3\n",
      "  hostname: anish-l5-kit\n",
      "  iterations_since_restore: 4\n",
      "  loss: 13.902549743652344\n",
      "  node_ip: 10.150.0.3\n",
      "  pid: 10189\n",
      "  should_checkpoint: true\n",
      "  time_since_restore: 69.77879166603088\n",
      "  time_this_iter_s: 13.462129354476929\n",
      "  time_total_s: 69.77879166603088\n",
      "  timestamp: 1662614761\n",
      "  timesteps_since_restore: 0\n",
      "  training_iteration: 4\n",
      "  trial_id: 8d6a8772\n",
      "  warmup_time: 0.0318598747253418\n",
      "  \n",
      "\u001b[2m\u001b[36m(RayTrainWorker pid=10310)\u001b[0m {'loss': 12.690081596374512, 'avg_loss': 11.548096974690756}\n"
     ]
    },
    {
     "name": "stderr",
     "output_type": "stream",
     "text": [
      "Done. 1.1s\n"
     ]
    },
    {
     "name": "stdout",
     "output_type": "stream",
     "text": [
      "Result for TorchTrainer_6e8ceeee:\n",
      "  _time_this_iter_s: 18.531675338745117\n",
      "  _timestamp: 1662614763\n",
      "  _training_iteration: 3\n",
      "  avg_loss: 11.548096974690756\n",
      "  date: 2022-09-08_05-26-04\n",
      "  done: false\n",
      "  experiment_id: 4a299b52845641a5911d4bbb6023f3d0\n",
      "  hostname: anish-l5-kit\n",
      "  iterations_since_restore: 3\n",
      "  loss: 12.690081596374512\n",
      "  node_ip: 10.150.0.3\n",
      "  pid: 10178\n",
      "  should_checkpoint: true\n",
      "  time_since_restore: 73.42307806015015\n",
      "  time_this_iter_s: 18.812453031539917\n",
      "  time_total_s: 73.42307806015015\n",
      "  timestamp: 1662614764\n",
      "  timesteps_since_restore: 0\n",
      "  training_iteration: 3\n",
      "  trial_id: 6e8ceeee\n",
      "  warmup_time: 0.008984804153442383\n",
      "  \n"
     ]
    },
    {
     "name": "stderr",
     "output_type": "stream",
     "text": [
      "\u001b[34m\u001b[1mwandb\u001b[0m: Adding directory to artifact (/home/jupyter/ray_results/TorchTrainer_2022-09-08_05-18-50/TorchTrainer_6e8ceeee_8_batch_size=24.0000,format_version=4,future_num_frames=12,history_num_frames=0,model_architecture=resnet50,_2022-09-08_05-24-46/checkpoint_000002)... Done. 1.0s\n"
     ]
    },
    {
     "name": "stdout",
     "output_type": "stream",
     "text": [
      "\u001b[2m\u001b[36m(RayTrainWorker pid=10319)\u001b[0m {'loss': 4.752763271331787, 'avg_loss': 11.841005039215087}\n"
     ]
    },
    {
     "name": "stderr",
     "output_type": "stream",
     "text": [
      "\u001b[34m\u001b[1mwandb\u001b[0m: Adding directory to artifact (/home/jupyter/ray_results/TorchTrainer_2022-09-08_05-18-50/TorchTrainer_8d6a8772_9_batch_size=18.0000,format_version=4,future_num_frames=12,history_num_frames=0,model_architecture=resnet50,_2022-09-08_05-24-47/checkpoint_000004)... "
     ]
    },
    {
     "name": "stdout",
     "output_type": "stream",
     "text": [
      "Result for TorchTrainer_8d6a8772:\n",
      "  _time_this_iter_s: 14.811361074447632\n",
      "  _timestamp: 1662614776\n",
      "  _training_iteration: 5\n",
      "  avg_loss: 11.841005039215087\n",
      "  date: 2022-09-08_05-26-16\n",
      "  done: false\n",
      "  experiment_id: 694f591e6cce4ab29796235a5d7baac3\n",
      "  hostname: anish-l5-kit\n",
      "  iterations_since_restore: 5\n",
      "  loss: 4.752763271331787\n",
      "  node_ip: 10.150.0.3\n",
      "  pid: 10189\n",
      "  should_checkpoint: true\n",
      "  time_since_restore: 84.44539165496826\n",
      "  time_this_iter_s: 14.666599988937378\n",
      "  time_total_s: 84.44539165496826\n",
      "  timestamp: 1662614776\n",
      "  timesteps_since_restore: 0\n",
      "  training_iteration: 5\n",
      "  trial_id: 8d6a8772\n",
      "  warmup_time: 0.0318598747253418\n",
      "  \n"
     ]
    },
    {
     "name": "stderr",
     "output_type": "stream",
     "text": [
      "Done. 1.3s\n",
      "\u001b[34m\u001b[1mwandb\u001b[0m: Adding directory to artifact (/home/jupyter/ray_results/TorchTrainer_2022-09-08_05-18-50/TorchTrainer_8d6a8772_9_batch_size=18.0000,format_version=4,future_num_frames=12,history_num_frames=0,model_architecture=resnet50,_2022-09-08_05-24-47/checkpoint_000004)... Done. 0.3s\n"
     ]
    },
    {
     "data": {
      "text/html": [
       "Waiting for W&B process to finish... <strong style=\"color:green\">(success).</strong>"
      ],
      "text/plain": [
       "<IPython.core.display.HTML object>"
      ]
     },
     "metadata": {},
     "output_type": "display_data"
    },
    {
     "name": "stdout",
     "output_type": "stream",
     "text": [
      "\u001b[2m\u001b[36m(RayTrainWorker pid=10310)\u001b[0m {'loss': 13.24268913269043, 'avg_loss': 11.971745014190674}\n"
     ]
    },
    {
     "data": {
      "application/vnd.jupyter.widget-view+json": {
       "model_id": "a9566b23b09a450586df4f61beca3db5",
       "version_major": 2,
       "version_minor": 0
      },
      "text/plain": [
       "VBox(children=(Label(value='452.176 MB of 452.176 MB uploaded (90.296 MB deduped)\\r'), FloatProgress(value=1.0…"
      ]
     },
     "metadata": {},
     "output_type": "display_data"
    },
    {
     "name": "stdout",
     "output_type": "stream",
     "text": [
      "Result for TorchTrainer_8d6a8772:\n",
      "  _time_this_iter_s: 14.811361074447632\n",
      "  _timestamp: 1662614776\n",
      "  _training_iteration: 5\n",
      "  avg_loss: 11.841005039215087\n",
      "  date: 2022-09-08_05-26-16\n",
      "  done: true\n",
      "  experiment_id: 694f591e6cce4ab29796235a5d7baac3\n",
      "  experiment_tag: 9_batch_size=18.0000,format_version=4,future_num_frames=12,history_num_frames=0,model_architecture=resnet50,render_ego_history=True,step_time=0.1000,dataset_meta_key=meta_json,disable_traffic_light_faces=False,ego_center=0_25_0_5,filter_agents_threshold=0.5000,map_type=py_satellite,pixel_size=0_5_0_5,raster_size=224_224,satellite_map_key=aerial_map_aerial_map_png,semantic_map_key=semantic_map_semantic_map_pb,set_origin_to_bottom=True,batch_size=12,key=scenes_sample_zarr,num_workers=16,perturb_probability=0.5000,shuffle=True,checkpoint_every_n_steps=10000,eval_every_n_steps=10000,max_num_steps=5,batch_size=12,key=scenes_sample_zarr,num_workers=16,shuffle=False,dataset_key=scenes_sample_zarr,lr=0.0004,max_num_steps=5,num_workers=4,perturb_probability=0.5000,shuffle=True\n",
      "  hostname: anish-l5-kit\n",
      "  iterations_since_restore: 5\n",
      "  loss: 4.752763271331787\n",
      "  node_ip: 10.150.0.3\n",
      "  pid: 10189\n",
      "  should_checkpoint: true\n",
      "  time_since_restore: 84.44539165496826\n",
      "  time_this_iter_s: 14.666599988937378\n",
      "  time_total_s: 84.44539165496826\n",
      "  timestamp: 1662614776\n",
      "  timesteps_since_restore: 0\n",
      "  training_iteration: 5\n",
      "  trial_id: 8d6a8772\n",
      "  warmup_time: 0.0318598747253418\n",
      "  \n"
     ]
    },
    {
     "name": "stderr",
     "output_type": "stream",
     "text": [
      "\u001b[34m\u001b[1mwandb\u001b[0m: Adding directory to artifact (/home/jupyter/ray_results/TorchTrainer_2022-09-08_05-18-50/TorchTrainer_6e8ceeee_8_batch_size=24.0000,format_version=4,future_num_frames=12,history_num_frames=0,model_architecture=resnet50,_2022-09-08_05-24-46/checkpoint_000003)... "
     ]
    },
    {
     "name": "stdout",
     "output_type": "stream",
     "text": [
      "Result for TorchTrainer_6e8ceeee:\n",
      "  _time_this_iter_s: 17.297489881515503\n",
      "  _timestamp: 1662614780\n",
      "  _training_iteration: 4\n",
      "  avg_loss: 11.971745014190674\n",
      "  date: 2022-09-08_05-26-21\n",
      "  done: false\n",
      "  experiment_id: 4a299b52845641a5911d4bbb6023f3d0\n",
      "  hostname: anish-l5-kit\n",
      "  iterations_since_restore: 4\n",
      "  loss: 13.24268913269043\n",
      "  node_ip: 10.150.0.3\n",
      "  pid: 10178\n",
      "  should_checkpoint: true\n",
      "  time_since_restore: 90.36831092834473\n",
      "  time_this_iter_s: 16.94523286819458\n",
      "  time_total_s: 90.36831092834473\n",
      "  timestamp: 1662614781\n",
      "  timesteps_since_restore: 0\n",
      "  training_iteration: 4\n",
      "  trial_id: 6e8ceeee\n",
      "  warmup_time: 0.008984804153442383\n",
      "  \n"
     ]
    },
    {
     "name": "stderr",
     "output_type": "stream",
     "text": [
      "Done. 1.0s\n"
     ]
    },
    {
     "data": {
      "text/html": [
       "W&B sync reduced upload amount by 20.0%             "
      ],
      "text/plain": [
       "<IPython.core.display.HTML object>"
      ]
     },
     "metadata": {},
     "output_type": "display_data"
    },
    {
     "data": {
      "text/html": [
       "<style>\n",
       "    table.wandb td:nth-child(1) { padding: 0 10px; text-align: left ; width: auto;} td:nth-child(2) {text-align: left ; width: 100%}\n",
       "    .wandb-row { display: flex; flex-direction: row; flex-wrap: wrap; justify-content: flex-start; width: 100% }\n",
       "    .wandb-col { display: flex; flex-direction: column; flex-basis: 100%; flex: 1; padding: 10px; }\n",
       "    </style>\n",
       "<div class=\"wandb-row\"><div class=\"wandb-col\"><h3>Run history:</h3><br/><table class=\"wandb\"><tr><td>avg_loss</td><td>██▄▄▁</td></tr><tr><td>iterations_since_restore</td><td>▁▃▅▆█</td></tr><tr><td>loss</td><td>██▄▇▁</td></tr><tr><td>time_since_restore</td><td>▁▃▄▆█</td></tr><tr><td>time_this_iter_s</td><td>█▁▁▁▂</td></tr><tr><td>time_total_s</td><td>▁▃▄▆█</td></tr><tr><td>timestamp</td><td>▁▃▄▆█</td></tr><tr><td>timesteps_since_restore</td><td>▁▁▁▁▁</td></tr><tr><td>training_iteration</td><td>▁▃▅▆█</td></tr><tr><td>warmup_time</td><td>▁▁▁▁▁</td></tr></table><br/></div><div class=\"wandb-col\"><h3>Run summary:</h3><br/><table class=\"wandb\"><tr><td>avg_loss</td><td>11.84101</td></tr><tr><td>iterations_since_restore</td><td>5</td></tr><tr><td>loss</td><td>4.75276</td></tr><tr><td>time_since_restore</td><td>84.44539</td></tr><tr><td>time_this_iter_s</td><td>14.6666</td></tr><tr><td>time_total_s</td><td>84.44539</td></tr><tr><td>timestamp</td><td>1662614776</td></tr><tr><td>timesteps_since_restore</td><td>0</td></tr><tr><td>training_iteration</td><td>5</td></tr><tr><td>warmup_time</td><td>0.03186</td></tr></table><br/></div></div>"
      ],
      "text/plain": [
       "<IPython.core.display.HTML object>"
      ]
     },
     "metadata": {},
     "output_type": "display_data"
    },
    {
     "data": {
      "text/html": [
       "Synced <strong style=\"color:#cdcd00\">TorchTrainer_8d6a8772</strong>: <a href=\"https://wandb.ai/l5-demo/l5-planning-trials/runs/8d6a8772\" target=\"_blank\">https://wandb.ai/l5-demo/l5-planning-trials/runs/8d6a8772</a><br/>Synced 7 W&B file(s), 0 media file(s), 12 artifact file(s) and 1 other file(s)"
      ],
      "text/plain": [
       "<IPython.core.display.HTML object>"
      ]
     },
     "metadata": {},
     "output_type": "display_data"
    },
    {
     "data": {
      "text/html": [
       "Find logs at: <code>./wandb/run-20220908_052447-8d6a8772/logs</code>"
      ],
      "text/plain": [
       "<IPython.core.display.HTML object>"
      ]
     },
     "metadata": {},
     "output_type": "display_data"
    },
    {
     "name": "stderr",
     "output_type": "stream",
     "text": [
      "\u001b[2m\u001b[36m(RayTrainWorker pid=11894)\u001b[0m 2022-09-08 05:26:35,314\tINFO config.py:72 -- Setting up process group for: env:// [rank=0, world_size=1]\n"
     ]
    },
    {
     "name": "stdout",
     "output_type": "stream",
     "text": [
      "\u001b[2m\u001b[36m(RayTrainWorker pid=10310)\u001b[0m {'loss': 10.724266052246094, 'avg_loss': 11.722249221801757}\n"
     ]
    },
    {
     "name": "stderr",
     "output_type": "stream",
     "text": [
      "\u001b[34m\u001b[1mwandb\u001b[0m: Adding directory to artifact (/home/jupyter/ray_results/TorchTrainer_2022-09-08_05-18-50/TorchTrainer_6e8ceeee_8_batch_size=24.0000,format_version=4,future_num_frames=12,history_num_frames=0,model_architecture=resnet50,_2022-09-08_05-24-46/checkpoint_000004)... "
     ]
    },
    {
     "name": "stdout",
     "output_type": "stream",
     "text": [
      "Result for TorchTrainer_6e8ceeee:\n",
      "  _time_this_iter_s: 19.32441210746765\n",
      "  _timestamp: 1662614800\n",
      "  _training_iteration: 5\n",
      "  avg_loss: 11.722249221801757\n",
      "  date: 2022-09-08_05-26-40\n",
      "  done: false\n",
      "  experiment_id: 4a299b52845641a5911d4bbb6023f3d0\n",
      "  hostname: anish-l5-kit\n",
      "  iterations_since_restore: 5\n",
      "  loss: 10.724266052246094\n",
      "  node_ip: 10.150.0.3\n",
      "  pid: 10178\n",
      "  should_checkpoint: true\n",
      "  time_since_restore: 109.7222318649292\n",
      "  time_this_iter_s: 19.353920936584473\n",
      "  time_total_s: 109.7222318649292\n",
      "  timestamp: 1662614800\n",
      "  timesteps_since_restore: 0\n",
      "  training_iteration: 5\n",
      "  trial_id: 6e8ceeee\n",
      "  warmup_time: 0.008984804153442383\n",
      "  \n"
     ]
    },
    {
     "name": "stderr",
     "output_type": "stream",
     "text": [
      "\u001b[2m\u001b[36m(RayTrainWorker pid=11894)\u001b[0m /opt/conda/lib/python3.7/site-packages/l5kit/planning/rasterized/model.py:31: UserWarning: There is no pre-trained model with num_in_channels != 3, first layer will be reset\n",
      "\u001b[2m\u001b[36m(RayTrainWorker pid=11894)\u001b[0m   warnings.warn(\"There is no pre-trained model with num_in_channels != 3, first layer will be reset\")\n",
      "\u001b[2m\u001b[36m(RayTrainWorker pid=11894)\u001b[0m /opt/conda/lib/python3.7/site-packages/torchvision/models/_utils.py:209: UserWarning: The parameter 'pretrained' is deprecated since 0.13 and will be removed in 0.15, please use 'weights' instead.\n",
      "\u001b[2m\u001b[36m(RayTrainWorker pid=11894)\u001b[0m   f\"The parameter '{pretrained_param}' is deprecated since 0.13 and will be removed in 0.15, \"\n",
      "\u001b[2m\u001b[36m(RayTrainWorker pid=11894)\u001b[0m /opt/conda/lib/python3.7/site-packages/torchvision/models/_utils.py:223: UserWarning: Arguments other than a weight enum or `None` for 'weights' are deprecated since 0.13 and will be removed in 0.15. The current behavior is equivalent to passing `weights=ResNet50_Weights.IMAGENET1K_V1`. You can also use `weights=ResNet50_Weights.DEFAULT` to get the most up-to-date weights.\n",
      "\u001b[2m\u001b[36m(RayTrainWorker pid=11894)\u001b[0m   warnings.warn(msg)\n",
      "\u001b[2m\u001b[36m(RayTrainWorker pid=11894)\u001b[0m 2022-09-08 05:26:41,048\tINFO train_loop_utils.py:300 -- Moving model to device: cpu\n",
      "Done. 1.0s\n",
      "\u001b[34m\u001b[1mwandb\u001b[0m: Adding directory to artifact (/home/jupyter/ray_results/TorchTrainer_2022-09-08_05-18-50/TorchTrainer_6e8ceeee_8_batch_size=24.0000,format_version=4,future_num_frames=12,history_num_frames=0,model_architecture=resnet50,_2022-09-08_05-24-46/checkpoint_000004)... Done. 0.3s\n"
     ]
    },
    {
     "data": {
      "text/html": [
       "Waiting for W&B process to finish... <strong style=\"color:green\">(success).</strong>"
      ],
      "text/plain": [
       "<IPython.core.display.HTML object>"
      ]
     },
     "metadata": {},
     "output_type": "display_data"
    },
    {
     "data": {
      "application/vnd.jupyter.widget-view+json": {
       "model_id": "07af8fb8667549388c3ae3e47c37b879",
       "version_major": 2,
       "version_minor": 0
      },
      "text/plain": [
       "VBox(children=(Label(value='452.176 MB of 452.176 MB uploaded (90.296 MB deduped)\\r'), FloatProgress(value=1.0…"
      ]
     },
     "metadata": {},
     "output_type": "display_data"
    },
    {
     "data": {
      "text/html": [
       "W&B sync reduced upload amount by 20.0%             "
      ],
      "text/plain": [
       "<IPython.core.display.HTML object>"
      ]
     },
     "metadata": {},
     "output_type": "display_data"
    },
    {
     "name": "stdout",
     "output_type": "stream",
     "text": [
      "Result for TorchTrainer_6e8ceeee:\n",
      "  _time_this_iter_s: 19.32441210746765\n",
      "  _timestamp: 1662614800\n",
      "  _training_iteration: 5\n",
      "  avg_loss: 11.722249221801757\n",
      "  date: 2022-09-08_05-26-40\n",
      "  done: true\n",
      "  experiment_id: 4a299b52845641a5911d4bbb6023f3d0\n",
      "  experiment_tag: 8_batch_size=24.0000,format_version=4,future_num_frames=12,history_num_frames=0,model_architecture=resnet50,render_ego_history=True,step_time=0.1000,dataset_meta_key=meta_json,disable_traffic_light_faces=False,ego_center=0_25_0_5,filter_agents_threshold=0.5000,map_type=py_semantic,pixel_size=0_5_0_5,raster_size=224_224,satellite_map_key=aerial_map_aerial_map_png,semantic_map_key=semantic_map_semantic_map_pb,set_origin_to_bottom=True,batch_size=12,key=scenes_sample_zarr,num_workers=16,perturb_probability=0.5000,shuffle=True,checkpoint_every_n_steps=10000,eval_every_n_steps=10000,max_num_steps=5,batch_size=12,key=scenes_sample_zarr,num_workers=16,shuffle=False,dataset_key=scenes_sample_zarr,lr=0.0002,max_num_steps=5,num_workers=4,perturb_probability=0.5000,shuffle=True\n",
      "  hostname: anish-l5-kit\n",
      "  iterations_since_restore: 5\n",
      "  loss: 10.724266052246094\n",
      "  node_ip: 10.150.0.3\n",
      "  pid: 10178\n",
      "  should_checkpoint: true\n",
      "  time_since_restore: 109.7222318649292\n",
      "  time_this_iter_s: 19.353920936584473\n",
      "  time_total_s: 109.7222318649292\n",
      "  timestamp: 1662614800\n",
      "  timesteps_since_restore: 0\n",
      "  training_iteration: 5\n",
      "  trial_id: 6e8ceeee\n",
      "  warmup_time: 0.008984804153442383\n",
      "  \n"
     ]
    },
    {
     "data": {
      "text/html": [
       "<style>\n",
       "    table.wandb td:nth-child(1) { padding: 0 10px; text-align: left ; width: auto;} td:nth-child(2) {text-align: left ; width: 100%}\n",
       "    .wandb-row { display: flex; flex-direction: row; flex-wrap: wrap; justify-content: flex-start; width: 100% }\n",
       "    .wandb-col { display: flex; flex-direction: column; flex-basis: 100%; flex: 1; padding: 10px; }\n",
       "    </style>\n",
       "<div class=\"wandb-row\"><div class=\"wandb-col\"><h3>Run history:</h3><br/><table class=\"wandb\"><tr><td>avg_loss</td><td>▅▁▅█▆</td></tr><tr><td>iterations_since_restore</td><td>▁▃▅▆█</td></tr><tr><td>loss</td><td>▄▁▇█▂</td></tr><tr><td>time_since_restore</td><td>▁▃▅▆█</td></tr><tr><td>time_this_iter_s</td><td>█▁▂▁▂</td></tr><tr><td>time_total_s</td><td>▁▃▅▆█</td></tr><tr><td>timestamp</td><td>▁▃▅▆█</td></tr><tr><td>timesteps_since_restore</td><td>▁▁▁▁▁</td></tr><tr><td>training_iteration</td><td>▁▃▅▆█</td></tr><tr><td>warmup_time</td><td>▁▁▁▁▁</td></tr></table><br/></div><div class=\"wandb-col\"><h3>Run summary:</h3><br/><table class=\"wandb\"><tr><td>avg_loss</td><td>11.72225</td></tr><tr><td>iterations_since_restore</td><td>5</td></tr><tr><td>loss</td><td>10.72427</td></tr><tr><td>time_since_restore</td><td>109.72223</td></tr><tr><td>time_this_iter_s</td><td>19.35392</td></tr><tr><td>time_total_s</td><td>109.72223</td></tr><tr><td>timestamp</td><td>1662614800</td></tr><tr><td>timesteps_since_restore</td><td>0</td></tr><tr><td>training_iteration</td><td>5</td></tr><tr><td>warmup_time</td><td>0.00898</td></tr></table><br/></div></div>"
      ],
      "text/plain": [
       "<IPython.core.display.HTML object>"
      ]
     },
     "metadata": {},
     "output_type": "display_data"
    },
    {
     "data": {
      "text/html": [
       "Synced <strong style=\"color:#cdcd00\">TorchTrainer_6e8ceeee</strong>: <a href=\"https://wandb.ai/l5-demo/l5-planning-trials/runs/6e8ceeee\" target=\"_blank\">https://wandb.ai/l5-demo/l5-planning-trials/runs/6e8ceeee</a><br/>Synced 7 W&B file(s), 0 media file(s), 12 artifact file(s) and 1 other file(s)"
      ],
      "text/plain": [
       "<IPython.core.display.HTML object>"
      ]
     },
     "metadata": {},
     "output_type": "display_data"
    },
    {
     "data": {
      "text/html": [
       "Find logs at: <code>./wandb/run-20220908_052446-6e8ceeee/logs</code>"
      ],
      "text/plain": [
       "<IPython.core.display.HTML object>"
      ]
     },
     "metadata": {},
     "output_type": "display_data"
    },
    {
     "name": "stdout",
     "output_type": "stream",
     "text": [
      "\u001b[2m\u001b[36m(RayTrainWorker pid=11894)\u001b[0m {'loss': 12.353342056274414, 'avg_loss': 12.353342056274414}\n"
     ]
    },
    {
     "name": "stderr",
     "output_type": "stream",
     "text": [
      "\u001b[34m\u001b[1mwandb\u001b[0m: Adding directory to artifact (/home/jupyter/ray_results/TorchTrainer_2022-09-08_05-18-50/TorchTrainer_8df51bd0_10_batch_size=18.0000,format_version=4,future_num_frames=12,history_num_frames=0,model_architecture=resnet50_2022-09-08_05-26-28/checkpoint_000000)... "
     ]
    },
    {
     "name": "stdout",
     "output_type": "stream",
     "text": [
      "Result for TorchTrainer_8df51bd0:\n",
      "  _time_this_iter_s: 19.12893271446228\n",
      "  _timestamp: 1662614815\n",
      "  _training_iteration: 1\n",
      "  avg_loss: 12.353342056274414\n",
      "  date: 2022-09-08_05-26-55\n",
      "  done: false\n",
      "  experiment_id: 4bd38202dc264bbea5bc1345cb48b41b\n",
      "  hostname: anish-l5-kit\n",
      "  iterations_since_restore: 1\n",
      "  loss: 12.353342056274414\n",
      "  node_ip: 10.150.0.3\n",
      "  pid: 11812\n",
      "  should_checkpoint: true\n",
      "  time_since_restore: 23.029694080352783\n",
      "  time_this_iter_s: 23.029694080352783\n",
      "  time_total_s: 23.029694080352783\n",
      "  timestamp: 1662614815\n",
      "  timesteps_since_restore: 0\n",
      "  training_iteration: 1\n",
      "  trial_id: 8df51bd0\n",
      "  warmup_time: 0.006277322769165039\n",
      "  \n"
     ]
    },
    {
     "name": "stderr",
     "output_type": "stream",
     "text": [
      "Done. 1.0s\n",
      "\u001b[2m\u001b[36m(RayTrainWorker pid=12278)\u001b[0m 2022-09-08 05:27:00,908\tINFO config.py:72 -- Setting up process group for: env:// [rank=0, world_size=1]\n",
      "\u001b[2m\u001b[36m(RayTrainWorker pid=12278)\u001b[0m /opt/conda/lib/python3.7/site-packages/l5kit/planning/rasterized/model.py:31: UserWarning: There is no pre-trained model with num_in_channels != 3, first layer will be reset\n",
      "\u001b[2m\u001b[36m(RayTrainWorker pid=12278)\u001b[0m   warnings.warn(\"There is no pre-trained model with num_in_channels != 3, first layer will be reset\")\n",
      "\u001b[2m\u001b[36m(RayTrainWorker pid=12278)\u001b[0m /opt/conda/lib/python3.7/site-packages/torchvision/models/_utils.py:209: UserWarning: The parameter 'pretrained' is deprecated since 0.13 and will be removed in 0.15, please use 'weights' instead.\n",
      "\u001b[2m\u001b[36m(RayTrainWorker pid=12278)\u001b[0m   f\"The parameter '{pretrained_param}' is deprecated since 0.13 and will be removed in 0.15, \"\n",
      "\u001b[2m\u001b[36m(RayTrainWorker pid=12278)\u001b[0m /opt/conda/lib/python3.7/site-packages/torchvision/models/_utils.py:223: UserWarning: Arguments other than a weight enum or `None` for 'weights' are deprecated since 0.13 and will be removed in 0.15. The current behavior is equivalent to passing `weights=ResNet50_Weights.IMAGENET1K_V1`. You can also use `weights=ResNet50_Weights.DEFAULT` to get the most up-to-date weights.\n",
      "\u001b[2m\u001b[36m(RayTrainWorker pid=12278)\u001b[0m   warnings.warn(msg)\n",
      "\u001b[2m\u001b[36m(RayTrainWorker pid=12278)\u001b[0m 2022-09-08 05:27:08,257\tINFO train_loop_utils.py:300 -- Moving model to device: cpu\n"
     ]
    },
    {
     "name": "stdout",
     "output_type": "stream",
     "text": [
      "\u001b[2m\u001b[36m(RayTrainWorker pid=11894)\u001b[0m {'loss': 14.074190139770508, 'avg_loss': 13.213766098022461}\n"
     ]
    },
    {
     "name": "stderr",
     "output_type": "stream",
     "text": [
      "\u001b[34m\u001b[1mwandb\u001b[0m: Adding directory to artifact (/home/jupyter/ray_results/TorchTrainer_2022-09-08_05-18-50/TorchTrainer_8df51bd0_10_batch_size=18.0000,format_version=4,future_num_frames=12,history_num_frames=0,model_architecture=resnet50_2022-09-08_05-26-28/checkpoint_000001)... "
     ]
    },
    {
     "name": "stdout",
     "output_type": "stream",
     "text": [
      "Result for TorchTrainer_8df51bd0:\n",
      "  _time_this_iter_s: 16.84495258331299\n",
      "  _timestamp: 1662614831\n",
      "  _training_iteration: 2\n",
      "  avg_loss: 13.213766098022461\n",
      "  date: 2022-09-08_05-27-12\n",
      "  done: false\n",
      "  experiment_id: 4bd38202dc264bbea5bc1345cb48b41b\n",
      "  hostname: anish-l5-kit\n",
      "  iterations_since_restore: 2\n",
      "  loss: 14.074190139770508\n",
      "  node_ip: 10.150.0.3\n",
      "  pid: 11812\n",
      "  should_checkpoint: true\n",
      "  time_since_restore: 39.77811050415039\n",
      "  time_this_iter_s: 16.748416423797607\n",
      "  time_total_s: 39.77811050415039\n",
      "  timestamp: 1662614832\n",
      "  timesteps_since_restore: 0\n",
      "  training_iteration: 2\n",
      "  trial_id: 8df51bd0\n",
      "  warmup_time: 0.006277322769165039\n",
      "  \n"
     ]
    },
    {
     "name": "stderr",
     "output_type": "stream",
     "text": [
      "Done. 1.3s\n"
     ]
    },
    {
     "name": "stdout",
     "output_type": "stream",
     "text": [
      "\u001b[2m\u001b[36m(RayTrainWorker pid=12278)\u001b[0m {'loss': 6.252495288848877, 'avg_loss': 6.252495288848877}\n"
     ]
    },
    {
     "name": "stderr",
     "output_type": "stream",
     "text": [
      "\u001b[34m\u001b[1mwandb\u001b[0m: Adding directory to artifact (/home/jupyter/ray_results/TorchTrainer_2022-09-08_05-18-50/TorchTrainer_ca0ed052_11_batch_size=12.0000,format_version=4,future_num_frames=12,history_num_frames=0,model_architecture=resnet50_2022-09-08_05-26-53/checkpoint_000000)... "
     ]
    },
    {
     "name": "stdout",
     "output_type": "stream",
     "text": [
      "Result for TorchTrainer_ca0ed052:\n",
      "  _time_this_iter_s: 16.63005757331848\n",
      "  _timestamp: 1662614838\n",
      "  _training_iteration: 1\n",
      "  avg_loss: 6.252495288848877\n",
      "  date: 2022-09-08_05-27-18\n",
      "  done: false\n",
      "  experiment_id: 8e8b7abf70084f2e821b485e7277fb30\n",
      "  hostname: anish-l5-kit\n",
      "  iterations_since_restore: 1\n",
      "  loss: 6.252495288848877\n",
      "  node_ip: 10.150.0.3\n",
      "  pid: 12182\n",
      "  should_checkpoint: true\n",
      "  time_since_restore: 21.3973867893219\n",
      "  time_this_iter_s: 21.3973867893219\n",
      "  time_total_s: 21.3973867893219\n",
      "  timestamp: 1662614838\n",
      "  timesteps_since_restore: 0\n",
      "  training_iteration: 1\n",
      "  trial_id: ca0ed052\n",
      "  warmup_time: 0.006010770797729492\n",
      "  \n"
     ]
    },
    {
     "name": "stderr",
     "output_type": "stream",
     "text": [
      "Done. 1.0s\n"
     ]
    },
    {
     "name": "stdout",
     "output_type": "stream",
     "text": [
      "\u001b[2m\u001b[36m(RayTrainWorker pid=11894)\u001b[0m {'loss': 11.39339542388916, 'avg_loss': 12.606975873311361}\n"
     ]
    },
    {
     "name": "stderr",
     "output_type": "stream",
     "text": [
      "\u001b[34m\u001b[1mwandb\u001b[0m: Adding directory to artifact (/home/jupyter/ray_results/TorchTrainer_2022-09-08_05-18-50/TorchTrainer_8df51bd0_10_batch_size=18.0000,format_version=4,future_num_frames=12,history_num_frames=0,model_architecture=resnet50_2022-09-08_05-26-28/checkpoint_000002)... "
     ]
    },
    {
     "name": "stdout",
     "output_type": "stream",
     "text": [
      "Result for TorchTrainer_8df51bd0:\n",
      "  _time_this_iter_s: 13.023996591567993\n",
      "  _timestamp: 1662614844\n",
      "  _training_iteration: 3\n",
      "  avg_loss: 12.606975873311361\n",
      "  date: 2022-09-08_05-27-25\n",
      "  done: false\n",
      "  experiment_id: 4bd38202dc264bbea5bc1345cb48b41b\n",
      "  hostname: anish-l5-kit\n",
      "  iterations_since_restore: 3\n",
      "  loss: 11.39339542388916\n",
      "  node_ip: 10.150.0.3\n",
      "  pid: 11812\n",
      "  should_checkpoint: true\n",
      "  time_since_restore: 52.681349754333496\n",
      "  time_this_iter_s: 12.903239250183105\n",
      "  time_total_s: 52.681349754333496\n",
      "  timestamp: 1662614845\n",
      "  timesteps_since_restore: 0\n",
      "  training_iteration: 3\n",
      "  trial_id: 8df51bd0\n",
      "  warmup_time: 0.006277322769165039\n",
      "  \n"
     ]
    },
    {
     "name": "stderr",
     "output_type": "stream",
     "text": [
      "Done. 1.0s\n"
     ]
    },
    {
     "name": "stdout",
     "output_type": "stream",
     "text": [
      "\u001b[2m\u001b[36m(RayTrainWorker pid=12278)\u001b[0m {'loss': 20.589731216430664, 'avg_loss': 13.42111325263977}\n"
     ]
    },
    {
     "name": "stderr",
     "output_type": "stream",
     "text": [
      "\u001b[34m\u001b[1mwandb\u001b[0m: Adding directory to artifact (/home/jupyter/ray_results/TorchTrainer_2022-09-08_05-18-50/TorchTrainer_ca0ed052_11_batch_size=12.0000,format_version=4,future_num_frames=12,history_num_frames=0,model_architecture=resnet50_2022-09-08_05-26-53/checkpoint_000001)... "
     ]
    },
    {
     "name": "stdout",
     "output_type": "stream",
     "text": [
      "Result for TorchTrainer_ca0ed052:\n",
      "  _time_this_iter_s: 8.909281492233276\n",
      "  _timestamp: 1662614847\n",
      "  _training_iteration: 2\n",
      "  avg_loss: 13.42111325263977\n",
      "  date: 2022-09-08_05-27-27\n",
      "  done: false\n",
      "  experiment_id: 8e8b7abf70084f2e821b485e7277fb30\n",
      "  hostname: anish-l5-kit\n",
      "  iterations_since_restore: 2\n",
      "  loss: 20.589731216430664\n",
      "  node_ip: 10.150.0.3\n",
      "  pid: 12182\n",
      "  should_checkpoint: true\n",
      "  time_since_restore: 30.307243585586548\n",
      "  time_this_iter_s: 8.909856796264648\n",
      "  time_total_s: 30.307243585586548\n",
      "  timestamp: 1662614847\n",
      "  timesteps_since_restore: 0\n",
      "  training_iteration: 2\n",
      "  trial_id: ca0ed052\n",
      "  warmup_time: 0.006010770797729492\n",
      "  \n"
     ]
    },
    {
     "name": "stderr",
     "output_type": "stream",
     "text": [
      "Done. 1.0s\n"
     ]
    },
    {
     "name": "stdout",
     "output_type": "stream",
     "text": [
      "\u001b[2m\u001b[36m(RayTrainWorker pid=12278)\u001b[0m {'loss': 6.35532283782959, 'avg_loss': 11.065849781036377}\n"
     ]
    },
    {
     "name": "stderr",
     "output_type": "stream",
     "text": [
      "\u001b[34m\u001b[1mwandb\u001b[0m: Adding directory to artifact (/home/jupyter/ray_results/TorchTrainer_2022-09-08_05-18-50/TorchTrainer_ca0ed052_11_batch_size=12.0000,format_version=4,future_num_frames=12,history_num_frames=0,model_architecture=resnet50_2022-09-08_05-26-53/checkpoint_000002)... "
     ]
    },
    {
     "name": "stdout",
     "output_type": "stream",
     "text": [
      "Result for TorchTrainer_ca0ed052:\n",
      "  _time_this_iter_s: 8.420324802398682\n",
      "  _timestamp: 1662614855\n",
      "  _training_iteration: 3\n",
      "  avg_loss: 11.065849781036377\n",
      "  date: 2022-09-08_05-27-35\n",
      "  done: false\n",
      "  experiment_id: 8e8b7abf70084f2e821b485e7277fb30\n",
      "  hostname: anish-l5-kit\n",
      "  iterations_since_restore: 3\n",
      "  loss: 6.35532283782959\n",
      "  node_ip: 10.150.0.3\n",
      "  pid: 12182\n",
      "  should_checkpoint: true\n",
      "  time_since_restore: 38.62424898147583\n",
      "  time_this_iter_s: 8.317005395889282\n",
      "  time_total_s: 38.62424898147583\n",
      "  timestamp: 1662614855\n",
      "  timesteps_since_restore: 0\n",
      "  training_iteration: 3\n",
      "  trial_id: ca0ed052\n",
      "  warmup_time: 0.006010770797729492\n",
      "  \n"
     ]
    },
    {
     "name": "stderr",
     "output_type": "stream",
     "text": [
      "Done. 1.0s\n"
     ]
    },
    {
     "name": "stdout",
     "output_type": "stream",
     "text": [
      "\u001b[2m\u001b[36m(RayTrainWorker pid=11894)\u001b[0m {'loss': 12.973479270935059, 'avg_loss': 12.698601722717285}\n",
      "Result for TorchTrainer_8df51bd0:\n",
      "  _time_this_iter_s: 12.729971647262573\n",
      "  _timestamp: 1662614857\n",
      "  _training_iteration: 4\n",
      "  avg_loss: 12.698601722717285\n",
      "  date: 2022-09-08_05-27-38\n",
      "  done: false\n",
      "  experiment_id: 4bd38202dc264bbea5bc1345cb48b41b\n",
      "  hostname: anish-l5-kit\n",
      "  iterations_since_restore: 4\n",
      "  loss: 12.973479270935059\n",
      "  node_ip: 10.150.0.3\n",
      "  pid: 11812\n",
      "  should_checkpoint: true\n",
      "  time_since_restore: 65.46689867973328\n",
      "  time_this_iter_s: 12.78554892539978\n",
      "  time_total_s: 65.46689867973328\n",
      "  timestamp: 1662614858\n",
      "  timesteps_since_restore: 0\n",
      "  training_iteration: 4\n",
      "  trial_id: 8df51bd0\n",
      "  warmup_time: 0.006277322769165039\n",
      "  \n"
     ]
    },
    {
     "name": "stderr",
     "output_type": "stream",
     "text": [
      "\u001b[34m\u001b[1mwandb\u001b[0m: Adding directory to artifact (/home/jupyter/ray_results/TorchTrainer_2022-09-08_05-18-50/TorchTrainer_8df51bd0_10_batch_size=18.0000,format_version=4,future_num_frames=12,history_num_frames=0,model_architecture=resnet50_2022-09-08_05-26-28/checkpoint_000003)... Done. 1.0s\n"
     ]
    },
    {
     "name": "stdout",
     "output_type": "stream",
     "text": [
      "\u001b[2m\u001b[36m(RayTrainWorker pid=12278)\u001b[0m {'loss': 7.460397720336914, 'avg_loss': 10.164486765861511}\n"
     ]
    },
    {
     "name": "stderr",
     "output_type": "stream",
     "text": [
      "\u001b[34m\u001b[1mwandb\u001b[0m: Adding directory to artifact (/home/jupyter/ray_results/TorchTrainer_2022-09-08_05-18-50/TorchTrainer_ca0ed052_11_batch_size=12.0000,format_version=4,future_num_frames=12,history_num_frames=0,model_architecture=resnet50_2022-09-08_05-26-53/checkpoint_000003)... "
     ]
    },
    {
     "name": "stdout",
     "output_type": "stream",
     "text": [
      "Result for TorchTrainer_ca0ed052:\n",
      "  _time_this_iter_s: 8.75465440750122\n",
      "  _timestamp: 1662614864\n",
      "  _training_iteration: 4\n",
      "  avg_loss: 10.164486765861511\n",
      "  date: 2022-09-08_05-27-44\n",
      "  done: false\n",
      "  experiment_id: 8e8b7abf70084f2e821b485e7277fb30\n",
      "  hostname: anish-l5-kit\n",
      "  iterations_since_restore: 4\n",
      "  loss: 7.460397720336914\n",
      "  node_ip: 10.150.0.3\n",
      "  pid: 12182\n",
      "  should_checkpoint: true\n",
      "  time_since_restore: 47.450605630874634\n",
      "  time_this_iter_s: 8.826356649398804\n",
      "  time_total_s: 47.450605630874634\n",
      "  timestamp: 1662614864\n",
      "  timesteps_since_restore: 0\n",
      "  training_iteration: 4\n",
      "  trial_id: ca0ed052\n",
      "  warmup_time: 0.006010770797729492\n",
      "  \n"
     ]
    },
    {
     "name": "stderr",
     "output_type": "stream",
     "text": [
      "Done. 1.6s\n"
     ]
    },
    {
     "name": "stdout",
     "output_type": "stream",
     "text": [
      "\u001b[2m\u001b[36m(RayTrainWorker pid=11894)\u001b[0m {'loss': 10.573002815246582, 'avg_loss': 12.273481941223144}\n"
     ]
    },
    {
     "name": "stderr",
     "output_type": "stream",
     "text": [
      "\u001b[34m\u001b[1mwandb\u001b[0m: Adding directory to artifact (/home/jupyter/ray_results/TorchTrainer_2022-09-08_05-18-50/TorchTrainer_8df51bd0_10_batch_size=18.0000,format_version=4,future_num_frames=12,history_num_frames=0,model_architecture=resnet50_2022-09-08_05-26-28/checkpoint_000004)... "
     ]
    },
    {
     "name": "stdout",
     "output_type": "stream",
     "text": [
      "Result for TorchTrainer_8df51bd0:\n",
      "  _time_this_iter_s: 12.419198274612427\n",
      "  _timestamp: 1662614870\n",
      "  _training_iteration: 5\n",
      "  avg_loss: 12.273481941223144\n",
      "  date: 2022-09-08_05-27-50\n",
      "  done: false\n",
      "  experiment_id: 4bd38202dc264bbea5bc1345cb48b41b\n",
      "  hostname: anish-l5-kit\n",
      "  iterations_since_restore: 5\n",
      "  loss: 10.573002815246582\n",
      "  node_ip: 10.150.0.3\n",
      "  pid: 11812\n",
      "  should_checkpoint: true\n",
      "  time_since_restore: 77.96748733520508\n",
      "  time_this_iter_s: 12.500588655471802\n",
      "  time_total_s: 77.96748733520508\n",
      "  timestamp: 1662614870\n",
      "  timesteps_since_restore: 0\n",
      "  training_iteration: 5\n",
      "  trial_id: 8df51bd0\n",
      "  warmup_time: 0.006277322769165039\n",
      "  \n",
      "\u001b[2m\u001b[36m(RayTrainWorker pid=12278)\u001b[0m {'loss': 7.069854259490967, 'avg_loss': 9.545560264587403}\n"
     ]
    },
    {
     "name": "stderr",
     "output_type": "stream",
     "text": [
      "Done. 2.8s\n",
      "\u001b[34m\u001b[1mwandb\u001b[0m: Adding directory to artifact (/home/jupyter/ray_results/TorchTrainer_2022-09-08_05-18-50/TorchTrainer_8df51bd0_10_batch_size=18.0000,format_version=4,future_num_frames=12,history_num_frames=0,model_architecture=resnet50_2022-09-08_05-26-28/checkpoint_000004)... Done. 0.2s\n"
     ]
    },
    {
     "data": {
      "text/html": [
       "Waiting for W&B process to finish... <strong style=\"color:green\">(success).</strong>"
      ],
      "text/plain": [
       "<IPython.core.display.HTML object>"
      ]
     },
     "metadata": {},
     "output_type": "display_data"
    },
    {
     "data": {
      "application/vnd.jupyter.widget-view+json": {
       "model_id": "0381f5e63a7e400ba4900aecdf822c48",
       "version_major": 2,
       "version_minor": 0
      },
      "text/plain": [
       "VBox(children=(Label(value='452.176 MB of 452.176 MB uploaded (90.296 MB deduped)\\r'), FloatProgress(value=1.0…"
      ]
     },
     "metadata": {},
     "output_type": "display_data"
    },
    {
     "data": {
      "text/html": [
       "W&B sync reduced upload amount by 20.0%             "
      ],
      "text/plain": [
       "<IPython.core.display.HTML object>"
      ]
     },
     "metadata": {},
     "output_type": "display_data"
    },
    {
     "name": "stdout",
     "output_type": "stream",
     "text": [
      "Result for TorchTrainer_8df51bd0:\n",
      "  _time_this_iter_s: 12.419198274612427\n",
      "  _timestamp: 1662614870\n",
      "  _training_iteration: 5\n",
      "  avg_loss: 12.273481941223144\n",
      "  date: 2022-09-08_05-27-50\n",
      "  done: true\n",
      "  experiment_id: 4bd38202dc264bbea5bc1345cb48b41b\n",
      "  experiment_tag: 10_batch_size=18.0000,format_version=4,future_num_frames=12,history_num_frames=0,model_architecture=resnet50,render_ego_history=True,step_time=0.1000,dataset_meta_key=meta_json,disable_traffic_light_faces=False,ego_center=0_25_0_5,filter_agents_threshold=0.5000,map_type=py_satellite,pixel_size=0_5_0_5,raster_size=224_224,satellite_map_key=aerial_map_aerial_map_png,semantic_map_key=semantic_map_semantic_map_pb,set_origin_to_bottom=True,batch_size=12,key=scenes_sample_zarr,num_workers=16,perturb_probability=0.5000,shuffle=True,checkpoint_every_n_steps=10000,eval_every_n_steps=10000,max_num_steps=5,batch_size=12,key=scenes_sample_zarr,num_workers=16,shuffle=False,dataset_key=scenes_sample_zarr,lr=0.0001,max_num_steps=5,num_workers=4,perturb_probability=0.5000,shuffle=True\n",
      "  hostname: anish-l5-kit\n",
      "  iterations_since_restore: 5\n",
      "  loss: 10.573002815246582\n",
      "  node_ip: 10.150.0.3\n",
      "  pid: 11812\n",
      "  should_checkpoint: true\n",
      "  time_since_restore: 77.96748733520508\n",
      "  time_this_iter_s: 12.500588655471802\n",
      "  time_total_s: 77.96748733520508\n",
      "  timestamp: 1662614870\n",
      "  timesteps_since_restore: 0\n",
      "  training_iteration: 5\n",
      "  trial_id: 8df51bd0\n",
      "  warmup_time: 0.006277322769165039\n",
      "  \n"
     ]
    },
    {
     "name": "stderr",
     "output_type": "stream",
     "text": [
      "\u001b[34m\u001b[1mwandb\u001b[0m: Adding directory to artifact (/home/jupyter/ray_results/TorchTrainer_2022-09-08_05-18-50/TorchTrainer_ca0ed052_11_batch_size=12.0000,format_version=4,future_num_frames=12,history_num_frames=0,model_architecture=resnet50_2022-09-08_05-26-53/checkpoint_000004)... "
     ]
    },
    {
     "name": "stdout",
     "output_type": "stream",
     "text": [
      "Result for TorchTrainer_ca0ed052:\n",
      "  _time_this_iter_s: 8.316184282302856\n",
      "  _timestamp: 1662614872\n",
      "  _training_iteration: 5\n",
      "  avg_loss: 9.545560264587403\n",
      "  date: 2022-09-08_05-27-52\n",
      "  done: false\n",
      "  experiment_id: 8e8b7abf70084f2e821b485e7277fb30\n",
      "  hostname: anish-l5-kit\n",
      "  iterations_since_restore: 5\n",
      "  loss: 7.069854259490967\n",
      "  node_ip: 10.150.0.3\n",
      "  pid: 12182\n",
      "  should_checkpoint: true\n",
      "  time_since_restore: 55.68057680130005\n",
      "  time_this_iter_s: 8.229971170425415\n",
      "  time_total_s: 55.68057680130005\n",
      "  timestamp: 1662614872\n",
      "  timesteps_since_restore: 0\n",
      "  training_iteration: 5\n",
      "  trial_id: ca0ed052\n",
      "  warmup_time: 0.006010770797729492\n",
      "  \n"
     ]
    },
    {
     "data": {
      "text/html": [
       "<style>\n",
       "    table.wandb td:nth-child(1) { padding: 0 10px; text-align: left ; width: auto;} td:nth-child(2) {text-align: left ; width: 100%}\n",
       "    .wandb-row { display: flex; flex-direction: row; flex-wrap: wrap; justify-content: flex-start; width: 100% }\n",
       "    .wandb-col { display: flex; flex-direction: column; flex-basis: 100%; flex: 1; padding: 10px; }\n",
       "    </style>\n",
       "<div class=\"wandb-row\"><div class=\"wandb-col\"><h3>Run history:</h3><br/><table class=\"wandb\"><tr><td>avg_loss</td><td>▂█▃▄▁</td></tr><tr><td>iterations_since_restore</td><td>▁▃▅▆█</td></tr><tr><td>loss</td><td>▅█▃▆▁</td></tr><tr><td>time_since_restore</td><td>▁▃▅▆█</td></tr><tr><td>time_this_iter_s</td><td>█▄▁▁▁</td></tr><tr><td>time_total_s</td><td>▁▃▅▆█</td></tr><tr><td>timestamp</td><td>▁▃▅▆█</td></tr><tr><td>timesteps_since_restore</td><td>▁▁▁▁▁</td></tr><tr><td>training_iteration</td><td>▁▃▅▆█</td></tr><tr><td>warmup_time</td><td>▁▁▁▁▁</td></tr></table><br/></div><div class=\"wandb-col\"><h3>Run summary:</h3><br/><table class=\"wandb\"><tr><td>avg_loss</td><td>12.27348</td></tr><tr><td>iterations_since_restore</td><td>5</td></tr><tr><td>loss</td><td>10.573</td></tr><tr><td>time_since_restore</td><td>77.96749</td></tr><tr><td>time_this_iter_s</td><td>12.50059</td></tr><tr><td>time_total_s</td><td>77.96749</td></tr><tr><td>timestamp</td><td>1662614870</td></tr><tr><td>timesteps_since_restore</td><td>0</td></tr><tr><td>training_iteration</td><td>5</td></tr><tr><td>warmup_time</td><td>0.00628</td></tr></table><br/></div></div>"
      ],
      "text/plain": [
       "<IPython.core.display.HTML object>"
      ]
     },
     "metadata": {},
     "output_type": "display_data"
    },
    {
     "data": {
      "text/html": [
       "Synced <strong style=\"color:#cdcd00\">TorchTrainer_8df51bd0</strong>: <a href=\"https://wandb.ai/l5-demo/l5-planning-trials/runs/8df51bd0\" target=\"_blank\">https://wandb.ai/l5-demo/l5-planning-trials/runs/8df51bd0</a><br/>Synced 7 W&B file(s), 0 media file(s), 12 artifact file(s) and 1 other file(s)"
      ],
      "text/plain": [
       "<IPython.core.display.HTML object>"
      ]
     },
     "metadata": {},
     "output_type": "display_data"
    },
    {
     "data": {
      "text/html": [
       "Find logs at: <code>./wandb/run-20220908_052628-8df51bd0/logs</code>"
      ],
      "text/plain": [
       "<IPython.core.display.HTML object>"
      ]
     },
     "metadata": {},
     "output_type": "display_data"
    },
    {
     "name": "stderr",
     "output_type": "stream",
     "text": [
      "Done. 1.2s\n",
      "\u001b[34m\u001b[1mwandb\u001b[0m: Adding directory to artifact (/home/jupyter/ray_results/TorchTrainer_2022-09-08_05-18-50/TorchTrainer_ca0ed052_11_batch_size=12.0000,format_version=4,future_num_frames=12,history_num_frames=0,model_architecture=resnet50_2022-09-08_05-26-53/checkpoint_000004)... Done. 0.3s\n"
     ]
    },
    {
     "data": {
      "text/html": [
       "Waiting for W&B process to finish... <strong style=\"color:green\">(success).</strong>"
      ],
      "text/plain": [
       "<IPython.core.display.HTML object>"
      ]
     },
     "metadata": {},
     "output_type": "display_data"
    },
    {
     "data": {
      "application/vnd.jupyter.widget-view+json": {
       "model_id": "b60baf9bc6944caeae3e99b2436e9bc1",
       "version_major": 2,
       "version_minor": 0
      },
      "text/plain": [
       "VBox(children=(Label(value='452.176 MB of 452.176 MB uploaded (90.296 MB deduped)\\r'), FloatProgress(value=1.0…"
      ]
     },
     "metadata": {},
     "output_type": "display_data"
    },
    {
     "data": {
      "text/html": [
       "W&B sync reduced upload amount by 20.0%             "
      ],
      "text/plain": [
       "<IPython.core.display.HTML object>"
      ]
     },
     "metadata": {},
     "output_type": "display_data"
    },
    {
     "name": "stdout",
     "output_type": "stream",
     "text": [
      "Result for TorchTrainer_ca0ed052:\n",
      "  _time_this_iter_s: 8.316184282302856\n",
      "  _timestamp: 1662614872\n",
      "  _training_iteration: 5\n",
      "  avg_loss: 9.545560264587403\n",
      "  date: 2022-09-08_05-27-52\n",
      "  done: true\n",
      "  experiment_id: 8e8b7abf70084f2e821b485e7277fb30\n",
      "  experiment_tag: 11_batch_size=12.0000,format_version=4,future_num_frames=12,history_num_frames=0,model_architecture=resnet50,render_ego_history=True,step_time=0.1000,dataset_meta_key=meta_json,disable_traffic_light_faces=False,ego_center=0_25_0_5,filter_agents_threshold=0.5000,map_type=py_satellite,pixel_size=0_5_0_5,raster_size=224_224,satellite_map_key=aerial_map_aerial_map_png,semantic_map_key=semantic_map_semantic_map_pb,set_origin_to_bottom=True,batch_size=12,key=scenes_sample_zarr,num_workers=16,perturb_probability=0.5000,shuffle=True,checkpoint_every_n_steps=10000,eval_every_n_steps=10000,max_num_steps=5,batch_size=12,key=scenes_sample_zarr,num_workers=16,shuffle=False,dataset_key=scenes_sample_zarr,lr=0.0080,max_num_steps=5,num_workers=4,perturb_probability=0.5000,shuffle=True\n",
      "  hostname: anish-l5-kit\n",
      "  iterations_since_restore: 5\n",
      "  loss: 7.069854259490967\n",
      "  node_ip: 10.150.0.3\n",
      "  pid: 12182\n",
      "  should_checkpoint: true\n",
      "  time_since_restore: 55.68057680130005\n",
      "  time_this_iter_s: 8.229971170425415\n",
      "  time_total_s: 55.68057680130005\n",
      "  timestamp: 1662614872\n",
      "  timesteps_since_restore: 0\n",
      "  training_iteration: 5\n",
      "  trial_id: ca0ed052\n",
      "  warmup_time: 0.006010770797729492\n",
      "  \n"
     ]
    },
    {
     "data": {
      "text/html": [
       "<style>\n",
       "    table.wandb td:nth-child(1) { padding: 0 10px; text-align: left ; width: auto;} td:nth-child(2) {text-align: left ; width: 100%}\n",
       "    .wandb-row { display: flex; flex-direction: row; flex-wrap: wrap; justify-content: flex-start; width: 100% }\n",
       "    .wandb-col { display: flex; flex-direction: column; flex-basis: 100%; flex: 1; padding: 10px; }\n",
       "    </style>\n",
       "<div class=\"wandb-row\"><div class=\"wandb-col\"><h3>Run history:</h3><br/><table class=\"wandb\"><tr><td>avg_loss</td><td>▁█▆▅▄</td></tr><tr><td>iterations_since_restore</td><td>▁▃▅▆█</td></tr><tr><td>loss</td><td>▁█▁▂▁</td></tr><tr><td>time_since_restore</td><td>▁▃▅▆█</td></tr><tr><td>time_this_iter_s</td><td>█▁▁▁▁</td></tr><tr><td>time_total_s</td><td>▁▃▅▆█</td></tr><tr><td>timestamp</td><td>▁▃▅▆█</td></tr><tr><td>timesteps_since_restore</td><td>▁▁▁▁▁</td></tr><tr><td>training_iteration</td><td>▁▃▅▆█</td></tr><tr><td>warmup_time</td><td>▁▁▁▁▁</td></tr></table><br/></div><div class=\"wandb-col\"><h3>Run summary:</h3><br/><table class=\"wandb\"><tr><td>avg_loss</td><td>9.54556</td></tr><tr><td>iterations_since_restore</td><td>5</td></tr><tr><td>loss</td><td>7.06985</td></tr><tr><td>time_since_restore</td><td>55.68058</td></tr><tr><td>time_this_iter_s</td><td>8.22997</td></tr><tr><td>time_total_s</td><td>55.68058</td></tr><tr><td>timestamp</td><td>1662614872</td></tr><tr><td>timesteps_since_restore</td><td>0</td></tr><tr><td>training_iteration</td><td>5</td></tr><tr><td>warmup_time</td><td>0.00601</td></tr></table><br/></div></div>"
      ],
      "text/plain": [
       "<IPython.core.display.HTML object>"
      ]
     },
     "metadata": {},
     "output_type": "display_data"
    },
    {
     "data": {
      "text/html": [
       "Synced <strong style=\"color:#cdcd00\">TorchTrainer_ca0ed052</strong>: <a href=\"https://wandb.ai/l5-demo/l5-planning-trials/runs/ca0ed052\" target=\"_blank\">https://wandb.ai/l5-demo/l5-planning-trials/runs/ca0ed052</a><br/>Synced 7 W&B file(s), 0 media file(s), 12 artifact file(s) and 1 other file(s)"
      ],
      "text/plain": [
       "<IPython.core.display.HTML object>"
      ]
     },
     "metadata": {},
     "output_type": "display_data"
    },
    {
     "data": {
      "text/html": [
       "Find logs at: <code>./wandb/run-20220908_052653-ca0ed052/logs</code>"
      ],
      "text/plain": [
       "<IPython.core.display.HTML object>"
      ]
     },
     "metadata": {},
     "output_type": "display_data"
    },
    {
     "name": "stderr",
     "output_type": "stream",
     "text": [
      "\u001b[2m\u001b[36m(RayTrainWorker pid=13743)\u001b[0m 2022-09-08 05:28:20,276\tINFO config.py:72 -- Setting up process group for: env:// [rank=0, world_size=1]\n",
      "\u001b[2m\u001b[36m(RayTrainWorker pid=13749)\u001b[0m 2022-09-08 05:28:21,047\tINFO config.py:72 -- Setting up process group for: env:// [rank=0, world_size=1]\n",
      "\u001b[2m\u001b[36m(RayTrainWorker pid=13743)\u001b[0m /opt/conda/lib/python3.7/site-packages/l5kit/planning/rasterized/model.py:31: UserWarning: There is no pre-trained model with num_in_channels != 3, first layer will be reset\n",
      "\u001b[2m\u001b[36m(RayTrainWorker pid=13743)\u001b[0m   warnings.warn(\"There is no pre-trained model with num_in_channels != 3, first layer will be reset\")\n",
      "\u001b[2m\u001b[36m(RayTrainWorker pid=13743)\u001b[0m /opt/conda/lib/python3.7/site-packages/torchvision/models/_utils.py:209: UserWarning: The parameter 'pretrained' is deprecated since 0.13 and will be removed in 0.15, please use 'weights' instead.\n",
      "\u001b[2m\u001b[36m(RayTrainWorker pid=13743)\u001b[0m   f\"The parameter '{pretrained_param}' is deprecated since 0.13 and will be removed in 0.15, \"\n",
      "\u001b[2m\u001b[36m(RayTrainWorker pid=13743)\u001b[0m /opt/conda/lib/python3.7/site-packages/torchvision/models/_utils.py:223: UserWarning: Arguments other than a weight enum or `None` for 'weights' are deprecated since 0.13 and will be removed in 0.15. The current behavior is equivalent to passing `weights=ResNet50_Weights.IMAGENET1K_V1`. You can also use `weights=ResNet50_Weights.DEFAULT` to get the most up-to-date weights.\n",
      "\u001b[2m\u001b[36m(RayTrainWorker pid=13743)\u001b[0m   warnings.warn(msg)\n",
      "\u001b[2m\u001b[36m(RayTrainWorker pid=13749)\u001b[0m /opt/conda/lib/python3.7/site-packages/l5kit/planning/rasterized/model.py:31: UserWarning: There is no pre-trained model with num_in_channels != 3, first layer will be reset\n",
      "\u001b[2m\u001b[36m(RayTrainWorker pid=13749)\u001b[0m   warnings.warn(\"There is no pre-trained model with num_in_channels != 3, first layer will be reset\")\n",
      "\u001b[2m\u001b[36m(RayTrainWorker pid=13749)\u001b[0m /opt/conda/lib/python3.7/site-packages/torchvision/models/_utils.py:209: UserWarning: The parameter 'pretrained' is deprecated since 0.13 and will be removed in 0.15, please use 'weights' instead.\n",
      "\u001b[2m\u001b[36m(RayTrainWorker pid=13749)\u001b[0m   f\"The parameter '{pretrained_param}' is deprecated since 0.13 and will be removed in 0.15, \"\n",
      "\u001b[2m\u001b[36m(RayTrainWorker pid=13749)\u001b[0m /opt/conda/lib/python3.7/site-packages/torchvision/models/_utils.py:223: UserWarning: Arguments other than a weight enum or `None` for 'weights' are deprecated since 0.13 and will be removed in 0.15. The current behavior is equivalent to passing `weights=ResNet50_Weights.IMAGENET1K_V1`. You can also use `weights=ResNet50_Weights.DEFAULT` to get the most up-to-date weights.\n",
      "\u001b[2m\u001b[36m(RayTrainWorker pid=13749)\u001b[0m   warnings.warn(msg)\n",
      "\u001b[2m\u001b[36m(RayTrainWorker pid=13743)\u001b[0m 2022-09-08 05:28:27,763\tINFO train_loop_utils.py:300 -- Moving model to device: cpu\n",
      "\u001b[2m\u001b[36m(RayTrainWorker pid=13749)\u001b[0m 2022-09-08 05:28:27,772\tINFO train_loop_utils.py:300 -- Moving model to device: cpu\n"
     ]
    },
    {
     "name": "stdout",
     "output_type": "stream",
     "text": [
      "\u001b[2m\u001b[36m(RayTrainWorker pid=13749)\u001b[0m {'loss': 13.681168556213379, 'avg_loss': 13.681168556213379}\n"
     ]
    },
    {
     "name": "stderr",
     "output_type": "stream",
     "text": [
      "\u001b[34m\u001b[1mwandb\u001b[0m: Adding directory to artifact (/home/jupyter/ray_results/TorchTrainer_2022-09-08_05-18-50/TorchTrainer_07b631de_13_batch_size=24.0000,format_version=4,future_num_frames=12,history_num_frames=0,model_architecture=resnet50_2022-09-08_05-28-12/checkpoint_000000)... "
     ]
    },
    {
     "name": "stdout",
     "output_type": "stream",
     "text": [
      "Result for TorchTrainer_07b631de:\n",
      "  _time_this_iter_s: 28.521783113479614\n",
      "  _timestamp: 1662614930\n",
      "  _training_iteration: 1\n",
      "  avg_loss: 13.681168556213379\n",
      "  date: 2022-09-08_05-28-50\n",
      "  done: false\n",
      "  experiment_id: 225174d65120469a8c09709d8f1aedd3\n",
      "  hostname: anish-l5-kit\n",
      "  iterations_since_restore: 1\n",
      "  loss: 13.681168556213379\n",
      "  node_ip: 10.150.0.3\n",
      "  pid: 13649\n",
      "  should_checkpoint: true\n",
      "  time_since_restore: 33.710369348526\n",
      "  time_this_iter_s: 33.710369348526\n",
      "  time_total_s: 33.710369348526\n",
      "  timestamp: 1662614930\n",
      "  timesteps_since_restore: 0\n",
      "  training_iteration: 1\n",
      "  trial_id: 07b631de\n",
      "  warmup_time: 0.007265567779541016\n",
      "  \n"
     ]
    },
    {
     "name": "stderr",
     "output_type": "stream",
     "text": [
      "Done. 1.0s\n"
     ]
    },
    {
     "name": "stdout",
     "output_type": "stream",
     "text": [
      "\u001b[2m\u001b[36m(RayTrainWorker pid=13743)\u001b[0m {'loss': 19.652040481567383, 'avg_loss': 19.652040481567383}\n",
      "Result for TorchTrainer_d8e3e4d2:\n",
      "  _time_this_iter_s: 31.33941912651062\n",
      "  _timestamp: 1662614932\n",
      "  _training_iteration: 1\n",
      "  avg_loss: 19.652040481567383\n",
      "  date: 2022-09-08_05-28-52\n",
      "  done: false\n",
      "  experiment_id: 679bd30db8804779a93c4e1be5e96304\n",
      "  hostname: anish-l5-kit\n",
      "  iterations_since_restore: 1\n",
      "  loss: 19.652040481567383\n",
      "  node_ip: 10.150.0.3\n",
      "  pid: 13605\n",
      "  should_checkpoint: true\n",
      "  time_since_restore: 36.525465965270996\n",
      "  time_this_iter_s: 36.525465965270996\n",
      "  time_total_s: 36.525465965270996\n",
      "  timestamp: 1662614932\n",
      "  timesteps_since_restore: 0\n",
      "  training_iteration: 1\n",
      "  trial_id: d8e3e4d2\n",
      "  warmup_time: 0.007446765899658203\n",
      "  \n"
     ]
    },
    {
     "name": "stderr",
     "output_type": "stream",
     "text": [
      "\u001b[34m\u001b[1mwandb\u001b[0m: Adding directory to artifact (/home/jupyter/ray_results/TorchTrainer_2022-09-08_05-18-50/TorchTrainer_d8e3e4d2_12_batch_size=24.0000,format_version=4,future_num_frames=12,history_num_frames=0,model_architecture=resnet50_2022-09-08_05-28-11/checkpoint_000000)... Done. 1.0s\n"
     ]
    },
    {
     "name": "stdout",
     "output_type": "stream",
     "text": [
      "\u001b[2m\u001b[36m(RayTrainWorker pid=13749)\u001b[0m {'loss': 7.809698581695557, 'avg_loss': 10.745433568954468}\n"
     ]
    },
    {
     "name": "stderr",
     "output_type": "stream",
     "text": [
      "\u001b[34m\u001b[1mwandb\u001b[0m: Adding directory to artifact (/home/jupyter/ray_results/TorchTrainer_2022-09-08_05-18-50/TorchTrainer_07b631de_13_batch_size=24.0000,format_version=4,future_num_frames=12,history_num_frames=0,model_architecture=resnet50_2022-09-08_05-28-12/checkpoint_000001)... "
     ]
    },
    {
     "name": "stdout",
     "output_type": "stream",
     "text": [
      "Result for TorchTrainer_07b631de:\n",
      "  _time_this_iter_s: 20.415300607681274\n",
      "  _timestamp: 1662614950\n",
      "  _training_iteration: 2\n",
      "  avg_loss: 10.745433568954468\n",
      "  date: 2022-09-08_05-29-11\n",
      "  done: false\n",
      "  experiment_id: 225174d65120469a8c09709d8f1aedd3\n",
      "  hostname: anish-l5-kit\n",
      "  iterations_since_restore: 2\n",
      "  loss: 7.809698581695557\n",
      "  node_ip: 10.150.0.3\n",
      "  pid: 13649\n",
      "  should_checkpoint: true\n",
      "  time_since_restore: 54.10473704338074\n",
      "  time_this_iter_s: 20.394367694854736\n",
      "  time_total_s: 54.10473704338074\n",
      "  timestamp: 1662614951\n",
      "  timesteps_since_restore: 0\n",
      "  training_iteration: 2\n",
      "  trial_id: 07b631de\n",
      "  warmup_time: 0.007265567779541016\n",
      "  \n"
     ]
    },
    {
     "name": "stderr",
     "output_type": "stream",
     "text": [
      "Done. 1.0s\n"
     ]
    },
    {
     "name": "stdout",
     "output_type": "stream",
     "text": [
      "\u001b[2m\u001b[36m(RayTrainWorker pid=13743)\u001b[0m {'loss': 49.82984924316406, 'avg_loss': 34.74094486236572}\n",
      "Result for TorchTrainer_d8e3e4d2:\n",
      "  _time_this_iter_s: 20.60531258583069\n",
      "  _timestamp: 1662614952\n",
      "  _training_iteration: 2\n",
      "  avg_loss: 34.74094486236572\n",
      "  date: 2022-09-08_05-29-13\n",
      "  done: false\n",
      "  experiment_id: 679bd30db8804779a93c4e1be5e96304\n",
      "  hostname: anish-l5-kit\n",
      "  iterations_since_restore: 2\n",
      "  loss: 49.82984924316406\n",
      "  node_ip: 10.150.0.3\n",
      "  pid: 13605\n",
      "  should_checkpoint: true\n",
      "  time_since_restore: 57.05427861213684\n",
      "  time_this_iter_s: 20.528812646865845\n",
      "  time_total_s: 57.05427861213684\n",
      "  timestamp: 1662614953\n",
      "  timesteps_since_restore: 0\n",
      "  training_iteration: 2\n",
      "  trial_id: d8e3e4d2\n",
      "  warmup_time: 0.007446765899658203\n",
      "  \n"
     ]
    },
    {
     "name": "stderr",
     "output_type": "stream",
     "text": [
      "\u001b[34m\u001b[1mwandb\u001b[0m: Adding directory to artifact (/home/jupyter/ray_results/TorchTrainer_2022-09-08_05-18-50/TorchTrainer_d8e3e4d2_12_batch_size=24.0000,format_version=4,future_num_frames=12,history_num_frames=0,model_architecture=resnet50_2022-09-08_05-28-11/checkpoint_000001)... Done. 1.0s\n"
     ]
    },
    {
     "name": "stdout",
     "output_type": "stream",
     "text": [
      "\u001b[2m\u001b[36m(RayTrainWorker pid=13749)\u001b[0m {'loss': 5.055396556854248, 'avg_loss': 8.84875456492106}\n"
     ]
    },
    {
     "name": "stderr",
     "output_type": "stream",
     "text": [
      "\u001b[34m\u001b[1mwandb\u001b[0m: Adding directory to artifact (/home/jupyter/ray_results/TorchTrainer_2022-09-08_05-18-50/TorchTrainer_07b631de_13_batch_size=24.0000,format_version=4,future_num_frames=12,history_num_frames=0,model_architecture=resnet50_2022-09-08_05-28-12/checkpoint_000002)... "
     ]
    },
    {
     "name": "stdout",
     "output_type": "stream",
     "text": [
      "Result for TorchTrainer_07b631de:\n",
      "  _time_this_iter_s: 18.243769884109497\n",
      "  _timestamp: 1662614968\n",
      "  _training_iteration: 3\n",
      "  avg_loss: 8.84875456492106\n",
      "  date: 2022-09-08_05-29-29\n",
      "  done: false\n",
      "  experiment_id: 225174d65120469a8c09709d8f1aedd3\n",
      "  hostname: anish-l5-kit\n",
      "  iterations_since_restore: 3\n",
      "  loss: 5.055396556854248\n",
      "  node_ip: 10.150.0.3\n",
      "  pid: 13649\n",
      "  should_checkpoint: true\n",
      "  time_since_restore: 72.34583806991577\n",
      "  time_this_iter_s: 18.241101026535034\n",
      "  time_total_s: 72.34583806991577\n",
      "  timestamp: 1662614969\n",
      "  timesteps_since_restore: 0\n",
      "  training_iteration: 3\n",
      "  trial_id: 07b631de\n",
      "  warmup_time: 0.007265567779541016\n",
      "  \n"
     ]
    },
    {
     "name": "stderr",
     "output_type": "stream",
     "text": [
      "Done. 1.0s\n"
     ]
    },
    {
     "name": "stdout",
     "output_type": "stream",
     "text": [
      "\u001b[2m\u001b[36m(RayTrainWorker pid=13743)\u001b[0m {'loss': 8.151599884033203, 'avg_loss': 25.877829869588215}\n"
     ]
    },
    {
     "name": "stderr",
     "output_type": "stream",
     "text": [
      "\u001b[34m\u001b[1mwandb\u001b[0m: Adding directory to artifact (/home/jupyter/ray_results/TorchTrainer_2022-09-08_05-18-50/TorchTrainer_d8e3e4d2_12_batch_size=24.0000,format_version=4,future_num_frames=12,history_num_frames=0,model_architecture=resnet50_2022-09-08_05-28-11/checkpoint_000002)... "
     ]
    },
    {
     "name": "stdout",
     "output_type": "stream",
     "text": [
      "Result for TorchTrainer_d8e3e4d2:\n",
      "  _time_this_iter_s: 18.004414558410645\n",
      "  _timestamp: 1662614970\n",
      "  _training_iteration: 3\n",
      "  avg_loss: 25.877829869588215\n",
      "  date: 2022-09-08_05-29-31\n",
      "  done: false\n",
      "  experiment_id: 679bd30db8804779a93c4e1be5e96304\n",
      "  hostname: anish-l5-kit\n",
      "  iterations_since_restore: 3\n",
      "  loss: 8.151599884033203\n",
      "  node_ip: 10.150.0.3\n",
      "  pid: 13605\n",
      "  should_checkpoint: true\n",
      "  time_since_restore: 75.02615809440613\n",
      "  time_this_iter_s: 17.971879482269287\n",
      "  time_total_s: 75.02615809440613\n",
      "  timestamp: 1662614971\n",
      "  timesteps_since_restore: 0\n",
      "  training_iteration: 3\n",
      "  trial_id: d8e3e4d2\n",
      "  warmup_time: 0.007446765899658203\n",
      "  \n"
     ]
    },
    {
     "name": "stderr",
     "output_type": "stream",
     "text": [
      "Done. 1.0s\n",
      "\u001b[34m\u001b[1mwandb\u001b[0m: \u001b[33mWARNING\u001b[0m A graphql request initiated by the public wandb API timed out (timeout=9 sec). Create a new API with an integer timeout larger than 9, e.g., `api = wandb.Api(timeout=19)` to increase the graphql timeout.\n"
     ]
    },
    {
     "name": "stdout",
     "output_type": "stream",
     "text": [
      "\u001b[2m\u001b[36m(RayTrainWorker pid=13749)\u001b[0m {'loss': 7.703278541564941, 'avg_loss': 8.562385559082031}\n"
     ]
    },
    {
     "name": "stderr",
     "output_type": "stream",
     "text": [
      "\u001b[34m\u001b[1mwandb\u001b[0m: Adding directory to artifact (/home/jupyter/ray_results/TorchTrainer_2022-09-08_05-18-50/TorchTrainer_07b631de_13_batch_size=24.0000,format_version=4,future_num_frames=12,history_num_frames=0,model_architecture=resnet50_2022-09-08_05-28-12/checkpoint_000003)... "
     ]
    },
    {
     "name": "stdout",
     "output_type": "stream",
     "text": [
      "Result for TorchTrainer_07b631de:\n",
      "  _time_this_iter_s: 17.9385883808136\n",
      "  _timestamp: 1662614986\n",
      "  _training_iteration: 4\n",
      "  avg_loss: 8.562385559082031\n",
      "  date: 2022-09-08_05-29-47\n",
      "  done: false\n",
      "  experiment_id: 225174d65120469a8c09709d8f1aedd3\n",
      "  hostname: anish-l5-kit\n",
      "  iterations_since_restore: 4\n",
      "  loss: 7.703278541564941\n",
      "  node_ip: 10.150.0.3\n",
      "  pid: 13649\n",
      "  should_checkpoint: true\n",
      "  time_since_restore: 90.26181650161743\n",
      "  time_this_iter_s: 17.91597843170166\n",
      "  time_total_s: 90.26181650161743\n",
      "  timestamp: 1662614987\n",
      "  timesteps_since_restore: 0\n",
      "  training_iteration: 4\n",
      "  trial_id: 07b631de\n",
      "  warmup_time: 0.007265567779541016\n",
      "  \n",
      "\u001b[2m\u001b[36m(RayTrainWorker pid=13743)\u001b[0m {'loss': 7.853010177612305, 'avg_loss': 21.37162494659424}\n"
     ]
    },
    {
     "name": "stderr",
     "output_type": "stream",
     "text": [
      "Done. 1.3s\n",
      "\u001b[34m\u001b[1mwandb\u001b[0m: Adding directory to artifact (/home/jupyter/ray_results/TorchTrainer_2022-09-08_05-18-50/TorchTrainer_d8e3e4d2_12_batch_size=24.0000,format_version=4,future_num_frames=12,history_num_frames=0,model_architecture=resnet50_2022-09-08_05-28-11/checkpoint_000003)... "
     ]
    },
    {
     "name": "stdout",
     "output_type": "stream",
     "text": [
      "Result for TorchTrainer_d8e3e4d2:\n",
      "  _time_this_iter_s: 17.513569593429565\n",
      "  _timestamp: 1662614988\n",
      "  _training_iteration: 4\n",
      "  avg_loss: 21.37162494659424\n",
      "  date: 2022-09-08_05-29-48\n",
      "  done: false\n",
      "  experiment_id: 679bd30db8804779a93c4e1be5e96304\n",
      "  hostname: anish-l5-kit\n",
      "  iterations_since_restore: 4\n",
      "  loss: 7.853010177612305\n",
      "  node_ip: 10.150.0.3\n",
      "  pid: 13605\n",
      "  should_checkpoint: true\n",
      "  time_since_restore: 92.43566799163818\n",
      "  time_this_iter_s: 17.409509897232056\n",
      "  time_total_s: 92.43566799163818\n",
      "  timestamp: 1662614988\n",
      "  timesteps_since_restore: 0\n",
      "  training_iteration: 4\n",
      "  trial_id: d8e3e4d2\n",
      "  warmup_time: 0.007446765899658203\n",
      "  \n"
     ]
    },
    {
     "name": "stderr",
     "output_type": "stream",
     "text": [
      "Done. 1.1s\n"
     ]
    },
    {
     "name": "stdout",
     "output_type": "stream",
     "text": [
      "\u001b[2m\u001b[36m(RayTrainWorker pid=13749)\u001b[0m {'loss': 7.741596221923828, 'avg_loss': 8.39822769165039}\n"
     ]
    },
    {
     "name": "stderr",
     "output_type": "stream",
     "text": [
      "\u001b[34m\u001b[1mwandb\u001b[0m: Adding directory to artifact (/home/jupyter/ray_results/TorchTrainer_2022-09-08_05-18-50/TorchTrainer_07b631de_13_batch_size=24.0000,format_version=4,future_num_frames=12,history_num_frames=0,model_architecture=resnet50_2022-09-08_05-28-12/checkpoint_000004)... "
     ]
    },
    {
     "name": "stdout",
     "output_type": "stream",
     "text": [
      "Result for TorchTrainer_07b631de:\n",
      "  _time_this_iter_s: 19.433927059173584\n",
      "  _timestamp: 1662615006\n",
      "  _training_iteration: 5\n",
      "  avg_loss: 8.39822769165039\n",
      "  date: 2022-09-08_05-30-06\n",
      "  done: false\n",
      "  experiment_id: 225174d65120469a8c09709d8f1aedd3\n",
      "  hostname: anish-l5-kit\n",
      "  iterations_since_restore: 5\n",
      "  loss: 7.741596221923828\n",
      "  node_ip: 10.150.0.3\n",
      "  pid: 13649\n",
      "  should_checkpoint: true\n",
      "  time_since_restore: 109.66347312927246\n",
      "  time_this_iter_s: 19.40165662765503\n",
      "  time_total_s: 109.66347312927246\n",
      "  timestamp: 1662615006\n",
      "  timesteps_since_restore: 0\n",
      "  training_iteration: 5\n",
      "  trial_id: 07b631de\n",
      "  warmup_time: 0.007265567779541016\n",
      "  \n",
      "\u001b[2m\u001b[36m(RayTrainWorker pid=13743)\u001b[0m {'loss': 14.314681053161621, 'avg_loss': 19.960236167907716}\n"
     ]
    },
    {
     "name": "stderr",
     "output_type": "stream",
     "text": [
      "\u001b[34m\u001b[1mwandb\u001b[0m: Adding directory to artifact (/home/jupyter/ray_results/TorchTrainer_2022-09-08_05-18-50/TorchTrainer_d8e3e4d2_12_batch_size=24.0000,format_version=4,future_num_frames=12,history_num_frames=0,model_architecture=resnet50_2022-09-08_05-28-11/checkpoint_000004)... Done. 1.0s\n",
      "\u001b[34m\u001b[1mwandb\u001b[0m: Adding directory to artifact (/home/jupyter/ray_results/TorchTrainer_2022-09-08_05-18-50/TorchTrainer_07b631de_13_batch_size=24.0000,format_version=4,future_num_frames=12,history_num_frames=0,model_architecture=resnet50_2022-09-08_05-28-12/checkpoint_000004)... "
     ]
    },
    {
     "name": "stdout",
     "output_type": "stream",
     "text": [
      "Result for TorchTrainer_d8e3e4d2:\n",
      "  _time_this_iter_s: 18.845186948776245\n",
      "  _timestamp: 1662615007\n",
      "  _training_iteration: 5\n",
      "  avg_loss: 19.960236167907716\n",
      "  date: 2022-09-08_05-30-07\n",
      "  done: false\n",
      "  experiment_id: 679bd30db8804779a93c4e1be5e96304\n",
      "  hostname: anish-l5-kit\n",
      "  iterations_since_restore: 5\n",
      "  loss: 14.314681053161621\n",
      "  node_ip: 10.150.0.3\n",
      "  pid: 13605\n",
      "  should_checkpoint: true\n",
      "  time_since_restore: 111.26780319213867\n",
      "  time_this_iter_s: 18.83213520050049\n",
      "  time_total_s: 111.26780319213867\n",
      "  timestamp: 1662615007\n",
      "  timesteps_since_restore: 0\n",
      "  training_iteration: 5\n",
      "  trial_id: d8e3e4d2\n",
      "  warmup_time: 0.007446765899658203\n",
      "  \n"
     ]
    },
    {
     "name": "stderr",
     "output_type": "stream",
     "text": [
      "Done. 0.3s\n"
     ]
    },
    {
     "data": {
      "text/html": [
       "Waiting for W&B process to finish... <strong style=\"color:green\">(success).</strong>"
      ],
      "text/plain": [
       "<IPython.core.display.HTML object>"
      ]
     },
     "metadata": {},
     "output_type": "display_data"
    },
    {
     "name": "stderr",
     "output_type": "stream",
     "text": [
      "Done. 1.0s\n"
     ]
    },
    {
     "data": {
      "application/vnd.jupyter.widget-view+json": {
       "model_id": "6fe8e1f544e64bc6b3fc003b6e37fef7",
       "version_major": 2,
       "version_minor": 0
      },
      "text/plain": [
       "VBox(children=(Label(value='452.176 MB of 452.176 MB uploaded (90.296 MB deduped)\\r'), FloatProgress(value=1.0…"
      ]
     },
     "metadata": {},
     "output_type": "display_data"
    },
    {
     "data": {
      "text/html": [
       "W&B sync reduced upload amount by 20.0%             "
      ],
      "text/plain": [
       "<IPython.core.display.HTML object>"
      ]
     },
     "metadata": {},
     "output_type": "display_data"
    },
    {
     "name": "stdout",
     "output_type": "stream",
     "text": [
      "Result for TorchTrainer_07b631de:\n",
      "  _time_this_iter_s: 19.433927059173584\n",
      "  _timestamp: 1662615006\n",
      "  _training_iteration: 5\n",
      "  avg_loss: 8.39822769165039\n",
      "  date: 2022-09-08_05-30-06\n",
      "  done: true\n",
      "  experiment_id: 225174d65120469a8c09709d8f1aedd3\n",
      "  experiment_tag: 13_batch_size=24.0000,format_version=4,future_num_frames=12,history_num_frames=0,model_architecture=resnet50,render_ego_history=True,step_time=0.1000,dataset_meta_key=meta_json,disable_traffic_light_faces=False,ego_center=0_25_0_5,filter_agents_threshold=0.5000,map_type=py_satellite,pixel_size=0_5_0_5,raster_size=224_224,satellite_map_key=aerial_map_aerial_map_png,semantic_map_key=semantic_map_semantic_map_pb,set_origin_to_bottom=True,batch_size=12,key=scenes_sample_zarr,num_workers=16,perturb_probability=0.5000,shuffle=True,checkpoint_every_n_steps=10000,eval_every_n_steps=10000,max_num_steps=5,batch_size=12,key=scenes_sample_zarr,num_workers=16,shuffle=False,dataset_key=scenes_sample_zarr,lr=0.0025,max_num_steps=5,num_workers=4,perturb_probability=0.5000,shuffle=True\n",
      "  hostname: anish-l5-kit\n",
      "  iterations_since_restore: 5\n",
      "  loss: 7.741596221923828\n",
      "  node_ip: 10.150.0.3\n",
      "  pid: 13649\n",
      "  should_checkpoint: true\n",
      "  time_since_restore: 109.66347312927246\n",
      "  time_this_iter_s: 19.40165662765503\n",
      "  time_total_s: 109.66347312927246\n",
      "  timestamp: 1662615006\n",
      "  timesteps_since_restore: 0\n",
      "  training_iteration: 5\n",
      "  trial_id: 07b631de\n",
      "  warmup_time: 0.007265567779541016\n",
      "  \n"
     ]
    },
    {
     "name": "stderr",
     "output_type": "stream",
     "text": [
      "\u001b[34m\u001b[1mwandb\u001b[0m: Adding directory to artifact (/home/jupyter/ray_results/TorchTrainer_2022-09-08_05-18-50/TorchTrainer_d8e3e4d2_12_batch_size=24.0000,format_version=4,future_num_frames=12,history_num_frames=0,model_architecture=resnet50_2022-09-08_05-28-11/checkpoint_000004)... "
     ]
    },
    {
     "data": {
      "text/html": [
       "<style>\n",
       "    table.wandb td:nth-child(1) { padding: 0 10px; text-align: left ; width: auto;} td:nth-child(2) {text-align: left ; width: 100%}\n",
       "    .wandb-row { display: flex; flex-direction: row; flex-wrap: wrap; justify-content: flex-start; width: 100% }\n",
       "    .wandb-col { display: flex; flex-direction: column; flex-basis: 100%; flex: 1; padding: 10px; }\n",
       "    </style>\n",
       "<div class=\"wandb-row\"><div class=\"wandb-col\"><h3>Run history:</h3><br/><table class=\"wandb\"><tr><td>avg_loss</td><td>█▄▂▁▁</td></tr><tr><td>iterations_since_restore</td><td>▁▃▅▆█</td></tr><tr><td>loss</td><td>█▃▁▃▃</td></tr><tr><td>time_since_restore</td><td>▁▃▅▆█</td></tr><tr><td>time_this_iter_s</td><td>█▂▁▁▂</td></tr><tr><td>time_total_s</td><td>▁▃▅▆█</td></tr><tr><td>timestamp</td><td>▁▃▅▆█</td></tr><tr><td>timesteps_since_restore</td><td>▁▁▁▁▁</td></tr><tr><td>training_iteration</td><td>▁▃▅▆█</td></tr><tr><td>warmup_time</td><td>▁▁▁▁▁</td></tr></table><br/></div><div class=\"wandb-col\"><h3>Run summary:</h3><br/><table class=\"wandb\"><tr><td>avg_loss</td><td>8.39823</td></tr><tr><td>iterations_since_restore</td><td>5</td></tr><tr><td>loss</td><td>7.7416</td></tr><tr><td>time_since_restore</td><td>109.66347</td></tr><tr><td>time_this_iter_s</td><td>19.40166</td></tr><tr><td>time_total_s</td><td>109.66347</td></tr><tr><td>timestamp</td><td>1662615006</td></tr><tr><td>timesteps_since_restore</td><td>0</td></tr><tr><td>training_iteration</td><td>5</td></tr><tr><td>warmup_time</td><td>0.00727</td></tr></table><br/></div></div>"
      ],
      "text/plain": [
       "<IPython.core.display.HTML object>"
      ]
     },
     "metadata": {},
     "output_type": "display_data"
    },
    {
     "data": {
      "text/html": [
       "Synced <strong style=\"color:#cdcd00\">TorchTrainer_07b631de</strong>: <a href=\"https://wandb.ai/l5-demo/l5-planning-trials/runs/07b631de\" target=\"_blank\">https://wandb.ai/l5-demo/l5-planning-trials/runs/07b631de</a><br/>Synced 7 W&B file(s), 0 media file(s), 12 artifact file(s) and 1 other file(s)"
      ],
      "text/plain": [
       "<IPython.core.display.HTML object>"
      ]
     },
     "metadata": {},
     "output_type": "display_data"
    },
    {
     "data": {
      "text/html": [
       "Find logs at: <code>./wandb/run-20220908_052812-07b631de/logs</code>"
      ],
      "text/plain": [
       "<IPython.core.display.HTML object>"
      ]
     },
     "metadata": {},
     "output_type": "display_data"
    },
    {
     "name": "stderr",
     "output_type": "stream",
     "text": [
      "Done. 0.3s\n"
     ]
    },
    {
     "data": {
      "text/html": [
       "Waiting for W&B process to finish... <strong style=\"color:green\">(success).</strong>"
      ],
      "text/plain": [
       "<IPython.core.display.HTML object>"
      ]
     },
     "metadata": {},
     "output_type": "display_data"
    },
    {
     "data": {
      "application/vnd.jupyter.widget-view+json": {
       "model_id": "91e68ce3e71f49cfb9679c42805b743d",
       "version_major": 2,
       "version_minor": 0
      },
      "text/plain": [
       "VBox(children=(Label(value='452.176 MB of 452.176 MB uploaded (90.296 MB deduped)\\r'), FloatProgress(value=1.0…"
      ]
     },
     "metadata": {},
     "output_type": "display_data"
    },
    {
     "data": {
      "text/html": [
       "W&B sync reduced upload amount by 20.0%             "
      ],
      "text/plain": [
       "<IPython.core.display.HTML object>"
      ]
     },
     "metadata": {},
     "output_type": "display_data"
    },
    {
     "data": {
      "text/html": [
       "<style>\n",
       "    table.wandb td:nth-child(1) { padding: 0 10px; text-align: left ; width: auto;} td:nth-child(2) {text-align: left ; width: 100%}\n",
       "    .wandb-row { display: flex; flex-direction: row; flex-wrap: wrap; justify-content: flex-start; width: 100% }\n",
       "    .wandb-col { display: flex; flex-direction: column; flex-basis: 100%; flex: 1; padding: 10px; }\n",
       "    </style>\n",
       "<div class=\"wandb-row\"><div class=\"wandb-col\"><h3>Run history:</h3><br/><table class=\"wandb\"><tr><td>avg_loss</td><td>▁█▄▂▁</td></tr><tr><td>iterations_since_restore</td><td>▁▃▅▆█</td></tr><tr><td>loss</td><td>▃█▁▁▂</td></tr><tr><td>time_since_restore</td><td>▁▃▅▆█</td></tr><tr><td>time_this_iter_s</td><td>█▂▁▁▂</td></tr><tr><td>time_total_s</td><td>▁▃▅▆█</td></tr><tr><td>timestamp</td><td>▁▃▅▆█</td></tr><tr><td>timesteps_since_restore</td><td>▁▁▁▁▁</td></tr><tr><td>training_iteration</td><td>▁▃▅▆█</td></tr><tr><td>warmup_time</td><td>▁▁▁▁▁</td></tr></table><br/></div><div class=\"wandb-col\"><h3>Run summary:</h3><br/><table class=\"wandb\"><tr><td>avg_loss</td><td>19.96024</td></tr><tr><td>iterations_since_restore</td><td>5</td></tr><tr><td>loss</td><td>14.31468</td></tr><tr><td>time_since_restore</td><td>111.2678</td></tr><tr><td>time_this_iter_s</td><td>18.83214</td></tr><tr><td>time_total_s</td><td>111.2678</td></tr><tr><td>timestamp</td><td>1662615007</td></tr><tr><td>timesteps_since_restore</td><td>0</td></tr><tr><td>training_iteration</td><td>5</td></tr><tr><td>warmup_time</td><td>0.00745</td></tr></table><br/></div></div>"
      ],
      "text/plain": [
       "<IPython.core.display.HTML object>"
      ]
     },
     "metadata": {},
     "output_type": "display_data"
    },
    {
     "data": {
      "text/html": [
       "Synced <strong style=\"color:#cdcd00\">TorchTrainer_d8e3e4d2</strong>: <a href=\"https://wandb.ai/l5-demo/l5-planning-trials/runs/d8e3e4d2\" target=\"_blank\">https://wandb.ai/l5-demo/l5-planning-trials/runs/d8e3e4d2</a><br/>Synced 7 W&B file(s), 0 media file(s), 12 artifact file(s) and 1 other file(s)"
      ],
      "text/plain": [
       "<IPython.core.display.HTML object>"
      ]
     },
     "metadata": {},
     "output_type": "display_data"
    },
    {
     "data": {
      "text/html": [
       "Find logs at: <code>./wandb/run-20220908_052811-d8e3e4d2/logs</code>"
      ],
      "text/plain": [
       "<IPython.core.display.HTML object>"
      ]
     },
     "metadata": {},
     "output_type": "display_data"
    },
    {
     "name": "stdout",
     "output_type": "stream",
     "text": [
      "Result for TorchTrainer_d8e3e4d2:\n",
      "  _time_this_iter_s: 18.845186948776245\n",
      "  _timestamp: 1662615007\n",
      "  _training_iteration: 5\n",
      "  avg_loss: 19.960236167907716\n",
      "  date: 2022-09-08_05-30-07\n",
      "  done: true\n",
      "  experiment_id: 679bd30db8804779a93c4e1be5e96304\n",
      "  experiment_tag: 12_batch_size=24.0000,format_version=4,future_num_frames=12,history_num_frames=0,model_architecture=resnet50,render_ego_history=True,step_time=0.1000,dataset_meta_key=meta_json,disable_traffic_light_faces=False,ego_center=0_25_0_5,filter_agents_threshold=0.5000,map_type=py_semantic,pixel_size=0_5_0_5,raster_size=224_224,satellite_map_key=aerial_map_aerial_map_png,semantic_map_key=semantic_map_semantic_map_pb,set_origin_to_bottom=True,batch_size=12,key=scenes_sample_zarr,num_workers=16,perturb_probability=0.5000,shuffle=True,checkpoint_every_n_steps=10000,eval_every_n_steps=10000,max_num_steps=5,batch_size=12,key=scenes_sample_zarr,num_workers=16,shuffle=False,dataset_key=scenes_sample_zarr,lr=0.0099,max_num_steps=5,num_workers=4,perturb_probability=0.5000,shuffle=True\n",
      "  hostname: anish-l5-kit\n",
      "  iterations_since_restore: 5\n",
      "  loss: 14.314681053161621\n",
      "  node_ip: 10.150.0.3\n",
      "  pid: 13605\n",
      "  should_checkpoint: true\n",
      "  time_since_restore: 111.26780319213867\n",
      "  time_this_iter_s: 18.83213520050049\n",
      "  time_total_s: 111.26780319213867\n",
      "  timestamp: 1662615007\n",
      "  timesteps_since_restore: 0\n",
      "  training_iteration: 5\n",
      "  trial_id: d8e3e4d2\n",
      "  warmup_time: 0.007446765899658203\n",
      "  \n"
     ]
    },
    {
     "name": "stderr",
     "output_type": "stream",
     "text": [
      "\u001b[2m\u001b[36m(RayTrainWorker pid=15472)\u001b[0m 2022-09-08 05:30:32,655\tINFO config.py:72 -- Setting up process group for: env:// [rank=0, world_size=1]\n",
      "\u001b[2m\u001b[36m(RayTrainWorker pid=15473)\u001b[0m 2022-09-08 05:30:33,078\tINFO config.py:72 -- Setting up process group for: env:// [rank=0, world_size=1]\n",
      "\u001b[2m\u001b[36m(RayTrainWorker pid=15472)\u001b[0m /opt/conda/lib/python3.7/site-packages/l5kit/planning/rasterized/model.py:31: UserWarning: There is no pre-trained model with num_in_channels != 3, first layer will be reset\n",
      "\u001b[2m\u001b[36m(RayTrainWorker pid=15472)\u001b[0m   warnings.warn(\"There is no pre-trained model with num_in_channels != 3, first layer will be reset\")\n",
      "\u001b[2m\u001b[36m(RayTrainWorker pid=15472)\u001b[0m /opt/conda/lib/python3.7/site-packages/torchvision/models/_utils.py:209: UserWarning: The parameter 'pretrained' is deprecated since 0.13 and will be removed in 0.15, please use 'weights' instead.\n",
      "\u001b[2m\u001b[36m(RayTrainWorker pid=15472)\u001b[0m   f\"The parameter '{pretrained_param}' is deprecated since 0.13 and will be removed in 0.15, \"\n",
      "\u001b[2m\u001b[36m(RayTrainWorker pid=15472)\u001b[0m /opt/conda/lib/python3.7/site-packages/torchvision/models/_utils.py:223: UserWarning: Arguments other than a weight enum or `None` for 'weights' are deprecated since 0.13 and will be removed in 0.15. The current behavior is equivalent to passing `weights=ResNet50_Weights.IMAGENET1K_V1`. You can also use `weights=ResNet50_Weights.DEFAULT` to get the most up-to-date weights.\n",
      "\u001b[2m\u001b[36m(RayTrainWorker pid=15472)\u001b[0m   warnings.warn(msg)\n",
      "\u001b[2m\u001b[36m(RayTrainWorker pid=15473)\u001b[0m /opt/conda/lib/python3.7/site-packages/l5kit/planning/rasterized/model.py:31: UserWarning: There is no pre-trained model with num_in_channels != 3, first layer will be reset\n",
      "\u001b[2m\u001b[36m(RayTrainWorker pid=15473)\u001b[0m   warnings.warn(\"There is no pre-trained model with num_in_channels != 3, first layer will be reset\")\n",
      "\u001b[2m\u001b[36m(RayTrainWorker pid=15473)\u001b[0m /opt/conda/lib/python3.7/site-packages/torchvision/models/_utils.py:209: UserWarning: The parameter 'pretrained' is deprecated since 0.13 and will be removed in 0.15, please use 'weights' instead.\n",
      "\u001b[2m\u001b[36m(RayTrainWorker pid=15473)\u001b[0m   f\"The parameter '{pretrained_param}' is deprecated since 0.13 and will be removed in 0.15, \"\n",
      "\u001b[2m\u001b[36m(RayTrainWorker pid=15473)\u001b[0m /opt/conda/lib/python3.7/site-packages/torchvision/models/_utils.py:223: UserWarning: Arguments other than a weight enum or `None` for 'weights' are deprecated since 0.13 and will be removed in 0.15. The current behavior is equivalent to passing `weights=ResNet50_Weights.IMAGENET1K_V1`. You can also use `weights=ResNet50_Weights.DEFAULT` to get the most up-to-date weights.\n",
      "\u001b[2m\u001b[36m(RayTrainWorker pid=15473)\u001b[0m   warnings.warn(msg)\n",
      "\u001b[2m\u001b[36m(RayTrainWorker pid=15472)\u001b[0m 2022-09-08 05:30:39,697\tINFO train_loop_utils.py:300 -- Moving model to device: cpu\n",
      "\u001b[2m\u001b[36m(RayTrainWorker pid=15473)\u001b[0m 2022-09-08 05:30:39,890\tINFO train_loop_utils.py:300 -- Moving model to device: cpu\n"
     ]
    },
    {
     "name": "stdout",
     "output_type": "stream",
     "text": [
      "\u001b[2m\u001b[36m(RayTrainWorker pid=15473)\u001b[0m {'loss': 11.495034217834473, 'avg_loss': 11.495034217834473}\n"
     ]
    },
    {
     "name": "stderr",
     "output_type": "stream",
     "text": [
      "\u001b[34m\u001b[1mwandb\u001b[0m: Adding directory to artifact (/home/jupyter/ray_results/TorchTrainer_2022-09-08_05-18-50/TorchTrainer_56478cc6_15_batch_size=24.0000,format_version=4,future_num_frames=12,history_num_frames=0,model_architecture=resnet50_2022-09-08_05-30-24/checkpoint_000000)... "
     ]
    },
    {
     "name": "stdout",
     "output_type": "stream",
     "text": [
      "Result for TorchTrainer_56478cc6:\n",
      "  _time_this_iter_s: 27.36151885986328\n",
      "  _timestamp: 1662615061\n",
      "  _training_iteration: 1\n",
      "  avg_loss: 11.495034217834473\n",
      "  date: 2022-09-08_05-31-01\n",
      "  done: false\n",
      "  experiment_id: 34fa016af84f4681bc07e53a68121a25\n",
      "  hostname: anish-l5-kit\n",
      "  iterations_since_restore: 1\n",
      "  loss: 11.495034217834473\n",
      "  node_ip: 10.150.0.3\n",
      "  pid: 15357\n",
      "  should_checkpoint: true\n",
      "  time_since_restore: 32.6975953578949\n",
      "  time_this_iter_s: 32.6975953578949\n",
      "  time_total_s: 32.6975953578949\n",
      "  timestamp: 1662615061\n",
      "  timesteps_since_restore: 0\n",
      "  training_iteration: 1\n",
      "  trial_id: 56478cc6\n",
      "  warmup_time: 0.008785724639892578\n",
      "  \n",
      "\u001b[2m\u001b[36m(RayTrainWorker pid=15472)\u001b[0m {'loss': 14.023079872131348, 'avg_loss': 14.023079872131348}\n"
     ]
    },
    {
     "name": "stderr",
     "output_type": "stream",
     "text": [
      "Done. 1.1s\n",
      "\u001b[34m\u001b[1mwandb\u001b[0m: Adding directory to artifact (/home/jupyter/ray_results/TorchTrainer_2022-09-08_05-18-50/TorchTrainer_082e214e_14_batch_size=24.0000,format_version=4,future_num_frames=12,history_num_frames=0,model_architecture=resnet50_2022-09-08_05-30-23/checkpoint_000000)... "
     ]
    },
    {
     "name": "stdout",
     "output_type": "stream",
     "text": [
      "Result for TorchTrainer_082e214e:\n",
      "  _time_this_iter_s: 29.673914432525635\n",
      "  _timestamp: 1662615062\n",
      "  _training_iteration: 1\n",
      "  avg_loss: 14.023079872131348\n",
      "  date: 2022-09-08_05-31-04\n",
      "  done: false\n",
      "  experiment_id: 8b72537aec484c24bbb5972454c76aea\n",
      "  hostname: anish-l5-kit\n",
      "  iterations_since_restore: 1\n",
      "  loss: 14.023079872131348\n",
      "  node_ip: 10.150.0.3\n",
      "  pid: 15339\n",
      "  should_checkpoint: true\n",
      "  time_since_restore: 35.178555965423584\n",
      "  time_this_iter_s: 35.178555965423584\n",
      "  time_total_s: 35.178555965423584\n",
      "  timestamp: 1662615064\n",
      "  timesteps_since_restore: 0\n",
      "  training_iteration: 1\n",
      "  trial_id: 082e214e\n",
      "  warmup_time: 0.006707668304443359\n",
      "  \n"
     ]
    },
    {
     "name": "stderr",
     "output_type": "stream",
     "text": [
      "Done. 1.1s\n"
     ]
    },
    {
     "name": "stdout",
     "output_type": "stream",
     "text": [
      "\u001b[2m\u001b[36m(RayTrainWorker pid=15473)\u001b[0m {'loss': 10.696879386901855, 'avg_loss': 11.095956802368164}\n"
     ]
    },
    {
     "name": "stderr",
     "output_type": "stream",
     "text": [
      "\u001b[34m\u001b[1mwandb\u001b[0m: Adding directory to artifact (/home/jupyter/ray_results/TorchTrainer_2022-09-08_05-18-50/TorchTrainer_56478cc6_15_batch_size=24.0000,format_version=4,future_num_frames=12,history_num_frames=0,model_architecture=resnet50_2022-09-08_05-30-24/checkpoint_000001)... "
     ]
    },
    {
     "name": "stdout",
     "output_type": "stream",
     "text": [
      "Result for TorchTrainer_56478cc6:\n",
      "  _time_this_iter_s: 18.777771949768066\n",
      "  _timestamp: 1662615079\n",
      "  _training_iteration: 2\n",
      "  avg_loss: 11.095956802368164\n",
      "  date: 2022-09-08_05-31-20\n",
      "  done: false\n",
      "  experiment_id: 34fa016af84f4681bc07e53a68121a25\n",
      "  hostname: anish-l5-kit\n",
      "  iterations_since_restore: 2\n",
      "  loss: 10.696879386901855\n",
      "  node_ip: 10.150.0.3\n",
      "  pid: 15357\n",
      "  should_checkpoint: true\n",
      "  time_since_restore: 51.34540772438049\n",
      "  time_this_iter_s: 18.647812366485596\n",
      "  time_total_s: 51.34540772438049\n",
      "  timestamp: 1662615080\n",
      "  timesteps_since_restore: 0\n",
      "  training_iteration: 2\n",
      "  trial_id: 56478cc6\n",
      "  warmup_time: 0.008785724639892578\n",
      "  \n",
      "\u001b[2m\u001b[36m(RayTrainWorker pid=15472)\u001b[0m {'loss': 11.625349998474121, 'avg_loss': 12.824214935302734}\n"
     ]
    },
    {
     "name": "stderr",
     "output_type": "stream",
     "text": [
      "Done. 1.0s\n",
      "\u001b[34m\u001b[1mwandb\u001b[0m: Adding directory to artifact (/home/jupyter/ray_results/TorchTrainer_2022-09-08_05-18-50/TorchTrainer_082e214e_14_batch_size=24.0000,format_version=4,future_num_frames=12,history_num_frames=0,model_architecture=resnet50_2022-09-08_05-30-23/checkpoint_000001)... "
     ]
    },
    {
     "name": "stdout",
     "output_type": "stream",
     "text": [
      "Result for TorchTrainer_082e214e:\n",
      "  _time_this_iter_s: 18.324623823165894\n",
      "  _timestamp: 1662615081\n",
      "  _training_iteration: 2\n",
      "  avg_loss: 12.824214935302734\n",
      "  date: 2022-09-08_05-31-21\n",
      "  done: false\n",
      "  experiment_id: 8b72537aec484c24bbb5972454c76aea\n",
      "  hostname: anish-l5-kit\n",
      "  iterations_since_restore: 2\n",
      "  loss: 11.625349998474121\n",
      "  node_ip: 10.150.0.3\n",
      "  pid: 15339\n",
      "  should_checkpoint: true\n",
      "  time_since_restore: 52.7729389667511\n",
      "  time_this_iter_s: 17.594383001327515\n",
      "  time_total_s: 52.7729389667511\n",
      "  timestamp: 1662615081\n",
      "  timesteps_since_restore: 0\n",
      "  training_iteration: 2\n",
      "  trial_id: 082e214e\n",
      "  warmup_time: 0.006707668304443359\n",
      "  \n"
     ]
    },
    {
     "name": "stderr",
     "output_type": "stream",
     "text": [
      "Done. 1.0s\n"
     ]
    },
    {
     "name": "stdout",
     "output_type": "stream",
     "text": [
      "\u001b[2m\u001b[36m(RayTrainWorker pid=15473)\u001b[0m {'loss': 7.277172565460205, 'avg_loss': 9.823028723398844}\n"
     ]
    },
    {
     "name": "stderr",
     "output_type": "stream",
     "text": [
      "\u001b[34m\u001b[1mwandb\u001b[0m: Adding directory to artifact (/home/jupyter/ray_results/TorchTrainer_2022-09-08_05-18-50/TorchTrainer_56478cc6_15_batch_size=24.0000,format_version=4,future_num_frames=12,history_num_frames=0,model_architecture=resnet50_2022-09-08_05-30-24/checkpoint_000002)... "
     ]
    },
    {
     "name": "stdout",
     "output_type": "stream",
     "text": [
      "Result for TorchTrainer_56478cc6:\n",
      "  _time_this_iter_s: 17.259112119674683\n",
      "  _timestamp: 1662615097\n",
      "  _training_iteration: 3\n",
      "  avg_loss: 9.823028723398844\n",
      "  date: 2022-09-08_05-31-37\n",
      "  done: false\n",
      "  experiment_id: 34fa016af84f4681bc07e53a68121a25\n",
      "  hostname: anish-l5-kit\n",
      "  iterations_since_restore: 3\n",
      "  loss: 7.277172565460205\n",
      "  node_ip: 10.150.0.3\n",
      "  pid: 15357\n",
      "  should_checkpoint: true\n",
      "  time_since_restore: 68.57836103439331\n",
      "  time_this_iter_s: 17.232953310012817\n",
      "  time_total_s: 68.57836103439331\n",
      "  timestamp: 1662615097\n",
      "  timesteps_since_restore: 0\n",
      "  training_iteration: 3\n",
      "  trial_id: 56478cc6\n",
      "  warmup_time: 0.008785724639892578\n",
      "  \n",
      "\u001b[2m\u001b[36m(RayTrainWorker pid=15472)\u001b[0m {'loss': 5.121688365936279, 'avg_loss': 10.25670607884725}\n"
     ]
    },
    {
     "name": "stderr",
     "output_type": "stream",
     "text": [
      "Done. 1.0s\n",
      "\u001b[34m\u001b[1mwandb\u001b[0m: Adding directory to artifact (/home/jupyter/ray_results/TorchTrainer_2022-09-08_05-18-50/TorchTrainer_082e214e_14_batch_size=24.0000,format_version=4,future_num_frames=12,history_num_frames=0,model_architecture=resnet50_2022-09-08_05-30-23/checkpoint_000002)... "
     ]
    },
    {
     "name": "stdout",
     "output_type": "stream",
     "text": [
      "Result for TorchTrainer_082e214e:\n",
      "  _time_this_iter_s: 17.302026510238647\n",
      "  _timestamp: 1662615098\n",
      "  _training_iteration: 3\n",
      "  avg_loss: 10.25670607884725\n",
      "  date: 2022-09-08_05-31-39\n",
      "  done: false\n",
      "  experiment_id: 8b72537aec484c24bbb5972454c76aea\n",
      "  hostname: anish-l5-kit\n",
      "  iterations_since_restore: 3\n",
      "  loss: 5.121688365936279\n",
      "  node_ip: 10.150.0.3\n",
      "  pid: 15339\n",
      "  should_checkpoint: true\n",
      "  time_since_restore: 70.0679132938385\n",
      "  time_this_iter_s: 17.294974327087402\n",
      "  time_total_s: 70.0679132938385\n",
      "  timestamp: 1662615099\n",
      "  timesteps_since_restore: 0\n",
      "  training_iteration: 3\n",
      "  trial_id: 082e214e\n",
      "  warmup_time: 0.006707668304443359\n",
      "  \n"
     ]
    },
    {
     "name": "stderr",
     "output_type": "stream",
     "text": [
      "Done. 1.1s\n"
     ]
    },
    {
     "name": "stdout",
     "output_type": "stream",
     "text": [
      "\u001b[2m\u001b[36m(RayTrainWorker pid=15473)\u001b[0m {'loss': 6.673937797546387, 'avg_loss': 9.03575599193573}\n"
     ]
    },
    {
     "name": "stderr",
     "output_type": "stream",
     "text": [
      "\u001b[34m\u001b[1mwandb\u001b[0m: Adding directory to artifact (/home/jupyter/ray_results/TorchTrainer_2022-09-08_05-18-50/TorchTrainer_56478cc6_15_batch_size=24.0000,format_version=4,future_num_frames=12,history_num_frames=0,model_architecture=resnet50_2022-09-08_05-30-24/checkpoint_000003)... "
     ]
    },
    {
     "name": "stdout",
     "output_type": "stream",
     "text": [
      "Result for TorchTrainer_56478cc6:\n",
      "  _time_this_iter_s: 17.276448965072632\n",
      "  _timestamp: 1662615114\n",
      "  _training_iteration: 4\n",
      "  avg_loss: 9.03575599193573\n",
      "  date: 2022-09-08_05-31-54\n",
      "  done: false\n",
      "  experiment_id: 34fa016af84f4681bc07e53a68121a25\n",
      "  hostname: anish-l5-kit\n",
      "  iterations_since_restore: 4\n",
      "  loss: 6.673937797546387\n",
      "  node_ip: 10.150.0.3\n",
      "  pid: 15357\n",
      "  should_checkpoint: true\n",
      "  time_since_restore: 85.85392427444458\n",
      "  time_this_iter_s: 17.27556324005127\n",
      "  time_total_s: 85.85392427444458\n",
      "  timestamp: 1662615114\n",
      "  timesteps_since_restore: 0\n",
      "  training_iteration: 4\n",
      "  trial_id: 56478cc6\n",
      "  warmup_time: 0.008785724639892578\n",
      "  \n",
      "\u001b[2m\u001b[36m(RayTrainWorker pid=15472)\u001b[0m {'loss': 4.49884557723999, 'avg_loss': 8.817240953445435}\n"
     ]
    },
    {
     "name": "stderr",
     "output_type": "stream",
     "text": [
      "\u001b[34m\u001b[1mwandb\u001b[0m: Adding directory to artifact (/home/jupyter/ray_results/TorchTrainer_2022-09-08_05-18-50/TorchTrainer_082e214e_14_batch_size=24.0000,format_version=4,future_num_frames=12,history_num_frames=0,model_architecture=resnet50_2022-09-08_05-30-23/checkpoint_000003)... "
     ]
    },
    {
     "name": "stdout",
     "output_type": "stream",
     "text": [
      "Result for TorchTrainer_082e214e:\n",
      "  _time_this_iter_s: 17.366901636123657\n",
      "  _timestamp: 1662615115\n",
      "  _training_iteration: 4\n",
      "  avg_loss: 8.817240953445435\n",
      "  date: 2022-09-08_05-31-56\n",
      "  done: false\n",
      "  experiment_id: 8b72537aec484c24bbb5972454c76aea\n",
      "  hostname: anish-l5-kit\n",
      "  iterations_since_restore: 4\n",
      "  loss: 4.49884557723999\n",
      "  node_ip: 10.150.0.3\n",
      "  pid: 15339\n",
      "  should_checkpoint: true\n",
      "  time_since_restore: 87.40035915374756\n",
      "  time_this_iter_s: 17.332445859909058\n",
      "  time_total_s: 87.40035915374756\n",
      "  timestamp: 1662615116\n",
      "  timesteps_since_restore: 0\n",
      "  training_iteration: 4\n",
      "  trial_id: 082e214e\n",
      "  warmup_time: 0.006707668304443359\n",
      "  \n"
     ]
    },
    {
     "name": "stderr",
     "output_type": "stream",
     "text": [
      "Done. 2.3s\n",
      "Done. 1.3s\n"
     ]
    },
    {
     "name": "stdout",
     "output_type": "stream",
     "text": [
      "\u001b[2m\u001b[36m(RayTrainWorker pid=15473)\u001b[0m {'loss': 4.437581539154053, 'avg_loss': 8.116121101379395}\n"
     ]
    },
    {
     "name": "stderr",
     "output_type": "stream",
     "text": [
      "\u001b[34m\u001b[1mwandb\u001b[0m: Adding directory to artifact (/home/jupyter/ray_results/TorchTrainer_2022-09-08_05-18-50/TorchTrainer_56478cc6_15_batch_size=24.0000,format_version=4,future_num_frames=12,history_num_frames=0,model_architecture=resnet50_2022-09-08_05-30-24/checkpoint_000004)... "
     ]
    },
    {
     "name": "stdout",
     "output_type": "stream",
     "text": [
      "Result for TorchTrainer_56478cc6:\n",
      "  _time_this_iter_s: 18.685707330703735\n",
      "  _timestamp: 1662615133\n",
      "  _training_iteration: 5\n",
      "  avg_loss: 8.116121101379395\n",
      "  date: 2022-09-08_05-32-13\n",
      "  done: false\n",
      "  experiment_id: 34fa016af84f4681bc07e53a68121a25\n",
      "  hostname: anish-l5-kit\n",
      "  iterations_since_restore: 5\n",
      "  loss: 4.437581539154053\n",
      "  node_ip: 10.150.0.3\n",
      "  pid: 15357\n",
      "  should_checkpoint: true\n",
      "  time_since_restore: 104.58564758300781\n",
      "  time_this_iter_s: 18.731723308563232\n",
      "  time_total_s: 104.58564758300781\n",
      "  timestamp: 1662615133\n",
      "  timesteps_since_restore: 0\n",
      "  training_iteration: 5\n",
      "  trial_id: 56478cc6\n",
      "  warmup_time: 0.008785724639892578\n",
      "  \n",
      "\u001b[2m\u001b[36m(RayTrainWorker pid=15472)\u001b[0m {'loss': 6.939452171325684, 'avg_loss': 8.441683197021485}\n"
     ]
    },
    {
     "name": "stderr",
     "output_type": "stream",
     "text": [
      "\u001b[34m\u001b[1mwandb\u001b[0m: Adding directory to artifact (/home/jupyter/ray_results/TorchTrainer_2022-09-08_05-18-50/TorchTrainer_082e214e_14_batch_size=24.0000,format_version=4,future_num_frames=12,history_num_frames=0,model_architecture=resnet50_2022-09-08_05-30-23/checkpoint_000004)... Done. 1.0s\n",
      "\u001b[34m\u001b[1mwandb\u001b[0m: Adding directory to artifact (/home/jupyter/ray_results/TorchTrainer_2022-09-08_05-18-50/TorchTrainer_56478cc6_15_batch_size=24.0000,format_version=4,future_num_frames=12,history_num_frames=0,model_architecture=resnet50_2022-09-08_05-30-24/checkpoint_000004)... "
     ]
    },
    {
     "name": "stdout",
     "output_type": "stream",
     "text": [
      "Result for TorchTrainer_082e214e:\n",
      "  _time_this_iter_s: 18.20399284362793\n",
      "  _timestamp: 1662615134\n",
      "  _training_iteration: 5\n",
      "  avg_loss: 8.441683197021485\n",
      "  date: 2022-09-08_05-32-14\n",
      "  done: false\n",
      "  experiment_id: 8b72537aec484c24bbb5972454c76aea\n",
      "  hostname: anish-l5-kit\n",
      "  iterations_since_restore: 5\n",
      "  loss: 6.939452171325684\n",
      "  node_ip: 10.150.0.3\n",
      "  pid: 15339\n",
      "  should_checkpoint: true\n",
      "  time_since_restore: 105.57437372207642\n",
      "  time_this_iter_s: 18.174014568328857\n",
      "  time_total_s: 105.57437372207642\n",
      "  timestamp: 1662615134\n",
      "  timesteps_since_restore: 0\n",
      "  training_iteration: 5\n",
      "  trial_id: 082e214e\n",
      "  warmup_time: 0.006707668304443359\n",
      "  \n"
     ]
    },
    {
     "name": "stderr",
     "output_type": "stream",
     "text": [
      "Done. 0.3s\n"
     ]
    },
    {
     "data": {
      "text/html": [
       "Waiting for W&B process to finish... <strong style=\"color:green\">(success).</strong>"
      ],
      "text/plain": [
       "<IPython.core.display.HTML object>"
      ]
     },
     "metadata": {},
     "output_type": "display_data"
    },
    {
     "name": "stderr",
     "output_type": "stream",
     "text": [
      "Done. 1.0s\n"
     ]
    },
    {
     "data": {
      "application/vnd.jupyter.widget-view+json": {
       "model_id": "a2bd2a483e4f4f03b976ae07c7aecfd2",
       "version_major": 2,
       "version_minor": 0
      },
      "text/plain": [
       "VBox(children=(Label(value='452.176 MB of 452.176 MB uploaded (90.296 MB deduped)\\r'), FloatProgress(value=1.0…"
      ]
     },
     "metadata": {},
     "output_type": "display_data"
    },
    {
     "name": "stdout",
     "output_type": "stream",
     "text": [
      "Result for TorchTrainer_56478cc6:\n",
      "  _time_this_iter_s: 18.685707330703735\n",
      "  _timestamp: 1662615133\n",
      "  _training_iteration: 5\n",
      "  avg_loss: 8.116121101379395\n",
      "  date: 2022-09-08_05-32-13\n",
      "  done: true\n",
      "  experiment_id: 34fa016af84f4681bc07e53a68121a25\n",
      "  experiment_tag: 15_batch_size=24.0000,format_version=4,future_num_frames=12,history_num_frames=0,model_architecture=resnet50,render_ego_history=True,step_time=0.1000,dataset_meta_key=meta_json,disable_traffic_light_faces=False,ego_center=0_25_0_5,filter_agents_threshold=0.5000,map_type=py_satellite,pixel_size=0_5_0_5,raster_size=224_224,satellite_map_key=aerial_map_aerial_map_png,semantic_map_key=semantic_map_semantic_map_pb,set_origin_to_bottom=True,batch_size=12,key=scenes_sample_zarr,num_workers=16,perturb_probability=0.5000,shuffle=True,checkpoint_every_n_steps=10000,eval_every_n_steps=10000,max_num_steps=5,batch_size=12,key=scenes_sample_zarr,num_workers=16,shuffle=False,dataset_key=scenes_sample_zarr,lr=0.0017,max_num_steps=5,num_workers=4,perturb_probability=0.5000,shuffle=True\n",
      "  hostname: anish-l5-kit\n",
      "  iterations_since_restore: 5\n",
      "  loss: 4.437581539154053\n",
      "  node_ip: 10.150.0.3\n",
      "  pid: 15357\n",
      "  should_checkpoint: true\n",
      "  time_since_restore: 104.58564758300781\n",
      "  time_this_iter_s: 18.731723308563232\n",
      "  time_total_s: 104.58564758300781\n",
      "  timestamp: 1662615133\n",
      "  timesteps_since_restore: 0\n",
      "  training_iteration: 5\n",
      "  trial_id: 56478cc6\n",
      "  warmup_time: 0.008785724639892578\n",
      "  \n"
     ]
    },
    {
     "name": "stderr",
     "output_type": "stream",
     "text": [
      "\u001b[34m\u001b[1mwandb\u001b[0m: Adding directory to artifact (/home/jupyter/ray_results/TorchTrainer_2022-09-08_05-18-50/TorchTrainer_082e214e_14_batch_size=24.0000,format_version=4,future_num_frames=12,history_num_frames=0,model_architecture=resnet50_2022-09-08_05-30-23/checkpoint_000004)... Done. 0.3s\n"
     ]
    },
    {
     "data": {
      "text/html": [
       "Waiting for W&B process to finish... <strong style=\"color:green\">(success).</strong>"
      ],
      "text/plain": [
       "<IPython.core.display.HTML object>"
      ]
     },
     "metadata": {},
     "output_type": "display_data"
    },
    {
     "data": {
      "text/html": [
       "W&B sync reduced upload amount by 20.0%             "
      ],
      "text/plain": [
       "<IPython.core.display.HTML object>"
      ]
     },
     "metadata": {},
     "output_type": "display_data"
    },
    {
     "data": {
      "text/html": [
       "<style>\n",
       "    table.wandb td:nth-child(1) { padding: 0 10px; text-align: left ; width: auto;} td:nth-child(2) {text-align: left ; width: 100%}\n",
       "    .wandb-row { display: flex; flex-direction: row; flex-wrap: wrap; justify-content: flex-start; width: 100% }\n",
       "    .wandb-col { display: flex; flex-direction: column; flex-basis: 100%; flex: 1; padding: 10px; }\n",
       "    </style>\n",
       "<div class=\"wandb-row\"><div class=\"wandb-col\"><h3>Run history:</h3><br/><table class=\"wandb\"><tr><td>avg_loss</td><td>█▇▅▃▁</td></tr><tr><td>iterations_since_restore</td><td>▁▃▅▆█</td></tr><tr><td>loss</td><td>█▇▄▃▁</td></tr><tr><td>time_since_restore</td><td>▁▃▄▆█</td></tr><tr><td>time_this_iter_s</td><td>█▂▁▁▂</td></tr><tr><td>time_total_s</td><td>▁▃▄▆█</td></tr><tr><td>timestamp</td><td>▁▃▅▆█</td></tr><tr><td>timesteps_since_restore</td><td>▁▁▁▁▁</td></tr><tr><td>training_iteration</td><td>▁▃▅▆█</td></tr><tr><td>warmup_time</td><td>▁▁▁▁▁</td></tr></table><br/></div><div class=\"wandb-col\"><h3>Run summary:</h3><br/><table class=\"wandb\"><tr><td>avg_loss</td><td>8.11612</td></tr><tr><td>iterations_since_restore</td><td>5</td></tr><tr><td>loss</td><td>4.43758</td></tr><tr><td>time_since_restore</td><td>104.58565</td></tr><tr><td>time_this_iter_s</td><td>18.73172</td></tr><tr><td>time_total_s</td><td>104.58565</td></tr><tr><td>timestamp</td><td>1662615133</td></tr><tr><td>timesteps_since_restore</td><td>0</td></tr><tr><td>training_iteration</td><td>5</td></tr><tr><td>warmup_time</td><td>0.00879</td></tr></table><br/></div></div>"
      ],
      "text/plain": [
       "<IPython.core.display.HTML object>"
      ]
     },
     "metadata": {},
     "output_type": "display_data"
    },
    {
     "data": {
      "text/html": [
       "Synced <strong style=\"color:#cdcd00\">TorchTrainer_56478cc6</strong>: <a href=\"https://wandb.ai/l5-demo/l5-planning-trials/runs/56478cc6\" target=\"_blank\">https://wandb.ai/l5-demo/l5-planning-trials/runs/56478cc6</a><br/>Synced 7 W&B file(s), 0 media file(s), 12 artifact file(s) and 1 other file(s)"
      ],
      "text/plain": [
       "<IPython.core.display.HTML object>"
      ]
     },
     "metadata": {},
     "output_type": "display_data"
    },
    {
     "data": {
      "text/html": [
       "Find logs at: <code>./wandb/run-20220908_053024-56478cc6/logs</code>"
      ],
      "text/plain": [
       "<IPython.core.display.HTML object>"
      ]
     },
     "metadata": {},
     "output_type": "display_data"
    },
    {
     "data": {
      "application/vnd.jupyter.widget-view+json": {
       "model_id": "3d926c7536d343f69b0233475cd2ccc4",
       "version_major": 2,
       "version_minor": 0
      },
      "text/plain": [
       "VBox(children=(Label(value='452.176 MB of 452.176 MB uploaded (90.296 MB deduped)\\r'), FloatProgress(value=1.0…"
      ]
     },
     "metadata": {},
     "output_type": "display_data"
    },
    {
     "data": {
      "text/html": [
       "W&B sync reduced upload amount by 20.0%             "
      ],
      "text/plain": [
       "<IPython.core.display.HTML object>"
      ]
     },
     "metadata": {},
     "output_type": "display_data"
    },
    {
     "name": "stdout",
     "output_type": "stream",
     "text": [
      "Result for TorchTrainer_082e214e:\n",
      "  _time_this_iter_s: 18.20399284362793\n",
      "  _timestamp: 1662615134\n",
      "  _training_iteration: 5\n",
      "  avg_loss: 8.441683197021485\n",
      "  date: 2022-09-08_05-32-14\n",
      "  done: true\n",
      "  experiment_id: 8b72537aec484c24bbb5972454c76aea\n",
      "  experiment_tag: 14_batch_size=24.0000,format_version=4,future_num_frames=12,history_num_frames=0,model_architecture=resnet50,render_ego_history=True,step_time=0.1000,dataset_meta_key=meta_json,disable_traffic_light_faces=False,ego_center=0_25_0_5,filter_agents_threshold=0.5000,map_type=py_satellite,pixel_size=0_5_0_5,raster_size=224_224,satellite_map_key=aerial_map_aerial_map_png,semantic_map_key=semantic_map_semantic_map_pb,set_origin_to_bottom=True,batch_size=12,key=scenes_sample_zarr,num_workers=16,perturb_probability=0.5000,shuffle=True,checkpoint_every_n_steps=10000,eval_every_n_steps=10000,max_num_steps=5,batch_size=12,key=scenes_sample_zarr,num_workers=16,shuffle=False,dataset_key=scenes_sample_zarr,lr=0.0025,max_num_steps=5,num_workers=4,perturb_probability=0.5000,shuffle=True\n",
      "  hostname: anish-l5-kit\n",
      "  iterations_since_restore: 5\n",
      "  loss: 6.939452171325684\n",
      "  node_ip: 10.150.0.3\n",
      "  pid: 15339\n",
      "  should_checkpoint: true\n",
      "  time_since_restore: 105.57437372207642\n",
      "  time_this_iter_s: 18.174014568328857\n",
      "  time_total_s: 105.57437372207642\n",
      "  timestamp: 1662615134\n",
      "  timesteps_since_restore: 0\n",
      "  training_iteration: 5\n",
      "  trial_id: 082e214e\n",
      "  warmup_time: 0.006707668304443359\n",
      "  \n"
     ]
    },
    {
     "data": {
      "text/html": [
       "<style>\n",
       "    table.wandb td:nth-child(1) { padding: 0 10px; text-align: left ; width: auto;} td:nth-child(2) {text-align: left ; width: 100%}\n",
       "    .wandb-row { display: flex; flex-direction: row; flex-wrap: wrap; justify-content: flex-start; width: 100% }\n",
       "    .wandb-col { display: flex; flex-direction: column; flex-basis: 100%; flex: 1; padding: 10px; }\n",
       "    </style>\n",
       "<div class=\"wandb-row\"><div class=\"wandb-col\"><h3>Run history:</h3><br/><table class=\"wandb\"><tr><td>avg_loss</td><td>█▆▃▁▁</td></tr><tr><td>iterations_since_restore</td><td>▁▃▅▆█</td></tr><tr><td>loss</td><td>█▆▁▁▃</td></tr><tr><td>time_since_restore</td><td>▁▃▄▆█</td></tr><tr><td>time_this_iter_s</td><td>█▁▁▁▁</td></tr><tr><td>time_total_s</td><td>▁▃▄▆█</td></tr><tr><td>timestamp</td><td>▁▃▅▆█</td></tr><tr><td>timesteps_since_restore</td><td>▁▁▁▁▁</td></tr><tr><td>training_iteration</td><td>▁▃▅▆█</td></tr><tr><td>warmup_time</td><td>▁▁▁▁▁</td></tr></table><br/></div><div class=\"wandb-col\"><h3>Run summary:</h3><br/><table class=\"wandb\"><tr><td>avg_loss</td><td>8.44168</td></tr><tr><td>iterations_since_restore</td><td>5</td></tr><tr><td>loss</td><td>6.93945</td></tr><tr><td>time_since_restore</td><td>105.57437</td></tr><tr><td>time_this_iter_s</td><td>18.17401</td></tr><tr><td>time_total_s</td><td>105.57437</td></tr><tr><td>timestamp</td><td>1662615134</td></tr><tr><td>timesteps_since_restore</td><td>0</td></tr><tr><td>training_iteration</td><td>5</td></tr><tr><td>warmup_time</td><td>0.00671</td></tr></table><br/></div></div>"
      ],
      "text/plain": [
       "<IPython.core.display.HTML object>"
      ]
     },
     "metadata": {},
     "output_type": "display_data"
    },
    {
     "data": {
      "text/html": [
       "Synced <strong style=\"color:#cdcd00\">TorchTrainer_082e214e</strong>: <a href=\"https://wandb.ai/l5-demo/l5-planning-trials/runs/082e214e\" target=\"_blank\">https://wandb.ai/l5-demo/l5-planning-trials/runs/082e214e</a><br/>Synced 7 W&B file(s), 0 media file(s), 12 artifact file(s) and 1 other file(s)"
      ],
      "text/plain": [
       "<IPython.core.display.HTML object>"
      ]
     },
     "metadata": {},
     "output_type": "display_data"
    },
    {
     "data": {
      "text/html": [
       "Find logs at: <code>./wandb/run-20220908_053023-082e214e/logs</code>"
      ],
      "text/plain": [
       "<IPython.core.display.HTML object>"
      ]
     },
     "metadata": {},
     "output_type": "display_data"
    },
    {
     "name": "stderr",
     "output_type": "stream",
     "text": [
      "\u001b[2m\u001b[36m(RayTrainWorker pid=17183)\u001b[0m 2022-09-08 05:32:42,977\tINFO config.py:72 -- Setting up process group for: env:// [rank=0, world_size=1]\n",
      "\u001b[2m\u001b[36m(RayTrainWorker pid=17191)\u001b[0m 2022-09-08 05:32:43,993\tINFO config.py:72 -- Setting up process group for: env:// [rank=0, world_size=1]\n",
      "\u001b[2m\u001b[36m(RayTrainWorker pid=17183)\u001b[0m /opt/conda/lib/python3.7/site-packages/l5kit/planning/rasterized/model.py:31: UserWarning: There is no pre-trained model with num_in_channels != 3, first layer will be reset\n",
      "\u001b[2m\u001b[36m(RayTrainWorker pid=17183)\u001b[0m   warnings.warn(\"There is no pre-trained model with num_in_channels != 3, first layer will be reset\")\n",
      "\u001b[2m\u001b[36m(RayTrainWorker pid=17183)\u001b[0m /opt/conda/lib/python3.7/site-packages/torchvision/models/_utils.py:209: UserWarning: The parameter 'pretrained' is deprecated since 0.13 and will be removed in 0.15, please use 'weights' instead.\n",
      "\u001b[2m\u001b[36m(RayTrainWorker pid=17183)\u001b[0m   f\"The parameter '{pretrained_param}' is deprecated since 0.13 and will be removed in 0.15, \"\n",
      "\u001b[2m\u001b[36m(RayTrainWorker pid=17183)\u001b[0m /opt/conda/lib/python3.7/site-packages/torchvision/models/_utils.py:223: UserWarning: Arguments other than a weight enum or `None` for 'weights' are deprecated since 0.13 and will be removed in 0.15. The current behavior is equivalent to passing `weights=ResNet50_Weights.IMAGENET1K_V1`. You can also use `weights=ResNet50_Weights.DEFAULT` to get the most up-to-date weights.\n",
      "\u001b[2m\u001b[36m(RayTrainWorker pid=17183)\u001b[0m   warnings.warn(msg)\n",
      "\u001b[2m\u001b[36m(RayTrainWorker pid=17183)\u001b[0m 2022-09-08 05:32:50,526\tINFO train_loop_utils.py:300 -- Moving model to device: cpu\n",
      "\u001b[2m\u001b[36m(RayTrainWorker pid=17191)\u001b[0m /opt/conda/lib/python3.7/site-packages/l5kit/planning/rasterized/model.py:31: UserWarning: There is no pre-trained model with num_in_channels != 3, first layer will be reset\n",
      "\u001b[2m\u001b[36m(RayTrainWorker pid=17191)\u001b[0m   warnings.warn(\"There is no pre-trained model with num_in_channels != 3, first layer will be reset\")\n",
      "\u001b[2m\u001b[36m(RayTrainWorker pid=17191)\u001b[0m /opt/conda/lib/python3.7/site-packages/torchvision/models/_utils.py:209: UserWarning: The parameter 'pretrained' is deprecated since 0.13 and will be removed in 0.15, please use 'weights' instead.\n",
      "\u001b[2m\u001b[36m(RayTrainWorker pid=17191)\u001b[0m   f\"The parameter '{pretrained_param}' is deprecated since 0.13 and will be removed in 0.15, \"\n",
      "\u001b[2m\u001b[36m(RayTrainWorker pid=17191)\u001b[0m /opt/conda/lib/python3.7/site-packages/torchvision/models/_utils.py:223: UserWarning: Arguments other than a weight enum or `None` for 'weights' are deprecated since 0.13 and will be removed in 0.15. The current behavior is equivalent to passing `weights=ResNet50_Weights.IMAGENET1K_V1`. You can also use `weights=ResNet50_Weights.DEFAULT` to get the most up-to-date weights.\n",
      "\u001b[2m\u001b[36m(RayTrainWorker pid=17191)\u001b[0m   warnings.warn(msg)\n",
      "\u001b[2m\u001b[36m(RayTrainWorker pid=17191)\u001b[0m 2022-09-08 05:32:52,250\tINFO train_loop_utils.py:300 -- Moving model to device: cpu\n"
     ]
    },
    {
     "name": "stdout",
     "output_type": "stream",
     "text": [
      "\u001b[2m\u001b[36m(RayTrainWorker pid=17191)\u001b[0m {'loss': 22.533632278442383, 'avg_loss': 22.533632278442383}\n"
     ]
    },
    {
     "name": "stderr",
     "output_type": "stream",
     "text": [
      "\u001b[34m\u001b[1mwandb\u001b[0m: Adding directory to artifact (/home/jupyter/ray_results/TorchTrainer_2022-09-08_05-18-50/TorchTrainer_a48893e4_17_batch_size=12.0000,format_version=4,future_num_frames=12,history_num_frames=0,model_architecture=resnet50_2022-09-08_05-32-35/checkpoint_000000)... "
     ]
    },
    {
     "name": "stdout",
     "output_type": "stream",
     "text": [
      "Result for TorchTrainer_a48893e4:\n",
      "  _time_this_iter_s: 18.643502950668335\n",
      "  _timestamp: 1662615183\n",
      "  _training_iteration: 1\n",
      "  avg_loss: 22.533632278442383\n",
      "  date: 2022-09-08_05-33-04\n",
      "  done: false\n",
      "  experiment_id: f40f725374c94adf83ceb1202c9a602e\n",
      "  hostname: anish-l5-kit\n",
      "  iterations_since_restore: 1\n",
      "  loss: 22.533632278442383\n",
      "  node_ip: 10.150.0.3\n",
      "  pid: 17063\n",
      "  should_checkpoint: true\n",
      "  time_since_restore: 23.84572196006775\n",
      "  time_this_iter_s: 23.84572196006775\n",
      "  time_total_s: 23.84572196006775\n",
      "  timestamp: 1662615184\n",
      "  timesteps_since_restore: 0\n",
      "  training_iteration: 1\n",
      "  trial_id: a48893e4\n",
      "  warmup_time: 0.008883953094482422\n",
      "  \n"
     ]
    },
    {
     "name": "stderr",
     "output_type": "stream",
     "text": [
      "Done. 1.0s\n"
     ]
    },
    {
     "name": "stdout",
     "output_type": "stream",
     "text": [
      "\u001b[2m\u001b[36m(RayTrainWorker pid=17191)\u001b[0m {'loss': 9.516277313232422, 'avg_loss': 16.024954795837402}\n"
     ]
    },
    {
     "name": "stderr",
     "output_type": "stream",
     "text": [
      "\u001b[34m\u001b[1mwandb\u001b[0m: Adding directory to artifact (/home/jupyter/ray_results/TorchTrainer_2022-09-08_05-18-50/TorchTrainer_a48893e4_17_batch_size=12.0000,format_version=4,future_num_frames=12,history_num_frames=0,model_architecture=resnet50_2022-09-08_05-32-35/checkpoint_000001)... "
     ]
    },
    {
     "name": "stdout",
     "output_type": "stream",
     "text": [
      "Result for TorchTrainer_a48893e4:\n",
      "  _time_this_iter_s: 8.689122676849365\n",
      "  _timestamp: 1662615191\n",
      "  _training_iteration: 2\n",
      "  avg_loss: 16.024954795837402\n",
      "  date: 2022-09-08_05-33-12\n",
      "  done: false\n",
      "  experiment_id: f40f725374c94adf83ceb1202c9a602e\n",
      "  hostname: anish-l5-kit\n",
      "  iterations_since_restore: 2\n",
      "  loss: 9.516277313232422\n",
      "  node_ip: 10.150.0.3\n",
      "  pid: 17063\n",
      "  should_checkpoint: true\n",
      "  time_since_restore: 32.291722536087036\n",
      "  time_this_iter_s: 8.446000576019287\n",
      "  time_total_s: 32.291722536087036\n",
      "  timestamp: 1662615192\n",
      "  timesteps_since_restore: 0\n",
      "  training_iteration: 2\n",
      "  trial_id: a48893e4\n",
      "  warmup_time: 0.008883953094482422\n",
      "  \n",
      "\u001b[2m\u001b[36m(RayTrainWorker pid=17183)\u001b[0m {'loss': 14.107507705688477, 'avg_loss': 14.107507705688477}\n"
     ]
    },
    {
     "name": "stderr",
     "output_type": "stream",
     "text": [
      "\u001b[34m\u001b[1mwandb\u001b[0m: Adding directory to artifact (/home/jupyter/ray_results/TorchTrainer_2022-09-08_05-18-50/TorchTrainer_56dc131e_16_batch_size=24.0000,format_version=4,future_num_frames=12,history_num_frames=0,model_architecture=resnet50_2022-09-08_05-32-34/checkpoint_000000)... "
     ]
    },
    {
     "name": "stdout",
     "output_type": "stream",
     "text": [
      "Result for TorchTrainer_56dc131e:\n",
      "  _time_this_iter_s: 28.869539737701416\n",
      "  _timestamp: 1662615192\n",
      "  _training_iteration: 1\n",
      "  avg_loss: 14.107507705688477\n",
      "  date: 2022-09-08_05-33-13\n",
      "  done: false\n",
      "  experiment_id: 523fd946f42a4d8aac0c091b7a58f026\n",
      "  hostname: anish-l5-kit\n",
      "  iterations_since_restore: 1\n",
      "  loss: 14.107507705688477\n",
      "  node_ip: 10.150.0.3\n",
      "  pid: 17041\n",
      "  should_checkpoint: true\n",
      "  time_since_restore: 34.01579189300537\n",
      "  time_this_iter_s: 34.01579189300537\n",
      "  time_total_s: 34.01579189300537\n",
      "  timestamp: 1662615193\n",
      "  timesteps_since_restore: 0\n",
      "  training_iteration: 1\n",
      "  trial_id: 56dc131e\n",
      "  warmup_time: 0.011386871337890625\n",
      "  \n"
     ]
    },
    {
     "name": "stderr",
     "output_type": "stream",
     "text": [
      "Done. 1.0s\n",
      "Done. 1.0s\n"
     ]
    },
    {
     "name": "stdout",
     "output_type": "stream",
     "text": [
      "\u001b[2m\u001b[36m(RayTrainWorker pid=17191)\u001b[0m {'loss': 7.987810134887695, 'avg_loss': 13.345906575520834}\n"
     ]
    },
    {
     "name": "stderr",
     "output_type": "stream",
     "text": [
      "\u001b[34m\u001b[1mwandb\u001b[0m: Adding directory to artifact (/home/jupyter/ray_results/TorchTrainer_2022-09-08_05-18-50/TorchTrainer_a48893e4_17_batch_size=12.0000,format_version=4,future_num_frames=12,history_num_frames=0,model_architecture=resnet50_2022-09-08_05-32-35/checkpoint_000002)... "
     ]
    },
    {
     "name": "stdout",
     "output_type": "stream",
     "text": [
      "Result for TorchTrainer_a48893e4:\n",
      "  _time_this_iter_s: 8.840969562530518\n",
      "  _timestamp: 1662615200\n",
      "  _training_iteration: 3\n",
      "  avg_loss: 13.345906575520834\n",
      "  date: 2022-09-08_05-33-21\n",
      "  done: false\n",
      "  experiment_id: f40f725374c94adf83ceb1202c9a602e\n",
      "  hostname: anish-l5-kit\n",
      "  iterations_since_restore: 3\n",
      "  loss: 7.987810134887695\n",
      "  node_ip: 10.150.0.3\n",
      "  pid: 17063\n",
      "  should_checkpoint: true\n",
      "  time_since_restore: 41.06833338737488\n",
      "  time_this_iter_s: 8.776610851287842\n",
      "  time_total_s: 41.06833338737488\n",
      "  timestamp: 1662615201\n",
      "  timesteps_since_restore: 0\n",
      "  training_iteration: 3\n",
      "  trial_id: a48893e4\n",
      "  warmup_time: 0.008883953094482422\n",
      "  \n"
     ]
    },
    {
     "name": "stderr",
     "output_type": "stream",
     "text": [
      "Done. 1.1s\n"
     ]
    },
    {
     "name": "stdout",
     "output_type": "stream",
     "text": [
      "\u001b[2m\u001b[36m(RayTrainWorker pid=17191)\u001b[0m {'loss': 4.56952428817749, 'avg_loss': 11.151811003684998}\n"
     ]
    },
    {
     "name": "stderr",
     "output_type": "stream",
     "text": [
      "\u001b[34m\u001b[1mwandb\u001b[0m: Adding directory to artifact (/home/jupyter/ray_results/TorchTrainer_2022-09-08_05-18-50/TorchTrainer_a48893e4_17_batch_size=12.0000,format_version=4,future_num_frames=12,history_num_frames=0,model_architecture=resnet50_2022-09-08_05-32-35/checkpoint_000003)... "
     ]
    },
    {
     "name": "stdout",
     "output_type": "stream",
     "text": [
      "Result for TorchTrainer_a48893e4:\n",
      "  _time_this_iter_s: 8.07839035987854\n",
      "  _timestamp: 1662615208\n",
      "  _training_iteration: 4\n",
      "  avg_loss: 11.151811003684998\n",
      "  date: 2022-09-08_05-33-29\n",
      "  done: false\n",
      "  experiment_id: f40f725374c94adf83ceb1202c9a602e\n",
      "  hostname: anish-l5-kit\n",
      "  iterations_since_restore: 4\n",
      "  loss: 4.56952428817749\n",
      "  node_ip: 10.150.0.3\n",
      "  pid: 17063\n",
      "  should_checkpoint: true\n",
      "  time_since_restore: 49.089208364486694\n",
      "  time_this_iter_s: 8.020874977111816\n",
      "  time_total_s: 49.089208364486694\n",
      "  timestamp: 1662615209\n",
      "  timesteps_since_restore: 0\n",
      "  training_iteration: 4\n",
      "  trial_id: a48893e4\n",
      "  warmup_time: 0.008883953094482422\n",
      "  \n"
     ]
    },
    {
     "name": "stderr",
     "output_type": "stream",
     "text": [
      "Done. 1.0s\n"
     ]
    },
    {
     "name": "stdout",
     "output_type": "stream",
     "text": [
      "\u001b[2m\u001b[36m(RayTrainWorker pid=17183)\u001b[0m {'loss': 7.167483806610107, 'avg_loss': 10.637495756149292}\n",
      "Result for TorchTrainer_56dc131e:\n",
      "  _time_this_iter_s: 18.899908304214478\n",
      "  _timestamp: 1662615211\n",
      "  _training_iteration: 2\n",
      "  avg_loss: 10.637495756149292\n",
      "  date: 2022-09-08_05-33-32\n",
      "  done: false\n",
      "  experiment_id: 523fd946f42a4d8aac0c091b7a58f026\n",
      "  hostname: anish-l5-kit\n",
      "  iterations_since_restore: 2\n",
      "  loss: 7.167483806610107\n",
      "  node_ip: 10.150.0.3\n",
      "  pid: 17041\n",
      "  should_checkpoint: true\n",
      "  time_since_restore: 52.811076164245605\n",
      "  time_this_iter_s: 18.795284271240234\n",
      "  time_total_s: 52.811076164245605\n",
      "  timestamp: 1662615212\n",
      "  timesteps_since_restore: 0\n",
      "  training_iteration: 2\n",
      "  trial_id: 56dc131e\n",
      "  warmup_time: 0.011386871337890625\n",
      "  \n"
     ]
    },
    {
     "name": "stderr",
     "output_type": "stream",
     "text": [
      "\u001b[34m\u001b[1mwandb\u001b[0m: Adding directory to artifact (/home/jupyter/ray_results/TorchTrainer_2022-09-08_05-18-50/TorchTrainer_56dc131e_16_batch_size=24.0000,format_version=4,future_num_frames=12,history_num_frames=0,model_architecture=resnet50_2022-09-08_05-32-34/checkpoint_000001)... Done. 1.0s\n"
     ]
    },
    {
     "name": "stdout",
     "output_type": "stream",
     "text": [
      "\u001b[2m\u001b[36m(RayTrainWorker pid=17191)\u001b[0m {'loss': 7.906360149383545, 'avg_loss': 10.502720832824707}\n"
     ]
    },
    {
     "name": "stderr",
     "output_type": "stream",
     "text": [
      "\u001b[34m\u001b[1mwandb\u001b[0m: Adding directory to artifact (/home/jupyter/ray_results/TorchTrainer_2022-09-08_05-18-50/TorchTrainer_a48893e4_17_batch_size=12.0000,format_version=4,future_num_frames=12,history_num_frames=0,model_architecture=resnet50_2022-09-08_05-32-35/checkpoint_000004)... "
     ]
    },
    {
     "name": "stdout",
     "output_type": "stream",
     "text": [
      "Result for TorchTrainer_a48893e4:\n",
      "  _time_this_iter_s: 8.704768419265747\n",
      "  _timestamp: 1662615217\n",
      "  _training_iteration: 5\n",
      "  avg_loss: 10.502720832824707\n",
      "  date: 2022-09-08_05-33-38\n",
      "  done: false\n",
      "  experiment_id: f40f725374c94adf83ceb1202c9a602e\n",
      "  hostname: anish-l5-kit\n",
      "  iterations_since_restore: 5\n",
      "  loss: 7.906360149383545\n",
      "  node_ip: 10.150.0.3\n",
      "  pid: 17063\n",
      "  should_checkpoint: true\n",
      "  time_since_restore: 57.907556772232056\n",
      "  time_this_iter_s: 8.818348407745361\n",
      "  time_total_s: 57.907556772232056\n",
      "  timestamp: 1662615218\n",
      "  timesteps_since_restore: 0\n",
      "  training_iteration: 5\n",
      "  trial_id: a48893e4\n",
      "  warmup_time: 0.008883953094482422\n",
      "  \n"
     ]
    },
    {
     "name": "stderr",
     "output_type": "stream",
     "text": [
      "Done. 1.2s\n",
      "\u001b[34m\u001b[1mwandb\u001b[0m: Adding directory to artifact (/home/jupyter/ray_results/TorchTrainer_2022-09-08_05-18-50/TorchTrainer_a48893e4_17_batch_size=12.0000,format_version=4,future_num_frames=12,history_num_frames=0,model_architecture=resnet50_2022-09-08_05-32-35/checkpoint_000004)... Done. 0.3s\n"
     ]
    },
    {
     "data": {
      "text/html": [
       "Waiting for W&B process to finish... <strong style=\"color:green\">(success).</strong>"
      ],
      "text/plain": [
       "<IPython.core.display.HTML object>"
      ]
     },
     "metadata": {},
     "output_type": "display_data"
    },
    {
     "data": {
      "application/vnd.jupyter.widget-view+json": {
       "model_id": "986d019fb78447768086165676415428",
       "version_major": 2,
       "version_minor": 0
      },
      "text/plain": [
       "VBox(children=(Label(value='452.176 MB of 452.176 MB uploaded (90.296 MB deduped)\\r'), FloatProgress(value=1.0…"
      ]
     },
     "metadata": {},
     "output_type": "display_data"
    },
    {
     "data": {
      "text/html": [
       "W&B sync reduced upload amount by 20.0%             "
      ],
      "text/plain": [
       "<IPython.core.display.HTML object>"
      ]
     },
     "metadata": {},
     "output_type": "display_data"
    },
    {
     "name": "stdout",
     "output_type": "stream",
     "text": [
      "\u001b[2m\u001b[36m(RayTrainWorker pid=17183)\u001b[0m {'loss': 6.456693172454834, 'avg_loss': 9.243894894917807}\n",
      "Result for TorchTrainer_a48893e4:\n",
      "  _time_this_iter_s: 8.704768419265747\n",
      "  _timestamp: 1662615217\n",
      "  _training_iteration: 5\n",
      "  avg_loss: 10.502720832824707\n",
      "  date: 2022-09-08_05-33-38\n",
      "  done: true\n",
      "  experiment_id: f40f725374c94adf83ceb1202c9a602e\n",
      "  experiment_tag: 17_batch_size=12.0000,format_version=4,future_num_frames=12,history_num_frames=0,model_architecture=resnet50,render_ego_history=True,step_time=0.1000,dataset_meta_key=meta_json,disable_traffic_light_faces=False,ego_center=0_25_0_5,filter_agents_threshold=0.5000,map_type=py_satellite,pixel_size=0_5_0_5,raster_size=224_224,satellite_map_key=aerial_map_aerial_map_png,semantic_map_key=semantic_map_semantic_map_pb,set_origin_to_bottom=True,batch_size=12,key=scenes_sample_zarr,num_workers=16,perturb_probability=0.5000,shuffle=True,checkpoint_every_n_steps=10000,eval_every_n_steps=10000,max_num_steps=5,batch_size=12,key=scenes_sample_zarr,num_workers=16,shuffle=False,dataset_key=scenes_sample_zarr,lr=0.0013,max_num_steps=5,num_workers=4,perturb_probability=0.5000,shuffle=True\n",
      "  hostname: anish-l5-kit\n",
      "  iterations_since_restore: 5\n",
      "  loss: 7.906360149383545\n",
      "  node_ip: 10.150.0.3\n",
      "  pid: 17063\n",
      "  should_checkpoint: true\n",
      "  time_since_restore: 57.907556772232056\n",
      "  time_this_iter_s: 8.818348407745361\n",
      "  time_total_s: 57.907556772232056\n",
      "  timestamp: 1662615218\n",
      "  timesteps_since_restore: 0\n",
      "  training_iteration: 5\n",
      "  trial_id: a48893e4\n",
      "  warmup_time: 0.008883953094482422\n",
      "  \n"
     ]
    },
    {
     "name": "stderr",
     "output_type": "stream",
     "text": [
      "\u001b[34m\u001b[1mwandb\u001b[0m: Adding directory to artifact (/home/jupyter/ray_results/TorchTrainer_2022-09-08_05-18-50/TorchTrainer_56dc131e_16_batch_size=24.0000,format_version=4,future_num_frames=12,history_num_frames=0,model_architecture=resnet50_2022-09-08_05-32-34/checkpoint_000002)... "
     ]
    },
    {
     "data": {
      "text/html": [
       "<style>\n",
       "    table.wandb td:nth-child(1) { padding: 0 10px; text-align: left ; width: auto;} td:nth-child(2) {text-align: left ; width: 100%}\n",
       "    .wandb-row { display: flex; flex-direction: row; flex-wrap: wrap; justify-content: flex-start; width: 100% }\n",
       "    .wandb-col { display: flex; flex-direction: column; flex-basis: 100%; flex: 1; padding: 10px; }\n",
       "    </style>\n",
       "<div class=\"wandb-row\"><div class=\"wandb-col\"><h3>Run history:</h3><br/><table class=\"wandb\"><tr><td>avg_loss</td><td>█▄▃▁▁</td></tr><tr><td>iterations_since_restore</td><td>▁▃▅▆█</td></tr><tr><td>loss</td><td>█▃▂▁▂</td></tr><tr><td>time_since_restore</td><td>▁▃▅▆█</td></tr><tr><td>time_this_iter_s</td><td>█▁▁▁▁</td></tr><tr><td>time_total_s</td><td>▁▃▅▆█</td></tr><tr><td>timestamp</td><td>▁▃▅▆█</td></tr><tr><td>timesteps_since_restore</td><td>▁▁▁▁▁</td></tr><tr><td>training_iteration</td><td>▁▃▅▆█</td></tr><tr><td>warmup_time</td><td>▁▁▁▁▁</td></tr></table><br/></div><div class=\"wandb-col\"><h3>Run summary:</h3><br/><table class=\"wandb\"><tr><td>avg_loss</td><td>10.50272</td></tr><tr><td>iterations_since_restore</td><td>5</td></tr><tr><td>loss</td><td>7.90636</td></tr><tr><td>time_since_restore</td><td>57.90756</td></tr><tr><td>time_this_iter_s</td><td>8.81835</td></tr><tr><td>time_total_s</td><td>57.90756</td></tr><tr><td>timestamp</td><td>1662615218</td></tr><tr><td>timesteps_since_restore</td><td>0</td></tr><tr><td>training_iteration</td><td>5</td></tr><tr><td>warmup_time</td><td>0.00888</td></tr></table><br/></div></div>"
      ],
      "text/plain": [
       "<IPython.core.display.HTML object>"
      ]
     },
     "metadata": {},
     "output_type": "display_data"
    },
    {
     "data": {
      "text/html": [
       "Synced <strong style=\"color:#cdcd00\">TorchTrainer_a48893e4</strong>: <a href=\"https://wandb.ai/l5-demo/l5-planning-trials/runs/a48893e4\" target=\"_blank\">https://wandb.ai/l5-demo/l5-planning-trials/runs/a48893e4</a><br/>Synced 7 W&B file(s), 0 media file(s), 12 artifact file(s) and 1 other file(s)"
      ],
      "text/plain": [
       "<IPython.core.display.HTML object>"
      ]
     },
     "metadata": {},
     "output_type": "display_data"
    },
    {
     "data": {
      "text/html": [
       "Find logs at: <code>./wandb/run-20220908_053235-a48893e4/logs</code>"
      ],
      "text/plain": [
       "<IPython.core.display.HTML object>"
      ]
     },
     "metadata": {},
     "output_type": "display_data"
    },
    {
     "name": "stdout",
     "output_type": "stream",
     "text": [
      "Result for TorchTrainer_56dc131e:\n",
      "  _time_this_iter_s: 17.281771898269653\n",
      "  _timestamp: 1662615228\n",
      "  _training_iteration: 3\n",
      "  avg_loss: 9.243894894917807\n",
      "  date: 2022-09-08_05-33-49\n",
      "  done: false\n",
      "  experiment_id: 523fd946f42a4d8aac0c091b7a58f026\n",
      "  hostname: anish-l5-kit\n",
      "  iterations_since_restore: 3\n",
      "  loss: 6.456693172454834\n",
      "  node_ip: 10.150.0.3\n",
      "  pid: 17041\n",
      "  should_checkpoint: true\n",
      "  time_since_restore: 70.02264308929443\n",
      "  time_this_iter_s: 17.211566925048828\n",
      "  time_total_s: 70.02264308929443\n",
      "  timestamp: 1662615229\n",
      "  timesteps_since_restore: 0\n",
      "  training_iteration: 3\n",
      "  trial_id: 56dc131e\n",
      "  warmup_time: 0.011386871337890625\n",
      "  \n"
     ]
    },
    {
     "name": "stderr",
     "output_type": "stream",
     "text": [
      "Done. 1.1s\n",
      "\u001b[2m\u001b[36m(RayTrainWorker pid=18268)\u001b[0m 2022-09-08 05:33:56,827\tINFO config.py:72 -- Setting up process group for: env:// [rank=0, world_size=1]\n",
      "\u001b[2m\u001b[36m(RayTrainWorker pid=18268)\u001b[0m /opt/conda/lib/python3.7/site-packages/l5kit/planning/rasterized/model.py:31: UserWarning: There is no pre-trained model with num_in_channels != 3, first layer will be reset\n",
      "\u001b[2m\u001b[36m(RayTrainWorker pid=18268)\u001b[0m   warnings.warn(\"There is no pre-trained model with num_in_channels != 3, first layer will be reset\")\n",
      "\u001b[2m\u001b[36m(RayTrainWorker pid=18268)\u001b[0m /opt/conda/lib/python3.7/site-packages/torchvision/models/_utils.py:209: UserWarning: The parameter 'pretrained' is deprecated since 0.13 and will be removed in 0.15, please use 'weights' instead.\n",
      "\u001b[2m\u001b[36m(RayTrainWorker pid=18268)\u001b[0m   f\"The parameter '{pretrained_param}' is deprecated since 0.13 and will be removed in 0.15, \"\n",
      "\u001b[2m\u001b[36m(RayTrainWorker pid=18268)\u001b[0m /opt/conda/lib/python3.7/site-packages/torchvision/models/_utils.py:223: UserWarning: Arguments other than a weight enum or `None` for 'weights' are deprecated since 0.13 and will be removed in 0.15. The current behavior is equivalent to passing `weights=ResNet50_Weights.IMAGENET1K_V1`. You can also use `weights=ResNet50_Weights.DEFAULT` to get the most up-to-date weights.\n",
      "\u001b[2m\u001b[36m(RayTrainWorker pid=18268)\u001b[0m   warnings.warn(msg)\n",
      "\u001b[2m\u001b[36m(RayTrainWorker pid=18268)\u001b[0m 2022-09-08 05:34:02,907\tINFO train_loop_utils.py:300 -- Moving model to device: cpu\n"
     ]
    },
    {
     "name": "stdout",
     "output_type": "stream",
     "text": [
      "\u001b[2m\u001b[36m(RayTrainWorker pid=18268)\u001b[0m {'loss': 8.184290885925293, 'avg_loss': 8.184290885925293}\n"
     ]
    },
    {
     "name": "stderr",
     "output_type": "stream",
     "text": [
      "\u001b[34m\u001b[1mwandb\u001b[0m: Adding directory to artifact (/home/jupyter/ray_results/TorchTrainer_2022-09-08_05-18-50/TorchTrainer_a4f3d74e_18_batch_size=6.0000,format_version=4,future_num_frames=12,history_num_frames=0,model_architecture=resnet50,_2022-09-08_05-33-50/checkpoint_000000)... "
     ]
    },
    {
     "name": "stdout",
     "output_type": "stream",
     "text": [
      "Result for TorchTrainer_a4f3d74e:\n",
      "  _time_this_iter_s: 11.860567331314087\n",
      "  _timestamp: 1662615249\n",
      "  _training_iteration: 1\n",
      "  avg_loss: 8.184290885925293\n",
      "  date: 2022-09-08_05-34-09\n",
      "  done: false\n",
      "  experiment_id: 82d1e1eeaac14bba9dbb0a867f244494\n",
      "  hostname: anish-l5-kit\n",
      "  iterations_since_restore: 1\n",
      "  loss: 8.184290885925293\n",
      "  node_ip: 10.150.0.3\n",
      "  pid: 18196\n",
      "  should_checkpoint: true\n",
      "  time_since_restore: 15.588792324066162\n",
      "  time_this_iter_s: 15.588792324066162\n",
      "  time_total_s: 15.588792324066162\n",
      "  timestamp: 1662615249\n",
      "  timesteps_since_restore: 0\n",
      "  training_iteration: 1\n",
      "  trial_id: a4f3d74e\n",
      "  warmup_time: 0.006447553634643555\n",
      "  \n"
     ]
    },
    {
     "name": "stderr",
     "output_type": "stream",
     "text": [
      "Done. 1.0s\n"
     ]
    },
    {
     "name": "stdout",
     "output_type": "stream",
     "text": [
      "\u001b[2m\u001b[36m(RayTrainWorker pid=17183)\u001b[0m {'loss': 3.9591867923736572, 'avg_loss': 7.922717869281769}\n",
      "Result for TorchTrainer_56dc131e:\n",
      "  _time_this_iter_s: 23.01553702354431\n",
      "  _timestamp: 1662615251\n",
      "  _training_iteration: 4\n",
      "  avg_loss: 7.922717869281769\n",
      "  date: 2022-09-08_05-34-12\n",
      "  done: false\n",
      "  experiment_id: 523fd946f42a4d8aac0c091b7a58f026\n",
      "  hostname: anish-l5-kit\n",
      "  iterations_since_restore: 4\n",
      "  loss: 3.9591867923736572\n",
      "  node_ip: 10.150.0.3\n",
      "  pid: 17041\n",
      "  should_checkpoint: true\n",
      "  time_since_restore: 93.07944941520691\n",
      "  time_this_iter_s: 23.056806325912476\n",
      "  time_total_s: 93.07944941520691\n",
      "  timestamp: 1662615252\n",
      "  timesteps_since_restore: 0\n",
      "  training_iteration: 4\n",
      "  trial_id: 56dc131e\n",
      "  warmup_time: 0.011386871337890625\n",
      "  \n"
     ]
    },
    {
     "name": "stderr",
     "output_type": "stream",
     "text": [
      "\u001b[34m\u001b[1mwandb\u001b[0m: Adding directory to artifact (/home/jupyter/ray_results/TorchTrainer_2022-09-08_05-18-50/TorchTrainer_56dc131e_16_batch_size=24.0000,format_version=4,future_num_frames=12,history_num_frames=0,model_architecture=resnet50_2022-09-08_05-32-34/checkpoint_000003)... Done. 1.0s\n"
     ]
    },
    {
     "name": "stdout",
     "output_type": "stream",
     "text": [
      "\u001b[2m\u001b[36m(RayTrainWorker pid=18268)\u001b[0m {'loss': 1.6875518560409546, 'avg_loss': 4.935921370983124}\n"
     ]
    },
    {
     "name": "stderr",
     "output_type": "stream",
     "text": [
      "\u001b[34m\u001b[1mwandb\u001b[0m: Adding directory to artifact (/home/jupyter/ray_results/TorchTrainer_2022-09-08_05-18-50/TorchTrainer_a4f3d74e_18_batch_size=6.0000,format_version=4,future_num_frames=12,history_num_frames=0,model_architecture=resnet50,_2022-09-08_05-33-50/checkpoint_000001)... "
     ]
    },
    {
     "name": "stdout",
     "output_type": "stream",
     "text": [
      "Result for TorchTrainer_a4f3d74e:\n",
      "  _time_this_iter_s: 5.193772315979004\n",
      "  _timestamp: 1662615254\n",
      "  _training_iteration: 2\n",
      "  avg_loss: 4.935921370983124\n",
      "  date: 2022-09-08_05-34-14\n",
      "  done: false\n",
      "  experiment_id: 82d1e1eeaac14bba9dbb0a867f244494\n",
      "  hostname: anish-l5-kit\n",
      "  iterations_since_restore: 2\n",
      "  loss: 1.6875518560409546\n",
      "  node_ip: 10.150.0.3\n",
      "  pid: 18196\n",
      "  should_checkpoint: true\n",
      "  time_since_restore: 20.771263599395752\n",
      "  time_this_iter_s: 5.18247127532959\n",
      "  time_total_s: 20.771263599395752\n",
      "  timestamp: 1662615254\n",
      "  timesteps_since_restore: 0\n",
      "  training_iteration: 2\n",
      "  trial_id: a4f3d74e\n",
      "  warmup_time: 0.006447553634643555\n",
      "  \n"
     ]
    },
    {
     "name": "stderr",
     "output_type": "stream",
     "text": [
      "Done. 1.0s\n"
     ]
    },
    {
     "name": "stdout",
     "output_type": "stream",
     "text": [
      "\u001b[2m\u001b[36m(RayTrainWorker pid=18268)\u001b[0m {'loss': 2.1012165546417236, 'avg_loss': 3.9910197655359902}\n"
     ]
    },
    {
     "name": "stderr",
     "output_type": "stream",
     "text": [
      "\u001b[34m\u001b[1mwandb\u001b[0m: Adding directory to artifact (/home/jupyter/ray_results/TorchTrainer_2022-09-08_05-18-50/TorchTrainer_a4f3d74e_18_batch_size=6.0000,format_version=4,future_num_frames=12,history_num_frames=0,model_architecture=resnet50,_2022-09-08_05-33-50/checkpoint_000002)... Done. 1.0s\n"
     ]
    },
    {
     "name": "stdout",
     "output_type": "stream",
     "text": [
      "\u001b[2m\u001b[36m(RayTrainWorker pid=18268)\u001b[0m {'loss': 13.670435905456543, 'avg_loss': 6.4108738005161285}\n"
     ]
    },
    {
     "name": "stderr",
     "output_type": "stream",
     "text": [
      "\u001b[34m\u001b[1mwandb\u001b[0m: Adding directory to artifact (/home/jupyter/ray_results/TorchTrainer_2022-09-08_05-18-50/TorchTrainer_a4f3d74e_18_batch_size=6.0000,format_version=4,future_num_frames=12,history_num_frames=0,model_architecture=resnet50,_2022-09-08_05-33-50/checkpoint_000003)... "
     ]
    },
    {
     "name": "stdout",
     "output_type": "stream",
     "text": [
      "Result for TorchTrainer_a4f3d74e:\n",
      "  _time_this_iter_s: 4.929238557815552\n",
      "  _timestamp: 1662615264\n",
      "  _training_iteration: 4\n",
      "  avg_loss: 6.4108738005161285\n",
      "  date: 2022-09-08_05-34-24\n",
      "  done: false\n",
      "  experiment_id: 82d1e1eeaac14bba9dbb0a867f244494\n",
      "  hostname: anish-l5-kit\n",
      "  iterations_since_restore: 4\n",
      "  loss: 13.670435905456543\n",
      "  node_ip: 10.150.0.3\n",
      "  pid: 18196\n",
      "  should_checkpoint: true\n",
      "  time_since_restore: 30.482129335403442\n",
      "  time_this_iter_s: 4.942955732345581\n",
      "  time_total_s: 30.482129335403442\n",
      "  timestamp: 1662615264\n",
      "  timesteps_since_restore: 0\n",
      "  training_iteration: 4\n",
      "  trial_id: a4f3d74e\n",
      "  warmup_time: 0.006447553634643555\n",
      "  \n"
     ]
    },
    {
     "name": "stderr",
     "output_type": "stream",
     "text": [
      "Done. 1.0s\n"
     ]
    },
    {
     "name": "stdout",
     "output_type": "stream",
     "text": [
      "\u001b[2m\u001b[36m(RayTrainWorker pid=18268)\u001b[0m {'loss': 8.795048713684082, 'avg_loss': 6.887708783149719}\n"
     ]
    },
    {
     "name": "stderr",
     "output_type": "stream",
     "text": [
      "\u001b[34m\u001b[1mwandb\u001b[0m: Adding directory to artifact (/home/jupyter/ray_results/TorchTrainer_2022-09-08_05-18-50/TorchTrainer_a4f3d74e_18_batch_size=6.0000,format_version=4,future_num_frames=12,history_num_frames=0,model_architecture=resnet50,_2022-09-08_05-33-50/checkpoint_000004)... Done. 1.0s\n"
     ]
    },
    {
     "name": "stdout",
     "output_type": "stream",
     "text": [
      "\u001b[2m\u001b[36m(RayTrainWorker pid=17183)\u001b[0m {'loss': 5.060309410095215, 'avg_loss': 7.350236177444458}\n"
     ]
    },
    {
     "name": "stderr",
     "output_type": "stream",
     "text": [
      "\u001b[34m\u001b[1mwandb\u001b[0m: Adding directory to artifact (/home/jupyter/ray_results/TorchTrainer_2022-09-08_05-18-50/TorchTrainer_a4f3d74e_18_batch_size=6.0000,format_version=4,future_num_frames=12,history_num_frames=0,model_architecture=resnet50,_2022-09-08_05-33-50/checkpoint_000004)... Done. 0.3s\n"
     ]
    },
    {
     "data": {
      "text/html": [
       "Waiting for W&B process to finish... <strong style=\"color:green\">(success).</strong>"
      ],
      "text/plain": [
       "<IPython.core.display.HTML object>"
      ]
     },
     "metadata": {},
     "output_type": "display_data"
    },
    {
     "data": {
      "application/vnd.jupyter.widget-view+json": {
       "model_id": "d977a00ad893471caa7bc9f8dbdee0a4",
       "version_major": 2,
       "version_minor": 0
      },
      "text/plain": [
       "VBox(children=(Label(value='452.176 MB of 452.176 MB uploaded (90.296 MB deduped)\\r'), FloatProgress(value=1.0…"
      ]
     },
     "metadata": {},
     "output_type": "display_data"
    },
    {
     "data": {
      "text/html": [
       "W&B sync reduced upload amount by 20.0%             "
      ],
      "text/plain": [
       "<IPython.core.display.HTML object>"
      ]
     },
     "metadata": {},
     "output_type": "display_data"
    },
    {
     "data": {
      "text/html": [
       "<style>\n",
       "    table.wandb td:nth-child(1) { padding: 0 10px; text-align: left ; width: auto;} td:nth-child(2) {text-align: left ; width: 100%}\n",
       "    .wandb-row { display: flex; flex-direction: row; flex-wrap: wrap; justify-content: flex-start; width: 100% }\n",
       "    .wandb-col { display: flex; flex-direction: column; flex-basis: 100%; flex: 1; padding: 10px; }\n",
       "    </style>\n",
       "<div class=\"wandb-row\"><div class=\"wandb-col\"><h3>Run history:</h3><br/><table class=\"wandb\"><tr><td>avg_loss</td><td>█▃▁▅▆</td></tr><tr><td>iterations_since_restore</td><td>▁▃▅▆█</td></tr><tr><td>loss</td><td>▅▁▁█▅</td></tr><tr><td>time_since_restore</td><td>▁▃▅▆█</td></tr><tr><td>time_this_iter_s</td><td>█▁▁▁▁</td></tr><tr><td>time_total_s</td><td>▁▃▅▆█</td></tr><tr><td>timestamp</td><td>▁▃▅▆█</td></tr><tr><td>timesteps_since_restore</td><td>▁▁▁▁▁</td></tr><tr><td>training_iteration</td><td>▁▃▅▆█</td></tr><tr><td>warmup_time</td><td>▁▁▁▁▁</td></tr></table><br/></div><div class=\"wandb-col\"><h3>Run summary:</h3><br/><table class=\"wandb\"><tr><td>avg_loss</td><td>6.88771</td></tr><tr><td>iterations_since_restore</td><td>5</td></tr><tr><td>loss</td><td>8.79505</td></tr><tr><td>time_since_restore</td><td>35.03598</td></tr><tr><td>time_this_iter_s</td><td>4.55385</td></tr><tr><td>time_total_s</td><td>35.03598</td></tr><tr><td>timestamp</td><td>1662615269</td></tr><tr><td>timesteps_since_restore</td><td>0</td></tr><tr><td>training_iteration</td><td>5</td></tr><tr><td>warmup_time</td><td>0.00645</td></tr></table><br/></div></div>"
      ],
      "text/plain": [
       "<IPython.core.display.HTML object>"
      ]
     },
     "metadata": {},
     "output_type": "display_data"
    },
    {
     "data": {
      "text/html": [
       "Synced <strong style=\"color:#cdcd00\">TorchTrainer_a4f3d74e</strong>: <a href=\"https://wandb.ai/l5-demo/l5-planning-trials/runs/a4f3d74e\" target=\"_blank\">https://wandb.ai/l5-demo/l5-planning-trials/runs/a4f3d74e</a><br/>Synced 7 W&B file(s), 0 media file(s), 12 artifact file(s) and 1 other file(s)"
      ],
      "text/plain": [
       "<IPython.core.display.HTML object>"
      ]
     },
     "metadata": {},
     "output_type": "display_data"
    },
    {
     "data": {
      "text/html": [
       "Find logs at: <code>./wandb/run-20220908_053350-a4f3d74e/logs</code>"
      ],
      "text/plain": [
       "<IPython.core.display.HTML object>"
      ]
     },
     "metadata": {},
     "output_type": "display_data"
    },
    {
     "name": "stdout",
     "output_type": "stream",
     "text": [
      "Result for TorchTrainer_a4f3d74e:\n",
      "  _time_this_iter_s: 4.669480323791504\n",
      "  _timestamp: 1662615268\n",
      "  _training_iteration: 5\n",
      "  avg_loss: 6.887708783149719\n",
      "  date: 2022-09-08_05-34-29\n",
      "  done: true\n",
      "  experiment_id: 82d1e1eeaac14bba9dbb0a867f244494\n",
      "  experiment_tag: 18_batch_size=6.0000,format_version=4,future_num_frames=12,history_num_frames=0,model_architecture=resnet50,render_ego_history=True,step_time=0.1000,dataset_meta_key=meta_json,disable_traffic_light_faces=False,ego_center=0_25_0_5,filter_agents_threshold=0.5000,map_type=py_satellite,pixel_size=0_5_0_5,raster_size=224_224,satellite_map_key=aerial_map_aerial_map_png,semantic_map_key=semantic_map_semantic_map_pb,set_origin_to_bottom=True,batch_size=12,key=scenes_sample_zarr,num_workers=16,perturb_probability=0.5000,shuffle=True,checkpoint_every_n_steps=10000,eval_every_n_steps=10000,max_num_steps=5,batch_size=12,key=scenes_sample_zarr,num_workers=16,shuffle=False,dataset_key=scenes_sample_zarr,lr=0.0012,max_num_steps=5,num_workers=4,perturb_probability=0.5000,shuffle=True\n",
      "  hostname: anish-l5-kit\n",
      "  iterations_since_restore: 5\n",
      "  loss: 8.795048713684082\n",
      "  node_ip: 10.150.0.3\n",
      "  pid: 18196\n",
      "  should_checkpoint: true\n",
      "  time_since_restore: 35.03597807884216\n",
      "  time_this_iter_s: 4.553848743438721\n",
      "  time_total_s: 35.03597807884216\n",
      "  timestamp: 1662615269\n",
      "  timesteps_since_restore: 0\n",
      "  training_iteration: 5\n",
      "  trial_id: a4f3d74e\n",
      "  warmup_time: 0.006447553634643555\n",
      "  \n"
     ]
    },
    {
     "name": "stderr",
     "output_type": "stream",
     "text": [
      "\u001b[34m\u001b[1mwandb\u001b[0m: Adding directory to artifact (/home/jupyter/ray_results/TorchTrainer_2022-09-08_05-18-50/TorchTrainer_56dc131e_16_batch_size=24.0000,format_version=4,future_num_frames=12,history_num_frames=0,model_architecture=resnet50_2022-09-08_05-32-34/checkpoint_000004)... "
     ]
    },
    {
     "name": "stdout",
     "output_type": "stream",
     "text": [
      "Result for TorchTrainer_56dc131e:\n",
      "  _time_this_iter_s: 18.19042134284973\n",
      "  _timestamp: 1662615270\n",
      "  _training_iteration: 5\n",
      "  avg_loss: 7.350236177444458\n",
      "  date: 2022-09-08_05-34-30\n",
      "  done: false\n",
      "  experiment_id: 523fd946f42a4d8aac0c091b7a58f026\n",
      "  hostname: anish-l5-kit\n",
      "  iterations_since_restore: 5\n",
      "  loss: 5.060309410095215\n",
      "  node_ip: 10.150.0.3\n",
      "  pid: 17041\n",
      "  should_checkpoint: true\n",
      "  time_since_restore: 111.32075810432434\n",
      "  time_this_iter_s: 18.24130868911743\n",
      "  time_total_s: 111.32075810432434\n",
      "  timestamp: 1662615270\n",
      "  timesteps_since_restore: 0\n",
      "  training_iteration: 5\n",
      "  trial_id: 56dc131e\n",
      "  warmup_time: 0.011386871337890625\n",
      "  \n"
     ]
    },
    {
     "name": "stderr",
     "output_type": "stream",
     "text": [
      "Done. 1.0s\n",
      "\u001b[34m\u001b[1mwandb\u001b[0m: Adding directory to artifact (/home/jupyter/ray_results/TorchTrainer_2022-09-08_05-18-50/TorchTrainer_56dc131e_16_batch_size=24.0000,format_version=4,future_num_frames=12,history_num_frames=0,model_architecture=resnet50_2022-09-08_05-32-34/checkpoint_000004)... Done. 0.3s\n"
     ]
    },
    {
     "data": {
      "text/html": [
       "Waiting for W&B process to finish... <strong style=\"color:green\">(success).</strong>"
      ],
      "text/plain": [
       "<IPython.core.display.HTML object>"
      ]
     },
     "metadata": {},
     "output_type": "display_data"
    },
    {
     "data": {
      "application/vnd.jupyter.widget-view+json": {
       "model_id": "6d8324667c0f43c1b01999ddc3f4e705",
       "version_major": 2,
       "version_minor": 0
      },
      "text/plain": [
       "VBox(children=(Label(value='452.176 MB of 452.176 MB uploaded (90.296 MB deduped)\\r'), FloatProgress(value=1.0…"
      ]
     },
     "metadata": {},
     "output_type": "display_data"
    },
    {
     "data": {
      "text/html": [
       "W&B sync reduced upload amount by 20.0%             "
      ],
      "text/plain": [
       "<IPython.core.display.HTML object>"
      ]
     },
     "metadata": {},
     "output_type": "display_data"
    },
    {
     "data": {
      "text/html": [
       "<style>\n",
       "    table.wandb td:nth-child(1) { padding: 0 10px; text-align: left ; width: auto;} td:nth-child(2) {text-align: left ; width: 100%}\n",
       "    .wandb-row { display: flex; flex-direction: row; flex-wrap: wrap; justify-content: flex-start; width: 100% }\n",
       "    .wandb-col { display: flex; flex-direction: column; flex-basis: 100%; flex: 1; padding: 10px; }\n",
       "    </style>\n",
       "<div class=\"wandb-row\"><div class=\"wandb-col\"><h3>Run history:</h3><br/><table class=\"wandb\"><tr><td>avg_loss</td><td>█▄▃▂▁</td></tr><tr><td>iterations_since_restore</td><td>▁▃▅▆█</td></tr><tr><td>loss</td><td>█▃▃▁▂</td></tr><tr><td>time_since_restore</td><td>▁▃▄▆█</td></tr><tr><td>time_this_iter_s</td><td>█▂▁▃▁</td></tr><tr><td>time_total_s</td><td>▁▃▄▆█</td></tr><tr><td>timestamp</td><td>▁▃▄▆█</td></tr><tr><td>timesteps_since_restore</td><td>▁▁▁▁▁</td></tr><tr><td>training_iteration</td><td>▁▃▅▆█</td></tr><tr><td>warmup_time</td><td>▁▁▁▁▁</td></tr></table><br/></div><div class=\"wandb-col\"><h3>Run summary:</h3><br/><table class=\"wandb\"><tr><td>avg_loss</td><td>7.35024</td></tr><tr><td>iterations_since_restore</td><td>5</td></tr><tr><td>loss</td><td>5.06031</td></tr><tr><td>time_since_restore</td><td>111.32076</td></tr><tr><td>time_this_iter_s</td><td>18.24131</td></tr><tr><td>time_total_s</td><td>111.32076</td></tr><tr><td>timestamp</td><td>1662615270</td></tr><tr><td>timesteps_since_restore</td><td>0</td></tr><tr><td>training_iteration</td><td>5</td></tr><tr><td>warmup_time</td><td>0.01139</td></tr></table><br/></div></div>"
      ],
      "text/plain": [
       "<IPython.core.display.HTML object>"
      ]
     },
     "metadata": {},
     "output_type": "display_data"
    },
    {
     "data": {
      "text/html": [
       "Synced <strong style=\"color:#cdcd00\">TorchTrainer_56dc131e</strong>: <a href=\"https://wandb.ai/l5-demo/l5-planning-trials/runs/56dc131e\" target=\"_blank\">https://wandb.ai/l5-demo/l5-planning-trials/runs/56dc131e</a><br/>Synced 7 W&B file(s), 0 media file(s), 12 artifact file(s) and 1 other file(s)"
      ],
      "text/plain": [
       "<IPython.core.display.HTML object>"
      ]
     },
     "metadata": {},
     "output_type": "display_data"
    },
    {
     "data": {
      "text/html": [
       "Find logs at: <code>./wandb/run-20220908_053235-56dc131e/logs</code>"
      ],
      "text/plain": [
       "<IPython.core.display.HTML object>"
      ]
     },
     "metadata": {},
     "output_type": "display_data"
    },
    {
     "name": "stdout",
     "output_type": "stream",
     "text": [
      "Result for TorchTrainer_56dc131e:\n",
      "  _time_this_iter_s: 18.19042134284973\n",
      "  _timestamp: 1662615270\n",
      "  _training_iteration: 5\n",
      "  avg_loss: 7.350236177444458\n",
      "  date: 2022-09-08_05-34-30\n",
      "  done: true\n",
      "  experiment_id: 523fd946f42a4d8aac0c091b7a58f026\n",
      "  experiment_tag: 16_batch_size=24.0000,format_version=4,future_num_frames=12,history_num_frames=0,model_architecture=resnet50,render_ego_history=True,step_time=0.1000,dataset_meta_key=meta_json,disable_traffic_light_faces=False,ego_center=0_25_0_5,filter_agents_threshold=0.5000,map_type=py_satellite,pixel_size=0_5_0_5,raster_size=224_224,satellite_map_key=aerial_map_aerial_map_png,semantic_map_key=semantic_map_semantic_map_pb,set_origin_to_bottom=True,batch_size=12,key=scenes_sample_zarr,num_workers=16,perturb_probability=0.5000,shuffle=True,checkpoint_every_n_steps=10000,eval_every_n_steps=10000,max_num_steps=5,batch_size=12,key=scenes_sample_zarr,num_workers=16,shuffle=False,dataset_key=scenes_sample_zarr,lr=0.0016,max_num_steps=5,num_workers=4,perturb_probability=0.5000,shuffle=True\n",
      "  hostname: anish-l5-kit\n",
      "  iterations_since_restore: 5\n",
      "  loss: 5.060309410095215\n",
      "  node_ip: 10.150.0.3\n",
      "  pid: 17041\n",
      "  should_checkpoint: true\n",
      "  time_since_restore: 111.32075810432434\n",
      "  time_this_iter_s: 18.24130868911743\n",
      "  time_total_s: 111.32075810432434\n",
      "  timestamp: 1662615270\n",
      "  timesteps_since_restore: 0\n",
      "  training_iteration: 5\n",
      "  trial_id: 56dc131e\n",
      "  warmup_time: 0.011386871337890625\n",
      "  \n"
     ]
    },
    {
     "name": "stderr",
     "output_type": "stream",
     "text": [
      "\u001b[2m\u001b[36m(RayTrainWorker pid=19317)\u001b[0m 2022-09-08 05:34:54,475\tINFO config.py:72 -- Setting up process group for: env:// [rank=0, world_size=1]\n",
      "\u001b[2m\u001b[36m(RayTrainWorker pid=19323)\u001b[0m 2022-09-08 05:34:54,834\tINFO config.py:72 -- Setting up process group for: env:// [rank=0, world_size=1]\n",
      "\u001b[2m\u001b[36m(RayTrainWorker pid=19317)\u001b[0m /opt/conda/lib/python3.7/site-packages/l5kit/planning/rasterized/model.py:31: UserWarning: There is no pre-trained model with num_in_channels != 3, first layer will be reset\n",
      "\u001b[2m\u001b[36m(RayTrainWorker pid=19317)\u001b[0m   warnings.warn(\"There is no pre-trained model with num_in_channels != 3, first layer will be reset\")\n",
      "\u001b[2m\u001b[36m(RayTrainWorker pid=19317)\u001b[0m /opt/conda/lib/python3.7/site-packages/torchvision/models/_utils.py:209: UserWarning: The parameter 'pretrained' is deprecated since 0.13 and will be removed in 0.15, please use 'weights' instead.\n",
      "\u001b[2m\u001b[36m(RayTrainWorker pid=19317)\u001b[0m   f\"The parameter '{pretrained_param}' is deprecated since 0.13 and will be removed in 0.15, \"\n",
      "\u001b[2m\u001b[36m(RayTrainWorker pid=19317)\u001b[0m /opt/conda/lib/python3.7/site-packages/torchvision/models/_utils.py:223: UserWarning: Arguments other than a weight enum or `None` for 'weights' are deprecated since 0.13 and will be removed in 0.15. The current behavior is equivalent to passing `weights=ResNet50_Weights.IMAGENET1K_V1`. You can also use `weights=ResNet50_Weights.DEFAULT` to get the most up-to-date weights.\n",
      "\u001b[2m\u001b[36m(RayTrainWorker pid=19317)\u001b[0m   warnings.warn(msg)\n",
      "\u001b[2m\u001b[36m(RayTrainWorker pid=19323)\u001b[0m /opt/conda/lib/python3.7/site-packages/l5kit/planning/rasterized/model.py:31: UserWarning: There is no pre-trained model with num_in_channels != 3, first layer will be reset\n",
      "\u001b[2m\u001b[36m(RayTrainWorker pid=19323)\u001b[0m   warnings.warn(\"There is no pre-trained model with num_in_channels != 3, first layer will be reset\")\n",
      "\u001b[2m\u001b[36m(RayTrainWorker pid=19323)\u001b[0m /opt/conda/lib/python3.7/site-packages/torchvision/models/_utils.py:209: UserWarning: The parameter 'pretrained' is deprecated since 0.13 and will be removed in 0.15, please use 'weights' instead.\n",
      "\u001b[2m\u001b[36m(RayTrainWorker pid=19323)\u001b[0m   f\"The parameter '{pretrained_param}' is deprecated since 0.13 and will be removed in 0.15, \"\n",
      "\u001b[2m\u001b[36m(RayTrainWorker pid=19323)\u001b[0m /opt/conda/lib/python3.7/site-packages/torchvision/models/_utils.py:223: UserWarning: Arguments other than a weight enum or `None` for 'weights' are deprecated since 0.13 and will be removed in 0.15. The current behavior is equivalent to passing `weights=ResNet50_Weights.IMAGENET1K_V1`. You can also use `weights=ResNet50_Weights.DEFAULT` to get the most up-to-date weights.\n",
      "\u001b[2m\u001b[36m(RayTrainWorker pid=19323)\u001b[0m   warnings.warn(msg)\n",
      "\u001b[2m\u001b[36m(RayTrainWorker pid=19317)\u001b[0m 2022-09-08 05:35:02,225\tINFO train_loop_utils.py:300 -- Moving model to device: cpu\n",
      "\u001b[2m\u001b[36m(RayTrainWorker pid=19323)\u001b[0m 2022-09-08 05:35:02,282\tINFO train_loop_utils.py:300 -- Moving model to device: cpu\n"
     ]
    },
    {
     "name": "stdout",
     "output_type": "stream",
     "text": [
      "\u001b[2m\u001b[36m(RayTrainWorker pid=19317)\u001b[0m {'loss': 7.125338077545166, 'avg_loss': 7.125338077545166}\n",
      "\u001b[2m\u001b[36m(RayTrainWorker pid=19323)\u001b[0m {'loss': 4.717043399810791, 'avg_loss': 4.717043399810791}\n"
     ]
    },
    {
     "name": "stderr",
     "output_type": "stream",
     "text": [
      "\u001b[34m\u001b[1mwandb\u001b[0m: Adding directory to artifact (/home/jupyter/ray_results/TorchTrainer_2022-09-08_05-18-50/TorchTrainer_d1981512_19_batch_size=6.0000,format_version=4,future_num_frames=12,history_num_frames=0,model_architecture=resnet50,_2022-09-08_05-34-46/checkpoint_000000)... \u001b[34m\u001b[1mwandb\u001b[0m: Adding directory to artifact (/home/jupyter/ray_results/TorchTrainer_2022-09-08_05-18-50/TorchTrainer_f2d73334_20_batch_size=6.0000,format_version=4,future_num_frames=12,history_num_frames=0,model_architecture=resnet50,_2022-09-08_05-34-46/checkpoint_000000)... "
     ]
    },
    {
     "name": "stdout",
     "output_type": "stream",
     "text": [
      "Result for TorchTrainer_d1981512:\n",
      "  _time_this_iter_s: 13.620954036712646\n",
      "  _timestamp: 1662615308\n",
      "  _training_iteration: 1\n",
      "  avg_loss: 7.125338077545166\n",
      "  date: 2022-09-08_05-35-09\n",
      "  done: false\n",
      "  experiment_id: bc114db5cc0749d8a61edd3dbfe554b7\n",
      "  hostname: anish-l5-kit\n",
      "  iterations_since_restore: 1\n",
      "  loss: 7.125338077545166\n",
      "  node_ip: 10.150.0.3\n",
      "  pid: 19185\n",
      "  should_checkpoint: true\n",
      "  time_since_restore: 18.817776918411255\n",
      "  time_this_iter_s: 18.817776918411255\n",
      "  time_total_s: 18.817776918411255\n",
      "  timestamp: 1662615309\n",
      "  timesteps_since_restore: 0\n",
      "  training_iteration: 1\n",
      "  trial_id: d1981512\n",
      "  warmup_time: 0.00798654556274414\n",
      "  \n",
      "Result for TorchTrainer_f2d73334:\n",
      "  _time_this_iter_s: 13.25819730758667\n",
      "  _timestamp: 1662615308\n",
      "  _training_iteration: 1\n",
      "  avg_loss: 4.717043399810791\n",
      "  date: 2022-09-08_05-35-09\n",
      "  done: false\n",
      "  experiment_id: 1329cf433fbe41878c3f3c893a1feeaf\n",
      "  hostname: anish-l5-kit\n",
      "  iterations_since_restore: 1\n",
      "  loss: 4.717043399810791\n",
      "  node_ip: 10.150.0.3\n",
      "  pid: 19193\n",
      "  should_checkpoint: true\n",
      "  time_since_restore: 18.358667135238647\n",
      "  time_this_iter_s: 18.358667135238647\n",
      "  time_total_s: 18.358667135238647\n",
      "  timestamp: 1662615309\n",
      "  timesteps_since_restore: 0\n",
      "  training_iteration: 1\n",
      "  trial_id: f2d73334\n",
      "  warmup_time: 0.0074040889739990234\n",
      "  \n"
     ]
    },
    {
     "name": "stderr",
     "output_type": "stream",
     "text": [
      "Done. 1.7s\n",
      "Done. 1.8s\n"
     ]
    },
    {
     "name": "stdout",
     "output_type": "stream",
     "text": [
      "\u001b[2m\u001b[36m(RayTrainWorker pid=19317)\u001b[0m {'loss': 12.018231391906738, 'avg_loss': 9.571784734725952}\n",
      "\u001b[2m\u001b[36m(RayTrainWorker pid=19323)\u001b[0m {'loss': 11.622198104858398, 'avg_loss': 8.169620752334595}\n"
     ]
    },
    {
     "name": "stderr",
     "output_type": "stream",
     "text": [
      "\u001b[34m\u001b[1mwandb\u001b[0m: Adding directory to artifact (/home/jupyter/ray_results/TorchTrainer_2022-09-08_05-18-50/TorchTrainer_d1981512_19_batch_size=6.0000,format_version=4,future_num_frames=12,history_num_frames=0,model_architecture=resnet50,_2022-09-08_05-34-46/checkpoint_000001)... \u001b[34m\u001b[1mwandb\u001b[0m: Adding directory to artifact (/home/jupyter/ray_results/TorchTrainer_2022-09-08_05-18-50/TorchTrainer_f2d73334_20_batch_size=6.0000,format_version=4,future_num_frames=12,history_num_frames=0,model_architecture=resnet50,_2022-09-08_05-34-46/checkpoint_000001)... "
     ]
    },
    {
     "name": "stdout",
     "output_type": "stream",
     "text": [
      "Result for TorchTrainer_d1981512:\n",
      "  _time_this_iter_s: 5.459226608276367\n",
      "  _timestamp: 1662615314\n",
      "  _training_iteration: 2\n",
      "  avg_loss: 9.571784734725952\n",
      "  date: 2022-09-08_05-35-14\n",
      "  done: false\n",
      "  experiment_id: bc114db5cc0749d8a61edd3dbfe554b7\n",
      "  hostname: anish-l5-kit\n",
      "  iterations_since_restore: 2\n",
      "  loss: 12.018231391906738\n",
      "  node_ip: 10.150.0.3\n",
      "  pid: 19185\n",
      "  should_checkpoint: true\n",
      "  time_since_restore: 24.159955739974976\n",
      "  time_this_iter_s: 5.342178821563721\n",
      "  time_total_s: 24.159955739974976\n",
      "  timestamp: 1662615314\n",
      "  timesteps_since_restore: 0\n",
      "  training_iteration: 2\n",
      "  trial_id: d1981512\n",
      "  warmup_time: 0.00798654556274414\n",
      "  \n",
      "Result for TorchTrainer_f2d73334:\n",
      "  _time_this_iter_s: 5.4405128955841064\n",
      "  _timestamp: 1662615314\n",
      "  _training_iteration: 2\n",
      "  avg_loss: 8.169620752334595\n",
      "  date: 2022-09-08_05-35-14\n",
      "  done: false\n",
      "  experiment_id: 1329cf433fbe41878c3f3c893a1feeaf\n",
      "  hostname: anish-l5-kit\n",
      "  iterations_since_restore: 2\n",
      "  loss: 11.622198104858398\n",
      "  node_ip: 10.150.0.3\n",
      "  pid: 19193\n",
      "  should_checkpoint: true\n",
      "  time_since_restore: 23.696731090545654\n",
      "  time_this_iter_s: 5.338063955307007\n",
      "  time_total_s: 23.696731090545654\n",
      "  timestamp: 1662615314\n",
      "  timesteps_since_restore: 0\n",
      "  training_iteration: 2\n",
      "  trial_id: f2d73334\n",
      "  warmup_time: 0.0074040889739990234\n",
      "  \n"
     ]
    },
    {
     "name": "stderr",
     "output_type": "stream",
     "text": [
      "Done. 1.7s\n",
      "Done. 1.7s\n"
     ]
    },
    {
     "name": "stdout",
     "output_type": "stream",
     "text": [
      "\u001b[2m\u001b[36m(RayTrainWorker pid=19317)\u001b[0m {'loss': 7.049599647521973, 'avg_loss': 8.731056372324625}\n",
      "\u001b[2m\u001b[36m(RayTrainWorker pid=19323)\u001b[0m {'loss': 9.869887351989746, 'avg_loss': 8.736376285552979}\n"
     ]
    },
    {
     "name": "stderr",
     "output_type": "stream",
     "text": [
      "\u001b[34m\u001b[1mwandb\u001b[0m: Adding directory to artifact (/home/jupyter/ray_results/TorchTrainer_2022-09-08_05-18-50/TorchTrainer_d1981512_19_batch_size=6.0000,format_version=4,future_num_frames=12,history_num_frames=0,model_architecture=resnet50,_2022-09-08_05-34-46/checkpoint_000002)... \u001b[34m\u001b[1mwandb\u001b[0m: Adding directory to artifact (/home/jupyter/ray_results/TorchTrainer_2022-09-08_05-18-50/TorchTrainer_f2d73334_20_batch_size=6.0000,format_version=4,future_num_frames=12,history_num_frames=0,model_architecture=resnet50,_2022-09-08_05-34-46/checkpoint_000002)... "
     ]
    },
    {
     "name": "stdout",
     "output_type": "stream",
     "text": [
      "Result for TorchTrainer_d1981512:\n",
      "  _time_this_iter_s: 5.246995210647583\n",
      "  _timestamp: 1662615319\n",
      "  _training_iteration: 3\n",
      "  avg_loss: 8.731056372324625\n",
      "  date: 2022-09-08_05-35-19\n",
      "  done: false\n",
      "  experiment_id: bc114db5cc0749d8a61edd3dbfe554b7\n",
      "  hostname: anish-l5-kit\n",
      "  iterations_since_restore: 3\n",
      "  loss: 7.049599647521973\n",
      "  node_ip: 10.150.0.3\n",
      "  pid: 19185\n",
      "  should_checkpoint: true\n",
      "  time_since_restore: 29.38698172569275\n",
      "  time_this_iter_s: 5.227025985717773\n",
      "  time_total_s: 29.38698172569275\n",
      "  timestamp: 1662615319\n",
      "  timesteps_since_restore: 0\n",
      "  training_iteration: 3\n",
      "  trial_id: d1981512\n",
      "  warmup_time: 0.00798654556274414\n",
      "  \n",
      "Result for TorchTrainer_f2d73334:\n",
      "  _time_this_iter_s: 5.241349458694458\n",
      "  _timestamp: 1662615319\n",
      "  _training_iteration: 3\n",
      "  avg_loss: 8.736376285552979\n",
      "  date: 2022-09-08_05-35-19\n",
      "  done: false\n",
      "  experiment_id: 1329cf433fbe41878c3f3c893a1feeaf\n",
      "  hostname: anish-l5-kit\n",
      "  iterations_since_restore: 3\n",
      "  loss: 9.869887351989746\n",
      "  node_ip: 10.150.0.3\n",
      "  pid: 19193\n",
      "  should_checkpoint: true\n",
      "  time_since_restore: 28.916792392730713\n",
      "  time_this_iter_s: 5.220061302185059\n",
      "  time_total_s: 28.916792392730713\n",
      "  timestamp: 1662615319\n",
      "  timesteps_since_restore: 0\n",
      "  training_iteration: 3\n",
      "  trial_id: f2d73334\n",
      "  warmup_time: 0.0074040889739990234\n",
      "  \n"
     ]
    },
    {
     "name": "stderr",
     "output_type": "stream",
     "text": [
      "Done. 1.8s\n",
      "Done. 1.8s\n"
     ]
    },
    {
     "name": "stdout",
     "output_type": "stream",
     "text": [
      "\u001b[2m\u001b[36m(RayTrainWorker pid=19323)\u001b[0m {'loss': 7.742615222930908, 'avg_loss': 8.487936019897461}\n",
      "\u001b[2m\u001b[36m(RayTrainWorker pid=19317)\u001b[0m {'loss': 7.455737113952637, 'avg_loss': 8.412226557731628}\n"
     ]
    },
    {
     "name": "stderr",
     "output_type": "stream",
     "text": [
      "\u001b[34m\u001b[1mwandb\u001b[0m: Adding directory to artifact (/home/jupyter/ray_results/TorchTrainer_2022-09-08_05-18-50/TorchTrainer_f2d73334_20_batch_size=6.0000,format_version=4,future_num_frames=12,history_num_frames=0,model_architecture=resnet50,_2022-09-08_05-34-46/checkpoint_000003)... "
     ]
    },
    {
     "name": "stdout",
     "output_type": "stream",
     "text": [
      "Result for TorchTrainer_f2d73334:\n",
      "  _time_this_iter_s: 5.0470147132873535\n",
      "  _timestamp: 1662615324\n",
      "  _training_iteration: 4\n",
      "  avg_loss: 8.487936019897461\n",
      "  date: 2022-09-08_05-35-25\n",
      "  done: false\n",
      "  experiment_id: 1329cf433fbe41878c3f3c893a1feeaf\n",
      "  hostname: anish-l5-kit\n",
      "  iterations_since_restore: 4\n",
      "  loss: 7.742615222930908\n",
      "  node_ip: 10.150.0.3\n",
      "  pid: 19193\n",
      "  should_checkpoint: true\n",
      "  time_since_restore: 34.014949321746826\n",
      "  time_this_iter_s: 5.098156929016113\n",
      "  time_total_s: 34.014949321746826\n",
      "  timestamp: 1662615325\n",
      "  timesteps_since_restore: 0\n",
      "  training_iteration: 4\n",
      "  trial_id: f2d73334\n",
      "  warmup_time: 0.0074040889739990234\n",
      "  \n"
     ]
    },
    {
     "name": "stderr",
     "output_type": "stream",
     "text": [
      "\u001b[34m\u001b[1mwandb\u001b[0m: Adding directory to artifact (/home/jupyter/ray_results/TorchTrainer_2022-09-08_05-18-50/TorchTrainer_d1981512_19_batch_size=6.0000,format_version=4,future_num_frames=12,history_num_frames=0,model_architecture=resnet50,_2022-09-08_05-34-46/checkpoint_000003)... "
     ]
    },
    {
     "name": "stdout",
     "output_type": "stream",
     "text": [
      "Result for TorchTrainer_d1981512:\n",
      "  _time_this_iter_s: 5.314985990524292\n",
      "  _timestamp: 1662615324\n",
      "  _training_iteration: 4\n",
      "  avg_loss: 8.412226557731628\n",
      "  date: 2022-09-08_05-35-25\n",
      "  done: false\n",
      "  experiment_id: bc114db5cc0749d8a61edd3dbfe554b7\n",
      "  hostname: anish-l5-kit\n",
      "  iterations_since_restore: 4\n",
      "  loss: 7.455737113952637\n",
      "  node_ip: 10.150.0.3\n",
      "  pid: 19185\n",
      "  should_checkpoint: true\n",
      "  time_since_restore: 34.83897280693054\n",
      "  time_this_iter_s: 5.451991081237793\n",
      "  time_total_s: 34.83897280693054\n",
      "  timestamp: 1662615325\n",
      "  timesteps_since_restore: 0\n",
      "  training_iteration: 4\n",
      "  trial_id: d1981512\n",
      "  warmup_time: 0.00798654556274414\n",
      "  \n"
     ]
    },
    {
     "name": "stderr",
     "output_type": "stream",
     "text": [
      "Done. 1.3s\n",
      "Done. 1.5s\n"
     ]
    },
    {
     "name": "stdout",
     "output_type": "stream",
     "text": [
      "\u001b[2m\u001b[36m(RayTrainWorker pid=19323)\u001b[0m {'loss': 3.3201563358306885, 'avg_loss': 7.454380083084106}\n",
      "\u001b[2m\u001b[36m(RayTrainWorker pid=19317)\u001b[0m {'loss': 3.7349305152893066, 'avg_loss': 7.476767349243164}\n",
      "Result for TorchTrainer_f2d73334:\n",
      "  _time_this_iter_s: 5.178601264953613\n",
      "  _timestamp: 1662615329\n",
      "  _training_iteration: 5\n",
      "  avg_loss: 7.454380083084106\n",
      "  date: 2022-09-08_05-35-30\n",
      "  done: false\n",
      "  experiment_id: 1329cf433fbe41878c3f3c893a1feeaf\n",
      "  hostname: anish-l5-kit\n",
      "  iterations_since_restore: 5\n",
      "  loss: 3.3201563358306885\n",
      "  node_ip: 10.150.0.3\n",
      "  pid: 19193\n",
      "  should_checkpoint: true\n",
      "  time_since_restore: 39.10718631744385\n",
      "  time_this_iter_s: 5.0922369956970215\n",
      "  time_total_s: 39.10718631744385\n",
      "  timestamp: 1662615330\n",
      "  timesteps_since_restore: 0\n",
      "  training_iteration: 5\n",
      "  trial_id: f2d73334\n",
      "  warmup_time: 0.0074040889739990234\n",
      "  \n"
     ]
    },
    {
     "name": "stderr",
     "output_type": "stream",
     "text": [
      "\u001b[34m\u001b[1mwandb\u001b[0m: Adding directory to artifact (/home/jupyter/ray_results/TorchTrainer_2022-09-08_05-18-50/TorchTrainer_f2d73334_20_batch_size=6.0000,format_version=4,future_num_frames=12,history_num_frames=0,model_architecture=resnet50,_2022-09-08_05-34-46/checkpoint_000004)... \u001b[34m\u001b[1mwandb\u001b[0m: Adding directory to artifact (/home/jupyter/ray_results/TorchTrainer_2022-09-08_05-18-50/TorchTrainer_d1981512_19_batch_size=6.0000,format_version=4,future_num_frames=12,history_num_frames=0,model_architecture=resnet50,_2022-09-08_05-34-46/checkpoint_000004)... "
     ]
    },
    {
     "name": "stdout",
     "output_type": "stream",
     "text": [
      "Result for TorchTrainer_d1981512:\n",
      "  _time_this_iter_s: 5.248953819274902\n",
      "  _timestamp: 1662615330\n",
      "  _training_iteration: 5\n",
      "  avg_loss: 7.476767349243164\n",
      "  date: 2022-09-08_05-35-30\n",
      "  done: false\n",
      "  experiment_id: bc114db5cc0749d8a61edd3dbfe554b7\n",
      "  hostname: anish-l5-kit\n",
      "  iterations_since_restore: 5\n",
      "  loss: 3.7349305152893066\n",
      "  node_ip: 10.150.0.3\n",
      "  pid: 19185\n",
      "  should_checkpoint: true\n",
      "  time_since_restore: 39.97370100021362\n",
      "  time_this_iter_s: 5.134728193283081\n",
      "  time_total_s: 39.97370100021362\n",
      "  timestamp: 1662615330\n",
      "  timesteps_since_restore: 0\n",
      "  training_iteration: 5\n",
      "  trial_id: d1981512\n",
      "  warmup_time: 0.00798654556274414\n",
      "  \n"
     ]
    },
    {
     "name": "stderr",
     "output_type": "stream",
     "text": [
      "Done. 2.2s\n",
      "Done. 1.9s\n",
      "\u001b[34m\u001b[1mwandb\u001b[0m: Adding directory to artifact (/home/jupyter/ray_results/TorchTrainer_2022-09-08_05-18-50/TorchTrainer_f2d73334_20_batch_size=6.0000,format_version=4,future_num_frames=12,history_num_frames=0,model_architecture=resnet50,_2022-09-08_05-34-46/checkpoint_000004)... Done. 0.2s\n"
     ]
    },
    {
     "data": {
      "text/html": [
       "Waiting for W&B process to finish... <strong style=\"color:green\">(success).</strong>"
      ],
      "text/plain": [
       "<IPython.core.display.HTML object>"
      ]
     },
     "metadata": {},
     "output_type": "display_data"
    },
    {
     "data": {
      "application/vnd.jupyter.widget-view+json": {
       "model_id": "1255e40d1040412d8e7043e09bec672f",
       "version_major": 2,
       "version_minor": 0
      },
      "text/plain": [
       "VBox(children=(Label(value='452.176 MB of 452.176 MB uploaded (90.296 MB deduped)\\r'), FloatProgress(value=1.0…"
      ]
     },
     "metadata": {},
     "output_type": "display_data"
    },
    {
     "name": "stdout",
     "output_type": "stream",
     "text": [
      "Result for TorchTrainer_f2d73334:\n",
      "  _time_this_iter_s: 5.178601264953613\n",
      "  _timestamp: 1662615329\n",
      "  _training_iteration: 5\n",
      "  avg_loss: 7.454380083084106\n",
      "  date: 2022-09-08_05-35-30\n",
      "  done: true\n",
      "  experiment_id: 1329cf433fbe41878c3f3c893a1feeaf\n",
      "  experiment_tag: 20_batch_size=6.0000,format_version=4,future_num_frames=12,history_num_frames=0,model_architecture=resnet50,render_ego_history=True,step_time=0.1000,dataset_meta_key=meta_json,disable_traffic_light_faces=False,ego_center=0_25_0_5,filter_agents_threshold=0.5000,map_type=py_satellite,pixel_size=0_5_0_5,raster_size=224_224,satellite_map_key=aerial_map_aerial_map_png,semantic_map_key=semantic_map_semantic_map_pb,set_origin_to_bottom=True,batch_size=12,key=scenes_sample_zarr,num_workers=16,perturb_probability=0.5000,shuffle=True,checkpoint_every_n_steps=10000,eval_every_n_steps=10000,max_num_steps=5,batch_size=12,key=scenes_sample_zarr,num_workers=16,shuffle=False,dataset_key=scenes_sample_zarr,lr=0.0008,max_num_steps=5,num_workers=4,perturb_probability=0.5000,shuffle=True\n",
      "  hostname: anish-l5-kit\n",
      "  iterations_since_restore: 5\n",
      "  loss: 3.3201563358306885\n",
      "  node_ip: 10.150.0.3\n",
      "  pid: 19193\n",
      "  should_checkpoint: true\n",
      "  time_since_restore: 39.10718631744385\n",
      "  time_this_iter_s: 5.0922369956970215\n",
      "  time_total_s: 39.10718631744385\n",
      "  timestamp: 1662615330\n",
      "  timesteps_since_restore: 0\n",
      "  training_iteration: 5\n",
      "  trial_id: f2d73334\n",
      "  warmup_time: 0.0074040889739990234\n",
      "  \n"
     ]
    },
    {
     "name": "stderr",
     "output_type": "stream",
     "text": [
      "\u001b[34m\u001b[1mwandb\u001b[0m: Adding directory to artifact (/home/jupyter/ray_results/TorchTrainer_2022-09-08_05-18-50/TorchTrainer_d1981512_19_batch_size=6.0000,format_version=4,future_num_frames=12,history_num_frames=0,model_architecture=resnet50,_2022-09-08_05-34-46/checkpoint_000004)... "
     ]
    },
    {
     "data": {
      "text/html": [
       "W&B sync reduced upload amount by 20.0%             "
      ],
      "text/plain": [
       "<IPython.core.display.HTML object>"
      ]
     },
     "metadata": {},
     "output_type": "display_data"
    },
    {
     "name": "stderr",
     "output_type": "stream",
     "text": [
      "Done. 0.3s\n"
     ]
    },
    {
     "data": {
      "text/html": [
       "Waiting for W&B process to finish... <strong style=\"color:green\">(success).</strong>"
      ],
      "text/plain": [
       "<IPython.core.display.HTML object>"
      ]
     },
     "metadata": {},
     "output_type": "display_data"
    },
    {
     "data": {
      "text/html": [
       "<style>\n",
       "    table.wandb td:nth-child(1) { padding: 0 10px; text-align: left ; width: auto;} td:nth-child(2) {text-align: left ; width: 100%}\n",
       "    .wandb-row { display: flex; flex-direction: row; flex-wrap: wrap; justify-content: flex-start; width: 100% }\n",
       "    .wandb-col { display: flex; flex-direction: column; flex-basis: 100%; flex: 1; padding: 10px; }\n",
       "    </style>\n",
       "<div class=\"wandb-row\"><div class=\"wandb-col\"><h3>Run history:</h3><br/><table class=\"wandb\"><tr><td>avg_loss</td><td>▁▇██▆</td></tr><tr><td>iterations_since_restore</td><td>▁▃▅▆█</td></tr><tr><td>loss</td><td>▂█▇▅▁</td></tr><tr><td>time_since_restore</td><td>▁▃▅▆█</td></tr><tr><td>time_this_iter_s</td><td>█▁▁▁▁</td></tr><tr><td>time_total_s</td><td>▁▃▅▆█</td></tr><tr><td>timestamp</td><td>▁▃▄▆█</td></tr><tr><td>timesteps_since_restore</td><td>▁▁▁▁▁</td></tr><tr><td>training_iteration</td><td>▁▃▅▆█</td></tr><tr><td>warmup_time</td><td>▁▁▁▁▁</td></tr></table><br/></div><div class=\"wandb-col\"><h3>Run summary:</h3><br/><table class=\"wandb\"><tr><td>avg_loss</td><td>7.45438</td></tr><tr><td>iterations_since_restore</td><td>5</td></tr><tr><td>loss</td><td>3.32016</td></tr><tr><td>time_since_restore</td><td>39.10719</td></tr><tr><td>time_this_iter_s</td><td>5.09224</td></tr><tr><td>time_total_s</td><td>39.10719</td></tr><tr><td>timestamp</td><td>1662615330</td></tr><tr><td>timesteps_since_restore</td><td>0</td></tr><tr><td>training_iteration</td><td>5</td></tr><tr><td>warmup_time</td><td>0.0074</td></tr></table><br/></div></div>"
      ],
      "text/plain": [
       "<IPython.core.display.HTML object>"
      ]
     },
     "metadata": {},
     "output_type": "display_data"
    },
    {
     "data": {
      "text/html": [
       "Synced <strong style=\"color:#cdcd00\">TorchTrainer_f2d73334</strong>: <a href=\"https://wandb.ai/l5-demo/l5-planning-trials/runs/f2d73334\" target=\"_blank\">https://wandb.ai/l5-demo/l5-planning-trials/runs/f2d73334</a><br/>Synced 7 W&B file(s), 0 media file(s), 12 artifact file(s) and 1 other file(s)"
      ],
      "text/plain": [
       "<IPython.core.display.HTML object>"
      ]
     },
     "metadata": {},
     "output_type": "display_data"
    },
    {
     "data": {
      "text/html": [
       "Find logs at: <code>./wandb/run-20220908_053446-f2d73334/logs</code>"
      ],
      "text/plain": [
       "<IPython.core.display.HTML object>"
      ]
     },
     "metadata": {},
     "output_type": "display_data"
    },
    {
     "data": {
      "application/vnd.jupyter.widget-view+json": {
       "model_id": "7d1ab83652284048a81645b7de5d8e89",
       "version_major": 2,
       "version_minor": 0
      },
      "text/plain": [
       "VBox(children=(Label(value='452.176 MB of 452.176 MB uploaded (90.296 MB deduped)\\r'), FloatProgress(value=1.0…"
      ]
     },
     "metadata": {},
     "output_type": "display_data"
    },
    {
     "name": "stdout",
     "output_type": "stream",
     "text": [
      "Result for TorchTrainer_d1981512:\n",
      "  _time_this_iter_s: 5.248953819274902\n",
      "  _timestamp: 1662615330\n",
      "  _training_iteration: 5\n",
      "  avg_loss: 7.476767349243164\n",
      "  date: 2022-09-08_05-35-30\n",
      "  done: true\n",
      "  experiment_id: bc114db5cc0749d8a61edd3dbfe554b7\n",
      "  experiment_tag: 19_batch_size=6.0000,format_version=4,future_num_frames=12,history_num_frames=0,model_architecture=resnet50,render_ego_history=True,step_time=0.1000,dataset_meta_key=meta_json,disable_traffic_light_faces=False,ego_center=0_25_0_5,filter_agents_threshold=0.5000,map_type=py_satellite,pixel_size=0_5_0_5,raster_size=224_224,satellite_map_key=aerial_map_aerial_map_png,semantic_map_key=semantic_map_semantic_map_pb,set_origin_to_bottom=True,batch_size=12,key=scenes_sample_zarr,num_workers=16,perturb_probability=0.5000,shuffle=True,checkpoint_every_n_steps=10000,eval_every_n_steps=10000,max_num_steps=5,batch_size=12,key=scenes_sample_zarr,num_workers=16,shuffle=False,dataset_key=scenes_sample_zarr,lr=0.0012,max_num_steps=5,num_workers=4,perturb_probability=0.5000,shuffle=True\n",
      "  hostname: anish-l5-kit\n",
      "  iterations_since_restore: 5\n",
      "  loss: 3.7349305152893066\n",
      "  node_ip: 10.150.0.3\n",
      "  pid: 19185\n",
      "  should_checkpoint: true\n",
      "  time_since_restore: 39.97370100021362\n",
      "  time_this_iter_s: 5.134728193283081\n",
      "  time_total_s: 39.97370100021362\n",
      "  timestamp: 1662615330\n",
      "  timesteps_since_restore: 0\n",
      "  training_iteration: 5\n",
      "  trial_id: d1981512\n",
      "  warmup_time: 0.00798654556274414\n",
      "  \n"
     ]
    },
    {
     "data": {
      "text/html": [
       "W&B sync reduced upload amount by 20.0%             "
      ],
      "text/plain": [
       "<IPython.core.display.HTML object>"
      ]
     },
     "metadata": {},
     "output_type": "display_data"
    },
    {
     "data": {
      "text/html": [
       "<style>\n",
       "    table.wandb td:nth-child(1) { padding: 0 10px; text-align: left ; width: auto;} td:nth-child(2) {text-align: left ; width: 100%}\n",
       "    .wandb-row { display: flex; flex-direction: row; flex-wrap: wrap; justify-content: flex-start; width: 100% }\n",
       "    .wandb-col { display: flex; flex-direction: column; flex-basis: 100%; flex: 1; padding: 10px; }\n",
       "    </style>\n",
       "<div class=\"wandb-row\"><div class=\"wandb-col\"><h3>Run history:</h3><br/><table class=\"wandb\"><tr><td>avg_loss</td><td>▁█▆▅▂</td></tr><tr><td>iterations_since_restore</td><td>▁▃▅▆█</td></tr><tr><td>loss</td><td>▄█▄▄▁</td></tr><tr><td>time_since_restore</td><td>▁▃▄▆█</td></tr><tr><td>time_this_iter_s</td><td>█▁▁▁▁</td></tr><tr><td>time_total_s</td><td>▁▃▄▆█</td></tr><tr><td>timestamp</td><td>▁▃▄▆█</td></tr><tr><td>timesteps_since_restore</td><td>▁▁▁▁▁</td></tr><tr><td>training_iteration</td><td>▁▃▅▆█</td></tr><tr><td>warmup_time</td><td>▁▁▁▁▁</td></tr></table><br/></div><div class=\"wandb-col\"><h3>Run summary:</h3><br/><table class=\"wandb\"><tr><td>avg_loss</td><td>7.47677</td></tr><tr><td>iterations_since_restore</td><td>5</td></tr><tr><td>loss</td><td>3.73493</td></tr><tr><td>time_since_restore</td><td>39.9737</td></tr><tr><td>time_this_iter_s</td><td>5.13473</td></tr><tr><td>time_total_s</td><td>39.9737</td></tr><tr><td>timestamp</td><td>1662615330</td></tr><tr><td>timesteps_since_restore</td><td>0</td></tr><tr><td>training_iteration</td><td>5</td></tr><tr><td>warmup_time</td><td>0.00799</td></tr></table><br/></div></div>"
      ],
      "text/plain": [
       "<IPython.core.display.HTML object>"
      ]
     },
     "metadata": {},
     "output_type": "display_data"
    },
    {
     "data": {
      "text/html": [
       "Synced <strong style=\"color:#cdcd00\">TorchTrainer_d1981512</strong>: <a href=\"https://wandb.ai/l5-demo/l5-planning-trials/runs/d1981512\" target=\"_blank\">https://wandb.ai/l5-demo/l5-planning-trials/runs/d1981512</a><br/>Synced 7 W&B file(s), 0 media file(s), 12 artifact file(s) and 1 other file(s)"
      ],
      "text/plain": [
       "<IPython.core.display.HTML object>"
      ]
     },
     "metadata": {},
     "output_type": "display_data"
    },
    {
     "data": {
      "text/html": [
       "Find logs at: <code>./wandb/run-20220908_053446-d1981512/logs</code>"
      ],
      "text/plain": [
       "<IPython.core.display.HTML object>"
      ]
     },
     "metadata": {},
     "output_type": "display_data"
    },
    {
     "name": "stderr",
     "output_type": "stream",
     "text": [
      "\u001b[2m\u001b[36m(RayTrainWorker pid=20490)\u001b[0m 2022-09-08 05:35:59,661\tINFO config.py:72 -- Setting up process group for: env:// [rank=0, world_size=1]\n",
      "\u001b[2m\u001b[36m(RayTrainWorker pid=20497)\u001b[0m 2022-09-08 05:36:00,280\tINFO config.py:72 -- Setting up process group for: env:// [rank=0, world_size=1]\n",
      "\u001b[2m\u001b[36m(RayTrainWorker pid=20490)\u001b[0m /opt/conda/lib/python3.7/site-packages/l5kit/planning/rasterized/model.py:31: UserWarning: There is no pre-trained model with num_in_channels != 3, first layer will be reset\n",
      "\u001b[2m\u001b[36m(RayTrainWorker pid=20490)\u001b[0m   warnings.warn(\"There is no pre-trained model with num_in_channels != 3, first layer will be reset\")\n",
      "\u001b[2m\u001b[36m(RayTrainWorker pid=20490)\u001b[0m /opt/conda/lib/python3.7/site-packages/torchvision/models/_utils.py:209: UserWarning: The parameter 'pretrained' is deprecated since 0.13 and will be removed in 0.15, please use 'weights' instead.\n",
      "\u001b[2m\u001b[36m(RayTrainWorker pid=20490)\u001b[0m   f\"The parameter '{pretrained_param}' is deprecated since 0.13 and will be removed in 0.15, \"\n",
      "\u001b[2m\u001b[36m(RayTrainWorker pid=20490)\u001b[0m /opt/conda/lib/python3.7/site-packages/torchvision/models/_utils.py:223: UserWarning: Arguments other than a weight enum or `None` for 'weights' are deprecated since 0.13 and will be removed in 0.15. The current behavior is equivalent to passing `weights=ResNet50_Weights.IMAGENET1K_V1`. You can also use `weights=ResNet50_Weights.DEFAULT` to get the most up-to-date weights.\n",
      "\u001b[2m\u001b[36m(RayTrainWorker pid=20490)\u001b[0m   warnings.warn(msg)\n",
      "\u001b[2m\u001b[36m(RayTrainWorker pid=20497)\u001b[0m /opt/conda/lib/python3.7/site-packages/l5kit/planning/rasterized/model.py:31: UserWarning: There is no pre-trained model with num_in_channels != 3, first layer will be reset\n",
      "\u001b[2m\u001b[36m(RayTrainWorker pid=20497)\u001b[0m   warnings.warn(\"There is no pre-trained model with num_in_channels != 3, first layer will be reset\")\n",
      "\u001b[2m\u001b[36m(RayTrainWorker pid=20497)\u001b[0m /opt/conda/lib/python3.7/site-packages/torchvision/models/_utils.py:209: UserWarning: The parameter 'pretrained' is deprecated since 0.13 and will be removed in 0.15, please use 'weights' instead.\n",
      "\u001b[2m\u001b[36m(RayTrainWorker pid=20497)\u001b[0m   f\"The parameter '{pretrained_param}' is deprecated since 0.13 and will be removed in 0.15, \"\n",
      "\u001b[2m\u001b[36m(RayTrainWorker pid=20497)\u001b[0m /opt/conda/lib/python3.7/site-packages/torchvision/models/_utils.py:223: UserWarning: Arguments other than a weight enum or `None` for 'weights' are deprecated since 0.13 and will be removed in 0.15. The current behavior is equivalent to passing `weights=ResNet50_Weights.IMAGENET1K_V1`. You can also use `weights=ResNet50_Weights.DEFAULT` to get the most up-to-date weights.\n",
      "\u001b[2m\u001b[36m(RayTrainWorker pid=20497)\u001b[0m   warnings.warn(msg)\n",
      "\u001b[2m\u001b[36m(RayTrainWorker pid=20490)\u001b[0m 2022-09-08 05:36:08,612\tINFO train_loop_utils.py:300 -- Moving model to device: cpu\n",
      "\u001b[2m\u001b[36m(RayTrainWorker pid=20497)\u001b[0m 2022-09-08 05:36:08,695\tINFO train_loop_utils.py:300 -- Moving model to device: cpu\n"
     ]
    },
    {
     "name": "stdout",
     "output_type": "stream",
     "text": [
      "\u001b[2m\u001b[36m(RayTrainWorker pid=20490)\u001b[0m {'loss': 18.125497817993164, 'avg_loss': 18.125497817993164}\n"
     ]
    },
    {
     "name": "stderr",
     "output_type": "stream",
     "text": [
      "\u001b[34m\u001b[1mwandb\u001b[0m: Adding directory to artifact (/home/jupyter/ray_results/TorchTrainer_2022-09-08_05-18-50/TorchTrainer_f32107e8_21_batch_size=6.0000,format_version=4,future_num_frames=12,history_num_frames=0,model_architecture=resnet50,_2022-09-08_05-35-51/checkpoint_000000)... "
     ]
    },
    {
     "name": "stdout",
     "output_type": "stream",
     "text": [
      "Result for TorchTrainer_f32107e8:\n",
      "  _time_this_iter_s: 14.184948444366455\n",
      "  _timestamp: 1662615374\n",
      "  _training_iteration: 1\n",
      "  avg_loss: 18.125497817993164\n",
      "  date: 2022-09-08_05-36-15\n",
      "  done: false\n",
      "  experiment_id: 82d61c0b22294d8a82cc5fe6cb792121\n",
      "  hostname: anish-l5-kit\n",
      "  iterations_since_restore: 1\n",
      "  loss: 18.125497817993164\n",
      "  node_ip: 10.150.0.3\n",
      "  pid: 20344\n",
      "  should_checkpoint: true\n",
      "  time_since_restore: 19.430758476257324\n",
      "  time_this_iter_s: 19.430758476257324\n",
      "  time_total_s: 19.430758476257324\n",
      "  timestamp: 1662615375\n",
      "  timesteps_since_restore: 0\n",
      "  training_iteration: 1\n",
      "  trial_id: f32107e8\n",
      "  warmup_time: 0.006804943084716797\n",
      "  \n"
     ]
    },
    {
     "name": "stderr",
     "output_type": "stream",
     "text": [
      "Done. 1.1s\n"
     ]
    },
    {
     "name": "stdout",
     "output_type": "stream",
     "text": [
      "\u001b[2m\u001b[36m(RayTrainWorker pid=20497)\u001b[0m {'loss': 12.634977340698242, 'avg_loss': 12.634977340698242}\n",
      "\u001b[2m\u001b[36m(RayTrainWorker pid=20490)\u001b[0m {'loss': 5.910640239715576, 'avg_loss': 12.01806902885437}\n",
      "Result for TorchTrainer_19844d6e:\n",
      "  _time_this_iter_s: 18.183110237121582\n",
      "  _timestamp: 1662615379\n",
      "  _training_iteration: 1\n",
      "  avg_loss: 12.634977340698242\n",
      "  date: 2022-09-08_05-36-19\n",
      "  done: false\n",
      "  experiment_id: b61eae6f290a4823a80575937c7f845c\n",
      "  hostname: anish-l5-kit\n",
      "  iterations_since_restore: 1\n",
      "  loss: 12.634977340698242\n",
      "  node_ip: 10.150.0.3\n",
      "  pid: 20378\n",
      "  should_checkpoint: true\n",
      "  time_since_restore: 23.139058351516724\n",
      "  time_this_iter_s: 23.139058351516724\n",
      "  time_total_s: 23.139058351516724\n",
      "  timestamp: 1662615379\n",
      "  timesteps_since_restore: 0\n",
      "  training_iteration: 1\n",
      "  trial_id: 19844d6e\n",
      "  warmup_time: 0.010516166687011719\n",
      "  \n"
     ]
    },
    {
     "name": "stderr",
     "output_type": "stream",
     "text": [
      "\u001b[34m\u001b[1mwandb\u001b[0m: Adding directory to artifact (/home/jupyter/ray_results/TorchTrainer_2022-09-08_05-18-50/TorchTrainer_19844d6e_22_batch_size=12.0000,format_version=4,future_num_frames=12,history_num_frames=0,model_architecture=resnet50_2022-09-08_05-35-51/checkpoint_000000)... \u001b[34m\u001b[1mwandb\u001b[0m: Adding directory to artifact (/home/jupyter/ray_results/TorchTrainer_2022-09-08_05-18-50/TorchTrainer_f32107e8_21_batch_size=6.0000,format_version=4,future_num_frames=12,history_num_frames=0,model_architecture=resnet50,_2022-09-08_05-35-51/checkpoint_000001)... "
     ]
    },
    {
     "name": "stdout",
     "output_type": "stream",
     "text": [
      "Result for TorchTrainer_f32107e8:\n",
      "  _time_this_iter_s: 4.902566194534302\n",
      "  _timestamp: 1662615379\n",
      "  _training_iteration: 2\n",
      "  avg_loss: 12.01806902885437\n",
      "  date: 2022-09-08_05-36-20\n",
      "  done: false\n",
      "  experiment_id: 82d61c0b22294d8a82cc5fe6cb792121\n",
      "  hostname: anish-l5-kit\n",
      "  iterations_since_restore: 2\n",
      "  loss: 5.910640239715576\n",
      "  node_ip: 10.150.0.3\n",
      "  pid: 20344\n",
      "  should_checkpoint: true\n",
      "  time_since_restore: 24.44508719444275\n",
      "  time_this_iter_s: 5.014328718185425\n",
      "  time_total_s: 24.44508719444275\n",
      "  timestamp: 1662615380\n",
      "  timesteps_since_restore: 0\n",
      "  training_iteration: 2\n",
      "  trial_id: f32107e8\n",
      "  warmup_time: 0.006804943084716797\n",
      "  \n"
     ]
    },
    {
     "name": "stderr",
     "output_type": "stream",
     "text": [
      "Done. 1.4s\n",
      "Done. 1.3s\n"
     ]
    },
    {
     "name": "stdout",
     "output_type": "stream",
     "text": [
      "\u001b[2m\u001b[36m(RayTrainWorker pid=20490)\u001b[0m {'loss': 10.40995979309082, 'avg_loss': 11.482032616933187}\n"
     ]
    },
    {
     "name": "stderr",
     "output_type": "stream",
     "text": [
      "\u001b[34m\u001b[1mwandb\u001b[0m: Adding directory to artifact (/home/jupyter/ray_results/TorchTrainer_2022-09-08_05-18-50/TorchTrainer_f32107e8_21_batch_size=6.0000,format_version=4,future_num_frames=12,history_num_frames=0,model_architecture=resnet50,_2022-09-08_05-35-51/checkpoint_000002)... "
     ]
    },
    {
     "name": "stdout",
     "output_type": "stream",
     "text": [
      "Result for TorchTrainer_f32107e8:\n",
      "  _time_this_iter_s: 5.406080722808838\n",
      "  _timestamp: 1662615384\n",
      "  _training_iteration: 3\n",
      "  avg_loss: 11.482032616933187\n",
      "  date: 2022-09-08_05-36-25\n",
      "  done: false\n",
      "  experiment_id: 82d61c0b22294d8a82cc5fe6cb792121\n",
      "  hostname: anish-l5-kit\n",
      "  iterations_since_restore: 3\n",
      "  loss: 10.40995979309082\n",
      "  node_ip: 10.150.0.3\n",
      "  pid: 20344\n",
      "  should_checkpoint: true\n",
      "  time_since_restore: 29.635840892791748\n",
      "  time_this_iter_s: 5.190753698348999\n",
      "  time_total_s: 29.635840892791748\n",
      "  timestamp: 1662615385\n",
      "  timesteps_since_restore: 0\n",
      "  training_iteration: 3\n",
      "  trial_id: f32107e8\n",
      "  warmup_time: 0.006804943084716797\n",
      "  \n"
     ]
    },
    {
     "name": "stderr",
     "output_type": "stream",
     "text": [
      "Done. 1.0s\n"
     ]
    },
    {
     "name": "stdout",
     "output_type": "stream",
     "text": [
      "\u001b[2m\u001b[36m(RayTrainWorker pid=20497)\u001b[0m {'loss': 14.638758659362793, 'avg_loss': 13.636868000030518}\n"
     ]
    },
    {
     "name": "stderr",
     "output_type": "stream",
     "text": [
      "\u001b[34m\u001b[1mwandb\u001b[0m: Adding directory to artifact (/home/jupyter/ray_results/TorchTrainer_2022-09-08_05-18-50/TorchTrainer_19844d6e_22_batch_size=12.0000,format_version=4,future_num_frames=12,history_num_frames=0,model_architecture=resnet50_2022-09-08_05-35-51/checkpoint_000001)... "
     ]
    },
    {
     "name": "stdout",
     "output_type": "stream",
     "text": [
      "Result for TorchTrainer_19844d6e:\n",
      "  _time_this_iter_s: 9.33182978630066\n",
      "  _timestamp: 1662615388\n",
      "  _training_iteration: 2\n",
      "  avg_loss: 13.636868000030518\n",
      "  date: 2022-09-08_05-36-28\n",
      "  done: false\n",
      "  experiment_id: b61eae6f290a4823a80575937c7f845c\n",
      "  hostname: anish-l5-kit\n",
      "  iterations_since_restore: 2\n",
      "  loss: 14.638758659362793\n",
      "  node_ip: 10.150.0.3\n",
      "  pid: 20378\n",
      "  should_checkpoint: true\n",
      "  time_since_restore: 32.410399436950684\n",
      "  time_this_iter_s: 9.27134108543396\n",
      "  time_total_s: 32.410399436950684\n",
      "  timestamp: 1662615388\n",
      "  timesteps_since_restore: 0\n",
      "  training_iteration: 2\n",
      "  trial_id: 19844d6e\n",
      "  warmup_time: 0.010516166687011719\n",
      "  \n",
      "\u001b[2m\u001b[36m(RayTrainWorker pid=20490)\u001b[0m {'loss': 3.0071396827697754, 'avg_loss': 9.363309383392334}\n"
     ]
    },
    {
     "name": "stderr",
     "output_type": "stream",
     "text": [
      "Done. 1.1s\n"
     ]
    },
    {
     "name": "stdout",
     "output_type": "stream",
     "text": [
      "Result for TorchTrainer_f32107e8:\n",
      "  _time_this_iter_s: 5.041220664978027\n",
      "  _timestamp: 1662615389\n",
      "  _training_iteration: 4\n",
      "  avg_loss: 9.363309383392334\n",
      "  date: 2022-09-08_05-36-30\n",
      "  done: false\n",
      "  experiment_id: 82d61c0b22294d8a82cc5fe6cb792121\n",
      "  hostname: anish-l5-kit\n",
      "  iterations_since_restore: 4\n",
      "  loss: 3.0071396827697754\n",
      "  node_ip: 10.150.0.3\n",
      "  pid: 20344\n",
      "  should_checkpoint: true\n",
      "  time_since_restore: 34.74055457115173\n",
      "  time_this_iter_s: 5.104713678359985\n",
      "  time_total_s: 34.74055457115173\n",
      "  timestamp: 1662615390\n",
      "  timesteps_since_restore: 0\n",
      "  training_iteration: 4\n",
      "  trial_id: f32107e8\n",
      "  warmup_time: 0.006804943084716797\n",
      "  \n"
     ]
    },
    {
     "name": "stderr",
     "output_type": "stream",
     "text": [
      "\u001b[34m\u001b[1mwandb\u001b[0m: Adding directory to artifact (/home/jupyter/ray_results/TorchTrainer_2022-09-08_05-18-50/TorchTrainer_f32107e8_21_batch_size=6.0000,format_version=4,future_num_frames=12,history_num_frames=0,model_architecture=resnet50,_2022-09-08_05-35-51/checkpoint_000003)... Done. 1.0s\n"
     ]
    },
    {
     "name": "stdout",
     "output_type": "stream",
     "text": [
      "\u001b[2m\u001b[36m(RayTrainWorker pid=20490)\u001b[0m {'loss': 3.944519519805908, 'avg_loss': 8.27955141067505}\n"
     ]
    },
    {
     "name": "stderr",
     "output_type": "stream",
     "text": [
      "\u001b[34m\u001b[1mwandb\u001b[0m: Adding directory to artifact (/home/jupyter/ray_results/TorchTrainer_2022-09-08_05-18-50/TorchTrainer_f32107e8_21_batch_size=6.0000,format_version=4,future_num_frames=12,history_num_frames=0,model_architecture=resnet50,_2022-09-08_05-35-51/checkpoint_000004)... Done. 1.0s\n",
      "\u001b[34m\u001b[1mwandb\u001b[0m: Adding directory to artifact (/home/jupyter/ray_results/TorchTrainer_2022-09-08_05-18-50/TorchTrainer_f32107e8_21_batch_size=6.0000,format_version=4,future_num_frames=12,history_num_frames=0,model_architecture=resnet50,_2022-09-08_05-35-51/checkpoint_000004)... Done. 0.3s\n"
     ]
    },
    {
     "data": {
      "text/html": [
       "Waiting for W&B process to finish... <strong style=\"color:green\">(success).</strong>"
      ],
      "text/plain": [
       "<IPython.core.display.HTML object>"
      ]
     },
     "metadata": {},
     "output_type": "display_data"
    },
    {
     "name": "stdout",
     "output_type": "stream",
     "text": [
      "\u001b[2m\u001b[36m(RayTrainWorker pid=20497)\u001b[0m {'loss': 4.8252387046813965, 'avg_loss': 10.699658234914144}\n"
     ]
    },
    {
     "data": {
      "application/vnd.jupyter.widget-view+json": {
       "model_id": "55d1fb56a91d4cc28a5db937635f18cb",
       "version_major": 2,
       "version_minor": 0
      },
      "text/plain": [
       "VBox(children=(Label(value='452.176 MB of 452.176 MB uploaded (90.296 MB deduped)\\r'), FloatProgress(value=1.0…"
      ]
     },
     "metadata": {},
     "output_type": "display_data"
    },
    {
     "data": {
      "text/html": [
       "W&B sync reduced upload amount by 20.0%             "
      ],
      "text/plain": [
       "<IPython.core.display.HTML object>"
      ]
     },
     "metadata": {},
     "output_type": "display_data"
    },
    {
     "data": {
      "text/html": [
       "<style>\n",
       "    table.wandb td:nth-child(1) { padding: 0 10px; text-align: left ; width: auto;} td:nth-child(2) {text-align: left ; width: 100%}\n",
       "    .wandb-row { display: flex; flex-direction: row; flex-wrap: wrap; justify-content: flex-start; width: 100% }\n",
       "    .wandb-col { display: flex; flex-direction: column; flex-basis: 100%; flex: 1; padding: 10px; }\n",
       "    </style>\n",
       "<div class=\"wandb-row\"><div class=\"wandb-col\"><h3>Run history:</h3><br/><table class=\"wandb\"><tr><td>avg_loss</td><td>█▄▃▂▁</td></tr><tr><td>iterations_since_restore</td><td>▁▃▅▆█</td></tr><tr><td>loss</td><td>█▂▄▁▁</td></tr><tr><td>time_since_restore</td><td>▁▃▅▆█</td></tr><tr><td>time_this_iter_s</td><td>█▁▁▁▁</td></tr><tr><td>time_total_s</td><td>▁▃▅▆█</td></tr><tr><td>timestamp</td><td>▁▃▅▆█</td></tr><tr><td>timesteps_since_restore</td><td>▁▁▁▁▁</td></tr><tr><td>training_iteration</td><td>▁▃▅▆█</td></tr><tr><td>warmup_time</td><td>▁▁▁▁▁</td></tr></table><br/></div><div class=\"wandb-col\"><h3>Run summary:</h3><br/><table class=\"wandb\"><tr><td>avg_loss</td><td>8.27955</td></tr><tr><td>iterations_since_restore</td><td>5</td></tr><tr><td>loss</td><td>3.94452</td></tr><tr><td>time_since_restore</td><td>39.74283</td></tr><tr><td>time_this_iter_s</td><td>5.00227</td></tr><tr><td>time_total_s</td><td>39.74283</td></tr><tr><td>timestamp</td><td>1662615395</td></tr><tr><td>timesteps_since_restore</td><td>0</td></tr><tr><td>training_iteration</td><td>5</td></tr><tr><td>warmup_time</td><td>0.0068</td></tr></table><br/></div></div>"
      ],
      "text/plain": [
       "<IPython.core.display.HTML object>"
      ]
     },
     "metadata": {},
     "output_type": "display_data"
    },
    {
     "data": {
      "text/html": [
       "Synced <strong style=\"color:#cdcd00\">TorchTrainer_f32107e8</strong>: <a href=\"https://wandb.ai/l5-demo/l5-planning-trials/runs/f32107e8\" target=\"_blank\">https://wandb.ai/l5-demo/l5-planning-trials/runs/f32107e8</a><br/>Synced 7 W&B file(s), 0 media file(s), 12 artifact file(s) and 1 other file(s)"
      ],
      "text/plain": [
       "<IPython.core.display.HTML object>"
      ]
     },
     "metadata": {},
     "output_type": "display_data"
    },
    {
     "data": {
      "text/html": [
       "Find logs at: <code>./wandb/run-20220908_053551-f32107e8/logs</code>"
      ],
      "text/plain": [
       "<IPython.core.display.HTML object>"
      ]
     },
     "metadata": {},
     "output_type": "display_data"
    },
    {
     "name": "stdout",
     "output_type": "stream",
     "text": [
      "Result for TorchTrainer_f32107e8:\n",
      "  _time_this_iter_s: 4.963345766067505\n",
      "  _timestamp: 1662615394\n",
      "  _training_iteration: 5\n",
      "  avg_loss: 8.27955141067505\n",
      "  date: 2022-09-08_05-36-35\n",
      "  done: true\n",
      "  experiment_id: 82d61c0b22294d8a82cc5fe6cb792121\n",
      "  experiment_tag: 21_batch_size=6.0000,format_version=4,future_num_frames=12,history_num_frames=0,model_architecture=resnet50,render_ego_history=True,step_time=0.1000,dataset_meta_key=meta_json,disable_traffic_light_faces=False,ego_center=0_25_0_5,filter_agents_threshold=0.5000,map_type=py_satellite,pixel_size=0_5_0_5,raster_size=224_224,satellite_map_key=aerial_map_aerial_map_png,semantic_map_key=semantic_map_semantic_map_pb,set_origin_to_bottom=True,batch_size=12,key=scenes_sample_zarr,num_workers=16,perturb_probability=0.5000,shuffle=True,checkpoint_every_n_steps=10000,eval_every_n_steps=10000,max_num_steps=5,batch_size=12,key=scenes_sample_zarr,num_workers=16,shuffle=False,dataset_key=scenes_sample_zarr,lr=0.0007,max_num_steps=5,num_workers=4,perturb_probability=0.5000,shuffle=True\n",
      "  hostname: anish-l5-kit\n",
      "  iterations_since_restore: 5\n",
      "  loss: 3.944519519805908\n",
      "  node_ip: 10.150.0.3\n",
      "  pid: 20344\n",
      "  should_checkpoint: true\n",
      "  time_since_restore: 39.74282908439636\n",
      "  time_this_iter_s: 5.002274513244629\n",
      "  time_total_s: 39.74282908439636\n",
      "  timestamp: 1662615395\n",
      "  timesteps_since_restore: 0\n",
      "  training_iteration: 5\n",
      "  trial_id: f32107e8\n",
      "  warmup_time: 0.006804943084716797\n",
      "  \n"
     ]
    },
    {
     "name": "stderr",
     "output_type": "stream",
     "text": [
      "\u001b[34m\u001b[1mwandb\u001b[0m: Adding directory to artifact (/home/jupyter/ray_results/TorchTrainer_2022-09-08_05-18-50/TorchTrainer_19844d6e_22_batch_size=12.0000,format_version=4,future_num_frames=12,history_num_frames=0,model_architecture=resnet50_2022-09-08_05-35-51/checkpoint_000002)... "
     ]
    },
    {
     "name": "stdout",
     "output_type": "stream",
     "text": [
      "Result for TorchTrainer_19844d6e:\n",
      "  _time_this_iter_s: 9.012226343154907\n",
      "  _timestamp: 1662615397\n",
      "  _training_iteration: 3\n",
      "  avg_loss: 10.699658234914144\n",
      "  date: 2022-09-08_05-36-37\n",
      "  done: false\n",
      "  experiment_id: b61eae6f290a4823a80575937c7f845c\n",
      "  hostname: anish-l5-kit\n",
      "  iterations_since_restore: 3\n",
      "  loss: 4.8252387046813965\n",
      "  node_ip: 10.150.0.3\n",
      "  pid: 20378\n",
      "  should_checkpoint: true\n",
      "  time_since_restore: 41.37596249580383\n",
      "  time_this_iter_s: 8.96556305885315\n",
      "  time_total_s: 41.37596249580383\n",
      "  timestamp: 1662615397\n",
      "  timesteps_since_restore: 0\n",
      "  training_iteration: 3\n",
      "  trial_id: 19844d6e\n",
      "  warmup_time: 0.010516166687011719\n",
      "  \n"
     ]
    },
    {
     "name": "stderr",
     "output_type": "stream",
     "text": [
      "Done. 1.0s\n"
     ]
    },
    {
     "name": "stdout",
     "output_type": "stream",
     "text": [
      "\u001b[2m\u001b[36m(RayTrainWorker pid=20497)\u001b[0m {'loss': 8.904004096984863, 'avg_loss': 10.250744700431824}\n"
     ]
    },
    {
     "name": "stderr",
     "output_type": "stream",
     "text": [
      "\u001b[34m\u001b[1mwandb\u001b[0m: Adding directory to artifact (/home/jupyter/ray_results/TorchTrainer_2022-09-08_05-18-50/TorchTrainer_19844d6e_22_batch_size=12.0000,format_version=4,future_num_frames=12,history_num_frames=0,model_architecture=resnet50_2022-09-08_05-35-51/checkpoint_000003)... Done. 1.2s\n",
      "\u001b[2m\u001b[36m(RayTrainWorker pid=21555)\u001b[0m 2022-09-08 05:36:52,512\tINFO config.py:72 -- Setting up process group for: env:// [rank=0, world_size=1]\n"
     ]
    },
    {
     "name": "stdout",
     "output_type": "stream",
     "text": [
      "\u001b[2m\u001b[36m(RayTrainWorker pid=20497)\u001b[0m {'loss': 11.967046737670898, 'avg_loss': 10.594005107879639}\n",
      "Result for TorchTrainer_19844d6e:\n",
      "  _time_this_iter_s: 10.196188688278198\n",
      "  _timestamp: 1662615415\n",
      "  _training_iteration: 5\n",
      "  avg_loss: 10.594005107879639\n",
      "  date: 2022-09-08_05-36-56\n",
      "  done: false\n",
      "  experiment_id: b61eae6f290a4823a80575937c7f845c\n",
      "  hostname: anish-l5-kit\n",
      "  iterations_since_restore: 5\n",
      "  loss: 11.967046737670898\n",
      "  node_ip: 10.150.0.3\n",
      "  pid: 20378\n",
      "  should_checkpoint: true\n",
      "  time_since_restore: 59.6180145740509\n",
      "  time_this_iter_s: 10.068226099014282\n",
      "  time_total_s: 59.6180145740509\n",
      "  timestamp: 1662615416\n",
      "  timesteps_since_restore: 0\n",
      "  training_iteration: 5\n",
      "  trial_id: 19844d6e\n",
      "  warmup_time: 0.010516166687011719\n",
      "  \n"
     ]
    },
    {
     "name": "stderr",
     "output_type": "stream",
     "text": [
      "\u001b[34m\u001b[1mwandb\u001b[0m: Adding directory to artifact (/home/jupyter/ray_results/TorchTrainer_2022-09-08_05-18-50/TorchTrainer_19844d6e_22_batch_size=12.0000,format_version=4,future_num_frames=12,history_num_frames=0,model_architecture=resnet50_2022-09-08_05-35-51/checkpoint_000004)... Done. 1.2s\n",
      "\u001b[34m\u001b[1mwandb\u001b[0m: Adding directory to artifact (/home/jupyter/ray_results/TorchTrainer_2022-09-08_05-18-50/TorchTrainer_19844d6e_22_batch_size=12.0000,format_version=4,future_num_frames=12,history_num_frames=0,model_architecture=resnet50_2022-09-08_05-35-51/checkpoint_000004)... \u001b[2m\u001b[36m(RayTrainWorker pid=21555)\u001b[0m /opt/conda/lib/python3.7/site-packages/l5kit/planning/rasterized/model.py:31: UserWarning: There is no pre-trained model with num_in_channels != 3, first layer will be reset\n",
      "\u001b[2m\u001b[36m(RayTrainWorker pid=21555)\u001b[0m   warnings.warn(\"There is no pre-trained model with num_in_channels != 3, first layer will be reset\")\n",
      "\u001b[2m\u001b[36m(RayTrainWorker pid=21555)\u001b[0m /opt/conda/lib/python3.7/site-packages/torchvision/models/_utils.py:209: UserWarning: The parameter 'pretrained' is deprecated since 0.13 and will be removed in 0.15, please use 'weights' instead.\n",
      "\u001b[2m\u001b[36m(RayTrainWorker pid=21555)\u001b[0m   f\"The parameter '{pretrained_param}' is deprecated since 0.13 and will be removed in 0.15, \"\n",
      "\u001b[2m\u001b[36m(RayTrainWorker pid=21555)\u001b[0m /opt/conda/lib/python3.7/site-packages/torchvision/models/_utils.py:223: UserWarning: Arguments other than a weight enum or `None` for 'weights' are deprecated since 0.13 and will be removed in 0.15. The current behavior is equivalent to passing `weights=ResNet50_Weights.IMAGENET1K_V1`. You can also use `weights=ResNet50_Weights.DEFAULT` to get the most up-to-date weights.\n",
      "\u001b[2m\u001b[36m(RayTrainWorker pid=21555)\u001b[0m   warnings.warn(msg)\n",
      "Done. 0.4s\n"
     ]
    },
    {
     "data": {
      "text/html": [
       "Waiting for W&B process to finish... <strong style=\"color:green\">(success).</strong>"
      ],
      "text/plain": [
       "<IPython.core.display.HTML object>"
      ]
     },
     "metadata": {},
     "output_type": "display_data"
    },
    {
     "name": "stderr",
     "output_type": "stream",
     "text": [
      "\u001b[2m\u001b[36m(RayTrainWorker pid=21555)\u001b[0m 2022-09-08 05:36:58,041\tINFO train_loop_utils.py:300 -- Moving model to device: cpu\n"
     ]
    },
    {
     "data": {
      "application/vnd.jupyter.widget-view+json": {
       "model_id": "ad6a47277c2a47d0b6fd38b10a8d8c22",
       "version_major": 2,
       "version_minor": 0
      },
      "text/plain": [
       "VBox(children=(Label(value='452.176 MB of 452.176 MB uploaded (90.296 MB deduped)\\r'), FloatProgress(value=1.0…"
      ]
     },
     "metadata": {},
     "output_type": "display_data"
    },
    {
     "data": {
      "text/html": [
       "W&B sync reduced upload amount by 20.0%             "
      ],
      "text/plain": [
       "<IPython.core.display.HTML object>"
      ]
     },
     "metadata": {},
     "output_type": "display_data"
    },
    {
     "data": {
      "text/html": [
       "<style>\n",
       "    table.wandb td:nth-child(1) { padding: 0 10px; text-align: left ; width: auto;} td:nth-child(2) {text-align: left ; width: 100%}\n",
       "    .wandb-row { display: flex; flex-direction: row; flex-wrap: wrap; justify-content: flex-start; width: 100% }\n",
       "    .wandb-col { display: flex; flex-direction: column; flex-basis: 100%; flex: 1; padding: 10px; }\n",
       "    </style>\n",
       "<div class=\"wandb-row\"><div class=\"wandb-col\"><h3>Run history:</h3><br/><table class=\"wandb\"><tr><td>avg_loss</td><td>▆█▂▁▂</td></tr><tr><td>iterations_since_restore</td><td>▁▃▅▆█</td></tr><tr><td>loss</td><td>▇█▁▄▆</td></tr><tr><td>time_since_restore</td><td>▁▃▄▆█</td></tr><tr><td>time_this_iter_s</td><td>█▂▁▁▂</td></tr><tr><td>time_total_s</td><td>▁▃▄▆█</td></tr><tr><td>timestamp</td><td>▁▃▄▆█</td></tr><tr><td>timesteps_since_restore</td><td>▁▁▁▁▁</td></tr><tr><td>training_iteration</td><td>▁▃▅▆█</td></tr><tr><td>warmup_time</td><td>▁▁▁▁▁</td></tr></table><br/></div><div class=\"wandb-col\"><h3>Run summary:</h3><br/><table class=\"wandb\"><tr><td>avg_loss</td><td>10.59401</td></tr><tr><td>iterations_since_restore</td><td>5</td></tr><tr><td>loss</td><td>11.96705</td></tr><tr><td>time_since_restore</td><td>59.61801</td></tr><tr><td>time_this_iter_s</td><td>10.06823</td></tr><tr><td>time_total_s</td><td>59.61801</td></tr><tr><td>timestamp</td><td>1662615416</td></tr><tr><td>timesteps_since_restore</td><td>0</td></tr><tr><td>training_iteration</td><td>5</td></tr><tr><td>warmup_time</td><td>0.01052</td></tr></table><br/></div></div>"
      ],
      "text/plain": [
       "<IPython.core.display.HTML object>"
      ]
     },
     "metadata": {},
     "output_type": "display_data"
    },
    {
     "data": {
      "text/html": [
       "Synced <strong style=\"color:#cdcd00\">TorchTrainer_19844d6e</strong>: <a href=\"https://wandb.ai/l5-demo/l5-planning-trials/runs/19844d6e\" target=\"_blank\">https://wandb.ai/l5-demo/l5-planning-trials/runs/19844d6e</a><br/>Synced 7 W&B file(s), 0 media file(s), 12 artifact file(s) and 1 other file(s)"
      ],
      "text/plain": [
       "<IPython.core.display.HTML object>"
      ]
     },
     "metadata": {},
     "output_type": "display_data"
    },
    {
     "data": {
      "text/html": [
       "Find logs at: <code>./wandb/run-20220908_053551-19844d6e/logs</code>"
      ],
      "text/plain": [
       "<IPython.core.display.HTML object>"
      ]
     },
     "metadata": {},
     "output_type": "display_data"
    },
    {
     "name": "stdout",
     "output_type": "stream",
     "text": [
      "Result for TorchTrainer_19844d6e:\n",
      "  _time_this_iter_s: 10.196188688278198\n",
      "  _timestamp: 1662615415\n",
      "  _training_iteration: 5\n",
      "  avg_loss: 10.594005107879639\n",
      "  date: 2022-09-08_05-36-56\n",
      "  done: true\n",
      "  experiment_id: b61eae6f290a4823a80575937c7f845c\n",
      "  experiment_tag: 22_batch_size=12.0000,format_version=4,future_num_frames=12,history_num_frames=0,model_architecture=resnet50,render_ego_history=True,step_time=0.1000,dataset_meta_key=meta_json,disable_traffic_light_faces=False,ego_center=0_25_0_5,filter_agents_threshold=0.5000,map_type=py_satellite,pixel_size=0_5_0_5,raster_size=224_224,satellite_map_key=aerial_map_aerial_map_png,semantic_map_key=semantic_map_semantic_map_pb,set_origin_to_bottom=True,batch_size=12,key=scenes_sample_zarr,num_workers=16,perturb_probability=0.5000,shuffle=True,checkpoint_every_n_steps=10000,eval_every_n_steps=10000,max_num_steps=5,batch_size=12,key=scenes_sample_zarr,num_workers=16,shuffle=False,dataset_key=scenes_sample_zarr,lr=0.0049,max_num_steps=5,num_workers=4,perturb_probability=0.5000,shuffle=True\n",
      "  hostname: anish-l5-kit\n",
      "  iterations_since_restore: 5\n",
      "  loss: 11.967046737670898\n",
      "  node_ip: 10.150.0.3\n",
      "  pid: 20378\n",
      "  should_checkpoint: true\n",
      "  time_since_restore: 59.6180145740509\n",
      "  time_this_iter_s: 10.068226099014282\n",
      "  time_total_s: 59.6180145740509\n",
      "  timestamp: 1662615416\n",
      "  timesteps_since_restore: 0\n",
      "  training_iteration: 5\n",
      "  trial_id: 19844d6e\n",
      "  warmup_time: 0.010516166687011719\n",
      "  \n",
      "\u001b[2m\u001b[36m(RayTrainWorker pid=21555)\u001b[0m {'loss': 12.127396583557129, 'avg_loss': 12.127396583557129}\n"
     ]
    },
    {
     "name": "stderr",
     "output_type": "stream",
     "text": [
      "\u001b[34m\u001b[1mwandb\u001b[0m: Adding directory to artifact (/home/jupyter/ray_results/TorchTrainer_2022-09-08_05-18-50/TorchTrainer_19e3435a_23_batch_size=12.0000,format_version=4,future_num_frames=12,history_num_frames=0,model_architecture=resnet50_2022-09-08_05-36-44/checkpoint_000000)... "
     ]
    },
    {
     "name": "stdout",
     "output_type": "stream",
     "text": [
      "Result for TorchTrainer_19e3435a:\n",
      "  _time_this_iter_s: 15.565674304962158\n",
      "  _timestamp: 1662615428\n",
      "  _training_iteration: 1\n",
      "  avg_loss: 12.127396583557129\n",
      "  date: 2022-09-08_05-37-09\n",
      "  done: false\n",
      "  experiment_id: 2c8fbcda7aba4b7988d4da1d4f1b34c7\n",
      "  hostname: anish-l5-kit\n",
      "  iterations_since_restore: 1\n",
      "  loss: 12.127396583557129\n",
      "  node_ip: 10.150.0.3\n",
      "  pid: 21458\n",
      "  should_checkpoint: true\n",
      "  time_since_restore: 19.993744134902954\n",
      "  time_this_iter_s: 19.993744134902954\n",
      "  time_total_s: 19.993744134902954\n",
      "  timestamp: 1662615429\n",
      "  timesteps_since_restore: 0\n",
      "  training_iteration: 1\n",
      "  trial_id: 19e3435a\n",
      "  warmup_time: 0.018710851669311523\n",
      "  \n"
     ]
    },
    {
     "name": "stderr",
     "output_type": "stream",
     "text": [
      "Done. 2.3s\n",
      "\u001b[2m\u001b[36m(RayTrainWorker pid=22357)\u001b[0m 2022-09-08 05:37:14,176\tINFO config.py:72 -- Setting up process group for: env:// [rank=0, world_size=1]\n"
     ]
    },
    {
     "name": "stdout",
     "output_type": "stream",
     "text": [
      "\u001b[2m\u001b[36m(RayTrainWorker pid=21555)\u001b[0m {'loss': 16.253801345825195, 'avg_loss': 14.190598964691162}\n"
     ]
    },
    {
     "name": "stderr",
     "output_type": "stream",
     "text": [
      "\u001b[34m\u001b[1mwandb\u001b[0m: Adding directory to artifact (/home/jupyter/ray_results/TorchTrainer_2022-09-08_05-18-50/TorchTrainer_19e3435a_23_batch_size=12.0000,format_version=4,future_num_frames=12,history_num_frames=0,model_architecture=resnet50_2022-09-08_05-36-44/checkpoint_000001)... "
     ]
    },
    {
     "name": "stdout",
     "output_type": "stream",
     "text": [
      "Result for TorchTrainer_19e3435a:\n",
      "  _time_this_iter_s: 10.617517709732056\n",
      "  _timestamp: 1662615439\n",
      "  _training_iteration: 2\n",
      "  avg_loss: 14.190598964691162\n",
      "  date: 2022-09-08_05-37-19\n",
      "  done: false\n",
      "  experiment_id: 2c8fbcda7aba4b7988d4da1d4f1b34c7\n",
      "  hostname: anish-l5-kit\n",
      "  iterations_since_restore: 2\n",
      "  loss: 16.253801345825195\n",
      "  node_ip: 10.150.0.3\n",
      "  pid: 21458\n",
      "  should_checkpoint: true\n",
      "  time_since_restore: 30.471387147903442\n",
      "  time_this_iter_s: 10.477643013000488\n",
      "  time_total_s: 30.471387147903442\n",
      "  timestamp: 1662615439\n",
      "  timesteps_since_restore: 0\n",
      "  training_iteration: 2\n",
      "  trial_id: 19e3435a\n",
      "  warmup_time: 0.018710851669311523\n",
      "  \n"
     ]
    },
    {
     "name": "stderr",
     "output_type": "stream",
     "text": [
      "\u001b[2m\u001b[36m(RayTrainWorker pid=22357)\u001b[0m /opt/conda/lib/python3.7/site-packages/l5kit/planning/rasterized/model.py:31: UserWarning: There is no pre-trained model with num_in_channels != 3, first layer will be reset\n",
      "\u001b[2m\u001b[36m(RayTrainWorker pid=22357)\u001b[0m   warnings.warn(\"There is no pre-trained model with num_in_channels != 3, first layer will be reset\")\n",
      "\u001b[2m\u001b[36m(RayTrainWorker pid=22357)\u001b[0m /opt/conda/lib/python3.7/site-packages/torchvision/models/_utils.py:209: UserWarning: The parameter 'pretrained' is deprecated since 0.13 and will be removed in 0.15, please use 'weights' instead.\n",
      "\u001b[2m\u001b[36m(RayTrainWorker pid=22357)\u001b[0m   f\"The parameter '{pretrained_param}' is deprecated since 0.13 and will be removed in 0.15, \"\n",
      "\u001b[2m\u001b[36m(RayTrainWorker pid=22357)\u001b[0m /opt/conda/lib/python3.7/site-packages/torchvision/models/_utils.py:223: UserWarning: Arguments other than a weight enum or `None` for 'weights' are deprecated since 0.13 and will be removed in 0.15. The current behavior is equivalent to passing `weights=ResNet50_Weights.IMAGENET1K_V1`. You can also use `weights=ResNet50_Weights.DEFAULT` to get the most up-to-date weights.\n",
      "\u001b[2m\u001b[36m(RayTrainWorker pid=22357)\u001b[0m   warnings.warn(msg)\n",
      "Done. 1.0s\n",
      "\u001b[2m\u001b[36m(RayTrainWorker pid=22357)\u001b[0m 2022-09-08 05:37:20,418\tINFO train_loop_utils.py:300 -- Moving model to device: cpu\n"
     ]
    },
    {
     "name": "stdout",
     "output_type": "stream",
     "text": [
      "\u001b[2m\u001b[36m(RayTrainWorker pid=22357)\u001b[0m {'loss': 21.612876892089844, 'avg_loss': 21.612876892089844}\n"
     ]
    },
    {
     "name": "stderr",
     "output_type": "stream",
     "text": [
      "\u001b[34m\u001b[1mwandb\u001b[0m: Adding directory to artifact (/home/jupyter/ray_results/TorchTrainer_2022-09-08_05-18-50/TorchTrainer_39689a2c_24_batch_size=6.0000,format_version=4,future_num_frames=12,history_num_frames=0,model_architecture=resnet50,_2022-09-08_05-37-06/checkpoint_000000)... "
     ]
    },
    {
     "name": "stdout",
     "output_type": "stream",
     "text": [
      "Result for TorchTrainer_39689a2c:\n",
      "  _time_this_iter_s: 10.851271152496338\n",
      "  _timestamp: 1662615445\n",
      "  _training_iteration: 1\n",
      "  avg_loss: 21.612876892089844\n",
      "  date: 2022-09-08_05-37-26\n",
      "  done: false\n",
      "  experiment_id: 4fc076d0b78a49c48627d9ca8dd2fb36\n",
      "  hostname: anish-l5-kit\n",
      "  iterations_since_restore: 1\n",
      "  loss: 21.612876892089844\n",
      "  node_ip: 10.150.0.3\n",
      "  pid: 22267\n",
      "  should_checkpoint: true\n",
      "  time_since_restore: 15.322520971298218\n",
      "  time_this_iter_s: 15.322520971298218\n",
      "  time_total_s: 15.322520971298218\n",
      "  timestamp: 1662615446\n",
      "  timesteps_since_restore: 0\n",
      "  training_iteration: 1\n",
      "  trial_id: 39689a2c\n",
      "  warmup_time: 0.00509190559387207\n",
      "  \n"
     ]
    },
    {
     "name": "stderr",
     "output_type": "stream",
     "text": [
      "Done. 1.2s\n"
     ]
    },
    {
     "name": "stdout",
     "output_type": "stream",
     "text": [
      "\u001b[2m\u001b[36m(RayTrainWorker pid=21555)\u001b[0m {'loss': 8.477602005004883, 'avg_loss': 12.286266644795736}\n"
     ]
    },
    {
     "name": "stderr",
     "output_type": "stream",
     "text": [
      "\u001b[34m\u001b[1mwandb\u001b[0m: Adding directory to artifact (/home/jupyter/ray_results/TorchTrainer_2022-09-08_05-18-50/TorchTrainer_19e3435a_23_batch_size=12.0000,format_version=4,future_num_frames=12,history_num_frames=0,model_architecture=resnet50_2022-09-08_05-36-44/checkpoint_000002)... "
     ]
    },
    {
     "name": "stdout",
     "output_type": "stream",
     "text": [
      "Result for TorchTrainer_19e3435a:\n",
      "  _time_this_iter_s: 9.171177864074707\n",
      "  _timestamp: 1662615448\n",
      "  _training_iteration: 3\n",
      "  avg_loss: 12.286266644795736\n",
      "  date: 2022-09-08_05-37-28\n",
      "  done: false\n",
      "  experiment_id: 2c8fbcda7aba4b7988d4da1d4f1b34c7\n",
      "  hostname: anish-l5-kit\n",
      "  iterations_since_restore: 3\n",
      "  loss: 8.477602005004883\n",
      "  node_ip: 10.150.0.3\n",
      "  pid: 21458\n",
      "  should_checkpoint: true\n",
      "  time_since_restore: 39.649136543273926\n",
      "  time_this_iter_s: 9.177749395370483\n",
      "  time_total_s: 39.649136543273926\n",
      "  timestamp: 1662615448\n",
      "  timesteps_since_restore: 0\n",
      "  training_iteration: 3\n",
      "  trial_id: 19e3435a\n",
      "  warmup_time: 0.018710851669311523\n",
      "  \n"
     ]
    },
    {
     "name": "stderr",
     "output_type": "stream",
     "text": [
      "Done. 1.0s\n"
     ]
    },
    {
     "name": "stdout",
     "output_type": "stream",
     "text": [
      "\u001b[2m\u001b[36m(RayTrainWorker pid=22357)\u001b[0m {'loss': 7.317259788513184, 'avg_loss': 14.465068340301514}\n",
      "Result for TorchTrainer_39689a2c:\n",
      "  _time_this_iter_s: 5.445980072021484\n",
      "  _timestamp: 1662615451\n",
      "  _training_iteration: 2\n",
      "  avg_loss: 14.465068340301514\n",
      "  date: 2022-09-08_05-37-31\n",
      "  done: false\n",
      "  experiment_id: 4fc076d0b78a49c48627d9ca8dd2fb36\n",
      "  hostname: anish-l5-kit\n",
      "  iterations_since_restore: 2\n",
      "  loss: 7.317259788513184\n",
      "  node_ip: 10.150.0.3\n",
      "  pid: 22267\n",
      "  should_checkpoint: true\n",
      "  time_since_restore: 20.720855951309204\n",
      "  time_this_iter_s: 5.398334980010986\n",
      "  time_total_s: 20.720855951309204\n",
      "  timestamp: 1662615451\n",
      "  timesteps_since_restore: 0\n",
      "  training_iteration: 2\n",
      "  trial_id: 39689a2c\n",
      "  warmup_time: 0.00509190559387207\n",
      "  \n"
     ]
    },
    {
     "name": "stderr",
     "output_type": "stream",
     "text": [
      "\u001b[34m\u001b[1mwandb\u001b[0m: Adding directory to artifact (/home/jupyter/ray_results/TorchTrainer_2022-09-08_05-18-50/TorchTrainer_39689a2c_24_batch_size=6.0000,format_version=4,future_num_frames=12,history_num_frames=0,model_architecture=resnet50,_2022-09-08_05-37-06/checkpoint_000001)... Done. 1.0s\n"
     ]
    },
    {
     "name": "stdout",
     "output_type": "stream",
     "text": [
      "\u001b[2m\u001b[36m(RayTrainWorker pid=22357)\u001b[0m {'loss': 16.19473648071289, 'avg_loss': 15.041624387105307}\n"
     ]
    },
    {
     "name": "stderr",
     "output_type": "stream",
     "text": [
      "\u001b[34m\u001b[1mwandb\u001b[0m: Adding directory to artifact (/home/jupyter/ray_results/TorchTrainer_2022-09-08_05-18-50/TorchTrainer_39689a2c_24_batch_size=6.0000,format_version=4,future_num_frames=12,history_num_frames=0,model_architecture=resnet50,_2022-09-08_05-37-06/checkpoint_000002)... "
     ]
    },
    {
     "name": "stdout",
     "output_type": "stream",
     "text": [
      "\u001b[2m\u001b[36m(RayTrainWorker pid=21555)\u001b[0m {'loss': 4.94487190246582, 'avg_loss': 10.450917959213257}\n"
     ]
    },
    {
     "name": "stderr",
     "output_type": "stream",
     "text": [
      "Done. 1.0s\n"
     ]
    },
    {
     "name": "stdout",
     "output_type": "stream",
     "text": [
      "Result for TorchTrainer_19e3435a:\n",
      "  _time_this_iter_s: 9.026799440383911\n",
      "  _timestamp: 1662615457\n",
      "  _training_iteration: 4\n",
      "  avg_loss: 10.450917959213257\n",
      "  date: 2022-09-08_05-37-37\n",
      "  done: false\n",
      "  experiment_id: 2c8fbcda7aba4b7988d4da1d4f1b34c7\n",
      "  hostname: anish-l5-kit\n",
      "  iterations_since_restore: 4\n",
      "  loss: 4.94487190246582\n",
      "  node_ip: 10.150.0.3\n",
      "  pid: 21458\n",
      "  should_checkpoint: true\n",
      "  time_since_restore: 48.71517324447632\n",
      "  time_this_iter_s: 9.066036701202393\n",
      "  time_total_s: 48.71517324447632\n",
      "  timestamp: 1662615457\n",
      "  timesteps_since_restore: 0\n",
      "  training_iteration: 4\n",
      "  trial_id: 19e3435a\n",
      "  warmup_time: 0.018710851669311523\n",
      "  \n"
     ]
    },
    {
     "name": "stderr",
     "output_type": "stream",
     "text": [
      "\u001b[34m\u001b[1mwandb\u001b[0m: Adding directory to artifact (/home/jupyter/ray_results/TorchTrainer_2022-09-08_05-18-50/TorchTrainer_19e3435a_23_batch_size=12.0000,format_version=4,future_num_frames=12,history_num_frames=0,model_architecture=resnet50_2022-09-08_05-36-44/checkpoint_000003)... Done. 1.0s\n"
     ]
    },
    {
     "name": "stdout",
     "output_type": "stream",
     "text": [
      "\u001b[2m\u001b[36m(RayTrainWorker pid=22357)\u001b[0m {'loss': 8.221229553222656, 'avg_loss': 13.336525678634644}\n"
     ]
    },
    {
     "name": "stderr",
     "output_type": "stream",
     "text": [
      "\u001b[34m\u001b[1mwandb\u001b[0m: Adding directory to artifact (/home/jupyter/ray_results/TorchTrainer_2022-09-08_05-18-50/TorchTrainer_39689a2c_24_batch_size=6.0000,format_version=4,future_num_frames=12,history_num_frames=0,model_architecture=resnet50,_2022-09-08_05-37-06/checkpoint_000003)... "
     ]
    },
    {
     "name": "stdout",
     "output_type": "stream",
     "text": [
      "Result for TorchTrainer_39689a2c:\n",
      "  _time_this_iter_s: 5.254847049713135\n",
      "  _timestamp: 1662615461\n",
      "  _training_iteration: 4\n",
      "  avg_loss: 13.336525678634644\n",
      "  date: 2022-09-08_05-37-41\n",
      "  done: false\n",
      "  experiment_id: 4fc076d0b78a49c48627d9ca8dd2fb36\n",
      "  hostname: anish-l5-kit\n",
      "  iterations_since_restore: 4\n",
      "  loss: 8.221229553222656\n",
      "  node_ip: 10.150.0.3\n",
      "  pid: 22267\n",
      "  should_checkpoint: true\n",
      "  time_since_restore: 30.819172382354736\n",
      "  time_this_iter_s: 5.245149850845337\n",
      "  time_total_s: 30.819172382354736\n",
      "  timestamp: 1662615461\n",
      "  timesteps_since_restore: 0\n",
      "  training_iteration: 4\n",
      "  trial_id: 39689a2c\n",
      "  warmup_time: 0.00509190559387207\n",
      "  \n"
     ]
    },
    {
     "name": "stderr",
     "output_type": "stream",
     "text": [
      "Done. 1.5s\n"
     ]
    },
    {
     "name": "stdout",
     "output_type": "stream",
     "text": [
      "\u001b[2m\u001b[36m(RayTrainWorker pid=22357)\u001b[0m {'loss': 2.078657865524292, 'avg_loss': 11.084952116012573}\n",
      "\u001b[2m\u001b[36m(RayTrainWorker pid=21555)\u001b[0m {'loss': 5.814975261688232, 'avg_loss': 9.523729419708252}\n"
     ]
    },
    {
     "name": "stderr",
     "output_type": "stream",
     "text": [
      "\u001b[34m\u001b[1mwandb\u001b[0m: Adding directory to artifact (/home/jupyter/ray_results/TorchTrainer_2022-09-08_05-18-50/TorchTrainer_39689a2c_24_batch_size=6.0000,format_version=4,future_num_frames=12,history_num_frames=0,model_architecture=resnet50,_2022-09-08_05-37-06/checkpoint_000004)... Done. 2.3s\n",
      "\u001b[34m\u001b[1mwandb\u001b[0m: Adding directory to artifact (/home/jupyter/ray_results/TorchTrainer_2022-09-08_05-18-50/TorchTrainer_39689a2c_24_batch_size=6.0000,format_version=4,future_num_frames=12,history_num_frames=0,model_architecture=resnet50,_2022-09-08_05-37-06/checkpoint_000004)... Done. 0.3s\n"
     ]
    },
    {
     "data": {
      "text/html": [
       "Waiting for W&B process to finish... <strong style=\"color:green\">(success).</strong>"
      ],
      "text/plain": [
       "<IPython.core.display.HTML object>"
      ]
     },
     "metadata": {},
     "output_type": "display_data"
    },
    {
     "data": {
      "application/vnd.jupyter.widget-view+json": {
       "model_id": "d90ef6ae081b4190af0a3e6b3dbf2d14",
       "version_major": 2,
       "version_minor": 0
      },
      "text/plain": [
       "VBox(children=(Label(value='452.176 MB of 452.176 MB uploaded (90.296 MB deduped)\\r'), FloatProgress(value=1.0…"
      ]
     },
     "metadata": {},
     "output_type": "display_data"
    },
    {
     "data": {
      "text/html": [
       "W&B sync reduced upload amount by 20.0%             "
      ],
      "text/plain": [
       "<IPython.core.display.HTML object>"
      ]
     },
     "metadata": {},
     "output_type": "display_data"
    },
    {
     "name": "stdout",
     "output_type": "stream",
     "text": [
      "Result for TorchTrainer_39689a2c:\n",
      "  _time_this_iter_s: 4.8184614181518555\n",
      "  _timestamp: 1662615466\n",
      "  _training_iteration: 5\n",
      "  avg_loss: 11.084952116012573\n",
      "  date: 2022-09-08_05-37-46\n",
      "  done: true\n",
      "  experiment_id: 4fc076d0b78a49c48627d9ca8dd2fb36\n",
      "  experiment_tag: 24_batch_size=6.0000,format_version=4,future_num_frames=12,history_num_frames=0,model_architecture=resnet50,render_ego_history=True,step_time=0.1000,dataset_meta_key=meta_json,disable_traffic_light_faces=False,ego_center=0_25_0_5,filter_agents_threshold=0.5000,map_type=py_satellite,pixel_size=0_5_0_5,raster_size=224_224,satellite_map_key=aerial_map_aerial_map_png,semantic_map_key=semantic_map_semantic_map_pb,set_origin_to_bottom=True,batch_size=12,key=scenes_sample_zarr,num_workers=16,perturb_probability=0.5000,shuffle=True,checkpoint_every_n_steps=10000,eval_every_n_steps=10000,max_num_steps=5,batch_size=12,key=scenes_sample_zarr,num_workers=16,shuffle=False,dataset_key=scenes_sample_zarr,lr=0.0007,max_num_steps=5,num_workers=4,perturb_probability=0.5000,shuffle=True\n",
      "  hostname: anish-l5-kit\n",
      "  iterations_since_restore: 5\n",
      "  loss: 2.078657865524292\n",
      "  node_ip: 10.150.0.3\n",
      "  pid: 22267\n",
      "  should_checkpoint: true\n",
      "  time_since_restore: 35.68732762336731\n",
      "  time_this_iter_s: 4.868155241012573\n",
      "  time_total_s: 35.68732762336731\n",
      "  timestamp: 1662615466\n",
      "  timesteps_since_restore: 0\n",
      "  training_iteration: 5\n",
      "  trial_id: 39689a2c\n",
      "  warmup_time: 0.00509190559387207\n",
      "  \n"
     ]
    },
    {
     "name": "stderr",
     "output_type": "stream",
     "text": [
      "\u001b[34m\u001b[1mwandb\u001b[0m: Adding directory to artifact (/home/jupyter/ray_results/TorchTrainer_2022-09-08_05-18-50/TorchTrainer_19e3435a_23_batch_size=12.0000,format_version=4,future_num_frames=12,history_num_frames=0,model_architecture=resnet50_2022-09-08_05-36-44/checkpoint_000004)... "
     ]
    },
    {
     "data": {
      "text/html": [
       "<style>\n",
       "    table.wandb td:nth-child(1) { padding: 0 10px; text-align: left ; width: auto;} td:nth-child(2) {text-align: left ; width: 100%}\n",
       "    .wandb-row { display: flex; flex-direction: row; flex-wrap: wrap; justify-content: flex-start; width: 100% }\n",
       "    .wandb-col { display: flex; flex-direction: column; flex-basis: 100%; flex: 1; padding: 10px; }\n",
       "    </style>\n",
       "<div class=\"wandb-row\"><div class=\"wandb-col\"><h3>Run history:</h3><br/><table class=\"wandb\"><tr><td>avg_loss</td><td>█▃▄▂▁</td></tr><tr><td>iterations_since_restore</td><td>▁▃▅▆█</td></tr><tr><td>loss</td><td>█▃▆▃▁</td></tr><tr><td>time_since_restore</td><td>▁▃▅▆█</td></tr><tr><td>time_this_iter_s</td><td>█▁▁▁▁</td></tr><tr><td>time_total_s</td><td>▁▃▅▆█</td></tr><tr><td>timestamp</td><td>▁▃▅▆█</td></tr><tr><td>timesteps_since_restore</td><td>▁▁▁▁▁</td></tr><tr><td>training_iteration</td><td>▁▃▅▆█</td></tr><tr><td>warmup_time</td><td>▁▁▁▁▁</td></tr></table><br/></div><div class=\"wandb-col\"><h3>Run summary:</h3><br/><table class=\"wandb\"><tr><td>avg_loss</td><td>11.08495</td></tr><tr><td>iterations_since_restore</td><td>5</td></tr><tr><td>loss</td><td>2.07866</td></tr><tr><td>time_since_restore</td><td>35.68733</td></tr><tr><td>time_this_iter_s</td><td>4.86816</td></tr><tr><td>time_total_s</td><td>35.68733</td></tr><tr><td>timestamp</td><td>1662615466</td></tr><tr><td>timesteps_since_restore</td><td>0</td></tr><tr><td>training_iteration</td><td>5</td></tr><tr><td>warmup_time</td><td>0.00509</td></tr></table><br/></div></div>"
      ],
      "text/plain": [
       "<IPython.core.display.HTML object>"
      ]
     },
     "metadata": {},
     "output_type": "display_data"
    },
    {
     "data": {
      "text/html": [
       "Synced <strong style=\"color:#cdcd00\">TorchTrainer_39689a2c</strong>: <a href=\"https://wandb.ai/l5-demo/l5-planning-trials/runs/39689a2c\" target=\"_blank\">https://wandb.ai/l5-demo/l5-planning-trials/runs/39689a2c</a><br/>Synced 7 W&B file(s), 0 media file(s), 12 artifact file(s) and 1 other file(s)"
      ],
      "text/plain": [
       "<IPython.core.display.HTML object>"
      ]
     },
     "metadata": {},
     "output_type": "display_data"
    },
    {
     "data": {
      "text/html": [
       "Find logs at: <code>./wandb/run-20220908_053706-39689a2c/logs</code>"
      ],
      "text/plain": [
       "<IPython.core.display.HTML object>"
      ]
     },
     "metadata": {},
     "output_type": "display_data"
    },
    {
     "name": "stdout",
     "output_type": "stream",
     "text": [
      "Result for TorchTrainer_19e3435a:\n",
      "  _time_this_iter_s: 8.981808185577393\n",
      "  _timestamp: 1662615466\n",
      "  _training_iteration: 5\n",
      "  avg_loss: 9.523729419708252\n",
      "  date: 2022-09-08_05-37-46\n",
      "  done: false\n",
      "  experiment_id: 2c8fbcda7aba4b7988d4da1d4f1b34c7\n",
      "  hostname: anish-l5-kit\n",
      "  iterations_since_restore: 5\n",
      "  loss: 5.814975261688232\n",
      "  node_ip: 10.150.0.3\n",
      "  pid: 21458\n",
      "  should_checkpoint: true\n",
      "  time_since_restore: 57.77728867530823\n",
      "  time_this_iter_s: 9.06211543083191\n",
      "  time_total_s: 57.77728867530823\n",
      "  timestamp: 1662615466\n",
      "  timesteps_since_restore: 0\n",
      "  training_iteration: 5\n",
      "  trial_id: 19e3435a\n",
      "  warmup_time: 0.018710851669311523\n",
      "  \n"
     ]
    },
    {
     "name": "stderr",
     "output_type": "stream",
     "text": [
      "Done. 1.0s\n",
      "\u001b[34m\u001b[1mwandb\u001b[0m: Adding directory to artifact (/home/jupyter/ray_results/TorchTrainer_2022-09-08_05-18-50/TorchTrainer_19e3435a_23_batch_size=12.0000,format_version=4,future_num_frames=12,history_num_frames=0,model_architecture=resnet50_2022-09-08_05-36-44/checkpoint_000004)... Done. 0.3s\n"
     ]
    },
    {
     "data": {
      "text/html": [
       "Waiting for W&B process to finish... <strong style=\"color:green\">(success).</strong>"
      ],
      "text/plain": [
       "<IPython.core.display.HTML object>"
      ]
     },
     "metadata": {},
     "output_type": "display_data"
    },
    {
     "data": {
      "application/vnd.jupyter.widget-view+json": {
       "model_id": "c21f8b9e314c4464ad419fa6ba5bb65a",
       "version_major": 2,
       "version_minor": 0
      },
      "text/plain": [
       "VBox(children=(Label(value='452.176 MB of 452.176 MB uploaded (90.296 MB deduped)\\r'), FloatProgress(value=1.0…"
      ]
     },
     "metadata": {},
     "output_type": "display_data"
    },
    {
     "data": {
      "text/html": [
       "W&B sync reduced upload amount by 20.0%             "
      ],
      "text/plain": [
       "<IPython.core.display.HTML object>"
      ]
     },
     "metadata": {},
     "output_type": "display_data"
    },
    {
     "data": {
      "text/html": [
       "<style>\n",
       "    table.wandb td:nth-child(1) { padding: 0 10px; text-align: left ; width: auto;} td:nth-child(2) {text-align: left ; width: 100%}\n",
       "    .wandb-row { display: flex; flex-direction: row; flex-wrap: wrap; justify-content: flex-start; width: 100% }\n",
       "    .wandb-col { display: flex; flex-direction: column; flex-basis: 100%; flex: 1; padding: 10px; }\n",
       "    </style>\n",
       "<div class=\"wandb-row\"><div class=\"wandb-col\"><h3>Run history:</h3><br/><table class=\"wandb\"><tr><td>avg_loss</td><td>▅█▅▂▁</td></tr><tr><td>iterations_since_restore</td><td>▁▃▅▆█</td></tr><tr><td>loss</td><td>▅█▃▁▂</td></tr><tr><td>time_since_restore</td><td>▁▃▅▆█</td></tr><tr><td>time_this_iter_s</td><td>█▂▁▁▁</td></tr><tr><td>time_total_s</td><td>▁▃▅▆█</td></tr><tr><td>timestamp</td><td>▁▃▅▆█</td></tr><tr><td>timesteps_since_restore</td><td>▁▁▁▁▁</td></tr><tr><td>training_iteration</td><td>▁▃▅▆█</td></tr><tr><td>warmup_time</td><td>▁▁▁▁▁</td></tr></table><br/></div><div class=\"wandb-col\"><h3>Run summary:</h3><br/><table class=\"wandb\"><tr><td>avg_loss</td><td>9.52373</td></tr><tr><td>iterations_since_restore</td><td>5</td></tr><tr><td>loss</td><td>5.81498</td></tr><tr><td>time_since_restore</td><td>57.77729</td></tr><tr><td>time_this_iter_s</td><td>9.06212</td></tr><tr><td>time_total_s</td><td>57.77729</td></tr><tr><td>timestamp</td><td>1662615466</td></tr><tr><td>timesteps_since_restore</td><td>0</td></tr><tr><td>training_iteration</td><td>5</td></tr><tr><td>warmup_time</td><td>0.01871</td></tr></table><br/></div></div>"
      ],
      "text/plain": [
       "<IPython.core.display.HTML object>"
      ]
     },
     "metadata": {},
     "output_type": "display_data"
    },
    {
     "data": {
      "text/html": [
       "Synced <strong style=\"color:#cdcd00\">TorchTrainer_19e3435a</strong>: <a href=\"https://wandb.ai/l5-demo/l5-planning-trials/runs/19e3435a\" target=\"_blank\">https://wandb.ai/l5-demo/l5-planning-trials/runs/19e3435a</a><br/>Synced 7 W&B file(s), 0 media file(s), 12 artifact file(s) and 1 other file(s)"
      ],
      "text/plain": [
       "<IPython.core.display.HTML object>"
      ]
     },
     "metadata": {},
     "output_type": "display_data"
    },
    {
     "data": {
      "text/html": [
       "Find logs at: <code>./wandb/run-20220908_053644-19e3435a/logs</code>"
      ],
      "text/plain": [
       "<IPython.core.display.HTML object>"
      ]
     },
     "metadata": {},
     "output_type": "display_data"
    },
    {
     "name": "stdout",
     "output_type": "stream",
     "text": [
      "Result for TorchTrainer_19e3435a:\n",
      "  _time_this_iter_s: 8.981808185577393\n",
      "  _timestamp: 1662615466\n",
      "  _training_iteration: 5\n",
      "  avg_loss: 9.523729419708252\n",
      "  date: 2022-09-08_05-37-46\n",
      "  done: true\n",
      "  experiment_id: 2c8fbcda7aba4b7988d4da1d4f1b34c7\n",
      "  experiment_tag: 23_batch_size=12.0000,format_version=4,future_num_frames=12,history_num_frames=0,model_architecture=resnet50,render_ego_history=True,step_time=0.1000,dataset_meta_key=meta_json,disable_traffic_light_faces=False,ego_center=0_25_0_5,filter_agents_threshold=0.5000,map_type=py_satellite,pixel_size=0_5_0_5,raster_size=224_224,satellite_map_key=aerial_map_aerial_map_png,semantic_map_key=semantic_map_semantic_map_pb,set_origin_to_bottom=True,batch_size=12,key=scenes_sample_zarr,num_workers=16,perturb_probability=0.5000,shuffle=True,checkpoint_every_n_steps=10000,eval_every_n_steps=10000,max_num_steps=5,batch_size=12,key=scenes_sample_zarr,num_workers=16,shuffle=False,dataset_key=scenes_sample_zarr,lr=0.0045,max_num_steps=5,num_workers=4,perturb_probability=0.5000,shuffle=True\n",
      "  hostname: anish-l5-kit\n",
      "  iterations_since_restore: 5\n",
      "  loss: 5.814975261688232\n",
      "  node_ip: 10.150.0.3\n",
      "  pid: 21458\n",
      "  should_checkpoint: true\n",
      "  time_since_restore: 57.77728867530823\n",
      "  time_this_iter_s: 9.06211543083191\n",
      "  time_total_s: 57.77728867530823\n",
      "  timestamp: 1662615466\n",
      "  timesteps_since_restore: 0\n",
      "  training_iteration: 5\n",
      "  trial_id: 19e3435a\n",
      "  warmup_time: 0.018710851669311523\n",
      "  \n"
     ]
    },
    {
     "name": "stderr",
     "output_type": "stream",
     "text": [
      "\u001b[2m\u001b[36m(RayTrainWorker pid=23341)\u001b[0m 2022-09-08 05:38:11,718\tINFO config.py:72 -- Setting up process group for: env:// [rank=0, world_size=1]\n",
      "\u001b[2m\u001b[36m(RayTrainWorker pid=23341)\u001b[0m /opt/conda/lib/python3.7/site-packages/l5kit/planning/rasterized/model.py:31: UserWarning: There is no pre-trained model with num_in_channels != 3, first layer will be reset\n",
      "\u001b[2m\u001b[36m(RayTrainWorker pid=23341)\u001b[0m   warnings.warn(\"There is no pre-trained model with num_in_channels != 3, first layer will be reset\")\n",
      "\u001b[2m\u001b[36m(RayTrainWorker pid=23341)\u001b[0m /opt/conda/lib/python3.7/site-packages/torchvision/models/_utils.py:209: UserWarning: The parameter 'pretrained' is deprecated since 0.13 and will be removed in 0.15, please use 'weights' instead.\n",
      "\u001b[2m\u001b[36m(RayTrainWorker pid=23341)\u001b[0m   f\"The parameter '{pretrained_param}' is deprecated since 0.13 and will be removed in 0.15, \"\n",
      "\u001b[2m\u001b[36m(RayTrainWorker pid=23341)\u001b[0m /opt/conda/lib/python3.7/site-packages/torchvision/models/_utils.py:223: UserWarning: Arguments other than a weight enum or `None` for 'weights' are deprecated since 0.13 and will be removed in 0.15. The current behavior is equivalent to passing `weights=ResNet50_Weights.IMAGENET1K_V1`. You can also use `weights=ResNet50_Weights.DEFAULT` to get the most up-to-date weights.\n",
      "\u001b[2m\u001b[36m(RayTrainWorker pid=23341)\u001b[0m   warnings.warn(msg)\n",
      "\u001b[2m\u001b[36m(RayTrainWorker pid=23341)\u001b[0m 2022-09-08 05:38:16,609\tINFO train_loop_utils.py:300 -- Moving model to device: cpu\n"
     ]
    },
    {
     "name": "stdout",
     "output_type": "stream",
     "text": [
      "\u001b[2m\u001b[36m(RayTrainWorker pid=23341)\u001b[0m {'loss': 16.544782638549805, 'avg_loss': 16.544782638549805}\n"
     ]
    },
    {
     "name": "stderr",
     "output_type": "stream",
     "text": [
      "\u001b[34m\u001b[1mwandb\u001b[0m: Adding directory to artifact (/home/jupyter/ray_results/TorchTrainer_2022-09-08_05-18-50/TorchTrainer_466c2d38_25_batch_size=6.0000,format_version=4,future_num_frames=12,history_num_frames=0,model_architecture=resnet50,_2022-09-08_05-38-06/checkpoint_000000)... "
     ]
    },
    {
     "name": "stdout",
     "output_type": "stream",
     "text": [
      "Result for TorchTrainer_466c2d38:\n",
      "  _time_this_iter_s: 9.157495498657227\n",
      "  _timestamp: 1662615501\n",
      "  _training_iteration: 1\n",
      "  avg_loss: 16.544782638549805\n",
      "  date: 2022-09-08_05-38-21\n",
      "  done: false\n",
      "  experiment_id: 80b60343279b41babfb88933ef289972\n",
      "  hostname: anish-l5-kit\n",
      "  iterations_since_restore: 1\n",
      "  loss: 16.544782638549805\n",
      "  node_ip: 10.150.0.3\n",
      "  pid: 23274\n",
      "  should_checkpoint: true\n",
      "  time_since_restore: 12.438738107681274\n",
      "  time_this_iter_s: 12.438738107681274\n",
      "  time_total_s: 12.438738107681274\n",
      "  timestamp: 1662615501\n",
      "  timesteps_since_restore: 0\n",
      "  training_iteration: 1\n",
      "  trial_id: 466c2d38\n",
      "  warmup_time: 0.0057277679443359375\n",
      "  \n"
     ]
    },
    {
     "name": "stderr",
     "output_type": "stream",
     "text": [
      "Done. 1.0s\n"
     ]
    },
    {
     "name": "stdout",
     "output_type": "stream",
     "text": [
      "\u001b[2m\u001b[36m(RayTrainWorker pid=23341)\u001b[0m {'loss': 12.255053520202637, 'avg_loss': 14.39991807937622}\n"
     ]
    },
    {
     "name": "stderr",
     "output_type": "stream",
     "text": [
      "\u001b[34m\u001b[1mwandb\u001b[0m: Adding directory to artifact (/home/jupyter/ray_results/TorchTrainer_2022-09-08_05-18-50/TorchTrainer_466c2d38_25_batch_size=6.0000,format_version=4,future_num_frames=12,history_num_frames=0,model_architecture=resnet50,_2022-09-08_05-38-06/checkpoint_000001)... Done. 1.0s\n"
     ]
    },
    {
     "name": "stdout",
     "output_type": "stream",
     "text": [
      "\u001b[2m\u001b[36m(RayTrainWorker pid=23341)\u001b[0m {'loss': 11.214361190795898, 'avg_loss': 13.33806578318278}\n",
      "Result for TorchTrainer_466c2d38:\n",
      "  _time_this_iter_s: 4.415987730026245\n",
      "  _timestamp: 1662615510\n",
      "  _training_iteration: 3\n",
      "  avg_loss: 13.33806578318278\n",
      "  date: 2022-09-08_05-38-30\n",
      "  done: false\n",
      "  experiment_id: 80b60343279b41babfb88933ef289972\n",
      "  hostname: anish-l5-kit\n",
      "  iterations_since_restore: 3\n",
      "  loss: 11.214361190795898\n",
      "  node_ip: 10.150.0.3\n",
      "  pid: 23274\n",
      "  should_checkpoint: true\n",
      "  time_since_restore: 21.211457014083862\n",
      "  time_this_iter_s: 4.373098611831665\n",
      "  time_total_s: 21.211457014083862\n",
      "  timestamp: 1662615510\n",
      "  timesteps_since_restore: 0\n",
      "  training_iteration: 3\n",
      "  trial_id: 466c2d38\n",
      "  warmup_time: 0.0057277679443359375\n",
      "  \n"
     ]
    },
    {
     "name": "stderr",
     "output_type": "stream",
     "text": [
      "\u001b[34m\u001b[1mwandb\u001b[0m: Adding directory to artifact (/home/jupyter/ray_results/TorchTrainer_2022-09-08_05-18-50/TorchTrainer_466c2d38_25_batch_size=6.0000,format_version=4,future_num_frames=12,history_num_frames=0,model_architecture=resnet50,_2022-09-08_05-38-06/checkpoint_000002)... Done. 1.0s\n"
     ]
    },
    {
     "name": "stdout",
     "output_type": "stream",
     "text": [
      "\u001b[2m\u001b[36m(RayTrainWorker pid=23341)\u001b[0m {'loss': 8.85403823852539, 'avg_loss': 12.217058897018433}\n"
     ]
    },
    {
     "name": "stderr",
     "output_type": "stream",
     "text": [
      "\u001b[34m\u001b[1mwandb\u001b[0m: Adding directory to artifact (/home/jupyter/ray_results/TorchTrainer_2022-09-08_05-18-50/TorchTrainer_466c2d38_25_batch_size=6.0000,format_version=4,future_num_frames=12,history_num_frames=0,model_architecture=resnet50,_2022-09-08_05-38-06/checkpoint_000003)... Done. 1.0s\n"
     ]
    },
    {
     "name": "stdout",
     "output_type": "stream",
     "text": [
      "\u001b[2m\u001b[36m(RayTrainWorker pid=23341)\u001b[0m {'loss': 6.03929328918457, 'avg_loss': 10.98150577545166}\n",
      "Result for TorchTrainer_466c2d38:\n",
      "  _time_this_iter_s: 4.296858787536621\n",
      "  _timestamp: 1662615518\n",
      "  _training_iteration: 5\n",
      "  avg_loss: 10.98150577545166\n",
      "  date: 2022-09-08_05-38-39\n",
      "  done: false\n",
      "  experiment_id: 80b60343279b41babfb88933ef289972\n",
      "  hostname: anish-l5-kit\n",
      "  iterations_since_restore: 5\n",
      "  loss: 6.03929328918457\n",
      "  node_ip: 10.150.0.3\n",
      "  pid: 23274\n",
      "  should_checkpoint: true\n",
      "  time_since_restore: 29.81986403465271\n",
      "  time_this_iter_s: 4.297126054763794\n",
      "  time_total_s: 29.81986403465271\n",
      "  timestamp: 1662615519\n",
      "  timesteps_since_restore: 0\n",
      "  training_iteration: 5\n",
      "  trial_id: 466c2d38\n",
      "  warmup_time: 0.0057277679443359375\n",
      "  \n"
     ]
    },
    {
     "name": "stderr",
     "output_type": "stream",
     "text": [
      "\u001b[34m\u001b[1mwandb\u001b[0m: Adding directory to artifact (/home/jupyter/ray_results/TorchTrainer_2022-09-08_05-18-50/TorchTrainer_466c2d38_25_batch_size=6.0000,format_version=4,future_num_frames=12,history_num_frames=0,model_architecture=resnet50,_2022-09-08_05-38-06/checkpoint_000004)... Done. 1.0s\n",
      "\u001b[34m\u001b[1mwandb\u001b[0m: Adding directory to artifact (/home/jupyter/ray_results/TorchTrainer_2022-09-08_05-18-50/TorchTrainer_466c2d38_25_batch_size=6.0000,format_version=4,future_num_frames=12,history_num_frames=0,model_architecture=resnet50,_2022-09-08_05-38-06/checkpoint_000004)... Done. 0.3s\n"
     ]
    },
    {
     "data": {
      "text/html": [
       "Waiting for W&B process to finish... <strong style=\"color:green\">(success).</strong>"
      ],
      "text/plain": [
       "<IPython.core.display.HTML object>"
      ]
     },
     "metadata": {},
     "output_type": "display_data"
    },
    {
     "data": {
      "application/vnd.jupyter.widget-view+json": {
       "model_id": "49c010fa6bb44d1c822074fff5d148c6",
       "version_major": 2,
       "version_minor": 0
      },
      "text/plain": [
       "VBox(children=(Label(value='452.176 MB of 452.176 MB uploaded (90.296 MB deduped)\\r'), FloatProgress(value=1.0…"
      ]
     },
     "metadata": {},
     "output_type": "display_data"
    },
    {
     "data": {
      "text/html": [
       "W&B sync reduced upload amount by 20.0%             "
      ],
      "text/plain": [
       "<IPython.core.display.HTML object>"
      ]
     },
     "metadata": {},
     "output_type": "display_data"
    },
    {
     "data": {
      "text/html": [
       "<style>\n",
       "    table.wandb td:nth-child(1) { padding: 0 10px; text-align: left ; width: auto;} td:nth-child(2) {text-align: left ; width: 100%}\n",
       "    .wandb-row { display: flex; flex-direction: row; flex-wrap: wrap; justify-content: flex-start; width: 100% }\n",
       "    .wandb-col { display: flex; flex-direction: column; flex-basis: 100%; flex: 1; padding: 10px; }\n",
       "    </style>\n",
       "<div class=\"wandb-row\"><div class=\"wandb-col\"><h3>Run history:</h3><br/><table class=\"wandb\"><tr><td>avg_loss</td><td>█▅▄▃▁</td></tr><tr><td>iterations_since_restore</td><td>▁▃▅▆█</td></tr><tr><td>loss</td><td>█▅▄▃▁</td></tr><tr><td>time_since_restore</td><td>▁▃▅▆█</td></tr><tr><td>time_this_iter_s</td><td>█▁▁▁▁</td></tr><tr><td>time_total_s</td><td>▁▃▅▆█</td></tr><tr><td>timestamp</td><td>▁▃▅▆█</td></tr><tr><td>timesteps_since_restore</td><td>▁▁▁▁▁</td></tr><tr><td>training_iteration</td><td>▁▃▅▆█</td></tr><tr><td>warmup_time</td><td>▁▁▁▁▁</td></tr></table><br/></div><div class=\"wandb-col\"><h3>Run summary:</h3><br/><table class=\"wandb\"><tr><td>avg_loss</td><td>10.98151</td></tr><tr><td>iterations_since_restore</td><td>5</td></tr><tr><td>loss</td><td>6.03929</td></tr><tr><td>time_since_restore</td><td>29.81986</td></tr><tr><td>time_this_iter_s</td><td>4.29713</td></tr><tr><td>time_total_s</td><td>29.81986</td></tr><tr><td>timestamp</td><td>1662615519</td></tr><tr><td>timesteps_since_restore</td><td>0</td></tr><tr><td>training_iteration</td><td>5</td></tr><tr><td>warmup_time</td><td>0.00573</td></tr></table><br/></div></div>"
      ],
      "text/plain": [
       "<IPython.core.display.HTML object>"
      ]
     },
     "metadata": {},
     "output_type": "display_data"
    },
    {
     "data": {
      "text/html": [
       "Synced <strong style=\"color:#cdcd00\">TorchTrainer_466c2d38</strong>: <a href=\"https://wandb.ai/l5-demo/l5-planning-trials/runs/466c2d38\" target=\"_blank\">https://wandb.ai/l5-demo/l5-planning-trials/runs/466c2d38</a><br/>Synced 7 W&B file(s), 0 media file(s), 12 artifact file(s) and 1 other file(s)"
      ],
      "text/plain": [
       "<IPython.core.display.HTML object>"
      ]
     },
     "metadata": {},
     "output_type": "display_data"
    },
    {
     "data": {
      "text/html": [
       "Find logs at: <code>./wandb/run-20220908_053806-466c2d38/logs</code>"
      ],
      "text/plain": [
       "<IPython.core.display.HTML object>"
      ]
     },
     "metadata": {},
     "output_type": "display_data"
    },
    {
     "name": "stdout",
     "output_type": "stream",
     "text": [
      "Result for TorchTrainer_466c2d38:\n",
      "  _time_this_iter_s: 4.296858787536621\n",
      "  _timestamp: 1662615518\n",
      "  _training_iteration: 5\n",
      "  avg_loss: 10.98150577545166\n",
      "  date: 2022-09-08_05-38-39\n",
      "  done: true\n",
      "  experiment_id: 80b60343279b41babfb88933ef289972\n",
      "  experiment_tag: 25_batch_size=6.0000,format_version=4,future_num_frames=12,history_num_frames=0,model_architecture=resnet50,render_ego_history=True,step_time=0.1000,dataset_meta_key=meta_json,disable_traffic_light_faces=False,ego_center=0_25_0_5,filter_agents_threshold=0.5000,map_type=py_satellite,pixel_size=0_5_0_5,raster_size=224_224,satellite_map_key=aerial_map_aerial_map_png,semantic_map_key=semantic_map_semantic_map_pb,set_origin_to_bottom=True,batch_size=12,key=scenes_sample_zarr,num_workers=16,perturb_probability=0.5000,shuffle=True,checkpoint_every_n_steps=10000,eval_every_n_steps=10000,max_num_steps=5,batch_size=12,key=scenes_sample_zarr,num_workers=16,shuffle=False,dataset_key=scenes_sample_zarr,lr=0.0008,max_num_steps=5,num_workers=4,perturb_probability=0.5000,shuffle=True\n",
      "  hostname: anish-l5-kit\n",
      "  iterations_since_restore: 5\n",
      "  loss: 6.03929328918457\n",
      "  node_ip: 10.150.0.3\n",
      "  pid: 23274\n",
      "  should_checkpoint: true\n",
      "  time_since_restore: 29.81986403465271\n",
      "  time_this_iter_s: 4.297126054763794\n",
      "  time_total_s: 29.81986403465271\n",
      "  timestamp: 1662615519\n",
      "  timesteps_since_restore: 0\n",
      "  training_iteration: 5\n",
      "  trial_id: 466c2d38\n",
      "  warmup_time: 0.0057277679443359375\n",
      "  \n"
     ]
    },
    {
     "name": "stderr",
     "output_type": "stream",
     "text": [
      "2022-09-08 05:38:46,558\tINFO tune.py:759 -- Total run time: 1196.20 seconds (1195.97 seconds for the tuning loop).\n"
     ]
    }
   ],
   "source": [
    "analysis = tuner.fit()"
   ]
  },
  {
   "cell_type": "code",
   "execution_count": 35,
   "id": "0112cb72-7c85-438c-a12a-3d3c4b16e76e",
   "metadata": {},
   "outputs": [],
   "source": [
    "import time"
   ]
  },
  {
   "cell_type": "code",
   "execution_count": 36,
   "id": "9692b173-4808-47ce-b998-be4ed2148c3a",
   "metadata": {},
   "outputs": [],
   "source": [
    "time.sleep(30)"
   ]
  },
  {
   "cell_type": "code",
   "execution_count": 37,
   "id": "44744579-e543-496a-8be1-252fa141230f",
   "metadata": {},
   "outputs": [],
   "source": [
    "analysis_df = analysis.get_dataframe()"
   ]
  },
  {
   "cell_type": "code",
   "execution_count": 38,
   "id": "d7b02744-738e-45b2-8d9e-69a982f077ae",
   "metadata": {},
   "outputs": [
    {
     "data": {
      "text/html": [
       "<div>\n",
       "<style scoped>\n",
       "    .dataframe tbody tr th:only-of-type {\n",
       "        vertical-align: middle;\n",
       "    }\n",
       "\n",
       "    .dataframe tbody tr th {\n",
       "        vertical-align: top;\n",
       "    }\n",
       "\n",
       "    .dataframe thead th {\n",
       "        text-align: right;\n",
       "    }\n",
       "</style>\n",
       "<table border=\"1\" class=\"dataframe\">\n",
       "  <thead>\n",
       "    <tr style=\"text-align: right;\">\n",
       "      <th></th>\n",
       "      <th>loss</th>\n",
       "      <th>avg_loss</th>\n",
       "      <th>_timestamp</th>\n",
       "      <th>_time_this_iter_s</th>\n",
       "      <th>_training_iteration</th>\n",
       "      <th>time_this_iter_s</th>\n",
       "      <th>should_checkpoint</th>\n",
       "      <th>done</th>\n",
       "      <th>timesteps_total</th>\n",
       "      <th>episodes_total</th>\n",
       "      <th>...</th>\n",
       "      <th>config/train_loop_config/cfg/train_data_loader/perturb_probability</th>\n",
       "      <th>config/train_loop_config/cfg/train_data_loader/shuffle</th>\n",
       "      <th>config/train_loop_config/cfg/train_params/checkpoint_every_n_steps</th>\n",
       "      <th>config/train_loop_config/cfg/train_params/eval_every_n_steps</th>\n",
       "      <th>config/train_loop_config/cfg/train_params/max_num_steps</th>\n",
       "      <th>config/train_loop_config/cfg/val_data_loader/batch_size</th>\n",
       "      <th>config/train_loop_config/cfg/val_data_loader/key</th>\n",
       "      <th>config/train_loop_config/cfg/val_data_loader/num_workers</th>\n",
       "      <th>config/train_loop_config/cfg/val_data_loader/shuffle</th>\n",
       "      <th>logdir</th>\n",
       "    </tr>\n",
       "  </thead>\n",
       "  <tbody>\n",
       "    <tr>\n",
       "      <th>0</th>\n",
       "      <td>5.882532</td>\n",
       "      <td>9.682022</td>\n",
       "      <td>1662614419</td>\n",
       "      <td>14.017907</td>\n",
       "      <td>5</td>\n",
       "      <td>14.108382</td>\n",
       "      <td>True</td>\n",
       "      <td>False</td>\n",
       "      <td>NaN</td>\n",
       "      <td>NaN</td>\n",
       "      <td>...</td>\n",
       "      <td>0.5</td>\n",
       "      <td>True</td>\n",
       "      <td>10000</td>\n",
       "      <td>10000</td>\n",
       "      <td>5</td>\n",
       "      <td>12</td>\n",
       "      <td>scenes/sample.zarr</td>\n",
       "      <td>16</td>\n",
       "      <td>False</td>\n",
       "      <td>/home/jupyter/ray_results/TorchTrainer_2022-09...</td>\n",
       "    </tr>\n",
       "    <tr>\n",
       "      <th>1</th>\n",
       "      <td>7.962991</td>\n",
       "      <td>11.906286</td>\n",
       "      <td>1662614398</td>\n",
       "      <td>8.996373</td>\n",
       "      <td>5</td>\n",
       "      <td>9.007713</td>\n",
       "      <td>True</td>\n",
       "      <td>False</td>\n",
       "      <td>NaN</td>\n",
       "      <td>NaN</td>\n",
       "      <td>...</td>\n",
       "      <td>0.5</td>\n",
       "      <td>True</td>\n",
       "      <td>10000</td>\n",
       "      <td>10000</td>\n",
       "      <td>5</td>\n",
       "      <td>12</td>\n",
       "      <td>scenes/sample.zarr</td>\n",
       "      <td>16</td>\n",
       "      <td>False</td>\n",
       "      <td>/home/jupyter/ray_results/TorchTrainer_2022-09...</td>\n",
       "    </tr>\n",
       "    <tr>\n",
       "      <th>2</th>\n",
       "      <td>14.664840</td>\n",
       "      <td>13.578238</td>\n",
       "      <td>1662614496</td>\n",
       "      <td>12.323673</td>\n",
       "      <td>5</td>\n",
       "      <td>12.340653</td>\n",
       "      <td>True</td>\n",
       "      <td>False</td>\n",
       "      <td>NaN</td>\n",
       "      <td>NaN</td>\n",
       "      <td>...</td>\n",
       "      <td>0.5</td>\n",
       "      <td>True</td>\n",
       "      <td>10000</td>\n",
       "      <td>10000</td>\n",
       "      <td>5</td>\n",
       "      <td>12</td>\n",
       "      <td>scenes/sample.zarr</td>\n",
       "      <td>16</td>\n",
       "      <td>False</td>\n",
       "      <td>/home/jupyter/ray_results/TorchTrainer_2022-09...</td>\n",
       "    </tr>\n",
       "    <tr>\n",
       "      <th>3</th>\n",
       "      <td>9.453082</td>\n",
       "      <td>9.003263</td>\n",
       "      <td>1662614546</td>\n",
       "      <td>16.986690</td>\n",
       "      <td>5</td>\n",
       "      <td>16.903420</td>\n",
       "      <td>True</td>\n",
       "      <td>False</td>\n",
       "      <td>NaN</td>\n",
       "      <td>NaN</td>\n",
       "      <td>...</td>\n",
       "      <td>0.5</td>\n",
       "      <td>True</td>\n",
       "      <td>10000</td>\n",
       "      <td>10000</td>\n",
       "      <td>5</td>\n",
       "      <td>12</td>\n",
       "      <td>scenes/sample.zarr</td>\n",
       "      <td>16</td>\n",
       "      <td>False</td>\n",
       "      <td>/home/jupyter/ray_results/TorchTrainer_2022-09...</td>\n",
       "    </tr>\n",
       "    <tr>\n",
       "      <th>4</th>\n",
       "      <td>8.346401</td>\n",
       "      <td>12.266761</td>\n",
       "      <td>1662614621</td>\n",
       "      <td>18.104396</td>\n",
       "      <td>5</td>\n",
       "      <td>18.066445</td>\n",
       "      <td>True</td>\n",
       "      <td>False</td>\n",
       "      <td>NaN</td>\n",
       "      <td>NaN</td>\n",
       "      <td>...</td>\n",
       "      <td>0.5</td>\n",
       "      <td>True</td>\n",
       "      <td>10000</td>\n",
       "      <td>10000</td>\n",
       "      <td>5</td>\n",
       "      <td>12</td>\n",
       "      <td>scenes/sample.zarr</td>\n",
       "      <td>16</td>\n",
       "      <td>False</td>\n",
       "      <td>/home/jupyter/ray_results/TorchTrainer_2022-09...</td>\n",
       "    </tr>\n",
       "    <tr>\n",
       "      <th>5</th>\n",
       "      <td>3.523089</td>\n",
       "      <td>8.245952</td>\n",
       "      <td>1662614668</td>\n",
       "      <td>17.242356</td>\n",
       "      <td>5</td>\n",
       "      <td>17.316865</td>\n",
       "      <td>True</td>\n",
       "      <td>False</td>\n",
       "      <td>NaN</td>\n",
       "      <td>NaN</td>\n",
       "      <td>...</td>\n",
       "      <td>0.5</td>\n",
       "      <td>True</td>\n",
       "      <td>10000</td>\n",
       "      <td>10000</td>\n",
       "      <td>5</td>\n",
       "      <td>12</td>\n",
       "      <td>scenes/sample.zarr</td>\n",
       "      <td>16</td>\n",
       "      <td>False</td>\n",
       "      <td>/home/jupyter/ray_results/TorchTrainer_2022-09...</td>\n",
       "    </tr>\n",
       "    <tr>\n",
       "      <th>6</th>\n",
       "      <td>9.848295</td>\n",
       "      <td>13.624803</td>\n",
       "      <td>1662614673</td>\n",
       "      <td>4.803667</td>\n",
       "      <td>5</td>\n",
       "      <td>4.655703</td>\n",
       "      <td>True</td>\n",
       "      <td>False</td>\n",
       "      <td>NaN</td>\n",
       "      <td>NaN</td>\n",
       "      <td>...</td>\n",
       "      <td>0.5</td>\n",
       "      <td>True</td>\n",
       "      <td>10000</td>\n",
       "      <td>10000</td>\n",
       "      <td>5</td>\n",
       "      <td>12</td>\n",
       "      <td>scenes/sample.zarr</td>\n",
       "      <td>16</td>\n",
       "      <td>False</td>\n",
       "      <td>/home/jupyter/ray_results/TorchTrainer_2022-09...</td>\n",
       "    </tr>\n",
       "    <tr>\n",
       "      <th>7</th>\n",
       "      <td>10.724266</td>\n",
       "      <td>11.722249</td>\n",
       "      <td>1662614800</td>\n",
       "      <td>19.324412</td>\n",
       "      <td>5</td>\n",
       "      <td>19.353921</td>\n",
       "      <td>True</td>\n",
       "      <td>False</td>\n",
       "      <td>NaN</td>\n",
       "      <td>NaN</td>\n",
       "      <td>...</td>\n",
       "      <td>0.5</td>\n",
       "      <td>True</td>\n",
       "      <td>10000</td>\n",
       "      <td>10000</td>\n",
       "      <td>5</td>\n",
       "      <td>12</td>\n",
       "      <td>scenes/sample.zarr</td>\n",
       "      <td>16</td>\n",
       "      <td>False</td>\n",
       "      <td>/home/jupyter/ray_results/TorchTrainer_2022-09...</td>\n",
       "    </tr>\n",
       "    <tr>\n",
       "      <th>8</th>\n",
       "      <td>4.752763</td>\n",
       "      <td>11.841005</td>\n",
       "      <td>1662614776</td>\n",
       "      <td>14.811361</td>\n",
       "      <td>5</td>\n",
       "      <td>14.666600</td>\n",
       "      <td>True</td>\n",
       "      <td>False</td>\n",
       "      <td>NaN</td>\n",
       "      <td>NaN</td>\n",
       "      <td>...</td>\n",
       "      <td>0.5</td>\n",
       "      <td>True</td>\n",
       "      <td>10000</td>\n",
       "      <td>10000</td>\n",
       "      <td>5</td>\n",
       "      <td>12</td>\n",
       "      <td>scenes/sample.zarr</td>\n",
       "      <td>16</td>\n",
       "      <td>False</td>\n",
       "      <td>/home/jupyter/ray_results/TorchTrainer_2022-09...</td>\n",
       "    </tr>\n",
       "    <tr>\n",
       "      <th>9</th>\n",
       "      <td>10.573003</td>\n",
       "      <td>12.273482</td>\n",
       "      <td>1662614870</td>\n",
       "      <td>12.419198</td>\n",
       "      <td>5</td>\n",
       "      <td>12.500589</td>\n",
       "      <td>True</td>\n",
       "      <td>False</td>\n",
       "      <td>NaN</td>\n",
       "      <td>NaN</td>\n",
       "      <td>...</td>\n",
       "      <td>0.5</td>\n",
       "      <td>True</td>\n",
       "      <td>10000</td>\n",
       "      <td>10000</td>\n",
       "      <td>5</td>\n",
       "      <td>12</td>\n",
       "      <td>scenes/sample.zarr</td>\n",
       "      <td>16</td>\n",
       "      <td>False</td>\n",
       "      <td>/home/jupyter/ray_results/TorchTrainer_2022-09...</td>\n",
       "    </tr>\n",
       "    <tr>\n",
       "      <th>10</th>\n",
       "      <td>7.069854</td>\n",
       "      <td>9.545560</td>\n",
       "      <td>1662614872</td>\n",
       "      <td>8.316184</td>\n",
       "      <td>5</td>\n",
       "      <td>8.229971</td>\n",
       "      <td>True</td>\n",
       "      <td>False</td>\n",
       "      <td>NaN</td>\n",
       "      <td>NaN</td>\n",
       "      <td>...</td>\n",
       "      <td>0.5</td>\n",
       "      <td>True</td>\n",
       "      <td>10000</td>\n",
       "      <td>10000</td>\n",
       "      <td>5</td>\n",
       "      <td>12</td>\n",
       "      <td>scenes/sample.zarr</td>\n",
       "      <td>16</td>\n",
       "      <td>False</td>\n",
       "      <td>/home/jupyter/ray_results/TorchTrainer_2022-09...</td>\n",
       "    </tr>\n",
       "    <tr>\n",
       "      <th>11</th>\n",
       "      <td>14.314681</td>\n",
       "      <td>19.960236</td>\n",
       "      <td>1662615007</td>\n",
       "      <td>18.845187</td>\n",
       "      <td>5</td>\n",
       "      <td>18.832135</td>\n",
       "      <td>True</td>\n",
       "      <td>False</td>\n",
       "      <td>NaN</td>\n",
       "      <td>NaN</td>\n",
       "      <td>...</td>\n",
       "      <td>0.5</td>\n",
       "      <td>True</td>\n",
       "      <td>10000</td>\n",
       "      <td>10000</td>\n",
       "      <td>5</td>\n",
       "      <td>12</td>\n",
       "      <td>scenes/sample.zarr</td>\n",
       "      <td>16</td>\n",
       "      <td>False</td>\n",
       "      <td>/home/jupyter/ray_results/TorchTrainer_2022-09...</td>\n",
       "    </tr>\n",
       "    <tr>\n",
       "      <th>12</th>\n",
       "      <td>7.741596</td>\n",
       "      <td>8.398228</td>\n",
       "      <td>1662615006</td>\n",
       "      <td>19.433927</td>\n",
       "      <td>5</td>\n",
       "      <td>19.401657</td>\n",
       "      <td>True</td>\n",
       "      <td>False</td>\n",
       "      <td>NaN</td>\n",
       "      <td>NaN</td>\n",
       "      <td>...</td>\n",
       "      <td>0.5</td>\n",
       "      <td>True</td>\n",
       "      <td>10000</td>\n",
       "      <td>10000</td>\n",
       "      <td>5</td>\n",
       "      <td>12</td>\n",
       "      <td>scenes/sample.zarr</td>\n",
       "      <td>16</td>\n",
       "      <td>False</td>\n",
       "      <td>/home/jupyter/ray_results/TorchTrainer_2022-09...</td>\n",
       "    </tr>\n",
       "    <tr>\n",
       "      <th>13</th>\n",
       "      <td>6.939452</td>\n",
       "      <td>8.441683</td>\n",
       "      <td>1662615134</td>\n",
       "      <td>18.203993</td>\n",
       "      <td>5</td>\n",
       "      <td>18.174015</td>\n",
       "      <td>True</td>\n",
       "      <td>False</td>\n",
       "      <td>NaN</td>\n",
       "      <td>NaN</td>\n",
       "      <td>...</td>\n",
       "      <td>0.5</td>\n",
       "      <td>True</td>\n",
       "      <td>10000</td>\n",
       "      <td>10000</td>\n",
       "      <td>5</td>\n",
       "      <td>12</td>\n",
       "      <td>scenes/sample.zarr</td>\n",
       "      <td>16</td>\n",
       "      <td>False</td>\n",
       "      <td>/home/jupyter/ray_results/TorchTrainer_2022-09...</td>\n",
       "    </tr>\n",
       "    <tr>\n",
       "      <th>14</th>\n",
       "      <td>4.437582</td>\n",
       "      <td>8.116121</td>\n",
       "      <td>1662615133</td>\n",
       "      <td>18.685707</td>\n",
       "      <td>5</td>\n",
       "      <td>18.731723</td>\n",
       "      <td>True</td>\n",
       "      <td>False</td>\n",
       "      <td>NaN</td>\n",
       "      <td>NaN</td>\n",
       "      <td>...</td>\n",
       "      <td>0.5</td>\n",
       "      <td>True</td>\n",
       "      <td>10000</td>\n",
       "      <td>10000</td>\n",
       "      <td>5</td>\n",
       "      <td>12</td>\n",
       "      <td>scenes/sample.zarr</td>\n",
       "      <td>16</td>\n",
       "      <td>False</td>\n",
       "      <td>/home/jupyter/ray_results/TorchTrainer_2022-09...</td>\n",
       "    </tr>\n",
       "    <tr>\n",
       "      <th>15</th>\n",
       "      <td>5.060309</td>\n",
       "      <td>7.350236</td>\n",
       "      <td>1662615270</td>\n",
       "      <td>18.190421</td>\n",
       "      <td>5</td>\n",
       "      <td>18.241309</td>\n",
       "      <td>True</td>\n",
       "      <td>False</td>\n",
       "      <td>NaN</td>\n",
       "      <td>NaN</td>\n",
       "      <td>...</td>\n",
       "      <td>0.5</td>\n",
       "      <td>True</td>\n",
       "      <td>10000</td>\n",
       "      <td>10000</td>\n",
       "      <td>5</td>\n",
       "      <td>12</td>\n",
       "      <td>scenes/sample.zarr</td>\n",
       "      <td>16</td>\n",
       "      <td>False</td>\n",
       "      <td>/home/jupyter/ray_results/TorchTrainer_2022-09...</td>\n",
       "    </tr>\n",
       "    <tr>\n",
       "      <th>16</th>\n",
       "      <td>7.906360</td>\n",
       "      <td>10.502721</td>\n",
       "      <td>1662615217</td>\n",
       "      <td>8.704768</td>\n",
       "      <td>5</td>\n",
       "      <td>8.818348</td>\n",
       "      <td>True</td>\n",
       "      <td>False</td>\n",
       "      <td>NaN</td>\n",
       "      <td>NaN</td>\n",
       "      <td>...</td>\n",
       "      <td>0.5</td>\n",
       "      <td>True</td>\n",
       "      <td>10000</td>\n",
       "      <td>10000</td>\n",
       "      <td>5</td>\n",
       "      <td>12</td>\n",
       "      <td>scenes/sample.zarr</td>\n",
       "      <td>16</td>\n",
       "      <td>False</td>\n",
       "      <td>/home/jupyter/ray_results/TorchTrainer_2022-09...</td>\n",
       "    </tr>\n",
       "    <tr>\n",
       "      <th>17</th>\n",
       "      <td>8.795049</td>\n",
       "      <td>6.887709</td>\n",
       "      <td>1662615268</td>\n",
       "      <td>4.669480</td>\n",
       "      <td>5</td>\n",
       "      <td>4.553849</td>\n",
       "      <td>True</td>\n",
       "      <td>False</td>\n",
       "      <td>NaN</td>\n",
       "      <td>NaN</td>\n",
       "      <td>...</td>\n",
       "      <td>0.5</td>\n",
       "      <td>True</td>\n",
       "      <td>10000</td>\n",
       "      <td>10000</td>\n",
       "      <td>5</td>\n",
       "      <td>12</td>\n",
       "      <td>scenes/sample.zarr</td>\n",
       "      <td>16</td>\n",
       "      <td>False</td>\n",
       "      <td>/home/jupyter/ray_results/TorchTrainer_2022-09...</td>\n",
       "    </tr>\n",
       "    <tr>\n",
       "      <th>18</th>\n",
       "      <td>3.734931</td>\n",
       "      <td>7.476767</td>\n",
       "      <td>1662615330</td>\n",
       "      <td>5.248954</td>\n",
       "      <td>5</td>\n",
       "      <td>5.134728</td>\n",
       "      <td>True</td>\n",
       "      <td>False</td>\n",
       "      <td>NaN</td>\n",
       "      <td>NaN</td>\n",
       "      <td>...</td>\n",
       "      <td>0.5</td>\n",
       "      <td>True</td>\n",
       "      <td>10000</td>\n",
       "      <td>10000</td>\n",
       "      <td>5</td>\n",
       "      <td>12</td>\n",
       "      <td>scenes/sample.zarr</td>\n",
       "      <td>16</td>\n",
       "      <td>False</td>\n",
       "      <td>/home/jupyter/ray_results/TorchTrainer_2022-09...</td>\n",
       "    </tr>\n",
       "    <tr>\n",
       "      <th>19</th>\n",
       "      <td>3.320156</td>\n",
       "      <td>7.454380</td>\n",
       "      <td>1662615329</td>\n",
       "      <td>5.178601</td>\n",
       "      <td>5</td>\n",
       "      <td>5.092237</td>\n",
       "      <td>True</td>\n",
       "      <td>False</td>\n",
       "      <td>NaN</td>\n",
       "      <td>NaN</td>\n",
       "      <td>...</td>\n",
       "      <td>0.5</td>\n",
       "      <td>True</td>\n",
       "      <td>10000</td>\n",
       "      <td>10000</td>\n",
       "      <td>5</td>\n",
       "      <td>12</td>\n",
       "      <td>scenes/sample.zarr</td>\n",
       "      <td>16</td>\n",
       "      <td>False</td>\n",
       "      <td>/home/jupyter/ray_results/TorchTrainer_2022-09...</td>\n",
       "    </tr>\n",
       "    <tr>\n",
       "      <th>20</th>\n",
       "      <td>3.944520</td>\n",
       "      <td>8.279551</td>\n",
       "      <td>1662615394</td>\n",
       "      <td>4.963346</td>\n",
       "      <td>5</td>\n",
       "      <td>5.002275</td>\n",
       "      <td>True</td>\n",
       "      <td>False</td>\n",
       "      <td>NaN</td>\n",
       "      <td>NaN</td>\n",
       "      <td>...</td>\n",
       "      <td>0.5</td>\n",
       "      <td>True</td>\n",
       "      <td>10000</td>\n",
       "      <td>10000</td>\n",
       "      <td>5</td>\n",
       "      <td>12</td>\n",
       "      <td>scenes/sample.zarr</td>\n",
       "      <td>16</td>\n",
       "      <td>False</td>\n",
       "      <td>/home/jupyter/ray_results/TorchTrainer_2022-09...</td>\n",
       "    </tr>\n",
       "    <tr>\n",
       "      <th>21</th>\n",
       "      <td>11.967047</td>\n",
       "      <td>10.594005</td>\n",
       "      <td>1662615415</td>\n",
       "      <td>10.196189</td>\n",
       "      <td>5</td>\n",
       "      <td>10.068226</td>\n",
       "      <td>True</td>\n",
       "      <td>False</td>\n",
       "      <td>NaN</td>\n",
       "      <td>NaN</td>\n",
       "      <td>...</td>\n",
       "      <td>0.5</td>\n",
       "      <td>True</td>\n",
       "      <td>10000</td>\n",
       "      <td>10000</td>\n",
       "      <td>5</td>\n",
       "      <td>12</td>\n",
       "      <td>scenes/sample.zarr</td>\n",
       "      <td>16</td>\n",
       "      <td>False</td>\n",
       "      <td>/home/jupyter/ray_results/TorchTrainer_2022-09...</td>\n",
       "    </tr>\n",
       "    <tr>\n",
       "      <th>22</th>\n",
       "      <td>5.814975</td>\n",
       "      <td>9.523729</td>\n",
       "      <td>1662615466</td>\n",
       "      <td>8.981808</td>\n",
       "      <td>5</td>\n",
       "      <td>9.062115</td>\n",
       "      <td>True</td>\n",
       "      <td>False</td>\n",
       "      <td>NaN</td>\n",
       "      <td>NaN</td>\n",
       "      <td>...</td>\n",
       "      <td>0.5</td>\n",
       "      <td>True</td>\n",
       "      <td>10000</td>\n",
       "      <td>10000</td>\n",
       "      <td>5</td>\n",
       "      <td>12</td>\n",
       "      <td>scenes/sample.zarr</td>\n",
       "      <td>16</td>\n",
       "      <td>False</td>\n",
       "      <td>/home/jupyter/ray_results/TorchTrainer_2022-09...</td>\n",
       "    </tr>\n",
       "    <tr>\n",
       "      <th>23</th>\n",
       "      <td>2.078658</td>\n",
       "      <td>11.084952</td>\n",
       "      <td>1662615466</td>\n",
       "      <td>4.818461</td>\n",
       "      <td>5</td>\n",
       "      <td>4.868155</td>\n",
       "      <td>True</td>\n",
       "      <td>False</td>\n",
       "      <td>NaN</td>\n",
       "      <td>NaN</td>\n",
       "      <td>...</td>\n",
       "      <td>0.5</td>\n",
       "      <td>True</td>\n",
       "      <td>10000</td>\n",
       "      <td>10000</td>\n",
       "      <td>5</td>\n",
       "      <td>12</td>\n",
       "      <td>scenes/sample.zarr</td>\n",
       "      <td>16</td>\n",
       "      <td>False</td>\n",
       "      <td>/home/jupyter/ray_results/TorchTrainer_2022-09...</td>\n",
       "    </tr>\n",
       "    <tr>\n",
       "      <th>24</th>\n",
       "      <td>6.039293</td>\n",
       "      <td>10.981506</td>\n",
       "      <td>1662615518</td>\n",
       "      <td>4.296859</td>\n",
       "      <td>5</td>\n",
       "      <td>4.297126</td>\n",
       "      <td>True</td>\n",
       "      <td>False</td>\n",
       "      <td>NaN</td>\n",
       "      <td>NaN</td>\n",
       "      <td>...</td>\n",
       "      <td>0.5</td>\n",
       "      <td>True</td>\n",
       "      <td>10000</td>\n",
       "      <td>10000</td>\n",
       "      <td>5</td>\n",
       "      <td>12</td>\n",
       "      <td>scenes/sample.zarr</td>\n",
       "      <td>16</td>\n",
       "      <td>False</td>\n",
       "      <td>/home/jupyter/ray_results/TorchTrainer_2022-09...</td>\n",
       "    </tr>\n",
       "  </tbody>\n",
       "</table>\n",
       "<p>25 rows × 59 columns</p>\n",
       "</div>"
      ],
      "text/plain": [
       "         loss   avg_loss  _timestamp  _time_this_iter_s  _training_iteration  \\\n",
       "0    5.882532   9.682022  1662614419          14.017907                    5   \n",
       "1    7.962991  11.906286  1662614398           8.996373                    5   \n",
       "2   14.664840  13.578238  1662614496          12.323673                    5   \n",
       "3    9.453082   9.003263  1662614546          16.986690                    5   \n",
       "4    8.346401  12.266761  1662614621          18.104396                    5   \n",
       "5    3.523089   8.245952  1662614668          17.242356                    5   \n",
       "6    9.848295  13.624803  1662614673           4.803667                    5   \n",
       "7   10.724266  11.722249  1662614800          19.324412                    5   \n",
       "8    4.752763  11.841005  1662614776          14.811361                    5   \n",
       "9   10.573003  12.273482  1662614870          12.419198                    5   \n",
       "10   7.069854   9.545560  1662614872           8.316184                    5   \n",
       "11  14.314681  19.960236  1662615007          18.845187                    5   \n",
       "12   7.741596   8.398228  1662615006          19.433927                    5   \n",
       "13   6.939452   8.441683  1662615134          18.203993                    5   \n",
       "14   4.437582   8.116121  1662615133          18.685707                    5   \n",
       "15   5.060309   7.350236  1662615270          18.190421                    5   \n",
       "16   7.906360  10.502721  1662615217           8.704768                    5   \n",
       "17   8.795049   6.887709  1662615268           4.669480                    5   \n",
       "18   3.734931   7.476767  1662615330           5.248954                    5   \n",
       "19   3.320156   7.454380  1662615329           5.178601                    5   \n",
       "20   3.944520   8.279551  1662615394           4.963346                    5   \n",
       "21  11.967047  10.594005  1662615415          10.196189                    5   \n",
       "22   5.814975   9.523729  1662615466           8.981808                    5   \n",
       "23   2.078658  11.084952  1662615466           4.818461                    5   \n",
       "24   6.039293  10.981506  1662615518           4.296859                    5   \n",
       "\n",
       "    time_this_iter_s  should_checkpoint   done  timesteps_total  \\\n",
       "0          14.108382               True  False              NaN   \n",
       "1           9.007713               True  False              NaN   \n",
       "2          12.340653               True  False              NaN   \n",
       "3          16.903420               True  False              NaN   \n",
       "4          18.066445               True  False              NaN   \n",
       "5          17.316865               True  False              NaN   \n",
       "6           4.655703               True  False              NaN   \n",
       "7          19.353921               True  False              NaN   \n",
       "8          14.666600               True  False              NaN   \n",
       "9          12.500589               True  False              NaN   \n",
       "10          8.229971               True  False              NaN   \n",
       "11         18.832135               True  False              NaN   \n",
       "12         19.401657               True  False              NaN   \n",
       "13         18.174015               True  False              NaN   \n",
       "14         18.731723               True  False              NaN   \n",
       "15         18.241309               True  False              NaN   \n",
       "16          8.818348               True  False              NaN   \n",
       "17          4.553849               True  False              NaN   \n",
       "18          5.134728               True  False              NaN   \n",
       "19          5.092237               True  False              NaN   \n",
       "20          5.002275               True  False              NaN   \n",
       "21         10.068226               True  False              NaN   \n",
       "22          9.062115               True  False              NaN   \n",
       "23          4.868155               True  False              NaN   \n",
       "24          4.297126               True  False              NaN   \n",
       "\n",
       "    episodes_total  ...  \\\n",
       "0              NaN  ...   \n",
       "1              NaN  ...   \n",
       "2              NaN  ...   \n",
       "3              NaN  ...   \n",
       "4              NaN  ...   \n",
       "5              NaN  ...   \n",
       "6              NaN  ...   \n",
       "7              NaN  ...   \n",
       "8              NaN  ...   \n",
       "9              NaN  ...   \n",
       "10             NaN  ...   \n",
       "11             NaN  ...   \n",
       "12             NaN  ...   \n",
       "13             NaN  ...   \n",
       "14             NaN  ...   \n",
       "15             NaN  ...   \n",
       "16             NaN  ...   \n",
       "17             NaN  ...   \n",
       "18             NaN  ...   \n",
       "19             NaN  ...   \n",
       "20             NaN  ...   \n",
       "21             NaN  ...   \n",
       "22             NaN  ...   \n",
       "23             NaN  ...   \n",
       "24             NaN  ...   \n",
       "\n",
       "    config/train_loop_config/cfg/train_data_loader/perturb_probability  \\\n",
       "0                                                 0.5                    \n",
       "1                                                 0.5                    \n",
       "2                                                 0.5                    \n",
       "3                                                 0.5                    \n",
       "4                                                 0.5                    \n",
       "5                                                 0.5                    \n",
       "6                                                 0.5                    \n",
       "7                                                 0.5                    \n",
       "8                                                 0.5                    \n",
       "9                                                 0.5                    \n",
       "10                                                0.5                    \n",
       "11                                                0.5                    \n",
       "12                                                0.5                    \n",
       "13                                                0.5                    \n",
       "14                                                0.5                    \n",
       "15                                                0.5                    \n",
       "16                                                0.5                    \n",
       "17                                                0.5                    \n",
       "18                                                0.5                    \n",
       "19                                                0.5                    \n",
       "20                                                0.5                    \n",
       "21                                                0.5                    \n",
       "22                                                0.5                    \n",
       "23                                                0.5                    \n",
       "24                                                0.5                    \n",
       "\n",
       "   config/train_loop_config/cfg/train_data_loader/shuffle  \\\n",
       "0                                                True       \n",
       "1                                                True       \n",
       "2                                                True       \n",
       "3                                                True       \n",
       "4                                                True       \n",
       "5                                                True       \n",
       "6                                                True       \n",
       "7                                                True       \n",
       "8                                                True       \n",
       "9                                                True       \n",
       "10                                               True       \n",
       "11                                               True       \n",
       "12                                               True       \n",
       "13                                               True       \n",
       "14                                               True       \n",
       "15                                               True       \n",
       "16                                               True       \n",
       "17                                               True       \n",
       "18                                               True       \n",
       "19                                               True       \n",
       "20                                               True       \n",
       "21                                               True       \n",
       "22                                               True       \n",
       "23                                               True       \n",
       "24                                               True       \n",
       "\n",
       "   config/train_loop_config/cfg/train_params/checkpoint_every_n_steps  \\\n",
       "0                                               10000                   \n",
       "1                                               10000                   \n",
       "2                                               10000                   \n",
       "3                                               10000                   \n",
       "4                                               10000                   \n",
       "5                                               10000                   \n",
       "6                                               10000                   \n",
       "7                                               10000                   \n",
       "8                                               10000                   \n",
       "9                                               10000                   \n",
       "10                                              10000                   \n",
       "11                                              10000                   \n",
       "12                                              10000                   \n",
       "13                                              10000                   \n",
       "14                                              10000                   \n",
       "15                                              10000                   \n",
       "16                                              10000                   \n",
       "17                                              10000                   \n",
       "18                                              10000                   \n",
       "19                                              10000                   \n",
       "20                                              10000                   \n",
       "21                                              10000                   \n",
       "22                                              10000                   \n",
       "23                                              10000                   \n",
       "24                                              10000                   \n",
       "\n",
       "   config/train_loop_config/cfg/train_params/eval_every_n_steps  \\\n",
       "0                                               10000             \n",
       "1                                               10000             \n",
       "2                                               10000             \n",
       "3                                               10000             \n",
       "4                                               10000             \n",
       "5                                               10000             \n",
       "6                                               10000             \n",
       "7                                               10000             \n",
       "8                                               10000             \n",
       "9                                               10000             \n",
       "10                                              10000             \n",
       "11                                              10000             \n",
       "12                                              10000             \n",
       "13                                              10000             \n",
       "14                                              10000             \n",
       "15                                              10000             \n",
       "16                                              10000             \n",
       "17                                              10000             \n",
       "18                                              10000             \n",
       "19                                              10000             \n",
       "20                                              10000             \n",
       "21                                              10000             \n",
       "22                                              10000             \n",
       "23                                              10000             \n",
       "24                                              10000             \n",
       "\n",
       "    config/train_loop_config/cfg/train_params/max_num_steps  \\\n",
       "0                                                   5         \n",
       "1                                                   5         \n",
       "2                                                   5         \n",
       "3                                                   5         \n",
       "4                                                   5         \n",
       "5                                                   5         \n",
       "6                                                   5         \n",
       "7                                                   5         \n",
       "8                                                   5         \n",
       "9                                                   5         \n",
       "10                                                  5         \n",
       "11                                                  5         \n",
       "12                                                  5         \n",
       "13                                                  5         \n",
       "14                                                  5         \n",
       "15                                                  5         \n",
       "16                                                  5         \n",
       "17                                                  5         \n",
       "18                                                  5         \n",
       "19                                                  5         \n",
       "20                                                  5         \n",
       "21                                                  5         \n",
       "22                                                  5         \n",
       "23                                                  5         \n",
       "24                                                  5         \n",
       "\n",
       "    config/train_loop_config/cfg/val_data_loader/batch_size  \\\n",
       "0                                                  12         \n",
       "1                                                  12         \n",
       "2                                                  12         \n",
       "3                                                  12         \n",
       "4                                                  12         \n",
       "5                                                  12         \n",
       "6                                                  12         \n",
       "7                                                  12         \n",
       "8                                                  12         \n",
       "9                                                  12         \n",
       "10                                                 12         \n",
       "11                                                 12         \n",
       "12                                                 12         \n",
       "13                                                 12         \n",
       "14                                                 12         \n",
       "15                                                 12         \n",
       "16                                                 12         \n",
       "17                                                 12         \n",
       "18                                                 12         \n",
       "19                                                 12         \n",
       "20                                                 12         \n",
       "21                                                 12         \n",
       "22                                                 12         \n",
       "23                                                 12         \n",
       "24                                                 12         \n",
       "\n",
       "    config/train_loop_config/cfg/val_data_loader/key  \\\n",
       "0                                 scenes/sample.zarr   \n",
       "1                                 scenes/sample.zarr   \n",
       "2                                 scenes/sample.zarr   \n",
       "3                                 scenes/sample.zarr   \n",
       "4                                 scenes/sample.zarr   \n",
       "5                                 scenes/sample.zarr   \n",
       "6                                 scenes/sample.zarr   \n",
       "7                                 scenes/sample.zarr   \n",
       "8                                 scenes/sample.zarr   \n",
       "9                                 scenes/sample.zarr   \n",
       "10                                scenes/sample.zarr   \n",
       "11                                scenes/sample.zarr   \n",
       "12                                scenes/sample.zarr   \n",
       "13                                scenes/sample.zarr   \n",
       "14                                scenes/sample.zarr   \n",
       "15                                scenes/sample.zarr   \n",
       "16                                scenes/sample.zarr   \n",
       "17                                scenes/sample.zarr   \n",
       "18                                scenes/sample.zarr   \n",
       "19                                scenes/sample.zarr   \n",
       "20                                scenes/sample.zarr   \n",
       "21                                scenes/sample.zarr   \n",
       "22                                scenes/sample.zarr   \n",
       "23                                scenes/sample.zarr   \n",
       "24                                scenes/sample.zarr   \n",
       "\n",
       "   config/train_loop_config/cfg/val_data_loader/num_workers  \\\n",
       "0                                                  16         \n",
       "1                                                  16         \n",
       "2                                                  16         \n",
       "3                                                  16         \n",
       "4                                                  16         \n",
       "5                                                  16         \n",
       "6                                                  16         \n",
       "7                                                  16         \n",
       "8                                                  16         \n",
       "9                                                  16         \n",
       "10                                                 16         \n",
       "11                                                 16         \n",
       "12                                                 16         \n",
       "13                                                 16         \n",
       "14                                                 16         \n",
       "15                                                 16         \n",
       "16                                                 16         \n",
       "17                                                 16         \n",
       "18                                                 16         \n",
       "19                                                 16         \n",
       "20                                                 16         \n",
       "21                                                 16         \n",
       "22                                                 16         \n",
       "23                                                 16         \n",
       "24                                                 16         \n",
       "\n",
       "   config/train_loop_config/cfg/val_data_loader/shuffle  \\\n",
       "0                                               False     \n",
       "1                                               False     \n",
       "2                                               False     \n",
       "3                                               False     \n",
       "4                                               False     \n",
       "5                                               False     \n",
       "6                                               False     \n",
       "7                                               False     \n",
       "8                                               False     \n",
       "9                                               False     \n",
       "10                                              False     \n",
       "11                                              False     \n",
       "12                                              False     \n",
       "13                                              False     \n",
       "14                                              False     \n",
       "15                                              False     \n",
       "16                                              False     \n",
       "17                                              False     \n",
       "18                                              False     \n",
       "19                                              False     \n",
       "20                                              False     \n",
       "21                                              False     \n",
       "22                                              False     \n",
       "23                                              False     \n",
       "24                                              False     \n",
       "\n",
       "                                               logdir  \n",
       "0   /home/jupyter/ray_results/TorchTrainer_2022-09...  \n",
       "1   /home/jupyter/ray_results/TorchTrainer_2022-09...  \n",
       "2   /home/jupyter/ray_results/TorchTrainer_2022-09...  \n",
       "3   /home/jupyter/ray_results/TorchTrainer_2022-09...  \n",
       "4   /home/jupyter/ray_results/TorchTrainer_2022-09...  \n",
       "5   /home/jupyter/ray_results/TorchTrainer_2022-09...  \n",
       "6   /home/jupyter/ray_results/TorchTrainer_2022-09...  \n",
       "7   /home/jupyter/ray_results/TorchTrainer_2022-09...  \n",
       "8   /home/jupyter/ray_results/TorchTrainer_2022-09...  \n",
       "9   /home/jupyter/ray_results/TorchTrainer_2022-09...  \n",
       "10  /home/jupyter/ray_results/TorchTrainer_2022-09...  \n",
       "11  /home/jupyter/ray_results/TorchTrainer_2022-09...  \n",
       "12  /home/jupyter/ray_results/TorchTrainer_2022-09...  \n",
       "13  /home/jupyter/ray_results/TorchTrainer_2022-09...  \n",
       "14  /home/jupyter/ray_results/TorchTrainer_2022-09...  \n",
       "15  /home/jupyter/ray_results/TorchTrainer_2022-09...  \n",
       "16  /home/jupyter/ray_results/TorchTrainer_2022-09...  \n",
       "17  /home/jupyter/ray_results/TorchTrainer_2022-09...  \n",
       "18  /home/jupyter/ray_results/TorchTrainer_2022-09...  \n",
       "19  /home/jupyter/ray_results/TorchTrainer_2022-09...  \n",
       "20  /home/jupyter/ray_results/TorchTrainer_2022-09...  \n",
       "21  /home/jupyter/ray_results/TorchTrainer_2022-09...  \n",
       "22  /home/jupyter/ray_results/TorchTrainer_2022-09...  \n",
       "23  /home/jupyter/ray_results/TorchTrainer_2022-09...  \n",
       "24  /home/jupyter/ray_results/TorchTrainer_2022-09...  \n",
       "\n",
       "[25 rows x 59 columns]"
      ]
     },
     "execution_count": 38,
     "metadata": {},
     "output_type": "execute_result"
    }
   ],
   "source": [
    "analysis_df"
   ]
  },
  {
   "cell_type": "code",
   "execution_count": 39,
   "id": "b49462e7-cddf-4d7e-ae5b-4bcbe573157f",
   "metadata": {},
   "outputs": [],
   "source": [
    "# Run information\n",
    "wandb_entity = \"l5-demo\"\n",
    "project_name = \"l5-planning\"\n",
    "run_name = \"train-planning-model\"\n",
    "run_type = \"train\"\n",
    "run_description = \"\"\"\n",
    "Train planing model\n",
    "\"\"\"\n",
    "tags = [\"train\", \"planning\"]"
   ]
  },
  {
   "cell_type": "code",
   "execution_count": 40,
   "id": "e3ef72f3-7436-469c-b514-4692debdc7de",
   "metadata": {},
   "outputs": [
    {
     "data": {
      "text/html": [
       "Tracking run with wandb version 0.13.2"
      ],
      "text/plain": [
       "<IPython.core.display.HTML object>"
      ]
     },
     "metadata": {},
     "output_type": "display_data"
    },
    {
     "data": {
      "text/html": [
       "Run data is saved locally in <code>/home/jupyter/ray_results/TorchTrainer_2022-09-08_05-18-50/TorchTrainer_466c2d38_25_batch_size=6.0000,format_version=4,future_num_frames=12,history_num_frames=0,model_architecture=resnet50,_2022-09-08_05-38-06/wandb/run-20220908_053917-2b95m6p5</code>"
      ],
      "text/plain": [
       "<IPython.core.display.HTML object>"
      ]
     },
     "metadata": {},
     "output_type": "display_data"
    },
    {
     "data": {
      "text/html": [
       "Syncing run <strong><a href=\"https://wandb.ai/l5-demo/l5-planning/runs/2b95m6p5\" target=\"_blank\">train-planning-model</a></strong> to <a href=\"https://wandb.ai/l5-demo/l5-planning\" target=\"_blank\">Weights & Biases</a> (<a href=\"https://wandb.me/run\" target=\"_blank\">docs</a>)<br/>"
      ],
      "text/plain": [
       "<IPython.core.display.HTML object>"
      ]
     },
     "metadata": {},
     "output_type": "display_data"
    }
   ],
   "source": [
    "#🪄🐝\n",
    "run = wandb.init(\n",
    "    entity=wandb_entity,\n",
    "    project=project_name,\n",
    "    job_type=run_type,\n",
    "    name=run_name,\n",
    "    notes=run_description,\n",
    "    tags=tags,\n",
    "    config=cfg\n",
    ")"
   ]
  },
  {
   "cell_type": "code",
   "execution_count": 41,
   "id": "617fc40d-4c83-404d-b62b-179db3f8d2bc",
   "metadata": {},
   "outputs": [],
   "source": [
    "#BUG: to force a connection on the lineage graph\n",
    "#🪄🐝\n",
    "artifact = run.use_artifact(f\"{artifact_entity}/{artifact_project}/{artifact_name}:{artifact_alias}\", type=artifact_type)"
   ]
  },
  {
   "cell_type": "code",
   "execution_count": 42,
   "id": "936d60ab-88cc-4bb6-99c3-19c620719513",
   "metadata": {},
   "outputs": [],
   "source": [
    "#🪄🐝\n",
    "analysis_table = wandb.Table(dataframe=analysis_df)"
   ]
  },
  {
   "cell_type": "code",
   "execution_count": 43,
   "id": "4957ce4b-f62a-49b0-bd8e-fa785f0fdda0",
   "metadata": {},
   "outputs": [
    {
     "data": {
      "text/html": [
       "Waiting for W&B process to finish... <strong style=\"color:green\">(success).</strong>"
      ],
      "text/plain": [
       "<IPython.core.display.HTML object>"
      ]
     },
     "metadata": {},
     "output_type": "display_data"
    },
    {
     "data": {
      "application/vnd.jupyter.widget-view+json": {
       "model_id": "",
       "version_major": 2,
       "version_minor": 0
      },
      "text/plain": [
       "VBox(children=(Label(value='0.031 MB of 0.054 MB uploaded (0.000 MB deduped)\\r'), FloatProgress(value=0.575293…"
      ]
     },
     "metadata": {},
     "output_type": "display_data"
    },
    {
     "data": {
      "text/html": [
       "Synced <strong style=\"color:#cdcd00\">train-planning-model</strong>: <a href=\"https://wandb.ai/l5-demo/l5-planning/runs/2b95m6p5\" target=\"_blank\">https://wandb.ai/l5-demo/l5-planning/runs/2b95m6p5</a><br/>Synced 6 W&B file(s), 1 media file(s), 1 artifact file(s) and 1 other file(s)"
      ],
      "text/plain": [
       "<IPython.core.display.HTML object>"
      ]
     },
     "metadata": {},
     "output_type": "display_data"
    },
    {
     "data": {
      "text/html": [
       "Find logs at: <code>./wandb/run-20220908_053917-2b95m6p5/logs</code>"
      ],
      "text/plain": [
       "<IPython.core.display.HTML object>"
      ]
     },
     "metadata": {},
     "output_type": "display_data"
    }
   ],
   "source": [
    "#BUG: run gets lost after tune job due to change in cwd. Forced to make 2 runs\n",
    "if len(analysis_table.data) == 0:\n",
    "    raise ValueError(\"bad table for some reason\")\n",
    "else:\n",
    "    run.log({\"analysis_table\": analysis_table})\n",
    "    run.finish()"
   ]
  }
 ],
 "metadata": {
  "environment": {
   "kernel": "python3",
   "name": "common-cu110.m95",
   "type": "gcloud",
   "uri": "gcr.io/deeplearning-platform-release/base-cu110:m95"
  },
  "kernelspec": {
   "display_name": "Python 3",
   "language": "python",
   "name": "python3"
  },
  "language_info": {
   "codemirror_mode": {
    "name": "ipython",
    "version": 3
   },
   "file_extension": ".py",
   "mimetype": "text/x-python",
   "name": "python",
   "nbconvert_exporter": "python",
   "pygments_lexer": "ipython3",
   "version": "3.7.12"
  }
 },
 "nbformat": 4,
 "nbformat_minor": 5
}
