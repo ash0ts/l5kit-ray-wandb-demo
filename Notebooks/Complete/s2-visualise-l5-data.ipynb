{
 "cells": [
  {
   "cell_type": "markdown",
   "metadata": {
    "id": "swFeGE9Hu-eF"
   },
   "source": [
    "# Visualisation Examples\n",
    "\n",
    "This notebook shows some of the visualisation utility of our toolkit.\n",
    "\n",
    "The core packages for visualisation are:\n",
    "### `rasterization`\n",
    "contains classes for getting visual data as multi-channel tensors and turning them into interpretable RGB images.\n",
    "Every class has at least a `rasterize` method to get the tensor and a `to_rgb` method to convert it into an image.\n",
    "A few examples are:\n",
    "- `BoxRasterizer`: this object renders agents (e.g. vehicles or pedestrians) as oriented 2D boxes\n",
    "- `SatelliteRasterizer`: this object renders an oriented crop from a satellite map\n",
    "\n",
    "### `visualization`\n",
    "contains utilities to draw additional information (e.g. trajectories) onto RGB images. These utilities are commonly used after a `to_rgb` call to add other information to the final visualisation. \n",
    "One example is:\n",
    "- `draw_trajectory`: this function draws 2D trajectories from coordinates and yaws offset on an image\n"
   ]
  },
  {
   "cell_type": "code",
   "execution_count": null,
   "metadata": {},
   "outputs": [],
   "source": [
    "from pathlib import Path\n",
    "import os"
   ]
  },
  {
   "cell_type": "code",
   "execution_count": null,
   "metadata": {},
   "outputs": [],
   "source": [
    "experiments_directory = Path(Path(os.path.abspath('')).parent.parent, \"Experiments\")\n",
    "experiments_directory.mkdir(parents=True, exist_ok=True)\n",
    "\n",
    "data_directory = Path(experiments_directory, \"data\")\n",
    "data_directory.mkdir(parents=True, exist_ok=True)\n",
    "\n",
    "visualization_directory = Path(experiments_directory, \"visualization\")\n",
    "visualization_directory.mkdir(parents=True, exist_ok=True)\n",
    "\n",
    "save_directory = Path(visualization_directory, \"saved_outputs\")\n",
    "save_directory.mkdir(parents=True, exist_ok=True)"
   ]
  },
  {
   "cell_type": "code",
   "execution_count": null,
   "metadata": {},
   "outputs": [],
   "source": [
    "import os\n",
    "os.chdir(visualization_directory)"
   ]
  },
  {
   "cell_type": "code",
   "execution_count": null,
   "metadata": {
    "colab": {
     "base_uri": "https://localhost:8080/"
    },
    "executionInfo": {
     "elapsed": 5,
     "status": "ok",
     "timestamp": 1660797851732,
     "user": {
      "displayName": "Anish Shah",
      "userId": "05913492621931233323"
     },
     "user_tz": 240
    },
    "id": "meHhznH-CaCa",
    "outputId": "77cc2492-482e-4fda-da0c-3dd23f2f09df"
   },
   "outputs": [],
   "source": [
    "%%writefile requirements.txt\n",
    "l5kit\n",
    "pyyaml\n",
    "wandb"
   ]
  },
  {
   "cell_type": "code",
   "execution_count": null,
   "metadata": {
    "executionInfo": {
     "elapsed": 41983,
     "status": "ok",
     "timestamp": 1660797893711,
     "user": {
      "displayName": "Anish Shah",
      "userId": "05913492621931233323"
     },
     "user_tz": 240
    },
    "id": "S8C3q3pGJMzw"
   },
   "outputs": [],
   "source": [
    "%%capture\n",
    "!pip install -r requirements.txt"
   ]
  },
  {
   "cell_type": "code",
   "execution_count": null,
   "metadata": {
    "colab": {
     "base_uri": "https://localhost:8080/",
     "height": 344
    },
    "executionInfo": {
     "elapsed": 234,
     "status": "error",
     "timestamp": 1660797993640,
     "user": {
      "displayName": "Anish Shah",
      "userId": "05913492621931233323"
     },
     "user_tz": 240
    },
    "id": "gUsbd3sgCk9f",
    "outputId": "46bd87d5-5e38-4f63-fd55-f7308da45cbc"
   },
   "outputs": [],
   "source": [
    "import wandb\n",
    "wandb.login()"
   ]
  },
  {
   "cell_type": "code",
   "execution_count": null,
   "metadata": {
    "id": "Xkf2xhE7u-eJ"
   },
   "outputs": [],
   "source": [
    "import matplotlib.pyplot as plt\n",
    "\n",
    "import numpy as np\n",
    "\n",
    "from l5kit.data import ChunkedDataset, LocalDataManager\n",
    "from l5kit.dataset import EgoDataset, AgentDataset\n",
    "\n",
    "from l5kit.rasterization import build_rasterizer\n",
    "from l5kit.configs import load_config_data\n",
    "from l5kit.visualization import draw_trajectory, TARGET_POINTS_COLOR\n",
    "from l5kit.geometry import transform_points\n",
    "from tqdm import tqdm\n",
    "from collections import Counter\n",
    "from l5kit.data import PERCEPTION_LABELS\n",
    "from prettytable import PrettyTable\n",
    "\n",
    "from l5kit.visualization.visualizer.zarr_utils import zarr_to_visualizer_scene\n",
    "from l5kit.visualization.visualizer.visualizer import visualize\n",
    "from bokeh.io import output_notebook, show\n",
    "from l5kit.data import MapAPI"
   ]
  },
  {
   "cell_type": "markdown",
   "metadata": {
    "id": "sS6kZYksu-eK"
   },
   "source": [
    "### First, let's configure where our data lives!\n",
    "The data is expected to live in a folder that can be configured using the `L5KIT_DATA_FOLDER` env variable. You data folder is expected to contain subfolders for the aerial and semantic maps as well as the scenes (`.zarr` files). \n",
    "In this example, the env variable is set to the local data folder. You should make sure the path points to the correct location for you.\n",
    "\n",
    "We built our code to work with a human-readable `yaml` config. This config file holds much useful information, however, we will only focus on a few functionalities concerning loading and visualization here."
   ]
  },
  {
   "cell_type": "code",
   "execution_count": null,
   "metadata": {
    "id": "ddOVGpC_Cz66"
   },
   "outputs": [],
   "source": [
    "# Run information\n",
    "wandb_entity = \"l5-demo\"\n",
    "project_name = \"l5-common\"\n",
    "run_name = \"visualize_data\"\n",
    "run_type = \"visualize\"\n",
    "run_description = \"\"\"\n",
    "(1) we iterate over the frames to get a scatter plot of the AV locations\n",
    "(2) agents types distribution\n",
    "\n",
    "We will use two classes from the dataset package for this example. Both of them can be iterated and return multi-channel images from the rasterizer along with future trajectories offsets and other information.\n",
    "* EgoDataset: this dataset iterates over the AV annotations\n",
    "* AgentDataset: this dataset iterates over other agents annotations\n",
    "\n",
    "(3) Visualizing the AV\n",
    "We can convert the AgentDataset's target_position (displacements in meters in agent coordinates) into pixel coordinates in the image space, and call our utility function draw_trajectory (note that you can use this function for the predicted trajectories, as well)\n",
    "\n",
    "(a) Bounding boxes on Semantic map\n",
    "(b) Bounding boxes on Aerial map\n",
    "\n",
    "(4) Visualizing the Agent\n",
    "We can just replace the EgoDataset with an AgentDataset. Now we're iterating over agents and not the AV anymore\n",
    "\n",
    "(a) Bounding boxes on Semantic map\n",
    "(b) Bounding boxes on Aerial map\n",
    "\n",
    "(5) Visualizing the Scene\n",
    "Both EgoDataset and AgentDataset provide 2 methods for getting interesting indices:\n",
    "\n",
    "get_frame_indices returns the indices for a given frame. For the EgoDataset this matches a single observation, while more than one index could be available for the AgentDataset, as that given frame may contain more than one valid agent\n",
    "get_scene_indices returns indices for a given scene. For both datasets, these might return more than one index\n",
    "\n",
    "(a) Matplotlib\n",
    "    (i) Bounding boxes on Semantic map\n",
    "    (ii) Bounding boxes on Aerial map\n",
    "(b) Bokeh\n",
    "\"\"\"\n",
    "tags = [\"download\", \"data\", \"visualize\"]"
   ]
  },
  {
   "cell_type": "code",
   "execution_count": null,
   "metadata": {
    "id": "FQLaquq0Cx6U"
   },
   "outputs": [],
   "source": [
    "run = wandb.init(\n",
    "    entity=wandb_entity,\n",
    "    project=project_name,\n",
    "    job_type=run_type,\n",
    "    name=run_name,\n",
    "    notes=run_description,\n",
    "    tags=tags\n",
    ")"
   ]
  },
  {
   "cell_type": "code",
   "execution_count": null,
   "metadata": {
    "id": "2ciAlwG1G681"
   },
   "outputs": [],
   "source": [
    "artifact_entity = \"l5-demo\"\n",
    "artifact_project = \"l5-common\"\n",
    "artifact_name = \"l5-data\"\n",
    "artifact_alias = \"latest\"\n",
    "artifact_type = \"dataset\""
   ]
  },
  {
   "cell_type": "code",
   "execution_count": null,
   "metadata": {
    "colab": {
     "background_save": true
    },
    "id": "auHjWXz0Gmqn"
   },
   "outputs": [],
   "source": [
    "artifact = run.use_artifact(f\"{artifact_entity}/{artifact_project}/{artifact_name}:{artifact_alias}\", type=artifact_type)"
   ]
  },
  {
   "cell_type": "code",
   "execution_count": null,
   "metadata": {
    "colab": {
     "background_save": true
    },
    "id": "kJdcs04CNiim"
   },
   "outputs": [],
   "source": [
    "_ = artifact.download(data_directory)"
   ]
  },
  {
   "cell_type": "code",
   "execution_count": null,
   "metadata": {
    "colab": {
     "base_uri": "https://localhost:8080/"
    },
    "executionInfo": {
     "elapsed": 329,
     "status": "ok",
     "timestamp": 1660709347387,
     "user": {
      "displayName": "Anish Shah",
      "userId": "05913492621931233323"
     },
     "user_tz": 240
    },
    "id": "zZwXO7Ybu-eK",
    "outputId": "9a5bd0a6-401c-4ade-8383-e521cf5b9ca5"
   },
   "outputs": [],
   "source": [
    "# Dataset is assumed to be on the folder specified\n",
    "# in the L5KIT_DATA_FOLDER environment variable\n",
    "\n",
    "# get config\n",
    "cfg = load_config_data(Path(data_directory, \"configurations\", \"visualisation_config.yaml\"))\n",
    "run.config.update(cfg)"
   ]
  },
  {
   "cell_type": "markdown",
   "metadata": {
    "id": "xfMKTjgEu-eK"
   },
   "source": [
    "### We can look into our current configuration for interesting fields\n",
    "\n",
    "\\- when loaded in python, the `yaml`file is converted into a python `dict`. \n",
    "\n",
    "`raster_params` contains all the information related to the transformation of the 3D world onto an image plane:\n",
    "  - `raster_size`: the image plane size\n",
    "  - `pixel_size`: how many meters correspond to a pixel\n",
    "  - `ego_center`: our raster is centered around an agent, we can move the agent in the image plane with this param\n",
    "  - `map_type`: the rasterizer to be employed. We currently support a satellite-based and a semantic-based one. We will look at the differences further down in this script"
   ]
  },
  {
   "cell_type": "code",
   "execution_count": null,
   "metadata": {
    "colab": {
     "base_uri": "https://localhost:8080/"
    },
    "executionInfo": {
     "elapsed": 6,
     "status": "ok",
     "timestamp": 1660709347387,
     "user": {
      "displayName": "Anish Shah",
      "userId": "05913492621931233323"
     },
     "user_tz": 240
    },
    "id": "GTu9RRD6u-eL",
    "outputId": "30eee8dc-c144-4143-ed03-353d8c024aeb"
   },
   "outputs": [],
   "source": [
    "print(f'current raster_param:\\n')\n",
    "for k,v in cfg[\"raster_params\"].items():\n",
    "    print(f\"{k}:{v}\")"
   ]
  },
  {
   "cell_type": "markdown",
   "metadata": {
    "id": "TmvxVhQRu-eL"
   },
   "source": [
    "## Load the data\n",
    "\n",
    "The same config file is also used to load the data. Every split in the data has its own section, and multiple datasets can be used (as a whole or sliced). In this short example we will only use the first dataset from the `sample` set. You can change this by configuring the 'train_data_loader' variable in the config.\n",
    "\n",
    "You may also have noticed that we're building a `LocalDataManager` object. This will resolve relative paths from the config using the `L5KIT_DATA_FOLDER` env variable we have just set."
   ]
  },
  {
   "cell_type": "code",
   "execution_count": null,
   "metadata": {},
   "outputs": [],
   "source": [
    "def get_zarr_dataset_details(zarr_dataset):\n",
    "    # TODO add traffic faces\n",
    "    fields = [\n",
    "        \"Num Scenes\",\n",
    "        \"Num Frames\",\n",
    "        \"Num Agents\",\n",
    "        \"Num TR lights\",\n",
    "        \"Total Time (hr)\",\n",
    "        \"Avg Frames per Scene\",\n",
    "        \"Avg Agents per Frame\",\n",
    "        \"Avg Scene Time (sec)\",\n",
    "        \"Avg Frame frequency\",\n",
    "    ]\n",
    "    if len(zarr_dataset.frames) > 1:\n",
    "        # read a small chunk of frames to speed things up\n",
    "        times = np.diff(zarr_dataset.frames[:50][\"timestamp\"])\n",
    "        frequency = np.mean(1 / (times / 1e9))  # from nano to sec\n",
    "    else:\n",
    "        warnings.warn(\n",
    "            f\"not enough frames({len(zarr_dataset.frames)}) to read the frequency, 10 will be set\",\n",
    "            RuntimeWarning,\n",
    "            stacklevel=2,\n",
    "        )\n",
    "        frequency = 10\n",
    "\n",
    "    values = [\n",
    "        len(zarr_dataset.scenes),\n",
    "        len(zarr_dataset.frames),\n",
    "        len(zarr_dataset.agents),\n",
    "        len(zarr_dataset.tl_faces),\n",
    "        len(zarr_dataset.frames) / max(frequency, 1) / 3600,\n",
    "        len(zarr_dataset.frames) / max(len(zarr_dataset.scenes), 1),\n",
    "        len(zarr_dataset.agents) / max(len(zarr_dataset.frames), 1),\n",
    "        len(zarr_dataset.frames) / max(len(zarr_dataset.scenes), 1) / frequency,\n",
    "        frequency,\n",
    "    ]\n",
    "    return fields, values"
   ]
  },
  {
   "cell_type": "code",
   "execution_count": null,
   "metadata": {},
   "outputs": [],
   "source": [
    "l5_data_location = Path(data_directory, \"dataset\")"
   ]
  },
  {
   "cell_type": "code",
   "execution_count": null,
   "metadata": {
    "colab": {
     "base_uri": "https://localhost:8080/"
    },
    "executionInfo": {
     "elapsed": 175,
     "status": "ok",
     "timestamp": 1660709347558,
     "user": {
      "displayName": "Anish Shah",
      "userId": "05913492621931233323"
     },
     "user_tz": 240
    },
    "id": "fSuf-o1fu-eL",
    "outputId": "8d6be6d9-6472-4df1-b26d-0b81b2fd6c5d"
   },
   "outputs": [],
   "source": [
    "dm = LocalDataManager(l5_data_location)\n",
    "dataset_path = dm.require(cfg[\"val_data_loader\"][\"key\"])\n",
    "zarr_dataset = ChunkedDataset(dataset_path)\n",
    "zarr_dataset.open()\n",
    "# print(zarr_dataset)"
   ]
  },
  {
   "cell_type": "code",
   "execution_count": null,
   "metadata": {},
   "outputs": [],
   "source": [
    "zarr_details_fields, zarr_details_values = get_zarr_dataset_details(zarr_dataset)"
   ]
  },
  {
   "cell_type": "code",
   "execution_count": null,
   "metadata": {},
   "outputs": [],
   "source": [
    "zarr_dataset_details_table = wandb.Table(columns=zarr_details_fields)\n",
    "zarr_dataset_details_table.add_data(*zarr_details_values)"
   ]
  },
  {
   "cell_type": "code",
   "execution_count": null,
   "metadata": {},
   "outputs": [],
   "source": [
    "list(zip(zarr_dataset_details_table.columns, zarr_dataset_details_table.data[0]))"
   ]
  },
  {
   "cell_type": "markdown",
   "metadata": {
    "id": "LkYsmiX8u-eL"
   },
   "source": [
    "## Working with the raw data\n",
    "\n",
    "`.zarr` files support most of the traditional numpy array operations. In the following cell we iterate over the frames to get a scatter plot of the AV locations:"
   ]
  },
  {
   "cell_type": "code",
   "execution_count": null,
   "metadata": {
    "colab": {
     "base_uri": "https://localhost:8080/",
     "height": 302
    },
    "executionInfo": {
     "elapsed": 37937,
     "status": "ok",
     "timestamp": 1660709385493,
     "user": {
      "displayName": "Anish Shah",
      "userId": "05913492621931233323"
     },
     "user_tz": 240
    },
    "id": "zx6X7Hb4u-eL",
    "outputId": "f573a561-7d83-4cd3-f0a9-8f2f6e129c5f"
   },
   "outputs": [],
   "source": [
    "frames = zarr_dataset.frames\n",
    "coords = np.zeros((len(frames), 2))\n",
    "for idx_coord, idx_data in enumerate(tqdm(range(len(frames)), desc=\"getting centroid to plot trajectory\")):\n",
    "    frame = zarr_dataset.frames[idx_data]\n",
    "    coords[idx_coord] = frame[\"ego_translation\"][:2]"
   ]
  },
  {
   "cell_type": "code",
   "execution_count": null,
   "metadata": {},
   "outputs": [],
   "source": [
    "coord_table = wandb.Table(data=coords, columns=[\"x\", \"y\"]) #TODO: Validate these columns are correct"
   ]
  },
  {
   "cell_type": "markdown",
   "metadata": {
    "id": "zG5NNUtNu-eM"
   },
   "source": [
    "Another easy thing to try is to get an idea of the agents types distribution. \n",
    "\n",
    "We can get all the agents `label_probabilities` and get the argmax for each raw. because `.zarr` files map to numpy array we can use all the traditional numpy operations and functions."
   ]
  },
  {
   "cell_type": "code",
   "execution_count": null,
   "metadata": {
    "colab": {
     "base_uri": "https://localhost:8080/"
    },
    "executionInfo": {
     "elapsed": 586,
     "status": "ok",
     "timestamp": 1660709386074,
     "user": {
      "displayName": "Anish Shah",
      "userId": "05913492621931233323"
     },
     "user_tz": 240
    },
    "id": "s31SlObxu-eM",
    "outputId": "020bdf80-65ca-4783-9019-f87b99732ec7"
   },
   "outputs": [],
   "source": [
    "agents = zarr_dataset.agents\n",
    "probabilities = agents[\"label_probabilities\"]\n",
    "labels_indexes = np.argmax(probabilities, axis=1)\n",
    "counts = []\n",
    "for idx_label, label in enumerate(PERCEPTION_LABELS):\n",
    "    counts.append(np.sum(labels_indexes == idx_label))"
   ]
  },
  {
   "cell_type": "code",
   "execution_count": null,
   "metadata": {},
   "outputs": [],
   "source": [
    "label_table = wandb.Table(columns=[\"label\", \"counts\"])\n",
    "for count, label in zip(counts, PERCEPTION_LABELS):\n",
    "    label_table.add_data(label, count)"
   ]
  },
  {
   "cell_type": "code",
   "execution_count": null,
   "metadata": {},
   "outputs": [],
   "source": [
    "label_table.data"
   ]
  },
  {
   "cell_type": "markdown",
   "metadata": {
    "id": "1ug64ia6u-eM"
   },
   "source": [
    "## Working with data abstraction\n",
    "\n",
    "Even though it's absolutely fine to work with the raw data, we also provide classes that abstract data access to offer an easier way to generate inputs and targets.\n",
    "\n",
    "### Core Objects\n",
    "Along with the `rasterizer`, our toolkit contains other classes you may want to use while you build your solution. The `dataset` package, for example, already implements `PyTorch` ready datasets, so you can hit the ground running and start coding immediately.\n",
    "\n",
    "### Dataset package\n",
    "We will use two classes from the `dataset` package for this example. Both of them can be iterated and return multi-channel images from the rasterizer along with future trajectories offsets and other information.\n",
    "- `EgoDataset`: this dataset iterates over the AV annotations\n",
    "- `AgentDataset`: this dataset iterates over other agents annotations\n",
    "\n",
    "Both support multi-threading (through PyTorch DataLoader) OOB."
   ]
  },
  {
   "cell_type": "markdown",
   "metadata": {
    "id": "D2lFtn-zu-eN"
   },
   "source": [
    "## What if I want to visualise the Autonomous Vehicle (AV)?\n",
    "\n",
    "Let's get a sample from the dataset and use our `rasterizer` to get an RGB image we can plot. \n",
    "\n",
    "If we want to plot the ground truth trajectory, we can convert the dataset's `target_position` (displacements in meters in agent coordinates) into pixel coordinates in the image space, and call our utility function `draw_trajectory` (note that you can use this function for the predicted trajectories, as well)."
   ]
  },
  {
   "cell_type": "code",
   "execution_count": null,
   "metadata": {},
   "outputs": [],
   "source": [
    "import random"
   ]
  },
  {
   "cell_type": "code",
   "execution_count": null,
   "metadata": {},
   "outputs": [],
   "source": [
    "cfg[\"raster_params\"][\"map_type\"] = \"py_semantic\"\n",
    "rast = build_rasterizer(cfg, dm)\n",
    "dataset = EgoDataset(cfg, zarr_dataset, rast)"
   ]
  },
  {
   "cell_type": "code",
   "execution_count": null,
   "metadata": {},
   "outputs": [],
   "source": [
    "n_samples = 10\n",
    "frame_sample_indexes = random.sample(range(0, dataset.cumulative_sizes[-1]-1), n_samples)"
   ]
  },
  {
   "cell_type": "code",
   "execution_count": null,
   "metadata": {},
   "outputs": [],
   "source": [
    "sampled_av_frames_semantic_directory = Path(save_directory, \"semantic_av_samples\")\n",
    "sampled_av_frames_semantic_directory.mkdir(parents=True, exist_ok=True)"
   ]
  },
  {
   "cell_type": "code",
   "execution_count": null,
   "metadata": {
    "colab": {
     "base_uri": "https://localhost:8080/",
     "height": 269
    },
    "executionInfo": {
     "elapsed": 476,
     "status": "ok",
     "timestamp": 1660709391756,
     "user": {
      "displayName": "Anish Shah",
      "userId": "05913492621931233323"
     },
     "user_tz": 240
    },
    "id": "mvAlKr8Vu-eN",
    "outputId": "ed75bda8-6a41-413b-a8a9-f745a297ebae"
   },
   "outputs": [],
   "source": [
    "semantic_frame_paths = []\n",
    "for idx in tqdm(frame_sample_indexes):\n",
    "    data = dataset[idx]\n",
    "    im = data[\"image\"].transpose(1, 2, 0)\n",
    "    im = dataset.rasterizer.to_rgb(im)\n",
    "    target_positions_pixels = transform_points(data[\"target_positions\"], data[\"raster_from_agent\"])\n",
    "    draw_trajectory(im, target_positions_pixels, TARGET_POINTS_COLOR, yaws=data[\"target_yaws\"])\n",
    "    av_frame_path = Path(sampled_av_frames_semantic_directory, f\"semantic-frame-{idx}.png\")\n",
    "\n",
    "    plt.imsave(av_frame_path, im)\n",
    "    semantic_frame_paths.append(av_frame_path)"
   ]
  },
  {
   "cell_type": "markdown",
   "metadata": {
    "id": "VjoW9U1au-eN"
   },
   "source": [
    "## What if I want to change the rasterizer?\n",
    "\n",
    "We can do so easily by building a new rasterizer and new dataset for it. In this example, we change the value to `py_satellite` which renders boxes on an aerial image."
   ]
  },
  {
   "cell_type": "code",
   "execution_count": null,
   "metadata": {},
   "outputs": [],
   "source": [
    "sampled_av_frames_satellite_directory = Path(save_directory, \"satellite_av_samples\")\n",
    "sampled_av_frames_satellite_directory.mkdir(parents=True, exist_ok=True)"
   ]
  },
  {
   "cell_type": "code",
   "execution_count": null,
   "metadata": {},
   "outputs": [],
   "source": [
    "cfg[\"raster_params\"][\"map_type\"] = \"py_satellite\"\n",
    "rast = build_rasterizer(cfg, dm)\n",
    "dataset = EgoDataset(cfg, zarr_dataset, rast)"
   ]
  },
  {
   "cell_type": "code",
   "execution_count": null,
   "metadata": {
    "colab": {
     "base_uri": "https://localhost:8080/",
     "height": 269
    },
    "executionInfo": {
     "elapsed": 4512,
     "status": "ok",
     "timestamp": 1660709396266,
     "user": {
      "displayName": "Anish Shah",
      "userId": "05913492621931233323"
     },
     "user_tz": 240
    },
    "id": "7PVnOk9Wu-eN",
    "outputId": "80b19135-8033-445e-95bc-2e0934ed2067"
   },
   "outputs": [],
   "source": [
    "satellite_frame_paths = []\n",
    "for idx in tqdm(frame_sample_indexes):\n",
    "    data = dataset[idx]\n",
    "    im = data[\"image\"].transpose(1, 2, 0)\n",
    "    im = dataset.rasterizer.to_rgb(im)\n",
    "    target_positions_pixels = transform_points(data[\"target_positions\"], data[\"raster_from_agent\"])\n",
    "    draw_trajectory(im, target_positions_pixels, TARGET_POINTS_COLOR, yaws=data[\"target_yaws\"])\n",
    "    av_frame_path = Path(sampled_av_frames_satellite_directory, f\"satellite-frame-{idx}.png\")\n",
    "\n",
    "    plt.imsave(av_frame_path, im)\n",
    "    satellite_frame_paths.append(av_frame_path)"
   ]
  },
  {
   "cell_type": "code",
   "execution_count": null,
   "metadata": {},
   "outputs": [],
   "source": [
    "sampled_frames_table = wandb.Table(columns = [\"frame_idx\", \"semantic_view\", \"satellite_view\"])\n",
    "for frame_idx, semantic_frame_path, satellite_frame_path in zip(frame_sample_indexes, semantic_frame_paths, satellite_frame_paths):\n",
    "    sampled_frames_table.add_data(frame_idx, wandb.Image(str(semantic_frame_path)), wandb.Image(str(satellite_frame_path)))"
   ]
  },
  {
   "cell_type": "markdown",
   "metadata": {
    "id": "05uDhF5su-eO"
   },
   "source": [
    "## What if I want to visualise an agent?\n",
    "\n",
    "Glad you asked! We can just replace the `EgoDataset` with an `AgentDataset`. Now we're iterating over agents and not the AV anymore, and the first one happens to be the pace car (you will see this one around a lot in the dataset)."
   ]
  },
  {
   "cell_type": "code",
   "execution_count": null,
   "metadata": {},
   "outputs": [],
   "source": [
    "sampled_agent_semantic_directory = Path(save_directory, \"semantic_agent_examples\")\n",
    "sampled_agent_semantic_directory.mkdir(parents=True, exist_ok=True)"
   ]
  },
  {
   "cell_type": "code",
   "execution_count": null,
   "metadata": {},
   "outputs": [],
   "source": [
    "cfg[\"raster_params\"][\"map_type\"] = \"py_semantic\"\n",
    "rast = build_rasterizer(cfg, dm)\n",
    "dataset = AgentDataset(cfg, zarr_dataset, rast)"
   ]
  },
  {
   "cell_type": "code",
   "execution_count": null,
   "metadata": {},
   "outputs": [],
   "source": [
    "n_samples = 10\n",
    "agent_sample_indexes = random.sample(range(0, len(dataset.agents_indices)-1), n_samples)"
   ]
  },
  {
   "cell_type": "code",
   "execution_count": null,
   "metadata": {
    "colab": {
     "base_uri": "https://localhost:8080/",
     "height": 823
    },
    "executionInfo": {
     "elapsed": 38749,
     "status": "ok",
     "timestamp": 1660709435004,
     "user": {
      "displayName": "Anish Shah",
      "userId": "05913492621931233323"
     },
     "user_tz": 240
    },
    "id": "ofI0bBXiu-eO",
    "outputId": "a5279405-c0f7-4d19-ee51-20efeb6084ec"
   },
   "outputs": [],
   "source": [
    "semantic_agent_paths = []\n",
    "for idx in tqdm(agent_sample_indexes):\n",
    "    data = dataset[idx]\n",
    "    im = data[\"image\"].transpose(1, 2, 0)\n",
    "    im = dataset.rasterizer.to_rgb(im)\n",
    "    target_positions_pixels = transform_points(data[\"target_positions\"], data[\"raster_from_agent\"])\n",
    "    draw_trajectory(im, target_positions_pixels, TARGET_POINTS_COLOR, yaws=data[\"target_yaws\"])\n",
    "    agent_sample_path = Path(sampled_agent_semantic_directory, f\"semantic-agent-{idx}.png\")\n",
    "\n",
    "    plt.imsave(agent_sample_path, im)\n",
    "    semantic_agent_paths.append(agent_sample_path)"
   ]
  },
  {
   "cell_type": "markdown",
   "metadata": {},
   "source": [
    "### Satellite"
   ]
  },
  {
   "cell_type": "code",
   "execution_count": null,
   "metadata": {},
   "outputs": [],
   "source": [
    "sampled_agent_satellite_directory = Path(save_directory, \"satellite_agent_examples\")\n",
    "sampled_agent_satellite_directory.mkdir(parents=True, exist_ok=True)"
   ]
  },
  {
   "cell_type": "code",
   "execution_count": null,
   "metadata": {},
   "outputs": [],
   "source": [
    "cfg[\"raster_params\"][\"map_type\"] = \"py_satellite\"\n",
    "rast = build_rasterizer(cfg, dm)\n",
    "dataset = AgentDataset(cfg, zarr_dataset, rast)"
   ]
  },
  {
   "cell_type": "code",
   "execution_count": null,
   "metadata": {},
   "outputs": [],
   "source": [
    "satellite_agent_paths = []\n",
    "for idx in tqdm(agent_sample_indexes):\n",
    "    data = dataset[idx]\n",
    "    im = data[\"image\"].transpose(1, 2, 0)\n",
    "    im = dataset.rasterizer.to_rgb(im)\n",
    "    target_positions_pixels = transform_points(data[\"target_positions\"], data[\"raster_from_agent\"])\n",
    "    draw_trajectory(im, target_positions_pixels, TARGET_POINTS_COLOR, yaws=data[\"target_yaws\"])\n",
    "    agent_sample_path = Path(sampled_agent_satellite_directory, f\"satellite-agent-{idx}.png\")\n",
    "\n",
    "    plt.imsave(agent_sample_path, im)\n",
    "    satellite_agent_paths.append(agent_sample_path)"
   ]
  },
  {
   "cell_type": "markdown",
   "metadata": {},
   "source": [
    "### Join into Table"
   ]
  },
  {
   "cell_type": "code",
   "execution_count": null,
   "metadata": {},
   "outputs": [],
   "source": [
    "sampled_agents_table = wandb.Table(columns = [\"agent_idx\", \"semantic_view\", \"satellite_view\"])\n",
    "for agent_idx, semantic_agent_path, satellite_agent_path in zip(agent_sample_indexes, semantic_agent_paths, satellite_agent_paths):\n",
    "    sampled_agents_table.add_data(agent_idx, wandb.Image(str(semantic_agent_path)), wandb.Image(str(satellite_agent_path)))"
   ]
  },
  {
   "cell_type": "markdown",
   "metadata": {
    "id": "K27NrgJKu-eO"
   },
   "source": [
    "## System Origin and Orientation\n",
    "\n",
    "~At this point you may have noticed that we vertically flip the image before plotting it.~\n",
    "\n",
    "Vertical flipping is not required anymore as it's already performed inside the rasteriser.\n",
    "\n",
    "\n",
    "Further, all our rotations are counter-clockwise for positive value of the angle."
   ]
  },
  {
   "cell_type": "markdown",
   "metadata": {
    "id": "xVWp27SUu-eO"
   },
   "source": [
    "## How does an entire scene look like?\n",
    "\n",
    "It's easy to visualise an individual scene using our toolkit. Both `EgoDataset` and `AgentDataset` provide 2 methods for getting interesting indices:\n",
    "- `get_frame_indices` returns the indices for a given frame. For the `EgoDataset` this matches a single observation, while more than one index could be available for the `AgentDataset`, as that given frame may contain more than one valid agent\n",
    "- `get_scene_indices` returns indices for a given scene. For both datasets, these might return more than one index\n",
    "\n",
    "In this example, we visualise a scene from the ego's point of view:"
   ]
  },
  {
   "cell_type": "code",
   "execution_count": null,
   "metadata": {},
   "outputs": [],
   "source": [
    "from IPython.display import display, clear_output\n",
    "import PIL"
   ]
  },
  {
   "cell_type": "code",
   "execution_count": null,
   "metadata": {},
   "outputs": [],
   "source": [
    "sampled_semantic_scene_animation_directory = Path(save_directory, \"semantic_animations\")\n",
    "sampled_semantic_scene_animation_directory.mkdir(parents=True, exist_ok=True)"
   ]
  },
  {
   "cell_type": "code",
   "execution_count": null,
   "metadata": {},
   "outputs": [],
   "source": [
    "cfg[\"raster_params\"][\"map_type\"] = \"py_semantic\"\n",
    "rast = build_rasterizer(cfg, dm)\n",
    "dataset = EgoDataset(cfg, zarr_dataset, rast)"
   ]
  },
  {
   "cell_type": "code",
   "execution_count": null,
   "metadata": {},
   "outputs": [],
   "source": [
    "n_samples = 10\n",
    "sampled_scene_indices = random.sample(range(0, len(zarr_dataset.scenes)-1), n_samples)"
   ]
  },
  {
   "cell_type": "code",
   "execution_count": null,
   "metadata": {
    "colab": {
     "base_uri": "https://localhost:8080/",
     "height": 241
    },
    "executionInfo": {
     "elapsed": 31855,
     "status": "ok",
     "timestamp": 1660709466855,
     "user": {
      "displayName": "Anish Shah",
      "userId": "05913492621931233323"
     },
     "user_tz": 240
    },
    "id": "MKM_DmM0u-eO",
    "outputId": "6a9daa58-5795-4978-8bd5-7d1cedbfd156"
   },
   "outputs": [],
   "source": [
    "semantic_scene_animation_paths = []\n",
    "for scene_idx in tqdm(sampled_scene_indices):\n",
    "    indexes = dataset.get_scene_indices(scene_idx)\n",
    "    scene_frames = []\n",
    "    for idx in indexes:\n",
    "        data = dataset[idx]\n",
    "        im = data[\"image\"].transpose(1, 2, 0)\n",
    "        im = dataset.rasterizer.to_rgb(im)\n",
    "        target_positions_pixels = transform_points(data[\"target_positions\"], data[\"raster_from_agent\"])\n",
    "        center_in_pixels = np.asarray(cfg[\"raster_params\"][\"ego_center\"]) * cfg[\"raster_params\"][\"raster_size\"]\n",
    "        draw_trajectory(im, target_positions_pixels, TARGET_POINTS_COLOR, yaws=data[\"target_yaws\"])\n",
    "        scene_frames.append(PIL.Image.fromarray(im))\n",
    "    gif_path = Path(sampled_semantic_scene_animation_directory, f\"semantic-scene-{scene_idx}.gif\")\n",
    "    frame_one = scene_frames[0]\n",
    "    frame_one.save(gif_path, format=\"GIF\", append_images=scene_frames,\n",
    "               save_all=True, duration=100, loop=0)\n",
    "    semantic_scene_animation_paths.append(gif_path)"
   ]
  },
  {
   "cell_type": "markdown",
   "metadata": {},
   "source": [
    "### satellite"
   ]
  },
  {
   "cell_type": "code",
   "execution_count": null,
   "metadata": {},
   "outputs": [],
   "source": [
    "sampled_satellite_scene_animation_directory = Path(save_directory, \"satellite_animations\")\n",
    "sampled_satellite_scene_animation_directory.mkdir(parents=True, exist_ok=True)"
   ]
  },
  {
   "cell_type": "code",
   "execution_count": null,
   "metadata": {},
   "outputs": [],
   "source": [
    "cfg[\"raster_params\"][\"map_type\"] = \"py_satellite\"\n",
    "rast = build_rasterizer(cfg, dm)\n",
    "dataset = EgoDataset(cfg, zarr_dataset, rast)"
   ]
  },
  {
   "cell_type": "code",
   "execution_count": null,
   "metadata": {},
   "outputs": [],
   "source": [
    "satellite_scene_animation_paths = []\n",
    "for scene_idx in tqdm(sampled_scene_indices):\n",
    "    indexes = dataset.get_scene_indices(scene_idx)\n",
    "    scene_frames = []\n",
    "    for idx in indexes:\n",
    "        data = dataset[idx]\n",
    "        im = data[\"image\"].transpose(1, 2, 0)\n",
    "        im = dataset.rasterizer.to_rgb(im)\n",
    "        target_positions_pixels = transform_points(data[\"target_positions\"], data[\"raster_from_agent\"])\n",
    "        center_in_pixels = np.asarray(cfg[\"raster_params\"][\"ego_center\"]) * cfg[\"raster_params\"][\"raster_size\"]\n",
    "        draw_trajectory(im, target_positions_pixels, TARGET_POINTS_COLOR, yaws=data[\"target_yaws\"])\n",
    "        scene_frames.append(PIL.Image.fromarray(im))\n",
    "    gif_path = Path(sampled_satellite_scene_animation_directory, f\"satellite-scene-{scene_idx}.gif\")\n",
    "    frame_one = scene_frames[0]\n",
    "    frame_one.save(gif_path, format=\"GIF\", append_images=scene_frames,\n",
    "               save_all=True, duration=100, loop=0)\n",
    "    satellite_scene_animation_paths.append(gif_path)"
   ]
  },
  {
   "cell_type": "markdown",
   "metadata": {
    "id": "42dZn5re-HMF"
   },
   "source": [
    "# Introducing a new visualizer\n",
    "starting from l5kit `v1.3.0` you can now use an interactive visualiser (based on Bokeh) to inspect the scene.\n",
    "\n",
    "The visualization can be built starting from individual scenes and allows for a closer inspection over ego, agents and trajectories.\n",
    "\n",
    "`PRO TIP`: try to hover over one agent to show information about it"
   ]
  },
  {
   "cell_type": "code",
   "execution_count": null,
   "metadata": {},
   "outputs": [],
   "source": [
    "sampled_bokeh_animations = Path(save_directory, \"bokeh_animations\")\n",
    "sampled_bokeh_animations.mkdir(parents=True, exist_ok=True)"
   ]
  },
  {
   "cell_type": "code",
   "execution_count": null,
   "metadata": {},
   "outputs": [],
   "source": [
    "from bokeh.plotting import figure, output_file, save"
   ]
  },
  {
   "cell_type": "code",
   "execution_count": null,
   "metadata": {
    "colab": {
     "base_uri": "https://localhost:8080/",
     "height": 1000,
     "output_embedded_package_id": "1doFeT7whD16JzogVGG-Cdr-SeoyG88eD"
    },
    "id": "i8t-L0rJ6Duk",
    "outputId": "9c3272ae-fbb0-4485-ce0d-5e56c835d8f6"
   },
   "outputs": [],
   "source": [
    "# output_notebook()\n",
    "bokeh_animation_paths = []\n",
    "mapAPI = MapAPI.from_cfg(dm, cfg)\n",
    "for scene_idx in tqdm(sampled_scene_indices):\n",
    "    out = zarr_to_visualizer_scene(zarr_dataset.get_scene_dataset(scene_idx), mapAPI)\n",
    "    out_vis = visualize(scene_idx, out)\n",
    "    bokeh_path = Path(sampled_bokeh_animations, f\"scene-{scene_idx}.html\")\n",
    "    output_file(bokeh_path)\n",
    "    save(out_vis)\n",
    "    bokeh_animation_paths.append(bokeh_path)"
   ]
  },
  {
   "cell_type": "code",
   "execution_count": null,
   "metadata": {},
   "outputs": [],
   "source": [
    "sampled_animations_table = wandb.Table(columns = [\"scene_idx\", \"semantic_view\", \"satellite_view\", \"bokeh_view\"])\n",
    "for scene_idx, semantic_scene_path, satellite_scene_path, bokeh_scene_path in zip(sampled_scene_indices, semantic_scene_animation_paths, satellite_scene_animation_paths, bokeh_animation_paths):\n",
    "    sampled_animations_table.add_data(scene_idx, \n",
    "                                  wandb.Video(str(semantic_scene_path), format=\"gif\"), \n",
    "                                  wandb.Video(str(satellite_scene_path), format=\"gif\"),\n",
    "                                  wandb.Html(str(bokeh_scene_path))\n",
    "                                 )"
   ]
  },
  {
   "cell_type": "code",
   "execution_count": null,
   "metadata": {},
   "outputs": [],
   "source": [
    "# Artifact Information\n",
    "artifact_name = \"l5-data-analysis\"\n",
    "artifact_type = \"analysis\"\n",
    "artifact_description = \"\"\"\n",
    "(0) Table of aggregate details of zarr dataset\n",
    "(1) Table of Coordinates which generates a scatter plot of the AV locations\n",
    "(2) Agents Types Distribution\n",
    "(3) Table of Ego Frames\n",
    "(4) Table of Agent Frames\n",
    "(5) Table of Scene animations\n",
    "\"\"\""
   ]
  },
  {
   "cell_type": "code",
   "execution_count": null,
   "metadata": {},
   "outputs": [],
   "source": [
    "# zarr_dataset_details_table #move this to metadata of artifact during the initial logging step?\n",
    "# coord_table\n",
    "# label_table\n",
    "# sampled_frames_table\n",
    "# sampled_agents_table\n",
    "# sampled_animations_table"
   ]
  },
  {
   "cell_type": "code",
   "execution_count": null,
   "metadata": {},
   "outputs": [],
   "source": [
    "analysis_artifact = wandb.Artifact(name=artifact_name, type=artifact_type, description=artifact_description)\n",
    "analysis_artifact.add(zarr_dataset_details_table, \"zarr_dataset_details_table\")\n",
    "analysis_artifact.add(coord_table, \"coord_table\")\n",
    "analysis_artifact.add(label_table, \"label_table\")\n",
    "analysis_artifact.add(sampled_frames_table, \"sampled_frames_table\")\n",
    "analysis_artifact.add(sampled_agents_table, \"sampled_agents_table\")\n",
    "analysis_artifact.add(sampled_animations_table, \"sampled_animations_table\")\n",
    "#TODO: Add raw outputs to artifact? or redundant"
   ]
  },
  {
   "cell_type": "code",
   "execution_count": null,
   "metadata": {},
   "outputs": [],
   "source": [
    "run.log_artifact(analysis_artifact)"
   ]
  },
  {
   "cell_type": "code",
   "execution_count": null,
   "metadata": {},
   "outputs": [],
   "source": [
    "run.finish()"
   ]
  }
 ],
 "metadata": {
  "colab": {
   "collapsed_sections": [],
   "name": "Level-5-visualise_data.ipynb",
   "provenance": [
    {
     "file_id": "https://github.com/woven-planet/l5kit/blob/master/examples/visualisation/visualise_data.ipynb",
     "timestamp": 1660707947756
    }
   ]
  },
  "environment": {
   "kernel": "python3",
   "name": "common-cu110.m95",
   "type": "gcloud",
   "uri": "gcr.io/deeplearning-platform-release/base-cu110:m95"
  },
  "kernelspec": {
   "display_name": "Python 3",
   "language": "python",
   "name": "python3"
  },
  "language_info": {
   "codemirror_mode": {
    "name": "ipython",
    "version": 3
   },
   "file_extension": ".py",
   "mimetype": "text/x-python",
   "name": "python",
   "nbconvert_exporter": "python",
   "pygments_lexer": "ipython3",
   "version": "3.7.12"
  },
  "pycharm": {
   "stem_cell": {
    "cell_type": "raw",
    "metadata": {
     "collapsed": false
    },
    "source": []
   }
  },
  "toc-autonumbering": true
 },
 "nbformat": 4,
 "nbformat_minor": 4
}
