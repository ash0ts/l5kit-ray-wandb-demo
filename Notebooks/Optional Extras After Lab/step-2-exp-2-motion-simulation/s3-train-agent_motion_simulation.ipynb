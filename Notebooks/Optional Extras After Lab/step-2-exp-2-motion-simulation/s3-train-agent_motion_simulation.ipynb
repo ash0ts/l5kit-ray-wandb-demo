{
 "cells": [
  {
   "cell_type": "markdown",
   "id": "4a7e9c28-a760-4fef-8979-8e55ade0bacc",
   "metadata": {},
   "source": [
    "https://github.com/woven-planet/l5kit/blob/master/examples/simulation/train.ipynb"
   ]
  },
  {
   "cell_type": "markdown",
   "id": "2384ab5a-8af2-42ad-8123-dba750073746",
   "metadata": {
    "id": "2aXGGrVOJCbd"
   },
   "source": [
    "## Prepare Data path and load cfg\n",
    "\n",
    "By setting the `L5KIT_DATA_FOLDER` variable, we can point the script to the folder where the data lies.\n",
    "\n",
    "Then, we load our config file with relative paths and other configurations (rasteriser, training params...)."
   ]
  },
  {
   "cell_type": "markdown",
   "id": "9e174a8c-d551-44e9-909e-e985025d0145",
   "metadata": {
    "tags": []
   },
   "source": [
    "### Setup"
   ]
  },
  {
   "cell_type": "code",
   "execution_count": 1,
   "id": "904774e2-e363-49f0-91dc-a4137a472a51",
   "metadata": {},
   "outputs": [],
   "source": [
    "from pathlib import Path\n",
    "import os"
   ]
  },
  {
   "cell_type": "code",
   "execution_count": 2,
   "id": "1fb86d52-d44d-4572-9fc8-44f0ff42959d",
   "metadata": {},
   "outputs": [],
   "source": [
    "#NOTE: DONT USE RELATIVE PATHS FOR THE MODELS PROVIDED BY L5\n",
    "experiments_directory = Path(Path(os.path.abspath('')).parent.parent, \"Experiments\")\n",
    "experiments_directory.mkdir(parents=True, exist_ok=True)\n",
    "\n",
    "data_directory = Path(experiments_directory, \"data\")\n",
    "data_directory.mkdir(parents=True, exist_ok=True)\n",
    "\n",
    "prediction_directory = Path(experiments_directory, \"simulation\")\n",
    "prediction_directory.mkdir(parents=True, exist_ok=True)\n",
    "\n",
    "prediction_training_directory = Path(prediction_directory, \"training\")\n",
    "prediction_training_directory.mkdir(parents=True, exist_ok=True)\n",
    "\n",
    "save_directory = Path(prediction_training_directory, \"saved_outputs\")\n",
    "save_directory.mkdir(parents=True, exist_ok=True)"
   ]
  },
  {
   "cell_type": "code",
   "execution_count": 3,
   "id": "bc171cc6-a7ac-40d5-98bd-1cf0b1f7328b",
   "metadata": {},
   "outputs": [],
   "source": [
    "import os\n",
    "os.chdir(prediction_training_directory)"
   ]
  },
  {
   "cell_type": "code",
   "execution_count": 4,
   "id": "4a9c45fe-50bc-43a6-8f97-0b68df3387cb",
   "metadata": {},
   "outputs": [
    {
     "name": "stdout",
     "output_type": "stream",
     "text": [
      "Overwriting requirements.txt\n"
     ]
    }
   ],
   "source": [
    "%%writefile requirements.txt\n",
    "l5kit\n",
    "pyyaml\n",
    "ray==2.0.0rc1\n",
    "ray[air]\n",
    "wandb\n",
    "optuna"
   ]
  },
  {
   "cell_type": "code",
   "execution_count": 5,
   "id": "70971773-efbc-4ce0-9094-debfc698ec76",
   "metadata": {},
   "outputs": [],
   "source": [
    "%%capture\n",
    "# !pip install -r requirements.txt\n",
    "!pip install l5kit pyyaml\n",
    "!pip install wandb --upgrade\n",
    "!pip install ray==2.0.0rc1\n",
    "!pip install \"ray[air]\"\n",
    "!pip install optuna"
   ]
  },
  {
   "cell_type": "code",
   "execution_count": 6,
   "id": "309ddb76-343a-43d7-8f4e-7199f6599bd9",
   "metadata": {
    "id": "OKx_V_wnJCbb"
   },
   "outputs": [],
   "source": [
    "from typing import Dict\n",
    "\n",
    "from tempfile import gettempdir\n",
    "import matplotlib.pyplot as plt\n",
    "import numpy as np\n",
    "import torch\n",
    "from torch import nn, optim\n",
    "from torch.utils.data import DataLoader\n",
    "from torchvision.models.resnet import resnet50\n",
    "from tqdm import tqdm\n",
    "\n",
    "from l5kit.configs import load_config_data\n",
    "from l5kit.data import LocalDataManager, ChunkedDataset\n",
    "from l5kit.dataset import AgentDataset, EgoDataset\n",
    "from l5kit.rasterization import build_rasterizer\n",
    "from l5kit.evaluation import write_pred_csv, compute_metrics_csv, read_gt_csv, create_chopped_dataset\n",
    "from l5kit.evaluation.chop_dataset import MIN_FUTURE_STEPS\n",
    "from l5kit.evaluation.metrics import neg_multi_log_likelihood, time_displace, rmse, prob_true_mode, average_displacement_error_oracle, average_displacement_error_mean, final_displacement_error_oracle, final_displacement_error_mean, detect_collision, distance_to_reference_trajectory\n",
    "from l5kit.geometry import transform_points\n",
    "from l5kit.visualization import PREDICTED_POINTS_COLOR, TARGET_POINTS_COLOR, draw_trajectory\n",
    "from prettytable import PrettyTable\n",
    "from pathlib import Path\n",
    "\n",
    "import os"
   ]
  },
  {
   "cell_type": "code",
   "execution_count": 7,
   "id": "356493ba-43d1-477f-b812-6ca127273002",
   "metadata": {},
   "outputs": [],
   "source": [
    "from tempfile import gettempdir\n",
    "import matplotlib.pyplot as plt\n",
    "import numpy as np\n",
    "import torch\n",
    "from torch import nn, optim\n",
    "from torch.utils.data import DataLoader\n",
    "from tqdm import tqdm\n",
    "\n",
    "from l5kit.configs import load_config_data\n",
    "from l5kit.data import LocalDataManager, ChunkedDataset\n",
    "from l5kit.dataset import AgentDataset\n",
    "from l5kit.rasterization import build_rasterizer\n",
    "from l5kit.geometry import transform_points\n",
    "from l5kit.visualization import TARGET_POINTS_COLOR, draw_trajectory\n",
    "from l5kit.planning.rasterized.model import RasterizedPlanningModel\n",
    "\n",
    "import os"
   ]
  },
  {
   "cell_type": "markdown",
   "id": "4efdb3bf-e580-4c65-afd6-da9b15feb0df",
   "metadata": {},
   "source": [
    "### Get Data from Wandb"
   ]
  },
  {
   "cell_type": "code",
   "execution_count": 8,
   "id": "40446f30-1074-451e-94bd-94a2bbb522fd",
   "metadata": {
    "colab": {
     "base_uri": "https://localhost:8080/",
     "height": 71
    },
    "executionInfo": {
     "elapsed": 5572,
     "status": "ok",
     "timestamp": 1660707075761,
     "user": {
      "displayName": "Anish Shah",
      "userId": "05913492621931233323"
     },
     "user_tz": 240
    },
    "id": "Hbg_JE1s0q6u",
    "outputId": "48fec4f3-85e5-413a-911c-e4db3ad1aaa4"
   },
   "outputs": [
    {
     "name": "stderr",
     "output_type": "stream",
     "text": [
      "\u001b[34m\u001b[1mwandb\u001b[0m: Currently logged in as: \u001b[33ma-sh0ts\u001b[0m. Use \u001b[1m`wandb login --relogin`\u001b[0m to force relogin\n"
     ]
    },
    {
     "data": {
      "text/plain": [
       "True"
      ]
     },
     "execution_count": 8,
     "metadata": {},
     "output_type": "execute_result"
    }
   ],
   "source": [
    "import wandb\n",
    "wandb.login()"
   ]
  },
  {
   "cell_type": "code",
   "execution_count": 9,
   "id": "12870502-8cea-46e2-ae70-7e2ac5eb0b2e",
   "metadata": {},
   "outputs": [],
   "source": [
    "# Run information\n",
    "wandb_entity = \"l5-demo\"\n",
    "project_name = \"l5-simulation\"\n",
    "run_name = \"download-l5-data\"\n",
    "run_type = \"download\"\n",
    "run_description = \"\"\"\n",
    "Download data for the task of training a prediction model\n",
    "\"\"\"\n",
    "tags = [\"download\", \"data\"]"
   ]
  },
  {
   "cell_type": "code",
   "execution_count": 10,
   "id": "a63df678-485d-4615-beeb-d8408806c6af",
   "metadata": {},
   "outputs": [
    {
     "name": "stderr",
     "output_type": "stream",
     "text": [
      "\u001b[34m\u001b[1mwandb\u001b[0m: Currently logged in as: \u001b[33ma-sh0ts\u001b[0m (\u001b[33ml5-demo\u001b[0m). Use \u001b[1m`wandb login --relogin`\u001b[0m to force relogin\n"
     ]
    },
    {
     "data": {
      "text/html": [
       "Tracking run with wandb version 0.13.2"
      ],
      "text/plain": [
       "<IPython.core.display.HTML object>"
      ]
     },
     "metadata": {},
     "output_type": "display_data"
    },
    {
     "data": {
      "text/html": [
       "Run data is saved locally in <code>/home/jupyter/l5kit-ray-wandb-demo/Experiments/simulation/training/wandb/run-20220907_222017-2dy0uczf</code>"
      ],
      "text/plain": [
       "<IPython.core.display.HTML object>"
      ]
     },
     "metadata": {},
     "output_type": "display_data"
    },
    {
     "data": {
      "text/html": [
       "Syncing run <strong><a href=\"https://wandb.ai/l5-demo/l5-simulation/runs/2dy0uczf\" target=\"_blank\">download-l5-data</a></strong> to <a href=\"https://wandb.ai/l5-demo/l5-simulation\" target=\"_blank\">Weights & Biases</a> (<a href=\"https://wandb.me/run\" target=\"_blank\">docs</a>)<br/>"
      ],
      "text/plain": [
       "<IPython.core.display.HTML object>"
      ]
     },
     "metadata": {},
     "output_type": "display_data"
    }
   ],
   "source": [
    "#🪄🐝\n",
    "run = wandb.init(\n",
    "    entity=wandb_entity,\n",
    "    project=project_name,\n",
    "    job_type=run_type,\n",
    "    name=run_name,\n",
    "    notes=run_description,\n",
    "    tags=tags\n",
    ")"
   ]
  },
  {
   "cell_type": "code",
   "execution_count": 11,
   "id": "21f56b70-75d1-4adb-9bd2-e513682c93b5",
   "metadata": {},
   "outputs": [],
   "source": [
    "artifact_entity = \"l5-demo\"\n",
    "artifact_project = \"l5-common\"\n",
    "artifact_name = \"l5-data\"\n",
    "artifact_alias = \"latest\"\n",
    "artifact_type = \"dataset\""
   ]
  },
  {
   "cell_type": "code",
   "execution_count": 12,
   "id": "2893ebe1-e349-4cc7-9821-5e93bd1a8231",
   "metadata": {},
   "outputs": [],
   "source": [
    "#🪄🐝\n",
    "artifact = run.use_artifact(f\"{artifact_entity}/{artifact_project}/{artifact_name}:{artifact_alias}\", type=artifact_type)"
   ]
  },
  {
   "cell_type": "code",
   "execution_count": 13,
   "id": "d8ce915e-8972-42d4-bbde-503c35d033f3",
   "metadata": {},
   "outputs": [
    {
     "name": "stderr",
     "output_type": "stream",
     "text": [
      "\u001b[34m\u001b[1mwandb\u001b[0m: Downloading large artifact l5-data:latest, 2386.92MB. 517 files... Done. 0:1:5.5\n"
     ]
    }
   ],
   "source": [
    "_ = artifact.download(data_directory)"
   ]
  },
  {
   "cell_type": "code",
   "execution_count": 14,
   "id": "60ac0799-77cd-45a6-b959-b9617aa8d19e",
   "metadata": {},
   "outputs": [
    {
     "data": {
      "text/html": [
       "Waiting for W&B process to finish... <strong style=\"color:green\">(success).</strong>"
      ],
      "text/plain": [
       "<IPython.core.display.HTML object>"
      ]
     },
     "metadata": {},
     "output_type": "display_data"
    },
    {
     "data": {
      "application/vnd.jupyter.widget-view+json": {
       "model_id": "",
       "version_major": 2,
       "version_minor": 0
      },
      "text/plain": [
       "VBox(children=(Label(value='1.046 MB of 1.046 MB uploaded (0.000 MB deduped)\\r'), FloatProgress(value=1.0, max…"
      ]
     },
     "metadata": {},
     "output_type": "display_data"
    },
    {
     "data": {
      "text/html": [
       "Synced <strong style=\"color:#cdcd00\">download-l5-data</strong>: <a href=\"https://wandb.ai/l5-demo/l5-simulation/runs/2dy0uczf\" target=\"_blank\">https://wandb.ai/l5-demo/l5-simulation/runs/2dy0uczf</a><br/>Synced 7 W&B file(s), 0 media file(s), 0 artifact file(s) and 1 other file(s)"
      ],
      "text/plain": [
       "<IPython.core.display.HTML object>"
      ]
     },
     "metadata": {},
     "output_type": "display_data"
    },
    {
     "data": {
      "text/html": [
       "Find logs at: <code>./wandb/run-20220907_222017-2dy0uczf/logs</code>"
      ],
      "text/plain": [
       "<IPython.core.display.HTML object>"
      ]
     },
     "metadata": {},
     "output_type": "display_data"
    }
   ],
   "source": [
    "#BUG: need to seperate runs into download and training due to issues with routing runs after ray.tune\n",
    "run.finish()"
   ]
  },
  {
   "cell_type": "code",
   "execution_count": 15,
   "id": "9b793243-7722-4502-94c9-f32c044aa230",
   "metadata": {},
   "outputs": [],
   "source": [
    "# Dataset is assumed to be on the folder specified\n",
    "# in the L5KIT_DATA_FOLDER environment variable\n",
    "\n",
    "# get config\n",
    "cfg = load_config_data(Path(data_directory, \"configurations\", \"simulation_config.yaml\"))\n",
    "\n",
    "##TODO-Fix with logic flow to select dataset###\n",
    "cfg[\"train_data_loader\"][\"key\"] = \"scenes/sample.zarr\"\n",
    "cfg[\"val_data_loader\"][\"key\"] = \"scenes/sample.zarr\"\n",
    "\n",
    "l5_data_location = Path(data_directory, \"dataset\")\n",
    "# run.config.update(cfg)"
   ]
  },
  {
   "cell_type": "code",
   "execution_count": 16,
   "id": "ca59e86a-7e5c-4438-bfa3-ae61bd378ac1",
   "metadata": {},
   "outputs": [],
   "source": [
    "# cfg[\"zarr_dataset_location\"] = l5_data_location\n",
    "os.environ[\"L5KIT_DATA_FOLDER\"] = str(l5_data_location)"
   ]
  },
  {
   "cell_type": "markdown",
   "id": "433cd44f-e828-482e-93af-bdc550c7a564",
   "metadata": {
    "id": "_ZX_d_ObJCbg"
   },
   "source": [
    "## Model\n",
    "\n",
    "Our baseline is a simple `resnet50` pretrained on `imagenet`. We must replace the input and the final layer to address our requirements."
   ]
  },
  {
   "cell_type": "code",
   "execution_count": 17,
   "id": "35126c9f-2be2-425d-8321-1347e2f223da",
   "metadata": {
    "id": "2i3FeP99JCbg"
   },
   "outputs": [],
   "source": [
    "def build_model(cfg: Dict, num_input_channels, criterion):\n",
    "    model = RasterizedPlanningModel(\n",
    "        model_arch=cfg[\"model_params\"][\"model_architecture\"],\n",
    "        num_input_channels=num_input_channels,\n",
    "        num_targets=3 * cfg[\"model_params\"][\"future_num_frames\"],  # X, Y, Yaw * number of future states,\n",
    "        weights_scaling= [1., 1., 1.],\n",
    "        criterion=criterion\n",
    "        )\n",
    "\n",
    "    return model"
   ]
  },
  {
   "cell_type": "code",
   "execution_count": 18,
   "id": "dfccc2df-e585-4572-82f9-5587cbff98e7",
   "metadata": {
    "id": "L-MMuG4LJCbh"
   },
   "outputs": [],
   "source": [
    "def forward(data, model, criterion):    \n",
    "    outputs = model(data)\n",
    "    loss = outputs[\"loss\"]\n",
    "    return loss, outputs"
   ]
  },
  {
   "cell_type": "code",
   "execution_count": 19,
   "id": "6942b04b-3759-47c0-a32f-afc3bf6db788",
   "metadata": {
    "id": "I8zTOjoAz3mW"
   },
   "outputs": [],
   "source": [
    "def train_simulation_model_epoch(data, model, criterion, optimizer):\n",
    "    loss, outputs = forward(data, model, criterion)\n",
    "    # Backward pass\n",
    "    optimizer.zero_grad()\n",
    "    loss.backward()\n",
    "    optimizer.step()\n",
    "    return loss, outputs"
   ]
  },
  {
   "cell_type": "markdown",
   "id": "ba3568ba-173f-462f-acd8-4b9f46ba7212",
   "metadata": {
    "id": "oz8fUbbTJCbh"
   },
   "source": [
    "Our data pipeline map a raw `.zarr` folder into a multi-processing instance ready for training by:\n",
    "- loading the `zarr` into a `ChunkedDataset` object. This object has a reference to the different arrays into the zarr (e.g. agents and traffic lights);\n",
    "- wrapping the `ChunkedDataset` into an `AgentDataset`, which inherits from torch `Dataset` class;\n",
    "- passing the `AgentDataset` into a torch `DataLoader`"
   ]
  },
  {
   "cell_type": "markdown",
   "id": "18bb4fde-8b53-4f64-90be-76be2cc03cf5",
   "metadata": {
    "id": "-EDp7WnqJCbh"
   },
   "source": [
    "# Training\n",
    "\n",
    "note: if you're on MacOS and using `py_satellite` rasterizer, you may need to disable opencv multiprocessing by adding:\n",
    "`cv2.setNumThreads(0)` before the following cell. This seems to only affect running in python notebook and it's caused by the `cv2.warpaffine` function"
   ]
  },
  {
   "cell_type": "code",
   "execution_count": 20,
   "id": "2c7c1b1e-94be-42bf-a839-cf23eb5d166a",
   "metadata": {
    "id": "sQGV6T8F1q8h"
   },
   "outputs": [],
   "source": [
    "import ray.train as train\n",
    "from ray.air import session, Checkpoint"
   ]
  },
  {
   "cell_type": "code",
   "execution_count": 21,
   "id": "bdf01e2b-8aab-4563-857c-f85a1134dddc",
   "metadata": {},
   "outputs": [],
   "source": [
    "from ray import tune\n",
    "from ray.tune.tuner import Tuner"
   ]
  },
  {
   "cell_type": "code",
   "execution_count": 22,
   "id": "e8e9ac83-9869-4557-af22-795d0b3bfcab",
   "metadata": {
    "id": "8gRu7-HmxCrE"
   },
   "outputs": [],
   "source": [
    "def train_simulation_model(tuner_cfg : Dict):\n",
    "    trial_name = session.get_trial_name()\n",
    "    trial_id = session.get_trial_id()\n",
    "    trial_readable_name = f\"{trial_name}_{trial_id}\"\n",
    "    \n",
    "    dm = LocalDataManager()\n",
    "    \n",
    "    # ==== Configurations\n",
    "    shuffle = tuner_cfg[\"shuffle\"]\n",
    "    batch_size = int(tuner_cfg[\"batch_size\"])\n",
    "    num_workers = tuner_cfg[\"num_workers\"]\n",
    "    lr = tuner_cfg[\"lr\"]\n",
    "    max_num_steps = int(tuner_cfg[\"max_num_steps\"])\n",
    "    dataset_key = tuner_cfg[\"dataset_key\"]\n",
    "    cfg = tuner_cfg[\"cfg\"]\n",
    "    \n",
    "    # ==== Loading Dataset\n",
    "    rasterizer = build_rasterizer(cfg, dm)\n",
    "\n",
    "    train_zarr = ChunkedDataset(dm.require(dataset_key)).open()\n",
    "    train_dataset = AgentDataset(cfg, train_zarr, rasterizer)\n",
    "\n",
    "    batch_size_per_worker = batch_size // session.get_world_size()\n",
    "    train_dataloader = DataLoader(train_dataset, shuffle=shuffle, batch_size=batch_size_per_worker, num_workers=num_workers)\n",
    "    train_dataloader = train.torch.prepare_data_loader(train_dataloader)\n",
    "    \n",
    "    # ==== Init model\n",
    "    criterion = nn.MSELoss(reduction=\"none\")\n",
    "    num_input_channels = rasterizer.num_channels()\n",
    "    \n",
    "    model = build_model(cfg, num_input_channels, criterion)\n",
    "    model = train.torch.prepare_model(model)\n",
    "    optimizer = optim.Adam(model.parameters(), lr=lr)\n",
    "\n",
    "    # ==== TRAIN LOOP\n",
    "    tr_it = iter(train_dataloader)\n",
    "    progress_bar = range(max_num_steps)\n",
    "    num_checkpoints = 5\n",
    "    steps_before_checkpointing = max_num_steps // num_checkpoints\n",
    "    losses_train = []\n",
    "    checkpoint_counter = 0\n",
    "    \n",
    "    for step in progress_bar:\n",
    "        try:\n",
    "            data = next(tr_it)\n",
    "        except StopIteration:\n",
    "            tr_it = iter(train_dataloader)\n",
    "            data = next(tr_it)\n",
    "            \n",
    "        model.train()\n",
    "        torch.set_grad_enabled(True)\n",
    "        loss, _ = train_simulation_model_epoch(data, model, criterion, optimizer)\n",
    "        losses_train.append(loss.item())\n",
    "        avg_loss = np.mean(losses_train)\n",
    "        metrics = {\n",
    "            \"loss\": loss.item(),\n",
    "            \"avg_loss\": avg_loss\n",
    "        }\n",
    "        \n",
    "        if train.world_rank() == 0:\n",
    "            print(metrics)\n",
    "        \n",
    "        if (step%steps_before_checkpointing==0) or (step==max_num_steps-1):\n",
    "            session.report(\n",
    "                metrics=metrics,\n",
    "                checkpoint=Checkpoint.from_dict(dict(step=step, model=model)))\n",
    "            checkpoint_counter += 1\n",
    "        else:\n",
    "            session.report(\n",
    "                metrics=metrics\n",
    "            )"
   ]
  },
  {
   "cell_type": "markdown",
   "id": "d3ecb395-20ee-4f69-85f7-7242d6804e54",
   "metadata": {},
   "source": [
    "### Distributed Training using Ray"
   ]
  },
  {
   "cell_type": "markdown",
   "id": "6852f3cb-8ac9-433e-b5ab-e5d58c4aaca4",
   "metadata": {},
   "source": [
    "We calculate the available hardware for our current training sessions and efficiently split CPUs based on GPUs or split CPUs evenly if possible"
   ]
  },
  {
   "cell_type": "code",
   "execution_count": 23,
   "id": "d08897fb-a088-41b2-a00b-7d67d4ec2ee1",
   "metadata": {
    "id": "L2ic0NRa0X2q"
   },
   "outputs": [],
   "source": [
    "from ray.train.torch import TorchTrainer\n",
    "from ray.air.config import RunConfig, ScalingConfig\n",
    "from ray.air.callbacks.wandb import WandbLoggerCallback #🪄🐝"
   ]
  },
  {
   "cell_type": "code",
   "execution_count": 24,
   "id": "10d08a11-8a6e-4fb7-a4da-24981cc8e7ab",
   "metadata": {},
   "outputs": [],
   "source": [
    "import multiprocessing"
   ]
  },
  {
   "cell_type": "code",
   "execution_count": 25,
   "id": "872855c9-a4ff-4ae1-8b91-0b459e49c3d0",
   "metadata": {},
   "outputs": [],
   "source": [
    "USE_GPU = torch.cuda.is_available()\n",
    "NUM_GPUS = torch.cuda.device_count()\n",
    "NUM_CPUS = multiprocessing.cpu_count()"
   ]
  },
  {
   "cell_type": "code",
   "execution_count": 26,
   "id": "c1689864-2eba-49b9-bbff-506e331017fe",
   "metadata": {},
   "outputs": [],
   "source": [
    "if USE_GPU:\n",
    "    num_actors = NUM_GPUS\n",
    "    num_data_workers = NUM_CPUS // num_actors\n",
    "else:\n",
    "    num_data_workers = 4 if NUM_CPUS>=4 else NUM_CPUS\n",
    "    ideal_num_actors = NUM_CPUS // num_data_workers\n",
    "    num_actors = ideal_num_actors if ideal_num_actors else 1"
   ]
  },
  {
   "cell_type": "markdown",
   "id": "b64532e9-5e58-49d9-9834-2e04b8f88482",
   "metadata": {},
   "source": [
    "To use Ray all we need to simply do is wrap the training function above. The only addition needed above was calls to `report.session` to log metrics during training"
   ]
  },
  {
   "cell_type": "code",
   "execution_count": 27,
   "id": "fdbb0715-6f7d-4798-8987-5349abc91f17",
   "metadata": {
    "colab": {
     "base_uri": "https://localhost:8080/"
    },
    "executionInfo": {
     "elapsed": 6465,
     "status": "ok",
     "timestamp": 1660707090583,
     "user": {
      "displayName": "Anish Shah",
      "userId": "05913492621931233323"
     },
     "user_tz": 240
    },
    "id": "MqgEP_OE0cIa",
    "outputId": "941a3d0a-e9a6-4f8a-dd89-5c5414e63555"
   },
   "outputs": [
    {
     "name": "stderr",
     "output_type": "stream",
     "text": [
      "2022-09-07 22:21:35,421\tINFO worker.py:1487 -- Started a local Ray instance. View the dashboard at \u001b[1m\u001b[32mhttp://127.0.0.1:8265\u001b[39m\u001b[22m.\n"
     ]
    }
   ],
   "source": [
    "#NOTE: To figure out if scaling config intuiutin is correct: num_actors divide resources between each actor and within the train func each actor can the utilize the shared resources\n",
    "trainer = TorchTrainer(\n",
    "    train_loop_per_worker=train_simulation_model,\n",
    "    scaling_config=ScalingConfig(num_workers=num_actors, use_gpu=USE_GPU),\n",
    ")"
   ]
  },
  {
   "cell_type": "markdown",
   "id": "92f51563-179a-48ee-aee9-818b7f04a6bf",
   "metadata": {},
   "source": [
    "### Distributed Hyperparemeter Tuning using Ray\n",
    "\n",
    "Due to Ray's easy interface we can simply extend our normal trainer to Ray's tuner which will allow us to do efficient hyperparameter optimization. In our case we use `optuna`"
   ]
  },
  {
   "cell_type": "code",
   "execution_count": 28,
   "id": "96d59580-be19-41a3-9ed8-c4dd0057469a",
   "metadata": {},
   "outputs": [],
   "source": [
    "tuner_train_config = {}\n",
    "##static\n",
    "tuner_train_config[\"shuffle\"] = cfg[\"train_data_loader\"][\"shuffle\"]\n",
    "tuner_train_config[\"num_workers\"] = num_data_workers\n",
    "tuner_train_config[\"dataset_key\"] = cfg[\"train_data_loader\"][\"key\"]\n",
    "\n",
    "##tunable\n",
    "tuner_train_config[\"max_num_steps\"] = 5\n",
    "# tuner_train_config[\"max_num_steps\"] = tune.quniform(1000, 5000, 250)\n",
    "tuner_train_config[\"lr\"] = tune.loguniform(1e-4, 1e-2)\n",
    "tuner_train_config[\"batch_size\"] = tune.quniform(6, 24, 6)\n",
    "cfg[\"raster_params\"][\"map_type\"] = tune.choice([\"py_semantic\", \"py_satellite\"])\n",
    "\n",
    "tuner_train_config[\"cfg\"] = cfg"
   ]
  },
  {
   "cell_type": "code",
   "execution_count": 29,
   "id": "5cda065f-6734-4100-ac7b-e29459ecf2b2",
   "metadata": {},
   "outputs": [],
   "source": [
    "from ray.tune.logger import LoggerCallback\n",
    "from typing import Dict, List"
   ]
  },
  {
   "cell_type": "code",
   "execution_count": 30,
   "id": "567dc9c3-c034-41bb-9e90-ba02a78735c1",
   "metadata": {},
   "outputs": [],
   "source": [
    "from ray.tune.stopper import ExperimentPlateauStopper\n",
    "from ray.tune.search.optuna import OptunaSearch"
   ]
  },
  {
   "cell_type": "code",
   "execution_count": 31,
   "id": "f9acea3c-3147-400c-ab9b-f105cc5a675c",
   "metadata": {},
   "outputs": [],
   "source": [
    "n_search_attempts = 25"
   ]
  },
  {
   "cell_type": "code",
   "execution_count": 32,
   "id": "6342c5f4-c259-4831-8886-b4a02cdc0a52",
   "metadata": {},
   "outputs": [],
   "source": [
    "optuna_search = OptunaSearch()"
   ]
  },
  {
   "cell_type": "code",
   "execution_count": 33,
   "id": "5c233f88-4dc0-462e-9657-a08d96cd4481",
   "metadata": {},
   "outputs": [
    {
     "name": "stderr",
     "output_type": "stream",
     "text": [
      "/opt/conda/lib/python3.7/site-packages/ipykernel_launcher.py:14: UserWarning: Executing `.fit()` may leave less than 20% of CPUs in this cluster for Dataset execution, which can lead to resource contention or hangs. To avoid this, reserve at least 20% of node CPUs for Dataset execution by setting `_max_cpu_fraction_per_node = 0.8` in the Trainer scaling_config. See https://docs.ray.io/en/master/data/dataset-internals.html#datasets-and-tune for more info.\n",
      "  \n"
     ]
    }
   ],
   "source": [
    "tuner = Tuner(\n",
    "        trainer,\n",
    "        tune_config=tune.TuneConfig(\n",
    "            metric=\"avg_loss\", #loss or avg_loss here?\n",
    "            mode=\"min\",\n",
    "            search_alg=optuna_search,\n",
    "            num_samples=n_search_attempts,\n",
    "        ),\n",
    "        param_space={\n",
    "            \"train_loop_config\": tuner_train_config\n",
    "        },\n",
    "        run_config=RunConfig(\n",
    "            stop=ExperimentPlateauStopper(\"avg_loss\"),\n",
    "            callbacks=[WandbLoggerCallback(project=f\"{project_name}-trials\", save_checkpoints=True),]))  #🪄🐝"
   ]
  },
  {
   "cell_type": "markdown",
   "id": "22efd113-654a-45a1-9316-55dcf816874a",
   "metadata": {},
   "source": [
    "### Aggregrate and Report Metrics from All Trials"
   ]
  },
  {
   "cell_type": "code",
   "execution_count": 34,
   "id": "0cd0f447-99f7-4fda-9907-82b5e2d41aa3",
   "metadata": {
    "colab": {
     "base_uri": "https://localhost:8080/",
     "height": 1000
    },
    "executionInfo": {
     "elapsed": 158825,
     "status": "ok",
     "timestamp": 1660707249406,
     "user": {
      "displayName": "Anish Shah",
      "userId": "05913492621931233323"
     },
     "user_tz": 240
    },
    "id": "kOE9cNax197M",
    "outputId": "ff23d83a-4e9f-4876-f1cd-54f752b4563d"
   },
   "outputs": [
    {
     "name": "stderr",
     "output_type": "stream",
     "text": [
      "\u001b[32m[I 2022-09-07 22:21:37,915]\u001b[0m A new study created in memory with name: optuna\u001b[0m\n",
      "2022-09-07 22:21:37,964\tINFO wandb.py:119 -- Already logged into W&B.\n"
     ]
    },
    {
     "data": {
      "text/html": [
       "== Status ==<br>Current time: 2022-09-07 22:41:10 (running for 00:19:32.69)<br>Memory usage on this node: 2.0/14.7 GiB<br>Using FIFO scheduling algorithm.<br>Resources requested: 0/4 CPUs, 0/0 GPUs, 0.0/8.12 GiB heap, 0.0/4.06 GiB objects<br>Current best trial: ffd13a76 with avg_loss=34.84402942657471 and parameters={'train_loop_config': {'shuffle': True, 'num_workers': 4, 'dataset_key': 'scenes/sample.zarr', 'max_num_steps': 5, 'lr': 0.0001923616407857267, 'batch_size': 24.0, 'cfg': {'format_version': 4, 'model_params': {'model_architecture': 'resnet50', 'history_num_frames': 5, 'future_num_frames': 50, 'step_time': 0.1, 'render_ego_history': False}, 'raster_params': {'raster_size': [224, 224], 'pixel_size': [0.5, 0.5], 'ego_center': [0.25, 0.5], 'map_type': 'py_semantic', 'satellite_map_key': 'aerial_map/aerial_map.png', 'semantic_map_key': 'semantic_map/semantic_map.pb', 'dataset_meta_key': 'meta.json', 'filter_agents_threshold': 0.5, 'disable_traffic_light_faces': False, 'set_origin_to_bottom': True}, 'train_data_loader': {'key': 'scenes/sample.zarr', 'batch_size': 12, 'shuffle': True, 'num_workers': 16, 'perturb_probability': 0.0}, 'val_data_loader': {'key': 'scenes/sample.zarr', 'batch_size': 12, 'shuffle': False, 'num_workers': 16}, 'train_params': {'checkpoint_every_n_steps': 10000, 'max_num_steps': 5, 'eval_every_n_steps': 10000}}}}<br>Result logdir: /home/jupyter/ray_results/TorchTrainer_2022-09-07_22-21-37<br>Number of trials: 25/25 (25 TERMINATED)<br><table>\n",
       "<thead>\n",
       "<tr><th>Trial name           </th><th>status    </th><th>loc             </th><th style=\"text-align: right;\">  train_loop_config...</th><th>train_loop_config...  </th><th style=\"text-align: right;\">  train_loop_config/lr</th><th style=\"text-align: right;\">  iter</th><th style=\"text-align: right;\">  total time (s)</th><th style=\"text-align: right;\">      loss</th><th style=\"text-align: right;\">  avg_loss</th><th style=\"text-align: right;\">  _timestamp</th></tr>\n",
       "</thead>\n",
       "<tbody>\n",
       "<tr><td>TorchTrainer_70a52fb0</td><td>TERMINATED</td><td>10.150.0.3:23101</td><td style=\"text-align: right;\">                    12</td><td>py_semantic           </td><td style=\"text-align: right;\">           0.000679685</td><td style=\"text-align: right;\">     5</td><td style=\"text-align: right;\">         64.812 </td><td style=\"text-align: right;\"> 33.7803  </td><td style=\"text-align: right;\">   65.7031</td><td style=\"text-align: right;\">  1662589365</td></tr>\n",
       "<tr><td>TorchTrainer_727aa5ae</td><td>TERMINATED</td><td>10.150.0.3:23173</td><td style=\"text-align: right;\">                    24</td><td>py_semantic           </td><td style=\"text-align: right;\">           0.00211888 </td><td style=\"text-align: right;\">     5</td><td style=\"text-align: right;\">        112.337 </td><td style=\"text-align: right;\"> 67.1353  </td><td style=\"text-align: right;\">   68.1636</td><td style=\"text-align: right;\">  1662589417</td></tr>\n",
       "<tr><td>TorchTrainer_7283a4c4</td><td>TERMINATED</td><td>10.150.0.3:24265</td><td style=\"text-align: right;\">                     6</td><td>py_satellite          </td><td style=\"text-align: right;\">           0.000357663</td><td style=\"text-align: right;\">     5</td><td style=\"text-align: right;\">         36.441 </td><td style=\"text-align: right;\">  0.366061</td><td style=\"text-align: right;\">   80.4814</td><td style=\"text-align: right;\">  1662589416</td></tr>\n",
       "<tr><td>TorchTrainer_9fab1d06</td><td>TERMINATED</td><td>10.150.0.3:25250</td><td style=\"text-align: right;\">                    18</td><td>py_satellite          </td><td style=\"text-align: right;\">           0.00178972 </td><td style=\"text-align: right;\">     5</td><td style=\"text-align: right;\">         82.5818</td><td style=\"text-align: right;\"> 44.4912  </td><td style=\"text-align: right;\">   57.2109</td><td style=\"text-align: right;\">  1662589519</td></tr>\n",
       "<tr><td>TorchTrainer_c12d4d82</td><td>TERMINATED</td><td>10.150.0.3:25260</td><td style=\"text-align: right;\">                    18</td><td>py_satellite          </td><td style=\"text-align: right;\">           0.000146682</td><td style=\"text-align: right;\">     5</td><td style=\"text-align: right;\">         82.3744</td><td style=\"text-align: right;\"> 66.3325  </td><td style=\"text-align: right;\">   96.6547</td><td style=\"text-align: right;\">  1662589520</td></tr>\n",
       "<tr><td>TorchTrainer_c19f6e8a</td><td>TERMINATED</td><td>10.150.0.3:26884</td><td style=\"text-align: right;\">                    18</td><td>py_satellite          </td><td style=\"text-align: right;\">           0.00281803 </td><td style=\"text-align: right;\">     5</td><td style=\"text-align: right;\">         84.7158</td><td style=\"text-align: right;\"> 16.0632  </td><td style=\"text-align: right;\">   50.1754</td><td style=\"text-align: right;\">  1662589627</td></tr>\n",
       "<tr><td>TorchTrainer_ffd13a76</td><td>TERMINATED</td><td>10.150.0.3:26919</td><td style=\"text-align: right;\">                    24</td><td>py_semantic           </td><td style=\"text-align: right;\">           0.000192362</td><td style=\"text-align: right;\">     5</td><td style=\"text-align: right;\">        109.775 </td><td style=\"text-align: right;\"> 14.2937  </td><td style=\"text-align: right;\">   34.844 </td><td style=\"text-align: right;\">  1662589652</td></tr>\n",
       "<tr><td>TorchTrainer_0038a5bc</td><td>TERMINATED</td><td>10.150.0.3:28508</td><td style=\"text-align: right;\">                     6</td><td>py_satellite          </td><td style=\"text-align: right;\">           0.000658554</td><td style=\"text-align: right;\">     5</td><td style=\"text-align: right;\">         41.7107</td><td style=\"text-align: right;\">107.925   </td><td style=\"text-align: right;\">  107.537 </td><td style=\"text-align: right;\">  1662589683</td></tr>\n",
       "<tr><td>TorchTrainer_3b7a5fee</td><td>TERMINATED</td><td>10.150.0.3:28875</td><td style=\"text-align: right;\">                    12</td><td>py_semantic           </td><td style=\"text-align: right;\">           0.007989   </td><td style=\"text-align: right;\">     5</td><td style=\"text-align: right;\">         61.7474</td><td style=\"text-align: right;\"> 78.5341  </td><td style=\"text-align: right;\">   81.7076</td><td style=\"text-align: right;\">  1662589728</td></tr>\n",
       "<tr><td>TorchTrainer_4a587ab4</td><td>TERMINATED</td><td>10.150.0.3:29736</td><td style=\"text-align: right;\">                     6</td><td>py_semantic           </td><td style=\"text-align: right;\">           0.000282046</td><td style=\"text-align: right;\">     5</td><td style=\"text-align: right;\">         36.7738</td><td style=\"text-align: right;\"> 19.8298  </td><td style=\"text-align: right;\">   46.7594</td><td style=\"text-align: right;\">  1662589734</td></tr>\n",
       "<tr><td>TorchTrainer_5c8963a6</td><td>TERMINATED</td><td>10.150.0.3:30739</td><td style=\"text-align: right;\">                    12</td><td>py_satellite          </td><td style=\"text-align: right;\">           0.000610712</td><td style=\"text-align: right;\">     5</td><td style=\"text-align: right;\">         60.6761</td><td style=\"text-align: right;\">103.544   </td><td style=\"text-align: right;\">   59.8095</td><td style=\"text-align: right;\">  1662589811</td></tr>\n",
       "<tr><td>TorchTrainer_7c8db18e</td><td>TERMINATED</td><td>10.150.0.3:30748</td><td style=\"text-align: right;\">                    24</td><td>py_semantic           </td><td style=\"text-align: right;\">           0.000100034</td><td style=\"text-align: right;\">     5</td><td style=\"text-align: right;\">        112.701 </td><td style=\"text-align: right;\"> 69.8662  </td><td style=\"text-align: right;\">   72.6131</td><td style=\"text-align: right;\">  1662589864</td></tr>\n",
       "<tr><td>TorchTrainer_7ce876fa</td><td>TERMINATED</td><td>10.150.0.3:31872</td><td style=\"text-align: right;\">                    24</td><td>py_semantic           </td><td style=\"text-align: right;\">           0.000117463</td><td style=\"text-align: right;\">     5</td><td style=\"text-align: right;\">        109.343 </td><td style=\"text-align: right;\"> 55.9706  </td><td style=\"text-align: right;\">   74.7806</td><td style=\"text-align: right;\">  1662589938</td></tr>\n",
       "<tr><td>TorchTrainer_a9126326</td><td>TERMINATED</td><td>10.150.0.3:32730</td><td style=\"text-align: right;\">                    24</td><td>py_semantic           </td><td style=\"text-align: right;\">           0.000110063</td><td style=\"text-align: right;\">     5</td><td style=\"text-align: right;\">        110.514 </td><td style=\"text-align: right;\"> 49.4914  </td><td style=\"text-align: right;\">   73.5016</td><td style=\"text-align: right;\">  1662589987</td></tr>\n",
       "<tr><td>TorchTrainer_c7d92f7e</td><td>TERMINATED</td><td>10.150.0.3:1240 </td><td style=\"text-align: right;\">                     6</td><td>py_semantic           </td><td style=\"text-align: right;\">           0.000248745</td><td style=\"text-align: right;\">     5</td><td style=\"text-align: right;\">         36.7071</td><td style=\"text-align: right;\"> 46.4576  </td><td style=\"text-align: right;\">   79.166 </td><td style=\"text-align: right;\">  1662589991</td></tr>\n",
       "<tr><td>TorchTrainer_f5d3e478</td><td>TERMINATED</td><td>10.150.0.3:2178 </td><td style=\"text-align: right;\">                     6</td><td>py_semantic           </td><td style=\"text-align: right;\">           0.000273402</td><td style=\"text-align: right;\">     5</td><td style=\"text-align: right;\">         41.1337</td><td style=\"text-align: right;\"> 37.4855  </td><td style=\"text-align: right;\">   89.9846</td><td style=\"text-align: right;\">  1662590048</td></tr>\n",
       "<tr><td>TorchTrainer_15265464</td><td>TERMINATED</td><td>10.150.0.3:2189 </td><td style=\"text-align: right;\">                    12</td><td>py_semantic           </td><td style=\"text-align: right;\">           0.000268827</td><td style=\"text-align: right;\">     5</td><td style=\"text-align: right;\">         65.8339</td><td style=\"text-align: right;\">137.029   </td><td style=\"text-align: right;\">   70.0106</td><td style=\"text-align: right;\">  1662590073</td></tr>\n",
       "<tr><td>TorchTrainer_159ff6e8</td><td>TERMINATED</td><td>10.150.0.3:3288 </td><td style=\"text-align: right;\">                    12</td><td>py_semantic           </td><td style=\"text-align: right;\">           0.00030449 </td><td style=\"text-align: right;\">     5</td><td style=\"text-align: right;\">         63.0806</td><td style=\"text-align: right;\">148.989   </td><td style=\"text-align: right;\">   48.253 </td><td style=\"text-align: right;\">  1662590124</td></tr>\n",
       "<tr><td>TorchTrainer_35c84b5a</td><td>TERMINATED</td><td>10.150.0.3:3654 </td><td style=\"text-align: right;\">                    12</td><td>py_semantic           </td><td style=\"text-align: right;\">           0.000206839</td><td style=\"text-align: right;\">     5</td><td style=\"text-align: right;\">         60.8761</td><td style=\"text-align: right;\"> 40.6971  </td><td style=\"text-align: right;\">   48.807 </td><td style=\"text-align: right;\">  1662590147</td></tr>\n",
       "<tr><td>TorchTrainer_44d11b86</td><td>TERMINATED</td><td>10.150.0.3:4539 </td><td style=\"text-align: right;\">                    18</td><td>py_semantic           </td><td style=\"text-align: right;\">           0.00109432 </td><td style=\"text-align: right;\">     5</td><td style=\"text-align: right;\">         88.6752</td><td style=\"text-align: right;\"> 25.5754  </td><td style=\"text-align: right;\">   37.2397</td><td style=\"text-align: right;\">  1662590228</td></tr>\n",
       "<tr><td>TorchTrainer_63f4c242</td><td>TERMINATED</td><td>10.150.0.3:4822 </td><td style=\"text-align: right;\">                    18</td><td>py_semantic           </td><td style=\"text-align: right;\">           0.000175041</td><td style=\"text-align: right;\">     5</td><td style=\"text-align: right;\">         82.3758</td><td style=\"text-align: right;\"> 18.0721  </td><td style=\"text-align: right;\">   71.1311</td><td style=\"text-align: right;\">  1662590246</td></tr>\n",
       "<tr><td>TorchTrainer_71783246</td><td>TERMINATED</td><td>10.150.0.3:6200 </td><td style=\"text-align: right;\">                    18</td><td>py_semantic           </td><td style=\"text-align: right;\">           0.00115344 </td><td style=\"text-align: right;\">     5</td><td style=\"text-align: right;\">         83.5256</td><td style=\"text-align: right;\"> 26.7324  </td><td style=\"text-align: right;\">   74.2591</td><td style=\"text-align: right;\">  1662590328</td></tr>\n",
       "<tr><td>TorchTrainer_a253209c</td><td>TERMINATED</td><td>10.150.0.3:6499 </td><td style=\"text-align: right;\">                    18</td><td>py_semantic           </td><td style=\"text-align: right;\">           0.00124342 </td><td style=\"text-align: right;\">     5</td><td style=\"text-align: right;\">         83.5955</td><td style=\"text-align: right;\"> 24.0174  </td><td style=\"text-align: right;\">   79.3886</td><td style=\"text-align: right;\">  1662590343</td></tr>\n",
       "<tr><td>TorchTrainer_ab7915dc</td><td>TERMINATED</td><td>10.150.0.3:7399 </td><td style=\"text-align: right;\">                    18</td><td>py_semantic           </td><td style=\"text-align: right;\">           0.0012924  </td><td style=\"text-align: right;\">     5</td><td style=\"text-align: right;\">         82.0697</td><td style=\"text-align: right;\">  2.93903 </td><td style=\"text-align: right;\">   51.9923</td><td style=\"text-align: right;\">  1662590426</td></tr>\n",
       "<tr><td>TorchTrainer_dd768114</td><td>TERMINATED</td><td>10.150.0.3:8134 </td><td style=\"text-align: right;\">                    24</td><td>py_semantic           </td><td style=\"text-align: right;\">           0.000432861</td><td style=\"text-align: right;\">     5</td><td style=\"text-align: right;\">        103.646 </td><td style=\"text-align: right;\"> 78.8097  </td><td style=\"text-align: right;\">   53.4088</td><td style=\"text-align: right;\">  1662590462</td></tr>\n",
       "</tbody>\n",
       "</table><br><br>"
      ],
      "text/plain": [
       "<IPython.core.display.HTML object>"
      ]
     },
     "metadata": {},
     "output_type": "display_data"
    },
    {
     "name": "stderr",
     "output_type": "stream",
     "text": [
      "\u001b[2m\u001b[36m(RayTrainWorker pid=23172)\u001b[0m 2022-09-07 22:21:44,644\tINFO config.py:72 -- Setting up process group for: env:// [rank=0, world_size=1]\n",
      "\u001b[2m\u001b[36m(RayTrainWorker pid=23285)\u001b[0m 2022-09-07 22:21:49,173\tINFO config.py:72 -- Setting up process group for: env:// [rank=0, world_size=1]\n",
      "\u001b[2m\u001b[36m(RayTrainWorker pid=23172)\u001b[0m /opt/conda/lib/python3.7/site-packages/l5kit/planning/rasterized/model.py:31: UserWarning: There is no pre-trained model with num_in_channels != 3, first layer will be reset\n",
      "\u001b[2m\u001b[36m(RayTrainWorker pid=23172)\u001b[0m   warnings.warn(\"There is no pre-trained model with num_in_channels != 3, first layer will be reset\")\n",
      "\u001b[2m\u001b[36m(RayTrainWorker pid=23172)\u001b[0m /opt/conda/lib/python3.7/site-packages/torchvision/models/_utils.py:209: UserWarning: The parameter 'pretrained' is deprecated since 0.13 and will be removed in 0.15, please use 'weights' instead.\n",
      "\u001b[2m\u001b[36m(RayTrainWorker pid=23172)\u001b[0m   f\"The parameter '{pretrained_param}' is deprecated since 0.13 and will be removed in 0.15, \"\n",
      "\u001b[2m\u001b[36m(RayTrainWorker pid=23172)\u001b[0m /opt/conda/lib/python3.7/site-packages/torchvision/models/_utils.py:223: UserWarning: Arguments other than a weight enum or `None` for 'weights' are deprecated since 0.13 and will be removed in 0.15. The current behavior is equivalent to passing `weights=ResNet50_Weights.IMAGENET1K_V1`. You can also use `weights=ResNet50_Weights.DEFAULT` to get the most up-to-date weights.\n",
      "\u001b[2m\u001b[36m(RayTrainWorker pid=23172)\u001b[0m   warnings.warn(msg)\n",
      "\u001b[2m\u001b[36m(RayTrainWorker pid=23172)\u001b[0m Downloading: \"https://download.pytorch.org/models/resnet50-0676ba61.pth\" to /home/jupyter/.cache/torch/hub/checkpoints/resnet50-0676ba61.pth\n",
      "  0%|          | 0.00/97.8M [00:00<?, ?B/s]\n",
      " 15%|█▌        | 14.8M/97.8M [00:00<00:00, 155MB/s]\n",
      " 31%|███       | 30.0M/97.8M [00:00<00:00, 158MB/s]\n",
      " 46%|████▋     | 45.3M/97.8M [00:00<00:00, 159MB/s]\n",
      " 62%|██████▏   | 60.5M/97.8M [00:00<00:00, 159MB/s]\n",
      " 77%|███████▋  | 75.6M/97.8M [00:00<00:00, 155MB/s]\n",
      "100%|██████████| 97.8M/97.8M [00:00<00:00, 164MB/s]\n",
      "\u001b[2m\u001b[36m(RayTrainWorker pid=23172)\u001b[0m 2022-09-07 22:21:53,877\tINFO train_loop_utils.py:300 -- Moving model to device: cpu\n",
      "\u001b[2m\u001b[36m(RayTrainWorker pid=23285)\u001b[0m /opt/conda/lib/python3.7/site-packages/l5kit/planning/rasterized/model.py:31: UserWarning: There is no pre-trained model with num_in_channels != 3, first layer will be reset\n",
      "\u001b[2m\u001b[36m(RayTrainWorker pid=23285)\u001b[0m   warnings.warn(\"There is no pre-trained model with num_in_channels != 3, first layer will be reset\")\n",
      "\u001b[2m\u001b[36m(RayTrainWorker pid=23285)\u001b[0m /opt/conda/lib/python3.7/site-packages/torchvision/models/_utils.py:209: UserWarning: The parameter 'pretrained' is deprecated since 0.13 and will be removed in 0.15, please use 'weights' instead.\n",
      "\u001b[2m\u001b[36m(RayTrainWorker pid=23285)\u001b[0m   f\"The parameter '{pretrained_param}' is deprecated since 0.13 and will be removed in 0.15, \"\n",
      "\u001b[2m\u001b[36m(RayTrainWorker pid=23285)\u001b[0m /opt/conda/lib/python3.7/site-packages/torchvision/models/_utils.py:223: UserWarning: Arguments other than a weight enum or `None` for 'weights' are deprecated since 0.13 and will be removed in 0.15. The current behavior is equivalent to passing `weights=ResNet50_Weights.IMAGENET1K_V1`. You can also use `weights=ResNet50_Weights.DEFAULT` to get the most up-to-date weights.\n",
      "\u001b[2m\u001b[36m(RayTrainWorker pid=23285)\u001b[0m   warnings.warn(msg)\n",
      "\u001b[2m\u001b[36m(RayTrainWorker pid=23285)\u001b[0m 2022-09-07 22:21:57,705\tINFO train_loop_utils.py:300 -- Moving model to device: cpu\n"
     ]
    },
    {
     "name": "stdout",
     "output_type": "stream",
     "text": [
      "\u001b[2m\u001b[36m(RayTrainWorker pid=23172)\u001b[0m {'loss': 73.51165771484375, 'avg_loss': 73.51165771484375}\n"
     ]
    },
    {
     "name": "stderr",
     "output_type": "stream",
     "text": [
      "\u001b[34m\u001b[1mwandb\u001b[0m: Adding directory to artifact (/home/jupyter/ray_results/TorchTrainer_2022-09-07_22-21-37/TorchTrainer_70a52fb0_1_batch_size=12.0000,format_version=4,future_num_frames=50,history_num_frames=5,model_architecture=resnet50,_2022-09-07_22-21-38/checkpoint_000000)... "
     ]
    },
    {
     "name": "stdout",
     "output_type": "stream",
     "text": [
      "Result for TorchTrainer_70a52fb0:\n",
      "  _time_this_iter_s: 24.811136960983276\n",
      "  _timestamp: 1662589330\n",
      "  _training_iteration: 1\n",
      "  avg_loss: 73.51165771484375\n",
      "  date: 2022-09-07_22-22-10\n",
      "  done: false\n",
      "  experiment_id: c534acd986054ddfbec95d73abb8a304\n",
      "  hostname: anish-l5-kit\n",
      "  iterations_since_restore: 1\n",
      "  loss: 73.51165771484375\n",
      "  node_ip: 10.150.0.3\n",
      "  pid: 23101\n",
      "  should_checkpoint: true\n",
      "  time_since_restore: 29.494240283966064\n",
      "  time_this_iter_s: 29.494240283966064\n",
      "  time_total_s: 29.494240283966064\n",
      "  timestamp: 1662589330\n",
      "  timesteps_since_restore: 0\n",
      "  training_iteration: 1\n",
      "  trial_id: 70a52fb0\n",
      "  warmup_time: 0.005673408508300781\n",
      "  \n"
     ]
    },
    {
     "name": "stderr",
     "output_type": "stream",
     "text": [
      "Done. 1.1s\n"
     ]
    },
    {
     "name": "stdout",
     "output_type": "stream",
     "text": [
      "\u001b[2m\u001b[36m(RayTrainWorker pid=23172)\u001b[0m {'loss': 155.3971710205078, 'avg_loss': 114.45441436767578}\n"
     ]
    },
    {
     "name": "stderr",
     "output_type": "stream",
     "text": [
      "\u001b[34m\u001b[1mwandb\u001b[0m: Adding directory to artifact (/home/jupyter/ray_results/TorchTrainer_2022-09-07_22-21-37/TorchTrainer_70a52fb0_1_batch_size=12.0000,format_version=4,future_num_frames=50,history_num_frames=5,model_architecture=resnet50,_2022-09-07_22-21-38/checkpoint_000001)... "
     ]
    },
    {
     "name": "stdout",
     "output_type": "stream",
     "text": [
      "Result for TorchTrainer_70a52fb0:\n",
      "  _time_this_iter_s: 8.58382511138916\n",
      "  _timestamp: 1662589338\n",
      "  _training_iteration: 2\n",
      "  avg_loss: 114.45441436767578\n",
      "  date: 2022-09-07_22-22-19\n",
      "  done: false\n",
      "  experiment_id: c534acd986054ddfbec95d73abb8a304\n",
      "  hostname: anish-l5-kit\n",
      "  iterations_since_restore: 2\n",
      "  loss: 155.3971710205078\n",
      "  node_ip: 10.150.0.3\n",
      "  pid: 23101\n",
      "  should_checkpoint: true\n",
      "  time_since_restore: 37.98921012878418\n",
      "  time_this_iter_s: 8.494969844818115\n",
      "  time_total_s: 37.98921012878418\n",
      "  timestamp: 1662589339\n",
      "  timesteps_since_restore: 0\n",
      "  training_iteration: 2\n",
      "  trial_id: 70a52fb0\n",
      "  warmup_time: 0.005673408508300781\n",
      "  \n"
     ]
    },
    {
     "name": "stderr",
     "output_type": "stream",
     "text": [
      "Done. 1.1s\n"
     ]
    },
    {
     "name": "stdout",
     "output_type": "stream",
     "text": [
      "\u001b[2m\u001b[36m(RayTrainWorker pid=23285)\u001b[0m {'loss': 41.961753845214844, 'avg_loss': 41.961753845214844}\n",
      "Result for TorchTrainer_727aa5ae:\n",
      "  _time_this_iter_s: 31.26285195350647\n",
      "  _timestamp: 1662589341\n",
      "  _training_iteration: 1\n",
      "  avg_loss: 41.961753845214844\n",
      "  date: 2022-09-07_22-22-21\n",
      "  done: false\n",
      "  experiment_id: 19a5bc1b960f4c81bdca0a8a91598102\n",
      "  hostname: anish-l5-kit\n",
      "  iterations_since_restore: 1\n",
      "  loss: 41.961753845214844\n",
      "  node_ip: 10.150.0.3\n",
      "  pid: 23173\n",
      "  should_checkpoint: true\n",
      "  time_since_restore: 36.07328009605408\n",
      "  time_this_iter_s: 36.07328009605408\n",
      "  time_total_s: 36.07328009605408\n",
      "  timestamp: 1662589341\n",
      "  timesteps_since_restore: 0\n",
      "  training_iteration: 1\n",
      "  trial_id: 727aa5ae\n",
      "  warmup_time: 0.007851123809814453\n",
      "  \n"
     ]
    },
    {
     "name": "stderr",
     "output_type": "stream",
     "text": [
      "\u001b[34m\u001b[1mwandb\u001b[0m: Adding directory to artifact (/home/jupyter/ray_results/TorchTrainer_2022-09-07_22-21-37/TorchTrainer_727aa5ae_2_batch_size=24.0000,format_version=4,future_num_frames=50,history_num_frames=5,model_architecture=resnet50,_2022-09-07_22-21-41/checkpoint_000000)... Done. 1.1s\n"
     ]
    },
    {
     "name": "stdout",
     "output_type": "stream",
     "text": [
      "\u001b[2m\u001b[36m(RayTrainWorker pid=23172)\u001b[0m {'loss': 55.52874755859375, 'avg_loss': 94.81252543131511}\n"
     ]
    },
    {
     "name": "stderr",
     "output_type": "stream",
     "text": [
      "\u001b[34m\u001b[1mwandb\u001b[0m: Adding directory to artifact (/home/jupyter/ray_results/TorchTrainer_2022-09-07_22-21-37/TorchTrainer_70a52fb0_1_batch_size=12.0000,format_version=4,future_num_frames=50,history_num_frames=5,model_architecture=resnet50,_2022-09-07_22-21-38/checkpoint_000002)... "
     ]
    },
    {
     "name": "stdout",
     "output_type": "stream",
     "text": [
      "Result for TorchTrainer_70a52fb0:\n",
      "  _time_this_iter_s: 9.30670952796936\n",
      "  _timestamp: 1662589347\n",
      "  _training_iteration: 3\n",
      "  avg_loss: 94.81252543131511\n",
      "  date: 2022-09-07_22-22-28\n",
      "  done: false\n",
      "  experiment_id: c534acd986054ddfbec95d73abb8a304\n",
      "  hostname: anish-l5-kit\n",
      "  iterations_since_restore: 3\n",
      "  loss: 55.52874755859375\n",
      "  node_ip: 10.150.0.3\n",
      "  pid: 23101\n",
      "  should_checkpoint: true\n",
      "  time_since_restore: 47.39532113075256\n",
      "  time_this_iter_s: 9.406111001968384\n",
      "  time_total_s: 47.39532113075256\n",
      "  timestamp: 1662589348\n",
      "  timesteps_since_restore: 0\n",
      "  training_iteration: 3\n",
      "  trial_id: 70a52fb0\n",
      "  warmup_time: 0.005673408508300781\n",
      "  \n"
     ]
    },
    {
     "name": "stderr",
     "output_type": "stream",
     "text": [
      "Done. 1.4s\n"
     ]
    },
    {
     "name": "stdout",
     "output_type": "stream",
     "text": [
      "\u001b[2m\u001b[36m(RayTrainWorker pid=23172)\u001b[0m {'loss': 10.297449111938477, 'avg_loss': 73.68375635147095}\n"
     ]
    },
    {
     "name": "stderr",
     "output_type": "stream",
     "text": [
      "\u001b[34m\u001b[1mwandb\u001b[0m: Adding directory to artifact (/home/jupyter/ray_results/TorchTrainer_2022-09-07_22-21-37/TorchTrainer_70a52fb0_1_batch_size=12.0000,format_version=4,future_num_frames=50,history_num_frames=5,model_architecture=resnet50,_2022-09-07_22-21-38/checkpoint_000003)... "
     ]
    },
    {
     "name": "stdout",
     "output_type": "stream",
     "text": [
      "Result for TorchTrainer_70a52fb0:\n",
      "  _time_this_iter_s: 8.558222532272339\n",
      "  _timestamp: 1662589356\n",
      "  _training_iteration: 4\n",
      "  avg_loss: 73.68375635147095\n",
      "  date: 2022-09-07_22-22-36\n",
      "  done: false\n",
      "  experiment_id: c534acd986054ddfbec95d73abb8a304\n",
      "  hostname: anish-l5-kit\n",
      "  iterations_since_restore: 4\n",
      "  loss: 10.297449111938477\n",
      "  node_ip: 10.150.0.3\n",
      "  pid: 23101\n",
      "  should_checkpoint: true\n",
      "  time_since_restore: 55.842246294021606\n",
      "  time_this_iter_s: 8.446925163269043\n",
      "  time_total_s: 55.842246294021606\n",
      "  timestamp: 1662589356\n",
      "  timesteps_since_restore: 0\n",
      "  training_iteration: 4\n",
      "  trial_id: 70a52fb0\n",
      "  warmup_time: 0.005673408508300781\n",
      "  \n"
     ]
    },
    {
     "name": "stderr",
     "output_type": "stream",
     "text": [
      "Done. 1.0s\n"
     ]
    },
    {
     "name": "stdout",
     "output_type": "stream",
     "text": [
      "\u001b[2m\u001b[36m(RayTrainWorker pid=23285)\u001b[0m {'loss': 98.05196380615234, 'avg_loss': 70.0068588256836}\n",
      "Result for TorchTrainer_727aa5ae:\n",
      "  _time_this_iter_s: 18.65444588661194\n",
      "  _timestamp: 1662589359\n",
      "  _training_iteration: 2\n",
      "  avg_loss: 70.0068588256836\n",
      "  date: 2022-09-07_22-22-40\n",
      "  done: false\n",
      "  experiment_id: 19a5bc1b960f4c81bdca0a8a91598102\n",
      "  hostname: anish-l5-kit\n",
      "  iterations_since_restore: 2\n",
      "  loss: 98.05196380615234\n",
      "  node_ip: 10.150.0.3\n",
      "  pid: 23173\n",
      "  should_checkpoint: true\n",
      "  time_since_restore: 54.62339115142822\n",
      "  time_this_iter_s: 18.550111055374146\n",
      "  time_total_s: 54.62339115142822\n",
      "  timestamp: 1662589360\n",
      "  timesteps_since_restore: 0\n",
      "  training_iteration: 2\n",
      "  trial_id: 727aa5ae\n",
      "  warmup_time: 0.007851123809814453\n",
      "  \n"
     ]
    },
    {
     "name": "stderr",
     "output_type": "stream",
     "text": [
      "\u001b[34m\u001b[1mwandb\u001b[0m: Adding directory to artifact (/home/jupyter/ray_results/TorchTrainer_2022-09-07_22-21-37/TorchTrainer_727aa5ae_2_batch_size=24.0000,format_version=4,future_num_frames=50,history_num_frames=5,model_architecture=resnet50,_2022-09-07_22-21-41/checkpoint_000001)... Done. 1.1s\n"
     ]
    },
    {
     "name": "stdout",
     "output_type": "stream",
     "text": [
      "\u001b[2m\u001b[36m(RayTrainWorker pid=23172)\u001b[0m {'loss': 33.78026580810547, 'avg_loss': 65.70305824279785}\n"
     ]
    },
    {
     "name": "stderr",
     "output_type": "stream",
     "text": [
      "\u001b[34m\u001b[1mwandb\u001b[0m: Adding directory to artifact (/home/jupyter/ray_results/TorchTrainer_2022-09-07_22-21-37/TorchTrainer_70a52fb0_1_batch_size=12.0000,format_version=4,future_num_frames=50,history_num_frames=5,model_architecture=resnet50,_2022-09-07_22-21-38/checkpoint_000004)... "
     ]
    },
    {
     "name": "stdout",
     "output_type": "stream",
     "text": [
      "Result for TorchTrainer_70a52fb0:\n",
      "  _time_this_iter_s: 8.806889533996582\n",
      "  _timestamp: 1662589365\n",
      "  _training_iteration: 5\n",
      "  avg_loss: 65.70305824279785\n",
      "  date: 2022-09-07_22-22-45\n",
      "  done: false\n",
      "  experiment_id: c534acd986054ddfbec95d73abb8a304\n",
      "  hostname: anish-l5-kit\n",
      "  iterations_since_restore: 5\n",
      "  loss: 33.78026580810547\n",
      "  node_ip: 10.150.0.3\n",
      "  pid: 23101\n",
      "  should_checkpoint: true\n",
      "  time_since_restore: 64.81202864646912\n",
      "  time_this_iter_s: 8.96978235244751\n",
      "  time_total_s: 64.81202864646912\n",
      "  timestamp: 1662589365\n",
      "  timesteps_since_restore: 0\n",
      "  training_iteration: 5\n",
      "  trial_id: 70a52fb0\n",
      "  warmup_time: 0.005673408508300781\n",
      "  \n"
     ]
    },
    {
     "name": "stderr",
     "output_type": "stream",
     "text": [
      "Done. 1.5s\n",
      "\u001b[34m\u001b[1mwandb\u001b[0m: Adding directory to artifact (/home/jupyter/ray_results/TorchTrainer_2022-09-07_22-21-37/TorchTrainer_70a52fb0_1_batch_size=12.0000,format_version=4,future_num_frames=50,history_num_frames=5,model_architecture=resnet50,_2022-09-07_22-21-38/checkpoint_000004)... Done. 0.3s\n"
     ]
    },
    {
     "data": {
      "text/html": [
       "Waiting for W&B process to finish... <strong style=\"color:green\">(success).</strong>"
      ],
      "text/plain": [
       "<IPython.core.display.HTML object>"
      ]
     },
     "metadata": {},
     "output_type": "display_data"
    },
    {
     "data": {
      "application/vnd.jupyter.widget-view+json": {
       "model_id": "54a7dc0a314a459992d5dbcb6f0ce040",
       "version_major": 2,
       "version_minor": 0
      },
      "text/plain": [
       "VBox(children=(Label(value='456.987 MB of 456.987 MB uploaded (91.307 MB deduped)\\r'), FloatProgress(value=1.0…"
      ]
     },
     "metadata": {},
     "output_type": "display_data"
    },
    {
     "data": {
      "text/html": [
       "W&B sync reduced upload amount by 20.0%             "
      ],
      "text/plain": [
       "<IPython.core.display.HTML object>"
      ]
     },
     "metadata": {},
     "output_type": "display_data"
    },
    {
     "data": {
      "text/html": [
       "<style>\n",
       "    table.wandb td:nth-child(1) { padding: 0 10px; text-align: left ; width: auto;} td:nth-child(2) {text-align: left ; width: 100%}\n",
       "    .wandb-row { display: flex; flex-direction: row; flex-wrap: wrap; justify-content: flex-start; width: 100% }\n",
       "    .wandb-col { display: flex; flex-direction: column; flex-basis: 100%; flex: 1; padding: 10px; }\n",
       "    </style>\n",
       "<div class=\"wandb-row\"><div class=\"wandb-col\"><h3>Run history:</h3><br/><table class=\"wandb\"><tr><td>avg_loss</td><td>▂█▅▂▁</td></tr><tr><td>iterations_since_restore</td><td>▁▃▅▆█</td></tr><tr><td>loss</td><td>▄█▃▁▂</td></tr><tr><td>time_since_restore</td><td>▁▃▅▆█</td></tr><tr><td>time_this_iter_s</td><td>█▁▁▁▁</td></tr><tr><td>time_total_s</td><td>▁▃▅▆█</td></tr><tr><td>timestamp</td><td>▁▃▅▆█</td></tr><tr><td>timesteps_since_restore</td><td>▁▁▁▁▁</td></tr><tr><td>training_iteration</td><td>▁▃▅▆█</td></tr><tr><td>warmup_time</td><td>▁▁▁▁▁</td></tr></table><br/></div><div class=\"wandb-col\"><h3>Run summary:</h3><br/><table class=\"wandb\"><tr><td>avg_loss</td><td>65.70306</td></tr><tr><td>iterations_since_restore</td><td>5</td></tr><tr><td>loss</td><td>33.78027</td></tr><tr><td>time_since_restore</td><td>64.81203</td></tr><tr><td>time_this_iter_s</td><td>8.96978</td></tr><tr><td>time_total_s</td><td>64.81203</td></tr><tr><td>timestamp</td><td>1662589365</td></tr><tr><td>timesteps_since_restore</td><td>0</td></tr><tr><td>training_iteration</td><td>5</td></tr><tr><td>warmup_time</td><td>0.00567</td></tr></table><br/></div></div>"
      ],
      "text/plain": [
       "<IPython.core.display.HTML object>"
      ]
     },
     "metadata": {},
     "output_type": "display_data"
    },
    {
     "data": {
      "text/html": [
       "Synced <strong style=\"color:#cdcd00\">TorchTrainer_70a52fb0</strong>: <a href=\"https://wandb.ai/l5-demo/l5-simulation-trials/runs/70a52fb0\" target=\"_blank\">https://wandb.ai/l5-demo/l5-simulation-trials/runs/70a52fb0</a><br/>Synced 7 W&B file(s), 0 media file(s), 12 artifact file(s) and 1 other file(s)"
      ],
      "text/plain": [
       "<IPython.core.display.HTML object>"
      ]
     },
     "metadata": {},
     "output_type": "display_data"
    },
    {
     "data": {
      "text/html": [
       "Find logs at: <code>./wandb/run-20220907_222138-70a52fb0/logs</code>"
      ],
      "text/plain": [
       "<IPython.core.display.HTML object>"
      ]
     },
     "metadata": {},
     "output_type": "display_data"
    },
    {
     "name": "stdout",
     "output_type": "stream",
     "text": [
      "Result for TorchTrainer_70a52fb0:\n",
      "  _time_this_iter_s: 8.806889533996582\n",
      "  _timestamp: 1662589365\n",
      "  _training_iteration: 5\n",
      "  avg_loss: 65.70305824279785\n",
      "  date: 2022-09-07_22-22-45\n",
      "  done: true\n",
      "  experiment_id: c534acd986054ddfbec95d73abb8a304\n",
      "  experiment_tag: 1_batch_size=12.0000,format_version=4,future_num_frames=50,history_num_frames=5,model_architecture=resnet50,render_ego_history=False,step_time=0.1000,dataset_meta_key=meta_json,disable_traffic_light_faces=False,ego_center=0_25_0_5,filter_agents_threshold=0.5000,map_type=py_semantic,pixel_size=0_5_0_5,raster_size=224_224,satellite_map_key=aerial_map_aerial_map_png,semantic_map_key=semantic_map_semantic_map_pb,set_origin_to_bottom=True,batch_size=12,key=scenes_sample_zarr,num_workers=16,perturb_probability=0.0000,shuffle=True,checkpoint_every_n_steps=10000,eval_every_n_steps=10000,max_num_steps=5,batch_size=12,key=scenes_sample_zarr,num_workers=16,shuffle=False,dataset_key=scenes_sample_zarr,lr=0.0007,max_num_steps=5,num_workers=4,shuffle=True\n",
      "  hostname: anish-l5-kit\n",
      "  iterations_since_restore: 5\n",
      "  loss: 33.78026580810547\n",
      "  node_ip: 10.150.0.3\n",
      "  pid: 23101\n",
      "  should_checkpoint: true\n",
      "  time_since_restore: 64.81202864646912\n",
      "  time_this_iter_s: 8.96978235244751\n",
      "  time_total_s: 64.81202864646912\n",
      "  timestamp: 1662589365\n",
      "  timesteps_since_restore: 0\n",
      "  training_iteration: 5\n",
      "  trial_id: 70a52fb0\n",
      "  warmup_time: 0.005673408508300781\n",
      "  \n",
      "\u001b[2m\u001b[36m(RayTrainWorker pid=23285)\u001b[0m {'loss': 59.83180618286133, 'avg_loss': 66.6151746114095}\n"
     ]
    },
    {
     "name": "stderr",
     "output_type": "stream",
     "text": [
      "\u001b[34m\u001b[1mwandb\u001b[0m: Adding directory to artifact (/home/jupyter/ray_results/TorchTrainer_2022-09-07_22-21-37/TorchTrainer_727aa5ae_2_batch_size=24.0000,format_version=4,future_num_frames=50,history_num_frames=5,model_architecture=resnet50,_2022-09-07_22-21-41/checkpoint_000002)... "
     ]
    },
    {
     "name": "stdout",
     "output_type": "stream",
     "text": [
      "Result for TorchTrainer_727aa5ae:\n",
      "  _time_this_iter_s: 16.95954155921936\n",
      "  _timestamp: 1662589376\n",
      "  _training_iteration: 3\n",
      "  avg_loss: 66.6151746114095\n",
      "  date: 2022-09-07_22-22-57\n",
      "  done: false\n",
      "  experiment_id: 19a5bc1b960f4c81bdca0a8a91598102\n",
      "  hostname: anish-l5-kit\n",
      "  iterations_since_restore: 3\n",
      "  loss: 59.83180618286133\n",
      "  node_ip: 10.150.0.3\n",
      "  pid: 23173\n",
      "  should_checkpoint: true\n",
      "  time_since_restore: 71.66144132614136\n",
      "  time_this_iter_s: 17.038050174713135\n",
      "  time_total_s: 71.66144132614136\n",
      "  timestamp: 1662589377\n",
      "  timesteps_since_restore: 0\n",
      "  training_iteration: 3\n",
      "  trial_id: 727aa5ae\n",
      "  warmup_time: 0.007851123809814453\n",
      "  \n"
     ]
    },
    {
     "name": "stderr",
     "output_type": "stream",
     "text": [
      "Done. 1.1s\n",
      "\u001b[2m\u001b[36m(RayTrainWorker pid=24353)\u001b[0m 2022-09-07 22:23:04,736\tINFO config.py:72 -- Setting up process group for: env:// [rank=0, world_size=1]\n",
      "\u001b[2m\u001b[36m(RayTrainWorker pid=24353)\u001b[0m /opt/conda/lib/python3.7/site-packages/l5kit/planning/rasterized/model.py:31: UserWarning: There is no pre-trained model with num_in_channels != 3, first layer will be reset\n",
      "\u001b[2m\u001b[36m(RayTrainWorker pid=24353)\u001b[0m   warnings.warn(\"There is no pre-trained model with num_in_channels != 3, first layer will be reset\")\n",
      "\u001b[2m\u001b[36m(RayTrainWorker pid=24353)\u001b[0m /opt/conda/lib/python3.7/site-packages/torchvision/models/_utils.py:209: UserWarning: The parameter 'pretrained' is deprecated since 0.13 and will be removed in 0.15, please use 'weights' instead.\n",
      "\u001b[2m\u001b[36m(RayTrainWorker pid=24353)\u001b[0m   f\"The parameter '{pretrained_param}' is deprecated since 0.13 and will be removed in 0.15, \"\n",
      "\u001b[2m\u001b[36m(RayTrainWorker pid=24353)\u001b[0m /opt/conda/lib/python3.7/site-packages/torchvision/models/_utils.py:223: UserWarning: Arguments other than a weight enum or `None` for 'weights' are deprecated since 0.13 and will be removed in 0.15. The current behavior is equivalent to passing `weights=ResNet50_Weights.IMAGENET1K_V1`. You can also use `weights=ResNet50_Weights.DEFAULT` to get the most up-to-date weights.\n",
      "\u001b[2m\u001b[36m(RayTrainWorker pid=24353)\u001b[0m   warnings.warn(msg)\n",
      "\u001b[2m\u001b[36m(RayTrainWorker pid=24353)\u001b[0m 2022-09-07 22:23:11,284\tINFO train_loop_utils.py:300 -- Moving model to device: cpu\n"
     ]
    },
    {
     "name": "stdout",
     "output_type": "stream",
     "text": [
      "\u001b[2m\u001b[36m(RayTrainWorker pid=24353)\u001b[0m {'loss': 130.0070037841797, 'avg_loss': 130.0070037841797}\n"
     ]
    },
    {
     "name": "stderr",
     "output_type": "stream",
     "text": [
      "\u001b[34m\u001b[1mwandb\u001b[0m: Adding directory to artifact (/home/jupyter/ray_results/TorchTrainer_2022-09-07_22-21-37/TorchTrainer_7283a4c4_3_batch_size=6.0000,format_version=4,future_num_frames=50,history_num_frames=5,model_architecture=resnet50,r_2022-09-07_22-22-56/checkpoint_000000)... "
     ]
    },
    {
     "name": "stdout",
     "output_type": "stream",
     "text": [
      "Result for TorchTrainer_7283a4c4:\n",
      "  _time_this_iter_s: 11.082481622695923\n",
      "  _timestamp: 1662589396\n",
      "  _training_iteration: 1\n",
      "  avg_loss: 130.0070037841797\n",
      "  date: 2022-09-07_22-23-16\n",
      "  done: false\n",
      "  experiment_id: 5110b6e737f745b488f55283b9111532\n",
      "  hostname: anish-l5-kit\n",
      "  iterations_since_restore: 1\n",
      "  loss: 130.0070037841797\n",
      "  node_ip: 10.150.0.3\n",
      "  pid: 24265\n",
      "  should_checkpoint: true\n",
      "  time_since_restore: 16.175740957260132\n",
      "  time_this_iter_s: 16.175740957260132\n",
      "  time_total_s: 16.175740957260132\n",
      "  timestamp: 1662589396\n",
      "  timesteps_since_restore: 0\n",
      "  training_iteration: 1\n",
      "  trial_id: 7283a4c4\n",
      "  warmup_time: 0.005540609359741211\n",
      "  \n",
      "\u001b[2m\u001b[36m(RayTrainWorker pid=23285)\u001b[0m {'loss': 73.83734893798828, 'avg_loss': 68.4207181930542}\n"
     ]
    },
    {
     "name": "stderr",
     "output_type": "stream",
     "text": [
      "Done. 1.9s\n"
     ]
    },
    {
     "name": "stdout",
     "output_type": "stream",
     "text": [
      "Result for TorchTrainer_727aa5ae:\n",
      "  _time_this_iter_s: 22.026614665985107\n",
      "  _timestamp: 1662589398\n",
      "  _training_iteration: 4\n",
      "  avg_loss: 68.4207181930542\n",
      "  date: 2022-09-07_22-23-19\n",
      "  done: false\n",
      "  experiment_id: 19a5bc1b960f4c81bdca0a8a91598102\n",
      "  hostname: anish-l5-kit\n",
      "  iterations_since_restore: 4\n",
      "  loss: 73.83734893798828\n",
      "  node_ip: 10.150.0.3\n",
      "  pid: 23173\n",
      "  should_checkpoint: true\n",
      "  time_since_restore: 93.5714635848999\n",
      "  time_this_iter_s: 21.910022258758545\n",
      "  time_total_s: 93.5714635848999\n",
      "  timestamp: 1662589399\n",
      "  timesteps_since_restore: 0\n",
      "  training_iteration: 4\n",
      "  trial_id: 727aa5ae\n",
      "  warmup_time: 0.007851123809814453\n",
      "  \n"
     ]
    },
    {
     "name": "stderr",
     "output_type": "stream",
     "text": [
      "\u001b[34m\u001b[1mwandb\u001b[0m: Adding directory to artifact (/home/jupyter/ray_results/TorchTrainer_2022-09-07_22-21-37/TorchTrainer_727aa5ae_2_batch_size=24.0000,format_version=4,future_num_frames=50,history_num_frames=5,model_architecture=resnet50,_2022-09-07_22-21-41/checkpoint_000003)... Done. 1.1s\n"
     ]
    },
    {
     "name": "stdout",
     "output_type": "stream",
     "text": [
      "\u001b[2m\u001b[36m(RayTrainWorker pid=24353)\u001b[0m {'loss': 43.312255859375, 'avg_loss': 86.65962982177734}\n"
     ]
    },
    {
     "name": "stderr",
     "output_type": "stream",
     "text": [
      "\u001b[34m\u001b[1mwandb\u001b[0m: Adding directory to artifact (/home/jupyter/ray_results/TorchTrainer_2022-09-07_22-21-37/TorchTrainer_7283a4c4_3_batch_size=6.0000,format_version=4,future_num_frames=50,history_num_frames=5,model_architecture=resnet50,r_2022-09-07_22-22-56/checkpoint_000001)... "
     ]
    },
    {
     "name": "stdout",
     "output_type": "stream",
     "text": [
      "Result for TorchTrainer_7283a4c4:\n",
      "  _time_this_iter_s: 5.826077461242676\n",
      "  _timestamp: 1662589402\n",
      "  _training_iteration: 2\n",
      "  avg_loss: 86.65962982177734\n",
      "  date: 2022-09-07_22-23-22\n",
      "  done: false\n",
      "  experiment_id: 5110b6e737f745b488f55283b9111532\n",
      "  hostname: anish-l5-kit\n",
      "  iterations_since_restore: 2\n",
      "  loss: 43.312255859375\n",
      "  node_ip: 10.150.0.3\n",
      "  pid: 24265\n",
      "  should_checkpoint: true\n",
      "  time_since_restore: 21.946674585342407\n",
      "  time_this_iter_s: 5.770933628082275\n",
      "  time_total_s: 21.946674585342407\n",
      "  timestamp: 1662589402\n",
      "  timesteps_since_restore: 0\n",
      "  training_iteration: 2\n",
      "  trial_id: 7283a4c4\n",
      "  warmup_time: 0.005540609359741211\n",
      "  \n"
     ]
    },
    {
     "name": "stderr",
     "output_type": "stream",
     "text": [
      "Done. 1.0s\n"
     ]
    },
    {
     "name": "stdout",
     "output_type": "stream",
     "text": [
      "\u001b[2m\u001b[36m(RayTrainWorker pid=24353)\u001b[0m {'loss': 73.71448516845703, 'avg_loss': 82.3445816040039}\n"
     ]
    },
    {
     "name": "stderr",
     "output_type": "stream",
     "text": [
      "\u001b[34m\u001b[1mwandb\u001b[0m: Adding directory to artifact (/home/jupyter/ray_results/TorchTrainer_2022-09-07_22-21-37/TorchTrainer_7283a4c4_3_batch_size=6.0000,format_version=4,future_num_frames=50,history_num_frames=5,model_architecture=resnet50,r_2022-09-07_22-22-56/checkpoint_000002)... Done. 1.0s\n"
     ]
    },
    {
     "name": "stdout",
     "output_type": "stream",
     "text": [
      "\u001b[2m\u001b[36m(RayTrainWorker pid=24353)\u001b[0m {'loss': 155.00701904296875, 'avg_loss': 100.51019096374512}\n"
     ]
    },
    {
     "name": "stderr",
     "output_type": "stream",
     "text": [
      "\u001b[34m\u001b[1mwandb\u001b[0m: Adding directory to artifact (/home/jupyter/ray_results/TorchTrainer_2022-09-07_22-21-37/TorchTrainer_7283a4c4_3_batch_size=6.0000,format_version=4,future_num_frames=50,history_num_frames=5,model_architecture=resnet50,r_2022-09-07_22-22-56/checkpoint_000003)... "
     ]
    },
    {
     "name": "stdout",
     "output_type": "stream",
     "text": [
      "Result for TorchTrainer_7283a4c4:\n",
      "  _time_this_iter_s: 4.853615999221802\n",
      "  _timestamp: 1662589412\n",
      "  _training_iteration: 4\n",
      "  avg_loss: 100.51019096374512\n",
      "  date: 2022-09-07_22-23-32\n",
      "  done: false\n",
      "  experiment_id: 5110b6e737f745b488f55283b9111532\n",
      "  hostname: anish-l5-kit\n",
      "  iterations_since_restore: 4\n",
      "  loss: 155.00701904296875\n",
      "  node_ip: 10.150.0.3\n",
      "  pid: 24265\n",
      "  should_checkpoint: true\n",
      "  time_since_restore: 31.648338794708252\n",
      "  time_this_iter_s: 4.881451606750488\n",
      "  time_total_s: 31.648338794708252\n",
      "  timestamp: 1662589412\n",
      "  timesteps_since_restore: 0\n",
      "  training_iteration: 4\n",
      "  trial_id: 7283a4c4\n",
      "  warmup_time: 0.005540609359741211\n",
      "  \n"
     ]
    },
    {
     "name": "stderr",
     "output_type": "stream",
     "text": [
      "Done. 2.4s\n"
     ]
    },
    {
     "name": "stdout",
     "output_type": "stream",
     "text": [
      "\u001b[2m\u001b[36m(RayTrainWorker pid=24353)\u001b[0m {'loss': 0.3660605847835541, 'avg_loss': 80.48136488795281}\n"
     ]
    },
    {
     "name": "stderr",
     "output_type": "stream",
     "text": [
      "\u001b[34m\u001b[1mwandb\u001b[0m: Adding directory to artifact (/home/jupyter/ray_results/TorchTrainer_2022-09-07_22-21-37/TorchTrainer_7283a4c4_3_batch_size=6.0000,format_version=4,future_num_frames=50,history_num_frames=5,model_architecture=resnet50,r_2022-09-07_22-22-56/checkpoint_000004)... "
     ]
    },
    {
     "name": "stdout",
     "output_type": "stream",
     "text": [
      "\u001b[2m\u001b[36m(RayTrainWorker pid=23285)\u001b[0m {'loss': 67.13532257080078, 'avg_loss': 68.16363906860352}\n"
     ]
    },
    {
     "name": "stderr",
     "output_type": "stream",
     "text": [
      "\u001b[34m\u001b[1mwandb\u001b[0m: Adding directory to artifact (/home/jupyter/ray_results/TorchTrainer_2022-09-07_22-21-37/TorchTrainer_727aa5ae_2_batch_size=24.0000,format_version=4,future_num_frames=50,history_num_frames=5,model_architecture=resnet50,_2022-09-07_22-21-41/checkpoint_000004)... "
     ]
    },
    {
     "name": "stdout",
     "output_type": "stream",
     "text": [
      "Result for TorchTrainer_727aa5ae:\n",
      "  _time_this_iter_s: 18.771693468093872\n",
      "  _timestamp: 1662589417\n",
      "  _training_iteration: 5\n",
      "  avg_loss: 68.16363906860352\n",
      "  date: 2022-09-07_22-23-37\n",
      "  done: false\n",
      "  experiment_id: 19a5bc1b960f4c81bdca0a8a91598102\n",
      "  hostname: anish-l5-kit\n",
      "  iterations_since_restore: 5\n",
      "  loss: 67.13532257080078\n",
      "  node_ip: 10.150.0.3\n",
      "  pid: 23173\n",
      "  should_checkpoint: true\n",
      "  time_since_restore: 112.33720850944519\n",
      "  time_this_iter_s: 18.765744924545288\n",
      "  time_total_s: 112.33720850944519\n",
      "  timestamp: 1662589417\n",
      "  timesteps_since_restore: 0\n",
      "  training_iteration: 5\n",
      "  trial_id: 727aa5ae\n",
      "  warmup_time: 0.007851123809814453\n",
      "  \n"
     ]
    },
    {
     "name": "stderr",
     "output_type": "stream",
     "text": [
      "Done. 1.5s\n",
      "\u001b[34m\u001b[1mwandb\u001b[0m: Adding directory to artifact (/home/jupyter/ray_results/TorchTrainer_2022-09-07_22-21-37/TorchTrainer_7283a4c4_3_batch_size=6.0000,format_version=4,future_num_frames=50,history_num_frames=5,model_architecture=resnet50,r_2022-09-07_22-22-56/checkpoint_000004)... Done. 1.3s\n",
      "Done. 0.4s\n"
     ]
    },
    {
     "data": {
      "text/html": [
       "Waiting for W&B process to finish... <strong style=\"color:green\">(success).</strong>"
      ],
      "text/plain": [
       "<IPython.core.display.HTML object>"
      ]
     },
     "metadata": {},
     "output_type": "display_data"
    },
    {
     "data": {
      "application/vnd.jupyter.widget-view+json": {
       "model_id": "403aa72b065f46d08df42c7fe6ab6360",
       "version_major": 2,
       "version_minor": 0
      },
      "text/plain": [
       "VBox(children=(Label(value='456.987 MB of 456.987 MB uploaded (91.307 MB deduped)\\r'), FloatProgress(value=1.0…"
      ]
     },
     "metadata": {},
     "output_type": "display_data"
    },
    {
     "data": {
      "text/html": [
       "W&B sync reduced upload amount by 20.0%             "
      ],
      "text/plain": [
       "<IPython.core.display.HTML object>"
      ]
     },
     "metadata": {},
     "output_type": "display_data"
    },
    {
     "data": {
      "text/html": [
       "<style>\n",
       "    table.wandb td:nth-child(1) { padding: 0 10px; text-align: left ; width: auto;} td:nth-child(2) {text-align: left ; width: 100%}\n",
       "    .wandb-row { display: flex; flex-direction: row; flex-wrap: wrap; justify-content: flex-start; width: 100% }\n",
       "    .wandb-col { display: flex; flex-direction: column; flex-basis: 100%; flex: 1; padding: 10px; }\n",
       "    </style>\n",
       "<div class=\"wandb-row\"><div class=\"wandb-col\"><h3>Run history:</h3><br/><table class=\"wandb\"><tr><td>avg_loss</td><td>█▂▁▄▁</td></tr><tr><td>iterations_since_restore</td><td>▁▃▅▆█</td></tr><tr><td>loss</td><td>▇▃▄█▁</td></tr><tr><td>time_since_restore</td><td>▁▃▅▆█</td></tr><tr><td>time_this_iter_s</td><td>█▂▁▁▁</td></tr><tr><td>time_total_s</td><td>▁▃▅▆█</td></tr><tr><td>timestamp</td><td>▁▃▅▆█</td></tr><tr><td>timesteps_since_restore</td><td>▁▁▁▁▁</td></tr><tr><td>training_iteration</td><td>▁▃▅▆█</td></tr><tr><td>warmup_time</td><td>▁▁▁▁▁</td></tr></table><br/></div><div class=\"wandb-col\"><h3>Run summary:</h3><br/><table class=\"wandb\"><tr><td>avg_loss</td><td>80.48136</td></tr><tr><td>iterations_since_restore</td><td>5</td></tr><tr><td>loss</td><td>0.36606</td></tr><tr><td>time_since_restore</td><td>36.44101</td></tr><tr><td>time_this_iter_s</td><td>4.79267</td></tr><tr><td>time_total_s</td><td>36.44101</td></tr><tr><td>timestamp</td><td>1662589417</td></tr><tr><td>timesteps_since_restore</td><td>0</td></tr><tr><td>training_iteration</td><td>5</td></tr><tr><td>warmup_time</td><td>0.00554</td></tr></table><br/></div></div>"
      ],
      "text/plain": [
       "<IPython.core.display.HTML object>"
      ]
     },
     "metadata": {},
     "output_type": "display_data"
    },
    {
     "data": {
      "text/html": [
       "Synced <strong style=\"color:#cdcd00\">TorchTrainer_7283a4c4</strong>: <a href=\"https://wandb.ai/l5-demo/l5-simulation-trials/runs/7283a4c4\" target=\"_blank\">https://wandb.ai/l5-demo/l5-simulation-trials/runs/7283a4c4</a><br/>Synced 7 W&B file(s), 0 media file(s), 12 artifact file(s) and 1 other file(s)"
      ],
      "text/plain": [
       "<IPython.core.display.HTML object>"
      ]
     },
     "metadata": {},
     "output_type": "display_data"
    },
    {
     "data": {
      "text/html": [
       "Find logs at: <code>./wandb/run-20220907_222257-7283a4c4/logs</code>"
      ],
      "text/plain": [
       "<IPython.core.display.HTML object>"
      ]
     },
     "metadata": {},
     "output_type": "display_data"
    },
    {
     "name": "stdout",
     "output_type": "stream",
     "text": [
      "Result for TorchTrainer_7283a4c4:\n",
      "  _time_this_iter_s: 4.788918972015381\n",
      "  _timestamp: 1662589416\n",
      "  _training_iteration: 5\n",
      "  avg_loss: 80.48136488795281\n",
      "  date: 2022-09-07_22-23-37\n",
      "  done: true\n",
      "  experiment_id: 5110b6e737f745b488f55283b9111532\n",
      "  experiment_tag: 3_batch_size=6.0000,format_version=4,future_num_frames=50,history_num_frames=5,model_architecture=resnet50,render_ego_history=False,step_time=0.1000,dataset_meta_key=meta_json,disable_traffic_light_faces=False,ego_center=0_25_0_5,filter_agents_threshold=0.5000,map_type=py_satellite,pixel_size=0_5_0_5,raster_size=224_224,satellite_map_key=aerial_map_aerial_map_png,semantic_map_key=semantic_map_semantic_map_pb,set_origin_to_bottom=True,batch_size=12,key=scenes_sample_zarr,num_workers=16,perturb_probability=0.0000,shuffle=True,checkpoint_every_n_steps=10000,eval_every_n_steps=10000,max_num_steps=5,batch_size=12,key=scenes_sample_zarr,num_workers=16,shuffle=False,dataset_key=scenes_sample_zarr,lr=0.0004,max_num_steps=5,num_workers=4,shuffle=True\n",
      "  hostname: anish-l5-kit\n",
      "  iterations_since_restore: 5\n",
      "  loss: 0.3660605847835541\n",
      "  node_ip: 10.150.0.3\n",
      "  pid: 24265\n",
      "  should_checkpoint: true\n",
      "  time_since_restore: 36.44100785255432\n",
      "  time_this_iter_s: 4.792669057846069\n",
      "  time_total_s: 36.44100785255432\n",
      "  timestamp: 1662589417\n",
      "  timesteps_since_restore: 0\n",
      "  training_iteration: 5\n",
      "  trial_id: 7283a4c4\n",
      "  warmup_time: 0.005540609359741211\n",
      "  \n"
     ]
    },
    {
     "name": "stderr",
     "output_type": "stream",
     "text": [
      "\u001b[34m\u001b[1mwandb\u001b[0m: Adding directory to artifact (/home/jupyter/ray_results/TorchTrainer_2022-09-07_22-21-37/TorchTrainer_727aa5ae_2_batch_size=24.0000,format_version=4,future_num_frames=50,history_num_frames=5,model_architecture=resnet50,_2022-09-07_22-21-41/checkpoint_000004)... Done. 0.3s\n"
     ]
    },
    {
     "data": {
      "text/html": [
       "Waiting for W&B process to finish... <strong style=\"color:green\">(success).</strong>"
      ],
      "text/plain": [
       "<IPython.core.display.HTML object>"
      ]
     },
     "metadata": {},
     "output_type": "display_data"
    },
    {
     "data": {
      "application/vnd.jupyter.widget-view+json": {
       "model_id": "fdda965da5814118950f9d4d075bcf40",
       "version_major": 2,
       "version_minor": 0
      },
      "text/plain": [
       "VBox(children=(Label(value='456.987 MB of 456.987 MB uploaded (91.307 MB deduped)\\r'), FloatProgress(value=1.0…"
      ]
     },
     "metadata": {},
     "output_type": "display_data"
    },
    {
     "data": {
      "text/html": [
       "W&B sync reduced upload amount by 20.0%             "
      ],
      "text/plain": [
       "<IPython.core.display.HTML object>"
      ]
     },
     "metadata": {},
     "output_type": "display_data"
    },
    {
     "data": {
      "text/html": [
       "<style>\n",
       "    table.wandb td:nth-child(1) { padding: 0 10px; text-align: left ; width: auto;} td:nth-child(2) {text-align: left ; width: 100%}\n",
       "    .wandb-row { display: flex; flex-direction: row; flex-wrap: wrap; justify-content: flex-start; width: 100% }\n",
       "    .wandb-col { display: flex; flex-direction: column; flex-basis: 100%; flex: 1; padding: 10px; }\n",
       "    </style>\n",
       "<div class=\"wandb-row\"><div class=\"wandb-col\"><h3>Run history:</h3><br/><table class=\"wandb\"><tr><td>avg_loss</td><td>▁█▇██</td></tr><tr><td>iterations_since_restore</td><td>▁▃▅▆█</td></tr><tr><td>loss</td><td>▁█▃▅▄</td></tr><tr><td>time_since_restore</td><td>▁▃▄▆█</td></tr><tr><td>time_this_iter_s</td><td>█▂▁▃▂</td></tr><tr><td>time_total_s</td><td>▁▃▄▆█</td></tr><tr><td>timestamp</td><td>▁▃▄▆█</td></tr><tr><td>timesteps_since_restore</td><td>▁▁▁▁▁</td></tr><tr><td>training_iteration</td><td>▁▃▅▆█</td></tr><tr><td>warmup_time</td><td>▁▁▁▁▁</td></tr></table><br/></div><div class=\"wandb-col\"><h3>Run summary:</h3><br/><table class=\"wandb\"><tr><td>avg_loss</td><td>68.16364</td></tr><tr><td>iterations_since_restore</td><td>5</td></tr><tr><td>loss</td><td>67.13532</td></tr><tr><td>time_since_restore</td><td>112.33721</td></tr><tr><td>time_this_iter_s</td><td>18.76574</td></tr><tr><td>time_total_s</td><td>112.33721</td></tr><tr><td>timestamp</td><td>1662589417</td></tr><tr><td>timesteps_since_restore</td><td>0</td></tr><tr><td>training_iteration</td><td>5</td></tr><tr><td>warmup_time</td><td>0.00785</td></tr></table><br/></div></div>"
      ],
      "text/plain": [
       "<IPython.core.display.HTML object>"
      ]
     },
     "metadata": {},
     "output_type": "display_data"
    },
    {
     "data": {
      "text/html": [
       "Synced <strong style=\"color:#cdcd00\">TorchTrainer_727aa5ae</strong>: <a href=\"https://wandb.ai/l5-demo/l5-simulation-trials/runs/727aa5ae\" target=\"_blank\">https://wandb.ai/l5-demo/l5-simulation-trials/runs/727aa5ae</a><br/>Synced 7 W&B file(s), 0 media file(s), 12 artifact file(s) and 1 other file(s)"
      ],
      "text/plain": [
       "<IPython.core.display.HTML object>"
      ]
     },
     "metadata": {},
     "output_type": "display_data"
    },
    {
     "data": {
      "text/html": [
       "Find logs at: <code>./wandb/run-20220907_222141-727aa5ae/logs</code>"
      ],
      "text/plain": [
       "<IPython.core.display.HTML object>"
      ]
     },
     "metadata": {},
     "output_type": "display_data"
    },
    {
     "name": "stdout",
     "output_type": "stream",
     "text": [
      "Result for TorchTrainer_727aa5ae:\n",
      "  _time_this_iter_s: 18.771693468093872\n",
      "  _timestamp: 1662589417\n",
      "  _training_iteration: 5\n",
      "  avg_loss: 68.16363906860352\n",
      "  date: 2022-09-07_22-23-37\n",
      "  done: true\n",
      "  experiment_id: 19a5bc1b960f4c81bdca0a8a91598102\n",
      "  experiment_tag: 2_batch_size=24.0000,format_version=4,future_num_frames=50,history_num_frames=5,model_architecture=resnet50,render_ego_history=False,step_time=0.1000,dataset_meta_key=meta_json,disable_traffic_light_faces=False,ego_center=0_25_0_5,filter_agents_threshold=0.5000,map_type=py_semantic,pixel_size=0_5_0_5,raster_size=224_224,satellite_map_key=aerial_map_aerial_map_png,semantic_map_key=semantic_map_semantic_map_pb,set_origin_to_bottom=True,batch_size=12,key=scenes_sample_zarr,num_workers=16,perturb_probability=0.0000,shuffle=True,checkpoint_every_n_steps=10000,eval_every_n_steps=10000,max_num_steps=5,batch_size=12,key=scenes_sample_zarr,num_workers=16,shuffle=False,dataset_key=scenes_sample_zarr,lr=0.0021,max_num_steps=5,num_workers=4,shuffle=True\n",
      "  hostname: anish-l5-kit\n",
      "  iterations_since_restore: 5\n",
      "  loss: 67.13532257080078\n",
      "  node_ip: 10.150.0.3\n",
      "  pid: 23173\n",
      "  should_checkpoint: true\n",
      "  time_since_restore: 112.33720850944519\n",
      "  time_this_iter_s: 18.765744924545288\n",
      "  time_total_s: 112.33720850944519\n",
      "  timestamp: 1662589417\n",
      "  timesteps_since_restore: 0\n",
      "  training_iteration: 5\n",
      "  trial_id: 727aa5ae\n",
      "  warmup_time: 0.007851123809814453\n",
      "  \n"
     ]
    },
    {
     "name": "stderr",
     "output_type": "stream",
     "text": [
      "\u001b[2m\u001b[36m(RayTrainWorker pid=25381)\u001b[0m 2022-09-07 22:24:00,815\tINFO config.py:72 -- Setting up process group for: env:// [rank=0, world_size=1]\n",
      "\u001b[2m\u001b[36m(RayTrainWorker pid=25390)\u001b[0m 2022-09-07 22:24:02,894\tINFO config.py:72 -- Setting up process group for: env:// [rank=0, world_size=1]\n",
      "\u001b[2m\u001b[36m(RayTrainWorker pid=25381)\u001b[0m /opt/conda/lib/python3.7/site-packages/l5kit/planning/rasterized/model.py:31: UserWarning: There is no pre-trained model with num_in_channels != 3, first layer will be reset\n",
      "\u001b[2m\u001b[36m(RayTrainWorker pid=25381)\u001b[0m   warnings.warn(\"There is no pre-trained model with num_in_channels != 3, first layer will be reset\")\n",
      "\u001b[2m\u001b[36m(RayTrainWorker pid=25381)\u001b[0m /opt/conda/lib/python3.7/site-packages/torchvision/models/_utils.py:209: UserWarning: The parameter 'pretrained' is deprecated since 0.13 and will be removed in 0.15, please use 'weights' instead.\n",
      "\u001b[2m\u001b[36m(RayTrainWorker pid=25381)\u001b[0m   f\"The parameter '{pretrained_param}' is deprecated since 0.13 and will be removed in 0.15, \"\n",
      "\u001b[2m\u001b[36m(RayTrainWorker pid=25381)\u001b[0m /opt/conda/lib/python3.7/site-packages/torchvision/models/_utils.py:223: UserWarning: Arguments other than a weight enum or `None` for 'weights' are deprecated since 0.13 and will be removed in 0.15. The current behavior is equivalent to passing `weights=ResNet50_Weights.IMAGENET1K_V1`. You can also use `weights=ResNet50_Weights.DEFAULT` to get the most up-to-date weights.\n",
      "\u001b[2m\u001b[36m(RayTrainWorker pid=25381)\u001b[0m   warnings.warn(msg)\n",
      "\u001b[2m\u001b[36m(RayTrainWorker pid=25381)\u001b[0m 2022-09-07 22:24:09,869\tINFO train_loop_utils.py:300 -- Moving model to device: cpu\n",
      "\u001b[2m\u001b[36m(RayTrainWorker pid=25390)\u001b[0m /opt/conda/lib/python3.7/site-packages/l5kit/planning/rasterized/model.py:31: UserWarning: There is no pre-trained model with num_in_channels != 3, first layer will be reset\n",
      "\u001b[2m\u001b[36m(RayTrainWorker pid=25390)\u001b[0m   warnings.warn(\"There is no pre-trained model with num_in_channels != 3, first layer will be reset\")\n",
      "\u001b[2m\u001b[36m(RayTrainWorker pid=25390)\u001b[0m /opt/conda/lib/python3.7/site-packages/torchvision/models/_utils.py:209: UserWarning: The parameter 'pretrained' is deprecated since 0.13 and will be removed in 0.15, please use 'weights' instead.\n",
      "\u001b[2m\u001b[36m(RayTrainWorker pid=25390)\u001b[0m   f\"The parameter '{pretrained_param}' is deprecated since 0.13 and will be removed in 0.15, \"\n",
      "\u001b[2m\u001b[36m(RayTrainWorker pid=25390)\u001b[0m /opt/conda/lib/python3.7/site-packages/torchvision/models/_utils.py:223: UserWarning: Arguments other than a weight enum or `None` for 'weights' are deprecated since 0.13 and will be removed in 0.15. The current behavior is equivalent to passing `weights=ResNet50_Weights.IMAGENET1K_V1`. You can also use `weights=ResNet50_Weights.DEFAULT` to get the most up-to-date weights.\n",
      "\u001b[2m\u001b[36m(RayTrainWorker pid=25390)\u001b[0m   warnings.warn(msg)\n",
      "\u001b[2m\u001b[36m(RayTrainWorker pid=25390)\u001b[0m 2022-09-07 22:24:11,393\tINFO train_loop_utils.py:300 -- Moving model to device: cpu\n"
     ]
    },
    {
     "name": "stdout",
     "output_type": "stream",
     "text": [
      "\u001b[2m\u001b[36m(RayTrainWorker pid=25381)\u001b[0m {'loss': 27.5812931060791, 'avg_loss': 27.5812931060791}\n"
     ]
    },
    {
     "name": "stderr",
     "output_type": "stream",
     "text": [
      "\u001b[34m\u001b[1mwandb\u001b[0m: Adding directory to artifact (/home/jupyter/ray_results/TorchTrainer_2022-09-07_22-21-37/TorchTrainer_9fab1d06_4_batch_size=18.0000,format_version=4,future_num_frames=50,history_num_frames=5,model_architecture=resnet50,_2022-09-07_22-23-53/checkpoint_000000)... "
     ]
    },
    {
     "name": "stdout",
     "output_type": "stream",
     "text": [
      "\u001b[2m\u001b[36m(RayTrainWorker pid=25390)\u001b[0m {'loss': 42.19852828979492, 'avg_loss': 42.19852828979492}\n",
      "Result for TorchTrainer_9fab1d06:\n",
      "  _time_this_iter_s: 24.810033321380615\n",
      "  _timestamp: 1662589466\n",
      "  _training_iteration: 1\n",
      "  avg_loss: 27.5812931060791\n",
      "  date: 2022-09-07_22-24-26\n",
      "  done: false\n",
      "  experiment_id: 883146272b3045babd0d33d5e2460cb6\n",
      "  hostname: anish-l5-kit\n",
      "  iterations_since_restore: 1\n",
      "  loss: 27.5812931060791\n",
      "  node_ip: 10.150.0.3\n",
      "  pid: 25250\n",
      "  should_checkpoint: true\n",
      "  time_since_restore: 29.60651159286499\n",
      "  time_this_iter_s: 29.60651159286499\n",
      "  time_total_s: 29.60651159286499\n",
      "  timestamp: 1662589466\n",
      "  timesteps_since_restore: 0\n",
      "  training_iteration: 1\n",
      "  trial_id: 9fab1d06\n",
      "  warmup_time: 0.007066011428833008\n",
      "  \n"
     ]
    },
    {
     "name": "stderr",
     "output_type": "stream",
     "text": [
      "\u001b[34m\u001b[1mwandb\u001b[0m: Adding directory to artifact (/home/jupyter/ray_results/TorchTrainer_2022-09-07_22-21-37/TorchTrainer_c12d4d82_5_batch_size=18.0000,format_version=4,future_num_frames=50,history_num_frames=5,model_architecture=resnet50,_2022-09-07_22-23-53/checkpoint_000000)... "
     ]
    },
    {
     "name": "stdout",
     "output_type": "stream",
     "text": [
      "Result for TorchTrainer_c12d4d82:\n",
      "  _time_this_iter_s: 22.261414527893066\n",
      "  _timestamp: 1662589466\n",
      "  _training_iteration: 1\n",
      "  avg_loss: 42.19852828979492\n",
      "  date: 2022-09-07_22-24-27\n",
      "  done: false\n",
      "  experiment_id: 78f22cb608834136a975e70a0a69143b\n",
      "  hostname: anish-l5-kit\n",
      "  iterations_since_restore: 1\n",
      "  loss: 42.19852828979492\n",
      "  node_ip: 10.150.0.3\n",
      "  pid: 25260\n",
      "  should_checkpoint: true\n",
      "  time_since_restore: 29.320902109146118\n",
      "  time_this_iter_s: 29.320902109146118\n",
      "  time_total_s: 29.320902109146118\n",
      "  timestamp: 1662589467\n",
      "  timesteps_since_restore: 0\n",
      "  training_iteration: 1\n",
      "  trial_id: c12d4d82\n",
      "  warmup_time: 0.006730318069458008\n",
      "  \n"
     ]
    },
    {
     "name": "stderr",
     "output_type": "stream",
     "text": [
      "Done. 1.0s\n",
      "Done. 1.0s\n"
     ]
    },
    {
     "name": "stdout",
     "output_type": "stream",
     "text": [
      "\u001b[2m\u001b[36m(RayTrainWorker pid=25381)\u001b[0m {'loss': 99.4334945678711, 'avg_loss': 63.5073938369751}\n"
     ]
    },
    {
     "name": "stderr",
     "output_type": "stream",
     "text": [
      "\u001b[34m\u001b[1mwandb\u001b[0m: Adding directory to artifact (/home/jupyter/ray_results/TorchTrainer_2022-09-07_22-21-37/TorchTrainer_9fab1d06_4_batch_size=18.0000,format_version=4,future_num_frames=50,history_num_frames=5,model_architecture=resnet50,_2022-09-07_22-23-53/checkpoint_000001)... "
     ]
    },
    {
     "name": "stdout",
     "output_type": "stream",
     "text": [
      "Result for TorchTrainer_9fab1d06:\n",
      "  _time_this_iter_s: 13.243748664855957\n",
      "  _timestamp: 1662589479\n",
      "  _training_iteration: 2\n",
      "  avg_loss: 63.5073938369751\n",
      "  date: 2022-09-07_22-24-39\n",
      "  done: false\n",
      "  experiment_id: 883146272b3045babd0d33d5e2460cb6\n",
      "  hostname: anish-l5-kit\n",
      "  iterations_since_restore: 2\n",
      "  loss: 99.4334945678711\n",
      "  node_ip: 10.150.0.3\n",
      "  pid: 25250\n",
      "  should_checkpoint: true\n",
      "  time_since_restore: 42.78880548477173\n",
      "  time_this_iter_s: 13.182293891906738\n",
      "  time_total_s: 42.78880548477173\n",
      "  timestamp: 1662589479\n",
      "  timesteps_since_restore: 0\n",
      "  training_iteration: 2\n",
      "  trial_id: 9fab1d06\n",
      "  warmup_time: 0.007066011428833008\n",
      "  \n",
      "\u001b[2m\u001b[36m(RayTrainWorker pid=25390)\u001b[0m {'loss': 97.84817504882812, 'avg_loss': 70.02335166931152}\n"
     ]
    },
    {
     "name": "stderr",
     "output_type": "stream",
     "text": [
      "Done. 1.0s\n",
      "\u001b[34m\u001b[1mwandb\u001b[0m: Adding directory to artifact (/home/jupyter/ray_results/TorchTrainer_2022-09-07_22-21-37/TorchTrainer_c12d4d82_5_batch_size=18.0000,format_version=4,future_num_frames=50,history_num_frames=5,model_architecture=resnet50,_2022-09-07_22-23-53/checkpoint_000001)... "
     ]
    },
    {
     "name": "stdout",
     "output_type": "stream",
     "text": [
      "Result for TorchTrainer_c12d4d82:\n",
      "  _time_this_iter_s: 13.701167345046997\n",
      "  _timestamp: 1662589480\n",
      "  _training_iteration: 2\n",
      "  avg_loss: 70.02335166931152\n",
      "  date: 2022-09-07_22-24-40\n",
      "  done: false\n",
      "  experiment_id: 78f22cb608834136a975e70a0a69143b\n",
      "  hostname: anish-l5-kit\n",
      "  iterations_since_restore: 2\n",
      "  loss: 97.84817504882812\n",
      "  node_ip: 10.150.0.3\n",
      "  pid: 25260\n",
      "  should_checkpoint: true\n",
      "  time_since_restore: 42.755988359451294\n",
      "  time_this_iter_s: 13.435086250305176\n",
      "  time_total_s: 42.755988359451294\n",
      "  timestamp: 1662589480\n",
      "  timesteps_since_restore: 0\n",
      "  training_iteration: 2\n",
      "  trial_id: c12d4d82\n",
      "  warmup_time: 0.006730318069458008\n",
      "  \n"
     ]
    },
    {
     "name": "stderr",
     "output_type": "stream",
     "text": [
      "Done. 1.0s\n"
     ]
    },
    {
     "name": "stdout",
     "output_type": "stream",
     "text": [
      "\u001b[2m\u001b[36m(RayTrainWorker pid=25381)\u001b[0m {'loss': 88.00411224365234, 'avg_loss': 71.67296663920085}\n"
     ]
    },
    {
     "name": "stderr",
     "output_type": "stream",
     "text": [
      "\u001b[34m\u001b[1mwandb\u001b[0m: Adding directory to artifact (/home/jupyter/ray_results/TorchTrainer_2022-09-07_22-21-37/TorchTrainer_9fab1d06_4_batch_size=18.0000,format_version=4,future_num_frames=50,history_num_frames=5,model_architecture=resnet50,_2022-09-07_22-23-53/checkpoint_000002)... "
     ]
    },
    {
     "name": "stdout",
     "output_type": "stream",
     "text": [
      "Result for TorchTrainer_9fab1d06:\n",
      "  _time_this_iter_s: 12.897667407989502\n",
      "  _timestamp: 1662589492\n",
      "  _training_iteration: 3\n",
      "  avg_loss: 71.67296663920085\n",
      "  date: 2022-09-07_22-24-52\n",
      "  done: false\n",
      "  experiment_id: 883146272b3045babd0d33d5e2460cb6\n",
      "  hostname: anish-l5-kit\n",
      "  iterations_since_restore: 3\n",
      "  loss: 88.00411224365234\n",
      "  node_ip: 10.150.0.3\n",
      "  pid: 25250\n",
      "  should_checkpoint: true\n",
      "  time_since_restore: 55.65586042404175\n",
      "  time_this_iter_s: 12.86705493927002\n",
      "  time_total_s: 55.65586042404175\n",
      "  timestamp: 1662589492\n",
      "  timesteps_since_restore: 0\n",
      "  training_iteration: 3\n",
      "  trial_id: 9fab1d06\n",
      "  warmup_time: 0.007066011428833008\n",
      "  \n",
      "\u001b[2m\u001b[36m(RayTrainWorker pid=25390)\u001b[0m {'loss': 88.46379852294922, 'avg_loss': 76.17016728719075}\n"
     ]
    },
    {
     "name": "stderr",
     "output_type": "stream",
     "text": [
      "\u001b[34m\u001b[1mwandb\u001b[0m: Adding directory to artifact (/home/jupyter/ray_results/TorchTrainer_2022-09-07_22-21-37/TorchTrainer_c12d4d82_5_batch_size=18.0000,format_version=4,future_num_frames=50,history_num_frames=5,model_architecture=resnet50,_2022-09-07_22-23-53/checkpoint_000002)... "
     ]
    },
    {
     "name": "stdout",
     "output_type": "stream",
     "text": [
      "Result for TorchTrainer_c12d4d82:\n",
      "  _time_this_iter_s: 12.500419855117798\n",
      "  _timestamp: 1662589493\n",
      "  _training_iteration: 3\n",
      "  avg_loss: 76.17016728719075\n",
      "  date: 2022-09-07_22-24-53\n",
      "  done: false\n",
      "  experiment_id: 78f22cb608834136a975e70a0a69143b\n",
      "  hostname: anish-l5-kit\n",
      "  iterations_since_restore: 3\n",
      "  loss: 88.46379852294922\n",
      "  node_ip: 10.150.0.3\n",
      "  pid: 25260\n",
      "  should_checkpoint: true\n",
      "  time_since_restore: 55.47234106063843\n",
      "  time_this_iter_s: 12.716352701187134\n",
      "  time_total_s: 55.47234106063843\n",
      "  timestamp: 1662589493\n",
      "  timesteps_since_restore: 0\n",
      "  training_iteration: 3\n",
      "  trial_id: c12d4d82\n",
      "  warmup_time: 0.006730318069458008\n",
      "  \n"
     ]
    },
    {
     "name": "stderr",
     "output_type": "stream",
     "text": [
      "Done. 1.5s\n",
      "Done. 1.3s\n"
     ]
    },
    {
     "name": "stdout",
     "output_type": "stream",
     "text": [
      "\u001b[2m\u001b[36m(RayTrainWorker pid=25381)\u001b[0m {'loss': 26.54417610168457, 'avg_loss': 60.39076900482178}\n"
     ]
    },
    {
     "name": "stderr",
     "output_type": "stream",
     "text": [
      "\u001b[34m\u001b[1mwandb\u001b[0m: Adding directory to artifact (/home/jupyter/ray_results/TorchTrainer_2022-09-07_22-21-37/TorchTrainer_9fab1d06_4_batch_size=18.0000,format_version=4,future_num_frames=50,history_num_frames=5,model_architecture=resnet50,_2022-09-07_22-23-53/checkpoint_000003)... "
     ]
    },
    {
     "name": "stdout",
     "output_type": "stream",
     "text": [
      "Result for TorchTrainer_9fab1d06:\n",
      "  _time_this_iter_s: 14.1835196018219\n",
      "  _timestamp: 1662589506\n",
      "  _training_iteration: 4\n",
      "  avg_loss: 60.39076900482178\n",
      "  date: 2022-09-07_22-25-06\n",
      "  done: false\n",
      "  experiment_id: 883146272b3045babd0d33d5e2460cb6\n",
      "  hostname: anish-l5-kit\n",
      "  iterations_since_restore: 4\n",
      "  loss: 26.54417610168457\n",
      "  node_ip: 10.150.0.3\n",
      "  pid: 25250\n",
      "  should_checkpoint: true\n",
      "  time_since_restore: 69.84996008872986\n",
      "  time_this_iter_s: 14.19409966468811\n",
      "  time_total_s: 69.84996008872986\n",
      "  timestamp: 1662589506\n",
      "  timesteps_since_restore: 0\n",
      "  training_iteration: 4\n",
      "  trial_id: 9fab1d06\n",
      "  warmup_time: 0.007066011428833008\n",
      "  \n",
      "\u001b[2m\u001b[36m(RayTrainWorker pid=25390)\u001b[0m {'loss': 188.43038940429688, 'avg_loss': 104.23522281646729}\n"
     ]
    },
    {
     "name": "stderr",
     "output_type": "stream",
     "text": [
      "\u001b[34m\u001b[1mwandb\u001b[0m: Adding directory to artifact (/home/jupyter/ray_results/TorchTrainer_2022-09-07_22-21-37/TorchTrainer_c12d4d82_5_batch_size=18.0000,format_version=4,future_num_frames=50,history_num_frames=5,model_architecture=resnet50,_2022-09-07_22-23-53/checkpoint_000003)... "
     ]
    },
    {
     "name": "stdout",
     "output_type": "stream",
     "text": [
      "Result for TorchTrainer_c12d4d82:\n",
      "  _time_this_iter_s: 14.600107192993164\n",
      "  _timestamp: 1662589507\n",
      "  _training_iteration: 4\n",
      "  avg_loss: 104.23522281646729\n",
      "  date: 2022-09-07_22-25-08\n",
      "  done: false\n",
      "  experiment_id: 78f22cb608834136a975e70a0a69143b\n",
      "  hostname: anish-l5-kit\n",
      "  iterations_since_restore: 4\n",
      "  loss: 188.43038940429688\n",
      "  node_ip: 10.150.0.3\n",
      "  pid: 25260\n",
      "  should_checkpoint: true\n",
      "  time_since_restore: 69.8012969493866\n",
      "  time_this_iter_s: 14.328955888748169\n",
      "  time_total_s: 69.8012969493866\n",
      "  timestamp: 1662589508\n",
      "  timesteps_since_restore: 0\n",
      "  training_iteration: 4\n",
      "  trial_id: c12d4d82\n",
      "  warmup_time: 0.006730318069458008\n",
      "  \n"
     ]
    },
    {
     "name": "stderr",
     "output_type": "stream",
     "text": [
      "Done. 1.7s\n",
      "Done. 2.8s\n"
     ]
    },
    {
     "name": "stdout",
     "output_type": "stream",
     "text": [
      "\u001b[2m\u001b[36m(RayTrainWorker pid=25381)\u001b[0m {'loss': 44.491188049316406, 'avg_loss': 57.210852813720706}\n"
     ]
    },
    {
     "name": "stderr",
     "output_type": "stream",
     "text": [
      "\u001b[34m\u001b[1mwandb\u001b[0m: Adding directory to artifact (/home/jupyter/ray_results/TorchTrainer_2022-09-07_22-21-37/TorchTrainer_9fab1d06_4_batch_size=18.0000,format_version=4,future_num_frames=50,history_num_frames=5,model_architecture=resnet50,_2022-09-07_22-23-53/checkpoint_000004)... "
     ]
    },
    {
     "name": "stdout",
     "output_type": "stream",
     "text": [
      "Result for TorchTrainer_9fab1d06:\n",
      "  _time_this_iter_s: 12.728408813476562\n",
      "  _timestamp: 1662589519\n",
      "  _training_iteration: 5\n",
      "  avg_loss: 57.210852813720706\n",
      "  date: 2022-09-07_22-25-19\n",
      "  done: false\n",
      "  experiment_id: 883146272b3045babd0d33d5e2460cb6\n",
      "  hostname: anish-l5-kit\n",
      "  iterations_since_restore: 5\n",
      "  loss: 44.491188049316406\n",
      "  node_ip: 10.150.0.3\n",
      "  pid: 25250\n",
      "  should_checkpoint: true\n",
      "  time_since_restore: 82.58176970481873\n",
      "  time_this_iter_s: 12.731809616088867\n",
      "  time_total_s: 82.58176970481873\n",
      "  timestamp: 1662589519\n",
      "  timesteps_since_restore: 0\n",
      "  training_iteration: 5\n",
      "  trial_id: 9fab1d06\n",
      "  warmup_time: 0.007066011428833008\n",
      "  \n",
      "\u001b[2m\u001b[36m(RayTrainWorker pid=25390)\u001b[0m {'loss': 66.33246612548828, 'avg_loss': 96.65467147827148}\n"
     ]
    },
    {
     "name": "stderr",
     "output_type": "stream",
     "text": [
      "Done. 1.0s\n",
      "\u001b[34m\u001b[1mwandb\u001b[0m: Adding directory to artifact (/home/jupyter/ray_results/TorchTrainer_2022-09-07_22-21-37/TorchTrainer_9fab1d06_4_batch_size=18.0000,format_version=4,future_num_frames=50,history_num_frames=5,model_architecture=resnet50,_2022-09-07_22-23-53/checkpoint_000004)... Done. 0.3s\n"
     ]
    },
    {
     "data": {
      "text/html": [
       "Waiting for W&B process to finish... <strong style=\"color:green\">(success).</strong>"
      ],
      "text/plain": [
       "<IPython.core.display.HTML object>"
      ]
     },
     "metadata": {},
     "output_type": "display_data"
    },
    {
     "data": {
      "application/vnd.jupyter.widget-view+json": {
       "model_id": "49273210c52b4701ae94f27a9b3a9f23",
       "version_major": 2,
       "version_minor": 0
      },
      "text/plain": [
       "VBox(children=(Label(value='457.001 MB of 457.001 MB uploaded (91.307 MB deduped)\\r'), FloatProgress(value=1.0…"
      ]
     },
     "metadata": {},
     "output_type": "display_data"
    },
    {
     "data": {
      "text/html": [
       "W&B sync reduced upload amount by 20.0%             "
      ],
      "text/plain": [
       "<IPython.core.display.HTML object>"
      ]
     },
     "metadata": {},
     "output_type": "display_data"
    },
    {
     "data": {
      "text/html": [
       "<style>\n",
       "    table.wandb td:nth-child(1) { padding: 0 10px; text-align: left ; width: auto;} td:nth-child(2) {text-align: left ; width: 100%}\n",
       "    .wandb-row { display: flex; flex-direction: row; flex-wrap: wrap; justify-content: flex-start; width: 100% }\n",
       "    .wandb-col { display: flex; flex-direction: column; flex-basis: 100%; flex: 1; padding: 10px; }\n",
       "    </style>\n",
       "<div class=\"wandb-row\"><div class=\"wandb-col\"><h3>Run history:</h3><br/><table class=\"wandb\"><tr><td>avg_loss</td><td>▁▇█▆▆</td></tr><tr><td>iterations_since_restore</td><td>▁▃▅▆█</td></tr><tr><td>loss</td><td>▁█▇▁▃</td></tr><tr><td>time_since_restore</td><td>▁▃▄▆█</td></tr><tr><td>time_this_iter_s</td><td>█▁▁▂▁</td></tr><tr><td>time_total_s</td><td>▁▃▄▆█</td></tr><tr><td>timestamp</td><td>▁▃▄▆█</td></tr><tr><td>timesteps_since_restore</td><td>▁▁▁▁▁</td></tr><tr><td>training_iteration</td><td>▁▃▅▆█</td></tr><tr><td>warmup_time</td><td>▁▁▁▁▁</td></tr></table><br/></div><div class=\"wandb-col\"><h3>Run summary:</h3><br/><table class=\"wandb\"><tr><td>avg_loss</td><td>57.21085</td></tr><tr><td>iterations_since_restore</td><td>5</td></tr><tr><td>loss</td><td>44.49119</td></tr><tr><td>time_since_restore</td><td>82.58177</td></tr><tr><td>time_this_iter_s</td><td>12.73181</td></tr><tr><td>time_total_s</td><td>82.58177</td></tr><tr><td>timestamp</td><td>1662589519</td></tr><tr><td>timesteps_since_restore</td><td>0</td></tr><tr><td>training_iteration</td><td>5</td></tr><tr><td>warmup_time</td><td>0.00707</td></tr></table><br/></div></div>"
      ],
      "text/plain": [
       "<IPython.core.display.HTML object>"
      ]
     },
     "metadata": {},
     "output_type": "display_data"
    },
    {
     "data": {
      "text/html": [
       "Synced <strong style=\"color:#cdcd00\">TorchTrainer_9fab1d06</strong>: <a href=\"https://wandb.ai/l5-demo/l5-simulation-trials/runs/9fab1d06\" target=\"_blank\">https://wandb.ai/l5-demo/l5-simulation-trials/runs/9fab1d06</a><br/>Synced 7 W&B file(s), 0 media file(s), 12 artifact file(s) and 1 other file(s)"
      ],
      "text/plain": [
       "<IPython.core.display.HTML object>"
      ]
     },
     "metadata": {},
     "output_type": "display_data"
    },
    {
     "data": {
      "text/html": [
       "Find logs at: <code>./wandb/run-20220907_222353-9fab1d06/logs</code>"
      ],
      "text/plain": [
       "<IPython.core.display.HTML object>"
      ]
     },
     "metadata": {},
     "output_type": "display_data"
    },
    {
     "name": "stdout",
     "output_type": "stream",
     "text": [
      "Result for TorchTrainer_9fab1d06:\n",
      "  _time_this_iter_s: 12.728408813476562\n",
      "  _timestamp: 1662589519\n",
      "  _training_iteration: 5\n",
      "  avg_loss: 57.210852813720706\n",
      "  date: 2022-09-07_22-25-19\n",
      "  done: true\n",
      "  experiment_id: 883146272b3045babd0d33d5e2460cb6\n",
      "  experiment_tag: 4_batch_size=18.0000,format_version=4,future_num_frames=50,history_num_frames=5,model_architecture=resnet50,render_ego_history=False,step_time=0.1000,dataset_meta_key=meta_json,disable_traffic_light_faces=False,ego_center=0_25_0_5,filter_agents_threshold=0.5000,map_type=py_satellite,pixel_size=0_5_0_5,raster_size=224_224,satellite_map_key=aerial_map_aerial_map_png,semantic_map_key=semantic_map_semantic_map_pb,set_origin_to_bottom=True,batch_size=12,key=scenes_sample_zarr,num_workers=16,perturb_probability=0.0000,shuffle=True,checkpoint_every_n_steps=10000,eval_every_n_steps=10000,max_num_steps=5,batch_size=12,key=scenes_sample_zarr,num_workers=16,shuffle=False,dataset_key=scenes_sample_zarr,lr=0.0018,max_num_steps=5,num_workers=4,shuffle=True\n",
      "  hostname: anish-l5-kit\n",
      "  iterations_since_restore: 5\n",
      "  loss: 44.491188049316406\n",
      "  node_ip: 10.150.0.3\n",
      "  pid: 25250\n",
      "  should_checkpoint: true\n",
      "  time_since_restore: 82.58176970481873\n",
      "  time_this_iter_s: 12.731809616088867\n",
      "  time_total_s: 82.58176970481873\n",
      "  timestamp: 1662589519\n",
      "  timesteps_since_restore: 0\n",
      "  training_iteration: 5\n",
      "  trial_id: 9fab1d06\n",
      "  warmup_time: 0.007066011428833008\n",
      "  \n"
     ]
    },
    {
     "name": "stderr",
     "output_type": "stream",
     "text": [
      "\u001b[34m\u001b[1mwandb\u001b[0m: Adding directory to artifact (/home/jupyter/ray_results/TorchTrainer_2022-09-07_22-21-37/TorchTrainer_c12d4d82_5_batch_size=18.0000,format_version=4,future_num_frames=50,history_num_frames=5,model_architecture=resnet50,_2022-09-07_22-23-53/checkpoint_000004)... "
     ]
    },
    {
     "name": "stdout",
     "output_type": "stream",
     "text": [
      "Result for TorchTrainer_c12d4d82:\n",
      "  _time_this_iter_s: 12.58676791191101\n",
      "  _timestamp: 1662589520\n",
      "  _training_iteration: 5\n",
      "  avg_loss: 96.65467147827148\n",
      "  date: 2022-09-07_22-25-20\n",
      "  done: false\n",
      "  experiment_id: 78f22cb608834136a975e70a0a69143b\n",
      "  hostname: anish-l5-kit\n",
      "  iterations_since_restore: 5\n",
      "  loss: 66.33246612548828\n",
      "  node_ip: 10.150.0.3\n",
      "  pid: 25260\n",
      "  should_checkpoint: true\n",
      "  time_since_restore: 82.37436127662659\n",
      "  time_this_iter_s: 12.57306432723999\n",
      "  time_total_s: 82.37436127662659\n",
      "  timestamp: 1662589520\n",
      "  timesteps_since_restore: 0\n",
      "  training_iteration: 5\n",
      "  trial_id: c12d4d82\n",
      "  warmup_time: 0.006730318069458008\n",
      "  \n"
     ]
    },
    {
     "name": "stderr",
     "output_type": "stream",
     "text": [
      "Done. 1.0s\n",
      "\u001b[34m\u001b[1mwandb\u001b[0m: Adding directory to artifact (/home/jupyter/ray_results/TorchTrainer_2022-09-07_22-21-37/TorchTrainer_c12d4d82_5_batch_size=18.0000,format_version=4,future_num_frames=50,history_num_frames=5,model_architecture=resnet50,_2022-09-07_22-23-53/checkpoint_000004)... Done. 0.3s\n"
     ]
    },
    {
     "data": {
      "text/html": [
       "Waiting for W&B process to finish... <strong style=\"color:green\">(success).</strong>"
      ],
      "text/plain": [
       "<IPython.core.display.HTML object>"
      ]
     },
     "metadata": {},
     "output_type": "display_data"
    },
    {
     "data": {
      "application/vnd.jupyter.widget-view+json": {
       "model_id": "53817ef576d1458ba66041e0cc552018",
       "version_major": 2,
       "version_minor": 0
      },
      "text/plain": [
       "VBox(children=(Label(value='457.001 MB of 457.001 MB uploaded (91.307 MB deduped)\\r'), FloatProgress(value=1.0…"
      ]
     },
     "metadata": {},
     "output_type": "display_data"
    },
    {
     "name": "stdout",
     "output_type": "stream",
     "text": [
      "Result for TorchTrainer_c12d4d82:\n",
      "  _time_this_iter_s: 12.58676791191101\n",
      "  _timestamp: 1662589520\n",
      "  _training_iteration: 5\n",
      "  avg_loss: 96.65467147827148\n",
      "  date: 2022-09-07_22-25-20\n",
      "  done: true\n",
      "  experiment_id: 78f22cb608834136a975e70a0a69143b\n",
      "  experiment_tag: 5_batch_size=18.0000,format_version=4,future_num_frames=50,history_num_frames=5,model_architecture=resnet50,render_ego_history=False,step_time=0.1000,dataset_meta_key=meta_json,disable_traffic_light_faces=False,ego_center=0_25_0_5,filter_agents_threshold=0.5000,map_type=py_satellite,pixel_size=0_5_0_5,raster_size=224_224,satellite_map_key=aerial_map_aerial_map_png,semantic_map_key=semantic_map_semantic_map_pb,set_origin_to_bottom=True,batch_size=12,key=scenes_sample_zarr,num_workers=16,perturb_probability=0.0000,shuffle=True,checkpoint_every_n_steps=10000,eval_every_n_steps=10000,max_num_steps=5,batch_size=12,key=scenes_sample_zarr,num_workers=16,shuffle=False,dataset_key=scenes_sample_zarr,lr=0.0001,max_num_steps=5,num_workers=4,shuffle=True\n",
      "  hostname: anish-l5-kit\n",
      "  iterations_since_restore: 5\n",
      "  loss: 66.33246612548828\n",
      "  node_ip: 10.150.0.3\n",
      "  pid: 25260\n",
      "  should_checkpoint: true\n",
      "  time_since_restore: 82.37436127662659\n",
      "  time_this_iter_s: 12.57306432723999\n",
      "  time_total_s: 82.37436127662659\n",
      "  timestamp: 1662589520\n",
      "  timesteps_since_restore: 0\n",
      "  training_iteration: 5\n",
      "  trial_id: c12d4d82\n",
      "  warmup_time: 0.006730318069458008\n",
      "  \n"
     ]
    },
    {
     "data": {
      "text/html": [
       "W&B sync reduced upload amount by 20.0%             "
      ],
      "text/plain": [
       "<IPython.core.display.HTML object>"
      ]
     },
     "metadata": {},
     "output_type": "display_data"
    },
    {
     "data": {
      "text/html": [
       "<style>\n",
       "    table.wandb td:nth-child(1) { padding: 0 10px; text-align: left ; width: auto;} td:nth-child(2) {text-align: left ; width: 100%}\n",
       "    .wandb-row { display: flex; flex-direction: row; flex-wrap: wrap; justify-content: flex-start; width: 100% }\n",
       "    .wandb-col { display: flex; flex-direction: column; flex-basis: 100%; flex: 1; padding: 10px; }\n",
       "    </style>\n",
       "<div class=\"wandb-row\"><div class=\"wandb-col\"><h3>Run history:</h3><br/><table class=\"wandb\"><tr><td>avg_loss</td><td>▁▄▅█▇</td></tr><tr><td>iterations_since_restore</td><td>▁▃▅▆█</td></tr><tr><td>loss</td><td>▁▄▃█▂</td></tr><tr><td>time_since_restore</td><td>▁▃▄▆█</td></tr><tr><td>time_this_iter_s</td><td>█▁▁▂▁</td></tr><tr><td>time_total_s</td><td>▁▃▄▆█</td></tr><tr><td>timestamp</td><td>▁▃▄▆█</td></tr><tr><td>timesteps_since_restore</td><td>▁▁▁▁▁</td></tr><tr><td>training_iteration</td><td>▁▃▅▆█</td></tr><tr><td>warmup_time</td><td>▁▁▁▁▁</td></tr></table><br/></div><div class=\"wandb-col\"><h3>Run summary:</h3><br/><table class=\"wandb\"><tr><td>avg_loss</td><td>96.65467</td></tr><tr><td>iterations_since_restore</td><td>5</td></tr><tr><td>loss</td><td>66.33247</td></tr><tr><td>time_since_restore</td><td>82.37436</td></tr><tr><td>time_this_iter_s</td><td>12.57306</td></tr><tr><td>time_total_s</td><td>82.37436</td></tr><tr><td>timestamp</td><td>1662589520</td></tr><tr><td>timesteps_since_restore</td><td>0</td></tr><tr><td>training_iteration</td><td>5</td></tr><tr><td>warmup_time</td><td>0.00673</td></tr></table><br/></div></div>"
      ],
      "text/plain": [
       "<IPython.core.display.HTML object>"
      ]
     },
     "metadata": {},
     "output_type": "display_data"
    },
    {
     "data": {
      "text/html": [
       "Synced <strong style=\"color:#cdcd00\">TorchTrainer_c12d4d82</strong>: <a href=\"https://wandb.ai/l5-demo/l5-simulation-trials/runs/c12d4d82\" target=\"_blank\">https://wandb.ai/l5-demo/l5-simulation-trials/runs/c12d4d82</a><br/>Synced 7 W&B file(s), 0 media file(s), 12 artifact file(s) and 1 other file(s)"
      ],
      "text/plain": [
       "<IPython.core.display.HTML object>"
      ]
     },
     "metadata": {},
     "output_type": "display_data"
    },
    {
     "data": {
      "text/html": [
       "Find logs at: <code>./wandb/run-20220907_222354-c12d4d82/logs</code>"
      ],
      "text/plain": [
       "<IPython.core.display.HTML object>"
      ]
     },
     "metadata": {},
     "output_type": "display_data"
    },
    {
     "name": "stderr",
     "output_type": "stream",
     "text": [
      "\u001b[2m\u001b[36m(RayTrainWorker pid=27044)\u001b[0m 2022-09-07 22:25:46,623\tINFO config.py:72 -- Setting up process group for: env:// [rank=0, world_size=1]\n",
      "\u001b[2m\u001b[36m(RayTrainWorker pid=27050)\u001b[0m 2022-09-07 22:25:47,056\tINFO config.py:72 -- Setting up process group for: env:// [rank=0, world_size=1]\n",
      "\u001b[2m\u001b[36m(RayTrainWorker pid=27044)\u001b[0m /opt/conda/lib/python3.7/site-packages/l5kit/planning/rasterized/model.py:31: UserWarning: There is no pre-trained model with num_in_channels != 3, first layer will be reset\n",
      "\u001b[2m\u001b[36m(RayTrainWorker pid=27044)\u001b[0m   warnings.warn(\"There is no pre-trained model with num_in_channels != 3, first layer will be reset\")\n",
      "\u001b[2m\u001b[36m(RayTrainWorker pid=27044)\u001b[0m /opt/conda/lib/python3.7/site-packages/torchvision/models/_utils.py:209: UserWarning: The parameter 'pretrained' is deprecated since 0.13 and will be removed in 0.15, please use 'weights' instead.\n",
      "\u001b[2m\u001b[36m(RayTrainWorker pid=27044)\u001b[0m   f\"The parameter '{pretrained_param}' is deprecated since 0.13 and will be removed in 0.15, \"\n",
      "\u001b[2m\u001b[36m(RayTrainWorker pid=27044)\u001b[0m /opt/conda/lib/python3.7/site-packages/torchvision/models/_utils.py:223: UserWarning: Arguments other than a weight enum or `None` for 'weights' are deprecated since 0.13 and will be removed in 0.15. The current behavior is equivalent to passing `weights=ResNet50_Weights.IMAGENET1K_V1`. You can also use `weights=ResNet50_Weights.DEFAULT` to get the most up-to-date weights.\n",
      "\u001b[2m\u001b[36m(RayTrainWorker pid=27044)\u001b[0m   warnings.warn(msg)\n",
      "\u001b[2m\u001b[36m(RayTrainWorker pid=27044)\u001b[0m 2022-09-07 22:25:53,873\tINFO train_loop_utils.py:300 -- Moving model to device: cpu\n",
      "\u001b[2m\u001b[36m(RayTrainWorker pid=27050)\u001b[0m /opt/conda/lib/python3.7/site-packages/l5kit/planning/rasterized/model.py:31: UserWarning: There is no pre-trained model with num_in_channels != 3, first layer will be reset\n",
      "\u001b[2m\u001b[36m(RayTrainWorker pid=27050)\u001b[0m   warnings.warn(\"There is no pre-trained model with num_in_channels != 3, first layer will be reset\")\n",
      "\u001b[2m\u001b[36m(RayTrainWorker pid=27050)\u001b[0m /opt/conda/lib/python3.7/site-packages/torchvision/models/_utils.py:209: UserWarning: The parameter 'pretrained' is deprecated since 0.13 and will be removed in 0.15, please use 'weights' instead.\n",
      "\u001b[2m\u001b[36m(RayTrainWorker pid=27050)\u001b[0m   f\"The parameter '{pretrained_param}' is deprecated since 0.13 and will be removed in 0.15, \"\n",
      "\u001b[2m\u001b[36m(RayTrainWorker pid=27050)\u001b[0m /opt/conda/lib/python3.7/site-packages/torchvision/models/_utils.py:223: UserWarning: Arguments other than a weight enum or `None` for 'weights' are deprecated since 0.13 and will be removed in 0.15. The current behavior is equivalent to passing `weights=ResNet50_Weights.IMAGENET1K_V1`. You can also use `weights=ResNet50_Weights.DEFAULT` to get the most up-to-date weights.\n",
      "\u001b[2m\u001b[36m(RayTrainWorker pid=27050)\u001b[0m   warnings.warn(msg)\n",
      "\u001b[2m\u001b[36m(RayTrainWorker pid=27050)\u001b[0m 2022-09-07 22:25:54,972\tINFO train_loop_utils.py:300 -- Moving model to device: cpu\n"
     ]
    },
    {
     "name": "stdout",
     "output_type": "stream",
     "text": [
      "\u001b[2m\u001b[36m(RayTrainWorker pid=27044)\u001b[0m {'loss': 160.96267700195312, 'avg_loss': 160.96267700195312}\n"
     ]
    },
    {
     "name": "stderr",
     "output_type": "stream",
     "text": [
      "\u001b[34m\u001b[1mwandb\u001b[0m: Adding directory to artifact (/home/jupyter/ray_results/TorchTrainer_2022-09-07_22-21-37/TorchTrainer_c19f6e8a_6_batch_size=18.0000,format_version=4,future_num_frames=50,history_num_frames=5,model_architecture=resnet50,_2022-09-07_22-25-38/checkpoint_000000)... "
     ]
    },
    {
     "name": "stdout",
     "output_type": "stream",
     "text": [
      "Result for TorchTrainer_c19f6e8a:\n",
      "  _time_this_iter_s: 25.660257816314697\n",
      "  _timestamp: 1662589572\n",
      "  _training_iteration: 1\n",
      "  avg_loss: 160.96267700195312\n",
      "  date: 2022-09-07_22-26-13\n",
      "  done: false\n",
      "  experiment_id: ef2bde5641d44c6382a490b28a83bb7b\n",
      "  hostname: anish-l5-kit\n",
      "  iterations_since_restore: 1\n",
      "  loss: 160.96267700195312\n",
      "  node_ip: 10.150.0.3\n",
      "  pid: 26884\n",
      "  should_checkpoint: true\n",
      "  time_since_restore: 30.671546697616577\n",
      "  time_this_iter_s: 30.671546697616577\n",
      "  time_total_s: 30.671546697616577\n",
      "  timestamp: 1662589573\n",
      "  timesteps_since_restore: 0\n",
      "  training_iteration: 1\n",
      "  trial_id: c19f6e8a\n",
      "  warmup_time: 0.0072231292724609375\n",
      "  \n"
     ]
    },
    {
     "name": "stderr",
     "output_type": "stream",
     "text": [
      "Done. 1.1s\n"
     ]
    },
    {
     "name": "stdout",
     "output_type": "stream",
     "text": [
      "\u001b[2m\u001b[36m(RayTrainWorker pid=27050)\u001b[0m {'loss': 56.14323806762695, 'avg_loss': 56.14323806762695}\n"
     ]
    },
    {
     "name": "stderr",
     "output_type": "stream",
     "text": [
      "\u001b[34m\u001b[1mwandb\u001b[0m: Adding directory to artifact (/home/jupyter/ray_results/TorchTrainer_2022-09-07_22-21-37/TorchTrainer_ffd13a76_7_batch_size=24.0000,format_version=4,future_num_frames=50,history_num_frames=5,model_architecture=resnet50,_2022-09-07_22-25-38/checkpoint_000000)... "
     ]
    },
    {
     "name": "stdout",
     "output_type": "stream",
     "text": [
      "Result for TorchTrainer_ffd13a76:\n",
      "  _time_this_iter_s: 31.4076189994812\n",
      "  _timestamp: 1662589579\n",
      "  _training_iteration: 1\n",
      "  avg_loss: 56.14323806762695\n",
      "  date: 2022-09-07_22-26-19\n",
      "  done: false\n",
      "  experiment_id: 2e0930cd5a3c4e19bfa59e1e512db84c\n",
      "  hostname: anish-l5-kit\n",
      "  iterations_since_restore: 1\n",
      "  loss: 56.14323806762695\n",
      "  node_ip: 10.150.0.3\n",
      "  pid: 26919\n",
      "  should_checkpoint: true\n",
      "  time_since_restore: 36.00232005119324\n",
      "  time_this_iter_s: 36.00232005119324\n",
      "  time_total_s: 36.00232005119324\n",
      "  timestamp: 1662589579\n",
      "  timesteps_since_restore: 0\n",
      "  training_iteration: 1\n",
      "  trial_id: ffd13a76\n",
      "  warmup_time: 0.0063266754150390625\n",
      "  \n"
     ]
    },
    {
     "name": "stderr",
     "output_type": "stream",
     "text": [
      "Done. 1.0s\n"
     ]
    },
    {
     "name": "stdout",
     "output_type": "stream",
     "text": [
      "\u001b[2m\u001b[36m(RayTrainWorker pid=27044)\u001b[0m {'loss': 28.569807052612305, 'avg_loss': 94.76624202728271}\n"
     ]
    },
    {
     "name": "stderr",
     "output_type": "stream",
     "text": [
      "\u001b[34m\u001b[1mwandb\u001b[0m: Adding directory to artifact (/home/jupyter/ray_results/TorchTrainer_2022-09-07_22-21-37/TorchTrainer_c19f6e8a_6_batch_size=18.0000,format_version=4,future_num_frames=50,history_num_frames=5,model_architecture=resnet50,_2022-09-07_22-25-38/checkpoint_000001)... "
     ]
    },
    {
     "name": "stdout",
     "output_type": "stream",
     "text": [
      "Result for TorchTrainer_c19f6e8a:\n",
      "  _time_this_iter_s: 13.757345199584961\n",
      "  _timestamp: 1662589586\n",
      "  _training_iteration: 2\n",
      "  avg_loss: 94.76624202728271\n",
      "  date: 2022-09-07_22-26-27\n",
      "  done: false\n",
      "  experiment_id: ef2bde5641d44c6382a490b28a83bb7b\n",
      "  hostname: anish-l5-kit\n",
      "  iterations_since_restore: 2\n",
      "  loss: 28.569807052612305\n",
      "  node_ip: 10.150.0.3\n",
      "  pid: 26884\n",
      "  should_checkpoint: true\n",
      "  time_since_restore: 44.49286222457886\n",
      "  time_this_iter_s: 13.82131552696228\n",
      "  time_total_s: 44.49286222457886\n",
      "  timestamp: 1662589587\n",
      "  timesteps_since_restore: 0\n",
      "  training_iteration: 2\n",
      "  trial_id: c19f6e8a\n",
      "  warmup_time: 0.0072231292724609375\n",
      "  \n"
     ]
    },
    {
     "name": "stderr",
     "output_type": "stream",
     "text": [
      "Done. 1.0s\n"
     ]
    },
    {
     "name": "stdout",
     "output_type": "stream",
     "text": [
      "\u001b[2m\u001b[36m(RayTrainWorker pid=27050)\u001b[0m {'loss': 32.62532424926758, 'avg_loss': 44.384281158447266}\n"
     ]
    },
    {
     "name": "stderr",
     "output_type": "stream",
     "text": [
      "\u001b[34m\u001b[1mwandb\u001b[0m: Adding directory to artifact (/home/jupyter/ray_results/TorchTrainer_2022-09-07_22-21-37/TorchTrainer_ffd13a76_7_batch_size=24.0000,format_version=4,future_num_frames=50,history_num_frames=5,model_architecture=resnet50,_2022-09-07_22-25-38/checkpoint_000001)... "
     ]
    },
    {
     "name": "stdout",
     "output_type": "stream",
     "text": [
      "Result for TorchTrainer_ffd13a76:\n",
      "  _time_this_iter_s: 18.92997646331787\n",
      "  _timestamp: 1662589598\n",
      "  _training_iteration: 2\n",
      "  avg_loss: 44.384281158447266\n",
      "  date: 2022-09-07_22-26-38\n",
      "  done: false\n",
      "  experiment_id: 2e0930cd5a3c4e19bfa59e1e512db84c\n",
      "  hostname: anish-l5-kit\n",
      "  iterations_since_restore: 2\n",
      "  loss: 32.62532424926758\n",
      "  node_ip: 10.150.0.3\n",
      "  pid: 26919\n",
      "  should_checkpoint: true\n",
      "  time_since_restore: 54.898523569107056\n",
      "  time_this_iter_s: 18.89620351791382\n",
      "  time_total_s: 54.898523569107056\n",
      "  timestamp: 1662589598\n",
      "  timesteps_since_restore: 0\n",
      "  training_iteration: 2\n",
      "  trial_id: ffd13a76\n",
      "  warmup_time: 0.0063266754150390625\n",
      "  \n"
     ]
    },
    {
     "name": "stderr",
     "output_type": "stream",
     "text": [
      "Done. 1.1s\n"
     ]
    },
    {
     "name": "stdout",
     "output_type": "stream",
     "text": [
      "\u001b[2m\u001b[36m(RayTrainWorker pid=27044)\u001b[0m {'loss': 31.340723037719727, 'avg_loss': 73.62440236409505}\n"
     ]
    },
    {
     "name": "stderr",
     "output_type": "stream",
     "text": [
      "\u001b[34m\u001b[1mwandb\u001b[0m: Adding directory to artifact (/home/jupyter/ray_results/TorchTrainer_2022-09-07_22-21-37/TorchTrainer_c19f6e8a_6_batch_size=18.0000,format_version=4,future_num_frames=50,history_num_frames=5,model_architecture=resnet50,_2022-09-07_22-25-38/checkpoint_000002)... "
     ]
    },
    {
     "name": "stdout",
     "output_type": "stream",
     "text": [
      "Result for TorchTrainer_c19f6e8a:\n",
      "  _time_this_iter_s: 13.568504571914673\n",
      "  _timestamp: 1662589600\n",
      "  _training_iteration: 3\n",
      "  avg_loss: 73.62440236409505\n",
      "  date: 2022-09-07_22-26-40\n",
      "  done: false\n",
      "  experiment_id: ef2bde5641d44c6382a490b28a83bb7b\n",
      "  hostname: anish-l5-kit\n",
      "  iterations_since_restore: 3\n",
      "  loss: 31.340723037719727\n",
      "  node_ip: 10.150.0.3\n",
      "  pid: 26884\n",
      "  should_checkpoint: true\n",
      "  time_since_restore: 57.873053312301636\n",
      "  time_this_iter_s: 13.380191087722778\n",
      "  time_total_s: 57.873053312301636\n",
      "  timestamp: 1662589600\n",
      "  timesteps_since_restore: 0\n",
      "  training_iteration: 3\n",
      "  trial_id: c19f6e8a\n",
      "  warmup_time: 0.0072231292724609375\n",
      "  \n"
     ]
    },
    {
     "name": "stderr",
     "output_type": "stream",
     "text": [
      "Done. 1.0s\n"
     ]
    },
    {
     "name": "stdout",
     "output_type": "stream",
     "text": [
      "\u001b[2m\u001b[36m(RayTrainWorker pid=27044)\u001b[0m {'loss': 13.940718650817871, 'avg_loss': 58.70348143577576}\n"
     ]
    },
    {
     "name": "stderr",
     "output_type": "stream",
     "text": [
      "\u001b[34m\u001b[1mwandb\u001b[0m: Adding directory to artifact (/home/jupyter/ray_results/TorchTrainer_2022-09-07_22-21-37/TorchTrainer_c19f6e8a_6_batch_size=18.0000,format_version=4,future_num_frames=50,history_num_frames=5,model_architecture=resnet50,_2022-09-07_22-25-38/checkpoint_000003)... "
     ]
    },
    {
     "name": "stdout",
     "output_type": "stream",
     "text": [
      "Result for TorchTrainer_c19f6e8a:\n",
      "  _time_this_iter_s: 12.754664659500122\n",
      "  _timestamp: 1662589613\n",
      "  _training_iteration: 4\n",
      "  avg_loss: 58.70348143577576\n",
      "  date: 2022-09-07_22-26-53\n",
      "  done: false\n",
      "  experiment_id: ef2bde5641d44c6382a490b28a83bb7b\n",
      "  hostname: anish-l5-kit\n",
      "  iterations_since_restore: 4\n",
      "  loss: 13.940718650817871\n",
      "  node_ip: 10.150.0.3\n",
      "  pid: 26884\n",
      "  should_checkpoint: true\n",
      "  time_since_restore: 70.63062572479248\n",
      "  time_this_iter_s: 12.757572412490845\n",
      "  time_total_s: 70.63062572479248\n",
      "  timestamp: 1662589613\n",
      "  timesteps_since_restore: 0\n",
      "  training_iteration: 4\n",
      "  trial_id: c19f6e8a\n",
      "  warmup_time: 0.0072231292724609375\n",
      "  \n"
     ]
    },
    {
     "name": "stderr",
     "output_type": "stream",
     "text": [
      "Done. 1.0s\n"
     ]
    },
    {
     "name": "stdout",
     "output_type": "stream",
     "text": [
      "\u001b[2m\u001b[36m(RayTrainWorker pid=27050)\u001b[0m {'loss': 41.63853454589844, 'avg_loss': 43.469032287597656}\n",
      "Result for TorchTrainer_ffd13a76:\n",
      "  _time_this_iter_s: 17.641614198684692\n",
      "  _timestamp: 1662589615\n",
      "  _training_iteration: 3\n",
      "  avg_loss: 43.469032287597656\n",
      "  date: 2022-09-07_22-26-56\n",
      "  done: false\n",
      "  experiment_id: 2e0930cd5a3c4e19bfa59e1e512db84c\n",
      "  hostname: anish-l5-kit\n",
      "  iterations_since_restore: 3\n",
      "  loss: 41.63853454589844\n",
      "  node_ip: 10.150.0.3\n",
      "  pid: 26919\n",
      "  should_checkpoint: true\n",
      "  time_since_restore: 72.51348996162415\n",
      "  time_this_iter_s: 17.61496639251709\n",
      "  time_total_s: 72.51348996162415\n",
      "  timestamp: 1662589616\n",
      "  timesteps_since_restore: 0\n",
      "  training_iteration: 3\n",
      "  trial_id: ffd13a76\n",
      "  warmup_time: 0.0063266754150390625\n",
      "  \n"
     ]
    },
    {
     "name": "stderr",
     "output_type": "stream",
     "text": [
      "\u001b[34m\u001b[1mwandb\u001b[0m: Adding directory to artifact (/home/jupyter/ray_results/TorchTrainer_2022-09-07_22-21-37/TorchTrainer_ffd13a76_7_batch_size=24.0000,format_version=4,future_num_frames=50,history_num_frames=5,model_architecture=resnet50,_2022-09-07_22-25-38/checkpoint_000002)... Done. 1.5s\n"
     ]
    },
    {
     "name": "stdout",
     "output_type": "stream",
     "text": [
      "\u001b[2m\u001b[36m(RayTrainWorker pid=27044)\u001b[0m {'loss': 16.063161849975586, 'avg_loss': 50.175417518615724}\n"
     ]
    },
    {
     "name": "stderr",
     "output_type": "stream",
     "text": [
      "\u001b[34m\u001b[1mwandb\u001b[0m: Adding directory to artifact (/home/jupyter/ray_results/TorchTrainer_2022-09-07_22-21-37/TorchTrainer_c19f6e8a_6_batch_size=18.0000,format_version=4,future_num_frames=50,history_num_frames=5,model_architecture=resnet50,_2022-09-07_22-25-38/checkpoint_000004)... "
     ]
    },
    {
     "name": "stdout",
     "output_type": "stream",
     "text": [
      "Result for TorchTrainer_c19f6e8a:\n",
      "  _time_this_iter_s: 14.00586199760437\n",
      "  _timestamp: 1662589627\n",
      "  _training_iteration: 5\n",
      "  avg_loss: 50.175417518615724\n",
      "  date: 2022-09-07_22-27-07\n",
      "  done: false\n",
      "  experiment_id: ef2bde5641d44c6382a490b28a83bb7b\n",
      "  hostname: anish-l5-kit\n",
      "  iterations_since_restore: 5\n",
      "  loss: 16.063161849975586\n",
      "  node_ip: 10.150.0.3\n",
      "  pid: 26884\n",
      "  should_checkpoint: true\n",
      "  time_since_restore: 84.71576285362244\n",
      "  time_this_iter_s: 14.085137128829956\n",
      "  time_total_s: 84.71576285362244\n",
      "  timestamp: 1662589627\n",
      "  timesteps_since_restore: 0\n",
      "  training_iteration: 5\n",
      "  trial_id: c19f6e8a\n",
      "  warmup_time: 0.0072231292724609375\n",
      "  \n"
     ]
    },
    {
     "name": "stderr",
     "output_type": "stream",
     "text": [
      "Done. 1.0s\n",
      "\u001b[34m\u001b[1mwandb\u001b[0m: Adding directory to artifact (/home/jupyter/ray_results/TorchTrainer_2022-09-07_22-21-37/TorchTrainer_c19f6e8a_6_batch_size=18.0000,format_version=4,future_num_frames=50,history_num_frames=5,model_architecture=resnet50,_2022-09-07_22-25-38/checkpoint_000004)... Done. 0.3s\n"
     ]
    },
    {
     "data": {
      "text/html": [
       "Waiting for W&B process to finish... <strong style=\"color:green\">(success).</strong>"
      ],
      "text/plain": [
       "<IPython.core.display.HTML object>"
      ]
     },
     "metadata": {},
     "output_type": "display_data"
    },
    {
     "data": {
      "application/vnd.jupyter.widget-view+json": {
       "model_id": "6aa4ffd423f241b9a149c58adfb6589f",
       "version_major": 2,
       "version_minor": 0
      },
      "text/plain": [
       "VBox(children=(Label(value='457.025 MB of 457.025 MB uploaded (91.307 MB deduped)\\r'), FloatProgress(value=1.0…"
      ]
     },
     "metadata": {},
     "output_type": "display_data"
    },
    {
     "name": "stdout",
     "output_type": "stream",
     "text": [
      "\u001b[2m\u001b[36m(RayTrainWorker pid=27050)\u001b[0m {'loss': 29.51937484741211, 'avg_loss': 39.98161792755127}\n"
     ]
    },
    {
     "data": {
      "text/html": [
       "W&B sync reduced upload amount by 20.0%             "
      ],
      "text/plain": [
       "<IPython.core.display.HTML object>"
      ]
     },
     "metadata": {},
     "output_type": "display_data"
    },
    {
     "data": {
      "text/html": [
       "<style>\n",
       "    table.wandb td:nth-child(1) { padding: 0 10px; text-align: left ; width: auto;} td:nth-child(2) {text-align: left ; width: 100%}\n",
       "    .wandb-row { display: flex; flex-direction: row; flex-wrap: wrap; justify-content: flex-start; width: 100% }\n",
       "    .wandb-col { display: flex; flex-direction: column; flex-basis: 100%; flex: 1; padding: 10px; }\n",
       "    </style>\n",
       "<div class=\"wandb-row\"><div class=\"wandb-col\"><h3>Run history:</h3><br/><table class=\"wandb\"><tr><td>avg_loss</td><td>█▄▂▂▁</td></tr><tr><td>iterations_since_restore</td><td>▁▃▅▆█</td></tr><tr><td>loss</td><td>█▂▂▁▁</td></tr><tr><td>time_since_restore</td><td>▁▃▅▆█</td></tr><tr><td>time_this_iter_s</td><td>█▁▁▁▂</td></tr><tr><td>time_total_s</td><td>▁▃▅▆█</td></tr><tr><td>timestamp</td><td>▁▃▅▆█</td></tr><tr><td>timesteps_since_restore</td><td>▁▁▁▁▁</td></tr><tr><td>training_iteration</td><td>▁▃▅▆█</td></tr><tr><td>warmup_time</td><td>▁▁▁▁▁</td></tr></table><br/></div><div class=\"wandb-col\"><h3>Run summary:</h3><br/><table class=\"wandb\"><tr><td>avg_loss</td><td>50.17542</td></tr><tr><td>iterations_since_restore</td><td>5</td></tr><tr><td>loss</td><td>16.06316</td></tr><tr><td>time_since_restore</td><td>84.71576</td></tr><tr><td>time_this_iter_s</td><td>14.08514</td></tr><tr><td>time_total_s</td><td>84.71576</td></tr><tr><td>timestamp</td><td>1662589627</td></tr><tr><td>timesteps_since_restore</td><td>0</td></tr><tr><td>training_iteration</td><td>5</td></tr><tr><td>warmup_time</td><td>0.00722</td></tr></table><br/></div></div>"
      ],
      "text/plain": [
       "<IPython.core.display.HTML object>"
      ]
     },
     "metadata": {},
     "output_type": "display_data"
    },
    {
     "data": {
      "text/html": [
       "Synced <strong style=\"color:#cdcd00\">TorchTrainer_c19f6e8a</strong>: <a href=\"https://wandb.ai/l5-demo/l5-simulation-trials/runs/c19f6e8a\" target=\"_blank\">https://wandb.ai/l5-demo/l5-simulation-trials/runs/c19f6e8a</a><br/>Synced 7 W&B file(s), 0 media file(s), 12 artifact file(s) and 1 other file(s)"
      ],
      "text/plain": [
       "<IPython.core.display.HTML object>"
      ]
     },
     "metadata": {},
     "output_type": "display_data"
    },
    {
     "data": {
      "text/html": [
       "Find logs at: <code>./wandb/run-20220907_222538-c19f6e8a/logs</code>"
      ],
      "text/plain": [
       "<IPython.core.display.HTML object>"
      ]
     },
     "metadata": {},
     "output_type": "display_data"
    },
    {
     "name": "stdout",
     "output_type": "stream",
     "text": [
      "Result for TorchTrainer_c19f6e8a:\n",
      "  _time_this_iter_s: 14.00586199760437\n",
      "  _timestamp: 1662589627\n",
      "  _training_iteration: 5\n",
      "  avg_loss: 50.175417518615724\n",
      "  date: 2022-09-07_22-27-07\n",
      "  done: true\n",
      "  experiment_id: ef2bde5641d44c6382a490b28a83bb7b\n",
      "  experiment_tag: 6_batch_size=18.0000,format_version=4,future_num_frames=50,history_num_frames=5,model_architecture=resnet50,render_ego_history=False,step_time=0.1000,dataset_meta_key=meta_json,disable_traffic_light_faces=False,ego_center=0_25_0_5,filter_agents_threshold=0.5000,map_type=py_satellite,pixel_size=0_5_0_5,raster_size=224_224,satellite_map_key=aerial_map_aerial_map_png,semantic_map_key=semantic_map_semantic_map_pb,set_origin_to_bottom=True,batch_size=12,key=scenes_sample_zarr,num_workers=16,perturb_probability=0.0000,shuffle=True,checkpoint_every_n_steps=10000,eval_every_n_steps=10000,max_num_steps=5,batch_size=12,key=scenes_sample_zarr,num_workers=16,shuffle=False,dataset_key=scenes_sample_zarr,lr=0.0028,max_num_steps=5,num_workers=4,shuffle=True\n",
      "  hostname: anish-l5-kit\n",
      "  iterations_since_restore: 5\n",
      "  loss: 16.063161849975586\n",
      "  node_ip: 10.150.0.3\n",
      "  pid: 26884\n",
      "  should_checkpoint: true\n",
      "  time_since_restore: 84.71576285362244\n",
      "  time_this_iter_s: 14.085137128829956\n",
      "  time_total_s: 84.71576285362244\n",
      "  timestamp: 1662589627\n",
      "  timesteps_since_restore: 0\n",
      "  training_iteration: 5\n",
      "  trial_id: c19f6e8a\n",
      "  warmup_time: 0.0072231292724609375\n",
      "  \n"
     ]
    },
    {
     "name": "stderr",
     "output_type": "stream",
     "text": [
      "\u001b[34m\u001b[1mwandb\u001b[0m: Adding directory to artifact (/home/jupyter/ray_results/TorchTrainer_2022-09-07_22-21-37/TorchTrainer_ffd13a76_7_batch_size=24.0000,format_version=4,future_num_frames=50,history_num_frames=5,model_architecture=resnet50,_2022-09-07_22-25-38/checkpoint_000003)... "
     ]
    },
    {
     "name": "stdout",
     "output_type": "stream",
     "text": [
      "Result for TorchTrainer_ffd13a76:\n",
      "  _time_this_iter_s: 18.53560757637024\n",
      "  _timestamp: 1662589634\n",
      "  _training_iteration: 4\n",
      "  avg_loss: 39.98161792755127\n",
      "  date: 2022-09-07_22-27-14\n",
      "  done: false\n",
      "  experiment_id: 2e0930cd5a3c4e19bfa59e1e512db84c\n",
      "  hostname: anish-l5-kit\n",
      "  iterations_since_restore: 4\n",
      "  loss: 29.51937484741211\n",
      "  node_ip: 10.150.0.3\n",
      "  pid: 26919\n",
      "  should_checkpoint: true\n",
      "  time_since_restore: 91.05100083351135\n",
      "  time_this_iter_s: 18.537510871887207\n",
      "  time_total_s: 91.05100083351135\n",
      "  timestamp: 1662589634\n",
      "  timesteps_since_restore: 0\n",
      "  training_iteration: 4\n",
      "  trial_id: ffd13a76\n",
      "  warmup_time: 0.0063266754150390625\n",
      "  \n"
     ]
    },
    {
     "name": "stderr",
     "output_type": "stream",
     "text": [
      "Done. 1.0s\n",
      "\u001b[2m\u001b[36m(RayTrainWorker pid=28576)\u001b[0m 2022-09-07 22:27:25,572\tINFO config.py:72 -- Setting up process group for: env:// [rank=0, world_size=1]\n",
      "\u001b[2m\u001b[36m(RayTrainWorker pid=28576)\u001b[0m /opt/conda/lib/python3.7/site-packages/l5kit/planning/rasterized/model.py:31: UserWarning: There is no pre-trained model with num_in_channels != 3, first layer will be reset\n",
      "\u001b[2m\u001b[36m(RayTrainWorker pid=28576)\u001b[0m   warnings.warn(\"There is no pre-trained model with num_in_channels != 3, first layer will be reset\")\n",
      "\u001b[2m\u001b[36m(RayTrainWorker pid=28576)\u001b[0m /opt/conda/lib/python3.7/site-packages/torchvision/models/_utils.py:209: UserWarning: The parameter 'pretrained' is deprecated since 0.13 and will be removed in 0.15, please use 'weights' instead.\n",
      "\u001b[2m\u001b[36m(RayTrainWorker pid=28576)\u001b[0m   f\"The parameter '{pretrained_param}' is deprecated since 0.13 and will be removed in 0.15, \"\n",
      "\u001b[2m\u001b[36m(RayTrainWorker pid=28576)\u001b[0m /opt/conda/lib/python3.7/site-packages/torchvision/models/_utils.py:223: UserWarning: Arguments other than a weight enum or `None` for 'weights' are deprecated since 0.13 and will be removed in 0.15. The current behavior is equivalent to passing `weights=ResNet50_Weights.IMAGENET1K_V1`. You can also use `weights=ResNet50_Weights.DEFAULT` to get the most up-to-date weights.\n",
      "\u001b[2m\u001b[36m(RayTrainWorker pid=28576)\u001b[0m   warnings.warn(msg)\n",
      "\u001b[2m\u001b[36m(RayTrainWorker pid=28576)\u001b[0m 2022-09-07 22:27:31,892\tINFO train_loop_utils.py:300 -- Moving model to device: cpu\n"
     ]
    },
    {
     "name": "stdout",
     "output_type": "stream",
     "text": [
      "\u001b[2m\u001b[36m(RayTrainWorker pid=27050)\u001b[0m {'loss': 14.293675422668457, 'avg_loss': 34.84402942657471}\n"
     ]
    },
    {
     "name": "stderr",
     "output_type": "stream",
     "text": [
      "\u001b[34m\u001b[1mwandb\u001b[0m: Adding directory to artifact (/home/jupyter/ray_results/TorchTrainer_2022-09-07_22-21-37/TorchTrainer_ffd13a76_7_batch_size=24.0000,format_version=4,future_num_frames=50,history_num_frames=5,model_architecture=resnet50,_2022-09-07_22-25-38/checkpoint_000004)... "
     ]
    },
    {
     "name": "stdout",
     "output_type": "stream",
     "text": [
      "Result for TorchTrainer_ffd13a76:\n",
      "  _time_this_iter_s: 18.74686312675476\n",
      "  _timestamp: 1662589652\n",
      "  _training_iteration: 5\n",
      "  avg_loss: 34.84402942657471\n",
      "  date: 2022-09-07_22-27-33\n",
      "  done: false\n",
      "  experiment_id: 2e0930cd5a3c4e19bfa59e1e512db84c\n",
      "  hostname: anish-l5-kit\n",
      "  iterations_since_restore: 5\n",
      "  loss: 14.293675422668457\n",
      "  node_ip: 10.150.0.3\n",
      "  pid: 26919\n",
      "  should_checkpoint: true\n",
      "  time_since_restore: 109.77454113960266\n",
      "  time_this_iter_s: 18.72354030609131\n",
      "  time_total_s: 109.77454113960266\n",
      "  timestamp: 1662589653\n",
      "  timesteps_since_restore: 0\n",
      "  training_iteration: 5\n",
      "  trial_id: ffd13a76\n",
      "  warmup_time: 0.0063266754150390625\n",
      "  \n"
     ]
    },
    {
     "name": "stderr",
     "output_type": "stream",
     "text": [
      "Done. 1.0s\n",
      "\u001b[34m\u001b[1mwandb\u001b[0m: Adding directory to artifact (/home/jupyter/ray_results/TorchTrainer_2022-09-07_22-21-37/TorchTrainer_ffd13a76_7_batch_size=24.0000,format_version=4,future_num_frames=50,history_num_frames=5,model_architecture=resnet50,_2022-09-07_22-25-38/checkpoint_000004)... Done. 0.3s\n"
     ]
    },
    {
     "data": {
      "text/html": [
       "Waiting for W&B process to finish... <strong style=\"color:green\">(success).</strong>"
      ],
      "text/plain": [
       "<IPython.core.display.HTML object>"
      ]
     },
     "metadata": {},
     "output_type": "display_data"
    },
    {
     "name": "stdout",
     "output_type": "stream",
     "text": [
      "\u001b[2m\u001b[36m(RayTrainWorker pid=28576)\u001b[0m {'loss': 177.0812225341797, 'avg_loss': 177.0812225341797}\n"
     ]
    },
    {
     "data": {
      "application/vnd.jupyter.widget-view+json": {
       "model_id": "9f6d8ae3196a4fd995626245652ceb3c",
       "version_major": 2,
       "version_minor": 0
      },
      "text/plain": [
       "VBox(children=(Label(value='457.025 MB of 457.025 MB uploaded (91.307 MB deduped)\\r'), FloatProgress(value=1.0…"
      ]
     },
     "metadata": {},
     "output_type": "display_data"
    },
    {
     "data": {
      "text/html": [
       "W&B sync reduced upload amount by 20.0%             "
      ],
      "text/plain": [
       "<IPython.core.display.HTML object>"
      ]
     },
     "metadata": {},
     "output_type": "display_data"
    },
    {
     "data": {
      "text/html": [
       "<style>\n",
       "    table.wandb td:nth-child(1) { padding: 0 10px; text-align: left ; width: auto;} td:nth-child(2) {text-align: left ; width: 100%}\n",
       "    .wandb-row { display: flex; flex-direction: row; flex-wrap: wrap; justify-content: flex-start; width: 100% }\n",
       "    .wandb-col { display: flex; flex-direction: column; flex-basis: 100%; flex: 1; padding: 10px; }\n",
       "    </style>\n",
       "<div class=\"wandb-row\"><div class=\"wandb-col\"><h3>Run history:</h3><br/><table class=\"wandb\"><tr><td>avg_loss</td><td>█▄▄▃▁</td></tr><tr><td>iterations_since_restore</td><td>▁▃▅▆█</td></tr><tr><td>loss</td><td>█▄▆▄▁</td></tr><tr><td>time_since_restore</td><td>▁▃▄▆█</td></tr><tr><td>time_this_iter_s</td><td>█▁▁▁▁</td></tr><tr><td>time_total_s</td><td>▁▃▄▆█</td></tr><tr><td>timestamp</td><td>▁▃▅▆█</td></tr><tr><td>timesteps_since_restore</td><td>▁▁▁▁▁</td></tr><tr><td>training_iteration</td><td>▁▃▅▆█</td></tr><tr><td>warmup_time</td><td>▁▁▁▁▁</td></tr></table><br/></div><div class=\"wandb-col\"><h3>Run summary:</h3><br/><table class=\"wandb\"><tr><td>avg_loss</td><td>34.84403</td></tr><tr><td>iterations_since_restore</td><td>5</td></tr><tr><td>loss</td><td>14.29368</td></tr><tr><td>time_since_restore</td><td>109.77454</td></tr><tr><td>time_this_iter_s</td><td>18.72354</td></tr><tr><td>time_total_s</td><td>109.77454</td></tr><tr><td>timestamp</td><td>1662589653</td></tr><tr><td>timesteps_since_restore</td><td>0</td></tr><tr><td>training_iteration</td><td>5</td></tr><tr><td>warmup_time</td><td>0.00633</td></tr></table><br/></div></div>"
      ],
      "text/plain": [
       "<IPython.core.display.HTML object>"
      ]
     },
     "metadata": {},
     "output_type": "display_data"
    },
    {
     "data": {
      "text/html": [
       "Synced <strong style=\"color:#cdcd00\">TorchTrainer_ffd13a76</strong>: <a href=\"https://wandb.ai/l5-demo/l5-simulation-trials/runs/ffd13a76\" target=\"_blank\">https://wandb.ai/l5-demo/l5-simulation-trials/runs/ffd13a76</a><br/>Synced 7 W&B file(s), 0 media file(s), 12 artifact file(s) and 1 other file(s)"
      ],
      "text/plain": [
       "<IPython.core.display.HTML object>"
      ]
     },
     "metadata": {},
     "output_type": "display_data"
    },
    {
     "data": {
      "text/html": [
       "Find logs at: <code>./wandb/run-20220907_222539-ffd13a76/logs</code>"
      ],
      "text/plain": [
       "<IPython.core.display.HTML object>"
      ]
     },
     "metadata": {},
     "output_type": "display_data"
    },
    {
     "name": "stdout",
     "output_type": "stream",
     "text": [
      "\u001b[2m\u001b[36m(RayTrainWorker pid=28576)\u001b[0m {'loss': 162.8499298095703, 'avg_loss': 169.965576171875}\n",
      "Result for TorchTrainer_ffd13a76:\n",
      "  _time_this_iter_s: 18.74686312675476\n",
      "  _timestamp: 1662589652\n",
      "  _training_iteration: 5\n",
      "  avg_loss: 34.84402942657471\n",
      "  date: 2022-09-07_22-27-33\n",
      "  done: true\n",
      "  experiment_id: 2e0930cd5a3c4e19bfa59e1e512db84c\n",
      "  experiment_tag: 7_batch_size=24.0000,format_version=4,future_num_frames=50,history_num_frames=5,model_architecture=resnet50,render_ego_history=False,step_time=0.1000,dataset_meta_key=meta_json,disable_traffic_light_faces=False,ego_center=0_25_0_5,filter_agents_threshold=0.5000,map_type=py_semantic,pixel_size=0_5_0_5,raster_size=224_224,satellite_map_key=aerial_map_aerial_map_png,semantic_map_key=semantic_map_semantic_map_pb,set_origin_to_bottom=True,batch_size=12,key=scenes_sample_zarr,num_workers=16,perturb_probability=0.0000,shuffle=True,checkpoint_every_n_steps=10000,eval_every_n_steps=10000,max_num_steps=5,batch_size=12,key=scenes_sample_zarr,num_workers=16,shuffle=False,dataset_key=scenes_sample_zarr,lr=0.0002,max_num_steps=5,num_workers=4,shuffle=True\n",
      "  hostname: anish-l5-kit\n",
      "  iterations_since_restore: 5\n",
      "  loss: 14.293675422668457\n",
      "  node_ip: 10.150.0.3\n",
      "  pid: 26919\n",
      "  should_checkpoint: true\n",
      "  time_since_restore: 109.77454113960266\n",
      "  time_this_iter_s: 18.72354030609131\n",
      "  time_total_s: 109.77454113960266\n",
      "  timestamp: 1662589653\n",
      "  timesteps_since_restore: 0\n",
      "  training_iteration: 5\n",
      "  trial_id: ffd13a76\n",
      "  warmup_time: 0.0063266754150390625\n",
      "  \n"
     ]
    },
    {
     "name": "stderr",
     "output_type": "stream",
     "text": [
      "\u001b[34m\u001b[1mwandb\u001b[0m: Adding directory to artifact (/home/jupyter/ray_results/TorchTrainer_2022-09-07_22-21-37/TorchTrainer_0038a5bc_8_batch_size=6.0000,format_version=4,future_num_frames=50,history_num_frames=5,model_architecture=resnet50,r_2022-09-07_22-27-18/checkpoint_000000)... "
     ]
    },
    {
     "name": "stdout",
     "output_type": "stream",
     "text": [
      "Result for TorchTrainer_0038a5bc:\n",
      "  _time_this_iter_s: 11.201198101043701\n",
      "  _timestamp: 1662589657\n",
      "  _training_iteration: 1\n",
      "  avg_loss: 177.0812225341797\n",
      "  date: 2022-09-07_22-27-37\n",
      "  done: false\n",
      "  experiment_id: e4729039e6bb4d94bd7917c7013d3101\n",
      "  hostname: anish-l5-kit\n",
      "  iterations_since_restore: 1\n",
      "  loss: 177.0812225341797\n",
      "  node_ip: 10.150.0.3\n",
      "  pid: 28508\n",
      "  should_checkpoint: true\n",
      "  time_since_restore: 15.515589475631714\n",
      "  time_this_iter_s: 15.515589475631714\n",
      "  time_total_s: 15.515589475631714\n",
      "  timestamp: 1662589657\n",
      "  timesteps_since_restore: 0\n",
      "  training_iteration: 1\n",
      "  trial_id: 0038a5bc\n",
      "  warmup_time: 0.006408214569091797\n",
      "  \n"
     ]
    },
    {
     "name": "stderr",
     "output_type": "stream",
     "text": [
      "Done. 1.3s\n",
      "\u001b[34m\u001b[1mwandb\u001b[0m: Adding directory to artifact (/home/jupyter/ray_results/TorchTrainer_2022-09-07_22-21-37/TorchTrainer_0038a5bc_8_batch_size=6.0000,format_version=4,future_num_frames=50,history_num_frames=5,model_architecture=resnet50,r_2022-09-07_22-27-18/checkpoint_000001)... Done. 1.1s\n"
     ]
    },
    {
     "name": "stdout",
     "output_type": "stream",
     "text": [
      "\u001b[2m\u001b[36m(RayTrainWorker pid=28576)\u001b[0m {'loss': 71.62319946289062, 'avg_loss': 137.18478393554688}\n"
     ]
    },
    {
     "name": "stderr",
     "output_type": "stream",
     "text": [
      "\u001b[34m\u001b[1mwandb\u001b[0m: Adding directory to artifact (/home/jupyter/ray_results/TorchTrainer_2022-09-07_22-21-37/TorchTrainer_0038a5bc_8_batch_size=6.0000,format_version=4,future_num_frames=50,history_num_frames=5,model_architecture=resnet50,r_2022-09-07_22-27-18/checkpoint_000002)... "
     ]
    },
    {
     "name": "stdout",
     "output_type": "stream",
     "text": [
      "Result for TorchTrainer_0038a5bc:\n",
      "  _time_this_iter_s: 6.671166896820068\n",
      "  _timestamp: 1662589668\n",
      "  _training_iteration: 3\n",
      "  avg_loss: 137.18478393554688\n",
      "  date: 2022-09-07_22-27-49\n",
      "  done: false\n",
      "  experiment_id: e4729039e6bb4d94bd7917c7013d3101\n",
      "  hostname: anish-l5-kit\n",
      "  iterations_since_restore: 3\n",
      "  loss: 71.62319946289062\n",
      "  node_ip: 10.150.0.3\n",
      "  pid: 28508\n",
      "  should_checkpoint: true\n",
      "  time_since_restore: 27.05624747276306\n",
      "  time_this_iter_s: 6.438979148864746\n",
      "  time_total_s: 27.05624747276306\n",
      "  timestamp: 1662589669\n",
      "  timesteps_since_restore: 0\n",
      "  training_iteration: 3\n",
      "  trial_id: 0038a5bc\n",
      "  warmup_time: 0.006408214569091797\n",
      "  \n"
     ]
    },
    {
     "name": "stderr",
     "output_type": "stream",
     "text": [
      "\u001b[2m\u001b[36m(RayTrainWorker pid=28970)\u001b[0m 2022-09-07 22:27:50,189\tINFO config.py:72 -- Setting up process group for: env:// [rank=0, world_size=1]\n",
      "Done. 1.0s\n"
     ]
    },
    {
     "name": "stdout",
     "output_type": "stream",
     "text": [
      "\u001b[2m\u001b[36m(RayTrainWorker pid=28576)\u001b[0m {'loss': 18.204444885253906, 'avg_loss': 107.43969917297363}\n"
     ]
    },
    {
     "name": "stderr",
     "output_type": "stream",
     "text": [
      "\u001b[2m\u001b[36m(RayTrainWorker pid=28970)\u001b[0m /opt/conda/lib/python3.7/site-packages/l5kit/planning/rasterized/model.py:31: UserWarning: There is no pre-trained model with num_in_channels != 3, first layer will be reset\n",
      "\u001b[2m\u001b[36m(RayTrainWorker pid=28970)\u001b[0m   warnings.warn(\"There is no pre-trained model with num_in_channels != 3, first layer will be reset\")\n",
      "\u001b[2m\u001b[36m(RayTrainWorker pid=28970)\u001b[0m /opt/conda/lib/python3.7/site-packages/torchvision/models/_utils.py:209: UserWarning: The parameter 'pretrained' is deprecated since 0.13 and will be removed in 0.15, please use 'weights' instead.\n",
      "\u001b[2m\u001b[36m(RayTrainWorker pid=28970)\u001b[0m   f\"The parameter '{pretrained_param}' is deprecated since 0.13 and will be removed in 0.15, \"\n",
      "\u001b[2m\u001b[36m(RayTrainWorker pid=28970)\u001b[0m /opt/conda/lib/python3.7/site-packages/torchvision/models/_utils.py:223: UserWarning: Arguments other than a weight enum or `None` for 'weights' are deprecated since 0.13 and will be removed in 0.15. The current behavior is equivalent to passing `weights=ResNet50_Weights.IMAGENET1K_V1`. You can also use `weights=ResNet50_Weights.DEFAULT` to get the most up-to-date weights.\n",
      "\u001b[2m\u001b[36m(RayTrainWorker pid=28970)\u001b[0m   warnings.warn(msg)\n",
      "\u001b[34m\u001b[1mwandb\u001b[0m: Adding directory to artifact (/home/jupyter/ray_results/TorchTrainer_2022-09-07_22-21-37/TorchTrainer_0038a5bc_8_batch_size=6.0000,format_version=4,future_num_frames=50,history_num_frames=5,model_architecture=resnet50,r_2022-09-07_22-27-18/checkpoint_000003)... "
     ]
    },
    {
     "name": "stdout",
     "output_type": "stream",
     "text": [
      "Result for TorchTrainer_0038a5bc:\n",
      "  _time_this_iter_s: 6.832183122634888\n",
      "  _timestamp: 1662589675\n",
      "  _training_iteration: 4\n",
      "  avg_loss: 107.43969917297363\n",
      "  date: 2022-09-07_22-27-56\n",
      "  done: false\n",
      "  experiment_id: e4729039e6bb4d94bd7917c7013d3101\n",
      "  hostname: anish-l5-kit\n",
      "  iterations_since_restore: 4\n",
      "  loss: 18.204444885253906\n",
      "  node_ip: 10.150.0.3\n",
      "  pid: 28508\n",
      "  should_checkpoint: true\n",
      "  time_since_restore: 33.77626872062683\n",
      "  time_this_iter_s: 6.7200212478637695\n",
      "  time_total_s: 33.77626872062683\n",
      "  timestamp: 1662589676\n",
      "  timesteps_since_restore: 0\n",
      "  training_iteration: 4\n",
      "  trial_id: 0038a5bc\n",
      "  warmup_time: 0.006408214569091797\n",
      "  \n"
     ]
    },
    {
     "name": "stderr",
     "output_type": "stream",
     "text": [
      "\u001b[2m\u001b[36m(RayTrainWorker pid=28970)\u001b[0m 2022-09-07 22:27:56,567\tINFO train_loop_utils.py:300 -- Moving model to device: cpu\n",
      "Done. 1.0s\n"
     ]
    },
    {
     "name": "stdout",
     "output_type": "stream",
     "text": [
      "\u001b[2m\u001b[36m(RayTrainWorker pid=28576)\u001b[0m {'loss': 107.92539978027344, 'avg_loss': 107.53683929443359}\n"
     ]
    },
    {
     "name": "stderr",
     "output_type": "stream",
     "text": [
      "\u001b[34m\u001b[1mwandb\u001b[0m: Adding directory to artifact (/home/jupyter/ray_results/TorchTrainer_2022-09-07_22-21-37/TorchTrainer_0038a5bc_8_batch_size=6.0000,format_version=4,future_num_frames=50,history_num_frames=5,model_architecture=resnet50,r_2022-09-07_22-27-18/checkpoint_000004)... "
     ]
    },
    {
     "name": "stdout",
     "output_type": "stream",
     "text": [
      "Result for TorchTrainer_0038a5bc:\n",
      "  _time_this_iter_s: 7.768827199935913\n",
      "  _timestamp: 1662589683\n",
      "  _training_iteration: 5\n",
      "  avg_loss: 107.53683929443359\n",
      "  date: 2022-09-07_22-28-04\n",
      "  done: false\n",
      "  experiment_id: e4729039e6bb4d94bd7917c7013d3101\n",
      "  hostname: anish-l5-kit\n",
      "  iterations_since_restore: 5\n",
      "  loss: 107.92539978027344\n",
      "  node_ip: 10.150.0.3\n",
      "  pid: 28508\n",
      "  should_checkpoint: true\n",
      "  time_since_restore: 41.71065926551819\n",
      "  time_this_iter_s: 7.934390544891357\n",
      "  time_total_s: 41.71065926551819\n",
      "  timestamp: 1662589684\n",
      "  timesteps_since_restore: 0\n",
      "  training_iteration: 5\n",
      "  trial_id: 0038a5bc\n",
      "  warmup_time: 0.006408214569091797\n",
      "  \n"
     ]
    },
    {
     "name": "stderr",
     "output_type": "stream",
     "text": [
      "Done. 1.0s\n",
      "\u001b[34m\u001b[1mwandb\u001b[0m: Adding directory to artifact (/home/jupyter/ray_results/TorchTrainer_2022-09-07_22-21-37/TorchTrainer_0038a5bc_8_batch_size=6.0000,format_version=4,future_num_frames=50,history_num_frames=5,model_architecture=resnet50,r_2022-09-07_22-27-18/checkpoint_000004)... Done. 0.3s\n"
     ]
    },
    {
     "data": {
      "text/html": [
       "Waiting for W&B process to finish... <strong style=\"color:green\">(success).</strong>"
      ],
      "text/plain": [
       "<IPython.core.display.HTML object>"
      ]
     },
     "metadata": {},
     "output_type": "display_data"
    },
    {
     "data": {
      "application/vnd.jupyter.widget-view+json": {
       "model_id": "eb380aa1039a4ca796c44ead6646ccfb",
       "version_major": 2,
       "version_minor": 0
      },
      "text/plain": [
       "VBox(children=(Label(value='457.048 MB of 457.048 MB uploaded (91.307 MB deduped)\\r'), FloatProgress(value=1.0…"
      ]
     },
     "metadata": {},
     "output_type": "display_data"
    },
    {
     "name": "stdout",
     "output_type": "stream",
     "text": [
      "\u001b[2m\u001b[36m(RayTrainWorker pid=28970)\u001b[0m {'loss': 73.40284729003906, 'avg_loss': 73.40284729003906}\n"
     ]
    },
    {
     "data": {
      "text/html": [
       "W&B sync reduced upload amount by 20.0%             "
      ],
      "text/plain": [
       "<IPython.core.display.HTML object>"
      ]
     },
     "metadata": {},
     "output_type": "display_data"
    },
    {
     "data": {
      "text/html": [
       "<style>\n",
       "    table.wandb td:nth-child(1) { padding: 0 10px; text-align: left ; width: auto;} td:nth-child(2) {text-align: left ; width: 100%}\n",
       "    .wandb-row { display: flex; flex-direction: row; flex-wrap: wrap; justify-content: flex-start; width: 100% }\n",
       "    .wandb-col { display: flex; flex-direction: column; flex-basis: 100%; flex: 1; padding: 10px; }\n",
       "    </style>\n",
       "<div class=\"wandb-row\"><div class=\"wandb-col\"><h3>Run history:</h3><br/><table class=\"wandb\"><tr><td>avg_loss</td><td>█▇▄▁▁</td></tr><tr><td>iterations_since_restore</td><td>▁▃▅▆█</td></tr><tr><td>loss</td><td>█▇▃▁▅</td></tr><tr><td>time_since_restore</td><td>▁▂▄▆█</td></tr><tr><td>time_this_iter_s</td><td>█▁▂▂▃</td></tr><tr><td>time_total_s</td><td>▁▂▄▆█</td></tr><tr><td>timestamp</td><td>▁▂▄▆█</td></tr><tr><td>timesteps_since_restore</td><td>▁▁▁▁▁</td></tr><tr><td>training_iteration</td><td>▁▃▅▆█</td></tr><tr><td>warmup_time</td><td>▁▁▁▁▁</td></tr></table><br/></div><div class=\"wandb-col\"><h3>Run summary:</h3><br/><table class=\"wandb\"><tr><td>avg_loss</td><td>107.53684</td></tr><tr><td>iterations_since_restore</td><td>5</td></tr><tr><td>loss</td><td>107.9254</td></tr><tr><td>time_since_restore</td><td>41.71066</td></tr><tr><td>time_this_iter_s</td><td>7.93439</td></tr><tr><td>time_total_s</td><td>41.71066</td></tr><tr><td>timestamp</td><td>1662589684</td></tr><tr><td>timesteps_since_restore</td><td>0</td></tr><tr><td>training_iteration</td><td>5</td></tr><tr><td>warmup_time</td><td>0.00641</td></tr></table><br/></div></div>"
      ],
      "text/plain": [
       "<IPython.core.display.HTML object>"
      ]
     },
     "metadata": {},
     "output_type": "display_data"
    },
    {
     "data": {
      "text/html": [
       "Synced <strong style=\"color:#cdcd00\">TorchTrainer_0038a5bc</strong>: <a href=\"https://wandb.ai/l5-demo/l5-simulation-trials/runs/0038a5bc\" target=\"_blank\">https://wandb.ai/l5-demo/l5-simulation-trials/runs/0038a5bc</a><br/>Synced 7 W&B file(s), 0 media file(s), 12 artifact file(s) and 1 other file(s)"
      ],
      "text/plain": [
       "<IPython.core.display.HTML object>"
      ]
     },
     "metadata": {},
     "output_type": "display_data"
    },
    {
     "data": {
      "text/html": [
       "Find logs at: <code>./wandb/run-20220907_222719-0038a5bc/logs</code>"
      ],
      "text/plain": [
       "<IPython.core.display.HTML object>"
      ]
     },
     "metadata": {},
     "output_type": "display_data"
    },
    {
     "name": "stdout",
     "output_type": "stream",
     "text": [
      "Result for TorchTrainer_0038a5bc:\n",
      "  _time_this_iter_s: 7.768827199935913\n",
      "  _timestamp: 1662589683\n",
      "  _training_iteration: 5\n",
      "  avg_loss: 107.53683929443359\n",
      "  date: 2022-09-07_22-28-04\n",
      "  done: true\n",
      "  experiment_id: e4729039e6bb4d94bd7917c7013d3101\n",
      "  experiment_tag: 8_batch_size=6.0000,format_version=4,future_num_frames=50,history_num_frames=5,model_architecture=resnet50,render_ego_history=False,step_time=0.1000,dataset_meta_key=meta_json,disable_traffic_light_faces=False,ego_center=0_25_0_5,filter_agents_threshold=0.5000,map_type=py_satellite,pixel_size=0_5_0_5,raster_size=224_224,satellite_map_key=aerial_map_aerial_map_png,semantic_map_key=semantic_map_semantic_map_pb,set_origin_to_bottom=True,batch_size=12,key=scenes_sample_zarr,num_workers=16,perturb_probability=0.0000,shuffle=True,checkpoint_every_n_steps=10000,eval_every_n_steps=10000,max_num_steps=5,batch_size=12,key=scenes_sample_zarr,num_workers=16,shuffle=False,dataset_key=scenes_sample_zarr,lr=0.0007,max_num_steps=5,num_workers=4,shuffle=True\n",
      "  hostname: anish-l5-kit\n",
      "  iterations_since_restore: 5\n",
      "  loss: 107.92539978027344\n",
      "  node_ip: 10.150.0.3\n",
      "  pid: 28508\n",
      "  should_checkpoint: true\n",
      "  time_since_restore: 41.71065926551819\n",
      "  time_this_iter_s: 7.934390544891357\n",
      "  time_total_s: 41.71065926551819\n",
      "  timestamp: 1662589684\n",
      "  timesteps_since_restore: 0\n",
      "  training_iteration: 5\n",
      "  trial_id: 0038a5bc\n",
      "  warmup_time: 0.006408214569091797\n",
      "  \n"
     ]
    },
    {
     "name": "stderr",
     "output_type": "stream",
     "text": [
      "\u001b[34m\u001b[1mwandb\u001b[0m: Adding directory to artifact (/home/jupyter/ray_results/TorchTrainer_2022-09-07_22-21-37/TorchTrainer_3b7a5fee_9_batch_size=12.0000,format_version=4,future_num_frames=50,history_num_frames=5,model_architecture=resnet50,_2022-09-07_22-27-43/checkpoint_000000)... "
     ]
    },
    {
     "name": "stdout",
     "output_type": "stream",
     "text": [
      "Result for TorchTrainer_3b7a5fee:\n",
      "  _time_this_iter_s: 18.552804470062256\n",
      "  _timestamp: 1662589689\n",
      "  _training_iteration: 1\n",
      "  avg_loss: 73.40284729003906\n",
      "  date: 2022-09-07_22-28-09\n",
      "  done: false\n",
      "  experiment_id: 3797028b45d04ae39e74971751330000\n",
      "  hostname: anish-l5-kit\n",
      "  iterations_since_restore: 1\n",
      "  loss: 73.40284729003906\n",
      "  node_ip: 10.150.0.3\n",
      "  pid: 28875\n",
      "  should_checkpoint: true\n",
      "  time_since_restore: 22.950035572052002\n",
      "  time_this_iter_s: 22.950035572052002\n",
      "  time_total_s: 22.950035572052002\n",
      "  timestamp: 1662589689\n",
      "  timesteps_since_restore: 0\n",
      "  training_iteration: 1\n",
      "  trial_id: 3b7a5fee\n",
      "  warmup_time: 0.0074100494384765625\n",
      "  \n"
     ]
    },
    {
     "name": "stderr",
     "output_type": "stream",
     "text": [
      "Done. 1.0s\n"
     ]
    },
    {
     "name": "stdout",
     "output_type": "stream",
     "text": [
      "\u001b[2m\u001b[36m(RayTrainWorker pid=28970)\u001b[0m {'loss': 69.19451141357422, 'avg_loss': 71.29867935180664}\n"
     ]
    },
    {
     "name": "stderr",
     "output_type": "stream",
     "text": [
      "\u001b[34m\u001b[1mwandb\u001b[0m: Adding directory to artifact (/home/jupyter/ray_results/TorchTrainer_2022-09-07_22-21-37/TorchTrainer_3b7a5fee_9_batch_size=12.0000,format_version=4,future_num_frames=50,history_num_frames=5,model_architecture=resnet50,_2022-09-07_22-27-43/checkpoint_000001)... "
     ]
    },
    {
     "name": "stdout",
     "output_type": "stream",
     "text": [
      "Result for TorchTrainer_3b7a5fee:\n",
      "  _time_this_iter_s: 10.056334972381592\n",
      "  _timestamp: 1662589699\n",
      "  _training_iteration: 2\n",
      "  avg_loss: 71.29867935180664\n",
      "  date: 2022-09-07_22-28-19\n",
      "  done: false\n",
      "  experiment_id: 3797028b45d04ae39e74971751330000\n",
      "  hostname: anish-l5-kit\n",
      "  iterations_since_restore: 2\n",
      "  loss: 69.19451141357422\n",
      "  node_ip: 10.150.0.3\n",
      "  pid: 28875\n",
      "  should_checkpoint: true\n",
      "  time_since_restore: 33.0240364074707\n",
      "  time_this_iter_s: 10.074000835418701\n",
      "  time_total_s: 33.0240364074707\n",
      "  timestamp: 1662589699\n",
      "  timesteps_since_restore: 0\n",
      "  training_iteration: 2\n",
      "  trial_id: 3b7a5fee\n",
      "  warmup_time: 0.0074100494384765625\n",
      "  \n"
     ]
    },
    {
     "name": "stderr",
     "output_type": "stream",
     "text": [
      "Done. 1.1s\n",
      "\u001b[2m\u001b[36m(RayTrainWorker pid=29806)\u001b[0m 2022-09-07 22:28:21,455\tINFO config.py:72 -- Setting up process group for: env:// [rank=0, world_size=1]\n",
      "\u001b[2m\u001b[36m(RayTrainWorker pid=29806)\u001b[0m /opt/conda/lib/python3.7/site-packages/l5kit/planning/rasterized/model.py:31: UserWarning: There is no pre-trained model with num_in_channels != 3, first layer will be reset\n",
      "\u001b[2m\u001b[36m(RayTrainWorker pid=29806)\u001b[0m   warnings.warn(\"There is no pre-trained model with num_in_channels != 3, first layer will be reset\")\n",
      "\u001b[2m\u001b[36m(RayTrainWorker pid=29806)\u001b[0m /opt/conda/lib/python3.7/site-packages/torchvision/models/_utils.py:209: UserWarning: The parameter 'pretrained' is deprecated since 0.13 and will be removed in 0.15, please use 'weights' instead.\n",
      "\u001b[2m\u001b[36m(RayTrainWorker pid=29806)\u001b[0m   f\"The parameter '{pretrained_param}' is deprecated since 0.13 and will be removed in 0.15, \"\n",
      "\u001b[2m\u001b[36m(RayTrainWorker pid=29806)\u001b[0m /opt/conda/lib/python3.7/site-packages/torchvision/models/_utils.py:223: UserWarning: Arguments other than a weight enum or `None` for 'weights' are deprecated since 0.13 and will be removed in 0.15. The current behavior is equivalent to passing `weights=ResNet50_Weights.IMAGENET1K_V1`. You can also use `weights=ResNet50_Weights.DEFAULT` to get the most up-to-date weights.\n",
      "\u001b[2m\u001b[36m(RayTrainWorker pid=29806)\u001b[0m   warnings.warn(msg)\n",
      "\u001b[2m\u001b[36m(RayTrainWorker pid=29806)\u001b[0m 2022-09-07 22:28:27,870\tINFO train_loop_utils.py:300 -- Moving model to device: cpu\n"
     ]
    },
    {
     "name": "stdout",
     "output_type": "stream",
     "text": [
      "\u001b[2m\u001b[36m(RayTrainWorker pid=28970)\u001b[0m {'loss': 22.056886672973633, 'avg_loss': 54.884748458862305}\n"
     ]
    },
    {
     "name": "stderr",
     "output_type": "stream",
     "text": [
      "\u001b[34m\u001b[1mwandb\u001b[0m: Adding directory to artifact (/home/jupyter/ray_results/TorchTrainer_2022-09-07_22-21-37/TorchTrainer_3b7a5fee_9_batch_size=12.0000,format_version=4,future_num_frames=50,history_num_frames=5,model_architecture=resnet50,_2022-09-07_22-27-43/checkpoint_000002)... "
     ]
    },
    {
     "name": "stdout",
     "output_type": "stream",
     "text": [
      "Result for TorchTrainer_3b7a5fee:\n",
      "  _time_this_iter_s: 10.462164402008057\n",
      "  _timestamp: 1662589709\n",
      "  _training_iteration: 3\n",
      "  avg_loss: 54.884748458862305\n",
      "  date: 2022-09-07_22-28-30\n",
      "  done: false\n",
      "  experiment_id: 3797028b45d04ae39e74971751330000\n",
      "  hostname: anish-l5-kit\n",
      "  iterations_since_restore: 3\n",
      "  loss: 22.056886672973633\n",
      "  node_ip: 10.150.0.3\n",
      "  pid: 28875\n",
      "  should_checkpoint: true\n",
      "  time_since_restore: 43.431997776031494\n",
      "  time_this_iter_s: 10.407961368560791\n",
      "  time_total_s: 43.431997776031494\n",
      "  timestamp: 1662589710\n",
      "  timesteps_since_restore: 0\n",
      "  training_iteration: 3\n",
      "  trial_id: 3b7a5fee\n",
      "  warmup_time: 0.0074100494384765625\n",
      "  \n"
     ]
    },
    {
     "name": "stderr",
     "output_type": "stream",
     "text": [
      "Done. 1.4s\n"
     ]
    },
    {
     "name": "stdout",
     "output_type": "stream",
     "text": [
      "\u001b[2m\u001b[36m(RayTrainWorker pid=29806)\u001b[0m {'loss': 156.32322692871094, 'avg_loss': 156.32322692871094}\n"
     ]
    },
    {
     "name": "stderr",
     "output_type": "stream",
     "text": [
      "\u001b[34m\u001b[1mwandb\u001b[0m: Adding directory to artifact (/home/jupyter/ray_results/TorchTrainer_2022-09-07_22-21-37/TorchTrainer_4a587ab4_10_batch_size=6.0000,format_version=4,future_num_frames=50,history_num_frames=5,model_architecture=resnet50,_2022-09-07_22-28-13/checkpoint_000000)... "
     ]
    },
    {
     "name": "stdout",
     "output_type": "stream",
     "text": [
      "Result for TorchTrainer_4a587ab4:\n",
      "  _time_this_iter_s: 12.26977801322937\n",
      "  _timestamp: 1662589714\n",
      "  _training_iteration: 1\n",
      "  avg_loss: 156.32322692871094\n",
      "  date: 2022-09-07_22-28-34\n",
      "  done: false\n",
      "  experiment_id: 9957c869ac65425ca95e1dd2c9154d97\n",
      "  hostname: anish-l5-kit\n",
      "  iterations_since_restore: 1\n",
      "  loss: 156.32322692871094\n",
      "  node_ip: 10.150.0.3\n",
      "  pid: 29736\n",
      "  should_checkpoint: true\n",
      "  time_since_restore: 17.073624849319458\n",
      "  time_this_iter_s: 17.073624849319458\n",
      "  time_total_s: 17.073624849319458\n",
      "  timestamp: 1662589714\n",
      "  timesteps_since_restore: 0\n",
      "  training_iteration: 1\n",
      "  trial_id: 4a587ab4\n",
      "  warmup_time: 0.008248329162597656\n",
      "  \n"
     ]
    },
    {
     "name": "stderr",
     "output_type": "stream",
     "text": [
      "Done. 1.0s\n"
     ]
    },
    {
     "name": "stdout",
     "output_type": "stream",
     "text": [
      "\u001b[2m\u001b[36m(RayTrainWorker pid=28970)\u001b[0m {'loss': 165.34959411621094, 'avg_loss': 82.50095987319946}\n",
      "\u001b[2m\u001b[36m(RayTrainWorker pid=29806)\u001b[0m {'loss': 0.32480350136756897, 'avg_loss': 78.32401521503925}\n",
      "Result for TorchTrainer_3b7a5fee:\n",
      "  _time_this_iter_s: 9.204148292541504\n",
      "  _timestamp: 1662589719\n",
      "  _training_iteration: 4\n",
      "  avg_loss: 82.50095987319946\n",
      "  date: 2022-09-07_22-28-39\n",
      "  done: false\n",
      "  experiment_id: 3797028b45d04ae39e74971751330000\n",
      "  hostname: anish-l5-kit\n",
      "  iterations_since_restore: 4\n",
      "  loss: 165.34959411621094\n",
      "  node_ip: 10.150.0.3\n",
      "  pid: 28875\n",
      "  should_checkpoint: true\n",
      "  time_since_restore: 52.582987785339355\n",
      "  time_this_iter_s: 9.150990009307861\n",
      "  time_total_s: 52.582987785339355\n",
      "  timestamp: 1662589719\n",
      "  timesteps_since_restore: 0\n",
      "  training_iteration: 4\n",
      "  trial_id: 3b7a5fee\n",
      "  warmup_time: 0.0074100494384765625\n",
      "  \n"
     ]
    },
    {
     "name": "stderr",
     "output_type": "stream",
     "text": [
      "\u001b[34m\u001b[1mwandb\u001b[0m: Adding directory to artifact (/home/jupyter/ray_results/TorchTrainer_2022-09-07_22-21-37/TorchTrainer_3b7a5fee_9_batch_size=12.0000,format_version=4,future_num_frames=50,history_num_frames=5,model_architecture=resnet50,_2022-09-07_22-27-43/checkpoint_000003)... \u001b[34m\u001b[1mwandb\u001b[0m: Adding directory to artifact (/home/jupyter/ray_results/TorchTrainer_2022-09-07_22-21-37/TorchTrainer_4a587ab4_10_batch_size=6.0000,format_version=4,future_num_frames=50,history_num_frames=5,model_architecture=resnet50,_2022-09-07_22-28-13/checkpoint_000001)... "
     ]
    },
    {
     "name": "stdout",
     "output_type": "stream",
     "text": [
      "Result for TorchTrainer_4a587ab4:\n",
      "  _time_this_iter_s: 4.950843572616577\n",
      "  _timestamp: 1662589719\n",
      "  _training_iteration: 2\n",
      "  avg_loss: 78.32401521503925\n",
      "  date: 2022-09-07_22-28-40\n",
      "  done: false\n",
      "  experiment_id: 9957c869ac65425ca95e1dd2c9154d97\n",
      "  hostname: anish-l5-kit\n",
      "  iterations_since_restore: 2\n",
      "  loss: 0.32480350136756897\n",
      "  node_ip: 10.150.0.3\n",
      "  pid: 29736\n",
      "  should_checkpoint: true\n",
      "  time_since_restore: 22.21434187889099\n",
      "  time_this_iter_s: 5.140717029571533\n",
      "  time_total_s: 22.21434187889099\n",
      "  timestamp: 1662589720\n",
      "  timesteps_since_restore: 0\n",
      "  training_iteration: 2\n",
      "  trial_id: 4a587ab4\n",
      "  warmup_time: 0.008248329162597656\n",
      "  \n"
     ]
    },
    {
     "name": "stderr",
     "output_type": "stream",
     "text": [
      "Done. 1.3s\n",
      "Done. 1.3s\n"
     ]
    },
    {
     "name": "stdout",
     "output_type": "stream",
     "text": [
      "\u001b[2m\u001b[36m(RayTrainWorker pid=29806)\u001b[0m {'loss': 1.416263461112976, 'avg_loss': 52.68809796373049}\n"
     ]
    },
    {
     "name": "stderr",
     "output_type": "stream",
     "text": [
      "\u001b[34m\u001b[1mwandb\u001b[0m: Adding directory to artifact (/home/jupyter/ray_results/TorchTrainer_2022-09-07_22-21-37/TorchTrainer_4a587ab4_10_batch_size=6.0000,format_version=4,future_num_frames=50,history_num_frames=5,model_architecture=resnet50,_2022-09-07_22-28-13/checkpoint_000002)... Done. 1.0s\n"
     ]
    },
    {
     "name": "stdout",
     "output_type": "stream",
     "text": [
      "\u001b[2m\u001b[36m(RayTrainWorker pid=28970)\u001b[0m {'loss': 78.53407287597656, 'avg_loss': 81.70758247375488}\n"
     ]
    },
    {
     "name": "stderr",
     "output_type": "stream",
     "text": [
      "\u001b[34m\u001b[1mwandb\u001b[0m: Adding directory to artifact (/home/jupyter/ray_results/TorchTrainer_2022-09-07_22-21-37/TorchTrainer_3b7a5fee_9_batch_size=12.0000,format_version=4,future_num_frames=50,history_num_frames=5,model_architecture=resnet50,_2022-09-07_22-27-43/checkpoint_000004)... "
     ]
    },
    {
     "name": "stdout",
     "output_type": "stream",
     "text": [
      "Result for TorchTrainer_3b7a5fee:\n",
      "  _time_this_iter_s: 9.151776552200317\n",
      "  _timestamp: 1662589728\n",
      "  _training_iteration: 5\n",
      "  avg_loss: 81.70758247375488\n",
      "  date: 2022-09-07_22-28-48\n",
      "  done: false\n",
      "  experiment_id: 3797028b45d04ae39e74971751330000\n",
      "  hostname: anish-l5-kit\n",
      "  iterations_since_restore: 5\n",
      "  loss: 78.53407287597656\n",
      "  node_ip: 10.150.0.3\n",
      "  pid: 28875\n",
      "  should_checkpoint: true\n",
      "  time_since_restore: 61.747360706329346\n",
      "  time_this_iter_s: 9.16437292098999\n",
      "  time_total_s: 61.747360706329346\n",
      "  timestamp: 1662589728\n",
      "  timesteps_since_restore: 0\n",
      "  training_iteration: 5\n",
      "  trial_id: 3b7a5fee\n",
      "  warmup_time: 0.0074100494384765625\n",
      "  \n",
      "\u001b[2m\u001b[36m(RayTrainWorker pid=29806)\u001b[0m {'loss': 55.90283966064453, 'avg_loss': 53.491783387959}\n"
     ]
    },
    {
     "name": "stderr",
     "output_type": "stream",
     "text": [
      "Done. 1.0s\n",
      "\u001b[34m\u001b[1mwandb\u001b[0m: Adding directory to artifact (/home/jupyter/ray_results/TorchTrainer_2022-09-07_22-21-37/TorchTrainer_4a587ab4_10_batch_size=6.0000,format_version=4,future_num_frames=50,history_num_frames=5,model_architecture=resnet50,_2022-09-07_22-28-13/checkpoint_000003)... "
     ]
    },
    {
     "name": "stdout",
     "output_type": "stream",
     "text": [
      "Result for TorchTrainer_4a587ab4:\n",
      "  _time_this_iter_s: 4.843145847320557\n",
      "  _timestamp: 1662589729\n",
      "  _training_iteration: 4\n",
      "  avg_loss: 53.491783387959\n",
      "  date: 2022-09-07_22-28-49\n",
      "  done: false\n",
      "  experiment_id: 9957c869ac65425ca95e1dd2c9154d97\n",
      "  hostname: anish-l5-kit\n",
      "  iterations_since_restore: 4\n",
      "  loss: 55.90283966064453\n",
      "  node_ip: 10.150.0.3\n",
      "  pid: 29736\n",
      "  should_checkpoint: true\n",
      "  time_since_restore: 31.983159065246582\n",
      "  time_this_iter_s: 4.83160400390625\n",
      "  time_total_s: 31.983159065246582\n",
      "  timestamp: 1662589729\n",
      "  timesteps_since_restore: 0\n",
      "  training_iteration: 4\n",
      "  trial_id: 4a587ab4\n",
      "  warmup_time: 0.008248329162597656\n",
      "  \n"
     ]
    },
    {
     "name": "stderr",
     "output_type": "stream",
     "text": [
      "\u001b[34m\u001b[1mwandb\u001b[0m: Adding directory to artifact (/home/jupyter/ray_results/TorchTrainer_2022-09-07_22-21-37/TorchTrainer_3b7a5fee_9_batch_size=12.0000,format_version=4,future_num_frames=50,history_num_frames=5,model_architecture=resnet50,_2022-09-07_22-27-43/checkpoint_000004)... Done. 0.3s\n"
     ]
    },
    {
     "data": {
      "text/html": [
       "Waiting for W&B process to finish... <strong style=\"color:green\">(success).</strong>"
      ],
      "text/plain": [
       "<IPython.core.display.HTML object>"
      ]
     },
     "metadata": {},
     "output_type": "display_data"
    },
    {
     "name": "stderr",
     "output_type": "stream",
     "text": [
      "Done. 1.0s\n"
     ]
    },
    {
     "data": {
      "application/vnd.jupyter.widget-view+json": {
       "model_id": "1d540b6266634ba5a11f34e1f9a2ad83",
       "version_major": 2,
       "version_minor": 0
      },
      "text/plain": [
       "VBox(children=(Label(value='457.048 MB of 457.048 MB uploaded (91.307 MB deduped)\\r'), FloatProgress(value=1.0…"
      ]
     },
     "metadata": {},
     "output_type": "display_data"
    },
    {
     "name": "stdout",
     "output_type": "stream",
     "text": [
      "\u001b[2m\u001b[36m(RayTrainWorker pid=29806)\u001b[0m {'loss': 19.829809188842773, 'avg_loss': 46.75938854813576}\n"
     ]
    },
    {
     "data": {
      "text/html": [
       "W&B sync reduced upload amount by 20.0%             "
      ],
      "text/plain": [
       "<IPython.core.display.HTML object>"
      ]
     },
     "metadata": {},
     "output_type": "display_data"
    },
    {
     "data": {
      "text/html": [
       "<style>\n",
       "    table.wandb td:nth-child(1) { padding: 0 10px; text-align: left ; width: auto;} td:nth-child(2) {text-align: left ; width: 100%}\n",
       "    .wandb-row { display: flex; flex-direction: row; flex-wrap: wrap; justify-content: flex-start; width: 100% }\n",
       "    .wandb-col { display: flex; flex-direction: column; flex-basis: 100%; flex: 1; padding: 10px; }\n",
       "    </style>\n",
       "<div class=\"wandb-row\"><div class=\"wandb-col\"><h3>Run history:</h3><br/><table class=\"wandb\"><tr><td>avg_loss</td><td>▆▅▁██</td></tr><tr><td>iterations_since_restore</td><td>▁▃▅▆█</td></tr><tr><td>loss</td><td>▄▃▁█▄</td></tr><tr><td>time_since_restore</td><td>▁▃▅▆█</td></tr><tr><td>time_this_iter_s</td><td>█▁▂▁▁</td></tr><tr><td>time_total_s</td><td>▁▃▅▆█</td></tr><tr><td>timestamp</td><td>▁▃▅▆█</td></tr><tr><td>timesteps_since_restore</td><td>▁▁▁▁▁</td></tr><tr><td>training_iteration</td><td>▁▃▅▆█</td></tr><tr><td>warmup_time</td><td>▁▁▁▁▁</td></tr></table><br/></div><div class=\"wandb-col\"><h3>Run summary:</h3><br/><table class=\"wandb\"><tr><td>avg_loss</td><td>81.70758</td></tr><tr><td>iterations_since_restore</td><td>5</td></tr><tr><td>loss</td><td>78.53407</td></tr><tr><td>time_since_restore</td><td>61.74736</td></tr><tr><td>time_this_iter_s</td><td>9.16437</td></tr><tr><td>time_total_s</td><td>61.74736</td></tr><tr><td>timestamp</td><td>1662589728</td></tr><tr><td>timesteps_since_restore</td><td>0</td></tr><tr><td>training_iteration</td><td>5</td></tr><tr><td>warmup_time</td><td>0.00741</td></tr></table><br/></div></div>"
      ],
      "text/plain": [
       "<IPython.core.display.HTML object>"
      ]
     },
     "metadata": {},
     "output_type": "display_data"
    },
    {
     "data": {
      "text/html": [
       "Synced <strong style=\"color:#cdcd00\">TorchTrainer_3b7a5fee</strong>: <a href=\"https://wandb.ai/l5-demo/l5-simulation-trials/runs/3b7a5fee\" target=\"_blank\">https://wandb.ai/l5-demo/l5-simulation-trials/runs/3b7a5fee</a><br/>Synced 7 W&B file(s), 0 media file(s), 12 artifact file(s) and 1 other file(s)"
      ],
      "text/plain": [
       "<IPython.core.display.HTML object>"
      ]
     },
     "metadata": {},
     "output_type": "display_data"
    },
    {
     "data": {
      "text/html": [
       "Find logs at: <code>./wandb/run-20220907_222743-3b7a5fee/logs</code>"
      ],
      "text/plain": [
       "<IPython.core.display.HTML object>"
      ]
     },
     "metadata": {},
     "output_type": "display_data"
    },
    {
     "name": "stdout",
     "output_type": "stream",
     "text": [
      "Result for TorchTrainer_3b7a5fee:\n",
      "  _time_this_iter_s: 9.151776552200317\n",
      "  _timestamp: 1662589728\n",
      "  _training_iteration: 5\n",
      "  avg_loss: 81.70758247375488\n",
      "  date: 2022-09-07_22-28-48\n",
      "  done: true\n",
      "  experiment_id: 3797028b45d04ae39e74971751330000\n",
      "  experiment_tag: 9_batch_size=12.0000,format_version=4,future_num_frames=50,history_num_frames=5,model_architecture=resnet50,render_ego_history=False,step_time=0.1000,dataset_meta_key=meta_json,disable_traffic_light_faces=False,ego_center=0_25_0_5,filter_agents_threshold=0.5000,map_type=py_semantic,pixel_size=0_5_0_5,raster_size=224_224,satellite_map_key=aerial_map_aerial_map_png,semantic_map_key=semantic_map_semantic_map_pb,set_origin_to_bottom=True,batch_size=12,key=scenes_sample_zarr,num_workers=16,perturb_probability=0.0000,shuffle=True,checkpoint_every_n_steps=10000,eval_every_n_steps=10000,max_num_steps=5,batch_size=12,key=scenes_sample_zarr,num_workers=16,shuffle=False,dataset_key=scenes_sample_zarr,lr=0.0080,max_num_steps=5,num_workers=4,shuffle=True\n",
      "  hostname: anish-l5-kit\n",
      "  iterations_since_restore: 5\n",
      "  loss: 78.53407287597656\n",
      "  node_ip: 10.150.0.3\n",
      "  pid: 28875\n",
      "  should_checkpoint: true\n",
      "  time_since_restore: 61.747360706329346\n",
      "  time_this_iter_s: 9.16437292098999\n",
      "  time_total_s: 61.747360706329346\n",
      "  timestamp: 1662589728\n",
      "  timesteps_since_restore: 0\n",
      "  training_iteration: 5\n",
      "  trial_id: 3b7a5fee\n",
      "  warmup_time: 0.0074100494384765625\n",
      "  \n"
     ]
    },
    {
     "name": "stderr",
     "output_type": "stream",
     "text": [
      "\u001b[34m\u001b[1mwandb\u001b[0m: Adding directory to artifact (/home/jupyter/ray_results/TorchTrainer_2022-09-07_22-21-37/TorchTrainer_4a587ab4_10_batch_size=6.0000,format_version=4,future_num_frames=50,history_num_frames=5,model_architecture=resnet50,_2022-09-07_22-28-13/checkpoint_000004)... "
     ]
    },
    {
     "name": "stdout",
     "output_type": "stream",
     "text": [
      "Result for TorchTrainer_4a587ab4:\n",
      "  _time_this_iter_s: 4.773626804351807\n",
      "  _timestamp: 1662589734\n",
      "  _training_iteration: 5\n",
      "  avg_loss: 46.75938854813576\n",
      "  date: 2022-09-07_22-28-54\n",
      "  done: false\n",
      "  experiment_id: 9957c869ac65425ca95e1dd2c9154d97\n",
      "  hostname: anish-l5-kit\n",
      "  iterations_since_restore: 5\n",
      "  loss: 19.829809188842773\n",
      "  node_ip: 10.150.0.3\n",
      "  pid: 29736\n",
      "  should_checkpoint: true\n",
      "  time_since_restore: 36.77384090423584\n",
      "  time_this_iter_s: 4.790681838989258\n",
      "  time_total_s: 36.77384090423584\n",
      "  timestamp: 1662589734\n",
      "  timesteps_since_restore: 0\n",
      "  training_iteration: 5\n",
      "  trial_id: 4a587ab4\n",
      "  warmup_time: 0.008248329162597656\n",
      "  \n"
     ]
    },
    {
     "name": "stderr",
     "output_type": "stream",
     "text": [
      "Done. 1.0s\n",
      "\u001b[34m\u001b[1mwandb\u001b[0m: Adding directory to artifact (/home/jupyter/ray_results/TorchTrainer_2022-09-07_22-21-37/TorchTrainer_4a587ab4_10_batch_size=6.0000,format_version=4,future_num_frames=50,history_num_frames=5,model_architecture=resnet50,_2022-09-07_22-28-13/checkpoint_000004)... Done. 0.3s\n"
     ]
    },
    {
     "data": {
      "text/html": [
       "Waiting for W&B process to finish... <strong style=\"color:green\">(success).</strong>"
      ],
      "text/plain": [
       "<IPython.core.display.HTML object>"
      ]
     },
     "metadata": {},
     "output_type": "display_data"
    },
    {
     "data": {
      "application/vnd.jupyter.widget-view+json": {
       "model_id": "d341cfe7361f44b394701eb346c7babe",
       "version_major": 2,
       "version_minor": 0
      },
      "text/plain": [
       "VBox(children=(Label(value='457.048 MB of 457.048 MB uploaded (91.307 MB deduped)\\r'), FloatProgress(value=1.0…"
      ]
     },
     "metadata": {},
     "output_type": "display_data"
    },
    {
     "data": {
      "text/html": [
       "W&B sync reduced upload amount by 20.0%             "
      ],
      "text/plain": [
       "<IPython.core.display.HTML object>"
      ]
     },
     "metadata": {},
     "output_type": "display_data"
    },
    {
     "data": {
      "text/html": [
       "<style>\n",
       "    table.wandb td:nth-child(1) { padding: 0 10px; text-align: left ; width: auto;} td:nth-child(2) {text-align: left ; width: 100%}\n",
       "    .wandb-row { display: flex; flex-direction: row; flex-wrap: wrap; justify-content: flex-start; width: 100% }\n",
       "    .wandb-col { display: flex; flex-direction: column; flex-basis: 100%; flex: 1; padding: 10px; }\n",
       "    </style>\n",
       "<div class=\"wandb-row\"><div class=\"wandb-col\"><h3>Run history:</h3><br/><table class=\"wandb\"><tr><td>avg_loss</td><td>█▃▁▁▁</td></tr><tr><td>iterations_since_restore</td><td>▁▃▅▆█</td></tr><tr><td>loss</td><td>█▁▁▃▂</td></tr><tr><td>time_since_restore</td><td>▁▃▅▆█</td></tr><tr><td>time_this_iter_s</td><td>█▁▁▁▁</td></tr><tr><td>time_total_s</td><td>▁▃▅▆█</td></tr><tr><td>timestamp</td><td>▁▃▅▆█</td></tr><tr><td>timesteps_since_restore</td><td>▁▁▁▁▁</td></tr><tr><td>training_iteration</td><td>▁▃▅▆█</td></tr><tr><td>warmup_time</td><td>▁▁▁▁▁</td></tr></table><br/></div><div class=\"wandb-col\"><h3>Run summary:</h3><br/><table class=\"wandb\"><tr><td>avg_loss</td><td>46.75939</td></tr><tr><td>iterations_since_restore</td><td>5</td></tr><tr><td>loss</td><td>19.82981</td></tr><tr><td>time_since_restore</td><td>36.77384</td></tr><tr><td>time_this_iter_s</td><td>4.79068</td></tr><tr><td>time_total_s</td><td>36.77384</td></tr><tr><td>timestamp</td><td>1662589734</td></tr><tr><td>timesteps_since_restore</td><td>0</td></tr><tr><td>training_iteration</td><td>5</td></tr><tr><td>warmup_time</td><td>0.00825</td></tr></table><br/></div></div>"
      ],
      "text/plain": [
       "<IPython.core.display.HTML object>"
      ]
     },
     "metadata": {},
     "output_type": "display_data"
    },
    {
     "data": {
      "text/html": [
       "Synced <strong style=\"color:#cdcd00\">TorchTrainer_4a587ab4</strong>: <a href=\"https://wandb.ai/l5-demo/l5-simulation-trials/runs/4a587ab4\" target=\"_blank\">https://wandb.ai/l5-demo/l5-simulation-trials/runs/4a587ab4</a><br/>Synced 7 W&B file(s), 0 media file(s), 12 artifact file(s) and 1 other file(s)"
      ],
      "text/plain": [
       "<IPython.core.display.HTML object>"
      ]
     },
     "metadata": {},
     "output_type": "display_data"
    },
    {
     "data": {
      "text/html": [
       "Find logs at: <code>./wandb/run-20220907_222814-4a587ab4/logs</code>"
      ],
      "text/plain": [
       "<IPython.core.display.HTML object>"
      ]
     },
     "metadata": {},
     "output_type": "display_data"
    },
    {
     "name": "stdout",
     "output_type": "stream",
     "text": [
      "Result for TorchTrainer_4a587ab4:\n",
      "  _time_this_iter_s: 4.773626804351807\n",
      "  _timestamp: 1662589734\n",
      "  _training_iteration: 5\n",
      "  avg_loss: 46.75938854813576\n",
      "  date: 2022-09-07_22-28-54\n",
      "  done: true\n",
      "  experiment_id: 9957c869ac65425ca95e1dd2c9154d97\n",
      "  experiment_tag: 10_batch_size=6.0000,format_version=4,future_num_frames=50,history_num_frames=5,model_architecture=resnet50,render_ego_history=False,step_time=0.1000,dataset_meta_key=meta_json,disable_traffic_light_faces=False,ego_center=0_25_0_5,filter_agents_threshold=0.5000,map_type=py_semantic,pixel_size=0_5_0_5,raster_size=224_224,satellite_map_key=aerial_map_aerial_map_png,semantic_map_key=semantic_map_semantic_map_pb,set_origin_to_bottom=True,batch_size=12,key=scenes_sample_zarr,num_workers=16,perturb_probability=0.0000,shuffle=True,checkpoint_every_n_steps=10000,eval_every_n_steps=10000,max_num_steps=5,batch_size=12,key=scenes_sample_zarr,num_workers=16,shuffle=False,dataset_key=scenes_sample_zarr,lr=0.0003,max_num_steps=5,num_workers=4,shuffle=True\n",
      "  hostname: anish-l5-kit\n",
      "  iterations_since_restore: 5\n",
      "  loss: 19.829809188842773\n",
      "  node_ip: 10.150.0.3\n",
      "  pid: 29736\n",
      "  should_checkpoint: true\n",
      "  time_since_restore: 36.77384090423584\n",
      "  time_this_iter_s: 4.790681838989258\n",
      "  time_total_s: 36.77384090423584\n",
      "  timestamp: 1662589734\n",
      "  timesteps_since_restore: 0\n",
      "  training_iteration: 5\n",
      "  trial_id: 4a587ab4\n",
      "  warmup_time: 0.008248329162597656\n",
      "  \n"
     ]
    },
    {
     "name": "stderr",
     "output_type": "stream",
     "text": [
      "\u001b[2m\u001b[36m(RayTrainWorker pid=30871)\u001b[0m 2022-09-07 22:29:15,511\tINFO config.py:72 -- Setting up process group for: env:// [rank=0, world_size=1]\n",
      "\u001b[2m\u001b[36m(RayTrainWorker pid=30877)\u001b[0m 2022-09-07 22:29:16,196\tINFO config.py:72 -- Setting up process group for: env:// [rank=0, world_size=1]\n",
      "\u001b[2m\u001b[36m(RayTrainWorker pid=30871)\u001b[0m /opt/conda/lib/python3.7/site-packages/l5kit/planning/rasterized/model.py:31: UserWarning: There is no pre-trained model with num_in_channels != 3, first layer will be reset\n",
      "\u001b[2m\u001b[36m(RayTrainWorker pid=30871)\u001b[0m   warnings.warn(\"There is no pre-trained model with num_in_channels != 3, first layer will be reset\")\n",
      "\u001b[2m\u001b[36m(RayTrainWorker pid=30871)\u001b[0m /opt/conda/lib/python3.7/site-packages/torchvision/models/_utils.py:209: UserWarning: The parameter 'pretrained' is deprecated since 0.13 and will be removed in 0.15, please use 'weights' instead.\n",
      "\u001b[2m\u001b[36m(RayTrainWorker pid=30871)\u001b[0m   f\"The parameter '{pretrained_param}' is deprecated since 0.13 and will be removed in 0.15, \"\n",
      "\u001b[2m\u001b[36m(RayTrainWorker pid=30871)\u001b[0m /opt/conda/lib/python3.7/site-packages/torchvision/models/_utils.py:223: UserWarning: Arguments other than a weight enum or `None` for 'weights' are deprecated since 0.13 and will be removed in 0.15. The current behavior is equivalent to passing `weights=ResNet50_Weights.IMAGENET1K_V1`. You can also use `weights=ResNet50_Weights.DEFAULT` to get the most up-to-date weights.\n",
      "\u001b[2m\u001b[36m(RayTrainWorker pid=30871)\u001b[0m   warnings.warn(msg)\n",
      "\u001b[2m\u001b[36m(RayTrainWorker pid=30871)\u001b[0m 2022-09-07 22:29:22,587\tINFO train_loop_utils.py:300 -- Moving model to device: cpu\n",
      "\u001b[2m\u001b[36m(RayTrainWorker pid=30877)\u001b[0m /opt/conda/lib/python3.7/site-packages/l5kit/planning/rasterized/model.py:31: UserWarning: There is no pre-trained model with num_in_channels != 3, first layer will be reset\n",
      "\u001b[2m\u001b[36m(RayTrainWorker pid=30877)\u001b[0m   warnings.warn(\"There is no pre-trained model with num_in_channels != 3, first layer will be reset\")\n",
      "\u001b[2m\u001b[36m(RayTrainWorker pid=30877)\u001b[0m /opt/conda/lib/python3.7/site-packages/torchvision/models/_utils.py:209: UserWarning: The parameter 'pretrained' is deprecated since 0.13 and will be removed in 0.15, please use 'weights' instead.\n",
      "\u001b[2m\u001b[36m(RayTrainWorker pid=30877)\u001b[0m   f\"The parameter '{pretrained_param}' is deprecated since 0.13 and will be removed in 0.15, \"\n",
      "\u001b[2m\u001b[36m(RayTrainWorker pid=30877)\u001b[0m /opt/conda/lib/python3.7/site-packages/torchvision/models/_utils.py:223: UserWarning: Arguments other than a weight enum or `None` for 'weights' are deprecated since 0.13 and will be removed in 0.15. The current behavior is equivalent to passing `weights=ResNet50_Weights.IMAGENET1K_V1`. You can also use `weights=ResNet50_Weights.DEFAULT` to get the most up-to-date weights.\n",
      "\u001b[2m\u001b[36m(RayTrainWorker pid=30877)\u001b[0m   warnings.warn(msg)\n",
      "\u001b[2m\u001b[36m(RayTrainWorker pid=30877)\u001b[0m 2022-09-07 22:29:24,723\tINFO train_loop_utils.py:300 -- Moving model to device: cpu\n"
     ]
    },
    {
     "name": "stdout",
     "output_type": "stream",
     "text": [
      "\u001b[2m\u001b[36m(RayTrainWorker pid=30871)\u001b[0m {'loss': 97.75194549560547, 'avg_loss': 97.75194549560547}\n"
     ]
    },
    {
     "name": "stderr",
     "output_type": "stream",
     "text": [
      "\u001b[34m\u001b[1mwandb\u001b[0m: Adding directory to artifact (/home/jupyter/ray_results/TorchTrainer_2022-09-07_22-21-37/TorchTrainer_5c8963a6_11_batch_size=12.0000,format_version=4,future_num_frames=50,history_num_frames=5,model_architecture=resnet50_2022-09-07_22-29-07/checkpoint_000000)... "
     ]
    },
    {
     "name": "stdout",
     "output_type": "stream",
     "text": [
      "Result for TorchTrainer_5c8963a6:\n",
      "  _time_this_iter_s: 18.86416459083557\n",
      "  _timestamp: 1662589774\n",
      "  _training_iteration: 1\n",
      "  avg_loss: 97.75194549560547\n",
      "  date: 2022-09-07_22-29-35\n",
      "  done: false\n",
      "  experiment_id: d94910aa352943519d623bd44149187c\n",
      "  hostname: anish-l5-kit\n",
      "  iterations_since_restore: 1\n",
      "  loss: 97.75194549560547\n",
      "  node_ip: 10.150.0.3\n",
      "  pid: 30739\n",
      "  should_checkpoint: true\n",
      "  time_since_restore: 24.011290311813354\n",
      "  time_this_iter_s: 24.011290311813354\n",
      "  time_total_s: 24.011290311813354\n",
      "  timestamp: 1662589775\n",
      "  timesteps_since_restore: 0\n",
      "  training_iteration: 1\n",
      "  trial_id: 5c8963a6\n",
      "  warmup_time: 0.006880998611450195\n",
      "  \n"
     ]
    },
    {
     "name": "stderr",
     "output_type": "stream",
     "text": [
      "Done. 1.0s\n"
     ]
    },
    {
     "name": "stdout",
     "output_type": "stream",
     "text": [
      "\u001b[2m\u001b[36m(RayTrainWorker pid=30871)\u001b[0m {'loss': 49.547279357910156, 'avg_loss': 73.64961242675781}\n"
     ]
    },
    {
     "name": "stderr",
     "output_type": "stream",
     "text": [
      "\u001b[34m\u001b[1mwandb\u001b[0m: Adding directory to artifact (/home/jupyter/ray_results/TorchTrainer_2022-09-07_22-21-37/TorchTrainer_5c8963a6_11_batch_size=12.0000,format_version=4,future_num_frames=50,history_num_frames=5,model_architecture=resnet50_2022-09-07_22-29-07/checkpoint_000001)... "
     ]
    },
    {
     "name": "stdout",
     "output_type": "stream",
     "text": [
      "Result for TorchTrainer_5c8963a6:\n",
      "  _time_this_iter_s: 8.972011089324951\n",
      "  _timestamp: 1662589783\n",
      "  _training_iteration: 2\n",
      "  avg_loss: 73.64961242675781\n",
      "  date: 2022-09-07_22-29-44\n",
      "  done: false\n",
      "  experiment_id: d94910aa352943519d623bd44149187c\n",
      "  hostname: anish-l5-kit\n",
      "  iterations_since_restore: 2\n",
      "  loss: 49.547279357910156\n",
      "  node_ip: 10.150.0.3\n",
      "  pid: 30739\n",
      "  should_checkpoint: true\n",
      "  time_since_restore: 32.78300929069519\n",
      "  time_this_iter_s: 8.771718978881836\n",
      "  time_total_s: 32.78300929069519\n",
      "  timestamp: 1662589784\n",
      "  timesteps_since_restore: 0\n",
      "  training_iteration: 2\n",
      "  trial_id: 5c8963a6\n",
      "  warmup_time: 0.006880998611450195\n",
      "  \n"
     ]
    },
    {
     "name": "stderr",
     "output_type": "stream",
     "text": [
      "Done. 1.0s\n"
     ]
    },
    {
     "name": "stdout",
     "output_type": "stream",
     "text": [
      "\u001b[2m\u001b[36m(RayTrainWorker pid=30877)\u001b[0m {'loss': 115.76343536376953, 'avg_loss': 115.76343536376953}\n",
      "Result for TorchTrainer_7c8db18e:\n",
      "  _time_this_iter_s: 30.498860836029053\n",
      "  _timestamp: 1662589787\n",
      "  _training_iteration: 1\n",
      "  avg_loss: 115.76343536376953\n",
      "  date: 2022-09-07_22-29-47\n",
      "  done: false\n",
      "  experiment_id: 852e126daf544161a052659a010eff6b\n",
      "  hostname: anish-l5-kit\n",
      "  iterations_since_restore: 1\n",
      "  loss: 115.76343536376953\n",
      "  node_ip: 10.150.0.3\n",
      "  pid: 30748\n",
      "  should_checkpoint: true\n",
      "  time_since_restore: 35.489298820495605\n",
      "  time_this_iter_s: 35.489298820495605\n",
      "  time_total_s: 35.489298820495605\n",
      "  timestamp: 1662589787\n",
      "  timesteps_since_restore: 0\n",
      "  training_iteration: 1\n",
      "  trial_id: 7c8db18e\n",
      "  warmup_time: 0.0066182613372802734\n",
      "  \n"
     ]
    },
    {
     "name": "stderr",
     "output_type": "stream",
     "text": [
      "\u001b[34m\u001b[1mwandb\u001b[0m: Adding directory to artifact (/home/jupyter/ray_results/TorchTrainer_2022-09-07_22-21-37/TorchTrainer_7c8db18e_12_batch_size=24.0000,format_version=4,future_num_frames=50,history_num_frames=5,model_architecture=resnet50_2022-09-07_22-29-08/checkpoint_000000)... Done. 1.1s\n"
     ]
    },
    {
     "name": "stdout",
     "output_type": "stream",
     "text": [
      "\u001b[2m\u001b[36m(RayTrainWorker pid=30871)\u001b[0m {'loss': 26.206785202026367, 'avg_loss': 57.835336685180664}\n"
     ]
    },
    {
     "name": "stderr",
     "output_type": "stream",
     "text": [
      "\u001b[34m\u001b[1mwandb\u001b[0m: Adding directory to artifact (/home/jupyter/ray_results/TorchTrainer_2022-09-07_22-21-37/TorchTrainer_5c8963a6_11_batch_size=12.0000,format_version=4,future_num_frames=50,history_num_frames=5,model_architecture=resnet50_2022-09-07_22-29-07/checkpoint_000002)... "
     ]
    },
    {
     "name": "stdout",
     "output_type": "stream",
     "text": [
      "Result for TorchTrainer_5c8963a6:\n",
      "  _time_this_iter_s: 8.99614429473877\n",
      "  _timestamp: 1662589792\n",
      "  _training_iteration: 3\n",
      "  avg_loss: 57.835336685180664\n",
      "  date: 2022-09-07_22-29-53\n",
      "  done: false\n",
      "  experiment_id: d94910aa352943519d623bd44149187c\n",
      "  hostname: anish-l5-kit\n",
      "  iterations_since_restore: 3\n",
      "  loss: 26.206785202026367\n",
      "  node_ip: 10.150.0.3\n",
      "  pid: 30739\n",
      "  should_checkpoint: true\n",
      "  time_since_restore: 41.86423873901367\n",
      "  time_this_iter_s: 9.081229448318481\n",
      "  time_total_s: 41.86423873901367\n",
      "  timestamp: 1662589793\n",
      "  timesteps_since_restore: 0\n",
      "  training_iteration: 3\n",
      "  trial_id: 5c8963a6\n",
      "  warmup_time: 0.006880998611450195\n",
      "  \n"
     ]
    },
    {
     "name": "stderr",
     "output_type": "stream",
     "text": [
      "Done. 1.1s\n"
     ]
    },
    {
     "name": "stdout",
     "output_type": "stream",
     "text": [
      "\u001b[2m\u001b[36m(RayTrainWorker pid=30871)\u001b[0m {'loss': 21.997163772583008, 'avg_loss': 48.87579345703125}\n"
     ]
    },
    {
     "name": "stderr",
     "output_type": "stream",
     "text": [
      "\u001b[34m\u001b[1mwandb\u001b[0m: Adding directory to artifact (/home/jupyter/ray_results/TorchTrainer_2022-09-07_22-21-37/TorchTrainer_5c8963a6_11_batch_size=12.0000,format_version=4,future_num_frames=50,history_num_frames=5,model_architecture=resnet50_2022-09-07_22-29-07/checkpoint_000003)... "
     ]
    },
    {
     "name": "stdout",
     "output_type": "stream",
     "text": [
      "Result for TorchTrainer_5c8963a6:\n",
      "  _time_this_iter_s: 8.49676775932312\n",
      "  _timestamp: 1662589801\n",
      "  _training_iteration: 4\n",
      "  avg_loss: 48.87579345703125\n",
      "  date: 2022-09-07_22-30-02\n",
      "  done: false\n",
      "  experiment_id: d94910aa352943519d623bd44149187c\n",
      "  hostname: anish-l5-kit\n",
      "  iterations_since_restore: 4\n",
      "  loss: 21.997163772583008\n",
      "  node_ip: 10.150.0.3\n",
      "  pid: 30739\n",
      "  should_checkpoint: true\n",
      "  time_since_restore: 51.07124304771423\n",
      "  time_this_iter_s: 9.207004308700562\n",
      "  time_total_s: 51.07124304771423\n",
      "  timestamp: 1662589802\n",
      "  timesteps_since_restore: 0\n",
      "  training_iteration: 4\n",
      "  trial_id: 5c8963a6\n",
      "  warmup_time: 0.006880998611450195\n",
      "  \n"
     ]
    },
    {
     "name": "stderr",
     "output_type": "stream",
     "text": [
      "Done. 1.7s\n"
     ]
    },
    {
     "name": "stdout",
     "output_type": "stream",
     "text": [
      "\u001b[2m\u001b[36m(RayTrainWorker pid=30877)\u001b[0m {'loss': 80.73584747314453, 'avg_loss': 98.24964141845703}\n"
     ]
    },
    {
     "name": "stderr",
     "output_type": "stream",
     "text": [
      "\u001b[34m\u001b[1mwandb\u001b[0m: Adding directory to artifact (/home/jupyter/ray_results/TorchTrainer_2022-09-07_22-21-37/TorchTrainer_7c8db18e_12_batch_size=24.0000,format_version=4,future_num_frames=50,history_num_frames=5,model_architecture=resnet50_2022-09-07_22-29-08/checkpoint_000001)... "
     ]
    },
    {
     "name": "stdout",
     "output_type": "stream",
     "text": [
      "Result for TorchTrainer_7c8db18e:\n",
      "  _time_this_iter_s: 20.060969591140747\n",
      "  _timestamp: 1662589807\n",
      "  _training_iteration: 2\n",
      "  avg_loss: 98.24964141845703\n",
      "  date: 2022-09-07_22-30-07\n",
      "  done: false\n",
      "  experiment_id: 852e126daf544161a052659a010eff6b\n",
      "  hostname: anish-l5-kit\n",
      "  iterations_since_restore: 2\n",
      "  loss: 80.73584747314453\n",
      "  node_ip: 10.150.0.3\n",
      "  pid: 30748\n",
      "  should_checkpoint: true\n",
      "  time_since_restore: 55.51757502555847\n",
      "  time_this_iter_s: 20.028276205062866\n",
      "  time_total_s: 55.51757502555847\n",
      "  timestamp: 1662589807\n",
      "  timesteps_since_restore: 0\n",
      "  training_iteration: 2\n",
      "  trial_id: 7c8db18e\n",
      "  warmup_time: 0.0066182613372802734\n",
      "  \n"
     ]
    },
    {
     "name": "stderr",
     "output_type": "stream",
     "text": [
      "Done. 2.5s\n"
     ]
    },
    {
     "name": "stdout",
     "output_type": "stream",
     "text": [
      "\u001b[2m\u001b[36m(RayTrainWorker pid=30871)\u001b[0m {'loss': 103.54435729980469, 'avg_loss': 59.809506225585935}\n"
     ]
    },
    {
     "name": "stderr",
     "output_type": "stream",
     "text": [
      "\u001b[34m\u001b[1mwandb\u001b[0m: Adding directory to artifact (/home/jupyter/ray_results/TorchTrainer_2022-09-07_22-21-37/TorchTrainer_5c8963a6_11_batch_size=12.0000,format_version=4,future_num_frames=50,history_num_frames=5,model_architecture=resnet50_2022-09-07_22-29-07/checkpoint_000004)... "
     ]
    },
    {
     "name": "stdout",
     "output_type": "stream",
     "text": [
      "Result for TorchTrainer_5c8963a6:\n",
      "  _time_this_iter_s: 10.332557439804077\n",
      "  _timestamp: 1662589811\n",
      "  _training_iteration: 5\n",
      "  avg_loss: 59.809506225585935\n",
      "  date: 2022-09-07_22-30-12\n",
      "  done: false\n",
      "  experiment_id: d94910aa352943519d623bd44149187c\n",
      "  hostname: anish-l5-kit\n",
      "  iterations_since_restore: 5\n",
      "  loss: 103.54435729980469\n",
      "  node_ip: 10.150.0.3\n",
      "  pid: 30739\n",
      "  should_checkpoint: true\n",
      "  time_since_restore: 60.67612075805664\n",
      "  time_this_iter_s: 9.604877710342407\n",
      "  time_total_s: 60.67612075805664\n",
      "  timestamp: 1662589812\n",
      "  timesteps_since_restore: 0\n",
      "  training_iteration: 5\n",
      "  trial_id: 5c8963a6\n",
      "  warmup_time: 0.006880998611450195\n",
      "  \n"
     ]
    },
    {
     "name": "stderr",
     "output_type": "stream",
     "text": [
      "Done. 1.0s\n",
      "\u001b[34m\u001b[1mwandb\u001b[0m: Adding directory to artifact (/home/jupyter/ray_results/TorchTrainer_2022-09-07_22-21-37/TorchTrainer_5c8963a6_11_batch_size=12.0000,format_version=4,future_num_frames=50,history_num_frames=5,model_architecture=resnet50_2022-09-07_22-29-07/checkpoint_000004)... Done. 0.3s\n"
     ]
    },
    {
     "data": {
      "text/html": [
       "Waiting for W&B process to finish... <strong style=\"color:green\">(success).</strong>"
      ],
      "text/plain": [
       "<IPython.core.display.HTML object>"
      ]
     },
     "metadata": {},
     "output_type": "display_data"
    },
    {
     "data": {
      "application/vnd.jupyter.widget-view+json": {
       "model_id": "4483c052725f4b239651b1a06a4512c8",
       "version_major": 2,
       "version_minor": 0
      },
      "text/plain": [
       "VBox(children=(Label(value='457.090 MB of 457.090 MB uploaded (91.307 MB deduped)\\r'), FloatProgress(value=1.0…"
      ]
     },
     "metadata": {},
     "output_type": "display_data"
    },
    {
     "data": {
      "text/html": [
       "W&B sync reduced upload amount by 20.0%             "
      ],
      "text/plain": [
       "<IPython.core.display.HTML object>"
      ]
     },
     "metadata": {},
     "output_type": "display_data"
    },
    {
     "data": {
      "text/html": [
       "<style>\n",
       "    table.wandb td:nth-child(1) { padding: 0 10px; text-align: left ; width: auto;} td:nth-child(2) {text-align: left ; width: 100%}\n",
       "    .wandb-row { display: flex; flex-direction: row; flex-wrap: wrap; justify-content: flex-start; width: 100% }\n",
       "    .wandb-col { display: flex; flex-direction: column; flex-basis: 100%; flex: 1; padding: 10px; }\n",
       "    </style>\n",
       "<div class=\"wandb-row\"><div class=\"wandb-col\"><h3>Run history:</h3><br/><table class=\"wandb\"><tr><td>avg_loss</td><td>█▅▂▁▃</td></tr><tr><td>iterations_since_restore</td><td>▁▃▅▆█</td></tr><tr><td>loss</td><td>█▃▁▁█</td></tr><tr><td>time_since_restore</td><td>▁▃▄▆█</td></tr><tr><td>time_this_iter_s</td><td>█▁▁▁▁</td></tr><tr><td>time_total_s</td><td>▁▃▄▆█</td></tr><tr><td>timestamp</td><td>▁▃▄▆█</td></tr><tr><td>timesteps_since_restore</td><td>▁▁▁▁▁</td></tr><tr><td>training_iteration</td><td>▁▃▅▆█</td></tr><tr><td>warmup_time</td><td>▁▁▁▁▁</td></tr></table><br/></div><div class=\"wandb-col\"><h3>Run summary:</h3><br/><table class=\"wandb\"><tr><td>avg_loss</td><td>59.80951</td></tr><tr><td>iterations_since_restore</td><td>5</td></tr><tr><td>loss</td><td>103.54436</td></tr><tr><td>time_since_restore</td><td>60.67612</td></tr><tr><td>time_this_iter_s</td><td>9.60488</td></tr><tr><td>time_total_s</td><td>60.67612</td></tr><tr><td>timestamp</td><td>1662589812</td></tr><tr><td>timesteps_since_restore</td><td>0</td></tr><tr><td>training_iteration</td><td>5</td></tr><tr><td>warmup_time</td><td>0.00688</td></tr></table><br/></div></div>"
      ],
      "text/plain": [
       "<IPython.core.display.HTML object>"
      ]
     },
     "metadata": {},
     "output_type": "display_data"
    },
    {
     "data": {
      "text/html": [
       "Synced <strong style=\"color:#cdcd00\">TorchTrainer_5c8963a6</strong>: <a href=\"https://wandb.ai/l5-demo/l5-simulation-trials/runs/5c8963a6\" target=\"_blank\">https://wandb.ai/l5-demo/l5-simulation-trials/runs/5c8963a6</a><br/>Synced 7 W&B file(s), 0 media file(s), 12 artifact file(s) and 1 other file(s)"
      ],
      "text/plain": [
       "<IPython.core.display.HTML object>"
      ]
     },
     "metadata": {},
     "output_type": "display_data"
    },
    {
     "data": {
      "text/html": [
       "Find logs at: <code>./wandb/run-20220907_222907-5c8963a6/logs</code>"
      ],
      "text/plain": [
       "<IPython.core.display.HTML object>"
      ]
     },
     "metadata": {},
     "output_type": "display_data"
    },
    {
     "name": "stdout",
     "output_type": "stream",
     "text": [
      "Result for TorchTrainer_5c8963a6:\n",
      "  _time_this_iter_s: 10.332557439804077\n",
      "  _timestamp: 1662589811\n",
      "  _training_iteration: 5\n",
      "  avg_loss: 59.809506225585935\n",
      "  date: 2022-09-07_22-30-12\n",
      "  done: true\n",
      "  experiment_id: d94910aa352943519d623bd44149187c\n",
      "  experiment_tag: 11_batch_size=12.0000,format_version=4,future_num_frames=50,history_num_frames=5,model_architecture=resnet50,render_ego_history=False,step_time=0.1000,dataset_meta_key=meta_json,disable_traffic_light_faces=False,ego_center=0_25_0_5,filter_agents_threshold=0.5000,map_type=py_satellite,pixel_size=0_5_0_5,raster_size=224_224,satellite_map_key=aerial_map_aerial_map_png,semantic_map_key=semantic_map_semantic_map_pb,set_origin_to_bottom=True,batch_size=12,key=scenes_sample_zarr,num_workers=16,perturb_probability=0.0000,shuffle=True,checkpoint_every_n_steps=10000,eval_every_n_steps=10000,max_num_steps=5,batch_size=12,key=scenes_sample_zarr,num_workers=16,shuffle=False,dataset_key=scenes_sample_zarr,lr=0.0006,max_num_steps=5,num_workers=4,shuffle=True\n",
      "  hostname: anish-l5-kit\n",
      "  iterations_since_restore: 5\n",
      "  loss: 103.54435729980469\n",
      "  node_ip: 10.150.0.3\n",
      "  pid: 30739\n",
      "  should_checkpoint: true\n",
      "  time_since_restore: 60.67612075805664\n",
      "  time_this_iter_s: 9.604877710342407\n",
      "  time_total_s: 60.67612075805664\n",
      "  timestamp: 1662589812\n",
      "  timesteps_since_restore: 0\n",
      "  training_iteration: 5\n",
      "  trial_id: 5c8963a6\n",
      "  warmup_time: 0.006880998611450195\n",
      "  \n",
      "\u001b[2m\u001b[36m(RayTrainWorker pid=30877)\u001b[0m {'loss': 74.26795196533203, 'avg_loss': 90.25574493408203}\n"
     ]
    },
    {
     "name": "stderr",
     "output_type": "stream",
     "text": [
      "\u001b[34m\u001b[1mwandb\u001b[0m: Adding directory to artifact (/home/jupyter/ray_results/TorchTrainer_2022-09-07_22-21-37/TorchTrainer_7c8db18e_12_batch_size=24.0000,format_version=4,future_num_frames=50,history_num_frames=5,model_architecture=resnet50_2022-09-07_22-29-08/checkpoint_000002)... "
     ]
    },
    {
     "name": "stdout",
     "output_type": "stream",
     "text": [
      "Result for TorchTrainer_7c8db18e:\n",
      "  _time_this_iter_s: 17.56546401977539\n",
      "  _timestamp: 1662589824\n",
      "  _training_iteration: 3\n",
      "  avg_loss: 90.25574493408203\n",
      "  date: 2022-09-07_22-30-25\n",
      "  done: false\n",
      "  experiment_id: 852e126daf544161a052659a010eff6b\n",
      "  hostname: anish-l5-kit\n",
      "  iterations_since_restore: 3\n",
      "  loss: 74.26795196533203\n",
      "  node_ip: 10.150.0.3\n",
      "  pid: 30748\n",
      "  should_checkpoint: true\n",
      "  time_since_restore: 73.0201358795166\n",
      "  time_this_iter_s: 17.50256085395813\n",
      "  time_total_s: 73.0201358795166\n",
      "  timestamp: 1662589825\n",
      "  timesteps_since_restore: 0\n",
      "  training_iteration: 3\n",
      "  trial_id: 7c8db18e\n",
      "  warmup_time: 0.0066182613372802734\n",
      "  \n"
     ]
    },
    {
     "name": "stderr",
     "output_type": "stream",
     "text": [
      "Done. 1.1s\n",
      "\u001b[2m\u001b[36m(RayTrainWorker pid=31969)\u001b[0m 2022-09-07 22:30:33,052\tINFO config.py:72 -- Setting up process group for: env:// [rank=0, world_size=1]\n",
      "\u001b[2m\u001b[36m(RayTrainWorker pid=31969)\u001b[0m /opt/conda/lib/python3.7/site-packages/l5kit/planning/rasterized/model.py:31: UserWarning: There is no pre-trained model with num_in_channels != 3, first layer will be reset\n",
      "\u001b[2m\u001b[36m(RayTrainWorker pid=31969)\u001b[0m   warnings.warn(\"There is no pre-trained model with num_in_channels != 3, first layer will be reset\")\n",
      "\u001b[2m\u001b[36m(RayTrainWorker pid=31969)\u001b[0m /opt/conda/lib/python3.7/site-packages/torchvision/models/_utils.py:209: UserWarning: The parameter 'pretrained' is deprecated since 0.13 and will be removed in 0.15, please use 'weights' instead.\n",
      "\u001b[2m\u001b[36m(RayTrainWorker pid=31969)\u001b[0m   f\"The parameter '{pretrained_param}' is deprecated since 0.13 and will be removed in 0.15, \"\n",
      "\u001b[2m\u001b[36m(RayTrainWorker pid=31969)\u001b[0m /opt/conda/lib/python3.7/site-packages/torchvision/models/_utils.py:223: UserWarning: Arguments other than a weight enum or `None` for 'weights' are deprecated since 0.13 and will be removed in 0.15. The current behavior is equivalent to passing `weights=ResNet50_Weights.IMAGENET1K_V1`. You can also use `weights=ResNet50_Weights.DEFAULT` to get the most up-to-date weights.\n",
      "\u001b[2m\u001b[36m(RayTrainWorker pid=31969)\u001b[0m   warnings.warn(msg)\n",
      "\u001b[2m\u001b[36m(RayTrainWorker pid=31969)\u001b[0m 2022-09-07 22:30:39,070\tINFO train_loop_utils.py:300 -- Moving model to device: cpu\n"
     ]
    },
    {
     "name": "stdout",
     "output_type": "stream",
     "text": [
      "\u001b[2m\u001b[36m(RayTrainWorker pid=30877)\u001b[0m {'loss': 22.43189239501953, 'avg_loss': 73.2997817993164}\n"
     ]
    },
    {
     "name": "stderr",
     "output_type": "stream",
     "text": [
      "\u001b[34m\u001b[1mwandb\u001b[0m: Adding directory to artifact (/home/jupyter/ray_results/TorchTrainer_2022-09-07_22-21-37/TorchTrainer_7c8db18e_12_batch_size=24.0000,format_version=4,future_num_frames=50,history_num_frames=5,model_architecture=resnet50_2022-09-07_22-29-08/checkpoint_000003)... "
     ]
    },
    {
     "name": "stdout",
     "output_type": "stream",
     "text": [
      "Result for TorchTrainer_7c8db18e:\n",
      "  _time_this_iter_s: 20.520598888397217\n",
      "  _timestamp: 1662589845\n",
      "  _training_iteration: 4\n",
      "  avg_loss: 73.2997817993164\n",
      "  date: 2022-09-07_22-30-45\n",
      "  done: false\n",
      "  experiment_id: 852e126daf544161a052659a010eff6b\n",
      "  hostname: anish-l5-kit\n",
      "  iterations_since_restore: 4\n",
      "  loss: 22.43189239501953\n",
      "  node_ip: 10.150.0.3\n",
      "  pid: 30748\n",
      "  should_checkpoint: true\n",
      "  time_since_restore: 93.5247757434845\n",
      "  time_this_iter_s: 20.504639863967896\n",
      "  time_total_s: 93.5247757434845\n",
      "  timestamp: 1662589845\n",
      "  timesteps_since_restore: 0\n",
      "  training_iteration: 4\n",
      "  trial_id: 7c8db18e\n",
      "  warmup_time: 0.0066182613372802734\n",
      "  \n"
     ]
    },
    {
     "name": "stderr",
     "output_type": "stream",
     "text": [
      "Done. 1.1s\n"
     ]
    },
    {
     "name": "stdout",
     "output_type": "stream",
     "text": [
      "\u001b[2m\u001b[36m(RayTrainWorker pid=31969)\u001b[0m {'loss': 57.797576904296875, 'avg_loss': 57.797576904296875}\n"
     ]
    },
    {
     "name": "stderr",
     "output_type": "stream",
     "text": [
      "\u001b[34m\u001b[1mwandb\u001b[0m: Adding directory to artifact (/home/jupyter/ray_results/TorchTrainer_2022-09-07_22-21-37/TorchTrainer_7ce876fa_13_batch_size=24.0000,format_version=4,future_num_frames=50,history_num_frames=5,model_architecture=resnet50_2022-09-07_22-30-22/checkpoint_000000)... "
     ]
    },
    {
     "name": "stdout",
     "output_type": "stream",
     "text": [
      "Result for TorchTrainer_7ce876fa:\n",
      "  _time_this_iter_s: 26.334730863571167\n",
      "  _timestamp: 1662589859\n",
      "  _training_iteration: 1\n",
      "  avg_loss: 57.797576904296875\n",
      "  date: 2022-09-07_22-31-00\n",
      "  done: false\n",
      "  experiment_id: 583d325ebb214e7b8e8385e2747de52a\n",
      "  hostname: anish-l5-kit\n",
      "  iterations_since_restore: 1\n",
      "  loss: 57.797576904296875\n",
      "  node_ip: 10.150.0.3\n",
      "  pid: 31872\n",
      "  should_checkpoint: true\n",
      "  time_since_restore: 30.620442867279053\n",
      "  time_this_iter_s: 30.620442867279053\n",
      "  time_total_s: 30.620442867279053\n",
      "  timestamp: 1662589860\n",
      "  timesteps_since_restore: 0\n",
      "  training_iteration: 1\n",
      "  trial_id: 7ce876fa\n",
      "  warmup_time: 0.006645917892456055\n",
      "  \n"
     ]
    },
    {
     "name": "stderr",
     "output_type": "stream",
     "text": [
      "Done. 1.0s\n"
     ]
    },
    {
     "name": "stdout",
     "output_type": "stream",
     "text": [
      "\u001b[2m\u001b[36m(RayTrainWorker pid=30877)\u001b[0m {'loss': 69.86618041992188, 'avg_loss': 72.6130615234375}\n",
      "Result for TorchTrainer_7c8db18e:\n",
      "  _time_this_iter_s: 19.15438151359558\n",
      "  _timestamp: 1662589864\n",
      "  _training_iteration: 5\n",
      "  avg_loss: 72.6130615234375\n",
      "  date: 2022-09-07_22-31-05\n",
      "  done: false\n",
      "  experiment_id: 852e126daf544161a052659a010eff6b\n",
      "  hostname: anish-l5-kit\n",
      "  iterations_since_restore: 5\n",
      "  loss: 69.86618041992188\n",
      "  node_ip: 10.150.0.3\n",
      "  pid: 30748\n",
      "  should_checkpoint: true\n",
      "  time_since_restore: 112.70063400268555\n",
      "  time_this_iter_s: 19.17585825920105\n",
      "  time_total_s: 112.70063400268555\n",
      "  timestamp: 1662589865\n",
      "  timesteps_since_restore: 0\n",
      "  training_iteration: 5\n",
      "  trial_id: 7c8db18e\n",
      "  warmup_time: 0.0066182613372802734\n",
      "  \n"
     ]
    },
    {
     "name": "stderr",
     "output_type": "stream",
     "text": [
      "\u001b[34m\u001b[1mwandb\u001b[0m: Adding directory to artifact (/home/jupyter/ray_results/TorchTrainer_2022-09-07_22-21-37/TorchTrainer_7c8db18e_12_batch_size=24.0000,format_version=4,future_num_frames=50,history_num_frames=5,model_architecture=resnet50_2022-09-07_22-29-08/checkpoint_000004)... Done. 1.0s\n",
      "\u001b[34m\u001b[1mwandb\u001b[0m: Adding directory to artifact (/home/jupyter/ray_results/TorchTrainer_2022-09-07_22-21-37/TorchTrainer_7c8db18e_12_batch_size=24.0000,format_version=4,future_num_frames=50,history_num_frames=5,model_architecture=resnet50_2022-09-07_22-29-08/checkpoint_000004)... Done. 0.3s\n"
     ]
    },
    {
     "data": {
      "text/html": [
       "Waiting for W&B process to finish... <strong style=\"color:green\">(success).</strong>"
      ],
      "text/plain": [
       "<IPython.core.display.HTML object>"
      ]
     },
     "metadata": {},
     "output_type": "display_data"
    },
    {
     "data": {
      "application/vnd.jupyter.widget-view+json": {
       "model_id": "c56d5a86500b44039c80c64272c675aa",
       "version_major": 2,
       "version_minor": 0
      },
      "text/plain": [
       "VBox(children=(Label(value='457.090 MB of 457.090 MB uploaded (91.307 MB deduped)\\r'), FloatProgress(value=1.0…"
      ]
     },
     "metadata": {},
     "output_type": "display_data"
    },
    {
     "data": {
      "text/html": [
       "W&B sync reduced upload amount by 20.0%             "
      ],
      "text/plain": [
       "<IPython.core.display.HTML object>"
      ]
     },
     "metadata": {},
     "output_type": "display_data"
    },
    {
     "data": {
      "text/html": [
       "<style>\n",
       "    table.wandb td:nth-child(1) { padding: 0 10px; text-align: left ; width: auto;} td:nth-child(2) {text-align: left ; width: 100%}\n",
       "    .wandb-row { display: flex; flex-direction: row; flex-wrap: wrap; justify-content: flex-start; width: 100% }\n",
       "    .wandb-col { display: flex; flex-direction: column; flex-basis: 100%; flex: 1; padding: 10px; }\n",
       "    </style>\n",
       "<div class=\"wandb-row\"><div class=\"wandb-col\"><h3>Run history:</h3><br/><table class=\"wandb\"><tr><td>avg_loss</td><td>█▅▄▁▁</td></tr><tr><td>iterations_since_restore</td><td>▁▃▅▆█</td></tr><tr><td>loss</td><td>█▅▅▁▅</td></tr><tr><td>time_since_restore</td><td>▁▃▄▆█</td></tr><tr><td>time_this_iter_s</td><td>█▂▁▂▂</td></tr><tr><td>time_total_s</td><td>▁▃▄▆█</td></tr><tr><td>timestamp</td><td>▁▃▄▆█</td></tr><tr><td>timesteps_since_restore</td><td>▁▁▁▁▁</td></tr><tr><td>training_iteration</td><td>▁▃▅▆█</td></tr><tr><td>warmup_time</td><td>▁▁▁▁▁</td></tr></table><br/></div><div class=\"wandb-col\"><h3>Run summary:</h3><br/><table class=\"wandb\"><tr><td>avg_loss</td><td>72.61306</td></tr><tr><td>iterations_since_restore</td><td>5</td></tr><tr><td>loss</td><td>69.86618</td></tr><tr><td>time_since_restore</td><td>112.70063</td></tr><tr><td>time_this_iter_s</td><td>19.17586</td></tr><tr><td>time_total_s</td><td>112.70063</td></tr><tr><td>timestamp</td><td>1662589865</td></tr><tr><td>timesteps_since_restore</td><td>0</td></tr><tr><td>training_iteration</td><td>5</td></tr><tr><td>warmup_time</td><td>0.00662</td></tr></table><br/></div></div>"
      ],
      "text/plain": [
       "<IPython.core.display.HTML object>"
      ]
     },
     "metadata": {},
     "output_type": "display_data"
    },
    {
     "data": {
      "text/html": [
       "Synced <strong style=\"color:#cdcd00\">TorchTrainer_7c8db18e</strong>: <a href=\"https://wandb.ai/l5-demo/l5-simulation-trials/runs/7c8db18e\" target=\"_blank\">https://wandb.ai/l5-demo/l5-simulation-trials/runs/7c8db18e</a><br/>Synced 7 W&B file(s), 0 media file(s), 12 artifact file(s) and 1 other file(s)"
      ],
      "text/plain": [
       "<IPython.core.display.HTML object>"
      ]
     },
     "metadata": {},
     "output_type": "display_data"
    },
    {
     "data": {
      "text/html": [
       "Find logs at: <code>./wandb/run-20220907_222908-7c8db18e/logs</code>"
      ],
      "text/plain": [
       "<IPython.core.display.HTML object>"
      ]
     },
     "metadata": {},
     "output_type": "display_data"
    },
    {
     "name": "stdout",
     "output_type": "stream",
     "text": [
      "Result for TorchTrainer_7c8db18e:\n",
      "  _time_this_iter_s: 19.15438151359558\n",
      "  _timestamp: 1662589864\n",
      "  _training_iteration: 5\n",
      "  avg_loss: 72.6130615234375\n",
      "  date: 2022-09-07_22-31-05\n",
      "  done: true\n",
      "  experiment_id: 852e126daf544161a052659a010eff6b\n",
      "  experiment_tag: 12_batch_size=24.0000,format_version=4,future_num_frames=50,history_num_frames=5,model_architecture=resnet50,render_ego_history=False,step_time=0.1000,dataset_meta_key=meta_json,disable_traffic_light_faces=False,ego_center=0_25_0_5,filter_agents_threshold=0.5000,map_type=py_semantic,pixel_size=0_5_0_5,raster_size=224_224,satellite_map_key=aerial_map_aerial_map_png,semantic_map_key=semantic_map_semantic_map_pb,set_origin_to_bottom=True,batch_size=12,key=scenes_sample_zarr,num_workers=16,perturb_probability=0.0000,shuffle=True,checkpoint_every_n_steps=10000,eval_every_n_steps=10000,max_num_steps=5,batch_size=12,key=scenes_sample_zarr,num_workers=16,shuffle=False,dataset_key=scenes_sample_zarr,lr=0.0001,max_num_steps=5,num_workers=4,shuffle=True\n",
      "  hostname: anish-l5-kit\n",
      "  iterations_since_restore: 5\n",
      "  loss: 69.86618041992188\n",
      "  node_ip: 10.150.0.3\n",
      "  pid: 30748\n",
      "  should_checkpoint: true\n",
      "  time_since_restore: 112.70063400268555\n",
      "  time_this_iter_s: 19.17585825920105\n",
      "  time_total_s: 112.70063400268555\n",
      "  timestamp: 1662589865\n",
      "  timesteps_since_restore: 0\n",
      "  training_iteration: 5\n",
      "  trial_id: 7c8db18e\n",
      "  warmup_time: 0.0066182613372802734\n",
      "  \n"
     ]
    },
    {
     "name": "stderr",
     "output_type": "stream",
     "text": [
      "\u001b[2m\u001b[36m(RayTrainWorker pid=328)\u001b[0m 2022-09-07 22:31:19,983\tINFO config.py:72 -- Setting up process group for: env:// [rank=0, world_size=1]\n"
     ]
    },
    {
     "name": "stdout",
     "output_type": "stream",
     "text": [
      "\u001b[2m\u001b[36m(RayTrainWorker pid=31969)\u001b[0m {'loss': 38.288490295410156, 'avg_loss': 48.043033599853516}\n"
     ]
    },
    {
     "name": "stderr",
     "output_type": "stream",
     "text": [
      "\u001b[34m\u001b[1mwandb\u001b[0m: Adding directory to artifact (/home/jupyter/ray_results/TorchTrainer_2022-09-07_22-21-37/TorchTrainer_7ce876fa_13_batch_size=24.0000,format_version=4,future_num_frames=50,history_num_frames=5,model_architecture=resnet50_2022-09-07_22-30-22/checkpoint_000001)... "
     ]
    },
    {
     "name": "stdout",
     "output_type": "stream",
     "text": [
      "Result for TorchTrainer_7ce876fa:\n",
      "  _time_this_iter_s: 20.465931177139282\n",
      "  _timestamp: 1662589880\n",
      "  _training_iteration: 2\n",
      "  avg_loss: 48.043033599853516\n",
      "  date: 2022-09-07_22-31-20\n",
      "  done: false\n",
      "  experiment_id: 583d325ebb214e7b8e8385e2747de52a\n",
      "  hostname: anish-l5-kit\n",
      "  iterations_since_restore: 2\n",
      "  loss: 38.288490295410156\n",
      "  node_ip: 10.150.0.3\n",
      "  pid: 31872\n",
      "  should_checkpoint: true\n",
      "  time_since_restore: 51.056318521499634\n",
      "  time_this_iter_s: 20.43587565422058\n",
      "  time_total_s: 51.056318521499634\n",
      "  timestamp: 1662589880\n",
      "  timesteps_since_restore: 0\n",
      "  training_iteration: 2\n",
      "  trial_id: 7ce876fa\n",
      "  warmup_time: 0.006645917892456055\n",
      "  \n"
     ]
    },
    {
     "name": "stderr",
     "output_type": "stream",
     "text": [
      "Done. 1.0s\n",
      "\u001b[2m\u001b[36m(RayTrainWorker pid=328)\u001b[0m /opt/conda/lib/python3.7/site-packages/l5kit/planning/rasterized/model.py:31: UserWarning: There is no pre-trained model with num_in_channels != 3, first layer will be reset\n",
      "\u001b[2m\u001b[36m(RayTrainWorker pid=328)\u001b[0m   warnings.warn(\"There is no pre-trained model with num_in_channels != 3, first layer will be reset\")\n",
      "\u001b[2m\u001b[36m(RayTrainWorker pid=328)\u001b[0m /opt/conda/lib/python3.7/site-packages/torchvision/models/_utils.py:209: UserWarning: The parameter 'pretrained' is deprecated since 0.13 and will be removed in 0.15, please use 'weights' instead.\n",
      "\u001b[2m\u001b[36m(RayTrainWorker pid=328)\u001b[0m   f\"The parameter '{pretrained_param}' is deprecated since 0.13 and will be removed in 0.15, \"\n",
      "\u001b[2m\u001b[36m(RayTrainWorker pid=328)\u001b[0m /opt/conda/lib/python3.7/site-packages/torchvision/models/_utils.py:223: UserWarning: Arguments other than a weight enum or `None` for 'weights' are deprecated since 0.13 and will be removed in 0.15. The current behavior is equivalent to passing `weights=ResNet50_Weights.IMAGENET1K_V1`. You can also use `weights=ResNet50_Weights.DEFAULT` to get the most up-to-date weights.\n",
      "\u001b[2m\u001b[36m(RayTrainWorker pid=328)\u001b[0m   warnings.warn(msg)\n",
      "\u001b[2m\u001b[36m(RayTrainWorker pid=328)\u001b[0m 2022-09-07 22:31:27,943\tINFO train_loop_utils.py:300 -- Moving model to device: cpu\n"
     ]
    },
    {
     "name": "stdout",
     "output_type": "stream",
     "text": [
      "\u001b[2m\u001b[36m(RayTrainWorker pid=31969)\u001b[0m {'loss': 120.09806060791016, 'avg_loss': 72.06137593587239}\n"
     ]
    },
    {
     "name": "stderr",
     "output_type": "stream",
     "text": [
      "\u001b[34m\u001b[1mwandb\u001b[0m: Adding directory to artifact (/home/jupyter/ray_results/TorchTrainer_2022-09-07_22-21-37/TorchTrainer_7ce876fa_13_batch_size=24.0000,format_version=4,future_num_frames=50,history_num_frames=5,model_architecture=resnet50_2022-09-07_22-30-22/checkpoint_000002)... "
     ]
    },
    {
     "name": "stdout",
     "output_type": "stream",
     "text": [
      "Result for TorchTrainer_7ce876fa:\n",
      "  _time_this_iter_s: 21.585253715515137\n",
      "  _timestamp: 1662589902\n",
      "  _training_iteration: 3\n",
      "  avg_loss: 72.06137593587239\n",
      "  date: 2022-09-07_22-31-42\n",
      "  done: false\n",
      "  experiment_id: 583d325ebb214e7b8e8385e2747de52a\n",
      "  hostname: anish-l5-kit\n",
      "  iterations_since_restore: 3\n",
      "  loss: 120.09806060791016\n",
      "  node_ip: 10.150.0.3\n",
      "  pid: 31872\n",
      "  should_checkpoint: true\n",
      "  time_since_restore: 72.59062266349792\n",
      "  time_this_iter_s: 21.53430414199829\n",
      "  time_total_s: 72.59062266349792\n",
      "  timestamp: 1662589902\n",
      "  timesteps_since_restore: 0\n",
      "  training_iteration: 3\n",
      "  trial_id: 7ce876fa\n",
      "  warmup_time: 0.006645917892456055\n",
      "  \n"
     ]
    },
    {
     "name": "stderr",
     "output_type": "stream",
     "text": [
      "Done. 1.0s\n"
     ]
    },
    {
     "name": "stdout",
     "output_type": "stream",
     "text": [
      "\u001b[2m\u001b[36m(RayTrainWorker pid=328)\u001b[0m {'loss': 89.77851867675781, 'avg_loss': 89.77851867675781}\n"
     ]
    },
    {
     "name": "stderr",
     "output_type": "stream",
     "text": [
      "\u001b[34m\u001b[1mwandb\u001b[0m: Adding directory to artifact (/home/jupyter/ray_results/TorchTrainer_2022-09-07_22-21-37/TorchTrainer_a9126326_14_batch_size=24.0000,format_version=4,future_num_frames=50,history_num_frames=5,model_architecture=resnet50_2022-09-07_22-31-13/checkpoint_000000)... "
     ]
    },
    {
     "name": "stdout",
     "output_type": "stream",
     "text": [
      "Result for TorchTrainer_a9126326:\n",
      "  _time_this_iter_s: 30.344859838485718\n",
      "  _timestamp: 1662589910\n",
      "  _training_iteration: 1\n",
      "  avg_loss: 89.77851867675781\n",
      "  date: 2022-09-07_22-31-51\n",
      "  done: false\n",
      "  experiment_id: 3a895807c2574315830a1518af33816e\n",
      "  hostname: anish-l5-kit\n",
      "  iterations_since_restore: 1\n",
      "  loss: 89.77851867675781\n",
      "  node_ip: 10.150.0.3\n",
      "  pid: 32730\n",
      "  should_checkpoint: true\n",
      "  time_since_restore: 33.79382133483887\n",
      "  time_this_iter_s: 33.79382133483887\n",
      "  time_total_s: 33.79382133483887\n",
      "  timestamp: 1662589911\n",
      "  timesteps_since_restore: 0\n",
      "  training_iteration: 1\n",
      "  trial_id: a9126326\n",
      "  warmup_time: 0.005923032760620117\n",
      "  \n"
     ]
    },
    {
     "name": "stderr",
     "output_type": "stream",
     "text": [
      "Done. 1.0s\n"
     ]
    },
    {
     "name": "stdout",
     "output_type": "stream",
     "text": [
      "\u001b[2m\u001b[36m(RayTrainWorker pid=31969)\u001b[0m {'loss': 101.74803924560547, 'avg_loss': 79.48304176330566}\n"
     ]
    },
    {
     "name": "stderr",
     "output_type": "stream",
     "text": [
      "\u001b[34m\u001b[1mwandb\u001b[0m: Adding directory to artifact (/home/jupyter/ray_results/TorchTrainer_2022-09-07_22-21-37/TorchTrainer_7ce876fa_13_batch_size=24.0000,format_version=4,future_num_frames=50,history_num_frames=5,model_architecture=resnet50_2022-09-07_22-30-22/checkpoint_000003)... "
     ]
    },
    {
     "name": "stdout",
     "output_type": "stream",
     "text": [
      "Result for TorchTrainer_7ce876fa:\n",
      "  _time_this_iter_s: 17.701676607131958\n",
      "  _timestamp: 1662589919\n",
      "  _training_iteration: 4\n",
      "  avg_loss: 79.48304176330566\n",
      "  date: 2022-09-07_22-32-00\n",
      "  done: false\n",
      "  experiment_id: 583d325ebb214e7b8e8385e2747de52a\n",
      "  hostname: anish-l5-kit\n",
      "  iterations_since_restore: 4\n",
      "  loss: 101.74803924560547\n",
      "  node_ip: 10.150.0.3\n",
      "  pid: 31872\n",
      "  should_checkpoint: true\n",
      "  time_since_restore: 90.27450060844421\n",
      "  time_this_iter_s: 17.68387794494629\n",
      "  time_total_s: 90.27450060844421\n",
      "  timestamp: 1662589920\n",
      "  timesteps_since_restore: 0\n",
      "  training_iteration: 4\n",
      "  trial_id: 7ce876fa\n",
      "  warmup_time: 0.006645917892456055\n",
      "  \n"
     ]
    },
    {
     "name": "stderr",
     "output_type": "stream",
     "text": [
      "Done. 1.0s\n"
     ]
    },
    {
     "name": "stdout",
     "output_type": "stream",
     "text": [
      "\u001b[2m\u001b[36m(RayTrainWorker pid=328)\u001b[0m {'loss': 46.26633071899414, 'avg_loss': 68.02242469787598}\n"
     ]
    },
    {
     "name": "stderr",
     "output_type": "stream",
     "text": [
      "\u001b[34m\u001b[1mwandb\u001b[0m: Adding directory to artifact (/home/jupyter/ray_results/TorchTrainer_2022-09-07_22-21-37/TorchTrainer_a9126326_14_batch_size=24.0000,format_version=4,future_num_frames=50,history_num_frames=5,model_architecture=resnet50_2022-09-07_22-31-13/checkpoint_000001)... "
     ]
    },
    {
     "name": "stdout",
     "output_type": "stream",
     "text": [
      "Result for TorchTrainer_a9126326:\n",
      "  _time_this_iter_s: 19.811874389648438\n",
      "  _timestamp: 1662589930\n",
      "  _training_iteration: 2\n",
      "  avg_loss: 68.02242469787598\n",
      "  date: 2022-09-07_22-32-11\n",
      "  done: false\n",
      "  experiment_id: 3a895807c2574315830a1518af33816e\n",
      "  hostname: anish-l5-kit\n",
      "  iterations_since_restore: 2\n",
      "  loss: 46.26633071899414\n",
      "  node_ip: 10.150.0.3\n",
      "  pid: 32730\n",
      "  should_checkpoint: true\n",
      "  time_since_restore: 53.5701949596405\n",
      "  time_this_iter_s: 19.776373624801636\n",
      "  time_total_s: 53.5701949596405\n",
      "  timestamp: 1662589931\n",
      "  timesteps_since_restore: 0\n",
      "  training_iteration: 2\n",
      "  trial_id: a9126326\n",
      "  warmup_time: 0.005923032760620117\n",
      "  \n"
     ]
    },
    {
     "name": "stderr",
     "output_type": "stream",
     "text": [
      "Done. 1.1s\n"
     ]
    },
    {
     "name": "stdout",
     "output_type": "stream",
     "text": [
      "\u001b[2m\u001b[36m(RayTrainWorker pid=31969)\u001b[0m {'loss': 55.97064208984375, 'avg_loss': 74.78056182861329}\n"
     ]
    },
    {
     "name": "stderr",
     "output_type": "stream",
     "text": [
      "\u001b[34m\u001b[1mwandb\u001b[0m: Adding directory to artifact (/home/jupyter/ray_results/TorchTrainer_2022-09-07_22-21-37/TorchTrainer_7ce876fa_13_batch_size=24.0000,format_version=4,future_num_frames=50,history_num_frames=5,model_architecture=resnet50_2022-09-07_22-30-22/checkpoint_000004)... "
     ]
    },
    {
     "name": "stdout",
     "output_type": "stream",
     "text": [
      "Result for TorchTrainer_7ce876fa:\n",
      "  _time_this_iter_s: 19.055661916732788\n",
      "  _timestamp: 1662589938\n",
      "  _training_iteration: 5\n",
      "  avg_loss: 74.78056182861329\n",
      "  date: 2022-09-07_22-32-19\n",
      "  done: false\n",
      "  experiment_id: 583d325ebb214e7b8e8385e2747de52a\n",
      "  hostname: anish-l5-kit\n",
      "  iterations_since_restore: 5\n",
      "  loss: 55.97064208984375\n",
      "  node_ip: 10.150.0.3\n",
      "  pid: 31872\n",
      "  should_checkpoint: true\n",
      "  time_since_restore: 109.34258794784546\n",
      "  time_this_iter_s: 19.068087339401245\n",
      "  time_total_s: 109.34258794784546\n",
      "  timestamp: 1662589939\n",
      "  timesteps_since_restore: 0\n",
      "  training_iteration: 5\n",
      "  trial_id: 7ce876fa\n",
      "  warmup_time: 0.006645917892456055\n",
      "  \n"
     ]
    },
    {
     "name": "stderr",
     "output_type": "stream",
     "text": [
      "Done. 1.0s\n",
      "\u001b[34m\u001b[1mwandb\u001b[0m: Adding directory to artifact (/home/jupyter/ray_results/TorchTrainer_2022-09-07_22-21-37/TorchTrainer_7ce876fa_13_batch_size=24.0000,format_version=4,future_num_frames=50,history_num_frames=5,model_architecture=resnet50_2022-09-07_22-30-22/checkpoint_000004)... Done. 0.3s\n"
     ]
    },
    {
     "data": {
      "text/html": [
       "Waiting for W&B process to finish... <strong style=\"color:green\">(success).</strong>"
      ],
      "text/plain": [
       "<IPython.core.display.HTML object>"
      ]
     },
     "metadata": {},
     "output_type": "display_data"
    },
    {
     "data": {
      "application/vnd.jupyter.widget-view+json": {
       "model_id": "933db63e7d4642749455a7ee22c13682",
       "version_major": 2,
       "version_minor": 0
      },
      "text/plain": [
       "VBox(children=(Label(value='457.090 MB of 457.090 MB uploaded (91.307 MB deduped)\\r'), FloatProgress(value=1.0…"
      ]
     },
     "metadata": {},
     "output_type": "display_data"
    },
    {
     "data": {
      "text/html": [
       "W&B sync reduced upload amount by 20.0%             "
      ],
      "text/plain": [
       "<IPython.core.display.HTML object>"
      ]
     },
     "metadata": {},
     "output_type": "display_data"
    },
    {
     "name": "stdout",
     "output_type": "stream",
     "text": [
      "\u001b[2m\u001b[36m(RayTrainWorker pid=328)\u001b[0m {'loss': 76.20713806152344, 'avg_loss': 70.75066248575847}\n"
     ]
    },
    {
     "data": {
      "text/html": [
       "<style>\n",
       "    table.wandb td:nth-child(1) { padding: 0 10px; text-align: left ; width: auto;} td:nth-child(2) {text-align: left ; width: 100%}\n",
       "    .wandb-row { display: flex; flex-direction: row; flex-wrap: wrap; justify-content: flex-start; width: 100% }\n",
       "    .wandb-col { display: flex; flex-direction: column; flex-basis: 100%; flex: 1; padding: 10px; }\n",
       "    </style>\n",
       "<div class=\"wandb-row\"><div class=\"wandb-col\"><h3>Run history:</h3><br/><table class=\"wandb\"><tr><td>avg_loss</td><td>▃▁▆█▇</td></tr><tr><td>iterations_since_restore</td><td>▁▃▅▆█</td></tr><tr><td>loss</td><td>▃▁█▆▃</td></tr><tr><td>time_since_restore</td><td>▁▃▅▆█</td></tr><tr><td>time_this_iter_s</td><td>█▂▃▁▂</td></tr><tr><td>time_total_s</td><td>▁▃▅▆█</td></tr><tr><td>timestamp</td><td>▁▃▅▆█</td></tr><tr><td>timesteps_since_restore</td><td>▁▁▁▁▁</td></tr><tr><td>training_iteration</td><td>▁▃▅▆█</td></tr><tr><td>warmup_time</td><td>▁▁▁▁▁</td></tr></table><br/></div><div class=\"wandb-col\"><h3>Run summary:</h3><br/><table class=\"wandb\"><tr><td>avg_loss</td><td>74.78056</td></tr><tr><td>iterations_since_restore</td><td>5</td></tr><tr><td>loss</td><td>55.97064</td></tr><tr><td>time_since_restore</td><td>109.34259</td></tr><tr><td>time_this_iter_s</td><td>19.06809</td></tr><tr><td>time_total_s</td><td>109.34259</td></tr><tr><td>timestamp</td><td>1662589939</td></tr><tr><td>timesteps_since_restore</td><td>0</td></tr><tr><td>training_iteration</td><td>5</td></tr><tr><td>warmup_time</td><td>0.00665</td></tr></table><br/></div></div>"
      ],
      "text/plain": [
       "<IPython.core.display.HTML object>"
      ]
     },
     "metadata": {},
     "output_type": "display_data"
    },
    {
     "data": {
      "text/html": [
       "Synced <strong style=\"color:#cdcd00\">TorchTrainer_7ce876fa</strong>: <a href=\"https://wandb.ai/l5-demo/l5-simulation-trials/runs/7ce876fa\" target=\"_blank\">https://wandb.ai/l5-demo/l5-simulation-trials/runs/7ce876fa</a><br/>Synced 7 W&B file(s), 0 media file(s), 12 artifact file(s) and 1 other file(s)"
      ],
      "text/plain": [
       "<IPython.core.display.HTML object>"
      ]
     },
     "metadata": {},
     "output_type": "display_data"
    },
    {
     "data": {
      "text/html": [
       "Find logs at: <code>./wandb/run-20220907_223022-7ce876fa/logs</code>"
      ],
      "text/plain": [
       "<IPython.core.display.HTML object>"
      ]
     },
     "metadata": {},
     "output_type": "display_data"
    },
    {
     "name": "stdout",
     "output_type": "stream",
     "text": [
      "Result for TorchTrainer_7ce876fa:\n",
      "  _time_this_iter_s: 19.055661916732788\n",
      "  _timestamp: 1662589938\n",
      "  _training_iteration: 5\n",
      "  avg_loss: 74.78056182861329\n",
      "  date: 2022-09-07_22-32-19\n",
      "  done: true\n",
      "  experiment_id: 583d325ebb214e7b8e8385e2747de52a\n",
      "  experiment_tag: 13_batch_size=24.0000,format_version=4,future_num_frames=50,history_num_frames=5,model_architecture=resnet50,render_ego_history=False,step_time=0.1000,dataset_meta_key=meta_json,disable_traffic_light_faces=False,ego_center=0_25_0_5,filter_agents_threshold=0.5000,map_type=py_semantic,pixel_size=0_5_0_5,raster_size=224_224,satellite_map_key=aerial_map_aerial_map_png,semantic_map_key=semantic_map_semantic_map_pb,set_origin_to_bottom=True,batch_size=12,key=scenes_sample_zarr,num_workers=16,perturb_probability=0.0000,shuffle=True,checkpoint_every_n_steps=10000,eval_every_n_steps=10000,max_num_steps=5,batch_size=12,key=scenes_sample_zarr,num_workers=16,shuffle=False,dataset_key=scenes_sample_zarr,lr=0.0001,max_num_steps=5,num_workers=4,shuffle=True\n",
      "  hostname: anish-l5-kit\n",
      "  iterations_since_restore: 5\n",
      "  loss: 55.97064208984375\n",
      "  node_ip: 10.150.0.3\n",
      "  pid: 31872\n",
      "  should_checkpoint: true\n",
      "  time_since_restore: 109.34258794784546\n",
      "  time_this_iter_s: 19.068087339401245\n",
      "  time_total_s: 109.34258794784546\n",
      "  timestamp: 1662589939\n",
      "  timesteps_since_restore: 0\n",
      "  training_iteration: 5\n",
      "  trial_id: 7ce876fa\n",
      "  warmup_time: 0.006645917892456055\n",
      "  \n"
     ]
    },
    {
     "name": "stderr",
     "output_type": "stream",
     "text": [
      "\u001b[34m\u001b[1mwandb\u001b[0m: Adding directory to artifact (/home/jupyter/ray_results/TorchTrainer_2022-09-07_22-21-37/TorchTrainer_a9126326_14_batch_size=24.0000,format_version=4,future_num_frames=50,history_num_frames=5,model_architecture=resnet50_2022-09-07_22-31-13/checkpoint_000002)... "
     ]
    },
    {
     "name": "stdout",
     "output_type": "stream",
     "text": [
      "Result for TorchTrainer_a9126326:\n",
      "  _time_this_iter_s: 17.328635931015015\n",
      "  _timestamp: 1662589947\n",
      "  _training_iteration: 3\n",
      "  avg_loss: 70.75066248575847\n",
      "  date: 2022-09-07_22-32-28\n",
      "  done: false\n",
      "  experiment_id: 3a895807c2574315830a1518af33816e\n",
      "  hostname: anish-l5-kit\n",
      "  iterations_since_restore: 3\n",
      "  loss: 76.20713806152344\n",
      "  node_ip: 10.150.0.3\n",
      "  pid: 32730\n",
      "  should_checkpoint: true\n",
      "  time_since_restore: 70.862961769104\n",
      "  time_this_iter_s: 17.2927668094635\n",
      "  time_total_s: 70.862961769104\n",
      "  timestamp: 1662589948\n",
      "  timesteps_since_restore: 0\n",
      "  training_iteration: 3\n",
      "  trial_id: a9126326\n",
      "  warmup_time: 0.005923032760620117\n",
      "  \n"
     ]
    },
    {
     "name": "stderr",
     "output_type": "stream",
     "text": [
      "Done. 1.0s\n",
      "\u001b[2m\u001b[36m(RayTrainWorker pid=1320)\u001b[0m 2022-09-07 22:32:38,017\tINFO config.py:72 -- Setting up process group for: env:// [rank=0, world_size=1]\n",
      "\u001b[2m\u001b[36m(RayTrainWorker pid=1320)\u001b[0m /opt/conda/lib/python3.7/site-packages/l5kit/planning/rasterized/model.py:31: UserWarning: There is no pre-trained model with num_in_channels != 3, first layer will be reset\n",
      "\u001b[2m\u001b[36m(RayTrainWorker pid=1320)\u001b[0m   warnings.warn(\"There is no pre-trained model with num_in_channels != 3, first layer will be reset\")\n",
      "\u001b[2m\u001b[36m(RayTrainWorker pid=1320)\u001b[0m /opt/conda/lib/python3.7/site-packages/torchvision/models/_utils.py:209: UserWarning: The parameter 'pretrained' is deprecated since 0.13 and will be removed in 0.15, please use 'weights' instead.\n",
      "\u001b[2m\u001b[36m(RayTrainWorker pid=1320)\u001b[0m   f\"The parameter '{pretrained_param}' is deprecated since 0.13 and will be removed in 0.15, \"\n",
      "\u001b[2m\u001b[36m(RayTrainWorker pid=1320)\u001b[0m /opt/conda/lib/python3.7/site-packages/torchvision/models/_utils.py:223: UserWarning: Arguments other than a weight enum or `None` for 'weights' are deprecated since 0.13 and will be removed in 0.15. The current behavior is equivalent to passing `weights=ResNet50_Weights.IMAGENET1K_V1`. You can also use `weights=ResNet50_Weights.DEFAULT` to get the most up-to-date weights.\n",
      "\u001b[2m\u001b[36m(RayTrainWorker pid=1320)\u001b[0m   warnings.warn(msg)\n",
      "\u001b[2m\u001b[36m(RayTrainWorker pid=1320)\u001b[0m 2022-09-07 22:32:44,048\tINFO train_loop_utils.py:300 -- Moving model to device: cpu\n"
     ]
    },
    {
     "name": "stdout",
     "output_type": "stream",
     "text": [
      "\u001b[2m\u001b[36m(RayTrainWorker pid=328)\u001b[0m {'loss': 105.7643814086914, 'avg_loss': 79.5040922164917}\n"
     ]
    },
    {
     "name": "stderr",
     "output_type": "stream",
     "text": [
      "\u001b[34m\u001b[1mwandb\u001b[0m: Adding directory to artifact (/home/jupyter/ray_results/TorchTrainer_2022-09-07_22-21-37/TorchTrainer_a9126326_14_batch_size=24.0000,format_version=4,future_num_frames=50,history_num_frames=5,model_architecture=resnet50_2022-09-07_22-31-13/checkpoint_000003)... "
     ]
    },
    {
     "name": "stdout",
     "output_type": "stream",
     "text": [
      "Result for TorchTrainer_a9126326:\n",
      "  _time_this_iter_s: 20.202338695526123\n",
      "  _timestamp: 1662589968\n",
      "  _training_iteration: 4\n",
      "  avg_loss: 79.5040922164917\n",
      "  date: 2022-09-07_22-32-48\n",
      "  done: false\n",
      "  experiment_id: 3a895807c2574315830a1518af33816e\n",
      "  hostname: anish-l5-kit\n",
      "  iterations_since_restore: 4\n",
      "  loss: 105.7643814086914\n",
      "  node_ip: 10.150.0.3\n",
      "  pid: 32730\n",
      "  should_checkpoint: true\n",
      "  time_since_restore: 91.03654646873474\n",
      "  time_this_iter_s: 20.173584699630737\n",
      "  time_total_s: 91.03654646873474\n",
      "  timestamp: 1662589968\n",
      "  timesteps_since_restore: 0\n",
      "  training_iteration: 4\n",
      "  trial_id: a9126326\n",
      "  warmup_time: 0.005923032760620117\n",
      "  \n"
     ]
    },
    {
     "name": "stderr",
     "output_type": "stream",
     "text": [
      "Done. 1.0s\n"
     ]
    },
    {
     "name": "stdout",
     "output_type": "stream",
     "text": [
      "\u001b[2m\u001b[36m(RayTrainWorker pid=1320)\u001b[0m {'loss': 160.4739990234375, 'avg_loss': 160.4739990234375}\n",
      "Result for TorchTrainer_c7d92f7e:\n",
      "  _time_this_iter_s: 12.042727708816528\n",
      "  _timestamp: 1662589970\n",
      "  _training_iteration: 1\n",
      "  avg_loss: 160.4739990234375\n",
      "  date: 2022-09-07_22-32-51\n",
      "  done: false\n",
      "  experiment_id: 15898c60be314f2a9a578ac6564432fd\n",
      "  hostname: anish-l5-kit\n",
      "  iterations_since_restore: 1\n",
      "  loss: 160.4739990234375\n",
      "  node_ip: 10.150.0.3\n",
      "  pid: 1240\n",
      "  should_checkpoint: true\n",
      "  time_since_restore: 16.28026556968689\n",
      "  time_this_iter_s: 16.28026556968689\n",
      "  time_total_s: 16.28026556968689\n",
      "  timestamp: 1662589971\n",
      "  timesteps_since_restore: 0\n",
      "  training_iteration: 1\n",
      "  trial_id: c7d92f7e\n",
      "  warmup_time: 0.00631403923034668\n",
      "  \n"
     ]
    },
    {
     "name": "stderr",
     "output_type": "stream",
     "text": [
      "\u001b[34m\u001b[1mwandb\u001b[0m: Adding directory to artifact (/home/jupyter/ray_results/TorchTrainer_2022-09-07_22-21-37/TorchTrainer_c7d92f7e_15_batch_size=6.0000,format_version=4,future_num_frames=50,history_num_frames=5,model_architecture=resnet50,_2022-09-07_22-32-30/checkpoint_000000)... Done. 1.1s\n"
     ]
    },
    {
     "name": "stdout",
     "output_type": "stream",
     "text": [
      "\u001b[2m\u001b[36m(RayTrainWorker pid=1320)\u001b[0m {'loss': 83.2232894897461, 'avg_loss': 121.8486442565918}\n"
     ]
    },
    {
     "name": "stderr",
     "output_type": "stream",
     "text": [
      "\u001b[34m\u001b[1mwandb\u001b[0m: Adding directory to artifact (/home/jupyter/ray_results/TorchTrainer_2022-09-07_22-21-37/TorchTrainer_c7d92f7e_15_batch_size=6.0000,format_version=4,future_num_frames=50,history_num_frames=5,model_architecture=resnet50,_2022-09-07_22-32-30/checkpoint_000001)... Done. 1.0s\n"
     ]
    },
    {
     "name": "stdout",
     "output_type": "stream",
     "text": [
      "\u001b[2m\u001b[36m(RayTrainWorker pid=1320)\u001b[0m {'loss': 0.08007790148258209, 'avg_loss': 81.25912213822205}\n",
      "Result for TorchTrainer_c7d92f7e:\n",
      "  _time_this_iter_s: 4.783747673034668\n",
      "  _timestamp: 1662589980\n",
      "  _training_iteration: 3\n",
      "  avg_loss: 81.25912213822205\n",
      "  date: 2022-09-07_22-33-00\n",
      "  done: false\n",
      "  experiment_id: 15898c60be314f2a9a578ac6564432fd\n",
      "  hostname: anish-l5-kit\n",
      "  iterations_since_restore: 3\n",
      "  loss: 0.08007790148258209\n",
      "  node_ip: 10.150.0.3\n",
      "  pid: 1240\n",
      "  should_checkpoint: true\n",
      "  time_since_restore: 25.798041582107544\n",
      "  time_this_iter_s: 4.759238958358765\n",
      "  time_total_s: 25.798041582107544\n",
      "  timestamp: 1662589980\n",
      "  timesteps_since_restore: 0\n",
      "  training_iteration: 3\n",
      "  trial_id: c7d92f7e\n",
      "  warmup_time: 0.00631403923034668\n",
      "  \n"
     ]
    },
    {
     "name": "stderr",
     "output_type": "stream",
     "text": [
      "\u001b[34m\u001b[1mwandb\u001b[0m: Adding directory to artifact (/home/jupyter/ray_results/TorchTrainer_2022-09-07_22-21-37/TorchTrainer_c7d92f7e_15_batch_size=6.0000,format_version=4,future_num_frames=50,history_num_frames=5,model_architecture=resnet50,_2022-09-07_22-32-30/checkpoint_000002)... Done. 1.0s\n"
     ]
    },
    {
     "name": "stdout",
     "output_type": "stream",
     "text": [
      "\u001b[2m\u001b[36m(RayTrainWorker pid=1320)\u001b[0m {'loss': 105.5950698852539, 'avg_loss': 87.34310907498002}\n"
     ]
    },
    {
     "name": "stderr",
     "output_type": "stream",
     "text": [
      "\u001b[34m\u001b[1mwandb\u001b[0m: Adding directory to artifact (/home/jupyter/ray_results/TorchTrainer_2022-09-07_22-21-37/TorchTrainer_c7d92f7e_15_batch_size=6.0000,format_version=4,future_num_frames=50,history_num_frames=5,model_architecture=resnet50,_2022-09-07_22-32-30/checkpoint_000003)... "
     ]
    },
    {
     "name": "stdout",
     "output_type": "stream",
     "text": [
      "Result for TorchTrainer_c7d92f7e:\n",
      "  _time_this_iter_s: 5.9904725551605225\n",
      "  _timestamp: 1662589986\n",
      "  _training_iteration: 4\n",
      "  avg_loss: 87.34310907498002\n",
      "  date: 2022-09-07_22-33-06\n",
      "  done: false\n",
      "  experiment_id: 15898c60be314f2a9a578ac6564432fd\n",
      "  hostname: anish-l5-kit\n",
      "  iterations_since_restore: 4\n",
      "  loss: 105.5950698852539\n",
      "  node_ip: 10.150.0.3\n",
      "  pid: 1240\n",
      "  should_checkpoint: true\n",
      "  time_since_restore: 31.85336995124817\n",
      "  time_this_iter_s: 6.055328369140625\n",
      "  time_total_s: 31.85336995124817\n",
      "  timestamp: 1662589986\n",
      "  timesteps_since_restore: 0\n",
      "  training_iteration: 4\n",
      "  trial_id: c7d92f7e\n",
      "  warmup_time: 0.00631403923034668\n",
      "  \n"
     ]
    },
    {
     "name": "stderr",
     "output_type": "stream",
     "text": [
      "Done. 1.0s\n"
     ]
    },
    {
     "name": "stdout",
     "output_type": "stream",
     "text": [
      "\u001b[2m\u001b[36m(RayTrainWorker pid=328)\u001b[0m {'loss': 49.49141311645508, 'avg_loss': 73.50155639648438}\n"
     ]
    },
    {
     "name": "stderr",
     "output_type": "stream",
     "text": [
      "\u001b[34m\u001b[1mwandb\u001b[0m: Adding directory to artifact (/home/jupyter/ray_results/TorchTrainer_2022-09-07_22-21-37/TorchTrainer_a9126326_14_batch_size=24.0000,format_version=4,future_num_frames=50,history_num_frames=5,model_architecture=resnet50_2022-09-07_22-31-13/checkpoint_000004)... "
     ]
    },
    {
     "name": "stdout",
     "output_type": "stream",
     "text": [
      "Result for TorchTrainer_a9126326:\n",
      "  _time_this_iter_s: 19.444671392440796\n",
      "  _timestamp: 1662589987\n",
      "  _training_iteration: 5\n",
      "  avg_loss: 73.50155639648438\n",
      "  date: 2022-09-07_22-33-08\n",
      "  done: false\n",
      "  experiment_id: 3a895807c2574315830a1518af33816e\n",
      "  hostname: anish-l5-kit\n",
      "  iterations_since_restore: 5\n",
      "  loss: 49.49141311645508\n",
      "  node_ip: 10.150.0.3\n",
      "  pid: 32730\n",
      "  should_checkpoint: true\n",
      "  time_since_restore: 110.51356482505798\n",
      "  time_this_iter_s: 19.477018356323242\n",
      "  time_total_s: 110.51356482505798\n",
      "  timestamp: 1662589988\n",
      "  timesteps_since_restore: 0\n",
      "  training_iteration: 5\n",
      "  trial_id: a9126326\n",
      "  warmup_time: 0.005923032760620117\n",
      "  \n"
     ]
    },
    {
     "name": "stderr",
     "output_type": "stream",
     "text": [
      "Done. 1.0s\n",
      "\u001b[34m\u001b[1mwandb\u001b[0m: Adding directory to artifact (/home/jupyter/ray_results/TorchTrainer_2022-09-07_22-21-37/TorchTrainer_a9126326_14_batch_size=24.0000,format_version=4,future_num_frames=50,history_num_frames=5,model_architecture=resnet50_2022-09-07_22-31-13/checkpoint_000004)... Done. 0.3s\n"
     ]
    },
    {
     "data": {
      "text/html": [
       "Waiting for W&B process to finish... <strong style=\"color:green\">(success).</strong>"
      ],
      "text/plain": [
       "<IPython.core.display.HTML object>"
      ]
     },
     "metadata": {},
     "output_type": "display_data"
    },
    {
     "name": "stdout",
     "output_type": "stream",
     "text": [
      "\u001b[2m\u001b[36m(RayTrainWorker pid=1320)\u001b[0m {'loss': 46.45763397216797, 'avg_loss': 79.16601405441762}\n"
     ]
    },
    {
     "data": {
      "application/vnd.jupyter.widget-view+json": {
       "model_id": "91fab2dec8fa4cbc8ef6cf5661d8da37",
       "version_major": 2,
       "version_minor": 0
      },
      "text/plain": [
       "VBox(children=(Label(value='457.112 MB of 457.112 MB uploaded (91.307 MB deduped)\\r'), FloatProgress(value=1.0…"
      ]
     },
     "metadata": {},
     "output_type": "display_data"
    },
    {
     "data": {
      "text/html": [
       "W&B sync reduced upload amount by 20.0%             "
      ],
      "text/plain": [
       "<IPython.core.display.HTML object>"
      ]
     },
     "metadata": {},
     "output_type": "display_data"
    },
    {
     "data": {
      "text/html": [
       "<style>\n",
       "    table.wandb td:nth-child(1) { padding: 0 10px; text-align: left ; width: auto;} td:nth-child(2) {text-align: left ; width: 100%}\n",
       "    .wandb-row { display: flex; flex-direction: row; flex-wrap: wrap; justify-content: flex-start; width: 100% }\n",
       "    .wandb-col { display: flex; flex-direction: column; flex-basis: 100%; flex: 1; padding: 10px; }\n",
       "    </style>\n",
       "<div class=\"wandb-row\"><div class=\"wandb-col\"><h3>Run history:</h3><br/><table class=\"wandb\"><tr><td>avg_loss</td><td>█▁▂▅▃</td></tr><tr><td>iterations_since_restore</td><td>▁▃▅▆█</td></tr><tr><td>loss</td><td>▆▁▅█▁</td></tr><tr><td>time_since_restore</td><td>▁▃▄▆█</td></tr><tr><td>time_this_iter_s</td><td>█▂▁▂▂</td></tr><tr><td>time_total_s</td><td>▁▃▄▆█</td></tr><tr><td>timestamp</td><td>▁▃▄▆█</td></tr><tr><td>timesteps_since_restore</td><td>▁▁▁▁▁</td></tr><tr><td>training_iteration</td><td>▁▃▅▆█</td></tr><tr><td>warmup_time</td><td>▁▁▁▁▁</td></tr></table><br/></div><div class=\"wandb-col\"><h3>Run summary:</h3><br/><table class=\"wandb\"><tr><td>avg_loss</td><td>73.50156</td></tr><tr><td>iterations_since_restore</td><td>5</td></tr><tr><td>loss</td><td>49.49141</td></tr><tr><td>time_since_restore</td><td>110.51356</td></tr><tr><td>time_this_iter_s</td><td>19.47702</td></tr><tr><td>time_total_s</td><td>110.51356</td></tr><tr><td>timestamp</td><td>1662589988</td></tr><tr><td>timesteps_since_restore</td><td>0</td></tr><tr><td>training_iteration</td><td>5</td></tr><tr><td>warmup_time</td><td>0.00592</td></tr></table><br/></div></div>"
      ],
      "text/plain": [
       "<IPython.core.display.HTML object>"
      ]
     },
     "metadata": {},
     "output_type": "display_data"
    },
    {
     "data": {
      "text/html": [
       "Synced <strong style=\"color:#cdcd00\">TorchTrainer_a9126326</strong>: <a href=\"https://wandb.ai/l5-demo/l5-simulation-trials/runs/a9126326\" target=\"_blank\">https://wandb.ai/l5-demo/l5-simulation-trials/runs/a9126326</a><br/>Synced 7 W&B file(s), 0 media file(s), 12 artifact file(s) and 1 other file(s)"
      ],
      "text/plain": [
       "<IPython.core.display.HTML object>"
      ]
     },
     "metadata": {},
     "output_type": "display_data"
    },
    {
     "data": {
      "text/html": [
       "Find logs at: <code>./wandb/run-20220907_223114-a9126326/logs</code>"
      ],
      "text/plain": [
       "<IPython.core.display.HTML object>"
      ]
     },
     "metadata": {},
     "output_type": "display_data"
    },
    {
     "name": "stdout",
     "output_type": "stream",
     "text": [
      "Result for TorchTrainer_a9126326:\n",
      "  _time_this_iter_s: 19.444671392440796\n",
      "  _timestamp: 1662589987\n",
      "  _training_iteration: 5\n",
      "  avg_loss: 73.50155639648438\n",
      "  date: 2022-09-07_22-33-08\n",
      "  done: true\n",
      "  experiment_id: 3a895807c2574315830a1518af33816e\n",
      "  experiment_tag: 14_batch_size=24.0000,format_version=4,future_num_frames=50,history_num_frames=5,model_architecture=resnet50,render_ego_history=False,step_time=0.1000,dataset_meta_key=meta_json,disable_traffic_light_faces=False,ego_center=0_25_0_5,filter_agents_threshold=0.5000,map_type=py_semantic,pixel_size=0_5_0_5,raster_size=224_224,satellite_map_key=aerial_map_aerial_map_png,semantic_map_key=semantic_map_semantic_map_pb,set_origin_to_bottom=True,batch_size=12,key=scenes_sample_zarr,num_workers=16,perturb_probability=0.0000,shuffle=True,checkpoint_every_n_steps=10000,eval_every_n_steps=10000,max_num_steps=5,batch_size=12,key=scenes_sample_zarr,num_workers=16,shuffle=False,dataset_key=scenes_sample_zarr,lr=0.0001,max_num_steps=5,num_workers=4,shuffle=True\n",
      "  hostname: anish-l5-kit\n",
      "  iterations_since_restore: 5\n",
      "  loss: 49.49141311645508\n",
      "  node_ip: 10.150.0.3\n",
      "  pid: 32730\n",
      "  should_checkpoint: true\n",
      "  time_since_restore: 110.51356482505798\n",
      "  time_this_iter_s: 19.477018356323242\n",
      "  time_total_s: 110.51356482505798\n",
      "  timestamp: 1662589988\n",
      "  timesteps_since_restore: 0\n",
      "  training_iteration: 5\n",
      "  trial_id: a9126326\n",
      "  warmup_time: 0.005923032760620117\n",
      "  \n"
     ]
    },
    {
     "name": "stderr",
     "output_type": "stream",
     "text": [
      "\u001b[34m\u001b[1mwandb\u001b[0m: Adding directory to artifact (/home/jupyter/ray_results/TorchTrainer_2022-09-07_22-21-37/TorchTrainer_c7d92f7e_15_batch_size=6.0000,format_version=4,future_num_frames=50,history_num_frames=5,model_architecture=resnet50,_2022-09-07_22-32-30/checkpoint_000004)... "
     ]
    },
    {
     "name": "stdout",
     "output_type": "stream",
     "text": [
      "Result for TorchTrainer_c7d92f7e:\n",
      "  _time_this_iter_s: 4.924676418304443\n",
      "  _timestamp: 1662589991\n",
      "  _training_iteration: 5\n",
      "  avg_loss: 79.16601405441762\n",
      "  date: 2022-09-07_22-33-11\n",
      "  done: false\n",
      "  experiment_id: 15898c60be314f2a9a578ac6564432fd\n",
      "  hostname: anish-l5-kit\n",
      "  iterations_since_restore: 5\n",
      "  loss: 46.45763397216797\n",
      "  node_ip: 10.150.0.3\n",
      "  pid: 1240\n",
      "  should_checkpoint: true\n",
      "  time_since_restore: 36.70714235305786\n",
      "  time_this_iter_s: 4.853772401809692\n",
      "  time_total_s: 36.70714235305786\n",
      "  timestamp: 1662589991\n",
      "  timesteps_since_restore: 0\n",
      "  training_iteration: 5\n",
      "  trial_id: c7d92f7e\n",
      "  warmup_time: 0.00631403923034668\n",
      "  \n"
     ]
    },
    {
     "name": "stderr",
     "output_type": "stream",
     "text": [
      "Done. 1.0s\n",
      "\u001b[34m\u001b[1mwandb\u001b[0m: Adding directory to artifact (/home/jupyter/ray_results/TorchTrainer_2022-09-07_22-21-37/TorchTrainer_c7d92f7e_15_batch_size=6.0000,format_version=4,future_num_frames=50,history_num_frames=5,model_architecture=resnet50,_2022-09-07_22-32-30/checkpoint_000004)... Done. 0.3s\n"
     ]
    },
    {
     "data": {
      "text/html": [
       "Waiting for W&B process to finish... <strong style=\"color:green\">(success).</strong>"
      ],
      "text/plain": [
       "<IPython.core.display.HTML object>"
      ]
     },
     "metadata": {},
     "output_type": "display_data"
    },
    {
     "data": {
      "application/vnd.jupyter.widget-view+json": {
       "model_id": "47fc88c417074192a80e013715d4fb85",
       "version_major": 2,
       "version_minor": 0
      },
      "text/plain": [
       "VBox(children=(Label(value='457.112 MB of 457.112 MB uploaded (91.307 MB deduped)\\r'), FloatProgress(value=1.0…"
      ]
     },
     "metadata": {},
     "output_type": "display_data"
    },
    {
     "data": {
      "text/html": [
       "W&B sync reduced upload amount by 20.0%             "
      ],
      "text/plain": [
       "<IPython.core.display.HTML object>"
      ]
     },
     "metadata": {},
     "output_type": "display_data"
    },
    {
     "data": {
      "text/html": [
       "<style>\n",
       "    table.wandb td:nth-child(1) { padding: 0 10px; text-align: left ; width: auto;} td:nth-child(2) {text-align: left ; width: 100%}\n",
       "    .wandb-row { display: flex; flex-direction: row; flex-wrap: wrap; justify-content: flex-start; width: 100% }\n",
       "    .wandb-col { display: flex; flex-direction: column; flex-basis: 100%; flex: 1; padding: 10px; }\n",
       "    </style>\n",
       "<div class=\"wandb-row\"><div class=\"wandb-col\"><h3>Run history:</h3><br/><table class=\"wandb\"><tr><td>avg_loss</td><td>█▅▁▂▁</td></tr><tr><td>iterations_since_restore</td><td>▁▃▅▆█</td></tr><tr><td>loss</td><td>█▅▁▆▃</td></tr><tr><td>time_since_restore</td><td>▁▃▄▆█</td></tr><tr><td>time_this_iter_s</td><td>█▁▁▂▁</td></tr><tr><td>time_total_s</td><td>▁▃▄▆█</td></tr><tr><td>timestamp</td><td>▁▂▄▆█</td></tr><tr><td>timesteps_since_restore</td><td>▁▁▁▁▁</td></tr><tr><td>training_iteration</td><td>▁▃▅▆█</td></tr><tr><td>warmup_time</td><td>▁▁▁▁▁</td></tr></table><br/></div><div class=\"wandb-col\"><h3>Run summary:</h3><br/><table class=\"wandb\"><tr><td>avg_loss</td><td>79.16601</td></tr><tr><td>iterations_since_restore</td><td>5</td></tr><tr><td>loss</td><td>46.45763</td></tr><tr><td>time_since_restore</td><td>36.70714</td></tr><tr><td>time_this_iter_s</td><td>4.85377</td></tr><tr><td>time_total_s</td><td>36.70714</td></tr><tr><td>timestamp</td><td>1662589991</td></tr><tr><td>timesteps_since_restore</td><td>0</td></tr><tr><td>training_iteration</td><td>5</td></tr><tr><td>warmup_time</td><td>0.00631</td></tr></table><br/></div></div>"
      ],
      "text/plain": [
       "<IPython.core.display.HTML object>"
      ]
     },
     "metadata": {},
     "output_type": "display_data"
    },
    {
     "data": {
      "text/html": [
       "Synced <strong style=\"color:#cdcd00\">TorchTrainer_c7d92f7e</strong>: <a href=\"https://wandb.ai/l5-demo/l5-simulation-trials/runs/c7d92f7e\" target=\"_blank\">https://wandb.ai/l5-demo/l5-simulation-trials/runs/c7d92f7e</a><br/>Synced 7 W&B file(s), 0 media file(s), 12 artifact file(s) and 1 other file(s)"
      ],
      "text/plain": [
       "<IPython.core.display.HTML object>"
      ]
     },
     "metadata": {},
     "output_type": "display_data"
    },
    {
     "data": {
      "text/html": [
       "Find logs at: <code>./wandb/run-20220907_223231-c7d92f7e/logs</code>"
      ],
      "text/plain": [
       "<IPython.core.display.HTML object>"
      ]
     },
     "metadata": {},
     "output_type": "display_data"
    },
    {
     "name": "stdout",
     "output_type": "stream",
     "text": [
      "Result for TorchTrainer_c7d92f7e:\n",
      "  _time_this_iter_s: 4.924676418304443\n",
      "  _timestamp: 1662589991\n",
      "  _training_iteration: 5\n",
      "  avg_loss: 79.16601405441762\n",
      "  date: 2022-09-07_22-33-11\n",
      "  done: true\n",
      "  experiment_id: 15898c60be314f2a9a578ac6564432fd\n",
      "  experiment_tag: 15_batch_size=6.0000,format_version=4,future_num_frames=50,history_num_frames=5,model_architecture=resnet50,render_ego_history=False,step_time=0.1000,dataset_meta_key=meta_json,disable_traffic_light_faces=False,ego_center=0_25_0_5,filter_agents_threshold=0.5000,map_type=py_semantic,pixel_size=0_5_0_5,raster_size=224_224,satellite_map_key=aerial_map_aerial_map_png,semantic_map_key=semantic_map_semantic_map_pb,set_origin_to_bottom=True,batch_size=12,key=scenes_sample_zarr,num_workers=16,perturb_probability=0.0000,shuffle=True,checkpoint_every_n_steps=10000,eval_every_n_steps=10000,max_num_steps=5,batch_size=12,key=scenes_sample_zarr,num_workers=16,shuffle=False,dataset_key=scenes_sample_zarr,lr=0.0002,max_num_steps=5,num_workers=4,shuffle=True\n",
      "  hostname: anish-l5-kit\n",
      "  iterations_since_restore: 5\n",
      "  loss: 46.45763397216797\n",
      "  node_ip: 10.150.0.3\n",
      "  pid: 1240\n",
      "  should_checkpoint: true\n",
      "  time_since_restore: 36.70714235305786\n",
      "  time_this_iter_s: 4.853772401809692\n",
      "  time_total_s: 36.70714235305786\n",
      "  timestamp: 1662589991\n",
      "  timesteps_since_restore: 0\n",
      "  training_iteration: 5\n",
      "  trial_id: c7d92f7e\n",
      "  warmup_time: 0.00631403923034668\n",
      "  \n"
     ]
    },
    {
     "name": "stderr",
     "output_type": "stream",
     "text": [
      "\u001b[2m\u001b[36m(RayTrainWorker pid=2315)\u001b[0m 2022-09-07 22:33:31,222\tINFO config.py:72 -- Setting up process group for: env:// [rank=0, world_size=1]\n",
      "\u001b[2m\u001b[36m(RayTrainWorker pid=2324)\u001b[0m 2022-09-07 22:33:32,387\tINFO config.py:72 -- Setting up process group for: env:// [rank=0, world_size=1]\n",
      "\u001b[2m\u001b[36m(RayTrainWorker pid=2315)\u001b[0m /opt/conda/lib/python3.7/site-packages/l5kit/planning/rasterized/model.py:31: UserWarning: There is no pre-trained model with num_in_channels != 3, first layer will be reset\n",
      "\u001b[2m\u001b[36m(RayTrainWorker pid=2315)\u001b[0m   warnings.warn(\"There is no pre-trained model with num_in_channels != 3, first layer will be reset\")\n",
      "\u001b[2m\u001b[36m(RayTrainWorker pid=2315)\u001b[0m /opt/conda/lib/python3.7/site-packages/torchvision/models/_utils.py:209: UserWarning: The parameter 'pretrained' is deprecated since 0.13 and will be removed in 0.15, please use 'weights' instead.\n",
      "\u001b[2m\u001b[36m(RayTrainWorker pid=2315)\u001b[0m   f\"The parameter '{pretrained_param}' is deprecated since 0.13 and will be removed in 0.15, \"\n",
      "\u001b[2m\u001b[36m(RayTrainWorker pid=2315)\u001b[0m /opt/conda/lib/python3.7/site-packages/torchvision/models/_utils.py:223: UserWarning: Arguments other than a weight enum or `None` for 'weights' are deprecated since 0.13 and will be removed in 0.15. The current behavior is equivalent to passing `weights=ResNet50_Weights.IMAGENET1K_V1`. You can also use `weights=ResNet50_Weights.DEFAULT` to get the most up-to-date weights.\n",
      "\u001b[2m\u001b[36m(RayTrainWorker pid=2315)\u001b[0m   warnings.warn(msg)\n",
      "\u001b[2m\u001b[36m(RayTrainWorker pid=2315)\u001b[0m 2022-09-07 22:33:39,301\tINFO train_loop_utils.py:300 -- Moving model to device: cpu\n",
      "\u001b[2m\u001b[36m(RayTrainWorker pid=2324)\u001b[0m /opt/conda/lib/python3.7/site-packages/l5kit/planning/rasterized/model.py:31: UserWarning: There is no pre-trained model with num_in_channels != 3, first layer will be reset\n",
      "\u001b[2m\u001b[36m(RayTrainWorker pid=2324)\u001b[0m   warnings.warn(\"There is no pre-trained model with num_in_channels != 3, first layer will be reset\")\n",
      "\u001b[2m\u001b[36m(RayTrainWorker pid=2324)\u001b[0m /opt/conda/lib/python3.7/site-packages/torchvision/models/_utils.py:209: UserWarning: The parameter 'pretrained' is deprecated since 0.13 and will be removed in 0.15, please use 'weights' instead.\n",
      "\u001b[2m\u001b[36m(RayTrainWorker pid=2324)\u001b[0m   f\"The parameter '{pretrained_param}' is deprecated since 0.13 and will be removed in 0.15, \"\n",
      "\u001b[2m\u001b[36m(RayTrainWorker pid=2324)\u001b[0m /opt/conda/lib/python3.7/site-packages/torchvision/models/_utils.py:223: UserWarning: Arguments other than a weight enum or `None` for 'weights' are deprecated since 0.13 and will be removed in 0.15. The current behavior is equivalent to passing `weights=ResNet50_Weights.IMAGENET1K_V1`. You can also use `weights=ResNet50_Weights.DEFAULT` to get the most up-to-date weights.\n",
      "\u001b[2m\u001b[36m(RayTrainWorker pid=2324)\u001b[0m   warnings.warn(msg)\n",
      "\u001b[2m\u001b[36m(RayTrainWorker pid=2324)\u001b[0m 2022-09-07 22:33:40,853\tINFO train_loop_utils.py:300 -- Moving model to device: cpu\n"
     ]
    },
    {
     "name": "stdout",
     "output_type": "stream",
     "text": [
      "\u001b[2m\u001b[36m(RayTrainWorker pid=2315)\u001b[0m {'loss': 145.06973266601562, 'avg_loss': 145.06973266601562}\n"
     ]
    },
    {
     "name": "stderr",
     "output_type": "stream",
     "text": [
      "\u001b[34m\u001b[1mwandb\u001b[0m: Adding directory to artifact (/home/jupyter/ray_results/TorchTrainer_2022-09-07_22-21-37/TorchTrainer_f5d3e478_16_batch_size=6.0000,format_version=4,future_num_frames=50,history_num_frames=5,model_architecture=resnet50,_2022-09-07_22-33-23/checkpoint_000000)... "
     ]
    },
    {
     "name": "stdout",
     "output_type": "stream",
     "text": [
      "Result for TorchTrainer_f5d3e478:\n",
      "  _time_this_iter_s: 15.404920101165771\n",
      "  _timestamp: 1662590027\n",
      "  _training_iteration: 1\n",
      "  avg_loss: 145.06973266601562\n",
      "  date: 2022-09-07_22-33-47\n",
      "  done: false\n",
      "  experiment_id: 3efe267366704a4789979162689c2175\n",
      "  hostname: anish-l5-kit\n",
      "  iterations_since_restore: 1\n",
      "  loss: 145.06973266601562\n",
      "  node_ip: 10.150.0.3\n",
      "  pid: 2178\n",
      "  should_checkpoint: true\n",
      "  time_since_restore: 20.26424241065979\n",
      "  time_this_iter_s: 20.26424241065979\n",
      "  time_total_s: 20.26424241065979\n",
      "  timestamp: 1662590027\n",
      "  timesteps_since_restore: 0\n",
      "  training_iteration: 1\n",
      "  trial_id: f5d3e478\n",
      "  warmup_time: 0.008968591690063477\n",
      "  \n"
     ]
    },
    {
     "name": "stderr",
     "output_type": "stream",
     "text": [
      "Done. 1.1s\n"
     ]
    },
    {
     "name": "stdout",
     "output_type": "stream",
     "text": [
      "\u001b[2m\u001b[36m(RayTrainWorker pid=2315)\u001b[0m {'loss': 0.11786077171564102, 'avg_loss': 72.59379671886563}\n",
      "\u001b[2m\u001b[36m(RayTrainWorker pid=2324)\u001b[0m {'loss': 0.3762845993041992, 'avg_loss': 0.3762845993041992}\n"
     ]
    },
    {
     "name": "stderr",
     "output_type": "stream",
     "text": [
      "\u001b[34m\u001b[1mwandb\u001b[0m: Adding directory to artifact (/home/jupyter/ray_results/TorchTrainer_2022-09-07_22-21-37/TorchTrainer_f5d3e478_16_batch_size=6.0000,format_version=4,future_num_frames=50,history_num_frames=5,model_architecture=resnet50,_2022-09-07_22-33-23/checkpoint_000001)... \u001b[34m\u001b[1mwandb\u001b[0m: Adding directory to artifact (/home/jupyter/ray_results/TorchTrainer_2022-09-07_22-21-37/TorchTrainer_15265464_17_batch_size=12.0000,format_version=4,future_num_frames=50,history_num_frames=5,model_architecture=resnet50_2022-09-07_22-33-24/checkpoint_000000)... "
     ]
    },
    {
     "name": "stdout",
     "output_type": "stream",
     "text": [
      "Result for TorchTrainer_15265464:\n",
      "  _time_this_iter_s: 19.399818181991577\n",
      "  _timestamp: 1662590032\n",
      "  _training_iteration: 1\n",
      "  avg_loss: 0.3762845993041992\n",
      "  date: 2022-09-07_22-33-52\n",
      "  done: false\n",
      "  experiment_id: 817bf91e82a34130b95a1f3761627e91\n",
      "  hostname: anish-l5-kit\n",
      "  iterations_since_restore: 1\n",
      "  loss: 0.3762845993041992\n",
      "  node_ip: 10.150.0.3\n",
      "  pid: 2189\n",
      "  should_checkpoint: true\n",
      "  time_since_restore: 24.44707727432251\n",
      "  time_this_iter_s: 24.44707727432251\n",
      "  time_total_s: 24.44707727432251\n",
      "  timestamp: 1662590032\n",
      "  timesteps_since_restore: 0\n",
      "  training_iteration: 1\n",
      "  trial_id: '15265464'\n",
      "  warmup_time: 0.0057942867279052734\n",
      "  \n"
     ]
    },
    {
     "name": "stderr",
     "output_type": "stream",
     "text": [
      "Done. 1.0s\n",
      "Done. 1.3s\n"
     ]
    },
    {
     "name": "stdout",
     "output_type": "stream",
     "text": [
      "\u001b[2m\u001b[36m(RayTrainWorker pid=2315)\u001b[0m {'loss': 200.1158447265625, 'avg_loss': 115.10114605476458}\n",
      "Result for TorchTrainer_f5d3e478:\n",
      "  _time_this_iter_s: 5.256723165512085\n",
      "  _timestamp: 1662590037\n",
      "  _training_iteration: 3\n",
      "  avg_loss: 115.10114605476458\n",
      "  date: 2022-09-07_22-33-57\n",
      "  done: false\n",
      "  experiment_id: 3efe267366704a4789979162689c2175\n",
      "  hostname: anish-l5-kit\n",
      "  iterations_since_restore: 3\n",
      "  loss: 200.1158447265625\n",
      "  node_ip: 10.150.0.3\n",
      "  pid: 2178\n",
      "  should_checkpoint: true\n",
      "  time_since_restore: 30.167164087295532\n",
      "  time_this_iter_s: 5.180816650390625\n",
      "  time_total_s: 30.167164087295532\n",
      "  timestamp: 1662590037\n",
      "  timesteps_since_restore: 0\n",
      "  training_iteration: 3\n",
      "  trial_id: f5d3e478\n",
      "  warmup_time: 0.008968591690063477\n",
      "  \n"
     ]
    },
    {
     "name": "stderr",
     "output_type": "stream",
     "text": [
      "\u001b[34m\u001b[1mwandb\u001b[0m: Adding directory to artifact (/home/jupyter/ray_results/TorchTrainer_2022-09-07_22-21-37/TorchTrainer_f5d3e478_16_batch_size=6.0000,format_version=4,future_num_frames=50,history_num_frames=5,model_architecture=resnet50,_2022-09-07_22-33-23/checkpoint_000002)... Done. 1.0s\n"
     ]
    },
    {
     "name": "stdout",
     "output_type": "stream",
     "text": [
      "\u001b[2m\u001b[36m(RayTrainWorker pid=2324)\u001b[0m {'loss': 11.997621536254883, 'avg_loss': 6.186953067779541}\n",
      "\u001b[2m\u001b[36m(RayTrainWorker pid=2315)\u001b[0m {'loss': 67.13414001464844, 'avg_loss': 103.10939454473555}\n"
     ]
    },
    {
     "name": "stderr",
     "output_type": "stream",
     "text": [
      "\u001b[34m\u001b[1mwandb\u001b[0m: Adding directory to artifact (/home/jupyter/ray_results/TorchTrainer_2022-09-07_22-21-37/TorchTrainer_15265464_17_batch_size=12.0000,format_version=4,future_num_frames=50,history_num_frames=5,model_architecture=resnet50_2022-09-07_22-33-24/checkpoint_000001)... "
     ]
    },
    {
     "name": "stdout",
     "output_type": "stream",
     "text": [
      "Result for TorchTrainer_15265464:\n",
      "  _time_this_iter_s: 9.398245811462402\n",
      "  _timestamp: 1662590041\n",
      "  _training_iteration: 2\n",
      "  avg_loss: 6.186953067779541\n",
      "  date: 2022-09-07_22-34-02\n",
      "  done: false\n",
      "  experiment_id: 817bf91e82a34130b95a1f3761627e91\n",
      "  hostname: anish-l5-kit\n",
      "  iterations_since_restore: 2\n",
      "  loss: 11.997621536254883\n",
      "  node_ip: 10.150.0.3\n",
      "  pid: 2189\n",
      "  should_checkpoint: true\n",
      "  time_since_restore: 34.076884508132935\n",
      "  time_this_iter_s: 9.629807233810425\n",
      "  time_total_s: 34.076884508132935\n",
      "  timestamp: 1662590042\n",
      "  timesteps_since_restore: 0\n",
      "  training_iteration: 2\n",
      "  trial_id: '15265464'\n",
      "  warmup_time: 0.0057942867279052734\n",
      "  \n",
      "Result for TorchTrainer_f5d3e478:\n",
      "  _time_this_iter_s: 4.636677026748657\n",
      "  _timestamp: 1662590041\n",
      "  _training_iteration: 4\n",
      "  avg_loss: 103.10939454473555\n",
      "  date: 2022-09-07_22-34-02\n",
      "  done: false\n",
      "  experiment_id: 3efe267366704a4789979162689c2175\n",
      "  hostname: anish-l5-kit\n",
      "  iterations_since_restore: 4\n",
      "  loss: 67.13414001464844\n",
      "  node_ip: 10.150.0.3\n",
      "  pid: 2178\n",
      "  should_checkpoint: true\n",
      "  time_since_restore: 35.44100093841553\n",
      "  time_this_iter_s: 5.273836851119995\n",
      "  time_total_s: 35.44100093841553\n",
      "  timestamp: 1662590042\n",
      "  timesteps_since_restore: 0\n",
      "  training_iteration: 4\n",
      "  trial_id: f5d3e478\n",
      "  warmup_time: 0.008968591690063477\n",
      "  \n"
     ]
    },
    {
     "name": "stderr",
     "output_type": "stream",
     "text": [
      "\u001b[34m\u001b[1mwandb\u001b[0m: Adding directory to artifact (/home/jupyter/ray_results/TorchTrainer_2022-09-07_22-21-37/TorchTrainer_f5d3e478_16_batch_size=6.0000,format_version=4,future_num_frames=50,history_num_frames=5,model_architecture=resnet50,_2022-09-07_22-33-23/checkpoint_000003)... Done. 1.5s\n",
      "Done. 1.7s\n"
     ]
    },
    {
     "name": "stdout",
     "output_type": "stream",
     "text": [
      "\u001b[2m\u001b[36m(RayTrainWorker pid=2315)\u001b[0m {'loss': 37.48554611206055, 'avg_loss': 89.98462485820055}\n"
     ]
    },
    {
     "name": "stderr",
     "output_type": "stream",
     "text": [
      "\u001b[34m\u001b[1mwandb\u001b[0m: Adding directory to artifact (/home/jupyter/ray_results/TorchTrainer_2022-09-07_22-21-37/TorchTrainer_f5d3e478_16_batch_size=6.0000,format_version=4,future_num_frames=50,history_num_frames=5,model_architecture=resnet50,_2022-09-07_22-33-23/checkpoint_000004)... "
     ]
    },
    {
     "name": "stdout",
     "output_type": "stream",
     "text": [
      "Result for TorchTrainer_f5d3e478:\n",
      "  _time_this_iter_s: 6.303240776062012\n",
      "  _timestamp: 1662590048\n",
      "  _training_iteration: 5\n",
      "  avg_loss: 89.98462485820055\n",
      "  date: 2022-09-07_22-34-08\n",
      "  done: false\n",
      "  experiment_id: 3efe267366704a4789979162689c2175\n",
      "  hostname: anish-l5-kit\n",
      "  iterations_since_restore: 5\n",
      "  loss: 37.48554611206055\n",
      "  node_ip: 10.150.0.3\n",
      "  pid: 2178\n",
      "  should_checkpoint: true\n",
      "  time_since_restore: 41.13374900817871\n",
      "  time_this_iter_s: 5.692748069763184\n",
      "  time_total_s: 41.13374900817871\n",
      "  timestamp: 1662590048\n",
      "  timesteps_since_restore: 0\n",
      "  training_iteration: 5\n",
      "  trial_id: f5d3e478\n",
      "  warmup_time: 0.008968591690063477\n",
      "  \n"
     ]
    },
    {
     "name": "stderr",
     "output_type": "stream",
     "text": [
      "Done. 1.0s\n",
      "\u001b[34m\u001b[1mwandb\u001b[0m: Adding directory to artifact (/home/jupyter/ray_results/TorchTrainer_2022-09-07_22-21-37/TorchTrainer_f5d3e478_16_batch_size=6.0000,format_version=4,future_num_frames=50,history_num_frames=5,model_architecture=resnet50,_2022-09-07_22-33-23/checkpoint_000004)... Done. 0.3s\n"
     ]
    },
    {
     "data": {
      "text/html": [
       "Waiting for W&B process to finish... <strong style=\"color:green\">(success).</strong>"
      ],
      "text/plain": [
       "<IPython.core.display.HTML object>"
      ]
     },
     "metadata": {},
     "output_type": "display_data"
    },
    {
     "name": "stdout",
     "output_type": "stream",
     "text": [
      "\u001b[2m\u001b[36m(RayTrainWorker pid=2324)\u001b[0m {'loss': 156.16061401367188, 'avg_loss': 56.17817338307699}\n"
     ]
    },
    {
     "data": {
      "application/vnd.jupyter.widget-view+json": {
       "model_id": "b886c9f5310b459ab386289f9e57bd43",
       "version_major": 2,
       "version_minor": 0
      },
      "text/plain": [
       "VBox(children=(Label(value='457.135 MB of 457.135 MB uploaded (91.307 MB deduped)\\r'), FloatProgress(value=1.0…"
      ]
     },
     "metadata": {},
     "output_type": "display_data"
    },
    {
     "data": {
      "text/html": [
       "W&B sync reduced upload amount by 20.0%             "
      ],
      "text/plain": [
       "<IPython.core.display.HTML object>"
      ]
     },
     "metadata": {},
     "output_type": "display_data"
    },
    {
     "data": {
      "text/html": [
       "<style>\n",
       "    table.wandb td:nth-child(1) { padding: 0 10px; text-align: left ; width: auto;} td:nth-child(2) {text-align: left ; width: 100%}\n",
       "    .wandb-row { display: flex; flex-direction: row; flex-wrap: wrap; justify-content: flex-start; width: 100% }\n",
       "    .wandb-col { display: flex; flex-direction: column; flex-basis: 100%; flex: 1; padding: 10px; }\n",
       "    </style>\n",
       "<div class=\"wandb-row\"><div class=\"wandb-col\"><h3>Run history:</h3><br/><table class=\"wandb\"><tr><td>avg_loss</td><td>█▁▅▄▃</td></tr><tr><td>iterations_since_restore</td><td>▁▃▅▆█</td></tr><tr><td>loss</td><td>▆▁█▃▂</td></tr><tr><td>time_since_restore</td><td>▁▃▄▆█</td></tr><tr><td>time_this_iter_s</td><td>█▁▁▁▁</td></tr><tr><td>time_total_s</td><td>▁▃▄▆█</td></tr><tr><td>timestamp</td><td>▁▃▄▆█</td></tr><tr><td>timesteps_since_restore</td><td>▁▁▁▁▁</td></tr><tr><td>training_iteration</td><td>▁▃▅▆█</td></tr><tr><td>warmup_time</td><td>▁▁▁▁▁</td></tr></table><br/></div><div class=\"wandb-col\"><h3>Run summary:</h3><br/><table class=\"wandb\"><tr><td>avg_loss</td><td>89.98462</td></tr><tr><td>iterations_since_restore</td><td>5</td></tr><tr><td>loss</td><td>37.48555</td></tr><tr><td>time_since_restore</td><td>41.13375</td></tr><tr><td>time_this_iter_s</td><td>5.69275</td></tr><tr><td>time_total_s</td><td>41.13375</td></tr><tr><td>timestamp</td><td>1662590048</td></tr><tr><td>timesteps_since_restore</td><td>0</td></tr><tr><td>training_iteration</td><td>5</td></tr><tr><td>warmup_time</td><td>0.00897</td></tr></table><br/></div></div>"
      ],
      "text/plain": [
       "<IPython.core.display.HTML object>"
      ]
     },
     "metadata": {},
     "output_type": "display_data"
    },
    {
     "data": {
      "text/html": [
       "Synced <strong style=\"color:#cdcd00\">TorchTrainer_f5d3e478</strong>: <a href=\"https://wandb.ai/l5-demo/l5-simulation-trials/runs/f5d3e478\" target=\"_blank\">https://wandb.ai/l5-demo/l5-simulation-trials/runs/f5d3e478</a><br/>Synced 7 W&B file(s), 0 media file(s), 12 artifact file(s) and 1 other file(s)"
      ],
      "text/plain": [
       "<IPython.core.display.HTML object>"
      ]
     },
     "metadata": {},
     "output_type": "display_data"
    },
    {
     "data": {
      "text/html": [
       "Find logs at: <code>./wandb/run-20220907_223323-f5d3e478/logs</code>"
      ],
      "text/plain": [
       "<IPython.core.display.HTML object>"
      ]
     },
     "metadata": {},
     "output_type": "display_data"
    },
    {
     "name": "stdout",
     "output_type": "stream",
     "text": [
      "Result for TorchTrainer_f5d3e478:\n",
      "  _time_this_iter_s: 6.303240776062012\n",
      "  _timestamp: 1662590048\n",
      "  _training_iteration: 5\n",
      "  avg_loss: 89.98462485820055\n",
      "  date: 2022-09-07_22-34-08\n",
      "  done: true\n",
      "  experiment_id: 3efe267366704a4789979162689c2175\n",
      "  experiment_tag: 16_batch_size=6.0000,format_version=4,future_num_frames=50,history_num_frames=5,model_architecture=resnet50,render_ego_history=False,step_time=0.1000,dataset_meta_key=meta_json,disable_traffic_light_faces=False,ego_center=0_25_0_5,filter_agents_threshold=0.5000,map_type=py_semantic,pixel_size=0_5_0_5,raster_size=224_224,satellite_map_key=aerial_map_aerial_map_png,semantic_map_key=semantic_map_semantic_map_pb,set_origin_to_bottom=True,batch_size=12,key=scenes_sample_zarr,num_workers=16,perturb_probability=0.0000,shuffle=True,checkpoint_every_n_steps=10000,eval_every_n_steps=10000,max_num_steps=5,batch_size=12,key=scenes_sample_zarr,num_workers=16,shuffle=False,dataset_key=scenes_sample_zarr,lr=0.0003,max_num_steps=5,num_workers=4,shuffle=True\n",
      "  hostname: anish-l5-kit\n",
      "  iterations_since_restore: 5\n",
      "  loss: 37.48554611206055\n",
      "  node_ip: 10.150.0.3\n",
      "  pid: 2178\n",
      "  should_checkpoint: true\n",
      "  time_since_restore: 41.13374900817871\n",
      "  time_this_iter_s: 5.692748069763184\n",
      "  time_total_s: 41.13374900817871\n",
      "  timestamp: 1662590048\n",
      "  timesteps_since_restore: 0\n",
      "  training_iteration: 5\n",
      "  trial_id: f5d3e478\n",
      "  warmup_time: 0.008968591690063477\n",
      "  \n"
     ]
    },
    {
     "name": "stderr",
     "output_type": "stream",
     "text": [
      "\u001b[34m\u001b[1mwandb\u001b[0m: Adding directory to artifact (/home/jupyter/ray_results/TorchTrainer_2022-09-07_22-21-37/TorchTrainer_15265464_17_batch_size=12.0000,format_version=4,future_num_frames=50,history_num_frames=5,model_architecture=resnet50_2022-09-07_22-33-24/checkpoint_000002)... "
     ]
    },
    {
     "name": "stdout",
     "output_type": "stream",
     "text": [
      "Result for TorchTrainer_15265464:\n",
      "  _time_this_iter_s: 10.981924772262573\n",
      "  _timestamp: 1662590052\n",
      "  _training_iteration: 3\n",
      "  avg_loss: 56.17817338307699\n",
      "  date: 2022-09-07_22-34-13\n",
      "  done: false\n",
      "  experiment_id: 817bf91e82a34130b95a1f3761627e91\n",
      "  hostname: anish-l5-kit\n",
      "  iterations_since_restore: 3\n",
      "  loss: 156.16061401367188\n",
      "  node_ip: 10.150.0.3\n",
      "  pid: 2189\n",
      "  should_checkpoint: true\n",
      "  time_since_restore: 44.60515093803406\n",
      "  time_this_iter_s: 10.528266429901123\n",
      "  time_total_s: 44.60515093803406\n",
      "  timestamp: 1662590053\n",
      "  timesteps_since_restore: 0\n",
      "  training_iteration: 3\n",
      "  trial_id: '15265464'\n",
      "  warmup_time: 0.0057942867279052734\n",
      "  \n"
     ]
    },
    {
     "name": "stderr",
     "output_type": "stream",
     "text": [
      "Done. 1.0s\n"
     ]
    },
    {
     "name": "stdout",
     "output_type": "stream",
     "text": [
      "\u001b[2m\u001b[36m(RayTrainWorker pid=2324)\u001b[0m {'loss': 44.489566802978516, 'avg_loss': 53.25602173805237}\n",
      "Result for TorchTrainer_15265464:\n",
      "  _time_this_iter_s: 9.347875833511353\n",
      "  _timestamp: 1662590062\n",
      "  _training_iteration: 4\n",
      "  avg_loss: 53.25602173805237\n",
      "  date: 2022-09-07_22-34-22\n",
      "  done: false\n",
      "  experiment_id: 817bf91e82a34130b95a1f3761627e91\n",
      "  hostname: anish-l5-kit\n",
      "  iterations_since_restore: 4\n",
      "  loss: 44.489566802978516\n",
      "  node_ip: 10.150.0.3\n",
      "  pid: 2189\n",
      "  should_checkpoint: true\n",
      "  time_since_restore: 54.025665283203125\n",
      "  time_this_iter_s: 9.420514345169067\n",
      "  time_total_s: 54.025665283203125\n",
      "  timestamp: 1662590062\n",
      "  timesteps_since_restore: 0\n",
      "  training_iteration: 4\n",
      "  trial_id: '15265464'\n",
      "  warmup_time: 0.0057942867279052734\n",
      "  \n"
     ]
    },
    {
     "name": "stderr",
     "output_type": "stream",
     "text": [
      "\u001b[34m\u001b[1mwandb\u001b[0m: Adding directory to artifact (/home/jupyter/ray_results/TorchTrainer_2022-09-07_22-21-37/TorchTrainer_15265464_17_batch_size=12.0000,format_version=4,future_num_frames=50,history_num_frames=5,model_architecture=resnet50_2022-09-07_22-33-24/checkpoint_000003)... Done. 1.1s\n",
      "\u001b[2m\u001b[36m(RayTrainWorker pid=3359)\u001b[0m 2022-09-07 22:34:25,476\tINFO config.py:72 -- Setting up process group for: env:// [rank=0, world_size=1]\n",
      "\u001b[2m\u001b[36m(RayTrainWorker pid=3359)\u001b[0m /opt/conda/lib/python3.7/site-packages/l5kit/planning/rasterized/model.py:31: UserWarning: There is no pre-trained model with num_in_channels != 3, first layer will be reset\n",
      "\u001b[2m\u001b[36m(RayTrainWorker pid=3359)\u001b[0m   warnings.warn(\"There is no pre-trained model with num_in_channels != 3, first layer will be reset\")\n",
      "\u001b[2m\u001b[36m(RayTrainWorker pid=3359)\u001b[0m /opt/conda/lib/python3.7/site-packages/torchvision/models/_utils.py:209: UserWarning: The parameter 'pretrained' is deprecated since 0.13 and will be removed in 0.15, please use 'weights' instead.\n",
      "\u001b[2m\u001b[36m(RayTrainWorker pid=3359)\u001b[0m   f\"The parameter '{pretrained_param}' is deprecated since 0.13 and will be removed in 0.15, \"\n",
      "\u001b[2m\u001b[36m(RayTrainWorker pid=3359)\u001b[0m /opt/conda/lib/python3.7/site-packages/torchvision/models/_utils.py:223: UserWarning: Arguments other than a weight enum or `None` for 'weights' are deprecated since 0.13 and will be removed in 0.15. The current behavior is equivalent to passing `weights=ResNet50_Weights.IMAGENET1K_V1`. You can also use `weights=ResNet50_Weights.DEFAULT` to get the most up-to-date weights.\n",
      "\u001b[2m\u001b[36m(RayTrainWorker pid=3359)\u001b[0m   warnings.warn(msg)\n",
      "\u001b[2m\u001b[36m(RayTrainWorker pid=3359)\u001b[0m 2022-09-07 22:34:31,787\tINFO train_loop_utils.py:300 -- Moving model to device: cpu\n"
     ]
    },
    {
     "name": "stdout",
     "output_type": "stream",
     "text": [
      "\u001b[2m\u001b[36m(RayTrainWorker pid=2324)\u001b[0m {'loss': 137.02883911132812, 'avg_loss': 70.01058521270753}\n"
     ]
    },
    {
     "name": "stderr",
     "output_type": "stream",
     "text": [
      "\u001b[34m\u001b[1mwandb\u001b[0m: Adding directory to artifact (/home/jupyter/ray_results/TorchTrainer_2022-09-07_22-21-37/TorchTrainer_15265464_17_batch_size=12.0000,format_version=4,future_num_frames=50,history_num_frames=5,model_architecture=resnet50_2022-09-07_22-33-24/checkpoint_000004)... "
     ]
    },
    {
     "name": "stdout",
     "output_type": "stream",
     "text": [
      "Result for TorchTrainer_15265464:\n",
      "  _time_this_iter_s: 11.592853546142578\n",
      "  _timestamp: 1662590073\n",
      "  _training_iteration: 5\n",
      "  avg_loss: 70.01058521270753\n",
      "  date: 2022-09-07_22-34-34\n",
      "  done: false\n",
      "  experiment_id: 817bf91e82a34130b95a1f3761627e91\n",
      "  hostname: anish-l5-kit\n",
      "  iterations_since_restore: 5\n",
      "  loss: 137.02883911132812\n",
      "  node_ip: 10.150.0.3\n",
      "  pid: 2189\n",
      "  should_checkpoint: true\n",
      "  time_since_restore: 65.83392667770386\n",
      "  time_this_iter_s: 11.808261394500732\n",
      "  time_total_s: 65.83392667770386\n",
      "  timestamp: 1662590074\n",
      "  timesteps_since_restore: 0\n",
      "  training_iteration: 5\n",
      "  trial_id: '15265464'\n",
      "  warmup_time: 0.0057942867279052734\n",
      "  \n"
     ]
    },
    {
     "name": "stderr",
     "output_type": "stream",
     "text": [
      "Done. 1.0s\n",
      "\u001b[34m\u001b[1mwandb\u001b[0m: Adding directory to artifact (/home/jupyter/ray_results/TorchTrainer_2022-09-07_22-21-37/TorchTrainer_15265464_17_batch_size=12.0000,format_version=4,future_num_frames=50,history_num_frames=5,model_architecture=resnet50_2022-09-07_22-33-24/checkpoint_000004)... Done. 0.2s\n"
     ]
    },
    {
     "data": {
      "text/html": [
       "Waiting for W&B process to finish... <strong style=\"color:green\">(success).</strong>"
      ],
      "text/plain": [
       "<IPython.core.display.HTML object>"
      ]
     },
     "metadata": {},
     "output_type": "display_data"
    },
    {
     "data": {
      "application/vnd.jupyter.widget-view+json": {
       "model_id": "1a6136324b5746d8a9588f0a311d98ea",
       "version_major": 2,
       "version_minor": 0
      },
      "text/plain": [
       "VBox(children=(Label(value='457.135 MB of 457.135 MB uploaded (91.307 MB deduped)\\r'), FloatProgress(value=1.0…"
      ]
     },
     "metadata": {},
     "output_type": "display_data"
    },
    {
     "data": {
      "text/html": [
       "W&B sync reduced upload amount by 20.0%             "
      ],
      "text/plain": [
       "<IPython.core.display.HTML object>"
      ]
     },
     "metadata": {},
     "output_type": "display_data"
    },
    {
     "data": {
      "text/html": [
       "<style>\n",
       "    table.wandb td:nth-child(1) { padding: 0 10px; text-align: left ; width: auto;} td:nth-child(2) {text-align: left ; width: 100%}\n",
       "    .wandb-row { display: flex; flex-direction: row; flex-wrap: wrap; justify-content: flex-start; width: 100% }\n",
       "    .wandb-col { display: flex; flex-direction: column; flex-basis: 100%; flex: 1; padding: 10px; }\n",
       "    </style>\n",
       "<div class=\"wandb-row\"><div class=\"wandb-col\"><h3>Run history:</h3><br/><table class=\"wandb\"><tr><td>avg_loss</td><td>▁▂▇▆█</td></tr><tr><td>iterations_since_restore</td><td>▁▃▅▆█</td></tr><tr><td>loss</td><td>▁▂█▃▇</td></tr><tr><td>time_since_restore</td><td>▁▃▄▆█</td></tr><tr><td>time_this_iter_s</td><td>█▁▂▁▂</td></tr><tr><td>time_total_s</td><td>▁▃▄▆█</td></tr><tr><td>timestamp</td><td>▁▃▅▆█</td></tr><tr><td>timesteps_since_restore</td><td>▁▁▁▁▁</td></tr><tr><td>training_iteration</td><td>▁▃▅▆█</td></tr><tr><td>warmup_time</td><td>▁▁▁▁▁</td></tr></table><br/></div><div class=\"wandb-col\"><h3>Run summary:</h3><br/><table class=\"wandb\"><tr><td>avg_loss</td><td>70.01059</td></tr><tr><td>iterations_since_restore</td><td>5</td></tr><tr><td>loss</td><td>137.02884</td></tr><tr><td>time_since_restore</td><td>65.83393</td></tr><tr><td>time_this_iter_s</td><td>11.80826</td></tr><tr><td>time_total_s</td><td>65.83393</td></tr><tr><td>timestamp</td><td>1662590074</td></tr><tr><td>timesteps_since_restore</td><td>0</td></tr><tr><td>training_iteration</td><td>5</td></tr><tr><td>warmup_time</td><td>0.00579</td></tr></table><br/></div></div>"
      ],
      "text/plain": [
       "<IPython.core.display.HTML object>"
      ]
     },
     "metadata": {},
     "output_type": "display_data"
    },
    {
     "data": {
      "text/html": [
       "Synced <strong style=\"color:#cdcd00\">TorchTrainer_15265464</strong>: <a href=\"https://wandb.ai/l5-demo/l5-simulation-trials/runs/15265464\" target=\"_blank\">https://wandb.ai/l5-demo/l5-simulation-trials/runs/15265464</a><br/>Synced 7 W&B file(s), 0 media file(s), 12 artifact file(s) and 1 other file(s)"
      ],
      "text/plain": [
       "<IPython.core.display.HTML object>"
      ]
     },
     "metadata": {},
     "output_type": "display_data"
    },
    {
     "data": {
      "text/html": [
       "Find logs at: <code>./wandb/run-20220907_223324-15265464/logs</code>"
      ],
      "text/plain": [
       "<IPython.core.display.HTML object>"
      ]
     },
     "metadata": {},
     "output_type": "display_data"
    },
    {
     "name": "stdout",
     "output_type": "stream",
     "text": [
      "Result for TorchTrainer_15265464:\n",
      "  _time_this_iter_s: 11.592853546142578\n",
      "  _timestamp: 1662590073\n",
      "  _training_iteration: 5\n",
      "  avg_loss: 70.01058521270753\n",
      "  date: 2022-09-07_22-34-34\n",
      "  done: true\n",
      "  experiment_id: 817bf91e82a34130b95a1f3761627e91\n",
      "  experiment_tag: 17_batch_size=12.0000,format_version=4,future_num_frames=50,history_num_frames=5,model_architecture=resnet50,render_ego_history=False,step_time=0.1000,dataset_meta_key=meta_json,disable_traffic_light_faces=False,ego_center=0_25_0_5,filter_agents_threshold=0.5000,map_type=py_semantic,pixel_size=0_5_0_5,raster_size=224_224,satellite_map_key=aerial_map_aerial_map_png,semantic_map_key=semantic_map_semantic_map_pb,set_origin_to_bottom=True,batch_size=12,key=scenes_sample_zarr,num_workers=16,perturb_probability=0.0000,shuffle=True,checkpoint_every_n_steps=10000,eval_every_n_steps=10000,max_num_steps=5,batch_size=12,key=scenes_sample_zarr,num_workers=16,shuffle=False,dataset_key=scenes_sample_zarr,lr=0.0003,max_num_steps=5,num_workers=4,shuffle=True\n",
      "  hostname: anish-l5-kit\n",
      "  iterations_since_restore: 5\n",
      "  loss: 137.02883911132812\n",
      "  node_ip: 10.150.0.3\n",
      "  pid: 2189\n",
      "  should_checkpoint: true\n",
      "  time_since_restore: 65.83392667770386\n",
      "  time_this_iter_s: 11.808261394500732\n",
      "  time_total_s: 65.83392667770386\n",
      "  timestamp: 1662590074\n",
      "  timesteps_since_restore: 0\n",
      "  training_iteration: 5\n",
      "  trial_id: '15265464'\n",
      "  warmup_time: 0.0057942867279052734\n",
      "  \n",
      "\u001b[2m\u001b[36m(RayTrainWorker pid=3359)\u001b[0m {'loss': 15.795732498168945, 'avg_loss': 15.795732498168945}\n"
     ]
    },
    {
     "name": "stderr",
     "output_type": "stream",
     "text": [
      "\u001b[34m\u001b[1mwandb\u001b[0m: Adding directory to artifact (/home/jupyter/ray_results/TorchTrainer_2022-09-07_22-21-37/TorchTrainer_159ff6e8_18_batch_size=12.0000,format_version=4,future_num_frames=50,history_num_frames=5,model_architecture=resnet50_2022-09-07_22-34-18/checkpoint_000000)... "
     ]
    },
    {
     "name": "stdout",
     "output_type": "stream",
     "text": [
      "Result for TorchTrainer_159ff6e8:\n",
      "  _time_this_iter_s: 16.67856788635254\n",
      "  _timestamp: 1662590082\n",
      "  _training_iteration: 1\n",
      "  avg_loss: 15.795732498168945\n",
      "  date: 2022-09-07_22-34-43\n",
      "  done: false\n",
      "  experiment_id: bbe776729fbd4182ad958f66eaea87b1\n",
      "  hostname: anish-l5-kit\n",
      "  iterations_since_restore: 1\n",
      "  loss: 15.795732498168945\n",
      "  node_ip: 10.150.0.3\n",
      "  pid: 3288\n",
      "  should_checkpoint: true\n",
      "  time_since_restore: 21.183704376220703\n",
      "  time_this_iter_s: 21.183704376220703\n",
      "  time_total_s: 21.183704376220703\n",
      "  timestamp: 1662590083\n",
      "  timesteps_since_restore: 0\n",
      "  training_iteration: 1\n",
      "  trial_id: 159ff6e8\n",
      "  warmup_time: 0.009635448455810547\n",
      "  \n"
     ]
    },
    {
     "name": "stderr",
     "output_type": "stream",
     "text": [
      "Done. 1.1s\n",
      "\u001b[2m\u001b[36m(RayTrainWorker pid=3728)\u001b[0m 2022-09-07 22:34:50,562\tINFO config.py:72 -- Setting up process group for: env:// [rank=0, world_size=1]\n"
     ]
    },
    {
     "name": "stdout",
     "output_type": "stream",
     "text": [
      "\u001b[2m\u001b[36m(RayTrainWorker pid=3359)\u001b[0m {'loss': 43.568843841552734, 'avg_loss': 29.68228816986084}\n"
     ]
    },
    {
     "name": "stderr",
     "output_type": "stream",
     "text": [
      "\u001b[34m\u001b[1mwandb\u001b[0m: Adding directory to artifact (/home/jupyter/ray_results/TorchTrainer_2022-09-07_22-21-37/TorchTrainer_159ff6e8_18_batch_size=12.0000,format_version=4,future_num_frames=50,history_num_frames=5,model_architecture=resnet50_2022-09-07_22-34-18/checkpoint_000001)... "
     ]
    },
    {
     "name": "stdout",
     "output_type": "stream",
     "text": [
      "Result for TorchTrainer_159ff6e8:\n",
      "  _time_this_iter_s: 11.980476379394531\n",
      "  _timestamp: 1662590094\n",
      "  _training_iteration: 2\n",
      "  avg_loss: 29.68228816986084\n",
      "  date: 2022-09-07_22-34-55\n",
      "  done: false\n",
      "  experiment_id: bbe776729fbd4182ad958f66eaea87b1\n",
      "  hostname: anish-l5-kit\n",
      "  iterations_since_restore: 2\n",
      "  loss: 43.568843841552734\n",
      "  node_ip: 10.150.0.3\n",
      "  pid: 3288\n",
      "  should_checkpoint: true\n",
      "  time_since_restore: 33.21362566947937\n",
      "  time_this_iter_s: 12.029921293258667\n",
      "  time_total_s: 33.21362566947937\n",
      "  timestamp: 1662590095\n",
      "  timesteps_since_restore: 0\n",
      "  training_iteration: 2\n",
      "  trial_id: 159ff6e8\n",
      "  warmup_time: 0.009635448455810547\n",
      "  \n"
     ]
    },
    {
     "name": "stderr",
     "output_type": "stream",
     "text": [
      "\u001b[2m\u001b[36m(RayTrainWorker pid=3728)\u001b[0m /opt/conda/lib/python3.7/site-packages/l5kit/planning/rasterized/model.py:31: UserWarning: There is no pre-trained model with num_in_channels != 3, first layer will be reset\n",
      "\u001b[2m\u001b[36m(RayTrainWorker pid=3728)\u001b[0m   warnings.warn(\"There is no pre-trained model with num_in_channels != 3, first layer will be reset\")\n",
      "\u001b[2m\u001b[36m(RayTrainWorker pid=3728)\u001b[0m /opt/conda/lib/python3.7/site-packages/torchvision/models/_utils.py:209: UserWarning: The parameter 'pretrained' is deprecated since 0.13 and will be removed in 0.15, please use 'weights' instead.\n",
      "\u001b[2m\u001b[36m(RayTrainWorker pid=3728)\u001b[0m   f\"The parameter '{pretrained_param}' is deprecated since 0.13 and will be removed in 0.15, \"\n",
      "\u001b[2m\u001b[36m(RayTrainWorker pid=3728)\u001b[0m /opt/conda/lib/python3.7/site-packages/torchvision/models/_utils.py:223: UserWarning: Arguments other than a weight enum or `None` for 'weights' are deprecated since 0.13 and will be removed in 0.15. The current behavior is equivalent to passing `weights=ResNet50_Weights.IMAGENET1K_V1`. You can also use `weights=ResNet50_Weights.DEFAULT` to get the most up-to-date weights.\n",
      "\u001b[2m\u001b[36m(RayTrainWorker pid=3728)\u001b[0m   warnings.warn(msg)\n",
      "\u001b[2m\u001b[36m(RayTrainWorker pid=3728)\u001b[0m 2022-09-07 22:34:56,715\tINFO train_loop_utils.py:300 -- Moving model to device: cpu\n",
      "Done. 1.7s\n"
     ]
    },
    {
     "name": "stdout",
     "output_type": "stream",
     "text": [
      "\u001b[2m\u001b[36m(RayTrainWorker pid=3359)\u001b[0m {'loss': 5.805562973022461, 'avg_loss': 21.723379770914715}\n"
     ]
    },
    {
     "name": "stderr",
     "output_type": "stream",
     "text": [
      "\u001b[34m\u001b[1mwandb\u001b[0m: Adding directory to artifact (/home/jupyter/ray_results/TorchTrainer_2022-09-07_22-21-37/TorchTrainer_159ff6e8_18_batch_size=12.0000,format_version=4,future_num_frames=50,history_num_frames=5,model_architecture=resnet50_2022-09-07_22-34-18/checkpoint_000002)... "
     ]
    },
    {
     "name": "stdout",
     "output_type": "stream",
     "text": [
      "Result for TorchTrainer_159ff6e8:\n",
      "  _time_this_iter_s: 11.766469717025757\n",
      "  _timestamp: 1662590106\n",
      "  _training_iteration: 3\n",
      "  avg_loss: 21.723379770914715\n",
      "  date: 2022-09-07_22-35-07\n",
      "  done: false\n",
      "  experiment_id: bbe776729fbd4182ad958f66eaea87b1\n",
      "  hostname: anish-l5-kit\n",
      "  iterations_since_restore: 3\n",
      "  loss: 5.805562973022461\n",
      "  node_ip: 10.150.0.3\n",
      "  pid: 3288\n",
      "  should_checkpoint: true\n",
      "  time_since_restore: 44.988534450531006\n",
      "  time_this_iter_s: 11.774908781051636\n",
      "  time_total_s: 44.988534450531006\n",
      "  timestamp: 1662590107\n",
      "  timesteps_since_restore: 0\n",
      "  training_iteration: 3\n",
      "  trial_id: 159ff6e8\n",
      "  warmup_time: 0.009635448455810547\n",
      "  \n"
     ]
    },
    {
     "name": "stderr",
     "output_type": "stream",
     "text": [
      "Done. 1.1s\n"
     ]
    },
    {
     "name": "stdout",
     "output_type": "stream",
     "text": [
      "\u001b[2m\u001b[36m(RayTrainWorker pid=3728)\u001b[0m {'loss': 5.4092206954956055, 'avg_loss': 5.4092206954956055}\n",
      "Result for TorchTrainer_35c84b5a:\n",
      "  _time_this_iter_s: 19.037570476531982\n",
      "  _timestamp: 1662590110\n",
      "  _training_iteration: 1\n",
      "  avg_loss: 5.4092206954956055\n",
      "  date: 2022-09-07_22-35-10\n",
      "  done: false\n",
      "  experiment_id: 668f4e8699cd4ec4aeecd0f6ba224cbf\n",
      "  hostname: anish-l5-kit\n",
      "  iterations_since_restore: 1\n",
      "  loss: 5.4092206954956055\n",
      "  node_ip: 10.150.0.3\n",
      "  pid: 3654\n",
      "  should_checkpoint: true\n",
      "  time_since_restore: 23.22676968574524\n",
      "  time_this_iter_s: 23.22676968574524\n",
      "  time_total_s: 23.22676968574524\n",
      "  timestamp: 1662590110\n",
      "  timesteps_since_restore: 0\n",
      "  training_iteration: 1\n",
      "  trial_id: 35c84b5a\n",
      "  warmup_time: 0.0054776668548583984\n",
      "  \n"
     ]
    },
    {
     "name": "stderr",
     "output_type": "stream",
     "text": [
      "\u001b[34m\u001b[1mwandb\u001b[0m: Adding directory to artifact (/home/jupyter/ray_results/TorchTrainer_2022-09-07_22-21-37/TorchTrainer_35c84b5a_19_batch_size=12.0000,format_version=4,future_num_frames=50,history_num_frames=5,model_architecture=resnet50_2022-09-07_22-34-43/checkpoint_000000)... Done. 1.0s\n"
     ]
    },
    {
     "name": "stdout",
     "output_type": "stream",
     "text": [
      "\u001b[2m\u001b[36m(RayTrainWorker pid=3359)\u001b[0m {'loss': 27.10579490661621, 'avg_loss': 23.068983554840088}\n"
     ]
    },
    {
     "name": "stderr",
     "output_type": "stream",
     "text": [
      "\u001b[34m\u001b[1mwandb\u001b[0m: Adding directory to artifact (/home/jupyter/ray_results/TorchTrainer_2022-09-07_22-21-37/TorchTrainer_159ff6e8_18_batch_size=12.0000,format_version=4,future_num_frames=50,history_num_frames=5,model_architecture=resnet50_2022-09-07_22-34-18/checkpoint_000003)... "
     ]
    },
    {
     "name": "stdout",
     "output_type": "stream",
     "text": [
      "Result for TorchTrainer_159ff6e8:\n",
      "  _time_this_iter_s: 9.239076375961304\n",
      "  _timestamp: 1662590115\n",
      "  _training_iteration: 4\n",
      "  avg_loss: 23.068983554840088\n",
      "  date: 2022-09-07_22-35-16\n",
      "  done: false\n",
      "  experiment_id: bbe776729fbd4182ad958f66eaea87b1\n",
      "  hostname: anish-l5-kit\n",
      "  iterations_since_restore: 4\n",
      "  loss: 27.10579490661621\n",
      "  node_ip: 10.150.0.3\n",
      "  pid: 3288\n",
      "  should_checkpoint: true\n",
      "  time_since_restore: 54.121458768844604\n",
      "  time_this_iter_s: 9.132924318313599\n",
      "  time_total_s: 54.121458768844604\n",
      "  timestamp: 1662590116\n",
      "  timesteps_since_restore: 0\n",
      "  training_iteration: 4\n",
      "  trial_id: 159ff6e8\n",
      "  warmup_time: 0.009635448455810547\n",
      "  \n"
     ]
    },
    {
     "name": "stderr",
     "output_type": "stream",
     "text": [
      "Done. 1.0s\n"
     ]
    },
    {
     "name": "stdout",
     "output_type": "stream",
     "text": [
      "\u001b[2m\u001b[36m(RayTrainWorker pid=3728)\u001b[0m {'loss': 78.5600357055664, 'avg_loss': 41.984628200531006}\n"
     ]
    },
    {
     "name": "stderr",
     "output_type": "stream",
     "text": [
      "\u001b[34m\u001b[1mwandb\u001b[0m: Adding directory to artifact (/home/jupyter/ray_results/TorchTrainer_2022-09-07_22-21-37/TorchTrainer_35c84b5a_19_batch_size=12.0000,format_version=4,future_num_frames=50,history_num_frames=5,model_architecture=resnet50_2022-09-07_22-34-43/checkpoint_000001)... "
     ]
    },
    {
     "name": "stdout",
     "output_type": "stream",
     "text": [
      "Result for TorchTrainer_35c84b5a:\n",
      "  _time_this_iter_s: 9.531437158584595\n",
      "  _timestamp: 1662590119\n",
      "  _training_iteration: 2\n",
      "  avg_loss: 41.984628200531006\n",
      "  date: 2022-09-07_22-35-20\n",
      "  done: false\n",
      "  experiment_id: 668f4e8699cd4ec4aeecd0f6ba224cbf\n",
      "  hostname: anish-l5-kit\n",
      "  iterations_since_restore: 2\n",
      "  loss: 78.5600357055664\n",
      "  node_ip: 10.150.0.3\n",
      "  pid: 3654\n",
      "  should_checkpoint: true\n",
      "  time_since_restore: 32.67402482032776\n",
      "  time_this_iter_s: 9.44725513458252\n",
      "  time_total_s: 32.67402482032776\n",
      "  timestamp: 1662590120\n",
      "  timesteps_since_restore: 0\n",
      "  training_iteration: 2\n",
      "  trial_id: 35c84b5a\n",
      "  warmup_time: 0.0054776668548583984\n",
      "  \n"
     ]
    },
    {
     "name": "stderr",
     "output_type": "stream",
     "text": [
      "Done. 1.1s\n"
     ]
    },
    {
     "name": "stdout",
     "output_type": "stream",
     "text": [
      "\u001b[2m\u001b[36m(RayTrainWorker pid=3359)\u001b[0m {'loss': 148.98915100097656, 'avg_loss': 48.253017044067384}\n"
     ]
    },
    {
     "name": "stderr",
     "output_type": "stream",
     "text": [
      "\u001b[34m\u001b[1mwandb\u001b[0m: Adding directory to artifact (/home/jupyter/ray_results/TorchTrainer_2022-09-07_22-21-37/TorchTrainer_159ff6e8_18_batch_size=12.0000,format_version=4,future_num_frames=50,history_num_frames=5,model_architecture=resnet50_2022-09-07_22-34-18/checkpoint_000004)... "
     ]
    },
    {
     "name": "stdout",
     "output_type": "stream",
     "text": [
      "Result for TorchTrainer_159ff6e8:\n",
      "  _time_this_iter_s: 8.941566467285156\n",
      "  _timestamp: 1662590124\n",
      "  _training_iteration: 5\n",
      "  avg_loss: 48.253017044067384\n",
      "  date: 2022-09-07_22-35-25\n",
      "  done: false\n",
      "  experiment_id: bbe776729fbd4182ad958f66eaea87b1\n",
      "  hostname: anish-l5-kit\n",
      "  iterations_since_restore: 5\n",
      "  loss: 148.98915100097656\n",
      "  node_ip: 10.150.0.3\n",
      "  pid: 3288\n",
      "  should_checkpoint: true\n",
      "  time_since_restore: 63.080604553222656\n",
      "  time_this_iter_s: 8.959145784378052\n",
      "  time_total_s: 63.080604553222656\n",
      "  timestamp: 1662590125\n",
      "  timesteps_since_restore: 0\n",
      "  training_iteration: 5\n",
      "  trial_id: 159ff6e8\n",
      "  warmup_time: 0.009635448455810547\n",
      "  \n"
     ]
    },
    {
     "name": "stderr",
     "output_type": "stream",
     "text": [
      "Done. 1.0s\n",
      "\u001b[34m\u001b[1mwandb\u001b[0m: Adding directory to artifact (/home/jupyter/ray_results/TorchTrainer_2022-09-07_22-21-37/TorchTrainer_159ff6e8_18_batch_size=12.0000,format_version=4,future_num_frames=50,history_num_frames=5,model_architecture=resnet50_2022-09-07_22-34-18/checkpoint_000004)... Done. 0.3s\n"
     ]
    },
    {
     "data": {
      "text/html": [
       "Waiting for W&B process to finish... <strong style=\"color:green\">(success).</strong>"
      ],
      "text/plain": [
       "<IPython.core.display.HTML object>"
      ]
     },
     "metadata": {},
     "output_type": "display_data"
    },
    {
     "name": "stdout",
     "output_type": "stream",
     "text": [
      "\u001b[2m\u001b[36m(RayTrainWorker pid=3728)\u001b[0m {'loss': 74.47563934326172, 'avg_loss': 52.81496524810791}\n"
     ]
    },
    {
     "data": {
      "application/vnd.jupyter.widget-view+json": {
       "model_id": "6fab9d31ad9a4b3d90bc1001eed7efcb",
       "version_major": 2,
       "version_minor": 0
      },
      "text/plain": [
       "VBox(children=(Label(value='457.135 MB of 457.135 MB uploaded (91.307 MB deduped)\\r'), FloatProgress(value=1.0…"
      ]
     },
     "metadata": {},
     "output_type": "display_data"
    },
    {
     "data": {
      "text/html": [
       "W&B sync reduced upload amount by 20.0%             "
      ],
      "text/plain": [
       "<IPython.core.display.HTML object>"
      ]
     },
     "metadata": {},
     "output_type": "display_data"
    },
    {
     "data": {
      "text/html": [
       "<style>\n",
       "    table.wandb td:nth-child(1) { padding: 0 10px; text-align: left ; width: auto;} td:nth-child(2) {text-align: left ; width: 100%}\n",
       "    .wandb-row { display: flex; flex-direction: row; flex-wrap: wrap; justify-content: flex-start; width: 100% }\n",
       "    .wandb-col { display: flex; flex-direction: column; flex-basis: 100%; flex: 1; padding: 10px; }\n",
       "    </style>\n",
       "<div class=\"wandb-row\"><div class=\"wandb-col\"><h3>Run history:</h3><br/><table class=\"wandb\"><tr><td>avg_loss</td><td>▁▄▂▃█</td></tr><tr><td>iterations_since_restore</td><td>▁▃▅▆█</td></tr><tr><td>loss</td><td>▁▃▁▂█</td></tr><tr><td>time_since_restore</td><td>▁▃▅▇█</td></tr><tr><td>time_this_iter_s</td><td>█▃▃▁▁</td></tr><tr><td>time_total_s</td><td>▁▃▅▇█</td></tr><tr><td>timestamp</td><td>▁▃▅▇█</td></tr><tr><td>timesteps_since_restore</td><td>▁▁▁▁▁</td></tr><tr><td>training_iteration</td><td>▁▃▅▆█</td></tr><tr><td>warmup_time</td><td>▁▁▁▁▁</td></tr></table><br/></div><div class=\"wandb-col\"><h3>Run summary:</h3><br/><table class=\"wandb\"><tr><td>avg_loss</td><td>48.25302</td></tr><tr><td>iterations_since_restore</td><td>5</td></tr><tr><td>loss</td><td>148.98915</td></tr><tr><td>time_since_restore</td><td>63.0806</td></tr><tr><td>time_this_iter_s</td><td>8.95915</td></tr><tr><td>time_total_s</td><td>63.0806</td></tr><tr><td>timestamp</td><td>1662590125</td></tr><tr><td>timesteps_since_restore</td><td>0</td></tr><tr><td>training_iteration</td><td>5</td></tr><tr><td>warmup_time</td><td>0.00964</td></tr></table><br/></div></div>"
      ],
      "text/plain": [
       "<IPython.core.display.HTML object>"
      ]
     },
     "metadata": {},
     "output_type": "display_data"
    },
    {
     "data": {
      "text/html": [
       "Synced <strong style=\"color:#cdcd00\">TorchTrainer_159ff6e8</strong>: <a href=\"https://wandb.ai/l5-demo/l5-simulation-trials/runs/159ff6e8\" target=\"_blank\">https://wandb.ai/l5-demo/l5-simulation-trials/runs/159ff6e8</a><br/>Synced 7 W&B file(s), 0 media file(s), 12 artifact file(s) and 1 other file(s)"
      ],
      "text/plain": [
       "<IPython.core.display.HTML object>"
      ]
     },
     "metadata": {},
     "output_type": "display_data"
    },
    {
     "data": {
      "text/html": [
       "Find logs at: <code>./wandb/run-20220907_223418-159ff6e8/logs</code>"
      ],
      "text/plain": [
       "<IPython.core.display.HTML object>"
      ]
     },
     "metadata": {},
     "output_type": "display_data"
    },
    {
     "name": "stdout",
     "output_type": "stream",
     "text": [
      "Result for TorchTrainer_159ff6e8:\n",
      "  _time_this_iter_s: 8.941566467285156\n",
      "  _timestamp: 1662590124\n",
      "  _training_iteration: 5\n",
      "  avg_loss: 48.253017044067384\n",
      "  date: 2022-09-07_22-35-25\n",
      "  done: true\n",
      "  experiment_id: bbe776729fbd4182ad958f66eaea87b1\n",
      "  experiment_tag: 18_batch_size=12.0000,format_version=4,future_num_frames=50,history_num_frames=5,model_architecture=resnet50,render_ego_history=False,step_time=0.1000,dataset_meta_key=meta_json,disable_traffic_light_faces=False,ego_center=0_25_0_5,filter_agents_threshold=0.5000,map_type=py_semantic,pixel_size=0_5_0_5,raster_size=224_224,satellite_map_key=aerial_map_aerial_map_png,semantic_map_key=semantic_map_semantic_map_pb,set_origin_to_bottom=True,batch_size=12,key=scenes_sample_zarr,num_workers=16,perturb_probability=0.0000,shuffle=True,checkpoint_every_n_steps=10000,eval_every_n_steps=10000,max_num_steps=5,batch_size=12,key=scenes_sample_zarr,num_workers=16,shuffle=False,dataset_key=scenes_sample_zarr,lr=0.0003,max_num_steps=5,num_workers=4,shuffle=True\n",
      "  hostname: anish-l5-kit\n",
      "  iterations_since_restore: 5\n",
      "  loss: 148.98915100097656\n",
      "  node_ip: 10.150.0.3\n",
      "  pid: 3288\n",
      "  should_checkpoint: true\n",
      "  time_since_restore: 63.080604553222656\n",
      "  time_this_iter_s: 8.959145784378052\n",
      "  time_total_s: 63.080604553222656\n",
      "  timestamp: 1662590125\n",
      "  timesteps_since_restore: 0\n",
      "  training_iteration: 5\n",
      "  trial_id: 159ff6e8\n",
      "  warmup_time: 0.009635448455810547\n",
      "  \n"
     ]
    },
    {
     "name": "stderr",
     "output_type": "stream",
     "text": [
      "\u001b[34m\u001b[1mwandb\u001b[0m: Adding directory to artifact (/home/jupyter/ray_results/TorchTrainer_2022-09-07_22-21-37/TorchTrainer_35c84b5a_19_batch_size=12.0000,format_version=4,future_num_frames=50,history_num_frames=5,model_architecture=resnet50_2022-09-07_22-34-43/checkpoint_000002)... "
     ]
    },
    {
     "name": "stdout",
     "output_type": "stream",
     "text": [
      "Result for TorchTrainer_35c84b5a:\n",
      "  _time_this_iter_s: 8.982773303985596\n",
      "  _timestamp: 1662590128\n",
      "  _training_iteration: 3\n",
      "  avg_loss: 52.81496524810791\n",
      "  date: 2022-09-07_22-35-29\n",
      "  done: false\n",
      "  experiment_id: 668f4e8699cd4ec4aeecd0f6ba224cbf\n",
      "  hostname: anish-l5-kit\n",
      "  iterations_since_restore: 3\n",
      "  loss: 74.47563934326172\n",
      "  node_ip: 10.150.0.3\n",
      "  pid: 3654\n",
      "  should_checkpoint: true\n",
      "  time_since_restore: 41.619145154953\n",
      "  time_this_iter_s: 8.945120334625244\n",
      "  time_total_s: 41.619145154953\n",
      "  timestamp: 1662590129\n",
      "  timesteps_since_restore: 0\n",
      "  training_iteration: 3\n",
      "  trial_id: 35c84b5a\n",
      "  warmup_time: 0.0054776668548583984\n",
      "  \n"
     ]
    },
    {
     "name": "stderr",
     "output_type": "stream",
     "text": [
      "Done. 1.0s\n"
     ]
    },
    {
     "name": "stdout",
     "output_type": "stream",
     "text": [
      "\u001b[2m\u001b[36m(RayTrainWorker pid=3728)\u001b[0m {'loss': 44.893157958984375, 'avg_loss': 50.834513425827026}\n"
     ]
    },
    {
     "name": "stderr",
     "output_type": "stream",
     "text": [
      "\u001b[34m\u001b[1mwandb\u001b[0m: Adding directory to artifact (/home/jupyter/ray_results/TorchTrainer_2022-09-07_22-21-37/TorchTrainer_35c84b5a_19_batch_size=12.0000,format_version=4,future_num_frames=50,history_num_frames=5,model_architecture=resnet50_2022-09-07_22-34-43/checkpoint_000003)... Done. 1.0s\n",
      "\u001b[2m\u001b[36m(RayTrainWorker pid=4628)\u001b[0m 2022-09-07 22:35:43,523\tINFO config.py:72 -- Setting up process group for: env:// [rank=0, world_size=1]\n"
     ]
    },
    {
     "name": "stdout",
     "output_type": "stream",
     "text": [
      "\u001b[2m\u001b[36m(RayTrainWorker pid=3728)\u001b[0m {'loss': 40.69707107543945, 'avg_loss': 48.80702495574951}\n"
     ]
    },
    {
     "name": "stderr",
     "output_type": "stream",
     "text": [
      "\u001b[34m\u001b[1mwandb\u001b[0m: Adding directory to artifact (/home/jupyter/ray_results/TorchTrainer_2022-09-07_22-21-37/TorchTrainer_35c84b5a_19_batch_size=12.0000,format_version=4,future_num_frames=50,history_num_frames=5,model_architecture=resnet50_2022-09-07_22-34-43/checkpoint_000004)... "
     ]
    },
    {
     "name": "stdout",
     "output_type": "stream",
     "text": [
      "Result for TorchTrainer_35c84b5a:\n",
      "  _time_this_iter_s: 10.709978103637695\n",
      "  _timestamp: 1662590147\n",
      "  _training_iteration: 5\n",
      "  avg_loss: 48.80702495574951\n",
      "  date: 2022-09-07_22-35-48\n",
      "  done: false\n",
      "  experiment_id: 668f4e8699cd4ec4aeecd0f6ba224cbf\n",
      "  hostname: anish-l5-kit\n",
      "  iterations_since_restore: 5\n",
      "  loss: 40.69707107543945\n",
      "  node_ip: 10.150.0.3\n",
      "  pid: 3654\n",
      "  should_checkpoint: true\n",
      "  time_since_restore: 60.876083850860596\n",
      "  time_this_iter_s: 10.632569551467896\n",
      "  time_total_s: 60.876083850860596\n",
      "  timestamp: 1662590148\n",
      "  timesteps_since_restore: 0\n",
      "  training_iteration: 5\n",
      "  trial_id: 35c84b5a\n",
      "  warmup_time: 0.0054776668548583984\n",
      "  \n"
     ]
    },
    {
     "name": "stderr",
     "output_type": "stream",
     "text": [
      "\u001b[2m\u001b[36m(RayTrainWorker pid=4628)\u001b[0m /opt/conda/lib/python3.7/site-packages/l5kit/planning/rasterized/model.py:31: UserWarning: There is no pre-trained model with num_in_channels != 3, first layer will be reset\n",
      "\u001b[2m\u001b[36m(RayTrainWorker pid=4628)\u001b[0m   warnings.warn(\"There is no pre-trained model with num_in_channels != 3, first layer will be reset\")\n",
      "\u001b[2m\u001b[36m(RayTrainWorker pid=4628)\u001b[0m /opt/conda/lib/python3.7/site-packages/torchvision/models/_utils.py:209: UserWarning: The parameter 'pretrained' is deprecated since 0.13 and will be removed in 0.15, please use 'weights' instead.\n",
      "\u001b[2m\u001b[36m(RayTrainWorker pid=4628)\u001b[0m   f\"The parameter '{pretrained_param}' is deprecated since 0.13 and will be removed in 0.15, \"\n",
      "\u001b[2m\u001b[36m(RayTrainWorker pid=4628)\u001b[0m /opt/conda/lib/python3.7/site-packages/torchvision/models/_utils.py:223: UserWarning: Arguments other than a weight enum or `None` for 'weights' are deprecated since 0.13 and will be removed in 0.15. The current behavior is equivalent to passing `weights=ResNet50_Weights.IMAGENET1K_V1`. You can also use `weights=ResNet50_Weights.DEFAULT` to get the most up-to-date weights.\n",
      "\u001b[2m\u001b[36m(RayTrainWorker pid=4628)\u001b[0m   warnings.warn(msg)\n",
      "Done. 1.0s\n",
      "\u001b[34m\u001b[1mwandb\u001b[0m: Adding directory to artifact (/home/jupyter/ray_results/TorchTrainer_2022-09-07_22-21-37/TorchTrainer_35c84b5a_19_batch_size=12.0000,format_version=4,future_num_frames=50,history_num_frames=5,model_architecture=resnet50_2022-09-07_22-34-43/checkpoint_000004)... Done. 0.3s\n",
      "\u001b[2m\u001b[36m(RayTrainWorker pid=4628)\u001b[0m 2022-09-07 22:35:49,537\tINFO train_loop_utils.py:300 -- Moving model to device: cpu\n"
     ]
    },
    {
     "data": {
      "text/html": [
       "Waiting for W&B process to finish... <strong style=\"color:green\">(success).</strong>"
      ],
      "text/plain": [
       "<IPython.core.display.HTML object>"
      ]
     },
     "metadata": {},
     "output_type": "display_data"
    },
    {
     "data": {
      "application/vnd.jupyter.widget-view+json": {
       "model_id": "612e83572e58478281f1681281c6c246",
       "version_major": 2,
       "version_minor": 0
      },
      "text/plain": [
       "VBox(children=(Label(value='457.135 MB of 457.135 MB uploaded (91.307 MB deduped)\\r'), FloatProgress(value=1.0…"
      ]
     },
     "metadata": {},
     "output_type": "display_data"
    },
    {
     "data": {
      "text/html": [
       "W&B sync reduced upload amount by 20.0%             "
      ],
      "text/plain": [
       "<IPython.core.display.HTML object>"
      ]
     },
     "metadata": {},
     "output_type": "display_data"
    },
    {
     "data": {
      "text/html": [
       "<style>\n",
       "    table.wandb td:nth-child(1) { padding: 0 10px; text-align: left ; width: auto;} td:nth-child(2) {text-align: left ; width: 100%}\n",
       "    .wandb-row { display: flex; flex-direction: row; flex-wrap: wrap; justify-content: flex-start; width: 100% }\n",
       "    .wandb-col { display: flex; flex-direction: column; flex-basis: 100%; flex: 1; padding: 10px; }\n",
       "    </style>\n",
       "<div class=\"wandb-row\"><div class=\"wandb-col\"><h3>Run history:</h3><br/><table class=\"wandb\"><tr><td>avg_loss</td><td>▁▆██▇</td></tr><tr><td>iterations_since_restore</td><td>▁▃▅▆█</td></tr><tr><td>loss</td><td>▁██▅▄</td></tr><tr><td>time_since_restore</td><td>▁▃▄▆█</td></tr><tr><td>time_this_iter_s</td><td>█▁▁▁▂</td></tr><tr><td>time_total_s</td><td>▁▃▄▆█</td></tr><tr><td>timestamp</td><td>▁▃▅▆█</td></tr><tr><td>timesteps_since_restore</td><td>▁▁▁▁▁</td></tr><tr><td>training_iteration</td><td>▁▃▅▆█</td></tr><tr><td>warmup_time</td><td>▁▁▁▁▁</td></tr></table><br/></div><div class=\"wandb-col\"><h3>Run summary:</h3><br/><table class=\"wandb\"><tr><td>avg_loss</td><td>48.80702</td></tr><tr><td>iterations_since_restore</td><td>5</td></tr><tr><td>loss</td><td>40.69707</td></tr><tr><td>time_since_restore</td><td>60.87608</td></tr><tr><td>time_this_iter_s</td><td>10.63257</td></tr><tr><td>time_total_s</td><td>60.87608</td></tr><tr><td>timestamp</td><td>1662590148</td></tr><tr><td>timesteps_since_restore</td><td>0</td></tr><tr><td>training_iteration</td><td>5</td></tr><tr><td>warmup_time</td><td>0.00548</td></tr></table><br/></div></div>"
      ],
      "text/plain": [
       "<IPython.core.display.HTML object>"
      ]
     },
     "metadata": {},
     "output_type": "display_data"
    },
    {
     "data": {
      "text/html": [
       "Synced <strong style=\"color:#cdcd00\">TorchTrainer_35c84b5a</strong>: <a href=\"https://wandb.ai/l5-demo/l5-simulation-trials/runs/35c84b5a\" target=\"_blank\">https://wandb.ai/l5-demo/l5-simulation-trials/runs/35c84b5a</a><br/>Synced 7 W&B file(s), 0 media file(s), 12 artifact file(s) and 1 other file(s)"
      ],
      "text/plain": [
       "<IPython.core.display.HTML object>"
      ]
     },
     "metadata": {},
     "output_type": "display_data"
    },
    {
     "data": {
      "text/html": [
       "Find logs at: <code>./wandb/run-20220907_223443-35c84b5a/logs</code>"
      ],
      "text/plain": [
       "<IPython.core.display.HTML object>"
      ]
     },
     "metadata": {},
     "output_type": "display_data"
    },
    {
     "name": "stdout",
     "output_type": "stream",
     "text": [
      "Result for TorchTrainer_35c84b5a:\n",
      "  _time_this_iter_s: 10.709978103637695\n",
      "  _timestamp: 1662590147\n",
      "  _training_iteration: 5\n",
      "  avg_loss: 48.80702495574951\n",
      "  date: 2022-09-07_22-35-48\n",
      "  done: true\n",
      "  experiment_id: 668f4e8699cd4ec4aeecd0f6ba224cbf\n",
      "  experiment_tag: 19_batch_size=12.0000,format_version=4,future_num_frames=50,history_num_frames=5,model_architecture=resnet50,render_ego_history=False,step_time=0.1000,dataset_meta_key=meta_json,disable_traffic_light_faces=False,ego_center=0_25_0_5,filter_agents_threshold=0.5000,map_type=py_semantic,pixel_size=0_5_0_5,raster_size=224_224,satellite_map_key=aerial_map_aerial_map_png,semantic_map_key=semantic_map_semantic_map_pb,set_origin_to_bottom=True,batch_size=12,key=scenes_sample_zarr,num_workers=16,perturb_probability=0.0000,shuffle=True,checkpoint_every_n_steps=10000,eval_every_n_steps=10000,max_num_steps=5,batch_size=12,key=scenes_sample_zarr,num_workers=16,shuffle=False,dataset_key=scenes_sample_zarr,lr=0.0002,max_num_steps=5,num_workers=4,shuffle=True\n",
      "  hostname: anish-l5-kit\n",
      "  iterations_since_restore: 5\n",
      "  loss: 40.69707107543945\n",
      "  node_ip: 10.150.0.3\n",
      "  pid: 3654\n",
      "  should_checkpoint: true\n",
      "  time_since_restore: 60.876083850860596\n",
      "  time_this_iter_s: 10.632569551467896\n",
      "  time_total_s: 60.876083850860596\n",
      "  timestamp: 1662590148\n",
      "  timesteps_since_restore: 0\n",
      "  training_iteration: 5\n",
      "  trial_id: 35c84b5a\n",
      "  warmup_time: 0.0054776668548583984\n",
      "  \n"
     ]
    },
    {
     "name": "stderr",
     "output_type": "stream",
     "text": [
      "\u001b[2m\u001b[36m(RayTrainWorker pid=5326)\u001b[0m 2022-09-07 22:36:06,733\tINFO config.py:72 -- Setting up process group for: env:// [rank=0, world_size=1]\n"
     ]
    },
    {
     "name": "stdout",
     "output_type": "stream",
     "text": [
      "\u001b[2m\u001b[36m(RayTrainWorker pid=4628)\u001b[0m {'loss': 58.441532135009766, 'avg_loss': 58.441532135009766}\n"
     ]
    },
    {
     "name": "stderr",
     "output_type": "stream",
     "text": [
      "\u001b[34m\u001b[1mwandb\u001b[0m: Adding directory to artifact (/home/jupyter/ray_results/TorchTrainer_2022-09-07_22-21-37/TorchTrainer_44d11b86_20_batch_size=18.0000,format_version=4,future_num_frames=50,history_num_frames=5,model_architecture=resnet50_2022-09-07_22-35-35/checkpoint_000000)... "
     ]
    },
    {
     "name": "stdout",
     "output_type": "stream",
     "text": [
      "Result for TorchTrainer_44d11b86:\n",
      "  _time_this_iter_s: 25.10494565963745\n",
      "  _timestamp: 1662590169\n",
      "  _training_iteration: 1\n",
      "  avg_loss: 58.441532135009766\n",
      "  date: 2022-09-07_22-36-09\n",
      "  done: false\n",
      "  experiment_id: 9f3f3051004e4b289b41f982734c46b0\n",
      "  hostname: anish-l5-kit\n",
      "  iterations_since_restore: 1\n",
      "  loss: 58.441532135009766\n",
      "  node_ip: 10.150.0.3\n",
      "  pid: 4539\n",
      "  should_checkpoint: true\n",
      "  time_since_restore: 29.421180963516235\n",
      "  time_this_iter_s: 29.421180963516235\n",
      "  time_total_s: 29.421180963516235\n",
      "  timestamp: 1662590169\n",
      "  timesteps_since_restore: 0\n",
      "  training_iteration: 1\n",
      "  trial_id: 44d11b86\n",
      "  warmup_time: 0.008868932723999023\n",
      "  \n"
     ]
    },
    {
     "name": "stderr",
     "output_type": "stream",
     "text": [
      "Done. 1.0s\n",
      "\u001b[2m\u001b[36m(RayTrainWorker pid=5326)\u001b[0m /opt/conda/lib/python3.7/site-packages/l5kit/planning/rasterized/model.py:31: UserWarning: There is no pre-trained model with num_in_channels != 3, first layer will be reset\n",
      "\u001b[2m\u001b[36m(RayTrainWorker pid=5326)\u001b[0m   warnings.warn(\"There is no pre-trained model with num_in_channels != 3, first layer will be reset\")\n",
      "\u001b[2m\u001b[36m(RayTrainWorker pid=5326)\u001b[0m /opt/conda/lib/python3.7/site-packages/torchvision/models/_utils.py:209: UserWarning: The parameter 'pretrained' is deprecated since 0.13 and will be removed in 0.15, please use 'weights' instead.\n",
      "\u001b[2m\u001b[36m(RayTrainWorker pid=5326)\u001b[0m   f\"The parameter '{pretrained_param}' is deprecated since 0.13 and will be removed in 0.15, \"\n",
      "\u001b[2m\u001b[36m(RayTrainWorker pid=5326)\u001b[0m /opt/conda/lib/python3.7/site-packages/torchvision/models/_utils.py:223: UserWarning: Arguments other than a weight enum or `None` for 'weights' are deprecated since 0.13 and will be removed in 0.15. The current behavior is equivalent to passing `weights=ResNet50_Weights.IMAGENET1K_V1`. You can also use `weights=ResNet50_Weights.DEFAULT` to get the most up-to-date weights.\n",
      "\u001b[2m\u001b[36m(RayTrainWorker pid=5326)\u001b[0m   warnings.warn(msg)\n",
      "\u001b[2m\u001b[36m(RayTrainWorker pid=5326)\u001b[0m 2022-09-07 22:36:13,935\tINFO train_loop_utils.py:300 -- Moving model to device: cpu\n"
     ]
    },
    {
     "name": "stdout",
     "output_type": "stream",
     "text": [
      "\u001b[2m\u001b[36m(RayTrainWorker pid=4628)\u001b[0m {'loss': 14.283161163330078, 'avg_loss': 36.36234664916992}\n"
     ]
    },
    {
     "name": "stderr",
     "output_type": "stream",
     "text": [
      "\u001b[34m\u001b[1mwandb\u001b[0m: Adding directory to artifact (/home/jupyter/ray_results/TorchTrainer_2022-09-07_22-21-37/TorchTrainer_44d11b86_20_batch_size=18.0000,format_version=4,future_num_frames=50,history_num_frames=5,model_architecture=resnet50_2022-09-07_22-35-35/checkpoint_000001)... "
     ]
    },
    {
     "name": "stdout",
     "output_type": "stream",
     "text": [
      "Result for TorchTrainer_44d11b86:\n",
      "  _time_this_iter_s: 15.268676280975342\n",
      "  _timestamp: 1662590184\n",
      "  _training_iteration: 2\n",
      "  avg_loss: 36.36234664916992\n",
      "  date: 2022-09-07_22-36-24\n",
      "  done: false\n",
      "  experiment_id: 9f3f3051004e4b289b41f982734c46b0\n",
      "  hostname: anish-l5-kit\n",
      "  iterations_since_restore: 2\n",
      "  loss: 14.283161163330078\n",
      "  node_ip: 10.150.0.3\n",
      "  pid: 4539\n",
      "  should_checkpoint: true\n",
      "  time_since_restore: 44.613630294799805\n",
      "  time_this_iter_s: 15.19244933128357\n",
      "  time_total_s: 44.613630294799805\n",
      "  timestamp: 1662590184\n",
      "  timesteps_since_restore: 0\n",
      "  training_iteration: 2\n",
      "  trial_id: 44d11b86\n",
      "  warmup_time: 0.008868932723999023\n",
      "  \n"
     ]
    },
    {
     "name": "stderr",
     "output_type": "stream",
     "text": [
      "Done. 1.0s\n"
     ]
    },
    {
     "name": "stdout",
     "output_type": "stream",
     "text": [
      "\u001b[2m\u001b[36m(RayTrainWorker pid=5326)\u001b[0m {'loss': 35.3824577331543, 'avg_loss': 35.3824577331543}\n"
     ]
    },
    {
     "name": "stderr",
     "output_type": "stream",
     "text": [
      "\u001b[34m\u001b[1mwandb\u001b[0m: Adding directory to artifact (/home/jupyter/ray_results/TorchTrainer_2022-09-07_22-21-37/TorchTrainer_63f4c242_21_batch_size=18.0000,format_version=4,future_num_frames=50,history_num_frames=5,model_architecture=resnet50_2022-09-07_22-35-58/checkpoint_000000)... "
     ]
    },
    {
     "name": "stdout",
     "output_type": "stream",
     "text": [
      "Result for TorchTrainer_63f4c242:\n",
      "  _time_this_iter_s: 24.128557682037354\n",
      "  _timestamp: 1662590191\n",
      "  _training_iteration: 1\n",
      "  avg_loss: 35.3824577331543\n",
      "  date: 2022-09-07_22-36-31\n",
      "  done: false\n",
      "  experiment_id: 00c2c9ca69e7494c9efc0894351f0cf8\n",
      "  hostname: anish-l5-kit\n",
      "  iterations_since_restore: 1\n",
      "  loss: 35.3824577331543\n",
      "  node_ip: 10.150.0.3\n",
      "  pid: 4822\n",
      "  should_checkpoint: true\n",
      "  time_since_restore: 27.8669490814209\n",
      "  time_this_iter_s: 27.8669490814209\n",
      "  time_total_s: 27.8669490814209\n",
      "  timestamp: 1662590191\n",
      "  timesteps_since_restore: 0\n",
      "  training_iteration: 1\n",
      "  trial_id: 63f4c242\n",
      "  warmup_time: 0.014725685119628906\n",
      "  \n"
     ]
    },
    {
     "name": "stderr",
     "output_type": "stream",
     "text": [
      "Done. 1.1s\n"
     ]
    },
    {
     "name": "stdout",
     "output_type": "stream",
     "text": [
      "\u001b[2m\u001b[36m(RayTrainWorker pid=4628)\u001b[0m {'loss': 1.2859759330749512, 'avg_loss': 24.670223077138264}\n"
     ]
    },
    {
     "name": "stderr",
     "output_type": "stream",
     "text": [
      "\u001b[34m\u001b[1mwandb\u001b[0m: Adding directory to artifact (/home/jupyter/ray_results/TorchTrainer_2022-09-07_22-21-37/TorchTrainer_44d11b86_20_batch_size=18.0000,format_version=4,future_num_frames=50,history_num_frames=5,model_architecture=resnet50_2022-09-07_22-35-35/checkpoint_000002)... "
     ]
    },
    {
     "name": "stdout",
     "output_type": "stream",
     "text": [
      "Result for TorchTrainer_44d11b86:\n",
      "  _time_this_iter_s: 14.53411602973938\n",
      "  _timestamp: 1662590198\n",
      "  _training_iteration: 3\n",
      "  avg_loss: 24.670223077138264\n",
      "  date: 2022-09-07_22-36-39\n",
      "  done: false\n",
      "  experiment_id: 9f3f3051004e4b289b41f982734c46b0\n",
      "  hostname: anish-l5-kit\n",
      "  iterations_since_restore: 3\n",
      "  loss: 1.2859759330749512\n",
      "  node_ip: 10.150.0.3\n",
      "  pid: 4539\n",
      "  should_checkpoint: true\n",
      "  time_since_restore: 59.11141610145569\n",
      "  time_this_iter_s: 14.497785806655884\n",
      "  time_total_s: 59.11141610145569\n",
      "  timestamp: 1662590199\n",
      "  timesteps_since_restore: 0\n",
      "  training_iteration: 3\n",
      "  trial_id: 44d11b86\n",
      "  warmup_time: 0.008868932723999023\n",
      "  \n"
     ]
    },
    {
     "name": "stderr",
     "output_type": "stream",
     "text": [
      "Done. 1.0s\n"
     ]
    },
    {
     "name": "stdout",
     "output_type": "stream",
     "text": [
      "\u001b[2m\u001b[36m(RayTrainWorker pid=5326)\u001b[0m {'loss': 152.71226501464844, 'avg_loss': 94.04736137390137}\n"
     ]
    },
    {
     "name": "stderr",
     "output_type": "stream",
     "text": [
      "\u001b[34m\u001b[1mwandb\u001b[0m: Adding directory to artifact (/home/jupyter/ray_results/TorchTrainer_2022-09-07_22-21-37/TorchTrainer_63f4c242_21_batch_size=18.0000,format_version=4,future_num_frames=50,history_num_frames=5,model_architecture=resnet50_2022-09-07_22-35-58/checkpoint_000001)... "
     ]
    },
    {
     "name": "stdout",
     "output_type": "stream",
     "text": [
      "Result for TorchTrainer_63f4c242:\n",
      "  _time_this_iter_s: 14.006881713867188\n",
      "  _timestamp: 1662590205\n",
      "  _training_iteration: 2\n",
      "  avg_loss: 94.04736137390137\n",
      "  date: 2022-09-07_22-36-45\n",
      "  done: false\n",
      "  experiment_id: 00c2c9ca69e7494c9efc0894351f0cf8\n",
      "  hostname: anish-l5-kit\n",
      "  iterations_since_restore: 2\n",
      "  loss: 152.71226501464844\n",
      "  node_ip: 10.150.0.3\n",
      "  pid: 4822\n",
      "  should_checkpoint: true\n",
      "  time_since_restore: 41.82793712615967\n",
      "  time_this_iter_s: 13.96098804473877\n",
      "  time_total_s: 41.82793712615967\n",
      "  timestamp: 1662590205\n",
      "  timesteps_since_restore: 0\n",
      "  training_iteration: 2\n",
      "  trial_id: 63f4c242\n",
      "  warmup_time: 0.014725685119628906\n",
      "  \n"
     ]
    },
    {
     "name": "stderr",
     "output_type": "stream",
     "text": [
      "Done. 1.1s\n"
     ]
    },
    {
     "name": "stdout",
     "output_type": "stream",
     "text": [
      "\u001b[2m\u001b[36m(RayTrainWorker pid=4628)\u001b[0m {'loss': 86.61248779296875, 'avg_loss': 40.155789256095886}\n"
     ]
    },
    {
     "name": "stderr",
     "output_type": "stream",
     "text": [
      "\u001b[34m\u001b[1mwandb\u001b[0m: Adding directory to artifact (/home/jupyter/ray_results/TorchTrainer_2022-09-07_22-21-37/TorchTrainer_44d11b86_20_batch_size=18.0000,format_version=4,future_num_frames=50,history_num_frames=5,model_architecture=resnet50_2022-09-07_22-35-35/checkpoint_000003)... "
     ]
    },
    {
     "name": "stdout",
     "output_type": "stream",
     "text": [
      "Result for TorchTrainer_44d11b86:\n",
      "  _time_this_iter_s: 14.15595531463623\n",
      "  _timestamp: 1662590213\n",
      "  _training_iteration: 4\n",
      "  avg_loss: 40.155789256095886\n",
      "  date: 2022-09-07_22-36-53\n",
      "  done: false\n",
      "  experiment_id: 9f3f3051004e4b289b41f982734c46b0\n",
      "  hostname: anish-l5-kit\n",
      "  iterations_since_restore: 4\n",
      "  loss: 86.61248779296875\n",
      "  node_ip: 10.150.0.3\n",
      "  pid: 4539\n",
      "  should_checkpoint: true\n",
      "  time_since_restore: 73.25057172775269\n",
      "  time_this_iter_s: 14.139155626296997\n",
      "  time_total_s: 73.25057172775269\n",
      "  timestamp: 1662590213\n",
      "  timesteps_since_restore: 0\n",
      "  training_iteration: 4\n",
      "  trial_id: 44d11b86\n",
      "  warmup_time: 0.008868932723999023\n",
      "  \n"
     ]
    },
    {
     "name": "stderr",
     "output_type": "stream",
     "text": [
      "Done. 1.1s\n"
     ]
    },
    {
     "name": "stdout",
     "output_type": "stream",
     "text": [
      "\u001b[2m\u001b[36m(RayTrainWorker pid=5326)\u001b[0m {'loss': 115.54216766357422, 'avg_loss': 101.21229680379231}\n"
     ]
    },
    {
     "name": "stderr",
     "output_type": "stream",
     "text": [
      "\u001b[34m\u001b[1mwandb\u001b[0m: Adding directory to artifact (/home/jupyter/ray_results/TorchTrainer_2022-09-07_22-21-37/TorchTrainer_63f4c242_21_batch_size=18.0000,format_version=4,future_num_frames=50,history_num_frames=5,model_architecture=resnet50_2022-09-07_22-35-58/checkpoint_000002)... "
     ]
    },
    {
     "name": "stdout",
     "output_type": "stream",
     "text": [
      "Result for TorchTrainer_63f4c242:\n",
      "  _time_this_iter_s: 13.285151958465576\n",
      "  _timestamp: 1662590218\n",
      "  _training_iteration: 3\n",
      "  avg_loss: 101.21229680379231\n",
      "  date: 2022-09-07_22-36-59\n",
      "  done: false\n",
      "  experiment_id: 00c2c9ca69e7494c9efc0894351f0cf8\n",
      "  hostname: anish-l5-kit\n",
      "  iterations_since_restore: 3\n",
      "  loss: 115.54216766357422\n",
      "  node_ip: 10.150.0.3\n",
      "  pid: 4822\n",
      "  should_checkpoint: true\n",
      "  time_since_restore: 55.21828055381775\n",
      "  time_this_iter_s: 13.390343427658081\n",
      "  time_total_s: 55.21828055381775\n",
      "  timestamp: 1662590219\n",
      "  timesteps_since_restore: 0\n",
      "  training_iteration: 3\n",
      "  trial_id: 63f4c242\n",
      "  warmup_time: 0.014725685119628906\n",
      "  \n"
     ]
    },
    {
     "name": "stderr",
     "output_type": "stream",
     "text": [
      "Done. 1.5s\n"
     ]
    },
    {
     "name": "stdout",
     "output_type": "stream",
     "text": [
      "\u001b[2m\u001b[36m(RayTrainWorker pid=4628)\u001b[0m {'loss': 25.575414657592773, 'avg_loss': 37.23971433639527}\n"
     ]
    },
    {
     "name": "stderr",
     "output_type": "stream",
     "text": [
      "\u001b[34m\u001b[1mwandb\u001b[0m: Adding directory to artifact (/home/jupyter/ray_results/TorchTrainer_2022-09-07_22-21-37/TorchTrainer_44d11b86_20_batch_size=18.0000,format_version=4,future_num_frames=50,history_num_frames=5,model_architecture=resnet50_2022-09-07_22-35-35/checkpoint_000004)... "
     ]
    },
    {
     "name": "stdout",
     "output_type": "stream",
     "text": [
      "Result for TorchTrainer_44d11b86:\n",
      "  _time_this_iter_s: 15.40588665008545\n",
      "  _timestamp: 1662590228\n",
      "  _training_iteration: 5\n",
      "  avg_loss: 37.23971433639527\n",
      "  date: 2022-09-07_22-37-08\n",
      "  done: false\n",
      "  experiment_id: 9f3f3051004e4b289b41f982734c46b0\n",
      "  hostname: anish-l5-kit\n",
      "  iterations_since_restore: 5\n",
      "  loss: 25.575414657592773\n",
      "  node_ip: 10.150.0.3\n",
      "  pid: 4539\n",
      "  should_checkpoint: true\n",
      "  time_since_restore: 88.67522358894348\n",
      "  time_this_iter_s: 15.424651861190796\n",
      "  time_total_s: 88.67522358894348\n",
      "  timestamp: 1662590228\n",
      "  timesteps_since_restore: 0\n",
      "  training_iteration: 5\n",
      "  trial_id: 44d11b86\n",
      "  warmup_time: 0.008868932723999023\n",
      "  \n"
     ]
    },
    {
     "name": "stderr",
     "output_type": "stream",
     "text": [
      "Done. 1.0s\n",
      "\u001b[34m\u001b[1mwandb\u001b[0m: Adding directory to artifact (/home/jupyter/ray_results/TorchTrainer_2022-09-07_22-21-37/TorchTrainer_44d11b86_20_batch_size=18.0000,format_version=4,future_num_frames=50,history_num_frames=5,model_architecture=resnet50_2022-09-07_22-35-35/checkpoint_000004)... Done. 0.3s\n"
     ]
    },
    {
     "data": {
      "text/html": [
       "Waiting for W&B process to finish... <strong style=\"color:green\">(success).</strong>"
      ],
      "text/plain": [
       "<IPython.core.display.HTML object>"
      ]
     },
     "metadata": {},
     "output_type": "display_data"
    },
    {
     "name": "stdout",
     "output_type": "stream",
     "text": [
      "\u001b[2m\u001b[36m(RayTrainWorker pid=5326)\u001b[0m {'loss': 33.9464111328125, 'avg_loss': 84.39582538604736}\n"
     ]
    },
    {
     "data": {
      "application/vnd.jupyter.widget-view+json": {
       "model_id": "e11b2d624a654c8a956767c12b8c4dee",
       "version_major": 2,
       "version_minor": 0
      },
      "text/plain": [
       "VBox(children=(Label(value='457.170 MB of 457.170 MB uploaded (91.307 MB deduped)\\r'), FloatProgress(value=1.0…"
      ]
     },
     "metadata": {},
     "output_type": "display_data"
    },
    {
     "data": {
      "text/html": [
       "W&B sync reduced upload amount by 20.0%             "
      ],
      "text/plain": [
       "<IPython.core.display.HTML object>"
      ]
     },
     "metadata": {},
     "output_type": "display_data"
    },
    {
     "data": {
      "text/html": [
       "<style>\n",
       "    table.wandb td:nth-child(1) { padding: 0 10px; text-align: left ; width: auto;} td:nth-child(2) {text-align: left ; width: 100%}\n",
       "    .wandb-row { display: flex; flex-direction: row; flex-wrap: wrap; justify-content: flex-start; width: 100% }\n",
       "    .wandb-col { display: flex; flex-direction: column; flex-basis: 100%; flex: 1; padding: 10px; }\n",
       "    </style>\n",
       "<div class=\"wandb-row\"><div class=\"wandb-col\"><h3>Run history:</h3><br/><table class=\"wandb\"><tr><td>avg_loss</td><td>█▃▁▄▄</td></tr><tr><td>iterations_since_restore</td><td>▁▃▅▆█</td></tr><tr><td>loss</td><td>▆▂▁█▃</td></tr><tr><td>time_since_restore</td><td>▁▃▅▆█</td></tr><tr><td>time_this_iter_s</td><td>█▁▁▁▂</td></tr><tr><td>time_total_s</td><td>▁▃▅▆█</td></tr><tr><td>timestamp</td><td>▁▃▅▆█</td></tr><tr><td>timesteps_since_restore</td><td>▁▁▁▁▁</td></tr><tr><td>training_iteration</td><td>▁▃▅▆█</td></tr><tr><td>warmup_time</td><td>▁▁▁▁▁</td></tr></table><br/></div><div class=\"wandb-col\"><h3>Run summary:</h3><br/><table class=\"wandb\"><tr><td>avg_loss</td><td>37.23971</td></tr><tr><td>iterations_since_restore</td><td>5</td></tr><tr><td>loss</td><td>25.57541</td></tr><tr><td>time_since_restore</td><td>88.67522</td></tr><tr><td>time_this_iter_s</td><td>15.42465</td></tr><tr><td>time_total_s</td><td>88.67522</td></tr><tr><td>timestamp</td><td>1662590228</td></tr><tr><td>timesteps_since_restore</td><td>0</td></tr><tr><td>training_iteration</td><td>5</td></tr><tr><td>warmup_time</td><td>0.00887</td></tr></table><br/></div></div>"
      ],
      "text/plain": [
       "<IPython.core.display.HTML object>"
      ]
     },
     "metadata": {},
     "output_type": "display_data"
    },
    {
     "data": {
      "text/html": [
       "Synced <strong style=\"color:#cdcd00\">TorchTrainer_44d11b86</strong>: <a href=\"https://wandb.ai/l5-demo/l5-simulation-trials/runs/44d11b86\" target=\"_blank\">https://wandb.ai/l5-demo/l5-simulation-trials/runs/44d11b86</a><br/>Synced 7 W&B file(s), 0 media file(s), 12 artifact file(s) and 1 other file(s)"
      ],
      "text/plain": [
       "<IPython.core.display.HTML object>"
      ]
     },
     "metadata": {},
     "output_type": "display_data"
    },
    {
     "data": {
      "text/html": [
       "Find logs at: <code>./wandb/run-20220907_223535-44d11b86/logs</code>"
      ],
      "text/plain": [
       "<IPython.core.display.HTML object>"
      ]
     },
     "metadata": {},
     "output_type": "display_data"
    },
    {
     "name": "stdout",
     "output_type": "stream",
     "text": [
      "Result for TorchTrainer_44d11b86:\n",
      "  _time_this_iter_s: 15.40588665008545\n",
      "  _timestamp: 1662590228\n",
      "  _training_iteration: 5\n",
      "  avg_loss: 37.23971433639527\n",
      "  date: 2022-09-07_22-37-08\n",
      "  done: true\n",
      "  experiment_id: 9f3f3051004e4b289b41f982734c46b0\n",
      "  experiment_tag: 20_batch_size=18.0000,format_version=4,future_num_frames=50,history_num_frames=5,model_architecture=resnet50,render_ego_history=False,step_time=0.1000,dataset_meta_key=meta_json,disable_traffic_light_faces=False,ego_center=0_25_0_5,filter_agents_threshold=0.5000,map_type=py_semantic,pixel_size=0_5_0_5,raster_size=224_224,satellite_map_key=aerial_map_aerial_map_png,semantic_map_key=semantic_map_semantic_map_pb,set_origin_to_bottom=True,batch_size=12,key=scenes_sample_zarr,num_workers=16,perturb_probability=0.0000,shuffle=True,checkpoint_every_n_steps=10000,eval_every_n_steps=10000,max_num_steps=5,batch_size=12,key=scenes_sample_zarr,num_workers=16,shuffle=False,dataset_key=scenes_sample_zarr,lr=0.0011,max_num_steps=5,num_workers=4,shuffle=True\n",
      "  hostname: anish-l5-kit\n",
      "  iterations_since_restore: 5\n",
      "  loss: 25.575414657592773\n",
      "  node_ip: 10.150.0.3\n",
      "  pid: 4539\n",
      "  should_checkpoint: true\n",
      "  time_since_restore: 88.67522358894348\n",
      "  time_this_iter_s: 15.424651861190796\n",
      "  time_total_s: 88.67522358894348\n",
      "  timestamp: 1662590228\n",
      "  timesteps_since_restore: 0\n",
      "  training_iteration: 5\n",
      "  trial_id: 44d11b86\n",
      "  warmup_time: 0.008868932723999023\n",
      "  \n"
     ]
    },
    {
     "name": "stderr",
     "output_type": "stream",
     "text": [
      "\u001b[34m\u001b[1mwandb\u001b[0m: Adding directory to artifact (/home/jupyter/ray_results/TorchTrainer_2022-09-07_22-21-37/TorchTrainer_63f4c242_21_batch_size=18.0000,format_version=4,future_num_frames=50,history_num_frames=5,model_architecture=resnet50_2022-09-07_22-35-58/checkpoint_000003)... "
     ]
    },
    {
     "name": "stdout",
     "output_type": "stream",
     "text": [
      "Result for TorchTrainer_63f4c242:\n",
      "  _time_this_iter_s: 14.080241441726685\n",
      "  _timestamp: 1662590232\n",
      "  _training_iteration: 4\n",
      "  avg_loss: 84.39582538604736\n",
      "  date: 2022-09-07_22-37-13\n",
      "  done: false\n",
      "  experiment_id: 00c2c9ca69e7494c9efc0894351f0cf8\n",
      "  hostname: anish-l5-kit\n",
      "  iterations_since_restore: 4\n",
      "  loss: 33.9464111328125\n",
      "  node_ip: 10.150.0.3\n",
      "  pid: 4822\n",
      "  should_checkpoint: true\n",
      "  time_since_restore: 69.13944864273071\n",
      "  time_this_iter_s: 13.921168088912964\n",
      "  time_total_s: 69.13944864273071\n",
      "  timestamp: 1662590233\n",
      "  timesteps_since_restore: 0\n",
      "  training_iteration: 4\n",
      "  trial_id: 63f4c242\n",
      "  warmup_time: 0.014725685119628906\n",
      "  \n"
     ]
    },
    {
     "name": "stderr",
     "output_type": "stream",
     "text": [
      "Done. 1.0s\n"
     ]
    },
    {
     "name": "stdout",
     "output_type": "stream",
     "text": [
      "\u001b[2m\u001b[36m(RayTrainWorker pid=5326)\u001b[0m {'loss': 18.0721435546875, 'avg_loss': 71.13108901977539}\n"
     ]
    },
    {
     "name": "stderr",
     "output_type": "stream",
     "text": [
      "\u001b[34m\u001b[1mwandb\u001b[0m: Adding directory to artifact (/home/jupyter/ray_results/TorchTrainer_2022-09-07_22-21-37/TorchTrainer_63f4c242_21_batch_size=18.0000,format_version=4,future_num_frames=50,history_num_frames=5,model_architecture=resnet50_2022-09-07_22-35-58/checkpoint_000004)... "
     ]
    },
    {
     "name": "stdout",
     "output_type": "stream",
     "text": [
      "Result for TorchTrainer_63f4c242:\n",
      "  _time_this_iter_s: 13.150818109512329\n",
      "  _timestamp: 1662590246\n",
      "  _training_iteration: 5\n",
      "  avg_loss: 71.13108901977539\n",
      "  date: 2022-09-07_22-37-26\n",
      "  done: false\n",
      "  experiment_id: 00c2c9ca69e7494c9efc0894351f0cf8\n",
      "  hostname: anish-l5-kit\n",
      "  iterations_since_restore: 5\n",
      "  loss: 18.0721435546875\n",
      "  node_ip: 10.150.0.3\n",
      "  pid: 4822\n",
      "  should_checkpoint: true\n",
      "  time_since_restore: 82.37583494186401\n",
      "  time_this_iter_s: 13.2363862991333\n",
      "  time_total_s: 82.37583494186401\n",
      "  timestamp: 1662590246\n",
      "  timesteps_since_restore: 0\n",
      "  training_iteration: 5\n",
      "  trial_id: 63f4c242\n",
      "  warmup_time: 0.014725685119628906\n",
      "  \n"
     ]
    },
    {
     "name": "stderr",
     "output_type": "stream",
     "text": [
      "Done. 1.0s\n",
      "\u001b[34m\u001b[1mwandb\u001b[0m: Adding directory to artifact (/home/jupyter/ray_results/TorchTrainer_2022-09-07_22-21-37/TorchTrainer_63f4c242_21_batch_size=18.0000,format_version=4,future_num_frames=50,history_num_frames=5,model_architecture=resnet50_2022-09-07_22-35-58/checkpoint_000004)... Done. 0.3s\n"
     ]
    },
    {
     "data": {
      "text/html": [
       "Waiting for W&B process to finish... <strong style=\"color:green\">(success).</strong>"
      ],
      "text/plain": [
       "<IPython.core.display.HTML object>"
      ]
     },
     "metadata": {},
     "output_type": "display_data"
    },
    {
     "name": "stderr",
     "output_type": "stream",
     "text": [
      "\u001b[2m\u001b[36m(RayTrainWorker pid=6270)\u001b[0m 2022-09-07 22:37:28,530\tINFO config.py:72 -- Setting up process group for: env:// [rank=0, world_size=1]\n"
     ]
    },
    {
     "data": {
      "application/vnd.jupyter.widget-view+json": {
       "model_id": "a28c526704be42a8bc383d21e77f93dd",
       "version_major": 2,
       "version_minor": 0
      },
      "text/plain": [
       "VBox(children=(Label(value='457.170 MB of 457.170 MB uploaded (91.307 MB deduped)\\r'), FloatProgress(value=1.0…"
      ]
     },
     "metadata": {},
     "output_type": "display_data"
    },
    {
     "data": {
      "text/html": [
       "W&B sync reduced upload amount by 20.0%             "
      ],
      "text/plain": [
       "<IPython.core.display.HTML object>"
      ]
     },
     "metadata": {},
     "output_type": "display_data"
    },
    {
     "name": "stderr",
     "output_type": "stream",
     "text": [
      "\u001b[2m\u001b[36m(RayTrainWorker pid=6270)\u001b[0m /opt/conda/lib/python3.7/site-packages/l5kit/planning/rasterized/model.py:31: UserWarning: There is no pre-trained model with num_in_channels != 3, first layer will be reset\n",
      "\u001b[2m\u001b[36m(RayTrainWorker pid=6270)\u001b[0m   warnings.warn(\"There is no pre-trained model with num_in_channels != 3, first layer will be reset\")\n",
      "\u001b[2m\u001b[36m(RayTrainWorker pid=6270)\u001b[0m /opt/conda/lib/python3.7/site-packages/torchvision/models/_utils.py:209: UserWarning: The parameter 'pretrained' is deprecated since 0.13 and will be removed in 0.15, please use 'weights' instead.\n",
      "\u001b[2m\u001b[36m(RayTrainWorker pid=6270)\u001b[0m   f\"The parameter '{pretrained_param}' is deprecated since 0.13 and will be removed in 0.15, \"\n",
      "\u001b[2m\u001b[36m(RayTrainWorker pid=6270)\u001b[0m /opt/conda/lib/python3.7/site-packages/torchvision/models/_utils.py:223: UserWarning: Arguments other than a weight enum or `None` for 'weights' are deprecated since 0.13 and will be removed in 0.15. The current behavior is equivalent to passing `weights=ResNet50_Weights.IMAGENET1K_V1`. You can also use `weights=ResNet50_Weights.DEFAULT` to get the most up-to-date weights.\n",
      "\u001b[2m\u001b[36m(RayTrainWorker pid=6270)\u001b[0m   warnings.warn(msg)\n",
      "\u001b[2m\u001b[36m(RayTrainWorker pid=6270)\u001b[0m 2022-09-07 22:37:33,926\tINFO train_loop_utils.py:300 -- Moving model to device: cpu\n"
     ]
    },
    {
     "data": {
      "text/html": [
       "<style>\n",
       "    table.wandb td:nth-child(1) { padding: 0 10px; text-align: left ; width: auto;} td:nth-child(2) {text-align: left ; width: 100%}\n",
       "    .wandb-row { display: flex; flex-direction: row; flex-wrap: wrap; justify-content: flex-start; width: 100% }\n",
       "    .wandb-col { display: flex; flex-direction: column; flex-basis: 100%; flex: 1; padding: 10px; }\n",
       "    </style>\n",
       "<div class=\"wandb-row\"><div class=\"wandb-col\"><h3>Run history:</h3><br/><table class=\"wandb\"><tr><td>avg_loss</td><td>▁▇█▆▅</td></tr><tr><td>iterations_since_restore</td><td>▁▃▅▆█</td></tr><tr><td>loss</td><td>▂█▆▂▁</td></tr><tr><td>time_since_restore</td><td>▁▃▅▆█</td></tr><tr><td>time_this_iter_s</td><td>█▁▁▁▁</td></tr><tr><td>time_total_s</td><td>▁▃▅▆█</td></tr><tr><td>timestamp</td><td>▁▃▅▆█</td></tr><tr><td>timesteps_since_restore</td><td>▁▁▁▁▁</td></tr><tr><td>training_iteration</td><td>▁▃▅▆█</td></tr><tr><td>warmup_time</td><td>▁▁▁▁▁</td></tr></table><br/></div><div class=\"wandb-col\"><h3>Run summary:</h3><br/><table class=\"wandb\"><tr><td>avg_loss</td><td>71.13109</td></tr><tr><td>iterations_since_restore</td><td>5</td></tr><tr><td>loss</td><td>18.07214</td></tr><tr><td>time_since_restore</td><td>82.37583</td></tr><tr><td>time_this_iter_s</td><td>13.23639</td></tr><tr><td>time_total_s</td><td>82.37583</td></tr><tr><td>timestamp</td><td>1662590246</td></tr><tr><td>timesteps_since_restore</td><td>0</td></tr><tr><td>training_iteration</td><td>5</td></tr><tr><td>warmup_time</td><td>0.01473</td></tr></table><br/></div></div>"
      ],
      "text/plain": [
       "<IPython.core.display.HTML object>"
      ]
     },
     "metadata": {},
     "output_type": "display_data"
    },
    {
     "data": {
      "text/html": [
       "Synced <strong style=\"color:#cdcd00\">TorchTrainer_63f4c242</strong>: <a href=\"https://wandb.ai/l5-demo/l5-simulation-trials/runs/63f4c242\" target=\"_blank\">https://wandb.ai/l5-demo/l5-simulation-trials/runs/63f4c242</a><br/>Synced 7 W&B file(s), 0 media file(s), 12 artifact file(s) and 1 other file(s)"
      ],
      "text/plain": [
       "<IPython.core.display.HTML object>"
      ]
     },
     "metadata": {},
     "output_type": "display_data"
    },
    {
     "data": {
      "text/html": [
       "Find logs at: <code>./wandb/run-20220907_223559-63f4c242/logs</code>"
      ],
      "text/plain": [
       "<IPython.core.display.HTML object>"
      ]
     },
     "metadata": {},
     "output_type": "display_data"
    },
    {
     "name": "stdout",
     "output_type": "stream",
     "text": [
      "Result for TorchTrainer_63f4c242:\n",
      "  _time_this_iter_s: 13.150818109512329\n",
      "  _timestamp: 1662590246\n",
      "  _training_iteration: 5\n",
      "  avg_loss: 71.13108901977539\n",
      "  date: 2022-09-07_22-37-26\n",
      "  done: true\n",
      "  experiment_id: 00c2c9ca69e7494c9efc0894351f0cf8\n",
      "  experiment_tag: 21_batch_size=18.0000,format_version=4,future_num_frames=50,history_num_frames=5,model_architecture=resnet50,render_ego_history=False,step_time=0.1000,dataset_meta_key=meta_json,disable_traffic_light_faces=False,ego_center=0_25_0_5,filter_agents_threshold=0.5000,map_type=py_semantic,pixel_size=0_5_0_5,raster_size=224_224,satellite_map_key=aerial_map_aerial_map_png,semantic_map_key=semantic_map_semantic_map_pb,set_origin_to_bottom=True,batch_size=12,key=scenes_sample_zarr,num_workers=16,perturb_probability=0.0000,shuffle=True,checkpoint_every_n_steps=10000,eval_every_n_steps=10000,max_num_steps=5,batch_size=12,key=scenes_sample_zarr,num_workers=16,shuffle=False,dataset_key=scenes_sample_zarr,lr=0.0002,max_num_steps=5,num_workers=4,shuffle=True\n",
      "  hostname: anish-l5-kit\n",
      "  iterations_since_restore: 5\n",
      "  loss: 18.0721435546875\n",
      "  node_ip: 10.150.0.3\n",
      "  pid: 4822\n",
      "  should_checkpoint: true\n",
      "  time_since_restore: 82.37583494186401\n",
      "  time_this_iter_s: 13.2363862991333\n",
      "  time_total_s: 82.37583494186401\n",
      "  timestamp: 1662590246\n",
      "  timesteps_since_restore: 0\n",
      "  training_iteration: 5\n",
      "  trial_id: 63f4c242\n",
      "  warmup_time: 0.014725685119628906\n",
      "  \n"
     ]
    },
    {
     "name": "stderr",
     "output_type": "stream",
     "text": [
      "\u001b[2m\u001b[36m(RayTrainWorker pid=6576)\u001b[0m 2022-09-07 22:37:43,775\tINFO config.py:72 -- Setting up process group for: env:// [rank=0, world_size=1]\n",
      "\u001b[2m\u001b[36m(RayTrainWorker pid=6576)\u001b[0m /opt/conda/lib/python3.7/site-packages/l5kit/planning/rasterized/model.py:31: UserWarning: There is no pre-trained model with num_in_channels != 3, first layer will be reset\n",
      "\u001b[2m\u001b[36m(RayTrainWorker pid=6576)\u001b[0m   warnings.warn(\"There is no pre-trained model with num_in_channels != 3, first layer will be reset\")\n",
      "\u001b[2m\u001b[36m(RayTrainWorker pid=6576)\u001b[0m /opt/conda/lib/python3.7/site-packages/torchvision/models/_utils.py:209: UserWarning: The parameter 'pretrained' is deprecated since 0.13 and will be removed in 0.15, please use 'weights' instead.\n",
      "\u001b[2m\u001b[36m(RayTrainWorker pid=6576)\u001b[0m   f\"The parameter '{pretrained_param}' is deprecated since 0.13 and will be removed in 0.15, \"\n",
      "\u001b[2m\u001b[36m(RayTrainWorker pid=6576)\u001b[0m /opt/conda/lib/python3.7/site-packages/torchvision/models/_utils.py:223: UserWarning: Arguments other than a weight enum or `None` for 'weights' are deprecated since 0.13 and will be removed in 0.15. The current behavior is equivalent to passing `weights=ResNet50_Weights.IMAGENET1K_V1`. You can also use `weights=ResNet50_Weights.DEFAULT` to get the most up-to-date weights.\n",
      "\u001b[2m\u001b[36m(RayTrainWorker pid=6576)\u001b[0m   warnings.warn(msg)\n",
      "\u001b[2m\u001b[36m(RayTrainWorker pid=6576)\u001b[0m 2022-09-07 22:37:50,268\tINFO train_loop_utils.py:300 -- Moving model to device: cpu\n"
     ]
    },
    {
     "name": "stdout",
     "output_type": "stream",
     "text": [
      "\u001b[2m\u001b[36m(RayTrainWorker pid=6270)\u001b[0m {'loss': 101.63909912109375, 'avg_loss': 101.63909912109375}\n"
     ]
    },
    {
     "name": "stderr",
     "output_type": "stream",
     "text": [
      "\u001b[34m\u001b[1mwandb\u001b[0m: Adding directory to artifact (/home/jupyter/ray_results/TorchTrainer_2022-09-07_22-21-37/TorchTrainer_71783246_22_batch_size=18.0000,format_version=4,future_num_frames=50,history_num_frames=5,model_architecture=resnet50_2022-09-07_22-37-20/checkpoint_000000)... "
     ]
    },
    {
     "name": "stdout",
     "output_type": "stream",
     "text": [
      "Result for TorchTrainer_71783246:\n",
      "  _time_this_iter_s: 26.07393193244934\n",
      "  _timestamp: 1662590275\n",
      "  _training_iteration: 1\n",
      "  avg_loss: 101.63909912109375\n",
      "  date: 2022-09-07_22-37-55\n",
      "  done: false\n",
      "  experiment_id: e5f1a76af3f748fcb9ec38ba9a7aaaab\n",
      "  hostname: anish-l5-kit\n",
      "  iterations_since_restore: 1\n",
      "  loss: 101.63909912109375\n",
      "  node_ip: 10.150.0.3\n",
      "  pid: 6200\n",
      "  should_checkpoint: true\n",
      "  time_since_restore: 30.02992081642151\n",
      "  time_this_iter_s: 30.02992081642151\n",
      "  time_total_s: 30.02992081642151\n",
      "  timestamp: 1662590275\n",
      "  timesteps_since_restore: 0\n",
      "  training_iteration: 1\n",
      "  trial_id: '71783246'\n",
      "  warmup_time: 0.008259296417236328\n",
      "  \n"
     ]
    },
    {
     "name": "stderr",
     "output_type": "stream",
     "text": [
      "Done. 1.5s\n"
     ]
    },
    {
     "name": "stdout",
     "output_type": "stream",
     "text": [
      "\u001b[2m\u001b[36m(RayTrainWorker pid=6576)\u001b[0m {'loss': 142.06919860839844, 'avg_loss': 142.06919860839844}\n"
     ]
    },
    {
     "name": "stderr",
     "output_type": "stream",
     "text": [
      "\u001b[34m\u001b[1mwandb\u001b[0m: Adding directory to artifact (/home/jupyter/ray_results/TorchTrainer_2022-09-07_22-21-37/TorchTrainer_a253209c_23_batch_size=18.0000,format_version=4,future_num_frames=50,history_num_frames=5,model_architecture=resnet50_2022-09-07_22-37-35/checkpoint_000000)... "
     ]
    },
    {
     "name": "stdout",
     "output_type": "stream",
     "text": [
      "Result for TorchTrainer_a253209c:\n",
      "  _time_this_iter_s: 23.85733938217163\n",
      "  _timestamp: 1662590288\n",
      "  _training_iteration: 1\n",
      "  avg_loss: 142.06919860839844\n",
      "  date: 2022-09-07_22-38-08\n",
      "  done: false\n",
      "  experiment_id: 08ebcd9d7bd34e428f36d9460f08ae84\n",
      "  hostname: anish-l5-kit\n",
      "  iterations_since_restore: 1\n",
      "  loss: 142.06919860839844\n",
      "  node_ip: 10.150.0.3\n",
      "  pid: 6499\n",
      "  should_checkpoint: true\n",
      "  time_since_restore: 27.864238500595093\n",
      "  time_this_iter_s: 27.864238500595093\n",
      "  time_total_s: 27.864238500595093\n",
      "  timestamp: 1662590288\n",
      "  timesteps_since_restore: 0\n",
      "  training_iteration: 1\n",
      "  trial_id: a253209c\n",
      "  warmup_time: 0.005983114242553711\n",
      "  \n"
     ]
    },
    {
     "name": "stderr",
     "output_type": "stream",
     "text": [
      "Done. 1.1s\n"
     ]
    },
    {
     "name": "stdout",
     "output_type": "stream",
     "text": [
      "\u001b[2m\u001b[36m(RayTrainWorker pid=6270)\u001b[0m {'loss': 69.43778228759766, 'avg_loss': 85.5384407043457}\n",
      "Result for TorchTrainer_71783246:\n",
      "  _time_this_iter_s: 14.979305744171143\n",
      "  _timestamp: 1662590290\n",
      "  _training_iteration: 2\n",
      "  avg_loss: 85.5384407043457\n",
      "  date: 2022-09-07_22-38-10\n",
      "  done: false\n",
      "  experiment_id: e5f1a76af3f748fcb9ec38ba9a7aaaab\n",
      "  hostname: anish-l5-kit\n",
      "  iterations_since_restore: 2\n",
      "  loss: 69.43778228759766\n",
      "  node_ip: 10.150.0.3\n",
      "  pid: 6200\n",
      "  should_checkpoint: true\n",
      "  time_since_restore: 45.05448508262634\n",
      "  time_this_iter_s: 15.024564266204834\n",
      "  time_total_s: 45.05448508262634\n",
      "  timestamp: 1662590290\n",
      "  timesteps_since_restore: 0\n",
      "  training_iteration: 2\n",
      "  trial_id: '71783246'\n",
      "  warmup_time: 0.008259296417236328\n",
      "  \n"
     ]
    },
    {
     "name": "stderr",
     "output_type": "stream",
     "text": [
      "\u001b[34m\u001b[1mwandb\u001b[0m: Adding directory to artifact (/home/jupyter/ray_results/TorchTrainer_2022-09-07_22-21-37/TorchTrainer_71783246_22_batch_size=18.0000,format_version=4,future_num_frames=50,history_num_frames=5,model_architecture=resnet50_2022-09-07_22-37-20/checkpoint_000001)... Done. 1.0s\n"
     ]
    },
    {
     "name": "stdout",
     "output_type": "stream",
     "text": [
      "\u001b[2m\u001b[36m(RayTrainWorker pid=6576)\u001b[0m {'loss': 110.77450561523438, 'avg_loss': 126.4218521118164}\n"
     ]
    },
    {
     "name": "stderr",
     "output_type": "stream",
     "text": [
      "\u001b[34m\u001b[1mwandb\u001b[0m: Adding directory to artifact (/home/jupyter/ray_results/TorchTrainer_2022-09-07_22-21-37/TorchTrainer_a253209c_23_batch_size=18.0000,format_version=4,future_num_frames=50,history_num_frames=5,model_architecture=resnet50_2022-09-07_22-37-35/checkpoint_000001)... "
     ]
    },
    {
     "name": "stdout",
     "output_type": "stream",
     "text": [
      "Result for TorchTrainer_a253209c:\n",
      "  _time_this_iter_s: 13.499944686889648\n",
      "  _timestamp: 1662590301\n",
      "  _training_iteration: 2\n",
      "  avg_loss: 126.4218521118164\n",
      "  date: 2022-09-07_22-38-22\n",
      "  done: false\n",
      "  experiment_id: 08ebcd9d7bd34e428f36d9460f08ae84\n",
      "  hostname: anish-l5-kit\n",
      "  iterations_since_restore: 2\n",
      "  loss: 110.77450561523438\n",
      "  node_ip: 10.150.0.3\n",
      "  pid: 6499\n",
      "  should_checkpoint: true\n",
      "  time_since_restore: 41.327545404434204\n",
      "  time_this_iter_s: 13.463306903839111\n",
      "  time_total_s: 41.327545404434204\n",
      "  timestamp: 1662590302\n",
      "  timesteps_since_restore: 0\n",
      "  training_iteration: 2\n",
      "  trial_id: a253209c\n",
      "  warmup_time: 0.005983114242553711\n",
      "  \n",
      "\u001b[2m\u001b[36m(RayTrainWorker pid=6270)\u001b[0m {'loss': 74.55601501464844, 'avg_loss': 81.87763214111328}\n"
     ]
    },
    {
     "name": "stderr",
     "output_type": "stream",
     "text": [
      "Done. 1.1s\n",
      "\u001b[34m\u001b[1mwandb\u001b[0m: Adding directory to artifact (/home/jupyter/ray_results/TorchTrainer_2022-09-07_22-21-37/TorchTrainer_71783246_22_batch_size=18.0000,format_version=4,future_num_frames=50,history_num_frames=5,model_architecture=resnet50_2022-09-07_22-37-20/checkpoint_000002)... "
     ]
    },
    {
     "name": "stdout",
     "output_type": "stream",
     "text": [
      "Result for TorchTrainer_71783246:\n",
      "  _time_this_iter_s: 13.05223274230957\n",
      "  _timestamp: 1662590303\n",
      "  _training_iteration: 3\n",
      "  avg_loss: 81.87763214111328\n",
      "  date: 2022-09-07_22-38-23\n",
      "  done: false\n",
      "  experiment_id: e5f1a76af3f748fcb9ec38ba9a7aaaab\n",
      "  hostname: anish-l5-kit\n",
      "  iterations_since_restore: 3\n",
      "  loss: 74.55601501464844\n",
      "  node_ip: 10.150.0.3\n",
      "  pid: 6200\n",
      "  should_checkpoint: true\n",
      "  time_since_restore: 58.06894397735596\n",
      "  time_this_iter_s: 13.014458894729614\n",
      "  time_total_s: 58.06894397735596\n",
      "  timestamp: 1662590303\n",
      "  timesteps_since_restore: 0\n",
      "  training_iteration: 3\n",
      "  trial_id: '71783246'\n",
      "  warmup_time: 0.008259296417236328\n",
      "  \n"
     ]
    },
    {
     "name": "stderr",
     "output_type": "stream",
     "text": [
      "Done. 1.5s\n"
     ]
    },
    {
     "name": "stdout",
     "output_type": "stream",
     "text": [
      "\u001b[2m\u001b[36m(RayTrainWorker pid=6576)\u001b[0m {'loss': 67.6620864868164, 'avg_loss': 106.83526357014973}\n",
      "\u001b[2m\u001b[36m(RayTrainWorker pid=6270)\u001b[0m {'loss': 98.93031311035156, 'avg_loss': 86.14080238342285}\n"
     ]
    },
    {
     "name": "stderr",
     "output_type": "stream",
     "text": [
      "\u001b[34m\u001b[1mwandb\u001b[0m: Adding directory to artifact (/home/jupyter/ray_results/TorchTrainer_2022-09-07_22-21-37/TorchTrainer_a253209c_23_batch_size=18.0000,format_version=4,future_num_frames=50,history_num_frames=5,model_architecture=resnet50_2022-09-07_22-37-35/checkpoint_000002)... "
     ]
    },
    {
     "name": "stdout",
     "output_type": "stream",
     "text": [
      "Result for TorchTrainer_a253209c:\n",
      "  _time_this_iter_s: 13.71084713935852\n",
      "  _timestamp: 1662590315\n",
      "  _training_iteration: 3\n",
      "  avg_loss: 106.83526357014973\n",
      "  date: 2022-09-07_22-38-35\n",
      "  done: false\n",
      "  experiment_id: 08ebcd9d7bd34e428f36d9460f08ae84\n",
      "  hostname: anish-l5-kit\n",
      "  iterations_since_restore: 3\n",
      "  loss: 67.6620864868164\n",
      "  node_ip: 10.150.0.3\n",
      "  pid: 6499\n",
      "  should_checkpoint: true\n",
      "  time_since_restore: 55.03093767166138\n",
      "  time_this_iter_s: 13.703392267227173\n",
      "  time_total_s: 55.03093767166138\n",
      "  timestamp: 1662590315\n",
      "  timesteps_since_restore: 0\n",
      "  training_iteration: 3\n",
      "  trial_id: a253209c\n",
      "  warmup_time: 0.005983114242553711\n",
      "  \n"
     ]
    },
    {
     "name": "stderr",
     "output_type": "stream",
     "text": [
      "\u001b[34m\u001b[1mwandb\u001b[0m: Adding directory to artifact (/home/jupyter/ray_results/TorchTrainer_2022-09-07_22-21-37/TorchTrainer_71783246_22_batch_size=18.0000,format_version=4,future_num_frames=50,history_num_frames=5,model_architecture=resnet50_2022-09-07_22-37-20/checkpoint_000003)... "
     ]
    },
    {
     "name": "stdout",
     "output_type": "stream",
     "text": [
      "Result for TorchTrainer_71783246:\n",
      "  _time_this_iter_s: 12.608906984329224\n",
      "  _timestamp: 1662590315\n",
      "  _training_iteration: 4\n",
      "  avg_loss: 86.14080238342285\n",
      "  date: 2022-09-07_22-38-36\n",
      "  done: false\n",
      "  experiment_id: e5f1a76af3f748fcb9ec38ba9a7aaaab\n",
      "  hostname: anish-l5-kit\n",
      "  iterations_since_restore: 4\n",
      "  loss: 98.93031311035156\n",
      "  node_ip: 10.150.0.3\n",
      "  pid: 6200\n",
      "  should_checkpoint: true\n",
      "  time_since_restore: 70.73315143585205\n",
      "  time_this_iter_s: 12.664207458496094\n",
      "  time_total_s: 70.73315143585205\n",
      "  timestamp: 1662590316\n",
      "  timesteps_since_restore: 0\n",
      "  training_iteration: 4\n",
      "  trial_id: '71783246'\n",
      "  warmup_time: 0.008259296417236328\n",
      "  \n"
     ]
    },
    {
     "name": "stderr",
     "output_type": "stream",
     "text": [
      "Done. 1.8s\n",
      "Done. 1.6s\n"
     ]
    },
    {
     "name": "stdout",
     "output_type": "stream",
     "text": [
      "\u001b[2m\u001b[36m(RayTrainWorker pid=6270)\u001b[0m {'loss': 26.73236656188965, 'avg_loss': 74.25911521911621}\n"
     ]
    },
    {
     "name": "stderr",
     "output_type": "stream",
     "text": [
      "\u001b[34m\u001b[1mwandb\u001b[0m: Adding directory to artifact (/home/jupyter/ray_results/TorchTrainer_2022-09-07_22-21-37/TorchTrainer_71783246_22_batch_size=18.0000,format_version=4,future_num_frames=50,history_num_frames=5,model_architecture=resnet50_2022-09-07_22-37-20/checkpoint_000004)... "
     ]
    },
    {
     "name": "stdout",
     "output_type": "stream",
     "text": [
      "Result for TorchTrainer_71783246:\n",
      "  _time_this_iter_s: 12.956475019454956\n",
      "  _timestamp: 1662590328\n",
      "  _training_iteration: 5\n",
      "  avg_loss: 74.25911521911621\n",
      "  date: 2022-09-07_22-38-49\n",
      "  done: false\n",
      "  experiment_id: e5f1a76af3f748fcb9ec38ba9a7aaaab\n",
      "  hostname: anish-l5-kit\n",
      "  iterations_since_restore: 5\n",
      "  loss: 26.73236656188965\n",
      "  node_ip: 10.150.0.3\n",
      "  pid: 6200\n",
      "  should_checkpoint: true\n",
      "  time_since_restore: 83.52563118934631\n",
      "  time_this_iter_s: 12.792479753494263\n",
      "  time_total_s: 83.52563118934631\n",
      "  timestamp: 1662590329\n",
      "  timesteps_since_restore: 0\n",
      "  training_iteration: 5\n",
      "  trial_id: '71783246'\n",
      "  warmup_time: 0.008259296417236328\n",
      "  \n",
      "\u001b[2m\u001b[36m(RayTrainWorker pid=6576)\u001b[0m {'loss': 52.419891357421875, 'avg_loss': 93.23142051696777}\n"
     ]
    },
    {
     "name": "stderr",
     "output_type": "stream",
     "text": [
      "Done. 1.0s\n",
      "\u001b[34m\u001b[1mwandb\u001b[0m: Adding directory to artifact (/home/jupyter/ray_results/TorchTrainer_2022-09-07_22-21-37/TorchTrainer_71783246_22_batch_size=18.0000,format_version=4,future_num_frames=50,history_num_frames=5,model_architecture=resnet50_2022-09-07_22-37-20/checkpoint_000004)... Done. 0.3s\n"
     ]
    },
    {
     "data": {
      "text/html": [
       "Waiting for W&B process to finish... <strong style=\"color:green\">(success).</strong>"
      ],
      "text/plain": [
       "<IPython.core.display.HTML object>"
      ]
     },
     "metadata": {},
     "output_type": "display_data"
    },
    {
     "data": {
      "application/vnd.jupyter.widget-view+json": {
       "model_id": "11d9d65ff3f74ed3b745a13120b56ef2",
       "version_major": 2,
       "version_minor": 0
      },
      "text/plain": [
       "VBox(children=(Label(value='457.195 MB of 457.195 MB uploaded (91.307 MB deduped)\\r'), FloatProgress(value=1.0…"
      ]
     },
     "metadata": {},
     "output_type": "display_data"
    },
    {
     "data": {
      "text/html": [
       "W&B sync reduced upload amount by 20.0%             "
      ],
      "text/plain": [
       "<IPython.core.display.HTML object>"
      ]
     },
     "metadata": {},
     "output_type": "display_data"
    },
    {
     "data": {
      "text/html": [
       "<style>\n",
       "    table.wandb td:nth-child(1) { padding: 0 10px; text-align: left ; width: auto;} td:nth-child(2) {text-align: left ; width: 100%}\n",
       "    .wandb-row { display: flex; flex-direction: row; flex-wrap: wrap; justify-content: flex-start; width: 100% }\n",
       "    .wandb-col { display: flex; flex-direction: column; flex-basis: 100%; flex: 1; padding: 10px; }\n",
       "    </style>\n",
       "<div class=\"wandb-row\"><div class=\"wandb-col\"><h3>Run history:</h3><br/><table class=\"wandb\"><tr><td>avg_loss</td><td>█▄▃▄▁</td></tr><tr><td>iterations_since_restore</td><td>▁▃▅▆█</td></tr><tr><td>loss</td><td>█▅▅█▁</td></tr><tr><td>time_since_restore</td><td>▁▃▅▆█</td></tr><tr><td>time_this_iter_s</td><td>█▂▁▁▁</td></tr><tr><td>time_total_s</td><td>▁▃▅▆█</td></tr><tr><td>timestamp</td><td>▁▃▅▆█</td></tr><tr><td>timesteps_since_restore</td><td>▁▁▁▁▁</td></tr><tr><td>training_iteration</td><td>▁▃▅▆█</td></tr><tr><td>warmup_time</td><td>▁▁▁▁▁</td></tr></table><br/></div><div class=\"wandb-col\"><h3>Run summary:</h3><br/><table class=\"wandb\"><tr><td>avg_loss</td><td>74.25912</td></tr><tr><td>iterations_since_restore</td><td>5</td></tr><tr><td>loss</td><td>26.73237</td></tr><tr><td>time_since_restore</td><td>83.52563</td></tr><tr><td>time_this_iter_s</td><td>12.79248</td></tr><tr><td>time_total_s</td><td>83.52563</td></tr><tr><td>timestamp</td><td>1662590329</td></tr><tr><td>timesteps_since_restore</td><td>0</td></tr><tr><td>training_iteration</td><td>5</td></tr><tr><td>warmup_time</td><td>0.00826</td></tr></table><br/></div></div>"
      ],
      "text/plain": [
       "<IPython.core.display.HTML object>"
      ]
     },
     "metadata": {},
     "output_type": "display_data"
    },
    {
     "data": {
      "text/html": [
       "Synced <strong style=\"color:#cdcd00\">TorchTrainer_71783246</strong>: <a href=\"https://wandb.ai/l5-demo/l5-simulation-trials/runs/71783246\" target=\"_blank\">https://wandb.ai/l5-demo/l5-simulation-trials/runs/71783246</a><br/>Synced 7 W&B file(s), 0 media file(s), 12 artifact file(s) and 1 other file(s)"
      ],
      "text/plain": [
       "<IPython.core.display.HTML object>"
      ]
     },
     "metadata": {},
     "output_type": "display_data"
    },
    {
     "data": {
      "text/html": [
       "Find logs at: <code>./wandb/run-20220907_223720-71783246/logs</code>"
      ],
      "text/plain": [
       "<IPython.core.display.HTML object>"
      ]
     },
     "metadata": {},
     "output_type": "display_data"
    },
    {
     "name": "stdout",
     "output_type": "stream",
     "text": [
      "Result for TorchTrainer_71783246:\n",
      "  _time_this_iter_s: 12.956475019454956\n",
      "  _timestamp: 1662590328\n",
      "  _training_iteration: 5\n",
      "  avg_loss: 74.25911521911621\n",
      "  date: 2022-09-07_22-38-49\n",
      "  done: true\n",
      "  experiment_id: e5f1a76af3f748fcb9ec38ba9a7aaaab\n",
      "  experiment_tag: 22_batch_size=18.0000,format_version=4,future_num_frames=50,history_num_frames=5,model_architecture=resnet50,render_ego_history=False,step_time=0.1000,dataset_meta_key=meta_json,disable_traffic_light_faces=False,ego_center=0_25_0_5,filter_agents_threshold=0.5000,map_type=py_semantic,pixel_size=0_5_0_5,raster_size=224_224,satellite_map_key=aerial_map_aerial_map_png,semantic_map_key=semantic_map_semantic_map_pb,set_origin_to_bottom=True,batch_size=12,key=scenes_sample_zarr,num_workers=16,perturb_probability=0.0000,shuffle=True,checkpoint_every_n_steps=10000,eval_every_n_steps=10000,max_num_steps=5,batch_size=12,key=scenes_sample_zarr,num_workers=16,shuffle=False,dataset_key=scenes_sample_zarr,lr=0.0012,max_num_steps=5,num_workers=4,shuffle=True\n",
      "  hostname: anish-l5-kit\n",
      "  iterations_since_restore: 5\n",
      "  loss: 26.73236656188965\n",
      "  node_ip: 10.150.0.3\n",
      "  pid: 6200\n",
      "  should_checkpoint: true\n",
      "  time_since_restore: 83.52563118934631\n",
      "  time_this_iter_s: 12.792479753494263\n",
      "  time_total_s: 83.52563118934631\n",
      "  timestamp: 1662590329\n",
      "  timesteps_since_restore: 0\n",
      "  training_iteration: 5\n",
      "  trial_id: '71783246'\n",
      "  warmup_time: 0.008259296417236328\n",
      "  \n"
     ]
    },
    {
     "name": "stderr",
     "output_type": "stream",
     "text": [
      "\u001b[34m\u001b[1mwandb\u001b[0m: Adding directory to artifact (/home/jupyter/ray_results/TorchTrainer_2022-09-07_22-21-37/TorchTrainer_a253209c_23_batch_size=18.0000,format_version=4,future_num_frames=50,history_num_frames=5,model_architecture=resnet50_2022-09-07_22-37-35/checkpoint_000003)... "
     ]
    },
    {
     "name": "stdout",
     "output_type": "stream",
     "text": [
      "Result for TorchTrainer_a253209c:\n",
      "  _time_this_iter_s: 13.85779595375061\n",
      "  _timestamp: 1662590329\n",
      "  _training_iteration: 4\n",
      "  avg_loss: 93.23142051696777\n",
      "  date: 2022-09-07_22-38-49\n",
      "  done: false\n",
      "  experiment_id: 08ebcd9d7bd34e428f36d9460f08ae84\n",
      "  hostname: anish-l5-kit\n",
      "  iterations_since_restore: 4\n",
      "  loss: 52.419891357421875\n",
      "  node_ip: 10.150.0.3\n",
      "  pid: 6499\n",
      "  should_checkpoint: true\n",
      "  time_since_restore: 68.83096432685852\n",
      "  time_this_iter_s: 13.800026655197144\n",
      "  time_total_s: 68.83096432685852\n",
      "  timestamp: 1662590329\n",
      "  timesteps_since_restore: 0\n",
      "  training_iteration: 4\n",
      "  trial_id: a253209c\n",
      "  warmup_time: 0.005983114242553711\n",
      "  \n"
     ]
    },
    {
     "name": "stderr",
     "output_type": "stream",
     "text": [
      "Done. 1.0s\n"
     ]
    },
    {
     "name": "stdout",
     "output_type": "stream",
     "text": [
      "\u001b[2m\u001b[36m(RayTrainWorker pid=6576)\u001b[0m {'loss': 24.017383575439453, 'avg_loss': 79.38861312866212}\n",
      "Result for TorchTrainer_a253209c:\n",
      "  _time_this_iter_s: 14.647578001022339\n",
      "  _timestamp: 1662590343\n",
      "  _training_iteration: 5\n",
      "  avg_loss: 79.38861312866212\n",
      "  date: 2022-09-07_22-39-04\n",
      "  done: false\n",
      "  experiment_id: 08ebcd9d7bd34e428f36d9460f08ae84\n",
      "  hostname: anish-l5-kit\n",
      "  iterations_since_restore: 5\n",
      "  loss: 24.017383575439453\n",
      "  node_ip: 10.150.0.3\n",
      "  pid: 6499\n",
      "  should_checkpoint: true\n",
      "  time_since_restore: 83.59553718566895\n",
      "  time_this_iter_s: 14.764572858810425\n",
      "  time_total_s: 83.59553718566895\n",
      "  timestamp: 1662590344\n",
      "  timesteps_since_restore: 0\n",
      "  training_iteration: 5\n",
      "  trial_id: a253209c\n",
      "  warmup_time: 0.005983114242553711\n",
      "  \n"
     ]
    },
    {
     "name": "stderr",
     "output_type": "stream",
     "text": [
      "\u001b[34m\u001b[1mwandb\u001b[0m: Adding directory to artifact (/home/jupyter/ray_results/TorchTrainer_2022-09-07_22-21-37/TorchTrainer_a253209c_23_batch_size=18.0000,format_version=4,future_num_frames=50,history_num_frames=5,model_architecture=resnet50_2022-09-07_22-37-35/checkpoint_000004)... Done. 1.0s\n",
      "\u001b[34m\u001b[1mwandb\u001b[0m: Adding directory to artifact (/home/jupyter/ray_results/TorchTrainer_2022-09-07_22-21-37/TorchTrainer_a253209c_23_batch_size=18.0000,format_version=4,future_num_frames=50,history_num_frames=5,model_architecture=resnet50_2022-09-07_22-37-35/checkpoint_000004)... Done. 0.3s\n"
     ]
    },
    {
     "data": {
      "text/html": [
       "Waiting for W&B process to finish... <strong style=\"color:green\">(success).</strong>"
      ],
      "text/plain": [
       "<IPython.core.display.HTML object>"
      ]
     },
     "metadata": {},
     "output_type": "display_data"
    },
    {
     "name": "stderr",
     "output_type": "stream",
     "text": [
      "\u001b[2m\u001b[36m(RayTrainWorker pid=7906)\u001b[0m 2022-09-07 22:39:07,694\tINFO config.py:72 -- Setting up process group for: env:// [rank=0, world_size=1]\n"
     ]
    },
    {
     "data": {
      "application/vnd.jupyter.widget-view+json": {
       "model_id": "892f9f19a21448f8a1f9e9e971c1b5da",
       "version_major": 2,
       "version_minor": 0
      },
      "text/plain": [
       "VBox(children=(Label(value='457.195 MB of 457.195 MB uploaded (91.307 MB deduped)\\r'), FloatProgress(value=1.0…"
      ]
     },
     "metadata": {},
     "output_type": "display_data"
    },
    {
     "data": {
      "text/html": [
       "W&B sync reduced upload amount by 20.0%             "
      ],
      "text/plain": [
       "<IPython.core.display.HTML object>"
      ]
     },
     "metadata": {},
     "output_type": "display_data"
    },
    {
     "name": "stderr",
     "output_type": "stream",
     "text": [
      "\u001b[2m\u001b[36m(RayTrainWorker pid=7906)\u001b[0m /opt/conda/lib/python3.7/site-packages/l5kit/planning/rasterized/model.py:31: UserWarning: There is no pre-trained model with num_in_channels != 3, first layer will be reset\n",
      "\u001b[2m\u001b[36m(RayTrainWorker pid=7906)\u001b[0m   warnings.warn(\"There is no pre-trained model with num_in_channels != 3, first layer will be reset\")\n",
      "\u001b[2m\u001b[36m(RayTrainWorker pid=7906)\u001b[0m /opt/conda/lib/python3.7/site-packages/torchvision/models/_utils.py:209: UserWarning: The parameter 'pretrained' is deprecated since 0.13 and will be removed in 0.15, please use 'weights' instead.\n",
      "\u001b[2m\u001b[36m(RayTrainWorker pid=7906)\u001b[0m   f\"The parameter '{pretrained_param}' is deprecated since 0.13 and will be removed in 0.15, \"\n",
      "\u001b[2m\u001b[36m(RayTrainWorker pid=7906)\u001b[0m /opt/conda/lib/python3.7/site-packages/torchvision/models/_utils.py:223: UserWarning: Arguments other than a weight enum or `None` for 'weights' are deprecated since 0.13 and will be removed in 0.15. The current behavior is equivalent to passing `weights=ResNet50_Weights.IMAGENET1K_V1`. You can also use `weights=ResNet50_Weights.DEFAULT` to get the most up-to-date weights.\n",
      "\u001b[2m\u001b[36m(RayTrainWorker pid=7906)\u001b[0m   warnings.warn(msg)\n"
     ]
    },
    {
     "data": {
      "text/html": [
       "<style>\n",
       "    table.wandb td:nth-child(1) { padding: 0 10px; text-align: left ; width: auto;} td:nth-child(2) {text-align: left ; width: 100%}\n",
       "    .wandb-row { display: flex; flex-direction: row; flex-wrap: wrap; justify-content: flex-start; width: 100% }\n",
       "    .wandb-col { display: flex; flex-direction: column; flex-basis: 100%; flex: 1; padding: 10px; }\n",
       "    </style>\n",
       "<div class=\"wandb-row\"><div class=\"wandb-col\"><h3>Run history:</h3><br/><table class=\"wandb\"><tr><td>avg_loss</td><td>█▆▄▃▁</td></tr><tr><td>iterations_since_restore</td><td>▁▃▅▆█</td></tr><tr><td>loss</td><td>█▆▄▃▁</td></tr><tr><td>time_since_restore</td><td>▁▃▄▆█</td></tr><tr><td>time_this_iter_s</td><td>█▁▁▁▂</td></tr><tr><td>time_total_s</td><td>▁▃▄▆█</td></tr><tr><td>timestamp</td><td>▁▃▄▆█</td></tr><tr><td>timesteps_since_restore</td><td>▁▁▁▁▁</td></tr><tr><td>training_iteration</td><td>▁▃▅▆█</td></tr><tr><td>warmup_time</td><td>▁▁▁▁▁</td></tr></table><br/></div><div class=\"wandb-col\"><h3>Run summary:</h3><br/><table class=\"wandb\"><tr><td>avg_loss</td><td>79.38861</td></tr><tr><td>iterations_since_restore</td><td>5</td></tr><tr><td>loss</td><td>24.01738</td></tr><tr><td>time_since_restore</td><td>83.59554</td></tr><tr><td>time_this_iter_s</td><td>14.76457</td></tr><tr><td>time_total_s</td><td>83.59554</td></tr><tr><td>timestamp</td><td>1662590344</td></tr><tr><td>timesteps_since_restore</td><td>0</td></tr><tr><td>training_iteration</td><td>5</td></tr><tr><td>warmup_time</td><td>0.00598</td></tr></table><br/></div></div>"
      ],
      "text/plain": [
       "<IPython.core.display.HTML object>"
      ]
     },
     "metadata": {},
     "output_type": "display_data"
    },
    {
     "data": {
      "text/html": [
       "Synced <strong style=\"color:#cdcd00\">TorchTrainer_a253209c</strong>: <a href=\"https://wandb.ai/l5-demo/l5-simulation-trials/runs/a253209c\" target=\"_blank\">https://wandb.ai/l5-demo/l5-simulation-trials/runs/a253209c</a><br/>Synced 7 W&B file(s), 0 media file(s), 12 artifact file(s) and 1 other file(s)"
      ],
      "text/plain": [
       "<IPython.core.display.HTML object>"
      ]
     },
     "metadata": {},
     "output_type": "display_data"
    },
    {
     "data": {
      "text/html": [
       "Find logs at: <code>./wandb/run-20220907_223735-a253209c/logs</code>"
      ],
      "text/plain": [
       "<IPython.core.display.HTML object>"
      ]
     },
     "metadata": {},
     "output_type": "display_data"
    },
    {
     "name": "stderr",
     "output_type": "stream",
     "text": [
      "\u001b[2m\u001b[36m(RayTrainWorker pid=7906)\u001b[0m 2022-09-07 22:39:13,093\tINFO train_loop_utils.py:300 -- Moving model to device: cpu\n"
     ]
    },
    {
     "name": "stdout",
     "output_type": "stream",
     "text": [
      "Result for TorchTrainer_a253209c:\n",
      "  _time_this_iter_s: 14.647578001022339\n",
      "  _timestamp: 1662590343\n",
      "  _training_iteration: 5\n",
      "  avg_loss: 79.38861312866212\n",
      "  date: 2022-09-07_22-39-04\n",
      "  done: true\n",
      "  experiment_id: 08ebcd9d7bd34e428f36d9460f08ae84\n",
      "  experiment_tag: 23_batch_size=18.0000,format_version=4,future_num_frames=50,history_num_frames=5,model_architecture=resnet50,render_ego_history=False,step_time=0.1000,dataset_meta_key=meta_json,disable_traffic_light_faces=False,ego_center=0_25_0_5,filter_agents_threshold=0.5000,map_type=py_semantic,pixel_size=0_5_0_5,raster_size=224_224,satellite_map_key=aerial_map_aerial_map_png,semantic_map_key=semantic_map_semantic_map_pb,set_origin_to_bottom=True,batch_size=12,key=scenes_sample_zarr,num_workers=16,perturb_probability=0.0000,shuffle=True,checkpoint_every_n_steps=10000,eval_every_n_steps=10000,max_num_steps=5,batch_size=12,key=scenes_sample_zarr,num_workers=16,shuffle=False,dataset_key=scenes_sample_zarr,lr=0.0012,max_num_steps=5,num_workers=4,shuffle=True\n",
      "  hostname: anish-l5-kit\n",
      "  iterations_since_restore: 5\n",
      "  loss: 24.017383575439453\n",
      "  node_ip: 10.150.0.3\n",
      "  pid: 6499\n",
      "  should_checkpoint: true\n",
      "  time_since_restore: 83.59553718566895\n",
      "  time_this_iter_s: 14.764572858810425\n",
      "  time_total_s: 83.59553718566895\n",
      "  timestamp: 1662590344\n",
      "  timesteps_since_restore: 0\n",
      "  training_iteration: 5\n",
      "  trial_id: a253209c\n",
      "  warmup_time: 0.005983114242553711\n",
      "  \n"
     ]
    },
    {
     "name": "stderr",
     "output_type": "stream",
     "text": [
      "\u001b[2m\u001b[36m(RayTrainWorker pid=8213)\u001b[0m 2022-09-07 22:39:23,315\tINFO config.py:72 -- Setting up process group for: env:// [rank=0, world_size=1]\n",
      "\u001b[2m\u001b[36m(RayTrainWorker pid=8213)\u001b[0m /opt/conda/lib/python3.7/site-packages/l5kit/planning/rasterized/model.py:31: UserWarning: There is no pre-trained model with num_in_channels != 3, first layer will be reset\n",
      "\u001b[2m\u001b[36m(RayTrainWorker pid=8213)\u001b[0m   warnings.warn(\"There is no pre-trained model with num_in_channels != 3, first layer will be reset\")\n",
      "\u001b[2m\u001b[36m(RayTrainWorker pid=8213)\u001b[0m /opt/conda/lib/python3.7/site-packages/torchvision/models/_utils.py:209: UserWarning: The parameter 'pretrained' is deprecated since 0.13 and will be removed in 0.15, please use 'weights' instead.\n",
      "\u001b[2m\u001b[36m(RayTrainWorker pid=8213)\u001b[0m   f\"The parameter '{pretrained_param}' is deprecated since 0.13 and will be removed in 0.15, \"\n",
      "\u001b[2m\u001b[36m(RayTrainWorker pid=8213)\u001b[0m /opt/conda/lib/python3.7/site-packages/torchvision/models/_utils.py:223: UserWarning: Arguments other than a weight enum or `None` for 'weights' are deprecated since 0.13 and will be removed in 0.15. The current behavior is equivalent to passing `weights=ResNet50_Weights.IMAGENET1K_V1`. You can also use `weights=ResNet50_Weights.DEFAULT` to get the most up-to-date weights.\n",
      "\u001b[2m\u001b[36m(RayTrainWorker pid=8213)\u001b[0m   warnings.warn(msg)\n",
      "\u001b[2m\u001b[36m(RayTrainWorker pid=8213)\u001b[0m 2022-09-07 22:39:29,305\tINFO train_loop_utils.py:300 -- Moving model to device: cpu\n"
     ]
    },
    {
     "name": "stdout",
     "output_type": "stream",
     "text": [
      "\u001b[2m\u001b[36m(RayTrainWorker pid=7906)\u001b[0m {'loss': 68.1643295288086, 'avg_loss': 68.1643295288086}\n"
     ]
    },
    {
     "name": "stderr",
     "output_type": "stream",
     "text": [
      "\u001b[34m\u001b[1mwandb\u001b[0m: Adding directory to artifact (/home/jupyter/ray_results/TorchTrainer_2022-09-07_22-21-37/TorchTrainer_ab7915dc_24_batch_size=18.0000,format_version=4,future_num_frames=50,history_num_frames=5,model_architecture=resnet50_2022-09-07_22-38-59/checkpoint_000000)... "
     ]
    },
    {
     "name": "stdout",
     "output_type": "stream",
     "text": [
      "Result for TorchTrainer_ab7915dc:\n",
      "  _time_this_iter_s: 26.411190271377563\n",
      "  _timestamp: 1662590374\n",
      "  _training_iteration: 1\n",
      "  avg_loss: 68.1643295288086\n",
      "  date: 2022-09-07_22-39-35\n",
      "  done: false\n",
      "  experiment_id: fcf8a41a286b4176b99dc2f9f52083c2\n",
      "  hostname: anish-l5-kit\n",
      "  iterations_since_restore: 1\n",
      "  loss: 68.1643295288086\n",
      "  node_ip: 10.150.0.3\n",
      "  pid: 7399\n",
      "  should_checkpoint: true\n",
      "  time_since_restore: 30.061359167099\n",
      "  time_this_iter_s: 30.061359167099\n",
      "  time_total_s: 30.061359167099\n",
      "  timestamp: 1662590375\n",
      "  timesteps_since_restore: 0\n",
      "  training_iteration: 1\n",
      "  trial_id: ab7915dc\n",
      "  warmup_time: 0.00520634651184082\n",
      "  \n"
     ]
    },
    {
     "name": "stderr",
     "output_type": "stream",
     "text": [
      "Done. 1.0s\n"
     ]
    },
    {
     "name": "stdout",
     "output_type": "stream",
     "text": [
      "\u001b[2m\u001b[36m(RayTrainWorker pid=7906)\u001b[0m {'loss': 4.367187023162842, 'avg_loss': 36.26575827598572}\n"
     ]
    },
    {
     "name": "stderr",
     "output_type": "stream",
     "text": [
      "\u001b[34m\u001b[1mwandb\u001b[0m: Adding directory to artifact (/home/jupyter/ray_results/TorchTrainer_2022-09-07_22-21-37/TorchTrainer_ab7915dc_24_batch_size=18.0000,format_version=4,future_num_frames=50,history_num_frames=5,model_architecture=resnet50_2022-09-07_22-38-59/checkpoint_000001)... "
     ]
    },
    {
     "name": "stdout",
     "output_type": "stream",
     "text": [
      "Result for TorchTrainer_ab7915dc:\n",
      "  _time_this_iter_s: 13.095037698745728\n",
      "  _timestamp: 1662590387\n",
      "  _training_iteration: 2\n",
      "  avg_loss: 36.26575827598572\n",
      "  date: 2022-09-07_22-39-48\n",
      "  done: false\n",
      "  experiment_id: fcf8a41a286b4176b99dc2f9f52083c2\n",
      "  hostname: anish-l5-kit\n",
      "  iterations_since_restore: 2\n",
      "  loss: 4.367187023162842\n",
      "  node_ip: 10.150.0.3\n",
      "  pid: 7399\n",
      "  should_checkpoint: true\n",
      "  time_since_restore: 43.031766176223755\n",
      "  time_this_iter_s: 12.970407009124756\n",
      "  time_total_s: 43.031766176223755\n",
      "  timestamp: 1662590388\n",
      "  timesteps_since_restore: 0\n",
      "  training_iteration: 2\n",
      "  trial_id: ab7915dc\n",
      "  warmup_time: 0.00520634651184082\n",
      "  \n"
     ]
    },
    {
     "name": "stderr",
     "output_type": "stream",
     "text": [
      "Done. 1.0s\n"
     ]
    },
    {
     "name": "stdout",
     "output_type": "stream",
     "text": [
      "\u001b[2m\u001b[36m(RayTrainWorker pid=8213)\u001b[0m {'loss': 101.05824279785156, 'avg_loss': 101.05824279785156}\n",
      "Result for TorchTrainer_dd768114:\n",
      "  _time_this_iter_s: 27.585978031158447\n",
      "  _timestamp: 1662590391\n",
      "  _training_iteration: 1\n",
      "  avg_loss: 101.05824279785156\n",
      "  date: 2022-09-07_22-39-52\n",
      "  done: false\n",
      "  experiment_id: 6145bc2e07bb4ce1a9e955e6540d88c2\n",
      "  hostname: anish-l5-kit\n",
      "  iterations_since_restore: 1\n",
      "  loss: 101.05824279785156\n",
      "  node_ip: 10.150.0.3\n",
      "  pid: 8134\n",
      "  should_checkpoint: true\n",
      "  time_since_restore: 32.32519006729126\n",
      "  time_this_iter_s: 32.32519006729126\n",
      "  time_total_s: 32.32519006729126\n",
      "  timestamp: 1662590392\n",
      "  timesteps_since_restore: 0\n",
      "  training_iteration: 1\n",
      "  trial_id: dd768114\n",
      "  warmup_time: 0.013957977294921875\n",
      "  \n"
     ]
    },
    {
     "name": "stderr",
     "output_type": "stream",
     "text": [
      "\u001b[34m\u001b[1mwandb\u001b[0m: Adding directory to artifact (/home/jupyter/ray_results/TorchTrainer_2022-09-07_22-21-37/TorchTrainer_dd768114_25_batch_size=24.0000,format_version=4,future_num_frames=50,history_num_frames=5,model_architecture=resnet50_2022-09-07_22-39-13/checkpoint_000000)... Done. 1.1s\n"
     ]
    },
    {
     "name": "stdout",
     "output_type": "stream",
     "text": [
      "\u001b[2m\u001b[36m(RayTrainWorker pid=7906)\u001b[0m {'loss': 105.1120376586914, 'avg_loss': 59.21451807022095}\n"
     ]
    },
    {
     "name": "stderr",
     "output_type": "stream",
     "text": [
      "\u001b[34m\u001b[1mwandb\u001b[0m: Adding directory to artifact (/home/jupyter/ray_results/TorchTrainer_2022-09-07_22-21-37/TorchTrainer_ab7915dc_24_batch_size=18.0000,format_version=4,future_num_frames=50,history_num_frames=5,model_architecture=resnet50_2022-09-07_22-38-59/checkpoint_000002)... "
     ]
    },
    {
     "name": "stdout",
     "output_type": "stream",
     "text": [
      "Result for TorchTrainer_ab7915dc:\n",
      "  _time_this_iter_s: 12.883364200592041\n",
      "  _timestamp: 1662590400\n",
      "  _training_iteration: 3\n",
      "  avg_loss: 59.21451807022095\n",
      "  date: 2022-09-07_22-40-00\n",
      "  done: false\n",
      "  experiment_id: fcf8a41a286b4176b99dc2f9f52083c2\n",
      "  hostname: anish-l5-kit\n",
      "  iterations_since_restore: 3\n",
      "  loss: 105.1120376586914\n",
      "  node_ip: 10.150.0.3\n",
      "  pid: 7399\n",
      "  should_checkpoint: true\n",
      "  time_since_restore: 55.973867654800415\n",
      "  time_this_iter_s: 12.94210147857666\n",
      "  time_total_s: 55.973867654800415\n",
      "  timestamp: 1662590400\n",
      "  timesteps_since_restore: 0\n",
      "  training_iteration: 3\n",
      "  trial_id: ab7915dc\n",
      "  warmup_time: 0.00520634651184082\n",
      "  \n"
     ]
    },
    {
     "name": "stderr",
     "output_type": "stream",
     "text": [
      "Done. 1.1s\n"
     ]
    },
    {
     "name": "stdout",
     "output_type": "stream",
     "text": [
      "\u001b[2m\u001b[36m(RayTrainWorker pid=8213)\u001b[0m {'loss': 18.714263916015625, 'avg_loss': 59.886253356933594}\n"
     ]
    },
    {
     "name": "stderr",
     "output_type": "stream",
     "text": [
      "\u001b[34m\u001b[1mwandb\u001b[0m: Adding directory to artifact (/home/jupyter/ray_results/TorchTrainer_2022-09-07_22-21-37/TorchTrainer_dd768114_25_batch_size=24.0000,format_version=4,future_num_frames=50,history_num_frames=5,model_architecture=resnet50_2022-09-07_22-39-13/checkpoint_000001)... "
     ]
    },
    {
     "name": "stdout",
     "output_type": "stream",
     "text": [
      "Result for TorchTrainer_dd768114:\n",
      "  _time_this_iter_s: 20.36624836921692\n",
      "  _timestamp: 1662590411\n",
      "  _training_iteration: 2\n",
      "  avg_loss: 59.886253356933594\n",
      "  date: 2022-09-07_22-40-12\n",
      "  done: false\n",
      "  experiment_id: 6145bc2e07bb4ce1a9e955e6540d88c2\n",
      "  hostname: anish-l5-kit\n",
      "  iterations_since_restore: 2\n",
      "  loss: 18.714263916015625\n",
      "  node_ip: 10.150.0.3\n",
      "  pid: 8134\n",
      "  should_checkpoint: true\n",
      "  time_since_restore: 52.591161489486694\n",
      "  time_this_iter_s: 20.265971422195435\n",
      "  time_total_s: 52.591161489486694\n",
      "  timestamp: 1662590412\n",
      "  timesteps_since_restore: 0\n",
      "  training_iteration: 2\n",
      "  trial_id: dd768114\n",
      "  warmup_time: 0.013957977294921875\n",
      "  \n"
     ]
    },
    {
     "name": "stderr",
     "output_type": "stream",
     "text": [
      "Done. 1.1s\n"
     ]
    },
    {
     "name": "stdout",
     "output_type": "stream",
     "text": [
      "\u001b[2m\u001b[36m(RayTrainWorker pid=7906)\u001b[0m {'loss': 79.37877655029297, 'avg_loss': 64.25558269023895}\n"
     ]
    },
    {
     "name": "stderr",
     "output_type": "stream",
     "text": [
      "\u001b[34m\u001b[1mwandb\u001b[0m: Adding directory to artifact (/home/jupyter/ray_results/TorchTrainer_2022-09-07_22-21-37/TorchTrainer_ab7915dc_24_batch_size=18.0000,format_version=4,future_num_frames=50,history_num_frames=5,model_architecture=resnet50_2022-09-07_22-38-59/checkpoint_000003)... "
     ]
    },
    {
     "name": "stdout",
     "output_type": "stream",
     "text": [
      "Result for TorchTrainer_ab7915dc:\n",
      "  _time_this_iter_s: 13.928529024124146\n",
      "  _timestamp: 1662590414\n",
      "  _training_iteration: 4\n",
      "  avg_loss: 64.25558269023895\n",
      "  date: 2022-09-07_22-40-14\n",
      "  done: false\n",
      "  experiment_id: fcf8a41a286b4176b99dc2f9f52083c2\n",
      "  hostname: anish-l5-kit\n",
      "  iterations_since_restore: 4\n",
      "  loss: 79.37877655029297\n",
      "  node_ip: 10.150.0.3\n",
      "  pid: 7399\n",
      "  should_checkpoint: true\n",
      "  time_since_restore: 69.86056876182556\n",
      "  time_this_iter_s: 13.886701107025146\n",
      "  time_total_s: 69.86056876182556\n",
      "  timestamp: 1662590414\n",
      "  timesteps_since_restore: 0\n",
      "  training_iteration: 4\n",
      "  trial_id: ab7915dc\n",
      "  warmup_time: 0.00520634651184082\n",
      "  \n"
     ]
    },
    {
     "name": "stderr",
     "output_type": "stream",
     "text": [
      "Done. 1.1s\n"
     ]
    },
    {
     "name": "stdout",
     "output_type": "stream",
     "text": [
      "\u001b[2m\u001b[36m(RayTrainWorker pid=7906)\u001b[0m {'loss': 2.939028024673462, 'avg_loss': 51.992271757125856}\n"
     ]
    },
    {
     "name": "stderr",
     "output_type": "stream",
     "text": [
      "\u001b[34m\u001b[1mwandb\u001b[0m: Adding directory to artifact (/home/jupyter/ray_results/TorchTrainer_2022-09-07_22-21-37/TorchTrainer_ab7915dc_24_batch_size=18.0000,format_version=4,future_num_frames=50,history_num_frames=5,model_architecture=resnet50_2022-09-07_22-38-59/checkpoint_000004)... "
     ]
    },
    {
     "name": "stdout",
     "output_type": "stream",
     "text": [
      "Result for TorchTrainer_ab7915dc:\n",
      "  _time_this_iter_s: 12.20077657699585\n",
      "  _timestamp: 1662590426\n",
      "  _training_iteration: 5\n",
      "  avg_loss: 51.992271757125856\n",
      "  date: 2022-09-07_22-40-27\n",
      "  done: false\n",
      "  experiment_id: fcf8a41a286b4176b99dc2f9f52083c2\n",
      "  hostname: anish-l5-kit\n",
      "  iterations_since_restore: 5\n",
      "  loss: 2.939028024673462\n",
      "  node_ip: 10.150.0.3\n",
      "  pid: 7399\n",
      "  should_checkpoint: true\n",
      "  time_since_restore: 82.06967091560364\n",
      "  time_this_iter_s: 12.209102153778076\n",
      "  time_total_s: 82.06967091560364\n",
      "  timestamp: 1662590427\n",
      "  timesteps_since_restore: 0\n",
      "  training_iteration: 5\n",
      "  trial_id: ab7915dc\n",
      "  warmup_time: 0.00520634651184082\n",
      "  \n"
     ]
    },
    {
     "name": "stderr",
     "output_type": "stream",
     "text": [
      "Done. 1.1s\n",
      "\u001b[34m\u001b[1mwandb\u001b[0m: Adding directory to artifact (/home/jupyter/ray_results/TorchTrainer_2022-09-07_22-21-37/TorchTrainer_ab7915dc_24_batch_size=18.0000,format_version=4,future_num_frames=50,history_num_frames=5,model_architecture=resnet50_2022-09-07_22-38-59/checkpoint_000004)... Done. 0.3s\n"
     ]
    },
    {
     "data": {
      "text/html": [
       "Waiting for W&B process to finish... <strong style=\"color:green\">(success).</strong>"
      ],
      "text/plain": [
       "<IPython.core.display.HTML object>"
      ]
     },
     "metadata": {},
     "output_type": "display_data"
    },
    {
     "name": "stdout",
     "output_type": "stream",
     "text": [
      "\u001b[2m\u001b[36m(RayTrainWorker pid=8213)\u001b[0m {'loss': 28.8111629486084, 'avg_loss': 49.52788988749186}\n"
     ]
    },
    {
     "data": {
      "application/vnd.jupyter.widget-view+json": {
       "model_id": "2816d16fb876451fb00ea57de4850134",
       "version_major": 2,
       "version_minor": 0
      },
      "text/plain": [
       "VBox(children=(Label(value='457.195 MB of 457.195 MB uploaded (91.307 MB deduped)\\r'), FloatProgress(value=1.0…"
      ]
     },
     "metadata": {},
     "output_type": "display_data"
    },
    {
     "data": {
      "text/html": [
       "W&B sync reduced upload amount by 20.0%             "
      ],
      "text/plain": [
       "<IPython.core.display.HTML object>"
      ]
     },
     "metadata": {},
     "output_type": "display_data"
    },
    {
     "data": {
      "text/html": [
       "<style>\n",
       "    table.wandb td:nth-child(1) { padding: 0 10px; text-align: left ; width: auto;} td:nth-child(2) {text-align: left ; width: 100%}\n",
       "    .wandb-row { display: flex; flex-direction: row; flex-wrap: wrap; justify-content: flex-start; width: 100% }\n",
       "    .wandb-col { display: flex; flex-direction: column; flex-basis: 100%; flex: 1; padding: 10px; }\n",
       "    </style>\n",
       "<div class=\"wandb-row\"><div class=\"wandb-col\"><h3>Run history:</h3><br/><table class=\"wandb\"><tr><td>avg_loss</td><td>█▁▆▇▄</td></tr><tr><td>iterations_since_restore</td><td>▁▃▅▆█</td></tr><tr><td>loss</td><td>▅▁█▆▁</td></tr><tr><td>time_since_restore</td><td>▁▃▄▆█</td></tr><tr><td>time_this_iter_s</td><td>█▁▁▂▁</td></tr><tr><td>time_total_s</td><td>▁▃▄▆█</td></tr><tr><td>timestamp</td><td>▁▃▄▆█</td></tr><tr><td>timesteps_since_restore</td><td>▁▁▁▁▁</td></tr><tr><td>training_iteration</td><td>▁▃▅▆█</td></tr><tr><td>warmup_time</td><td>▁▁▁▁▁</td></tr></table><br/></div><div class=\"wandb-col\"><h3>Run summary:</h3><br/><table class=\"wandb\"><tr><td>avg_loss</td><td>51.99227</td></tr><tr><td>iterations_since_restore</td><td>5</td></tr><tr><td>loss</td><td>2.93903</td></tr><tr><td>time_since_restore</td><td>82.06967</td></tr><tr><td>time_this_iter_s</td><td>12.2091</td></tr><tr><td>time_total_s</td><td>82.06967</td></tr><tr><td>timestamp</td><td>1662590427</td></tr><tr><td>timesteps_since_restore</td><td>0</td></tr><tr><td>training_iteration</td><td>5</td></tr><tr><td>warmup_time</td><td>0.00521</td></tr></table><br/></div></div>"
      ],
      "text/plain": [
       "<IPython.core.display.HTML object>"
      ]
     },
     "metadata": {},
     "output_type": "display_data"
    },
    {
     "data": {
      "text/html": [
       "Synced <strong style=\"color:#cdcd00\">TorchTrainer_ab7915dc</strong>: <a href=\"https://wandb.ai/l5-demo/l5-simulation-trials/runs/ab7915dc\" target=\"_blank\">https://wandb.ai/l5-demo/l5-simulation-trials/runs/ab7915dc</a><br/>Synced 7 W&B file(s), 0 media file(s), 12 artifact file(s) and 1 other file(s)"
      ],
      "text/plain": [
       "<IPython.core.display.HTML object>"
      ]
     },
     "metadata": {},
     "output_type": "display_data"
    },
    {
     "data": {
      "text/html": [
       "Find logs at: <code>./wandb/run-20220907_223859-ab7915dc/logs</code>"
      ],
      "text/plain": [
       "<IPython.core.display.HTML object>"
      ]
     },
     "metadata": {},
     "output_type": "display_data"
    },
    {
     "name": "stdout",
     "output_type": "stream",
     "text": [
      "Result for TorchTrainer_ab7915dc:\n",
      "  _time_this_iter_s: 12.20077657699585\n",
      "  _timestamp: 1662590426\n",
      "  _training_iteration: 5\n",
      "  avg_loss: 51.992271757125856\n",
      "  date: 2022-09-07_22-40-27\n",
      "  done: true\n",
      "  experiment_id: fcf8a41a286b4176b99dc2f9f52083c2\n",
      "  experiment_tag: 24_batch_size=18.0000,format_version=4,future_num_frames=50,history_num_frames=5,model_architecture=resnet50,render_ego_history=False,step_time=0.1000,dataset_meta_key=meta_json,disable_traffic_light_faces=False,ego_center=0_25_0_5,filter_agents_threshold=0.5000,map_type=py_semantic,pixel_size=0_5_0_5,raster_size=224_224,satellite_map_key=aerial_map_aerial_map_png,semantic_map_key=semantic_map_semantic_map_pb,set_origin_to_bottom=True,batch_size=12,key=scenes_sample_zarr,num_workers=16,perturb_probability=0.0000,shuffle=True,checkpoint_every_n_steps=10000,eval_every_n_steps=10000,max_num_steps=5,batch_size=12,key=scenes_sample_zarr,num_workers=16,shuffle=False,dataset_key=scenes_sample_zarr,lr=0.0013,max_num_steps=5,num_workers=4,shuffle=True\n",
      "  hostname: anish-l5-kit\n",
      "  iterations_since_restore: 5\n",
      "  loss: 2.939028024673462\n",
      "  node_ip: 10.150.0.3\n",
      "  pid: 7399\n",
      "  should_checkpoint: true\n",
      "  time_since_restore: 82.06967091560364\n",
      "  time_this_iter_s: 12.209102153778076\n",
      "  time_total_s: 82.06967091560364\n",
      "  timestamp: 1662590427\n",
      "  timesteps_since_restore: 0\n",
      "  training_iteration: 5\n",
      "  trial_id: ab7915dc\n",
      "  warmup_time: 0.00520634651184082\n",
      "  \n"
     ]
    },
    {
     "name": "stderr",
     "output_type": "stream",
     "text": [
      "\u001b[34m\u001b[1mwandb\u001b[0m: Adding directory to artifact (/home/jupyter/ray_results/TorchTrainer_2022-09-07_22-21-37/TorchTrainer_dd768114_25_batch_size=24.0000,format_version=4,future_num_frames=50,history_num_frames=5,model_architecture=resnet50_2022-09-07_22-39-13/checkpoint_000002)... "
     ]
    },
    {
     "name": "stdout",
     "output_type": "stream",
     "text": [
      "Result for TorchTrainer_dd768114:\n",
      "  _time_this_iter_s: 18.238826274871826\n",
      "  _timestamp: 1662590430\n",
      "  _training_iteration: 3\n",
      "  avg_loss: 49.52788988749186\n",
      "  date: 2022-09-07_22-40-30\n",
      "  done: false\n",
      "  experiment_id: 6145bc2e07bb4ce1a9e955e6540d88c2\n",
      "  hostname: anish-l5-kit\n",
      "  iterations_since_restore: 3\n",
      "  loss: 28.8111629486084\n",
      "  node_ip: 10.150.0.3\n",
      "  pid: 8134\n",
      "  should_checkpoint: true\n",
      "  time_since_restore: 70.78211641311646\n",
      "  time_this_iter_s: 18.19095492362976\n",
      "  time_total_s: 70.78211641311646\n",
      "  timestamp: 1662590430\n",
      "  timesteps_since_restore: 0\n",
      "  training_iteration: 3\n",
      "  trial_id: dd768114\n",
      "  warmup_time: 0.013957977294921875\n",
      "  \n"
     ]
    },
    {
     "name": "stderr",
     "output_type": "stream",
     "text": [
      "Done. 1.0s\n"
     ]
    },
    {
     "name": "stdout",
     "output_type": "stream",
     "text": [
      "\u001b[2m\u001b[36m(RayTrainWorker pid=8213)\u001b[0m {'loss': 39.65055465698242, 'avg_loss': 47.0585560798645}\n"
     ]
    },
    {
     "name": "stderr",
     "output_type": "stream",
     "text": [
      "\u001b[34m\u001b[1mwandb\u001b[0m: Adding directory to artifact (/home/jupyter/ray_results/TorchTrainer_2022-09-07_22-21-37/TorchTrainer_dd768114_25_batch_size=24.0000,format_version=4,future_num_frames=50,history_num_frames=5,model_architecture=resnet50_2022-09-07_22-39-13/checkpoint_000003)... "
     ]
    },
    {
     "name": "stdout",
     "output_type": "stream",
     "text": [
      "Result for TorchTrainer_dd768114:\n",
      "  _time_this_iter_s: 15.942399501800537\n",
      "  _timestamp: 1662590446\n",
      "  _training_iteration: 4\n",
      "  avg_loss: 47.0585560798645\n",
      "  date: 2022-09-07_22-40-46\n",
      "  done: false\n",
      "  experiment_id: 6145bc2e07bb4ce1a9e955e6540d88c2\n",
      "  hostname: anish-l5-kit\n",
      "  iterations_since_restore: 4\n",
      "  loss: 39.65055465698242\n",
      "  node_ip: 10.150.0.3\n",
      "  pid: 8134\n",
      "  should_checkpoint: true\n",
      "  time_since_restore: 86.70124626159668\n",
      "  time_this_iter_s: 15.919129848480225\n",
      "  time_total_s: 86.70124626159668\n",
      "  timestamp: 1662590446\n",
      "  timesteps_since_restore: 0\n",
      "  training_iteration: 4\n",
      "  trial_id: dd768114\n",
      "  warmup_time: 0.013957977294921875\n",
      "  \n"
     ]
    },
    {
     "name": "stderr",
     "output_type": "stream",
     "text": [
      "Done. 1.0s\n"
     ]
    },
    {
     "name": "stdout",
     "output_type": "stream",
     "text": [
      "\u001b[2m\u001b[36m(RayTrainWorker pid=8213)\u001b[0m {'loss': 78.80968475341797, 'avg_loss': 53.40878181457519}\n"
     ]
    },
    {
     "name": "stderr",
     "output_type": "stream",
     "text": [
      "\u001b[34m\u001b[1mwandb\u001b[0m: Adding directory to artifact (/home/jupyter/ray_results/TorchTrainer_2022-09-07_22-21-37/TorchTrainer_dd768114_25_batch_size=24.0000,format_version=4,future_num_frames=50,history_num_frames=5,model_architecture=resnet50_2022-09-07_22-39-13/checkpoint_000004)... "
     ]
    },
    {
     "name": "stdout",
     "output_type": "stream",
     "text": [
      "Result for TorchTrainer_dd768114:\n",
      "  _time_this_iter_s: 16.700042724609375\n",
      "  _timestamp: 1662590462\n",
      "  _training_iteration: 5\n",
      "  avg_loss: 53.40878181457519\n",
      "  date: 2022-09-07_22-41-03\n",
      "  done: false\n",
      "  experiment_id: 6145bc2e07bb4ce1a9e955e6540d88c2\n",
      "  hostname: anish-l5-kit\n",
      "  iterations_since_restore: 5\n",
      "  loss: 78.80968475341797\n",
      "  node_ip: 10.150.0.3\n",
      "  pid: 8134\n",
      "  should_checkpoint: true\n",
      "  time_since_restore: 103.64607071876526\n",
      "  time_this_iter_s: 16.94482445716858\n",
      "  time_total_s: 103.64607071876526\n",
      "  timestamp: 1662590463\n",
      "  timesteps_since_restore: 0\n",
      "  training_iteration: 5\n",
      "  trial_id: dd768114\n",
      "  warmup_time: 0.013957977294921875\n",
      "  \n"
     ]
    },
    {
     "name": "stderr",
     "output_type": "stream",
     "text": [
      "Done. 1.0s\n",
      "\u001b[34m\u001b[1mwandb\u001b[0m: Adding directory to artifact (/home/jupyter/ray_results/TorchTrainer_2022-09-07_22-21-37/TorchTrainer_dd768114_25_batch_size=24.0000,format_version=4,future_num_frames=50,history_num_frames=5,model_architecture=resnet50_2022-09-07_22-39-13/checkpoint_000004)... Done. 0.3s\n"
     ]
    },
    {
     "data": {
      "text/html": [
       "Waiting for W&B process to finish... <strong style=\"color:green\">(success).</strong>"
      ],
      "text/plain": [
       "<IPython.core.display.HTML object>"
      ]
     },
     "metadata": {},
     "output_type": "display_data"
    },
    {
     "data": {
      "application/vnd.jupyter.widget-view+json": {
       "model_id": "f110492e637d45b1abd069e3b4ba1d95",
       "version_major": 2,
       "version_minor": 0
      },
      "text/plain": [
       "VBox(children=(Label(value='457.225 MB of 457.225 MB uploaded (91.307 MB deduped)\\r'), FloatProgress(value=1.0…"
      ]
     },
     "metadata": {},
     "output_type": "display_data"
    },
    {
     "data": {
      "text/html": [
       "W&B sync reduced upload amount by 20.0%             "
      ],
      "text/plain": [
       "<IPython.core.display.HTML object>"
      ]
     },
     "metadata": {},
     "output_type": "display_data"
    },
    {
     "data": {
      "text/html": [
       "<style>\n",
       "    table.wandb td:nth-child(1) { padding: 0 10px; text-align: left ; width: auto;} td:nth-child(2) {text-align: left ; width: 100%}\n",
       "    .wandb-row { display: flex; flex-direction: row; flex-wrap: wrap; justify-content: flex-start; width: 100% }\n",
       "    .wandb-col { display: flex; flex-direction: column; flex-basis: 100%; flex: 1; padding: 10px; }\n",
       "    </style>\n",
       "<div class=\"wandb-row\"><div class=\"wandb-col\"><h3>Run history:</h3><br/><table class=\"wandb\"><tr><td>avg_loss</td><td>█▃▁▁▂</td></tr><tr><td>iterations_since_restore</td><td>▁▃▅▆█</td></tr><tr><td>loss</td><td>█▁▂▃▆</td></tr><tr><td>time_since_restore</td><td>▁▃▅▆█</td></tr><tr><td>time_this_iter_s</td><td>█▃▂▁▁</td></tr><tr><td>time_total_s</td><td>▁▃▅▆█</td></tr><tr><td>timestamp</td><td>▁▃▅▆█</td></tr><tr><td>timesteps_since_restore</td><td>▁▁▁▁▁</td></tr><tr><td>training_iteration</td><td>▁▃▅▆█</td></tr><tr><td>warmup_time</td><td>▁▁▁▁▁</td></tr></table><br/></div><div class=\"wandb-col\"><h3>Run summary:</h3><br/><table class=\"wandb\"><tr><td>avg_loss</td><td>53.40878</td></tr><tr><td>iterations_since_restore</td><td>5</td></tr><tr><td>loss</td><td>78.80968</td></tr><tr><td>time_since_restore</td><td>103.64607</td></tr><tr><td>time_this_iter_s</td><td>16.94482</td></tr><tr><td>time_total_s</td><td>103.64607</td></tr><tr><td>timestamp</td><td>1662590463</td></tr><tr><td>timesteps_since_restore</td><td>0</td></tr><tr><td>training_iteration</td><td>5</td></tr><tr><td>warmup_time</td><td>0.01396</td></tr></table><br/></div></div>"
      ],
      "text/plain": [
       "<IPython.core.display.HTML object>"
      ]
     },
     "metadata": {},
     "output_type": "display_data"
    },
    {
     "data": {
      "text/html": [
       "Synced <strong style=\"color:#cdcd00\">TorchTrainer_dd768114</strong>: <a href=\"https://wandb.ai/l5-demo/l5-simulation-trials/runs/dd768114\" target=\"_blank\">https://wandb.ai/l5-demo/l5-simulation-trials/runs/dd768114</a><br/>Synced 7 W&B file(s), 0 media file(s), 12 artifact file(s) and 1 other file(s)"
      ],
      "text/plain": [
       "<IPython.core.display.HTML object>"
      ]
     },
     "metadata": {},
     "output_type": "display_data"
    },
    {
     "data": {
      "text/html": [
       "Find logs at: <code>./wandb/run-20220907_223913-dd768114/logs</code>"
      ],
      "text/plain": [
       "<IPython.core.display.HTML object>"
      ]
     },
     "metadata": {},
     "output_type": "display_data"
    },
    {
     "name": "stdout",
     "output_type": "stream",
     "text": [
      "Result for TorchTrainer_dd768114:\n",
      "  _time_this_iter_s: 16.700042724609375\n",
      "  _timestamp: 1662590462\n",
      "  _training_iteration: 5\n",
      "  avg_loss: 53.40878181457519\n",
      "  date: 2022-09-07_22-41-03\n",
      "  done: true\n",
      "  experiment_id: 6145bc2e07bb4ce1a9e955e6540d88c2\n",
      "  experiment_tag: 25_batch_size=24.0000,format_version=4,future_num_frames=50,history_num_frames=5,model_architecture=resnet50,render_ego_history=False,step_time=0.1000,dataset_meta_key=meta_json,disable_traffic_light_faces=False,ego_center=0_25_0_5,filter_agents_threshold=0.5000,map_type=py_semantic,pixel_size=0_5_0_5,raster_size=224_224,satellite_map_key=aerial_map_aerial_map_png,semantic_map_key=semantic_map_semantic_map_pb,set_origin_to_bottom=True,batch_size=12,key=scenes_sample_zarr,num_workers=16,perturb_probability=0.0000,shuffle=True,checkpoint_every_n_steps=10000,eval_every_n_steps=10000,max_num_steps=5,batch_size=12,key=scenes_sample_zarr,num_workers=16,shuffle=False,dataset_key=scenes_sample_zarr,lr=0.0004,max_num_steps=5,num_workers=4,shuffle=True\n",
      "  hostname: anish-l5-kit\n",
      "  iterations_since_restore: 5\n",
      "  loss: 78.80968475341797\n",
      "  node_ip: 10.150.0.3\n",
      "  pid: 8134\n",
      "  should_checkpoint: true\n",
      "  time_since_restore: 103.64607071876526\n",
      "  time_this_iter_s: 16.94482445716858\n",
      "  time_total_s: 103.64607071876526\n",
      "  timestamp: 1662590463\n",
      "  timesteps_since_restore: 0\n",
      "  training_iteration: 5\n",
      "  trial_id: dd768114\n",
      "  warmup_time: 0.013957977294921875\n",
      "  \n"
     ]
    },
    {
     "name": "stderr",
     "output_type": "stream",
     "text": [
      "2022-09-07 22:41:10,804\tINFO tune.py:759 -- Total run time: 1172.90 seconds (1172.69 seconds for the tuning loop).\n"
     ]
    }
   ],
   "source": [
    "analysis = tuner.fit()"
   ]
  },
  {
   "cell_type": "code",
   "execution_count": 35,
   "id": "0112cb72-7c85-438c-a12a-3d3c4b16e76e",
   "metadata": {},
   "outputs": [],
   "source": [
    "import time"
   ]
  },
  {
   "cell_type": "code",
   "execution_count": 36,
   "id": "9692b173-4808-47ce-b998-be4ed2148c3a",
   "metadata": {},
   "outputs": [],
   "source": [
    "time.sleep(30)"
   ]
  },
  {
   "cell_type": "code",
   "execution_count": 37,
   "id": "44744579-e543-496a-8be1-252fa141230f",
   "metadata": {},
   "outputs": [],
   "source": [
    "analysis_df = analysis.get_dataframe()"
   ]
  },
  {
   "cell_type": "code",
   "execution_count": 38,
   "id": "d7b02744-738e-45b2-8d9e-69a982f077ae",
   "metadata": {},
   "outputs": [
    {
     "data": {
      "text/html": [
       "<div>\n",
       "<style scoped>\n",
       "    .dataframe tbody tr th:only-of-type {\n",
       "        vertical-align: middle;\n",
       "    }\n",
       "\n",
       "    .dataframe tbody tr th {\n",
       "        vertical-align: top;\n",
       "    }\n",
       "\n",
       "    .dataframe thead th {\n",
       "        text-align: right;\n",
       "    }\n",
       "</style>\n",
       "<table border=\"1\" class=\"dataframe\">\n",
       "  <thead>\n",
       "    <tr style=\"text-align: right;\">\n",
       "      <th></th>\n",
       "      <th>loss</th>\n",
       "      <th>avg_loss</th>\n",
       "      <th>_timestamp</th>\n",
       "      <th>_time_this_iter_s</th>\n",
       "      <th>_training_iteration</th>\n",
       "      <th>time_this_iter_s</th>\n",
       "      <th>should_checkpoint</th>\n",
       "      <th>done</th>\n",
       "      <th>timesteps_total</th>\n",
       "      <th>episodes_total</th>\n",
       "      <th>...</th>\n",
       "      <th>config/train_loop_config/cfg/train_data_loader/perturb_probability</th>\n",
       "      <th>config/train_loop_config/cfg/train_data_loader/shuffle</th>\n",
       "      <th>config/train_loop_config/cfg/train_params/checkpoint_every_n_steps</th>\n",
       "      <th>config/train_loop_config/cfg/train_params/eval_every_n_steps</th>\n",
       "      <th>config/train_loop_config/cfg/train_params/max_num_steps</th>\n",
       "      <th>config/train_loop_config/cfg/val_data_loader/batch_size</th>\n",
       "      <th>config/train_loop_config/cfg/val_data_loader/key</th>\n",
       "      <th>config/train_loop_config/cfg/val_data_loader/num_workers</th>\n",
       "      <th>config/train_loop_config/cfg/val_data_loader/shuffle</th>\n",
       "      <th>logdir</th>\n",
       "    </tr>\n",
       "  </thead>\n",
       "  <tbody>\n",
       "    <tr>\n",
       "      <th>0</th>\n",
       "      <td>33.780266</td>\n",
       "      <td>65.703058</td>\n",
       "      <td>1662589365</td>\n",
       "      <td>8.806890</td>\n",
       "      <td>5</td>\n",
       "      <td>8.969782</td>\n",
       "      <td>True</td>\n",
       "      <td>False</td>\n",
       "      <td>NaN</td>\n",
       "      <td>NaN</td>\n",
       "      <td>...</td>\n",
       "      <td>0.0</td>\n",
       "      <td>True</td>\n",
       "      <td>10000</td>\n",
       "      <td>10000</td>\n",
       "      <td>5</td>\n",
       "      <td>12</td>\n",
       "      <td>scenes/sample.zarr</td>\n",
       "      <td>16</td>\n",
       "      <td>False</td>\n",
       "      <td>/home/jupyter/ray_results/TorchTrainer_2022-09...</td>\n",
       "    </tr>\n",
       "    <tr>\n",
       "      <th>1</th>\n",
       "      <td>67.135323</td>\n",
       "      <td>68.163639</td>\n",
       "      <td>1662589417</td>\n",
       "      <td>18.771693</td>\n",
       "      <td>5</td>\n",
       "      <td>18.765745</td>\n",
       "      <td>True</td>\n",
       "      <td>False</td>\n",
       "      <td>NaN</td>\n",
       "      <td>NaN</td>\n",
       "      <td>...</td>\n",
       "      <td>0.0</td>\n",
       "      <td>True</td>\n",
       "      <td>10000</td>\n",
       "      <td>10000</td>\n",
       "      <td>5</td>\n",
       "      <td>12</td>\n",
       "      <td>scenes/sample.zarr</td>\n",
       "      <td>16</td>\n",
       "      <td>False</td>\n",
       "      <td>/home/jupyter/ray_results/TorchTrainer_2022-09...</td>\n",
       "    </tr>\n",
       "    <tr>\n",
       "      <th>2</th>\n",
       "      <td>0.366061</td>\n",
       "      <td>80.481365</td>\n",
       "      <td>1662589416</td>\n",
       "      <td>4.788919</td>\n",
       "      <td>5</td>\n",
       "      <td>4.792669</td>\n",
       "      <td>True</td>\n",
       "      <td>False</td>\n",
       "      <td>NaN</td>\n",
       "      <td>NaN</td>\n",
       "      <td>...</td>\n",
       "      <td>0.0</td>\n",
       "      <td>True</td>\n",
       "      <td>10000</td>\n",
       "      <td>10000</td>\n",
       "      <td>5</td>\n",
       "      <td>12</td>\n",
       "      <td>scenes/sample.zarr</td>\n",
       "      <td>16</td>\n",
       "      <td>False</td>\n",
       "      <td>/home/jupyter/ray_results/TorchTrainer_2022-09...</td>\n",
       "    </tr>\n",
       "    <tr>\n",
       "      <th>3</th>\n",
       "      <td>44.491188</td>\n",
       "      <td>57.210853</td>\n",
       "      <td>1662589519</td>\n",
       "      <td>12.728409</td>\n",
       "      <td>5</td>\n",
       "      <td>12.731810</td>\n",
       "      <td>True</td>\n",
       "      <td>False</td>\n",
       "      <td>NaN</td>\n",
       "      <td>NaN</td>\n",
       "      <td>...</td>\n",
       "      <td>0.0</td>\n",
       "      <td>True</td>\n",
       "      <td>10000</td>\n",
       "      <td>10000</td>\n",
       "      <td>5</td>\n",
       "      <td>12</td>\n",
       "      <td>scenes/sample.zarr</td>\n",
       "      <td>16</td>\n",
       "      <td>False</td>\n",
       "      <td>/home/jupyter/ray_results/TorchTrainer_2022-09...</td>\n",
       "    </tr>\n",
       "    <tr>\n",
       "      <th>4</th>\n",
       "      <td>66.332466</td>\n",
       "      <td>96.654671</td>\n",
       "      <td>1662589520</td>\n",
       "      <td>12.586768</td>\n",
       "      <td>5</td>\n",
       "      <td>12.573064</td>\n",
       "      <td>True</td>\n",
       "      <td>False</td>\n",
       "      <td>NaN</td>\n",
       "      <td>NaN</td>\n",
       "      <td>...</td>\n",
       "      <td>0.0</td>\n",
       "      <td>True</td>\n",
       "      <td>10000</td>\n",
       "      <td>10000</td>\n",
       "      <td>5</td>\n",
       "      <td>12</td>\n",
       "      <td>scenes/sample.zarr</td>\n",
       "      <td>16</td>\n",
       "      <td>False</td>\n",
       "      <td>/home/jupyter/ray_results/TorchTrainer_2022-09...</td>\n",
       "    </tr>\n",
       "    <tr>\n",
       "      <th>5</th>\n",
       "      <td>16.063162</td>\n",
       "      <td>50.175418</td>\n",
       "      <td>1662589627</td>\n",
       "      <td>14.005862</td>\n",
       "      <td>5</td>\n",
       "      <td>14.085137</td>\n",
       "      <td>True</td>\n",
       "      <td>False</td>\n",
       "      <td>NaN</td>\n",
       "      <td>NaN</td>\n",
       "      <td>...</td>\n",
       "      <td>0.0</td>\n",
       "      <td>True</td>\n",
       "      <td>10000</td>\n",
       "      <td>10000</td>\n",
       "      <td>5</td>\n",
       "      <td>12</td>\n",
       "      <td>scenes/sample.zarr</td>\n",
       "      <td>16</td>\n",
       "      <td>False</td>\n",
       "      <td>/home/jupyter/ray_results/TorchTrainer_2022-09...</td>\n",
       "    </tr>\n",
       "    <tr>\n",
       "      <th>6</th>\n",
       "      <td>14.293675</td>\n",
       "      <td>34.844029</td>\n",
       "      <td>1662589652</td>\n",
       "      <td>18.746863</td>\n",
       "      <td>5</td>\n",
       "      <td>18.723540</td>\n",
       "      <td>True</td>\n",
       "      <td>False</td>\n",
       "      <td>NaN</td>\n",
       "      <td>NaN</td>\n",
       "      <td>...</td>\n",
       "      <td>0.0</td>\n",
       "      <td>True</td>\n",
       "      <td>10000</td>\n",
       "      <td>10000</td>\n",
       "      <td>5</td>\n",
       "      <td>12</td>\n",
       "      <td>scenes/sample.zarr</td>\n",
       "      <td>16</td>\n",
       "      <td>False</td>\n",
       "      <td>/home/jupyter/ray_results/TorchTrainer_2022-09...</td>\n",
       "    </tr>\n",
       "    <tr>\n",
       "      <th>7</th>\n",
       "      <td>107.925400</td>\n",
       "      <td>107.536839</td>\n",
       "      <td>1662589683</td>\n",
       "      <td>7.768827</td>\n",
       "      <td>5</td>\n",
       "      <td>7.934391</td>\n",
       "      <td>True</td>\n",
       "      <td>False</td>\n",
       "      <td>NaN</td>\n",
       "      <td>NaN</td>\n",
       "      <td>...</td>\n",
       "      <td>0.0</td>\n",
       "      <td>True</td>\n",
       "      <td>10000</td>\n",
       "      <td>10000</td>\n",
       "      <td>5</td>\n",
       "      <td>12</td>\n",
       "      <td>scenes/sample.zarr</td>\n",
       "      <td>16</td>\n",
       "      <td>False</td>\n",
       "      <td>/home/jupyter/ray_results/TorchTrainer_2022-09...</td>\n",
       "    </tr>\n",
       "    <tr>\n",
       "      <th>8</th>\n",
       "      <td>78.534073</td>\n",
       "      <td>81.707582</td>\n",
       "      <td>1662589728</td>\n",
       "      <td>9.151777</td>\n",
       "      <td>5</td>\n",
       "      <td>9.164373</td>\n",
       "      <td>True</td>\n",
       "      <td>False</td>\n",
       "      <td>NaN</td>\n",
       "      <td>NaN</td>\n",
       "      <td>...</td>\n",
       "      <td>0.0</td>\n",
       "      <td>True</td>\n",
       "      <td>10000</td>\n",
       "      <td>10000</td>\n",
       "      <td>5</td>\n",
       "      <td>12</td>\n",
       "      <td>scenes/sample.zarr</td>\n",
       "      <td>16</td>\n",
       "      <td>False</td>\n",
       "      <td>/home/jupyter/ray_results/TorchTrainer_2022-09...</td>\n",
       "    </tr>\n",
       "    <tr>\n",
       "      <th>9</th>\n",
       "      <td>19.829809</td>\n",
       "      <td>46.759389</td>\n",
       "      <td>1662589734</td>\n",
       "      <td>4.773627</td>\n",
       "      <td>5</td>\n",
       "      <td>4.790682</td>\n",
       "      <td>True</td>\n",
       "      <td>False</td>\n",
       "      <td>NaN</td>\n",
       "      <td>NaN</td>\n",
       "      <td>...</td>\n",
       "      <td>0.0</td>\n",
       "      <td>True</td>\n",
       "      <td>10000</td>\n",
       "      <td>10000</td>\n",
       "      <td>5</td>\n",
       "      <td>12</td>\n",
       "      <td>scenes/sample.zarr</td>\n",
       "      <td>16</td>\n",
       "      <td>False</td>\n",
       "      <td>/home/jupyter/ray_results/TorchTrainer_2022-09...</td>\n",
       "    </tr>\n",
       "    <tr>\n",
       "      <th>10</th>\n",
       "      <td>103.544357</td>\n",
       "      <td>59.809506</td>\n",
       "      <td>1662589811</td>\n",
       "      <td>10.332557</td>\n",
       "      <td>5</td>\n",
       "      <td>9.604878</td>\n",
       "      <td>True</td>\n",
       "      <td>False</td>\n",
       "      <td>NaN</td>\n",
       "      <td>NaN</td>\n",
       "      <td>...</td>\n",
       "      <td>0.0</td>\n",
       "      <td>True</td>\n",
       "      <td>10000</td>\n",
       "      <td>10000</td>\n",
       "      <td>5</td>\n",
       "      <td>12</td>\n",
       "      <td>scenes/sample.zarr</td>\n",
       "      <td>16</td>\n",
       "      <td>False</td>\n",
       "      <td>/home/jupyter/ray_results/TorchTrainer_2022-09...</td>\n",
       "    </tr>\n",
       "    <tr>\n",
       "      <th>11</th>\n",
       "      <td>69.866180</td>\n",
       "      <td>72.613062</td>\n",
       "      <td>1662589864</td>\n",
       "      <td>19.154382</td>\n",
       "      <td>5</td>\n",
       "      <td>19.175858</td>\n",
       "      <td>True</td>\n",
       "      <td>False</td>\n",
       "      <td>NaN</td>\n",
       "      <td>NaN</td>\n",
       "      <td>...</td>\n",
       "      <td>0.0</td>\n",
       "      <td>True</td>\n",
       "      <td>10000</td>\n",
       "      <td>10000</td>\n",
       "      <td>5</td>\n",
       "      <td>12</td>\n",
       "      <td>scenes/sample.zarr</td>\n",
       "      <td>16</td>\n",
       "      <td>False</td>\n",
       "      <td>/home/jupyter/ray_results/TorchTrainer_2022-09...</td>\n",
       "    </tr>\n",
       "    <tr>\n",
       "      <th>12</th>\n",
       "      <td>55.970642</td>\n",
       "      <td>74.780562</td>\n",
       "      <td>1662589938</td>\n",
       "      <td>19.055662</td>\n",
       "      <td>5</td>\n",
       "      <td>19.068087</td>\n",
       "      <td>True</td>\n",
       "      <td>False</td>\n",
       "      <td>NaN</td>\n",
       "      <td>NaN</td>\n",
       "      <td>...</td>\n",
       "      <td>0.0</td>\n",
       "      <td>True</td>\n",
       "      <td>10000</td>\n",
       "      <td>10000</td>\n",
       "      <td>5</td>\n",
       "      <td>12</td>\n",
       "      <td>scenes/sample.zarr</td>\n",
       "      <td>16</td>\n",
       "      <td>False</td>\n",
       "      <td>/home/jupyter/ray_results/TorchTrainer_2022-09...</td>\n",
       "    </tr>\n",
       "    <tr>\n",
       "      <th>13</th>\n",
       "      <td>49.491413</td>\n",
       "      <td>73.501556</td>\n",
       "      <td>1662589987</td>\n",
       "      <td>19.444671</td>\n",
       "      <td>5</td>\n",
       "      <td>19.477018</td>\n",
       "      <td>True</td>\n",
       "      <td>False</td>\n",
       "      <td>NaN</td>\n",
       "      <td>NaN</td>\n",
       "      <td>...</td>\n",
       "      <td>0.0</td>\n",
       "      <td>True</td>\n",
       "      <td>10000</td>\n",
       "      <td>10000</td>\n",
       "      <td>5</td>\n",
       "      <td>12</td>\n",
       "      <td>scenes/sample.zarr</td>\n",
       "      <td>16</td>\n",
       "      <td>False</td>\n",
       "      <td>/home/jupyter/ray_results/TorchTrainer_2022-09...</td>\n",
       "    </tr>\n",
       "    <tr>\n",
       "      <th>14</th>\n",
       "      <td>46.457634</td>\n",
       "      <td>79.166014</td>\n",
       "      <td>1662589991</td>\n",
       "      <td>4.924676</td>\n",
       "      <td>5</td>\n",
       "      <td>4.853772</td>\n",
       "      <td>True</td>\n",
       "      <td>False</td>\n",
       "      <td>NaN</td>\n",
       "      <td>NaN</td>\n",
       "      <td>...</td>\n",
       "      <td>0.0</td>\n",
       "      <td>True</td>\n",
       "      <td>10000</td>\n",
       "      <td>10000</td>\n",
       "      <td>5</td>\n",
       "      <td>12</td>\n",
       "      <td>scenes/sample.zarr</td>\n",
       "      <td>16</td>\n",
       "      <td>False</td>\n",
       "      <td>/home/jupyter/ray_results/TorchTrainer_2022-09...</td>\n",
       "    </tr>\n",
       "    <tr>\n",
       "      <th>15</th>\n",
       "      <td>37.485546</td>\n",
       "      <td>89.984625</td>\n",
       "      <td>1662590048</td>\n",
       "      <td>6.303241</td>\n",
       "      <td>5</td>\n",
       "      <td>5.692748</td>\n",
       "      <td>True</td>\n",
       "      <td>False</td>\n",
       "      <td>NaN</td>\n",
       "      <td>NaN</td>\n",
       "      <td>...</td>\n",
       "      <td>0.0</td>\n",
       "      <td>True</td>\n",
       "      <td>10000</td>\n",
       "      <td>10000</td>\n",
       "      <td>5</td>\n",
       "      <td>12</td>\n",
       "      <td>scenes/sample.zarr</td>\n",
       "      <td>16</td>\n",
       "      <td>False</td>\n",
       "      <td>/home/jupyter/ray_results/TorchTrainer_2022-09...</td>\n",
       "    </tr>\n",
       "    <tr>\n",
       "      <th>16</th>\n",
       "      <td>137.028839</td>\n",
       "      <td>70.010585</td>\n",
       "      <td>1662590073</td>\n",
       "      <td>11.592854</td>\n",
       "      <td>5</td>\n",
       "      <td>11.808261</td>\n",
       "      <td>True</td>\n",
       "      <td>False</td>\n",
       "      <td>NaN</td>\n",
       "      <td>NaN</td>\n",
       "      <td>...</td>\n",
       "      <td>0.0</td>\n",
       "      <td>True</td>\n",
       "      <td>10000</td>\n",
       "      <td>10000</td>\n",
       "      <td>5</td>\n",
       "      <td>12</td>\n",
       "      <td>scenes/sample.zarr</td>\n",
       "      <td>16</td>\n",
       "      <td>False</td>\n",
       "      <td>/home/jupyter/ray_results/TorchTrainer_2022-09...</td>\n",
       "    </tr>\n",
       "    <tr>\n",
       "      <th>17</th>\n",
       "      <td>148.989151</td>\n",
       "      <td>48.253017</td>\n",
       "      <td>1662590124</td>\n",
       "      <td>8.941566</td>\n",
       "      <td>5</td>\n",
       "      <td>8.959146</td>\n",
       "      <td>True</td>\n",
       "      <td>False</td>\n",
       "      <td>NaN</td>\n",
       "      <td>NaN</td>\n",
       "      <td>...</td>\n",
       "      <td>0.0</td>\n",
       "      <td>True</td>\n",
       "      <td>10000</td>\n",
       "      <td>10000</td>\n",
       "      <td>5</td>\n",
       "      <td>12</td>\n",
       "      <td>scenes/sample.zarr</td>\n",
       "      <td>16</td>\n",
       "      <td>False</td>\n",
       "      <td>/home/jupyter/ray_results/TorchTrainer_2022-09...</td>\n",
       "    </tr>\n",
       "    <tr>\n",
       "      <th>18</th>\n",
       "      <td>40.697071</td>\n",
       "      <td>48.807025</td>\n",
       "      <td>1662590147</td>\n",
       "      <td>10.709978</td>\n",
       "      <td>5</td>\n",
       "      <td>10.632570</td>\n",
       "      <td>True</td>\n",
       "      <td>False</td>\n",
       "      <td>NaN</td>\n",
       "      <td>NaN</td>\n",
       "      <td>...</td>\n",
       "      <td>0.0</td>\n",
       "      <td>True</td>\n",
       "      <td>10000</td>\n",
       "      <td>10000</td>\n",
       "      <td>5</td>\n",
       "      <td>12</td>\n",
       "      <td>scenes/sample.zarr</td>\n",
       "      <td>16</td>\n",
       "      <td>False</td>\n",
       "      <td>/home/jupyter/ray_results/TorchTrainer_2022-09...</td>\n",
       "    </tr>\n",
       "    <tr>\n",
       "      <th>19</th>\n",
       "      <td>25.575415</td>\n",
       "      <td>37.239714</td>\n",
       "      <td>1662590228</td>\n",
       "      <td>15.405887</td>\n",
       "      <td>5</td>\n",
       "      <td>15.424652</td>\n",
       "      <td>True</td>\n",
       "      <td>False</td>\n",
       "      <td>NaN</td>\n",
       "      <td>NaN</td>\n",
       "      <td>...</td>\n",
       "      <td>0.0</td>\n",
       "      <td>True</td>\n",
       "      <td>10000</td>\n",
       "      <td>10000</td>\n",
       "      <td>5</td>\n",
       "      <td>12</td>\n",
       "      <td>scenes/sample.zarr</td>\n",
       "      <td>16</td>\n",
       "      <td>False</td>\n",
       "      <td>/home/jupyter/ray_results/TorchTrainer_2022-09...</td>\n",
       "    </tr>\n",
       "    <tr>\n",
       "      <th>20</th>\n",
       "      <td>18.072144</td>\n",
       "      <td>71.131089</td>\n",
       "      <td>1662590246</td>\n",
       "      <td>13.150818</td>\n",
       "      <td>5</td>\n",
       "      <td>13.236386</td>\n",
       "      <td>True</td>\n",
       "      <td>False</td>\n",
       "      <td>NaN</td>\n",
       "      <td>NaN</td>\n",
       "      <td>...</td>\n",
       "      <td>0.0</td>\n",
       "      <td>True</td>\n",
       "      <td>10000</td>\n",
       "      <td>10000</td>\n",
       "      <td>5</td>\n",
       "      <td>12</td>\n",
       "      <td>scenes/sample.zarr</td>\n",
       "      <td>16</td>\n",
       "      <td>False</td>\n",
       "      <td>/home/jupyter/ray_results/TorchTrainer_2022-09...</td>\n",
       "    </tr>\n",
       "    <tr>\n",
       "      <th>21</th>\n",
       "      <td>26.732367</td>\n",
       "      <td>74.259115</td>\n",
       "      <td>1662590328</td>\n",
       "      <td>12.956475</td>\n",
       "      <td>5</td>\n",
       "      <td>12.792480</td>\n",
       "      <td>True</td>\n",
       "      <td>False</td>\n",
       "      <td>NaN</td>\n",
       "      <td>NaN</td>\n",
       "      <td>...</td>\n",
       "      <td>0.0</td>\n",
       "      <td>True</td>\n",
       "      <td>10000</td>\n",
       "      <td>10000</td>\n",
       "      <td>5</td>\n",
       "      <td>12</td>\n",
       "      <td>scenes/sample.zarr</td>\n",
       "      <td>16</td>\n",
       "      <td>False</td>\n",
       "      <td>/home/jupyter/ray_results/TorchTrainer_2022-09...</td>\n",
       "    </tr>\n",
       "    <tr>\n",
       "      <th>22</th>\n",
       "      <td>24.017384</td>\n",
       "      <td>79.388613</td>\n",
       "      <td>1662590343</td>\n",
       "      <td>14.647578</td>\n",
       "      <td>5</td>\n",
       "      <td>14.764573</td>\n",
       "      <td>True</td>\n",
       "      <td>False</td>\n",
       "      <td>NaN</td>\n",
       "      <td>NaN</td>\n",
       "      <td>...</td>\n",
       "      <td>0.0</td>\n",
       "      <td>True</td>\n",
       "      <td>10000</td>\n",
       "      <td>10000</td>\n",
       "      <td>5</td>\n",
       "      <td>12</td>\n",
       "      <td>scenes/sample.zarr</td>\n",
       "      <td>16</td>\n",
       "      <td>False</td>\n",
       "      <td>/home/jupyter/ray_results/TorchTrainer_2022-09...</td>\n",
       "    </tr>\n",
       "    <tr>\n",
       "      <th>23</th>\n",
       "      <td>2.939028</td>\n",
       "      <td>51.992272</td>\n",
       "      <td>1662590426</td>\n",
       "      <td>12.200777</td>\n",
       "      <td>5</td>\n",
       "      <td>12.209102</td>\n",
       "      <td>True</td>\n",
       "      <td>False</td>\n",
       "      <td>NaN</td>\n",
       "      <td>NaN</td>\n",
       "      <td>...</td>\n",
       "      <td>0.0</td>\n",
       "      <td>True</td>\n",
       "      <td>10000</td>\n",
       "      <td>10000</td>\n",
       "      <td>5</td>\n",
       "      <td>12</td>\n",
       "      <td>scenes/sample.zarr</td>\n",
       "      <td>16</td>\n",
       "      <td>False</td>\n",
       "      <td>/home/jupyter/ray_results/TorchTrainer_2022-09...</td>\n",
       "    </tr>\n",
       "    <tr>\n",
       "      <th>24</th>\n",
       "      <td>78.809685</td>\n",
       "      <td>53.408782</td>\n",
       "      <td>1662590462</td>\n",
       "      <td>16.700043</td>\n",
       "      <td>5</td>\n",
       "      <td>16.944824</td>\n",
       "      <td>True</td>\n",
       "      <td>False</td>\n",
       "      <td>NaN</td>\n",
       "      <td>NaN</td>\n",
       "      <td>...</td>\n",
       "      <td>0.0</td>\n",
       "      <td>True</td>\n",
       "      <td>10000</td>\n",
       "      <td>10000</td>\n",
       "      <td>5</td>\n",
       "      <td>12</td>\n",
       "      <td>scenes/sample.zarr</td>\n",
       "      <td>16</td>\n",
       "      <td>False</td>\n",
       "      <td>/home/jupyter/ray_results/TorchTrainer_2022-09...</td>\n",
       "    </tr>\n",
       "  </tbody>\n",
       "</table>\n",
       "<p>25 rows × 58 columns</p>\n",
       "</div>"
      ],
      "text/plain": [
       "          loss    avg_loss  _timestamp  _time_this_iter_s  \\\n",
       "0    33.780266   65.703058  1662589365           8.806890   \n",
       "1    67.135323   68.163639  1662589417          18.771693   \n",
       "2     0.366061   80.481365  1662589416           4.788919   \n",
       "3    44.491188   57.210853  1662589519          12.728409   \n",
       "4    66.332466   96.654671  1662589520          12.586768   \n",
       "5    16.063162   50.175418  1662589627          14.005862   \n",
       "6    14.293675   34.844029  1662589652          18.746863   \n",
       "7   107.925400  107.536839  1662589683           7.768827   \n",
       "8    78.534073   81.707582  1662589728           9.151777   \n",
       "9    19.829809   46.759389  1662589734           4.773627   \n",
       "10  103.544357   59.809506  1662589811          10.332557   \n",
       "11   69.866180   72.613062  1662589864          19.154382   \n",
       "12   55.970642   74.780562  1662589938          19.055662   \n",
       "13   49.491413   73.501556  1662589987          19.444671   \n",
       "14   46.457634   79.166014  1662589991           4.924676   \n",
       "15   37.485546   89.984625  1662590048           6.303241   \n",
       "16  137.028839   70.010585  1662590073          11.592854   \n",
       "17  148.989151   48.253017  1662590124           8.941566   \n",
       "18   40.697071   48.807025  1662590147          10.709978   \n",
       "19   25.575415   37.239714  1662590228          15.405887   \n",
       "20   18.072144   71.131089  1662590246          13.150818   \n",
       "21   26.732367   74.259115  1662590328          12.956475   \n",
       "22   24.017384   79.388613  1662590343          14.647578   \n",
       "23    2.939028   51.992272  1662590426          12.200777   \n",
       "24   78.809685   53.408782  1662590462          16.700043   \n",
       "\n",
       "    _training_iteration  time_this_iter_s  should_checkpoint   done  \\\n",
       "0                     5          8.969782               True  False   \n",
       "1                     5         18.765745               True  False   \n",
       "2                     5          4.792669               True  False   \n",
       "3                     5         12.731810               True  False   \n",
       "4                     5         12.573064               True  False   \n",
       "5                     5         14.085137               True  False   \n",
       "6                     5         18.723540               True  False   \n",
       "7                     5          7.934391               True  False   \n",
       "8                     5          9.164373               True  False   \n",
       "9                     5          4.790682               True  False   \n",
       "10                    5          9.604878               True  False   \n",
       "11                    5         19.175858               True  False   \n",
       "12                    5         19.068087               True  False   \n",
       "13                    5         19.477018               True  False   \n",
       "14                    5          4.853772               True  False   \n",
       "15                    5          5.692748               True  False   \n",
       "16                    5         11.808261               True  False   \n",
       "17                    5          8.959146               True  False   \n",
       "18                    5         10.632570               True  False   \n",
       "19                    5         15.424652               True  False   \n",
       "20                    5         13.236386               True  False   \n",
       "21                    5         12.792480               True  False   \n",
       "22                    5         14.764573               True  False   \n",
       "23                    5         12.209102               True  False   \n",
       "24                    5         16.944824               True  False   \n",
       "\n",
       "    timesteps_total  episodes_total  ...  \\\n",
       "0               NaN             NaN  ...   \n",
       "1               NaN             NaN  ...   \n",
       "2               NaN             NaN  ...   \n",
       "3               NaN             NaN  ...   \n",
       "4               NaN             NaN  ...   \n",
       "5               NaN             NaN  ...   \n",
       "6               NaN             NaN  ...   \n",
       "7               NaN             NaN  ...   \n",
       "8               NaN             NaN  ...   \n",
       "9               NaN             NaN  ...   \n",
       "10              NaN             NaN  ...   \n",
       "11              NaN             NaN  ...   \n",
       "12              NaN             NaN  ...   \n",
       "13              NaN             NaN  ...   \n",
       "14              NaN             NaN  ...   \n",
       "15              NaN             NaN  ...   \n",
       "16              NaN             NaN  ...   \n",
       "17              NaN             NaN  ...   \n",
       "18              NaN             NaN  ...   \n",
       "19              NaN             NaN  ...   \n",
       "20              NaN             NaN  ...   \n",
       "21              NaN             NaN  ...   \n",
       "22              NaN             NaN  ...   \n",
       "23              NaN             NaN  ...   \n",
       "24              NaN             NaN  ...   \n",
       "\n",
       "    config/train_loop_config/cfg/train_data_loader/perturb_probability  \\\n",
       "0                                                 0.0                    \n",
       "1                                                 0.0                    \n",
       "2                                                 0.0                    \n",
       "3                                                 0.0                    \n",
       "4                                                 0.0                    \n",
       "5                                                 0.0                    \n",
       "6                                                 0.0                    \n",
       "7                                                 0.0                    \n",
       "8                                                 0.0                    \n",
       "9                                                 0.0                    \n",
       "10                                                0.0                    \n",
       "11                                                0.0                    \n",
       "12                                                0.0                    \n",
       "13                                                0.0                    \n",
       "14                                                0.0                    \n",
       "15                                                0.0                    \n",
       "16                                                0.0                    \n",
       "17                                                0.0                    \n",
       "18                                                0.0                    \n",
       "19                                                0.0                    \n",
       "20                                                0.0                    \n",
       "21                                                0.0                    \n",
       "22                                                0.0                    \n",
       "23                                                0.0                    \n",
       "24                                                0.0                    \n",
       "\n",
       "   config/train_loop_config/cfg/train_data_loader/shuffle  \\\n",
       "0                                                True       \n",
       "1                                                True       \n",
       "2                                                True       \n",
       "3                                                True       \n",
       "4                                                True       \n",
       "5                                                True       \n",
       "6                                                True       \n",
       "7                                                True       \n",
       "8                                                True       \n",
       "9                                                True       \n",
       "10                                               True       \n",
       "11                                               True       \n",
       "12                                               True       \n",
       "13                                               True       \n",
       "14                                               True       \n",
       "15                                               True       \n",
       "16                                               True       \n",
       "17                                               True       \n",
       "18                                               True       \n",
       "19                                               True       \n",
       "20                                               True       \n",
       "21                                               True       \n",
       "22                                               True       \n",
       "23                                               True       \n",
       "24                                               True       \n",
       "\n",
       "   config/train_loop_config/cfg/train_params/checkpoint_every_n_steps  \\\n",
       "0                                               10000                   \n",
       "1                                               10000                   \n",
       "2                                               10000                   \n",
       "3                                               10000                   \n",
       "4                                               10000                   \n",
       "5                                               10000                   \n",
       "6                                               10000                   \n",
       "7                                               10000                   \n",
       "8                                               10000                   \n",
       "9                                               10000                   \n",
       "10                                              10000                   \n",
       "11                                              10000                   \n",
       "12                                              10000                   \n",
       "13                                              10000                   \n",
       "14                                              10000                   \n",
       "15                                              10000                   \n",
       "16                                              10000                   \n",
       "17                                              10000                   \n",
       "18                                              10000                   \n",
       "19                                              10000                   \n",
       "20                                              10000                   \n",
       "21                                              10000                   \n",
       "22                                              10000                   \n",
       "23                                              10000                   \n",
       "24                                              10000                   \n",
       "\n",
       "   config/train_loop_config/cfg/train_params/eval_every_n_steps  \\\n",
       "0                                               10000             \n",
       "1                                               10000             \n",
       "2                                               10000             \n",
       "3                                               10000             \n",
       "4                                               10000             \n",
       "5                                               10000             \n",
       "6                                               10000             \n",
       "7                                               10000             \n",
       "8                                               10000             \n",
       "9                                               10000             \n",
       "10                                              10000             \n",
       "11                                              10000             \n",
       "12                                              10000             \n",
       "13                                              10000             \n",
       "14                                              10000             \n",
       "15                                              10000             \n",
       "16                                              10000             \n",
       "17                                              10000             \n",
       "18                                              10000             \n",
       "19                                              10000             \n",
       "20                                              10000             \n",
       "21                                              10000             \n",
       "22                                              10000             \n",
       "23                                              10000             \n",
       "24                                              10000             \n",
       "\n",
       "    config/train_loop_config/cfg/train_params/max_num_steps  \\\n",
       "0                                                   5         \n",
       "1                                                   5         \n",
       "2                                                   5         \n",
       "3                                                   5         \n",
       "4                                                   5         \n",
       "5                                                   5         \n",
       "6                                                   5         \n",
       "7                                                   5         \n",
       "8                                                   5         \n",
       "9                                                   5         \n",
       "10                                                  5         \n",
       "11                                                  5         \n",
       "12                                                  5         \n",
       "13                                                  5         \n",
       "14                                                  5         \n",
       "15                                                  5         \n",
       "16                                                  5         \n",
       "17                                                  5         \n",
       "18                                                  5         \n",
       "19                                                  5         \n",
       "20                                                  5         \n",
       "21                                                  5         \n",
       "22                                                  5         \n",
       "23                                                  5         \n",
       "24                                                  5         \n",
       "\n",
       "    config/train_loop_config/cfg/val_data_loader/batch_size  \\\n",
       "0                                                  12         \n",
       "1                                                  12         \n",
       "2                                                  12         \n",
       "3                                                  12         \n",
       "4                                                  12         \n",
       "5                                                  12         \n",
       "6                                                  12         \n",
       "7                                                  12         \n",
       "8                                                  12         \n",
       "9                                                  12         \n",
       "10                                                 12         \n",
       "11                                                 12         \n",
       "12                                                 12         \n",
       "13                                                 12         \n",
       "14                                                 12         \n",
       "15                                                 12         \n",
       "16                                                 12         \n",
       "17                                                 12         \n",
       "18                                                 12         \n",
       "19                                                 12         \n",
       "20                                                 12         \n",
       "21                                                 12         \n",
       "22                                                 12         \n",
       "23                                                 12         \n",
       "24                                                 12         \n",
       "\n",
       "    config/train_loop_config/cfg/val_data_loader/key  \\\n",
       "0                                 scenes/sample.zarr   \n",
       "1                                 scenes/sample.zarr   \n",
       "2                                 scenes/sample.zarr   \n",
       "3                                 scenes/sample.zarr   \n",
       "4                                 scenes/sample.zarr   \n",
       "5                                 scenes/sample.zarr   \n",
       "6                                 scenes/sample.zarr   \n",
       "7                                 scenes/sample.zarr   \n",
       "8                                 scenes/sample.zarr   \n",
       "9                                 scenes/sample.zarr   \n",
       "10                                scenes/sample.zarr   \n",
       "11                                scenes/sample.zarr   \n",
       "12                                scenes/sample.zarr   \n",
       "13                                scenes/sample.zarr   \n",
       "14                                scenes/sample.zarr   \n",
       "15                                scenes/sample.zarr   \n",
       "16                                scenes/sample.zarr   \n",
       "17                                scenes/sample.zarr   \n",
       "18                                scenes/sample.zarr   \n",
       "19                                scenes/sample.zarr   \n",
       "20                                scenes/sample.zarr   \n",
       "21                                scenes/sample.zarr   \n",
       "22                                scenes/sample.zarr   \n",
       "23                                scenes/sample.zarr   \n",
       "24                                scenes/sample.zarr   \n",
       "\n",
       "   config/train_loop_config/cfg/val_data_loader/num_workers  \\\n",
       "0                                                  16         \n",
       "1                                                  16         \n",
       "2                                                  16         \n",
       "3                                                  16         \n",
       "4                                                  16         \n",
       "5                                                  16         \n",
       "6                                                  16         \n",
       "7                                                  16         \n",
       "8                                                  16         \n",
       "9                                                  16         \n",
       "10                                                 16         \n",
       "11                                                 16         \n",
       "12                                                 16         \n",
       "13                                                 16         \n",
       "14                                                 16         \n",
       "15                                                 16         \n",
       "16                                                 16         \n",
       "17                                                 16         \n",
       "18                                                 16         \n",
       "19                                                 16         \n",
       "20                                                 16         \n",
       "21                                                 16         \n",
       "22                                                 16         \n",
       "23                                                 16         \n",
       "24                                                 16         \n",
       "\n",
       "   config/train_loop_config/cfg/val_data_loader/shuffle  \\\n",
       "0                                               False     \n",
       "1                                               False     \n",
       "2                                               False     \n",
       "3                                               False     \n",
       "4                                               False     \n",
       "5                                               False     \n",
       "6                                               False     \n",
       "7                                               False     \n",
       "8                                               False     \n",
       "9                                               False     \n",
       "10                                              False     \n",
       "11                                              False     \n",
       "12                                              False     \n",
       "13                                              False     \n",
       "14                                              False     \n",
       "15                                              False     \n",
       "16                                              False     \n",
       "17                                              False     \n",
       "18                                              False     \n",
       "19                                              False     \n",
       "20                                              False     \n",
       "21                                              False     \n",
       "22                                              False     \n",
       "23                                              False     \n",
       "24                                              False     \n",
       "\n",
       "                                               logdir  \n",
       "0   /home/jupyter/ray_results/TorchTrainer_2022-09...  \n",
       "1   /home/jupyter/ray_results/TorchTrainer_2022-09...  \n",
       "2   /home/jupyter/ray_results/TorchTrainer_2022-09...  \n",
       "3   /home/jupyter/ray_results/TorchTrainer_2022-09...  \n",
       "4   /home/jupyter/ray_results/TorchTrainer_2022-09...  \n",
       "5   /home/jupyter/ray_results/TorchTrainer_2022-09...  \n",
       "6   /home/jupyter/ray_results/TorchTrainer_2022-09...  \n",
       "7   /home/jupyter/ray_results/TorchTrainer_2022-09...  \n",
       "8   /home/jupyter/ray_results/TorchTrainer_2022-09...  \n",
       "9   /home/jupyter/ray_results/TorchTrainer_2022-09...  \n",
       "10  /home/jupyter/ray_results/TorchTrainer_2022-09...  \n",
       "11  /home/jupyter/ray_results/TorchTrainer_2022-09...  \n",
       "12  /home/jupyter/ray_results/TorchTrainer_2022-09...  \n",
       "13  /home/jupyter/ray_results/TorchTrainer_2022-09...  \n",
       "14  /home/jupyter/ray_results/TorchTrainer_2022-09...  \n",
       "15  /home/jupyter/ray_results/TorchTrainer_2022-09...  \n",
       "16  /home/jupyter/ray_results/TorchTrainer_2022-09...  \n",
       "17  /home/jupyter/ray_results/TorchTrainer_2022-09...  \n",
       "18  /home/jupyter/ray_results/TorchTrainer_2022-09...  \n",
       "19  /home/jupyter/ray_results/TorchTrainer_2022-09...  \n",
       "20  /home/jupyter/ray_results/TorchTrainer_2022-09...  \n",
       "21  /home/jupyter/ray_results/TorchTrainer_2022-09...  \n",
       "22  /home/jupyter/ray_results/TorchTrainer_2022-09...  \n",
       "23  /home/jupyter/ray_results/TorchTrainer_2022-09...  \n",
       "24  /home/jupyter/ray_results/TorchTrainer_2022-09...  \n",
       "\n",
       "[25 rows x 58 columns]"
      ]
     },
     "execution_count": 38,
     "metadata": {},
     "output_type": "execute_result"
    }
   ],
   "source": [
    "analysis_df"
   ]
  },
  {
   "cell_type": "code",
   "execution_count": 39,
   "id": "b49462e7-cddf-4d7e-ae5b-4bcbe573157f",
   "metadata": {},
   "outputs": [],
   "source": [
    "# Run information\n",
    "wandb_entity = \"l5-demo\"\n",
    "project_name = \"l5-simulation\"\n",
    "run_name = \"train-simulation-model\"\n",
    "run_type = \"train\"\n",
    "run_description = \"\"\"\n",
    "Train simulation model\n",
    "\"\"\"\n",
    "tags = [\"train\", \"simulation\"]"
   ]
  },
  {
   "cell_type": "code",
   "execution_count": 40,
   "id": "e3ef72f3-7436-469c-b514-4692debdc7de",
   "metadata": {},
   "outputs": [
    {
     "data": {
      "text/html": [
       "Tracking run with wandb version 0.13.2"
      ],
      "text/plain": [
       "<IPython.core.display.HTML object>"
      ]
     },
     "metadata": {},
     "output_type": "display_data"
    },
    {
     "data": {
      "text/html": [
       "Run data is saved locally in <code>/home/jupyter/ray_results/TorchTrainer_2022-09-07_22-21-37/TorchTrainer_dd768114_25_batch_size=24.0000,format_version=4,future_num_frames=50,history_num_frames=5,model_architecture=resnet50_2022-09-07_22-39-13/wandb/run-20220907_224141-4jedosun</code>"
      ],
      "text/plain": [
       "<IPython.core.display.HTML object>"
      ]
     },
     "metadata": {},
     "output_type": "display_data"
    },
    {
     "data": {
      "text/html": [
       "Syncing run <strong><a href=\"https://wandb.ai/l5-demo/l5-simulation/runs/4jedosun\" target=\"_blank\">train-simulation-model</a></strong> to <a href=\"https://wandb.ai/l5-demo/l5-simulation\" target=\"_blank\">Weights & Biases</a> (<a href=\"https://wandb.me/run\" target=\"_blank\">docs</a>)<br/>"
      ],
      "text/plain": [
       "<IPython.core.display.HTML object>"
      ]
     },
     "metadata": {},
     "output_type": "display_data"
    }
   ],
   "source": [
    "#🪄🐝\n",
    "run = wandb.init(\n",
    "    entity=wandb_entity,\n",
    "    project=project_name,\n",
    "    job_type=run_type,\n",
    "    name=run_name,\n",
    "    notes=run_description,\n",
    "    tags=tags,\n",
    "    config=cfg\n",
    ")"
   ]
  },
  {
   "cell_type": "code",
   "execution_count": 41,
   "id": "617fc40d-4c83-404d-b62b-179db3f8d2bc",
   "metadata": {},
   "outputs": [],
   "source": [
    "#BUG: to force a connection on the lineage graph\n",
    "#🪄🐝\n",
    "artifact = run.use_artifact(f\"{artifact_entity}/{artifact_project}/{artifact_name}:{artifact_alias}\", type=artifact_type)"
   ]
  },
  {
   "cell_type": "code",
   "execution_count": 42,
   "id": "936d60ab-88cc-4bb6-99c3-19c620719513",
   "metadata": {},
   "outputs": [],
   "source": [
    "#🪄🐝\n",
    "analysis_table = wandb.Table(dataframe=analysis_df)"
   ]
  },
  {
   "cell_type": "code",
   "execution_count": 43,
   "id": "4957ce4b-f62a-49b0-bd8e-fa785f0fdda0",
   "metadata": {},
   "outputs": [
    {
     "data": {
      "text/html": [
       "Waiting for W&B process to finish... <strong style=\"color:green\">(success).</strong>"
      ],
      "text/plain": [
       "<IPython.core.display.HTML object>"
      ]
     },
     "metadata": {},
     "output_type": "display_data"
    },
    {
     "data": {
      "application/vnd.jupyter.widget-view+json": {
       "model_id": "",
       "version_major": 2,
       "version_minor": 0
      },
      "text/plain": [
       "VBox(children=(Label(value='0.030 MB of 0.053 MB uploaded (0.000 MB deduped)\\r'), FloatProgress(value=0.574617…"
      ]
     },
     "metadata": {},
     "output_type": "display_data"
    },
    {
     "data": {
      "text/html": [
       "Synced <strong style=\"color:#cdcd00\">train-simulation-model</strong>: <a href=\"https://wandb.ai/l5-demo/l5-simulation/runs/4jedosun\" target=\"_blank\">https://wandb.ai/l5-demo/l5-simulation/runs/4jedosun</a><br/>Synced 6 W&B file(s), 1 media file(s), 1 artifact file(s) and 1 other file(s)"
      ],
      "text/plain": [
       "<IPython.core.display.HTML object>"
      ]
     },
     "metadata": {},
     "output_type": "display_data"
    },
    {
     "data": {
      "text/html": [
       "Find logs at: <code>./wandb/run-20220907_224141-4jedosun/logs</code>"
      ],
      "text/plain": [
       "<IPython.core.display.HTML object>"
      ]
     },
     "metadata": {},
     "output_type": "display_data"
    }
   ],
   "source": [
    "#BUG: run gets lost after tune job due to change in cwd. Forced to make 2 runs\n",
    "if len(analysis_table.data) == 0:\n",
    "    raise ValueError(\"bad table for some reason\")\n",
    "else:\n",
    "    run.log({\"analysis_table\": analysis_table})\n",
    "    run.finish()"
   ]
  },
  {
   "cell_type": "code",
   "execution_count": null,
   "id": "fb166aad-12cb-4d9a-b68a-00837b031ddf",
   "metadata": {},
   "outputs": [],
   "source": []
  }
 ],
 "metadata": {
  "environment": {
   "kernel": "python3",
   "name": "common-cu110.m95",
   "type": "gcloud",
   "uri": "gcr.io/deeplearning-platform-release/base-cu110:m95"
  },
  "kernelspec": {
   "display_name": "Python 3",
   "language": "python",
   "name": "python3"
  },
  "language_info": {
   "codemirror_mode": {
    "name": "ipython",
    "version": 3
   },
   "file_extension": ".py",
   "mimetype": "text/x-python",
   "name": "python",
   "nbconvert_exporter": "python",
   "pygments_lexer": "ipython3",
   "version": "3.7.12"
  }
 },
 "nbformat": 4,
 "nbformat_minor": 5
}
