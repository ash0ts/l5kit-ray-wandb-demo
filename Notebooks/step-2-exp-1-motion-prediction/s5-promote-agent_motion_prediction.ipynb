{
 "cells": [
  {
   "cell_type": "markdown",
   "id": "fce2c483-fb28-4761-9d39-78d331fc4ddf",
   "metadata": {},
   "source": [
    "# Setup"
   ]
  },
  {
   "cell_type": "code",
   "execution_count": null,
   "id": "8a15ecdb-1eab-4f5f-b9ae-bba87dcef51a",
   "metadata": {},
   "outputs": [],
   "source": [
    "from pathlib import Path\n",
    "import os"
   ]
  },
  {
   "cell_type": "code",
   "execution_count": null,
   "id": "9e381b1b-4f6c-41e2-81aa-4ac708900d90",
   "metadata": {},
   "outputs": [],
   "source": [
    "#NOTE: DONT USE RELATIVE PATHS FOR THE MODELS PROVIDED BY L5\n",
    "experiments_directory = Path(Path(os.path.abspath('')).parent.parent, \"Experiments\")\n",
    "experiments_directory.mkdir(parents=True, exist_ok=True)\n",
    "\n",
    "data_directory = Path(experiments_directory, \"data\")\n",
    "data_directory.mkdir(parents=True, exist_ok=True)\n",
    "\n",
    "prediction_directory = Path(experiments_directory, \"simulation\")\n",
    "prediction_directory.mkdir(parents=True, exist_ok=True)\n",
    "\n",
    "prediction_promotion_directory = Path(prediction_directory, \"promotion\")\n",
    "prediction_promotion_directory.mkdir(parents=True, exist_ok=True)\n",
    "\n",
    "save_directory = Path(prediction_promotion_directory, \"saved_outputs\")\n",
    "save_directory.mkdir(parents=True, exist_ok=True)"
   ]
  },
  {
   "cell_type": "code",
   "execution_count": null,
   "id": "f4621404-95c0-417d-8847-c1de6c76c6e6",
   "metadata": {},
   "outputs": [],
   "source": [
    "import os\n",
    "os.chdir(prediction_promotion_directory)"
   ]
  },
  {
   "cell_type": "code",
   "execution_count": null,
   "id": "c82b9d59-29f6-4e52-9601-b071e9b05bc8",
   "metadata": {},
   "outputs": [],
   "source": [
    "%%writefile requirements.txt\n",
    "wandb"
   ]
  },
  {
   "cell_type": "markdown",
   "id": "1438cb2a-8349-474c-98df-cce0100b3449",
   "metadata": {},
   "source": [
    "# Promote Model to Registry"
   ]
  },
  {
   "cell_type": "code",
   "execution_count": null,
   "id": "6d882ed2-40a0-44aa-a06c-8a0cc10f08fc",
   "metadata": {},
   "outputs": [],
   "source": [
    "import wandb\n",
    "wandb.login()"
   ]
  },
  {
   "cell_type": "code",
   "execution_count": null,
   "id": "2494e717-2efa-4843-89d3-9dc1c399e0bd",
   "metadata": {},
   "outputs": [],
   "source": [
    "# Run information\n",
    "# wandb_entity = \"l5-demo\"\n",
    "project_name = \"l5-prediction\""
   ]
  },
  {
   "cell_type": "code",
   "execution_count": null,
   "id": "5313340a-66e4-4237-9969-5c3ec9570026",
   "metadata": {},
   "outputs": [],
   "source": [
    "#🪄🐝\n",
    "api = wandb.Api()"
   ]
  },
  {
   "cell_type": "code",
   "execution_count": null,
   "id": "1f0eb8a5-fc21-4eac-b4ed-325f506f8a07",
   "metadata": {},
   "outputs": [],
   "source": [
    "eval_metric = \"avg_loss\" #TODO: Figure out better metric for this at this step as eval needs planning model?"
   ]
  },
  {
   "cell_type": "code",
   "execution_count": null,
   "id": "13fa4a0a-3a04-4d4c-a8a7-c253514669d1",
   "metadata": {},
   "outputs": [],
   "source": [
    "#🪄🐝\n",
    "# model_runs = api.runs(f'{wandb_entity}/{project_name}-trials', order=f\"summary_metrics.{eval_metric}\", per_page=1)\n",
    "model_runs = api.runs(f'{project_name}-trials', order=f\"summary_metrics.{eval_metric}\", per_page=1)"
   ]
  },
  {
   "cell_type": "code",
   "execution_count": null,
   "id": "6cb3545d-e436-4121-84a4-d631d0a3bc1d",
   "metadata": {},
   "outputs": [],
   "source": [
    "top_model_run = model_runs[0]\n",
    "top_model_art = None"
   ]
  },
  {
   "cell_type": "code",
   "execution_count": null,
   "id": "44cba7d2-5f73-4d2b-891a-a86e8f36d230",
   "metadata": {},
   "outputs": [],
   "source": [
    "for art in top_model_run.logged_artifacts():\n",
    "    if (\"latest\" in art.aliases) and (art.type == \"model\"):\n",
    "        top_model_art = art"
   ]
  },
  {
   "cell_type": "code",
   "execution_count": null,
   "id": "798d660d-0a99-4004-a7d2-898e186145cf",
   "metadata": {},
   "outputs": [],
   "source": [
    "collection_name = \"prediction-model\""
   ]
  },
  {
   "cell_type": "code",
   "execution_count": null,
   "id": "ed59fe8a-33f7-4b1c-99bf-74769d220a58",
   "metadata": {},
   "outputs": [],
   "source": [
    "#🪄🐝\n",
    "# top_model_art.link(f\"{wandb_entity}/{project_name}/{collection_name}\")\n",
    "top_model_art.link(f\"{project_name}/{collection_name}\")"
   ]
  }
 ],
 "metadata": {
  "environment": {
   "kernel": "python3",
   "name": "common-cu110.m103",
   "type": "gcloud",
   "uri": "gcr.io/deeplearning-platform-release/base-cu110:m103"
  },
  "kernelspec": {
   "display_name": "Python 3",
   "language": "python",
   "name": "python3"
  },
  "language_info": {
   "codemirror_mode": {
    "name": "ipython",
    "version": 3
   },
   "file_extension": ".py",
   "mimetype": "text/x-python",
   "name": "python",
   "nbconvert_exporter": "python",
   "pygments_lexer": "ipython3",
   "version": "3.7.12"
  }
 },
 "nbformat": 4,
 "nbformat_minor": 5
}
