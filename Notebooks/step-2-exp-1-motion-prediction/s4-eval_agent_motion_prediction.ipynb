{
 "cells": [
  {
   "cell_type": "markdown",
   "id": "78f8576c-7a2a-48da-95e5-cdfdb2fd509b",
   "metadata": {
    "tags": []
   },
   "source": [
    "## Setup"
   ]
  },
  {
   "cell_type": "code",
   "execution_count": null,
   "id": "26946d7b-0af8-4881-b9e6-ce321dde61d2",
   "metadata": {},
   "outputs": [],
   "source": [
    "from pathlib import Path\n",
    "import os"
   ]
  },
  {
   "cell_type": "code",
   "execution_count": null,
   "id": "60984eca-8928-491a-a7f0-f64ccd5dfae8",
   "metadata": {},
   "outputs": [],
   "source": [
    "#NOTE: DONT USE RELATIVE PATHS FOR THE MODELS PROVIDED BY L5\n",
    "experiments_directory = Path(Path(os.path.abspath('')).parent.parent, \"Experiments\")\n",
    "experiments_directory.mkdir(parents=True, exist_ok=True)\n",
    "\n",
    "data_directory = Path(experiments_directory, \"data\")\n",
    "data_directory.mkdir(parents=True, exist_ok=True)\n",
    "\n",
    "prediction_directory = Path(experiments_directory, \"prediction\")\n",
    "prediction_directory.mkdir(parents=True, exist_ok=True)\n",
    "\n",
    "prediction_evaluation_directory = Path(prediction_directory, \"evaluation\")\n",
    "prediction_evaluation_directory.mkdir(parents=True, exist_ok=True)\n",
    "\n",
    "save_directory = Path(prediction_evaluation_directory, \"saved_outputs\")\n",
    "save_directory.mkdir(parents=True, exist_ok=True)"
   ]
  },
  {
   "cell_type": "code",
   "execution_count": null,
   "id": "8e78b3c4-07a5-40d7-b855-26dddf9b9f0c",
   "metadata": {},
   "outputs": [],
   "source": [
    "import os\n",
    "os.chdir(prediction_evaluation_directory)"
   ]
  },
  {
   "cell_type": "code",
   "execution_count": null,
   "id": "f8976762-3564-4919-a004-d345359db169",
   "metadata": {},
   "outputs": [],
   "source": [
    "%%writefile requirements.txt\n",
    "l5kit\n",
    "pyyaml\n",
    "wandb\n",
    "ray==2.0.0rc1\n",
    "\"ray[air]\"\n",
    "h5py"
   ]
  },
  {
   "cell_type": "code",
   "execution_count": null,
   "id": "b4e40dce-0b6b-4527-aed6-a389ed7b09fd",
   "metadata": {},
   "outputs": [],
   "source": [
    "from typing import Dict\n",
    "\n",
    "from tempfile import gettempdir\n",
    "import matplotlib.pyplot as plt\n",
    "import numpy as np\n",
    "import torch\n",
    "from torch import nn, optim\n",
    "from torch.utils.data import DataLoader\n",
    "from torchvision.models.resnet import resnet50\n",
    "from tqdm import tqdm\n",
    "\n",
    "from l5kit.configs import load_config_data\n",
    "from l5kit.data import LocalDataManager, ChunkedDataset\n",
    "from l5kit.dataset import AgentDataset, EgoDataset\n",
    "from l5kit.rasterization import build_rasterizer\n",
    "from l5kit.evaluation import write_pred_csv, compute_metrics_csv, read_gt_csv, create_chopped_dataset\n",
    "from l5kit.evaluation.chop_dataset import MIN_FUTURE_STEPS\n",
    "from l5kit.evaluation.metrics import neg_multi_log_likelihood, time_displace, rmse, prob_true_mode, average_displacement_error_oracle, average_displacement_error_mean, final_displacement_error_oracle, final_displacement_error_mean, detect_collision, distance_to_reference_trajectory\n",
    "from l5kit.geometry import transform_points\n",
    "from l5kit.visualization import PREDICTED_POINTS_COLOR, TARGET_POINTS_COLOR, draw_trajectory\n",
    "from prettytable import PrettyTable\n",
    "from pathlib import Path\n",
    "\n",
    "import os"
   ]
  },
  {
   "cell_type": "markdown",
   "id": "8cb2f96b-d615-4b06-bad4-38ecb694ddfb",
   "metadata": {},
   "source": [
    "# Pull data"
   ]
  },
  {
   "cell_type": "code",
   "execution_count": null,
   "id": "6ea836c4-1cd2-4677-9cf1-c68d4825ec78",
   "metadata": {},
   "outputs": [],
   "source": [
    "import wandb\n",
    "wandb.login()"
   ]
  },
  {
   "cell_type": "code",
   "execution_count": null,
   "id": "07edc0a9-a02a-475b-a699-08e41a100eff",
   "metadata": {},
   "outputs": [],
   "source": [
    "# Run information\n",
    "# wandb_entity = \"l5-demo\"\n",
    "project_name = \"l5-prediction\"\n",
    "run_name = \"evaluate-latest-models\"\n",
    "run_type = \"evaluate\"\n",
    "run_description = \"\"\"\n",
    "Evaluate a prediction Av model and report results\n",
    "\"\"\"\n",
    "tags = [\"evaluate\", \"prediction\"]"
   ]
  },
  {
   "cell_type": "code",
   "execution_count": null,
   "id": "1d9dddc4-939f-49ce-8c9b-f708c3cc7d78",
   "metadata": {},
   "outputs": [],
   "source": [
    " #🪄🐝\n",
    "run = wandb.init(\n",
    "    # entity=wandb_entity,\n",
    "    project=project_name,\n",
    "    job_type=run_type,\n",
    "    name=run_name,\n",
    "    notes=run_description,\n",
    "    tags=tags\n",
    ")"
   ]
  },
  {
   "cell_type": "code",
   "execution_count": null,
   "id": "a29a2e4f-e821-43cc-94a0-5ee51cbcba29",
   "metadata": {},
   "outputs": [],
   "source": [
    "# artifact_entity = \"l5-demo\"\n",
    "artifact_project = \"l5-common\"\n",
    "artifact_name = \"l5-data\"\n",
    "artifact_alias = \"latest\"\n",
    "artifact_type = \"dataset\""
   ]
  },
  {
   "cell_type": "code",
   "execution_count": null,
   "id": "caf5b64c-b3a0-4ef0-8f92-f0675319cc71",
   "metadata": {},
   "outputs": [],
   "source": [
    " #🪄🐝\n",
    "# artifact = run.use_artifact(f\"{artifact_entity}/{artifact_project}/{artifact_name}:{artifact_alias}\", type=artifact_type)\n",
    "artifact = run.use_artifact(f\"{artifact_project}/{artifact_name}:{artifact_alias}\", type=artifact_type)"
   ]
  },
  {
   "cell_type": "code",
   "execution_count": null,
   "id": "e1b343c2-8d4b-459b-895d-451eac6a9744",
   "metadata": {},
   "outputs": [],
   "source": [
    "_ = artifact.download(data_directory)"
   ]
  },
  {
   "cell_type": "code",
   "execution_count": null,
   "id": "cd206d44-416c-4db3-97ee-2144f636a0a5",
   "metadata": {},
   "outputs": [],
   "source": [
    "cfg = load_config_data(Path(data_directory, \"configurations\", \"agent_motion_config.yaml\"))\n",
    "l5_data_location = Path(data_directory, \"dataset\")"
   ]
  },
  {
   "cell_type": "code",
   "execution_count": null,
   "id": "942bfd64-3ff6-4a2b-8574-c70c1cf0cc19",
   "metadata": {},
   "outputs": [],
   "source": [
    "os.environ[\"L5KIT_DATA_FOLDER\"] = str(l5_data_location)"
   ]
  },
  {
   "cell_type": "code",
   "execution_count": null,
   "id": "0ade7f0f-e055-4221-b90e-384a6809f2f6",
   "metadata": {},
   "outputs": [],
   "source": [
    "dm = LocalDataManager()"
   ]
  },
  {
   "cell_type": "markdown",
   "id": "1091ca97-41da-4126-8aa0-6d5006bf5417",
   "metadata": {
    "id": "maau9CVBJCbi"
   },
   "source": [
    "# Evaluation\n",
    "\n",
    "Evaluation follows a slightly different protocol than training. When working with time series, we must be absolutely sure to avoid leaking the future in the data.\n",
    "\n",
    "If we followed the same protocol of training, one could just read ahead in the `.zarr` and forge a perfect solution at run-time, even for a private test set.\n",
    "\n",
    "As such, **the private test set for the competition has been \"chopped\" using the `chop_dataset` function**."
   ]
  },
  {
   "cell_type": "code",
   "execution_count": null,
   "id": "93e0fdd5-c898-4d72-8f99-176d69fd919e",
   "metadata": {
    "id": "fF8BxQLQJCbi"
   },
   "outputs": [],
   "source": [
    "# ===== GENERATE AND LOAD CHOPPED DATASET\n",
    "num_frames_to_chop = 100\n",
    "eval_cfg = cfg[\"val_data_loader\"]\n",
    "eval_base_path = create_chopped_dataset(dm.require(eval_cfg[\"key\"]), cfg[\"raster_params\"][\"filter_agents_threshold\"], \n",
    "                              num_frames_to_chop, cfg[\"model_params\"][\"future_num_frames\"], MIN_FUTURE_STEPS)"
   ]
  },
  {
   "cell_type": "markdown",
   "id": "21dd27df-0c6c-49b8-98bb-8e8bfba9176d",
   "metadata": {
    "id": "07W1O8eZJCbi"
   },
   "source": [
    "The result is that **each scene has been reduced to only 100 frames**, and **only valid agents in the 100th frame will be used to compute the metrics**. Because following frames in the scene have been chopped off, we can't just look ahead to get the future of those agents.\n",
    "\n",
    "In this example, we simulate this pipeline by running `chop_dataset` on the validation set. The function stores:\n",
    "- a new chopped `.zarr` dataset, in which each scene has only the first 100 frames;\n",
    "- a numpy mask array where only valid agents in the 100th frame are True;\n",
    "- a ground-truth file with the future coordinates of those agents;\n",
    "\n",
    "Please note how the total number of frames is now equal to the number of scenes multipled by `num_frames_to_chop`. \n",
    "\n",
    "The remaining frames in the scene have been sucessfully chopped off from the data"
   ]
  },
  {
   "cell_type": "code",
   "execution_count": null,
   "id": "f984be7c-34c0-424a-b828-12ce08f46ded",
   "metadata": {
    "id": "cU1qt5GVJCbj"
   },
   "outputs": [],
   "source": [
    "eval_zarr_path = str(Path(eval_base_path) / Path(dm.require(eval_cfg[\"key\"])).name)\n",
    "eval_mask_path = str(Path(eval_base_path) / \"mask.npz\")\n",
    "eval_gt_path = str(Path(eval_base_path) / \"gt.csv\")\n",
    "\n",
    "eval_zarr = ChunkedDataset(eval_zarr_path).open()\n",
    "eval_mask = np.load(eval_mask_path)[\"arr_0\"]\n",
    "# ===== INIT DATASET AND LOAD MASK"
   ]
  },
  {
   "cell_type": "markdown",
   "id": "da89f4fb-bb3b-4608-b286-d6c712b0485b",
   "metadata": {
    "id": "509YuZenJCbj"
   },
   "source": [
    "There is a small catch to be aware of when saving the model predictions. The output of the models are coordinates in `agent` space and we need to convert them into displacements in `world` space.\n",
    "\n",
    "To do so, we first convert them back into the `world` space and we then subtract the centroid coordinates."
   ]
  },
  {
   "cell_type": "markdown",
   "id": "cbe160fa-918e-4da0-9b45-0bf04b89443f",
   "metadata": {
    "id": "1cyqL6i1JCbj"
   },
   "source": [
    "### Save results\n",
    "After the model has predicted trajectories for our evaluation set, we can save them in a `csv` file.\n",
    "\n",
    "During the competition, only the `.zarr` and the mask will be provided for the private test set evaluation.\n",
    "Your solution is expected to generate a csv file which will be compared to the ground truth one on a separate server"
   ]
  },
  {
   "cell_type": "markdown",
   "id": "691ae693-5b0f-4fe9-92d0-01a571bf749e",
   "metadata": {
    "id": "YX-loQElJCbj"
   },
   "source": [
    "### Perform Evaluation\n",
    "Pleae note that our metric supports multi-modal predictions (i.e. multiple predictions for a single GT trajectory). In that case, you will need to provide a confidence for each prediction (confidences must all be between 0 and 1 and sum to 1).\n",
    "\n",
    "In this simple example we don't generate multiple trajectories, so we won't pass any confidences vector. Internally, the metric computation will assume a single trajectory with confidence equal to 1"
   ]
  },
  {
   "cell_type": "markdown",
   "id": "6f263a9d-4098-4cee-a3da-d4589c19e165",
   "metadata": {
    "id": "nEw-PI7tJCbk"
   },
   "source": [
    "### Visualise Results\n",
    "We can also visualise some results from the ego (AV) point of view for those frames of interest (the 100th of each scene).\n",
    "\n",
    "However, as we chopped off the future from the dataset **we must use the GT csv if we want to plot the future trajectories of the agents**\n"
   ]
  },
  {
   "cell_type": "markdown",
   "id": "379ae8ab-6522-47a2-b349-a397cc5b900c",
   "metadata": {},
   "source": [
    "# Run Evaluation"
   ]
  },
  {
   "cell_type": "code",
   "execution_count": null,
   "id": "0346dff1-a428-4513-80b8-a3f46a9de566",
   "metadata": {},
   "outputs": [],
   "source": [
    "criterion = nn.MSELoss(reduction=\"none\")"
   ]
  },
  {
   "cell_type": "code",
   "execution_count": null,
   "id": "ae91b622-4a8a-40f5-9771-48441766042a",
   "metadata": {},
   "outputs": [],
   "source": [
    "def forward(data, model, device, criterion):\n",
    "    inputs = data[\"image\"].to(device)\n",
    "    target_availabilities = data[\"target_availabilities\"].unsqueeze(-1).to(device)\n",
    "    targets = data[\"target_positions\"].to(device)\n",
    "    # Forward pass\n",
    "    outputs = model(inputs).reshape(targets.shape)\n",
    "    loss = criterion(outputs, targets)\n",
    "    # not all the output steps are valid, but we can filter them out from the loss using availabilities\n",
    "    loss = loss * target_availabilities\n",
    "    loss = loss.mean()\n",
    "    return loss, outputs"
   ]
  },
  {
   "cell_type": "code",
   "execution_count": null,
   "id": "c974eefa-542e-4bdd-8d0d-9e17194f2693",
   "metadata": {},
   "outputs": [],
   "source": [
    "#TODO: Remove reliance on Pandas\n",
    "import pandas as pd"
   ]
  },
  {
   "cell_type": "code",
   "execution_count": null,
   "id": "88875128-0ba0-4b8c-9d5f-c2f969c02366",
   "metadata": {},
   "outputs": [],
   "source": [
    "def evaluate_model(model, criterion, eval_dataloader, eval_gt_path, eval_dataset, eval_zarr, rasterizer, dir_to_save=\".\"):\n",
    "    #TODO: see if there is a better ray way\n",
    "    device = torch.device(\"cuda:0\" if torch.cuda.is_available() else \"cpu\")\n",
    "    \n",
    "    # ==== EVAL LOOP\n",
    "    model = model.to(device)\n",
    "    model.eval()\n",
    "    torch.set_grad_enabled(False)\n",
    "    \n",
    "    \n",
    "\n",
    "    # store information for evaluation\n",
    "    future_coords_offsets_pd = []\n",
    "    timestamps = []\n",
    "    agent_ids = []\n",
    "\n",
    "    print(\"Running metric evaluation...\")\n",
    "    progress_bar = tqdm(eval_dataloader)\n",
    "    for data in progress_bar:\n",
    "        _, ouputs = forward(data, model, device, criterion)\n",
    "\n",
    "        # convert agent coordinates into world offsets\n",
    "        agents_coords = ouputs.cpu().numpy()\n",
    "        world_from_agents = data[\"world_from_agent\"].numpy()\n",
    "        centroids = data[\"centroid\"].numpy()\n",
    "        coords_offset = transform_points(agents_coords, world_from_agents) - centroids[:, None, :2]\n",
    "\n",
    "        future_coords_offsets_pd.append(np.stack(coords_offset))\n",
    "        timestamps.append(data[\"timestamp\"].numpy().copy())\n",
    "        agent_ids.append(data[\"track_id\"].numpy().copy())\n",
    "    \n",
    "    pred_path = Path(dir_to_save, \"eval_preds.csv\")\n",
    "    write_pred_csv(pred_path,\n",
    "       timestamps=np.concatenate(timestamps),\n",
    "       track_ids=np.concatenate(agent_ids),\n",
    "       coords=np.concatenate(future_coords_offsets_pd),\n",
    "    )\n",
    "    \n",
    "    pred_df = pd.read_csv(pred_path)\n",
    "    \n",
    "    metrics = compute_metrics_csv(eval_gt_path, pred_path, [neg_multi_log_likelihood, \n",
    "                                                        time_displace, \n",
    "                                                        rmse, \n",
    "                                                        prob_true_mode, \n",
    "                                                        average_displacement_error_oracle, \n",
    "                                                        average_displacement_error_mean,\n",
    "                                                        final_displacement_error_oracle,\n",
    "                                                        final_displacement_error_mean,\n",
    "                                                       ])\n",
    "\n",
    "    # build a dict to retrieve future trajectories from GT\n",
    "    print(\"Running scene frame prediction!\")\n",
    "    gt_rows = {}\n",
    "    for row in read_gt_csv(eval_gt_path):\n",
    "        gt_rows[row[\"track_id\"] + row[\"timestamp\"]] = row[\"coord\"]\n",
    "\n",
    "    eval_ego_dataset = EgoDataset(cfg, eval_dataset.dataset, rasterizer)\n",
    "\n",
    "    scene_frames = []\n",
    "    frame_prediction_details = {}\n",
    "    for frame_number in tqdm(range(99, len(eval_zarr.frames), 100)):  # start from last frame of scene_0 and increase by 100\n",
    "        agent_indices = eval_dataset.get_frame_indices(frame_number) \n",
    "        if not len(agent_indices):\n",
    "            continue\n",
    "\n",
    "        # get AV point-of-view frame\n",
    "        data_ego = eval_ego_dataset[frame_number]\n",
    "        im_ego = rasterizer.to_rgb(data_ego[\"image\"].transpose(1, 2, 0))\n",
    "        center = np.asarray(cfg[\"raster_params\"][\"ego_center\"]) * cfg[\"raster_params\"][\"raster_size\"]\n",
    "\n",
    "        predicted_positions = []\n",
    "        target_positions = []\n",
    "\n",
    "        for v_index in agent_indices:\n",
    "            data_agent = eval_dataset[v_index]\n",
    "\n",
    "            out_net = model(torch.from_numpy(data_agent[\"image\"]).unsqueeze(0).to(device))\n",
    "            out_pos = out_net[0].reshape(-1, 2).detach().cpu().numpy()\n",
    "            # store absolute world coordinates\n",
    "            predicted_positions.append(transform_points(out_pos, data_agent[\"world_from_agent\"]))\n",
    "            # retrieve target positions from the GT and store as absolute coordinates\n",
    "            track_id, timestamp = data_agent[\"track_id\"], data_agent[\"timestamp\"]\n",
    "            target_positions.append(gt_rows[str(track_id) + str(timestamp)] + data_agent[\"centroid\"][:2])\n",
    "\n",
    "\n",
    "        # convert coordinates to AV point-of-view so we can draw them\n",
    "        predicted_positions = transform_points(np.concatenate(predicted_positions), data_ego[\"raster_from_world\"])\n",
    "        target_positions = transform_points(np.concatenate(target_positions), data_ego[\"raster_from_world\"])\n",
    "\n",
    "        draw_trajectory(im_ego, predicted_positions, PREDICTED_POINTS_COLOR)\n",
    "        draw_trajectory(im_ego, target_positions, TARGET_POINTS_COLOR)\n",
    "        \n",
    "        frame_path = Path(dir_to_save, f\"eval_prediction_frame_{frame_number}.png\")\n",
    "\n",
    "        plt.imsave(frame_path, im_ego)\n",
    "    \n",
    "        scene_frames.append(PIL.Image.fromarray(im_ego))\n",
    "        frame_prediction_details[frame_number] = {\"image_path\" : frame_path}\n",
    "        \n",
    "        \n",
    "    print(\"Saving GIF!\")\n",
    "    gif_path = Path(dir_to_save, f\"prediction_animation.gif\")\n",
    "    frame_one = scene_frames[0]\n",
    "    frame_one.save(gif_path, format=\"GIF\", append_images=scene_frames,\n",
    "               save_all=True, duration=1000, loop=0)\n",
    "    \n",
    "    return metrics, frame_prediction_details, gif_path, pred_df\n"
   ]
  },
  {
   "cell_type": "markdown",
   "id": "e3d38de8-2ed0-42cc-bb43-415e553c52a3",
   "metadata": {},
   "source": [
    "We use the `wandb` Public API to easily grab all the runs from our training project (with any optional filters) and use them as candidate models for the evaluation flow."
   ]
  },
  {
   "cell_type": "code",
   "execution_count": null,
   "id": "b29c46f8-5696-4c62-b732-ce38a39d4c27",
   "metadata": {},
   "outputs": [],
   "source": [
    " #🪄🐝\n",
    "api = wandb.Api()\n",
    "\n",
    "#Example: Grab all run trials from a specific date range?\n",
    "# model_runs = api.runs(f'{wandb_entity}/{project_name}-trials', {\n",
    "model_runs = api.runs(f'{project_name}-trials', {\n",
    "    # \"$and\": [{\n",
    "    # 'created_at': {\n",
    "    #     \"$lt\": 'YYYY-MM-DDT##',\n",
    "    #     \"$gt\": 'YYYY-MM-DDT##'\n",
    "    #     }\n",
    "    # }]\n",
    "})\n",
    "run_model_map = {}\n",
    "for model_run in model_runs:\n",
    "    for model_art in model_run.logged_artifacts():\n",
    "        if \"latest\" in model_art.aliases:\n",
    "            run_model_map[model_run.name] = {\n",
    "                \"loss\": model_run.summary[\"loss\"],\n",
    "                \"avg_loss\": model_run.summary[\"avg_loss\"],\n",
    "                \"art\": model_art,\n",
    "                \"run_url\": model_run.url,\n",
    "                \"run_id\": model_run.id,\n",
    "                \"run_summary\": model_run.summary\n",
    "            }"
   ]
  },
  {
   "cell_type": "code",
   "execution_count": null,
   "id": "5b99443d-2566-4023-a940-bd63f58f2131",
   "metadata": {},
   "outputs": [],
   "source": [
    "from ray.air.checkpoint import Checkpoint\n",
    "import PIL\n",
    "import h5py"
   ]
  },
  {
   "cell_type": "markdown",
   "id": "5e666c25-ace1-4819-8a67-a8ebf8c1ce9c",
   "metadata": {},
   "source": [
    "Note: during our evaluation flow we are not creating a new run per each evaluation. Instead, to be able to keep the context of the training of the model with the evaluation, we simply update the summary metadata of the candidate model runs with the additional evaluation metrics, keeping things unified and streamlined"
   ]
  },
  {
   "cell_type": "code",
   "execution_count": null,
   "id": "dfd1e854-f401-4061-97a1-faabda5f72be",
   "metadata": {},
   "outputs": [],
   "source": [
    "eval_run_table_data = []\n",
    "for run_name, run_details in run_model_map.items():\n",
    "    print(run_name)\n",
    "    run_directory = Path(save_directory, run_name)\n",
    "    run_data = {}\n",
    "    run_data[\"run_name\"] = run_name\n",
    "    model_art = run_details[\"art\"]\n",
    "    #Hack to link evaluated model trials with eval data\n",
    "    #This run refers to the run keeping track of this evaluation action\n",
    "     #🪄🐝\n",
    "    run.use_artifact(model_art)\n",
    "    run_model_path = Path(run_directory, \"model\")\n",
    "    model_dir = model_art.download(run_model_path)\n",
    "    checkpoint = Checkpoint.from_directory(model_dir)\n",
    "    recovered_model = checkpoint.to_dict()\n",
    "    model = recovered_model['model']\n",
    "    \n",
    "    print(\"Running Semantic Evaluation!\")\n",
    "    cfg[\"raster_params\"][\"map_type\"] = \"py_semantic\"\n",
    "    dir_to_save = Path(run_directory, \"semantic\")\n",
    "    dir_to_save.mkdir(parents=True, exist_ok=True)\n",
    "    rasterizer = build_rasterizer(cfg, dm)\n",
    "    eval_dataset = AgentDataset(cfg, eval_zarr, rasterizer, agents_mask=eval_mask)\n",
    "    eval_dataloader = DataLoader(eval_dataset, shuffle=eval_cfg[\"shuffle\"], batch_size=eval_cfg[\"batch_size\"], \n",
    "                                 num_workers=eval_cfg[\"num_workers\"])\n",
    "    semantic_eval_metrics, semantic_eval_frame_prediction_details, semantic_gif, semantic_pred_df = evaluate_model(model, criterion, \n",
    "                                                             eval_dataloader, \n",
    "                                                             eval_gt_path, \n",
    "                                                             eval_dataset, \n",
    "                                                             eval_zarr, \n",
    "                                                             rasterizer, \n",
    "                                                             dir_to_save)\n",
    "    \n",
    "    print(\"Running Satellite Evaluation!\")\n",
    "    cfg[\"raster_params\"][\"map_type\"] = \"py_satellite\"\n",
    "    dir_to_save = Path(save_directory, run_name, \"satellite\")\n",
    "    dir_to_save.mkdir(parents=True, exist_ok=True)\n",
    "    rasterizer = build_rasterizer(cfg, dm)\n",
    "    eval_dataset = AgentDataset(cfg, eval_zarr, rasterizer, agents_mask=eval_mask)\n",
    "    eval_dataloader = DataLoader(eval_dataset, shuffle=eval_cfg[\"shuffle\"], batch_size=eval_cfg[\"batch_size\"], \n",
    "                                 num_workers=eval_cfg[\"num_workers\"])\n",
    "    satellite_eval_metrics, satellite_eval_frame_prediction_details, satellite_gif, satellite_pred_df = evaluate_model(model, criterion, \n",
    "                                                             eval_dataloader, \n",
    "                                                             eval_gt_path, \n",
    "                                                             eval_dataset, \n",
    "                                                             eval_zarr, \n",
    "                                                             rasterizer, \n",
    "                                                             dir_to_save)\n",
    "    \n",
    "    print(\"Constructing reporting objects...\")\n",
    "    print(satellite_gif)\n",
    "    semantic_predictions = []\n",
    "    for val in semantic_eval_frame_prediction_details.values():\n",
    "        semantic_predictions.append(wandb.Image(str(val[\"image_path\"])))  #🪄🐝\n",
    "        \n",
    "    satellite_predictions = []\n",
    "    for val in satellite_eval_frame_prediction_details.values():\n",
    "        satellite_predictions.append(wandb.Image(str(val[\"image_path\"])))  #🪄🐝\n",
    "\n",
    "    run_data.update(run_details)\n",
    "    \n",
    "    all_eval_metrics = {}\n",
    "    all_eval_metrics.update({f\"semantic_{key}\": val for key, val in semantic_eval_metrics.items()})\n",
    "    all_eval_metrics.update({f\"satellite_{key}\": val for key, val in satellite_eval_metrics.items()})\n",
    "    run_data.update(all_eval_metrics)\n",
    "    \n",
    "    run_data.update({f\"semantic_predictions\" : semantic_predictions, f\"satellite_predictions\" : satellite_predictions})\n",
    "    run_data.update({f\"semantic_animation\" : wandb.Video(str(semantic_gif)), f\"satellite_animation\" : wandb.Video(str(satellite_gif))})  #🪄🐝\n",
    "    del run_data['art']\n",
    "    del run_data[\"run_summary\"]\n",
    "    \n",
    "    run_details[\"run_summary\"].update(all_eval_metrics)\n",
    "    eval_run_table_data.append(run_data)\n",
    "    \n",
    "    run.log({f\"{run_name}_predicted_semantic_coords\": wandb.Table(dataframe=semantic_pred_df),  #🪄🐝\n",
    "            f\"{run_name}_predicted_satellite_coords\": wandb.Table(dataframe=satellite_pred_df)})  #🪄🐝\n",
    "    print(\"Done!\\n~~~~~~~~~~~~~~~~\")"
   ]
  },
  {
   "cell_type": "markdown",
   "id": "e18802d0-762e-47c7-8317-36b9c6b780ef",
   "metadata": {},
   "source": [
    "### Log Table containing all details of Eval run"
   ]
  },
  {
   "cell_type": "code",
   "execution_count": null,
   "id": "30bfe658-b5a9-46ad-aa48-b08c2538d4aa",
   "metadata": {},
   "outputs": [],
   "source": [
    " #🪄🐝\n",
    "eval_table = wandb.Table(columns = list(eval_run_table_data[0].keys()))"
   ]
  },
  {
   "cell_type": "code",
   "execution_count": null,
   "id": "d022dd33-9e64-432f-b9ee-602c03a59705",
   "metadata": {},
   "outputs": [],
   "source": [
    "for table_data in eval_run_table_data:\n",
    "    eval_table.add_data(*list(table_data.values()))"
   ]
  },
  {
   "cell_type": "code",
   "execution_count": null,
   "id": "3bacb17e-c249-4cac-b424-1e1f13424310",
   "metadata": {},
   "outputs": [],
   "source": [
    "len(eval_table.data)"
   ]
  },
  {
   "cell_type": "code",
   "execution_count": null,
   "id": "19507ed8-0a1d-4074-aee8-c66b63e1e2a5",
   "metadata": {},
   "outputs": [],
   "source": [
    "run.log({\"eval_table\": eval_table})"
   ]
  },
  {
   "cell_type": "code",
   "execution_count": null,
   "id": "94b89338-d673-4cda-9b99-d633e81b13d9",
   "metadata": {},
   "outputs": [],
   "source": [
    "run.finish()"
   ]
  }
 ],
 "metadata": {
  "environment": {
   "kernel": "python3",
   "name": "common-cu110.m103",
   "type": "gcloud",
   "uri": "gcr.io/deeplearning-platform-release/base-cu110:m103"
  },
  "kernelspec": {
   "display_name": "Python 3",
   "language": "python",
   "name": "python3"
  },
  "language_info": {
   "codemirror_mode": {
    "name": "ipython",
    "version": 3
   },
   "file_extension": ".py",
   "mimetype": "text/x-python",
   "name": "python",
   "nbconvert_exporter": "python",
   "pygments_lexer": "ipython3",
   "version": "3.7.12"
  }
 },
 "nbformat": 4,
 "nbformat_minor": 5
}
